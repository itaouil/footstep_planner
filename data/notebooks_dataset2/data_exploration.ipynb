{
 "cells": [
  {
   "cell_type": "code",
   "execution_count": 1,
   "id": "3690a54f",
   "metadata": {},
   "outputs": [],
   "source": [
    "#!/usr/bin/env python\n",
    "# -*- coding: utf-8 -*-"
   ]
  },
  {
   "cell_type": "code",
   "execution_count": 2,
   "id": "f8c2bf5b",
   "metadata": {},
   "outputs": [],
   "source": [
    "# Imports\n",
    "import sys\n",
    "import numpy as np\n",
    "from matplotlib import animation\n",
    "from IPython.display import HTML\n",
    "from matplotlib import pyplot as plt\n",
    "import mpl_toolkits.mplot3d.axes3d as p3"
   ]
  },
  {
   "cell_type": "code",
   "execution_count": 3,
   "id": "116ba14c",
   "metadata": {},
   "outputs": [],
   "source": [
    "np.random.seed(20)\n",
    "np.set_printoptions(threshold=sys.maxsize)"
   ]
  },
  {
   "cell_type": "code",
   "execution_count": 4,
   "id": "d9d08271",
   "metadata": {},
   "outputs": [],
   "source": [
    "%matplotlib inline"
   ]
  },
  {
   "cell_type": "markdown",
   "id": "99288b76",
   "metadata": {},
   "source": [
    "# Data"
   ]
  },
  {
   "cell_type": "code",
   "execution_count": 5,
   "id": "73202079",
   "metadata": {},
   "outputs": [
    {
     "name": "stdout",
     "output_type": "stream",
     "text": [
      "Motion 0.1 data has a length of  105172\n",
      "Motion 0.2 data has a length of  70114\n",
      "Motion 0.3 data has a length of  53550\n",
      "Motion 0.4 data has a length of  72082\n"
     ]
    }
   ],
   "source": [
    "# Read data\n",
    "motion_01 = np.genfromtxt('./motion_01.csv', delimiter=',')\n",
    "motion_02 = np.genfromtxt('./motion_02.csv', delimiter=',')\n",
    "motion_03 = np.genfromtxt('./motion_03.csv', delimiter=',')\n",
    "motion_04 = np.genfromtxt('./motion_04.csv', delimiter=',')\n",
    "\n",
    "print(\"Motion 0.1 data has a length of \", len(motion_01))\n",
    "print(\"Motion 0.2 data has a length of \", len(motion_02))\n",
    "print(\"Motion 0.3 data has a length of \", len(motion_03))\n",
    "print(\"Motion 0.4 data has a length of \", len(motion_04))"
   ]
  },
  {
   "cell_type": "code",
   "execution_count": 6,
   "id": "e8cbd28e",
   "metadata": {},
   "outputs": [
    {
     "name": "stdout",
     "output_type": "stream",
     "text": [
      "The full data matrix D has a shape of:  (300918, 67)\n"
     ]
    }
   ],
   "source": [
    "# Stack all the data together\n",
    "D = np.concatenate((motion_01, motion_02, motion_03, motion_04))\n",
    "print(\"The full data matrix D has a shape of: \", D.shape)"
   ]
  },
  {
   "cell_type": "markdown",
   "id": "f198d891",
   "metadata": {},
   "source": [
    "## Analyze Command Inputs"
   ]
  },
  {
   "cell_type": "markdown",
   "id": "7ba2abbf",
   "metadata": {},
   "source": [
    "The command input consists of the following inputs:\n",
    "\n",
    "- tick **(not considered)**\n",
    "- mode **(not considered)**\n",
    "- yaw\n",
    "- roll\n",
    "- pitch\n",
    "- sideSpeed\n",
    "- rotateSpeed\n",
    "- forwardSpeed\n",
    "- bodyHeight\n",
    "- footRaiseHeight"
   ]
  },
  {
   "cell_type": "code",
   "execution_count": 7,
   "id": "67742bbe",
   "metadata": {},
   "outputs": [
    {
     "name": "stdout",
     "output_type": "stream",
     "text": [
      "Yaw values:  {0.0}\n",
      "Roll values:  {0.0}\n",
      "Pitch values:  {0.0}\n"
     ]
    }
   ],
   "source": [
    "# Values in the dataset w.r.t to robot rotation\n",
    "print(\"Yaw values: \", set(D[:, 7]))\n",
    "print(\"Roll values: \", set(D[:, 9]))\n",
    "print(\"Pitch values: \", set(D[:, 8]))"
   ]
  },
  {
   "cell_type": "code",
   "execution_count": 8,
   "id": "fe131b45",
   "metadata": {},
   "outputs": [
    {
     "name": "stdout",
     "output_type": "stream",
     "text": [
      "sideSpeed values:  {0.0, 0.1, -0.214359, 0.214359, -0.1, 0.313843, -0.313843, -0.417725, 0.417725}\n",
      "rotateSpeed values:  {0.0, 0.1, 0.214359, -0.214359, -0.1, 0.313843, -0.313843, -0.417725, 0.417725}\n",
      "forwardSpeed values:  {0.0, 0.1, -0.214359, 0.214359, -0.1, 0.313843, -0.313843, 0.417725, -0.417725}\n"
     ]
    }
   ],
   "source": [
    "# Values in the dataset w.r.t to robot velocities\n",
    "print(\"sideSpeed values: \", set(D[:, 3]))\n",
    "print(\"rotateSpeed values: \", set(D[:, 4]))\n",
    "print(\"forwardSpeed values: \", set(D[:, 2]))"
   ]
  },
  {
   "cell_type": "code",
   "execution_count": 9,
   "id": "4902dc0b",
   "metadata": {},
   "outputs": [
    {
     "name": "stdout",
     "output_type": "stream",
     "text": [
      "bodyHeight values:  {0.0}\n",
      "footRaiseHeight values:  {0.0}\n"
     ]
    }
   ],
   "source": [
    "# Values in the dataset w.r.t to robot height\n",
    "print(\"bodyHeight values: \", set(D[:, 5]))\n",
    "print(\"footRaiseHeight values: \", set(D[:, 6]))"
   ]
  },
  {
   "cell_type": "markdown",
   "id": "a1674714",
   "metadata": {},
   "source": [
    "## Analyze Initial Cmd/State Mappings"
   ]
  },
  {
   "cell_type": "markdown",
   "id": "303a4f0d",
   "metadata": {},
   "source": [
    "The considered robot **HighState** attributes are:\n",
    "\n",
    "- commVersion **(not considered)**\n",
    "- robotID **(not considered)**\n",
    "- SN **(not considered)**\n",
    "- bandWidth **(not considered)**\n",
    "- mode **(not considered)**\n",
    "- imu\n",
    "- forwardSpeed\n",
    "- sideSpeed\n",
    "- rotateSpeed\n",
    "- bodyHeight\n",
    "- updownSpeed\n",
    "- forwardPosition\n",
    "- sidePosition\n",
    "- footPosition2Body\n",
    "- footSpeed2Body\n",
    "- footForce\n",
    "- footForceEst\n",
    "- wirelessRemote **(not considered)**\n",
    "- reserve **(not considered)**\n",
    "- crc **(not considered)**"
   ]
  },
  {
   "cell_type": "code",
   "execution_count": 10,
   "id": "140ed426",
   "metadata": {},
   "outputs": [
    {
     "data": {
      "text/plain": [
       "59837"
      ]
     },
     "execution_count": 10,
     "metadata": {},
     "output_type": "execute_result"
    }
   ],
   "source": [
    "# Entries where command and state are similar (D[:, 2:5] IS THE REFERENCE VALUE)\n",
    "matching_command_and_state_idx = np.where(np.all(np.isclose(D[:, 25:28], D[:, 2:5], rtol=0, atol=0.05), axis=1))[0]\n",
    "len(matching_command_and_state_idx)"
   ]
  },
  {
   "cell_type": "code",
   "execution_count": 11,
   "id": "2a24bb8c",
   "metadata": {},
   "outputs": [
    {
     "name": "stdout",
     "output_type": "stream",
     "text": [
      "[0. 0. 0.] [-0.00028487 -0.00046512  0.00576802]\n"
     ]
    }
   ],
   "source": [
    "for match in matching_command_and_state_idx:\n",
    "    print(D[match, 2:5], D[match, 25:28])\n",
    "    break"
   ]
  },
  {
   "cell_type": "markdown",
   "id": "8f4c7b19",
   "metadata": {},
   "source": [
    "### State velocities"
   ]
  },
  {
   "cell_type": "markdown",
   "id": "6615d78c",
   "metadata": {},
   "source": [
    "### Standing mode velocities"
   ]
  },
  {
   "cell_type": "code",
   "execution_count": 1,
   "id": "03209077",
   "metadata": {},
   "outputs": [],
   "source": [
    "#D[matching_command_and_state_idx, 2:5]"
   ]
  },
  {
   "cell_type": "code",
   "execution_count": 23,
   "id": "fd93abfe",
   "metadata": {},
   "outputs": [
    {
     "data": {
      "text/plain": [
       "12845"
      ]
     },
     "execution_count": 23,
     "metadata": {},
     "output_type": "execute_result"
    }
   ],
   "source": [
    "# All entries with zero velocity command\n",
    "no_motion_commands_idx = np.where(~np.any(D[:, 2:5], axis=1))[0]\n",
    "no_motion_commands_idx = np.intersect1d(matching_command_and_state_idx, no_motion_commands_idx)\n",
    "len(no_motion_commands_idx)"
   ]
  },
  {
   "cell_type": "code",
   "execution_count": 24,
   "id": "bbeaf57c",
   "metadata": {},
   "outputs": [
    {
     "data": {
      "text/plain": [
       "15791"
      ]
     },
     "execution_count": 24,
     "metadata": {},
     "output_type": "execute_result"
    }
   ],
   "source": [
    "# All entries with velocity command\n",
    "motion_commands_idx = np.where(np.any(D[:, 2:5], axis=1))[0]\n",
    "motion_commands_idx = np.intersect1d(matching_command_and_state_idx, motion_commands_idx)\n",
    "len(motion_commands_idx)"
   ]
  },
  {
   "cell_type": "code",
   "execution_count": 2,
   "id": "e0939a4f",
   "metadata": {},
   "outputs": [],
   "source": [
    "#D[no_motion_commands_idx, 2:5]"
   ]
  },
  {
   "cell_type": "code",
   "execution_count": 3,
   "id": "391ff293",
   "metadata": {},
   "outputs": [],
   "source": [
    "#D[motion_commands_idx, 2:5]"
   ]
  },
  {
   "cell_type": "code",
   "execution_count": 27,
   "id": "a7cb04da",
   "metadata": {},
   "outputs": [
    {
     "name": "stdout",
     "output_type": "stream",
     "text": [
      "Min forward speed:  -0.0496093\n",
      "Max forward speed:  0.0499541\n",
      "Avg forward speed:  0.001889097105845076\n"
     ]
    }
   ],
   "source": [
    "# Forward speed values for standing mode\n",
    "print(\"Min forward speed: \", min(D[no_motion_commands_idx, 25]))\n",
    "print(\"Max forward speed: \", max(D[no_motion_commands_idx, 25]))\n",
    "print(\"Avg forward speed: \", np.mean(D[no_motion_commands_idx, 25]))"
   ]
  },
  {
   "cell_type": "code",
   "execution_count": 28,
   "id": "8ec2a831",
   "metadata": {},
   "outputs": [
    {
     "name": "stdout",
     "output_type": "stream",
     "text": [
      "Min forward speed:  -0.148984\n",
      "Max forward speed:  0.149998\n",
      "Avg forward speed:  0.06692352462522828\n"
     ]
    }
   ],
   "source": [
    "# Forward speed values for walking mode\n",
    "print(\"Min forward speed: \", min(D[motion_commands_idx, 25]))\n",
    "print(\"Max forward speed: \", max(D[motion_commands_idx, 25]))\n",
    "print(\"Avg forward speed: \", np.mean(D[motion_commands_idx, 25]))"
   ]
  },
  {
   "cell_type": "code",
   "execution_count": 29,
   "id": "5aec0977",
   "metadata": {},
   "outputs": [
    {
     "name": "stdout",
     "output_type": "stream",
     "text": [
      "Min side speed:  -0.0490406\n",
      "Max side speed:  0.0499679\n",
      "Avg side speed:  0.002147428477626205\n"
     ]
    }
   ],
   "source": [
    "# Side speed values for standing mode\n",
    "print(\"Min side speed: \", min(D[no_motion_commands_idx, 26]))\n",
    "print(\"Max side speed: \", max(D[no_motion_commands_idx, 26]))\n",
    "print(\"Avg side speed: \", np.mean(D[no_motion_commands_idx, 26]))"
   ]
  },
  {
   "cell_type": "code",
   "execution_count": 30,
   "id": "c4030695",
   "metadata": {},
   "outputs": [
    {
     "name": "stdout",
     "output_type": "stream",
     "text": [
      "Min side speed:  -0.107743\n",
      "Max side speed:  0.124038\n",
      "Avg side speed:  0.005747958247531505\n"
     ]
    }
   ],
   "source": [
    "# Side speed values for walking mode\n",
    "print(\"Min side speed: \", min(D[motion_commands_idx, 26]))\n",
    "print(\"Max side speed: \", max(D[motion_commands_idx, 26]))\n",
    "print(\"Avg side speed: \", np.mean(D[motion_commands_idx, 26]))"
   ]
  },
  {
   "cell_type": "code",
   "execution_count": 31,
   "id": "0a94303e",
   "metadata": {},
   "outputs": [
    {
     "name": "stdout",
     "output_type": "stream",
     "text": [
      "Min rotate speed:  -0.0496622\n",
      "Max rotate speed:  0.0494074\n",
      "Avg rotate speed:  -0.001076552834799533\n"
     ]
    }
   ],
   "source": [
    "# Rotate speed values for standing mode\n",
    "print(\"Min rotate speed: \", min(D[no_motion_commands_idx, 27]))\n",
    "print(\"Max rotate speed: \", max(D[no_motion_commands_idx, 27]))\n",
    "print(\"Avg rotate speed: \", np.mean(D[no_motion_commands_idx, 27]))"
   ]
  },
  {
   "cell_type": "code",
   "execution_count": 32,
   "id": "09ca6208",
   "metadata": {},
   "outputs": [
    {
     "name": "stdout",
     "output_type": "stream",
     "text": [
      "Min rotate speed:  -0.149797\n",
      "Max rotate speed:  0.149542\n",
      "Avg rotate speed:  0.0018434844357545458\n"
     ]
    }
   ],
   "source": [
    "# Rotate speed values for walking mode\n",
    "print(\"Min rotate speed: \", min(D[motion_commands_idx, 27]))\n",
    "print(\"Max rotate speed: \", max(D[motion_commands_idx, 27]))\n",
    "print(\"Avg rotate speed: \", np.mean(D[motion_commands_idx, 27]))"
   ]
  },
  {
   "cell_type": "markdown",
   "id": "f3a0fd62",
   "metadata": {},
   "source": [
    "### Standing mode footForce"
   ]
  },
  {
   "cell_type": "code",
   "execution_count": 33,
   "id": "a9b69720",
   "metadata": {},
   "outputs": [
    {
     "name": "stdout",
     "output_type": "stream",
     "text": [
      "Min force (FR):  -5.0\n",
      "Max force (FR):  164.0\n"
     ]
    }
   ],
   "source": [
    "# Front right foot force (standing)\n",
    "print(\"Min force (FR): \", min(D[no_motion_commands_idx, 56]))\n",
    "print(\"Max force (FR): \", max(D[no_motion_commands_idx, 56]))"
   ]
  },
  {
   "cell_type": "code",
   "execution_count": 34,
   "id": "5c1dd20c",
   "metadata": {},
   "outputs": [
    {
     "name": "stdout",
     "output_type": "stream",
     "text": [
      "Min force (FR):  -8.0\n",
      "Max force (FR):  175.0\n"
     ]
    }
   ],
   "source": [
    "# Front right foot force (walking)\n",
    "print(\"Min force (FR): \", min(D[motion_commands_idx, 56]))\n",
    "print(\"Max force (FR): \", max(D[motion_commands_idx, 56]))"
   ]
  },
  {
   "cell_type": "code",
   "execution_count": 35,
   "id": "9c70d424",
   "metadata": {},
   "outputs": [
    {
     "name": "stdout",
     "output_type": "stream",
     "text": [
      "Min force (FL):  -5.0\n",
      "Max force (FL):  188.0\n"
     ]
    }
   ],
   "source": [
    "# Front left foot force (standing)\n",
    "print(\"Min force (FL): \", min(D[no_motion_commands_idx, 57]))\n",
    "print(\"Max force (FL): \", max(D[no_motion_commands_idx, 57]))"
   ]
  },
  {
   "cell_type": "code",
   "execution_count": 36,
   "id": "6513fb94",
   "metadata": {},
   "outputs": [
    {
     "name": "stdout",
     "output_type": "stream",
     "text": [
      "Min force (FL):  -5.0\n",
      "Max force (FL):  207.0\n"
     ]
    }
   ],
   "source": [
    "# Front left foot force (walking)\n",
    "print(\"Min force (FL): \", min(D[motion_commands_idx, 57]))\n",
    "print(\"Max force (FL): \", max(D[motion_commands_idx, 57]))"
   ]
  },
  {
   "cell_type": "code",
   "execution_count": 37,
   "id": "18f69cbc",
   "metadata": {},
   "outputs": [
    {
     "name": "stdout",
     "output_type": "stream",
     "text": [
      "Min force (RR):  -4.0\n",
      "Max force (RR):  129.0\n"
     ]
    }
   ],
   "source": [
    "# Right rear (standing)\n",
    "print(\"Min force (RR): \", min(D[no_motion_commands_idx, 58]))\n",
    "print(\"Max force (RR): \", max(D[no_motion_commands_idx, 58]))"
   ]
  },
  {
   "cell_type": "code",
   "execution_count": 38,
   "id": "d7a0572a",
   "metadata": {},
   "outputs": [
    {
     "name": "stdout",
     "output_type": "stream",
     "text": [
      "Min force (RR):  -6.0\n",
      "Max force (RR):  139.0\n"
     ]
    }
   ],
   "source": [
    "# Right rear (walking)\n",
    "print(\"Min force (RR): \", min(D[motion_commands_idx, 58]))\n",
    "print(\"Max force (RR): \", max(D[motion_commands_idx, 58]))"
   ]
  },
  {
   "cell_type": "code",
   "execution_count": 39,
   "id": "173c706e",
   "metadata": {},
   "outputs": [
    {
     "name": "stdout",
     "output_type": "stream",
     "text": [
      "Min force (LR):  -4.0\n",
      "Max force (LR):  149.0\n"
     ]
    }
   ],
   "source": [
    "# Left rear (standing)\n",
    "print(\"Min force (LR): \", min(D[no_motion_commands_idx, 59]))\n",
    "print(\"Max force (LR): \", max(D[no_motion_commands_idx, 59]))"
   ]
  },
  {
   "cell_type": "code",
   "execution_count": 40,
   "id": "a1d62e62",
   "metadata": {},
   "outputs": [
    {
     "name": "stdout",
     "output_type": "stream",
     "text": [
      "Min force (LR):  -6.0\n",
      "Max force (LR):  158.0\n"
     ]
    }
   ],
   "source": [
    "# Left rear (walking)\n",
    "print(\"Min force (LR): \", min(D[motion_commands_idx, 59]))\n",
    "print(\"Max force (LR): \", max(D[motion_commands_idx, 59]))"
   ]
  },
  {
   "cell_type": "markdown",
   "id": "48f25c4d",
   "metadata": {},
   "source": [
    "### Standing mode footSpeed2Body"
   ]
  },
  {
   "cell_type": "code",
   "execution_count": 41,
   "id": "33c199c7",
   "metadata": {},
   "outputs": [
    {
     "name": "stdout",
     "output_type": "stream",
     "text": [
      "Min_x foot velocity (FR):  -1.09183\n",
      "Max_x foot velocity (FR):  0.860323\n",
      "Min_y foot velocity (FR):  -0.308034\n",
      "Max_y foot velocity (FR):  0.480257\n",
      "Min_z foot velocity (FR):  -1.84169\n",
      "Max_z foot velocity (FR):  2.24745\n"
     ]
    }
   ],
   "source": [
    "# Front right foot velocity\n",
    "print(\"Min_x foot velocity (FR): \", min(D[no_motion_commands_idx, 44]))\n",
    "print(\"Max_x foot velocity (FR): \", max(D[no_motion_commands_idx, 44]))\n",
    "print(\"Min_y foot velocity (FR): \", min(D[no_motion_commands_idx, 45]))\n",
    "print(\"Max_y foot velocity (FR): \", max(D[no_motion_commands_idx, 45]))\n",
    "print(\"Min_z foot velocity (FR): \", min(D[no_motion_commands_idx, 46]))\n",
    "print(\"Max_z foot velocity (FR): \", max(D[no_motion_commands_idx, 46]))"
   ]
  },
  {
   "cell_type": "code",
   "execution_count": 42,
   "id": "b027d61b",
   "metadata": {},
   "outputs": [
    {
     "name": "stdout",
     "output_type": "stream",
     "text": [
      "Min_x foot velocity (FL):  -1.01301\n",
      "Max_x foot velocity (FL):  0.663398\n",
      "Min_y foot velocity (FL):  -0.551442\n",
      "Max_y foot velocity (FL):  0.321819\n",
      "Min_z foot velocity (FL):  -1.80567\n",
      "Max_z foot velocity (FL):  1.78729\n"
     ]
    }
   ],
   "source": [
    "# Front left foot velocity\n",
    "print(\"Min_x foot velocity (FL): \", min(D[no_motion_commands_idx, 47]))\n",
    "print(\"Max_x foot velocity (FL): \", max(D[no_motion_commands_idx, 47]))\n",
    "print(\"Min_y foot velocity (FL): \", min(D[no_motion_commands_idx, 48]))\n",
    "print(\"Max_y foot velocity (FL): \", max(D[no_motion_commands_idx, 48]))\n",
    "print(\"Min_z foot velocity (FL): \", min(D[no_motion_commands_idx, 49]))\n",
    "print(\"Max_z foot velocity (FL): \", max(D[no_motion_commands_idx, 49]))"
   ]
  },
  {
   "cell_type": "code",
   "execution_count": 43,
   "id": "0d41d2ad",
   "metadata": {},
   "outputs": [
    {
     "name": "stdout",
     "output_type": "stream",
     "text": [
      "Min_x foot velocity (RR):  -1.06615\n",
      "Max_x foot velocity (RR):  0.56607\n",
      "Min_y foot velocity (RR):  -0.445356\n",
      "Max_y foot velocity (RR):  0.452863\n",
      "Min_z foot velocity (RR):  -1.75605\n",
      "Max_z foot velocity (RR):  1.57756\n"
     ]
    }
   ],
   "source": [
    "# Rear right foot velocity\n",
    "print(\"Min_x foot velocity (RR): \", min(D[no_motion_commands_idx, 50]))\n",
    "print(\"Max_x foot velocity (RR): \", max(D[no_motion_commands_idx, 50]))\n",
    "print(\"Min_y foot velocity (RR): \", min(D[no_motion_commands_idx, 51]))\n",
    "print(\"Max_y foot velocity (RR): \", max(D[no_motion_commands_idx, 51]))\n",
    "print(\"Min_z foot velocity (RR): \", min(D[no_motion_commands_idx, 52]))\n",
    "print(\"Max_z foot velocity (RR): \", max(D[no_motion_commands_idx, 52]))"
   ]
  },
  {
   "cell_type": "code",
   "execution_count": 44,
   "id": "d37aebd9",
   "metadata": {},
   "outputs": [
    {
     "name": "stdout",
     "output_type": "stream",
     "text": [
      "Min_x foot velocity (LR):  -1.074\n",
      "Max_x foot velocity (LR):  0.910961\n",
      "Min_y foot velocity (LR):  -0.676132\n",
      "Max_y foot velocity (LR):  0.347886\n",
      "Min_z foot velocity (LR):  -1.89147\n",
      "Max_z foot velocity (LR):  2.18542\n"
     ]
    }
   ],
   "source": [
    "# Rear left foot velocity\n",
    "print(\"Min_x foot velocity (LR): \", min(D[no_motion_commands_idx, 53]))\n",
    "print(\"Max_x foot velocity (LR): \", max(D[no_motion_commands_idx, 53]))\n",
    "print(\"Min_y foot velocity (LR): \", min(D[no_motion_commands_idx, 54]))\n",
    "print(\"Max_y foot velocity (LR): \", max(D[no_motion_commands_idx, 54]))\n",
    "print(\"Min_z foot velocity (LR): \", min(D[no_motion_commands_idx, 55]))\n",
    "print(\"Max_z foot velocity (LR): \", max(D[no_motion_commands_idx, 55]))"
   ]
  },
  {
   "cell_type": "markdown",
   "id": "aac19c6f",
   "metadata": {},
   "source": [
    "### Standing mode footPosition2Body"
   ]
  },
  {
   "cell_type": "code",
   "execution_count": 45,
   "id": "05e5a145",
   "metadata": {},
   "outputs": [
    {
     "name": "stdout",
     "output_type": "stream",
     "text": [
      "Min_x foot position (FR):  0.221526\n",
      "Max_x foot position (FR):  0.269551\n",
      "Min_y foot position (FR):  -0.148527\n",
      "Max_y foot position (FR):  -0.118207\n",
      "Min_z foot position (FR):  -0.418963\n",
      "Max_z foot position (FR):  -0.280531\n"
     ]
    }
   ],
   "source": [
    "# Front right foot velocity\n",
    "print(\"Min_x foot position (FR): \", min(D[no_motion_commands_idx, 32]))\n",
    "print(\"Max_x foot position (FR): \", max(D[no_motion_commands_idx, 32]))\n",
    "print(\"Min_y foot position (FR): \", min(D[no_motion_commands_idx, 33]))\n",
    "print(\"Max_y foot position (FR): \", max(D[no_motion_commands_idx, 33]))\n",
    "print(\"Min_z foot position (FR): \", min(D[no_motion_commands_idx, 34]))\n",
    "print(\"Max_z foot position (FR): \", max(D[no_motion_commands_idx, 34]))"
   ]
  },
  {
   "cell_type": "code",
   "execution_count": 46,
   "id": "0beedaae",
   "metadata": {},
   "outputs": [
    {
     "name": "stdout",
     "output_type": "stream",
     "text": [
      "Min_x foot position (FL):  0.217673\n",
      "Max_x foot position (FL):  0.264232\n",
      "Min_y foot position (FL):  0.122577\n",
      "Max_y foot position (FL):  0.151418\n",
      "Min_z foot position (FL):  -0.413366\n",
      "Max_z foot position (FL):  -0.279251\n"
     ]
    }
   ],
   "source": [
    "# Front left foot velocity\n",
    "print(\"Min_x foot position (FL): \", min(D[no_motion_commands_idx, 35]))\n",
    "print(\"Max_x foot position (FL): \", max(D[no_motion_commands_idx, 35]))\n",
    "print(\"Min_y foot position (FL): \", min(D[no_motion_commands_idx, 36]))\n",
    "print(\"Max_y foot position (FL): \", max(D[no_motion_commands_idx, 36]))\n",
    "print(\"Min_z foot position (FL): \", min(D[no_motion_commands_idx, 37]))\n",
    "print(\"Max_z foot position (FL): \", max(D[no_motion_commands_idx, 37]))"
   ]
  },
  {
   "cell_type": "code",
   "execution_count": 47,
   "id": "a0444668",
   "metadata": {},
   "outputs": [
    {
     "name": "stdout",
     "output_type": "stream",
     "text": [
      "Min_x foot position (RR):  -0.257951\n",
      "Max_x foot position (RR):  -0.216334\n",
      "Min_y foot position (RR):  -0.148205\n",
      "Max_y foot position (RR):  -0.119507\n",
      "Min_z foot position (RR):  -0.421237\n",
      "Max_z foot position (RR):  -0.292146\n"
     ]
    }
   ],
   "source": [
    "# Rear right foot position\n",
    "print(\"Min_x foot position (RR): \", min(D[no_motion_commands_idx, 38]))\n",
    "print(\"Max_x foot position (RR): \", max(D[no_motion_commands_idx, 38]))\n",
    "print(\"Min_y foot position (RR): \", min(D[no_motion_commands_idx, 39]))\n",
    "print(\"Max_y foot position (RR): \", max(D[no_motion_commands_idx, 39]))\n",
    "print(\"Min_z foot position (RR): \", min(D[no_motion_commands_idx, 40]))\n",
    "print(\"Max_z foot position (RR): \", max(D[no_motion_commands_idx, 40]))"
   ]
  },
  {
   "cell_type": "code",
   "execution_count": 48,
   "id": "d08ae093",
   "metadata": {},
   "outputs": [
    {
     "name": "stdout",
     "output_type": "stream",
     "text": [
      "Min_x foot position (RL):  -0.255788\n",
      "Max_x foot position (RL):  -0.207412\n",
      "Min_y foot position (RL):  0.124558\n",
      "Max_y foot position (RL):  0.155336\n",
      "Min_z foot position (RL):  -0.423099\n",
      "Max_z foot position (RL):  -0.284516\n"
     ]
    }
   ],
   "source": [
    "# Rear left foot position\n",
    "print(\"Min_x foot position (RL): \", min(D[no_motion_commands_idx, 41]))\n",
    "print(\"Max_x foot position (RL): \", max(D[no_motion_commands_idx, 41]))\n",
    "print(\"Min_y foot position (RL): \", min(D[no_motion_commands_idx, 42]))\n",
    "print(\"Max_y foot position (RL): \", max(D[no_motion_commands_idx, 42]))\n",
    "print(\"Min_z foot position (RL): \", min(D[no_motion_commands_idx, 43]))\n",
    "print(\"Max_z foot position (RL): \", max(D[no_motion_commands_idx, 43]))"
   ]
  }
 ],
 "metadata": {
  "kernelspec": {
   "display_name": "Python 3",
   "language": "python",
   "name": "python3"
  },
  "language_info": {
   "codemirror_mode": {
    "name": "ipython",
    "version": 3
   },
   "file_extension": ".py",
   "mimetype": "text/x-python",
   "name": "python",
   "nbconvert_exporter": "python",
   "pygments_lexer": "ipython3",
   "version": "3.6.12"
  }
 },
 "nbformat": 4,
 "nbformat_minor": 5
}
