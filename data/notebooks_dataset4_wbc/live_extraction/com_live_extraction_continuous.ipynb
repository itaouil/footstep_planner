{
 "cells": [
  {
   "cell_type": "code",
   "execution_count": 1,
   "id": "730bafd1",
   "metadata": {},
   "outputs": [],
   "source": [
    "#!/usr/bin/env python3.6\n",
    "# -*- coding: utf-8 -*-"
   ]
  },
  {
   "cell_type": "code",
   "execution_count": 2,
   "id": "16b231ce",
   "metadata": {},
   "outputs": [],
   "source": [
    "# Imports\n",
    "import sys\n",
    "import math\n",
    "import numpy as np\n",
    "from matplotlib import animation\n",
    "from IPython.display import HTML\n",
    "from matplotlib import pyplot as plt\n",
    "plt.rcParams['animation.ffmpeg_path'] = '/usr/bin/ffmpeg'\n",
    "import mpl_toolkits.mplot3d.axes3d as p3"
   ]
  },
  {
   "cell_type": "code",
   "execution_count": 3,
   "id": "0dee2920",
   "metadata": {},
   "outputs": [],
   "source": [
    "np.random.seed(20)\n",
    "np.set_printoptions(threshold=sys.maxsize)"
   ]
  },
  {
   "cell_type": "code",
   "execution_count": 4,
   "id": "98b86646",
   "metadata": {},
   "outputs": [],
   "source": [
    "%matplotlib inline"
   ]
  },
  {
   "cell_type": "markdown",
   "id": "cf9445cc",
   "metadata": {},
   "source": [
    "# Data"
   ]
  },
  {
   "cell_type": "code",
   "execution_count": 5,
   "id": "ff1ac022",
   "metadata": {},
   "outputs": [
    {
     "name": "stdout",
     "output_type": "stream",
     "text": [
      "Motion data has a length of  21789\n"
     ]
    }
   ],
   "source": [
    "# Read data\n",
    "motion = np.genfromtxt('../../dataset4_wbc/live_extraction/continuous_wbc_CoM_5minutes.csv', delimiter=',', dtype=np.float64)\n",
    "contacts = np.genfromtxt('../../dataset4_wbc/live_extraction/continuous_wbc_CoM_5minutes.csv', delimiter=',', usecols=(57, 58, 59, 60), dtype=bool)\n",
    "print(\"Motion data has a length of \", len(motion))"
   ]
  },
  {
   "cell_type": "code",
   "execution_count": 6,
   "id": "4ce40b8a",
   "metadata": {},
   "outputs": [
    {
     "data": {
      "text/plain": [
       "(21789, 61)"
      ]
     },
     "execution_count": 6,
     "metadata": {},
     "output_type": "execute_result"
    }
   ],
   "source": [
    "motion.shape"
   ]
  },
  {
   "cell_type": "markdown",
   "id": "f384f42b",
   "metadata": {},
   "source": [
    "## Height-Force plots"
   ]
  },
  {
   "cell_type": "code",
   "execution_count": 7,
   "id": "3b39ca54",
   "metadata": {},
   "outputs": [],
   "source": [
    "def get_specific_cmd(dataset, fwd, side, rot):\n",
    "    if abs(fwd): \n",
    "        return np.where(dataset[:, 1] > 0)[0] if fwd > 0 else np.where(dataset[:, 1] < 0)[0]\n",
    "    if abs(side): \n",
    "        return np.where(dataset[:, 2] > 0)[0] if side > 0 else np.where(dataset[:, 2] < 0)[0]\n",
    "    if abs(rot): \n",
    "        return np.where(dataset[:, 3] > 0)[0] if rot > 0 else np.where(dataset[:, 3] < 0)[0]"
   ]
  },
  {
   "cell_type": "code",
   "execution_count": 8,
   "id": "47646f64",
   "metadata": {},
   "outputs": [],
   "source": [
    "def get_swinging_motions(dataset, height=1):\n",
    "    # rf min height (i.e swining motion)\n",
    "    fl_min_height = np.where(dataset[:, 10] < height)[0]\n",
    "    fr_min_height = np.where(dataset[:, 13] < height)[0]\n",
    "    rl_min_height = np.where(dataset[:, 16] < height)[0]\n",
    "    rr_min_height = np.where(dataset[:, 19] < height)[0]\n",
    "            \n",
    "    return fl_min_height,fr_min_height,rl_min_height,rr_min_height"
   ]
  },
  {
   "cell_type": "markdown",
   "id": "52deeeaf",
   "metadata": {},
   "source": [
    "### Footstep IDXs"
   ]
  },
  {
   "cell_type": "code",
   "execution_count": 9,
   "id": "0e5524f7",
   "metadata": {},
   "outputs": [],
   "source": [
    "footsteps_fwd = get_specific_cmd(motion, 1, 0, 0)\n",
    "footsteps_clock = get_specific_cmd(motion, 0, 0, -1)\n",
    "footsteps_count = get_specific_cmd(motion, 0, 0, 1)\n",
    "footsteps_side_right = get_specific_cmd(motion, 0, -1, 0)\n",
    "footsteps_side_left = get_specific_cmd(motion, 0, 1, 0)"
   ]
  },
  {
   "cell_type": "markdown",
   "id": "3b73da75",
   "metadata": {},
   "source": [
    "### Dataset Preparation"
   ]
  },
  {
   "cell_type": "code",
   "execution_count": 10,
   "id": "f3367dd3",
   "metadata": {},
   "outputs": [],
   "source": [
    "def euler_from_quaternion(x, y, z, w):\n",
    "    \"\"\"\n",
    "    Convert a quaternion into euler angles (roll, pitch, yaw)\n",
    "    roll is rotation around x in radians (counterclockwise)\n",
    "    pitch is rotation around y in radians (counterclockwise)\n",
    "    yaw is rotation around z in radians (counterclockwise)\n",
    "    \"\"\"\n",
    "    t0 = +2.0 * (w * x + y * z)\n",
    "    t1 = +1.0 - 2.0 * (x * x + y * y)\n",
    "    roll_x = math.atan2(t0, t1)\n",
    "     \n",
    "    t2 = +2.0 * (w * y - z * x)\n",
    "    t2 = +1.0 if t2 > +1.0 else t2\n",
    "    t2 = -1.0 if t2 < -1.0 else t2\n",
    "    pitch_y = math.asin(t2)\n",
    "     \n",
    "    t3 = +2.0 * (w * z + x * y)\n",
    "    t4 = +1.0 - 2.0 * (y * y + z * z)\n",
    "    yaw_z = math.atan2(t3, t4)\n",
    "     \n",
    "    return roll_x, pitch_y, yaw_z # in radians"
   ]
  },
  {
   "cell_type": "markdown",
   "id": "c06e7b25",
   "metadata": {},
   "source": [
    "### CoM Displacement Sanity Check"
   ]
  },
  {
   "cell_type": "code",
   "execution_count": 11,
   "id": "bf4d68de",
   "metadata": {},
   "outputs": [],
   "source": [
    "def visualize_static_foosteps(dataset, footsteps):\n",
    "    old_xs = None\n",
    "    old_ys = None\n",
    "    old_zs = None\n",
    "    \n",
    "    # Visualize footsteps\n",
    "    for idx, footstep in enumerate(footsteps):\n",
    "        fig = plt.figure()\n",
    "        ax = fig.add_subplot(projection='3d')\n",
    "\n",
    "        #ax.set_xlim([-0.5, 0.5])\n",
    "        #ax.set_ylim([-0.3, 0.3])\n",
    "        ax.set_zlim([-0.5, 0.5])\n",
    "\n",
    "        dataset[footstep, 8:20] = np.round(dataset[footstep, 8:20], 3)\n",
    "        \n",
    "        time_diff = dataset[footsteps[idx], 0] - dataset[footsteps[idx-1], 0]\n",
    "            \n",
    "        # 3D positions        \n",
    "        xs = np.array([dataset[footstep, 8], dataset[footstep, 11], dataset[footstep, 14], dataset[footstep, 17]])\n",
    "        ys = np.array([dataset[footstep, 9], dataset[footstep, 12], dataset[footstep, 15], dataset[footstep, 18]])\n",
    "        zz = np.array([dataset[footstep, 10], dataset[footstep, 13], dataset[footstep, 15], dataset[footstep, 19]])\n",
    "\n",
    "        ax.scatter(xs, ys, zs, marker='o')\n",
    "\n",
    "        ax.set_xlabel('X Label')\n",
    "        ax.set_ylabel('Y Label')\n",
    "        ax.set_zlabel('Z Label')\n",
    "\n",
    "        plt.show()\n",
    "\n",
    "        #print(xs, ys, zs, dataset[footstep, 2:5], dataset[footstep, 25:28])\n",
    "        if idx > 0 and idx < len(footsteps):\n",
    "            print(f'Diff: {time_diff}. Command: {dataset[footstep, 1:4]}. Coord: {[xs[0], ys[0], zs[0]]}. Step size: {[xs[0]-old_xs[0], ys[0]-old_ys[0], zs[0]-old_zs[0]]}.')\n",
    "        else:\n",
    "            print(f'Command: {dataset[footstep, 1:4]}. Coord: {[xs[0], ys[0], zs[0]]}.')\n",
    "            \n",
    "        old_xs = xs\n",
    "        old_ys = ys\n",
    "        old_zs = zs"
   ]
  },
  {
   "cell_type": "code",
   "execution_count": 12,
   "id": "0f9da523",
   "metadata": {},
   "outputs": [],
   "source": [
    "odom_displacement_x = []\n",
    "odom_displacement_y = []\n",
    "support_displacement_x = []\n",
    "support_displacement_y = []\n",
    "\n",
    "def visualize_absolute_foostep_sizes(dataset, footsteps):\n",
    "    prev_yaw = 0\n",
    "    \n",
    "    # Visualize footsteps\n",
    "    for idx, footstep in enumerate(footsteps):\n",
    "        dataset[footstep, 8:20] = np.round(dataset[footstep, 8:20], 3)\n",
    "        \n",
    "        if idx < (len(footsteps) - 1):\n",
    "            #print(\"Command: \", dataset[footstep, 1:4])\n",
    "            time_difference = abs(dataset[footsteps[idx], 0] - dataset[footsteps[idx+1], 0])\n",
    "            \n",
    "            if time_difference < 0.5:\n",
    "                fig, axes = plt.subplots(nrows=1, ncols=2, figsize=(15, 5))\n",
    "                axes[0].set_xlabel('X Label')\n",
    "                axes[0].set_ylabel('Y Label')\n",
    "                axes[1].set_xlabel('X Label')\n",
    "                axes[1].set_ylabel('Y Label')\n",
    "    \n",
    "                fl_moving = contacts[idx, 0]\n",
    "                fr_moving = contacts[idx, 1]\n",
    "                rl_moving = contacts[idx, 2]\n",
    "                rr_moving = contacts[idx, 3]\n",
    "                                \n",
    "                if (not fr_moving != fl_moving):\n",
    "                    print(\"Exception\")\n",
    "                    continue\n",
    "                    \n",
    "                # Get euler angles from odom to base rotation\n",
    "                _, _, curr_yaw = euler_from_quaternion(dataset[footstep, 47], dataset[footstep, 48], dataset[footstep, 49], dataset[footstep, 50])\n",
    "                _, _, next_yaw = euler_from_quaternion(dataset[footsteps[idx+1], 47], dataset[footsteps[idx+1], 48], dataset[footsteps[idx+1], 49], dataset[footsteps[idx+1], 50])\n",
    "\n",
    "                # Compute rotation matrix\n",
    "                c_curr, s_curr = np.cos(curr_yaw), np.sin(curr_yaw)\n",
    "                c_next, s_next = np.cos(next_yaw), np.sin(next_yaw)\n",
    "                R_curr = np.array(((c_curr, -s_curr), (s_curr, c_curr)))\n",
    "                R_next = np.array(((c_next, -s_next), (s_next, c_next)))\n",
    "                \n",
    "                # Odom base vectors\n",
    "                curr_base = np.array([[dataset[footstep, 44], dataset[footstep, 45]]])\n",
    "                next_base = np.array([[dataset[footsteps[idx+1], 44], dataset[footsteps[idx+1], 45]]])\n",
    "                \n",
    "                # Local base vectors\n",
    "                local_curr_base = R_curr.T @ curr_base.T\n",
    "                local_next_base = R_curr.T @ next_base.T\n",
    "                local_next_base_next = R_next.T @ next_base.T\n",
    "                base_displacement = local_next_base - local_curr_base\n",
    "                \n",
    "                \"\"\"\n",
    "                print(\"CoM displacement: \")\n",
    "                print(f'FL (x): {dataset[footsteps[idx], 8]}, {dataset[footsteps[idx+1], 8]}, lf (y): {dataset[footsteps[idx], 9]}, {dataset[footsteps[idx+1], 9]}.')\n",
    "                print(f'FL displacement: {(dataset[footsteps[idx+1], 8] - dataset[footsteps[idx], 8]).tolist()}, {(dataset[footsteps[idx+1], 9] - dataset[footsteps[idx], 9]).tolist()}.\\n')\n",
    "                \n",
    "                print(f'FR (x): {dataset[footsteps[idx], 14]}, {dataset[footsteps[idx+1], 14]}, rf (y): {dataset[footsteps[idx], 15]}, {dataset[footsteps[idx+1], 15]}.')\n",
    "                print(f'FR displacement: {(dataset[footsteps[idx+1], 14] - dataset[footsteps[idx], 14]).tolist()}, {(dataset[footsteps[idx+1], 15] - dataset[footsteps[idx], 15]).tolist()}.\\n')\n",
    "                \n",
    "                print(f'RL (x): {dataset[footsteps[idx], 11]}, {dataset[footsteps[idx+1], 11]}, lh (y): {dataset[footsteps[idx], 12]}, {dataset[footsteps[idx+1], 12]}.')\n",
    "                print(f'RL displacement: {(dataset[footsteps[idx+1], 11] - dataset[footsteps[idx], 11]).tolist()}, {(dataset[footsteps[idx+1], 12] - dataset[footsteps[idx], 12]).tolist()}.\\n')\n",
    "                \n",
    "                print(f'RR (x): {dataset[footsteps[idx], 17]}, {dataset[footsteps[idx+1], 17]}, rh (y): {dataset[footsteps[idx], 18]}, {dataset[footsteps[idx+1], 18]}.')\n",
    "                print(f'RR displacement: {(dataset[footsteps[idx+1], 17] - dataset[footsteps[idx], 17]).tolist()}, {(dataset[footsteps[idx+1], 18] - dataset[footsteps[idx], 18]).tolist()}.\\n')\n",
    "                \"\"\"\n",
    "                \n",
    "                # Feet displacements\n",
    "                fl_x_displacement = dataset[footsteps[idx+1], 8] - dataset[footsteps[idx], 8]\n",
    "                fl_y_displacement = dataset[footsteps[idx+1], 9] - dataset[footsteps[idx], 9]\n",
    "                fr_x_displacement = dataset[footsteps[idx+1], 11] - dataset[footsteps[idx], 11]\n",
    "                fr_y_displacement = dataset[footsteps[idx+1], 12] - dataset[footsteps[idx], 12]\n",
    "                rl_x_displacement = dataset[footsteps[idx+1], 14] - dataset[footsteps[idx], 14]\n",
    "                rl_y_displacement = dataset[footsteps[idx+1], 15] - dataset[footsteps[idx], 15]\n",
    "                rr_x_displacement = dataset[footsteps[idx+1], 17] - dataset[footsteps[idx], 17]\n",
    "                rr_y_displacement = dataset[footsteps[idx+1], 18] - dataset[footsteps[idx], 18]\n",
    "                \n",
    "                # Support foot base displacement\n",
    "                support_base_displacement = [0, 0]\n",
    "                if fr_moving:\n",
    "                    support_base_displacement[0] = -fl_x_displacement\n",
    "                    support_base_displacement[1] = -fl_y_displacement\n",
    "                else:\n",
    "                    support_base_displacement[0] = -fr_x_displacement\n",
    "                    support_base_displacement[1] = -fr_y_displacement\n",
    "                                    \n",
    "                print(f'\\nBase displacement (Support Foot): {support_base_displacement}.\\n')\n",
    "                print(f'Base displacement (Odom): {base_displacement.tolist()}. Rotation displacement: {(curr_yaw - prev_yaw) * 180 / np.pi}.\\n')\n",
    "                #print(f'Odom velocity x: {dataset[footsteps[idx+1], 51]}. Odom velocity y: {dataset[footsteps[idx+1], 52]}. Odom velocity yaw: {dataset[footsteps[idx+1], 56]}')\n",
    "                \n",
    "                odom_displacement_x.append(base_displacement.tolist()[0])\n",
    "                odom_displacement_y.append(base_displacement.tolist()[1])\n",
    "                support_displacement_x.append(support_base_displacement[0])\n",
    "                support_displacement_y.append(support_base_displacement[1])\n",
    "                \n",
    "                prev_yaw = curr_yaw\n",
    "                    \n",
    "                x_0 = np.array([dataset[footstep, 8], \n",
    "                                dataset[footstep, 11],\n",
    "                                dataset[footstep, 14], \n",
    "                                dataset[footstep, 17]])\n",
    "                y_0 = np.array([dataset[footstep, 9], \n",
    "                                dataset[footstep, 12],\n",
    "                                dataset[footstep, 15], \n",
    "                                dataset[footstep, 18]])\n",
    "                \n",
    "                x_1 = np.array([dataset[footstep, 8] + fl_x_displacement, \n",
    "                                dataset[footstep, 11] + fr_x_displacement,\n",
    "                                dataset[footstep, 14] + rl_x_displacement, \n",
    "                                dataset[footstep, 17] + rr_x_displacement])\n",
    "                y_1 = np.array([dataset[footstep, 9] + fl_y_displacement, \n",
    "                                dataset[footstep, 12] + fr_y_displacement,\n",
    "                                dataset[footstep, 15] + rl_y_displacement, \n",
    "                                dataset[footstep, 18] + rr_y_displacement])\n",
    "                \n",
    "                axes[0].scatter(x_0, y_0, c= 'b',marker='o')\n",
    "                axes[0].scatter(x_0, y_0, c= 'm',marker='o')\n",
    "                axes[0].scatter(0, 0, c= 'g', marker='^')\n",
    "                axes[0].scatter(base_displacement[0], base_displacement[1], c= 'y', marker='^')\n",
    "                axes[0].scatter(support_base_displacement[0], support_base_displacement[1], c= 'r', marker='^')\n",
    "                \n",
    "                axes[1].scatter(x_1, y_1, c= 'r', marker='o')\n",
    "                axes[1].scatter(x_1, y_1, c= 'c', marker='o')\n",
    "                \n",
    "                plt.show()\n",
    "                \n",
    "#visualize_absolute_foostep_sizes(motion, footsteps_fwd)                  "
   ]
  },
  {
   "cell_type": "code",
   "execution_count": 97,
   "id": "79ffc7ee",
   "metadata": {},
   "outputs": [],
   "source": [
    "odom_displacement_x_np = np.array(odom_displacement_x)\n",
    "odom_displacement_y_np = np.array(odom_displacement_y)\n",
    "support_displacement_x_np = np.array([support_displacement_x]).T\n",
    "support_displacement_y_np = np.array([support_displacement_y]).T"
   ]
  },
  {
   "cell_type": "code",
   "execution_count": 98,
   "id": "ea6fdef2",
   "metadata": {},
   "outputs": [
    {
     "name": "stdout",
     "output_type": "stream",
     "text": [
      "(1715, 1) (1715, 1) (1715, 1) (1715, 1)\n"
     ]
    }
   ],
   "source": [
    "print(odom_displacement_x_np.shape, odom_displacement_y_np.shape, support_displacement_x_np.shape, support_displacement_y_np.shape)"
   ]
  },
  {
   "cell_type": "code",
   "execution_count": 108,
   "id": "15daaa07",
   "metadata": {},
   "outputs": [],
   "source": [
    "disp_x_diff = odom_displacement_x_np - support_displacement_x_np\n",
    "disp_y_diff = odom_displacement_y_np - support_displacement_y_np"
   ]
  },
  {
   "cell_type": "code",
   "execution_count": 109,
   "id": "3ac69db8",
   "metadata": {},
   "outputs": [
    {
     "name": "stdout",
     "output_type": "stream",
     "text": [
      "Min diff between displacement in x: -0.00017041015890188055. Max diff between displacement in x: 0.00855452208523172.\n"
     ]
    }
   ],
   "source": [
    "print(f\"Min diff between displacement in x: {np.min(disp_x_diff)}. Max diff between displacement in x: {np.max(disp_x_diff)}.\")"
   ]
  },
  {
   "cell_type": "code",
   "execution_count": 110,
   "id": "9b927ae5",
   "metadata": {},
   "outputs": [
    {
     "name": "stdout",
     "output_type": "stream",
     "text": [
      "Min diff between displacement in y: -0.0037858283651526214. Max diff between displacement in y: 0.002833012759796194.\n"
     ]
    }
   ],
   "source": [
    "print(f\"Min diff between displacement in y: {np.min(disp_y_diff)}. Max diff between displacement in y: {np.max(disp_y_diff)}.\")"
   ]
  },
  {
   "cell_type": "markdown",
   "id": "267515e6",
   "metadata": {},
   "source": [
    "# Dataset Preparation"
   ]
  },
  {
   "cell_type": "code",
   "execution_count": 13,
   "id": "cdef40b7",
   "metadata": {},
   "outputs": [],
   "source": [
    "import sklearn\n",
    "from sklearn.linear_model import LinearRegression\n",
    "from sklearn.model_selection import train_test_split"
   ]
  },
  {
   "cell_type": "code",
   "execution_count": 18,
   "id": "16a86827",
   "metadata": {},
   "outputs": [
    {
     "name": "stdout",
     "output_type": "stream",
     "text": [
      "(21421, 25)\n",
      "(21421, 3)\n"
     ]
    }
   ],
   "source": [
    "def create_com_dataset(dataset, footsteps, motion=None, debug=False):\n",
    "    inputs = []\n",
    "    labels = []\n",
    "    velocity_x = 0\n",
    "    velocity_y = 0\n",
    "    velocity_yaw = 0\n",
    "    \n",
    "    for idx, footstep in enumerate(footsteps):\n",
    "        if idx < (len(footsteps) - 1):\n",
    "            # Compute time difference between\n",
    "            # current and next footsteps\n",
    "            time_difference = abs(dataset[footsteps[idx], 0] - dataset[footsteps[idx+1], 0])\n",
    "            \n",
    "            if time_difference < 0.5:\n",
    "                fl_moving = contacts[idx, 0]\n",
    "                fr_moving = contacts[idx, 1]\n",
    "                rl_moving = contacts[idx, 2]\n",
    "                rr_moving = contacts[idx, 3]\n",
    "                \n",
    "                if debug:\n",
    "                    print(idx, height_peeks_in_between)\n",
    "                    print(\"Time difference: \", time_difference)\n",
    "                    print(\"Footstep timestamp: \", dataset[footstep, 0])\n",
    "                    print(f'FL moving: {fl_moving}. FR moving: {fr_moving}')\n",
    "                    print(f'RL moving: {rl_moving}. RR moving: {rr_moving}')\n",
    "\n",
    "                if (not fr_moving != fl_moving):\n",
    "                    print(\"Exception\")\n",
    "                \n",
    "                # Get euler angles from odom to base rotation\n",
    "                _, _, curr_yaw = euler_from_quaternion(dataset[footstep, 47], dataset[footstep, 48], dataset[footstep, 49], dataset[footstep, 50])\n",
    "                _, _, next_yaw = euler_from_quaternion(dataset[footsteps[idx+1], 47], dataset[footsteps[idx+1], 48], dataset[footsteps[idx+1], 49], dataset[footsteps[idx+1], 50])\n",
    "\n",
    "                # Compute rotation matrix\n",
    "                c_curr, s_curr = np.cos(curr_yaw), np.sin(curr_yaw)\n",
    "                c_next, s_next = np.cos(next_yaw), np.sin(next_yaw)\n",
    "                R_curr = np.array(((c_curr, -s_curr), (s_curr, c_curr)))\n",
    "                R_next = np.array(((c_next, -s_next), (s_next, c_next)))\n",
    "                \n",
    "                # Odom base vectors\n",
    "                curr_base = np.array([[dataset[footstep, 44], dataset[footstep, 45]]])\n",
    "                next_base = np.array([[dataset[footsteps[idx+1], 44], dataset[footsteps[idx+1], 45]]])\n",
    "                \n",
    "                # Local base vectors\n",
    "                local_curr_base = R_curr.T @ curr_base.T\n",
    "                local_next_base = R_curr.T @ next_base.T\n",
    "                base_displacement = local_next_base - local_curr_base\n",
    "                \n",
    "                # Inputs\n",
    "                inputs.append(dataset[footsteps[idx], 1:4].tolist() + \n",
    "                              dataset[footsteps[idx], 51:57].tolist() + \n",
    "                              dataset[footsteps[idx], 8:20].tolist() + \n",
    "                              contacts[footsteps[idx], :].tolist())\n",
    "                \n",
    "                # Labels\n",
    "                labels.append(base_displacement.tolist()[0] + base_displacement.tolist()[1] + [next_yaw-curr_yaw])\n",
    "                \n",
    "                #print(inputs[-1])\n",
    "                #print(labels[-1])\n",
    "                \n",
    "    # Convert to numpy array\n",
    "    inputs_numpy = np.array(inputs, dtype=object)\n",
    "    labels_numpy = np.array(labels, dtype=object)\n",
    "    \n",
    "    return inputs_numpy, labels_numpy\n",
    "\n",
    "X_motion_fwd_CoM, Y_motion_fwd_CoM = create_com_dataset(motion, footsteps_fwd)\n",
    "X_motion_clock_CoM, Y_motion_clock_CoM = create_com_dataset(motion, footsteps_clock)\n",
    "X_motion_count_CoM, Y_motion_count_CoM = create_com_dataset(motion, footsteps_count)\n",
    "X_motion_side_left_CoM, Y_motion_side_left_CoM = create_com_dataset(motion, footsteps_side_left)\n",
    "X_motion_side_right_CoM, Y_motion_side_right_CoM = create_com_dataset(motion, footsteps_side_right)\n",
    "\n",
    "# Stack datasets\n",
    "X_motion_CoM_continuous = np.concatenate((X_motion_fwd_CoM, X_motion_side_right_CoM, X_motion_side_left_CoM, X_motion_clock_CoM, X_motion_count_CoM))\n",
    "Y_motion_CoM_continuous = np.concatenate((Y_motion_fwd_CoM, Y_motion_side_right_CoM, Y_motion_side_left_CoM, Y_motion_clock_CoM, Y_motion_count_CoM))\n",
    "print(X_motion_CoM_continuous.shape)\n",
    "print(Y_motion_CoM_continuous.shape)"
   ]
  },
  {
   "cell_type": "code",
   "execution_count": 19,
   "id": "ff036376",
   "metadata": {},
   "outputs": [
    {
     "name": "stdout",
     "output_type": "stream",
     "text": [
      "Stored 'X_motion_CoM_continuous' (ndarray)\n",
      "Stored 'Y_motion_CoM_continuous' (ndarray)\n"
     ]
    }
   ],
   "source": [
    "%store X_motion_CoM_continuous\n",
    "%store Y_motion_CoM_continuous"
   ]
  },
  {
   "cell_type": "code",
   "execution_count": null,
   "id": "9c923211",
   "metadata": {},
   "outputs": [],
   "source": []
  }
 ],
 "metadata": {
  "kernelspec": {
   "display_name": "Python 3",
   "language": "python",
   "name": "python3"
  },
  "language_info": {
   "codemirror_mode": {
    "name": "ipython",
    "version": 3
   },
   "file_extension": ".py",
   "mimetype": "text/x-python",
   "name": "python",
   "nbconvert_exporter": "python",
   "pygments_lexer": "ipython3",
   "version": "3.6.12"
  }
 },
 "nbformat": 4,
 "nbformat_minor": 5
}
