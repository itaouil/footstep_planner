{
 "cells": [
  {
   "cell_type": "code",
   "execution_count": 1,
   "id": "212fa5af",
   "metadata": {},
   "outputs": [],
   "source": [
    "#!/usr/bin/env python3.6\n",
    "# -*- coding: utf-8 -*-"
   ]
  },
  {
   "cell_type": "code",
   "execution_count": 2,
   "id": "f9346766",
   "metadata": {},
   "outputs": [],
   "source": [
    "# Imports\n",
    "import sys\n",
    "import joblib\n",
    "import numpy as np\n",
    "from matplotlib import animation\n",
    "from IPython.display import HTML\n",
    "from matplotlib import pyplot as plt\n",
    "import mpl_toolkits.mplot3d.axes3d as p3"
   ]
  },
  {
   "cell_type": "code",
   "execution_count": 3,
   "id": "a5e68b8a",
   "metadata": {},
   "outputs": [],
   "source": [
    "#np.random.seed(20)\n",
    "np.set_printoptions(threshold=sys.maxsize)"
   ]
  },
  {
   "cell_type": "code",
   "execution_count": 4,
   "id": "2cc61ff7",
   "metadata": {},
   "outputs": [],
   "source": [
    "%matplotlib inline"
   ]
  },
  {
   "cell_type": "code",
   "execution_count": 5,
   "id": "542e4725",
   "metadata": {},
   "outputs": [
    {
     "name": "stdout",
     "output_type": "stream",
     "text": [
      "(2061, 32)\n",
      "(2061, 4)\n"
     ]
    }
   ],
   "source": [
    "%store -r X_relative_footsteps_continuous_absolute\n",
    "%store -r Y_relative_footsteps_continuous_absolute\n",
    "print(X_relative_footsteps_continuous_absolute.shape)\n",
    "print(Y_relative_footsteps_continuous_absolute.shape)"
   ]
  },
  {
   "cell_type": "markdown",
   "id": "b1666a2e",
   "metadata": {},
   "source": [
    "# Multivariate Linear Regression (Foot prediction)"
   ]
  },
  {
   "cell_type": "code",
   "execution_count": 6,
   "id": "9c92497c",
   "metadata": {},
   "outputs": [],
   "source": [
    "import sklearn\n",
    "from sklearn import metrics\n",
    "from sklearn.feature_selection import RFE\n",
    "from sklearn.model_selection import KFold\n",
    "from sklearn.linear_model import LinearRegression\n",
    "from sklearn.model_selection import train_test_split\n",
    "from sklearn.preprocessing import PolynomialFeatures \n",
    "from sklearn.model_selection import cross_val_score, cross_val_predict\n",
    "from sklearn.metrics import mean_squared_error, mean_absolute_error, r2_score"
   ]
  },
  {
   "cell_type": "code",
   "execution_count": 7,
   "id": "64e86c9a",
   "metadata": {},
   "outputs": [],
   "source": [
    "# Entries where FL is swinging\n",
    "idxs = np.where(X_relative_footsteps_continuous_absolute[:, 21] == 1)[0]\n",
    "X_relative_footsteps_continuous_absolute_FL_swinging = X_relative_footsteps_continuous_absolute[idxs]\n",
    "Y_relative_footsteps_continuous_absolute_FL_swinging = Y_relative_footsteps_continuous_absolute[idxs]"
   ]
  },
  {
   "cell_type": "code",
   "execution_count": 8,
   "id": "42bd3943",
   "metadata": {},
   "outputs": [
    {
     "name": "stdout",
     "output_type": "stream",
     "text": [
      "Percentage of footstep where FL and RR are swinging:  50.41242115477923\n"
     ]
    }
   ],
   "source": [
    "print(\"Percentage of footstep where FL and RR are swinging: \", len(idxs)/len(X_relative_footsteps_continuous_absolute) * 100)"
   ]
  },
  {
   "cell_type": "markdown",
   "id": "2a981527",
   "metadata": {},
   "source": [
    "## Predict FL foot -> x"
   ]
  },
  {
   "cell_type": "markdown",
   "id": "6ea4767d",
   "metadata": {},
   "source": [
    "### Linear Regression"
   ]
  },
  {
   "cell_type": "code",
   "execution_count": 10,
   "id": "32f5da0a",
   "metadata": {},
   "outputs": [
    {
     "name": "stdout",
     "output_type": "stream",
     "text": [
      "R2:  0.9978767216600637\n",
      "RMSE:  0.0019253290490993428\n",
      "The lowest error is:  5.44775870289782e-07\n",
      "The highest error is:  0.01818255412349805\n",
      "The avg. error is:  0.0008312847019438507\n"
     ]
    }
   ],
   "source": [
    "# Input\n",
    "X = np.hstack((X_relative_footsteps_continuous_absolute_FL_swinging[:, :3], # motion command\n",
    "               X_relative_footsteps_continuous_absolute_FL_swinging[:, 9:11], # FL (x,y) position\n",
    "               X_relative_footsteps_continuous_absolute_FL_swinging[:, 12:14], # FR (x,y) position\n",
    "               X_relative_footsteps_continuous_absolute_FL_swinging[:, 15:17], # RL (x,y) position\n",
    "               X_relative_footsteps_continuous_absolute_FL_swinging[:, 18:20])) # RR (x,y) position\n",
    "\n",
    "# Target\n",
    "Y = np.array([Y_relative_footsteps_continuous_absolute_FL_swinging[:, 0]]).T\n",
    "\n",
    "assert Y.shape[0] == X.shape[0]\n",
    "\n",
    "# Split data into train and test set\n",
    "X_train, X_test, Y_train, Y_test = train_test_split(X, Y, train_size = 0.8, shuffle=True, random_state=100)\n",
    "\n",
    "# Create the model\n",
    "model_fl_relative_support_x = LinearRegression()\n",
    "\n",
    "# Fit the model\n",
    "model_fl_relative_support_x.fit(X_train, Y_train)\n",
    "\n",
    "# Predict\n",
    "predictions = model_fl_relative_support_x.predict(X_test)\n",
    "\n",
    "# Stats\n",
    "print('R2: ', r2_score(predictions, Y_test))\n",
    "print('RMSE: ', np.sqrt(mean_squared_error(Y_test, predictions)))\n",
    "print(\"The lowest error is: \", np.min(np.abs(predictions - Y_test)))\n",
    "print(\"The highest error is: \", np.max(np.abs(predictions - Y_test)))\n",
    "print(\"The avg. error is: \", np.mean(np.abs(predictions - Y_test)))\n",
    "#print(\"Seq of errors (descendant): \\n\", sorted(np.abs(predictions - Y_test).tolist(), reverse=True))"
   ]
  },
  {
   "cell_type": "code",
   "execution_count": 11,
   "id": "2f42f77a",
   "metadata": {},
   "outputs": [
    {
     "data": {
      "text/plain": [
       "array([[ 2.04830454e-01, -2.22044605e-16,  5.55111512e-16,\n",
       "        -7.28324811e-01, -1.53290432e-01,  3.26516955e-01,\n",
       "        -9.43370354e-01, -1.25366139e-01,  8.23464419e-02,\n",
       "         2.82197794e-01,  1.21739715e-01]])"
      ]
     },
     "execution_count": 11,
     "metadata": {},
     "output_type": "execute_result"
    }
   ],
   "source": [
    "model_fl_relative_support_x.coef_"
   ]
  },
  {
   "cell_type": "code",
   "execution_count": 12,
   "id": "dd834997",
   "metadata": {},
   "outputs": [
    {
     "data": {
      "text/plain": [
       "array([0.00083732])"
      ]
     },
     "execution_count": 12,
     "metadata": {},
     "output_type": "execute_result"
    }
   ],
   "source": [
    "model_fl_relative_support_x.intercept_"
   ]
  },
  {
   "cell_type": "code",
   "execution_count": 13,
   "id": "7a38eae4",
   "metadata": {},
   "outputs": [
    {
     "data": {
      "text/plain": [
       "Text(0, 0.5, 'Predictions')"
      ]
     },
     "execution_count": 13,
     "metadata": {},
     "output_type": "execute_result"
    },
    {
     "data": {
      "image/png": "[encoded data removed]",
      "text/plain": [
       "<Figure size 432x288 with 1 Axes>"
      ]
     },
     "metadata": {
      "needs_background": "light"
     },
     "output_type": "display_data"
    }
   ],
   "source": [
    "## The line / model\n",
    "plt.scatter(Y_test, predictions)\n",
    "plt.xlabel(\"Ground truth\")\n",
    "plt.ylabel(\"Predictions\")"
   ]
  },
  {
   "cell_type": "code",
   "execution_count": 14,
   "id": "109e01fc",
   "metadata": {},
   "outputs": [],
   "source": [
    "#%store model_fl_relative_support_x"
   ]
  },
  {
   "cell_type": "code",
   "execution_count": 15,
   "id": "4c2577ab",
   "metadata": {},
   "outputs": [],
   "source": [
    "#for idx, prediction in enumerate(predictions):\n",
    "#    print(f'Start: {X_test[idx, 6]}. Groundtruth: {Y_test[idx]}. Predicted: {prediction}')"
   ]
  },
  {
   "cell_type": "code",
   "execution_count": 16,
   "id": "59890e16",
   "metadata": {},
   "outputs": [],
   "source": [
    "# Save model\n",
    "#joblib.dump(model_fl_relative_support_x, \"/home/itaouil/workspace/aliengo_ws/src/aliengo_navigation/models/protocol3/relative/model_fl_relative_support_x.sav\")"
   ]
  },
  {
   "cell_type": "markdown",
   "id": "aa2bdd5e",
   "metadata": {},
   "source": [
    "### Predict FL foot -> y"
   ]
  },
  {
   "cell_type": "code",
   "execution_count": 17,
   "id": "f2e5321c",
   "metadata": {},
   "outputs": [
    {
     "name": "stdout",
     "output_type": "stream",
     "text": [
      "R2:  -0.24932693620024393\n",
      "RMSE:  0.0011807381887203132\n",
      "The lowest error is:  1.3570745246452298e-05\n",
      "The highest error is:  0.012012196969136343\n",
      "The avg. error is:  0.0004568017792283661\n"
     ]
    }
   ],
   "source": [
    "# Input\n",
    "X = np.hstack((X_relative_footsteps_continuous_absolute_FL_swinging[:, :3], # motion command\n",
    "               X_relative_footsteps_continuous_absolute_FL_swinging[:, 9:11], # FL (x,y) position\n",
    "               X_relative_footsteps_continuous_absolute_FL_swinging[:, 12:14], # FR (x,y) position\n",
    "               X_relative_footsteps_continuous_absolute_FL_swinging[:, 15:17], # RL (x,y) position\n",
    "               X_relative_footsteps_continuous_absolute_FL_swinging[:, 18:20])) # RR (x,y) position\n",
    "\n",
    "# Target\n",
    "Y = np.array([Y_relative_footsteps_continuous_absolute_FL_swinging[:, 1]]).T\n",
    "\n",
    "assert Y.shape[0] == X.shape[0]\n",
    "\n",
    "# Split data into train and test set\n",
    "X_train, X_test, Y_train, Y_test = train_test_split(X, Y, train_size = 0.8, shuffle=True, random_state=100)\n",
    "\n",
    "# Create the model\n",
    "model_fl_relative_support_y = LinearRegression()\n",
    "\n",
    "# Fit the model\n",
    "model_fl_relative_support_y.fit(X_train, Y_train)\n",
    "\n",
    "# Predict\n",
    "predictions = model_fl_relative_support_y.predict(X_test)\n",
    "\n",
    "# Stats\n",
    "print('R2: ', r2_score(predictions, Y_test))\n",
    "print('RMSE: ', np.sqrt(mean_squared_error(Y_test, predictions)))\n",
    "print(\"The lowest error is: \", np.min(np.abs(predictions - Y_test)))\n",
    "print(\"The highest error is: \", np.max(np.abs(predictions - Y_test)))\n",
    "print(\"The avg. error is: \", np.mean(np.abs(predictions - Y_test)))\n",
    "#print(\"Seq of errors (descendant): \\n\", sorted(np.abs(predictions - Y_test).tolist(), reverse=True))"
   ]
  },
  {
   "cell_type": "code",
   "execution_count": 18,
   "id": "a4e93a78",
   "metadata": {},
   "outputs": [
    {
     "data": {
      "text/plain": [
       "array([[ 3.28478910e-02,  5.55111512e-17, -3.33066907e-16,\n",
       "         1.20643635e-01, -2.39918594e-01, -7.20303585e-02,\n",
       "        -9.36746058e-02, -1.57874675e-01,  2.17029908e-01,\n",
       "         1.53171861e-01,  2.22463204e-01]])"
      ]
     },
     "execution_count": 18,
     "metadata": {},
     "output_type": "execute_result"
    }
   ],
   "source": [
    "model_fl_relative_support_y.coef_"
   ]
  },
  {
   "cell_type": "code",
   "execution_count": 19,
   "id": "bca1b3cd",
   "metadata": {},
   "outputs": [
    {
     "data": {
      "text/plain": [
       "array([0.01165547])"
      ]
     },
     "execution_count": 19,
     "metadata": {},
     "output_type": "execute_result"
    }
   ],
   "source": [
    "model_fl_relative_support_y.intercept_"
   ]
  },
  {
   "cell_type": "code",
   "execution_count": 20,
   "id": "eaba822a",
   "metadata": {},
   "outputs": [
    {
     "data": {
      "text/plain": [
       "Text(0, 0.5, 'Predictions')"
      ]
     },
     "execution_count": 20,
     "metadata": {},
     "output_type": "execute_result"
    },
    {
     "data": {
      "image/png": "[encoded data removed]",
      "text/plain": [
       "<Figure size 432x288 with 1 Axes>"
      ]
     },
     "metadata": {
      "needs_background": "light"
     },
     "output_type": "display_data"
    }
   ],
   "source": [
    "## The line / model\n",
    "plt.scatter(Y_test, predictions)\n",
    "plt.xlabel(\"Ground truth\")\n",
    "plt.ylabel(\"Predictions\")"
   ]
  },
  {
   "cell_type": "code",
   "execution_count": 21,
   "id": "945c40bb",
   "metadata": {},
   "outputs": [],
   "source": [
    "#%store model_fl_relative_support_y"
   ]
  },
  {
   "cell_type": "code",
   "execution_count": 22,
   "id": "1af1c61d",
   "metadata": {},
   "outputs": [],
   "source": [
    "#for idx, prediction in enumerate(predictions):\n",
    "#    print(f'Groundtruth: {Y_test[idx]}. Predicted: {prediction}')"
   ]
  },
  {
   "cell_type": "code",
   "execution_count": 23,
   "id": "4fd198a4",
   "metadata": {},
   "outputs": [],
   "source": [
    "# Save model\n",
    "#joblib.dump(model_fl_relative_support_y, \"/home/itaouil/workspace/aliengo_ws/src/aliengo_navigation/models/protocol3/relative/model_fl_relative_support_y.sav\")"
   ]
  },
  {
   "cell_type": "code",
   "execution_count": null,
   "id": "1b18303f",
   "metadata": {},
   "outputs": [],
   "source": []
  }
 ],
 "metadata": {
  "kernelspec": {
   "display_name": "Python 3",
   "language": "python",
   "name": "python3"
  },
  "language_info": {
   "codemirror_mode": {
    "name": "ipython",
    "version": 3
   },
   "file_extension": ".py",
   "mimetype": "text/x-python",
   "name": "python",
   "nbconvert_exporter": "python",
   "pygments_lexer": "ipython3",
   "version": "3.6.12"
  }
 },
 "nbformat": 4,
 "nbformat_minor": 5
}
