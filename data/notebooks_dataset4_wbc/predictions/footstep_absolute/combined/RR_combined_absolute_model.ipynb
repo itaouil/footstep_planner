{
 "cells": [
  {
   "cell_type": "code",
   "execution_count": 1,
   "id": "cc2ae2cf",
   "metadata": {},
   "outputs": [],
   "source": [
    "#!/usr/bin/env python3.6\n",
    "# -*- coding: utf-8 -*-"
   ]
  },
  {
   "cell_type": "code",
   "execution_count": 2,
   "id": "91030465",
   "metadata": {},
   "outputs": [],
   "source": [
    "# Imports\n",
    "import sys\n",
    "import joblib\n",
    "import numpy as np\n",
    "from matplotlib import animation\n",
    "from IPython.display import HTML\n",
    "from matplotlib import pyplot as plt\n",
    "import mpl_toolkits.mplot3d.axes3d as p3"
   ]
  },
  {
   "cell_type": "code",
   "execution_count": 3,
   "id": "e08fcff7",
   "metadata": {},
   "outputs": [],
   "source": [
    "#np.random.seed(20)\n",
    "np.set_printoptions(threshold=sys.maxsize)"
   ]
  },
  {
   "cell_type": "code",
   "execution_count": 4,
   "id": "0b8990e7",
   "metadata": {},
   "outputs": [],
   "source": [
    "%matplotlib inline"
   ]
  },
  {
   "cell_type": "code",
   "execution_count": 5,
   "id": "ccb124c5",
   "metadata": {},
   "outputs": [
    {
     "name": "stdout",
     "output_type": "stream",
     "text": [
      "(6143, 28)\n",
      "(6143, 4)\n"
     ]
    }
   ],
   "source": [
    "%store -r X_footsteps_accelerations_absolute\n",
    "%store -r Y_footsteps_accelerations_absolute\n",
    "%store -r X_footsteps_continuous_absolute\n",
    "%store -r Y_footsteps_continuous_absolute\n",
    "X_motion = np.concatenate((X_footsteps_accelerations_absolute, X_footsteps_continuous_absolute))\n",
    "Y_motion = np.concatenate((Y_footsteps_accelerations_absolute, Y_footsteps_continuous_absolute))\n",
    "print(X_motion.shape)\n",
    "print(Y_motion.shape)"
   ]
  },
  {
   "cell_type": "markdown",
   "id": "690a5289",
   "metadata": {},
   "source": [
    "# Multivariate Linear Regression (Foot prediction)"
   ]
  },
  {
   "cell_type": "code",
   "execution_count": 6,
   "id": "ebe0f5cd",
   "metadata": {},
   "outputs": [],
   "source": [
    "import sklearn\n",
    "from sklearn import metrics\n",
    "from sklearn.feature_selection import RFE\n",
    "from sklearn.model_selection import KFold\n",
    "from sklearn.linear_model import LinearRegression\n",
    "from sklearn.model_selection import train_test_split\n",
    "from sklearn.preprocessing import PolynomialFeatures \n",
    "from sklearn.model_selection import cross_val_score, cross_val_predict\n",
    "from sklearn.metrics import mean_squared_error, mean_absolute_error, r2_score"
   ]
  },
  {
   "cell_type": "code",
   "execution_count": 7,
   "id": "ebae1796",
   "metadata": {},
   "outputs": [],
   "source": [
    "# Entries where FL/RR are swinging\n",
    "idxs = np.where(X_motion[:, 24] == 1)[0]\n",
    "X_motion_RR_swinging = X_motion[idxs]\n",
    "Y_motion_RR_swinging = Y_motion[idxs]"
   ]
  },
  {
   "cell_type": "markdown",
   "id": "2b6c42d1",
   "metadata": {},
   "source": [
    "## Predict RR foot -> x"
   ]
  },
  {
   "cell_type": "code",
   "execution_count": 8,
   "id": "d4453d89",
   "metadata": {},
   "outputs": [
    {
     "data": {
      "text/plain": [
       "array([ 0.1       ,  0.        ,  0.        ,  0.04429445, -0.0763995 ,\n",
       "        0.02945058, -0.0146854 ,  0.00673978,  0.01790485,  0.22657506,\n",
       "        0.18870623, -0.4303382 ,  0.24251341, -0.17037205, -0.43098021,\n",
       "       -0.23804776,  0.16513788, -0.42953227, -0.2633686 , -0.13826779,\n",
       "       -0.43035149,  1.        ,  0.        ,  0.        ,  1.        ,\n",
       "        0.1       ,  0.        ,  0.        ])"
      ]
     },
     "execution_count": 8,
     "metadata": {},
     "output_type": "execute_result"
    }
   ],
   "source": [
    "X_motion_RR_swinging[0, :]"
   ]
  },
  {
   "cell_type": "code",
   "execution_count": 9,
   "id": "7ae0e245",
   "metadata": {},
   "outputs": [
    {
     "data": {
      "text/plain": [
       "array([ 0.01997748, -0.00154138,  0.02591898, -0.00928865])"
      ]
     },
     "execution_count": 9,
     "metadata": {},
     "output_type": "execute_result"
    }
   ],
   "source": [
    "Y_motion_RR_swinging[0, :]"
   ]
  },
  {
   "cell_type": "markdown",
   "id": "8fc575d7",
   "metadata": {},
   "source": [
    "### Linear Regression"
   ]
  },
  {
   "cell_type": "code",
   "execution_count": 11,
   "id": "dc8bc112",
   "metadata": {},
   "outputs": [
    {
     "name": "stdout",
     "output_type": "stream",
     "text": [
      "R2:  0.9958674632588641\n",
      "RMSE:  0.002430474632862701\n",
      "The lowest error is:  3.3763703067568596e-06\n",
      "The highest error is:  0.020569225287060566\n",
      "The avg. error is:  0.0012366561416225544\n"
     ]
    }
   ],
   "source": [
    "# Input\n",
    "X = np.hstack((X_motion_RR_swinging[:, :3], # prev velocity command\n",
    "               X_motion_RR_swinging[:, -3:], # commanded velocity command\n",
    "               X_motion_RR_swinging[:, 9:11], # FL (x,y) position\n",
    "               X_motion_RR_swinging[:, 12:14], # FR (x,y) position\n",
    "               X_motion_RR_swinging[:, 15:17], # RL (x,y) position\n",
    "               X_motion_RR_swinging[:, 18:20])) # RR (x,y) position\n",
    "\n",
    "# Target\n",
    "Y = np.array([Y_motion_RR_swinging[:, 2]]).T\n",
    "\n",
    "assert Y.shape[0] == X.shape[0]\n",
    "\n",
    "# Split data into train and test set\n",
    "X_train, X_test, Y_train, Y_test = train_test_split(X, Y, train_size = 0.8, shuffle=True, random_state=100)\n",
    "\n",
    "# Create the model\n",
    "model_rr_relative_swinging_x = LinearRegression()\n",
    "\n",
    "# Fit the model\n",
    "model_rr_relative_swinging_x.fit(X_train, Y_train)\n",
    "\n",
    "# Predict\n",
    "predictions = model_rr_relative_swinging_x.predict(X_test)\n",
    "\n",
    "# Stats\n",
    "print('R2: ', r2_score(predictions, Y_test))\n",
    "print('RMSE: ', np.sqrt(mean_squared_error(Y_test, predictions)))\n",
    "print(\"The lowest error is: \", np.min(np.abs(predictions - Y_test)))\n",
    "print(\"The highest error is: \", np.max(np.abs(predictions - Y_test)))\n",
    "print(\"The avg. error is: \", np.mean(np.abs(predictions - Y_test)))\n",
    "#print(\"Seq of errors (descendant): \\n\", sorted(np.abs(predictions - Y_test).tolist(), reverse=True))"
   ]
  },
  {
   "cell_type": "code",
   "execution_count": 12,
   "id": "46e63839",
   "metadata": {},
   "outputs": [
    {
     "data": {
      "text/plain": [
       "array([[-2.39600967e-03,  0.00000000e+00, -8.32667268e-17,\n",
       "         2.13808033e-01, -8.32667268e-17, -5.55111512e-17,\n",
       "         2.78825266e-01,  3.78073944e-01,  9.98187558e-02,\n",
       "        -2.16376607e-01,  9.44990214e-02, -8.58580716e-02,\n",
       "        -5.95677198e-01, -3.84988182e-01]])"
      ]
     },
     "execution_count": 12,
     "metadata": {},
     "output_type": "execute_result"
    }
   ],
   "source": [
    "model_rr_relative_swinging_x.coef_"
   ]
  },
  {
   "cell_type": "code",
   "execution_count": 13,
   "id": "e114c27d",
   "metadata": {},
   "outputs": [
    {
     "data": {
      "text/plain": [
       "array([-0.36804565])"
      ]
     },
     "execution_count": 13,
     "metadata": {},
     "output_type": "execute_result"
    }
   ],
   "source": [
    "model_rr_relative_swinging_x.intercept_"
   ]
  },
  {
   "cell_type": "code",
   "execution_count": 14,
   "id": "9af6dbf1",
   "metadata": {},
   "outputs": [
    {
     "data": {
      "text/plain": [
       "Text(0, 0.5, 'Predictions')"
      ]
     },
     "execution_count": 14,
     "metadata": {},
     "output_type": "execute_result"
    },
    {
     "data": {
      "image/png": "[encoded data removed]",
      "text/plain": [
       "<Figure size 432x288 with 1 Axes>"
      ]
     },
     "metadata": {
      "needs_background": "light"
     },
     "output_type": "display_data"
    }
   ],
   "source": [
    "## The line / model\n",
    "plt.scatter(Y_test, predictions)\n",
    "plt.xlabel(\"Ground truth\")\n",
    "plt.ylabel(\"Predictions\")"
   ]
  },
  {
   "cell_type": "code",
   "execution_count": 15,
   "id": "a7408cb2",
   "metadata": {},
   "outputs": [],
   "source": [
    "#%store model_rr_relative_swinging_x"
   ]
  },
  {
   "cell_type": "code",
   "execution_count": 16,
   "id": "bfcd58c8",
   "metadata": {},
   "outputs": [],
   "source": [
    "#for idx, prediction in enumerate(predictions):\n",
    "#    print(f'Start: {X_test[idx, 6]}. Groundtruth: {Y_test[idx]}. Predicted: {prediction}')"
   ]
  },
  {
   "cell_type": "code",
   "execution_count": 17,
   "id": "29be45ab",
   "metadata": {},
   "outputs": [],
   "source": [
    "# Save model\n",
    "#joblib.dump(model_rr_relative_swinging_x, \"/home/itaouil/workspace/aliengo_ws/src/aliengo_navigation/models/protocol3/relative/model_rr_relative_swinging_x.sav\")"
   ]
  },
  {
   "cell_type": "markdown",
   "id": "f627301e",
   "metadata": {},
   "source": [
    "### Predict RR foot -> y"
   ]
  },
  {
   "cell_type": "code",
   "execution_count": 18,
   "id": "ae27c937",
   "metadata": {},
   "outputs": [
    {
     "name": "stdout",
     "output_type": "stream",
     "text": [
      "R2:  0.7500078631471774\n",
      "RMSE:  0.0016645727946717516\n",
      "The lowest error is:  1.317741802120409e-06\n",
      "The highest error is:  0.015315837411316924\n",
      "The avg. error is:  0.0008425989362162037\n"
     ]
    }
   ],
   "source": [
    "# Input\n",
    "X = np.hstack((X_motion_RR_swinging[:, :3], # prev velocity command\n",
    "               X_motion_RR_swinging[:, -3:], # commanded velocity command\n",
    "               X_motion_RR_swinging[:, 9:11], # FL (x,y) position\n",
    "               X_motion_RR_swinging[:, 12:14], # FR (x,y) position\n",
    "               X_motion_RR_swinging[:, 15:17], # RL (x,y) position\n",
    "               X_motion_RR_swinging[:, 18:20])) # RR (x,y) position\n",
    "\n",
    "# Target\n",
    "Y = np.array([Y_motion_RR_swinging[:, 3]]).T\n",
    "\n",
    "assert Y.shape[0] == X.shape[0]\n",
    "\n",
    "# Split data into train and test set\n",
    "X_train, X_test, Y_train, Y_test = train_test_split(X, Y, train_size = 0.8, shuffle=True, random_state=100)\n",
    "\n",
    "# Create the model\n",
    "model_rr_relative_swinging_y = LinearRegression()\n",
    "\n",
    "# Fit the model\n",
    "model_rr_relative_swinging_y.fit(X_train, Y_train)\n",
    "\n",
    "# Predict\n",
    "predictions = model_rr_relative_swinging_y.predict(X_test)\n",
    "\n",
    "# Stats\n",
    "print('R2: ', r2_score(predictions, Y_test))\n",
    "print('RMSE: ', np.sqrt(mean_squared_error(Y_test, predictions)))\n",
    "print(\"The lowest error is: \", np.min(np.abs(predictions - Y_test)))\n",
    "print(\"The highest error is: \", np.max(np.abs(predictions - Y_test)))\n",
    "print(\"The avg. error is: \", np.mean(np.abs(predictions - Y_test)))\n",
    "#print(\"Seq of errors (descendant): \\n\", sorted(np.abs(predictions - Y_test).tolist(), reverse=True))"
   ]
  },
  {
   "cell_type": "code",
   "execution_count": 19,
   "id": "1be35d8e",
   "metadata": {},
   "outputs": [
    {
     "data": {
      "text/plain": [
       "array([[ 5.24114429e-03, -5.55111512e-17,  0.00000000e+00,\n",
       "         2.34891875e-02, -1.11022302e-16, -5.55111512e-17,\n",
       "         2.60329861e-01,  5.28907677e-01, -1.00852317e-01,\n",
       "         1.43110999e-01, -6.79526783e-02, -4.05586383e-02,\n",
       "        -1.34780052e-01, -7.57837470e-01]])"
      ]
     },
     "execution_count": 19,
     "metadata": {},
     "output_type": "execute_result"
    }
   ],
   "source": [
    "model_rr_relative_swinging_y.coef_"
   ]
  },
  {
   "cell_type": "code",
   "execution_count": 20,
   "id": "d25c5fc2",
   "metadata": {},
   "outputs": [
    {
     "data": {
      "text/plain": [
       "array([-0.27440417])"
      ]
     },
     "execution_count": 20,
     "metadata": {},
     "output_type": "execute_result"
    }
   ],
   "source": [
    "model_rr_relative_swinging_y.intercept_"
   ]
  },
  {
   "cell_type": "code",
   "execution_count": 21,
   "id": "da766f4c",
   "metadata": {},
   "outputs": [
    {
     "data": {
      "text/plain": [
       "Text(0, 0.5, 'Predictions')"
      ]
     },
     "execution_count": 21,
     "metadata": {},
     "output_type": "execute_result"
    },
    {
     "data": {
      "image/png": "[encoded data removed]",
      "text/plain": [
       "<Figure size 432x288 with 1 Axes>"
      ]
     },
     "metadata": {
      "needs_background": "light"
     },
     "output_type": "display_data"
    }
   ],
   "source": [
    "## The line / model\n",
    "plt.scatter(Y_test, predictions)\n",
    "plt.xlabel(\"Ground truth\")\n",
    "plt.ylabel(\"Predictions\")"
   ]
  },
  {
   "cell_type": "code",
   "execution_count": 38,
   "id": "953cf36b",
   "metadata": {},
   "outputs": [],
   "source": [
    "#%store model_rr_relative_swinging_y"
   ]
  },
  {
   "cell_type": "code",
   "execution_count": 30,
   "id": "c598398c",
   "metadata": {},
   "outputs": [],
   "source": [
    "#for idx, prediction in enumerate(predictions):\n",
    "#    print(f'Input: {X_test[idx]}. Groundtruth: {Y_test[idx]}. Predicted: {prediction}')"
   ]
  },
  {
   "cell_type": "code",
   "execution_count": 31,
   "id": "26a14e29",
   "metadata": {},
   "outputs": [],
   "source": [
    "# Save model\n",
    "#joblib.dump(model_rr_relative_swinging_y, \"/home/itaouil/workspace/aliengo_ws/src/aliengo_navigation/models/protocol3/relative/model_rr_relative_swinging_y.sav\")"
   ]
  },
  {
   "cell_type": "code",
   "execution_count": null,
   "id": "84e9b16f",
   "metadata": {},
   "outputs": [],
   "source": []
  }
 ],
 "metadata": {
  "kernelspec": {
   "display_name": "Python 3",
   "language": "python",
   "name": "python3"
  },
  "language_info": {
   "codemirror_mode": {
    "name": "ipython",
    "version": 3
   },
   "file_extension": ".py",
   "mimetype": "text/x-python",
   "name": "python",
   "nbconvert_exporter": "python",
   "pygments_lexer": "ipython3",
   "version": "3.6.12"
  }
 },
 "nbformat": 4,
 "nbformat_minor": 5
}
