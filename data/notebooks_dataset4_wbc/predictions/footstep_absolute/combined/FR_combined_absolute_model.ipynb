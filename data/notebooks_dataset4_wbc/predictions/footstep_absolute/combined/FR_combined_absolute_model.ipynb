{
 "cells": [
  {
   "cell_type": "code",
   "execution_count": 1,
   "id": "6489e81a",
   "metadata": {},
   "outputs": [],
   "source": [
    "#!/usr/bin/env python3.6\n",
    "# -*- coding: utf-8 -*-"
   ]
  },
  {
   "cell_type": "code",
   "execution_count": 2,
   "id": "2c5e6aa4",
   "metadata": {},
   "outputs": [],
   "source": [
    "# Imports\n",
    "import sys\n",
    "import joblib\n",
    "import numpy as np\n",
    "from matplotlib import animation\n",
    "from IPython.display import HTML\n",
    "from matplotlib import pyplot as plt\n",
    "import mpl_toolkits.mplot3d.axes3d as p3"
   ]
  },
  {
   "cell_type": "code",
   "execution_count": 3,
   "id": "c4c172ba",
   "metadata": {},
   "outputs": [],
   "source": [
    "#np.random.seed(20)\n",
    "np.set_printoptions(threshold=sys.maxsize)"
   ]
  },
  {
   "cell_type": "code",
   "execution_count": 4,
   "id": "5c75262a",
   "metadata": {},
   "outputs": [],
   "source": [
    "%matplotlib inline"
   ]
  },
  {
   "cell_type": "code",
   "execution_count": 5,
   "id": "3c0b05bd",
   "metadata": {},
   "outputs": [
    {
     "name": "stdout",
     "output_type": "stream",
     "text": [
      "(18712, 28)\n",
      "(18712, 4)\n"
     ]
    }
   ],
   "source": [
    "%store -r X_footsteps_accelerations_absolute\n",
    "%store -r Y_footsteps_accelerations_absolute\n",
    "%store -r X_footsteps_continuous_absolute\n",
    "%store -r Y_footsteps_continuous_absolute\n",
    "X_motion = np.concatenate((X_footsteps_accelerations_absolute, X_footsteps_continuous_absolute))\n",
    "Y_motion = np.concatenate((Y_footsteps_accelerations_absolute, Y_footsteps_continuous_absolute))\n",
    "print(X_motion.shape)\n",
    "print(Y_motion.shape)"
   ]
  },
  {
   "cell_type": "markdown",
   "id": "32cacfc9",
   "metadata": {},
   "source": [
    "# Multivariate Linear Regression (Foot prediction)"
   ]
  },
  {
   "cell_type": "code",
   "execution_count": 6,
   "id": "6d58348b",
   "metadata": {},
   "outputs": [],
   "source": [
    "import sklearn\n",
    "from sklearn import metrics\n",
    "from sklearn.feature_selection import RFE\n",
    "from sklearn.model_selection import KFold\n",
    "from sklearn.linear_model import LinearRegression\n",
    "from sklearn.model_selection import train_test_split\n",
    "from sklearn.preprocessing import PolynomialFeatures \n",
    "from sklearn.model_selection import cross_val_score, cross_val_predict\n",
    "from sklearn.metrics import mean_squared_error, mean_absolute_error, r2_score"
   ]
  },
  {
   "cell_type": "code",
   "execution_count": 7,
   "id": "1842733a",
   "metadata": {},
   "outputs": [],
   "source": [
    "# Entries where FR is swinging\n",
    "idxs = np.where(X_motion[:, 22] == 1)[0]\n",
    "X_motion_FR_swinging = X_motion[idxs]\n",
    "Y_motion_FR_swinging = Y_motion[idxs]"
   ]
  },
  {
   "cell_type": "markdown",
   "id": "e6d1074d",
   "metadata": {},
   "source": [
    "## Predict FR foot -> x"
   ]
  },
  {
   "cell_type": "code",
   "execution_count": 8,
   "id": "3e4be29f",
   "metadata": {},
   "outputs": [
    {
     "data": {
      "text/plain": [
       "array([ 0.00000000e+00,  0.00000000e+00,  0.00000000e+00, -1.71802564e-02,\n",
       "       -6.32287577e-04,  9.14495711e-03, -1.35179068e-04,  1.55370941e-03,\n",
       "       -2.33552539e-03,  1.06805214e+02,  8.66421606e-02,  2.64182469e-02,\n",
       "        1.06808211e+02, -1.92459331e-01,  2.64378912e-02,  1.06327835e+02,\n",
       "        8.62278498e-02,  2.64315821e-02,  1.06325134e+02, -1.93213415e-01,\n",
       "        2.64516712e-02,  0.00000000e+00,  1.00000000e+00,  1.00000000e+00,\n",
       "        0.00000000e+00,  0.00000000e+00,  0.00000000e+00,  0.00000000e+00])"
      ]
     },
     "execution_count": 8,
     "metadata": {},
     "output_type": "execute_result"
    }
   ],
   "source": [
    "X_motion_FR_swinging[0, :]"
   ]
  },
  {
   "cell_type": "code",
   "execution_count": 9,
   "id": "ae5793b4",
   "metadata": {},
   "outputs": [
    {
     "data": {
      "text/plain": [
       "array([-0.00740647, -0.01888334, -0.00686052,  0.016514  ])"
      ]
     },
     "execution_count": 9,
     "metadata": {},
     "output_type": "execute_result"
    }
   ],
   "source": [
    "Y_motion_FR_swinging[0, :]"
   ]
  },
  {
   "cell_type": "markdown",
   "id": "8a787a4a",
   "metadata": {},
   "source": [
    "### Linear Regression"
   ]
  },
  {
   "cell_type": "code",
   "execution_count": 10,
   "id": "6792a4a8",
   "metadata": {},
   "outputs": [
    {
     "name": "stdout",
     "output_type": "stream",
     "text": [
      "R2:  0.9809768997434022\n",
      "RMSE:  0.01136037533582274\n",
      "The lowest error is:  9.91618928330995e-07\n",
      "The highest error is:  0.08214056358734548\n",
      "The avg. error is:  0.008180473906969282\n"
     ]
    }
   ],
   "source": [
    "# Input\n",
    "X = np.hstack((X_motion_FR_swinging[:, :3], # prev velocity command\n",
    "               X_motion_FR_swinging[:, -3:], # commanded velocity command\n",
    "               X_motion_FR_swinging[:, 9:11], # FL (x,y) position\n",
    "               X_motion_FR_swinging[:, 12:14], # FR (x,y) position\n",
    "               X_motion_FR_swinging[:, 15:17], # RL (x,y) position\n",
    "               X_motion_FR_swinging[:, 18:20])) # RR (x,y) position\n",
    "\n",
    "# Target\n",
    "Y = np.array([Y_motion_FR_swinging[:, 0]]).T\n",
    "\n",
    "assert Y.shape[0] == X.shape[0]\n",
    "\n",
    "# Split data into train and test set\n",
    "X_train, X_test, Y_train, Y_test = train_test_split(X, Y, train_size = 0.8, shuffle=True, random_state=100)\n",
    "\n",
    "# Create the model\n",
    "model_fr_relative_swinging_x = LinearRegression()\n",
    "\n",
    "# Fit the model\n",
    "model_fr_relative_swinging_x.fit(X_train, Y_train)\n",
    "\n",
    "# Predict\n",
    "predictions = model_fr_relative_swinging_x.predict(X_test)\n",
    "\n",
    "# Stats\n",
    "print('R2: ', r2_score(predictions, Y_test))\n",
    "print('RMSE: ', np.sqrt(mean_squared_error(Y_test, predictions)))\n",
    "print(\"The lowest error is: \", np.min(np.abs(predictions - Y_test)))\n",
    "print(\"The highest error is: \", np.max(np.abs(predictions - Y_test)))\n",
    "print(\"The avg. error is: \", np.mean(np.abs(predictions - Y_test)))\n",
    "#print(\"Seq of errors (descendant): \\n\", sorted(np.abs(predictions - Y_test).tolist(), reverse=True))"
   ]
  },
  {
   "cell_type": "code",
   "execution_count": 11,
   "id": "f7a76822",
   "metadata": {},
   "outputs": [
    {
     "data": {
      "text/plain": [
       "array([[-3.97652821e-02, -9.83015301e-03,  2.51965977e-02,\n",
       "         2.11229429e-01, -3.91925928e-02,  7.02450056e-03,\n",
       "         5.28612914e-01, -1.09043022e-01, -4.48661288e-01,\n",
       "         2.06748049e-01, -3.90183751e-01,  1.68823627e-04,\n",
       "         3.10223122e-01, -9.79540485e-02]])"
      ]
     },
     "execution_count": 11,
     "metadata": {},
     "output_type": "execute_result"
    }
   ],
   "source": [
    "model_fr_relative_swinging_x.coef_"
   ]
  },
  {
   "cell_type": "code",
   "execution_count": 12,
   "id": "2d8f4ae0",
   "metadata": {},
   "outputs": [
    {
     "data": {
      "text/plain": [
       "array([-0.00523026])"
      ]
     },
     "execution_count": 12,
     "metadata": {},
     "output_type": "execute_result"
    }
   ],
   "source": [
    "model_fr_relative_swinging_x.intercept_"
   ]
  },
  {
   "cell_type": "code",
   "execution_count": 13,
   "id": "335be52d",
   "metadata": {},
   "outputs": [
    {
     "data": {
      "text/plain": [
       "Text(0, 0.5, 'Predictions')"
      ]
     },
     "execution_count": 13,
     "metadata": {},
     "output_type": "execute_result"
    },
    {
     "data": {
      "image/png": "[encoded data removed]",
      "text/plain": [
       "<Figure size 432x288 with 1 Axes>"
      ]
     },
     "metadata": {
      "needs_background": "light"
     },
     "output_type": "display_data"
    }
   ],
   "source": [
    "## The line / model\n",
    "plt.scatter(Y_test, predictions)\n",
    "plt.xlabel(\"Ground truth\")\n",
    "plt.ylabel(\"Predictions\")"
   ]
  },
  {
   "cell_type": "code",
   "execution_count": 14,
   "id": "0482f063",
   "metadata": {},
   "outputs": [],
   "source": [
    "#%store model_fr_relative_swinging_x"
   ]
  },
  {
   "cell_type": "code",
   "execution_count": 15,
   "id": "f80bb7c4",
   "metadata": {},
   "outputs": [],
   "source": [
    "#for idx, prediction in enumerate(predictions):\n",
    "#    print(f'Start: {X_test[idx, 6]}. Groundtruth: {Y_test[idx]}. Predicted: {prediction}')"
   ]
  },
  {
   "cell_type": "code",
   "execution_count": 16,
   "id": "617d5973",
   "metadata": {},
   "outputs": [],
   "source": [
    "# Save model\n",
    "#joblib.dump(model_fr_relative_swinging_x, \"/home/itaouil/workspace/aliengo_ws/src/aliengo_navigation/models/protocol3/relative/model_fr_relative_swinging_x.sav\")"
   ]
  },
  {
   "cell_type": "markdown",
   "id": "3c771a39",
   "metadata": {},
   "source": [
    "### Predict FL foot -> y"
   ]
  },
  {
   "cell_type": "code",
   "execution_count": 18,
   "id": "4bd3a717",
   "metadata": {},
   "outputs": [
    {
     "name": "stdout",
     "output_type": "stream",
     "text": [
      "R2:  0.8773337891879349\n",
      "RMSE:  0.016025223513427025\n",
      "The lowest error is:  4.136242479324884e-06\n",
      "The highest error is:  0.16708417386945204\n",
      "The avg. error is:  0.011266713063399282\n"
     ]
    }
   ],
   "source": [
    "# Input\n",
    "X = np.hstack((X_motion_FR_swinging[:, :3], # prev velocity command\n",
    "               X_motion_FR_swinging[:, -3:], # commanded velocity command\n",
    "               X_motion_FR_swinging[:, 9:11], # FL (x,y) position\n",
    "               X_motion_FR_swinging[:, 12:14], # FR (x,y) position\n",
    "               X_motion_FR_swinging[:, 15:17], # RL (x,y) position\n",
    "               X_motion_FR_swinging[:, 18:20])) # RR (x,y) position\n",
    "\n",
    "# Target\n",
    "Y = np.array([Y_motion_FR_swinging[:, 3]]).T\n",
    "\n",
    "assert Y.shape[0] == X.shape[0]\n",
    "\n",
    "# Split data into train and test set\n",
    "X_train, X_test, Y_train, Y_test = train_test_split(X, Y, train_size = 0.8, shuffle=True, random_state=100)\n",
    "\n",
    "# Create the model\n",
    "model_fr_relative_swinging_y = LinearRegression()\n",
    "\n",
    "# Fit the model\n",
    "model_fr_relative_swinging_y.fit(X_train, Y_train)\n",
    "\n",
    "# Predict\n",
    "predictions = model_fr_relative_swinging_y.predict(X_test)\n",
    "\n",
    "# Stats\n",
    "print('R2: ', r2_score(predictions, Y_test))\n",
    "print('RMSE: ', np.sqrt(mean_squared_error(Y_test, predictions)))\n",
    "print(\"The lowest error is: \", np.min(np.abs(predictions - Y_test)))\n",
    "print(\"The highest error is: \", np.max(np.abs(predictions - Y_test)))\n",
    "print(\"The avg. error is: \", np.mean(np.abs(predictions - Y_test)))\n",
    "#print(\"Seq of errors (descendant): \\n\", sorted(np.abs(predictions - Y_test).tolist(), reverse=True))"
   ]
  },
  {
   "cell_type": "code",
   "execution_count": 19,
   "id": "5beea5af",
   "metadata": {},
   "outputs": [
    {
     "data": {
      "text/plain": [
       "array([[ 0.02336593, -0.02594122, -0.03288898, -0.01180073,  0.22048021,\n",
       "        -0.01493796,  0.08161266,  0.50628582, -0.24680032, -0.38043102,\n",
       "         0.10366489, -0.28316007,  0.06152352,  0.15712614]])"
      ]
     },
     "execution_count": 19,
     "metadata": {},
     "output_type": "execute_result"
    }
   ],
   "source": [
    "model_fr_relative_swinging_y.coef_"
   ]
  },
  {
   "cell_type": "code",
   "execution_count": 20,
   "id": "46a31add",
   "metadata": {},
   "outputs": [
    {
     "data": {
      "text/plain": [
       "array([-0.00424478])"
      ]
     },
     "execution_count": 20,
     "metadata": {},
     "output_type": "execute_result"
    }
   ],
   "source": [
    "model_fr_relative_swinging_y.intercept_"
   ]
  },
  {
   "cell_type": "code",
   "execution_count": 21,
   "id": "b4c11779",
   "metadata": {},
   "outputs": [
    {
     "data": {
      "text/plain": [
       "Text(0, 0.5, 'Predictions')"
      ]
     },
     "execution_count": 21,
     "metadata": {},
     "output_type": "execute_result"
    },
    {
     "data": {
      "image/png": "[encoded data removed]",
      "text/plain": [
       "<Figure size 432x288 with 1 Axes>"
      ]
     },
     "metadata": {
      "needs_background": "light"
     },
     "output_type": "display_data"
    }
   ],
   "source": [
    "## The line / model\n",
    "plt.scatter(Y_test, predictions)\n",
    "plt.xlabel(\"Ground truth\")\n",
    "plt.ylabel(\"Predictions\")"
   ]
  },
  {
   "cell_type": "code",
   "execution_count": 22,
   "id": "3c03ebba",
   "metadata": {},
   "outputs": [],
   "source": [
    "#%store model_fr_relative_swinging_y"
   ]
  },
  {
   "cell_type": "code",
   "execution_count": 23,
   "id": "5891168c",
   "metadata": {},
   "outputs": [],
   "source": [
    "#for idx, prediction in enumerate(predictions):\n",
    "#    print(f'Groundtruth: {Y_test[idx]}. Predicted: {prediction}')"
   ]
  },
  {
   "cell_type": "code",
   "execution_count": 37,
   "id": "3e2a2b73",
   "metadata": {},
   "outputs": [],
   "source": [
    "# Save model\n",
    "#joblib.dump(model_fr_relative_swinging_y, \"/home/itaouil/workspace/aliengo_ws/src/aliengo_navigation/models/protocol3/relative/model_fr_relative_swinging_y.sav\")"
   ]
  },
  {
   "cell_type": "code",
   "execution_count": null,
   "id": "434436de",
   "metadata": {},
   "outputs": [],
   "source": []
  }
 ],
 "metadata": {
  "kernelspec": {
   "display_name": "Python 3",
   "language": "python",
   "name": "python3"
  },
  "language_info": {
   "codemirror_mode": {
    "name": "ipython",
    "version": 3
   },
   "file_extension": ".py",
   "mimetype": "text/x-python",
   "name": "python",
   "nbconvert_exporter": "python",
   "pygments_lexer": "ipython3",
   "version": "3.6.12"
  }
 },
 "nbformat": 4,
 "nbformat_minor": 5
}
