{
 "cells": [
  {
   "cell_type": "code",
   "execution_count": 1,
   "id": "54204c39",
   "metadata": {},
   "outputs": [],
   "source": [
    "#!/usr/bin/env python3.6\n",
    "# -*- coding: utf-8 -*-"
   ]
  },
  {
   "cell_type": "code",
   "execution_count": 2,
   "id": "3350df0b",
   "metadata": {},
   "outputs": [],
   "source": [
    "# Imports\n",
    "import sys\n",
    "import joblib\n",
    "import numpy as np\n",
    "from math import atan2\n",
    "from matplotlib import animation\n",
    "from IPython.display import HTML\n",
    "from matplotlib import pyplot as plt\n",
    "import mpl_toolkits.mplot3d.axes3d as p3"
   ]
  },
  {
   "cell_type": "code",
   "execution_count": 3,
   "id": "c1f3424a",
   "metadata": {},
   "outputs": [],
   "source": [
    "#np.random.seed(20)\n",
    "np.set_printoptions(threshold=sys.maxsize)"
   ]
  },
  {
   "cell_type": "code",
   "execution_count": 4,
   "id": "8d330c39",
   "metadata": {},
   "outputs": [],
   "source": [
    "%matplotlib inline"
   ]
  },
  {
   "cell_type": "code",
   "execution_count": 5,
   "id": "2d013c65",
   "metadata": {},
   "outputs": [
    {
     "name": "stdout",
     "output_type": "stream",
     "text": [
      "(18169, 28)\n",
      "(18169, 3)\n"
     ]
    }
   ],
   "source": [
    "%store -r X_motion_CoM_acceleration\n",
    "%store -r Y_motion_CoM_acceleration\n",
    "%store -r X_motion_CoM_continuous\n",
    "%store -r Y_motion_CoM_continuous\n",
    "\n",
    "X_motion_CoM = np.vstack((X_motion_CoM_acceleration, X_motion_CoM_continuous))\n",
    "Y_motion_CoM = np.vstack((Y_motion_CoM_acceleration, Y_motion_CoM_continuous))\n",
    "print(X_motion_CoM.shape)\n",
    "print(Y_motion_CoM.shape)"
   ]
  },
  {
   "cell_type": "code",
   "execution_count": 6,
   "id": "ff26180c",
   "metadata": {},
   "outputs": [
    {
     "data": {
      "text/plain": [
       "array([0.10000000149, 0.0, 0.0, -0.00496986204793, -0.00408022931429,\n",
       "       -0.00109604628434, 0.00122067253564, -0.000711765578059,\n",
       "       -0.00625571855141, 0.200121728837, 0.166996461348, 0.0264265283995,\n",
       "       0.204089168697, -0.174598457706, 0.0264295076605, -0.273436766637,\n",
       "       0.1667372319, 0.0264338022838, -0.277341491648, -0.174495762964,\n",
       "       0.02643734995, True, False, False, True, 0.10000000149, 0.0, 0.0],\n",
       "      dtype=object)"
      ]
     },
     "execution_count": 6,
     "metadata": {},
     "output_type": "execute_result"
    }
   ],
   "source": [
    "X_motion_CoM_continuous[0]"
   ]
  },
  {
   "cell_type": "code",
   "execution_count": 7,
   "id": "2ea08b86",
   "metadata": {},
   "outputs": [
    {
     "data": {
      "text/plain": [
       "array([0.008734794643757763, -0.005649023130472182,\n",
       "       2.5159014796704302e-05], dtype=object)"
      ]
     },
     "execution_count": 7,
     "metadata": {},
     "output_type": "execute_result"
    }
   ],
   "source": [
    "Y_motion_CoM_continuous[0]"
   ]
  },
  {
   "cell_type": "markdown",
   "id": "c6a4efa1",
   "metadata": {},
   "source": [
    "# Multivariate Linear Regression (CoM Prediction)"
   ]
  },
  {
   "cell_type": "code",
   "execution_count": 8,
   "id": "07a96d8a",
   "metadata": {},
   "outputs": [],
   "source": [
    "import sklearn\n",
    "from sklearn import metrics\n",
    "from sklearn.feature_selection import RFE\n",
    "from sklearn.model_selection import KFold\n",
    "from sklearn.linear_model import LinearRegression\n",
    "from sklearn.model_selection import train_test_split\n",
    "from sklearn.preprocessing import PolynomialFeatures \n",
    "from sklearn.model_selection import cross_val_score, cross_val_predict\n",
    "from sklearn.metrics import mean_squared_error, mean_absolute_error, r2_score"
   ]
  },
  {
   "cell_type": "code",
   "execution_count": 9,
   "id": "6cb15afe",
   "metadata": {},
   "outputs": [
    {
     "name": "stdout",
     "output_type": "stream",
     "text": [
      "(9048, 28)\n",
      "(9048, 3)\n"
     ]
    }
   ],
   "source": [
    "idx_fr_rl_swinging = np.where(X_motion_CoM[:, 22] == 1)[0]\n",
    "X_motion_CoM_FR_RL = X_motion_CoM[idx_fr_rl_swinging]\n",
    "Y_motion_CoM_FR_RL = Y_motion_CoM[idx_fr_rl_swinging]\n",
    "print(X_motion_CoM_FR_RL.shape)\n",
    "print(Y_motion_CoM_FR_RL.shape)"
   ]
  },
  {
   "cell_type": "markdown",
   "id": "b34fe23d",
   "metadata": {},
   "source": [
    "## Predict CoM (x) movement"
   ]
  },
  {
   "cell_type": "code",
   "execution_count": 10,
   "id": "55d7618a",
   "metadata": {},
   "outputs": [
    {
     "data": {
      "text/plain": [
       "array([0.10000000149, 0.0, 0.0, -0.000890185791332, -0.00484342625699,\n",
       "       -0.0016179894701, -0.00407560999425, -0.00107515501585,\n",
       "       -0.00510968513852, 106.788537736, 0.10975357348, 0.0264453367638,\n",
       "       106.792137872, -0.219981122143, 0.0264500947938, 106.312148598,\n",
       "       0.108510310608, 0.0264116215657, 106.309447442, -0.219160371546,\n",
       "       0.0264162702676, False, True, True, False, 0.10000000149, 0.0, 0.0],\n",
       "      dtype=object)"
      ]
     },
     "execution_count": 10,
     "metadata": {},
     "output_type": "execute_result"
    }
   ],
   "source": [
    "X_motion_CoM_FR_RL[0, :]"
   ]
  },
  {
   "cell_type": "code",
   "execution_count": 11,
   "id": "99666bbe",
   "metadata": {},
   "outputs": [
    {
     "data": {
      "text/plain": [
       "array([0.008710594356770684, -0.005823853354034292,\n",
       "       0.00010580817889640592], dtype=object)"
      ]
     },
     "execution_count": 11,
     "metadata": {},
     "output_type": "execute_result"
    }
   ],
   "source": [
    "Y_motion_CoM_FR_RL[0, :]"
   ]
  },
  {
   "cell_type": "markdown",
   "id": "9b80ed20",
   "metadata": {},
   "source": [
    "### Linear Regression"
   ]
  },
  {
   "cell_type": "code",
   "execution_count": 76,
   "id": "34f15b81",
   "metadata": {},
   "outputs": [
    {
     "name": "stdout",
     "output_type": "stream",
     "text": [
      "R2:  0.9571480269713527\n",
      "RMSE:  0.00908353284339303\n",
      "The lowest error is:  1.6972547605270671e-06\n",
      "The highest error is:  0.0488734505116441\n",
      "The avg. error is:  0.005592722404378275\n"
     ]
    }
   ],
   "source": [
    "# Input\n",
    "X = np.hstack((X_motion_CoM_FR_RL[:, :3], # motion command\n",
    "               X_motion_CoM_FR_RL[:, -3:], # motion command\n",
    "               X_motion_CoM_FR_RL[:, 9:11], # FL (x,y) position\n",
    "               X_motion_CoM_FR_RL[:, 12:14], # FR (x,y) position\n",
    "               X_motion_CoM_FR_RL[:, 15:17], # RL (x,y) position\n",
    "               X_motion_CoM_FR_RL[:, 18:20]))\n",
    "               \n",
    "# Labels\n",
    "Y = np.array([Y_motion_CoM_FR_RL[:, 0]]).T\n",
    "\n",
    "assert Y.shape[0] == X.shape[0]\n",
    "\n",
    "# Split data into train and test set\n",
    "X_train, X_test, Y_train, Y_test = train_test_split(X, Y, train_size = 0.9, shuffle=True, random_state=100)\n",
    "\n",
    "# Create the model\n",
    "model_fr_com_x = LinearRegression()\n",
    "\n",
    "# Fit the model\n",
    "model_fr_com_x.fit(X_train, Y_train)\n",
    "\n",
    "# Predict\n",
    "predictions = model_fr_com_x.predict(X_test)\n",
    "\n",
    "# Stats\n",
    "print('R2: ', r2_score(predictions, Y_test))\n",
    "print('RMSE: ', np.sqrt(mean_squared_error(Y_test, predictions)))\n",
    "print(\"The lowest error is: \", np.min(np.abs(predictions - Y_test)))\n",
    "print(\"The highest error is: \", np.max(np.abs(predictions - Y_test)))\n",
    "print(\"The avg. error is: \", np.mean(np.abs(predictions - Y_test)))\n",
    "#print(\"Seq of errors (descendant): \\n\", sorted(np.abs(predictions - Y_test).tolist(), reverse=True))"
   ]
  },
  {
   "cell_type": "code",
   "execution_count": 77,
   "id": "42c97883",
   "metadata": {},
   "outputs": [
    {
     "data": {
      "text/plain": [
       "array([[ 0.02796967,  0.024182  ,  0.00068058,  0.11790178, -0.0290885 ,\n",
       "        -0.00077581, -0.0443757 , -0.10942164,  0.08139676,  0.07498781,\n",
       "        -0.0055743 ,  0.06217922, -0.03144605, -0.02771618]])"
      ]
     },
     "execution_count": 77,
     "metadata": {},
     "output_type": "execute_result"
    }
   ],
   "source": [
    "model_fr_com_x.coef_"
   ]
  },
  {
   "cell_type": "code",
   "execution_count": 78,
   "id": "c55a5ad6",
   "metadata": {},
   "outputs": [
    {
     "data": {
      "text/plain": [
       "array([-0.00319576])"
      ]
     },
     "execution_count": 78,
     "metadata": {},
     "output_type": "execute_result"
    }
   ],
   "source": [
    "model_fr_com_x.intercept_"
   ]
  },
  {
   "cell_type": "code",
   "execution_count": 45,
   "id": "2a99a052",
   "metadata": {},
   "outputs": [
    {
     "name": "stdout",
     "output_type": "stream",
     "text": [
      "[[0.00706085]]\n"
     ]
    }
   ],
   "source": [
    "input_ = np.array([[0.0,0.0,0.0,0.1,0.0,0.0, 0.237936324231, 0.188065700274, 0.234281409653, -0.171743092874, -0.249921495098, 0.161507381121, -0.259071586366, -0.138188475913]])\n",
    "output = input_ @ model_fr_com_x.coef_.T + model_fr_com_x.intercept_\n",
    "print(output)"
   ]
  },
  {
   "cell_type": "code",
   "execution_count": 46,
   "id": "4cb97bb8",
   "metadata": {},
   "outputs": [
    {
     "data": {
      "text/plain": [
       "Text(0, 0.5, 'Predictions')"
      ]
     },
     "execution_count": 46,
     "metadata": {},
     "output_type": "execute_result"
    },
    {
     "data": {
      "image/png": "[encoded data removed]",
      "text/plain": [
       "<Figure size 432x288 with 1 Axes>"
      ]
     },
     "metadata": {
      "needs_background": "light"
     },
     "output_type": "display_data"
    }
   ],
   "source": [
    "## The line / model\n",
    "plt.scatter(Y_test, predictions)\n",
    "plt.xlabel(\"Groundtruth\")\n",
    "plt.ylabel(\"Predictions\")"
   ]
  },
  {
   "cell_type": "code",
   "execution_count": 47,
   "id": "f3ca827b",
   "metadata": {},
   "outputs": [],
   "source": [
    "#%store model_fr_com_x"
   ]
  },
  {
   "cell_type": "code",
   "execution_count": 48,
   "id": "39d8719d",
   "metadata": {},
   "outputs": [],
   "source": [
    "#for idx, prediction in enumerate(predictions):\n",
    "#    print(f'Command: {X_test[idx, :3]}. Groundtruth: {Y_test[idx]}. Predicted: {prediction}')"
   ]
  },
  {
   "cell_type": "code",
   "execution_count": 49,
   "id": "bf9ed663",
   "metadata": {},
   "outputs": [],
   "source": [
    "# Save model\n",
    "#joblib.dump(model_fr_com_x, \"/home/itaouil/workspace/aliengo_ws/src/aliengo_navigation/models/protocol3/model_fr_com_x.sav\")"
   ]
  },
  {
   "cell_type": "markdown",
   "id": "850df5cb",
   "metadata": {},
   "source": [
    "## Predict CoM -> y"
   ]
  },
  {
   "cell_type": "markdown",
   "id": "e19cb14e",
   "metadata": {},
   "source": [
    "### Linear Regression"
   ]
  },
  {
   "cell_type": "code",
   "execution_count": 50,
   "id": "0de251fb",
   "metadata": {},
   "outputs": [
    {
     "name": "stdout",
     "output_type": "stream",
     "text": [
      "R2:  0.9188690504909617\n",
      "RMSE:  0.008347083339618309\n",
      "The lowest error is:  1.720861675492437e-06\n",
      "The highest error is:  0.09165161405770296\n",
      "The avg. error is:  0.005075455705876333\n"
     ]
    }
   ],
   "source": [
    "# Input\n",
    "X = np.hstack((X_motion_CoM_FR_RL[:, :3], # motion command\n",
    "               X_motion_CoM_FR_RL[:, -3:], # motion command\n",
    "               X_motion_CoM_FR_RL[:, 9:11], # FL (x,y) position\n",
    "               X_motion_CoM_FR_RL[:, 12:14], # FR (x,y) position\n",
    "               X_motion_CoM_FR_RL[:, 15:17], # RL (x,y) position\n",
    "               X_motion_CoM_FR_RL[:, 18:20]))\n",
    "\n",
    "# Labels\n",
    "Y = np.array([Y_motion_CoM_FR_RL[:, 1]]).T\n",
    "\n",
    "assert Y.shape[0] == X.shape[0]\n",
    "\n",
    "# Split data into train and test set\n",
    "X_train, X_test, Y_train, Y_test = train_test_split(X, Y, train_size = 0.8, shuffle=True, random_state=100)\n",
    "\n",
    "# Create the model\n",
    "model_fr_com_y = LinearRegression()\n",
    "\n",
    "# Fit the model\n",
    "model_fr_com_y.fit(X_train, Y_train)\n",
    "\n",
    "# Predict\n",
    "predictions = model_fr_com_y.predict(X_test)\n",
    "\n",
    "# Stats\n",
    "print('R2: ', r2_score(predictions, Y_test))\n",
    "print('RMSE: ', np.sqrt(mean_squared_error(Y_test, predictions)))\n",
    "print(\"The lowest error is: \", np.min(np.abs(predictions - Y_test)))\n",
    "print(\"The highest error is: \", np.max(np.abs(predictions - Y_test)))\n",
    "print(\"The avg. error is: \", np.mean(np.abs(predictions - Y_test)))\n",
    "#print(\"Seq of errors (descendant): \\n\", sorted(np.abs(predictions - Y_test).tolist(), reverse=True))"
   ]
  },
  {
   "cell_type": "code",
   "execution_count": 51,
   "id": "5ddde884",
   "metadata": {},
   "outputs": [
    {
     "data": {
      "text/plain": [
       "array([[ 0.0316049 ,  0.02016423,  0.00060737, -0.02965458,  0.14840231,\n",
       "        -0.00021702, -0.10546343,  0.00664393,  0.07031531, -0.01054266,\n",
       "         0.10000394,  0.04083131, -0.06486641, -0.03691823]])"
      ]
     },
     "execution_count": 51,
     "metadata": {},
     "output_type": "execute_result"
    }
   ],
   "source": [
    "model_fr_com_y.coef_"
   ]
  },
  {
   "cell_type": "code",
   "execution_count": 52,
   "id": "ceb705cd",
   "metadata": {},
   "outputs": [
    {
     "data": {
      "text/plain": [
       "array([-3.7114816e-05])"
      ]
     },
     "execution_count": 52,
     "metadata": {},
     "output_type": "execute_result"
    }
   ],
   "source": [
    "model_fr_com_y.intercept_"
   ]
  },
  {
   "cell_type": "code",
   "execution_count": 53,
   "id": "aa562b79",
   "metadata": {},
   "outputs": [
    {
     "data": {
      "text/plain": [
       "Text(0, 0.5, 'Predictions')"
      ]
     },
     "execution_count": 53,
     "metadata": {},
     "output_type": "execute_result"
    },
    {
     "data": {
      "image/png": "[encoded data removed]",
      "text/plain": [
       "<Figure size 432x288 with 1 Axes>"
      ]
     },
     "metadata": {
      "needs_background": "light"
     },
     "output_type": "display_data"
    }
   ],
   "source": [
    "## The line / model\n",
    "plt.scatter(Y_test, predictions)\n",
    "plt.xlabel(\"Groundtruth\")\n",
    "plt.ylabel(\"Predictions\")"
   ]
  },
  {
   "cell_type": "code",
   "execution_count": 54,
   "id": "b78877c6",
   "metadata": {},
   "outputs": [],
   "source": [
    "#%store model_fr_com_y"
   ]
  },
  {
   "cell_type": "code",
   "execution_count": 55,
   "id": "599433b7",
   "metadata": {},
   "outputs": [],
   "source": [
    "#for idx, prediction in enumerate(predictions):\n",
    "#    print(f'Groundtruth: {Y_test[idx]}. Predicted: {prediction}')"
   ]
  },
  {
   "cell_type": "code",
   "execution_count": 56,
   "id": "62a4a326",
   "metadata": {},
   "outputs": [],
   "source": [
    "# Save model\n",
    "#joblib.dump(model_fr_com_y, \"/home/itaouil/workspace/aliengo_ws/src/aliengo_navigation/models/protocol3/model_fr_com_y.sav\")"
   ]
  },
  {
   "cell_type": "markdown",
   "id": "d526f90f",
   "metadata": {},
   "source": [
    "## Predict CoM -> Yaw"
   ]
  },
  {
   "cell_type": "code",
   "execution_count": 61,
   "id": "ba4626a4",
   "metadata": {},
   "outputs": [
    {
     "name": "stdout",
     "output_type": "stream",
     "text": [
      "R2:  0.9344307722624985\n",
      "RMSE:  0.006078763492400729\n",
      "The lowest error is:  4.0131859732508816e-07\n",
      "The highest error is:  0.1504286885196181\n",
      "The avg. error is:  0.0016806973836228382\n"
     ]
    }
   ],
   "source": [
    "# Input\n",
    "X = np.hstack((X_motion_CoM_FR_RL[:, :3], # motion command\n",
    "               X_motion_CoM_FR_RL[:, -3:], # Current motion command\n",
    "               X_motion_CoM_FR_RL[:, 9:11], # FL (x,y) position\n",
    "               X_motion_CoM_FR_RL[:, 12:14], # FR (x,y) position\n",
    "               X_motion_CoM_FR_RL[:, 15:17], # RL (x,y) position\n",
    "               X_motion_CoM_FR_RL[:, 18:20])) \n",
    "\n",
    "# Labels\n",
    "Y = np.array([Y_motion_CoM_FR_RL[:, 2]]).T\n",
    "\n",
    "assert Y.shape[0] == X.shape[0]\n",
    "\n",
    "# Split data into train and test set\n",
    "X_train, X_test, Y_train, Y_test = train_test_split(X, Y, train_size = 0.8, shuffle=True, random_state=100)\n",
    "\n",
    "# Create the model\n",
    "model_fl_com_theta = LinearRegression()\n",
    "\n",
    "# Fit the model\n",
    "model_fl_com_theta.fit(X_train, Y_train)\n",
    "\n",
    "# Predict\n",
    "predictions = model_fl_com_theta.predict(X_test)\n",
    "\n",
    "# Stats\n",
    "print('R2: ', r2_score(predictions, Y_test))\n",
    "print('RMSE: ', np.sqrt(mean_squared_error(Y_test, predictions)))\n",
    "print(\"The lowest error is: \", np.min(np.abs(predictions - Y_test)))\n",
    "print(\"The highest error is: \", np.max(np.abs(predictions - Y_test)))\n",
    "print(\"The avg. error is: \", np.mean(np.abs(predictions - Y_test)))\n",
    "#print(\"Seq of errors (descendant): \\n\", sorted(np.abs(predictions - Y_test).tolist(), reverse=True))"
   ]
  },
  {
   "cell_type": "code",
   "execution_count": 62,
   "id": "0c3656a8",
   "metadata": {},
   "outputs": [
    {
     "data": {
      "text/plain": [
       "array([[-0.00223515,  0.00241875,  0.10491453,  0.00301203, -0.00138445,\n",
       "         0.03028244, -0.01196371, -0.00544019,  0.02164832, -0.00214386,\n",
       "         0.00095218, -0.00818043, -0.01063611,  0.01576387]])"
      ]
     },
     "execution_count": 62,
     "metadata": {},
     "output_type": "execute_result"
    }
   ],
   "source": [
    "model_fl_com_theta.coef_"
   ]
  },
  {
   "cell_type": "code",
   "execution_count": 63,
   "id": "b75f79bc",
   "metadata": {},
   "outputs": [
    {
     "data": {
      "text/plain": [
       "array([-0.00011146])"
      ]
     },
     "execution_count": 63,
     "metadata": {},
     "output_type": "execute_result"
    }
   ],
   "source": [
    "model_fl_com_theta.intercept_"
   ]
  },
  {
   "cell_type": "code",
   "execution_count": 64,
   "id": "124f05f1",
   "metadata": {},
   "outputs": [
    {
     "data": {
      "text/plain": [
       "Text(0, 0.5, 'Predictions')"
      ]
     },
     "execution_count": 64,
     "metadata": {},
     "output_type": "execute_result"
    },
    {
     "data": {
      "image/png": "[encoded data removed]",
      "text/plain": [
       "<Figure size 432x288 with 1 Axes>"
      ]
     },
     "metadata": {
      "needs_background": "light"
     },
     "output_type": "display_data"
    }
   ],
   "source": [
    "## The line / model\n",
    "plt.scatter(Y_test, predictions)\n",
    "plt.xlabel(\"Groundtruth\")\n",
    "plt.ylabel(\"Predictions\")"
   ]
  },
  {
   "cell_type": "code",
   "execution_count": null,
   "id": "d0416afc",
   "metadata": {},
   "outputs": [],
   "source": []
  }
 ],
 "metadata": {
  "kernelspec": {
   "display_name": "Python 3",
   "language": "python",
   "name": "python3"
  },
  "language_info": {
   "codemirror_mode": {
    "name": "ipython",
    "version": 3
   },
   "file_extension": ".py",
   "mimetype": "text/x-python",
   "name": "python",
   "nbconvert_exporter": "python",
   "pygments_lexer": "ipython3",
   "version": "3.6.12"
  }
 },
 "nbformat": 4,
 "nbformat_minor": 5
}
