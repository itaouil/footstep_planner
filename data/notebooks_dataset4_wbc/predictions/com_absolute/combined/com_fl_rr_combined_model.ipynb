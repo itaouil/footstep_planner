{
 "cells": [
  {
   "cell_type": "code",
   "execution_count": 1,
   "id": "13bd12ab",
   "metadata": {},
   "outputs": [],
   "source": [
    "#!/usr/bin/env python3.6\n",
    "# -*- coding: utf-8 -*-"
   ]
  },
  {
   "cell_type": "code",
   "execution_count": 2,
   "id": "a7b3bd3e",
   "metadata": {},
   "outputs": [],
   "source": [
    "# Imports\n",
    "import sys\n",
    "import joblib\n",
    "import numpy as np\n",
    "from math import atan2\n",
    "from matplotlib import animation\n",
    "from IPython.display import HTML\n",
    "from matplotlib import pyplot as plt\n",
    "import mpl_toolkits.mplot3d.axes3d as p3"
   ]
  },
  {
   "cell_type": "code",
   "execution_count": 3,
   "id": "c846ebbd",
   "metadata": {},
   "outputs": [],
   "source": [
    "#np.random.seed(20)\n",
    "np.set_printoptions(threshold=sys.maxsize)"
   ]
  },
  {
   "cell_type": "code",
   "execution_count": 4,
   "id": "d7facd4e",
   "metadata": {},
   "outputs": [],
   "source": [
    "%matplotlib inline"
   ]
  },
  {
   "cell_type": "code",
   "execution_count": 5,
   "id": "96719e62",
   "metadata": {},
   "outputs": [
    {
     "name": "stdout",
     "output_type": "stream",
     "text": [
      "(20061, 28)\n",
      "(20061, 2)\n"
     ]
    }
   ],
   "source": [
    "%store -r X_motion_CoM_acceleration\n",
    "%store -r Y_motion_CoM_acceleration\n",
    "%store -r X_motion_CoM_continuous\n",
    "%store -r Y_motion_CoM_continuous\n",
    "\n",
    "X_motion_CoM = np.vstack((X_motion_CoM_acceleration, X_motion_CoM_continuous))\n",
    "Y_motion_CoM = np.vstack((Y_motion_CoM_acceleration, Y_motion_CoM_continuous))\n",
    "print(X_motion_CoM.shape)\n",
    "print(Y_motion_CoM.shape)"
   ]
  },
  {
   "cell_type": "code",
   "execution_count": 6,
   "id": "1c2c3fbd",
   "metadata": {},
   "outputs": [
    {
     "data": {
      "text/plain": [
       "array([0.0, 0.0, 0.0, -0.031441960856, -0.0136477514252, -0.0127038601305,\n",
       "       -0.00244656498529, 0.00516659590702, 0.014237910934,\n",
       "       -0.0715826028263, -0.398971193528, 0.000248611213881,\n",
       "       -0.399555781735, 0.0179192922017, -0.000367993487606,\n",
       "       0.402828296044, -0.0267053264964, 0.000249471553281,\n",
       "       0.0463155300908, 0.397264323636, -0.000133312153753, True, False,\n",
       "       False, True, 0.0, 0.0, 0.0], dtype=object)"
      ]
     },
     "execution_count": 6,
     "metadata": {},
     "output_type": "execute_result"
    }
   ],
   "source": [
    "X_motion_CoM[0, :]"
   ]
  },
  {
   "cell_type": "markdown",
   "id": "0e225dd5",
   "metadata": {},
   "source": [
    "# Multivariate Linear Regression (Foot prediction)"
   ]
  },
  {
   "cell_type": "code",
   "execution_count": 7,
   "id": "1ee38ac2",
   "metadata": {},
   "outputs": [],
   "source": [
    "import sklearn\n",
    "from sklearn import metrics\n",
    "from sklearn.feature_selection import RFE\n",
    "from sklearn.model_selection import KFold\n",
    "from sklearn.linear_model import LinearRegression\n",
    "from sklearn.model_selection import train_test_split\n",
    "from sklearn.preprocessing import PolynomialFeatures \n",
    "from sklearn.model_selection import cross_val_score, cross_val_predict\n",
    "from sklearn.metrics import mean_squared_error, mean_absolute_error, r2_score"
   ]
  },
  {
   "cell_type": "code",
   "execution_count": 8,
   "id": "8c2c9aeb",
   "metadata": {},
   "outputs": [],
   "source": [
    "# Entries where FL foot is swinging\n",
    "idx_fl_rr_swinging = np.where(X_motion_CoM[:, 21] == 1)[0]\n",
    "X_motion_CoM_FL_RR = X_motion_CoM[idx_fl_rr_swinging]\n",
    "Y_motion_CoM_FL_RR = Y_motion_CoM[idx_fl_rr_swinging]"
   ]
  },
  {
   "cell_type": "code",
   "execution_count": 9,
   "id": "30c20747",
   "metadata": {},
   "outputs": [
    {
     "data": {
      "text/plain": [
       "(10035,)"
      ]
     },
     "execution_count": 9,
     "metadata": {},
     "output_type": "execute_result"
    }
   ],
   "source": [
    "idx_fl_rr_swinging.shape"
   ]
  },
  {
   "cell_type": "markdown",
   "id": "5a0dbce9",
   "metadata": {},
   "source": [
    "## Predict CoM -> x"
   ]
  },
  {
   "cell_type": "code",
   "execution_count": 10,
   "id": "0e7f6ade",
   "metadata": {},
   "outputs": [
    {
     "data": {
      "text/plain": [
       "array([0.0, 0.0, 0.0, -0.031441960856, -0.0136477514252, -0.0127038601305,\n",
       "       -0.00244656498529, 0.00516659590702, 0.014237910934,\n",
       "       -0.0715826028263, -0.398971193528, 0.000248611213881,\n",
       "       -0.399555781735, 0.0179192922017, -0.000367993487606,\n",
       "       0.402828296044, -0.0267053264964, 0.000249471553281,\n",
       "       0.0463155300908, 0.397264323636, -0.000133312153753, True, False,\n",
       "       False, True, 0.0, 0.0, 0.0], dtype=object)"
      ]
     },
     "execution_count": 10,
     "metadata": {},
     "output_type": "execute_result"
    }
   ],
   "source": [
    "X_motion_CoM_FL_RR[0, :]"
   ]
  },
  {
   "cell_type": "code",
   "execution_count": 11,
   "id": "2c9f6dee",
   "metadata": {},
   "outputs": [
    {
     "data": {
      "text/plain": [
       "array([0.009566533575338099, -0.0029288409990329], dtype=object)"
      ]
     },
     "execution_count": 11,
     "metadata": {},
     "output_type": "execute_result"
    }
   ],
   "source": [
    "Y_motion_CoM_FL_RR[0, :]"
   ]
  },
  {
   "cell_type": "markdown",
   "id": "831bb566",
   "metadata": {},
   "source": [
    "### Linear Regression"
   ]
  },
  {
   "cell_type": "code",
   "execution_count": 16,
   "id": "7f607d0f",
   "metadata": {},
   "outputs": [
    {
     "name": "stdout",
     "output_type": "stream",
     "text": [
      "R2:  0.9595331999696659\n",
      "RMSE:  0.008002421511681554\n",
      "The lowest error is:  3.1517707350381396e-06\n",
      "The highest error is:  0.05492988109819154\n",
      "The avg. error is:  0.005589568421320619\n"
     ]
    }
   ],
   "source": [
    "# Input\n",
    "X = np.hstack((X_motion_CoM_FL_RR[:, :3], # Previous motion command\n",
    "               X_motion_CoM_FL_RR[:, -3:], # Current motion command\n",
    "               X_motion_CoM_FL_RR[:, 9:11], # FL (x,y) position\n",
    "               X_motion_CoM_FL_RR[:, 12:14], # FR (x,y) position\n",
    "               X_motion_CoM_FL_RR[:, 15:17], # RL (x,y) position\n",
    "               X_motion_CoM_FL_RR[:, 18:20])) # RR (x, y) position\n",
    "\n",
    "# Labels\n",
    "Y = np.array([Y_motion_CoM_FL_RR[:, 0]]).T\n",
    "\n",
    "assert Y.shape[0] == X.shape[0]\n",
    "\n",
    "# Split data into train and test set\n",
    "X_train, X_test, Y_train, Y_test = train_test_split(X, Y, train_size = 0.8, shuffle=True, random_state=100)\n",
    "\n",
    "# Create the model\n",
    "model_fl_com_x = LinearRegression()\n",
    "\n",
    "# Fit the model\n",
    "model_fl_com_x.fit(X_train, Y_train)\n",
    "\n",
    "# Predict\n",
    "predictions = model_fl_com_x.predict(X_test)\n",
    "\n",
    "# Stats\n",
    "print('R2: ', r2_score(predictions, Y_test))\n",
    "print('RMSE: ', np.sqrt(mean_squared_error(Y_test, predictions)))\n",
    "print(\"The lowest error is: \", np.min(np.abs(predictions - Y_test)))\n",
    "print(\"The highest error is: \", np.max(np.abs(predictions - Y_test)))\n",
    "print(\"The avg. error is: \", np.mean(np.abs(predictions - Y_test)))\n",
    "#print(\"Seq of errors (descendant): \\n\", sorted(np.abs(predictions - Y_test).tolist(), reverse=True))"
   ]
  },
  {
   "cell_type": "code",
   "execution_count": 17,
   "id": "a1ff73a7",
   "metadata": {},
   "outputs": [
    {
     "data": {
      "text/plain": [
       "array([[-0.00118848,  0.00476276, -0.00575461,  0.13961594,  0.01091284,\n",
       "        -0.00196097, -0.18913551,  0.15876759, -0.08021554,  0.19394194,\n",
       "        -0.08546236,  0.30269309, -0.0932808 ,  0.16249433]])"
      ]
     },
     "execution_count": 17,
     "metadata": {},
     "output_type": "execute_result"
    }
   ],
   "source": [
    "model_fl_com_x.coef_"
   ]
  },
  {
   "cell_type": "code",
   "execution_count": 18,
   "id": "6d4985a1",
   "metadata": {},
   "outputs": [
    {
     "data": {
      "text/plain": [
       "array([0.00825741])"
      ]
     },
     "execution_count": 18,
     "metadata": {},
     "output_type": "execute_result"
    }
   ],
   "source": [
    "model_fl_com_x.intercept_"
   ]
  },
  {
   "cell_type": "code",
   "execution_count": 19,
   "id": "9881d48f",
   "metadata": {},
   "outputs": [
    {
     "data": {
      "text/plain": [
       "array([[0.01455544]])"
      ]
     },
     "execution_count": 19,
     "metadata": {},
     "output_type": "execute_result"
    }
   ],
   "source": [
    "input_ = np.array([[0.0,0.0,0.0,0.1,0.0,0.0,0.2399, 0.134, 0.2399, -0.134, -0.2399, 0.134, -0.2399, -0.134]])\n",
    "input_ @ model_fl_com_x.coef_.T + model_fl_com_x.intercept_"
   ]
  },
  {
   "cell_type": "code",
   "execution_count": 20,
   "id": "d7054446",
   "metadata": {},
   "outputs": [
    {
     "data": {
      "text/plain": [
       "Text(0, 0.5, 'Predictions')"
      ]
     },
     "execution_count": 20,
     "metadata": {},
     "output_type": "execute_result"
    },
    {
     "data": {
      "image/png": "[encoded data removed]",
      "text/plain": [
       "<Figure size 432x288 with 1 Axes>"
      ]
     },
     "metadata": {
      "needs_background": "light"
     },
     "output_type": "display_data"
    }
   ],
   "source": [
    "## The line / model\n",
    "plt.scatter(Y_test, predictions)\n",
    "plt.xlabel(\"Groundtruth\")\n",
    "plt.ylabel(\"Predictions\")"
   ]
  },
  {
   "cell_type": "code",
   "execution_count": 21,
   "id": "ede1c7e1",
   "metadata": {},
   "outputs": [],
   "source": [
    "#%store model_fl_com_x"
   ]
  },
  {
   "cell_type": "code",
   "execution_count": 22,
   "id": "df5d8914",
   "metadata": {},
   "outputs": [],
   "source": [
    "#for idx, prediction in enumerate(predictions):\n",
    "#    print(f'Groundtruth: {Y_test[idx]}. Predicted: {prediction}')"
   ]
  },
  {
   "cell_type": "code",
   "execution_count": 23,
   "id": "dc0cff05",
   "metadata": {},
   "outputs": [],
   "source": [
    "# Save model\n",
    "#joblib.dump(model_fl_com_x, \"/home/itaouil/workspace/aliengo_ws/src/aliengo_navigation/models/protocol3/model_fl_com_x.sav\")"
   ]
  },
  {
   "cell_type": "markdown",
   "id": "db97286c",
   "metadata": {},
   "source": [
    "## Predict CoM foot -> y"
   ]
  },
  {
   "cell_type": "markdown",
   "id": "3e62e575",
   "metadata": {},
   "source": [
    "### Linear Regression"
   ]
  },
  {
   "cell_type": "code",
   "execution_count": 25,
   "id": "520cba6e",
   "metadata": {},
   "outputs": [
    {
     "name": "stdout",
     "output_type": "stream",
     "text": [
      "R2:  0.9063039630906405\n",
      "RMSE:  0.007654549961684635\n",
      "The lowest error is:  2.337362882189834e-06\n",
      "The highest error is:  0.0620439381647809\n",
      "The avg. error is:  0.005505845067957039\n"
     ]
    }
   ],
   "source": [
    "# Input\n",
    "X = np.hstack((X_motion_CoM_FL_RR[:, :3], # motion command\n",
    "               X_motion_CoM_FL_RR[:, -3:], # Current motion command\n",
    "               X_motion_CoM_FL_RR[:, 9:11], # FL (x,y) position\n",
    "               X_motion_CoM_FL_RR[:, 12:14], # FR (x,y) position\n",
    "               X_motion_CoM_FL_RR[:, 15:17], # RL (x,y) position\n",
    "               X_motion_CoM_FL_RR[:, 18:20])) \n",
    "\n",
    "# Labels\n",
    "Y = np.array([Y_motion_CoM_FL_RR[:, 1]]).T\n",
    "\n",
    "assert Y.shape[0] == X.shape[0]\n",
    "\n",
    "# Split data into train and test set\n",
    "X_train, X_test, Y_train, Y_test = train_test_split(X, Y, train_size = 0.8, shuffle=True, random_state=100)\n",
    "\n",
    "# Create the model\n",
    "model_fl_com_y = LinearRegression()\n",
    "\n",
    "# Fit the model\n",
    "model_fl_com_y.fit(X_train, Y_train)\n",
    "\n",
    "# Predict\n",
    "predictions = model_fl_com_y.predict(X_test)\n",
    "\n",
    "# Stats\n",
    "print('R2: ', r2_score(predictions, Y_test))\n",
    "print('RMSE: ', np.sqrt(mean_squared_error(Y_test, predictions)))\n",
    "print(\"The lowest error is: \", np.min(np.abs(predictions - Y_test)))\n",
    "print(\"The highest error is: \", np.max(np.abs(predictions - Y_test)))\n",
    "print(\"The avg. error is: \", np.mean(np.abs(predictions - Y_test)))\n",
    "#print(\"Seq of errors (descendant): \\n\", sorted(np.abs(predictions - Y_test).tolist(), reverse=True))"
   ]
  },
  {
   "cell_type": "code",
   "execution_count": 26,
   "id": "26802f5a",
   "metadata": {},
   "outputs": [
    {
     "data": {
      "text/plain": [
       "array([[ 0.00176666,  0.00383346, -0.00223724,  0.00324382,  0.15506061,\n",
       "        -0.00033925, -0.01565562, -0.18706853,  0.06250759, -0.07208814,\n",
       "        -0.03400149,  0.03670775,  0.10393649, -0.09758938]])"
      ]
     },
     "execution_count": 26,
     "metadata": {},
     "output_type": "execute_result"
    }
   ],
   "source": [
    "model_fl_com_y.coef_"
   ]
  },
  {
   "cell_type": "code",
   "execution_count": 27,
   "id": "1c8ceaa9",
   "metadata": {},
   "outputs": [
    {
     "data": {
      "text/plain": [
       "array([-0.00280065])"
      ]
     },
     "execution_count": 27,
     "metadata": {},
     "output_type": "execute_result"
    }
   ],
   "source": [
    "model_fl_com_y.intercept_"
   ]
  },
  {
   "cell_type": "code",
   "execution_count": 28,
   "id": "9f310094",
   "metadata": {},
   "outputs": [
    {
     "data": {
      "text/plain": [
       "Text(0, 0.5, 'Predictions')"
      ]
     },
     "execution_count": 28,
     "metadata": {},
     "output_type": "execute_result"
    },
    {
     "data": {
      "image/png": "[encoded data removed]",
      "text/plain": [
       "<Figure size 432x288 with 1 Axes>"
      ]
     },
     "metadata": {
      "needs_background": "light"
     },
     "output_type": "display_data"
    }
   ],
   "source": [
    "## The line / model\n",
    "plt.scatter(Y_test, predictions)\n",
    "plt.xlabel(\"Groundtruth\")\n",
    "plt.ylabel(\"Predictions\")"
   ]
  },
  {
   "cell_type": "code",
   "execution_count": 29,
   "id": "51bc883d",
   "metadata": {},
   "outputs": [],
   "source": [
    "#%store model_fl_com_y"
   ]
  },
  {
   "cell_type": "code",
   "execution_count": 28,
   "id": "7d71f381",
   "metadata": {},
   "outputs": [],
   "source": [
    "#for idx, prediction in enumerate(predictions):\n",
    "#    print(f'Groundtruth: {Y_test[idx]}. Predicted: {prediction}')"
   ]
  },
  {
   "cell_type": "code",
   "execution_count": 29,
   "id": "ff195b07",
   "metadata": {},
   "outputs": [],
   "source": [
    "# Save model\n",
    "#joblib.dump(model_fl_com_y, \"/home/itaouil/workspace/aliengo_ws/src/aliengo_navigation/models/protocol3/model_fl_com_y.sav\")"
   ]
  },
  {
   "cell_type": "code",
   "execution_count": null,
   "id": "2a063722",
   "metadata": {},
   "outputs": [],
   "source": []
  },
  {
   "cell_type": "code",
   "execution_count": null,
   "id": "4ff9576b",
   "metadata": {},
   "outputs": [],
   "source": []
  }
 ],
 "metadata": {
  "kernelspec": {
   "display_name": "Python 3",
   "language": "python",
   "name": "python3"
  },
  "language_info": {
   "codemirror_mode": {
    "name": "ipython",
    "version": 3
   },
   "file_extension": ".py",
   "mimetype": "text/x-python",
   "name": "python",
   "nbconvert_exporter": "python",
   "pygments_lexer": "ipython3",
   "version": "3.6.12"
  }
 },
 "nbformat": 4,
 "nbformat_minor": 5
}
