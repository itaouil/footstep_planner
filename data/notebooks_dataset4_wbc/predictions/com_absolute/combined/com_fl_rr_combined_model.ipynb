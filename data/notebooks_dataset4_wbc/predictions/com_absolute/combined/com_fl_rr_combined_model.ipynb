{
 "cells": [
  {
   "cell_type": "code",
   "execution_count": 1,
   "id": "425c064b",
   "metadata": {},
   "outputs": [],
   "source": [
    "#!/usr/bin/env python3.6\n",
    "# -*- coding: utf-8 -*-"
   ]
  },
  {
   "cell_type": "code",
   "execution_count": 2,
   "id": "47316eb8",
   "metadata": {},
   "outputs": [],
   "source": [
    "# Imports\n",
    "import sys\n",
    "import joblib\n",
    "import numpy as np\n",
    "from math import atan2\n",
    "from matplotlib import animation\n",
    "from IPython.display import HTML\n",
    "from matplotlib import pyplot as plt\n",
    "import mpl_toolkits.mplot3d.axes3d as p3"
   ]
  },
  {
   "cell_type": "code",
   "execution_count": 3,
   "id": "8e97c2dc",
   "metadata": {},
   "outputs": [],
   "source": [
    "#np.random.seed(20)\n",
    "np.set_printoptions(threshold=sys.maxsize)"
   ]
  },
  {
   "cell_type": "code",
   "execution_count": 4,
   "id": "fafc5068",
   "metadata": {},
   "outputs": [],
   "source": [
    "%matplotlib inline"
   ]
  },
  {
   "cell_type": "code",
   "execution_count": 5,
   "id": "17f53e7c",
   "metadata": {},
   "outputs": [
    {
     "name": "stdout",
     "output_type": "stream",
     "text": [
      "(20987, 28)\n",
      "(20987, 3)\n"
     ]
    }
   ],
   "source": [
    "%store -r X_motion_CoM_acceleration\n",
    "%store -r Y_motion_CoM_acceleration\n",
    "%store -r X_motion_CoM_continuous\n",
    "%store -r Y_motion_CoM_continuous\n",
    "\n",
    "X_motion_CoM = np.vstack((X_motion_CoM_acceleration, X_motion_CoM_continuous))\n",
    "Y_motion_CoM = np.vstack((Y_motion_CoM_acceleration, Y_motion_CoM_continuous))\n",
    "print(X_motion_CoM.shape)\n",
    "print(Y_motion_CoM.shape)"
   ]
  },
  {
   "cell_type": "code",
   "execution_count": 6,
   "id": "c93f2b14",
   "metadata": {},
   "outputs": [
    {
     "data": {
      "text/plain": [
       "array([0.10000000149, 0.0, 0.0, -0.000890185791332, -0.00484342625699,\n",
       "       -0.0016179894701, -0.00407560999425, -0.00107515501585,\n",
       "       -0.00510968513852, 0.23051781299999163, 0.1655742714433,\n",
       "       -0.40774758989619997, 0.2341179489999945, -0.1641604241797,\n",
       "       -0.4077428318662, -0.2458713250000102, 0.1643310085713,\n",
       "       -0.4077813050943, -0.24857248099999651, -0.1633396735827,\n",
       "       -0.40777665639239996, False, True, True, False, 0.10000000149, 0.0,\n",
       "       0.0], dtype=object)"
      ]
     },
     "execution_count": 6,
     "metadata": {},
     "output_type": "execute_result"
    }
   ],
   "source": [
    "X_motion_CoM[0, :]"
   ]
  },
  {
   "cell_type": "markdown",
   "id": "b9ecb50e",
   "metadata": {},
   "source": [
    "# Multivariate Linear Regression (Foot prediction)"
   ]
  },
  {
   "cell_type": "code",
   "execution_count": 7,
   "id": "11690be8",
   "metadata": {},
   "outputs": [],
   "source": [
    "import sklearn\n",
    "from sklearn import metrics\n",
    "from sklearn.feature_selection import RFE\n",
    "from sklearn.model_selection import KFold\n",
    "from sklearn.linear_model import LinearRegression\n",
    "from sklearn.model_selection import train_test_split\n",
    "from sklearn.preprocessing import PolynomialFeatures \n",
    "from sklearn.model_selection import cross_val_score, cross_val_predict\n",
    "from sklearn.metrics import mean_squared_error, mean_absolute_error, r2_score"
   ]
  },
  {
   "cell_type": "code",
   "execution_count": 8,
   "id": "db4a2ca6",
   "metadata": {},
   "outputs": [],
   "source": [
    "# Entries where FL foot is swinging\n",
    "idx_fl_rr_swinging = np.where(X_motion_CoM[:, 21] == 1)[0]\n",
    "X_motion_CoM_FL_RR = X_motion_CoM[idx_fl_rr_swinging]\n",
    "Y_motion_CoM_FL_RR = Y_motion_CoM[idx_fl_rr_swinging]"
   ]
  },
  {
   "cell_type": "code",
   "execution_count": 9,
   "id": "1ac0dc67",
   "metadata": {},
   "outputs": [
    {
     "data": {
      "text/plain": [
       "(10648,)"
      ]
     },
     "execution_count": 9,
     "metadata": {},
     "output_type": "execute_result"
    }
   ],
   "source": [
    "idx_fl_rr_swinging.shape"
   ]
  },
  {
   "cell_type": "markdown",
   "id": "9a13b454",
   "metadata": {},
   "source": [
    "## Predict CoM -> x"
   ]
  },
  {
   "cell_type": "code",
   "execution_count": 10,
   "id": "2e0c8428",
   "metadata": {},
   "outputs": [
    {
     "data": {
      "text/plain": [
       "array([[0.2224266859999915, 0.1710351633426],\n",
       "       [0.2281971279999908, 0.1739564089398],\n",
       "       [0.21789033199999608, 0.17867879319590002],\n",
       "       [0.22413275600000304, 0.1788051195195],\n",
       "       [0.22693095500000027, 0.1785953969031],\n",
       "       [0.22885501999999747, 0.1768673318303],\n",
       "       [0.22970366600000602, 0.17621037756309998],\n",
       "       [0.23145718499999646, 0.1775626446602],\n",
       "       [0.22866560199999242, 0.1780413683529],\n",
       "       [0.23152613199999905, 0.1761139880524]], dtype=object)"
      ]
     },
     "execution_count": 10,
     "metadata": {},
     "output_type": "execute_result"
    }
   ],
   "source": [
    "X_motion_CoM_FL_RR[:10, 9:11]"
   ]
  },
  {
   "cell_type": "code",
   "execution_count": 11,
   "id": "f9488025",
   "metadata": {},
   "outputs": [
    {
     "data": {
      "text/plain": [
       "array([0.0069339709574762765, 0.003976454186229522, 7.877599662749484e-05],\n",
       "      dtype=object)"
      ]
     },
     "execution_count": 11,
     "metadata": {},
     "output_type": "execute_result"
    }
   ],
   "source": [
    "Y_motion_CoM_FL_RR[0, :]"
   ]
  },
  {
   "cell_type": "markdown",
   "id": "740ca142",
   "metadata": {},
   "source": [
    "### Linear Regression"
   ]
  },
  {
   "cell_type": "code",
   "execution_count": 14,
   "id": "0d7855c3",
   "metadata": {},
   "outputs": [
    {
     "name": "stdout",
     "output_type": "stream",
     "text": [
      "R2:  0.9713860140954759\n",
      "RMSE:  0.007366553153893626\n",
      "The lowest error is:  9.941538272606465e-07\n",
      "The highest error is:  0.09784512991373373\n",
      "The avg. error is:  0.003702749745407696\n"
     ]
    }
   ],
   "source": [
    "# Input\n",
    "X = np.hstack((X_motion_CoM_FL_RR[:, :3], # Previous motion command\n",
    "               X_motion_CoM_FL_RR[:, -3:], # Current motion command\n",
    "#               X_motion_CoM_FL_RR[:, 3:9],\n",
    "               X_motion_CoM_FL_RR[:, 9:11], # FL (x,y) position\n",
    "               X_motion_CoM_FL_RR[:, 12:14], # FR (x,y) position\n",
    "               X_motion_CoM_FL_RR[:, 15:17], # RL (x,y) position\n",
    "               X_motion_CoM_FL_RR[:, 18:20])) # RR (x, y) position\n",
    "\n",
    "# Labels\n",
    "Y = np.array([Y_motion_CoM_FL_RR[:, 0]]).T\n",
    "\n",
    "assert Y.shape[0] == X.shape[0]\n",
    "\n",
    "# Split data into train and test set\n",
    "X_train, X_test, Y_train, Y_test = train_test_split(X, Y, train_size = 0.8, shuffle=True, random_state=100)\n",
    "\n",
    "# Create the model\n",
    "model_fl_com_x = LinearRegression()\n",
    "\n",
    "# Fit the model\n",
    "model_fl_com_x.fit(X_train, Y_train)\n",
    "\n",
    "# Predict\n",
    "predictions = model_fl_com_x.predict(X_test)\n",
    "\n",
    "# Stats\n",
    "print('R2: ', r2_score(predictions, Y_test))\n",
    "print('RMSE: ', np.sqrt(mean_squared_error(Y_test, predictions)))\n",
    "print(\"The lowest error is: \", np.min(np.abs(predictions - Y_test)))\n",
    "print(\"The highest error is: \", np.max(np.abs(predictions - Y_test)))\n",
    "print(\"The avg. error is: \", np.mean(np.abs(predictions - Y_test)))\n",
    "#print(\"Seq of errors (descendant): \\n\", sorted(np.abs(predictions - Y_test).tolist(), reverse=True))"
   ]
  },
  {
   "cell_type": "code",
   "execution_count": 15,
   "id": "057c389c",
   "metadata": {},
   "outputs": [
    {
     "data": {
      "text/plain": [
       "array([[ 5.46146671e-03, -1.27618040e-02,  1.48893243e-04,\n",
       "         1.19966241e-01,  3.41303022e-02, -2.83100214e-05,\n",
       "         1.79234558e-01, -5.00492537e-02,  1.54384309e-01,\n",
       "        -9.51229442e-03,  1.08994564e-01, -3.91748305e-02,\n",
       "         1.54093096e-01, -8.59588347e-03]])"
      ]
     },
     "execution_count": 15,
     "metadata": {},
     "output_type": "execute_result"
    }
   ],
   "source": [
    "model_fl_com_x.coef_"
   ]
  },
  {
   "cell_type": "code",
   "execution_count": 16,
   "id": "edcd7839",
   "metadata": {},
   "outputs": [
    {
     "data": {
      "text/plain": [
       "array([-0.00371198])"
      ]
     },
     "execution_count": 16,
     "metadata": {},
     "output_type": "execute_result"
    }
   ],
   "source": [
    "model_fl_com_x.intercept_"
   ]
  },
  {
   "cell_type": "code",
   "execution_count": 17,
   "id": "27d6aa4d",
   "metadata": {},
   "outputs": [
    {
     "data": {
      "text/plain": [
       "array([[0.01567555]])"
      ]
     },
     "execution_count": 17,
     "metadata": {},
     "output_type": "execute_result"
    }
   ],
   "source": [
    "input_ = np.array([[0.0,0.0,0.0,0.1,0.0,0.0,0.2399, 0.134, 0.2399, -0.134, -0.2399, 0.134, -0.2399, -0.134]])\n",
    "input_ @ model_fl_com_x.coef_.T + model_fl_com_x.intercept_"
   ]
  },
  {
   "cell_type": "code",
   "execution_count": 18,
   "id": "c39ddf04",
   "metadata": {},
   "outputs": [
    {
     "data": {
      "text/plain": [
       "Text(0, 0.5, 'Predictions')"
      ]
     },
     "execution_count": 18,
     "metadata": {},
     "output_type": "execute_result"
    },
    {
     "data": {
      "image/png": "[encoded data removed]",
      "text/plain": [
       "<Figure size 432x288 with 1 Axes>"
      ]
     },
     "metadata": {
      "needs_background": "light"
     },
     "output_type": "display_data"
    }
   ],
   "source": [
    "## The line / model\n",
    "plt.scatter(Y_test, predictions)\n",
    "plt.xlabel(\"Groundtruth\")\n",
    "plt.ylabel(\"Predictions\")"
   ]
  },
  {
   "cell_type": "code",
   "execution_count": 19,
   "id": "28c55dfb",
   "metadata": {},
   "outputs": [],
   "source": [
    "#%store model_fl_com_x"
   ]
  },
  {
   "cell_type": "code",
   "execution_count": 20,
   "id": "16e41128",
   "metadata": {},
   "outputs": [],
   "source": [
    "#for idx, prediction in enumerate(predictions):\n",
    "#    print(f'Groundtruth: {Y_test[idx]}. Predicted: {prediction}')"
   ]
  },
  {
   "cell_type": "code",
   "execution_count": 21,
   "id": "53303d99",
   "metadata": {},
   "outputs": [],
   "source": [
    "# Save model\n",
    "#joblib.dump(model_fl_com_x, \"/home/itaouil/workspace/aliengo_ws/src/aliengo_navigation/models/protocol3/model_fl_com_x.sav\")"
   ]
  },
  {
   "cell_type": "markdown",
   "id": "efb92ae9",
   "metadata": {},
   "source": [
    "## Predict CoM -> y"
   ]
  },
  {
   "cell_type": "markdown",
   "id": "9d1895c5",
   "metadata": {},
   "source": [
    "### Linear Regression"
   ]
  },
  {
   "cell_type": "code",
   "execution_count": 22,
   "id": "048d77f5",
   "metadata": {},
   "outputs": [
    {
     "name": "stdout",
     "output_type": "stream",
     "text": [
      "R2:  0.9649959634742626\n",
      "RMSE:  0.007671293913140557\n",
      "The lowest error is:  2.9043328372401617e-07\n",
      "The highest error is:  0.13986714968999733\n",
      "The avg. error is:  0.003699261917066132\n"
     ]
    }
   ],
   "source": [
    "# Input\n",
    "X = np.hstack((X_motion_CoM_FL_RR[:, :3], # motion command\n",
    "               X_motion_CoM_FL_RR[:, -3:], # Current motion command\n",
    "#               X_motion_CoM_FL_RR[:, 3:9],\n",
    "               X_motion_CoM_FL_RR[:, 9:11], # FL (x,y) position\n",
    "               X_motion_CoM_FL_RR[:, 12:14], # FR (x,y) position\n",
    "               X_motion_CoM_FL_RR[:, 15:17], # RL (x,y) position\n",
    "               X_motion_CoM_FL_RR[:, 18:20])) \n",
    "\n",
    "# Labels\n",
    "Y = np.array([Y_motion_CoM_FL_RR[:, 1]]).T\n",
    "\n",
    "assert Y.shape[0] == X.shape[0]\n",
    "\n",
    "# Split data into train and test set\n",
    "X_train, X_test, Y_train, Y_test = train_test_split(X, Y, train_size = 0.8, shuffle=True, random_state=100)\n",
    "\n",
    "# Create the model\n",
    "model_fl_com_y = LinearRegression()\n",
    "\n",
    "# Fit the model\n",
    "model_fl_com_y.fit(X_train, Y_train)\n",
    "\n",
    "# Predict\n",
    "predictions = model_fl_com_y.predict(X_test)\n",
    "\n",
    "# Stats\n",
    "print('R2: ', r2_score(predictions, Y_test))\n",
    "print('RMSE: ', np.sqrt(mean_squared_error(Y_test, predictions)))\n",
    "print(\"The lowest error is: \", np.min(np.abs(predictions - Y_test)))\n",
    "print(\"The highest error is: \", np.max(np.abs(predictions - Y_test)))\n",
    "print(\"The avg. error is: \", np.mean(np.abs(predictions - Y_test)))\n",
    "#print(\"Seq of errors (descendant): \\n\", sorted(np.abs(predictions - Y_test).tolist(), reverse=True))"
   ]
  },
  {
   "cell_type": "code",
   "execution_count": 23,
   "id": "56c95bd7",
   "metadata": {},
   "outputs": [
    {
     "data": {
      "text/plain": [
       "array([[-1.86944153e-02,  1.39895138e-02, -1.02943929e-04,\n",
       "         3.28420020e-02,  1.51798403e-01, -3.46083528e-04,\n",
       "         4.56170763e-02,  1.94637776e-01,  2.13227006e-02,\n",
       "         7.24630542e-02,  3.49768962e-03,  3.62617138e-02,\n",
       "         2.51241432e-02,  2.16634793e-01]])"
      ]
     },
     "execution_count": 23,
     "metadata": {},
     "output_type": "execute_result"
    }
   ],
   "source": [
    "model_fl_com_y.coef_"
   ]
  },
  {
   "cell_type": "code",
   "execution_count": 24,
   "id": "dba0abca",
   "metadata": {},
   "outputs": [
    {
     "data": {
      "text/plain": [
       "array([0.00170945])"
      ]
     },
     "execution_count": 24,
     "metadata": {},
     "output_type": "execute_result"
    }
   ],
   "source": [
    "model_fl_com_y.intercept_"
   ]
  },
  {
   "cell_type": "code",
   "execution_count": 25,
   "id": "d2f0c857",
   "metadata": {},
   "outputs": [
    {
     "data": {
      "text/plain": [
       "Text(0, 0.5, 'Predictions')"
      ]
     },
     "execution_count": 25,
     "metadata": {},
     "output_type": "execute_result"
    },
    {
     "data": {
      "image/png": "[encoded data removed]",
      "text/plain": [
       "<Figure size 432x288 with 1 Axes>"
      ]
     },
     "metadata": {
      "needs_background": "light"
     },
     "output_type": "display_data"
    }
   ],
   "source": [
    "## The line / model\n",
    "plt.scatter(Y_test, predictions)\n",
    "plt.xlabel(\"Groundtruth\")\n",
    "plt.ylabel(\"Predictions\")"
   ]
  },
  {
   "cell_type": "code",
   "execution_count": 25,
   "id": "442a1e85",
   "metadata": {},
   "outputs": [],
   "source": [
    "#%store model_fl_com_y"
   ]
  },
  {
   "cell_type": "code",
   "execution_count": 26,
   "id": "3fc8716e",
   "metadata": {},
   "outputs": [],
   "source": [
    "#for idx, prediction in enumerate(predictions):\n",
    "#    print(f'Groundtruth: {Y_test[idx]}. Predicted: {prediction}')"
   ]
  },
  {
   "cell_type": "code",
   "execution_count": 27,
   "id": "f8af3f14",
   "metadata": {},
   "outputs": [],
   "source": [
    "# Save model\n",
    "#joblib.dump(model_fl_com_y, \"/home/itaouil/workspace/aliengo_ws/src/aliengo_navigation/models/protocol3/model_fl_com_y.sav\")"
   ]
  },
  {
   "cell_type": "markdown",
   "id": "f5d5289f",
   "metadata": {},
   "source": [
    "## Predict CoM -> Yaw"
   ]
  },
  {
   "cell_type": "code",
   "execution_count": 28,
   "id": "06eba6c0",
   "metadata": {},
   "outputs": [
    {
     "name": "stdout",
     "output_type": "stream",
     "text": [
      "R2:  0.9631050809520509\n",
      "RMSE:  0.006611628072126092\n",
      "The lowest error is:  6.219799922297471e-08\n",
      "The highest error is:  0.13401718470739332\n",
      "The avg. error is:  0.002031089655143138\n"
     ]
    }
   ],
   "source": [
    "# Input\n",
    "X = np.hstack((X_motion_CoM_FL_RR[:, :3], # motion command\n",
    "               X_motion_CoM_FL_RR[:, -3:], # Current motion command\n",
    "#               X_motion_CoM_FL_RR[:, 3:9],\n",
    "               X_motion_CoM_FL_RR[:, 9:11], # FL (x,y) position\n",
    "               X_motion_CoM_FL_RR[:, 12:14], # FR (x,y) position\n",
    "               X_motion_CoM_FL_RR[:, 15:17], # RL (x,y) position\n",
    "               X_motion_CoM_FL_RR[:, 18:20])) \n",
    "\n",
    "# Labels\n",
    "Y = np.array([Y_motion_CoM_FL_RR[:, 2]]).T\n",
    "\n",
    "assert Y.shape[0] == X.shape[0]\n",
    "\n",
    "# Split data into train and test set\n",
    "X_train, X_test, Y_train, Y_test = train_test_split(X, Y, train_size = 0.8, shuffle=True, random_state=100)\n",
    "\n",
    "# Create the model\n",
    "model_fl_com_theta = LinearRegression()\n",
    "\n",
    "# Fit the model\n",
    "model_fl_com_theta.fit(X_train, Y_train)\n",
    "\n",
    "# Predict\n",
    "predictions = model_fl_com_theta.predict(X_test)\n",
    "\n",
    "# Stats\n",
    "print('R2: ', r2_score(predictions, Y_test))\n",
    "print('RMSE: ', np.sqrt(mean_squared_error(Y_test, predictions)))\n",
    "print(\"The lowest error is: \", np.min(np.abs(predictions - Y_test)))\n",
    "print(\"The highest error is: \", np.max(np.abs(predictions - Y_test)))\n",
    "print(\"The avg. error is: \", np.mean(np.abs(predictions - Y_test)))\n",
    "#print(\"Seq of errors (descendant): \\n\", sorted(np.abs(predictions - Y_test).tolist(), reverse=True))"
   ]
  },
  {
   "cell_type": "code",
   "execution_count": 29,
   "id": "0bedac94",
   "metadata": {},
   "outputs": [
    {
     "data": {
      "text/plain": [
       "array([[-7.78555785e-05,  3.29032506e-03,  1.07716470e-01,\n",
       "        -1.66360459e-03, -2.57589385e-03,  2.83048070e-02,\n",
       "         2.50267525e-02,  1.53141296e-02,  3.45920475e-02,\n",
       "         6.10195349e-03,  1.14361089e-02, -2.63185807e-03,\n",
       "         2.34727112e-02,  3.79376771e-02]])"
      ]
     },
     "execution_count": 29,
     "metadata": {},
     "output_type": "execute_result"
    }
   ],
   "source": [
    "model_fl_com_theta.coef_"
   ]
  },
  {
   "cell_type": "code",
   "execution_count": 30,
   "id": "82825490",
   "metadata": {},
   "outputs": [
    {
     "data": {
      "text/plain": [
       "array([-0.00029858])"
      ]
     },
     "execution_count": 30,
     "metadata": {},
     "output_type": "execute_result"
    }
   ],
   "source": [
    "model_fl_com_theta.intercept_"
   ]
  },
  {
   "cell_type": "code",
   "execution_count": 31,
   "id": "43c426fe",
   "metadata": {},
   "outputs": [
    {
     "data": {
      "text/plain": [
       "Text(0, 0.5, 'Predictions')"
      ]
     },
     "execution_count": 31,
     "metadata": {},
     "output_type": "execute_result"
    },
    {
     "data": {
      "image/png": "[encoded data removed]",
      "text/plain": [
       "<Figure size 432x288 with 1 Axes>"
      ]
     },
     "metadata": {
      "needs_background": "light"
     },
     "output_type": "display_data"
    }
   ],
   "source": [
    "## The line / model\n",
    "plt.scatter(Y_test, predictions)\n",
    "plt.xlabel(\"Groundtruth\")\n",
    "plt.ylabel(\"Predictions\")"
   ]
  },
  {
   "cell_type": "code",
   "execution_count": null,
   "id": "06b28562",
   "metadata": {},
   "outputs": [],
   "source": []
  },
  {
   "cell_type": "code",
   "execution_count": null,
   "id": "2efb0f52",
   "metadata": {},
   "outputs": [],
   "source": []
  }
 ],
 "metadata": {
  "kernelspec": {
   "display_name": "Python 3",
   "language": "python",
   "name": "python3"
  },
  "language_info": {
   "codemirror_mode": {
    "name": "ipython",
    "version": 3
   },
   "file_extension": ".py",
   "mimetype": "text/x-python",
   "name": "python",
   "nbconvert_exporter": "python",
   "pygments_lexer": "ipython3",
   "version": "3.6.12"
  }
 },
 "nbformat": 4,
 "nbformat_minor": 5
}
