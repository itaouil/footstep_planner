{
 "cells": [
  {
   "cell_type": "code",
   "execution_count": 1,
   "id": "5f1732a8",
   "metadata": {},
   "outputs": [],
   "source": [
    "#!/usr/bin/env python3.6\n",
    "# -*- coding: utf-8 -*-"
   ]
  },
  {
   "cell_type": "code",
   "execution_count": 2,
   "id": "b2955b42",
   "metadata": {},
   "outputs": [],
   "source": [
    "# Imports\n",
    "import sys\n",
    "import joblib\n",
    "import numpy as np\n",
    "from math import atan2\n",
    "from matplotlib import animation\n",
    "from IPython.display import HTML\n",
    "from matplotlib import pyplot as plt\n",
    "import mpl_toolkits.mplot3d.axes3d as p3"
   ]
  },
  {
   "cell_type": "code",
   "execution_count": 3,
   "id": "a60309d4",
   "metadata": {},
   "outputs": [],
   "source": [
    "#np.random.seed(20)\n",
    "np.set_printoptions(threshold=sys.maxsize)"
   ]
  },
  {
   "cell_type": "code",
   "execution_count": 4,
   "id": "ce0efc71",
   "metadata": {},
   "outputs": [],
   "source": [
    "%matplotlib inline"
   ]
  },
  {
   "cell_type": "code",
   "execution_count": 6,
   "id": "9cdebc90",
   "metadata": {},
   "outputs": [
    {
     "name": "stdout",
     "output_type": "stream",
     "text": [
      "(9780, 28)\n",
      "(9780, 2) \n",
      "\n",
      "(10027, 28)\n",
      "(10027, 2) \n",
      "\n",
      "(19807, 28)\n",
      "(19807, 2) \n",
      "\n"
     ]
    }
   ],
   "source": [
    "%store -r X_motion_CoM_acc_absolute\n",
    "%store -r Y_motion_CoM_acc_absolute\n",
    "print(X_motion_CoM_acc_absolute.shape)\n",
    "print(Y_motion_CoM_acc_absolute.shape, \"\\n\")\n",
    "\n",
    "%store -r X_motion_CoM_continuous\n",
    "%store -r Y_motion_CoM_continuous\n",
    "print(X_motion_CoM_continuous.shape)\n",
    "print(Y_motion_CoM_continuous.shape, \"\\n\")\n",
    "\n",
    "X_motion_CoM = np.vstack((X_motion_CoM_acc_absolute, X_motion_CoM_continuous))\n",
    "Y_motion_CoM = np.vstack((Y_motion_CoM_acc_absolute, Y_motion_CoM_continuous))\n",
    "print(X_motion_CoM.shape)\n",
    "print(Y_motion_CoM.shape, \"\\n\")"
   ]
  },
  {
   "cell_type": "markdown",
   "id": "8bfe8e00",
   "metadata": {},
   "source": [
    "# Multivariate Linear Regression (Foot prediction)"
   ]
  },
  {
   "cell_type": "code",
   "execution_count": 8,
   "id": "d4db48ef",
   "metadata": {},
   "outputs": [],
   "source": [
    "import sklearn\n",
    "from sklearn import metrics\n",
    "from sklearn.feature_selection import RFE\n",
    "from sklearn.model_selection import KFold\n",
    "from sklearn.linear_model import LinearRegression\n",
    "from sklearn.model_selection import train_test_split\n",
    "from sklearn.preprocessing import PolynomialFeatures \n",
    "from sklearn.model_selection import cross_val_score, cross_val_predict\n",
    "from sklearn.metrics import mean_squared_error, mean_absolute_error, r2_score"
   ]
  },
  {
   "cell_type": "code",
   "execution_count": 9,
   "id": "0a2df83a",
   "metadata": {},
   "outputs": [],
   "source": [
    "# Entries where FL foot is swinging\n",
    "idx_fl_rr_swinging = np.where(X_motion_CoM[:, 21] == 1)[0]\n",
    "X_motion_CoM_FL_RR = X_motion_CoM[idx_fl_rr_swinging]\n",
    "Y_motion_CoM_FL_RR = Y_motion_CoM[idx_fl_rr_swinging]"
   ]
  },
  {
   "cell_type": "code",
   "execution_count": 10,
   "id": "fdf4a2b5",
   "metadata": {},
   "outputs": [
    {
     "data": {
      "text/plain": [
       "(9897,)"
      ]
     },
     "execution_count": 10,
     "metadata": {},
     "output_type": "execute_result"
    }
   ],
   "source": [
    "idx_fl_rr_swinging.shape"
   ]
  },
  {
   "cell_type": "markdown",
   "id": "cc1cdb2c",
   "metadata": {},
   "source": [
    "## Predict CoM -> x"
   ]
  },
  {
   "cell_type": "code",
   "execution_count": 11,
   "id": "58f1673e",
   "metadata": {},
   "outputs": [
    {
     "data": {
      "text/plain": [
       "array([0.0, 0.0, -0.10000000149011612, 0.0322352146407956,\n",
       "       -0.16707049163546253, 0.01633024113261936, -0.050864724772716724,\n",
       "       0.01613139346307927, -0.08244774950818047, 0.2242183589315502,\n",
       "       0.21463290253635245, -0.4047964527433376, 0.23125327710299393,\n",
       "       -0.1859196351448079, -0.40580275730170523, -0.25716170429661755,\n",
       "       0.1535668459650834, -0.40042184496154315, -0.2596469020780039,\n",
       "       -0.1333438735060659, -0.4003938266901496, True, False, False, True,\n",
       "       0.0, 0.0, 0.0], dtype=object)"
      ]
     },
     "execution_count": 11,
     "metadata": {},
     "output_type": "execute_result"
    }
   ],
   "source": [
    "X_motion_CoM_FL_RR[0, :]"
   ]
  },
  {
   "cell_type": "code",
   "execution_count": 12,
   "id": "3c9424af",
   "metadata": {},
   "outputs": [
    {
     "data": {
      "text/plain": [
       "array([-0.0014475170967571671, 0.022369409865341083], dtype=object)"
      ]
     },
     "execution_count": 12,
     "metadata": {},
     "output_type": "execute_result"
    }
   ],
   "source": [
    "Y_motion_CoM_FL_RR[0, :]"
   ]
  },
  {
   "cell_type": "markdown",
   "id": "bcc8235e",
   "metadata": {},
   "source": [
    "### Linear Regression"
   ]
  },
  {
   "cell_type": "code",
   "execution_count": 25,
   "id": "4f59a6b3",
   "metadata": {},
   "outputs": [
    {
     "name": "stdout",
     "output_type": "stream",
     "text": [
      "R2:  0.9594869365390212\n",
      "RMSE:  0.008225364278064713\n",
      "The lowest error is:  1.015361577708096e-05\n",
      "The highest error is:  0.05829642921528623\n",
      "The avg. error is:  0.005048509995334673\n"
     ]
    }
   ],
   "source": [
    "# Input\n",
    "X = np.hstack((X_motion_CoM_FL_RR[:, :3], # Previous motion command\n",
    "               X_motion_CoM_FL_RR[:, -3:], # Current motion command\n",
    "               X_motion_CoM_FL_RR[:, 3:9], # Odom velocities\n",
    "               X_motion_CoM_FL_RR[:, 9:11], # FL (x,y) position\n",
    "               X_motion_CoM_FL_RR[:, 12:14], # FR (x,y) position\n",
    "               X_motion_CoM_FL_RR[:, 15:17], # RL (x,y) position\n",
    "               X_motion_CoM_FL_RR[:, 18:20])) # RR (x, y) position\n",
    "\n",
    "# Labels\n",
    "Y = np.array([Y_motion_CoM_FL_RR[:, 0]]).T\n",
    "\n",
    "assert Y.shape[0] == X.shape[0]\n",
    "\n",
    "# Split data into train and test set\n",
    "X_train, X_test, Y_train, Y_test = train_test_split(X, Y, train_size = 0.8, shuffle=True)\n",
    "\n",
    "# Create the model\n",
    "model_fl_com_x = LinearRegression()\n",
    "\n",
    "# Fit the model\n",
    "model_fl_com_x.fit(X_train, Y_train)\n",
    "\n",
    "# Predict\n",
    "predictions = model_fl_com_x.predict(X_test)\n",
    "\n",
    "# Stats\n",
    "print('R2: ', r2_score(predictions, Y_test))\n",
    "print('RMSE: ', np.sqrt(mean_squared_error(Y_test, predictions)))\n",
    "print(\"The lowest error is: \", np.min(np.abs(predictions - Y_test)))\n",
    "print(\"The highest error is: \", np.max(np.abs(predictions - Y_test)))\n",
    "print(\"The avg. error is: \", np.mean(np.abs(predictions - Y_test)))\n",
    "#print(\"Seq of errors (descendant): \\n\", sorted(np.abs(predictions - Y_test).tolist(), reverse=True))"
   ]
  },
  {
   "cell_type": "code",
   "execution_count": 26,
   "id": "8916bb31",
   "metadata": {},
   "outputs": [
    {
     "data": {
      "text/plain": [
       "array([[ 0.05382383,  0.09897607,  0.03184289,  0.06121358, -0.00791956,\n",
       "        -0.02725518,  0.00960227,  0.00428043,  0.0198472 ,  0.00839921,\n",
       "         0.03233054, -0.06426495,  0.10890721, -0.36210346,  0.2459859 ,\n",
       "        -0.7463066 ,  0.19784956, -0.37908429,  0.01378109, -0.00510437]])"
      ]
     },
     "execution_count": 26,
     "metadata": {},
     "output_type": "execute_result"
    }
   ],
   "source": [
    "model_fl_com_x.coef_"
   ]
  },
  {
   "cell_type": "code",
   "execution_count": 27,
   "id": "dc1a7364",
   "metadata": {},
   "outputs": [
    {
     "data": {
      "text/plain": [
       "array([-0.03184326])"
      ]
     },
     "execution_count": 27,
     "metadata": {},
     "output_type": "execute_result"
    }
   ],
   "source": [
    "model_fl_com_x.intercept_"
   ]
  },
  {
   "cell_type": "code",
   "execution_count": 28,
   "id": "6a1ea22e",
   "metadata": {},
   "outputs": [
    {
     "data": {
      "text/plain": [
       "Text(0, 0.5, 'Predictions')"
      ]
     },
     "execution_count": 28,
     "metadata": {},
     "output_type": "execute_result"
    },
    {
     "data": {
      "image/png": "[encoded data removed]",
      "text/plain": [
       "<Figure size 432x288 with 1 Axes>"
      ]
     },
     "metadata": {
      "needs_background": "light"
     },
     "output_type": "display_data"
    }
   ],
   "source": [
    "## The line / model\n",
    "plt.scatter(Y_test, predictions)\n",
    "plt.xlabel(\"Groundtruth\")\n",
    "plt.ylabel(\"Predictions\")"
   ]
  },
  {
   "cell_type": "code",
   "execution_count": 16,
   "id": "00eb9804",
   "metadata": {},
   "outputs": [],
   "source": [
    "#%store model_fl_com_x"
   ]
  },
  {
   "cell_type": "code",
   "execution_count": 17,
   "id": "7bca126d",
   "metadata": {},
   "outputs": [],
   "source": [
    "#for idx, prediction in enumerate(predictions):\n",
    "#    print(f'Groundtruth: {Y_test[idx]}. Predicted: {prediction}')"
   ]
  },
  {
   "cell_type": "code",
   "execution_count": 18,
   "id": "b0c609b2",
   "metadata": {},
   "outputs": [],
   "source": [
    "# Save model\n",
    "#joblib.dump(model_fl_com_x, \"/home/itaouil/workspace/aliengo_ws/src/aliengo_navigation/models/protocol3/model_fl_com_x.sav\")"
   ]
  },
  {
   "cell_type": "markdown",
   "id": "75c297c4",
   "metadata": {},
   "source": [
    "## Predict CoM foot -> y"
   ]
  },
  {
   "cell_type": "markdown",
   "id": "4d11b90d",
   "metadata": {},
   "source": [
    "### Linear Regression"
   ]
  },
  {
   "cell_type": "code",
   "execution_count": 20,
   "id": "3a084042",
   "metadata": {},
   "outputs": [
    {
     "name": "stdout",
     "output_type": "stream",
     "text": [
      "R2:  0.9967303885463294\n",
      "RMSE:  0.0019330374792168085\n",
      "The lowest error is:  2.7959981813152623e-07\n",
      "The highest error is:  0.01872054563041059\n",
      "The avg. error is:  0.0011788905039114366\n"
     ]
    }
   ],
   "source": [
    "# Input\n",
    "X = np.hstack((X_motion_CoM_FL_RR[:, :3], # motion command\n",
    "               X_motion_CoM_FL_RR[:, 3:9],\n",
    "               X_motion_CoM_FL_RR[:, 9:11], # FL (x,y) position\n",
    "               X_motion_CoM_FL_RR[:, 12:14], # FR (x,y) position\n",
    "               X_motion_CoM_FL_RR[:, 15:17], # RL (x,y) position\n",
    "               X_motion_CoM_FL_RR[:, 18:20])) \n",
    "\n",
    "# Labels\n",
    "Y = np.array([Y_motion_CoM_FL_RR[:, 1]]).T\n",
    "\n",
    "assert Y.shape[0] == X.shape[0]\n",
    "\n",
    "# Split data into train and test set\n",
    "X_train, X_test, Y_train, Y_test = train_test_split(X, Y, train_size = 0.8, shuffle=True)\n",
    "\n",
    "# Create the model\n",
    "model_fl_com_y = LinearRegression()\n",
    "\n",
    "# Fit the model\n",
    "model_fl_com_y.fit(X_train, Y_train)\n",
    "\n",
    "# Predict\n",
    "predictions = model_fl_com_y.predict(X_test)\n",
    "\n",
    "# Stats\n",
    "print('R2: ', r2_score(predictions, Y_test))\n",
    "print('RMSE: ', np.sqrt(mean_squared_error(Y_test, predictions)))\n",
    "print(\"The lowest error is: \", np.min(np.abs(predictions - Y_test)))\n",
    "print(\"The highest error is: \", np.max(np.abs(predictions - Y_test)))\n",
    "print(\"The avg. error is: \", np.mean(np.abs(predictions - Y_test)))\n",
    "#print(\"Seq of errors (descendant): \\n\", sorted(np.abs(predictions - Y_test).tolist(), reverse=True))"
   ]
  },
  {
   "cell_type": "code",
   "execution_count": 21,
   "id": "f3c667ca",
   "metadata": {},
   "outputs": [
    {
     "data": {
      "text/plain": [
       "array([[ 0.01939952,  0.19791707,  0.06853025, -0.00293183, -0.00139501,\n",
       "         0.09252725, -0.00430708, -0.01511418, -0.10190888,  0.0490056 ,\n",
       "         0.14634935, -0.08035402, -0.13057737, -0.08982922, -0.01685321,\n",
       "        -0.05255996,  0.30740592]])"
      ]
     },
     "execution_count": 21,
     "metadata": {},
     "output_type": "execute_result"
    }
   ],
   "source": [
    "model_fl_com_y.coef_"
   ]
  },
  {
   "cell_type": "code",
   "execution_count": 22,
   "id": "6d6f7d50",
   "metadata": {},
   "outputs": [
    {
     "data": {
      "text/plain": [
       "array([-0.02129322])"
      ]
     },
     "execution_count": 22,
     "metadata": {},
     "output_type": "execute_result"
    }
   ],
   "source": [
    "model_fl_com_y.intercept_"
   ]
  },
  {
   "cell_type": "code",
   "execution_count": 23,
   "id": "89abdd49",
   "metadata": {},
   "outputs": [
    {
     "data": {
      "text/plain": [
       "Text(0, 0.5, 'Predictions')"
      ]
     },
     "execution_count": 23,
     "metadata": {},
     "output_type": "execute_result"
    },
    {
     "data": {
      "image/png": "[encoded data removed]",
      "text/plain": [
       "<Figure size 432x288 with 1 Axes>"
      ]
     },
     "metadata": {
      "needs_background": "light"
     },
     "output_type": "display_data"
    }
   ],
   "source": [
    "## The line / model\n",
    "plt.scatter(Y_test, predictions)\n",
    "plt.xlabel(\"Groundtruth\")\n",
    "plt.ylabel(\"Predictions\")"
   ]
  },
  {
   "cell_type": "code",
   "execution_count": 58,
   "id": "1376fc77",
   "metadata": {},
   "outputs": [],
   "source": [
    "#%store model_fl_com_y"
   ]
  },
  {
   "cell_type": "code",
   "execution_count": 59,
   "id": "68fa892e",
   "metadata": {},
   "outputs": [],
   "source": [
    "#for idx, prediction in enumerate(predictions):\n",
    "#    print(f'Groundtruth: {Y_test[idx]}. Predicted: {prediction}')"
   ]
  },
  {
   "cell_type": "code",
   "execution_count": 60,
   "id": "43dd0c61",
   "metadata": {},
   "outputs": [],
   "source": [
    "# Save model\n",
    "#joblib.dump(model_fl_com_y, \"/home/itaouil/workspace/aliengo_ws/src/aliengo_navigation/models/protocol3/model_fl_com_y.sav\")"
   ]
  },
  {
   "cell_type": "code",
   "execution_count": null,
   "id": "018a5b70",
   "metadata": {},
   "outputs": [],
   "source": []
  }
 ],
 "metadata": {
  "kernelspec": {
   "display_name": "Python 3",
   "language": "python",
   "name": "python3"
  },
  "language_info": {
   "codemirror_mode": {
    "name": "ipython",
    "version": 3
   },
   "file_extension": ".py",
   "mimetype": "text/x-python",
   "name": "python",
   "nbconvert_exporter": "python",
   "pygments_lexer": "ipython3",
   "version": "3.6.12"
  }
 },
 "nbformat": 4,
 "nbformat_minor": 5
}
