{
 "cells": [
  {
   "cell_type": "code",
   "execution_count": 1,
   "id": "49ced9e1",
   "metadata": {},
   "outputs": [],
   "source": [
    "#!/usr/bin/env python3.6\n",
    "# -*- coding: utf-8 -*-"
   ]
  },
  {
   "cell_type": "code",
   "execution_count": 2,
   "id": "188fddd4",
   "metadata": {},
   "outputs": [],
   "source": [
    "# Imports\n",
    "import sys\n",
    "import joblib\n",
    "import numpy as np\n",
    "from math import atan2\n",
    "from matplotlib import animation\n",
    "from IPython.display import HTML\n",
    "from matplotlib import pyplot as plt\n",
    "import mpl_toolkits.mplot3d.axes3d as p3"
   ]
  },
  {
   "cell_type": "code",
   "execution_count": 3,
   "id": "251283ea",
   "metadata": {},
   "outputs": [],
   "source": [
    "#np.random.seed(20)\n",
    "np.set_printoptions(threshold=sys.maxsize)"
   ]
  },
  {
   "cell_type": "code",
   "execution_count": 4,
   "id": "3c46dba4",
   "metadata": {},
   "outputs": [],
   "source": [
    "%matplotlib inline"
   ]
  },
  {
   "cell_type": "code",
   "execution_count": 5,
   "id": "03b64dd5",
   "metadata": {},
   "outputs": [
    {
     "name": "stdout",
     "output_type": "stream",
     "text": [
      "(8103, 28)\n",
      "(8103, 2)\n"
     ]
    }
   ],
   "source": [
    "%store -r X_motion_CoM_acc\n",
    "%store -r Y_motion_CoM_acc\n",
    "print(X_motion_CoM_acc.shape)\n",
    "print(Y_motion_CoM_acc.shape)"
   ]
  },
  {
   "cell_type": "markdown",
   "id": "53576add",
   "metadata": {},
   "source": [
    "# Multivariate Linear Regression (Foot prediction)"
   ]
  },
  {
   "cell_type": "code",
   "execution_count": 6,
   "id": "1e7e9819",
   "metadata": {},
   "outputs": [],
   "source": [
    "import sklearn\n",
    "from sklearn import metrics\n",
    "from sklearn.feature_selection import RFE\n",
    "from sklearn.model_selection import KFold\n",
    "from sklearn.linear_model import LinearRegression\n",
    "from sklearn.model_selection import train_test_split\n",
    "from sklearn.preprocessing import PolynomialFeatures \n",
    "from sklearn.model_selection import cross_val_score, cross_val_predict\n",
    "from sklearn.metrics import mean_squared_error, mean_absolute_error, r2_score"
   ]
  },
  {
   "cell_type": "code",
   "execution_count": 7,
   "id": "7a0e6540",
   "metadata": {},
   "outputs": [],
   "source": [
    "# Entries where FL foot is swinging\n",
    "idx_fl_rr_swinging = np.where(X_motion_CoM_acc[:, 21] == 1)[0]\n",
    "X_motion_CoM_acc_FL_RR = X_motion_CoM_acc[idx_fl_rr_swinging]\n",
    "Y_motion_CoM_acc_FL_RR = Y_motion_CoM_acc[idx_fl_rr_swinging]"
   ]
  },
  {
   "cell_type": "code",
   "execution_count": 8,
   "id": "d6f6d55b",
   "metadata": {},
   "outputs": [
    {
     "data": {
      "text/plain": [
       "(4058,)"
      ]
     },
     "execution_count": 8,
     "metadata": {},
     "output_type": "execute_result"
    }
   ],
   "source": [
    "idx_fl_rr_swinging.shape"
   ]
  },
  {
   "cell_type": "markdown",
   "id": "c6b3a368",
   "metadata": {},
   "source": [
    "## Predict CoM -> x"
   ]
  },
  {
   "cell_type": "code",
   "execution_count": 9,
   "id": "944285bc",
   "metadata": {},
   "outputs": [
    {
     "data": {
      "text/plain": [
       "array([0.0, 0.0, -0.10000000149011612, 0.0322352146407956,\n",
       "       -0.16707049163546253, 0.01633024113261936, -0.050864724772716724,\n",
       "       0.01613139346307927, -0.08244774950818047, 0.2242183589315502,\n",
       "       0.21463290253635245, -0.4047964527433376, 0.23125327710299393,\n",
       "       -0.1859196351448079, -0.40580275730170523, -0.25716170429661755,\n",
       "       0.1535668459650834, -0.40042184496154315, -0.2596469020780039,\n",
       "       -0.1333438735060659, -0.4003938266901496, True, False, False, True,\n",
       "       0.0, 0.0, 0.0], dtype=object)"
      ]
     },
     "execution_count": 9,
     "metadata": {},
     "output_type": "execute_result"
    }
   ],
   "source": [
    "X_motion_CoM_acc_FL_RR[0, :]"
   ]
  },
  {
   "cell_type": "code",
   "execution_count": 10,
   "id": "4d17b7fb",
   "metadata": {},
   "outputs": [
    {
     "data": {
      "text/plain": [
       "array([-0.0014475170967571671, 0.022369409865341083], dtype=object)"
      ]
     },
     "execution_count": 10,
     "metadata": {},
     "output_type": "execute_result"
    }
   ],
   "source": [
    "Y_motion_CoM_acc_FL_RR[0, :]"
   ]
  },
  {
   "cell_type": "markdown",
   "id": "77f19db1",
   "metadata": {},
   "source": [
    "### Linear Regression"
   ]
  },
  {
   "cell_type": "code",
   "execution_count": 32,
   "id": "a34c9807",
   "metadata": {},
   "outputs": [
    {
     "name": "stdout",
     "output_type": "stream",
     "text": [
      "R2:  0.9577968461356756\n",
      "RMSE:  0.008265289782219232\n",
      "The lowest error is:  7.578518846682036e-06\n",
      "The highest error is:  0.04699863633160328\n",
      "The avg. error is:  0.005664479796863402\n"
     ]
    }
   ],
   "source": [
    "# Input\n",
    "X = np.hstack((X_motion_CoM_acc_FL_RR[:, :3], # previous motion command\n",
    "               X_motion_CoM_acc_FL_RR[:, -3:], # commanded motion command\n",
    "               X_motion_CoM_acc_FL_RR[:, 9:11], # FL (x,y) position\n",
    "               X_motion_CoM_acc_FL_RR[:, 12:14], # FR (x,y) position\n",
    "               X_motion_CoM_acc_FL_RR[:, 15:17], # RL (x,y) position\n",
    "               X_motion_CoM_acc_FL_RR[:, 18:20])) # RR (x,y) position\n",
    "\n",
    "# Labels\n",
    "Y = np.array([Y_motion_CoM_acc_FL_RR[:, 0]]).T\n",
    "\n",
    "assert Y.shape[0] == X.shape[0]\n",
    "\n",
    "# Split data into train and test set\n",
    "X_train, X_test, Y_train, Y_test = train_test_split(X, Y, train_size = 0.8, shuffle=True)\n",
    "\n",
    "# Create the model\n",
    "model_fl_com_x = LinearRegression()\n",
    "\n",
    "# Fit the model\n",
    "model_fl_com_x.fit(X_train, Y_train)\n",
    "\n",
    "# Predict\n",
    "predictions = model_fl_com_x.predict(X_test)\n",
    "\n",
    "# Stats\n",
    "print('R2: ', r2_score(predictions, Y_test))\n",
    "print('RMSE: ', np.sqrt(mean_squared_error(Y_test, predictions)))\n",
    "print(\"The lowest error is: \", np.min(np.abs(predictions - Y_test)))\n",
    "print(\"The highest error is: \", np.max(np.abs(predictions - Y_test)))\n",
    "print(\"The avg. error is: \", np.mean(np.abs(predictions - Y_test)))\n",
    "#print(\"Seq of errors (descendant): \\n\", sorted(np.abs(predictions - Y_test).tolist(), reverse=True))"
   ]
  },
  {
   "cell_type": "code",
   "execution_count": 33,
   "id": "8af02b01",
   "metadata": {},
   "outputs": [
    {
     "data": {
      "text/plain": [
       "array([[-0.01000357,  0.10757214, -0.01991805,  0.06448734, -0.00821719,\n",
       "        -0.02003747,  0.32804888, -0.00679768,  0.36072621, -0.61838319,\n",
       "         0.88124677, -0.40047104,  0.10637566, -0.16808212]])"
      ]
     },
     "execution_count": 33,
     "metadata": {},
     "output_type": "execute_result"
    }
   ],
   "source": [
    "model_fl_com_x.coef_"
   ]
  },
  {
   "cell_type": "code",
   "execution_count": 34,
   "id": "b45df286",
   "metadata": {},
   "outputs": [
    {
     "data": {
      "text/plain": [
       "array([0.02116798])"
      ]
     },
     "execution_count": 34,
     "metadata": {},
     "output_type": "execute_result"
    }
   ],
   "source": [
    "model_fl_com_x.intercept_"
   ]
  },
  {
   "cell_type": "code",
   "execution_count": 35,
   "id": "bc385507",
   "metadata": {},
   "outputs": [
    {
     "data": {
      "text/plain": [
       "Text(0, 0.5, 'Predictions')"
      ]
     },
     "execution_count": 35,
     "metadata": {},
     "output_type": "execute_result"
    },
    {
     "data": {
      "image/png": "[encoded data removed]",
      "text/plain": [
       "<Figure size 432x288 with 1 Axes>"
      ]
     },
     "metadata": {
      "needs_background": "light"
     },
     "output_type": "display_data"
    }
   ],
   "source": [
    "## The line / model\n",
    "plt.scatter(Y_test, predictions)\n",
    "plt.xlabel(\"Groundtruth\")\n",
    "plt.ylabel(\"Predictions\")"
   ]
  },
  {
   "cell_type": "code",
   "execution_count": 36,
   "id": "365da7f0",
   "metadata": {},
   "outputs": [],
   "source": [
    "#%store model_fl_com_x"
   ]
  },
  {
   "cell_type": "code",
   "execution_count": 37,
   "id": "c3b8cdaf",
   "metadata": {},
   "outputs": [],
   "source": [
    "#for idx, prediction in enumerate(predictions):\n",
    "#    print(f'Groundtruth: {Y_test[idx]}. Predicted: {prediction}')"
   ]
  },
  {
   "cell_type": "code",
   "execution_count": 38,
   "id": "3143346c",
   "metadata": {},
   "outputs": [],
   "source": [
    "# Save model\n",
    "#joblib.dump(model_fl_com_x, \"/home/itaouil/workspace/aliengo_ws/src/aliengo_navigation/models/protocol3/model_fl_com_x.sav\")"
   ]
  },
  {
   "cell_type": "markdown",
   "id": "9a244908",
   "metadata": {},
   "source": [
    "## Predict FL foot -> y"
   ]
  },
  {
   "cell_type": "markdown",
   "id": "919f5eb3",
   "metadata": {},
   "source": [
    "### Linear Regression"
   ]
  },
  {
   "cell_type": "code",
   "execution_count": 43,
   "id": "6d5f6add",
   "metadata": {},
   "outputs": [
    {
     "name": "stdout",
     "output_type": "stream",
     "text": [
      "R2:  0.9186109177575257\n",
      "RMSE:  0.008537179927191796\n",
      "The lowest error is:  1.1813860085002625e-05\n",
      "The highest error is:  0.04429807451773418\n",
      "The avg. error is:  0.005389018976992744\n"
     ]
    }
   ],
   "source": [
    "# Input\n",
    "X = np.hstack((X_motion_CoM_acc_FL_RR[:, :3], # previous motion command\n",
    "               X_motion_CoM_acc_FL_RR[:, -3:], # commanded motion command\n",
    "               X_motion_CoM_acc_FL_RR[:, 9:11], # FL (x,y) position\n",
    "               X_motion_CoM_acc_FL_RR[:, 12:14], # FR (x,y) position\n",
    "               X_motion_CoM_acc_FL_RR[:, 15:17], # RL (x,y) position\n",
    "               X_motion_CoM_acc_FL_RR[:, 18:20])) # RR (x,y) position\n",
    "\n",
    "# Labels\n",
    "Y = np.array([Y_motion_CoM_acc_FL_RR[:, 1]]).T\n",
    "\n",
    "assert Y.shape[0] == X.shape[0]\n",
    "\n",
    "# Split data into train and test set\n",
    "X_train, X_test, Y_train, Y_test = train_test_split(X, Y, train_size = 0.8, shuffle=True)\n",
    "\n",
    "# Create the model\n",
    "model_fl_com_y = LinearRegression()\n",
    "\n",
    "# Fit the model\n",
    "model_fl_com_y.fit(X_train, Y_train)\n",
    "\n",
    "# Predict\n",
    "predictions = model_fl_com_y.predict(X_test)\n",
    "\n",
    "# Stats\n",
    "print('R2: ', r2_score(predictions, Y_test))\n",
    "print('RMSE: ', np.sqrt(mean_squared_error(Y_test, predictions)))\n",
    "print(\"The lowest error is: \", np.min(np.abs(predictions - Y_test)))\n",
    "print(\"The highest error is: \", np.max(np.abs(predictions - Y_test)))\n",
    "print(\"The avg. error is: \", np.mean(np.abs(predictions - Y_test)))\n",
    "#print(\"Seq of errors (descendant): \\n\", sorted(np.abs(predictions - Y_test).tolist(), reverse=True))"
   ]
  },
  {
   "cell_type": "code",
   "execution_count": 44,
   "id": "452a1f6d",
   "metadata": {},
   "outputs": [
    {
     "data": {
      "text/plain": [
       "array([[ 0.01979146,  0.16346679,  0.01619423, -0.01671036,  0.05192439,\n",
       "         0.01997212,  0.13530027,  0.37660438, -0.11731445,  0.03297675,\n",
       "         0.1438652 , -0.43096139, -0.02188988, -0.0140944 ]])"
      ]
     },
     "execution_count": 44,
     "metadata": {},
     "output_type": "execute_result"
    }
   ],
   "source": [
    "model_fl_com_y.coef_"
   ]
  },
  {
   "cell_type": "code",
   "execution_count": 45,
   "id": "486bcde4",
   "metadata": {},
   "outputs": [
    {
     "data": {
      "text/plain": [
       "array([0.03798774])"
      ]
     },
     "execution_count": 45,
     "metadata": {},
     "output_type": "execute_result"
    }
   ],
   "source": [
    "model_fl_com_y.intercept_"
   ]
  },
  {
   "cell_type": "code",
   "execution_count": 46,
   "id": "37244646",
   "metadata": {},
   "outputs": [
    {
     "data": {
      "text/plain": [
       "Text(0, 0.5, 'Predictions')"
      ]
     },
     "execution_count": 46,
     "metadata": {},
     "output_type": "execute_result"
    },
    {
     "data": {
      "image/png": "[encoded data removed]",
      "text/plain": [
       "<Figure size 432x288 with 1 Axes>"
      ]
     },
     "metadata": {
      "needs_background": "light"
     },
     "output_type": "display_data"
    }
   ],
   "source": [
    "## The line / model\n",
    "plt.scatter(Y_test, predictions)\n",
    "plt.xlabel(\"Groundtruth\")\n",
    "plt.ylabel(\"Predictions\")"
   ]
  },
  {
   "cell_type": "code",
   "execution_count": 47,
   "id": "d04aab2e",
   "metadata": {},
   "outputs": [],
   "source": [
    "#%store model_fl_com_y"
   ]
  },
  {
   "cell_type": "code",
   "execution_count": 83,
   "id": "6497f822",
   "metadata": {},
   "outputs": [],
   "source": [
    "#for idx, prediction in enumerate(predictions):\n",
    "#    print(f'Groundtruth: {Y_test[idx]}. Predicted: {prediction}')"
   ]
  },
  {
   "cell_type": "code",
   "execution_count": 84,
   "id": "c896dad0",
   "metadata": {},
   "outputs": [],
   "source": [
    "# Save model\n",
    "#joblib.dump(model_fl_com_y, \"/home/itaouil/workspace/aliengo_ws/src/aliengo_navigation/models/protocol3/model_fl_com_y.sav\")"
   ]
  },
  {
   "cell_type": "code",
   "execution_count": null,
   "id": "517e59fc",
   "metadata": {},
   "outputs": [],
   "source": []
  }
 ],
 "metadata": {
  "kernelspec": {
   "display_name": "Python 3",
   "language": "python",
   "name": "python3"
  },
  "language_info": {
   "codemirror_mode": {
    "name": "ipython",
    "version": 3
   },
   "file_extension": ".py",
   "mimetype": "text/x-python",
   "name": "python",
   "nbconvert_exporter": "python",
   "pygments_lexer": "ipython3",
   "version": "3.6.12"
  }
 },
 "nbformat": 4,
 "nbformat_minor": 5
}
