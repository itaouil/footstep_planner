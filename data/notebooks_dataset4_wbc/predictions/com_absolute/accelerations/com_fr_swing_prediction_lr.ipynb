{
 "cells": [
  {
   "cell_type": "code",
   "execution_count": 1,
   "id": "d9ecb730",
   "metadata": {},
   "outputs": [],
   "source": [
    "#!/usr/bin/env python3.6\n",
    "# -*- coding: utf-8 -*-"
   ]
  },
  {
   "cell_type": "code",
   "execution_count": 2,
   "id": "667f097f",
   "metadata": {},
   "outputs": [],
   "source": [
    "# Imports\n",
    "import sys\n",
    "import joblib\n",
    "import numpy as np\n",
    "from math import atan2\n",
    "from matplotlib import animation\n",
    "from IPython.display import HTML\n",
    "from matplotlib import pyplot as plt\n",
    "import mpl_toolkits.mplot3d.axes3d as p3"
   ]
  },
  {
   "cell_type": "code",
   "execution_count": 3,
   "id": "7117be25",
   "metadata": {},
   "outputs": [],
   "source": [
    "#np.random.seed(20)\n",
    "np.set_printoptions(threshold=sys.maxsize)"
   ]
  },
  {
   "cell_type": "code",
   "execution_count": 4,
   "id": "a9faed7e",
   "metadata": {},
   "outputs": [],
   "source": [
    "%matplotlib inline"
   ]
  },
  {
   "cell_type": "code",
   "execution_count": 5,
   "id": "2b55aaa5",
   "metadata": {},
   "outputs": [
    {
     "name": "stdout",
     "output_type": "stream",
     "text": [
      "(9991, 28)\n",
      "(9991, 2)\n"
     ]
    }
   ],
   "source": [
    "%store -r X_motion_CoM_acc\n",
    "%store -r Y_motion_CoM_acc\n",
    "print(X_motion_CoM_acc.shape)\n",
    "print(Y_motion_CoM_acc.shape)"
   ]
  },
  {
   "cell_type": "code",
   "execution_count": 6,
   "id": "f5cf9e07",
   "metadata": {},
   "outputs": [
    {
     "data": {
      "text/plain": [
       "array([0.0, 0.0, 0.0, 0.02913719938114322, 0.14719469368385946,\n",
       "       0.022976086773515297, 0.003909692818189045, 0.008798872891276023,\n",
       "       -0.014303295334153898, 0.22920227689822778, 0.18690779522150297,\n",
       "       -0.4055380313041654, 0.2296633796873913, -0.2061291134676932,\n",
       "       -0.4055005229248185, -0.2619380404423078, 0.13096712258597765,\n",
       "       -0.40069670952693676, -0.25670755139947965, -0.152450443282568,\n",
       "       -0.40044770287636394, False, True, True, False, 0.0, 0.0,\n",
       "       -0.10000000149011612], dtype=object)"
      ]
     },
     "execution_count": 6,
     "metadata": {},
     "output_type": "execute_result"
    }
   ],
   "source": [
    "X_motion_CoM_acc[0]"
   ]
  },
  {
   "cell_type": "code",
   "execution_count": 7,
   "id": "2e52205a",
   "metadata": {},
   "outputs": [
    {
     "data": {
      "text/plain": [
       "array([-0.0020009205030788735, -0.0232033010096917], dtype=object)"
      ]
     },
     "execution_count": 7,
     "metadata": {},
     "output_type": "execute_result"
    }
   ],
   "source": [
    "Y_motion_CoM_acc[0]"
   ]
  },
  {
   "cell_type": "markdown",
   "id": "341c86b6",
   "metadata": {},
   "source": [
    "# Multivariate Linear Regression (CoM Prediction)"
   ]
  },
  {
   "cell_type": "code",
   "execution_count": 8,
   "id": "f5366cf8",
   "metadata": {},
   "outputs": [],
   "source": [
    "import sklearn\n",
    "from sklearn import metrics\n",
    "from sklearn.feature_selection import RFE\n",
    "from sklearn.model_selection import KFold\n",
    "from sklearn.linear_model import LinearRegression\n",
    "from sklearn.model_selection import train_test_split\n",
    "from sklearn.preprocessing import PolynomialFeatures \n",
    "from sklearn.model_selection import cross_val_score, cross_val_predict\n",
    "from sklearn.metrics import mean_squared_error, mean_absolute_error, r2_score"
   ]
  },
  {
   "cell_type": "code",
   "execution_count": 9,
   "id": "260eeff0",
   "metadata": {},
   "outputs": [
    {
     "name": "stdout",
     "output_type": "stream",
     "text": [
      "(4992, 28)\n",
      "(4992, 2)\n"
     ]
    }
   ],
   "source": [
    "idx_fr_rl_swinging = np.where(X_motion_CoM_acc[:, 22] == 1)[0]\n",
    "X_motion_CoM_acc_FR_RL = X_motion_CoM_acc[idx_fr_rl_swinging]\n",
    "Y_motion_CoM_acc_FR_RL = Y_motion_CoM_acc[idx_fr_rl_swinging]\n",
    "print(X_motion_CoM_acc_FR_RL.shape)\n",
    "print(Y_motion_CoM_acc_FR_RL.shape)"
   ]
  },
  {
   "cell_type": "markdown",
   "id": "0dd43703",
   "metadata": {},
   "source": [
    "## Predict CoM (x) movement"
   ]
  },
  {
   "cell_type": "code",
   "execution_count": 10,
   "id": "b490dad2",
   "metadata": {},
   "outputs": [
    {
     "data": {
      "text/plain": [
       "array([0.0, 0.0, 0.0, 0.02913719938114322, 0.14719469368385946,\n",
       "       0.022976086773515297, 0.003909692818189045, 0.008798872891276023,\n",
       "       -0.014303295334153898, 0.22920227689822778, 0.18690779522150297,\n",
       "       -0.4055380313041654, 0.2296633796873913, -0.2061291134676932,\n",
       "       -0.4055005229248185, -0.2619380404423078, 0.13096712258597765,\n",
       "       -0.40069670952693676, -0.25670755139947965, -0.152450443282568,\n",
       "       -0.40044770287636394, False, True, True, False, 0.0, 0.0,\n",
       "       -0.10000000149011612], dtype=object)"
      ]
     },
     "execution_count": 10,
     "metadata": {},
     "output_type": "execute_result"
    }
   ],
   "source": [
    "X_motion_CoM_acc_FR_RL[0, :]"
   ]
  },
  {
   "cell_type": "code",
   "execution_count": 11,
   "id": "8bfa2f0a",
   "metadata": {},
   "outputs": [
    {
     "data": {
      "text/plain": [
       "array([-0.0020009205030788735, -0.0232033010096917], dtype=object)"
      ]
     },
     "execution_count": 11,
     "metadata": {},
     "output_type": "execute_result"
    }
   ],
   "source": [
    "Y_motion_CoM_acc_FR_RL[0, :]"
   ]
  },
  {
   "cell_type": "markdown",
   "id": "438a14fa",
   "metadata": {},
   "source": [
    "### Linear Regression"
   ]
  },
  {
   "cell_type": "code",
   "execution_count": 29,
   "id": "b9731e8c",
   "metadata": {},
   "outputs": [
    {
     "name": "stdout",
     "output_type": "stream",
     "text": [
      "R2:  0.9053808381225023\n",
      "RMSE:  0.011924507388290666\n",
      "The lowest error is:  2.1433158896549953e-05\n",
      "The highest error is:  0.06127129283293038\n",
      "The avg. error is:  0.008116932208851266\n"
     ]
    }
   ],
   "source": [
    "# Input\n",
    "X = np.hstack((X_motion_CoM_acc_FR_RL[:, :3], # previous motion command\n",
    "               X_motion_CoM_acc_FR_RL[:, -3:], # commanded motion command\n",
    "               X_motion_CoM_acc_FR_RL[:, 9:11], # FL (x,y) position\n",
    "               X_motion_CoM_acc_FR_RL[:, 12:14], # FR (x,y) position\n",
    "               X_motion_CoM_acc_FR_RL[:, 15:17], # RL (x,y) position\n",
    "               X_motion_CoM_acc_FR_RL[:, 18:20])) # RR (x,y) position\n",
    "\n",
    "# Labels\n",
    "Y = np.array([Y_motion_CoM_acc_FR_RL[:, 0]]).T\n",
    "\n",
    "assert Y.shape[0] == X.shape[0]\n",
    "\n",
    "# Split data into train and test set\n",
    "X_train, X_test, Y_train, Y_test = train_test_split(X, Y, train_size = 0.8, shuffle=True)\n",
    "\n",
    "# Create the model\n",
    "model_fr_com_x = LinearRegression()\n",
    "\n",
    "# Fit the model\n",
    "model_fr_com_x.fit(X_train, Y_train)\n",
    "\n",
    "# Predict\n",
    "predictions = model_fr_com_x.predict(X_test)\n",
    "\n",
    "# Stats\n",
    "print('R2: ', r2_score(predictions, Y_test))\n",
    "print('RMSE: ', np.sqrt(mean_squared_error(Y_test, predictions)))\n",
    "print(\"The lowest error is: \", np.min(np.abs(predictions - Y_test)))\n",
    "print(\"The highest error is: \", np.max(np.abs(predictions - Y_test)))\n",
    "print(\"The avg. error is: \", np.mean(np.abs(predictions - Y_test)))\n",
    "#print(\"Seq of errors (descendant): \\n\", sorted(np.abs(predictions - Y_test).tolist(), reverse=True))"
   ]
  },
  {
   "cell_type": "code",
   "execution_count": 30,
   "id": "58b72fb5",
   "metadata": {},
   "outputs": [
    {
     "data": {
      "text/plain": [
       "array([[-0.00785711, -0.09023743,  0.08701676,  0.06037753,  0.00483609,\n",
       "         0.05642675,  0.08561308,  0.36527627,  0.41892593,  0.1820427 ,\n",
       "        -0.2085264 , -0.05150759,  1.05555253,  0.39668034]])"
      ]
     },
     "execution_count": 30,
     "metadata": {},
     "output_type": "execute_result"
    }
   ],
   "source": [
    "model_fr_com_x.coef_"
   ]
  },
  {
   "cell_type": "code",
   "execution_count": 31,
   "id": "d62f4ddb",
   "metadata": {},
   "outputs": [
    {
     "data": {
      "text/plain": [
       "array([0.13359696])"
      ]
     },
     "execution_count": 31,
     "metadata": {},
     "output_type": "execute_result"
    }
   ],
   "source": [
    "model_fr_com_x.intercept_"
   ]
  },
  {
   "cell_type": "code",
   "execution_count": 32,
   "id": "27302dcf",
   "metadata": {},
   "outputs": [
    {
     "data": {
      "text/plain": [
       "Text(0, 0.5, 'Predictions')"
      ]
     },
     "execution_count": 32,
     "metadata": {},
     "output_type": "execute_result"
    },
    {
     "data": {
      "image/png": "[encoded data removed]",
      "text/plain": [
       "<Figure size 432x288 with 1 Axes>"
      ]
     },
     "metadata": {
      "needs_background": "light"
     },
     "output_type": "display_data"
    }
   ],
   "source": [
    "## The line / model\n",
    "plt.scatter(Y_test, predictions)\n",
    "plt.xlabel(\"Groundtruth\")\n",
    "plt.ylabel(\"Predictions\")"
   ]
  },
  {
   "cell_type": "code",
   "execution_count": 33,
   "id": "c9c8a501",
   "metadata": {},
   "outputs": [],
   "source": [
    "#%store model_fr_com_x"
   ]
  },
  {
   "cell_type": "code",
   "execution_count": 34,
   "id": "802ef87d",
   "metadata": {},
   "outputs": [],
   "source": [
    "#for idx, prediction in enumerate(predictions):\n",
    "#    print(f'Command: {X_test[idx, :3]}. Groundtruth: {Y_test[idx]}. Predicted: {prediction}')"
   ]
  },
  {
   "cell_type": "code",
   "execution_count": 35,
   "id": "17a77a7d",
   "metadata": {},
   "outputs": [],
   "source": [
    "# Save model\n",
    "#joblib.dump(model_fr_com_x, \"/home/itaouil/workspace/aliengo_ws/src/aliengo_navigation/models/protocol3/model_fr_com_x.sav\")"
   ]
  },
  {
   "cell_type": "markdown",
   "id": "e2dc953a",
   "metadata": {},
   "source": [
    "## Predict CoM -> y"
   ]
  },
  {
   "cell_type": "markdown",
   "id": "eed0bf6b",
   "metadata": {},
   "source": [
    "### Linear Regression"
   ]
  },
  {
   "cell_type": "code",
   "execution_count": 45,
   "id": "b7c3d305",
   "metadata": {},
   "outputs": [
    {
     "name": "stdout",
     "output_type": "stream",
     "text": [
      "R2:  0.8475834347598437\n",
      "RMSE:  0.010329827745784623\n",
      "The lowest error is:  7.225818875501722e-06\n",
      "The highest error is:  0.07040893771107576\n",
      "The avg. error is:  0.00683454157473402\n"
     ]
    }
   ],
   "source": [
    "# Input\n",
    "X = np.hstack((X_motion_CoM_acc_FR_RL[:, :3], # previous motion command\n",
    "               X_motion_CoM_acc_FR_RL[:, -3:], # commanded motion command\n",
    "               X_motion_CoM_acc_FR_RL[:, 9:11], # FL (x,y) position\n",
    "               X_motion_CoM_acc_FR_RL[:, 12:14], # FR (x,y) position\n",
    "               X_motion_CoM_acc_FR_RL[:, 15:17], # RL (x,y) position\n",
    "               X_motion_CoM_acc_FR_RL[:, 18:20])) # RR (x,y) position\n",
    "\n",
    "# Labels\n",
    "Y = np.array([Y_motion_CoM_acc_FR_RL[:, 1]]).T\n",
    "\n",
    "assert Y.shape[0] == X.shape[0]\n",
    "\n",
    "# Split data into train and test set\n",
    "X_train, X_test, Y_train, Y_test = train_test_split(X, Y, train_size = 0.8, shuffle=True)\n",
    "\n",
    "# Create the model\n",
    "model_fr_com_y = LinearRegression()\n",
    "\n",
    "# Fit the model\n",
    "model_fr_com_y.fit(X_train, Y_train)\n",
    "\n",
    "# Predict\n",
    "predictions = model_fr_com_y.predict(X_test)\n",
    "\n",
    "# Stats\n",
    "print('R2: ', r2_score(predictions, Y_test))\n",
    "print('RMSE: ', np.sqrt(mean_squared_error(Y_test, predictions)))\n",
    "print(\"The lowest error is: \", np.min(np.abs(predictions - Y_test)))\n",
    "print(\"The highest error is: \", np.max(np.abs(predictions - Y_test)))\n",
    "print(\"The avg. error is: \", np.mean(np.abs(predictions - Y_test)))\n",
    "#print(\"Seq of errors (descendant): \\n\", sorted(np.abs(predictions - Y_test).tolist(), reverse=True))"
   ]
  },
  {
   "cell_type": "code",
   "execution_count": 46,
   "id": "27bbf724",
   "metadata": {},
   "outputs": [
    {
     "data": {
      "text/plain": [
       "array([[-0.00539496,  0.14468128,  0.03597647,  0.01815237,  0.05197553,\n",
       "         0.04127224, -0.0077449 ,  0.28577389, -0.20428162,  0.56630772,\n",
       "        -0.02588052, -0.05371182, -0.23978806, -0.39057983]])"
      ]
     },
     "execution_count": 46,
     "metadata": {},
     "output_type": "execute_result"
    }
   ],
   "source": [
    "model_fr_com_y.coef_"
   ]
  },
  {
   "cell_type": "code",
   "execution_count": 47,
   "id": "4f693ccf",
   "metadata": {},
   "outputs": [
    {
     "data": {
      "text/plain": [
       "array([-0.02957964])"
      ]
     },
     "execution_count": 47,
     "metadata": {},
     "output_type": "execute_result"
    }
   ],
   "source": [
    "model_fr_com_y.intercept_"
   ]
  },
  {
   "cell_type": "code",
   "execution_count": 48,
   "id": "84e3ac75",
   "metadata": {},
   "outputs": [
    {
     "data": {
      "text/plain": [
       "Text(0, 0.5, 'Predictions')"
      ]
     },
     "execution_count": 48,
     "metadata": {},
     "output_type": "execute_result"
    },
    {
     "data": {
      "image/png": "[encoded data removed]",
      "text/plain": [
       "<Figure size 432x288 with 1 Axes>"
      ]
     },
     "metadata": {
      "needs_background": "light"
     },
     "output_type": "display_data"
    }
   ],
   "source": [
    "## The line / model\n",
    "plt.scatter(Y_test, predictions)\n",
    "plt.xlabel(\"Groundtruth\")\n",
    "plt.ylabel(\"Predictions\")"
   ]
  },
  {
   "cell_type": "code",
   "execution_count": 36,
   "id": "555a8571",
   "metadata": {},
   "outputs": [],
   "source": [
    "#%store model_fr_com_y"
   ]
  },
  {
   "cell_type": "code",
   "execution_count": 37,
   "id": "98fefdf8",
   "metadata": {},
   "outputs": [],
   "source": [
    "#for idx, prediction in enumerate(predictions):\n",
    "#    print(f'Groundtruth: {Y_test[idx]}. Predicted: {prediction}')"
   ]
  },
  {
   "cell_type": "code",
   "execution_count": 38,
   "id": "dc58fb1f",
   "metadata": {},
   "outputs": [],
   "source": [
    "# Save model\n",
    "#joblib.dump(model_fr_com_y, \"/home/itaouil/workspace/aliengo_ws/src/aliengo_navigation/models/protocol3/model_fr_com_y.sav\")"
   ]
  },
  {
   "cell_type": "code",
   "execution_count": null,
   "id": "c87f7d9d",
   "metadata": {},
   "outputs": [],
   "source": []
  }
 ],
 "metadata": {
  "kernelspec": {
   "display_name": "Python 3",
   "language": "python",
   "name": "python3"
  },
  "language_info": {
   "codemirror_mode": {
    "name": "ipython",
    "version": 3
   },
   "file_extension": ".py",
   "mimetype": "text/x-python",
   "name": "python",
   "nbconvert_exporter": "python",
   "pygments_lexer": "ipython3",
   "version": "3.6.12"
  }
 },
 "nbformat": 4,
 "nbformat_minor": 5
}
