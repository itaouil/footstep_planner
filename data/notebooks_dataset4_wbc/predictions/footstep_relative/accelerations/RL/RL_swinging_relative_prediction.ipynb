{
 "cells": [
  {
   "cell_type": "code",
   "execution_count": 1,
   "id": "13c45828",
   "metadata": {},
   "outputs": [],
   "source": [
    "#!/usr/bin/env python3.6\n",
    "# -*- coding: utf-8 -*-"
   ]
  },
  {
   "cell_type": "code",
   "execution_count": 2,
   "id": "0111a5a1",
   "metadata": {},
   "outputs": [],
   "source": [
    "# Imports\n",
    "import sys\n",
    "import joblib\n",
    "import numpy as np\n",
    "from matplotlib import animation\n",
    "from IPython.display import HTML\n",
    "from matplotlib import pyplot as plt\n",
    "import mpl_toolkits.mplot3d.axes3d as p3"
   ]
  },
  {
   "cell_type": "code",
   "execution_count": 3,
   "id": "b44ad5c6",
   "metadata": {},
   "outputs": [],
   "source": [
    "#np.random.seed(20)\n",
    "np.set_printoptions(threshold=sys.maxsize)"
   ]
  },
  {
   "cell_type": "code",
   "execution_count": 4,
   "id": "76ff0fc4",
   "metadata": {},
   "outputs": [],
   "source": [
    "%matplotlib inline"
   ]
  },
  {
   "cell_type": "code",
   "execution_count": 5,
   "id": "feae447f",
   "metadata": {},
   "outputs": [
    {
     "name": "stdout",
     "output_type": "stream",
     "text": [
      "(17646, 28)\n",
      "(17646, 8)\n"
     ]
    }
   ],
   "source": [
    "%store -r X_relative_footsteps_acc\n",
    "%store -r Y_relative_footsteps_acc\n",
    "print(X_relative_footsteps_acc.shape)\n",
    "print(Y_relative_footsteps_acc.shape)"
   ]
  },
  {
   "cell_type": "markdown",
   "id": "1f517de3",
   "metadata": {},
   "source": [
    "# Multivariate Linear Regression (Foot prediction)"
   ]
  },
  {
   "cell_type": "code",
   "execution_count": 6,
   "id": "780e0676",
   "metadata": {},
   "outputs": [],
   "source": [
    "import sklearn\n",
    "from sklearn import metrics\n",
    "from sklearn.feature_selection import RFE\n",
    "from sklearn.model_selection import KFold\n",
    "from sklearn.linear_model import LinearRegression\n",
    "from sklearn.model_selection import train_test_split\n",
    "from sklearn.preprocessing import PolynomialFeatures \n",
    "from sklearn.model_selection import cross_val_score, cross_val_predict\n",
    "from sklearn.metrics import mean_squared_error, mean_absolute_error, r2_score"
   ]
  },
  {
   "cell_type": "code",
   "execution_count": 7,
   "id": "4dc6f658",
   "metadata": {},
   "outputs": [],
   "source": [
    "# Entries where RL swings\n",
    "idxs = np.where(X_relative_footsteps_acc[:, 23] == 1)[0]\n",
    "X_relative_footsteps_acc_RL_swing = X_relative_footsteps_acc[idxs]\n",
    "Y_relative_footsteps_acc_RL_swing = Y_relative_footsteps_acc[idxs]"
   ]
  },
  {
   "cell_type": "markdown",
   "id": "f8d087e6",
   "metadata": {},
   "source": [
    "## Predict RL foot -> x"
   ]
  },
  {
   "cell_type": "code",
   "execution_count": 8,
   "id": "87ede8c1",
   "metadata": {},
   "outputs": [
    {
     "data": {
      "text/plain": [
       "array([ 0.        ,  0.        ,  0.        , -0.01667854,  0.02806931,\n",
       "        0.04898649, -0.00293043,  0.04369139, -0.00966195,  0.22882891,\n",
       "        0.16832004, -0.40987395,  0.23396882, -0.16832977, -0.40997042,\n",
       "       -0.24291083,  0.16426133, -0.41338172, -0.24842681, -0.16367363,\n",
       "       -0.41372354,  0.        ,  1.        ,  1.        ,  0.        ,\n",
       "        0.1       ,  0.        ,  0.        ])"
      ]
     },
     "execution_count": 8,
     "metadata": {},
     "output_type": "execute_result"
    }
   ],
   "source": [
    "X_relative_footsteps_acc_RL_swing[0, :]"
   ]
  },
  {
   "cell_type": "code",
   "execution_count": 9,
   "id": "30986dd2",
   "metadata": {},
   "outputs": [
    {
     "data": {
      "text/plain": [
       "array([ 0.        ,  0.        ,  0.        , -0.01667854,  0.02806931,\n",
       "        0.04898649, -0.00293043,  0.04369139, -0.00966195,  0.22882891,\n",
       "        0.16832004, -0.40987395,  0.23396882, -0.16832977, -0.40997042,\n",
       "       -0.24291083,  0.16426133, -0.41338172, -0.24842681, -0.16367363,\n",
       "       -0.41372354,  0.        ,  1.        ,  1.        ,  0.        ,\n",
       "        0.1       ,  0.        ,  0.        ])"
      ]
     },
     "execution_count": 9,
     "metadata": {},
     "output_type": "execute_result"
    }
   ],
   "source": [
    "X_relative_footsteps_acc_RL_swing[0, :]"
   ]
  },
  {
   "cell_type": "markdown",
   "id": "0923c351",
   "metadata": {},
   "source": [
    "### Linear Regression"
   ]
  },
  {
   "cell_type": "code",
   "execution_count": 11,
   "id": "5def215c",
   "metadata": {},
   "outputs": [
    {
     "name": "stdout",
     "output_type": "stream",
     "text": [
      "R2:  0.8835207649521923\n",
      "RMSE:  0.00537275119765075\n",
      "The lowest error is:  9.648317297883402e-08\n",
      "The highest error is:  0.043502219999444924\n",
      "The avg. error is:  0.0028129692542171554\n"
     ]
    }
   ],
   "source": [
    "# Input\n",
    "X = np.hstack((X_relative_footsteps_acc_RL_swing[:, :3], # prev velocity command\n",
    "               X_relative_footsteps_acc_RL_swing[:, -3:], # commanded velocity command\n",
    "               X_relative_footsteps_acc_RL_swing[:, 9:11], # FL (x,y) position\n",
    "               X_relative_footsteps_acc_RL_swing[:, 12:14], # FR (x,y) position\n",
    "               X_relative_footsteps_acc_RL_swing[:, 15:17], # RL (x,y) position\n",
    "               X_relative_footsteps_acc_RL_swing[:, 18:20])) # RR (x,y) position\n",
    "\n",
    "# Target\n",
    "Y = np.array([Y_relative_footsteps_acc_RL_swing[:, 4]]).T\n",
    "\n",
    "assert Y.shape[0] == X.shape[0]\n",
    "\n",
    "# Split data into train and test set\n",
    "X_train, X_test, Y_train, Y_test = train_test_split(X, Y, train_size = 0.8, shuffle=True)\n",
    "\n",
    "# Create the model\n",
    "model_rl_relative_swinging_x = LinearRegression()\n",
    "\n",
    "# Fit the model\n",
    "model_rl_relative_swinging_x.fit(X_train, Y_train)\n",
    "\n",
    "# Predict\n",
    "predictions = model_rl_relative_swinging_x.predict(X_test)\n",
    "\n",
    "# Stats\n",
    "print('R2: ', r2_score(predictions, Y_test))\n",
    "print('RMSE: ', np.sqrt(mean_squared_error(Y_test, predictions)))\n",
    "print(\"The lowest error is: \", np.min(np.abs(predictions - Y_test)))\n",
    "print(\"The highest error is: \", np.max(np.abs(predictions - Y_test)))\n",
    "print(\"The avg. error is: \", np.mean(np.abs(predictions - Y_test)))\n",
    "#print(\"Seq of errors (descendant): \\n\", sorted(np.abs(predictions - Y_test).tolist(), reverse=True))"
   ]
  },
  {
   "cell_type": "code",
   "execution_count": 12,
   "id": "b3093fed",
   "metadata": {},
   "outputs": [
    {
     "data": {
      "text/plain": [
       "array([[-0.02131954, -0.01301363,  0.00061233,  0.10434056,  0.00142237,\n",
       "        -0.00327612,  0.3480368 ,  0.13503034, -0.08275293,  0.11469235,\n",
       "         0.51505229, -0.11701941,  0.01337772, -0.08347077]])"
      ]
     },
     "execution_count": 12,
     "metadata": {},
     "output_type": "execute_result"
    }
   ],
   "source": [
    "model_rl_relative_swinging_x.coef_"
   ]
  },
  {
   "cell_type": "code",
   "execution_count": 13,
   "id": "401b5a9c",
   "metadata": {},
   "outputs": [
    {
     "data": {
      "text/plain": [
       "array([-0.17891217])"
      ]
     },
     "execution_count": 13,
     "metadata": {},
     "output_type": "execute_result"
    }
   ],
   "source": [
    "model_rl_relative_swinging_x.intercept_"
   ]
  },
  {
   "cell_type": "code",
   "execution_count": 14,
   "id": "65c99030",
   "metadata": {},
   "outputs": [
    {
     "data": {
      "text/plain": [
       "Text(0, 0.5, 'Predictions')"
      ]
     },
     "execution_count": 14,
     "metadata": {},
     "output_type": "execute_result"
    },
    {
     "data": {
      "image/png": "[encoded data removed]",
      "text/plain": [
       "<Figure size 432x288 with 1 Axes>"
      ]
     },
     "metadata": {
      "needs_background": "light"
     },
     "output_type": "display_data"
    }
   ],
   "source": [
    "## The line / model\n",
    "plt.scatter(Y_test, predictions)\n",
    "plt.xlabel(\"Ground truth\")\n",
    "plt.ylabel(\"Predictions\")"
   ]
  },
  {
   "cell_type": "code",
   "execution_count": 15,
   "id": "deacc079",
   "metadata": {},
   "outputs": [],
   "source": [
    "#%store model_rl_relative_swinging_x"
   ]
  },
  {
   "cell_type": "code",
   "execution_count": 16,
   "id": "9b36b9e1",
   "metadata": {},
   "outputs": [],
   "source": [
    "#for idx, prediction in enumerate(predictions):\n",
    "#    print(f'Start: {X_test[idx, 6]}. Groundtruth: {Y_test[idx]}. Predicted: {prediction}')"
   ]
  },
  {
   "cell_type": "code",
   "execution_count": 17,
   "id": "922c0cb7",
   "metadata": {},
   "outputs": [],
   "source": [
    "# Save model\n",
    "#joblib.dump(model_rl_relative_swinging_x, \"/home/itaouil/workspace/aliengo_ws/src/aliengo_navigation/models/protocol3/relative/model_rl_relative_swinging_x.sav\")"
   ]
  },
  {
   "cell_type": "markdown",
   "id": "f820d829",
   "metadata": {},
   "source": [
    "### Predict RL foot -> y"
   ]
  },
  {
   "cell_type": "code",
   "execution_count": 21,
   "id": "bf056c85",
   "metadata": {},
   "outputs": [
    {
     "name": "stdout",
     "output_type": "stream",
     "text": [
      "R2:  0.9164736186366444\n",
      "RMSE:  0.009097866240886033\n",
      "The lowest error is:  3.3380451538445044e-06\n",
      "The highest error is:  0.04812435828170572\n",
      "The avg. error is:  0.005870021118043482\n"
     ]
    }
   ],
   "source": [
    "# Input\n",
    "X = np.hstack((X_relative_footsteps_acc_RL_swing[:, :3], # prev velocity command\n",
    "               X_relative_footsteps_acc_RL_swing[:, -3:], # commanded velocity command\n",
    "               X_relative_footsteps_acc_RL_swing[:, 9:11], # FL (x,y) position\n",
    "               X_relative_footsteps_acc_RL_swing[:, 12:14], # FR (x,y) position\n",
    "               X_relative_footsteps_acc_RL_swing[:, 15:17], # RL (x,y) position\n",
    "               X_relative_footsteps_acc_RL_swing[:, 18:20])) # RR (x,y) position\n",
    "\n",
    "# Target\n",
    "Y = np.array([Y_relative_footsteps_acc_RL_swing[:, 5]]).T\n",
    "\n",
    "assert Y.shape[0] == X.shape[0]\n",
    "\n",
    "# Split data into train and test set\n",
    "X_train, X_test, Y_train, Y_test = train_test_split(X, Y, train_size = 0.8, shuffle=True)\n",
    "\n",
    "# Create the model\n",
    "model_rl_relative_swinging_y = LinearRegression()\n",
    "\n",
    "# Fit the model\n",
    "model_rl_relative_swinging_y.fit(X_train, Y_train)\n",
    "\n",
    "# Predict\n",
    "predictions = model_rl_relative_swinging_y.predict(X_test)\n",
    "\n",
    "# Stats\n",
    "print('R2: ', r2_score(predictions, Y_test))\n",
    "print('RMSE: ', np.sqrt(mean_squared_error(Y_test, predictions)))\n",
    "print(\"The lowest error is: \", np.min(np.abs(predictions - Y_test)))\n",
    "print(\"The highest error is: \", np.max(np.abs(predictions - Y_test)))\n",
    "print(\"The avg. error is: \", np.mean(np.abs(predictions - Y_test)))\n",
    "#print(\"Seq of errors (descendant): \\n\", sorted(np.abs(predictions - Y_test).tolist(), reverse=True))"
   ]
  },
  {
   "cell_type": "code",
   "execution_count": 22,
   "id": "5e076446",
   "metadata": {},
   "outputs": [
    {
     "data": {
      "text/plain": [
       "array([[-4.25874083e-02, -2.52492862e-02,  8.93343974e-03,\n",
       "         1.57694478e-03,  1.03524826e-01,  1.04203854e-01,\n",
       "        -8.44407531e-03,  4.39877842e-01,  7.95378935e-02,\n",
       "         2.58705189e-02,  3.04624338e-02,  5.29652493e-01,\n",
       "         4.62647499e-01, -5.92108362e-05]])"
      ]
     },
     "execution_count": 22,
     "metadata": {},
     "output_type": "execute_result"
    }
   ],
   "source": [
    "model_rl_relative_swinging_y.coef_"
   ]
  },
  {
   "cell_type": "code",
   "execution_count": 23,
   "id": "0145f039",
   "metadata": {},
   "outputs": [
    {
     "data": {
      "text/plain": [
       "array([0.11571438])"
      ]
     },
     "execution_count": 23,
     "metadata": {},
     "output_type": "execute_result"
    }
   ],
   "source": [
    "model_rl_relative_swinging_y.intercept_"
   ]
  },
  {
   "cell_type": "code",
   "execution_count": 24,
   "id": "3b69fbf9",
   "metadata": {},
   "outputs": [
    {
     "data": {
      "text/plain": [
       "Text(0, 0.5, 'Predictions')"
      ]
     },
     "execution_count": 24,
     "metadata": {},
     "output_type": "execute_result"
    },
    {
     "data": {
      "image/png": "[encoded data removed]",
      "text/plain": [
       "<Figure size 432x288 with 1 Axes>"
      ]
     },
     "metadata": {
      "needs_background": "light"
     },
     "output_type": "display_data"
    }
   ],
   "source": [
    "## The line / model\n",
    "plt.scatter(Y_test, predictions)\n",
    "plt.xlabel(\"Ground truth\")\n",
    "plt.ylabel(\"Predictions\")"
   ]
  },
  {
   "cell_type": "code",
   "execution_count": 73,
   "id": "5e854c0e",
   "metadata": {},
   "outputs": [],
   "source": [
    "#%store model_rl_relative_swinging_y"
   ]
  },
  {
   "cell_type": "code",
   "execution_count": 74,
   "id": "586b8f68",
   "metadata": {},
   "outputs": [],
   "source": [
    "#for idx, prediction in enumerate(predictions):\n",
    "#    print(f'Groundtruth: {Y_test[idx]}. Predicted: {prediction}')"
   ]
  },
  {
   "cell_type": "code",
   "execution_count": 75,
   "id": "1626f49f",
   "metadata": {},
   "outputs": [],
   "source": [
    "# Save model\n",
    "#joblib.dump(model_rl_relative_swinging_y, \"/home/itaouil/workspace/aliengo_ws/src/aliengo_navigation/models/protocol3/relative/model_rl_relative_swinging_y.sav\")"
   ]
  },
  {
   "cell_type": "code",
   "execution_count": null,
   "id": "485ca659",
   "metadata": {},
   "outputs": [],
   "source": []
  }
 ],
 "metadata": {
  "kernelspec": {
   "display_name": "Python 3",
   "language": "python",
   "name": "python3"
  },
  "language_info": {
   "codemirror_mode": {
    "name": "ipython",
    "version": 3
   },
   "file_extension": ".py",
   "mimetype": "text/x-python",
   "name": "python",
   "nbconvert_exporter": "python",
   "pygments_lexer": "ipython3",
   "version": "3.6.12"
  }
 },
 "nbformat": 4,
 "nbformat_minor": 5
}
