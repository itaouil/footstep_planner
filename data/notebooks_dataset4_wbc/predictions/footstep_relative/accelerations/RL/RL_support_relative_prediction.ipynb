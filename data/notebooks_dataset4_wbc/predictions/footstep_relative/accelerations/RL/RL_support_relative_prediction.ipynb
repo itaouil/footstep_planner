{
 "cells": [
  {
   "cell_type": "code",
   "execution_count": 1,
   "id": "f58ddee3",
   "metadata": {},
   "outputs": [],
   "source": [
    "#!/usr/bin/env python3.6\n",
    "# -*- coding: utf-8 -*-"
   ]
  },
  {
   "cell_type": "code",
   "execution_count": 2,
   "id": "c2caf0df",
   "metadata": {},
   "outputs": [],
   "source": [
    "# Imports\n",
    "import sys\n",
    "import joblib\n",
    "import numpy as np\n",
    "from matplotlib import animation\n",
    "from IPython.display import HTML\n",
    "from matplotlib import pyplot as plt\n",
    "import mpl_toolkits.mplot3d.axes3d as p3"
   ]
  },
  {
   "cell_type": "code",
   "execution_count": 3,
   "id": "ab5d212c",
   "metadata": {},
   "outputs": [],
   "source": [
    "#np.random.seed(20)\n",
    "np.set_printoptions(threshold=sys.maxsize)"
   ]
  },
  {
   "cell_type": "code",
   "execution_count": 4,
   "id": "821e584a",
   "metadata": {},
   "outputs": [],
   "source": [
    "%matplotlib inline"
   ]
  },
  {
   "cell_type": "code",
   "execution_count": 5,
   "id": "517f9a88",
   "metadata": {},
   "outputs": [
    {
     "name": "stdout",
     "output_type": "stream",
     "text": [
      "(8103, 28)\n",
      "(8103, 8)\n"
     ]
    }
   ],
   "source": [
    "%store -r X_relative_footsteps_acc\n",
    "%store -r Y_relative_footsteps_acc\n",
    "print(X_relative_footsteps_acc.shape)\n",
    "print(Y_relative_footsteps_acc.shape)"
   ]
  },
  {
   "cell_type": "markdown",
   "id": "75859424",
   "metadata": {},
   "source": [
    "# Multivariate Linear Regression (Foot prediction)"
   ]
  },
  {
   "cell_type": "code",
   "execution_count": 6,
   "id": "57f7dadd",
   "metadata": {},
   "outputs": [],
   "source": [
    "import sklearn\n",
    "from sklearn import metrics\n",
    "from sklearn.feature_selection import RFE\n",
    "from sklearn.model_selection import KFold\n",
    "from sklearn.linear_model import LinearRegression\n",
    "from sklearn.model_selection import train_test_split\n",
    "from sklearn.preprocessing import PolynomialFeatures \n",
    "from sklearn.model_selection import cross_val_score, cross_val_predict\n",
    "from sklearn.metrics import mean_squared_error, mean_absolute_error, r2_score"
   ]
  },
  {
   "cell_type": "code",
   "execution_count": 7,
   "id": "2284aca8",
   "metadata": {},
   "outputs": [],
   "source": [
    "# Entries where RL is supporting\n",
    "idxs = np.where(X_relative_footsteps_acc[:, 23] == 0)[0]\n",
    "X_relative_footsteps_acc_RL_support = X_relative_footsteps_acc[idxs]\n",
    "Y_relative_footsteps_acc_RL_support = Y_relative_footsteps_acc[idxs]"
   ]
  },
  {
   "cell_type": "markdown",
   "id": "e077db38",
   "metadata": {},
   "source": [
    "## Predict RL foot -> x"
   ]
  },
  {
   "cell_type": "code",
   "execution_count": 8,
   "id": "cd9d07cf",
   "metadata": {},
   "outputs": [
    {
     "data": {
      "text/plain": [
       "array([ 0.        ,  0.        , -0.1       ,  0.03223521, -0.16707049,\n",
       "        0.01633024, -0.05086472,  0.01613139, -0.08244775,  0.22421836,\n",
       "        0.2146329 , -0.40479645,  0.23125328, -0.18591964, -0.40580276,\n",
       "       -0.2571617 ,  0.15356685, -0.40042184, -0.2596469 , -0.13334387,\n",
       "       -0.40039383,  1.        ,  0.        ,  0.        ,  1.        ,\n",
       "        0.        ,  0.        ,  0.        ])"
      ]
     },
     "execution_count": 8,
     "metadata": {},
     "output_type": "execute_result"
    }
   ],
   "source": [
    "X_relative_footsteps_acc_RL_support[0, :]"
   ]
  },
  {
   "cell_type": "code",
   "execution_count": 9,
   "id": "af9de5d7",
   "metadata": {},
   "outputs": [
    {
     "data": {
      "text/plain": [
       "array([ 0.22407743,  0.18885393,  0.23964177, -0.19926585, -0.26746292,\n",
       "        0.12131841, -0.25399354, -0.15574807])"
      ]
     },
     "execution_count": 9,
     "metadata": {},
     "output_type": "execute_result"
    }
   ],
   "source": [
    "Y_relative_footsteps_acc_RL_support[0, :]"
   ]
  },
  {
   "cell_type": "markdown",
   "id": "c569905d",
   "metadata": {},
   "source": [
    "### Linear Regression"
   ]
  },
  {
   "cell_type": "code",
   "execution_count": 45,
   "id": "abf2081a",
   "metadata": {},
   "outputs": [
    {
     "name": "stdout",
     "output_type": "stream",
     "text": [
      "R2:  0.9053048473552868\n",
      "RMSE:  0.0082765715776856\n",
      "The lowest error is:  2.2255345649702107e-07\n",
      "The highest error is:  0.041907514002886614\n",
      "The avg. error is:  0.005750079177769084\n"
     ]
    }
   ],
   "source": [
    "# Input\n",
    "X = np.hstack((X_relative_footsteps_acc_RL_support[:, :3], # prev velocity command\n",
    "               X_relative_footsteps_acc_RL_support[:, -3:], # commanded velocity command\n",
    "               X_relative_footsteps_acc_RL_support[:, 9:11], # FL (x,y) position\n",
    "               X_relative_footsteps_acc_RL_support[:, 12:14], # FR (x,y) position\n",
    "               X_relative_footsteps_acc_RL_support[:, 15:17], # RL (x,y) position\n",
    "               X_relative_footsteps_acc_RL_support[:, 18:20])) # RR (x,y) position\n",
    "\n",
    "# Target\n",
    "Y = np.array([Y_relative_footsteps_acc_RL_support[:, 4]]).T\n",
    "\n",
    "assert Y.shape[0] == X.shape[0]\n",
    "\n",
    "# Split data into train and test set\n",
    "X_train, X_test, Y_train, Y_test = train_test_split(X, Y, train_size = 0.8, shuffle=True)\n",
    "\n",
    "# Create the model\n",
    "model_rl_relative_support_x = LinearRegression()\n",
    "\n",
    "# Fit the model\n",
    "model_rl_relative_support_x.fit(X_train, Y_train)\n",
    "\n",
    "# Predict\n",
    "predictions = model_rl_relative_support_x.predict(X_test)\n",
    "\n",
    "# Stats\n",
    "print('R2: ', r2_score(predictions, Y_test))\n",
    "print('RMSE: ', np.sqrt(mean_squared_error(Y_test, predictions)))\n",
    "print(\"The lowest error is: \", np.min(np.abs(predictions - Y_test)))\n",
    "print(\"The highest error is: \", np.max(np.abs(predictions - Y_test)))\n",
    "print(\"The avg. error is: \", np.mean(np.abs(predictions - Y_test)))\n",
    "#print(\"Seq of errors (descendant): \\n\", sorted(np.abs(predictions - Y_test).tolist(), reverse=True))"
   ]
  },
  {
   "cell_type": "code",
   "execution_count": 46,
   "id": "b3176786",
   "metadata": {},
   "outputs": [
    {
     "data": {
      "text/plain": [
       "array([[ 0.00690815, -0.09454265,  0.07238637, -0.06137528,  0.00314194,\n",
       "         0.03069758, -0.4145223 , -0.03434678, -0.48158826,  0.60152257,\n",
       "         0.33679105,  0.25502551,  0.01344136,  0.12510454]])"
      ]
     },
     "execution_count": 46,
     "metadata": {},
     "output_type": "execute_result"
    }
   ],
   "source": [
    "model_rl_relative_support_x.coef_"
   ]
  },
  {
   "cell_type": "code",
   "execution_count": 47,
   "id": "3651b0c2",
   "metadata": {},
   "outputs": [
    {
     "data": {
      "text/plain": [
       "array([0.13124609])"
      ]
     },
     "execution_count": 47,
     "metadata": {},
     "output_type": "execute_result"
    }
   ],
   "source": [
    "model_rl_relative_support_x.intercept_"
   ]
  },
  {
   "cell_type": "code",
   "execution_count": 48,
   "id": "8acc4f93",
   "metadata": {},
   "outputs": [
    {
     "data": {
      "text/plain": [
       "Text(0, 0.5, 'Predictions')"
      ]
     },
     "execution_count": 48,
     "metadata": {},
     "output_type": "execute_result"
    },
    {
     "data": {
      "image/png": "[encoded data removed]",
      "text/plain": [
       "<Figure size 432x288 with 1 Axes>"
      ]
     },
     "metadata": {
      "needs_background": "light"
     },
     "output_type": "display_data"
    }
   ],
   "source": [
    "## The line / model\n",
    "plt.scatter(Y_test, predictions)\n",
    "plt.xlabel(\"Ground truth\")\n",
    "plt.ylabel(\"Predictions\")"
   ]
  },
  {
   "cell_type": "code",
   "execution_count": 49,
   "id": "c8531484",
   "metadata": {},
   "outputs": [],
   "source": [
    "#%store model_rl_relative_support_x"
   ]
  },
  {
   "cell_type": "code",
   "execution_count": 50,
   "id": "fac6079d",
   "metadata": {},
   "outputs": [],
   "source": [
    "#for idx, prediction in enumerate(predictions):\n",
    "#    print(f'Start: {X_test[idx, 6]}. Groundtruth: {Y_test[idx]}. Predicted: {prediction}')"
   ]
  },
  {
   "cell_type": "code",
   "execution_count": 51,
   "id": "fc05bb75",
   "metadata": {},
   "outputs": [],
   "source": [
    "# Save model\n",
    "#joblib.dump(model_rl_relative_support_x, \"/home/itaouil/workspace/aliengo_ws/src/aliengo_navigation/models/protocol3/relative/model_rl_relative_support_x.sav\")"
   ]
  },
  {
   "cell_type": "markdown",
   "id": "9b182c1d",
   "metadata": {},
   "source": [
    "### Predict FL foot -> y"
   ]
  },
  {
   "cell_type": "code",
   "execution_count": 62,
   "id": "ae96b590",
   "metadata": {},
   "outputs": [
    {
     "name": "stdout",
     "output_type": "stream",
     "text": [
      "R2:  0.9498470238510882\n",
      "RMSE:  0.008703325773900898\n",
      "The lowest error is:  6.0013361329047665e-06\n",
      "The highest error is:  0.045230223764123334\n",
      "The avg. error is:  0.005961640478455417\n"
     ]
    }
   ],
   "source": [
    "# Input\n",
    "X = np.hstack((X_relative_footsteps_acc_RL_support[:, :3], # prev velocity command\n",
    "               X_relative_footsteps_acc_RL_support[:, -3:], # commanded velocity command\n",
    "               X_relative_footsteps_acc_RL_support[:, 9:11], # FL (x,y) position\n",
    "               X_relative_footsteps_acc_RL_support[:, 12:14], # FR (x,y) position\n",
    "               X_relative_footsteps_acc_RL_support[:, 15:17], # RL (x,y) position\n",
    "               X_relative_footsteps_acc_RL_support[:, 18:20])) # RR (x,y) position\n",
    "\n",
    "# Target\n",
    "Y = np.array([Y_relative_footsteps_acc_RL_support[:, 5]]).T\n",
    "\n",
    "assert Y.shape[0] == X.shape[0]\n",
    "\n",
    "# Split data into train and test set\n",
    "X_train, X_test, Y_train, Y_test = train_test_split(X, Y, train_size = 0.8, shuffle=True)\n",
    "\n",
    "# Create the model\n",
    "model_rl_relative_support_y = LinearRegression()\n",
    "\n",
    "# Fit the model\n",
    "model_rl_relative_support_y.fit(X_train, Y_train)\n",
    "\n",
    "# Predict\n",
    "predictions = model_rl_relative_support_y.predict(X_test)\n",
    "\n",
    "# Stats\n",
    "print('R2: ', r2_score(predictions, Y_test))\n",
    "print('RMSE: ', np.sqrt(mean_squared_error(Y_test, predictions)))\n",
    "print(\"The lowest error is: \", np.min(np.abs(predictions - Y_test)))\n",
    "print(\"The highest error is: \", np.max(np.abs(predictions - Y_test)))\n",
    "print(\"The avg. error is: \", np.mean(np.abs(predictions - Y_test)))\n",
    "#print(\"Seq of errors (descendant): \\n\", sorted(np.abs(predictions - Y_test).tolist(), reverse=True))"
   ]
  },
  {
   "cell_type": "code",
   "execution_count": 63,
   "id": "a200fe11",
   "metadata": {},
   "outputs": [
    {
     "data": {
      "text/plain": [
       "array([[-0.01821793, -0.15128806,  0.06779233,  0.0150989 , -0.05224896,\n",
       "        -0.01256037, -0.13137834, -0.36408493,  0.2548328 , -0.2409816 ,\n",
       "        -0.23592591,  1.54416878,  0.10601964, -0.02349228]])"
      ]
     },
     "execution_count": 63,
     "metadata": {},
     "output_type": "execute_result"
    }
   ],
   "source": [
    "model_rl_relative_support_y.coef_"
   ]
  },
  {
   "cell_type": "code",
   "execution_count": 64,
   "id": "cc791d26",
   "metadata": {},
   "outputs": [
    {
     "data": {
      "text/plain": [
       "array([-0.13680925])"
      ]
     },
     "execution_count": 64,
     "metadata": {},
     "output_type": "execute_result"
    }
   ],
   "source": [
    "model_rl_relative_support_y.intercept_"
   ]
  },
  {
   "cell_type": "code",
   "execution_count": 65,
   "id": "02b3e159",
   "metadata": {},
   "outputs": [
    {
     "data": {
      "text/plain": [
       "Text(0, 0.5, 'Predictions')"
      ]
     },
     "execution_count": 65,
     "metadata": {},
     "output_type": "execute_result"
    },
    {
     "data": {
      "image/png": "[encoded data removed]",
      "text/plain": [
       "<Figure size 432x288 with 1 Axes>"
      ]
     },
     "metadata": {
      "needs_background": "light"
     },
     "output_type": "display_data"
    }
   ],
   "source": [
    "## The line / model\n",
    "plt.scatter(Y_test, predictions)\n",
    "plt.xlabel(\"Ground truth\")\n",
    "plt.ylabel(\"Predictions\")"
   ]
  },
  {
   "cell_type": "code",
   "execution_count": 66,
   "id": "2bab33c7",
   "metadata": {},
   "outputs": [],
   "source": [
    "#%store model_rl_relative_support_y"
   ]
  },
  {
   "cell_type": "code",
   "execution_count": 67,
   "id": "35526936",
   "metadata": {},
   "outputs": [],
   "source": [
    "#for idx, prediction in enumerate(predictions):\n",
    "#    print(f'Groundtruth: {Y_test[idx]}. Predicted: {prediction}')"
   ]
  },
  {
   "cell_type": "code",
   "execution_count": 32,
   "id": "1f6a8a81",
   "metadata": {},
   "outputs": [],
   "source": [
    "# Save model\n",
    "#joblib.dump(model_rl_relative_support_y, \"/home/itaouil/workspace/aliengo_ws/src/aliengo_navigation/models/protocol3/relative/model_rl_relative_support_y.sav\")"
   ]
  },
  {
   "cell_type": "code",
   "execution_count": null,
   "id": "30da2d90",
   "metadata": {},
   "outputs": [],
   "source": []
  }
 ],
 "metadata": {
  "kernelspec": {
   "display_name": "Python 3",
   "language": "python",
   "name": "python3"
  },
  "language_info": {
   "codemirror_mode": {
    "name": "ipython",
    "version": 3
   },
   "file_extension": ".py",
   "mimetype": "text/x-python",
   "name": "python",
   "nbconvert_exporter": "python",
   "pygments_lexer": "ipython3",
   "version": "3.6.12"
  }
 },
 "nbformat": 4,
 "nbformat_minor": 5
}
