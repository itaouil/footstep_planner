{
 "cells": [
  {
   "cell_type": "code",
   "execution_count": 1,
   "id": "b372b103",
   "metadata": {},
   "outputs": [],
   "source": [
    "#!/usr/bin/env python3.6\n",
    "# -*- coding: utf-8 -*-"
   ]
  },
  {
   "cell_type": "code",
   "execution_count": 2,
   "id": "956c42c2",
   "metadata": {},
   "outputs": [],
   "source": [
    "# Imports\n",
    "import sys\n",
    "import joblib\n",
    "import numpy as np\n",
    "from matplotlib import animation\n",
    "from IPython.display import HTML\n",
    "from matplotlib import pyplot as plt\n",
    "import mpl_toolkits.mplot3d.axes3d as p3"
   ]
  },
  {
   "cell_type": "code",
   "execution_count": 3,
   "id": "d2a5c5ca",
   "metadata": {},
   "outputs": [],
   "source": [
    "#np.random.seed(20)\n",
    "np.set_printoptions(threshold=sys.maxsize)"
   ]
  },
  {
   "cell_type": "code",
   "execution_count": 4,
   "id": "f0e77b76",
   "metadata": {},
   "outputs": [],
   "source": [
    "%matplotlib inline"
   ]
  },
  {
   "cell_type": "code",
   "execution_count": 5,
   "id": "2281b7dd",
   "metadata": {},
   "outputs": [
    {
     "name": "stdout",
     "output_type": "stream",
     "text": [
      "(9991, 28)\n",
      "(9991, 8)\n"
     ]
    }
   ],
   "source": [
    "%store -r X_relative_footsteps_acc\n",
    "%store -r Y_relative_footsteps_acc\n",
    "print(X_relative_footsteps_acc.shape)\n",
    "print(Y_relative_footsteps_acc.shape)"
   ]
  },
  {
   "cell_type": "markdown",
   "id": "8ac13e91",
   "metadata": {},
   "source": [
    "# Multivariate Linear Regression (Foot prediction)"
   ]
  },
  {
   "cell_type": "code",
   "execution_count": 6,
   "id": "aa7fd276",
   "metadata": {},
   "outputs": [],
   "source": [
    "import sklearn\n",
    "from sklearn import metrics\n",
    "from sklearn.feature_selection import RFE\n",
    "from sklearn.model_selection import KFold\n",
    "from sklearn.linear_model import LinearRegression\n",
    "from sklearn.model_selection import train_test_split\n",
    "from sklearn.preprocessing import PolynomialFeatures \n",
    "from sklearn.model_selection import cross_val_score, cross_val_predict\n",
    "from sklearn.metrics import mean_squared_error, mean_absolute_error, r2_score"
   ]
  },
  {
   "cell_type": "code",
   "execution_count": 7,
   "id": "8df90f40",
   "metadata": {},
   "outputs": [],
   "source": [
    "# Entries where RL is supporting\n",
    "idxs = np.where(X_relative_footsteps_acc[:, 23] == 0)[0]\n",
    "X_relative_footsteps_acc_RL_support = X_relative_footsteps_acc[idxs]\n",
    "Y_relative_footsteps_acc_RL_support = Y_relative_footsteps_acc[idxs]"
   ]
  },
  {
   "cell_type": "markdown",
   "id": "93b2ebf3",
   "metadata": {},
   "source": [
    "## Predict RL foot -> x"
   ]
  },
  {
   "cell_type": "code",
   "execution_count": 8,
   "id": "453627dc",
   "metadata": {},
   "outputs": [
    {
     "data": {
      "text/plain": [
       "array([ 0.        ,  0.        , -0.1       ,  0.03223521, -0.16707049,\n",
       "        0.01633024, -0.05086472,  0.01613139, -0.08244775,  0.22421836,\n",
       "        0.2146329 , -0.40479645,  0.23125328, -0.18591964, -0.40580276,\n",
       "       -0.2571617 ,  0.15356685, -0.40042184, -0.2596469 , -0.13334387,\n",
       "       -0.40039383,  1.        ,  0.        ,  0.        ,  1.        ,\n",
       "        0.        ,  0.        ,  0.        ])"
      ]
     },
     "execution_count": 8,
     "metadata": {},
     "output_type": "execute_result"
    }
   ],
   "source": [
    "X_relative_footsteps_acc_RL_support[0, :]"
   ]
  },
  {
   "cell_type": "code",
   "execution_count": 9,
   "id": "c837baae",
   "metadata": {},
   "outputs": [
    {
     "data": {
      "text/plain": [
       "array([ 0.22407743,  0.18885393,  0.23964177, -0.19926585, -0.26746292,\n",
       "        0.12131841, -0.25399354, -0.15574807])"
      ]
     },
     "execution_count": 9,
     "metadata": {},
     "output_type": "execute_result"
    }
   ],
   "source": [
    "Y_relative_footsteps_acc_RL_support[0, :]"
   ]
  },
  {
   "cell_type": "markdown",
   "id": "3939a822",
   "metadata": {},
   "source": [
    "### Linear Regression"
   ]
  },
  {
   "cell_type": "code",
   "execution_count": 120,
   "id": "54732daa",
   "metadata": {},
   "outputs": [
    {
     "name": "stdout",
     "output_type": "stream",
     "text": [
      "R2:  0.786237696247444\n",
      "RMSE:  0.012366901083655749\n",
      "The lowest error is:  3.0971288298653477e-05\n",
      "The highest error is:  0.06878150590160098\n",
      "The avg. error is:  0.008428602436535313\n"
     ]
    }
   ],
   "source": [
    "# Input\n",
    "X = np.hstack((X_relative_footsteps_acc_RL_support[:, :3], # prev velocity command\n",
    "               X_relative_footsteps_acc_RL_support[:, -3:], # commanded velocity command\n",
    "               X_relative_footsteps_acc_RL_support[:, 9:11], # FL (x,y) position\n",
    "               X_relative_footsteps_acc_RL_support[:, 12:14], # FR (x,y) position\n",
    "               X_relative_footsteps_acc_RL_support[:, 15:17], # RL (x,y) position\n",
    "               X_relative_footsteps_acc_RL_support[:, 18:20])) # RR (x,y) position\n",
    "\n",
    "# Target\n",
    "Y = np.array([Y_relative_footsteps_acc_RL_support[:, 4]]).T\n",
    "\n",
    "assert Y.shape[0] == X.shape[0]\n",
    "\n",
    "# Split data into train and test set\n",
    "X_train, X_test, Y_train, Y_test = train_test_split(X, Y, train_size = 0.8, shuffle=True)\n",
    "\n",
    "# Create the model\n",
    "model_rl_relative_support_x = LinearRegression()\n",
    "\n",
    "# Fit the model\n",
    "model_rl_relative_support_x.fit(X_train, Y_train)\n",
    "\n",
    "# Predict\n",
    "predictions = model_rl_relative_support_x.predict(X_test)\n",
    "\n",
    "# Stats\n",
    "print('R2: ', r2_score(predictions, Y_test))\n",
    "print('RMSE: ', np.sqrt(mean_squared_error(Y_test, predictions)))\n",
    "print(\"The lowest error is: \", np.min(np.abs(predictions - Y_test)))\n",
    "print(\"The highest error is: \", np.max(np.abs(predictions - Y_test)))\n",
    "print(\"The avg. error is: \", np.mean(np.abs(predictions - Y_test)))\n",
    "#print(\"Seq of errors (descendant): \\n\", sorted(np.abs(predictions - Y_test).tolist(), reverse=True))"
   ]
  },
  {
   "cell_type": "code",
   "execution_count": 121,
   "id": "e5dcad06",
   "metadata": {},
   "outputs": [
    {
     "data": {
      "text/plain": [
       "array([[ 0.02002966, -0.09324606,  0.11996399, -0.06139114, -0.00280576,\n",
       "         0.06880636, -0.38722816,  0.09341646, -0.22300685,  0.74894707,\n",
       "         0.12816071,  0.1159985 ,  0.33208778,  0.10041595]])"
      ]
     },
     "execution_count": 121,
     "metadata": {},
     "output_type": "execute_result"
    }
   ],
   "source": [
    "model_rl_relative_support_x.coef_"
   ]
  },
  {
   "cell_type": "code",
   "execution_count": 122,
   "id": "2818713d",
   "metadata": {},
   "outputs": [
    {
     "data": {
      "text/plain": [
       "array([0.11470788])"
      ]
     },
     "execution_count": 122,
     "metadata": {},
     "output_type": "execute_result"
    }
   ],
   "source": [
    "model_rl_relative_support_x.intercept_"
   ]
  },
  {
   "cell_type": "code",
   "execution_count": 123,
   "id": "0132935c",
   "metadata": {},
   "outputs": [
    {
     "data": {
      "text/plain": [
       "Text(0, 0.5, 'Predictions')"
      ]
     },
     "execution_count": 123,
     "metadata": {},
     "output_type": "execute_result"
    },
    {
     "data": {
      "image/png": "[encoded data removed]",
      "text/plain": [
       "<Figure size 432x288 with 1 Axes>"
      ]
     },
     "metadata": {
      "needs_background": "light"
     },
     "output_type": "display_data"
    }
   ],
   "source": [
    "## The line / model\n",
    "plt.scatter(Y_test, predictions)\n",
    "plt.xlabel(\"Ground truth\")\n",
    "plt.ylabel(\"Predictions\")"
   ]
  },
  {
   "cell_type": "code",
   "execution_count": 124,
   "id": "1d26d6e3",
   "metadata": {},
   "outputs": [],
   "source": [
    "#%store model_rl_relative_support_x"
   ]
  },
  {
   "cell_type": "code",
   "execution_count": 125,
   "id": "5f665064",
   "metadata": {},
   "outputs": [],
   "source": [
    "#for idx, prediction in enumerate(predictions):\n",
    "#    print(f'Start: {X_test[idx, 6]}. Groundtruth: {Y_test[idx]}. Predicted: {prediction}')"
   ]
  },
  {
   "cell_type": "code",
   "execution_count": 126,
   "id": "932afaa6",
   "metadata": {},
   "outputs": [],
   "source": [
    "# Save model\n",
    "#joblib.dump(model_rl_relative_support_x, \"/home/itaouil/workspace/aliengo_ws/src/aliengo_navigation/models/protocol3/relative/model_rl_relative_support_x.sav\")"
   ]
  },
  {
   "cell_type": "markdown",
   "id": "2237d085",
   "metadata": {},
   "source": [
    "### Predict FL foot -> y"
   ]
  },
  {
   "cell_type": "code",
   "execution_count": 143,
   "id": "3b3099e6",
   "metadata": {},
   "outputs": [
    {
     "name": "stdout",
     "output_type": "stream",
     "text": [
      "R2:  0.9217123344505442\n",
      "RMSE:  0.010770906517110846\n",
      "The lowest error is:  1.5319730012064436e-05\n",
      "The highest error is:  0.07129513689751399\n",
      "The avg. error is:  0.006928823374589493\n"
     ]
    }
   ],
   "source": [
    "# Input\n",
    "X = np.hstack((X_relative_footsteps_acc_RL_support[:, :3], # prev velocity command\n",
    "               X_relative_footsteps_acc_RL_support[:, -3:], # commanded velocity command\n",
    "               X_relative_footsteps_acc_RL_support[:, 9:11], # FL (x,y) position\n",
    "               X_relative_footsteps_acc_RL_support[:, 12:14], # FR (x,y) position\n",
    "               X_relative_footsteps_acc_RL_support[:, 15:17], # RL (x,y) position\n",
    "               X_relative_footsteps_acc_RL_support[:, 18:20])) # RR (x,y) position\n",
    "\n",
    "# Target\n",
    "Y = np.array([Y_relative_footsteps_acc_RL_support[:, 5]]).T\n",
    "\n",
    "assert Y.shape[0] == X.shape[0]\n",
    "\n",
    "# Split data into train and test set\n",
    "X_train, X_test, Y_train, Y_test = train_test_split(X, Y, train_size = 0.8, shuffle=True)\n",
    "\n",
    "# Create the model\n",
    "model_rl_relative_support_y = LinearRegression()\n",
    "\n",
    "# Fit the model\n",
    "model_rl_relative_support_y.fit(X_train, Y_train)\n",
    "\n",
    "# Predict\n",
    "predictions = model_rl_relative_support_y.predict(X_test)\n",
    "\n",
    "# Stats\n",
    "print('R2: ', r2_score(predictions, Y_test))\n",
    "print('RMSE: ', np.sqrt(mean_squared_error(Y_test, predictions)))\n",
    "print(\"The lowest error is: \", np.min(np.abs(predictions - Y_test)))\n",
    "print(\"The highest error is: \", np.max(np.abs(predictions - Y_test)))\n",
    "print(\"The avg. error is: \", np.mean(np.abs(predictions - Y_test)))\n",
    "#print(\"Seq of errors (descendant): \\n\", sorted(np.abs(predictions - Y_test).tolist(), reverse=True))"
   ]
  },
  {
   "cell_type": "code",
   "execution_count": 144,
   "id": "8e1b2a5a",
   "metadata": {},
   "outputs": [
    {
     "data": {
      "text/plain": [
       "array([[-0.00459903, -0.14690234,  0.05629508,  0.01335583, -0.05174463,\n",
       "        -0.02012723, -0.11997766, -0.45331667,  0.16445858, -0.2877582 ,\n",
       "        -0.3045838 ,  1.45304342,  0.0443908 , -0.01489819]])"
      ]
     },
     "execution_count": 144,
     "metadata": {},
     "output_type": "execute_result"
    }
   ],
   "source": [
    "model_rl_relative_support_y.coef_"
   ]
  },
  {
   "cell_type": "code",
   "execution_count": 145,
   "id": "ac00f9c1",
   "metadata": {},
   "outputs": [
    {
     "data": {
      "text/plain": [
       "array([-0.1271132])"
      ]
     },
     "execution_count": 145,
     "metadata": {},
     "output_type": "execute_result"
    }
   ],
   "source": [
    "model_rl_relative_support_y.intercept_"
   ]
  },
  {
   "cell_type": "code",
   "execution_count": 146,
   "id": "e0507fbe",
   "metadata": {},
   "outputs": [
    {
     "data": {
      "text/plain": [
       "Text(0, 0.5, 'Predictions')"
      ]
     },
     "execution_count": 146,
     "metadata": {},
     "output_type": "execute_result"
    },
    {
     "data": {
      "image/png": "[encoded data removed]",
      "text/plain": [
       "<Figure size 432x288 with 1 Axes>"
      ]
     },
     "metadata": {
      "needs_background": "light"
     },
     "output_type": "display_data"
    }
   ],
   "source": [
    "## The line / model\n",
    "plt.scatter(Y_test, predictions)\n",
    "plt.xlabel(\"Ground truth\")\n",
    "plt.ylabel(\"Predictions\")"
   ]
  },
  {
   "cell_type": "code",
   "execution_count": 147,
   "id": "f7ccbf1a",
   "metadata": {},
   "outputs": [],
   "source": [
    "#%store model_rl_relative_support_y"
   ]
  },
  {
   "cell_type": "code",
   "execution_count": 148,
   "id": "d858f45b",
   "metadata": {},
   "outputs": [],
   "source": [
    "#for idx, prediction in enumerate(predictions):\n",
    "#    print(f'Groundtruth: {Y_test[idx]}. Predicted: {prediction}')"
   ]
  },
  {
   "cell_type": "code",
   "execution_count": 32,
   "id": "a94228a8",
   "metadata": {},
   "outputs": [],
   "source": [
    "# Save model\n",
    "#joblib.dump(model_rl_relative_support_y, \"/home/itaouil/workspace/aliengo_ws/src/aliengo_navigation/models/protocol3/relative/model_rl_relative_support_y.sav\")"
   ]
  },
  {
   "cell_type": "code",
   "execution_count": null,
   "id": "760bdb61",
   "metadata": {},
   "outputs": [],
   "source": []
  }
 ],
 "metadata": {
  "kernelspec": {
   "display_name": "Python 3",
   "language": "python",
   "name": "python3"
  },
  "language_info": {
   "codemirror_mode": {
    "name": "ipython",
    "version": 3
   },
   "file_extension": ".py",
   "mimetype": "text/x-python",
   "name": "python",
   "nbconvert_exporter": "python",
   "pygments_lexer": "ipython3",
   "version": "3.6.12"
  }
 },
 "nbformat": 4,
 "nbformat_minor": 5
}
