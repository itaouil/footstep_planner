{
 "cells": [
  {
   "cell_type": "code",
   "execution_count": 1,
   "id": "2d373f72",
   "metadata": {},
   "outputs": [],
   "source": [
    "#!/usr/bin/env python3.6\n",
    "# -*- coding: utf-8 -*-"
   ]
  },
  {
   "cell_type": "code",
   "execution_count": 2,
   "id": "78efc80c",
   "metadata": {},
   "outputs": [],
   "source": [
    "# Imports\n",
    "import sys\n",
    "import joblib\n",
    "import numpy as np\n",
    "from matplotlib import animation\n",
    "from IPython.display import HTML\n",
    "from matplotlib import pyplot as plt\n",
    "import mpl_toolkits.mplot3d.axes3d as p3"
   ]
  },
  {
   "cell_type": "code",
   "execution_count": 3,
   "id": "fd4d3aa5",
   "metadata": {},
   "outputs": [],
   "source": [
    "#np.random.seed(20)\n",
    "np.set_printoptions(threshold=sys.maxsize)"
   ]
  },
  {
   "cell_type": "code",
   "execution_count": 4,
   "id": "093a7508",
   "metadata": {},
   "outputs": [],
   "source": [
    "%matplotlib inline"
   ]
  },
  {
   "cell_type": "code",
   "execution_count": 5,
   "id": "e5a4e60f",
   "metadata": {},
   "outputs": [
    {
     "name": "stdout",
     "output_type": "stream",
     "text": [
      "(21881, 28)\n",
      "(21881, 8)\n"
     ]
    }
   ],
   "source": [
    "%store -r X_relative_footsteps_acc\n",
    "%store -r Y_relative_footsteps_acc\n",
    "print(X_relative_footsteps_acc.shape)\n",
    "print(Y_relative_footsteps_acc.shape)"
   ]
  },
  {
   "cell_type": "markdown",
   "id": "0363bebd",
   "metadata": {},
   "source": [
    "# Multivariate Linear Regression (Foot prediction)"
   ]
  },
  {
   "cell_type": "code",
   "execution_count": 6,
   "id": "b5a327bf",
   "metadata": {},
   "outputs": [],
   "source": [
    "import sklearn\n",
    "from sklearn import metrics\n",
    "from sklearn.feature_selection import RFE\n",
    "from sklearn.model_selection import KFold\n",
    "from sklearn.linear_model import LinearRegression\n",
    "from sklearn.model_selection import train_test_split\n",
    "from sklearn.preprocessing import PolynomialFeatures \n",
    "from sklearn.model_selection import cross_val_score, cross_val_predict\n",
    "from sklearn.metrics import mean_squared_error, mean_absolute_error, r2_score"
   ]
  },
  {
   "cell_type": "code",
   "execution_count": 7,
   "id": "fe7e766a",
   "metadata": {},
   "outputs": [],
   "source": [
    "# Entries where FL/RR are swinging\n",
    "idxs = np.where(X_relative_footsteps_acc[:, 24] == 1)[0]\n",
    "X_relative_footsteps_acc_RR_swing = X_relative_footsteps_acc[idxs]\n",
    "Y_relative_footsteps_acc_RR_swing = Y_relative_footsteps_acc[idxs]"
   ]
  },
  {
   "cell_type": "markdown",
   "id": "094b827c",
   "metadata": {},
   "source": [
    "## Predict FL foot -> x"
   ]
  },
  {
   "cell_type": "code",
   "execution_count": 8,
   "id": "2bfc2124",
   "metadata": {},
   "outputs": [
    {
     "data": {
      "text/plain": [
       "array([ 0.1       ,  0.        ,  0.        ,  0.04003644, -0.06632428,\n",
       "        0.05440154,  0.00439207,  0.02899047,  0.02653936,  0.22664036,\n",
       "        0.18001143, -0.4086564 ,  0.23994108, -0.16991884, -0.40835668,\n",
       "       -0.2385218 ,  0.16382314, -0.41169444, -0.25160387, -0.15317046,\n",
       "       -0.41252498,  1.        ,  0.        ,  0.        ,  1.        ,\n",
       "        0.        ,  0.        ,  0.        ])"
      ]
     },
     "execution_count": 8,
     "metadata": {},
     "output_type": "execute_result"
    }
   ],
   "source": [
    "X_relative_footsteps_acc_RR_swing[0, :]"
   ]
  },
  {
   "cell_type": "code",
   "execution_count": 9,
   "id": "2aa7fd87",
   "metadata": {},
   "outputs": [
    {
     "data": {
      "text/plain": [
       "array([ 0.22800851,  0.17177425,  0.23270544, -0.17693889, -0.24620022,\n",
       "        0.1547656 , -0.24999362, -0.16156544])"
      ]
     },
     "execution_count": 9,
     "metadata": {},
     "output_type": "execute_result"
    }
   ],
   "source": [
    "Y_relative_footsteps_acc_RR_swing[0, :]"
   ]
  },
  {
   "cell_type": "markdown",
   "id": "e417924f",
   "metadata": {},
   "source": [
    "### Linear Regression"
   ]
  },
  {
   "cell_type": "code",
   "execution_count": 25,
   "id": "fbf10da0",
   "metadata": {},
   "outputs": [
    {
     "name": "stdout",
     "output_type": "stream",
     "text": [
      "R2:  0.8121249010958769\n",
      "RMSE:  0.010261044018904295\n",
      "The lowest error is:  8.989188168273543e-07\n",
      "The highest error is:  0.08119951217364327\n",
      "The avg. error is:  0.0052748470515987245\n"
     ]
    }
   ],
   "source": [
    "# Input\n",
    "X = np.hstack((X_relative_footsteps_acc_RR_swing[:, :3], # prev velocity command\n",
    "               X_relative_footsteps_acc_RR_swing[:, -3:], # commanded velocity command\n",
    "               X_relative_footsteps_acc_RR_swing[:, 9:11], # FL (x,y) position\n",
    "               X_relative_footsteps_acc_RR_swing[:, 12:14], # FR (x,y) position\n",
    "               X_relative_footsteps_acc_RR_swing[:, 15:17], # RL (x,y) position\n",
    "               X_relative_footsteps_acc_RR_swing[:, 18:20])) # RR (x,y) position\n",
    "\n",
    "# Target\n",
    "Y = np.array([Y_relative_footsteps_acc_RR_swing[:, 6]]).T\n",
    "\n",
    "assert Y.shape[0] == X.shape[0]\n",
    "\n",
    "# Split data into train and test set\n",
    "X_train, X_test, Y_train, Y_test = train_test_split(X, Y, train_size = 0.8, shuffle=True)\n",
    "\n",
    "# Create the model\n",
    "model_rr_relative_swinging_x = LinearRegression()\n",
    "\n",
    "# Fit the model\n",
    "model_rr_relative_swinging_x.fit(X_train, Y_train)\n",
    "\n",
    "# Predict\n",
    "predictions = model_rr_relative_swinging_x.predict(X_test)\n",
    "\n",
    "# Stats\n",
    "print('R2: ', r2_score(predictions, Y_test))\n",
    "print('RMSE: ', np.sqrt(mean_squared_error(Y_test, predictions)))\n",
    "print(\"The lowest error is: \", np.min(np.abs(predictions - Y_test)))\n",
    "print(\"The highest error is: \", np.max(np.abs(predictions - Y_test)))\n",
    "print(\"The avg. error is: \", np.mean(np.abs(predictions - Y_test)))\n",
    "#print(\"Seq of errors (descendant): \\n\", sorted(np.abs(predictions - Y_test).tolist(), reverse=True))"
   ]
  },
  {
   "cell_type": "code",
   "execution_count": 26,
   "id": "cd23a79a",
   "metadata": {},
   "outputs": [
    {
     "data": {
      "text/plain": [
       "array([[-1.22117311e-02, -5.41029885e-03, -2.07880169e-02,\n",
       "         1.05229334e-01,  1.08279160e-04, -1.92118599e-03,\n",
       "        -1.36632511e-01, -3.90171366e-03, -3.90766990e-02,\n",
       "        -7.50224517e-02,  1.98140007e-01,  2.07535397e-01,\n",
       "         4.06975811e-01, -2.03351791e-02]])"
      ]
     },
     "execution_count": 26,
     "metadata": {},
     "output_type": "execute_result"
    }
   ],
   "source": [
    "model_rr_relative_swinging_x.coef_"
   ]
  },
  {
   "cell_type": "code",
   "execution_count": 27,
   "id": "f72f2a9f",
   "metadata": {},
   "outputs": [
    {
     "data": {
      "text/plain": [
       "array([-0.10951978])"
      ]
     },
     "execution_count": 27,
     "metadata": {},
     "output_type": "execute_result"
    }
   ],
   "source": [
    "model_rr_relative_swinging_x.intercept_"
   ]
  },
  {
   "cell_type": "code",
   "execution_count": 28,
   "id": "dc92fd5f",
   "metadata": {},
   "outputs": [
    {
     "data": {
      "text/plain": [
       "Text(0, 0.5, 'Predictions')"
      ]
     },
     "execution_count": 28,
     "metadata": {},
     "output_type": "execute_result"
    },
    {
     "data": {
      "image/png": "[encoded data removed]",
      "text/plain": [
       "<Figure size 432x288 with 1 Axes>"
      ]
     },
     "metadata": {
      "needs_background": "light"
     },
     "output_type": "display_data"
    }
   ],
   "source": [
    "## The line / model\n",
    "plt.scatter(Y_test, predictions)\n",
    "plt.xlabel(\"Ground truth\")\n",
    "plt.ylabel(\"Predictions\")"
   ]
  },
  {
   "cell_type": "code",
   "execution_count": 29,
   "id": "3d7a68a0",
   "metadata": {},
   "outputs": [],
   "source": [
    "#%store model_rr_relative_swinging_x"
   ]
  },
  {
   "cell_type": "code",
   "execution_count": 30,
   "id": "cb4e7aed",
   "metadata": {},
   "outputs": [],
   "source": [
    "#for idx, prediction in enumerate(predictions):\n",
    "#    print(f'Start: {X_test[idx, 6]}. Groundtruth: {Y_test[idx]}. Predicted: {prediction}')"
   ]
  },
  {
   "cell_type": "code",
   "execution_count": 31,
   "id": "e56cc6d5",
   "metadata": {},
   "outputs": [],
   "source": [
    "# Save model\n",
    "#joblib.dump(model_rr_relative_swinging_x, \"/home/itaouil/workspace/aliengo_ws/src/aliengo_navigation/models/protocol3/relative/model_rr_relative_swinging_x.sav\")"
   ]
  },
  {
   "cell_type": "markdown",
   "id": "7e2b627e",
   "metadata": {},
   "source": [
    "### Predict RR foot -> y"
   ]
  },
  {
   "cell_type": "code",
   "execution_count": 32,
   "id": "cf37a8ae",
   "metadata": {},
   "outputs": [
    {
     "name": "stdout",
     "output_type": "stream",
     "text": [
      "R2:  0.9144896849335974\n",
      "RMSE:  0.007889010940058895\n",
      "The lowest error is:  4.51966820302907e-07\n",
      "The highest error is:  0.051832296432713754\n",
      "The avg. error is:  0.004776042677548074\n"
     ]
    }
   ],
   "source": [
    "# Input\n",
    "X = np.hstack((X_relative_footsteps_acc_RR_swing[:, :3], # prev velocity command\n",
    "               X_relative_footsteps_acc_RR_swing[:, -3:], # commanded velocity command\n",
    "               X_relative_footsteps_acc_RR_swing[:, 9:11], # FL (x,y) position\n",
    "               X_relative_footsteps_acc_RR_swing[:, 12:14], # FR (x,y) position\n",
    "               X_relative_footsteps_acc_RR_swing[:, 15:17], # RL (x,y) position\n",
    "               X_relative_footsteps_acc_RR_swing[:, 18:20])) # RR (x,y) position\n",
    "\n",
    "# Target\n",
    "Y = np.array([Y_relative_footsteps_acc_RR_swing[:, 7]]).T\n",
    "\n",
    "assert Y.shape[0] == X.shape[0]\n",
    "\n",
    "# Split data into train and test set\n",
    "X_train, X_test, Y_train, Y_test = train_test_split(X, Y, train_size = 0.8, shuffle=True)\n",
    "\n",
    "# Create the model\n",
    "model_rr_relative_swinging_y = LinearRegression()\n",
    "\n",
    "# Fit the model\n",
    "model_rr_relative_swinging_y.fit(X_train, Y_train)\n",
    "\n",
    "# Predict\n",
    "predictions = model_rr_relative_swinging_y.predict(X_test)\n",
    "\n",
    "# Stats\n",
    "print('R2: ', r2_score(predictions, Y_test))\n",
    "print('RMSE: ', np.sqrt(mean_squared_error(Y_test, predictions)))\n",
    "print(\"The lowest error is: \", np.min(np.abs(predictions - Y_test)))\n",
    "print(\"The highest error is: \", np.max(np.abs(predictions - Y_test)))\n",
    "print(\"The avg. error is: \", np.mean(np.abs(predictions - Y_test)))\n",
    "#print(\"Seq of errors (descendant): \\n\", sorted(np.abs(predictions - Y_test).tolist(), reverse=True))"
   ]
  },
  {
   "cell_type": "code",
   "execution_count": 33,
   "id": "062838d2",
   "metadata": {},
   "outputs": [
    {
     "data": {
      "text/plain": [
       "array([[ 0.01218653,  0.00575799,  0.04918521, -0.00116033,  0.10172032,\n",
       "         0.10784985, -0.11050414, -0.0343263 ,  0.26946199,  0.23847801,\n",
       "        -0.36744035, -0.1401431 ,  0.12656233,  0.56553021]])"
      ]
     },
     "execution_count": 33,
     "metadata": {},
     "output_type": "execute_result"
    }
   ],
   "source": [
    "model_rr_relative_swinging_y.coef_"
   ]
  },
  {
   "cell_type": "code",
   "execution_count": 34,
   "id": "c4a48772",
   "metadata": {},
   "outputs": [
    {
     "data": {
      "text/plain": [
       "array([-0.10135209])"
      ]
     },
     "execution_count": 34,
     "metadata": {},
     "output_type": "execute_result"
    }
   ],
   "source": [
    "model_rr_relative_swinging_y.intercept_"
   ]
  },
  {
   "cell_type": "code",
   "execution_count": 35,
   "id": "7a01b1d5",
   "metadata": {},
   "outputs": [
    {
     "data": {
      "text/plain": [
       "Text(0, 0.5, 'Predictions')"
      ]
     },
     "execution_count": 35,
     "metadata": {},
     "output_type": "execute_result"
    },
    {
     "data": {
      "image/png": "[encoded data removed]",
      "text/plain": [
       "<Figure size 432x288 with 1 Axes>"
      ]
     },
     "metadata": {
      "needs_background": "light"
     },
     "output_type": "display_data"
    }
   ],
   "source": [
    "## The line / model\n",
    "plt.scatter(Y_test, predictions)\n",
    "plt.xlabel(\"Ground truth\")\n",
    "plt.ylabel(\"Predictions\")"
   ]
  },
  {
   "cell_type": "code",
   "execution_count": 21,
   "id": "4ba46123",
   "metadata": {},
   "outputs": [],
   "source": [
    "#%store model_rr_relative_swinging_y"
   ]
  },
  {
   "cell_type": "code",
   "execution_count": 30,
   "id": "25448572",
   "metadata": {},
   "outputs": [],
   "source": [
    "#for idx, prediction in enumerate(predictions):\n",
    "#    print(f'Input: {X_test[idx]}. Groundtruth: {Y_test[idx]}. Predicted: {prediction}')"
   ]
  },
  {
   "cell_type": "code",
   "execution_count": 31,
   "id": "5a4de4d6",
   "metadata": {},
   "outputs": [],
   "source": [
    "# Save model\n",
    "#joblib.dump(model_rr_relative_swinging_y, \"/home/itaouil/workspace/aliengo_ws/src/aliengo_navigation/models/protocol3/relative/model_rr_relative_swinging_y.sav\")"
   ]
  },
  {
   "cell_type": "code",
   "execution_count": null,
   "id": "db4456e3",
   "metadata": {},
   "outputs": [],
   "source": []
  }
 ],
 "metadata": {
  "kernelspec": {
   "display_name": "Python 3",
   "language": "python",
   "name": "python3"
  },
  "language_info": {
   "codemirror_mode": {
    "name": "ipython",
    "version": 3
   },
   "file_extension": ".py",
   "mimetype": "text/x-python",
   "name": "python",
   "nbconvert_exporter": "python",
   "pygments_lexer": "ipython3",
   "version": "3.6.12"
  }
 },
 "nbformat": 4,
 "nbformat_minor": 5
}
