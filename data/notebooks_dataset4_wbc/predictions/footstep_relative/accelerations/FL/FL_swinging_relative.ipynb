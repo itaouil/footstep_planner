{
 "cells": [
  {
   "cell_type": "code",
   "execution_count": 1,
   "id": "e2489c00",
   "metadata": {},
   "outputs": [],
   "source": [
    "#!/usr/bin/env python3.6\n",
    "# -*- coding: utf-8 -*-"
   ]
  },
  {
   "cell_type": "code",
   "execution_count": 2,
   "id": "278b2a54",
   "metadata": {},
   "outputs": [],
   "source": [
    "# Imports\n",
    "import sys\n",
    "import joblib\n",
    "import numpy as np\n",
    "from matplotlib import animation\n",
    "from IPython.display import HTML\n",
    "from matplotlib import pyplot as plt\n",
    "import mpl_toolkits.mplot3d.axes3d as p3"
   ]
  },
  {
   "cell_type": "code",
   "execution_count": 3,
   "id": "c75c5dff",
   "metadata": {},
   "outputs": [],
   "source": [
    "#np.random.seed(20)\n",
    "np.set_printoptions(threshold=sys.maxsize)"
   ]
  },
  {
   "cell_type": "code",
   "execution_count": 4,
   "id": "5f672b1a",
   "metadata": {},
   "outputs": [],
   "source": [
    "%matplotlib inline"
   ]
  },
  {
   "cell_type": "code",
   "execution_count": 5,
   "id": "9c8f3a22",
   "metadata": {},
   "outputs": [
    {
     "name": "stdout",
     "output_type": "stream",
     "text": [
      "(17646, 28)\n",
      "(17646, 8)\n"
     ]
    }
   ],
   "source": [
    "%store -r X_relative_footsteps_acc\n",
    "%store -r Y_relative_footsteps_acc\n",
    "print(X_relative_footsteps_acc.shape)\n",
    "print(Y_relative_footsteps_acc.shape)"
   ]
  },
  {
   "cell_type": "markdown",
   "id": "074bd9d3",
   "metadata": {},
   "source": [
    "# Multivariate Linear Regression (Foot prediction)"
   ]
  },
  {
   "cell_type": "code",
   "execution_count": 6,
   "id": "af4bdaf9",
   "metadata": {},
   "outputs": [],
   "source": [
    "import sklearn\n",
    "from sklearn import metrics\n",
    "from sklearn.feature_selection import RFE\n",
    "from sklearn.model_selection import KFold\n",
    "from sklearn.linear_model import LinearRegression\n",
    "from sklearn.model_selection import train_test_split\n",
    "from sklearn.preprocessing import PolynomialFeatures \n",
    "from sklearn.model_selection import cross_val_score, cross_val_predict\n",
    "from sklearn.metrics import mean_squared_error, mean_absolute_error, r2_score, accuracy_score"
   ]
  },
  {
   "cell_type": "code",
   "execution_count": 7,
   "id": "8ea024b6",
   "metadata": {},
   "outputs": [
    {
     "data": {
      "text/plain": [
       "array([ 0.        ,  0.        ,  0.        , -0.01667854,  0.02806931,\n",
       "        0.04898649, -0.00293043,  0.04369139, -0.00966195,  0.22882891,\n",
       "        0.16832004, -0.40987395,  0.23396882, -0.16832977, -0.40997042,\n",
       "       -0.24291083,  0.16426133, -0.41338172, -0.24842681, -0.16367363,\n",
       "       -0.41372354,  0.        ,  1.        ,  1.        ,  0.        ,\n",
       "        0.1       ,  0.        ,  0.        ])"
      ]
     },
     "execution_count": 7,
     "metadata": {},
     "output_type": "execute_result"
    }
   ],
   "source": [
    "X_relative_footsteps_acc[0, :]"
   ]
  },
  {
   "cell_type": "code",
   "execution_count": 8,
   "id": "8fa25173",
   "metadata": {},
   "outputs": [],
   "source": [
    "## Entries where FL is swinging\n",
    "idxs = np.where(X_relative_footsteps_acc[:, 21] == 1)[0]\n",
    "X_relative_footsteps_acc_FL_swinging = X_relative_footsteps_acc[idxs]\n",
    "Y_relative_footsteps_acc_FL_swinging = Y_relative_footsteps_acc[idxs]"
   ]
  },
  {
   "cell_type": "markdown",
   "id": "7dbd11b9",
   "metadata": {},
   "source": [
    "## Predict FL foot -> x"
   ]
  },
  {
   "cell_type": "code",
   "execution_count": 9,
   "id": "fcf1ad09",
   "metadata": {},
   "outputs": [
    {
     "data": {
      "text/plain": [
       "(8794, 28)"
      ]
     },
     "execution_count": 9,
     "metadata": {},
     "output_type": "execute_result"
    }
   ],
   "source": [
    "X_relative_footsteps_acc_FL_swinging.shape"
   ]
  },
  {
   "cell_type": "code",
   "execution_count": 10,
   "id": "3aa1c908",
   "metadata": {},
   "outputs": [],
   "source": [
    "#X_relative_footsteps_acc_FL_swinging[:10, :]"
   ]
  },
  {
   "cell_type": "code",
   "execution_count": 11,
   "id": "437bde51",
   "metadata": {},
   "outputs": [
    {
     "data": {
      "text/plain": [
       "array([ 0.22800851,  0.17177425,  0.23270544, -0.17693889, -0.24620022,\n",
       "        0.1547656 , -0.24999362, -0.16156544])"
      ]
     },
     "execution_count": 11,
     "metadata": {},
     "output_type": "execute_result"
    }
   ],
   "source": [
    "Y_relative_footsteps_acc_FL_swinging[0, :]"
   ]
  },
  {
   "cell_type": "markdown",
   "id": "86e21c74",
   "metadata": {},
   "source": [
    "### Linear Regression"
   ]
  },
  {
   "cell_type": "code",
   "execution_count": 43,
   "id": "f66e22b3",
   "metadata": {},
   "outputs": [
    {
     "name": "stdout",
     "output_type": "stream",
     "text": [
      "R2:  0.9142503006560745\n",
      "RMSE:  0.005807190822184098\n",
      "The lowest error is:  3.2532281822872378e-06\n",
      "The highest error is:  0.05090206121652571\n",
      "The avg. error is:  0.0031926288279532163\n"
     ]
    }
   ],
   "source": [
    "# Input\n",
    "X = np.hstack((X_relative_footsteps_acc_FL_swinging[:, :3], # prev velocity command\n",
    "               X_relative_footsteps_acc_FL_swinging[:, -3:], # commanded velocity command\n",
    "               X_relative_footsteps_acc_FL_swinging[:, 9:11], # FL (x,y) position\n",
    "               X_relative_footsteps_acc_FL_swinging[:, 12:14], # FR (x,y) position\n",
    "               X_relative_footsteps_acc_FL_swinging[:, 15:17], # RL (x,y) position\n",
    "               X_relative_footsteps_acc_FL_swinging[:, 18:20])) # RR (x,y) position\n",
    "\n",
    "# Target\n",
    "Y = np.array([Y_relative_footsteps_acc_FL_swinging[:, 0]]).T\n",
    "\n",
    "assert Y.shape[0] == X.shape[0]\n",
    "\n",
    "# Split data into train and test set\n",
    "X_train, X_test, Y_train, Y_test = train_test_split(X, Y, train_size = 0.8, shuffle=True)\n",
    "\n",
    "# Create the model\n",
    "model_fl_relative_support_x = LinearRegression()\n",
    "\n",
    "# Fit the model\n",
    "model_fl_relative_support_x.fit(X_train, Y_train)\n",
    "\n",
    "# Predict\n",
    "predictions = model_fl_relative_support_x.predict(X_test)\n",
    "\n",
    "# Stats\n",
    "print('R2: ', r2_score(predictions, Y_test))\n",
    "print('RMSE: ', np.sqrt(mean_squared_error(Y_test, predictions)))\n",
    "print(\"The lowest error is: \", np.min(np.abs(predictions - Y_test)))\n",
    "print(\"The highest error is: \", np.max(np.abs(predictions - Y_test)))\n",
    "print(\"The avg. error is: \", np.mean(np.abs(predictions - Y_test)))\n",
    "#print(\"Seq of errors (descendant): \\n\", sorted(np.abs(predictions - Y_test).tolist(), reverse=True))"
   ]
  },
  {
   "cell_type": "code",
   "execution_count": 44,
   "id": "2b8a8022",
   "metadata": {},
   "outputs": [
    {
     "data": {
      "text/plain": [
       "array([[ 0.006528  ,  0.0046194 ,  0.02301247,  0.10490247,  0.00046301,\n",
       "        -0.01285304,  0.40300386,  0.07621529, -0.0958813 , -0.17937189,\n",
       "         0.12981206,  0.14650048, -0.11164553, -0.17192212]])"
      ]
     },
     "execution_count": 44,
     "metadata": {},
     "output_type": "execute_result"
    }
   ],
   "source": [
    "model_fl_relative_support_x.coef_"
   ]
  },
  {
   "cell_type": "code",
   "execution_count": 45,
   "id": "3e2416b0",
   "metadata": {},
   "outputs": [
    {
     "data": {
      "text/plain": [
       "array([0.06574568])"
      ]
     },
     "execution_count": 45,
     "metadata": {},
     "output_type": "execute_result"
    }
   ],
   "source": [
    "model_fl_relative_support_x.intercept_"
   ]
  },
  {
   "cell_type": "code",
   "execution_count": 46,
   "id": "b6673bb1",
   "metadata": {},
   "outputs": [
    {
     "data": {
      "text/plain": [
       "Text(0, 0.5, 'Predictions')"
      ]
     },
     "execution_count": 46,
     "metadata": {},
     "output_type": "execute_result"
    },
    {
     "data": {
      "image/png": "[encoded data removed]",
      "text/plain": [
       "<Figure size 432x288 with 1 Axes>"
      ]
     },
     "metadata": {
      "needs_background": "light"
     },
     "output_type": "display_data"
    }
   ],
   "source": [
    "## The line / model\n",
    "plt.scatter(Y_test, predictions)\n",
    "plt.xlabel(\"Ground truth\")\n",
    "plt.ylabel(\"Predictions\")"
   ]
  },
  {
   "cell_type": "code",
   "execution_count": 47,
   "id": "7c72016e",
   "metadata": {},
   "outputs": [],
   "source": [
    "#%store model_fl_relative_support_x"
   ]
  },
  {
   "cell_type": "code",
   "execution_count": 48,
   "id": "23e1933f",
   "metadata": {},
   "outputs": [],
   "source": [
    "#for idx, prediction in enumerate(predictions):\n",
    "#    print(f'Start: {X_test[idx, 6]}. Groundtruth: {Y_test[idx]}. Predicted: {prediction}')"
   ]
  },
  {
   "cell_type": "code",
   "execution_count": 49,
   "id": "dd860906",
   "metadata": {},
   "outputs": [],
   "source": [
    "# Save model\n",
    "#joblib.dump(model_fl_relative_support_x, \"/home/itaouil/workspace/aliengo_ws/src/aliengo_navigation/models/protocol3/relative/model_fl_relative_support_x.sav\")"
   ]
  },
  {
   "cell_type": "markdown",
   "id": "d575d4ae",
   "metadata": {},
   "source": [
    "### Predict FL foot -> y"
   ]
  },
  {
   "cell_type": "code",
   "execution_count": 78,
   "id": "fa1618e1",
   "metadata": {},
   "outputs": [
    {
     "name": "stdout",
     "output_type": "stream",
     "text": [
      "R2:  0.8356296338262377\n",
      "RMSE:  0.010258525520973751\n",
      "The lowest error is:  7.131596968523723e-08\n",
      "The highest error is:  0.05237026955499258\n",
      "The avg. error is:  0.006791210830174032\n"
     ]
    }
   ],
   "source": [
    "# Input\n",
    "X = np.hstack((X_relative_footsteps_acc_FL_swinging[:, :3], # prev velocity command\n",
    "               X_relative_footsteps_acc_FL_swinging[:, -3:], # commanded velocity command\n",
    "               X_relative_footsteps_acc_FL_swinging[:, 9:11], # FL (x,y) position\n",
    "               X_relative_footsteps_acc_FL_swinging[:, 12:14], # FR (x,y) position\n",
    "               X_relative_footsteps_acc_FL_swinging[:, 15:17], # RL (x,y) position\n",
    "               X_relative_footsteps_acc_FL_swinging[:, 18:20])) # RR (x,y) position\n",
    "\n",
    "# Target\n",
    "Y = np.array([Y_relative_footsteps_acc_FL_swinging[:, 1]]).T\n",
    "\n",
    "assert Y.shape[0] == X.shape[0]\n",
    "\n",
    "# Split data into train and test set\n",
    "X_train, X_test, Y_train, Y_test = train_test_split(X, Y, train_size = 0.8, shuffle=True)\n",
    "\n",
    "# Create the model\n",
    "model_fl_relative_support_y = LinearRegression()\n",
    "\n",
    "# Fit the model\n",
    "model_fl_relative_support_y.fit(X_train, Y_train)\n",
    "\n",
    "# Predict\n",
    "predictions = model_fl_relative_support_y.predict(X_test)\n",
    "\n",
    "# Stats\n",
    "print('R2: ', r2_score(predictions, Y_test))\n",
    "print('RMSE: ', np.sqrt(mean_squared_error(Y_test, predictions)))\n",
    "print(\"The lowest error is: \", np.min(np.abs(predictions - Y_test)))\n",
    "print(\"The highest error is: \", np.max(np.abs(predictions - Y_test)))\n",
    "print(\"The avg. error is: \", np.mean(np.abs(predictions - Y_test)))\n",
    "#print(\"Seq of errors (descendant): \\n\", sorted(np.abs(predictions - Y_test).tolist(), reverse=True))"
   ]
  },
  {
   "cell_type": "code",
   "execution_count": 79,
   "id": "baf2688e",
   "metadata": {},
   "outputs": [
    {
     "data": {
      "text/plain": [
       "array([[ 6.25529627e-02, -4.22266556e-02, -1.16588822e-02,\n",
       "        -3.04496871e-04,  1.00475785e-01,  1.93271910e-01,\n",
       "        -1.82795236e-01,  6.16651332e-01,  1.32208086e-01,\n",
       "         5.65309479e-01, -8.01999623e-01,  1.02191330e-01,\n",
       "         3.23936008e-02, -6.69171292e-03]])"
      ]
     },
     "execution_count": 79,
     "metadata": {},
     "output_type": "execute_result"
    }
   ],
   "source": [
    "model_fl_relative_support_y.coef_"
   ]
  },
  {
   "cell_type": "code",
   "execution_count": 80,
   "id": "83317670",
   "metadata": {},
   "outputs": [
    {
     "data": {
      "text/plain": [
       "array([-0.04032747])"
      ]
     },
     "execution_count": 80,
     "metadata": {},
     "output_type": "execute_result"
    }
   ],
   "source": [
    "model_fl_relative_support_y.intercept_"
   ]
  },
  {
   "cell_type": "code",
   "execution_count": 81,
   "id": "76ebf44b",
   "metadata": {},
   "outputs": [
    {
     "data": {
      "text/plain": [
       "Text(0, 0.5, 'Predictions')"
      ]
     },
     "execution_count": 81,
     "metadata": {},
     "output_type": "execute_result"
    },
    {
     "data": {
      "image/png": "[encoded data removed]",
      "text/plain": [
       "<Figure size 432x288 with 1 Axes>"
      ]
     },
     "metadata": {
      "needs_background": "light"
     },
     "output_type": "display_data"
    }
   ],
   "source": [
    "## The line / model\n",
    "plt.scatter(Y_test, predictions)\n",
    "plt.xlabel(\"Ground truth\")\n",
    "plt.ylabel(\"Predictions\")"
   ]
  },
  {
   "cell_type": "code",
   "execution_count": 42,
   "id": "f197cc29",
   "metadata": {},
   "outputs": [],
   "source": [
    "#%store model_fl_relative_support_y"
   ]
  },
  {
   "cell_type": "code",
   "execution_count": 43,
   "id": "a1f708d8",
   "metadata": {},
   "outputs": [],
   "source": [
    "#for idx, prediction in enumerate(predictions):\n",
    "#    print(f'Groundtruth: {Y_test[idx]}. Predicted: {prediction}')"
   ]
  },
  {
   "cell_type": "code",
   "execution_count": 44,
   "id": "bb0a1881",
   "metadata": {},
   "outputs": [],
   "source": [
    "# Save model\n",
    "#joblib.dump(model_fl_relative_support_y, \"/home/itaouil/workspace/aliengo_ws/src/aliengo_navigation/models/protocol3/relative/model_fl_relative_support_y.sav\")"
   ]
  },
  {
   "cell_type": "code",
   "execution_count": null,
   "id": "7fb479b8",
   "metadata": {},
   "outputs": [],
   "source": []
  }
 ],
 "metadata": {
  "kernelspec": {
   "display_name": "Python 3",
   "language": "python",
   "name": "python3"
  },
  "language_info": {
   "codemirror_mode": {
    "name": "ipython",
    "version": 3
   },
   "file_extension": ".py",
   "mimetype": "text/x-python",
   "name": "python",
   "nbconvert_exporter": "python",
   "pygments_lexer": "ipython3",
   "version": "3.6.12"
  }
 },
 "nbformat": 4,
 "nbformat_minor": 5
}
