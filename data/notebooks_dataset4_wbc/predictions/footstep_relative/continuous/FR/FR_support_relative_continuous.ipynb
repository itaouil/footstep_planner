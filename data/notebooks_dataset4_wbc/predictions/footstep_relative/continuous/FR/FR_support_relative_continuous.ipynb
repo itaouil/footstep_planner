{
 "cells": [
  {
   "cell_type": "code",
   "execution_count": 27,
   "id": "77d0ea04",
   "metadata": {},
   "outputs": [],
   "source": [
    "#!/usr/bin/env python3.6\n",
    "# -*- coding: utf-8 -*-"
   ]
  },
  {
   "cell_type": "code",
   "execution_count": 28,
   "id": "2168fcd5",
   "metadata": {},
   "outputs": [],
   "source": [
    "# Imports\n",
    "import sys\n",
    "import joblib\n",
    "import numpy as np\n",
    "from matplotlib import animation\n",
    "from IPython.display import HTML\n",
    "from matplotlib import pyplot as plt\n",
    "import mpl_toolkits.mplot3d.axes3d as p3"
   ]
  },
  {
   "cell_type": "code",
   "execution_count": 29,
   "id": "e100057d",
   "metadata": {},
   "outputs": [],
   "source": [
    "#np.random.seed(20)\n",
    "np.set_printoptions(threshold=sys.maxsize)"
   ]
  },
  {
   "cell_type": "code",
   "execution_count": 30,
   "id": "eb5f9609",
   "metadata": {},
   "outputs": [],
   "source": [
    "%matplotlib inline"
   ]
  },
  {
   "cell_type": "code",
   "execution_count": 31,
   "id": "103d264c",
   "metadata": {},
   "outputs": [
    {
     "name": "stdout",
     "output_type": "stream",
     "text": [
      "(21421, 28)\n",
      "(21421, 8)\n"
     ]
    }
   ],
   "source": [
    "%store -r X_relative_footsteps_continuous\n",
    "%store -r Y_relative_footsteps_continuous\n",
    "print(X_relative_footsteps_continuous.shape)\n",
    "print(Y_relative_footsteps_continuous.shape)"
   ]
  },
  {
   "cell_type": "markdown",
   "id": "901d79db",
   "metadata": {},
   "source": [
    "# Multivariate Linear Regression (Foot prediction)"
   ]
  },
  {
   "cell_type": "code",
   "execution_count": 32,
   "id": "612d9ffc",
   "metadata": {},
   "outputs": [],
   "source": [
    "import sklearn\n",
    "from sklearn import metrics\n",
    "from sklearn.feature_selection import RFE\n",
    "from sklearn.model_selection import KFold\n",
    "from sklearn.linear_model import LinearRegression\n",
    "from sklearn.model_selection import train_test_split\n",
    "from sklearn.preprocessing import PolynomialFeatures \n",
    "from sklearn.model_selection import cross_val_score, cross_val_predict\n",
    "from sklearn.metrics import mean_squared_error, mean_absolute_error, r2_score"
   ]
  },
  {
   "cell_type": "code",
   "execution_count": 33,
   "id": "9916b420",
   "metadata": {},
   "outputs": [],
   "source": [
    "# Entries where FR is supporting\n",
    "idxs = np.where(X_relative_footsteps_continuous[:, 22] == 0)[0]\n",
    "X_relative_footsteps_continuous_FR_support = X_relative_footsteps_continuous[idxs]\n",
    "Y_relative_footsteps_continuous_FR_support = Y_relative_footsteps_continuous[idxs]"
   ]
  },
  {
   "cell_type": "markdown",
   "id": "4f1689e7",
   "metadata": {},
   "source": [
    "## Predict FL foot -> x"
   ]
  },
  {
   "cell_type": "code",
   "execution_count": 34,
   "id": "1315e029",
   "metadata": {},
   "outputs": [
    {
     "data": {
      "text/plain": [
       "array([ 0.1       ,  0.        ,  0.        ,  0.01715523,  0.02680482,\n",
       "        0.05156133, -0.00914702,  0.0315145 , -0.02258525,  0.23698767,\n",
       "        0.17026876, -0.40873471,  0.23344301, -0.16811552, -0.40935065,\n",
       "       -0.24342878,  0.16518854, -0.41243429, -0.24083982, -0.16411242,\n",
       "       -0.41243872,  1.        ,  0.        ,  0.        ,  1.        ,\n",
       "        0.1       ,  0.        ,  0.        ])"
      ]
     },
     "execution_count": 34,
     "metadata": {},
     "output_type": "execute_result"
    }
   ],
   "source": [
    "X_relative_footsteps_continuous_FR_support[0, :]"
   ]
  },
  {
   "cell_type": "code",
   "execution_count": 35,
   "id": "4ea11260",
   "metadata": {},
   "outputs": [
    {
     "data": {
      "text/plain": [
       "array([ 0.22567786,  0.17359778,  0.23985769, -0.16623835, -0.23764378,\n",
       "        0.16585226, -0.25201704, -0.15896871])"
      ]
     },
     "execution_count": 35,
     "metadata": {},
     "output_type": "execute_result"
    }
   ],
   "source": [
    "Y_relative_footsteps_continuous_FR_support[0, :]"
   ]
  },
  {
   "cell_type": "markdown",
   "id": "238f9654",
   "metadata": {},
   "source": [
    "### Linear Regression"
   ]
  },
  {
   "cell_type": "code",
   "execution_count": 52,
   "id": "e724cdb1",
   "metadata": {},
   "outputs": [
    {
     "name": "stdout",
     "output_type": "stream",
     "text": [
      "R2:  0.9963531418534086\n",
      "RMSE:  0.0013048379540206107\n",
      "The lowest error is:  3.030245555590838e-07\n",
      "The highest error is:  0.015963712472382985\n",
      "The avg. error is:  0.0007875859581316289\n"
     ]
    }
   ],
   "source": [
    "# Input\n",
    "X = np.hstack((X_relative_footsteps_continuous_FR_support[:, :3], # motion command\n",
    "               X_relative_footsteps_continuous_FR_support[:, 9:11], # FL (x,y) position\n",
    "               X_relative_footsteps_continuous_FR_support[:, 12:14], # FR (x,y) position\n",
    "               X_relative_footsteps_continuous_FR_support[:, 15:17], # RL (x,y) position\n",
    "               X_relative_footsteps_continuous_FR_support[:, 18:20])) # RR (x,y) position \n",
    "\n",
    "# Target\n",
    "Y = np.array([Y_relative_footsteps_continuous_FR_support[:, 2]]).T\n",
    "\n",
    "assert Y.shape[0] == X.shape[0]\n",
    "\n",
    "# Split data into train and test set\n",
    "X_train, X_test, Y_train, Y_test = train_test_split(X, Y, train_size = 0.8, shuffle=True)\n",
    "\n",
    "# Create the model\n",
    "model_fr_relative_support_x = LinearRegression()\n",
    "\n",
    "# Fit the model\n",
    "model_fr_relative_support_x.fit(X_train, Y_train)\n",
    "\n",
    "# Predict\n",
    "predictions = model_fr_relative_support_x.predict(X_test)\n",
    "\n",
    "# Stats\n",
    "print('R2: ', r2_score(predictions, Y_test))\n",
    "print('RMSE: ', np.sqrt(mean_squared_error(Y_test, predictions)))\n",
    "print(\"The lowest error is: \", np.min(np.abs(predictions - Y_test)))\n",
    "print(\"The highest error is: \", np.max(np.abs(predictions - Y_test)))\n",
    "print(\"The avg. error is: \", np.mean(np.abs(predictions - Y_test)))\n",
    "#print(\"Seq of errors (descendant): \\n\", sorted(np.abs(predictions - Y_test).tolist(), reverse=True))"
   ]
  },
  {
   "cell_type": "code",
   "execution_count": 53,
   "id": "1c0fa14f",
   "metadata": {},
   "outputs": [
    {
     "data": {
      "text/plain": [
       "array([[ 1.00664647e-01,  7.55042267e-03,  3.58554797e-04,\n",
       "         2.14067080e-01, -9.22727270e-02,  5.54949445e-01,\n",
       "        -8.59476903e-02,  3.39691184e-02, -4.38944884e-02,\n",
       "         6.59389492e-02, -1.53755800e-01]])"
      ]
     },
     "execution_count": 53,
     "metadata": {},
     "output_type": "execute_result"
    }
   ],
   "source": [
    "model_fr_relative_support_x.coef_"
   ]
  },
  {
   "cell_type": "code",
   "execution_count": 54,
   "id": "8d446935",
   "metadata": {},
   "outputs": [
    {
     "data": {
      "text/plain": [
       "array([0.05774747])"
      ]
     },
     "execution_count": 54,
     "metadata": {},
     "output_type": "execute_result"
    }
   ],
   "source": [
    "model_fr_relative_support_x.intercept_"
   ]
  },
  {
   "cell_type": "code",
   "execution_count": 55,
   "id": "cd2c3747",
   "metadata": {},
   "outputs": [
    {
     "data": {
      "text/plain": [
       "Text(0, 0.5, 'Predictions')"
      ]
     },
     "execution_count": 55,
     "metadata": {},
     "output_type": "execute_result"
    },
    {
     "data": {
      "image/png": "[encoded data removed]",
      "text/plain": [
       "<Figure size 432x288 with 1 Axes>"
      ]
     },
     "metadata": {
      "needs_background": "light"
     },
     "output_type": "display_data"
    }
   ],
   "source": [
    "## The line / model\n",
    "plt.scatter(Y_test, predictions)\n",
    "plt.xlabel(\"Ground truth\")\n",
    "plt.ylabel(\"Predictions\")"
   ]
  },
  {
   "cell_type": "code",
   "execution_count": 16,
   "id": "5bc3f054",
   "metadata": {},
   "outputs": [],
   "source": [
    "#%store model_fr_relative_support_x"
   ]
  },
  {
   "cell_type": "code",
   "execution_count": 17,
   "id": "08c73504",
   "metadata": {},
   "outputs": [],
   "source": [
    "#for idx, prediction in enumerate(predictions):\n",
    "#    print(f'Start: {X_test[idx, 6]}. Groundtruth: {Y_test[idx]}. Predicted: {prediction}')"
   ]
  },
  {
   "cell_type": "code",
   "execution_count": 18,
   "id": "5698e303",
   "metadata": {},
   "outputs": [],
   "source": [
    "# Save model\n",
    "#joblib.dump(model_fr_relative_support_x, \"/home/itaouil/workspace/aliengo_ws/src/aliengo_navigation/models/protocol3/relative/model_fr_relative_support_x.sav\")"
   ]
  },
  {
   "cell_type": "markdown",
   "id": "a3b2c3c9",
   "metadata": {},
   "source": [
    "### Predict FL foot -> y"
   ]
  },
  {
   "cell_type": "code",
   "execution_count": 85,
   "id": "326a92cd",
   "metadata": {},
   "outputs": [
    {
     "name": "stdout",
     "output_type": "stream",
     "text": [
      "R2:  0.9953613227191658\n",
      "RMSE:  0.0014126193167878188\n",
      "The lowest error is:  1.4670288944473864e-06\n",
      "The highest error is:  0.015606476364556227\n",
      "The avg. error is:  0.0009487749536263295\n"
     ]
    }
   ],
   "source": [
    "# Input\n",
    "X = np.hstack((X_relative_footsteps_continuous_FR_support[:, :3], # motion command\n",
    "               X_relative_footsteps_continuous_FR_support[:, 9:11], # FL (x,y) position\n",
    "               X_relative_footsteps_continuous_FR_support[:, 12:14], # FR (x,y) position\n",
    "               X_relative_footsteps_continuous_FR_support[:, 15:17], # RL (x,y) position\n",
    "               X_relative_footsteps_continuous_FR_support[:, 18:20])) # RR (x,y) position \n",
    "\n",
    "# Target\n",
    "Y = np.array([Y_relative_footsteps_continuous_FR_support[:, 3]]).T\n",
    "\n",
    "assert Y.shape[0] == X.shape[0]\n",
    "\n",
    "# Split data into train and test set\n",
    "X_train, X_test, Y_train, Y_test = train_test_split(X, Y, train_size = 0.8, shuffle=True)\n",
    "\n",
    "# Create the model\n",
    "model_fr_relative_support_y = LinearRegression()\n",
    "\n",
    "# Fit the model\n",
    "model_fr_relative_support_y.fit(X_train, Y_train)\n",
    "\n",
    "# Predict\n",
    "predictions = model_fr_relative_support_y.predict(X_test)\n",
    "\n",
    "# Stats\n",
    "print('R2: ', r2_score(predictions, Y_test))\n",
    "print('RMSE: ', np.sqrt(mean_squared_error(Y_test, predictions)))\n",
    "print(\"The lowest error is: \", np.min(np.abs(predictions - Y_test)))\n",
    "print(\"The highest error is: \", np.max(np.abs(predictions - Y_test)))\n",
    "print(\"The avg. error is: \", np.mean(np.abs(predictions - Y_test)))\n",
    "#print(\"Seq of errors (descendant): \\n\", sorted(np.abs(predictions - Y_test).tolist(), reverse=True))"
   ]
  },
  {
   "cell_type": "code",
   "execution_count": 86,
   "id": "812f40c0",
   "metadata": {},
   "outputs": [
    {
     "data": {
      "text/plain": [
       "array([[-0.00802286,  0.11422631,  0.11751968,  0.01632509, -0.04267717,\n",
       "        -0.05139392,  0.43730848,  0.05448194, -0.04376089,  0.0547442 ,\n",
       "        -0.00615641]])"
      ]
     },
     "execution_count": 86,
     "metadata": {},
     "output_type": "execute_result"
    }
   ],
   "source": [
    "model_fr_relative_support_y.coef_"
   ]
  },
  {
   "cell_type": "code",
   "execution_count": 87,
   "id": "f4887a57",
   "metadata": {},
   "outputs": [
    {
     "data": {
      "text/plain": [
       "array([-0.04498078])"
      ]
     },
     "execution_count": 87,
     "metadata": {},
     "output_type": "execute_result"
    }
   ],
   "source": [
    "model_fr_relative_support_y.intercept_"
   ]
  },
  {
   "cell_type": "code",
   "execution_count": 88,
   "id": "e41321a8",
   "metadata": {},
   "outputs": [
    {
     "data": {
      "text/plain": [
       "Text(0, 0.5, 'Predictions')"
      ]
     },
     "execution_count": 88,
     "metadata": {},
     "output_type": "execute_result"
    },
    {
     "data": {
      "image/png": "[encoded data removed]",
      "text/plain": [
       "<Figure size 432x288 with 1 Axes>"
      ]
     },
     "metadata": {
      "needs_background": "light"
     },
     "output_type": "display_data"
    }
   ],
   "source": [
    "## The line / model\n",
    "plt.scatter(Y_test, predictions)\n",
    "plt.xlabel(\"Ground truth\")\n",
    "plt.ylabel(\"Predictions\")"
   ]
  },
  {
   "cell_type": "code",
   "execution_count": 19,
   "id": "058eedc3",
   "metadata": {},
   "outputs": [],
   "source": [
    "#%store model_fr_relative_support_y"
   ]
  },
  {
   "cell_type": "code",
   "execution_count": 20,
   "id": "7afbf2b4",
   "metadata": {},
   "outputs": [],
   "source": [
    "#for idx, prediction in enumerate(predictions):\n",
    "#    print(f'Groundtruth: {Y_test[idx]}. Predicted: {prediction}')"
   ]
  },
  {
   "cell_type": "code",
   "execution_count": 22,
   "id": "fb378f43",
   "metadata": {},
   "outputs": [],
   "source": [
    "# Save model\n",
    "#joblib.dump(model_fr_relative_support_y, \"/home/itaouil/workspace/aliengo_ws/src/aliengo_navigation/models/protocol3/relative/model_fr_relative_support_y.sav\")"
   ]
  },
  {
   "cell_type": "code",
   "execution_count": null,
   "id": "dffe0d31",
   "metadata": {},
   "outputs": [],
   "source": []
  }
 ],
 "metadata": {
  "kernelspec": {
   "display_name": "Python 3",
   "language": "python",
   "name": "python3"
  },
  "language_info": {
   "codemirror_mode": {
    "name": "ipython",
    "version": 3
   },
   "file_extension": ".py",
   "mimetype": "text/x-python",
   "name": "python",
   "nbconvert_exporter": "python",
   "pygments_lexer": "ipython3",
   "version": "3.6.12"
  }
 },
 "nbformat": 4,
 "nbformat_minor": 5
}
