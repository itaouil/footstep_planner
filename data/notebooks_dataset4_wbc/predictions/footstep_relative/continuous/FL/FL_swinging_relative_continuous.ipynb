{
 "cells": [
  {
   "cell_type": "code",
   "execution_count": 52,
   "id": "c1202919",
   "metadata": {},
   "outputs": [],
   "source": [
    "#!/usr/bin/env python3.6\n",
    "# -*- coding: utf-8 -*-"
   ]
  },
  {
   "cell_type": "code",
   "execution_count": 53,
   "id": "2c7fb8d0",
   "metadata": {},
   "outputs": [],
   "source": [
    "# Imports\n",
    "import sys\n",
    "import joblib\n",
    "import numpy as np\n",
    "from matplotlib import animation\n",
    "from IPython.display import HTML\n",
    "from matplotlib import pyplot as plt\n",
    "import mpl_toolkits.mplot3d.axes3d as p3"
   ]
  },
  {
   "cell_type": "code",
   "execution_count": 54,
   "id": "47f91b5e",
   "metadata": {},
   "outputs": [],
   "source": [
    "#np.random.seed(20)\n",
    "np.set_printoptions(threshold=sys.maxsize)"
   ]
  },
  {
   "cell_type": "code",
   "execution_count": 55,
   "id": "d05c9575",
   "metadata": {},
   "outputs": [],
   "source": [
    "%matplotlib inline"
   ]
  },
  {
   "cell_type": "code",
   "execution_count": 56,
   "id": "8209a19c",
   "metadata": {},
   "outputs": [
    {
     "name": "stdout",
     "output_type": "stream",
     "text": [
      "(21421, 28)\n",
      "(21421, 8)\n"
     ]
    }
   ],
   "source": [
    "%store -r X_relative_footsteps_continuous\n",
    "%store -r Y_relative_footsteps_continuous\n",
    "print(X_relative_footsteps_continuous.shape)\n",
    "print(Y_relative_footsteps_continuous.shape)"
   ]
  },
  {
   "cell_type": "markdown",
   "id": "31383512",
   "metadata": {},
   "source": [
    "# Multivariate Linear Regression (Foot prediction)"
   ]
  },
  {
   "cell_type": "code",
   "execution_count": 57,
   "id": "2a36e219",
   "metadata": {},
   "outputs": [],
   "source": [
    "import sklearn\n",
    "from sklearn import metrics\n",
    "from sklearn.feature_selection import RFE\n",
    "from sklearn.model_selection import KFold\n",
    "from sklearn.linear_model import LinearRegression\n",
    "from sklearn.model_selection import train_test_split\n",
    "from sklearn.preprocessing import PolynomialFeatures \n",
    "from sklearn.model_selection import cross_val_score, cross_val_predict\n",
    "from sklearn.metrics import mean_squared_error, mean_absolute_error, r2_score"
   ]
  },
  {
   "cell_type": "code",
   "execution_count": 58,
   "id": "4e60df47",
   "metadata": {},
   "outputs": [
    {
     "data": {
      "text/plain": [
       "array([ 1.00000000e-01,  0.00000000e+00,  0.00000000e+00,  2.84895771e-02,\n",
       "       -2.91453020e-02,  2.23710749e-02, -8.38189804e-04,  2.31294258e-02,\n",
       "        9.54991797e-03,  2.23055032e-01,  1.73126695e-01, -4.09548272e-01,\n",
       "        2.39919112e-01, -1.66095484e-01, -4.09774008e-01, -2.37248781e-01,\n",
       "        1.66372462e-01, -4.12611949e-01, -2.53876758e-01, -1.60041555e-01,\n",
       "       -4.13015290e-01,  0.00000000e+00,  1.00000000e+00,  1.00000000e+00,\n",
       "        0.00000000e+00,  1.00000000e-01,  0.00000000e+00,  0.00000000e+00])"
      ]
     },
     "execution_count": 58,
     "metadata": {},
     "output_type": "execute_result"
    }
   ],
   "source": [
    "X_relative_footsteps_continuous[0, :]"
   ]
  },
  {
   "cell_type": "code",
   "execution_count": 59,
   "id": "dbadb026",
   "metadata": {},
   "outputs": [],
   "source": [
    "# Entries where FL is swinging\n",
    "idxs = np.where(X_relative_footsteps_continuous[:, 21] == 1)[0]\n",
    "X_relative_footsteps_continuous_FL_swinging = X_relative_footsteps_continuous[idxs]\n",
    "Y_relative_footsteps_continuous_FL_swinging = Y_relative_footsteps_continuous[idxs]"
   ]
  },
  {
   "cell_type": "markdown",
   "id": "5ce14894",
   "metadata": {},
   "source": [
    "## Predict FL foot -> x"
   ]
  },
  {
   "cell_type": "code",
   "execution_count": 60,
   "id": "ea8330cf",
   "metadata": {},
   "outputs": [
    {
     "data": {
      "text/plain": [
       "(10728, 28)"
      ]
     },
     "execution_count": 60,
     "metadata": {},
     "output_type": "execute_result"
    }
   ],
   "source": [
    "X_relative_footsteps_continuous_FL_swinging.shape"
   ]
  },
  {
   "cell_type": "code",
   "execution_count": 61,
   "id": "1a0ee26c",
   "metadata": {},
   "outputs": [
    {
     "data": {
      "text/plain": [
       "array([ 0.1       ,  0.        ,  0.        ,  0.01715523,  0.02680482,\n",
       "        0.05156133, -0.00914702,  0.0315145 , -0.02258525,  0.23698767,\n",
       "        0.17026876, -0.40873471,  0.23344301, -0.16811552, -0.40935065,\n",
       "       -0.24342878,  0.16518854, -0.41243429, -0.24083982, -0.16411242,\n",
       "       -0.41243872,  1.        ,  0.        ,  0.        ,  1.        ,\n",
       "        0.1       ,  0.        ,  0.        ])"
      ]
     },
     "execution_count": 61,
     "metadata": {},
     "output_type": "execute_result"
    }
   ],
   "source": [
    "X_relative_footsteps_continuous_FL_swinging[0, :]"
   ]
  },
  {
   "cell_type": "code",
   "execution_count": 62,
   "id": "64588016",
   "metadata": {},
   "outputs": [
    {
     "data": {
      "text/plain": [
       "array([ 0.22567786,  0.17359778,  0.23985769, -0.16623835, -0.23764378,\n",
       "        0.16585226, -0.25201704, -0.15896871])"
      ]
     },
     "execution_count": 62,
     "metadata": {},
     "output_type": "execute_result"
    }
   ],
   "source": [
    "Y_relative_footsteps_continuous_FL_swinging[0, :]"
   ]
  },
  {
   "cell_type": "markdown",
   "id": "0a306c46",
   "metadata": {},
   "source": [
    "### Linear Regression"
   ]
  },
  {
   "cell_type": "code",
   "execution_count": 105,
   "id": "dc588d91",
   "metadata": {},
   "outputs": [
    {
     "name": "stdout",
     "output_type": "stream",
     "text": [
      "R2:  0.9967467492420999\n",
      "RMSE:  0.0016487368744050462\n",
      "The lowest error is:  1.0622850338259937e-07\n",
      "The highest error is:  0.018141171085316654\n",
      "The avg. error is:  0.0010189770077142894\n"
     ]
    }
   ],
   "source": [
    "# Input\n",
    "X = np.hstack((X_relative_footsteps_continuous_FL_swinging[:, :3], # motion command\n",
    "               X_relative_footsteps_continuous_FL_swinging[:, 9:11], # FL (x,y) position\n",
    "               X_relative_footsteps_continuous_FL_swinging[:, 12:14], # FR (x,y) position\n",
    "               X_relative_footsteps_continuous_FL_swinging[:, 15:17], # RL (x,y) position\n",
    "               X_relative_footsteps_continuous_FL_swinging[:, 18:20])) # RR (x,y) position \n",
    "\n",
    "# Target\n",
    "Y = np.array([Y_relative_footsteps_continuous_FL_swinging[:, 0]]).T\n",
    "\n",
    "assert Y.shape[0] == X.shape[0]\n",
    "\n",
    "# Split data into train and test set\n",
    "X_train, X_test, Y_train, Y_test = train_test_split(X, Y, train_size = 0.8, shuffle=True)\n",
    "\n",
    "# Create the model\n",
    "model_fl_relative_support_x = LinearRegression()\n",
    "\n",
    "# Fit the model\n",
    "model_fl_relative_support_x.fit(X_train, Y_train)\n",
    "\n",
    "# Predict\n",
    "predictions = model_fl_relative_support_x.predict(X_test)\n",
    "\n",
    "# Stats\n",
    "print('R2: ', r2_score(predictions, Y_test))\n",
    "print('RMSE: ', np.sqrt(mean_squared_error(Y_test, predictions)))\n",
    "print(\"The lowest error is: \", np.min(np.abs(predictions - Y_test)))\n",
    "print(\"The highest error is: \", np.max(np.abs(predictions - Y_test)))\n",
    "print(\"The avg. error is: \", np.mean(np.abs(predictions - Y_test)))\n",
    "#print(\"Seq of errors (descendant): \\n\", sorted(np.abs(predictions - Y_test).tolist(), reverse=True))"
   ]
  },
  {
   "cell_type": "code",
   "execution_count": 106,
   "id": "34334391",
   "metadata": {},
   "outputs": [
    {
     "data": {
      "text/plain": [
       "array([[-0.17641215,  0.03131934,  0.07871106,  1.05227865, -0.08513168,\n",
       "        -0.20973094, -0.01233789, -0.25000596,  0.11463451,  0.00961209,\n",
       "        -0.2744822 ]])"
      ]
     },
     "execution_count": 106,
     "metadata": {},
     "output_type": "execute_result"
    }
   ],
   "source": [
    "model_fl_relative_support_x.coef_"
   ]
  },
  {
   "cell_type": "code",
   "execution_count": 107,
   "id": "12d5f50d",
   "metadata": {},
   "outputs": [
    {
     "data": {
      "text/plain": [
       "array([-0.06709406])"
      ]
     },
     "execution_count": 107,
     "metadata": {},
     "output_type": "execute_result"
    }
   ],
   "source": [
    "model_fl_relative_support_x.intercept_"
   ]
  },
  {
   "cell_type": "code",
   "execution_count": 108,
   "id": "69bffa2d",
   "metadata": {},
   "outputs": [
    {
     "data": {
      "text/plain": [
       "Text(0, 0.5, 'Predictions')"
      ]
     },
     "execution_count": 108,
     "metadata": {},
     "output_type": "execute_result"
    },
    {
     "data": {
      "image/png": "[encoded data removed]",
      "text/plain": [
       "<Figure size 432x288 with 1 Axes>"
      ]
     },
     "metadata": {
      "needs_background": "light"
     },
     "output_type": "display_data"
    }
   ],
   "source": [
    "## The line / model\n",
    "plt.scatter(Y_test, predictions)\n",
    "plt.xlabel(\"Ground truth\")\n",
    "plt.ylabel(\"Predictions\")"
   ]
  },
  {
   "cell_type": "code",
   "execution_count": 24,
   "id": "1eaa8f11",
   "metadata": {},
   "outputs": [],
   "source": [
    "#%store model_fl_relative_support_x"
   ]
  },
  {
   "cell_type": "code",
   "execution_count": 25,
   "id": "0c70788f",
   "metadata": {},
   "outputs": [],
   "source": [
    "#for idx, prediction in enumerate(predictions):\n",
    "#    print(f'Start: {X_test[idx, 6]}. Groundtruth: {Y_test[idx]}. Predicted: {prediction}')"
   ]
  },
  {
   "cell_type": "code",
   "execution_count": 26,
   "id": "681fe3b7",
   "metadata": {},
   "outputs": [],
   "source": [
    "# Save model\n",
    "#joblib.dump(model_fl_relative_support_x, \"/home/itaouil/workspace/aliengo_ws/src/aliengo_navigation/models/protocol3/relative/model_fl_relative_support_x.sav\")"
   ]
  },
  {
   "cell_type": "markdown",
   "id": "8a4458ab",
   "metadata": {},
   "source": [
    "### Predict FL foot -> y"
   ]
  },
  {
   "cell_type": "code",
   "execution_count": 163,
   "id": "97565b7d",
   "metadata": {},
   "outputs": [
    {
     "name": "stdout",
     "output_type": "stream",
     "text": [
      "R2:  0.9976441645829224\n",
      "RMSE:  0.0019500609991911118\n",
      "The lowest error is:  8.419610898202645e-07\n",
      "The highest error is:  0.02632471103398354\n",
      "The avg. error is:  0.0011362219815500936\n"
     ]
    }
   ],
   "source": [
    "# Input\n",
    "X = np.hstack((X_relative_footsteps_continuous_FL_swinging[:, :3], # motion command\n",
    "               X_relative_footsteps_continuous_FL_swinging[:, 9:11], # FL (x,y) position\n",
    "               X_relative_footsteps_continuous_FL_swinging[:, 12:14], # FR (x,y) position\n",
    "               X_relative_footsteps_continuous_FL_swinging[:, 15:17], # RL (x,y) position\n",
    "               X_relative_footsteps_continuous_FL_swinging[:, 18:20])) # RR (x,y) position \n",
    "\n",
    "# Target\n",
    "Y = np.array([Y_relative_footsteps_continuous_FL_swinging[:, 1]]).T\n",
    "\n",
    "assert Y.shape[0] == X.shape[0]\n",
    "\n",
    "# Split data into train and test set\n",
    "X_train, X_test, Y_train, Y_test = train_test_split(X, Y, train_size = 0.8, shuffle=True)\n",
    "\n",
    "# Create the model\n",
    "model_fl_relative_support_y = LinearRegression()\n",
    "\n",
    "# Fit the model\n",
    "model_fl_relative_support_y.fit(X_train, Y_train)\n",
    "\n",
    "# Predict\n",
    "predictions = model_fl_relative_support_y.predict(X_test)\n",
    "\n",
    "# Stats\n",
    "print('R2: ', r2_score(predictions, Y_test))\n",
    "print('RMSE: ', np.sqrt(mean_squared_error(Y_test, predictions)))\n",
    "print(\"The lowest error is: \", np.min(np.abs(predictions - Y_test)))\n",
    "print(\"The highest error is: \", np.max(np.abs(predictions - Y_test)))\n",
    "print(\"The avg. error is: \", np.mean(np.abs(predictions - Y_test)))\n",
    "#print(\"Seq of errors (descendant): \\n\", sorted(np.abs(predictions - Y_test).tolist(), reverse=True))"
   ]
  },
  {
   "cell_type": "code",
   "execution_count": 164,
   "id": "efee6a36",
   "metadata": {},
   "outputs": [
    {
     "data": {
      "text/plain": [
       "array([[ 0.03503179, -0.14626197, -0.21638538,  0.04550731,  0.88492912,\n",
       "         0.13741106, -0.38422713,  0.1142604 , -0.37038488, -0.29456627,\n",
       "        -0.35413788]])"
      ]
     },
     "execution_count": 164,
     "metadata": {},
     "output_type": "execute_result"
    }
   ],
   "source": [
    "model_fl_relative_support_y.coef_"
   ]
  },
  {
   "cell_type": "code",
   "execution_count": 165,
   "id": "86de0b3b",
   "metadata": {},
   "outputs": [
    {
     "data": {
      "text/plain": [
       "array([-0.12705611])"
      ]
     },
     "execution_count": 165,
     "metadata": {},
     "output_type": "execute_result"
    }
   ],
   "source": [
    "model_fl_relative_support_y.intercept_"
   ]
  },
  {
   "cell_type": "code",
   "execution_count": 166,
   "id": "b23e9ee3",
   "metadata": {},
   "outputs": [
    {
     "data": {
      "text/plain": [
       "Text(0, 0.5, 'Predictions')"
      ]
     },
     "execution_count": 166,
     "metadata": {},
     "output_type": "execute_result"
    },
    {
     "data": {
      "image/png": "[encoded data removed]",
      "text/plain": [
       "<Figure size 432x288 with 1 Axes>"
      ]
     },
     "metadata": {
      "needs_background": "light"
     },
     "output_type": "display_data"
    }
   ],
   "source": [
    "## The line / model\n",
    "plt.scatter(Y_test, predictions)\n",
    "plt.xlabel(\"Ground truth\")\n",
    "plt.ylabel(\"Predictions\")"
   ]
  },
  {
   "cell_type": "code",
   "execution_count": 31,
   "id": "577b2785",
   "metadata": {},
   "outputs": [],
   "source": [
    "#%store model_fl_relative_support_y"
   ]
  },
  {
   "cell_type": "code",
   "execution_count": 32,
   "id": "c81d1e21",
   "metadata": {},
   "outputs": [],
   "source": [
    "#for idx, prediction in enumerate(predictions):\n",
    "#    print(f'Groundtruth: {Y_test[idx]}. Predicted: {prediction}')"
   ]
  },
  {
   "cell_type": "code",
   "execution_count": 25,
   "id": "4090a2f4",
   "metadata": {},
   "outputs": [],
   "source": [
    "# Save model\n",
    "#joblib.dump(model_fl_relative_support_y, \"/home/itaouil/workspace/aliengo_ws/src/aliengo_navigation/models/protocol3/relative/model_fl_relative_support_y.sav\")"
   ]
  },
  {
   "cell_type": "code",
   "execution_count": null,
   "id": "f7f5fc50",
   "metadata": {},
   "outputs": [],
   "source": []
  }
 ],
 "metadata": {
  "kernelspec": {
   "display_name": "Python 3",
   "language": "python",
   "name": "python3"
  },
  "language_info": {
   "codemirror_mode": {
    "name": "ipython",
    "version": 3
   },
   "file_extension": ".py",
   "mimetype": "text/x-python",
   "name": "python",
   "nbconvert_exporter": "python",
   "pygments_lexer": "ipython3",
   "version": "3.6.12"
  }
 },
 "nbformat": 4,
 "nbformat_minor": 5
}
