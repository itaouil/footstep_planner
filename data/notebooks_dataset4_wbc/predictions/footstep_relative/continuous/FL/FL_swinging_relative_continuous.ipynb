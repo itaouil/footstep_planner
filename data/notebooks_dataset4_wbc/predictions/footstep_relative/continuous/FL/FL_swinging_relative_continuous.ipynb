{
 "cells": [
  {
   "cell_type": "code",
   "execution_count": 1,
   "id": "85c89ff5",
   "metadata": {},
   "outputs": [],
   "source": [
    "#!/usr/bin/env python3.6\n",
    "# -*- coding: utf-8 -*-"
   ]
  },
  {
   "cell_type": "code",
   "execution_count": 2,
   "id": "ef9d846e",
   "metadata": {},
   "outputs": [],
   "source": [
    "# Imports\n",
    "import sys\n",
    "import joblib\n",
    "import numpy as np\n",
    "from matplotlib import animation\n",
    "from IPython.display import HTML\n",
    "from matplotlib import pyplot as plt\n",
    "import mpl_toolkits.mplot3d.axes3d as p3"
   ]
  },
  {
   "cell_type": "code",
   "execution_count": 3,
   "id": "b38f5e7e",
   "metadata": {},
   "outputs": [],
   "source": [
    "#np.random.seed(20)\n",
    "np.set_printoptions(threshold=sys.maxsize)"
   ]
  },
  {
   "cell_type": "code",
   "execution_count": 4,
   "id": "992d3359",
   "metadata": {},
   "outputs": [],
   "source": [
    "%matplotlib inline"
   ]
  },
  {
   "cell_type": "code",
   "execution_count": 5,
   "id": "e0960042",
   "metadata": {},
   "outputs": [
    {
     "name": "stdout",
     "output_type": "stream",
     "text": [
      "(10027, 28)\n",
      "(10027, 8)\n"
     ]
    }
   ],
   "source": [
    "%store -r X_relative_footsteps_continuous\n",
    "%store -r Y_relative_footsteps_continuous\n",
    "print(X_relative_footsteps_continuous.shape)\n",
    "print(Y_relative_footsteps_continuous.shape)"
   ]
  },
  {
   "cell_type": "markdown",
   "id": "68ceab19",
   "metadata": {},
   "source": [
    "# Multivariate Linear Regression (Foot prediction)"
   ]
  },
  {
   "cell_type": "code",
   "execution_count": 6,
   "id": "a1809803",
   "metadata": {},
   "outputs": [],
   "source": [
    "import sklearn\n",
    "from sklearn import metrics\n",
    "from sklearn.feature_selection import RFE\n",
    "from sklearn.model_selection import KFold\n",
    "from sklearn.linear_model import LinearRegression\n",
    "from sklearn.model_selection import train_test_split\n",
    "from sklearn.preprocessing import PolynomialFeatures \n",
    "from sklearn.model_selection import cross_val_score, cross_val_predict\n",
    "from sklearn.metrics import mean_squared_error, mean_absolute_error, r2_score"
   ]
  },
  {
   "cell_type": "code",
   "execution_count": 7,
   "id": "468244e6",
   "metadata": {},
   "outputs": [
    {
     "data": {
      "text/plain": [
       "array([ 0.1       ,  0.        ,  0.        ,  0.06422444,  0.12709958,\n",
       "        0.02129842,  0.03284169,  0.00745874, -0.01805852,  0.23490033,\n",
       "        0.18683081, -0.40515856,  0.23261811, -0.20303247, -0.40508065,\n",
       "       -0.26129142,  0.13343325, -0.40023591, -0.24991612, -0.15232612,\n",
       "       -0.40053536,  0.        ,  1.        ,  1.        ,  0.        ,\n",
       "        0.1       ,  0.        ,  0.        ])"
      ]
     },
     "execution_count": 7,
     "metadata": {},
     "output_type": "execute_result"
    }
   ],
   "source": [
    "X_relative_footsteps_continuous[0, :]"
   ]
  },
  {
   "cell_type": "code",
   "execution_count": 8,
   "id": "6e616b21",
   "metadata": {},
   "outputs": [],
   "source": [
    "# Entries where FL is swinging\n",
    "idxs = np.where(X_relative_footsteps_continuous[:, 21] == 1)[0]\n",
    "X_relative_footsteps_continuous_FL_swinging = X_relative_footsteps_continuous[idxs]\n",
    "Y_relative_footsteps_continuous_FL_swinging = Y_relative_footsteps_continuous[idxs]"
   ]
  },
  {
   "cell_type": "markdown",
   "id": "ef4d2d57",
   "metadata": {},
   "source": [
    "## Predict FL foot -> x"
   ]
  },
  {
   "cell_type": "code",
   "execution_count": 9,
   "id": "6cae1d48",
   "metadata": {},
   "outputs": [
    {
     "data": {
      "text/plain": [
       "(5005, 28)"
      ]
     },
     "execution_count": 9,
     "metadata": {},
     "output_type": "execute_result"
    }
   ],
   "source": [
    "X_relative_footsteps_continuous_FL_swinging.shape"
   ]
  },
  {
   "cell_type": "code",
   "execution_count": 10,
   "id": "302c9f25",
   "metadata": {},
   "outputs": [
    {
     "data": {
      "text/plain": [
       "array([ 1.00000001e-01,  0.00000000e+00,  0.00000000e+00,  9.11893692e-02,\n",
       "       -1.77642498e-01, -1.44425490e-03, -3.79832882e-04,  2.90665488e-02,\n",
       "        2.75820694e-03,  2.19544484e-01,  2.08664947e-01, -4.04755931e-01,\n",
       "        2.41754690e-01, -1.84191521e-01, -4.05253866e-01, -2.43501147e-01,\n",
       "        1.54919233e-01, -4.00495847e-01, -2.74535236e-01, -1.27386125e-01,\n",
       "       -4.00794023e-01,  1.00000000e+00,  0.00000000e+00,  0.00000000e+00,\n",
       "        1.00000000e+00,  1.00000001e-01,  0.00000000e+00,  0.00000000e+00])"
      ]
     },
     "execution_count": 10,
     "metadata": {},
     "output_type": "execute_result"
    }
   ],
   "source": [
    "X_relative_footsteps_continuous_FL_swinging[0, :]"
   ]
  },
  {
   "cell_type": "code",
   "execution_count": 11,
   "id": "4c3b480e",
   "metadata": {},
   "outputs": [
    {
     "data": {
      "text/plain": [
       "array([ 0.23613742,  0.18750784,  0.23240836, -0.20432631, -0.26976698,\n",
       "        0.12960223, -0.24904521, -0.15161172])"
      ]
     },
     "execution_count": 11,
     "metadata": {},
     "output_type": "execute_result"
    }
   ],
   "source": [
    "Y_relative_footsteps_continuous_FL_swinging[0, :]"
   ]
  },
  {
   "cell_type": "markdown",
   "id": "4436951e",
   "metadata": {},
   "source": [
    "### Linear Regression"
   ]
  },
  {
   "cell_type": "code",
   "execution_count": 13,
   "id": "c66abe01",
   "metadata": {},
   "outputs": [
    {
     "name": "stdout",
     "output_type": "stream",
     "text": [
      "R2:  0.9986118599813262\n",
      "RMSE:  0.0011493433433455865\n",
      "The lowest error is:  6.116961178970204e-07\n",
      "The highest error is:  0.015268415156838022\n",
      "The avg. error is:  0.000676180210139038\n"
     ]
    }
   ],
   "source": [
    "# Input\n",
    "X = np.hstack((X_relative_footsteps_continuous_FL_swinging[:, :3], # motion command\n",
    "               X_relative_footsteps_continuous_FL_swinging[:, 9:11], # FL (x,y) position\n",
    "               X_relative_footsteps_continuous_FL_swinging[:, 12:14], # FR (x,y) position\n",
    "               X_relative_footsteps_continuous_FL_swinging[:, 15:17], # RL (x,y) position\n",
    "               X_relative_footsteps_continuous_FL_swinging[:, 18:20])) # RR (x,y) position \n",
    "\n",
    "# Target\n",
    "Y = np.array([Y_relative_footsteps_continuous_FL_swinging[:, 0]]).T\n",
    "\n",
    "assert Y.shape[0] == X.shape[0]\n",
    "\n",
    "# Split data into train and test set\n",
    "X_train, X_test, Y_train, Y_test = train_test_split(X, Y, train_size = 0.8, shuffle=True)\n",
    "\n",
    "# Create the model\n",
    "model_fl_relative_support_x = LinearRegression()\n",
    "\n",
    "# Fit the model\n",
    "model_fl_relative_support_x.fit(X_train, Y_train)\n",
    "\n",
    "# Predict\n",
    "predictions = model_fl_relative_support_x.predict(X_test)\n",
    "\n",
    "# Stats\n",
    "print('R2: ', r2_score(predictions, Y_test))\n",
    "print('RMSE: ', np.sqrt(mean_squared_error(Y_test, predictions)))\n",
    "print(\"The lowest error is: \", np.min(np.abs(predictions - Y_test)))\n",
    "print(\"The highest error is: \", np.max(np.abs(predictions - Y_test)))\n",
    "print(\"The avg. error is: \", np.mean(np.abs(predictions - Y_test)))\n",
    "#print(\"Seq of errors (descendant): \\n\", sorted(np.abs(predictions - Y_test).tolist(), reverse=True))"
   ]
  },
  {
   "cell_type": "code",
   "execution_count": 14,
   "id": "345b47e7",
   "metadata": {},
   "outputs": [
    {
     "data": {
      "text/plain": [
       "array([[ 0.12405419, -0.00814678,  0.01036141,  0.46618838,  0.01156951,\n",
       "         0.02480616,  0.0638548 , -0.08431654,  0.04055149, -0.0558645 ,\n",
       "        -0.01480057]])"
      ]
     },
     "execution_count": 14,
     "metadata": {},
     "output_type": "execute_result"
    }
   ],
   "source": [
    "model_fl_relative_support_x.coef_"
   ]
  },
  {
   "cell_type": "code",
   "execution_count": 15,
   "id": "5458a18e",
   "metadata": {},
   "outputs": [
    {
     "data": {
      "text/plain": [
       "array([0.08057133])"
      ]
     },
     "execution_count": 15,
     "metadata": {},
     "output_type": "execute_result"
    }
   ],
   "source": [
    "model_fl_relative_support_x.intercept_"
   ]
  },
  {
   "cell_type": "code",
   "execution_count": 16,
   "id": "603e651f",
   "metadata": {},
   "outputs": [
    {
     "data": {
      "text/plain": [
       "Text(0, 0.5, 'Predictions')"
      ]
     },
     "execution_count": 16,
     "metadata": {},
     "output_type": "execute_result"
    },
    {
     "data": {
      "image/png": "[encoded data removed]",
      "text/plain": [
       "<Figure size 432x288 with 1 Axes>"
      ]
     },
     "metadata": {
      "needs_background": "light"
     },
     "output_type": "display_data"
    }
   ],
   "source": [
    "## The line / model\n",
    "plt.scatter(Y_test, predictions)\n",
    "plt.xlabel(\"Ground truth\")\n",
    "plt.ylabel(\"Predictions\")"
   ]
  },
  {
   "cell_type": "code",
   "execution_count": 17,
   "id": "0c55311b",
   "metadata": {},
   "outputs": [],
   "source": [
    "#%store model_fl_relative_support_x"
   ]
  },
  {
   "cell_type": "code",
   "execution_count": 18,
   "id": "037c604a",
   "metadata": {},
   "outputs": [],
   "source": [
    "#for idx, prediction in enumerate(predictions):\n",
    "#    print(f'Start: {X_test[idx, 6]}. Groundtruth: {Y_test[idx]}. Predicted: {prediction}')"
   ]
  },
  {
   "cell_type": "code",
   "execution_count": 19,
   "id": "bf67531a",
   "metadata": {},
   "outputs": [],
   "source": [
    "# Save model\n",
    "#joblib.dump(model_fl_relative_support_x, \"/home/itaouil/workspace/aliengo_ws/src/aliengo_navigation/models/protocol3/relative/model_fl_relative_support_x.sav\")"
   ]
  },
  {
   "cell_type": "markdown",
   "id": "1f88fa0d",
   "metadata": {},
   "source": [
    "### Predict FL foot -> y"
   ]
  },
  {
   "cell_type": "code",
   "execution_count": 23,
   "id": "e62f00d3",
   "metadata": {},
   "outputs": [
    {
     "name": "stdout",
     "output_type": "stream",
     "text": [
      "R2:  0.9975911638582261\n",
      "RMSE:  0.001039983246818197\n",
      "The lowest error is:  1.4108117987188251e-06\n",
      "The highest error is:  0.013777987222921007\n",
      "The avg. error is:  0.0006488300954468585\n"
     ]
    }
   ],
   "source": [
    "# Input\n",
    "X = np.hstack((X_relative_footsteps_continuous_FL_swinging[:, :3], # motion command\n",
    "               X_relative_footsteps_continuous_FL_swinging[:, 9:11], # FL (x,y) position\n",
    "               X_relative_footsteps_continuous_FL_swinging[:, 12:14], # FR (x,y) position\n",
    "               X_relative_footsteps_continuous_FL_swinging[:, 15:17], # RL (x,y) position\n",
    "               X_relative_footsteps_continuous_FL_swinging[:, 18:20])) # RR (x,y) position \n",
    "\n",
    "# Target\n",
    "Y = np.array([Y_relative_footsteps_continuous_FL_swinging[:, 1]]).T\n",
    "\n",
    "assert Y.shape[0] == X.shape[0]\n",
    "\n",
    "# Split data into train and test set\n",
    "X_train, X_test, Y_train, Y_test = train_test_split(X, Y, train_size = 0.8, shuffle=True)\n",
    "\n",
    "# Create the model\n",
    "model_fl_relative_support_y = LinearRegression()\n",
    "\n",
    "# Fit the model\n",
    "model_fl_relative_support_y.fit(X_train, Y_train)\n",
    "\n",
    "# Predict\n",
    "predictions = model_fl_relative_support_y.predict(X_test)\n",
    "\n",
    "# Stats\n",
    "print('R2: ', r2_score(predictions, Y_test))\n",
    "print('RMSE: ', np.sqrt(mean_squared_error(Y_test, predictions)))\n",
    "print(\"The lowest error is: \", np.min(np.abs(predictions - Y_test)))\n",
    "print(\"The highest error is: \", np.max(np.abs(predictions - Y_test)))\n",
    "print(\"The avg. error is: \", np.mean(np.abs(predictions - Y_test)))\n",
    "#print(\"Seq of errors (descendant): \\n\", sorted(np.abs(predictions - Y_test).tolist(), reverse=True))"
   ]
  },
  {
   "cell_type": "code",
   "execution_count": 24,
   "id": "4db7e39d",
   "metadata": {},
   "outputs": [
    {
     "data": {
      "text/plain": [
       "array([[-0.00241718,  0.11840397,  0.01379421,  0.02871768,  0.5210759 ,\n",
       "        -0.04024635, -0.06530582,  0.08665785, -0.00794945, -0.01373164,\n",
       "        -0.08494682]])"
      ]
     },
     "execution_count": 24,
     "metadata": {},
     "output_type": "execute_result"
    }
   ],
   "source": [
    "model_fl_relative_support_y.coef_"
   ]
  },
  {
   "cell_type": "code",
   "execution_count": 25,
   "id": "5cbf83aa",
   "metadata": {},
   "outputs": [
    {
     "data": {
      "text/plain": [
       "array([0.07771529])"
      ]
     },
     "execution_count": 25,
     "metadata": {},
     "output_type": "execute_result"
    }
   ],
   "source": [
    "model_fl_relative_support_y.intercept_"
   ]
  },
  {
   "cell_type": "code",
   "execution_count": 26,
   "id": "deba31ad",
   "metadata": {},
   "outputs": [
    {
     "data": {
      "text/plain": [
       "Text(0, 0.5, 'Predictions')"
      ]
     },
     "execution_count": 26,
     "metadata": {},
     "output_type": "execute_result"
    },
    {
     "data": {
      "image/png": "[encoded data removed]",
      "text/plain": [
       "<Figure size 432x288 with 1 Axes>"
      ]
     },
     "metadata": {
      "needs_background": "light"
     },
     "output_type": "display_data"
    }
   ],
   "source": [
    "## The line / model\n",
    "plt.scatter(Y_test, predictions)\n",
    "plt.xlabel(\"Ground truth\")\n",
    "plt.ylabel(\"Predictions\")"
   ]
  },
  {
   "cell_type": "code",
   "execution_count": 31,
   "id": "ea9e45d6",
   "metadata": {},
   "outputs": [],
   "source": [
    "#%store model_fl_relative_support_y"
   ]
  },
  {
   "cell_type": "code",
   "execution_count": 32,
   "id": "d67cd883",
   "metadata": {},
   "outputs": [],
   "source": [
    "#for idx, prediction in enumerate(predictions):\n",
    "#    print(f'Groundtruth: {Y_test[idx]}. Predicted: {prediction}')"
   ]
  },
  {
   "cell_type": "code",
   "execution_count": 25,
   "id": "732176f6",
   "metadata": {},
   "outputs": [],
   "source": [
    "# Save model\n",
    "#joblib.dump(model_fl_relative_support_y, \"/home/itaouil/workspace/aliengo_ws/src/aliengo_navigation/models/protocol3/relative/model_fl_relative_support_y.sav\")"
   ]
  },
  {
   "cell_type": "code",
   "execution_count": null,
   "id": "1e1dc742",
   "metadata": {},
   "outputs": [],
   "source": []
  }
 ],
 "metadata": {
  "kernelspec": {
   "display_name": "Python 3",
   "language": "python",
   "name": "python3"
  },
  "language_info": {
   "codemirror_mode": {
    "name": "ipython",
    "version": 3
   },
   "file_extension": ".py",
   "mimetype": "text/x-python",
   "name": "python",
   "nbconvert_exporter": "python",
   "pygments_lexer": "ipython3",
   "version": "3.6.12"
  }
 },
 "nbformat": 4,
 "nbformat_minor": 5
}
