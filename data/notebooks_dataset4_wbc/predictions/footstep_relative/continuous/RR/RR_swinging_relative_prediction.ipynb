{
 "cells": [
  {
   "cell_type": "code",
   "execution_count": 1,
   "id": "fc16c95d",
   "metadata": {},
   "outputs": [],
   "source": [
    "#!/usr/bin/env python3.6\n",
    "# -*- coding: utf-8 -*-"
   ]
  },
  {
   "cell_type": "code",
   "execution_count": 2,
   "id": "8e49f283",
   "metadata": {},
   "outputs": [],
   "source": [
    "# Imports\n",
    "import sys\n",
    "import joblib\n",
    "import numpy as np\n",
    "from matplotlib import animation\n",
    "from IPython.display import HTML\n",
    "from matplotlib import pyplot as plt\n",
    "import mpl_toolkits.mplot3d.axes3d as p3"
   ]
  },
  {
   "cell_type": "code",
   "execution_count": 3,
   "id": "c95ed733",
   "metadata": {},
   "outputs": [],
   "source": [
    "#np.random.seed(20)\n",
    "np.set_printoptions(threshold=sys.maxsize)"
   ]
  },
  {
   "cell_type": "code",
   "execution_count": 4,
   "id": "b581488e",
   "metadata": {},
   "outputs": [],
   "source": [
    "%matplotlib inline"
   ]
  },
  {
   "cell_type": "code",
   "execution_count": 5,
   "id": "9c8d1870",
   "metadata": {},
   "outputs": [
    {
     "name": "stdout",
     "output_type": "stream",
     "text": [
      "(38598, 28)\n",
      "(38598, 8)\n"
     ]
    }
   ],
   "source": [
    "%store -r X_relative_footsteps_continuous\n",
    "%store -r Y_relative_footsteps_continuous\n",
    "print(X_relative_footsteps_continuous.shape)\n",
    "print(Y_relative_footsteps_continuous.shape)"
   ]
  },
  {
   "cell_type": "markdown",
   "id": "6260f9f4",
   "metadata": {},
   "source": [
    "# Multivariate Linear Regression (Foot prediction)"
   ]
  },
  {
   "cell_type": "code",
   "execution_count": 6,
   "id": "59534592",
   "metadata": {},
   "outputs": [],
   "source": [
    "import sklearn\n",
    "from sklearn import metrics\n",
    "from sklearn.feature_selection import RFE\n",
    "from sklearn.model_selection import KFold\n",
    "from sklearn.linear_model import LinearRegression\n",
    "from sklearn.model_selection import train_test_split\n",
    "from sklearn.preprocessing import PolynomialFeatures \n",
    "from sklearn.model_selection import cross_val_score, cross_val_predict\n",
    "from sklearn.metrics import mean_squared_error, mean_absolute_error, r2_score"
   ]
  },
  {
   "cell_type": "code",
   "execution_count": 7,
   "id": "4167f978",
   "metadata": {},
   "outputs": [],
   "source": [
    "# Entries where FL/RR are swinging\n",
    "idxs = np.where(X_relative_footsteps_continuous[:, 24] == 1)[0]\n",
    "X_relative_footsteps_continuous_RR_swing = X_relative_footsteps_continuous[idxs]\n",
    "Y_relative_footsteps_continuous_RR_swing = Y_relative_footsteps_continuous[idxs]"
   ]
  },
  {
   "cell_type": "markdown",
   "id": "4f1309dd",
   "metadata": {},
   "source": [
    "## Predict RR foot -> x"
   ]
  },
  {
   "cell_type": "code",
   "execution_count": 8,
   "id": "264d576b",
   "metadata": {},
   "outputs": [
    {
     "data": {
      "text/plain": [
       "array([ 1.00000000e-01,  0.00000000e+00,  0.00000000e+00,  2.84895771e-02,\n",
       "       -2.91453020e-02,  2.23710749e-02, -8.38189804e-04,  2.31294258e-02,\n",
       "        9.54991797e-03,  2.23055032e-01,  1.73126695e-01, -4.09548272e-01,\n",
       "        2.39919112e-01, -1.66095484e-01, -4.09774008e-01, -2.37248781e-01,\n",
       "        1.66372462e-01, -4.12611949e-01, -2.53876758e-01, -1.60041555e-01,\n",
       "       -4.13015290e-01,  1.00000000e+00,  0.00000000e+00,  0.00000000e+00,\n",
       "        1.00000000e+00,  1.00000000e-01,  0.00000000e+00,  0.00000000e+00])"
      ]
     },
     "execution_count": 8,
     "metadata": {},
     "output_type": "execute_result"
    }
   ],
   "source": [
    "X_relative_footsteps_continuous_RR_swing[0, :]"
   ]
  },
  {
   "cell_type": "code",
   "execution_count": 9,
   "id": "8b28eb80",
   "metadata": {},
   "outputs": [
    {
     "data": {
      "text/plain": [
       "array([ 0.23698767,  0.17026876,  0.23344301, -0.16811552, -0.24342878,\n",
       "        0.16518854, -0.24083982, -0.16411242])"
      ]
     },
     "execution_count": 9,
     "metadata": {},
     "output_type": "execute_result"
    }
   ],
   "source": [
    "Y_relative_footsteps_continuous_RR_swing[0, :]"
   ]
  },
  {
   "cell_type": "markdown",
   "id": "cff260ec",
   "metadata": {},
   "source": [
    "### Linear Regression"
   ]
  },
  {
   "cell_type": "code",
   "execution_count": 19,
   "id": "2e034715",
   "metadata": {},
   "outputs": [
    {
     "name": "stdout",
     "output_type": "stream",
     "text": [
      "R2:  0.9914584570455224\n",
      "RMSE:  0.0025849450933449194\n",
      "The lowest error is:  1.0169995025011147e-06\n",
      "The highest error is:  0.025591324583249364\n",
      "The avg. error is:  0.0018110508283516863\n"
     ]
    }
   ],
   "source": [
    "# Input\n",
    "X = np.hstack((X_relative_footsteps_continuous_RR_swing[:, :3], # motion command\n",
    "               X_relative_footsteps_continuous_RR_swing[:, 9:11], # FL (x,y) position\n",
    "               X_relative_footsteps_continuous_RR_swing[:, 12:14], # FR (x,y) position\n",
    "               X_relative_footsteps_continuous_RR_swing[:, 15:17], # RL (x,y) position\n",
    "               X_relative_footsteps_continuous_RR_swing[:, 18:20])) # RR (x,y) position\n",
    "\n",
    "# Target\n",
    "Y = np.array([Y_relative_footsteps_continuous_RR_swing[:, 6]]).T\n",
    "\n",
    "assert Y.shape[0] == X.shape[0]\n",
    "\n",
    "# Split data into train and test set\n",
    "X_train, X_test, Y_train, Y_test = train_test_split(X, Y, train_size = 0.8, shuffle=True)\n",
    "\n",
    "# Create the model\n",
    "model_rr_relative_swinging_x = LinearRegression()\n",
    "\n",
    "# Fit the model\n",
    "model_rr_relative_swinging_x.fit(X_train, Y_train)\n",
    "\n",
    "# Predict\n",
    "predictions = model_rr_relative_swinging_x.predict(X_test)\n",
    "\n",
    "# Stats\n",
    "print('R2: ', r2_score(predictions, Y_test))\n",
    "print('RMSE: ', np.sqrt(mean_squared_error(Y_test, predictions)))\n",
    "print(\"The lowest error is: \", np.min(np.abs(predictions - Y_test)))\n",
    "print(\"The highest error is: \", np.max(np.abs(predictions - Y_test)))\n",
    "print(\"The avg. error is: \", np.mean(np.abs(predictions - Y_test)))\n",
    "#print(\"Seq of errors (descendant): \\n\", sorted(np.abs(predictions - Y_test).tolist(), reverse=True))"
   ]
  },
  {
   "cell_type": "code",
   "execution_count": 20,
   "id": "433f805b",
   "metadata": {},
   "outputs": [
    {
     "data": {
      "text/plain": [
       "array([[ 0.12876012,  0.00520883, -0.01179153,  0.12842299, -0.04365359,\n",
       "         0.00800936,  0.28779961, -0.04581125, -0.32074631,  0.36661586,\n",
       "         0.06766253]])"
      ]
     },
     "execution_count": 20,
     "metadata": {},
     "output_type": "execute_result"
    }
   ],
   "source": [
    "model_rr_relative_swinging_x.coef_"
   ]
  },
  {
   "cell_type": "code",
   "execution_count": 21,
   "id": "6149f889",
   "metadata": {},
   "outputs": [
    {
     "data": {
      "text/plain": [
       "array([-0.08504516])"
      ]
     },
     "execution_count": 21,
     "metadata": {},
     "output_type": "execute_result"
    }
   ],
   "source": [
    "model_rr_relative_swinging_x.intercept_"
   ]
  },
  {
   "cell_type": "code",
   "execution_count": 22,
   "id": "f249815c",
   "metadata": {},
   "outputs": [
    {
     "data": {
      "text/plain": [
       "Text(0, 0.5, 'Predictions')"
      ]
     },
     "execution_count": 22,
     "metadata": {},
     "output_type": "execute_result"
    },
    {
     "data": {
      "image/png": "[encoded data removed]",
      "text/plain": [
       "<Figure size 432x288 with 1 Axes>"
      ]
     },
     "metadata": {
      "needs_background": "light"
     },
     "output_type": "display_data"
    }
   ],
   "source": [
    "## The line / model\n",
    "plt.scatter(Y_test, predictions)\n",
    "plt.xlabel(\"Ground truth\")\n",
    "plt.ylabel(\"Predictions\")"
   ]
  },
  {
   "cell_type": "code",
   "execution_count": 23,
   "id": "6faefd1c",
   "metadata": {},
   "outputs": [],
   "source": [
    "#%store model_rr_relative_swinging_x"
   ]
  },
  {
   "cell_type": "code",
   "execution_count": 24,
   "id": "fd9c44fa",
   "metadata": {},
   "outputs": [],
   "source": [
    "#for idx, prediction in enumerate(predictions):\n",
    "#    print(f'Start: {X_test[idx, 6]}. Groundtruth: {Y_test[idx]}. Predicted: {prediction}')"
   ]
  },
  {
   "cell_type": "code",
   "execution_count": 25,
   "id": "f253e9bc",
   "metadata": {},
   "outputs": [],
   "source": [
    "# Save model\n",
    "#joblib.dump(model_rr_relative_swinging_x, \"/home/itaouil/workspace/aliengo_ws/src/aliengo_navigation/models/protocol3/relative/model_rr_relative_swinging_x.sav\")"
   ]
  },
  {
   "cell_type": "markdown",
   "id": "0b088398",
   "metadata": {},
   "source": [
    "### Predict RR foot -> y"
   ]
  },
  {
   "cell_type": "code",
   "execution_count": 27,
   "id": "dba069a2",
   "metadata": {},
   "outputs": [
    {
     "name": "stdout",
     "output_type": "stream",
     "text": [
      "R2:  0.9971534120515737\n",
      "RMSE:  0.0028437192997507383\n",
      "The lowest error is:  2.0823187793506115e-07\n",
      "The highest error is:  0.0317985152559945\n",
      "The avg. error is:  0.001794218308901648\n"
     ]
    }
   ],
   "source": [
    "# Input\n",
    "X = np.hstack((X_relative_footsteps_continuous_RR_swing[:, :3], # motion command\n",
    "               X_relative_footsteps_continuous_RR_swing[:, 9:11], # FL (x,y) position\n",
    "               X_relative_footsteps_continuous_RR_swing[:, 12:14], # FR (x,y) position\n",
    "               X_relative_footsteps_continuous_RR_swing[:, 15:17], # RL (x,y) position\n",
    "               X_relative_footsteps_continuous_RR_swing[:, 18:20])) # RR (x,y) position\n",
    "\n",
    "# Target\n",
    "Y = np.array([Y_relative_footsteps_continuous_RR_swing[:, 7]]).T\n",
    "\n",
    "assert Y.shape[0] == X.shape[0]\n",
    "\n",
    "# Split data into train and test set\n",
    "X_train, X_test, Y_train, Y_test = train_test_split(X, Y, train_size = 0.8, shuffle=True)\n",
    "\n",
    "# Create the model\n",
    "model_rr_relative_swinging_y = LinearRegression()\n",
    "\n",
    "# Fit the model\n",
    "model_rr_relative_swinging_y.fit(X_train, Y_train)\n",
    "\n",
    "# Predict\n",
    "predictions = model_rr_relative_swinging_y.predict(X_test)\n",
    "\n",
    "# Stats\n",
    "print('R2: ', r2_score(predictions, Y_test))\n",
    "print('RMSE: ', np.sqrt(mean_squared_error(Y_test, predictions)))\n",
    "print(\"The lowest error is: \", np.min(np.abs(predictions - Y_test)))\n",
    "print(\"The highest error is: \", np.max(np.abs(predictions - Y_test)))\n",
    "print(\"The avg. error is: \", np.mean(np.abs(predictions - Y_test)))\n",
    "#print(\"Seq of errors (descendant): \\n\", sorted(np.abs(predictions - Y_test).tolist(), reverse=True))"
   ]
  },
  {
   "cell_type": "code",
   "execution_count": 28,
   "id": "b843d705",
   "metadata": {},
   "outputs": [
    {
     "data": {
      "text/plain": [
       "array([[ 0.03326041,  0.09204637,  0.09496362,  0.00737064,  0.04052509,\n",
       "        -0.04995179,  0.28818213, -0.19121709,  0.06303849,  0.15896909,\n",
       "         0.62296827]])"
      ]
     },
     "execution_count": 28,
     "metadata": {},
     "output_type": "execute_result"
    }
   ],
   "source": [
    "model_rr_relative_swinging_y.coef_"
   ]
  },
  {
   "cell_type": "code",
   "execution_count": 29,
   "id": "d0081f23",
   "metadata": {},
   "outputs": [
    {
     "data": {
      "text/plain": [
       "array([-0.03409872])"
      ]
     },
     "execution_count": 29,
     "metadata": {},
     "output_type": "execute_result"
    }
   ],
   "source": [
    "model_rr_relative_swinging_y.intercept_"
   ]
  },
  {
   "cell_type": "code",
   "execution_count": 30,
   "id": "9260352f",
   "metadata": {},
   "outputs": [
    {
     "data": {
      "text/plain": [
       "Text(0, 0.5, 'Predictions')"
      ]
     },
     "execution_count": 30,
     "metadata": {},
     "output_type": "execute_result"
    },
    {
     "data": {
      "image/png": "[encoded data removed]",
      "text/plain": [
       "<Figure size 432x288 with 1 Axes>"
      ]
     },
     "metadata": {
      "needs_background": "light"
     },
     "output_type": "display_data"
    }
   ],
   "source": [
    "## The line / model\n",
    "plt.scatter(Y_test, predictions)\n",
    "plt.xlabel(\"Ground truth\")\n",
    "plt.ylabel(\"Predictions\")"
   ]
  },
  {
   "cell_type": "code",
   "execution_count": 31,
   "id": "21b6c2ce",
   "metadata": {},
   "outputs": [],
   "source": [
    "#%store model_rr_relative_swinging_y"
   ]
  },
  {
   "cell_type": "code",
   "execution_count": 73,
   "id": "ddf28571",
   "metadata": {},
   "outputs": [],
   "source": [
    "#for idx, prediction in enumerate(predictions):\n",
    "#    print(f'Input: {X_test[idx]}. Groundtruth: {Y_test[idx]}. Predicted: {prediction}')"
   ]
  },
  {
   "cell_type": "code",
   "execution_count": 74,
   "id": "7b2a1478",
   "metadata": {},
   "outputs": [],
   "source": [
    "# Save model\n",
    "#joblib.dump(model_rr_relative_swinging_y, \"/home/itaouil/workspace/aliengo_ws/src/aliengo_navigation/models/protocol3/relative/model_rr_relative_swinging_y.sav\")"
   ]
  },
  {
   "cell_type": "code",
   "execution_count": null,
   "id": "ca1dfa7f",
   "metadata": {},
   "outputs": [],
   "source": []
  }
 ],
 "metadata": {
  "kernelspec": {
   "display_name": "Python 3",
   "language": "python",
   "name": "python3"
  },
  "language_info": {
   "codemirror_mode": {
    "name": "ipython",
    "version": 3
   },
   "file_extension": ".py",
   "mimetype": "text/x-python",
   "name": "python",
   "nbconvert_exporter": "python",
   "pygments_lexer": "ipython3",
   "version": "3.6.12"
  }
 },
 "nbformat": 4,
 "nbformat_minor": 5
}
