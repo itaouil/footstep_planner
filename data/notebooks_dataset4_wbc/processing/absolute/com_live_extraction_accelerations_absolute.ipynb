{
 "cells": [
  {
   "cell_type": "code",
   "execution_count": 1,
   "id": "9949c05a",
   "metadata": {},
   "outputs": [],
   "source": [
    "#!/usr/bin/env python3.6\n",
    "# -*- coding: utf-8 -*-"
   ]
  },
  {
   "cell_type": "code",
   "execution_count": 2,
   "id": "a8ada426",
   "metadata": {},
   "outputs": [],
   "source": [
    "# Imports\n",
    "import sys\n",
    "import math\n",
    "import numpy as np\n",
    "from matplotlib import animation\n",
    "from IPython.display import HTML\n",
    "from matplotlib import pyplot as plt\n",
    "plt.rcParams['animation.ffmpeg_path'] = '/usr/bin/ffmpeg'\n",
    "import mpl_toolkits.mplot3d.axes3d as p3"
   ]
  },
  {
   "cell_type": "code",
   "execution_count": 3,
   "id": "5c1cebd4",
   "metadata": {},
   "outputs": [],
   "source": [
    "np.random.seed(20)\n",
    "np.set_printoptions(threshold=sys.maxsize)"
   ]
  },
  {
   "cell_type": "code",
   "execution_count": 4,
   "id": "1539929a",
   "metadata": {},
   "outputs": [],
   "source": [
    "%matplotlib inline"
   ]
  },
  {
   "cell_type": "markdown",
   "id": "ac8a3dc2",
   "metadata": {},
   "source": [
    "# Data"
   ]
  },
  {
   "cell_type": "code",
   "execution_count": 5,
   "id": "dac219ca",
   "metadata": {},
   "outputs": [
    {
     "name": "stdout",
     "output_type": "stream",
     "text": [
      "Motion data has a length of  12861\n"
     ]
    }
   ],
   "source": [
    "# Read data\n",
    "motion = np.genfromtxt('../../../dataset4_wbc/live_extraction/step_0.06/gt/fwd_only/accelerations_full_08.csv', delimiter=',', dtype=np.float64)\n",
    "contacts = np.genfromtxt('../../../dataset4_wbc/live_extraction/step_0.06/gt/fwd_only/accelerations_full_08.csv', delimiter=',', usecols=(57, 58, 59, 60), dtype=bool)\n",
    "print(\"Motion data has a length of \", len(motion))"
   ]
  },
  {
   "cell_type": "code",
   "execution_count": 6,
   "id": "7718f389",
   "metadata": {},
   "outputs": [
    {
     "data": {
      "text/plain": [
       "(12861, 61)"
      ]
     },
     "execution_count": 6,
     "metadata": {},
     "output_type": "execute_result"
    }
   ],
   "source": [
    "motion.shape"
   ]
  },
  {
   "cell_type": "code",
   "execution_count": 7,
   "id": "24eca2e3",
   "metadata": {},
   "outputs": [],
   "source": [
    "i = 0\n",
    "accelerations_idx = []\n",
    "while i < (len(motion) - 1):\n",
    "    same_sign = np.all(np.sign(motion[i, 1:4]) == np.sign(motion[i+1, 1:4]))\n",
    "    if (motion[i, 1] != motion[i+1, 1] or motion[i, 2] != motion[i+1, 2] or motion[i, 3] != motion[i+1, 3]) and (motion[i, 1] >= 0.0 and  motion[i+1, 1] >= 0.0):\n",
    "        #print(motion[i, 1], motion[i+1, 1])\n",
    "        #print(motion[i, 1] != motion[i+1, 1])\n",
    "        accelerations_idx.append(i)\n",
    "        accelerations_idx.append(i+1)\n",
    "    \n",
    "    i += 1\n",
    "\n",
    "accelerations_idx = np.array(accelerations_idx)"
   ]
  },
  {
   "cell_type": "code",
   "execution_count": 8,
   "id": "861563f9",
   "metadata": {},
   "outputs": [
    {
     "data": {
      "text/plain": [
       "(5774,)"
      ]
     },
     "execution_count": 8,
     "metadata": {},
     "output_type": "execute_result"
    }
   ],
   "source": [
    "accelerations_idx.shape"
   ]
  },
  {
   "cell_type": "markdown",
   "id": "4ef477e1",
   "metadata": {},
   "source": [
    "## Height-Force plots"
   ]
  },
  {
   "cell_type": "code",
   "execution_count": 9,
   "id": "6478b136",
   "metadata": {},
   "outputs": [],
   "source": [
    "def get_specific_cmd(dataset, fwd, side, rot):\n",
    "    if abs(fwd): \n",
    "        return np.where(dataset[:, 1] > 0)[0] if fwd > 0 else np.where(dataset[:, 1] < 0)[0]\n",
    "    if abs(side): \n",
    "        return np.where(dataset[:, 2] > 0)[0] if side > 0 else np.where(dataset[:, 2] < 0)[0]\n",
    "    if abs(rot): \n",
    "        return np.where(dataset[:, 3] > 0)[0] if rot > 0 else np.where(dataset[:, 3] < 0)[0]"
   ]
  },
  {
   "cell_type": "code",
   "execution_count": 10,
   "id": "8426a703",
   "metadata": {},
   "outputs": [],
   "source": [
    "def get_swinging_motions(dataset, height=1):\n",
    "    # rf min height (i.e swining motion)\n",
    "    fl_min_height = np.where(dataset[:, 10] < height)[0]\n",
    "    fr_min_height = np.where(dataset[:, 13] < height)[0]\n",
    "    rl_min_height = np.where(dataset[:, 16] < height)[0]\n",
    "    rr_min_height = np.where(dataset[:, 19] < height)[0]\n",
    "            \n",
    "    return fl_min_height,fr_min_height,rl_min_height,rr_min_height"
   ]
  },
  {
   "cell_type": "markdown",
   "id": "f40e3918",
   "metadata": {},
   "source": [
    "# Dataset Preparation"
   ]
  },
  {
   "cell_type": "code",
   "execution_count": 11,
   "id": "48a91ab4",
   "metadata": {},
   "outputs": [],
   "source": [
    "import sklearn\n",
    "from sklearn.linear_model import LinearRegression\n",
    "from sklearn.model_selection import train_test_split"
   ]
  },
  {
   "cell_type": "code",
   "execution_count": 12,
   "id": "591c00e0",
   "metadata": {},
   "outputs": [],
   "source": [
    "def euler_from_quaternion(x, y, z, w):\n",
    "    \"\"\"\n",
    "    Convert a quaternion into euler angles (roll, pitch, yaw)\n",
    "    roll is rotation around x in radians (counterclockwise)\n",
    "    pitch is rotation around y in radians (counterclockwise)\n",
    "    yaw is rotation around z in radians (counterclockwise)\n",
    "    \"\"\"\n",
    "    t0 = +2.0 * (w * x + y * z)\n",
    "    t1 = +1.0 - 2.0 * (x * x + y * y)\n",
    "    roll_x = math.atan2(t0, t1)\n",
    "     \n",
    "    t2 = +2.0 * (w * y - z * x)\n",
    "    t2 = +1.0 if t2 > +1.0 else t2\n",
    "    t2 = -1.0 if t2 < -1.0 else t2\n",
    "    pitch_y = math.asin(t2)\n",
    "     \n",
    "    t3 = +2.0 * (w * z + x * y)\n",
    "    t4 = +1.0 - 2.0 * (y * y + z * z)\n",
    "    yaw_z = math.atan2(t3, t4)\n",
    "     \n",
    "    return roll_x, pitch_y, yaw_z # in radians"
   ]
  },
  {
   "cell_type": "code",
   "execution_count": 13,
   "id": "0c0de962",
   "metadata": {},
   "outputs": [
    {
     "name": "stdout",
     "output_type": "stream",
     "text": [
      "(10782, 28)\n",
      "(10782, 2)\n"
     ]
    }
   ],
   "source": [
    "def create_com_dataset_absolute(dataset, footsteps, motion=None, debug=False):\n",
    "    inputs = []\n",
    "    labels = []\n",
    "    velocity_x = 0\n",
    "    velocity_y = 0\n",
    "    velocity_yaw = 0\n",
    "    \n",
    "    for idx, footstep in enumerate(footsteps):\n",
    "        if idx > 0:\n",
    "            # Compute time difference between\n",
    "            # current and next footsteps\n",
    "            time_difference = abs(dataset[footsteps[idx], 0] - dataset[footsteps[idx-1], 0])\n",
    "            \n",
    "            if time_difference < 0.5:\n",
    "                fl_moving = dataset[footsteps[idx], 8] > dataset[footsteps[idx-1], 8]\n",
    "                fr_moving = dataset[footsteps[idx], 11] > dataset[footsteps[idx-1], 11]\n",
    "                rl_moving = dataset[footsteps[idx], 14] > dataset[footsteps[idx-1], 14]\n",
    "                rr_moving = dataset[footsteps[idx], 17] > dataset[footsteps[idx-1], 17]\n",
    "                \n",
    "                if debug:\n",
    "                    print(idx, height_peeks_in_between)\n",
    "                    print(\"Time difference: \", time_difference)\n",
    "                    print(\"Footstep timestamp: \", dataset[footstep, 0])\n",
    "                    print(f'FL moving: {fl_moving}. FR moving: {fr_moving}')\n",
    "                    print(f'RL moving: {rl_moving}. RR moving: {rr_moving}')\n",
    "\n",
    "                if (not fr_moving != fl_moving or not fr_moving == rl_moving or not fl_moving == rr_moving):\n",
    "                    #print(\"Exception\")\n",
    "                    #print(\"Time difference: \", time_difference)\n",
    "                    #print(\"Footstep timestamp: \", dataset[footstep, 0])\n",
    "                    #print(f'fl moving: {fl_moving}. fr moving: {fr_moving}')\n",
    "                    #print(f'rl moving: {rl_moving}. rr moving: {rr_moving}')\n",
    "                    continue\n",
    "                \n",
    "                assert fr_moving == rl_moving\n",
    "                assert rr_moving == fl_moving\n",
    "                assert fr_moving != fl_moving\n",
    "                \n",
    "                # Get euler angles from odom to base rotation\n",
    "                _, _, curr_yaw = euler_from_quaternion(dataset[footsteps[idx-1], 47], dataset[footsteps[idx-1], 48], dataset[footsteps[idx-1], 49], dataset[footsteps[idx-1], 50])\n",
    "                _, _, next_yaw = euler_from_quaternion(dataset[footsteps[idx], 47], dataset[footsteps[idx], 48], dataset[footsteps[idx], 49], dataset[footsteps[idx], 50])\n",
    "\n",
    "                # Compute rotation matrix\n",
    "                c_curr, s_curr = np.cos(curr_yaw), np.sin(curr_yaw)\n",
    "                c_next, s_next = np.cos(next_yaw), np.sin(next_yaw)\n",
    "                R_curr = np.array(((c_curr, -s_curr), (s_curr, c_curr)))\n",
    "                R_next = np.array(((c_next, -s_next), (s_next, c_next)))\n",
    "                \n",
    "                # Odom base vectors\n",
    "                curr_base = np.array([[dataset[footsteps[idx-1], 44], dataset[footsteps[idx-1], 45]]])\n",
    "                next_base = np.array([[dataset[footsteps[idx], 44], dataset[footsteps[idx], 45]]])\n",
    "                \n",
    "                # Local base vectors\n",
    "                local_curr_base = R_curr.T @ curr_base.T\n",
    "                local_next_base = R_curr.T @ next_base.T\n",
    "                base_displacement = local_next_base - local_curr_base\n",
    "                \n",
    "                if (dataset[footsteps[idx], 44] - dataset[footsteps[idx-1], 44]) > 0:\n",
    "                    inputs.append(dataset[footsteps[idx-1], 1:4].tolist() +\n",
    "                                  dataset[footsteps[idx-1], 51:57].tolist() +\n",
    "                                  dataset[footsteps[idx-1], 8:20].tolist() + \n",
    "                                  [fl_moving, fr_moving, rl_moving, rr_moving] +\n",
    "                                  dataset[footsteps[idx], 1:4].tolist())\n",
    "                \n",
    "                    # Labels\n",
    "                    labels.append([dataset[footsteps[idx], 44] - dataset[footsteps[idx-1], 44],\n",
    "                                   dataset[footsteps[idx], 45] - dataset[footsteps[idx-1], 45]])\n",
    "                \n",
    "    # Convert to numpy array\n",
    "    inputs_numpy = np.array(inputs, dtype=object)\n",
    "    labels_numpy = np.array(labels, dtype=object)\n",
    "    \n",
    "    return inputs_numpy, labels_numpy\n",
    "\n",
    "# Stack datasets\n",
    "X_motion_CoM_acceleration, Y_motion_CoM_acceleration = create_com_dataset_absolute(motion, [x for x in range(len(motion))])\n",
    "print(X_motion_CoM_acceleration.shape)\n",
    "print(Y_motion_CoM_acceleration.shape)"
   ]
  },
  {
   "cell_type": "code",
   "execution_count": 14,
   "id": "ee2fee90",
   "metadata": {},
   "outputs": [
    {
     "name": "stdout",
     "output_type": "stream",
     "text": [
      "Stored 'X_motion_CoM_acceleration' (ndarray)\n",
      "Stored 'Y_motion_CoM_acceleration' (ndarray)\n"
     ]
    }
   ],
   "source": [
    "%store X_motion_CoM_acceleration\n",
    "%store Y_motion_CoM_acceleration"
   ]
  },
  {
   "cell_type": "code",
   "execution_count": 15,
   "id": "f8af8864",
   "metadata": {},
   "outputs": [
    {
     "data": {
      "text/plain": [
       "9.183200004869718e-07"
      ]
     },
     "execution_count": 15,
     "metadata": {},
     "output_type": "execute_result"
    }
   ],
   "source": [
    "min(Y_motion_CoM_acceleration[:, 0])"
   ]
  },
  {
   "cell_type": "code",
   "execution_count": 16,
   "id": "aa1be9de",
   "metadata": {},
   "outputs": [
    {
     "data": {
      "text/plain": [
       "0.1402673219999997"
      ]
     },
     "execution_count": 16,
     "metadata": {},
     "output_type": "execute_result"
    }
   ],
   "source": [
    "max(Y_motion_CoM_acceleration[:, 0])"
   ]
  },
  {
   "cell_type": "code",
   "execution_count": 17,
   "id": "25242ad7",
   "metadata": {},
   "outputs": [
    {
     "data": {
      "text/plain": [
       "-0.04061667989999762"
      ]
     },
     "execution_count": 17,
     "metadata": {},
     "output_type": "execute_result"
    }
   ],
   "source": [
    "min(Y_motion_CoM_acceleration[:, 1])"
   ]
  },
  {
   "cell_type": "code",
   "execution_count": 18,
   "id": "5c6af008",
   "metadata": {},
   "outputs": [
    {
     "data": {
      "text/plain": [
       "0.06967539420000435"
      ]
     },
     "execution_count": 18,
     "metadata": {},
     "output_type": "execute_result"
    }
   ],
   "source": [
    "max(Y_motion_CoM_acceleration[:, 1])"
   ]
  },
  {
   "cell_type": "code",
   "execution_count": null,
   "id": "06b01e04",
   "metadata": {},
   "outputs": [],
   "source": []
  }
 ],
 "metadata": {
  "kernelspec": {
   "display_name": "Python 3",
   "language": "python",
   "name": "python3"
  },
  "language_info": {
   "codemirror_mode": {
    "name": "ipython",
    "version": 3
   },
   "file_extension": ".py",
   "mimetype": "text/x-python",
   "name": "python",
   "nbconvert_exporter": "python",
   "pygments_lexer": "ipython3",
   "version": "3.6.12"
  }
 },
 "nbformat": 4,
 "nbformat_minor": 5
}
