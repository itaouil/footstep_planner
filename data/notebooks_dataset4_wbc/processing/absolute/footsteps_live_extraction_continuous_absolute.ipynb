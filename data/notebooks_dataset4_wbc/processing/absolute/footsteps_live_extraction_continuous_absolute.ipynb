{
 "cells": [
  {
   "cell_type": "code",
   "execution_count": 1,
   "id": "e985a1e3",
   "metadata": {},
   "outputs": [],
   "source": [
    "#!/usr/bin/env python3.6\n",
    "# -*- coding: utf-8 -*-"
   ]
  },
  {
   "cell_type": "code",
   "execution_count": 2,
   "id": "c76decf4",
   "metadata": {},
   "outputs": [],
   "source": [
    "# Imports\n",
    "import sys\n",
    "import math\n",
    "import numpy as np\n",
    "from matplotlib import animation\n",
    "from IPython.display import HTML\n",
    "from matplotlib import pyplot as plt\n",
    "plt.rcParams['animation.ffmpeg_path'] = '/usr/bin/ffmpeg'\n",
    "import mpl_toolkits.mplot3d.axes3d as p3"
   ]
  },
  {
   "cell_type": "code",
   "execution_count": 3,
   "id": "81a38b58",
   "metadata": {},
   "outputs": [],
   "source": [
    "np.random.seed(20)\n",
    "np.set_printoptions(threshold=sys.maxsize)"
   ]
  },
  {
   "cell_type": "code",
   "execution_count": 4,
   "id": "d47a9951",
   "metadata": {},
   "outputs": [],
   "source": [
    "%matplotlib inline"
   ]
  },
  {
   "cell_type": "markdown",
   "id": "b6b3ba21",
   "metadata": {},
   "source": [
    "# Data"
   ]
  },
  {
   "cell_type": "code",
   "execution_count": 5,
   "id": "cb59e2ab",
   "metadata": {},
   "outputs": [
    {
     "name": "stdout",
     "output_type": "stream",
     "text": [
      "Motion data has a length of  2821\n"
     ]
    }
   ],
   "source": [
    "# Read data\n",
    "motion = np.genfromtxt('../../../dataset4_wbc/live_extraction/step_0.06/gt/fwd_only/continuous_08.csv', delimiter=',', dtype=np.float64)\n",
    "contacts = np.genfromtxt('../../../dataset4_wbc/live_extraction/step_0.06/gt/fwd_only/continuous_08.csv', delimiter=',', usecols=(57, 58, 59, 60), dtype=bool)\n",
    "print(\"Motion data has a length of \", len(motion))"
   ]
  },
  {
   "cell_type": "markdown",
   "id": "7a33bb4d",
   "metadata": {},
   "source": [
    "## Height-Force plots"
   ]
  },
  {
   "cell_type": "code",
   "execution_count": 6,
   "id": "03f7bf74",
   "metadata": {},
   "outputs": [],
   "source": [
    "def get_specific_cmd(dataset, fwd, side, rot):\n",
    "    if abs(fwd): \n",
    "        return np.where(dataset[:, 1] > 0)[0] if fwd > 0 else np.where(dataset[:, 1] < 0)[0]\n",
    "    if abs(side): \n",
    "        return np.where(dataset[:, 2] > 0)[0] if side > 0 else np.where(dataset[:, 2] < 0)[0]\n",
    "    if abs(rot): \n",
    "        return np.where(dataset[:, 3] > 0)[0] if rot > 0 else np.where(dataset[:, 3] < 0)[0]"
   ]
  },
  {
   "cell_type": "code",
   "execution_count": 7,
   "id": "6a66c8d3",
   "metadata": {},
   "outputs": [],
   "source": [
    "def get_swinging_motions(dataset, height=1):\n",
    "    # rf min height (i.e swining motion)\n",
    "    fl_min_height = np.where(dataset[:, 10] < height)[0]\n",
    "    fr_min_height = np.where(dataset[:, 13] < height)[0]\n",
    "    rl_min_height = np.where(dataset[:, 16] < height)[0]\n",
    "    rr_min_height = np.where(dataset[:, 19] < height)[0]\n",
    "            \n",
    "    return fl_min_height,fr_min_height,rl_min_height,rr_min_height"
   ]
  },
  {
   "cell_type": "markdown",
   "id": "fe44e272",
   "metadata": {},
   "source": [
    "### Step size"
   ]
  },
  {
   "cell_type": "code",
   "execution_count": 8,
   "id": "4875cd86",
   "metadata": {},
   "outputs": [],
   "source": [
    "def get_step_size(dataset, footsteps, idx_coord, odom_idx):\n",
    "    # Footsteps sizes\n",
    "    step_size_fr = []\n",
    "    step_size_fl = []\n",
    "    step_size_rr = []\n",
    "    step_size_rl = []\n",
    "    footstep_period = []\n",
    "    \n",
    "    # Compute step sizes\n",
    "    idx = 0\n",
    "    while idx < (len(footsteps)-1):\n",
    "        time_diff = dataset[footsteps[idx+1], 0] - dataset[footsteps[idx], 0]\n",
    "            \n",
    "        if time_diff < 0.5 and (dataset[footsteps[idx+1], 44] > dataset[footsteps[idx], 44]):\n",
    "            footstep_period.append(time_diff)\n",
    "                \n",
    "            if (dataset[footsteps[idx+1], 8] > dataset[footsteps[idx+1], 11]) and (dataset[footsteps[idx+1], 17] > dataset[footsteps[idx+1], 14]):\n",
    "                step_size_fl.append((dataset[footsteps[idx+1], odom_idx] - dataset[footsteps[idx], odom_idx]) + (dataset[footsteps[idx+1], idx_coord[0]] - dataset[footsteps[idx], idx_coord[0]]))\n",
    "                step_size_rr.append((dataset[footsteps[idx+1], odom_idx] - dataset[footsteps[idx], odom_idx]) + (dataset[footsteps[idx+1], idx_coord[3]] - dataset[footsteps[idx], idx_coord[3]]))\n",
    "            \n",
    "            if (dataset[footsteps[idx+1], 8] < dataset[footsteps[idx+1], 11]) and (dataset[footsteps[idx+1], 17] < dataset[footsteps[idx+1], 14]):\n",
    "                step_size_fr.append((dataset[footsteps[idx+1], odom_idx] - dataset[footsteps[idx], odom_idx]) + (dataset[footsteps[idx+1], idx_coord[1]] - dataset[footsteps[idx], idx_coord[1]]))\n",
    "                step_size_rl.append((dataset[footsteps[idx+1], odom_idx] - dataset[footsteps[idx], odom_idx]) + (dataset[footsteps[idx+1], idx_coord[2]] - dataset[footsteps[idx], idx_coord[2]]))\n",
    "        \n",
    "        idx += 1\n",
    "                    \n",
    "    # Convert to numpy array\n",
    "    step_size_fl_numpy = np.array(step_size_fl)\n",
    "    step_size_fr_numpy = np.array(step_size_fr)\n",
    "    step_size_rl_numpy = np.array(step_size_rl)\n",
    "    step_size_rr_numpy = np.array(step_size_rr)\n",
    "    footstep_period_numpy = np.array(footstep_period)\n",
    "    \n",
    "    print(min(step_size_fl_numpy), \", \", max(step_size_fl_numpy))\n",
    "    print(min(step_size_fr_numpy), \", \", max(step_size_fr_numpy))\n",
    "    print(min(step_size_rl_numpy), \", \", max(step_size_rl_numpy))\n",
    "    print(min(step_size_rr_numpy), \", \", max(step_size_rr_numpy), \"\\n\")\n",
    "    \n",
    "    # Print average step-size\n",
    "    print(\"Avg. step size time: \", np.mean(footstep_period_numpy))\n",
    "    print(\"Min. step size time: \", np.min(footstep_period_numpy))\n",
    "    print(\"Max. step size time: \", np.max(footstep_period_numpy))\n",
    "    print(\"Std. step size time: \", np.std(footstep_period_numpy), \"\\n\")\n",
    "    \n",
    "    #print(footstep_period_numpy)\n",
    "    print(\"Avg. step size for fl foot: \", np.mean(step_size_fl_numpy))\n",
    "    print(\"Avg. step size for fr foot: \", np.mean(step_size_fr_numpy))\n",
    "    print(\"Avg. step size for rl foot: \", np.mean(step_size_rl_numpy))\n",
    "    print(\"Avg. step size for rr foot: \", np.mean(step_size_rr_numpy), '\\n')\n",
    "\n",
    "    # Print std. dev. step-size\n",
    "    print(\"Std. dev. step size for fl foot: \", np.std(step_size_fl_numpy))\n",
    "    print(\"Std. dev. step size for fr foot: \", np.std(step_size_fr_numpy))\n",
    "    print(\"Std. dev. step size for rl foot: \", np.std(step_size_rl_numpy))\n",
    "    print(\"Std. dev. step size for rr foot: \", np.std(step_size_rr_numpy), '\\n')\n",
    "    \n",
    "    return step_size_fr_numpy, step_size_fl_numpy, step_size_rr_numpy, step_size_rl_numpy\n",
    "\n",
    "def step_size_statistics(dataset, footsteps, sign, motion, coordinates, odom_idx):\n",
    "    # Step size and velocity along x axis\n",
    "    for velocity in np.arange(0.1, 1.0, 0.1):\n",
    "        print(f\"Forward: Step size (x) {velocity * sign}\")\n",
    "        footsteps_velocity = footsteps[np.where((np.isclose(dataset[footsteps, motion], velocity * sign, 0.001)))[0]]\n",
    "        step_size_fr_x_fwd,_,_,_ = get_step_size(dataset, footsteps_velocity, coordinates, odom_idx)\n",
    "        print(\"\\n\")"
   ]
  },
  {
   "cell_type": "markdown",
   "id": "e3b70cf3",
   "metadata": {},
   "source": [
    "#### Forward motion"
   ]
  },
  {
   "cell_type": "code",
   "execution_count": 9,
   "id": "b753e35c",
   "metadata": {},
   "outputs": [],
   "source": [
    "footsteps_fwd = get_specific_cmd(motion, 1, 0, 0)"
   ]
  },
  {
   "cell_type": "code",
   "execution_count": 10,
   "id": "4e6500bc",
   "metadata": {},
   "outputs": [
    {
     "name": "stdout",
     "output_type": "stream",
     "text": [
      "Forward: Step size (x) 0.1\n",
      "0.013528807656995462 ,  0.021314020041979326\n",
      "0.015028305943036252 ,  0.026130761856982515\n",
      "0.015063680873034502 ,  0.025649935655991024\n",
      "0.00678667763303778 ,  0.02206090329097929 \n",
      "\n",
      "Avg. step size time:  0.3903216374547858\n",
      "Min. step size time:  0.3299999237060547\n",
      "Max. step size time:  0.4500000476837158\n",
      "Std. step size time:  0.021155555530611936 \n",
      "\n",
      "Avg. step size for fl foot:  0.01838639586446179\n",
      "Avg. step size for fr foot:  0.01863454692635127\n",
      "Avg. step size for rl foot:  0.02085043976671491\n",
      "Avg. step size for rr foot:  0.018762612134602143 \n",
      "\n",
      "Std. dev. step size for fl foot:  0.0011937512151023628\n",
      "Std. dev. step size for fr foot:  0.0010838111138984717\n",
      "Std. dev. step size for rl foot:  0.0019078145742605797\n",
      "Std. dev. step size for rr foot:  0.0017348777851428857 \n",
      "\n",
      "\n",
      "\n",
      "Forward: Step size (x) 0.2\n",
      "0.041582598556024836 ,  0.04297963184099063\n",
      "0.04237016963397547 ,  0.04394095306996712\n",
      "0.04309317194597334 ,  0.045617132199989946\n",
      "0.04295992950098887 ,  0.044531171789008395 \n",
      "\n",
      "Avg. step size time:  0.391149425643614\n",
      "Min. step size time:  0.3399999141693115\n",
      "Max. step size time:  0.440000057220459\n",
      "Std. step size time:  0.01746427003189314 \n",
      "\n",
      "Avg. step size for fl foot:  0.04276663336688081\n",
      "Avg. step size for fr foot:  0.042771451517751295\n",
      "Avg. step size for rl foot:  0.044043826284096116\n",
      "Avg. step size for rr foot:  0.04426754144181759 \n",
      "\n",
      "Std. dev. step size for fl foot:  0.00014533869079729907\n",
      "Std. dev. step size for fr foot:  0.00016060120930922787\n",
      "Std. dev. step size for rl foot:  0.0003335493023040384\n",
      "Std. dev. step size for rr foot:  0.000381172240533577 \n",
      "\n",
      "\n",
      "\n",
      "Forward: Step size (x) 0.30000000000000004\n",
      "0.06091165610799251 ,  0.06512506073901903\n",
      "0.06398297308000908 ,  0.07236133625501817\n",
      "0.06570381236000145 ,  0.07765042024801819\n",
      "0.06599987863296197 ,  0.07527466889800655 \n",
      "\n",
      "Avg. step size time:  0.39212643689122695\n",
      "Min. step size time:  0.309999942779541\n",
      "Max. step size time:  0.48000001907348633\n",
      "Std. step size time:  0.022567035607571246 \n",
      "\n",
      "Avg. step size for fl foot:  0.06469121713971746\n",
      "Avg. step size for fr foot:  0.06489762941507007\n",
      "Avg. step size for rl foot:  0.07276283029375398\n",
      "Avg. step size for rr foot:  0.07439116154129792 \n",
      "\n",
      "Std. dev. step size for fl foot:  0.0004146216114779597\n",
      "Std. dev. step size for fr foot:  0.0008415872452354374\n",
      "Std. dev. step size for rl foot:  0.0027037765673756696\n",
      "Std. dev. step size for rr foot:  0.0018421812319753762 \n",
      "\n",
      "\n",
      "\n",
      "Forward: Step size (x) 0.4\n",
      "0.08685198187500281 ,  0.097095357070002\n",
      "0.0867108249800003 ,  0.09147773947101626\n",
      "0.07893851900196308 ,  0.10257935697595011\n",
      "0.09100591394099769 ,  0.10344743517400201 \n",
      "\n",
      "Avg. step size time:  0.39266475633768777\n",
      "Min. step size time:  0.2999999523162842\n",
      "Max. step size time:  0.4700000286102295\n",
      "Std. step size time:  0.027042453580981285 \n",
      "\n",
      "Avg. step size for fl foot:  0.09024500693952944\n",
      "Avg. step size for fr foot:  0.09060652791799054\n",
      "Avg. step size for rl foot:  0.09818352671935834\n",
      "Avg. step size for rr foot:  0.092393979973118 \n",
      "\n",
      "Std. dev. step size for fl foot:  0.0006733793135594903\n",
      "Std. dev. step size for fr foot:  0.0008526902014062027\n",
      "Std. dev. step size for rl foot:  0.004054323672743307\n",
      "Std. dev. step size for rr foot:  0.001290119796273992 \n",
      "\n",
      "\n",
      "\n",
      "Forward: Step size (x) 0.5\n",
      "0.11617169571699204 ,  0.12096791195497225\n",
      "0.1066189621010204 ,  0.11714938138801276\n",
      "0.11743910291201543 ,  0.11849307971297829\n",
      "0.11787186008599607 ,  0.12810098744597753 \n",
      "\n",
      "Avg. step size time:  0.39601719208638103\n",
      "Min. step size time:  0.34999990463256836\n",
      "Max. step size time:  0.4500000476837158\n",
      "Std. step size time:  0.017042325306216834 \n",
      "\n",
      "Avg. step size for fl foot:  0.1170086618714328\n",
      "Avg. step size for fr foot:  0.1166907272199728\n",
      "Avg. step size for rl foot:  0.118248241675036\n",
      "Avg. step size for rr foot:  0.11861514913940421 \n",
      "\n",
      "Std. dev. step size for fl foot:  0.00046003396365950223\n",
      "Std. dev. step size for fr foot:  0.0009946885618992804\n",
      "Std. dev. step size for rl foot:  0.00023600156939958104\n",
      "Std. dev. step size for rr foot:  0.0009334430750717691 \n",
      "\n",
      "\n",
      "\n",
      "Forward: Step size (x) 0.6\n",
      "0.12831188740497596 ,  0.14500846257800243\n",
      "0.12855207698398516 ,  0.14478104200998848\n",
      "0.12602487447002741 ,  0.15187758852499422\n",
      "0.12557562648999027 ,  0.1544602654069704 \n",
      "\n",
      "Avg. step size time:  0.3924848491495306\n",
      "Min. step size time:  0.2999999523162842\n",
      "Max. step size time:  0.49000000953674316\n",
      "Std. step size time:  0.03463062224889233 \n",
      "\n",
      "Avg. step size for fl foot:  0.13676715836304726\n",
      "Avg. step size for fr foot:  0.13571499863727884\n",
      "Avg. step size for rl foot:  0.14229068130611736\n",
      "Avg. step size for rr foot:  0.1440151887229585 \n",
      "\n",
      "Std. dev. step size for fl foot:  0.0041318195570799665\n",
      "Std. dev. step size for fr foot:  0.0033443897733305065\n",
      "Std. dev. step size for rl foot:  0.00529095222540148\n",
      "Std. dev. step size for rr foot:  0.00577966570889573 \n",
      "\n",
      "\n",
      "\n",
      "Forward: Step size (x) 0.7000000000000001\n",
      "0.1507273047470018 ,  0.16804443562800184\n",
      "0.14848187126700071 ,  0.176090940261\n",
      "0.1519062406880029 ,  0.17908426293399976\n",
      "0.15004989832899415 ,  0.17627534067999398 \n",
      "\n",
      "Avg. step size time:  0.3848837179731029\n",
      "Min. step size time:  0.2999999523162842\n",
      "Max. step size time:  0.48000001907348633\n",
      "Std. step size time:  0.049931994314038254 \n",
      "\n",
      "Avg. step size for fl foot:  0.15883873787457906\n",
      "Avg. step size for fr foot:  0.16052917361587213\n",
      "Avg. step size for rl foot:  0.1632517672868882\n",
      "Avg. step size for rr foot:  0.16259351094629335 \n",
      "\n",
      "Std. dev. step size for fl foot:  0.005078905101744087\n",
      "Std. dev. step size for fr foot:  0.005477823218130389\n",
      "Std. dev. step size for rl foot:  0.006395408639363007\n",
      "Std. dev. step size for rr foot:  0.008650609669591015 \n",
      "\n",
      "\n",
      "\n",
      "Forward: Step size (x) 0.8\n",
      "0.1731949635019877 ,  0.19399438466499183\n",
      "0.17234268382900073 ,  0.19472652710999994\n",
      "0.17627912291599823 ,  0.19573734837899995\n",
      "0.17234387001298757 ,  0.20118504592699185 \n",
      "\n",
      "Avg. step size time:  0.38522727381099353\n",
      "Min. step size time:  0.2999999523162842\n",
      "Max. step size time:  0.49000000953674316\n",
      "Std. step size time:  0.03464495405446171 \n",
      "\n",
      "Avg. step size for fl foot:  0.18514272809195095\n",
      "Avg. step size for fr foot:  0.18210102390354632\n",
      "Avg. step size for rl foot:  0.18476188593537152\n",
      "Avg. step size for rr foot:  0.18906732208155705 \n",
      "\n",
      "Std. dev. step size for fl foot:  0.005723810883013891\n",
      "Std. dev. step size for fr foot:  0.0035960813482266833\n",
      "Std. dev. step size for rl foot:  0.0051211019201734985\n",
      "Std. dev. step size for rr foot:  0.007356014350751663 \n",
      "\n",
      "\n",
      "\n",
      "Forward: Step size (x) 0.9\n"
     ]
    },
    {
     "ename": "ValueError",
     "evalue": "min() arg is an empty sequence",
     "output_type": "error",
     "traceback": [
      "\u001b[0;31m---------------------------------------------------------------------------\u001b[0m",
      "\u001b[0;31mValueError\u001b[0m                                Traceback (most recent call last)",
      "\u001b[0;32m<ipython-input-10-cc221fc8a7d6>\u001b[0m in \u001b[0;36m<module>\u001b[0;34m\u001b[0m\n\u001b[1;32m      1\u001b[0m \u001b[0;31m# Step size and velocity along x axis\u001b[0m\u001b[0;34m\u001b[0m\u001b[0;34m\u001b[0m\u001b[0;34m\u001b[0m\u001b[0m\n\u001b[0;32m----> 2\u001b[0;31m \u001b[0mstep_size_statistics\u001b[0m\u001b[0;34m(\u001b[0m\u001b[0mmotion\u001b[0m\u001b[0;34m,\u001b[0m \u001b[0mfootsteps_fwd\u001b[0m\u001b[0;34m,\u001b[0m \u001b[0;36m1\u001b[0m\u001b[0;34m,\u001b[0m \u001b[0;36m1\u001b[0m\u001b[0;34m,\u001b[0m \u001b[0;34m[\u001b[0m\u001b[0;36m8\u001b[0m\u001b[0;34m,\u001b[0m \u001b[0;36m11\u001b[0m\u001b[0;34m,\u001b[0m \u001b[0;36m14\u001b[0m\u001b[0;34m,\u001b[0m \u001b[0;36m17\u001b[0m\u001b[0;34m]\u001b[0m\u001b[0;34m,\u001b[0m \u001b[0;36m44\u001b[0m\u001b[0;34m)\u001b[0m\u001b[0;34m\u001b[0m\u001b[0;34m\u001b[0m\u001b[0m\n\u001b[0m",
      "\u001b[0;32m<ipython-input-8-e8b34cc2ebf0>\u001b[0m in \u001b[0;36mstep_size_statistics\u001b[0;34m(dataset, footsteps, sign, motion, coordinates, odom_idx)\u001b[0m\n\u001b[1;32m     62\u001b[0m         \u001b[0mprint\u001b[0m\u001b[0;34m(\u001b[0m\u001b[0;34mf\"Forward: Step size (x) {velocity * sign}\"\u001b[0m\u001b[0;34m)\u001b[0m\u001b[0;34m\u001b[0m\u001b[0;34m\u001b[0m\u001b[0m\n\u001b[1;32m     63\u001b[0m         \u001b[0mfootsteps_velocity\u001b[0m \u001b[0;34m=\u001b[0m \u001b[0mfootsteps\u001b[0m\u001b[0;34m[\u001b[0m\u001b[0mnp\u001b[0m\u001b[0;34m.\u001b[0m\u001b[0mwhere\u001b[0m\u001b[0;34m(\u001b[0m\u001b[0;34m(\u001b[0m\u001b[0mnp\u001b[0m\u001b[0;34m.\u001b[0m\u001b[0misclose\u001b[0m\u001b[0;34m(\u001b[0m\u001b[0mdataset\u001b[0m\u001b[0;34m[\u001b[0m\u001b[0mfootsteps\u001b[0m\u001b[0;34m,\u001b[0m \u001b[0mmotion\u001b[0m\u001b[0;34m]\u001b[0m\u001b[0;34m,\u001b[0m \u001b[0mvelocity\u001b[0m \u001b[0;34m*\u001b[0m \u001b[0msign\u001b[0m\u001b[0;34m,\u001b[0m \u001b[0;36m0.001\u001b[0m\u001b[0;34m)\u001b[0m\u001b[0;34m)\u001b[0m\u001b[0;34m)\u001b[0m\u001b[0;34m[\u001b[0m\u001b[0;36m0\u001b[0m\u001b[0;34m]\u001b[0m\u001b[0;34m]\u001b[0m\u001b[0;34m\u001b[0m\u001b[0;34m\u001b[0m\u001b[0m\n\u001b[0;32m---> 64\u001b[0;31m         \u001b[0mstep_size_fr_x_fwd\u001b[0m\u001b[0;34m,\u001b[0m\u001b[0m_\u001b[0m\u001b[0;34m,\u001b[0m\u001b[0m_\u001b[0m\u001b[0;34m,\u001b[0m\u001b[0m_\u001b[0m \u001b[0;34m=\u001b[0m \u001b[0mget_step_size\u001b[0m\u001b[0;34m(\u001b[0m\u001b[0mdataset\u001b[0m\u001b[0;34m,\u001b[0m \u001b[0mfootsteps_velocity\u001b[0m\u001b[0;34m,\u001b[0m \u001b[0mcoordinates\u001b[0m\u001b[0;34m,\u001b[0m \u001b[0modom_idx\u001b[0m\u001b[0;34m)\u001b[0m\u001b[0;34m\u001b[0m\u001b[0;34m\u001b[0m\u001b[0m\n\u001b[0m\u001b[1;32m     65\u001b[0m         \u001b[0mprint\u001b[0m\u001b[0;34m(\u001b[0m\u001b[0;34m\"\\n\"\u001b[0m\u001b[0;34m)\u001b[0m\u001b[0;34m\u001b[0m\u001b[0;34m\u001b[0m\u001b[0m\n",
      "\u001b[0;32m<ipython-input-8-e8b34cc2ebf0>\u001b[0m in \u001b[0;36mget_step_size\u001b[0;34m(dataset, footsteps, idx_coord, odom_idx)\u001b[0m\n\u001b[1;32m     32\u001b[0m     \u001b[0mfootstep_period_numpy\u001b[0m \u001b[0;34m=\u001b[0m \u001b[0mnp\u001b[0m\u001b[0;34m.\u001b[0m\u001b[0marray\u001b[0m\u001b[0;34m(\u001b[0m\u001b[0mfootstep_period\u001b[0m\u001b[0;34m)\u001b[0m\u001b[0;34m\u001b[0m\u001b[0;34m\u001b[0m\u001b[0m\n\u001b[1;32m     33\u001b[0m \u001b[0;34m\u001b[0m\u001b[0m\n\u001b[0;32m---> 34\u001b[0;31m     \u001b[0mprint\u001b[0m\u001b[0;34m(\u001b[0m\u001b[0mmin\u001b[0m\u001b[0;34m(\u001b[0m\u001b[0mstep_size_fl_numpy\u001b[0m\u001b[0;34m)\u001b[0m\u001b[0;34m,\u001b[0m \u001b[0;34m\", \"\u001b[0m\u001b[0;34m,\u001b[0m \u001b[0mmax\u001b[0m\u001b[0;34m(\u001b[0m\u001b[0mstep_size_fl_numpy\u001b[0m\u001b[0;34m)\u001b[0m\u001b[0;34m)\u001b[0m\u001b[0;34m\u001b[0m\u001b[0;34m\u001b[0m\u001b[0m\n\u001b[0m\u001b[1;32m     35\u001b[0m     \u001b[0mprint\u001b[0m\u001b[0;34m(\u001b[0m\u001b[0mmin\u001b[0m\u001b[0;34m(\u001b[0m\u001b[0mstep_size_fr_numpy\u001b[0m\u001b[0;34m)\u001b[0m\u001b[0;34m,\u001b[0m \u001b[0;34m\", \"\u001b[0m\u001b[0;34m,\u001b[0m \u001b[0mmax\u001b[0m\u001b[0;34m(\u001b[0m\u001b[0mstep_size_fr_numpy\u001b[0m\u001b[0;34m)\u001b[0m\u001b[0;34m)\u001b[0m\u001b[0;34m\u001b[0m\u001b[0;34m\u001b[0m\u001b[0m\n\u001b[1;32m     36\u001b[0m     \u001b[0mprint\u001b[0m\u001b[0;34m(\u001b[0m\u001b[0mmin\u001b[0m\u001b[0;34m(\u001b[0m\u001b[0mstep_size_rl_numpy\u001b[0m\u001b[0;34m)\u001b[0m\u001b[0;34m,\u001b[0m \u001b[0;34m\", \"\u001b[0m\u001b[0;34m,\u001b[0m \u001b[0mmax\u001b[0m\u001b[0;34m(\u001b[0m\u001b[0mstep_size_rl_numpy\u001b[0m\u001b[0;34m)\u001b[0m\u001b[0;34m)\u001b[0m\u001b[0;34m\u001b[0m\u001b[0;34m\u001b[0m\u001b[0m\n",
      "\u001b[0;31mValueError\u001b[0m: min() arg is an empty sequence"
     ]
    }
   ],
   "source": [
    "# Step size and velocity along x axis\n",
    "step_size_statistics(motion, footsteps_fwd, 1, 1, [8, 11, 14, 17], 44)"
   ]
  },
  {
   "cell_type": "code",
   "execution_count": 11,
   "id": "e088c641",
   "metadata": {},
   "outputs": [
    {
     "ename": "TypeError",
     "evalue": "step_size_statistics() missing 1 required positional argument: 'odom_idx'",
     "output_type": "error",
     "traceback": [
      "\u001b[0;31m---------------------------------------------------------------------------\u001b[0m",
      "\u001b[0;31mTypeError\u001b[0m                                 Traceback (most recent call last)",
      "\u001b[0;32m<ipython-input-11-8301fc8d6d65>\u001b[0m in \u001b[0;36m<module>\u001b[0;34m\u001b[0m\n\u001b[1;32m      1\u001b[0m \u001b[0;31m# Step size and velocity along y axis\u001b[0m\u001b[0;34m\u001b[0m\u001b[0;34m\u001b[0m\u001b[0;34m\u001b[0m\u001b[0m\n\u001b[0;32m----> 2\u001b[0;31m \u001b[0mstep_size_statistics\u001b[0m\u001b[0;34m(\u001b[0m\u001b[0mmotion\u001b[0m\u001b[0;34m,\u001b[0m \u001b[0mfootsteps_fwd\u001b[0m\u001b[0;34m,\u001b[0m \u001b[0;36m1\u001b[0m\u001b[0;34m,\u001b[0m \u001b[0;36m1\u001b[0m\u001b[0;34m,\u001b[0m \u001b[0;34m[\u001b[0m\u001b[0;36m62\u001b[0m\u001b[0;34m,\u001b[0m \u001b[0;36m64\u001b[0m\u001b[0;34m,\u001b[0m \u001b[0;36m66\u001b[0m\u001b[0;34m,\u001b[0m \u001b[0;36m68\u001b[0m\u001b[0;34m]\u001b[0m\u001b[0;34m)\u001b[0m\u001b[0;34m\u001b[0m\u001b[0;34m\u001b[0m\u001b[0m\n\u001b[0m",
      "\u001b[0;31mTypeError\u001b[0m: step_size_statistics() missing 1 required positional argument: 'odom_idx'"
     ]
    }
   ],
   "source": [
    "# Step size and velocity along y axis\n",
    "step_size_statistics(motion, footsteps_fwd, 1, 1, [62, 64, 66, 68])"
   ]
  },
  {
   "cell_type": "markdown",
   "id": "c37f6533",
   "metadata": {},
   "source": [
    "### Side motion (right)"
   ]
  },
  {
   "cell_type": "code",
   "execution_count": null,
   "id": "a8f858a9",
   "metadata": {},
   "outputs": [],
   "source": [
    "footsteps_side_right = get_specific_cmd(motion, 0, -1, 0)"
   ]
  },
  {
   "cell_type": "code",
   "execution_count": null,
   "id": "13f8b879",
   "metadata": {},
   "outputs": [],
   "source": [
    "# Step size and velocity along x axis\n",
    "step_size_statistics(motion, footsteps_side_right, -1, 2, [61, 63, 65, 67])"
   ]
  },
  {
   "cell_type": "code",
   "execution_count": null,
   "id": "4362936c",
   "metadata": {},
   "outputs": [],
   "source": [
    "# Step size and velocity along y axis\n",
    "step_size_statistics(motion, footsteps_side_right, -1, 2, [62, 64, 66, 68])"
   ]
  },
  {
   "cell_type": "markdown",
   "id": "3f0c2972",
   "metadata": {},
   "source": [
    "### Side motions (left)"
   ]
  },
  {
   "cell_type": "code",
   "execution_count": null,
   "id": "0e4167c3",
   "metadata": {},
   "outputs": [],
   "source": [
    "footsteps_side_left = get_specific_cmd(motion, 0, 1, 0)"
   ]
  },
  {
   "cell_type": "code",
   "execution_count": null,
   "id": "32b4d26c",
   "metadata": {},
   "outputs": [],
   "source": [
    "# Step size and velocity along x axis\n",
    "step_size_statistics(motion, footsteps_side_left, 1, 2, [61, 63, 65, 67])"
   ]
  },
  {
   "cell_type": "code",
   "execution_count": null,
   "id": "9a507c74",
   "metadata": {},
   "outputs": [],
   "source": [
    "# Step size and velocity along y axis\n",
    "step_size_statistics(motion, footsteps_side_left, 1, 2, [62, 64, 66, 68])"
   ]
  },
  {
   "cell_type": "markdown",
   "id": "fbfb773f",
   "metadata": {},
   "source": [
    "### Rotation (clockwise)"
   ]
  },
  {
   "cell_type": "code",
   "execution_count": null,
   "id": "2e8f4ab1",
   "metadata": {},
   "outputs": [],
   "source": [
    "footsteps_clock = get_specific_cmd(motion, 0, 0, -1)"
   ]
  },
  {
   "cell_type": "code",
   "execution_count": null,
   "id": "0a319ed3",
   "metadata": {},
   "outputs": [],
   "source": [
    "# Step size and velocity along x axis\n",
    "step_size_statistics(motion, footsteps_clock, -1, 3, [8, 11, 14, 17])"
   ]
  },
  {
   "cell_type": "code",
   "execution_count": null,
   "id": "ca3148de",
   "metadata": {},
   "outputs": [],
   "source": [
    "# Step size along y axis \n",
    "step_size_statistics(motion, footsteps_clock, -1, 3, [9, 12, 15, 18])"
   ]
  },
  {
   "cell_type": "markdown",
   "id": "7dee9ba4",
   "metadata": {},
   "source": [
    "### Rotation (counter clockwise)"
   ]
  },
  {
   "cell_type": "code",
   "execution_count": null,
   "id": "ea8b8cbf",
   "metadata": {},
   "outputs": [],
   "source": [
    "footsteps_count = get_specific_cmd(motion, 0, 0, 1)"
   ]
  },
  {
   "cell_type": "code",
   "execution_count": null,
   "id": "843a8853",
   "metadata": {},
   "outputs": [],
   "source": [
    "# Step size and velocity along x axis \n",
    "step_size_statistics(motion, footsteps_count, 1, 3, [8, 11, 14, 17])"
   ]
  },
  {
   "cell_type": "code",
   "execution_count": null,
   "id": "2adda72c",
   "metadata": {},
   "outputs": [],
   "source": [
    "# Step size along y axis \n",
    "step_size_statistics(motion, footsteps_count, 1, 3, [9, 12, 15, 18])"
   ]
  },
  {
   "cell_type": "markdown",
   "id": "ae1e39e0",
   "metadata": {},
   "source": [
    "### Footstep visualization"
   ]
  },
  {
   "cell_type": "code",
   "execution_count": 11,
   "id": "5100226d",
   "metadata": {},
   "outputs": [],
   "source": [
    "def euler_from_quaternion(x, y, z, w):\n",
    "    \"\"\"\n",
    "    Convert a quaternion into euler angles (roll, pitch, yaw)\n",
    "    roll is rotation around x in radians (counterclockwise)\n",
    "    pitch is rotation around y in radians (counterclockwise)\n",
    "    yaw is rotation around z in radians (counterclockwise)\n",
    "    \"\"\"\n",
    "    t0 = +2.0 * (w * x + y * z)\n",
    "    t1 = +1.0 - 2.0 * (x * x + y * y)\n",
    "    roll_x = math.atan2(t0, t1)\n",
    "     \n",
    "    t2 = +2.0 * (w * y - z * x)\n",
    "    t2 = +1.0 if t2 > +1.0 else t2\n",
    "    t2 = -1.0 if t2 < -1.0 else t2\n",
    "    pitch_y = math.asin(t2)\n",
    "     \n",
    "    t3 = +2.0 * (w * z + x * y)\n",
    "    t4 = +1.0 - 2.0 * (y * y + z * z)\n",
    "    yaw_z = math.atan2(t3, t4)\n",
    "     \n",
    "    return roll_x, pitch_y, yaw_z # in radians"
   ]
  },
  {
   "cell_type": "code",
   "execution_count": 12,
   "id": "ef240ce0",
   "metadata": {},
   "outputs": [],
   "source": [
    "def visualize_static_foosteps(dataset, footsteps):\n",
    "    old_xs = None\n",
    "    old_ys = None\n",
    "    old_zs = None\n",
    "    \n",
    "    # Visualize footsteps\n",
    "    for idx, footstep in enumerate(footsteps):\n",
    "        fig = plt.figure()\n",
    "        ax = fig.add_subplot(projection='3d')\n",
    "\n",
    "        #ax.set_xlim([-0.5, 0.5])\n",
    "        #ax.set_ylim([-0.3, 0.3])\n",
    "        ax.set_zlim([-0.5, 0.5])\n",
    "\n",
    "        dataset[footstep, 8:20] = np.round(dataset[footstep, 8:20], 3)\n",
    "        \n",
    "        time_diff = dataset[footsteps[idx], 0] - dataset[footsteps[idx-1], 0]\n",
    "            \n",
    "        # 3D positions        \n",
    "        xs = np.array([dataset[footstep, 8], dataset[footstep, 11], dataset[footstep, 14], dataset[footstep, 17]])\n",
    "        ys = np.array([dataset[footstep, 9], dataset[footstep, 12], dataset[footstep, 15], dataset[footstep, 18]])\n",
    "        zz = np.array([dataset[footstep, 10], dataset[footstep, 13], dataset[footstep, 16], dataset[footstep, 19]])\n",
    "\n",
    "        ax.scatter(xs, ys, zs, marker='o')\n",
    "\n",
    "        ax.set_xlabel('X Label')\n",
    "        ax.set_ylabel('Y Label')\n",
    "        ax.set_zlabel('Z Label')\n",
    "\n",
    "        plt.show()\n",
    "\n",
    "        #print(xs, ys, zs, dataset[footstep, 2:5], dataset[footstep, 25:28])\n",
    "        if idx > 0 and idx < len(footsteps):\n",
    "            print(f'Diff: {time_diff}. Command: {dataset[footstep, 1:4]}. Coord: {[xs[0], ys[0], zs[0]]}. Step size: {[xs[0]-old_xs[0], ys[0]-old_ys[0], zs[0]-old_zs[0]]}.')\n",
    "        else:\n",
    "            print(f'Command: {dataset[footstep, 1:4]}. Coord: {[xs[0], ys[0], zs[0]]}.')\n",
    "            \n",
    "        old_xs = xs\n",
    "        old_ys = ys\n",
    "        old_zs = zs"
   ]
  },
  {
   "cell_type": "code",
   "execution_count": 13,
   "id": "d9b0843b",
   "metadata": {},
   "outputs": [],
   "source": [
    "def update_points(num, dataset, footsteps, x, y, z, points):    \n",
    "    # Starting footstep index\n",
    "    footstep = footsteps[num]\n",
    "    \n",
    "    # Round footsteps position\n",
    "    dataset[footstep, 8:20] = np.round(dataset[footstep, 8:20], 3)\n",
    "\n",
    "    # Initial footsteps 3D positions\n",
    "    new_x = np.array([dataset[footstep, 8], dataset[footstep, 11], dataset[footstep, 14], dataset[footstep, 17]])\n",
    "    new_y = np.array([dataset[footstep, 9], dataset[footstep, 12], dataset[footstep, 15], dataset[footstep, 18]])\n",
    "    new_z = np.array([dataset[footstep, 10], dataset[footstep, 13], dataset[footstep, 16], dataset[footstep, 19]])\n",
    "\n",
    "    # update properties\n",
    "    points.set_data(new_x, new_y)\n",
    "    points.set_3d_properties(new_z, 'z')\n",
    "\n",
    "    # return modified artists\n",
    "    return points\n",
    "\n",
    "def visualize_animated_footsteps(dataset, footsteps, style: str):\n",
    "    # Create figure\n",
    "    fig = plt.figure()\n",
    "    ax = p3.Axes3D(fig)\n",
    "\n",
    "    # Setting the axes properties\n",
    "    ax.set_xlim3d([-0.4, 0.4])\n",
    "    ax.set_xlabel('X')\n",
    "\n",
    "    ax.set_ylim3d([-0.2, 0.2])\n",
    "    ax.set_ylabel('Y')\n",
    "\n",
    "    ax.set_zlim3d([-0.5, 0.5])\n",
    "    ax.set_zlabel('Z')\n",
    "\n",
    "    # Starting footstep index\n",
    "    footstep = footsteps[0]\n",
    "\n",
    "    # Round footsteps position\n",
    "    dataset[footstep, 8:20] = np.round(dataset[footstep, 8:20], 3)\n",
    "\n",
    "    # Initial footsteps 3D positions\n",
    "    x = np.array([dataset[footstep, 8], dataset[footstep, 11], dataset[footstep, 14], dataset[footstep, 17]])\n",
    "    y = np.array([dataset[footstep, 9], dataset[footstep, 12], dataset[footstep, 15], dataset[footstep, 18]])\n",
    "    z = np.array([dataset[footstep, 10], dataset[footstep, 13], dataset[footstep, 16], dataset[footstep, 19]])\n",
    "\n",
    "    txt = fig.suptitle('')\n",
    "    points, = ax.plot(x, y, z, style)\n",
    "    \n",
    "    # blit=True re-draws only the parts that have changed.\n",
    "    anim = animation.FuncAnimation(fig, update_points, frames=len(footsteps), fargs=(dataset, footsteps, x, y, z, points))\n",
    "    \n",
    "    return anim   "
   ]
  },
  {
   "cell_type": "code",
   "execution_count": 14,
   "id": "acf990be",
   "metadata": {},
   "outputs": [],
   "source": [
    "def visualize_absolute_foostep_sizes(dataset, footsteps):\n",
    "    prev_yaw = 0\n",
    "    \n",
    "    # Visualize footsteps\n",
    "    for idx, footstep in enumerate(footsteps):\n",
    "        dataset[footstep, 8:20] = np.round(dataset[footstep, 8:20], 3)\n",
    "        \n",
    "        if idx < (len(footsteps) - 1):\n",
    "            print(\"Command: \", dataset[footstep, 1:4])\n",
    "            time_difference = abs(dataset[footsteps[idx], 0] - dataset[footsteps[idx+1], 0])\n",
    "            \n",
    "            if time_difference < 1:\n",
    "                fig, axes = plt.subplots(nrows=1, ncols=2, figsize=(15, 5))\n",
    "                axes[0].set_xlabel('X Label')\n",
    "                axes[0].set_ylabel('Y Label')\n",
    "                axes[1].set_xlabel('X Label')\n",
    "                axes[1].set_ylabel('Y Label')\n",
    "                    \n",
    "                # Get euler angles from odom to base rotation\n",
    "                _, _, curh_yaw = euler_from_quaternion(dataset[footstep, 47], dataset[footstep, 48], dataset[footstep, 49], dataset[footstep, 50])\n",
    "                _, _, next_yaw = euler_from_quaternion(dataset[footsteps[idx+1], 47], dataset[footsteps[idx+1], 48], dataset[footsteps[idx+1], 49], dataset[footsteps[idx+1], 50])\n",
    "\n",
    "                # Compute rotation matrix\n",
    "                c_curh, s_curh = np.cos(curh_yaw), np.sin(curh_yaw)\n",
    "                c_next, s_next = np.cos(next_yaw), np.sin(next_yaw)\n",
    "                R_curh = np.array(((c_curh, -s_curh), (s_curh, c_curh)))\n",
    "                R_next = np.array(((c_next, -s_next), (s_next, c_next)))\n",
    "                \n",
    "                # Odom base vectors\n",
    "                curh_base = np.array([[dataset[footstep, 44], dataset[footstep, 45]]])\n",
    "                next_base = np.array([[dataset[footsteps[idx+1], 44], dataset[footsteps[idx+1], 45]]])\n",
    "                \n",
    "                # Local base vectors\n",
    "                local_curh_base = R_curh.T @ curh_base.T\n",
    "                local_next_base = R_curh.T @ next_base.T\n",
    "                local_next_base_next = R_next.T @ next_base.T\n",
    "                base_displacement = local_next_base - local_curh_base\n",
    "                \n",
    "                #print(\"Footstep timestamp: \", dataset[footstep, 0])\n",
    "                print(f'\\nFL moving: {contacts[idx, 0]}. FR moving: {contacts[idx, 1]}')\n",
    "                print(f'RL moving: {contacts[idx, 2]}. RR moving: {contacts[idx, 3]}')\n",
    "                \n",
    "                #print(f'Curh base (not transformed): {dataset[footstep, 31:33]}. Next base (not transformed): {dataset[footsteps[idx+1], 31:33]}.')\n",
    "                #print(f'Curh base transformed (x): {local_curh_base.tolist()}.\\nNext base transformed (y): {local_next_base.tolist()}.\\nNext base transformed2 (y): {local_next_base_next.tolist()}\\n')\n",
    "                print(prev_yaw, curh_yaw)\n",
    "                print(f'Base displacement: {base_displacement.tolist()}. Rotation displacement: {(curh_yaw - prev_yaw) * 180 / np.pi}.\\n')\n",
    "                \n",
    "                print(\"CoM displacement: \")\n",
    "                print(f'lf (x): {dataset[footsteps[idx], 8]}, {dataset[footsteps[idx+1], 8]}, lf (y): {dataset[footsteps[idx], 9]}, {dataset[footsteps[idx+1], 9]}.')\n",
    "                print(f'lf displacement: {(dataset[footsteps[idx+1], 8] - dataset[footsteps[idx], 8]).tolist()}, {(dataset[footsteps[idx+1], 9] - dataset[footsteps[idx], 9]).tolist()}.\\n')\n",
    "                \n",
    "                print(f'lh (x): {dataset[footsteps[idx], 11]}, {dataset[footsteps[idx+1], 11]}, lh (y): {dataset[footsteps[idx], 12]}, {dataset[footsteps[idx+1], 12]}.')\n",
    "                print(f'lh displacement: {(dataset[footsteps[idx+1], 11] - dataset[footsteps[idx], 11]).tolist()}, {(dataset[footsteps[idx+1], 12] - dataset[footsteps[idx], 12]).tolist()}.\\n')\n",
    "                \n",
    "                print(f'rf (x): {dataset[footsteps[idx], 14]}, {dataset[footsteps[idx+1], 14]}, rf (y): {dataset[footsteps[idx], 15]}, {dataset[footsteps[idx+1], 15]}.')\n",
    "                print(f'rf displacement: {(dataset[footsteps[idx+1], 14] - dataset[footsteps[idx], 14]).tolist()}, {(dataset[footsteps[idx+1], 15] - dataset[footsteps[idx], 15]).tolist()}.\\n')\n",
    "                \n",
    "                print(f'rh (x): {dataset[footsteps[idx], 17]}, {dataset[footsteps[idx+1], 17]}, rh (y): {dataset[footsteps[idx], 18]}, {dataset[footsteps[idx+1], 18]}.')\n",
    "                print(f'rh displacement: {(dataset[footsteps[idx+1], 17] - dataset[footsteps[idx], 17]).tolist()}, {(dataset[footsteps[idx+1], 18] - dataset[footsteps[idx], 18]).tolist()}.\\n')\n",
    "        \n",
    "                # Feet displacements\n",
    "                lf_x_displacement = dataset[footsteps[idx+1], 8] - dataset[footsteps[idx], 8]\n",
    "                lf_y_displacement = dataset[footsteps[idx+1], 9] - dataset[footsteps[idx], 9]\n",
    "                lh_x_displacement = dataset[footsteps[idx+1], 11] - dataset[footsteps[idx], 11]\n",
    "                lh_y_displacement = dataset[footsteps[idx+1], 12] - dataset[footsteps[idx], 12]\n",
    "                rf_x_displacement = dataset[footsteps[idx+1], 14] - dataset[footsteps[idx], 14]\n",
    "                rf_y_displacement = dataset[footsteps[idx+1], 15] - dataset[footsteps[idx], 15]\n",
    "                rh_x_displacement = dataset[footsteps[idx+1], 17] - dataset[footsteps[idx], 17]\n",
    "                rh_y_displacement = dataset[footsteps[idx+1], 18] - dataset[footsteps[idx], 18]\n",
    "                \n",
    "                # Support foot base displacement\n",
    "                support_base_displacement = [0, 0]\n",
    "                if contacts[idx, 1]:\n",
    "                    support_base_displacement[0] = -lf_x_displacement\n",
    "                    support_base_displacement[1] = -lf_y_displacement\n",
    "                else:\n",
    "                    support_base_displacement[0] = -rf_x_displacement\n",
    "                    support_base_displacement[1] = -rf_y_displacement\n",
    "                \n",
    "                prev_yaw = curh_yaw\n",
    "                    \n",
    "                print(f'\\nBase displacement (CoM): {support_base_displacement}.\\n')\n",
    "                    \n",
    "                x_0 = np.array([dataset[footstep, 8], \n",
    "                                dataset[footstep, 11],\n",
    "                                dataset[footstep, 14], \n",
    "                                dataset[footstep, 17]])\n",
    "                y_0 = np.array([dataset[footstep, 9], \n",
    "                                dataset[footstep, 12],\n",
    "                                dataset[footstep, 15], \n",
    "                                dataset[footstep, 18]])\n",
    "                \n",
    "                \"\"\"\n",
    "                x_1 = np.array([dataset[footsteps[idx+1], 7], \n",
    "                                dataset[footsteps[idx+1], 10],\n",
    "                                dataset[footsteps[idx+1], 13], \n",
    "                                dataset[footsteps[idx+1], 16]])\n",
    "                y_1 = np.array([dataset[footsteps[idx+1], 8], \n",
    "                                dataset[footsteps[idx+1], 11],\n",
    "                                dataset[footsteps[idx+1], 14], \n",
    "                                dataset[footsteps[idx+1], 17]])\n",
    "                \"\"\"\n",
    "                \n",
    "                x_1 = np.array([dataset[footstep, 8] + lf_x_displacement, \n",
    "                                dataset[footstep, 11] + rf_x_displacement,\n",
    "                                dataset[footstep, 14] + lh_x_displacement, \n",
    "                                dataset[footstep, 17] + rh_x_displacement])\n",
    "                y_1 = np.array([dataset[footstep, 9] + lf_y_displacement, \n",
    "                                dataset[footstep, 12] + rf_y_displacement,\n",
    "                                dataset[footstep, 15] + lh_y_displacement, \n",
    "                                dataset[footstep, 18] + rh_y_displacement])\n",
    "                \n",
    "                #axes[0].scatter(x_0, y_0, c= 'b',marker='o')\n",
    "                axes[0].scatter(x_0, y_0, c= 'm',marker='o')\n",
    "                axes[0].scatter(0, 0, c= 'g', marker='^')\n",
    "                axes[0].scatter(base_displacement[0], base_displacement[1], c= 'y', marker='^')\n",
    "                axes[0].scatter(support_base_displacement[0], support_base_displacement[1], c= 'r', marker='^')\n",
    "                \n",
    "                axes[1].scatter(x_1, y_1, c= 'r', marker='o')\n",
    "                axes[1].scatter(x_1, y_1, c= 'c', marker='o')\n",
    "                \n",
    "                plt.show()\n",
    "                \n",
    "#visualize_absolute_foostep_sizes(motion, footsteps_fwd)                  "
   ]
  },
  {
   "cell_type": "markdown",
   "id": "0c3ab31e",
   "metadata": {},
   "source": [
    "### Forward motion"
   ]
  },
  {
   "cell_type": "code",
   "execution_count": null,
   "id": "7d11ac50",
   "metadata": {},
   "outputs": [],
   "source": [
    "anim = visualize_animated_footsteps(motion, footsteps_fwd, \"bo\")\n",
    "HTML(anim.to_html5_video())"
   ]
  },
  {
   "cell_type": "markdown",
   "id": "6d638fb7",
   "metadata": {},
   "source": [
    "### Side motion (right)"
   ]
  },
  {
   "cell_type": "code",
   "execution_count": null,
   "id": "47373514",
   "metadata": {},
   "outputs": [],
   "source": [
    "anim = visualize_animated_footsteps(motion, footsteps_side_right, \"bo\")\n",
    "HTML(anim.to_html5_video())"
   ]
  },
  {
   "cell_type": "markdown",
   "id": "ff083cf5",
   "metadata": {},
   "source": [
    "### Side motion (left)"
   ]
  },
  {
   "cell_type": "code",
   "execution_count": null,
   "id": "1f6bfc26",
   "metadata": {},
   "outputs": [],
   "source": [
    "anim = visualize_animated_footsteps(motion, footsteps_side_left, \"bo\")\n",
    "HTML(anim.to_html5_video())"
   ]
  },
  {
   "cell_type": "markdown",
   "id": "3a802fc9",
   "metadata": {},
   "source": [
    "### Rotation (clockwise)"
   ]
  },
  {
   "cell_type": "code",
   "execution_count": null,
   "id": "fc0062bd",
   "metadata": {},
   "outputs": [],
   "source": [
    "anim = visualize_animated_footsteps(motion, footsteps_clock, \"bo\")\n",
    "HTML(anim.to_html5_video())"
   ]
  },
  {
   "cell_type": "markdown",
   "id": "10989c7e",
   "metadata": {},
   "source": [
    "### Rotation (counter clockwise)"
   ]
  },
  {
   "cell_type": "code",
   "execution_count": null,
   "id": "e503d9f2",
   "metadata": {},
   "outputs": [],
   "source": [
    "anim = visualize_animated_footsteps(motion, footsteps_count, \"bo\")\n",
    "HTML(anim.to_html5_video())"
   ]
  },
  {
   "cell_type": "markdown",
   "id": "64b982fc",
   "metadata": {},
   "source": [
    "# Dataset Preparation"
   ]
  },
  {
   "cell_type": "code",
   "execution_count": 15,
   "id": "6d24f16a",
   "metadata": {},
   "outputs": [],
   "source": [
    "import sklearn\n",
    "from sklearn.linear_model import LinearRegression\n",
    "from sklearn.model_selection import train_test_split"
   ]
  },
  {
   "cell_type": "code",
   "execution_count": 16,
   "id": "34dcb300",
   "metadata": {},
   "outputs": [
    {
     "name": "stdout",
     "output_type": "stream",
     "text": [
      "(2625, 28)\n",
      "(2625, 4)\n"
     ]
    }
   ],
   "source": [
    "def relative_footstep_prediction_dataset_absolute(dataset, footsteps, debug=False):\n",
    "    # Footsteps sizes\n",
    "    inputs = []\n",
    "    labels = []\n",
    "    \n",
    "    idx = 1\n",
    "    while idx < (len(footsteps) - 1):\n",
    "        # Compute time difference between\n",
    "        # curhent and next footsteps\n",
    "        time_difference = abs(dataset[footsteps[idx], 0] - dataset[footsteps[idx-1], 0])\n",
    "            \n",
    "        if time_difference < 0.5:\n",
    "            fl_moving = dataset[footsteps[idx], 8] > dataset[footsteps[idx-1], 8]\n",
    "            fr_moving = dataset[footsteps[idx], 11] > dataset[footsteps[idx-1], 11]\n",
    "            rl_moving = dataset[footsteps[idx], 14] > dataset[footsteps[idx-1], 14]\n",
    "            rr_moving = dataset[footsteps[idx], 17] > dataset[footsteps[idx-1], 17]\n",
    "\n",
    "            if debug:\n",
    "                print(\"Time difference: \", time_difference)\n",
    "                print(\"Footstep timestamp: \", dataset[footstep, 0])\n",
    "                print(f'lf moving: {fl_moving}. rf moving: {fr_moving}')\n",
    "                print(f'lh moving: {rl_moving}. rh moving: {rr_moving}')\n",
    "\n",
    "            if (not fr_moving != fl_moving or not fr_moving == rl_moving or not fl_moving == rr_moving):\n",
    "                #print(\"Exception\")\n",
    "                #print(\"Time difference: \", time_difference)\n",
    "                #print(\"Footstep timestamp: \", dataset[footstep, 0])\n",
    "                #print(f'fl moving: {fl_moving}. fr moving: {fr_moving}')\n",
    "                #print(f'rl moving: {rl_moving}. rr moving: {rr_moving}')\n",
    "                idx += 1\n",
    "                continue\n",
    "                \n",
    "            assert fr_moving == rl_moving\n",
    "            assert rr_moving == fl_moving\n",
    "            assert fr_moving != fl_moving\n",
    "            \n",
    "            if (dataset[footsteps[idx], 44] - dataset[footsteps[idx-1], 44]) > 0:\n",
    "                inputs.append(dataset[footsteps[idx-1], 1:4].tolist() +\n",
    "                              dataset[footsteps[idx-1], 51:57].tolist() +\n",
    "                              dataset[footsteps[idx-1], 8:20].tolist() + \n",
    "                              [fl_moving, fr_moving, rl_moving, rr_moving] +\n",
    "                              dataset[footsteps[idx], 1:4].tolist())\n",
    "\n",
    "                if fr_moving and rl_moving:\n",
    "                    labels.append([(dataset[footsteps[idx], 44] - dataset[footsteps[idx-1], 44]) + (dataset[footsteps[idx], 11] - dataset[footsteps[idx-1], 11]),\n",
    "                                   (dataset[footsteps[idx], 45] - dataset[footsteps[idx-1], 45]) + (dataset[footsteps[idx], 12] - dataset[footsteps[idx-1], 12]),\n",
    "                                   (dataset[footsteps[idx], 44] - dataset[footsteps[idx-1], 44]) + (dataset[footsteps[idx], 14] - dataset[footsteps[idx-1], 14]),\n",
    "                                   (dataset[footsteps[idx], 45] - dataset[footsteps[idx-1], 45]) + (dataset[footsteps[idx], 15] - dataset[footsteps[idx-1], 15])])\n",
    "                \n",
    "                if fl_moving and rr_moving:\n",
    "                    labels.append([(dataset[footsteps[idx], 44] - dataset[footsteps[idx-1], 44]) + (dataset[footsteps[idx], 8] - dataset[footsteps[idx-1], 8]),\n",
    "                                   (dataset[footsteps[idx], 45] - dataset[footsteps[idx-1], 45]) + (dataset[footsteps[idx], 9] - dataset[footsteps[idx-1], 9]),\n",
    "                                   (dataset[footsteps[idx], 44] - dataset[footsteps[idx-1], 44]) + (dataset[footsteps[idx], 17] - dataset[footsteps[idx-1], 17]),\n",
    "                                   (dataset[footsteps[idx], 45] - dataset[footsteps[idx-1], 45]) + (dataset[footsteps[idx], 18] - dataset[footsteps[idx-1], 18])])\n",
    "                    \n",
    "        idx += 1\n",
    "                \n",
    "    # Convert to numpy array\n",
    "    inputs_numpy = np.array(inputs)\n",
    "    labels_numpy = np.array(labels)\n",
    "    \n",
    "    return inputs_numpy, labels_numpy\n",
    "\n",
    "X_relative_footsteps_fwd, Y_relative_footsteps_fwd = relative_footstep_prediction_dataset_absolute(motion, footsteps_fwd)\n",
    "#X_relative_footsteps_bwd, Y_relative_footsteps_bwd = relative_footstep_prediction_dataset(motion, footsteps_bwd)\n",
    "#X_relative_footsteps_clock, Y_relative_footsteps_clock = relative_footstep_prediction_dataset_absolute(motion, footsteps_clock)\n",
    "#X_relative_footsteps_count, Y_relative_footsteps_count = relative_footstep_prediction_dataset_absolute(motion, footsteps_count)\n",
    "#X_relative_footsteps_left, Y_relative_footsteps_left = relative_footstep_prediction_dataset_absolute(motion, footsteps_side_left)\n",
    "#X_relative_footsteps_right, Y_relative_footsteps_right = relative_footstep_prediction_dataset_absolute(motion, footsteps_side_right)\n",
    "\n",
    "# Stack datasets\n",
    "#X_footsteps_continuous_absolute = np.concatenate((X_relative_footsteps_fwd, X_relative_footsteps_clock, X_relative_footsteps_count, X_relative_footsteps_left, X_relative_footsteps_right))\n",
    "#Y_footsteps_continuous_absolute = np.concatenate((Y_relative_footsteps_fwd, Y_relative_footsteps_clock, Y_relative_footsteps_count, Y_relative_footsteps_left, Y_relative_footsteps_right))\n",
    "\n",
    "X_footsteps_continuous_absolute = X_relative_footsteps_fwd\n",
    "Y_footsteps_continuous_absolute = Y_relative_footsteps_fwd\n",
    "\n",
    "# Log\n",
    "print(X_footsteps_continuous_absolute.shape)\n",
    "print(Y_footsteps_continuous_absolute.shape)"
   ]
  },
  {
   "cell_type": "code",
   "execution_count": 17,
   "id": "e14ad337",
   "metadata": {},
   "outputs": [
    {
     "name": "stdout",
     "output_type": "stream",
     "text": [
      "Stored 'X_footsteps_continuous_absolute' (ndarray)\n",
      "Stored 'Y_footsteps_continuous_absolute' (ndarray)\n"
     ]
    }
   ],
   "source": [
    "%store X_footsteps_continuous_absolute\n",
    "%store Y_footsteps_continuous_absolute"
   ]
  },
  {
   "cell_type": "code",
   "execution_count": 20,
   "id": "1e35fada",
   "metadata": {},
   "outputs": [
    {
     "data": {
      "text/plain": [
       "0.013528807656995462"
      ]
     },
     "execution_count": 20,
     "metadata": {},
     "output_type": "execute_result"
    }
   ],
   "source": [
    "min(Y_footsteps_continuous_absolute[:, 0])"
   ]
  },
  {
   "cell_type": "code",
   "execution_count": 21,
   "id": "bfa140e3",
   "metadata": {},
   "outputs": [
    {
     "data": {
      "text/plain": [
       "0.19472652710999994"
      ]
     },
     "execution_count": 21,
     "metadata": {},
     "output_type": "execute_result"
    }
   ],
   "source": [
    "max(Y_footsteps_continuous_absolute[:, 0])"
   ]
  },
  {
   "cell_type": "code",
   "execution_count": null,
   "id": "c9e5fea6",
   "metadata": {},
   "outputs": [],
   "source": []
  }
 ],
 "metadata": {
  "kernelspec": {
   "display_name": "Python 3",
   "language": "python",
   "name": "python3"
  },
  "language_info": {
   "codemirror_mode": {
    "name": "ipython",
    "version": 3
   },
   "file_extension": ".py",
   "mimetype": "text/x-python",
   "name": "python",
   "nbconvert_exporter": "python",
   "pygments_lexer": "ipython3",
   "version": "3.6.12"
  }
 },
 "nbformat": 4,
 "nbformat_minor": 5
}
