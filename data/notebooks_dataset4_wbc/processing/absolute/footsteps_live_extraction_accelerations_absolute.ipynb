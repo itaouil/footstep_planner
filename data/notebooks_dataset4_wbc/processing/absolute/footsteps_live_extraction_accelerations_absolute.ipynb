{
 "cells": [
  {
   "cell_type": "code",
   "execution_count": 1,
   "id": "0ba335f4",
   "metadata": {},
   "outputs": [],
   "source": [
    "#!/usr/bin/env python3.6\n",
    "# -*- coding: utf-8 -*-"
   ]
  },
  {
   "cell_type": "code",
   "execution_count": 2,
   "id": "6261643e",
   "metadata": {},
   "outputs": [],
   "source": [
    "# Imports\n",
    "import sys\n",
    "import math\n",
    "import numpy as np\n",
    "from matplotlib import animation\n",
    "from IPython.display import HTML\n",
    "from matplotlib import pyplot as plt\n",
    "plt.rcParams['animation.ffmpeg_path'] = '/usr/bin/ffmpeg'\n",
    "import mpl_toolkits.mplot3d.axes3d as p3"
   ]
  },
  {
   "cell_type": "code",
   "execution_count": 3,
   "id": "123e1556",
   "metadata": {},
   "outputs": [],
   "source": [
    "np.random.seed(20)\n",
    "np.set_printoptions(threshold=sys.maxsize)"
   ]
  },
  {
   "cell_type": "code",
   "execution_count": 4,
   "id": "aa690c3f",
   "metadata": {},
   "outputs": [],
   "source": [
    "%matplotlib inline"
   ]
  },
  {
   "cell_type": "markdown",
   "id": "461aa619",
   "metadata": {},
   "source": [
    "# Data"
   ]
  },
  {
   "cell_type": "code",
   "execution_count": 5,
   "id": "d414743a",
   "metadata": {},
   "outputs": [
    {
     "name": "stdout",
     "output_type": "stream",
     "text": [
      "Motion data has a length of  4281\n"
     ]
    }
   ],
   "source": [
    "# Read data\n",
    "motion = np.genfromtxt('../../../dataset4_wbc/live_extraction/step_0.06/gt/fwd_only/accelerations.csv', delimiter=',', dtype=np.float64)\n",
    "contacts = np.genfromtxt('../../../dataset4_wbc/live_extraction/step_0.06/gt/fwd_only/accelerations.csv', delimiter=',', usecols=(57, 58, 59, 60), dtype=bool)\n",
    "print(\"Motion data has a length of \", len(motion))"
   ]
  },
  {
   "cell_type": "code",
   "execution_count": 6,
   "id": "75854a1d",
   "metadata": {},
   "outputs": [
    {
     "name": "stdout",
     "output_type": "stream",
     "text": [
      "Samples of  0.1 ,  522\n",
      "Samples of  0.2 ,  697\n",
      "Samples of  0.30000000000000004 ,  893\n",
      "Samples of  0.4 ,  880\n",
      "Samples of  0.5 ,  705\n",
      "Samples of  0.6 ,  513\n"
     ]
    }
   ],
   "source": [
    "for x in np.arange(0.1, 0.7, 0.1):\n",
    "    print(\"Samples of \", x, \", \", len(np.where(np.isclose(motion[:, 1], x))[0]))"
   ]
  },
  {
   "cell_type": "code",
   "execution_count": 7,
   "id": "6e8bd733",
   "metadata": {},
   "outputs": [
    {
     "ename": "NameError",
     "evalue": "name 'X_relative_footsteps_accelerations_absolute' is not defined",
     "output_type": "error",
     "traceback": [
      "\u001b[0;31m---------------------------------------------------------------------------\u001b[0m",
      "\u001b[0;31mNameError\u001b[0m                                 Traceback (most recent call last)",
      "\u001b[0;32m<ipython-input-7-569c7024b754>\u001b[0m in \u001b[0;36m<module>\u001b[0;34m\u001b[0m\n\u001b[1;32m      1\u001b[0m \u001b[0;32mfor\u001b[0m \u001b[0mx\u001b[0m \u001b[0;32min\u001b[0m \u001b[0mnp\u001b[0m\u001b[0;34m.\u001b[0m\u001b[0marange\u001b[0m\u001b[0;34m(\u001b[0m\u001b[0;36m0.1\u001b[0m\u001b[0;34m,\u001b[0m \u001b[0;36m0.7\u001b[0m\u001b[0;34m,\u001b[0m \u001b[0;36m0.1\u001b[0m\u001b[0;34m)\u001b[0m\u001b[0;34m:\u001b[0m\u001b[0;34m\u001b[0m\u001b[0;34m\u001b[0m\u001b[0m\n\u001b[0;32m----> 2\u001b[0;31m     \u001b[0mprint\u001b[0m\u001b[0;34m(\u001b[0m\u001b[0;34m\"Samples of \"\u001b[0m\u001b[0;34m,\u001b[0m \u001b[0mx\u001b[0m\u001b[0;34m,\u001b[0m \u001b[0;34m\", \"\u001b[0m\u001b[0;34m,\u001b[0m \u001b[0mlen\u001b[0m\u001b[0;34m(\u001b[0m\u001b[0mnp\u001b[0m\u001b[0;34m.\u001b[0m\u001b[0mwhere\u001b[0m\u001b[0;34m(\u001b[0m\u001b[0mnp\u001b[0m\u001b[0;34m.\u001b[0m\u001b[0misclose\u001b[0m\u001b[0;34m(\u001b[0m\u001b[0mX_relative_footsteps_accelerations_absolute\u001b[0m\u001b[0;34m[\u001b[0m\u001b[0;34m:\u001b[0m\u001b[0;34m,\u001b[0m \u001b[0;36m0\u001b[0m\u001b[0;34m]\u001b[0m\u001b[0;34m,\u001b[0m \u001b[0mx\u001b[0m\u001b[0;34m)\u001b[0m\u001b[0;34m)\u001b[0m\u001b[0;34m[\u001b[0m\u001b[0;36m0\u001b[0m\u001b[0;34m]\u001b[0m\u001b[0;34m)\u001b[0m\u001b[0;34m)\u001b[0m\u001b[0;34m\u001b[0m\u001b[0;34m\u001b[0m\u001b[0m\n\u001b[0m",
      "\u001b[0;31mNameError\u001b[0m: name 'X_relative_footsteps_accelerations_absolute' is not defined"
     ]
    }
   ],
   "source": [
    "for x in np.arange(0.1, 0.7, 0.1):\n",
    "    print(\"Samples of \", x, \", \", len(np.where(np.isclose(X_relative_footsteps_accelerations_absolute[:, 0], x))[0]))"
   ]
  },
  {
   "cell_type": "code",
   "execution_count": 8,
   "id": "27c2517f",
   "metadata": {},
   "outputs": [
    {
     "data": {
      "text/plain": [
       "4281"
      ]
     },
     "execution_count": 8,
     "metadata": {},
     "output_type": "execute_result"
    }
   ],
   "source": [
    "len(motion)"
   ]
  },
  {
   "cell_type": "code",
   "execution_count": 9,
   "id": "1d26131b",
   "metadata": {},
   "outputs": [],
   "source": [
    "i = 0\n",
    "accelerations_idx = []\n",
    "while i < (len(motion) - 1):\n",
    "    if motion[i, 1:4].tolist() != motion[i+1, 1:4].tolist():\n",
    "        accelerations_idx.append(i)\n",
    "        accelerations_idx.append(i+1)\n",
    "    \n",
    "    i += 1\n",
    "\n",
    "accelerations_idx = np.array(accelerations_idx)"
   ]
  },
  {
   "cell_type": "markdown",
   "id": "a0f99c98",
   "metadata": {},
   "source": [
    "# Dataset Preparation"
   ]
  },
  {
   "cell_type": "code",
   "execution_count": 10,
   "id": "d2c3089c",
   "metadata": {},
   "outputs": [],
   "source": [
    "import sklearn\n",
    "from sklearn.linear_model import LinearRegression\n",
    "from sklearn.model_selection import train_test_split"
   ]
  },
  {
   "cell_type": "code",
   "execution_count": 13,
   "id": "2e974f4a",
   "metadata": {},
   "outputs": [
    {
     "name": "stdout",
     "output_type": "stream",
     "text": [
      "(4084, 28)\n",
      "(4084, 4)\n"
     ]
    }
   ],
   "source": [
    "def absolute_footstep_accelerations_dataset(dataset, footsteps, debug=False):\n",
    "    # Footsteps sizes\n",
    "    inputs = []\n",
    "    labels = []\n",
    "    \n",
    "    for idx, footstep in enumerate(footsteps):\n",
    "        if idx > 0:\n",
    "            # Compute time difference between\n",
    "            # curhent and next footsteps\n",
    "            time_difference = abs(dataset[footsteps[idx], 0] - dataset[footsteps[idx-1], 0])\n",
    "\n",
    "            if time_difference < 0.5:\n",
    "                fl_moving = dataset[footsteps[idx], 8] > dataset[footsteps[idx-1], 8]\n",
    "                fr_moving = dataset[footsteps[idx], 11] > dataset[footsteps[idx-1], 11]\n",
    "                rl_moving = dataset[footsteps[idx], 14] > dataset[footsteps[idx-1], 14]\n",
    "                rr_moving = dataset[footsteps[idx], 17] > dataset[footsteps[idx-1], 17]\n",
    "\n",
    "                if debug:\n",
    "                    print(\"Time difference: \", time_difference)\n",
    "                    print(\"Footstep timestamp: \", dataset[footstep, 0])\n",
    "                    print(f'lf moving: {fl_moving}. rf moving: {fr_moving}')\n",
    "                    print(f'lh moving: {rl_moving}. rh moving: {rr_moving}')\n",
    "\n",
    "                if (not fr_moving != fl_moving or not fr_moving == rl_moving or not fl_moving == rr_moving):\n",
    "                    #print(\"Exception\")\n",
    "                    \"\"\"\n",
    "                    print(\"Time difference: \", time_difference)\n",
    "                    #print(\"Footstep timestamp: \", dataset[footstep, 0])\n",
    "                    print(f'fl moving: {fl_moving}. fr moving: {fr_moving}')\n",
    "                    print(f'rl moving: {rl_moving}. rr moving: {rr_moving}')\n",
    "                    \"\"\"\n",
    "                    continue\n",
    "                \n",
    "                assert fr_moving == rl_moving\n",
    "                assert rr_moving == fl_moving\n",
    "                assert fr_moving != fl_moving\n",
    "\n",
    "                if (dataset[footsteps[idx], 44] - dataset[footsteps[idx-1], 44]) > 0:\n",
    "                    inputs.append(dataset[footsteps[idx-1], 1:4].tolist() + \n",
    "                                  dataset[footsteps[idx-1], 51:57].tolist() + \n",
    "                                  dataset[footsteps[idx-1], 8:20].tolist() + \n",
    "                                  [fl_moving, fr_moving, rl_moving, rr_moving] +\n",
    "                                  dataset[footsteps[idx], 1:4].tolist())\n",
    "                    \n",
    "                    if fr_moving and rl_moving:\n",
    "                        labels.append([(dataset[footsteps[idx], 44] + dataset[footsteps[idx], 11]) - (dataset[footsteps[idx-1], 44] + dataset[footsteps[idx-1], 11]),\n",
    "                                      (dataset[footsteps[idx], 45] + dataset[footsteps[idx], 12]) - (dataset[footsteps[idx-1], 45] + dataset[footsteps[idx-1], 12]),\n",
    "                                      (dataset[footsteps[idx], 44] + dataset[footsteps[idx], 14]) - (dataset[footsteps[idx-1], 44] + dataset[footsteps[idx-1], 14]),\n",
    "                                      (dataset[footsteps[idx], 45] + dataset[footsteps[idx], 15]) - (dataset[footsteps[idx-1], 45] + dataset[footsteps[idx-1], 15])])\n",
    "                    \n",
    "                    if fl_moving and rr_moving:\n",
    "                        labels.append([(dataset[footsteps[idx], 44] + dataset[footsteps[idx], 8]) - (dataset[footsteps[idx-1], 44] + dataset[footsteps[idx-1], 8]),\n",
    "                                      (dataset[footsteps[idx], 45] + dataset[footsteps[idx], 9]) - (dataset[footsteps[idx-1], 45] + dataset[footsteps[idx-1], 9]),\n",
    "                                      (dataset[footsteps[idx], 44] + dataset[footsteps[idx], 17]) - (dataset[footsteps[idx-1], 44] + dataset[footsteps[idx-1], 17]),\n",
    "                                      (dataset[footsteps[idx], 45] + dataset[footsteps[idx], 18]) - (dataset[footsteps[idx-1], 45] + dataset[footsteps[idx-1], 18])])\n",
    "                \n",
    "    # Convert to numpy array\n",
    "    inputs_numpy = np.array(inputs)\n",
    "    labels_numpy = np.array(labels)\n",
    "    \n",
    "    return inputs_numpy, labels_numpy\n",
    "\n",
    "# Stack datasets\n",
    "X_footsteps_accelerations_absolute, Y_footsteps_accelerations_absolute = absolute_footstep_accelerations_dataset(motion, np.array([x for x in range(len(motion))]))\n",
    "#X_relative_footsteps_accelerations_absolute, Y_relative_footsteps_accelerations_absolute = absolute_footstep_accelerations_dataset(motion, accelerations_idx)\n",
    "\n",
    "# Log\n",
    "print(X_footsteps_accelerations_absolute.shape)\n",
    "print(Y_footsteps_accelerations_absolute.shape)"
   ]
  },
  {
   "cell_type": "code",
   "execution_count": 14,
   "id": "ecc172b9",
   "metadata": {},
   "outputs": [
    {
     "name": "stdout",
     "output_type": "stream",
     "text": [
      "Stored 'X_footsteps_accelerations_absolute' (ndarray)\n",
      "Stored 'Y_footsteps_accelerations_absolute' (ndarray)\n"
     ]
    }
   ],
   "source": [
    "%store X_footsteps_accelerations_absolute\n",
    "%store Y_footsteps_accelerations_absolute"
   ]
  },
  {
   "cell_type": "code",
   "execution_count": null,
   "id": "123a2083",
   "metadata": {},
   "outputs": [],
   "source": []
  }
 ],
 "metadata": {
  "kernelspec": {
   "display_name": "Python 3",
   "language": "python",
   "name": "python3"
  },
  "language_info": {
   "codemirror_mode": {
    "name": "ipython",
    "version": 3
   },
   "file_extension": ".py",
   "mimetype": "text/x-python",
   "name": "python",
   "nbconvert_exporter": "python",
   "pygments_lexer": "ipython3",
   "version": "3.6.12"
  }
 },
 "nbformat": 4,
 "nbformat_minor": 5
}
