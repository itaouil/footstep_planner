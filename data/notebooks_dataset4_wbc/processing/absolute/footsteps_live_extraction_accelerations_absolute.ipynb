{
 "cells": [
  {
   "cell_type": "code",
   "execution_count": 1,
   "id": "8fe590b5",
   "metadata": {},
   "outputs": [],
   "source": [
    "#!/usr/bin/env python3.6\n",
    "# -*- coding: utf-8 -*-"
   ]
  },
  {
   "cell_type": "code",
   "execution_count": 2,
   "id": "e71b06be",
   "metadata": {},
   "outputs": [],
   "source": [
    "# Imports\n",
    "import sys\n",
    "import math\n",
    "import numpy as np\n",
    "from matplotlib import animation\n",
    "from IPython.display import HTML\n",
    "from matplotlib import pyplot as plt\n",
    "plt.rcParams['animation.ffmpeg_path'] = '/usr/bin/ffmpeg'\n",
    "import mpl_toolkits.mplot3d.axes3d as p3"
   ]
  },
  {
   "cell_type": "code",
   "execution_count": 3,
   "id": "07a88c46",
   "metadata": {},
   "outputs": [],
   "source": [
    "np.random.seed(20)\n",
    "np.set_printoptions(threshold=sys.maxsize)"
   ]
  },
  {
   "cell_type": "code",
   "execution_count": 4,
   "id": "22aabd97",
   "metadata": {},
   "outputs": [],
   "source": [
    "%matplotlib inline"
   ]
  },
  {
   "cell_type": "markdown",
   "id": "f463337b",
   "metadata": {},
   "source": [
    "# Data"
   ]
  },
  {
   "cell_type": "code",
   "execution_count": 5,
   "id": "91bc1d41",
   "metadata": {},
   "outputs": [
    {
     "name": "stdout",
     "output_type": "stream",
     "text": [
      "Motion data has a length of  12861\n"
     ]
    }
   ],
   "source": [
    "# Read data\n",
    "motion = np.genfromtxt('../../../dataset4_wbc/live_extraction/step_0.06/gt/fwd_only/accelerations_full_08.csv', delimiter=',', dtype=np.float64)\n",
    "contacts = np.genfromtxt('../../../dataset4_wbc/live_extraction/step_0.06/gt/fwd_only/accelerations_full_08.csv', delimiter=',', usecols=(57, 58, 59, 60), dtype=bool)\n",
    "print(\"Motion data has a length of \", len(motion))"
   ]
  },
  {
   "cell_type": "code",
   "execution_count": 11,
   "id": "a7bb660b",
   "metadata": {},
   "outputs": [
    {
     "name": "stdout",
     "output_type": "stream",
     "text": [
      "Samples of  0.0 ,  1520\n",
      "Samples of  0.1 ,  1434\n",
      "Samples of  0.2 ,  1420\n",
      "Samples of  0.30000000000000004 ,  1423\n",
      "Samples of  0.4 ,  1413\n",
      "Samples of  0.5 ,  1412\n",
      "Samples of  0.6000000000000001 ,  1424\n",
      "Samples of  0.7000000000000001 ,  1413\n",
      "Samples of  0.8 ,  1402\n"
     ]
    }
   ],
   "source": [
    "for x in np.arange(0.0, 0.9, 0.1):\n",
    "    print(\"Samples of \", x, \", \", len(np.where(np.isclose(motion[:, 1], x))[0]))"
   ]
  },
  {
   "cell_type": "code",
   "execution_count": 19,
   "id": "6613e3d9",
   "metadata": {},
   "outputs": [
    {
     "name": "stdout",
     "output_type": "stream",
     "text": [
      "Samples of  0.0 ,  327\n",
      "Samples of  0.1 ,  975\n",
      "Samples of  0.2 ,  1286\n",
      "Samples of  0.30000000000000004 ,  1374\n",
      "Samples of  0.4 ,  1372\n",
      "Samples of  0.5 ,  1374\n",
      "Samples of  0.6000000000000001 ,  1382\n",
      "Samples of  0.7000000000000001 ,  1360\n",
      "Samples of  0.8 ,  1332\n"
     ]
    }
   ],
   "source": [
    "for x in np.arange(0.0, 0.9, 0.1):\n",
    "    print(\"Samples of \", x, \", \", len(np.where(np.isclose(X_footsteps_accelerations_absolute[:, 0], x))[0]))"
   ]
  },
  {
   "cell_type": "code",
   "execution_count": 12,
   "id": "45e7eec2",
   "metadata": {},
   "outputs": [
    {
     "data": {
      "text/plain": [
       "12861"
      ]
     },
     "execution_count": 12,
     "metadata": {},
     "output_type": "execute_result"
    }
   ],
   "source": [
    "len(motion)"
   ]
  },
  {
   "cell_type": "code",
   "execution_count": 13,
   "id": "3344b7eb",
   "metadata": {},
   "outputs": [],
   "source": [
    "i = 0\n",
    "accelerations_idx = []\n",
    "while i < (len(motion) - 1):\n",
    "    if motion[i, 1:4].tolist() != motion[i+1, 1:4].tolist():\n",
    "        accelerations_idx.append(i)\n",
    "        accelerations_idx.append(i+1)\n",
    "    \n",
    "    i += 1\n",
    "\n",
    "accelerations_idx = np.array(accelerations_idx)"
   ]
  },
  {
   "cell_type": "markdown",
   "id": "f7cf467c",
   "metadata": {},
   "source": [
    "# Dataset Preparation"
   ]
  },
  {
   "cell_type": "code",
   "execution_count": 20,
   "id": "9c023b6c",
   "metadata": {},
   "outputs": [],
   "source": [
    "import sklearn\n",
    "from sklearn.linear_model import LinearRegression\n",
    "from sklearn.model_selection import train_test_split"
   ]
  },
  {
   "cell_type": "code",
   "execution_count": 21,
   "id": "83208a4b",
   "metadata": {},
   "outputs": [
    {
     "name": "stdout",
     "output_type": "stream",
     "text": [
      "(10782, 28)\n",
      "(10782, 4)\n"
     ]
    }
   ],
   "source": [
    "def absolute_footstep_accelerations_dataset(dataset, footsteps, debug=False):\n",
    "    # Footsteps sizes\n",
    "    inputs = []\n",
    "    labels = []\n",
    "    \n",
    "    for idx, footstep in enumerate(footsteps):\n",
    "        if idx > 0:\n",
    "            # Compute time difference between\n",
    "            # curhent and next footsteps\n",
    "            time_difference = abs(dataset[footsteps[idx], 0] - dataset[footsteps[idx-1], 0])\n",
    "\n",
    "            if time_difference < 0.5:\n",
    "                fl_moving = dataset[footsteps[idx], 8] > dataset[footsteps[idx-1], 8]\n",
    "                fr_moving = dataset[footsteps[idx], 11] > dataset[footsteps[idx-1], 11]\n",
    "                rl_moving = dataset[footsteps[idx], 14] > dataset[footsteps[idx-1], 14]\n",
    "                rr_moving = dataset[footsteps[idx], 17] > dataset[footsteps[idx-1], 17]\n",
    "\n",
    "                if debug:\n",
    "                    print(\"Time difference: \", time_difference)\n",
    "                    print(\"Footstep timestamp: \", dataset[footstep, 0])\n",
    "                    print(f'lf moving: {fl_moving}. rf moving: {fr_moving}')\n",
    "                    print(f'lh moving: {rl_moving}. rh moving: {rr_moving}')\n",
    "\n",
    "                if (not fr_moving != fl_moving or not fr_moving == rl_moving or not fl_moving == rr_moving):\n",
    "                    #print(\"Exception\")\n",
    "                    \"\"\"\n",
    "                    print(\"Time difference: \", time_difference)\n",
    "                    #print(\"Footstep timestamp: \", dataset[footstep, 0])\n",
    "                    print(f'fl moving: {fl_moving}. fr moving: {fr_moving}')\n",
    "                    print(f'rl moving: {rl_moving}. rr moving: {rr_moving}')\n",
    "                    \"\"\"\n",
    "                    continue\n",
    "                \n",
    "                assert fr_moving == rl_moving\n",
    "                assert rr_moving == fl_moving\n",
    "                assert fr_moving != fl_moving\n",
    "\n",
    "                if (dataset[footsteps[idx], 44] - dataset[footsteps[idx-1], 44]) > 0:\n",
    "                    inputs.append(dataset[footsteps[idx-1], 1:4].tolist() + \n",
    "                                  dataset[footsteps[idx-1], 51:57].tolist() + \n",
    "                                  dataset[footsteps[idx-1], 8:20].tolist() + \n",
    "                                  [fl_moving, fr_moving, rl_moving, rr_moving] +\n",
    "                                  dataset[footsteps[idx], 1:4].tolist())\n",
    "                    \n",
    "                    if fr_moving and rl_moving:\n",
    "                        labels.append([(dataset[footsteps[idx], 44] + dataset[footsteps[idx], 11]) - (dataset[footsteps[idx-1], 44] + dataset[footsteps[idx-1], 11]),\n",
    "                                      (dataset[footsteps[idx], 45] + dataset[footsteps[idx], 12]) - (dataset[footsteps[idx-1], 45] + dataset[footsteps[idx-1], 12]),\n",
    "                                      (dataset[footsteps[idx], 44] + dataset[footsteps[idx], 14]) - (dataset[footsteps[idx-1], 44] + dataset[footsteps[idx-1], 14]),\n",
    "                                      (dataset[footsteps[idx], 45] + dataset[footsteps[idx], 15]) - (dataset[footsteps[idx-1], 45] + dataset[footsteps[idx-1], 15])])\n",
    "                    \n",
    "                    if fl_moving and rr_moving:\n",
    "                        labels.append([(dataset[footsteps[idx], 44] + dataset[footsteps[idx], 8]) - (dataset[footsteps[idx-1], 44] + dataset[footsteps[idx-1], 8]),\n",
    "                                      (dataset[footsteps[idx], 45] + dataset[footsteps[idx], 9]) - (dataset[footsteps[idx-1], 45] + dataset[footsteps[idx-1], 9]),\n",
    "                                      (dataset[footsteps[idx], 44] + dataset[footsteps[idx], 17]) - (dataset[footsteps[idx-1], 44] + dataset[footsteps[idx-1], 17]),\n",
    "                                      (dataset[footsteps[idx], 45] + dataset[footsteps[idx], 18]) - (dataset[footsteps[idx-1], 45] + dataset[footsteps[idx-1], 18])])\n",
    "                \n",
    "    # Convert to numpy array\n",
    "    inputs_numpy = np.array(inputs)\n",
    "    labels_numpy = np.array(labels)\n",
    "    \n",
    "    return inputs_numpy, labels_numpy\n",
    "\n",
    "# Stack datasets\n",
    "X_footsteps_accelerations_absolute, Y_footsteps_accelerations_absolute = absolute_footstep_accelerations_dataset(motion, np.array([x for x in range(len(motion))]))\n",
    "#X_relative_footsteps_accelerations_absolute, Y_relative_footsteps_accelerations_absolute = absolute_footstep_accelerations_dataset(motion, accelerations_idx)\n",
    "\n",
    "# Log\n",
    "print(X_footsteps_accelerations_absolute.shape)\n",
    "print(Y_footsteps_accelerations_absolute.shape)"
   ]
  },
  {
   "cell_type": "code",
   "execution_count": 22,
   "id": "0a890d22",
   "metadata": {},
   "outputs": [
    {
     "name": "stdout",
     "output_type": "stream",
     "text": [
      "Stored 'X_footsteps_accelerations_absolute' (ndarray)\n",
      "Stored 'Y_footsteps_accelerations_absolute' (ndarray)\n"
     ]
    }
   ],
   "source": [
    "%store X_footsteps_accelerations_absolute\n",
    "%store Y_footsteps_accelerations_absolute"
   ]
  },
  {
   "cell_type": "code",
   "execution_count": 23,
   "id": "7a7c2c87",
   "metadata": {},
   "outputs": [
    {
     "data": {
      "text/plain": [
       "0.21273518329098806"
      ]
     },
     "execution_count": 23,
     "metadata": {},
     "output_type": "execute_result"
    }
   ],
   "source": [
    "max(Y_footsteps_accelerations_absolute[:, 0])"
   ]
  },
  {
   "cell_type": "code",
   "execution_count": 24,
   "id": "9f5d49a5",
   "metadata": {},
   "outputs": [
    {
     "data": {
      "text/plain": [
       "0.0003359035780006181"
      ]
     },
     "execution_count": 24,
     "metadata": {},
     "output_type": "execute_result"
    }
   ],
   "source": [
    "min(Y_footsteps_accelerations_absolute[:, 0])"
   ]
  },
  {
   "cell_type": "code",
   "execution_count": null,
   "id": "4351882b",
   "metadata": {},
   "outputs": [],
   "source": []
  }
 ],
 "metadata": {
  "kernelspec": {
   "display_name": "Python 3",
   "language": "python",
   "name": "python3"
  },
  "language_info": {
   "codemirror_mode": {
    "name": "ipython",
    "version": 3
   },
   "file_extension": ".py",
   "mimetype": "text/x-python",
   "name": "python",
   "nbconvert_exporter": "python",
   "pygments_lexer": "ipython3",
   "version": "3.6.12"
  }
 },
 "nbformat": 4,
 "nbformat_minor": 5
}
