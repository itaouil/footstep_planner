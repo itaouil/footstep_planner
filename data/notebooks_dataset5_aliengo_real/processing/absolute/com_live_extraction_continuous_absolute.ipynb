{
 "cells": [
  {
   "cell_type": "code",
   "execution_count": 1,
   "id": "ec29827b",
   "metadata": {},
   "outputs": [],
   "source": [
    "#!/usr/bin/env python3.6\n",
    "# -*- coding: utf-8 -*"
   ]
  },
  {
   "cell_type": "code",
   "execution_count": 2,
   "id": "4e69dc4b",
   "metadata": {},
   "outputs": [],
   "source": [
    "# Imports\n",
    "import sys\n",
    "import math\n",
    "import numpy as np\n",
    "from matplotlib import animation\n",
    "from IPython.display import HTML\n",
    "from matplotlib import pyplot as plt\n",
    "plt.rcParams['animation.ffmpeg_path'] = '/usr/bin/ffmpeg'\n",
    "import mpl_toolkits.mplot3d.axes3d as p3"
   ]
  },
  {
   "cell_type": "code",
   "execution_count": 3,
   "id": "c4f8391c",
   "metadata": {},
   "outputs": [],
   "source": [
    "np.random.seed(20)\n",
    "np.set_printoptions(threshold=sys.maxsize)"
   ]
  },
  {
   "cell_type": "code",
   "execution_count": 4,
   "id": "c9587dfc",
   "metadata": {},
   "outputs": [],
   "source": [
    "%matplotlib inline"
   ]
  },
  {
   "cell_type": "markdown",
   "id": "2d3d9d60",
   "metadata": {},
   "source": [
    "# Data"
   ]
  },
  {
   "cell_type": "code",
   "execution_count": 65,
   "id": "0ca43648",
   "metadata": {},
   "outputs": [
    {
     "name": "stdout",
     "output_type": "stream",
     "text": [
      "Motion data has a length of  5004\n"
     ]
    }
   ],
   "source": [
    "# Read data\n",
    "path = '../../../dataset5_aliengo_real/motions.csv'\n",
    "motion = np.genfromtxt(path, delimiter=',', dtype=np.float64)\n",
    "contacts = np.genfromtxt(path, delimiter=',', usecols=(48, 49, 50, 51), dtype=bool)\n",
    "print(\"Motion data has a length of \", len(motion))"
   ]
  },
  {
   "cell_type": "code",
   "execution_count": 66,
   "id": "4a762bd1",
   "metadata": {},
   "outputs": [
    {
     "data": {
      "text/plain": [
       "(5004, 52)"
      ]
     },
     "execution_count": 66,
     "metadata": {},
     "output_type": "execute_result"
    }
   ],
   "source": [
    "motion.shape"
   ]
  },
  {
   "cell_type": "markdown",
   "id": "a6be05d7",
   "metadata": {},
   "source": [
    "## Height-Force plots"
   ]
  },
  {
   "cell_type": "code",
   "execution_count": 67,
   "id": "a659e209",
   "metadata": {},
   "outputs": [],
   "source": [
    "def get_specific_cmd(dataset, fwd, side, rot):\n",
    "    if abs(fwd): \n",
    "        return np.where(dataset[:, 1] > 0)[0] if fwd > 0 else np.where(dataset[:, 1] < 0)[0]\n",
    "    if abs(side): \n",
    "        return np.where(dataset[:, 2] > 0)[0] if side > 0 else np.where(dataset[:, 2] < 0)[0]\n",
    "    if abs(rot): \n",
    "        return np.where(dataset[:, 3] > 0)[0] if rot > 0 else np.where(dataset[:, 3] < 0)[0]"
   ]
  },
  {
   "cell_type": "code",
   "execution_count": 68,
   "id": "5c3bde51",
   "metadata": {},
   "outputs": [],
   "source": [
    "def get_swinging_motions(dataset, height=1):\n",
    "    # rf min height (i.e swining motion)\n",
    "    fl_min_height = np.where(dataset[:, 6] < height)[0]\n",
    "    fr_min_height = np.where(dataset[:, 9] < height)[0]\n",
    "    rl_min_height = np.where(dataset[:, 12] < height)[0]\n",
    "    rr_min_height = np.where(dataset[:, 15] < height)[0]\n",
    "            \n",
    "    return fl_min_height,fr_min_height,rl_min_height,rr_min_height"
   ]
  },
  {
   "cell_type": "markdown",
   "id": "75ab4b04",
   "metadata": {},
   "source": [
    "### Footstep IDXs"
   ]
  },
  {
   "cell_type": "code",
   "execution_count": 69,
   "id": "fb0b3e46",
   "metadata": {},
   "outputs": [],
   "source": [
    "footsteps_fwd = get_specific_cmd(motion, 1, 0, 0)\n",
    "footsteps_clock = get_specific_cmd(motion, 0, 0, -1)\n",
    "footsteps_count = get_specific_cmd(motion, 0, 0, 1)\n",
    "footsteps_side_right = get_specific_cmd(motion, 0, -1, 0)\n",
    "footsteps_side_left = get_specific_cmd(motion, 0, 1, 0)"
   ]
  },
  {
   "cell_type": "markdown",
   "id": "5fbba67a",
   "metadata": {},
   "source": [
    "# Dataset Preparation"
   ]
  },
  {
   "cell_type": "code",
   "execution_count": 70,
   "id": "9daf2303",
   "metadata": {},
   "outputs": [],
   "source": [
    "import sklearn\n",
    "from sklearn.linear_model import LinearRegression\n",
    "from sklearn.model_selection import train_test_split"
   ]
  },
  {
   "cell_type": "code",
   "execution_count": 71,
   "id": "12fcdae4",
   "metadata": {},
   "outputs": [],
   "source": [
    "def yaw_from_quaternion(Q):\n",
    "    \"\"\"\n",
    "    Covert a quaternion into a full three-dimensional rotation matrix.\n",
    " \n",
    "    Input\n",
    "    :param Q: A 4 element array representing the quaternion (q0,q1,q2,q3) \n",
    " \n",
    "    Output\n",
    "    :return: A 3x3 element matrix representing the full 3D rotation matrix. \n",
    "             This rotation matrix converts a point in the local reference \n",
    "             frame to a point in the global reference frame.\n",
    "    \"\"\"\n",
    "    # Extract the values from Q\n",
    "    x = Q[0]\n",
    "    y = Q[1]\n",
    "    z = Q[2]\n",
    "    w = Q[3]\n",
    "     \n",
    "    return np.arctan2(2 * (w*z + x*y), 1 - 2 * (y*y + z*z))"
   ]
  },
  {
   "cell_type": "code",
   "execution_count": 72,
   "id": "0ed4fced",
   "metadata": {},
   "outputs": [],
   "source": [
    "def quaternion_rotation_matrix(Q):\n",
    "    \"\"\"\n",
    "    Covert a quaternion into a full three-dimensional rotation matrix.\n",
    " \n",
    "    Input\n",
    "    :param Q: A 4 element array representing the quaternion (q0,q1,q2,q3) \n",
    " \n",
    "    Output\n",
    "    :return: A 3x3 element matrix representing the full 3D rotation matrix. \n",
    "             This rotation matrix converts a point in the local reference \n",
    "             frame to a point in the global reference frame.\n",
    "    \"\"\"\n",
    "    # Extract the values from Q\n",
    "    q0 = Q[3]\n",
    "    q1 = Q[0]\n",
    "    q2 = Q[1]\n",
    "    q3 = Q[2]\n",
    "     \n",
    "    # First row of the rotation matrix\n",
    "    r00 = 2 * (q0 * q0 + q1 * q1) - 1\n",
    "    r01 = 2 * (q1 * q2 - q0 * q3)\n",
    "    r02 = 2 * (q1 * q3 + q0 * q2)\n",
    "     \n",
    "    # Second row of the rotation matrix\n",
    "    r10 = 2 * (q1 * q2 + q0 * q3)\n",
    "    r11 = 2 * (q0 * q0 + q2 * q2) - 1\n",
    "    r12 = 2 * (q2 * q3 - q0 * q1)\n",
    "     \n",
    "    # Third row of the rotation matrix\n",
    "    r20 = 2 * (q1 * q3 - q0 * q2)\n",
    "    r21 = 2 * (q2 * q3 + q0 * q1)\n",
    "    r22 = 2 * (q0 * q0 + q3 * q3) - 1\n",
    "     \n",
    "    # 3x3 rotation matrix\n",
    "    rot_matrix = np.array([[r00, r01, r02],\n",
    "                           [r10, r11, r12],\n",
    "                           [r20, r21, r22]])\n",
    "                            \n",
    "    return rot_matrix"
   ]
  },
  {
   "cell_type": "code",
   "execution_count": 73,
   "id": "48a60e78",
   "metadata": {},
   "outputs": [
    {
     "name": "stdout",
     "output_type": "stream",
     "text": [
      "(4147, 54)\n",
      "(4147, 3)\n"
     ]
    }
   ],
   "source": [
    "def create_com_dataset(dataset, footsteps, motion=None, debug=False):\n",
    "    inputs = []\n",
    "    labels = []\n",
    "    \n",
    "    for idx, footstep in enumerate(footsteps):\n",
    "        if idx > 0:\n",
    "            # Compute time difference between\n",
    "            # current and next footsteps\n",
    "            time_difference = abs(dataset[footsteps[idx], 0] - dataset[footsteps[idx-1], 0])\n",
    "            \n",
    "            if time_difference < 0.5 and np.any(dataset[footsteps[idx-1], 1:4]) and np.any(dataset[footsteps[idx], 1:4]):\n",
    "                fl_moving = contacts[footsteps[idx], 0]\n",
    "                fr_moving = contacts[footsteps[idx], 1]\n",
    "                rl_moving = contacts[footsteps[idx], 2]\n",
    "                rr_moving = contacts[footsteps[idx], 3]\n",
    "                \n",
    "                assert fr_moving == rl_moving\n",
    "                assert rr_moving == fl_moving\n",
    "                assert fr_moving != fl_moving\n",
    "                \n",
    "                # Compute rotation matrices from odometry orientation\n",
    "                R_prev = quaternion_rotation_matrix(dataset[footsteps[idx-1], 38:42])\n",
    "                R_curr = quaternion_rotation_matrix(dataset[footsteps[idx], 38:42])\n",
    "\n",
    "                # Odom base vectors\n",
    "                prev_base = np.array([[dataset[footsteps[idx-1], 35], dataset[footsteps[idx-1], 36], 0]])\n",
    "                curr_base = np.array([[dataset[footsteps[idx], 35], dataset[footsteps[idx], 36], 0]])\n",
    "\n",
    "                # Rotate odometry estimation\n",
    "                rotated_prev_base = R_prev.T @ prev_base.T\n",
    "                rotated_curr_base = R_prev.T @ curr_base.T\n",
    "                #print(rotated_prev_base, rotated_curr_base)\n",
    "                base_displacement = rotated_curr_base - rotated_prev_base\n",
    "                \n",
    "                if dataset[footsteps[idx-1], 1] > 0 and base_displacement[0] < 0:\n",
    "                    continue\n",
    "                \n",
    "                prev_yaw = yaw_from_quaternion(dataset[footsteps[idx-1], 38:42])\n",
    "                curr_yaw = yaw_from_quaternion(dataset[footsteps[idx], 38:42])\n",
    "                yaw = curr_yaw - prev_yaw\n",
    "                \n",
    "                if dataset[footsteps[idx-1], 3] != 0 and dataset[footsteps[idx], 3] != 0 and (prev_yaw < 0 and curr_yaw > 0) or (prev_yaw > 0 and curr_yaw < 0):\n",
    "                    continue\n",
    "                    \n",
    "                inputs.append(dataset[footsteps[idx-1], 1:].tolist() +\n",
    "                              dataset[footsteps[idx], 1:4].tolist())\n",
    "                \n",
    "                # Labels\n",
    "                labels.append([base_displacement[0,0], base_displacement[1,0], yaw])\n",
    "                \n",
    "    return np.array(inputs, dtype=float), np.array(labels, dtype=float)\n",
    "                \n",
    "X_motion_fwd_CoM, Y_motion_fwd_CoM = create_com_dataset(motion, footsteps_fwd)\n",
    "X_motion_clock_CoM, Y_motion_clock_CoM = create_com_dataset(motion, footsteps_clock)\n",
    "X_motion_count_CoM, Y_motion_count_CoM = create_com_dataset(motion, footsteps_count)\n",
    "X_motion_side_left_CoM, Y_motion_side_left_CoM = create_com_dataset(motion, footsteps_side_left)\n",
    "X_motion_side_right_CoM, Y_motion_side_right_CoM = create_com_dataset(motion, footsteps_side_right)\n",
    "\n",
    "# Stack datasets\n",
    "X_motion_CoM_continuous = np.concatenate((X_motion_fwd_CoM, X_motion_clock_CoM, X_motion_count_CoM))\n",
    "Y_motion_CoM_continuous = np.concatenate((Y_motion_fwd_CoM, Y_motion_clock_CoM, Y_motion_count_CoM))\n",
    "\n",
    "#X_motion_CoM_continuous = X_motion_fwd_CoM\n",
    "#Y_motion_CoM_continuous = Y_motion_fwd_CoM\n",
    "\n",
    "print(X_motion_CoM_continuous.shape)\n",
    "print(Y_motion_CoM_continuous.shape)"
   ]
  },
  {
   "cell_type": "code",
   "execution_count": 74,
   "id": "200b546d",
   "metadata": {},
   "outputs": [
    {
     "name": "stdout",
     "output_type": "stream",
     "text": [
      "Stored 'X_motion_CoM_continuous' (ndarray)\n",
      "Stored 'Y_motion_CoM_continuous' (ndarray)\n"
     ]
    }
   ],
   "source": [
    "%store X_motion_CoM_continuous\n",
    "%store Y_motion_CoM_continuous"
   ]
  },
  {
   "cell_type": "code",
   "execution_count": 75,
   "id": "06c33669-77bd-4a3e-a121-d3418d96421b",
   "metadata": {},
   "outputs": [
    {
     "data": {
      "text/plain": [
       "{0.0,\n",
       " 0.10000000149,\n",
       " 0.20000000298,\n",
       " 0.300000011921,\n",
       " 0.40000000596,\n",
       " 0.5,\n",
       " 0.600000023842,\n",
       " 0.700000047684,\n",
       " 0.800000071526}"
      ]
     },
     "execution_count": 75,
     "metadata": {},
     "output_type": "execute_result"
    }
   ],
   "source": [
    "set(X_motion_CoM_continuous[:, 0])"
   ]
  },
  {
   "cell_type": "code",
   "execution_count": 76,
   "id": "14c10cf2-d40e-4007-8ae4-caac519ea479",
   "metadata": {},
   "outputs": [
    {
     "data": {
      "text/plain": [
       "array([0.0047517 , 0.03026548, 0.02410566, 0.02886382, 0.02323982,\n",
       "       0.03559739, 0.00658875, 0.01452699, 0.00887203, 0.00320003,\n",
       "       0.00586222, 0.00228196, 0.00431842, 0.00705667, 0.00946766,\n",
       "       0.05906114, 0.078214  , 0.03425929, 0.00693232, 0.01526082,\n",
       "       0.04238953, 0.03030959, 0.01652044, 0.01300506, 0.03108964,\n",
       "       0.01522099, 0.0277239 , 0.0237198 , 0.01882829, 0.01880141,\n",
       "       0.01399055, 0.01818234, 0.01302557, 0.00878423, 0.03213382,\n",
       "       0.02166994, 0.01394353, 0.01208001, 0.03913992, 0.0327734 ,\n",
       "       0.01900802, 0.02115844, 0.01832463, 0.01832408, 0.00514331,\n",
       "       0.02237392, 0.0266167 , 0.02215001, 0.0228214 , 0.01685463,\n",
       "       0.02537964, 0.02362487, 0.02336458, 0.01346137, 0.02123161,\n",
       "       0.01972696, 0.03496954, 0.01566719, 0.01497493, 0.01426258,\n",
       "       0.00995051, 0.00890467, 0.02008372, 0.01244449, 0.0239788 ,\n",
       "       0.02361636, 0.01146965, 0.01283126, 0.02283821, 0.00924254,\n",
       "       0.01294656, 0.01529555, 0.02794173, 0.02145636, 0.02213432,\n",
       "       0.00550902, 0.01032232, 0.00963914, 0.02150478, 0.01519404,\n",
       "       0.01785919, 0.0226417 , 0.03584167, 0.02685568, 0.00850834,\n",
       "       0.00610094, 0.02449622, 0.0192405 , 0.02118887, 0.02147184,\n",
       "       0.01741143, 0.02092366, 0.02145724, 0.02393683, 0.02737177,\n",
       "       0.0198776 , 0.01893154, 0.02157207, 0.02480755, 0.02152016,\n",
       "       0.01190939, 0.01528239, 0.02057824, 0.01304526, 0.01815456,\n",
       "       0.01916501, 0.02201893, 0.02371645, 0.08962871, 0.00853855,\n",
       "       0.01548961, 0.00814696, 0.02041007, 0.05206276, 0.02757774,\n",
       "       0.01625236, 0.00990906, 0.02320722, 0.02499479, 0.0266537 ,\n",
       "       0.02230853, 0.02098514, 0.02607305, 0.01547211, 0.02285913,\n",
       "       0.04228041, 0.03005971, 0.01180559, 0.02673688, 0.0143468 ,\n",
       "       0.02941879, 0.01285624, 0.03129792, 0.02008009, 0.01976231,\n",
       "       0.01438667, 0.01884658, 0.01488162, 0.02651759, 0.02886658,\n",
       "       0.01532329, 0.01845525, 0.02061406, 0.02078993, 0.01819742,\n",
       "       0.01587694, 0.01837777, 0.02018136, 0.01459777, 0.02548152,\n",
       "       0.02460153, 0.02445978, 0.01188595, 0.02162817, 0.01552355,\n",
       "       0.01139207, 0.01603375, 0.02364042, 0.01962075, 0.02114548,\n",
       "       0.0052569 , 0.0131287 , 0.01848895, 0.00932629, 0.00697208,\n",
       "       0.01478921, 0.01066455, 0.03205088, 0.02054113, 0.02467253,\n",
       "       0.03275905, 0.02628748, 0.01961253, 0.02126906, 0.00956319,\n",
       "       0.00934189, 0.00800613, 0.01010847, 0.01688202, 0.00015015,\n",
       "       0.01567932, 0.01951774, 0.01488722, 0.00490993, 0.01752054,\n",
       "       0.01252745, 0.02750012, 0.01341209, 0.02380373, 0.00956691,\n",
       "       0.02234519, 0.0183072 , 0.01996582, 0.01124469, 0.01430434,\n",
       "       0.01806593, 0.0241275 , 0.00805849, 0.049846  , 0.04031895,\n",
       "       0.02089581, 0.01497154, 0.03347095, 0.02065329, 0.01159062,\n",
       "       0.02073693, 0.01478065, 0.03741814, 0.02541838, 0.01322365,\n",
       "       0.01898269, 0.01699702, 0.02900507, 0.0220268 , 0.01647028,\n",
       "       0.03266057, 0.04012233, 0.02349855, 0.02090575, 0.0133281 ,\n",
       "       0.02217784, 0.02154339, 0.01702632, 0.02664058, 0.02433055,\n",
       "       0.01265454, 0.02289224, 0.01826159, 0.01894292, 0.0195437 ,\n",
       "       0.01803547, 0.02407354, 0.01878638, 0.02356778, 0.01464351,\n",
       "       0.01837141, 0.01943619, 0.02740344, 0.02488664, 0.0186191 ,\n",
       "       0.01293692, 0.03331307, 0.01230651, 0.02543962, 0.02353759,\n",
       "       0.02064505, 0.02244494, 0.0172563 , 0.03398318, 0.01860616,\n",
       "       0.01201001, 0.03161076, 0.01483688, 0.00661735, 0.01707745,\n",
       "       0.02962503, 0.04277491, 0.0270036 , 0.02738077, 0.02524689,\n",
       "       0.01903306, 0.03284417])"
      ]
     },
     "execution_count": 76,
     "metadata": {},
     "output_type": "execute_result"
    }
   ],
   "source": [
    "Y_motion_CoM_continuous[np.where(np.isclose(X_motion_CoM_continuous[:, 0], 0.1))[0], 0]"
   ]
  },
  {
   "cell_type": "code",
   "execution_count": 77,
   "id": "696828be",
   "metadata": {},
   "outputs": [
    {
     "name": "stdout",
     "output_type": "stream",
     "text": [
      "262\n",
      "Velocity:  0.1\n",
      "X mean and std:  0.020383703675599704 0.010319084050082418\n",
      "Y mean and std:  -0.0006860792317275764 0.01255317145957503\n",
      "Theta mean and std:  6.307837212536924e-05 0.02929961894510976 \n",
      "\n",
      "235\n",
      "Velocity:  0.2\n",
      "X mean and std:  0.044710460572300076 0.012073860740201765\n",
      "Y mean and std:  -0.0005120904071340844 0.011083656449632473\n",
      "Theta mean and std:  -0.0004950543141895564 0.03286249881153972 \n",
      "\n",
      "384\n",
      "Velocity:  0.30000000000000004\n",
      "X mean and std:  0.06970045319274716 0.015632779783990344\n",
      "Y mean and std:  0.0013183574570117633 0.01120345990718072\n",
      "Theta mean and std:  -0.0003146374440380264 0.01965977425488633 \n",
      "\n",
      "231\n",
      "Velocity:  0.4\n",
      "X mean and std:  0.09785226910789782 0.018748320320413424\n",
      "Y mean and std:  0.001217736944496721 0.013815590077131212\n",
      "Theta mean and std:  0.00021030885707859576 0.02329504677609322 \n",
      "\n",
      "273\n",
      "Velocity:  0.5\n",
      "X mean and std:  0.1182523918577871 0.023651878543346203\n",
      "Y mean and std:  -0.0007616169523494973 0.015974034530446386\n",
      "Theta mean and std:  -0.001020082801758567 0.018431392223974354 \n",
      "\n",
      "247\n",
      "Velocity:  0.6\n",
      "X mean and std:  0.1297220424130021 0.027987899722179556\n",
      "Y mean and std:  0.0009454947565264125 0.014646781990385584\n",
      "Theta mean and std:  -0.0002084821073402711 0.013420040352136536 \n",
      "\n",
      "238\n",
      "Velocity:  0.7000000000000001\n",
      "X mean and std:  0.1635536797296648 0.032515964456702906\n",
      "Y mean and std:  0.0021068944545832636 0.01870548517018757\n",
      "Theta mean and std:  -0.0007673428579575724 0.017088294667735825 \n",
      "\n",
      "199\n",
      "Velocity:  0.8\n",
      "X mean and std:  0.18310356289953147 0.036755807443553966\n",
      "Y mean and std:  0.008502468962528114 0.022415970750742344\n",
      "Theta mean and std:  0.009188962678998398 0.056729813286804154 \n",
      "\n"
     ]
    }
   ],
   "source": [
    "for velocity in np.arange(0.1, 0.9, 0.1):\n",
    "    idx = np.where(np.isclose(X_motion_CoM_continuous[:, 0], velocity))[0]\n",
    "    print(len(idx))\n",
    "\n",
    "    print(\"Velocity: \", velocity)\n",
    "    print(\"X mean and std: \", np.mean(Y_motion_CoM_continuous[idx, 0]), np.std(Y_motion_CoM_continuous[idx, 0]))\n",
    "    print(\"Y mean and std: \", np.mean(Y_motion_CoM_continuous[idx, 1]), np.std(Y_motion_CoM_continuous[idx, 1]))\n",
    "    print(\"Theta mean and std: \", np.mean(Y_motion_CoM_continuous[idx, 2]), np.std(Y_motion_CoM_continuous[idx, 2]), \"\\n\")"
   ]
  },
  {
   "cell_type": "markdown",
   "id": "f2cd5b6b",
   "metadata": {},
   "source": [
    "### Fwd Plot"
   ]
  },
  {
   "cell_type": "code",
   "execution_count": 78,
   "id": "c2df2b35",
   "metadata": {},
   "outputs": [
    {
     "data": {
      "image/png": "[encoded data removed]",
      "text/plain": [
       "<matplotlib.figure.Figure at 0x7f75ef36f358>"
      ]
     },
     "metadata": {
      "needs_background": "light"
     },
     "output_type": "display_data"
    }
   ],
   "source": [
    "plt.plot([0.1, 0.2, 0.3, 0.4, 0.5, 0.6, 0.7, 0.8, 0.9, 1.0],\n",
    "         [np.mean(Y_motion_fwd_CoM[np.where(np.isclose(X_motion_fwd_CoM[:, 0], velocity))[0], 0]) for velocity in np.arange(0.1, 1.1, 0.1)], \n",
    "         'ro')\n",
    "plt.xlabel('Velocities')\n",
    "plt.ylabel('\\u0394X CoM')\n",
    "plt.show()"
   ]
  },
  {
   "cell_type": "code",
   "execution_count": 59,
   "id": "fce2172f",
   "metadata": {},
   "outputs": [
    {
     "data": {
      "image/png": "[encoded data removed]",
      "text/plain": [
       "<matplotlib.figure.Figure at 0x7f75ecf50748>"
      ]
     },
     "metadata": {
      "needs_background": "light"
     },
     "output_type": "display_data"
    }
   ],
   "source": [
    "x = np.array([0.1, 0.2, 0.3, 0.4, 0.5, 0.6, 0.7, 0.8, 0.9, 1.0])\n",
    "y = np.array([np.mean(Y_motion_fwd_CoM[np.where(np.isclose(X_motion_fwd_CoM[:, 0], velocity))[0], 0]) for velocity in np.arange(0.1, 1.1, 0.1)])\n",
    "e = np.array([np.std(Y_motion_fwd_CoM[np.where(np.isclose(X_motion_fwd_CoM[:, 0], velocity))[0], 0]) for velocity in np.arange(0.1, 1.1, 0.1)])\n",
    "plt.errorbar(x, y, e, linestyle='None', marker='s')\n",
    "plt.xlabel('Velocities')\n",
    "plt.ylabel('\\u03B4X CoM')\n",
    "plt.show()"
   ]
  },
  {
   "cell_type": "markdown",
   "id": "a65ee8fd",
   "metadata": {},
   "source": [
    "### Left Plot"
   ]
  },
  {
   "cell_type": "code",
   "execution_count": 18,
   "id": "7183c3fc",
   "metadata": {},
   "outputs": [
    {
     "data": {
      "image/png": "[encoded data removed]",
      "text/plain": [
       "<Figure size 432x288 with 1 Axes>"
      ]
     },
     "metadata": {
      "needs_background": "light"
     },
     "output_type": "display_data"
    }
   ],
   "source": [
    "plt.plot([0.1, 0.2, 0.3, 0.4, 0.5, 0.6, 0.7, 0.8, 0.9],\n",
    "         [np.mean(Y_motion_side_left_CoM[np.where(np.isclose(X_motion_side_left_CoM[:, 1], velocity))[0], 1]) for velocity in np.arange(0.1, 1.0, 0.1)], \n",
    "         'ro')\n",
    "plt.xlabel('Velocities')\n",
    "plt.ylabel('\\u0394Y CoM')\n",
    "plt.show()"
   ]
  },
  {
   "cell_type": "code",
   "execution_count": 19,
   "id": "6d836e3f",
   "metadata": {},
   "outputs": [
    {
     "data": {
      "image/png": "[encoded data removed]",
      "text/plain": [
       "<Figure size 432x288 with 1 Axes>"
      ]
     },
     "metadata": {
      "needs_background": "light"
     },
     "output_type": "display_data"
    }
   ],
   "source": [
    "x = np.array([0.1, 0.2, 0.3, 0.4, 0.5, 0.6, 0.7, 0.8, 0.9])\n",
    "y = np.array([np.mean(Y_motion_side_left_CoM[np.where(np.isclose(X_motion_side_left_CoM[:, 1], velocity))[0], 1]) for velocity in np.arange(0.1, 1.0, 0.1)])\n",
    "e = np.array([np.std(Y_motion_side_left_CoM[np.where(np.isclose(X_motion_side_left_CoM[:, 1], velocity))[0], 1]) for velocity in np.arange(0.1, 1.0, 0.1)])\n",
    "plt.errorbar(x, y, e, linestyle='None', marker='s')\n",
    "plt.xlabel('Velocities')\n",
    "plt.ylabel('\\u03B4Y CoM')\n",
    "plt.show()"
   ]
  },
  {
   "cell_type": "markdown",
   "id": "f4b3eb03",
   "metadata": {},
   "source": [
    "### Right Plot"
   ]
  },
  {
   "cell_type": "code",
   "execution_count": 31,
   "id": "9f156f31",
   "metadata": {},
   "outputs": [
    {
     "data": {
      "image/png": "[encoded data removed]",
      "text/plain": [
       "<Figure size 432x288 with 1 Axes>"
      ]
     },
     "metadata": {
      "needs_background": "light"
     },
     "output_type": "display_data"
    }
   ],
   "source": [
    "plt.plot([-0.1, -0.2, -0.3, -0.4, -0.5, -0.6, -0.7, -0.8, -0.9],\n",
    "         [np.mean(Y_motion_side_right_CoM[np.where(np.isclose(X_motion_side_right_CoM[:, 1], -velocity))[0], 1]) for velocity in np.arange(0.1, 1.0, 0.1)], \n",
    "         'ro')\n",
    "plt.xlabel('Velocities')\n",
    "plt.ylabel('\\u0394Y CoM')\n",
    "plt.show()"
   ]
  },
  {
   "cell_type": "code",
   "execution_count": 32,
   "id": "346959e4",
   "metadata": {},
   "outputs": [
    {
     "data": {
      "image/png": "[encoded data removed]",
      "text/plain": [
       "<Figure size 432x288 with 1 Axes>"
      ]
     },
     "metadata": {
      "needs_background": "light"
     },
     "output_type": "display_data"
    }
   ],
   "source": [
    "x = np.array([-0.1, -0.2, -0.3, -0.4, -0.5, -0.6, -0.7, -0.8, -0.9])\n",
    "y = np.array([np.mean(Y_motion_side_right_CoM[np.where(np.isclose(X_motion_side_right_CoM[:, 1], -velocity))[0], 1]) for velocity in np.arange(0.1, 1.0, 0.1)])\n",
    "e = np.array([np.std(Y_motion_side_right_CoM[np.where(np.isclose(X_motion_side_right_CoM[:, 1], -velocity))[0], 1]) for velocity in np.arange(0.1, 1.0, 0.1)])\n",
    "plt.errorbar(x, y, e, linestyle='None', marker='s')\n",
    "plt.xlabel('Velocities')\n",
    "plt.ylabel('\\u03B4Y CoM')\n",
    "plt.show()"
   ]
  },
  {
   "cell_type": "markdown",
   "id": "1704333f",
   "metadata": {},
   "source": [
    "### Clock Plot"
   ]
  },
  {
   "cell_type": "code",
   "execution_count": 33,
   "id": "d21f3794",
   "metadata": {},
   "outputs": [
    {
     "data": {
      "image/png": "[encoded data removed]",
      "text/plain": [
       "<Figure size 432x288 with 1 Axes>"
      ]
     },
     "metadata": {
      "needs_background": "light"
     },
     "output_type": "display_data"
    }
   ],
   "source": [
    "plt.plot([-0.1, -0.2, -0.3, -0.4, -0.5, -0.6, -0.7, -0.8, -0.9],\n",
    "         [np.mean(Y_motion_clock_CoM[np.where(np.isclose(X_motion_clock_CoM[:, 2], -velocity))[0], 2]) for velocity in np.arange(0.1, 1.0, 0.1)], \n",
    "         'ro')\n",
    "plt.xlabel('Velocities')\n",
    "plt.ylabel('\\u0394\\u03B8 CoM')\n",
    "plt.show()"
   ]
  },
  {
   "cell_type": "code",
   "execution_count": 34,
   "id": "a2eea505",
   "metadata": {},
   "outputs": [
    {
     "data": {
      "image/png": "[encoded data removed]",
      "text/plain": [
       "<Figure size 432x288 with 1 Axes>"
      ]
     },
     "metadata": {
      "needs_background": "light"
     },
     "output_type": "display_data"
    }
   ],
   "source": [
    "x = np.array([-0.1, -0.2, -0.3, -0.4, -0.5, -0.6, -0.7, -0.8, -0.9])\n",
    "y = np.array([np.mean(Y_motion_clock_CoM[np.where(np.isclose(X_motion_clock_CoM[:, 2], -velocity))[0], 2]) for velocity in np.arange(0.1, 1.0, 0.1)])\n",
    "e = np.array([np.std(Y_motion_clock_CoM[np.where(np.isclose(X_motion_clock_CoM[:, 2], -velocity))[0], 2]) for velocity in np.arange(0.1, 1.0, 0.1)])\n",
    "plt.errorbar(x, y, e, linestyle='None', marker='s')\n",
    "plt.xlabel('Velocities')\n",
    "plt.ylabel('\\u03B4Y CoM')\n",
    "plt.show()"
   ]
  },
  {
   "cell_type": "markdown",
   "id": "976a30b0",
   "metadata": {},
   "source": [
    "### Count Plot"
   ]
  },
  {
   "cell_type": "code",
   "execution_count": 46,
   "id": "80aaf962",
   "metadata": {},
   "outputs": [
    {
     "data": {
      "image/png": "[encoded data removed]",
      "text/plain": [
       "<Figure size 432x288 with 1 Axes>"
      ]
     },
     "metadata": {
      "needs_background": "light"
     },
     "output_type": "display_data"
    }
   ],
   "source": [
    "plt.plot([0.1, 0.2, 0.3, 0.4, 0.5],\n",
    "         [np.mean(Y_motion_count_CoM[np.where(np.isclose(X_motion_count_CoM[:, 2], velocity))[0], 2]) for velocity in np.arange(0.1, 0.6, 0.1)], \n",
    "         'ro')\n",
    "plt.xlabel('Velocities')\n",
    "plt.ylabel('\\u0394\\u03B8 CoM')\n",
    "plt.show()"
   ]
  },
  {
   "cell_type": "code",
   "execution_count": 47,
   "id": "71e95f20",
   "metadata": {},
   "outputs": [
    {
     "data": {
      "image/png": "[encoded data removed]",
      "text/plain": [
       "<Figure size 432x288 with 1 Axes>"
      ]
     },
     "metadata": {
      "needs_background": "light"
     },
     "output_type": "display_data"
    }
   ],
   "source": [
    "x = np.array([0.1, 0.2, 0.3, 0.4, 0.5])\n",
    "y = np.array([np.mean(Y_motion_count_CoM[np.where(np.isclose(X_motion_count_CoM[:, 2], velocity))[0], 2]) for velocity in np.arange(0.1, 0.6, 0.1)])\n",
    "e = np.array([np.std(Y_motion_count_CoM[np.where(np.isclose(X_motion_count_CoM[:, 2], velocity))[0], 2]) for velocity in np.arange(0.1, 0.6, 0.1)])\n",
    "plt.errorbar(x, y, e, linestyle='None', marker='s')\n",
    "plt.xlabel('Velocities')\n",
    "plt.ylabel('\\u03B4Y CoM')\n",
    "plt.show()"
   ]
  },
  {
   "cell_type": "markdown",
   "id": "e615862e",
   "metadata": {},
   "source": [
    "## Forwad Check"
   ]
  },
  {
   "cell_type": "code",
   "execution_count": 20,
   "id": "f032b9e5",
   "metadata": {},
   "outputs": [
    {
     "name": "stdout",
     "output_type": "stream",
     "text": [
      "Min displacement: 0.007236615679631823. Max displacement: 0.1536683363297584\n"
     ]
    }
   ],
   "source": [
    "print(f\"Min displacement: {min(Y_motion_fwd_CoM[:, 0])}. Max displacement: {max(Y_motion_fwd_CoM[:, 0])}\")"
   ]
  },
  {
   "cell_type": "markdown",
   "id": "472c7324",
   "metadata": {},
   "source": [
    "## Clockwise Check"
   ]
  },
  {
   "cell_type": "code",
   "execution_count": 68,
   "id": "617075fb",
   "metadata": {},
   "outputs": [
    {
     "name": "stdout",
     "output_type": "stream",
     "text": [
      "Min displacement: -0.14356181392864276. Max displacement: -0.010198308354957638\n"
     ]
    }
   ],
   "source": [
    "print(f\"Min displacement: {min(Y_motion_clock_CoM[:, 2])}. Max displacement: {max(Y_motion_clock_CoM[:, 2])}\")"
   ]
  },
  {
   "cell_type": "markdown",
   "id": "dcf31447",
   "metadata": {},
   "source": [
    "## Counter Check"
   ]
  },
  {
   "cell_type": "code",
   "execution_count": 65,
   "id": "a6980911",
   "metadata": {},
   "outputs": [
    {
     "name": "stdout",
     "output_type": "stream",
     "text": [
      "Min displacement: -0.006205233617830874. Max displacement: 0.005427528135790061\n"
     ]
    }
   ],
   "source": [
    "print(f\"Min displacement: {min(Y_motion_count_CoM[:, 1])}. Max displacement: {max(Y_motion_count_CoM[:, 1])}\")"
   ]
  },
  {
   "cell_type": "markdown",
   "id": "5a21ace6",
   "metadata": {},
   "source": [
    "## Left Check"
   ]
  },
  {
   "cell_type": "code",
   "execution_count": 23,
   "id": "b8552df8",
   "metadata": {},
   "outputs": [
    {
     "name": "stdout",
     "output_type": "stream",
     "text": [
      "Min displacement: 0.007853730130729542. Max displacement: 0.09715947318711393\n"
     ]
    }
   ],
   "source": [
    "print(f\"Min displacement: {min(Y_motion_side_left_CoM[:, 1])}. Max displacement: {max(Y_motion_side_left_CoM[:, 1])}\")"
   ]
  },
  {
   "cell_type": "markdown",
   "id": "b787ba03",
   "metadata": {},
   "source": [
    "## Right Check"
   ]
  },
  {
   "cell_type": "code",
   "execution_count": 24,
   "id": "e78f643c",
   "metadata": {},
   "outputs": [
    {
     "name": "stdout",
     "output_type": "stream",
     "text": [
      "Min displacement: -0.0944799924815003. Max displacement: -0.010731300881279493\n"
     ]
    }
   ],
   "source": [
    "print(f\"Min displacement: {min(Y_motion_side_right_CoM[:, 1])}. Max displacement: {max(Y_motion_side_right_CoM[:, 1])}\")"
   ]
  },
  {
   "cell_type": "code",
   "execution_count": null,
   "id": "9f529fe3",
   "metadata": {},
   "outputs": [],
   "source": []
  }
 ],
 "metadata": {
  "kernelspec": {
   "display_name": "Python 3",
   "language": "python",
   "name": "python3"
  },
  "language_info": {
   "codemirror_mode": {
    "name": "ipython",
    "version": 3
   },
   "file_extension": ".py",
   "mimetype": "text/x-python",
   "name": "python",
   "nbconvert_exporter": "python",
   "pygments_lexer": "ipython3",
   "version": "3.6.9"
  }
 },
 "nbformat": 4,
 "nbformat_minor": 5
}
