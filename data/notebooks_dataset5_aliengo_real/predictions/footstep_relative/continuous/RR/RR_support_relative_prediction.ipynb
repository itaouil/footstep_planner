{
 "cells": [
  {
   "cell_type": "code",
   "execution_count": 1,
   "id": "52ee943f",
   "metadata": {},
   "outputs": [],
   "source": [
    "#!/usr/bin/env python3.6\n",
    "# -*- coding: utf-8 -*-"
   ]
  },
  {
   "cell_type": "code",
   "execution_count": 2,
   "id": "374488e0",
   "metadata": {},
   "outputs": [],
   "source": [
    "# Imports\n",
    "import sys\n",
    "import joblib\n",
    "import numpy as np\n",
    "from matplotlib import animation\n",
    "from IPython.display import HTML\n",
    "from matplotlib import pyplot as plt\n",
    "import mpl_toolkits.mplot3d.axes3d as p3"
   ]
  },
  {
   "cell_type": "code",
   "execution_count": 3,
   "id": "3316f6b3",
   "metadata": {},
   "outputs": [],
   "source": [
    "#np.random.seed(20)\n",
    "np.set_printoptions(threshold=sys.maxsize)"
   ]
  },
  {
   "cell_type": "code",
   "execution_count": 4,
   "id": "365b5fd9",
   "metadata": {},
   "outputs": [],
   "source": [
    "%matplotlib inline"
   ]
  },
  {
   "cell_type": "code",
   "execution_count": 5,
   "id": "1fbf27a5",
   "metadata": {},
   "outputs": [
    {
     "name": "stdout",
     "output_type": "stream",
     "text": [
      "(10027, 28)\n",
      "(10027, 8)\n"
     ]
    }
   ],
   "source": [
    "%store -r X_relative_footsteps_continuous\n",
    "%store -r Y_relative_footsteps_continuous\n",
    "print(X_relative_footsteps_continuous.shape)\n",
    "print(Y_relative_footsteps_continuous.shape)"
   ]
  },
  {
   "cell_type": "markdown",
   "id": "53b5313e",
   "metadata": {},
   "source": [
    "# Multivariate Linear Regression (Foot prediction)"
   ]
  },
  {
   "cell_type": "code",
   "execution_count": 6,
   "id": "51925643",
   "metadata": {},
   "outputs": [],
   "source": [
    "import sklearn\n",
    "from sklearn import metrics\n",
    "from sklearn.feature_selection import RFE\n",
    "from sklearn.model_selection import KFold\n",
    "from sklearn.linear_model import LinearRegression\n",
    "from sklearn.model_selection import train_test_split\n",
    "from sklearn.preprocessing import PolynomialFeatures \n",
    "from sklearn.model_selection import cross_val_score, cross_val_predict\n",
    "from sklearn.metrics import mean_squared_error, mean_absolute_error, r2_score"
   ]
  },
  {
   "cell_type": "code",
   "execution_count": 7,
   "id": "75b1f043",
   "metadata": {},
   "outputs": [],
   "source": [
    "# Entries where RR supports\n",
    "idxs = np.where(X_relative_footsteps_continuous[:, 24] == 0)[0]\n",
    "X_relative_footsteps_continuous_RR_support = X_relative_footsteps_continuous[idxs]\n",
    "Y_relative_footsteps_continuous_RR_support = Y_relative_footsteps_continuous[idxs]"
   ]
  },
  {
   "cell_type": "markdown",
   "id": "d48cb183",
   "metadata": {},
   "source": [
    "## Predict RR foot -> x"
   ]
  },
  {
   "cell_type": "code",
   "execution_count": 8,
   "id": "66c98289",
   "metadata": {},
   "outputs": [
    {
     "data": {
      "text/plain": [
       "(5022, 28)"
      ]
     },
     "execution_count": 8,
     "metadata": {},
     "output_type": "execute_result"
    }
   ],
   "source": [
    "X_relative_footsteps_continuous_RR_support.shape"
   ]
  },
  {
   "cell_type": "code",
   "execution_count": 9,
   "id": "cce2a050",
   "metadata": {},
   "outputs": [
    {
     "data": {
      "text/plain": [
       "array([ 0.1       ,  0.        ,  0.        ,  0.06422444,  0.12709958,\n",
       "        0.02129842,  0.03284169,  0.00745874, -0.01805852,  0.23490033,\n",
       "        0.18683081, -0.40515856,  0.23261811, -0.20303247, -0.40508065,\n",
       "       -0.26129142,  0.13343325, -0.40023591, -0.24991612, -0.15232612,\n",
       "       -0.40053536,  0.        ,  1.        ,  1.        ,  0.        ,\n",
       "        0.1       ,  0.        ,  0.        ])"
      ]
     },
     "execution_count": 9,
     "metadata": {},
     "output_type": "execute_result"
    }
   ],
   "source": [
    "X_relative_footsteps_continuous_RR_support[0, :]"
   ]
  },
  {
   "cell_type": "code",
   "execution_count": 10,
   "id": "ca99868e",
   "metadata": {},
   "outputs": [
    {
     "data": {
      "text/plain": [
       "array([ 0.21954448,  0.20866495,  0.24175469, -0.18419152, -0.24350115,\n",
       "        0.15491923, -0.27453524, -0.12738613])"
      ]
     },
     "execution_count": 10,
     "metadata": {},
     "output_type": "execute_result"
    }
   ],
   "source": [
    "Y_relative_footsteps_continuous_RR_support[0, :]"
   ]
  },
  {
   "cell_type": "markdown",
   "id": "0909ea4b",
   "metadata": {},
   "source": [
    "### Linear Regression"
   ]
  },
  {
   "cell_type": "code",
   "execution_count": 14,
   "id": "c316b21b",
   "metadata": {},
   "outputs": [
    {
     "name": "stdout",
     "output_type": "stream",
     "text": [
      "R2:  0.990283660929001\n",
      "RMSE:  0.0027126526445043027\n",
      "The lowest error is:  2.329143069856876e-06\n",
      "The highest error is:  0.015886377740882862\n",
      "The avg. error is:  0.001821688233726383\n"
     ]
    }
   ],
   "source": [
    "# Input\n",
    "X = np.hstack((X_relative_footsteps_continuous_RR_support[:, :3], # motion command\n",
    "               X_relative_footsteps_continuous_RR_support[:, 9:11], # FL (x,y) position\n",
    "               X_relative_footsteps_continuous_RR_support[:, 12:14], # FR (x,y) position\n",
    "               X_relative_footsteps_continuous_RR_support[:, 15:17], # RL (x,y) position\n",
    "               X_relative_footsteps_continuous_RR_support[:, 18:20])) # RR (x,y) position \n",
    "\n",
    "# Target\n",
    "Y = np.array([Y_relative_footsteps_continuous_RR_support[:, 6]]).T\n",
    "\n",
    "assert Y.shape[0] == X.shape[0]\n",
    "\n",
    "# Split data into train and test set\n",
    "X_train, X_test, Y_train, Y_test = train_test_split(X, Y, train_size = 0.8, shuffle=True)\n",
    "\n",
    "# Create the model\n",
    "model_rr_relative_support_x = LinearRegression()\n",
    "\n",
    "# Fit the model\n",
    "model_rr_relative_support_x.fit(X_train, Y_train)\n",
    "\n",
    "# Predict\n",
    "predictions = model_rr_relative_support_x.predict(X_test)\n",
    "\n",
    "# Stats\n",
    "print('R2: ', r2_score(predictions, Y_test))\n",
    "print('RMSE: ', np.sqrt(mean_squared_error(Y_test, predictions)))\n",
    "print(\"The lowest error is: \", np.min(np.abs(predictions - Y_test)))\n",
    "print(\"The highest error is: \", np.max(np.abs(predictions - Y_test)))\n",
    "print(\"The avg. error is: \", np.mean(np.abs(predictions - Y_test)))\n",
    "#print(\"Seq of errors (descendant): \\n\", sorted(np.abs(predictions - Y_test).tolist(), reverse=True))"
   ]
  },
  {
   "cell_type": "code",
   "execution_count": 15,
   "id": "fde1aef7",
   "metadata": {},
   "outputs": [
    {
     "data": {
      "text/plain": [
       "array([[-0.16061984,  0.03892103, -0.03515258, -0.40076567, -0.17086406,\n",
       "        -0.2968109 , -0.01242232, -0.23393719,  0.10483421,  1.2716804 ,\n",
       "        -0.16650155]])"
      ]
     },
     "execution_count": 15,
     "metadata": {},
     "output_type": "execute_result"
    }
   ],
   "source": [
    "model_rr_relative_support_x.coef_"
   ]
  },
  {
   "cell_type": "code",
   "execution_count": 16,
   "id": "196e5a3f",
   "metadata": {},
   "outputs": [
    {
     "data": {
      "text/plain": [
       "array([0.15376922])"
      ]
     },
     "execution_count": 16,
     "metadata": {},
     "output_type": "execute_result"
    }
   ],
   "source": [
    "model_rr_relative_support_x.intercept_"
   ]
  },
  {
   "cell_type": "code",
   "execution_count": 17,
   "id": "0e79132d",
   "metadata": {},
   "outputs": [
    {
     "data": {
      "text/plain": [
       "Text(0, 0.5, 'Predictions')"
      ]
     },
     "execution_count": 17,
     "metadata": {},
     "output_type": "execute_result"
    },
    {
     "data": {
      "image/png": "[encoded data removed]",
      "text/plain": [
       "<Figure size 432x288 with 1 Axes>"
      ]
     },
     "metadata": {
      "needs_background": "light"
     },
     "output_type": "display_data"
    }
   ],
   "source": [
    "## The line / model\n",
    "plt.scatter(Y_test, predictions)\n",
    "plt.xlabel(\"Ground truth\")\n",
    "plt.ylabel(\"Predictions\")"
   ]
  },
  {
   "cell_type": "code",
   "execution_count": 18,
   "id": "fd978437",
   "metadata": {},
   "outputs": [],
   "source": [
    "#%store model_rr_relative_support_x"
   ]
  },
  {
   "cell_type": "code",
   "execution_count": 19,
   "id": "ffa2a8a0",
   "metadata": {},
   "outputs": [],
   "source": [
    "#for idx, prediction in enumerate(predictions):\n",
    "#    print(f'Start: {X_test[idx, 6]}. Groundtruth: {Y_test[idx]}. Predicted: {prediction}')"
   ]
  },
  {
   "cell_type": "code",
   "execution_count": 20,
   "id": "a8a17a5d",
   "metadata": {},
   "outputs": [],
   "source": [
    "# Save model\n",
    "#joblib.dump(model_rr_relative_support_x, \"/home/itaouil/workspace/aliengo_ws/src/aliengo_navigation/models/protocol3/relative/model_rr_relative_support_x.sav\")"
   ]
  },
  {
   "cell_type": "markdown",
   "id": "b0129c9a",
   "metadata": {},
   "source": [
    "### Predict RR foot -> y"
   ]
  },
  {
   "cell_type": "code",
   "execution_count": 25,
   "id": "4391cc3e",
   "metadata": {},
   "outputs": [
    {
     "name": "stdout",
     "output_type": "stream",
     "text": [
      "R2:  0.9938422209557376\n",
      "RMSE:  0.002452065045464206\n",
      "The lowest error is:  3.37407771941467e-06\n",
      "The highest error is:  0.018955014290974695\n",
      "The avg. error is:  0.0016564000219011432\n"
     ]
    }
   ],
   "source": [
    "# Input\n",
    "X = np.hstack((X_relative_footsteps_continuous_RR_support[:, :3], # motion command\n",
    "               X_relative_footsteps_continuous_RR_support[:, 9:11], # FL (x,y) position\n",
    "               X_relative_footsteps_continuous_RR_support[:, 12:14], # FR (x,y) position\n",
    "               X_relative_footsteps_continuous_RR_support[:, 15:17], # RL (x,y) position\n",
    "               X_relative_footsteps_continuous_RR_support[:, 18:20])) # RR (x,y) position\n",
    "\n",
    "# Target\n",
    "Y = np.array([Y_relative_footsteps_continuous_RR_support[:, 7]]).T\n",
    "\n",
    "assert Y.shape[0] == X.shape[0]\n",
    "\n",
    "# Split data into train and test set\n",
    "X_train, X_test, Y_train, Y_test = train_test_split(X, Y, train_size = 0.8, shuffle=True)\n",
    "\n",
    "# Create the model\n",
    "model_rr_relative_support_y = LinearRegression()\n",
    "\n",
    "# Fit the model\n",
    "model_rr_relative_support_y.fit(X_train, Y_train)\n",
    "\n",
    "# Predict\n",
    "predictions = model_rr_relative_support_y.predict(X_test)\n",
    "\n",
    "# Stats\n",
    "print('R2: ', r2_score(predictions, Y_test))\n",
    "print('RMSE: ', np.sqrt(mean_squared_error(Y_test, predictions)))\n",
    "print(\"The lowest error is: \", np.min(np.abs(predictions - Y_test)))\n",
    "print(\"The highest error is: \", np.max(np.abs(predictions - Y_test)))\n",
    "print(\"The avg. error is: \", np.mean(np.abs(predictions - Y_test)))\n",
    "#print(\"Seq of errors (descendant): \\n\", sorted(np.abs(predictions - Y_test).tolist(), reverse=True))"
   ]
  },
  {
   "cell_type": "code",
   "execution_count": 26,
   "id": "3c99b579",
   "metadata": {},
   "outputs": [
    {
     "data": {
      "text/plain": [
       "array([[ 0.02591294, -0.2001021 ,  0.05064151, -0.1620021 , -0.08637795,\n",
       "        -0.11233887, -0.20289319, -0.00615133, -0.23651586, -0.16199965,\n",
       "         1.31382763]])"
      ]
     },
     "execution_count": 26,
     "metadata": {},
     "output_type": "execute_result"
    }
   ],
   "source": [
    "model_rr_relative_support_y.coef_"
   ]
  },
  {
   "cell_type": "code",
   "execution_count": 27,
   "id": "f15ca526",
   "metadata": {},
   "outputs": [
    {
     "data": {
      "text/plain": [
       "array([0.09683165])"
      ]
     },
     "execution_count": 27,
     "metadata": {},
     "output_type": "execute_result"
    }
   ],
   "source": [
    "model_rr_relative_support_y.intercept_"
   ]
  },
  {
   "cell_type": "code",
   "execution_count": 28,
   "id": "abe3f7e1",
   "metadata": {},
   "outputs": [
    {
     "data": {
      "text/plain": [
       "Text(0, 0.5, 'Predictions')"
      ]
     },
     "execution_count": 28,
     "metadata": {},
     "output_type": "execute_result"
    },
    {
     "data": {
      "image/png": "[encoded data removed]",
      "text/plain": [
       "<Figure size 432x288 with 1 Axes>"
      ]
     },
     "metadata": {
      "needs_background": "light"
     },
     "output_type": "display_data"
    }
   ],
   "source": [
    "## The line / model\n",
    "plt.scatter(Y_test, predictions)\n",
    "plt.xlabel(\"Ground truth\")\n",
    "plt.ylabel(\"Predictions\")"
   ]
  },
  {
   "cell_type": "code",
   "execution_count": 27,
   "id": "4ab275fc",
   "metadata": {},
   "outputs": [],
   "source": [
    "#%store model_rr_relative_support_y"
   ]
  },
  {
   "cell_type": "code",
   "execution_count": 28,
   "id": "acfbd66d",
   "metadata": {},
   "outputs": [],
   "source": [
    "#for idx, prediction in enumerate(predictions):\n",
    "#    print(f'Groundtruth: {Y_test[idx]}. Predicted: {prediction}')"
   ]
  },
  {
   "cell_type": "code",
   "execution_count": 22,
   "id": "a1826b66",
   "metadata": {},
   "outputs": [],
   "source": [
    "# Save model\n",
    "#joblib.dump(model_rr_relative_support_y, \"/home/itaouil/workspace/aliengo_ws/src/aliengo_navigation/models/protocol3/relative/model_rr_relative_support_y.sav\")"
   ]
  },
  {
   "cell_type": "code",
   "execution_count": null,
   "id": "756b6357",
   "metadata": {},
   "outputs": [],
   "source": []
  }
 ],
 "metadata": {
  "kernelspec": {
   "display_name": "Python 3",
   "language": "python",
   "name": "python3"
  },
  "language_info": {
   "codemirror_mode": {
    "name": "ipython",
    "version": 3
   },
   "file_extension": ".py",
   "mimetype": "text/x-python",
   "name": "python",
   "nbconvert_exporter": "python",
   "pygments_lexer": "ipython3",
   "version": "3.6.12"
  }
 },
 "nbformat": 4,
 "nbformat_minor": 5
}
