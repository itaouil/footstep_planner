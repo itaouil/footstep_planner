{
 "cells": [
  {
   "cell_type": "code",
   "execution_count": 22,
   "id": "21c10f2f",
   "metadata": {},
   "outputs": [],
   "source": [
    "# Imports\n",
    "import numpy as np"
   ]
  },
  {
   "cell_type": "code",
   "execution_count": 88,
   "id": "60dea9ad",
   "metadata": {},
   "outputs": [],
   "source": [
    "# Load file\n",
    "data = np.genfromtxt(\"./scenario1/scenario_1.txt\", delimiter=\",\")"
   ]
  },
  {
   "cell_type": "markdown",
   "id": "3defe1ef",
   "metadata": {},
   "source": [
    "## CoM"
   ]
  },
  {
   "cell_type": "code",
   "execution_count": 89,
   "id": "2a533530",
   "metadata": {},
   "outputs": [],
   "source": [
    "# CoM error between prediction and real\n",
    "real_com = data[1:-1, :2]\n",
    "predicted_com = data[1:-1, 2:4]"
   ]
  },
  {
   "cell_type": "code",
   "execution_count": 90,
   "id": "7ec1eac9",
   "metadata": {},
   "outputs": [],
   "source": [
    "com_diff = np.abs(real_com - predicted_com)"
   ]
  },
  {
   "cell_type": "code",
   "execution_count": 91,
   "id": "e726f53e",
   "metadata": {},
   "outputs": [
    {
     "name": "stdout",
     "output_type": "stream",
     "text": [
      "Highest error between real and predicted com:  0.06920000000000037 0.04952898\n",
      "Lowest error between real and predicted com:  0.0010199999999995768 1.0799999999998311e-05\n",
      "Average error between real and predicted com:  0.030900361702127715 0.014446455080851064\n"
     ]
    }
   ],
   "source": [
    "print(\"Highest error between real and predicted com: \", np.max(com_diff[:, 0]), np.max(com_diff[:, 1]))\n",
    "print(\"Lowest error between real and predicted com: \", np.min(com_diff[:, 0]), np.min(com_diff[:, 1]))\n",
    "print(\"Average error between real and predicted com: \", np.mean(com_diff[:, 0]), np.mean(com_diff[:, 1]))"
   ]
  },
  {
   "cell_type": "markdown",
   "id": "63570eb2",
   "metadata": {},
   "source": [
    "## Footsteps"
   ]
  },
  {
   "cell_type": "code",
   "execution_count": 92,
   "id": "50ede7c8",
   "metadata": {},
   "outputs": [
    {
     "name": "stdout",
     "output_type": "stream",
     "text": [
      "(94, 8)\n",
      "(94, 8)\n"
     ]
    }
   ],
   "source": [
    "# Feet error between predictions and real\n",
    "real_footsteps = data[1:-1, 4:12]\n",
    "predicted_footsteps = data[1:-1, 12:20]\n",
    "print(real_footsteps.shape)\n",
    "print(predicted_footsteps.shape)"
   ]
  },
  {
   "cell_type": "code",
   "execution_count": 93,
   "id": "43d80ac2",
   "metadata": {},
   "outputs": [
    {
     "name": "stdout",
     "output_type": "stream",
     "text": [
      "(47,)\n",
      "(47,)\n"
     ]
    }
   ],
   "source": [
    "# Swinging booleans\n",
    "fr_rl_swinging = np.where(real_footsteps[:, 2] > real_footsteps[:, 0])[0]\n",
    "fl_rr_swinging = np.where(real_footsteps[:, 0] > real_footsteps[:, 2])[0]\n",
    "print(fr_rl_swinging.shape)\n",
    "print(fl_rr_swinging.shape)"
   ]
  },
  {
   "cell_type": "code",
   "execution_count": 94,
   "id": "0cfe0724",
   "metadata": {},
   "outputs": [],
   "source": [
    "footsteps_diff = np.abs(real_footsteps - predicted_footsteps)"
   ]
  },
  {
   "cell_type": "code",
   "execution_count": 95,
   "id": "a6834f10",
   "metadata": {},
   "outputs": [
    {
     "data": {
      "text/plain": [
       "array([0.00022 , 0.001974, 0.00537 , 0.01276 , 0.01074 , 0.00577 ,\n",
       "       0.00632 , 0.01318 , 0.01477 , 0.01487 , 0.02421 , 0.01021 ,\n",
       "       0.00987 , 0.02323 , 0.0133  , 0.01212 , 0.02616 , 0.00969 ,\n",
       "       0.01367 , 0.01442 , 0.01303 , 0.01144 , 0.01478 , 0.01075 ,\n",
       "       0.03698 , 0.02412 , 0.01763 , 0.04116 , 0.00297 , 0.00447 ,\n",
       "       0.00287 , 0.02027 , 0.00232 , 0.02975 , 0.02967 , 0.00642 ,\n",
       "       0.02237 , 0.01366 , 0.00356 , 0.00912 , 0.00467 , 0.00662 ,\n",
       "       0.00829 , 0.01028 , 0.00722 , 0.01131 , 0.01015 ])"
      ]
     },
     "execution_count": 95,
     "metadata": {},
     "output_type": "execute_result"
    }
   ],
   "source": [
    "footsteps_diff[fr_rl_swinging, 2]"
   ]
  },
  {
   "cell_type": "code",
   "execution_count": 96,
   "id": "984f82bb",
   "metadata": {},
   "outputs": [
    {
     "name": "stdout",
     "output_type": "stream",
     "text": [
      "Highest error for FL foot:  0.020319999999999894 0.020319999999999894\n",
      "Lowest error for FL foot:  0.00013000000000040757 0.00013000000000040757\n",
      "Average error for FL foot:  0.004445574468085115 0.004445574468085115\n"
     ]
    }
   ],
   "source": [
    "print(\"Highest error for FL foot: \", np.max(footsteps_diff[fl_rr_swinging, 0]), np.max(footsteps_diff[fl_rr_swinging, 0]))\n",
    "print(\"Lowest error for FL foot: \", np.min(footsteps_diff[fl_rr_swinging, 0]), np.min(footsteps_diff[fl_rr_swinging, 0]))\n",
    "print(\"Average error for FL foot: \", np.mean(footsteps_diff[fl_rr_swinging, 0]), np.mean(footsteps_diff[fl_rr_swinging, 0]))"
   ]
  },
  {
   "cell_type": "code",
   "execution_count": 97,
   "id": "a83b5fca",
   "metadata": {},
   "outputs": [
    {
     "name": "stdout",
     "output_type": "stream",
     "text": [
      "Highest error for FR foot:  0.04116000000000053 0.04800539999999999\n",
      "Lowest error for FR foot:  0.00021999999999999797 0.00038299999999999446\n",
      "Average error for FR foot:  0.013164553191489431 0.013901876595744678\n"
     ]
    }
   ],
   "source": [
    "print(\"Highest error for FR foot: \", np.max(footsteps_diff[fr_rl_swinging, 2]), np.max(footsteps_diff[fr_rl_swinging, 3]))\n",
    "print(\"Lowest error for FR foot: \", np.min(footsteps_diff[fr_rl_swinging, 2]), np.min(footsteps_diff[fr_rl_swinging, 3]))\n",
    "print(\"Average error for FR foot: \", np.mean(footsteps_diff[fr_rl_swinging, 2]), np.mean(footsteps_diff[fr_rl_swinging, 3]))"
   ]
  },
  {
   "cell_type": "code",
   "execution_count": 98,
   "id": "a90ed768",
   "metadata": {},
   "outputs": [
    {
     "name": "stdout",
     "output_type": "stream",
     "text": [
      "Highest error for RL foot:  0.029269999999999463 0.029488999999999987\n",
      "Lowest error for RL foot:  0.0003389999999999782 0.0005469999999999919\n",
      "Average error for RL foot:  0.010933323404255353 0.011010851063829787\n"
     ]
    }
   ],
   "source": [
    "print(\"Highest error for RL foot: \", np.max(footsteps_diff[fr_rl_swinging, 4]), np.max(footsteps_diff[fr_rl_swinging, 5]))\n",
    "print(\"Lowest error for RL foot: \", np.min(footsteps_diff[fr_rl_swinging, 4]), np.min(footsteps_diff[fr_rl_swinging, 5]))\n",
    "print(\"Average error for RL foot: \", np.mean(footsteps_diff[fr_rl_swinging, 4]), np.mean(footsteps_diff[fr_rl_swinging, 5]))"
   ]
  },
  {
   "cell_type": "code",
   "execution_count": 99,
   "id": "39d4ba74",
   "metadata": {},
   "outputs": [
    {
     "name": "stdout",
     "output_type": "stream",
     "text": [
      "Highest error for RR foot:  0.014255000000000018 0.032999200000000006\n",
      "Lowest error for RR foot:  0.0005099999999997884 0.00131669999999999\n",
      "Average error for RR foot:  0.0037415702127659304 0.012900404255319145\n"
     ]
    }
   ],
   "source": [
    "print(\"Highest error for RR foot: \", np.max(footsteps_diff[fl_rr_swinging, 6]), np.max(footsteps_diff[fl_rr_swinging, 7]))\n",
    "print(\"Lowest error for RR foot: \", np.min(footsteps_diff[fl_rr_swinging, 6]), np.min(footsteps_diff[fl_rr_swinging, 7]))\n",
    "print(\"Average error for RR foot: \", np.mean(footsteps_diff[fl_rr_swinging, 6]), np.mean(footsteps_diff[fl_rr_swinging, 7]))"
   ]
  },
  {
   "cell_type": "markdown",
   "id": "f4b58ce0",
   "metadata": {},
   "source": [
    "## Edges"
   ]
  },
  {
   "cell_type": "code",
   "execution_count": 100,
   "id": "791dfdd9",
   "metadata": {},
   "outputs": [],
   "source": [
    "# X coordinates of the stairs climbing up\n",
    "edges = [1 + 0.21428571428 * x for x in range(14)] + [4.2142857142 + 0.21428571428 * x for x in range(14)]"
   ]
  },
  {
   "cell_type": "code",
   "execution_count": 101,
   "id": "4759d3ee",
   "metadata": {},
   "outputs": [],
   "source": [
    "def find_nearest(array, value):\n",
    "    array = np.asarray(array)\n",
    "    idx = (np.abs(array - value)).argmin()\n",
    "    return array[idx]"
   ]
  },
  {
   "cell_type": "code",
   "execution_count": 102,
   "id": "e018c0aa",
   "metadata": {},
   "outputs": [],
   "source": [
    "# Compute minimum distance from any obstacle\n",
    "min_edge_distances = []\n",
    "for real_footstep in real_footsteps:\n",
    "    temp = []\n",
    "    for idx in range(len(real_footstep)):\n",
    "        if idx in [0, 2, 4, 6]:\n",
    "            temp.append(find_nearest(edges, real_footstep[idx]))\n",
    "    min_edge_distances.append(temp)\n",
    "\n",
    "min_edge_distances = np.array(min_edge_distances)"
   ]
  },
  {
   "cell_type": "code",
   "execution_count": 103,
   "id": "bede8316",
   "metadata": {},
   "outputs": [],
   "source": [
    "real_edge_distances = np.abs(real_footsteps[:, ::2] - min_edge_distances)\n",
    "predicted_edge_distances = np.abs(predicted_footsteps[:, ::2] - min_edge_distances)"
   ]
  },
  {
   "cell_type": "code",
   "execution_count": 104,
   "id": "661de01b",
   "metadata": {},
   "outputs": [
    {
     "name": "stdout",
     "output_type": "stream",
     "text": [
      "Lowest distance for FL foot:  9.999996000020772e-05 0.0008042858000001374\n",
      "Number of contacts with less than 1cm distance:  4\n",
      "Percentage of edge contacts:  0.0851063829787234\n"
     ]
    }
   ],
   "source": [
    "print(\"Lowest distance for FL foot: \", np.min(real_edge_distances[fl_rr_swinging, 0]), np.min(predicted_edge_distances[fl_rr_swinging, 0]))\n",
    "print(\"Number of contacts with less than 1cm distance: \", len(np.where(real_edge_distances[fl_rr_swinging, 0] < 0.01)[0]))\n",
    "print(\"Percentage of edge contacts: \", len(np.where(real_edge_distances[fl_rr_swinging, 0] < 0.01)[0]) / len(real_edge_distances[fl_rr_swinging]))"
   ]
  },
  {
   "cell_type": "code",
   "execution_count": 105,
   "id": "b59071ca",
   "metadata": {},
   "outputs": [
    {
     "name": "stdout",
     "output_type": "stream",
     "text": [
      "Lowest distance for FR foot:  0.0017485714400000685 0.00027285708000013287\n",
      "Number of contacts with less than 1cm distance:  2\n",
      "Percentage of edge contacts:  0.0425531914893617\n"
     ]
    }
   ],
   "source": [
    "print(\"Lowest distance for FR foot: \", np.min(real_edge_distances[fr_rl_swinging, 1]), np.min(predicted_edge_distances[fr_rl_swinging, 1]))\n",
    "print(\"Number of contacts with less than 1cm distance: \", len(np.where(real_edge_distances[fr_rl_swinging, 1] < 0.01)[0]))\n",
    "print(\"Percentage of edge contacts: \", len(np.where(real_edge_distances[fr_rl_swinging, 1] < 0.01)[0]) / len(real_edge_distances[fr_rl_swinging]))"
   ]
  },
  {
   "cell_type": "code",
   "execution_count": 106,
   "id": "1e6ca0bb",
   "metadata": {},
   "outputs": [
    {
     "name": "stdout",
     "output_type": "stream",
     "text": [
      "Lowest distance for RL foot:  0.0036257144400000385 0.01648428555999981\n",
      "Number of contacts with less than 1cm distance:  3\n",
      "Percentage of edge contacts:  0.06382978723404255\n"
     ]
    }
   ],
   "source": [
    "print(\"Lowest distance for RL foot: \", np.min(real_edge_distances[fr_rl_swinging, 2]), np.min(predicted_edge_distances[fr_rl_swinging, 2]))\n",
    "print(\"Number of contacts with less than 1cm distance: \", len(np.where(real_edge_distances[fr_rl_swinging, 2] < 0.01)[0]))\n",
    "print(\"Percentage of edge contacts: \", len(np.where(real_edge_distances[fr_rl_swinging, 2] < 0.01)[0]) / len(real_edge_distances[fr_rl_swinging]))"
   ]
  },
  {
   "cell_type": "code",
   "execution_count": 107,
   "id": "33acef4d",
   "metadata": {},
   "outputs": [
    {
     "name": "stdout",
     "output_type": "stream",
     "text": [
      "Lowest distance for RR foot:  0.00040857132000038376 0.0005685712800005405\n",
      "Number of contacts with less than 1cm distance:  4\n",
      "Percentage of edge contacts:  0.0851063829787234\n"
     ]
    }
   ],
   "source": [
    "print(\"Lowest distance for RR foot: \", np.min(real_edge_distances[fl_rr_swinging, 3]), np.min(predicted_edge_distances[fl_rr_swinging, 3]))\n",
    "print(\"Number of contacts with less than 1cm distance: \", len(np.where(real_edge_distances[fl_rr_swinging, 3] < 0.01)[0]))\n",
    "print(\"Percentage of edge contacts: \", len(np.where(real_edge_distances[fl_rr_swinging, 3] < 0.01)[0]) / len(real_edge_distances[fl_rr_swinging]))"
   ]
  },
  {
   "cell_type": "markdown",
   "id": "c80227de",
   "metadata": {},
   "source": [
    "## Velocities"
   ]
  },
  {
   "cell_type": "code",
   "execution_count": 108,
   "id": "7f7af0cd",
   "metadata": {},
   "outputs": [
    {
     "name": "stdout",
     "output_type": "stream",
     "text": [
      "Velocities commanded:  {0.9, 0.7, 0.6, 0.8, 0.4}\n"
     ]
    }
   ],
   "source": [
    "print(\"Velocities commanded: \", set(data[:, -1]))"
   ]
  },
  {
   "cell_type": "code",
   "execution_count": null,
   "id": "b69e60b5",
   "metadata": {},
   "outputs": [],
   "source": []
  }
 ],
 "metadata": {
  "kernelspec": {
   "display_name": "Python 3",
   "language": "python",
   "name": "python3"
  },
  "language_info": {
   "codemirror_mode": {
    "name": "ipython",
    "version": 3
   },
   "file_extension": ".py",
   "mimetype": "text/x-python",
   "name": "python",
   "nbconvert_exporter": "python",
   "pygments_lexer": "ipython3",
   "version": "3.6.12"
  }
 },
 "nbformat": 4,
 "nbformat_minor": 5
}
