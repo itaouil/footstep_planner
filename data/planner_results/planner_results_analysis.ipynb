{
 "cells": [
  {
   "cell_type": "code",
   "execution_count": 115,
   "id": "0f79b4a8",
   "metadata": {},
   "outputs": [],
   "source": [
    "# Imports\n",
    "import numpy as np\n",
    "from collections import Counter"
   ]
  },
  {
   "cell_type": "code",
   "execution_count": 140,
   "id": "ee949937",
   "metadata": {},
   "outputs": [],
   "source": [
    "# Load file\n",
    "data = np.genfromtxt(\"./scenario3/run2.txt\", delimiter=\",\")"
   ]
  },
  {
   "cell_type": "markdown",
   "id": "41fdf1b4",
   "metadata": {},
   "source": [
    "## CoM"
   ]
  },
  {
   "cell_type": "code",
   "execution_count": 141,
   "id": "ec881ff7",
   "metadata": {},
   "outputs": [],
   "source": [
    "# CoM error between prediction and real\n",
    "real_com = data[:, :2]\n",
    "predicted_com = data[:, 2:4]"
   ]
  },
  {
   "cell_type": "code",
   "execution_count": 142,
   "id": "5a7d9be0",
   "metadata": {},
   "outputs": [],
   "source": [
    "com_diff = np.abs(real_com - predicted_com)"
   ]
  },
  {
   "cell_type": "code",
   "execution_count": 143,
   "id": "eb901549",
   "metadata": {},
   "outputs": [
    {
     "name": "stdout",
     "output_type": "stream",
     "text": [
      "Highest error between real and predicted com:  0.0693100000000002 0.0812489\n",
      "Lowest error between real and predicted com:  0.0008650000000000047 0.0003963000000000022\n",
      "Average error between real and predicted com:  0.030847935802469147 0.01943404401358025\n"
     ]
    }
   ],
   "source": [
    "print(\"Highest error between real and predicted com: \", np.max(com_diff[:, 0]), np.max(com_diff[:, 1]))\n",
    "print(\"Lowest error between real and predicted com: \", np.min(com_diff[:, 0]), np.min(com_diff[:, 1]))\n",
    "print(\"Average error between real and predicted com: \", np.mean(com_diff[:, 0]), np.mean(com_diff[:, 1]))"
   ]
  },
  {
   "cell_type": "markdown",
   "id": "a821975d",
   "metadata": {},
   "source": [
    "## Footsteps"
   ]
  },
  {
   "cell_type": "code",
   "execution_count": 144,
   "id": "27dff91e",
   "metadata": {},
   "outputs": [],
   "source": [
    "footsteps_diff = np.abs(data[:, 4:12] - data[:, 12:20])\n",
    "new_idxs = np.delete(np.where(footsteps_diff[:, 0] >= 0.0)[0], np.where(footsteps_diff[:, 0] > 0.04)[0])\n",
    "footsteps_diff = footsteps_diff[new_idxs, :]"
   ]
  },
  {
   "cell_type": "code",
   "execution_count": 145,
   "id": "c1f9770f",
   "metadata": {},
   "outputs": [],
   "source": [
    "real_footsteps = data[new_idxs, 4:12]\n",
    "predicted_footsteps = data[new_idxs, 12:20]"
   ]
  },
  {
   "cell_type": "code",
   "execution_count": 146,
   "id": "1d961e97",
   "metadata": {},
   "outputs": [
    {
     "name": "stdout",
     "output_type": "stream",
     "text": [
      "(36,)\n",
      "(39,)\n"
     ]
    }
   ],
   "source": [
    "# Swinging booleans\n",
    "fr_rl_swinging = np.where(real_footsteps[:, 2] > real_footsteps[:, 0])[0]\n",
    "fl_rr_swinging = np.where(real_footsteps[:, 0] > real_footsteps[:, 2])[0]\n",
    "print(fr_rl_swinging.shape)\n",
    "print(fl_rr_swinging.shape)"
   ]
  },
  {
   "cell_type": "code",
   "execution_count": 147,
   "id": "39ea4ca2",
   "metadata": {},
   "outputs": [
    {
     "data": {
      "text/plain": [
       "(75,)"
      ]
     },
     "execution_count": 147,
     "metadata": {},
     "output_type": "execute_result"
    }
   ],
   "source": [
    "new_idxs.shape"
   ]
  },
  {
   "cell_type": "code",
   "execution_count": 148,
   "id": "0753ebc2",
   "metadata": {},
   "outputs": [
    {
     "name": "stdout",
     "output_type": "stream",
     "text": [
      "Highest error for FL foot:  0.02273999999999976 0.050692000000000015\n",
      "Lowest error for FL foot:  0.000140000000000029 0.00010400000000000686\n",
      "Average error for FL foot:  0.006029487179487267 0.012130610256410258\n"
     ]
    }
   ],
   "source": [
    "print(\"Highest error for FL foot: \", np.max(footsteps_diff[fl_rr_swinging, 0]), np.max(footsteps_diff[fl_rr_swinging, 1]))\n",
    "print(\"Lowest error for FL foot: \", np.min(footsteps_diff[fl_rr_swinging, 0]), np.min(footsteps_diff[fl_rr_swinging, 1]))\n",
    "print(\"Average error for FL foot: \", np.mean(footsteps_diff[fl_rr_swinging, 0]), np.mean(footsteps_diff[fl_rr_swinging, 1]))"
   ]
  },
  {
   "cell_type": "code",
   "execution_count": 149,
   "id": "a9e5c3f8",
   "metadata": {},
   "outputs": [
    {
     "name": "stdout",
     "output_type": "stream",
     "text": [
      "Highest error for FR foot:  0.016750000000000043 0.0743\n",
      "Lowest error for FR foot:  0.0003750000000000142 6.80000000000125e-05\n",
      "Average error for FR foot:  0.01056261111111116 0.012512805555555555\n"
     ]
    }
   ],
   "source": [
    "print(\"Highest error for FR foot: \", np.max(footsteps_diff[fl_rr_swinging, 2]), np.max(footsteps_diff[fr_rl_swinging, 3]))\n",
    "print(\"Lowest error for FR foot: \", np.min(footsteps_diff[fr_rl_swinging, 2]), np.min(footsteps_diff[fr_rl_swinging, 3]))\n",
    "print(\"Average error for FR foot: \", np.mean(footsteps_diff[fr_rl_swinging, 2]), np.mean(footsteps_diff[fr_rl_swinging, 3]))"
   ]
  },
  {
   "cell_type": "code",
   "execution_count": 150,
   "id": "7c2e0d01",
   "metadata": {},
   "outputs": [
    {
     "name": "stdout",
     "output_type": "stream",
     "text": [
      "Highest error for RL foot:  0.03404000000000007 0.038439299999999996\n",
      "Lowest error for RL foot:  0.000580000000000247 0.0009479999999999905\n",
      "Average error for RL foot:  0.009947786111111145 0.011232169444444445\n"
     ]
    }
   ],
   "source": [
    "print(\"Highest error for RL foot: \", np.max(footsteps_diff[fr_rl_swinging, 4]), np.max(footsteps_diff[fr_rl_swinging, 5]))\n",
    "print(\"Lowest error for RL foot: \", np.min(footsteps_diff[fr_rl_swinging, 4]), np.min(footsteps_diff[fr_rl_swinging, 5]))\n",
    "print(\"Average error for RL foot: \", np.mean(footsteps_diff[fr_rl_swinging, 4]), np.mean(footsteps_diff[fr_rl_swinging, 5]))"
   ]
  },
  {
   "cell_type": "code",
   "execution_count": 151,
   "id": "0ecbecc1",
   "metadata": {},
   "outputs": [
    {
     "name": "stdout",
     "output_type": "stream",
     "text": [
      "Highest error for RR foot:  0.020412000000000097 0.04541399999999998\n",
      "Lowest error for RR foot:  8.00000000005241e-05 0.0002479999999999982\n",
      "Average error for RR foot:  0.00620888205128207 0.012691333333333334\n"
     ]
    }
   ],
   "source": [
    "print(\"Highest error for RR foot: \", np.max(footsteps_diff[fl_rr_swinging, 6]), np.max(footsteps_diff[fl_rr_swinging, 7]))\n",
    "print(\"Lowest error for RR foot: \", np.min(footsteps_diff[fl_rr_swinging, 6]), np.min(footsteps_diff[fl_rr_swinging, 7]))\n",
    "print(\"Average error for RR foot: \", np.mean(footsteps_diff[fl_rr_swinging, 6]), np.mean(footsteps_diff[fl_rr_swinging, 7]))"
   ]
  },
  {
   "cell_type": "markdown",
   "id": "74214907",
   "metadata": {},
   "source": [
    "## Edges"
   ]
  },
  {
   "cell_type": "code",
   "execution_count": 152,
   "id": "7b7cf7df",
   "metadata": {},
   "outputs": [],
   "source": [
    "# X coordinates of the obstaces edge\n",
    "stairs = 13\n",
    "depth = 3/stairs\n",
    "edges_up = [1 + depth * x for x in range(stairs)] \n",
    "edges_down = [(edges_up[-1] + 2 * depth) + depth * x for x in range(stairs)]\n",
    "edges = edges_up + edges_down"
   ]
  },
  {
   "cell_type": "code",
   "execution_count": 153,
   "id": "6f7bedf6",
   "metadata": {},
   "outputs": [],
   "source": [
    "def find_nearest(array, value):\n",
    "    array = np.asarray(array)\n",
    "    idx = (np.abs(array - value)).argmin()\n",
    "    return array[idx]"
   ]
  },
  {
   "cell_type": "code",
   "execution_count": 154,
   "id": "bf1665c7",
   "metadata": {},
   "outputs": [],
   "source": [
    "# Compute minimum distance from any obstacle\n",
    "def get_min_edge_distances(footsteps_dataset):\n",
    "    min_edge_distances = []\n",
    "    for footstep in footsteps_dataset:\n",
    "        temp = []\n",
    "        for idx in range(len(footstep)):\n",
    "            if idx in [0, 2, 4, 6]:\n",
    "                temp.append(find_nearest(edges, footstep[idx]))\n",
    "        min_edge_distances.append(temp)\n",
    "        \n",
    "    return np.array(min_edge_distances)"
   ]
  },
  {
   "cell_type": "code",
   "execution_count": 155,
   "id": "fa3c49a7",
   "metadata": {},
   "outputs": [],
   "source": [
    "real_edge_distances = np.abs(real_footsteps[:, ::2] - get_min_edge_distances(real_footsteps))\n",
    "predicted_edge_distances = np.abs(predicted_footsteps[:, ::2] - get_min_edge_distances(predicted_footsteps))"
   ]
  },
  {
   "cell_type": "code",
   "execution_count": 156,
   "id": "0d03d298",
   "metadata": {},
   "outputs": [],
   "source": [
    "min_distance = 0.015"
   ]
  },
  {
   "cell_type": "code",
   "execution_count": 157,
   "id": "78efeffd",
   "metadata": {},
   "outputs": [
    {
     "name": "stdout",
     "output_type": "stream",
     "text": [
      "Lowest distance for FL foot:  0.038866923076922966 0.0400915384615379\n",
      "Number of contacts with less than 0.015 distance:  0\n"
     ]
    }
   ],
   "source": [
    "print(\"Lowest distance for FL foot: \", np.min(real_edge_distances[fl_rr_swinging, 0]), np.min(predicted_edge_distances[fl_rr_swinging, 0]))\n",
    "print(f\"Number of contacts with less than {min_distance} distance: \", len(np.where(real_edge_distances[fl_rr_swinging, 0] < min_distance)[0]))"
   ]
  },
  {
   "cell_type": "code",
   "execution_count": 158,
   "id": "af89f35d",
   "metadata": {},
   "outputs": [
    {
     "name": "stdout",
     "output_type": "stream",
     "text": [
      "Lowest distance for FR foot:  0.027540769230769868 0.043130769230770305\n",
      "Number of contacts with less than 0.015 distance:  0\n"
     ]
    }
   ],
   "source": [
    "print(\"Lowest distance for FR foot: \", np.min(real_edge_distances[fr_rl_swinging, 1]), np.min(predicted_edge_distances[fr_rl_swinging, 1]))\n",
    "print(f\"Number of contacts with less than {min_distance} distance: \", len(np.where(real_edge_distances[fr_rl_swinging, 1] < min_distance)[0]))"
   ]
  },
  {
   "cell_type": "code",
   "execution_count": 159,
   "id": "9039e2cf",
   "metadata": {},
   "outputs": [
    {
     "name": "stdout",
     "output_type": "stream",
     "text": [
      "Lowest distance for RL foot:  0.03162615384615375 0.048366153846153725\n",
      "Number of contacts with less than 0.015 distance:  0\n"
     ]
    }
   ],
   "source": [
    "print(\"Lowest distance for RL foot: \", np.min(real_edge_distances[fr_rl_swinging, 2]), np.min(predicted_edge_distances[fr_rl_swinging, 2]))\n",
    "print(f\"Number of contacts with less than {min_distance} distance: \", len(np.where(real_edge_distances[fr_rl_swinging, 2] < min_distance)[0]))"
   ]
  },
  {
   "cell_type": "code",
   "execution_count": 160,
   "id": "1baf7f7c",
   "metadata": {},
   "outputs": [
    {
     "name": "stdout",
     "output_type": "stream",
     "text": [
      "Lowest distance for RR foot:  0.045667692307691965 0.051637692307691996\n",
      "Number of contacts with less than 0.015 distance:  0\n"
     ]
    }
   ],
   "source": [
    "print(\"Lowest distance for RR foot: \", np.min(real_edge_distances[fl_rr_swinging, 3]), np.min(predicted_edge_distances[fl_rr_swinging, 3]))\n",
    "print(f\"Number of contacts with less than {min_distance} distance: \", len(np.where(real_edge_distances[fl_rr_swinging, 3] < min_distance)[0]))"
   ]
  },
  {
   "cell_type": "markdown",
   "id": "30231583",
   "metadata": {},
   "source": [
    "## Velocities"
   ]
  },
  {
   "cell_type": "code",
   "execution_count": 165,
   "id": "64cd5e5e",
   "metadata": {},
   "outputs": [
    {
     "name": "stdout",
     "output_type": "stream",
     "text": [
      "Velocities commanded:  {0.9, 0.8, 0.3, 0.5, 0.4, 0.7}\n"
     ]
    }
   ],
   "source": [
    "print(\"Velocities commanded: \", set(data[:, -1]))"
   ]
  },
  {
   "cell_type": "code",
   "execution_count": 166,
   "id": "fc9a5cdc",
   "metadata": {},
   "outputs": [
    {
     "name": "stdout",
     "output_type": "stream",
     "text": [
      "Cound of velocities:  Counter({0.9: 66, 0.4: 6, 0.3: 4, 0.5: 3, 0.8: 1, 0.7: 1})\n"
     ]
    }
   ],
   "source": [
    "print(\"Cound of velocities: \", Counter(data[:, -1]))"
   ]
  }
 ],
 "metadata": {
  "kernelspec": {
   "display_name": "Python 3",
   "language": "python",
   "name": "python3"
  },
  "language_info": {
   "codemirror_mode": {
    "name": "ipython",
    "version": 3
   },
   "file_extension": ".py",
   "mimetype": "text/x-python",
   "name": "python",
   "nbconvert_exporter": "python",
   "pygments_lexer": "ipython3",
   "version": "3.6.12"
  }
 },
 "nbformat": 4,
 "nbformat_minor": 5
}
