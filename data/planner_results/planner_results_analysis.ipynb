{
 "cells": [
  {
   "cell_type": "code",
   "execution_count": 98,
   "id": "450afb2a",
   "metadata": {},
   "outputs": [],
   "source": [
    "# Imports\n",
    "import numpy as np\n",
    "from collections import Counter\n",
    "from matplotlib import pyplot as plt"
   ]
  },
  {
   "cell_type": "code",
   "execution_count": 391,
   "id": "8219f4d4",
   "metadata": {},
   "outputs": [],
   "source": [
    "# Load file\n",
    "data = np.genfromtxt(\"./parkour2/1.txt\", delimiter=\",\")"
   ]
  },
  {
   "cell_type": "code",
   "execution_count": 392,
   "id": "daa242bf",
   "metadata": {},
   "outputs": [
    {
     "data": {
      "text/plain": [
       "7"
      ]
     },
     "execution_count": 392,
     "metadata": {},
     "output_type": "execute_result"
    }
   ],
   "source": [
    "len(data)"
   ]
  },
  {
   "cell_type": "markdown",
   "id": "52c4cbe7",
   "metadata": {},
   "source": [
    "## CoM"
   ]
  },
  {
   "cell_type": "code",
   "execution_count": 336,
   "id": "8e42a432",
   "metadata": {},
   "outputs": [],
   "source": [
    "# CoM error between prediction and real\n",
    "real_com = data[:, :2]\n",
    "predicted_com = data[:, 2:4]"
   ]
  },
  {
   "cell_type": "code",
   "execution_count": 337,
   "id": "52a1ee65",
   "metadata": {},
   "outputs": [],
   "source": [
    "com_diff = np.abs(real_com - predicted_com)"
   ]
  },
  {
   "cell_type": "code",
   "execution_count": 338,
   "id": "8ee26fa4",
   "metadata": {},
   "outputs": [
    {
     "name": "stdout",
     "output_type": "stream",
     "text": [
      "Highest error between real and predicted com:  0.1099329 0.03476549\n",
      "Lowest error between real and predicted com:  2.2999999999995246e-05 0.00020878999999999863\n",
      "Average error between real and predicted com:  0.053821389677419354 0.006037618580645161\n"
     ]
    }
   ],
   "source": [
    "print(\"Highest error between real and predicted com: \", np.max(com_diff[:, 0]), np.max(com_diff[:, 1]))\n",
    "print(\"Lowest error between real and predicted com: \", np.min(com_diff[:, 0]), np.min(com_diff[:, 1]))\n",
    "print(\"Average error between real and predicted com: \", np.mean(com_diff[:, 0]), np.mean(com_diff[:, 1]))"
   ]
  },
  {
   "cell_type": "markdown",
   "id": "5a09c552",
   "metadata": {},
   "source": [
    "## Footsteps"
   ]
  },
  {
   "cell_type": "code",
   "execution_count": 311,
   "id": "38a893e6",
   "metadata": {},
   "outputs": [],
   "source": [
    "# Adjust footsetp symmetry\n",
    "for x in range(len(data)):\n",
    "    if (data[x, 4] > data[x, 6]) != (data[x, 12] > data[x, 14]):\n",
    "        data[x, 4], data[x, 6] = data[x, 6], data[x, 4]\n",
    "        data[x, 8], data[x, 10] = data[x, 10], data[x, 8]"
   ]
  },
  {
   "cell_type": "code",
   "execution_count": 393,
   "id": "9e2de945",
   "metadata": {},
   "outputs": [],
   "source": [
    "footsteps_diff = np.abs(data[:, 4:12] - data[:, 12:20])"
   ]
  },
  {
   "cell_type": "code",
   "execution_count": 394,
   "id": "287dcffd",
   "metadata": {},
   "outputs": [],
   "source": [
    "real_footsteps = data[:, 4:12]\n",
    "predicted_footsteps = data[:, 12:20]"
   ]
  },
  {
   "cell_type": "code",
   "execution_count": 395,
   "id": "68ddefce",
   "metadata": {},
   "outputs": [],
   "source": [
    "fl_rr_swinging = []\n",
    "fr_rl_swinging = []\n",
    "\n",
    "for x in range(1, len(data)):\n",
    "    if (real_footsteps[x, 0]-real_com[x, 0]) > (real_footsteps[x-1, 0]-real_com[x-1, 0]):\n",
    "        fl_rr_swinging.append(x)\n",
    "    else:\n",
    "        fr_rl_swinging.append(x)\n",
    "\n",
    "fl_rr_swinging = np.asarray(fl_rr_swinging)\n",
    "fr_rl_swinging = np.asarray(fr_rl_swinging)"
   ]
  },
  {
   "cell_type": "code",
   "execution_count": 396,
   "id": "e9176ec7",
   "metadata": {},
   "outputs": [
    {
     "name": "stdout",
     "output_type": "stream",
     "text": [
      "(3,)\n",
      "(3,)\n"
     ]
    }
   ],
   "source": [
    "print(fr_rl_swinging.shape)\n",
    "print(fl_rr_swinging.shape)"
   ]
  },
  {
   "cell_type": "code",
   "execution_count": 397,
   "id": "b28e165a",
   "metadata": {},
   "outputs": [
    {
     "name": "stdout",
     "output_type": "stream",
     "text": [
      "Highest error for FL foot:  0.21308300000000002 0.008714\n",
      "Lowest error for FL foot:  0.0062429999999999986 0.004185999999999995\n",
      "Average error for FL foot:  0.10893266666666668 0.0058569999999999916\n"
     ]
    }
   ],
   "source": [
    "print(\"Highest error for FL foot: \", np.max(footsteps_diff[fl_rr_swinging, 0]), np.max(footsteps_diff[fl_rr_swinging, 1]))\n",
    "print(\"Lowest error for FL foot: \", np.min(footsteps_diff[fl_rr_swinging, 0]), np.min(footsteps_diff[fl_rr_swinging, 1]))\n",
    "print(\"Average error for FL foot: \", np.mean(footsteps_diff[fl_rr_swinging, 0]), np.mean(footsteps_diff[fl_rr_swinging, 1]))"
   ]
  },
  {
   "cell_type": "code",
   "execution_count": 398,
   "id": "4b3a8ac5",
   "metadata": {},
   "outputs": [
    {
     "name": "stdout",
     "output_type": "stream",
     "text": [
      "Highest error for FR foot:  0.007624999999999993 0.018951999999999997\n",
      "Lowest error for FR foot:  0.04292699999999994 0.005544999999999994\n",
      "Average error for FR foot:  0.11678733333333324 0.010765666666666665\n"
     ]
    }
   ],
   "source": [
    "print(\"Highest error for FR foot: \", np.max(footsteps_diff[fl_rr_swinging, 2]), np.max(footsteps_diff[fr_rl_swinging, 3]))\n",
    "print(\"Lowest error for FR foot: \", np.min(footsteps_diff[fr_rl_swinging, 2]), np.min(footsteps_diff[fr_rl_swinging, 3]))\n",
    "print(\"Average error for FR foot: \", np.mean(footsteps_diff[fr_rl_swinging, 2]), np.mean(footsteps_diff[fr_rl_swinging, 3]))"
   ]
  },
  {
   "cell_type": "code",
   "execution_count": 399,
   "id": "ce79c089",
   "metadata": {},
   "outputs": [
    {
     "name": "stdout",
     "output_type": "stream",
     "text": [
      "Highest error for RL foot:  0.213403 0.018342999999999998\n",
      "Lowest error for RL foot:  0.04849300000000001 0.010265999999999997\n",
      "Average error for RL foot:  0.11577156666666667 0.014841000000000002\n"
     ]
    }
   ],
   "source": [
    "print(\"Highest error for RL foot: \", np.max(footsteps_diff[fr_rl_swinging, 4]), np.max(footsteps_diff[fr_rl_swinging, 5]))\n",
    "print(\"Lowest error for RL foot: \", np.min(footsteps_diff[fr_rl_swinging, 4]), np.min(footsteps_diff[fr_rl_swinging, 5]))\n",
    "print(\"Average error for RL foot: \", np.mean(footsteps_diff[fr_rl_swinging, 4]), np.mean(footsteps_diff[fr_rl_swinging, 5]))"
   ]
  },
  {
   "cell_type": "code",
   "execution_count": 400,
   "id": "6cadc68a",
   "metadata": {},
   "outputs": [
    {
     "name": "stdout",
     "output_type": "stream",
     "text": [
      "Highest error for RR foot:  0.2093749 0.005350999999999995\n",
      "Lowest error for RR foot:  0.00930261 0.0019720000000000015\n",
      "Average error for RR foot:  0.11246183666666665 0.0032056666666666622\n"
     ]
    }
   ],
   "source": [
    "print(\"Highest error for RR foot: \", np.max(footsteps_diff[fl_rr_swinging, 6]), np.max(footsteps_diff[fl_rr_swinging, 7]))\n",
    "print(\"Lowest error for RR foot: \", np.min(footsteps_diff[fl_rr_swinging, 6]), np.min(footsteps_diff[fl_rr_swinging, 7]))\n",
    "print(\"Average error for RR foot: \", np.mean(footsteps_diff[fl_rr_swinging, 6]), np.mean(footsteps_diff[fl_rr_swinging, 7]))"
   ]
  },
  {
   "cell_type": "code",
   "execution_count": 401,
   "id": "01308ba1",
   "metadata": {},
   "outputs": [
    {
     "data": {
      "text/plain": [
       "0.1134883508333333"
      ]
     },
     "execution_count": 401,
     "metadata": {},
     "output_type": "execute_result"
    }
   ],
   "source": [
    "np.mean([np.mean(footsteps_diff[fl_rr_swinging, 0]), np.mean(footsteps_diff[fr_rl_swinging, 2]), np.mean(footsteps_diff[fr_rl_swinging, 4]), np.mean(footsteps_diff[fl_rr_swinging, 6])])"
   ]
  },
  {
   "cell_type": "code",
   "execution_count": 402,
   "id": "3b8fda7b",
   "metadata": {},
   "outputs": [
    {
     "data": {
      "text/plain": [
       "0.00866733333333333"
      ]
     },
     "execution_count": 402,
     "metadata": {},
     "output_type": "execute_result"
    }
   ],
   "source": [
    "np.mean([np.mean(footsteps_diff[fl_rr_swinging, 1]), np.mean(footsteps_diff[fr_rl_swinging, 3]), np.mean(footsteps_diff[fr_rl_swinging, 5]), np.mean(footsteps_diff[fl_rr_swinging, 7])])"
   ]
  },
  {
   "cell_type": "markdown",
   "id": "3ee934cf",
   "metadata": {},
   "source": [
    "## Edges"
   ]
  },
  {
   "cell_type": "code",
   "execution_count": 403,
   "id": "7de1f48d",
   "metadata": {},
   "outputs": [],
   "source": [
    "# X coordinates of the obstaces edge\n",
    "stairs = 12\n",
    "depth = 3/stairs\n",
    "edges_up = [1 + depth * x for x in range(stairs)] \n",
    "edges_down = [(edges_up[-1] + 2 * depth + 1) + depth * x for x in range(stairs)]\n",
    "edges = edges_up + edges_down"
   ]
  },
  {
   "cell_type": "code",
   "execution_count": 404,
   "id": "92381f02",
   "metadata": {},
   "outputs": [],
   "source": [
    "# X coordinates of the obstaces parkour1\n",
    "edges = [1, 1.08, 2.04, 2.128, 3.088, 3.16, 4.12, 4.19, 5.15, 5.24]"
   ]
  },
  {
   "cell_type": "code",
   "execution_count": 405,
   "id": "9b5cf668",
   "metadata": {},
   "outputs": [
    {
     "data": {
      "text/plain": [
       "array([0.08 , 0.96 , 0.088, 0.96 , 0.072, 0.96 , 0.07 , 0.96 , 0.09 ])"
      ]
     },
     "execution_count": 405,
     "metadata": {},
     "output_type": "execute_result"
    }
   ],
   "source": [
    "np.diff(edges)"
   ]
  },
  {
   "cell_type": "code",
   "execution_count": 406,
   "id": "ca592f09",
   "metadata": {},
   "outputs": [],
   "source": [
    "# X coordinates for the obstacles parkour2\n",
    "poses = [1.234, 1.556, 1.827, 2.103, 2.355, 2.615, 2.892, 3.113, 3.37, 3.56, 3.76, 4.027, 4.28, 4.89]\n",
    "sizes = [0.1325, 0.1325, 0.0735, 0.1325, 0.0735, 0.1325, 0.0735, 0.1325, 0.0735, 0.0735, 0.0735, 0.1325, 0.0735, 0.48]\n",
    "\n",
    "edges = [1.036]\n",
    "for x in range(len(poses)):\n",
    "    edges.append(poses[x] - sizes[x])\n",
    "    edges.append(poses[x] + sizes[x])"
   ]
  },
  {
   "cell_type": "code",
   "execution_count": 407,
   "id": "7460ca86",
   "metadata": {},
   "outputs": [
    {
     "data": {
      "text/plain": [
       "array([0.0655, 0.057 , 0.065 , 0.07  , 0.046 , 0.054 , 0.071 , 0.015 ,\n",
       "       0.051 , 0.043 , 0.053 , 0.061 , 0.047 , 0.0565])"
      ]
     },
     "execution_count": 407,
     "metadata": {},
     "output_type": "execute_result"
    }
   ],
   "source": [
    "np.diff(edges)[::2]"
   ]
  },
  {
   "cell_type": "code",
   "execution_count": 408,
   "id": "0c5fb2d6",
   "metadata": {},
   "outputs": [],
   "source": [
    "def find_nearest(array, value):\n",
    "    array = np.asarray(array)\n",
    "    idx = (np.abs(array - value)).argmin()\n",
    "    return array[idx]"
   ]
  },
  {
   "cell_type": "code",
   "execution_count": 409,
   "id": "5732365c",
   "metadata": {},
   "outputs": [],
   "source": [
    "# Compute minimum distance from any obstacle\n",
    "def get_min_edge_distances(footsteps_dataset):\n",
    "    min_edge_distances = []\n",
    "    for footstep in footsteps_dataset:\n",
    "        temp = []\n",
    "        for idx in range(len(footstep)):\n",
    "            if idx in [0, 2, 4, 6]:\n",
    "                temp.append(find_nearest(edges, footstep[idx]))\n",
    "        min_edge_distances.append(temp)\n",
    "        \n",
    "    return np.array(min_edge_distances)"
   ]
  },
  {
   "cell_type": "code",
   "execution_count": 410,
   "id": "d2b2fef1",
   "metadata": {},
   "outputs": [],
   "source": [
    "real_edge_distances = np.abs(real_footsteps[:, ::2] - get_min_edge_distances(real_footsteps))\n",
    "predicted_edge_distances = np.abs(predicted_footsteps[:, ::2] - get_min_edge_distances(predicted_footsteps))"
   ]
  },
  {
   "cell_type": "code",
   "execution_count": 411,
   "id": "77903f5e",
   "metadata": {},
   "outputs": [],
   "source": [
    "min_distance = 0.015"
   ]
  },
  {
   "cell_type": "code",
   "execution_count": 412,
   "id": "7e9a48a8",
   "metadata": {},
   "outputs": [
    {
     "name": "stdout",
     "output_type": "stream",
     "text": [
      "Lowest distance for FL foot:  0.025419999999999998 0.08205200000000001\n",
      "Number of contacts with less than 0.015 distance:  0\n"
     ]
    }
   ],
   "source": [
    "print(\"Lowest distance for FL foot: \", np.min(real_edge_distances[fl_rr_swinging, 0]), np.min(predicted_edge_distances[fl_rr_swinging, 0]))\n",
    "print(f\"Number of contacts with less than {min_distance} distance: \", len(np.where(real_edge_distances[fl_rr_swinging, 0] < min_distance)[0]))"
   ]
  },
  {
   "cell_type": "code",
   "execution_count": 413,
   "id": "b1d9a898",
   "metadata": {},
   "outputs": [
    {
     "name": "stdout",
     "output_type": "stream",
     "text": [
      "Lowest distance for FR foot:  0.10018100000000008 0.03527999999999998\n",
      "Number of contacts with less than 0.015 distance:  0\n"
     ]
    }
   ],
   "source": [
    "print(\"Lowest distance for FR foot: \", np.min(real_edge_distances[fr_rl_swinging, 1]), np.min(predicted_edge_distances[fr_rl_swinging, 1]))\n",
    "print(f\"Number of contacts with less than {min_distance} distance: \", len(np.where(real_edge_distances[fr_rl_swinging, 1] < min_distance)[0]))"
   ]
  },
  {
   "cell_type": "code",
   "execution_count": 414,
   "id": "b7f2b652",
   "metadata": {},
   "outputs": [
    {
     "name": "stdout",
     "output_type": "stream",
     "text": [
      "Lowest distance for RL foot:  0.296172 0.509575\n",
      "Number of contacts with less than 0.015 distance:  0\n"
     ]
    }
   ],
   "source": [
    "print(\"Lowest distance for RL foot: \", np.min(real_edge_distances[fr_rl_swinging, 2]), np.min(predicted_edge_distances[fr_rl_swinging, 2]))\n",
    "print(f\"Number of contacts with less than {min_distance} distance: \", len(np.where(real_edge_distances[fr_rl_swinging, 2] < min_distance)[0]))"
   ]
  },
  {
   "cell_type": "code",
   "execution_count": 415,
   "id": "f4676a5d",
   "metadata": {},
   "outputs": [
    {
     "name": "stdout",
     "output_type": "stream",
     "text": [
      "Lowest distance for RR foot:  0.43087600000000004 0.5495840000000001\n",
      "Number of contacts with less than 0.015 distance:  0\n"
     ]
    }
   ],
   "source": [
    "print(\"Lowest distance for RR foot: \", np.min(real_edge_distances[fl_rr_swinging, 3]), np.min(predicted_edge_distances[fl_rr_swinging, 3]))\n",
    "print(f\"Number of contacts with less than {min_distance} distance: \", len(np.where(real_edge_distances[fl_rr_swinging, 3] < min_distance)[0]))"
   ]
  },
  {
   "cell_type": "code",
   "execution_count": 416,
   "id": "5b91b5ef",
   "metadata": {},
   "outputs": [
    {
     "name": "stdout",
     "output_type": "stream",
     "text": [
      "Number of FL/RR:  3\n"
     ]
    }
   ],
   "source": [
    "print(\"Number of FL/RR: \", len(real_edge_distances[fl_rr_swinging, 0]))"
   ]
  },
  {
   "cell_type": "code",
   "execution_count": 417,
   "id": "52c5bc4f",
   "metadata": {},
   "outputs": [
    {
     "name": "stdout",
     "output_type": "stream",
     "text": [
      "Number of FR/RL:  3\n"
     ]
    }
   ],
   "source": [
    "print(\"Number of FR/RL: \", len(real_edge_distances[fr_rl_swinging, 0]))"
   ]
  },
  {
   "cell_type": "markdown",
   "id": "f45cfad3",
   "metadata": {},
   "source": [
    "## Velocities"
   ]
  },
  {
   "cell_type": "code",
   "execution_count": 129,
   "id": "7685ed50",
   "metadata": {},
   "outputs": [],
   "source": [
    "velocity_counter = Counter(data[:, -1])"
   ]
  },
  {
   "cell_type": "code",
   "execution_count": 28,
   "id": "443c1cae",
   "metadata": {},
   "outputs": [
    {
     "name": "stdout",
     "output_type": "stream",
     "text": [
      "Velocities commanded:  {0.5, 1.0, 0.1, 0.2, 0.4, 0.7, 0.3, 0.9, 0.8, 0.6}\n"
     ]
    }
   ],
   "source": [
    "print(\"Velocities commanded: \", set(data[:, -1]))"
   ]
  },
  {
   "cell_type": "code",
   "execution_count": 29,
   "id": "8f70a613",
   "metadata": {},
   "outputs": [
    {
     "name": "stdout",
     "output_type": "stream",
     "text": [
      "Cound of velocities:  Counter({1.0: 35, 0.1: 26, 0.2: 7, 0.4: 3, 0.7: 3, 0.8: 3, 0.5: 2, 0.3: 2, 0.9: 1, 0.6: 1})\n"
     ]
    }
   ],
   "source": [
    "print(\"Cound of velocities: \", velocity_counter)"
   ]
  },
  {
   "cell_type": "code",
   "execution_count": 30,
   "id": "5b2424fb",
   "metadata": {},
   "outputs": [
    {
     "data": {
      "text/plain": [
       "[<matplotlib.lines.Line2D at 0x7fb313548908>]"
      ]
     },
     "execution_count": 30,
     "metadata": {},
     "output_type": "execute_result"
    },
    {
     "data": {
      "image/png": "[encoded data removed]",
      "text/plain": [
       "<Figure size 432x288 with 1 Axes>"
      ]
     },
     "metadata": {
      "needs_background": "light"
     },
     "output_type": "display_data"
    }
   ],
   "source": [
    "plt.plot([x for x in range(len(data)//2)], data[:len(data)//2, -1])"
   ]
  },
  {
   "cell_type": "code",
   "execution_count": 119,
   "id": "18408ff5",
   "metadata": {},
   "outputs": [],
   "source": [
    "min_distance = 0.015"
   ]
  },
  {
   "cell_type": "code",
   "execution_count": 97,
   "id": "115aa803",
   "metadata": {},
   "outputs": [
    {
     "ename": "NameError",
     "evalue": "name 'distances' is not defined",
     "output_type": "error",
     "traceback": [
      "\u001b[0;31m---------------------------------------------------------------------------\u001b[0m",
      "\u001b[0;31mNameError\u001b[0m                                 Traceback (most recent call last)",
      "\u001b[0;32m<ipython-input-97-141e0b467773>\u001b[0m in \u001b[0;36m<module>\u001b[0;34m\u001b[0m\n\u001b[0;32m----> 1\u001b[0;31m \u001b[0mprint\u001b[0m\u001b[0;34m(\u001b[0m\u001b[0;34m\"Lowest distance for FL foot: \"\u001b[0m\u001b[0;34m,\u001b[0m \u001b[0mnp\u001b[0m\u001b[0;34m.\u001b[0m\u001b[0mmin\u001b[0m\u001b[0;34m(\u001b[0m\u001b[0mdistances\u001b[0m\u001b[0;34m[\u001b[0m\u001b[0;34m:\u001b[0m\u001b[0;34m,\u001b[0m \u001b[0;36m0\u001b[0m\u001b[0;34m]\u001b[0m\u001b[0;34m)\u001b[0m\u001b[0;34m)\u001b[0m\u001b[0;34m\u001b[0m\u001b[0;34m\u001b[0m\u001b[0m\n\u001b[0m\u001b[1;32m      2\u001b[0m \u001b[0mprint\u001b[0m\u001b[0;34m(\u001b[0m\u001b[0;34mf\"Number of contacts with less than {min_distance} distance: \"\u001b[0m\u001b[0;34m,\u001b[0m \u001b[0mlen\u001b[0m\u001b[0;34m(\u001b[0m\u001b[0mnp\u001b[0m\u001b[0;34m.\u001b[0m\u001b[0mwhere\u001b[0m\u001b[0;34m(\u001b[0m\u001b[0mdistances\u001b[0m\u001b[0;34m[\u001b[0m\u001b[0;34m:\u001b[0m\u001b[0;34m,\u001b[0m \u001b[0;36m0\u001b[0m\u001b[0;34m]\u001b[0m \u001b[0;34m<\u001b[0m \u001b[0mmin_distance\u001b[0m\u001b[0;34m)\u001b[0m\u001b[0;34m[\u001b[0m\u001b[0;36m0\u001b[0m\u001b[0;34m]\u001b[0m\u001b[0;34m)\u001b[0m\u001b[0;34m)\u001b[0m\u001b[0;34m\u001b[0m\u001b[0;34m\u001b[0m\u001b[0m\n",
      "\u001b[0;31mNameError\u001b[0m: name 'distances' is not defined"
     ]
    }
   ],
   "source": [
    "print(\"Lowest distance for FL foot: \", np.min(distances[:, 0]))\n",
    "print(f\"Number of contacts with less than {min_distance} distance: \", len(np.where(distances[:, 0] < min_distance)[0]))"
   ]
  },
  {
   "cell_type": "code",
   "execution_count": 37,
   "id": "8f672644",
   "metadata": {},
   "outputs": [
    {
     "name": "stdout",
     "output_type": "stream",
     "text": [
      "Lowest distance for FR foot:  0.0\n",
      "Number of contacts with less than 0.01 distance:  6\n"
     ]
    }
   ],
   "source": [
    "print(\"Lowest distance for FR foot: \", np.min(distances[:, 1]))\n",
    "print(f\"Number of contacts with less than {min_distance} distance: \", len(np.where(distances[:, 1] < min_distance)[0]))"
   ]
  },
  {
   "cell_type": "code",
   "execution_count": 38,
   "id": "3a4cbcd9",
   "metadata": {},
   "outputs": [
    {
     "name": "stdout",
     "output_type": "stream",
     "text": [
      "Lowest distance for RL foot:  0.0\n",
      "Number of contacts with less than 0.01 distance:  3\n"
     ]
    }
   ],
   "source": [
    "print(\"Lowest distance for RL foot: \", np.min(distances[:, 2]))\n",
    "print(f\"Number of contacts with less than {min_distance} distance: \", len(np.where(distances[:, 2] < min_distance)[0]))"
   ]
  },
  {
   "cell_type": "code",
   "execution_count": 39,
   "id": "00579056",
   "metadata": {},
   "outputs": [
    {
     "name": "stdout",
     "output_type": "stream",
     "text": [
      "Lowest distance for RR foot:  0.0191\n",
      "Number of contacts with less than 0.01 distance:  0\n"
     ]
    }
   ],
   "source": [
    "print(\"Lowest distance for RR foot: \", np.min(distances[:, 3]))\n",
    "print(f\"Number of contacts with less than {min_distance} distance: \", len(np.where(distances[:, 3] < min_distance)[0]))"
   ]
  },
  {
   "cell_type": "code",
   "execution_count": null,
   "id": "eb036f4b",
   "metadata": {},
   "outputs": [],
   "source": []
  }
 ],
 "metadata": {
  "kernelspec": {
   "display_name": "Python 3",
   "language": "python",
   "name": "python3"
  },
  "language_info": {
   "codemirror_mode": {
    "name": "ipython",
    "version": 3
   },
   "file_extension": ".py",
   "mimetype": "text/x-python",
   "name": "python",
   "nbconvert_exporter": "python",
   "pygments_lexer": "ipython3",
   "version": "3.6.12"
  }
 },
 "nbformat": 4,
 "nbformat_minor": 5
}
