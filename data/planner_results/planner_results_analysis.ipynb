{
 "cells": [
  {
   "cell_type": "code",
   "execution_count": 1,
   "id": "3ff8f5f0",
   "metadata": {},
   "outputs": [],
   "source": [
    "# Imports\n",
    "import numpy as np\n",
    "from collections import Counter\n",
    "from matplotlib import pyplot as plt"
   ]
  },
  {
   "cell_type": "code",
   "execution_count": 2,
   "id": "9cbfa758",
   "metadata": {},
   "outputs": [],
   "source": [
    "# Load file\n",
    "data = np.genfromtxt(\"./parkour2/run3.txt\", delimiter=\",\")\n",
    "distances = np.genfromtxt(\"./parkour2/run3_as.txt\", delimiter=\",\")"
   ]
  },
  {
   "cell_type": "markdown",
   "id": "7b24d3ab",
   "metadata": {},
   "source": [
    "## CoM"
   ]
  },
  {
   "cell_type": "code",
   "execution_count": 3,
   "id": "0c1f04e0",
   "metadata": {},
   "outputs": [],
   "source": [
    "# CoM error between prediction and real\n",
    "real_com = data[:, :2]\n",
    "predicted_com = data[:, 2:4]"
   ]
  },
  {
   "cell_type": "code",
   "execution_count": 4,
   "id": "2a88d10e",
   "metadata": {},
   "outputs": [],
   "source": [
    "com_diff = np.abs(real_com - predicted_com)"
   ]
  },
  {
   "cell_type": "code",
   "execution_count": 5,
   "id": "2b71c531",
   "metadata": {},
   "outputs": [
    {
     "name": "stdout",
     "output_type": "stream",
     "text": [
      "Highest error between real and predicted com:  0.08694000000000002 0.059224\n",
      "Lowest error between real and predicted com:  2.0000000000131024e-05 0.0003539000000000042\n",
      "Average error between real and predicted com:  0.01306738374999999 0.011051301125\n"
     ]
    }
   ],
   "source": [
    "print(\"Highest error between real and predicted com: \", np.max(com_diff[:, 0]), np.max(com_diff[:, 1]))\n",
    "print(\"Lowest error between real and predicted com: \", np.min(com_diff[:, 0]), np.min(com_diff[:, 1]))\n",
    "print(\"Average error between real and predicted com: \", np.mean(com_diff[:, 0]), np.mean(com_diff[:, 1]))"
   ]
  },
  {
   "cell_type": "markdown",
   "id": "55aed2f5",
   "metadata": {},
   "source": [
    "## Footsteps"
   ]
  },
  {
   "cell_type": "code",
   "execution_count": 6,
   "id": "1e4c18f1",
   "metadata": {},
   "outputs": [],
   "source": [
    "# Adjust footsetp symmetry\n",
    "for x in range(len(data)):\n",
    "    if (data[x, 4] > data[x, 6]) != (data[x, 12] > data[x, 14]):\n",
    "        data[x, 4], data[x, 6] = data[x, 6], data[x, 4]\n",
    "        data[x, 8], data[x, 10] = data[x, 10], data[x, 8]"
   ]
  },
  {
   "cell_type": "code",
   "execution_count": 7,
   "id": "eaca9d24",
   "metadata": {},
   "outputs": [
    {
     "data": {
      "text/plain": [
       "'\\ncount = 0\\nfor x in range(100):\\n    fig = plt.figure()\\n    ax1 = fig.add_subplot(111)\\n    \\n    if (data[x, 4] > data[x, 6]) != (data[x, 12] > data[x, 14]):\\n        data[x, 4], data[x, 6] = data[x, 6], data[x, 4]\\n        data[x, 8], data[x, 10] = data[x, 10], data[x, 8]\\n        print(\"Switched...\")\\n        \\n    ax1.scatter(data[x, 4:12:2], data[x, 5:12:2], marker=\\'o\\', label=\"Real Footsteps\")\\n    ax1.scatter(data[x, 12:20:2], data[x, 13:20:2], marker=\\'s\\', label=\"Predicted\")\\n    ax1.set_xlabel(\\'X\\')\\n    ax1.set_ylabel(\\'Y\\')\\n    plt.show()\\n\\nprint(\"Skipped: \", count)\\n'"
      ]
     },
     "execution_count": 7,
     "metadata": {},
     "output_type": "execute_result"
    }
   ],
   "source": [
    "\"\"\"\n",
    "count = 0\n",
    "for x in range(100):\n",
    "    fig = plt.figure()\n",
    "    ax1 = fig.add_subplot(111)\n",
    "    \n",
    "    if (data[x, 4] > data[x, 6]) != (data[x, 12] > data[x, 14]):\n",
    "        data[x, 4], data[x, 6] = data[x, 6], data[x, 4]\n",
    "        data[x, 8], data[x, 10] = data[x, 10], data[x, 8]\n",
    "        print(\"Switched...\")\n",
    "        \n",
    "    ax1.scatter(data[x, 4:12:2], data[x, 5:12:2], marker='o', label=\"Real Footsteps\")\n",
    "    ax1.scatter(data[x, 12:20:2], data[x, 13:20:2], marker='s', label=\"Predicted\")\n",
    "    ax1.set_xlabel('X')\n",
    "    ax1.set_ylabel('Y')\n",
    "    plt.show()\n",
    "\n",
    "print(\"Skipped: \", count)\n",
    "\"\"\""
   ]
  },
  {
   "cell_type": "code",
   "execution_count": 8,
   "id": "130a7f30",
   "metadata": {},
   "outputs": [],
   "source": [
    "footsteps_diff = np.abs(data[:, 4:12] - data[:, 12:20])\n",
    "#new_idxs = np.delete(np.where(footsteps_diff[:, 0] >= 0.0)[0], np.where(footsteps_diff[:, 0] > 0.04)[0])\n",
    "#footsteps_diff = footsteps_diff[new_idxs, :]"
   ]
  },
  {
   "cell_type": "code",
   "execution_count": 9,
   "id": "8d768b86",
   "metadata": {},
   "outputs": [
    {
     "data": {
      "text/plain": [
       "0.07625000000000015"
      ]
     },
     "execution_count": 9,
     "metadata": {},
     "output_type": "execute_result"
    }
   ],
   "source": [
    "max(footsteps_diff[:, 0])"
   ]
  },
  {
   "cell_type": "code",
   "execution_count": 10,
   "id": "5731422a",
   "metadata": {},
   "outputs": [],
   "source": [
    "real_footsteps = data[:, 4:12]\n",
    "predicted_footsteps = data[:, 12:20]"
   ]
  },
  {
   "cell_type": "code",
   "execution_count": 11,
   "id": "25541793",
   "metadata": {},
   "outputs": [
    {
     "name": "stdout",
     "output_type": "stream",
     "text": [
      "(47,)\n",
      "(33,)\n"
     ]
    }
   ],
   "source": [
    "# Swinging booleans\n",
    "fr_rl_swinging = np.where(real_footsteps[:, 2] > real_footsteps[:, 0])[0]\n",
    "fl_rr_swinging = np.where(real_footsteps[:, 0] > real_footsteps[:, 2])[0]\n",
    "print(fr_rl_swinging.shape)\n",
    "print(fl_rr_swinging.shape)"
   ]
  },
  {
   "cell_type": "code",
   "execution_count": 12,
   "id": "d7100afa",
   "metadata": {},
   "outputs": [
    {
     "name": "stdout",
     "output_type": "stream",
     "text": [
      "Highest error for FL foot:  0.07625000000000015 0.02207199999999998\n",
      "Lowest error for FL foot:  0.00046999999999997044 4.000000000004e-06\n",
      "Average error for FL foot:  0.011195575757575729 0.006483212121212124\n"
     ]
    }
   ],
   "source": [
    "print(\"Highest error for FL foot: \", np.max(footsteps_diff[fl_rr_swinging, 0]), np.max(footsteps_diff[fl_rr_swinging, 1]))\n",
    "print(\"Lowest error for FL foot: \", np.min(footsteps_diff[fl_rr_swinging, 0]), np.min(footsteps_diff[fl_rr_swinging, 1]))\n",
    "print(\"Average error for FL foot: \", np.mean(footsteps_diff[fl_rr_swinging, 0]), np.mean(footsteps_diff[fl_rr_swinging, 1]))"
   ]
  },
  {
   "cell_type": "code",
   "execution_count": 13,
   "id": "350c069a",
   "metadata": {},
   "outputs": [
    {
     "name": "stdout",
     "output_type": "stream",
     "text": [
      "Highest error for FR foot:  0.023840000000000305 0.0685649\n",
      "Lowest error for FR foot:  4.999999999988347e-05 2.3499999999995747e-05\n",
      "Average error for FR foot:  0.008497042553191522 0.010634238297872339\n"
     ]
    }
   ],
   "source": [
    "print(\"Highest error for FR foot: \", np.max(footsteps_diff[fl_rr_swinging, 2]), np.max(footsteps_diff[fr_rl_swinging, 3]))\n",
    "print(\"Lowest error for FR foot: \", np.min(footsteps_diff[fr_rl_swinging, 2]), np.min(footsteps_diff[fr_rl_swinging, 3]))\n",
    "print(\"Average error for FR foot: \", np.mean(footsteps_diff[fr_rl_swinging, 2]), np.mean(footsteps_diff[fr_rl_swinging, 3]))"
   ]
  },
  {
   "cell_type": "code",
   "execution_count": 14,
   "id": "81482ed0",
   "metadata": {},
   "outputs": [
    {
     "name": "stdout",
     "output_type": "stream",
     "text": [
      "Highest error for RL foot:  0.04206999999999983 0.06727799999999998\n",
      "Lowest error for RL foot:  2.0000000000131024e-05 3.0000000000030003e-05\n",
      "Average error for RL foot:  0.008938200000000007 0.01014472340425532\n"
     ]
    }
   ],
   "source": [
    "print(\"Highest error for RL foot: \", np.max(footsteps_diff[fr_rl_swinging, 4]), np.max(footsteps_diff[fr_rl_swinging, 5]))\n",
    "print(\"Lowest error for RL foot: \", np.min(footsteps_diff[fr_rl_swinging, 4]), np.min(footsteps_diff[fr_rl_swinging, 5]))\n",
    "print(\"Average error for RL foot: \", np.mean(footsteps_diff[fr_rl_swinging, 4]), np.mean(footsteps_diff[fr_rl_swinging, 5]))"
   ]
  },
  {
   "cell_type": "code",
   "execution_count": 15,
   "id": "634547c2",
   "metadata": {},
   "outputs": [
    {
     "name": "stdout",
     "output_type": "stream",
     "text": [
      "Highest error for RR foot:  0.07318999999999987 0.023612300000000003\n",
      "Lowest error for RR foot:  0.00024000000000001798 6.399999999998074e-05\n",
      "Average error for RR foot:  0.010898703030303039 0.006332436060606061\n"
     ]
    }
   ],
   "source": [
    "print(\"Highest error for RR foot: \", np.max(footsteps_diff[fl_rr_swinging, 6]), np.max(footsteps_diff[fl_rr_swinging, 7]))\n",
    "print(\"Lowest error for RR foot: \", np.min(footsteps_diff[fl_rr_swinging, 6]), np.min(footsteps_diff[fl_rr_swinging, 7]))\n",
    "print(\"Average error for RR foot: \", np.mean(footsteps_diff[fl_rr_swinging, 6]), np.mean(footsteps_diff[fl_rr_swinging, 7]))"
   ]
  },
  {
   "cell_type": "markdown",
   "id": "a47607b6",
   "metadata": {},
   "source": [
    "## Edges"
   ]
  },
  {
   "cell_type": "code",
   "execution_count": 343,
   "id": "b74c89e0",
   "metadata": {},
   "outputs": [],
   "source": [
    "# X coordinates of the obstaces edge\n",
    "stairs = 12\n",
    "depth = 3/stairs\n",
    "edges_up = [1 + depth * x for x in range(stairs)] \n",
    "edges_down = [(edges_up[-1] + 2 * depth + 1) + depth * x for x in range(stairs)]\n",
    "edges = edges_up + edges_down"
   ]
  },
  {
   "cell_type": "code",
   "execution_count": 344,
   "id": "58967c4d",
   "metadata": {},
   "outputs": [],
   "source": [
    "def find_nearest(array, value):\n",
    "    array = np.asarray(array)\n",
    "    idx = (np.abs(array - value)).argmin()\n",
    "    return array[idx]"
   ]
  },
  {
   "cell_type": "code",
   "execution_count": 345,
   "id": "084f17c2",
   "metadata": {},
   "outputs": [],
   "source": [
    "# Compute minimum distance from any obstacle\n",
    "def get_min_edge_distances(footsteps_dataset):\n",
    "    min_edge_distances = []\n",
    "    for footstep in footsteps_dataset:\n",
    "        temp = []\n",
    "        for idx in range(len(footstep)):\n",
    "            if idx in [0, 2, 4, 6]:\n",
    "                temp.append(find_nearest(edges, footstep[idx]))\n",
    "        min_edge_distances.append(temp)\n",
    "        \n",
    "    return np.array(min_edge_distances)"
   ]
  },
  {
   "cell_type": "code",
   "execution_count": 346,
   "id": "57ec2603",
   "metadata": {},
   "outputs": [],
   "source": [
    "real_edge_distances = np.abs(real_footsteps[:, ::2] - get_min_edge_distances(real_footsteps))\n",
    "predicted_edge_distances = np.abs(predicted_footsteps[:, ::2] - get_min_edge_distances(predicted_footsteps))"
   ]
  },
  {
   "cell_type": "code",
   "execution_count": 309,
   "id": "f0d77a4d",
   "metadata": {},
   "outputs": [],
   "source": [
    "min_distance = 0.015"
   ]
  },
  {
   "cell_type": "code",
   "execution_count": 310,
   "id": "19a5c6be",
   "metadata": {},
   "outputs": [
    {
     "name": "stdout",
     "output_type": "stream",
     "text": [
      "Lowest distance for FL foot:  0.005101000000000022 0.008391999999999955\n",
      "Number of contacts with less than 0.015 distance:  1\n"
     ]
    }
   ],
   "source": [
    "print(\"Lowest distance for FL foot: \", np.min(real_edge_distances[fl_rr_swinging, 0]), np.min(predicted_edge_distances[fl_rr_swinging, 0]))\n",
    "print(f\"Number of contacts with less than {min_distance} distance: \", len(np.where(real_edge_distances[fl_rr_swinging, 0] < min_distance)[0]))"
   ]
  },
  {
   "cell_type": "code",
   "execution_count": 311,
   "id": "b78e2609",
   "metadata": {},
   "outputs": [
    {
     "name": "stdout",
     "output_type": "stream",
     "text": [
      "Lowest distance for FR foot:  0.003090000000000037 0.0010099999999999554\n",
      "Number of contacts with less than 0.015 distance:  1\n"
     ]
    }
   ],
   "source": [
    "print(\"Lowest distance for FR foot: \", np.min(real_edge_distances[fr_rl_swinging, 1]), np.min(predicted_edge_distances[fr_rl_swinging, 1]))\n",
    "print(f\"Number of contacts with less than {min_distance} distance: \", len(np.where(real_edge_distances[fr_rl_swinging, 1] < min_distance)[0]))"
   ]
  },
  {
   "cell_type": "code",
   "execution_count": 312,
   "id": "1cea14a1",
   "metadata": {},
   "outputs": [
    {
     "name": "stdout",
     "output_type": "stream",
     "text": [
      "Lowest distance for RL foot:  0.02898999999999985 0.03420999999999985\n",
      "Number of contacts with less than 0.015 distance:  0\n"
     ]
    }
   ],
   "source": [
    "print(\"Lowest distance for RL foot: \", np.min(real_edge_distances[fr_rl_swinging, 2]), np.min(predicted_edge_distances[fr_rl_swinging, 2]))\n",
    "print(f\"Number of contacts with less than {min_distance} distance: \", len(np.where(real_edge_distances[fr_rl_swinging, 2] < min_distance)[0]))"
   ]
  },
  {
   "cell_type": "code",
   "execution_count": 313,
   "id": "03f8133d",
   "metadata": {},
   "outputs": [
    {
     "name": "stdout",
     "output_type": "stream",
     "text": [
      "Lowest distance for RR foot:  0.007080000000000197 0.031709999999999905\n",
      "Number of contacts with less than 0.015 distance:  1\n"
     ]
    }
   ],
   "source": [
    "print(\"Lowest distance for RR foot: \", np.min(real_edge_distances[fl_rr_swinging, 3]), np.min(predicted_edge_distances[fl_rr_swinging, 3]))\n",
    "print(f\"Number of contacts with less than {min_distance} distance: \", len(np.where(real_edge_distances[fl_rr_swinging, 3] < min_distance)[0]))"
   ]
  },
  {
   "cell_type": "code",
   "execution_count": 314,
   "id": "ca008dee",
   "metadata": {},
   "outputs": [
    {
     "name": "stdout",
     "output_type": "stream",
     "text": [
      "Number of FL/RR:  40\n"
     ]
    }
   ],
   "source": [
    "print(\"Number of FL/RR: \", len(real_edge_distances[fl_rr_swinging, 0]))"
   ]
  },
  {
   "cell_type": "code",
   "execution_count": 315,
   "id": "fc5ccaca",
   "metadata": {},
   "outputs": [
    {
     "name": "stdout",
     "output_type": "stream",
     "text": [
      "Number of FR/RL:  41\n"
     ]
    }
   ],
   "source": [
    "print(\"Number of FR/RL: \", len(real_edge_distances[fr_rl_swinging, 0]))"
   ]
  },
  {
   "cell_type": "markdown",
   "id": "7136fa6e",
   "metadata": {},
   "source": [
    "## Velocities"
   ]
  },
  {
   "cell_type": "code",
   "execution_count": 316,
   "id": "36474a9e",
   "metadata": {},
   "outputs": [],
   "source": [
    "velocity_counter = Counter(data[:, -1])"
   ]
  },
  {
   "cell_type": "code",
   "execution_count": 317,
   "id": "509e5981",
   "metadata": {},
   "outputs": [
    {
     "name": "stdout",
     "output_type": "stream",
     "text": [
      "Velocities commanded:  {0.9, 0.6, 0.3, 0.4, 0.7, 0.1, 0.8, 0.2, 0.5}\n"
     ]
    }
   ],
   "source": [
    "print(\"Velocities commanded: \", set(data[:, -1]))"
   ]
  },
  {
   "cell_type": "code",
   "execution_count": 318,
   "id": "fea87a73",
   "metadata": {},
   "outputs": [
    {
     "name": "stdout",
     "output_type": "stream",
     "text": [
      "Cound of velocities:  Counter({0.1: 28, 0.9: 26, 0.2: 8, 0.4: 5, 0.5: 5, 0.8: 4, 0.6: 2, 0.7: 2, 0.3: 1})\n"
     ]
    }
   ],
   "source": [
    "print(\"Cound of velocities: \", velocity_counter)"
   ]
  },
  {
   "cell_type": "code",
   "execution_count": 319,
   "id": "a6882e8d",
   "metadata": {},
   "outputs": [
    {
     "data": {
      "text/plain": [
       "1"
      ]
     },
     "execution_count": 319,
     "metadata": {},
     "output_type": "execute_result"
    }
   ],
   "source": [
    "velocity_counter[0.3000000]"
   ]
  },
  {
   "cell_type": "code",
   "execution_count": 320,
   "id": "c5bcb9b8",
   "metadata": {},
   "outputs": [
    {
     "data": {
      "image/png": "[encoded data removed]",
      "text/plain": [
       "<Figure size 432x288 with 1 Axes>"
      ]
     },
     "metadata": {
      "needs_background": "light"
     },
     "output_type": "display_data"
    }
   ],
   "source": [
    "fig = plt.figure()\n",
    "ax = fig.add_axes([0,0,1,1])\n",
    "x = [str(round(velocity, 1)) for velocity in np.arange(0.1, 1, 0.1)]\n",
    "y = [velocity_counter[round(velocity, 1)] for velocity in np.arange(0.1, 1, 0.1)]\n",
    "ax.bar(x, y)\n",
    "plt.show()"
   ]
  },
  {
   "cell_type": "code",
   "execution_count": 16,
   "id": "28b1a45d",
   "metadata": {},
   "outputs": [],
   "source": [
    "min_distance = 0.015"
   ]
  },
  {
   "cell_type": "code",
   "execution_count": 17,
   "id": "ac048829",
   "metadata": {},
   "outputs": [
    {
     "name": "stdout",
     "output_type": "stream",
     "text": [
      "Lowest distance for FL foot:  0.0\n",
      "Number of contacts with less than 0.015 distance:  1\n"
     ]
    }
   ],
   "source": [
    "print(\"Lowest distance for FL foot: \", np.min(distances[:, 0]))\n",
    "print(f\"Number of contacts with less than {min_distance} distance: \", len(np.where(distances[:, 0] < min_distance)[0]))"
   ]
  },
  {
   "cell_type": "code",
   "execution_count": 18,
   "id": "a8002f50",
   "metadata": {},
   "outputs": [
    {
     "name": "stdout",
     "output_type": "stream",
     "text": [
      "Lowest distance for FR foot:  0.00955002\n",
      "Number of contacts with less than 0.015 distance:  314\n"
     ]
    }
   ],
   "source": [
    "print(\"Lowest distance for FR foot: \", np.min(distances[:, 1]))\n",
    "print(f\"Number of contacts with less than {min_distance} distance: \", len(np.where(distances[:, 1] < min_distance)[0]))"
   ]
  },
  {
   "cell_type": "code",
   "execution_count": 19,
   "id": "7536d561",
   "metadata": {},
   "outputs": [
    {
     "name": "stdout",
     "output_type": "stream",
     "text": [
      "Lowest distance for RL foot:  0.0191\n",
      "Number of contacts with less than 0.015 distance:  0\n"
     ]
    }
   ],
   "source": [
    "print(\"Lowest distance for RL foot: \", np.min(distances[:, 2]))\n",
    "print(f\"Number of contacts with less than {min_distance} distance: \", len(np.where(distances[:, 2] < min_distance)[0]))"
   ]
  },
  {
   "cell_type": "code",
   "execution_count": 20,
   "id": "9519a870",
   "metadata": {},
   "outputs": [
    {
     "name": "stdout",
     "output_type": "stream",
     "text": [
      "Lowest distance for RR foot:  0.0\n",
      "Number of contacts with less than 0.015 distance:  7\n"
     ]
    }
   ],
   "source": [
    "print(\"Lowest distance for RR foot: \", np.min(distances[:, 3]))\n",
    "print(f\"Number of contacts with less than {min_distance} distance: \", len(np.where(distances[:, 3] < min_distance)[0]))"
   ]
  },
  {
   "cell_type": "code",
   "execution_count": null,
   "id": "7fe39d3d",
   "metadata": {},
   "outputs": [],
   "source": []
  }
 ],
 "metadata": {
  "kernelspec": {
   "display_name": "Python 3",
   "language": "python",
   "name": "python3"
  },
  "language_info": {
   "codemirror_mode": {
    "name": "ipython",
    "version": 3
   },
   "file_extension": ".py",
   "mimetype": "text/x-python",
   "name": "python",
   "nbconvert_exporter": "python",
   "pygments_lexer": "ipython3",
   "version": "3.6.12"
  }
 },
 "nbformat": 4,
 "nbformat_minor": 5
}
