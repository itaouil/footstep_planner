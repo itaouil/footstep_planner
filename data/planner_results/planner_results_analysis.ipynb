{
 "cells": [
  {
   "cell_type": "code",
   "execution_count": 1,
   "id": "9731ec9a",
   "metadata": {},
   "outputs": [],
   "source": [
    "# Imports\n",
    "import numpy as np"
   ]
  },
  {
   "cell_type": "code",
   "execution_count": 67,
   "id": "3618ba5e",
   "metadata": {},
   "outputs": [],
   "source": [
    "# Load file\n",
    "data = np.genfromtxt(\"./scenario3/scenario3_2.txt\", delimiter=\",\")"
   ]
  },
  {
   "cell_type": "code",
   "execution_count": 69,
   "id": "d5a8ee1d",
   "metadata": {},
   "outputs": [],
   "source": [
    "# CoM error between prediction and real\n",
    "real_com = data[:-1, :2]\n",
    "predicted_com = data[:-1, 2:4]"
   ]
  },
  {
   "cell_type": "code",
   "execution_count": 70,
   "id": "f925cbf9",
   "metadata": {},
   "outputs": [
    {
     "data": {
      "text/plain": [
       "array([ 3.96937  , -0.0897223])"
      ]
     },
     "execution_count": 70,
     "metadata": {},
     "output_type": "execute_result"
    }
   ],
   "source": [
    "predicted_com[-1]"
   ]
  },
  {
   "cell_type": "code",
   "execution_count": 71,
   "id": "41a413c8",
   "metadata": {},
   "outputs": [],
   "source": [
    "com_diff = np.abs(real_com - predicted_com)"
   ]
  },
  {
   "cell_type": "code",
   "execution_count": 72,
   "id": "f613b433",
   "metadata": {},
   "outputs": [
    {
     "name": "stdout",
     "output_type": "stream",
     "text": [
      "Highest error between real and predicted com:  0.0611069 0.014518800000000002\n",
      "Lowest error between real and predicted com:  0.0472199 0.007100000000000009\n",
      "Average error between real and predicted com:  0.0541634 0.010809400000000005\n"
     ]
    }
   ],
   "source": [
    "print(\"Highest error between real and predicted com: \", np.max(com_diff[0]), np.max(com_diff[1]))\n",
    "print(\"Lowest error between real and predicted com: \", np.min(com_diff[0]), np.min(com_diff[1]))\n",
    "print(\"Average error between real and predicted com: \", np.mean(com_diff[0]), np.mean(com_diff[1]))"
   ]
  },
  {
   "cell_type": "code",
   "execution_count": 73,
   "id": "720fe756",
   "metadata": {},
   "outputs": [],
   "source": [
    "# Feet error between predictions and real\n",
    "real_footsteps = data[1:-1, 4:12]\n",
    "predicted_footsteps = data[1:-1, 12:20]"
   ]
  },
  {
   "cell_type": "code",
   "execution_count": 74,
   "id": "cf3605e9",
   "metadata": {},
   "outputs": [],
   "source": [
    "footsteps_diff = np.abs(real_footsteps - predicted_footsteps)"
   ]
  },
  {
   "cell_type": "code",
   "execution_count": 75,
   "id": "461f00e9",
   "metadata": {},
   "outputs": [
    {
     "name": "stdout",
     "output_type": "stream",
     "text": [
      "Highest error for FL foot:  0.015903 0.03921100000000001\n",
      "Lowest error for FL foot:  0.00010400000000002074 0.001577999999999996\n",
      "Average error for FL foot:  0.008682200000000001 0.012895424999999988\n"
     ]
    }
   ],
   "source": [
    "print(\"Highest error for FL foot: \", np.max(footsteps_diff[0]), np.max(footsteps_diff[1]))\n",
    "print(\"Lowest error for FL foot: \", np.min(footsteps_diff[0]), np.min(footsteps_diff[1]))\n",
    "print(\"Average error for FL foot: \", np.mean(footsteps_diff[0]), np.mean(footsteps_diff[1]))"
   ]
  },
  {
   "cell_type": "code",
   "execution_count": 76,
   "id": "5962823f",
   "metadata": {},
   "outputs": [
    {
     "name": "stdout",
     "output_type": "stream",
     "text": [
      "Highest error for FR foot:  0.009232000000000018 0.008761999999999937\n",
      "Lowest error for FR foot:  0.00032999999999999696 0.0009969999999999979\n",
      "Average error for FR foot:  0.005162137500000007 0.005081499999999982\n"
     ]
    }
   ],
   "source": [
    "print(\"Highest error for FR foot: \", np.max(footsteps_diff[2]), np.max(footsteps_diff[3]))\n",
    "print(\"Lowest error for FR foot: \", np.min(footsteps_diff[2]), np.min(footsteps_diff[3]))\n",
    "print(\"Average error for FR foot: \", np.mean(footsteps_diff[2]), np.mean(footsteps_diff[3]))"
   ]
  },
  {
   "cell_type": "code",
   "execution_count": 77,
   "id": "bc1d7beb",
   "metadata": {},
   "outputs": [
    {
     "name": "stdout",
     "output_type": "stream",
     "text": [
      "Highest error for RL foot:  0.011236999999999997 0.018748000000000015\n",
      "Lowest error for RL foot:  0.0010199999999999931 0.00038399999999999546\n",
      "Average error for RL foot:  0.005532499999999999 0.006249624999999984\n"
     ]
    }
   ],
   "source": [
    "print(\"Highest error for RL foot: \", np.max(footsteps_diff[4]), np.max(footsteps_diff[5]))\n",
    "print(\"Lowest error for RL foot: \", np.min(footsteps_diff[4]), np.min(footsteps_diff[5]))\n",
    "print(\"Average error for RL foot: \", np.mean(footsteps_diff[4]), np.mean(footsteps_diff[5]))"
   ]
  },
  {
   "cell_type": "code",
   "execution_count": 78,
   "id": "b9ce6800",
   "metadata": {},
   "outputs": [
    {
     "name": "stdout",
     "output_type": "stream",
     "text": [
      "Highest error for RR foot:  0.022800000000000153 0.014235999999999999\n",
      "Lowest error for RR foot:  0.0008559999999999957 0.0008190000000000142\n",
      "Average error for RR foot:  0.010809125000000013 0.007187499999999996\n"
     ]
    }
   ],
   "source": [
    "print(\"Highest error for RR foot: \", np.max(footsteps_diff[6]), np.max(footsteps_diff[7]))\n",
    "print(\"Lowest error for RR foot: \", np.min(footsteps_diff[6]), np.min(footsteps_diff[7]))\n",
    "print(\"Average error for RR foot: \", np.mean(footsteps_diff[6]), np.mean(footsteps_diff[7]))"
   ]
  },
  {
   "cell_type": "code",
   "execution_count": null,
   "id": "1613aa1b",
   "metadata": {},
   "outputs": [],
   "source": []
  }
 ],
 "metadata": {
  "kernelspec": {
   "display_name": "Python 3",
   "language": "python",
   "name": "python3"
  },
  "language_info": {
   "codemirror_mode": {
    "name": "ipython",
    "version": 3
   },
   "file_extension": ".py",
   "mimetype": "text/x-python",
   "name": "python",
   "nbconvert_exporter": "python",
   "pygments_lexer": "ipython3",
   "version": "3.6.12"
  }
 },
 "nbformat": 4,
 "nbformat_minor": 5
}
