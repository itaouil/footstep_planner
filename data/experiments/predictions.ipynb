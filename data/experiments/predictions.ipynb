{
 "cells": [
  {
   "cell_type": "code",
   "execution_count": 1,
   "id": "f4066471-251c-49c6-bb99-64cd9462b0b8",
   "metadata": {
    "tags": []
   },
   "outputs": [],
   "source": [
    "import numpy as np"
   ]
  },
  {
   "cell_type": "code",
   "execution_count": 25,
   "id": "75789ce8-2f7e-4895-904c-a204d51c0ca0",
   "metadata": {
    "tags": []
   },
   "outputs": [],
   "source": [
    "data = np.genfromtxt(\"./scenario1/horizon5/tr1.txt\", delimiter=',', dtype=np.float64)"
   ]
  },
  {
   "cell_type": "code",
   "execution_count": 26,
   "id": "d0548259-4266-45cd-88c1-e05342ed3831",
   "metadata": {
    "tags": []
   },
   "outputs": [
    {
     "data": {
      "text/plain": [
       "(21, 23)"
      ]
     },
     "execution_count": 26,
     "metadata": {},
     "output_type": "execute_result"
    }
   ],
   "source": [
    "data.shape"
   ]
  },
  {
   "cell_type": "code",
   "execution_count": 195,
   "id": "00e5d62f-49cb-4c6f-87f9-e2fec4c74ef4",
   "metadata": {
    "tags": []
   },
   "outputs": [],
   "source": [
    "start = 0.48612\n",
    "stop = 3.30463"
   ]
  },
  {
   "cell_type": "code",
   "execution_count": 202,
   "id": "04403e3c-ae0c-4b43-8a7a-909a7ef0720a",
   "metadata": {
    "tags": []
   },
   "outputs": [
    {
     "data": {
      "text/plain": [
       "24.300450999999995"
      ]
     },
     "execution_count": 202,
     "metadata": {},
     "output_type": "execute_result"
    }
   ],
   "source": [
    "# EUC cost (symm,3)\n",
    "data = np.genfromtxt(\"./scenario3/horizon3/tr2.txt\", delimiter=',', dtype=np.float64)\n",
    "idx = np.where(np.logical_and(data[:, 0] >= start, data[:, 0] <= stop))[0]\n",
    "np.sum(np.abs(data[idx, 0] - stop))"
   ]
  },
  {
   "cell_type": "code",
   "execution_count": 197,
   "id": "f8ed578d-0a07-464b-a146-2c63b436d666",
   "metadata": {
    "tags": []
   },
   "outputs": [
    {
     "data": {
      "text/plain": [
       "array([0.428424, 0.506235, 0.622693, 0.78106 , 1.02584 , 1.2107  ,\n",
       "       1.34612 , 1.49756 , 1.69949 , 1.85002 , 2.0402  , 2.20855 ,\n",
       "       2.37844 , 2.56532 , 2.80687 , 2.91391 , 3.01338 , 3.16726 ,\n",
       "       3.30463 ])"
      ]
     },
     "execution_count": 197,
     "metadata": {},
     "output_type": "execute_result"
    }
   ],
   "source": [
    "data[:, 0]"
   ]
  },
  {
   "cell_type": "code",
   "execution_count": 198,
   "id": "ce39b241-274e-447d-933d-7b0d10ad0862",
   "metadata": {
    "tags": []
   },
   "outputs": [
    {
     "data": {
      "text/plain": [
       "25.616861000000004"
      ]
     },
     "execution_count": 198,
     "metadata": {},
     "output_type": "execute_result"
    }
   ],
   "source": [
    "# EUC cost (symm,5)\n",
    "data = np.genfromtxt(\"./scenario3/horizon5/tr1.txt\", delimiter=',', dtype=np.float64)\n",
    "idx = np.where(np.logical_and(data[:, 0] >= start, data[:, 0] <= stop))[0]\n",
    "np.sum(np.abs(data[idx, 0] - stop))"
   ]
  },
  {
   "cell_type": "code",
   "execution_count": 199,
   "id": "6f8062c3-ac21-418d-831a-c66e50615cae",
   "metadata": {
    "tags": []
   },
   "outputs": [
    {
     "data": {
      "text/plain": [
       "array([0.315502, 0.340147, 0.441109, 0.565678, 0.769211, 0.88864 ,\n",
       "       1.10073 , 1.23718 , 1.41177 , 1.553   , 1.66401 , 1.72052 ,\n",
       "       1.83455 , 1.92218 , 2.07078 , 2.19367 , 2.60812 , 2.79856 ,\n",
       "       3.03575 , 3.19047 , 3.30166 , 3.43297 , 3.56252 , 3.61392 ,\n",
       "       3.59541 , 3.57351 , 3.56714 , 3.56143 ])"
      ]
     },
     "execution_count": 199,
     "metadata": {},
     "output_type": "execute_result"
    }
   ],
   "source": [
    "data[:, 0]"
   ]
  },
  {
   "cell_type": "code",
   "execution_count": 200,
   "id": "9ccfb876-98be-48c1-aeea-f1e50b18cc5d",
   "metadata": {
    "tags": []
   },
   "outputs": [
    {
     "data": {
      "text/plain": [
       "32.376816"
      ]
     },
     "execution_count": 200,
     "metadata": {},
     "output_type": "execute_result"
    }
   ],
   "source": [
    "# EUC cost (symm,7)\n",
    "data = np.genfromtxt(\"./scenario3/horizon7/tr1.txt\", delimiter=',', dtype=np.float64)\n",
    "idx = np.where(np.logical_and(data[:, 0] >= start, data[:, 0] <= stop))[0]\n",
    "np.sum(np.abs(data[idx, 0] - stop))"
   ]
  },
  {
   "cell_type": "code",
   "execution_count": 201,
   "id": "6389cd76-9e16-436a-ad9b-ff56bedac95a",
   "metadata": {
    "tags": []
   },
   "outputs": [
    {
     "data": {
      "text/plain": [
       "array([0.48612 , 0.507727, 0.576818, 0.682574, 0.778846, 0.939159,\n",
       "       1.10394 , 1.25504 , 1.42546 , 1.56053 , 1.71543 , 1.88973 ,\n",
       "       2.06704 , 2.18254 , 2.36586 , 2.5096  , 2.72685 , 2.86755 ,\n",
       "       2.98777 , 3.12081 , 3.27102 , 3.40619 , 3.54443 ])"
      ]
     },
     "execution_count": 201,
     "metadata": {},
     "output_type": "execute_result"
    }
   ],
   "source": [
    "data[:, 0]"
   ]
  },
  {
   "cell_type": "code",
   "execution_count": null,
   "id": "a038689f-511b-45d6-b748-13554a75b103",
   "metadata": {},
   "outputs": [],
   "source": []
  },
  {
   "cell_type": "code",
   "execution_count": null,
   "id": "46b78f5f-7e14-4f85-a9e1-619d919ddb06",
   "metadata": {},
   "outputs": [],
   "source": []
  },
  {
   "cell_type": "code",
   "execution_count": 4,
   "id": "5e34cee7-d2c3-4360-a318-c2e49eb1178d",
   "metadata": {
    "tags": []
   },
   "outputs": [
    {
     "data": {
      "text/plain": [
       "0.0035187391304347697"
      ]
     },
     "execution_count": 4,
     "metadata": {},
     "output_type": "execute_result"
    }
   ],
   "source": [
    "# CoM error\n",
    "np.mean(abs(data[:, 0]) - abs(data[:, 2]))"
   ]
  },
  {
   "cell_type": "code",
   "execution_count": 5,
   "id": "5a7ad12e-e08c-493f-92a9-5f640399de10",
   "metadata": {
    "tags": []
   },
   "outputs": [],
   "source": [
    "# Feet error\n",
    "fl_error = data[:, 4] - data[:, 12]\n",
    "fr_error = data[:, 6] - data[:, 14]\n",
    "rl_error = data[:, 8] - data[:, 16]\n",
    "rr_error = data[:, 10] - data[:, 18]"
   ]
  },
  {
   "cell_type": "code",
   "execution_count": 6,
   "id": "fc50f98f-1b09-43d4-b2d4-7f210f515720",
   "metadata": {
    "tags": []
   },
   "outputs": [
    {
     "data": {
      "text/plain": [
       "-0.018617304347826092"
      ]
     },
     "execution_count": 6,
     "metadata": {},
     "output_type": "execute_result"
    }
   ],
   "source": [
    "np.mean(fl_error)"
   ]
  },
  {
   "cell_type": "code",
   "execution_count": 7,
   "id": "06bd756d-9ceb-4030-a2cb-1d5e2129a9a4",
   "metadata": {
    "tags": []
   },
   "outputs": [
    {
     "data": {
      "text/plain": [
       "0.004045521739130405"
      ]
     },
     "execution_count": 7,
     "metadata": {},
     "output_type": "execute_result"
    }
   ],
   "source": [
    "np.mean(fr_error)"
   ]
  },
  {
   "cell_type": "code",
   "execution_count": 8,
   "id": "4aa5b623-91ce-481c-9baa-a903819452bd",
   "metadata": {
    "tags": []
   },
   "outputs": [
    {
     "data": {
      "text/plain": [
       "-0.014849869565217371"
      ]
     },
     "execution_count": 8,
     "metadata": {},
     "output_type": "execute_result"
    }
   ],
   "source": [
    "np.mean(rl_error)"
   ]
  },
  {
   "cell_type": "code",
   "execution_count": 9,
   "id": "b00735bd-2548-4b57-8bd2-8aa780f0a586",
   "metadata": {
    "tags": []
   },
   "outputs": [
    {
     "data": {
      "text/plain": [
       "-8.108695652174903e-05"
      ]
     },
     "execution_count": 9,
     "metadata": {},
     "output_type": "execute_result"
    }
   ],
   "source": [
    "np.mean(rr_error)"
   ]
  },
  {
   "cell_type": "code",
   "execution_count": 10,
   "id": "e5ed5e4c-bfb9-4f70-b842-be94e2d1f222",
   "metadata": {
    "tags": []
   },
   "outputs": [
    {
     "data": {
      "text/plain": [
       "0.009398445652173905"
      ]
     },
     "execution_count": 10,
     "metadata": {},
     "output_type": "execute_result"
    }
   ],
   "source": [
    "np.mean([abs(np.mean(fl_error)), abs(np.mean(fr_error)), abs(np.mean(rl_error)), abs(np.mean(rr_error))])"
   ]
  },
  {
   "cell_type": "code",
   "execution_count": 11,
   "id": "852515f7-ae67-42fe-843a-b0fe5231c113",
   "metadata": {
    "tags": []
   },
   "outputs": [],
   "source": [
    "# Velocity error\n",
    "vel_error = data[:, -2] - data[:, -1]"
   ]
  },
  {
   "cell_type": "code",
   "execution_count": 12,
   "id": "ee3e77d8-06c0-4687-a8ac-00056052bf9c",
   "metadata": {
    "tags": []
   },
   "outputs": [
    {
     "data": {
      "text/plain": [
       "array([0.0207214, 0.164977 , 0.420722 , 0.47493  , 0.522705 , 0.616147 ,\n",
       "       0.741966 , 0.529782 , 0.52834  , 0.580025 , 0.619332 , 0.654579 ,\n",
       "       0.621989 , 0.479667 , 0.488559 , 0.391812 , 0.495109 , 0.521073 ,\n",
       "       0.487526 , 0.5036   , 0.503576 , 0.52624  , 0.476339 ])"
      ]
     },
     "execution_count": 12,
     "metadata": {},
     "output_type": "execute_result"
    }
   ],
   "source": [
    "data[:, -1]"
   ]
  },
  {
   "cell_type": "code",
   "execution_count": 13,
   "id": "d379ce0e-88e3-4fb0-a518-65e4c33d313d",
   "metadata": {
    "tags": []
   },
   "outputs": [
    {
     "data": {
      "text/plain": [
       "array([-0.00157671,  0.214114  ,  0.392109  ,  0.500593  ,  0.471431  ,\n",
       "        0.518895  ,  0.562733  ,  0.512291  ,  0.476501  ,  0.549847  ,\n",
       "        0.603095  ,  0.639818  ,  0.570157  ,  0.506274  ,  0.544863  ,\n",
       "        0.729296  ,  0.529503  ,  0.468279  ,  0.472188  ,  0.47432   ,\n",
       "        0.52936   ,  0.513181  ,  0.501233  ])"
      ]
     },
     "execution_count": 13,
     "metadata": {},
     "output_type": "execute_result"
    }
   ],
   "source": [
    "data[:, -2]"
   ]
  },
  {
   "cell_type": "code",
   "execution_count": 14,
   "id": "28b48a8c-2624-4ef4-adbf-9c3093f739ec",
   "metadata": {
    "tags": []
   },
   "outputs": [
    {
     "data": {
      "text/plain": [
       "-0.003965743913043481"
      ]
     },
     "execution_count": 14,
     "metadata": {},
     "output_type": "execute_result"
    }
   ],
   "source": [
    "np.mean(vel_error)"
   ]
  },
  {
   "cell_type": "code",
   "execution_count": null,
   "id": "dfbf3da7-ac7a-4121-8334-e82f7f11f8d6",
   "metadata": {},
   "outputs": [],
   "source": []
  }
 ],
 "metadata": {
  "kernelspec": {
   "display_name": "Python 3 (ipykernel)",
   "language": "python",
   "name": "python3"
  },
  "language_info": {
   "codemirror_mode": {
    "name": "ipython",
    "version": 3
   },
   "file_extension": ".py",
   "mimetype": "text/x-python",
   "name": "python",
   "nbconvert_exporter": "python",
   "pygments_lexer": "ipython3",
   "version": "3.10.8"
  }
 },
 "nbformat": 4,
 "nbformat_minor": 5
}
