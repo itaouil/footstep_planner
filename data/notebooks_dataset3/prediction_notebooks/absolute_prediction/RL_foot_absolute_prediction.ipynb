{
 "cells": [
  {
   "cell_type": "code",
   "execution_count": 2,
   "id": "71b27a01",
   "metadata": {},
   "outputs": [],
   "source": [
    "#!/usr/bin/env python3.6\n",
    "# -*- coding: utf-8 -*-"
   ]
  },
  {
   "cell_type": "code",
   "execution_count": 3,
   "id": "ccce3ab0",
   "metadata": {},
   "outputs": [],
   "source": [
    "# Imports\n",
    "import sys\n",
    "import joblib\n",
    "import numpy as np\n",
    "from matplotlib import animation\n",
    "from IPython.display import HTML\n",
    "from matplotlib import pyplot as plt\n",
    "import mpl_toolkits.mplot3d.axes3d as p3"
   ]
  },
  {
   "cell_type": "code",
   "execution_count": 4,
   "id": "1193b865",
   "metadata": {},
   "outputs": [],
   "source": [
    "#np.random.seed(20)\n",
    "np.set_printoptions(threshold=sys.maxsize)"
   ]
  },
  {
   "cell_type": "code",
   "execution_count": 5,
   "id": "670b94f7",
   "metadata": {},
   "outputs": [],
   "source": [
    "%matplotlib inline"
   ]
  },
  {
   "cell_type": "code",
   "execution_count": 6,
   "id": "0f7b2ed6",
   "metadata": {},
   "outputs": [
    {
     "name": "stdout",
     "output_type": "stream",
     "text": [
      "(148884, 37)\n",
      "(148884, 8)\n"
     ]
    }
   ],
   "source": [
    "%store -r X_motion_step\n",
    "%store -r Y_motion_step\n",
    "print(X_motion_step.shape)\n",
    "print(Y_motion_step.shape)"
   ]
  },
  {
   "cell_type": "markdown",
   "id": "0304ecd6",
   "metadata": {},
   "source": [
    "# Multivariate Linear Regression (Foot prediction)"
   ]
  },
  {
   "cell_type": "markdown",
   "id": "140dfe3d",
   "metadata": {},
   "source": [
    "The input will use initially only:\n",
    "\n",
    "- **HighCmd: fwd, side, rot speeds**\n",
    "- **HighState: fwd, side, rot speeds, footPosition2Body (FR)**\n",
    "\n",
    "and as output we seek to predict the following:\n",
    "\n",
    "- **footPosition2Body (FR)**"
   ]
  },
  {
   "cell_type": "code",
   "execution_count": 7,
   "id": "8737aeb9",
   "metadata": {},
   "outputs": [],
   "source": [
    "import sklearn\n",
    "from sklearn import metrics\n",
    "from sklearn.feature_selection import RFE\n",
    "from sklearn.model_selection import KFold\n",
    "from sklearn.linear_model import LinearRegression\n",
    "from sklearn.model_selection import train_test_split\n",
    "from sklearn.preprocessing import PolynomialFeatures \n",
    "from sklearn.model_selection import cross_val_score, cross_val_predict\n",
    "from sklearn.metrics import mean_squared_error, mean_absolute_error, r2_score"
   ]
  },
  {
   "cell_type": "code",
   "execution_count": 8,
   "id": "1ff0f241",
   "metadata": {},
   "outputs": [],
   "source": [
    "# Entries where FL foot is swinging\n",
    "idx_rl_swinging = np.where(X_motion_step[:, 24] == 1)[0]\n",
    "X_motion_step_RL = X_motion_step[idx_rl_swinging]\n",
    "Y_motion_step_RL = Y_motion_step[idx_rl_swinging]"
   ]
  },
  {
   "cell_type": "markdown",
   "id": "88c6a867",
   "metadata": {},
   "source": [
    "## Predict RL foot -> x"
   ]
  },
  {
   "cell_type": "code",
   "execution_count": 9,
   "id": "86164aa0",
   "metadata": {},
   "outputs": [
    {
     "data": {
      "text/plain": [
       "array([ 1.00000000e-01,  0.00000000e+00,  0.00000000e+00,  0.00000000e+00,\n",
       "        0.00000000e+00,  0.00000000e+00,  2.73259492e-08,  8.26137569e-09,\n",
       "       -2.31107939e-43,  2.55124842e-26, -1.29773315e-23,  4.71751457e-03,\n",
       "        1.56884253e-01,  1.33104801e-01, -3.39981973e-01,  1.92550018e-01,\n",
       "       -1.40392303e-01, -3.33698064e-01, -2.76241094e-01,  1.40536815e-01,\n",
       "       -3.36472392e-01, -2.58489013e-01, -1.30886346e-01, -3.38354051e-01,\n",
       "        1.00000000e+00,  0.00000000e+00,  0.00000000e+00,  0.00000000e+00,\n",
       "        0.00000000e+00,  0.00000000e+00,  0.00000000e+00,  0.00000000e+00,\n",
       "        0.00000000e+00,  0.00000000e+00,  1.23098426e-02, -4.47599696e-03,\n",
       "        1.79496527e-01])"
      ]
     },
     "execution_count": 9,
     "metadata": {},
     "output_type": "execute_result"
    }
   ],
   "source": [
    "X_motion_step_RL[0, :]"
   ]
  },
  {
   "cell_type": "code",
   "execution_count": 10,
   "id": "c229d87f",
   "metadata": {},
   "outputs": [
    {
     "data": {
      "text/plain": [
       "array([ 0.        ,  0.        ,  0.01586381, -0.00457941,  0.02445424,\n",
       "        0.00146174,  0.        ,  0.        ])"
      ]
     },
     "execution_count": 10,
     "metadata": {},
     "output_type": "execute_result"
    }
   ],
   "source": [
    "Y_motion_step_RL[0, :]"
   ]
  },
  {
   "cell_type": "code",
   "execution_count": 11,
   "id": "991414e5",
   "metadata": {},
   "outputs": [
    {
     "data": {
      "text/plain": [
       "(75769, 8)"
      ]
     },
     "execution_count": 11,
     "metadata": {},
     "output_type": "execute_result"
    }
   ],
   "source": [
    "Y_motion_step_RL.shape"
   ]
  },
  {
   "cell_type": "code",
   "execution_count": 12,
   "id": "38fa373b",
   "metadata": {},
   "outputs": [],
   "source": [
    "#X_motion_step[idx_rl_swinging - 1, 28]"
   ]
  },
  {
   "cell_type": "markdown",
   "id": "b9376241",
   "metadata": {},
   "source": [
    "### Linear Regression"
   ]
  },
  {
   "cell_type": "code",
   "execution_count": 19,
   "id": "77b977e9",
   "metadata": {},
   "outputs": [
    {
     "name": "stdout",
     "output_type": "stream",
     "text": [
      "R2:  0.9733096777679622\n",
      "RMSE:  0.01597903362087659\n",
      "The lowest error is:  3.737696835925952e-06\n",
      "The highest error is:  0.14064424405829556\n",
      "The avg. error is:  0.011415749740476839\n"
     ]
    }
   ],
   "source": [
    "# Input\n",
    "#X = np.hstack((X_motion_step_RL[:, :2], np.array([X_motion_step_RL[:, 5]]).T, \n",
    "#               X_motion_step_RL[:, 6:8], np.array([X_motion_step_RL[:, 11]]).T, \n",
    "#               np.array([X_motion_step_RL[:, 18]]).T, np.array([X_motion_step_RL[:, 21]]).T))\n",
    "X = np.hstack((X_motion_step_RL[:, :2], np.array([X_motion_step_RL[:, 5]]).T, \n",
    "               np.array([X_motion_step_RL[:, 18]]).T, np.array([X_motion_step_RL[:, 21]]).T))\n",
    "\n",
    "X = np.hstack((X_motion_step_RL[:, :2], \n",
    "               np.array([X_motion_step_RL[:, 5]]).T,\n",
    "               np.array([X_motion_step[idx_rl_swinging-1, 30]]).T, \n",
    "               np.array([X_motion_step[idx_rl_swinging, 32]]).T,\n",
    "               X_motion_step[idx_rl_swinging, 34:36]))\n",
    "\n",
    "# Labels\n",
    "Y = np.array([Y_motion_step_RL[:, 4]]).T\n",
    "\n",
    "assert Y.shape[0] == X.shape[0]\n",
    "\n",
    "# Split data into train and test set\n",
    "X_train, X_test, Y_train, Y_test = train_test_split(X, Y, train_size = 0.8, test_size=0.2, shuffle=True, random_state=100)\n",
    "\n",
    "# Create the model\n",
    "model_rl_x = LinearRegression()\n",
    "\n",
    "# Fit the model\n",
    "model_rl_x.fit(X_train, Y_train)\n",
    "\n",
    "# Predict\n",
    "predictions = model_rl_x.predict(X_test)\n",
    "\n",
    "# Stats\n",
    "print('R2: ', r2_score(predictions, Y_test))\n",
    "print('RMSE: ', np.sqrt(mean_squared_error(Y_test, predictions)))\n",
    "print(\"The lowest error is: \", np.min(np.abs(predictions - Y_test)))\n",
    "print(\"The highest error is: \", np.max(np.abs(predictions - Y_test)))\n",
    "print(\"The avg. error is: \", np.mean(np.abs(predictions - Y_test)))\n",
    "#print(\"Seq of errors (descendant): \\n\", sorted(np.abs(predictions - Y_test).tolist(), reverse=True))"
   ]
  },
  {
   "cell_type": "code",
   "execution_count": 20,
   "id": "e8abf06c",
   "metadata": {},
   "outputs": [
    {
     "data": {
      "text/plain": [
       "Text(0, 0.5, 'Predictions')"
      ]
     },
     "execution_count": 20,
     "metadata": {},
     "output_type": "execute_result"
    },
    {
     "data": {
      "image/png": "[encoded data removed]",
      "text/plain": [
       "<Figure size 432x288 with 1 Axes>"
      ]
     },
     "metadata": {
      "needs_background": "light"
     },
     "output_type": "display_data"
    }
   ],
   "source": [
    "## The line / model\n",
    "plt.scatter(Y_test, predictions)\n",
    "plt.xlabel(\"True Values\")\n",
    "plt.ylabel(\"Predictions\")"
   ]
  },
  {
   "cell_type": "code",
   "execution_count": 21,
   "id": "78db247c",
   "metadata": {},
   "outputs": [
    {
     "name": "stdout",
     "output_type": "stream",
     "text": [
      "Stored 'model_rl_x' (LinearRegression)\n"
     ]
    }
   ],
   "source": [
    "%store model_rl_x"
   ]
  },
  {
   "cell_type": "code",
   "execution_count": 15,
   "id": "d095f6dc",
   "metadata": {},
   "outputs": [],
   "source": [
    "#for idx, prediction in enumerate(predictions):\n",
    "#    print(f'Groundtruth: {Y_test[idx]}. Predicted: {prediction}')"
   ]
  },
  {
   "cell_type": "code",
   "execution_count": 16,
   "id": "e9b64631",
   "metadata": {},
   "outputs": [
    {
     "data": {
      "text/plain": [
       "['/home/itaouil/workspace/aliengo_ws/src/aliengo_navigation/models/protocol3/model_rl_x.sav']"
      ]
     },
     "execution_count": 16,
     "metadata": {},
     "output_type": "execute_result"
    }
   ],
   "source": [
    "# Save model\n",
    "joblib.dump(model_rl_x, \"/home/itaouil/workspace/aliengo_ws/src/aliengo_navigation/models/protocol3/model_rl_x.sav\")"
   ]
  },
  {
   "cell_type": "markdown",
   "id": "66b7b290",
   "metadata": {},
   "source": [
    "### Predict FL foot -> y"
   ]
  },
  {
   "cell_type": "code",
   "execution_count": 22,
   "id": "ca6b505f",
   "metadata": {},
   "outputs": [
    {
     "name": "stdout",
     "output_type": "stream",
     "text": [
      "R2:  0.9893967987440347\n",
      "RMSE:  0.01028849004873157\n",
      "The lowest error is:  1.1040322624444876e-06\n",
      "The highest error is:  0.08742244455610562\n",
      "The avg. error is:  0.0073486915170769065\n"
     ]
    }
   ],
   "source": [
    "# Input\n",
    "#X = np.hstack((X_motion_step_RL[:, :2], np.array([X_motion_step_RL[:, 5]]).T, \n",
    "#               X_motion_step_RL[:, 6:8], np.array([X_motion_step_RL[:, 11]]).T, \n",
    "#               np.array([X_motion_step_RL[:, 19]]).T, np.array([X_motion_step_RL[:, 22]]).T))\n",
    "X = np.hstack((X_motion_step_RL[:, :2], np.array([X_motion_step_RL[:, 5]]).T, \n",
    "               np.array([X_motion_step_RL[:, 19]]).T, np.array([X_motion_step_RL[:, 22]]).T))\n",
    "\n",
    "X = np.hstack((X_motion_step_RL[:, :2], \n",
    "               np.array([X_motion_step_RL[:, 5]]).T,\n",
    "               np.array([X_motion_step[idx_rl_swinging-1, 31]]).T, \n",
    "               np.array([X_motion_step[idx_rl_swinging, 33]]).T,\n",
    "               X_motion_step[idx_rl_swinging, 34:36]))\n",
    "\n",
    "# Labels\n",
    "Y = np.array([Y_motion_step_RL[:, 5]]).T\n",
    "\n",
    "assert Y.shape[0] == X.shape[0]\n",
    "\n",
    "# Split data into train and test set\n",
    "X_train, X_test, Y_train, Y_test = train_test_split(X, Y, train_size = 0.8, test_size=0.2, shuffle=True, random_state=100)\n",
    "\n",
    "# Create the model\n",
    "model_rl_y = LinearRegression()\n",
    "\n",
    "# Fit the model\n",
    "model_rl_y.fit(X_train, Y_train)\n",
    "\n",
    "# Predict\n",
    "predictions = model_rl_y.predict(X_test)\n",
    "\n",
    "# Stats\n",
    "print('R2: ', r2_score(predictions, Y_test))\n",
    "print('RMSE: ', np.sqrt(mean_squared_error(Y_test, predictions)))\n",
    "print(\"The lowest error is: \", np.min(np.abs(predictions - Y_test)))\n",
    "print(\"The highest error is: \", np.max(np.abs(predictions - Y_test)))\n",
    "print(\"The avg. error is: \", np.mean(np.abs(predictions - Y_test)))\n",
    "#print(\"Seq of errors (descendant): \\n\", sorted(np.abs(predictions - Y_test).tolist(), reverse=True))"
   ]
  },
  {
   "cell_type": "code",
   "execution_count": 23,
   "id": "8da54b16",
   "metadata": {},
   "outputs": [
    {
     "data": {
      "text/plain": [
       "Text(0, 0.5, 'Predictions')"
      ]
     },
     "execution_count": 23,
     "metadata": {},
     "output_type": "execute_result"
    },
    {
     "data": {
      "image/png": "[encoded data removed]",
      "text/plain": [
       "<Figure size 432x288 with 1 Axes>"
      ]
     },
     "metadata": {
      "needs_background": "light"
     },
     "output_type": "display_data"
    }
   ],
   "source": [
    "## The line / model\n",
    "plt.scatter(Y_test, predictions)\n",
    "plt.xlabel(\"True Values\")\n",
    "plt.ylabel(\"Predictions\")"
   ]
  },
  {
   "cell_type": "code",
   "execution_count": 24,
   "id": "6c016437",
   "metadata": {},
   "outputs": [
    {
     "name": "stdout",
     "output_type": "stream",
     "text": [
      "Stored 'model_rl_y' (LinearRegression)\n"
     ]
    }
   ],
   "source": [
    "%store model_rl_y"
   ]
  },
  {
   "cell_type": "code",
   "execution_count": 20,
   "id": "4e846e65",
   "metadata": {},
   "outputs": [],
   "source": [
    "#for idx, prediction in enumerate(predictions):\n",
    "#    print(f'Groundtruth: {Y_test[idx]}. Predicted: {prediction}')"
   ]
  },
  {
   "cell_type": "code",
   "execution_count": 21,
   "id": "97cdd9f8",
   "metadata": {},
   "outputs": [
    {
     "data": {
      "text/plain": [
       "['/home/itaouil/workspace/aliengo_ws/src/aliengo_navigation/models/protocol3/model_rl_y.sav']"
      ]
     },
     "execution_count": 21,
     "metadata": {},
     "output_type": "execute_result"
    }
   ],
   "source": [
    "# Save model\n",
    "joblib.dump(model_rl_y, \"/home/itaouil/workspace/aliengo_ws/src/aliengo_navigation/models/protocol3/model_rl_y.sav\")"
   ]
  },
  {
   "cell_type": "code",
   "execution_count": null,
   "id": "fc359b3c",
   "metadata": {},
   "outputs": [],
   "source": []
  }
 ],
 "metadata": {
  "kernelspec": {
   "display_name": "Python 3",
   "language": "python",
   "name": "python3"
  },
  "language_info": {
   "codemirror_mode": {
    "name": "ipython",
    "version": 3
   },
   "file_extension": ".py",
   "mimetype": "text/x-python",
   "name": "python",
   "nbconvert_exporter": "python",
   "pygments_lexer": "ipython3",
   "version": "3.6.12"
  }
 },
 "nbformat": 4,
 "nbformat_minor": 5
}
