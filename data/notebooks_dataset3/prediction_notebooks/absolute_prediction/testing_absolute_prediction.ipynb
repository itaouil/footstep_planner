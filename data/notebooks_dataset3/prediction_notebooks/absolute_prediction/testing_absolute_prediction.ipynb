{
 "cells": [
  {
   "cell_type": "code",
   "execution_count": 1,
   "id": "03d1554b",
   "metadata": {},
   "outputs": [],
   "source": [
    "#!/usr/bin/env python3.6\n",
    "# -*- coding: utf-8 -*-"
   ]
  },
  {
   "cell_type": "code",
   "execution_count": 2,
   "id": "a3b939aa",
   "metadata": {},
   "outputs": [],
   "source": [
    "# Imports\n",
    "import sys\n",
    "import joblib\n",
    "import numpy as np\n",
    "from matplotlib import animation\n",
    "from IPython.display import HTML\n",
    "from matplotlib import pyplot as plt\n",
    "import mpl_toolkits.mplot3d.axes3d as p3"
   ]
  },
  {
   "cell_type": "code",
   "execution_count": 3,
   "id": "9c7421a7",
   "metadata": {},
   "outputs": [],
   "source": [
    "#np.random.seed(20)\n",
    "np.set_printoptions(threshold=sys.maxsize)"
   ]
  },
  {
   "cell_type": "code",
   "execution_count": 4,
   "id": "e84ec1a8",
   "metadata": {},
   "outputs": [],
   "source": [
    "%matplotlib inline"
   ]
  },
  {
   "cell_type": "code",
   "execution_count": 5,
   "id": "36081a47",
   "metadata": {},
   "outputs": [
    {
     "name": "stdout",
     "output_type": "stream",
     "text": [
      "(148884, 37)\n",
      "(148884, 8)\n"
     ]
    }
   ],
   "source": [
    "%store -r X_motion_step\n",
    "%store -r Y_motion_step\n",
    "print(X_motion_step.shape)\n",
    "print(Y_motion_step.shape)"
   ]
  },
  {
   "cell_type": "code",
   "execution_count": 6,
   "id": "d74a227a",
   "metadata": {},
   "outputs": [],
   "source": [
    "%store -r model_fl_x\n",
    "%store -r model_fl_y\n",
    "%store -r model_fr_x\n",
    "%store -r model_fr_y\n",
    "%store -r model_rl_x\n",
    "%store -r model_rl_y\n",
    "%store -r model_rr_x\n",
    "%store -r model_rr_y\n",
    "%store -r model_fl_com_x\n",
    "%store -r model_fl_com_y\n",
    "%store -r model_fr_com_x\n",
    "%store -r model_fr_com_y"
   ]
  },
  {
   "cell_type": "markdown",
   "id": "d5225b0c",
   "metadata": {},
   "source": [
    "# Foot prediction test"
   ]
  },
  {
   "cell_type": "markdown",
   "id": "f8448303",
   "metadata": {},
   "source": [
    "The input will use initially only:\n",
    "\n",
    "- **HighCmd: fwd, side, rot speeds**\n",
    "- **HighState: fwd, side, rot speeds, footPosition2Body (FR)**\n",
    "\n",
    "and as output we seek to predict the following:\n",
    "\n",
    "- **footPosition2Body (FR)**"
   ]
  },
  {
   "cell_type": "code",
   "execution_count": 7,
   "id": "fea2af5f",
   "metadata": {},
   "outputs": [],
   "source": [
    "import sklearn\n",
    "from sklearn import metrics\n",
    "from sklearn.feature_selection import RFE\n",
    "from sklearn.model_selection import KFold\n",
    "from sklearn.linear_model import LinearRegression\n",
    "from sklearn.model_selection import train_test_split\n",
    "from sklearn.metrics import mean_squared_error, mean_absolute_error\n",
    "from sklearn.model_selection import cross_val_score, cross_val_predict"
   ]
  },
  {
   "cell_type": "markdown",
   "id": "90db0719",
   "metadata": {},
   "source": [
    "## Test Foot Models"
   ]
  },
  {
   "cell_type": "code",
   "execution_count": 8,
   "id": "9fc6b2e2",
   "metadata": {},
   "outputs": [
    {
     "data": {
      "text/plain": [
       "array([ 1.00000000e-01,  0.00000000e+00,  0.00000000e+00,  0.00000000e+00,\n",
       "        0.00000000e+00,  0.00000000e+00,  1.35253631e-02, -5.45018454e-03,\n",
       "        1.90322078e-37, -5.57888703e-24, -4.46281599e-23,  9.45164094e-02,\n",
       "        1.59093827e-01,  1.32301375e-01, -3.42030436e-01,  2.06204250e-01,\n",
       "       -1.36616319e-01, -3.38554084e-01, -2.68098682e-01,  1.39270037e-01,\n",
       "       -3.41048896e-01, -2.74800837e-01, -1.31081313e-01, -3.37453157e-01,\n",
       "        0.00000000e+00,  1.00000000e+00,  0.00000000e+00,  0.00000000e+00,\n",
       "        1.58638060e-02, -4.57940996e-03,  2.44542360e-02,  1.46174431e-03,\n",
       "        0.00000000e+00,  0.00000000e+00,  1.09132966e-01,  3.01721154e-03,\n",
       "        3.34074736e-01])"
      ]
     },
     "execution_count": 8,
     "metadata": {},
     "output_type": "execute_result"
    }
   ],
   "source": [
    "X_motion_step[1, :]"
   ]
  },
  {
   "cell_type": "code",
   "execution_count": 9,
   "id": "fa063439",
   "metadata": {},
   "outputs": [
    {
     "data": {
      "text/plain": [
       "array([ 0.07464571, -0.00153224,  0.        ,  0.        ,  0.        ,\n",
       "        0.        ,  0.03709272, -0.01009694])"
      ]
     },
     "execution_count": 9,
     "metadata": {},
     "output_type": "execute_result"
    }
   ],
   "source": [
    "Y_motion_step[1, :]"
   ]
  },
  {
   "cell_type": "code",
   "execution_count": 10,
   "id": "eeb4a923",
   "metadata": {},
   "outputs": [
    {
     "data": {
      "text/plain": [
       "0.0"
      ]
     },
     "execution_count": 10,
     "metadata": {},
     "output_type": "execute_result"
    }
   ],
   "source": [
    "min(Y_motion_step[np.where(X_motion_step[:, 1] > 0)[0], 5])"
   ]
  },
  {
   "cell_type": "code",
   "execution_count": 11,
   "id": "c808c678",
   "metadata": {},
   "outputs": [
    {
     "data": {
      "text/plain": [
       "array([-0.00457941,  0.0040237 ,  0.00552526,  0.00480825,  0.00888479,\n",
       "        0.00985001,  0.00600404,  0.00918202,  0.00653468,  0.00955936,\n",
       "        0.009455  ,  0.00937624,  0.00945383,  0.00561441,  0.01031588,\n",
       "        0.01084518,  0.00587085,  0.00323692,  0.00665227,  0.00956017])"
      ]
     },
     "execution_count": 11,
     "metadata": {},
     "output_type": "execute_result"
    }
   ],
   "source": [
    "Y_motion_step[np.where(X_motion_step[:, 24] == 1)[0][:20], 3]"
   ]
  },
  {
   "cell_type": "code",
   "execution_count": 13,
   "id": "85ceaebb",
   "metadata": {},
   "outputs": [],
   "source": [
    "# idx to use based on which foot is swinging\n",
    "X_FR_RL_SWINGING = X_motion_step[np.where(X_motion_step[:, 24] == 1)[0]]\n",
    "X_FL_RR_SWINGING = X_motion_step[np.where(X_motion_step[:, 25] == 1)[0]]\n",
    "Y_FR_RL_SWINGING = Y_motion_step[np.where(X_motion_step[:, 24] == 1)[0]]\n",
    "Y_FL_RR_SWINGING = Y_motion_step[np.where(X_motion_step[:, 25] == 1)[0]]\n",
    "\n",
    "# INPUT FOR PREDICTION\n",
    "#FL_X_INPUT = np.hstack((X_motion_step[:, :2], np.array([X_motion_step[:, 5]]).T, X_motion_step[:, 6:8], np.array([X_motion_step[:, 11]]).T, np.array([X_motion_step[:, 12]]).T, np.array([X_motion_step[:, 15]]).T))\n",
    "#FL_Y_INPUT = np.hstack((X_motion_step[:, :2], np.array([X_motion_step[:, 5]]).T, X_motion_step[:, 6:8], np.array([X_motion_step[:, 11]]).T, np.array([X_motion_step[:, 13]]).T, np.array([X_motion_step[:, 16]]).T))\n",
    "#FR_X_INPUT = np.hstack((X_motion_step[:, :2], np.array([X_motion_step[:, 5]]).T, X_motion_step[:, 6:8], np.array([X_motion_step[:, 11]]).T, np.array([X_motion_step[:, 12]]).T, np.array([X_motion_step[:, 15]]).T))\n",
    "#FR_Y_INPUT = np.hstack((X_motion_step[:, :2], np.array([X_motion_step[:, 5]]).T, X_motion_step[:, 6:8], np.array([X_motion_step[:, 11]]).T, np.array([X_motion_step[:, 13]]).T, np.array([X_motion_step[:, 16]]).T))\n",
    "#RL_X_INPUT = np.hstack((X_motion_step[:, :2], np.array([X_motion_step[:, 5]]).T, X_motion_step[:, 6:8], np.array([X_motion_step[:, 11]]).T, np.array([X_motion_step[:, 18]]).T, np.array([X_motion_step[:, 21]]).T))\n",
    "#RL_Y_INPUT = np.hstack((X_motion_step[:, :2], np.array([X_motion_step[:, 5]]).T, X_motion_step[:, 6:8], np.array([X_motion_step[:, 11]]).T, np.array([X_motion_step[:, 19]]).T, np.array([X_motion_step[:, 22]]).T))\n",
    "#RR_X_INPUT = np.hstack((X_motion_step[:, :2], np.array([X_motion_step[:, 5]]).T, X_motion_step[:, 6:8], np.array([X_motion_step[:, 11]]).T, np.array([X_motion_step[:, 18]]).T, np.array([X_motion_step[:, 21]]).T))\n",
    "#RR_Y_INPUT = np.hstack((X_motion_step[:, :2], np.array([X_motion_step[:, 5]]).T, X_motion_step[:, 6:8], np.array([X_motion_step[:, 11]]).T, np.array([X_motion_step[:, 19]]).T, np.array([X_motion_step[:, 22]]).T))\n",
    "FL_X_INPUT = np.hstack((X_FL_RR_SWINGING[:, :2], np.array([X_FL_RR_SWINGING[:, 5]]).T, np.array([X_FL_RR_SWINGING[:, 12]]).T, np.array([X_FL_RR_SWINGING[:, 15]]).T))\n",
    "FL_Y_INPUT = np.hstack((X_FL_RR_SWINGING[:, :2], np.array([X_FL_RR_SWINGING[:, 5]]).T, np.array([X_FL_RR_SWINGING[:, 13]]).T, np.array([X_FL_RR_SWINGING[:, 16]]).T))\n",
    "FR_X_INPUT = np.hstack((X_FR_RL_SWINGING[:, :2], np.array([X_FR_RL_SWINGING[:, 5]]).T, np.array([X_FR_RL_SWINGING[:, 12]]).T, np.array([X_FR_RL_SWINGING[:, 15]]).T))\n",
    "FR_Y_INPUT = np.hstack((X_FR_RL_SWINGING[:, :2], np.array([X_FR_RL_SWINGING[:, 5]]).T, np.array([X_FR_RL_SWINGING[:, 13]]).T, np.array([X_FR_RL_SWINGING[:, 16]]).T))\n",
    "RL_X_INPUT = np.hstack((X_FR_RL_SWINGING[:, :2], np.array([X_FR_RL_SWINGING[:, 5]]).T, np.array([X_FR_RL_SWINGING[:, 18]]).T, np.array([X_FR_RL_SWINGING[:, 21]]).T))\n",
    "RL_Y_INPUT = np.hstack((X_FR_RL_SWINGING[:, :2], np.array([X_FR_RL_SWINGING[:, 5]]).T, np.array([X_FR_RL_SWINGING[:, 19]]).T, np.array([X_FR_RL_SWINGING[:, 22]]).T))\n",
    "RR_X_INPUT = np.hstack((X_FL_RR_SWINGING[:, :2], np.array([X_FL_RR_SWINGING[:, 5]]).T, np.array([X_FL_RR_SWINGING[:, 18]]).T, np.array([X_FL_RR_SWINGING[:, 21]]).T))\n",
    "RR_Y_INPUT = np.hstack((X_FL_RR_SWINGING[:, :2], np.array([X_FL_RR_SWINGING[:, 5]]).T, np.array([X_FL_RR_SWINGING[:, 19]]).T, np.array([X_FL_RR_SWINGING[:, 22]]).T))\n",
    "\n",
    "# TARGET FOR PREDICTION\n",
    "FL_X_LABEL = np.array([Y_FL_RR_SWINGING[:, 0]]).T\n",
    "FL_Y_LABEL = np.array([Y_FL_RR_SWINGING[:, 1]]).T\n",
    "FR_X_LABEL = np.array([Y_FR_RL_SWINGING[:, 2]]).T\n",
    "FR_Y_LABEL = np.array([Y_FR_RL_SWINGING[:, 3]]).T\n",
    "RL_X_LABEL = np.array([Y_FR_RL_SWINGING[:, 4]]).T\n",
    "RL_Y_LABEL = np.array([Y_FR_RL_SWINGING[:, 5]]).T\n",
    "RR_X_LABEL = np.array([Y_FL_RR_SWINGING[:, 6]]).T\n",
    "RR_Y_LABEL = np.array([Y_FL_RR_SWINGING[:, 7]]).T\n",
    "\n",
    "# Predictions\n",
    "FL_X_PREDICTIONS = model_fl_x.predict(FL_X_INPUT)\n",
    "FL_Y_PREDICTIONS = model_fl_y.predict(FL_Y_INPUT)\n",
    "FR_X_PREDICTIONS = model_fr_x.predict(FR_X_INPUT)\n",
    "FR_Y_PREDICTIONS = model_fr_y.predict(FR_Y_INPUT)\n",
    "RL_X_PREDICTIONS = model_rl_x.predict(RL_X_INPUT)\n",
    "RL_Y_PREDICTIONS = model_rl_y.predict(RL_Y_INPUT)\n",
    "RR_X_PREDICTIONS = model_rr_x.predict(RR_X_INPUT)\n",
    "RR_Y_PREDICTIONS = model_rr_y.predict(RR_Y_INPUT)"
   ]
  },
  {
   "cell_type": "code",
   "execution_count": 14,
   "id": "2a43b51d",
   "metadata": {},
   "outputs": [
    {
     "data": {
      "text/plain": [
       "array([0.1       , 0.        , 0.        , 0.15909383, 0.20620425])"
      ]
     },
     "execution_count": 14,
     "metadata": {},
     "output_type": "execute_result"
    }
   ],
   "source": [
    "FL_X_INPUT[0]"
   ]
  },
  {
   "cell_type": "code",
   "execution_count": 15,
   "id": "fccbcf39",
   "metadata": {},
   "outputs": [
    {
     "data": {
      "text/plain": [
       "(73115, 1)"
      ]
     },
     "execution_count": 15,
     "metadata": {},
     "output_type": "execute_result"
    }
   ],
   "source": [
    "FL_X_LABEL.shape"
   ]
  },
  {
   "cell_type": "code",
   "execution_count": 16,
   "id": "0e8bcf44",
   "metadata": {},
   "outputs": [
    {
     "data": {
      "text/plain": [
       "array([0.0717482])"
      ]
     },
     "execution_count": 16,
     "metadata": {},
     "output_type": "execute_result"
    }
   ],
   "source": [
    "FL_X_PREDICTIONS[0]"
   ]
  },
  {
   "cell_type": "code",
   "execution_count": 17,
   "id": "cb80393c",
   "metadata": {},
   "outputs": [
    {
     "data": {
      "text/plain": [
       "array([1072, 1109, 1132, 1155, 1192, 1215, 1275, 1298, 1335, 1349, 1358,\n",
       "       1367, 1381, 1395, 1404, 1417, 1438, 1451, 1474, 1496, 1519, 1532,\n",
       "       1541, 1555, 1577, 1591, 1613, 1636, 1659, 1673, 1682, 1696, 1719,\n",
       "       1756, 1778, 1801, 1837, 1846, 1859, 1868, 1882, 1895, 1904, 1918,\n",
       "       1927, 1940, 1954, 1976, 1999, 3283, 3366, 3403, 3426, 3449, 3486,\n",
       "       3509, 3523, 3532, 3546, 3569, 3606, 3629, 3652, 3666, 3689, 3698,\n",
       "       3712, 3735, 3749, 3772, 3795, 3818, 3832, 3855, 3869, 3892, 3901,\n",
       "       3915, 3952, 3975, 3997, 4020, 4034, 4043, 4057, 4080, 4117, 5240,\n",
       "       5359, 5419, 5606, 5666, 5749, 5763, 5772, 5786, 5869, 5892, 5906,\n",
       "       5951, 6011, 6034, 7174, 7340, 7460, 7603, 8654, 9060])"
      ]
     },
     "execution_count": 17,
     "metadata": {},
     "output_type": "execute_result"
    }
   ],
   "source": [
    "lol = np.where(abs(FL_X_PREDICTIONS - FL_X_LABEL) > 0.1)[0]\n",
    "lol"
   ]
  },
  {
   "cell_type": "code",
   "execution_count": 18,
   "id": "a35e3e33",
   "metadata": {},
   "outputs": [
    {
     "data": {
      "text/plain": [
       "array([0.0717482])"
      ]
     },
     "execution_count": 18,
     "metadata": {},
     "output_type": "execute_result"
    }
   ],
   "source": [
    "FL_X_PREDICTIONS[0]"
   ]
  },
  {
   "cell_type": "code",
   "execution_count": 19,
   "id": "4622ba2c",
   "metadata": {},
   "outputs": [
    {
     "data": {
      "text/plain": [
       "array([[0.07464571],\n",
       "       [0.06010439],\n",
       "       [0.06078163],\n",
       "       [0.05450465],\n",
       "       [0.06848326],\n",
       "       [0.09516867],\n",
       "       [0.08363788],\n",
       "       [0.0862579 ],\n",
       "       [0.08774815],\n",
       "       [0.052808  ]])"
      ]
     },
     "execution_count": 19,
     "metadata": {},
     "output_type": "execute_result"
    }
   ],
   "source": [
    "FL_X_LABEL[:10]"
   ]
  },
  {
   "cell_type": "code",
   "execution_count": 20,
   "id": "527ea61a",
   "metadata": {},
   "outputs": [
    {
     "data": {
      "text/plain": [
       "array([[ 0.        ,  0.        ,  0.01586381, -0.00457941,  0.02445424,\n",
       "         0.00146174,  0.        ,  0.        ],\n",
       "       [ 0.07464571, -0.00153224,  0.        ,  0.        ,  0.        ,\n",
       "         0.        ,  0.03709272, -0.01009694],\n",
       "       [ 0.        ,  0.        ,  0.05948897,  0.0040237 ,  0.05842423,\n",
       "         0.00554843,  0.        ,  0.        ],\n",
       "       [ 0.06010439, -0.00485645,  0.        ,  0.        ,  0.        ,\n",
       "         0.        ,  0.05468392, -0.00500219],\n",
       "       [ 0.        ,  0.        ,  0.05894744,  0.00552526,  0.05314526,\n",
       "         0.00387365,  0.        ,  0.        ],\n",
       "       [ 0.06078163, -0.00433466,  0.        ,  0.        ,  0.        ,\n",
       "         0.        ,  0.05656737, -0.00456366],\n",
       "       [ 0.        ,  0.        ,  0.06044418,  0.00480825,  0.05624932,\n",
       "         0.00392984,  0.        ,  0.        ],\n",
       "       [ 0.05450465, -0.00735374,  0.        ,  0.        ,  0.        ,\n",
       "         0.        ,  0.0481399 , -0.00227286],\n",
       "       [ 0.        ,  0.        ,  0.05375968,  0.00888479,  0.04531294,\n",
       "         0.00152667,  0.        ,  0.        ],\n",
       "       [ 0.06848326,  0.01038659,  0.        ,  0.        ,  0.        ,\n",
       "         0.        ,  0.05756804, -0.00080499]])"
      ]
     },
     "execution_count": 20,
     "metadata": {},
     "output_type": "execute_result"
    }
   ],
   "source": [
    "Y_motion_step[:10]"
   ]
  },
  {
   "cell_type": "code",
   "execution_count": 21,
   "id": "d37616c4",
   "metadata": {},
   "outputs": [],
   "source": [
    "#for x in lol:\n",
    "    #print(Y_motion_step[x])\n",
    "    #print(FR_X_LABEL[lol,0], FR_Y_LABEL[lol,0])"
   ]
  },
  {
   "cell_type": "code",
   "execution_count": 11,
   "id": "13332829",
   "metadata": {},
   "outputs": [
    {
     "name": "stdout",
     "output_type": "stream",
     "text": [
      "[0.0, 0.0, 0.6500000000000001] [0. 1.]\n"
     ]
    },
    {
     "ename": "ValueError",
     "evalue": "matmul: Input operand 1 has a mismatch in its core dimension 0, with gufunc signature (n?,k),(k,m?)->(n?,m?) (size 6 is different from 5)",
     "output_type": "error",
     "traceback": [
      "\u001b[0;31m---------------------------------------------------------------------------\u001b[0m",
      "\u001b[0;31mValueError\u001b[0m                                Traceback (most recent call last)",
      "\u001b[0;32m<ipython-input-11-1b853cb65ca0>\u001b[0m in \u001b[0;36m<module>\u001b[0;34m()\u001b[0m\n\u001b[1;32m     83\u001b[0m \u001b[0;34m\u001b[0m\u001b[0m\n\u001b[1;32m     84\u001b[0m         \u001b[0minput_fl_y\u001b[0m \u001b[0;34m=\u001b[0m \u001b[0mnp\u001b[0m\u001b[0;34m.\u001b[0m\u001b[0marray\u001b[0m\u001b[0;34m(\u001b[0m\u001b[0;34m[\u001b[0m\u001b[0mX_motion_step\u001b[0m\u001b[0;34m[\u001b[0m\u001b[0mx\u001b[0m\u001b[0;34m,\u001b[0m \u001b[0;36m0\u001b[0m\u001b[0;34m]\u001b[0m\u001b[0;34m,\u001b[0m \u001b[0mX_motion_step\u001b[0m\u001b[0;34m[\u001b[0m\u001b[0mx\u001b[0m\u001b[0;34m,\u001b[0m \u001b[0;36m1\u001b[0m\u001b[0;34m]\u001b[0m\u001b[0;34m,\u001b[0m \u001b[0mX_motion_step\u001b[0m\u001b[0;34m[\u001b[0m\u001b[0mx\u001b[0m\u001b[0;34m,\u001b[0m \u001b[0;36m5\u001b[0m\u001b[0;34m]\u001b[0m\u001b[0;34m,\u001b[0m \u001b[0mfl_y\u001b[0m\u001b[0;34m,\u001b[0m \u001b[0mfr_y\u001b[0m\u001b[0;34m]\u001b[0m\u001b[0;34m)\u001b[0m\u001b[0;34m.\u001b[0m\u001b[0mreshape\u001b[0m\u001b[0;34m(\u001b[0m\u001b[0;34m-\u001b[0m\u001b[0;36m1\u001b[0m\u001b[0;34m,\u001b[0m \u001b[0;36m1\u001b[0m\u001b[0;34m)\u001b[0m\u001b[0;34m.\u001b[0m\u001b[0mT\u001b[0m\u001b[0;34m\u001b[0m\u001b[0;34m\u001b[0m\u001b[0m\n\u001b[0;32m---> 85\u001b[0;31m         \u001b[0mfl_predicted_movement_y\u001b[0m \u001b[0;34m=\u001b[0m \u001b[0mmodel_fl_y\u001b[0m\u001b[0;34m.\u001b[0m\u001b[0mpredict\u001b[0m\u001b[0;34m(\u001b[0m\u001b[0minput_fl_y\u001b[0m\u001b[0;34m)\u001b[0m\u001b[0;34m\u001b[0m\u001b[0;34m\u001b[0m\u001b[0m\n\u001b[0m\u001b[1;32m     86\u001b[0m \u001b[0;34m\u001b[0m\u001b[0m\n\u001b[1;32m     87\u001b[0m         \u001b[0minput_rr_x\u001b[0m \u001b[0;34m=\u001b[0m \u001b[0mnp\u001b[0m\u001b[0;34m.\u001b[0m\u001b[0marray\u001b[0m\u001b[0;34m(\u001b[0m\u001b[0;34m[\u001b[0m\u001b[0mX_motion_step\u001b[0m\u001b[0;34m[\u001b[0m\u001b[0mx\u001b[0m\u001b[0;34m,\u001b[0m \u001b[0;36m0\u001b[0m\u001b[0;34m]\u001b[0m\u001b[0;34m,\u001b[0m \u001b[0mX_motion_step\u001b[0m\u001b[0;34m[\u001b[0m\u001b[0mx\u001b[0m\u001b[0;34m,\u001b[0m \u001b[0;36m1\u001b[0m\u001b[0;34m]\u001b[0m\u001b[0;34m,\u001b[0m \u001b[0mX_motion_step\u001b[0m\u001b[0;34m[\u001b[0m\u001b[0mx\u001b[0m\u001b[0;34m,\u001b[0m \u001b[0;36m5\u001b[0m\u001b[0;34m]\u001b[0m\u001b[0;34m,\u001b[0m \u001b[0mrl_x\u001b[0m\u001b[0;34m,\u001b[0m \u001b[0mrr_x\u001b[0m\u001b[0;34m]\u001b[0m\u001b[0;34m)\u001b[0m\u001b[0;34m.\u001b[0m\u001b[0mreshape\u001b[0m\u001b[0;34m(\u001b[0m\u001b[0;34m-\u001b[0m\u001b[0;36m1\u001b[0m\u001b[0;34m,\u001b[0m \u001b[0;36m1\u001b[0m\u001b[0;34m)\u001b[0m\u001b[0;34m.\u001b[0m\u001b[0mT\u001b[0m\u001b[0;34m\u001b[0m\u001b[0;34m\u001b[0m\u001b[0m\n",
      "\u001b[0;32m/home/itaouil/miniconda3/envs/pytorch-env/lib/python3.6/site-packages/sklearn/linear_model/_base.py\u001b[0m in \u001b[0;36mpredict\u001b[0;34m(self, X)\u001b[0m\n\u001b[1;32m    236\u001b[0m             \u001b[0mReturns\u001b[0m \u001b[0mpredicted\u001b[0m \u001b[0mvalues\u001b[0m\u001b[0;34m.\u001b[0m\u001b[0;34m\u001b[0m\u001b[0;34m\u001b[0m\u001b[0m\n\u001b[1;32m    237\u001b[0m         \"\"\"\n\u001b[0;32m--> 238\u001b[0;31m         \u001b[0;32mreturn\u001b[0m \u001b[0mself\u001b[0m\u001b[0;34m.\u001b[0m\u001b[0m_decision_function\u001b[0m\u001b[0;34m(\u001b[0m\u001b[0mX\u001b[0m\u001b[0;34m)\u001b[0m\u001b[0;34m\u001b[0m\u001b[0;34m\u001b[0m\u001b[0m\n\u001b[0m\u001b[1;32m    239\u001b[0m \u001b[0;34m\u001b[0m\u001b[0m\n\u001b[1;32m    240\u001b[0m     \u001b[0m_preprocess_data\u001b[0m \u001b[0;34m=\u001b[0m \u001b[0mstaticmethod\u001b[0m\u001b[0;34m(\u001b[0m\u001b[0m_preprocess_data\u001b[0m\u001b[0;34m)\u001b[0m\u001b[0;34m\u001b[0m\u001b[0;34m\u001b[0m\u001b[0m\n",
      "\u001b[0;32m/home/itaouil/miniconda3/envs/pytorch-env/lib/python3.6/site-packages/sklearn/linear_model/_base.py\u001b[0m in \u001b[0;36m_decision_function\u001b[0;34m(self, X)\u001b[0m\n\u001b[1;32m    220\u001b[0m         \u001b[0mX\u001b[0m \u001b[0;34m=\u001b[0m \u001b[0mcheck_array\u001b[0m\u001b[0;34m(\u001b[0m\u001b[0mX\u001b[0m\u001b[0;34m,\u001b[0m \u001b[0maccept_sparse\u001b[0m\u001b[0;34m=\u001b[0m\u001b[0;34m[\u001b[0m\u001b[0;34m'csr'\u001b[0m\u001b[0;34m,\u001b[0m \u001b[0;34m'csc'\u001b[0m\u001b[0;34m,\u001b[0m \u001b[0;34m'coo'\u001b[0m\u001b[0;34m]\u001b[0m\u001b[0;34m)\u001b[0m\u001b[0;34m\u001b[0m\u001b[0;34m\u001b[0m\u001b[0m\n\u001b[1;32m    221\u001b[0m         return safe_sparse_dot(X, self.coef_.T,\n\u001b[0;32m--> 222\u001b[0;31m                                dense_output=True) + self.intercept_\n\u001b[0m\u001b[1;32m    223\u001b[0m \u001b[0;34m\u001b[0m\u001b[0m\n\u001b[1;32m    224\u001b[0m     \u001b[0;32mdef\u001b[0m \u001b[0mpredict\u001b[0m\u001b[0;34m(\u001b[0m\u001b[0mself\u001b[0m\u001b[0;34m,\u001b[0m \u001b[0mX\u001b[0m\u001b[0;34m)\u001b[0m\u001b[0;34m:\u001b[0m\u001b[0;34m\u001b[0m\u001b[0;34m\u001b[0m\u001b[0m\n",
      "\u001b[0;32m/home/itaouil/miniconda3/envs/pytorch-env/lib/python3.6/site-packages/sklearn/utils/validation.py\u001b[0m in \u001b[0;36minner_f\u001b[0;34m(*args, **kwargs)\u001b[0m\n\u001b[1;32m     61\u001b[0m             \u001b[0mextra_args\u001b[0m \u001b[0;34m=\u001b[0m \u001b[0mlen\u001b[0m\u001b[0;34m(\u001b[0m\u001b[0margs\u001b[0m\u001b[0;34m)\u001b[0m \u001b[0;34m-\u001b[0m \u001b[0mlen\u001b[0m\u001b[0;34m(\u001b[0m\u001b[0mall_args\u001b[0m\u001b[0;34m)\u001b[0m\u001b[0;34m\u001b[0m\u001b[0;34m\u001b[0m\u001b[0m\n\u001b[1;32m     62\u001b[0m             \u001b[0;32mif\u001b[0m \u001b[0mextra_args\u001b[0m \u001b[0;34m<=\u001b[0m \u001b[0;36m0\u001b[0m\u001b[0;34m:\u001b[0m\u001b[0;34m\u001b[0m\u001b[0;34m\u001b[0m\u001b[0m\n\u001b[0;32m---> 63\u001b[0;31m                 \u001b[0;32mreturn\u001b[0m \u001b[0mf\u001b[0m\u001b[0;34m(\u001b[0m\u001b[0;34m*\u001b[0m\u001b[0margs\u001b[0m\u001b[0;34m,\u001b[0m \u001b[0;34m**\u001b[0m\u001b[0mkwargs\u001b[0m\u001b[0;34m)\u001b[0m\u001b[0;34m\u001b[0m\u001b[0;34m\u001b[0m\u001b[0m\n\u001b[0m\u001b[1;32m     64\u001b[0m \u001b[0;34m\u001b[0m\u001b[0m\n\u001b[1;32m     65\u001b[0m             \u001b[0;31m# extra_args > 0\u001b[0m\u001b[0;34m\u001b[0m\u001b[0;34m\u001b[0m\u001b[0;34m\u001b[0m\u001b[0m\n",
      "\u001b[0;32m/home/itaouil/miniconda3/envs/pytorch-env/lib/python3.6/site-packages/sklearn/utils/extmath.py\u001b[0m in \u001b[0;36msafe_sparse_dot\u001b[0;34m(a, b, dense_output)\u001b[0m\n\u001b[1;32m    150\u001b[0m             \u001b[0mret\u001b[0m \u001b[0;34m=\u001b[0m \u001b[0mnp\u001b[0m\u001b[0;34m.\u001b[0m\u001b[0mdot\u001b[0m\u001b[0;34m(\u001b[0m\u001b[0ma\u001b[0m\u001b[0;34m,\u001b[0m \u001b[0mb\u001b[0m\u001b[0;34m)\u001b[0m\u001b[0;34m\u001b[0m\u001b[0;34m\u001b[0m\u001b[0m\n\u001b[1;32m    151\u001b[0m     \u001b[0;32melse\u001b[0m\u001b[0;34m:\u001b[0m\u001b[0;34m\u001b[0m\u001b[0;34m\u001b[0m\u001b[0m\n\u001b[0;32m--> 152\u001b[0;31m         \u001b[0mret\u001b[0m \u001b[0;34m=\u001b[0m \u001b[0ma\u001b[0m \u001b[0;34m@\u001b[0m \u001b[0mb\u001b[0m\u001b[0;34m\u001b[0m\u001b[0;34m\u001b[0m\u001b[0m\n\u001b[0m\u001b[1;32m    153\u001b[0m \u001b[0;34m\u001b[0m\u001b[0m\n\u001b[1;32m    154\u001b[0m     if (sparse.issparse(a) and sparse.issparse(b)\n",
      "\u001b[0;31mValueError\u001b[0m: matmul: Input operand 1 has a mismatch in its core dimension 0, with gufunc signature (n?,k),(k,m?)->(n?,m?) (size 6 is different from 5)"
     ]
    },
    {
     "data": {
      "image/png": "[encoded data removed]",
      "text/plain": [
       "<Figure size 432x288 with 1 Axes>"
      ]
     },
     "metadata": {
      "needs_background": "light"
     },
     "output_type": "display_data"
    }
   ],
   "source": [
    "# Visualize footsteps\n",
    "#for x in range(X_motion_step.shape[0]):        \n",
    "while True:\n",
    "    x = np.random.randint(0, X_motion_step.shape[0])\n",
    "    print(X_motion_step[x, :2].tolist() + [X_motion_step[x, 5]], X_motion_step[x, 24:26])\n",
    "    \n",
    "    fig = plt.figure()\n",
    "    ax1 = fig.add_subplot(111)\n",
    "    \n",
    "    # Starting posiitons\n",
    "    fl_x = X_motion_step[x, 12]\n",
    "    fl_y = X_motion_step[x, 13]\n",
    "    fr_x = X_motion_step[x, 15]\n",
    "    fr_y = X_motion_step[x, 16]\n",
    "    rl_x = X_motion_step[x, 18]\n",
    "    rl_y = X_motion_step[x, 19]\n",
    "    rr_x = X_motion_step[x, 21]\n",
    "    rr_y = X_motion_step[x, 22]\n",
    "\n",
    "    # Inputs 3D positions        \n",
    "    xs_input = np.array([fl_x, fr_x, rl_x, rr_x] ,dtype=object)\n",
    "    ys_input = np.array([fl_y, fr_y, rl_y, rr_y] ,dtype=object)\n",
    "    \n",
    "    # Footstep sizes (predictions)\n",
    "    fl_predicted_movement_x = 0\n",
    "    fl_predicted_movement_y = 0\n",
    "    fr_predicted_movement_x = 0 \n",
    "    fr_predicted_movement_y = 0\n",
    "    rl_predicted_movement_x = 0 \n",
    "    rl_predicted_movement_y = 0\n",
    "    rr_predicted_movement_x = 0 \n",
    "    rr_predicted_movement_y = 0\n",
    "    \n",
    "    # Footstep sizes (targets)\n",
    "    fl_target_movement_x = Y_motion_step[x, 0]\n",
    "    fl_target_movement_y = Y_motion_step[x, 1]\n",
    "    fr_target_movement_x = Y_motion_step[x, 2]\n",
    "    fr_target_movement_y = Y_motion_step[x, 3]\n",
    "    rl_target_movement_x = Y_motion_step[x, 4]\n",
    "    rl_target_movement_y = Y_motion_step[x, 5]\n",
    "    rr_target_movement_x = Y_motion_step[x, 6]\n",
    "    rr_target_movement_y = Y_motion_step[x, 7]\n",
    "    \n",
    "    # CoM\n",
    "    prev_com = [0, 0]\n",
    "    curr_com = [0, 0]\n",
    "    target_com = [0, 0]\n",
    "    predicted_com = [0, 0]\n",
    "    \n",
    "    # FR and RL moving\n",
    "    if X_motion_step[x, 24]:\n",
    "        input_fr_x = np.array([X_motion_step[x, 0], X_motion_step[x, 1], X_motion_step[x, 5], fl_x, fr_x]).reshape(-1, 1).T\n",
    "        print(input_fr_x.shape)\n",
    "        fr_predicted_movement_x = model_fr_x.predict(input_fr_x)\n",
    "        \n",
    "        input_fr_y = np.array([X_motion_step[x, 0], X_motion_step[x, 1], X_motion_step[x, 5], fl_y, fr_y]).reshape(-1, 1).T\n",
    "        fr_predicted_movement_y = model_fr_y.predict(input_fr_y)\n",
    "        \n",
    "        input_rl_x = np.array([X_motion_step[x, 0], X_motion_step[x, 1], X_motion_step[x, 5], rl_x, rr_x]).reshape(-1, 1).T\n",
    "        rl_predicted_movement_x = model_rl_x.predict(input_rl_x)\n",
    "        \n",
    "        input_rl_y = np.array([X_motion_step[x, 0], X_motion_step[x, 1], X_motion_step[x, 5], rl_y, rr_y]).reshape(-1, 1).T\n",
    "        rl_predicted_movement_y = model_rl_y.predict(input_rl_y)\n",
    "        \n",
    "        input_com_fr_x = np.array([X_motion_step[x, 0], X_motion_step[x, 1], X_motion_step[x, 5], fl_x, fl_y, fr_x, fr_y, rl_x, rl_y, rr_x, rr_y]).reshape(-1, 1).T\n",
    "        predicted_com[0] = model_fr_com_x.predict(input_com_fr_x)\n",
    "        \n",
    "        input_com_fr_y = np.array([X_motion_step[x, 0], X_motion_step[x, 1], X_motion_step[x, 5], fl_x, fl_y, fr_x, fr_y, rl_x, rl_y, rr_x, rr_y]).reshape(-1, 1).T\n",
    "        predicted_com[1] = model_fr_com_y.predict(input_com_fr_y)\n",
    "        \n",
    "        point1 = [fr_x + fr_predicted_movement_x, fr_y + fr_predicted_movement_y]\n",
    "        point2 = [rl_x + rl_predicted_movement_x, rl_y + rl_predicted_movement_y]\n",
    "        prev_com[0] = (fr_x + rl_x) / 2\n",
    "        prev_com[1] = (fr_y + rl_y) / 2\n",
    "        curr_com[0] = (point1[0] + point2[0]) / 2\n",
    "        curr_com[1] = (point1[1] + point2[1]) / 2\n",
    "        target_com[0] = (fr_x + fr_target_movement_x + rl_x + rl_target_movement_x) / 2\n",
    "        target_com[1] = (fr_y + fr_target_movement_y + rl_y + rl_target_movement_y) / 2\n",
    "    # FL and RR moving\n",
    "    else:\n",
    "        input_fl_x = np.array([X_motion_step[x, 0], X_motion_step[x, 1], X_motion_step[x, 5], fl_x, fr_x]).reshape(-1, 1).T\n",
    "        fl_predicted_movement_x = model_fl_x.predict(input_fl_x)\n",
    "        \n",
    "        input_fl_y = np.array([X_motion_step[x, 0], X_motion_step[x, 1], X_motion_step[x, 5], fl_y, fr_y]).reshape(-1, 1).T\n",
    "        fl_predicted_movement_y = model_fl_y.predict(input_fl_y)\n",
    "        \n",
    "        input_rr_x = np.array([X_motion_step[x, 0], X_motion_step[x, 1], X_motion_step[x, 5], rl_x, rr_x]).reshape(-1, 1).T\n",
    "        rr_predicted_movement_x = model_rr_x.predict(input_rr_x)\n",
    "        \n",
    "        input_rr_y = np.array([X_motion_step[x, 0], X_motion_step[x, 1], X_motion_step[x, 5], rl_y, rr_y]).reshape(-1, 1).T\n",
    "        rr_predicted_movement_y = model_rr_y.predict(input_rr_y)\n",
    "        \n",
    "        input_com_fl_x = np.array([X_motion_step[x, 0], X_motion_step[x, 1], X_motion_step[x, 5], fl_x, fl_y, fr_x, fr_y, rl_x, rl_y, rr_x, rr_y]).reshape(-1, 1).T\n",
    "        predicted_com[0] = model_fl_com_x.predict(input_com_fl_x)\n",
    "        \n",
    "        input_com_fl_y = np.array([X_motion_step[x, 0], X_motion_step[x, 1], X_motion_step[x, 5], fl_x, fl_y, fr_x, fr_y, rl_x, rl_y, rr_x, rr_y]).reshape(-1, 1).T\n",
    "        predicted_com[1] = model_fl_com_y.predict(input_com_fl_y)\n",
    "        \n",
    "        point1 = [fl_x + fl_predicted_movement_x, fl_y + fl_predicted_movement_y]\n",
    "        point2 = [rr_x + rr_predicted_movement_x, rr_y + rr_predicted_movement_y]\n",
    "        prev_com[0] = (fl_x + rr_x) / 2\n",
    "        prev_com[1] = (fl_y + rr_y) / 2\n",
    "        curr_com[0] = (point1[0] + point2[0]) / 2\n",
    "        curr_com[1] = (point1[1] + point2[1]) / 2\n",
    "        target_com[0] = (fl_x + fl_target_movement_x + rr_x + rr_target_movement_x) / 2\n",
    "        target_com[1] = (fl_y + fl_target_movement_y + rr_y + rr_target_movement_y) / 2\n",
    "        \n",
    "    \n",
    "    # Labels 3D positions        \n",
    "    xs_targets = np.array([fl_x + fl_target_movement_x, fr_x + fr_target_movement_x, rl_x + rl_target_movement_x, rr_x + rr_target_movement_x] ,dtype=object)\n",
    "    ys_targets = np.array([fl_y + fl_target_movement_y, fr_y + fr_target_movement_y, rl_y + rl_target_movement_y, rr_y + rr_target_movement_y] ,dtype=object)\n",
    "    \n",
    "    # Predictions 3D positions        \n",
    "    xs_predictions = np.array([fl_x + fl_predicted_movement_x, fr_x + fr_predicted_movement_x, rl_x + rl_predicted_movement_x, rr_x + rr_predicted_movement_x] ,dtype=object)\n",
    "    ys_predictions = np.array([fl_y + fl_predicted_movement_y, fr_y + fr_predicted_movement_y, rl_y + rl_predicted_movement_y, rr_y + rr_predicted_movement_y] ,dtype=object)\n",
    "\n",
    "    ax1.scatter(xs_input, ys_input, marker='o', label=\"Starting Config.\")\n",
    "    ax1.scatter(xs_targets, ys_targets, marker='s', label=\"Target Config.\")\n",
    "    ax1.scatter(xs_predictions, ys_predictions, marker='x', label=\"Predicted Config.\")\n",
    "    #ax1.scatter(curr_com[0], curr_com[1], marker='^', c='b', label=\"Predicted CoM\")\n",
    "    #ax1.scatter(prev_com[0], prev_com[1], marker='^', c= 'r', label=\"Prev CoM\")\n",
    "    #ax1.scatter(target_com[0], target_com[1], marker='^', c= 'g', label=\"Target CoM\")\n",
    "    ax1.scatter(predicted_com[0], predicted_com[1], marker='^', c= 'g', label=\"Predicted CoM\")\n",
    "    ax1.set_xlabel('X')\n",
    "    ax1.set_ylabel('Y')\n",
    "    plt.show()"
   ]
  },
  {
   "cell_type": "code",
   "execution_count": null,
   "id": "38760654",
   "metadata": {},
   "outputs": [],
   "source": []
  }
 ],
 "metadata": {
  "kernelspec": {
   "display_name": "Python 3",
   "language": "python",
   "name": "python3"
  },
  "language_info": {
   "codemirror_mode": {
    "name": "ipython",
    "version": 3
   },
   "file_extension": ".py",
   "mimetype": "text/x-python",
   "name": "python",
   "nbconvert_exporter": "python",
   "pygments_lexer": "ipython3",
   "version": "3.6.12"
  }
 },
 "nbformat": 4,
 "nbformat_minor": 5
}
