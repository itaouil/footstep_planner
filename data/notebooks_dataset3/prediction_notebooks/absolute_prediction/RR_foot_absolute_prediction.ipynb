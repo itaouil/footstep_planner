{
 "cells": [
  {
   "cell_type": "code",
   "execution_count": 1,
   "id": "e0fcf9a0",
   "metadata": {},
   "outputs": [],
   "source": [
    "#!/usr/bin/env python3.6\n",
    "# -*- coding: utf-8 -*-"
   ]
  },
  {
   "cell_type": "code",
   "execution_count": 2,
   "id": "a94b0197",
   "metadata": {},
   "outputs": [],
   "source": [
    "# Imports\n",
    "import sys\n",
    "import joblib\n",
    "import numpy as np\n",
    "from matplotlib import animation\n",
    "from IPython.display import HTML\n",
    "from matplotlib import pyplot as plt\n",
    "import mpl_toolkits.mplot3d.axes3d as p3"
   ]
  },
  {
   "cell_type": "code",
   "execution_count": 3,
   "id": "d17062fb",
   "metadata": {},
   "outputs": [],
   "source": [
    "#np.random.seed(20)\n",
    "np.set_printoptions(threshold=sys.maxsize)"
   ]
  },
  {
   "cell_type": "code",
   "execution_count": 4,
   "id": "156f4dec",
   "metadata": {},
   "outputs": [],
   "source": [
    "%matplotlib inline"
   ]
  },
  {
   "cell_type": "code",
   "execution_count": 5,
   "id": "38f3a57b",
   "metadata": {},
   "outputs": [
    {
     "name": "stdout",
     "output_type": "stream",
     "text": [
      "(148884, 37)\n",
      "(148884, 8)\n"
     ]
    }
   ],
   "source": [
    "%store -r X_motion_step\n",
    "%store -r Y_motion_step\n",
    "print(X_motion_step.shape)\n",
    "print(Y_motion_step.shape)"
   ]
  },
  {
   "cell_type": "markdown",
   "id": "135630ab",
   "metadata": {},
   "source": [
    "# Multivariate Linear Regression (Foot prediction)"
   ]
  },
  {
   "cell_type": "markdown",
   "id": "efaafd6a",
   "metadata": {},
   "source": [
    "The input will use initially only:\n",
    "\n",
    "- **HighCmd: fwd, side, rot speeds**\n",
    "- **HighState: fwd, side, rot speeds, footPosition2Body (FR)**\n",
    "\n",
    "and as output we seek to predict the following:\n",
    "\n",
    "- **footPosition2Body (FR)**"
   ]
  },
  {
   "cell_type": "code",
   "execution_count": 6,
   "id": "bfc208db",
   "metadata": {},
   "outputs": [],
   "source": [
    "import sklearn\n",
    "from sklearn import metrics\n",
    "from sklearn.feature_selection import RFE\n",
    "from sklearn.model_selection import KFold\n",
    "from sklearn.linear_model import LinearRegression\n",
    "from sklearn.model_selection import train_test_split\n",
    "from sklearn.preprocessing import PolynomialFeatures \n",
    "from sklearn.model_selection import cross_val_score, cross_val_predict\n",
    "from sklearn.metrics import mean_squared_error, mean_absolute_error, r2_score"
   ]
  },
  {
   "cell_type": "code",
   "execution_count": 7,
   "id": "2b9f4cff",
   "metadata": {},
   "outputs": [],
   "source": [
    "# Entries where FL foot is swinging\n",
    "idx_rr_swinging = np.where(X_motion_step[:, 25] == 1)[0]\n",
    "X_motion_step_RR = X_motion_step[idx_rr_swinging]\n",
    "Y_motion_step_RR = Y_motion_step[idx_rr_swinging]"
   ]
  },
  {
   "cell_type": "markdown",
   "id": "b619849a",
   "metadata": {},
   "source": [
    "## Predict RR foot -> x"
   ]
  },
  {
   "cell_type": "code",
   "execution_count": 8,
   "id": "4307d178",
   "metadata": {},
   "outputs": [
    {
     "data": {
      "text/plain": [
       "array([ 1.00000000e-01,  0.00000000e+00,  0.00000000e+00,  0.00000000e+00,\n",
       "        0.00000000e+00,  0.00000000e+00,  1.35253631e-02, -5.45018454e-03,\n",
       "        1.90322078e-37, -5.57888703e-24, -4.46281599e-23,  9.45164094e-02,\n",
       "        1.59093827e-01,  1.32301375e-01, -3.42030436e-01,  2.06204250e-01,\n",
       "       -1.36616319e-01, -3.38554084e-01, -2.68098682e-01,  1.39270037e-01,\n",
       "       -3.41048896e-01, -2.74800837e-01, -1.31081313e-01, -3.37453157e-01,\n",
       "        0.00000000e+00,  1.00000000e+00,  0.00000000e+00,  0.00000000e+00,\n",
       "        1.58638060e-02, -4.57940996e-03,  2.44542360e-02,  1.46174431e-03,\n",
       "        0.00000000e+00,  0.00000000e+00,  1.09132966e-01,  3.01721154e-03,\n",
       "        3.34074736e-01])"
      ]
     },
     "execution_count": 8,
     "metadata": {},
     "output_type": "execute_result"
    }
   ],
   "source": [
    "X_motion_step_RR[0, :]"
   ]
  },
  {
   "cell_type": "code",
   "execution_count": 9,
   "id": "9d79112f",
   "metadata": {},
   "outputs": [
    {
     "data": {
      "text/plain": [
       "array([ 0.07464571, -0.00153224,  0.        ,  0.        ,  0.        ,\n",
       "        0.        ,  0.03709272, -0.01009694])"
      ]
     },
     "execution_count": 9,
     "metadata": {},
     "output_type": "execute_result"
    }
   ],
   "source": [
    "Y_motion_step_RR[0, :]"
   ]
  },
  {
   "cell_type": "code",
   "execution_count": 10,
   "id": "d875e406",
   "metadata": {},
   "outputs": [
    {
     "data": {
      "text/plain": [
       "(73115, 8)"
      ]
     },
     "execution_count": 10,
     "metadata": {},
     "output_type": "execute_result"
    }
   ],
   "source": [
    "Y_motion_step_RR.shape"
   ]
  },
  {
   "cell_type": "code",
   "execution_count": 11,
   "id": "ef62162d",
   "metadata": {},
   "outputs": [],
   "source": [
    "#X_motion_step[idx_rr_swinging - 1, 28]"
   ]
  },
  {
   "cell_type": "markdown",
   "id": "18a2e13d",
   "metadata": {},
   "source": [
    "### Linear Regression"
   ]
  },
  {
   "cell_type": "code",
   "execution_count": 18,
   "id": "f50aecb0",
   "metadata": {},
   "outputs": [
    {
     "name": "stdout",
     "output_type": "stream",
     "text": [
      "R2:  0.9766891550036668\n",
      "RMSE:  0.015579177750051404\n",
      "The lowest error is:  4.817749112880076e-07\n",
      "The highest error is:  0.12288691087938514\n",
      "The avg. error is:  0.010670973097656128\n"
     ]
    }
   ],
   "source": [
    "# Input\n",
    "#X = np.hstack((X_motion_step_RR[:, :2], np.array([X_motion_step_RR[:, 5]]).T, \n",
    "#               X_motion_step_RR[:, 6:8], np.array([X_motion_step_RR[:, 11]]).T, \n",
    "#               np.array([X_motion_step_RR[:, 18]]).T, np.array([X_motion_step_RR[:, 21]]).T))\n",
    "X = np.hstack((X_motion_step_RR[:, :2], np.array([X_motion_step_RR[:, 5]]).T, \n",
    "               np.array([X_motion_step_RR[:, 18]]).T, np.array([X_motion_step_RR[:, 21]]).T))\n",
    "\n",
    "X = np.hstack((X_motion_step_RR[:, :2], \n",
    "               np.array([X_motion_step_RR[:, 5]]).T,\n",
    "               np.array([X_motion_step[idx_rr_swinging-1, 32]]).T, \n",
    "               np.array([X_motion_step[idx_rr_swinging, 30]]).T,\n",
    "               X_motion_step[idx_rr_swinging, 34:36]))\n",
    "\n",
    "# Labels\n",
    "Y = np.array([Y_motion_step_RR[:, 6]]).T\n",
    "\n",
    "assert Y.shape[0] == X.shape[0]\n",
    "\n",
    "# Split data into train and test set\n",
    "X_train, X_test, Y_train, Y_test = train_test_split(X, Y, train_size = 0.8, test_size=0.2, shuffle=True, random_state=100)\n",
    "\n",
    "# Create the model\n",
    "model_rr_x = LinearRegression()\n",
    "\n",
    "# Fit the model\n",
    "model_rr_x.fit(X_train, Y_train)\n",
    "\n",
    "# Predict\n",
    "predictions = model_rr_x.predict(X_test)\n",
    "\n",
    "# Stats\n",
    "print('R2: ', r2_score(predictions, Y_test))\n",
    "print('RMSE: ', np.sqrt(mean_squared_error(Y_test, predictions)))\n",
    "print(\"The lowest error is: \", np.min(np.abs(predictions - Y_test)))\n",
    "print(\"The highest error is: \", np.max(np.abs(predictions - Y_test)))\n",
    "print(\"The avg. error is: \", np.mean(np.abs(predictions - Y_test)))\n",
    "#print(\"Seq of errors (descendant): \\n\", sorted(np.abs(predictions - Y_test).tolist(), reverse=True))"
   ]
  },
  {
   "cell_type": "code",
   "execution_count": 19,
   "id": "a48e1852",
   "metadata": {},
   "outputs": [
    {
     "data": {
      "text/plain": [
       "Text(0, 0.5, 'Predictions')"
      ]
     },
     "execution_count": 19,
     "metadata": {},
     "output_type": "execute_result"
    },
    {
     "data": {
      "image/png": "[encoded data removed]",
      "text/plain": [
       "<Figure size 432x288 with 1 Axes>"
      ]
     },
     "metadata": {
      "needs_background": "light"
     },
     "output_type": "display_data"
    }
   ],
   "source": [
    "## The line / model\n",
    "plt.scatter(Y_test, predictions)\n",
    "plt.xlabel(\"True Values\")\n",
    "plt.ylabel(\"Predictions\")"
   ]
  },
  {
   "cell_type": "code",
   "execution_count": 20,
   "id": "f04062ef",
   "metadata": {},
   "outputs": [
    {
     "name": "stdout",
     "output_type": "stream",
     "text": [
      "Stored 'model_rr_x' (LinearRegression)\n"
     ]
    }
   ],
   "source": [
    "%store model_rr_x"
   ]
  },
  {
   "cell_type": "code",
   "execution_count": 15,
   "id": "35630ac2",
   "metadata": {},
   "outputs": [],
   "source": [
    "#for idx, prediction in enumerate(predictions):\n",
    "#    print(f'Groundtruth: {Y_test[idx]}. Predicted: {prediction}')"
   ]
  },
  {
   "cell_type": "code",
   "execution_count": 16,
   "id": "12f76d79",
   "metadata": {},
   "outputs": [
    {
     "data": {
      "text/plain": [
       "['/home/itaouil/workspace/aliengo_ws/src/aliengo_navigation/models/protocol3/model_rr_x.sav']"
      ]
     },
     "execution_count": 16,
     "metadata": {},
     "output_type": "execute_result"
    }
   ],
   "source": [
    "# Save model\n",
    "joblib.dump(model_rr_x, \"/home/itaouil/workspace/aliengo_ws/src/aliengo_navigation/models/protocol3/model_rr_x.sav\")"
   ]
  },
  {
   "cell_type": "markdown",
   "id": "3dc09ee3",
   "metadata": {},
   "source": [
    "### Predict RR foot -> y"
   ]
  },
  {
   "cell_type": "code",
   "execution_count": 21,
   "id": "d9686905",
   "metadata": {},
   "outputs": [
    {
     "name": "stdout",
     "output_type": "stream",
     "text": [
      "R2:  0.9838478551544512\n",
      "RMSE:  0.012830309782943857\n",
      "The lowest error is:  2.8691205066280756e-08\n",
      "The highest error is:  0.1303148847724932\n",
      "The avg. error is:  0.007970547887481671\n"
     ]
    }
   ],
   "source": [
    "# Input\n",
    "#X = np.hstack((X_motion_step_RR[:, :2], np.array([X_motion_step_RR[:, 5]]).T, \n",
    "#               X_motion_step_RR[:, 6:8], np.array([X_motion_step_RR[:, 11]]).T, \n",
    "#               np.array([X_motion_step_RR[:, 19]]).T, np.array([X_motion_step_RR[:, 22]]).T))\n",
    "X = np.hstack((X_motion_step_RR[:, :2], np.array([X_motion_step_RR[:, 5]]).T, \n",
    "               np.array([X_motion_step_RR[:, 19]]).T, np.array([X_motion_step_RR[:, 22]]).T))\n",
    "\n",
    "X = np.hstack((X_motion_step_RR[:, :2], \n",
    "               np.array([X_motion_step_RR[:, 5]]).T,\n",
    "               np.array([X_motion_step[idx_rr_swinging-1, 33]]).T, \n",
    "               np.array([X_motion_step[idx_rr_swinging, 31]]).T,\n",
    "               X_motion_step[idx_rr_swinging, 34:36]))\n",
    "\n",
    "# Labels\n",
    "Y = np.array([Y_motion_step_RR[:, 7]]).T\n",
    "\n",
    "assert Y.shape[0] == X.shape[0]\n",
    "\n",
    "# Split data into train and test set\n",
    "X_train, X_test, Y_train, Y_test = train_test_split(X, Y, train_size = 0.8, test_size=0.2, shuffle=True, random_state=100)\n",
    "\n",
    "# Create the model\n",
    "model_rr_y = LinearRegression()\n",
    "\n",
    "# Fit the model\n",
    "model_rr_y.fit(X_train, Y_train)\n",
    "\n",
    "# Predict\n",
    "predictions = model_rr_y.predict(X_test)\n",
    "\n",
    "# Stats\n",
    "print('R2: ', r2_score(predictions, Y_test))\n",
    "print('RMSE: ', np.sqrt(mean_squared_error(Y_test, predictions)))\n",
    "print(\"The lowest error is: \", np.min(np.abs(predictions - Y_test)))\n",
    "print(\"The highest error is: \", np.max(np.abs(predictions - Y_test)))\n",
    "print(\"The avg. error is: \", np.mean(np.abs(predictions - Y_test)))\n",
    "#print(\"Seq of errors (descendant): \\n\", sorted(np.abs(predictions - Y_test).tolist(), reverse=True))"
   ]
  },
  {
   "cell_type": "code",
   "execution_count": 22,
   "id": "af7aa529",
   "metadata": {},
   "outputs": [
    {
     "data": {
      "text/plain": [
       "Text(0, 0.5, 'Predictions')"
      ]
     },
     "execution_count": 22,
     "metadata": {},
     "output_type": "execute_result"
    },
    {
     "data": {
      "image/png": "[encoded data removed]",
      "text/plain": [
       "<Figure size 432x288 with 1 Axes>"
      ]
     },
     "metadata": {
      "needs_background": "light"
     },
     "output_type": "display_data"
    }
   ],
   "source": [
    "## The line / model\n",
    "plt.scatter(Y_test, predictions)\n",
    "plt.xlabel(\"True Values\")\n",
    "plt.ylabel(\"Predictions\")"
   ]
  },
  {
   "cell_type": "code",
   "execution_count": 23,
   "id": "231e7fb0",
   "metadata": {},
   "outputs": [
    {
     "name": "stdout",
     "output_type": "stream",
     "text": [
      "Stored 'model_rr_y' (LinearRegression)\n"
     ]
    }
   ],
   "source": [
    "%store model_rr_y"
   ]
  },
  {
   "cell_type": "code",
   "execution_count": 20,
   "id": "612cc0ed",
   "metadata": {},
   "outputs": [],
   "source": [
    "#for idx, prediction in enumerate(predictions):\n",
    "#    print(f'Groundtruth: {Y_test[idx]}. Predicted: {prediction}')"
   ]
  },
  {
   "cell_type": "code",
   "execution_count": 21,
   "id": "a7e37667",
   "metadata": {},
   "outputs": [
    {
     "data": {
      "text/plain": [
       "['/home/itaouil/workspace/aliengo_ws/src/aliengo_navigation/models/protocol3/model_rr_y.sav']"
      ]
     },
     "execution_count": 21,
     "metadata": {},
     "output_type": "execute_result"
    }
   ],
   "source": [
    "# Save model\n",
    "joblib.dump(model_rr_y, \"/home/itaouil/workspace/aliengo_ws/src/aliengo_navigation/models/protocol3/model_rr_y.sav\")"
   ]
  },
  {
   "cell_type": "code",
   "execution_count": null,
   "id": "27bfd13a",
   "metadata": {},
   "outputs": [],
   "source": []
  }
 ],
 "metadata": {
  "kernelspec": {
   "display_name": "Python 3",
   "language": "python",
   "name": "python3"
  },
  "language_info": {
   "codemirror_mode": {
    "name": "ipython",
    "version": 3
   },
   "file_extension": ".py",
   "mimetype": "text/x-python",
   "name": "python",
   "nbconvert_exporter": "python",
   "pygments_lexer": "ipython3",
   "version": "3.6.12"
  }
 },
 "nbformat": 4,
 "nbformat_minor": 5
}
