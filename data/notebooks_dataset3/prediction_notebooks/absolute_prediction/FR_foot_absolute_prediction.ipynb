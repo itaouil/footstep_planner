{
 "cells": [
  {
   "cell_type": "code",
   "execution_count": 1,
   "id": "91455978",
   "metadata": {},
   "outputs": [],
   "source": [
    "#!/usr/bin/env python3.6\n",
    "# -*- coding: utf-8 -*-"
   ]
  },
  {
   "cell_type": "code",
   "execution_count": 2,
   "id": "f3749cbb",
   "metadata": {},
   "outputs": [],
   "source": [
    "# Imports\n",
    "import sys\n",
    "import joblib\n",
    "import numpy as np\n",
    "from matplotlib import animation\n",
    "from IPython.display import HTML\n",
    "from matplotlib import pyplot as plt\n",
    "import mpl_toolkits.mplot3d.axes3d as p3"
   ]
  },
  {
   "cell_type": "code",
   "execution_count": 3,
   "id": "aa2bb8ed",
   "metadata": {},
   "outputs": [],
   "source": [
    "#np.random.seed(20)\n",
    "np.set_printoptions(threshold=sys.maxsize)"
   ]
  },
  {
   "cell_type": "code",
   "execution_count": 4,
   "id": "e72fda55",
   "metadata": {},
   "outputs": [],
   "source": [
    "%matplotlib inline"
   ]
  },
  {
   "cell_type": "code",
   "execution_count": 5,
   "id": "9d2c782b",
   "metadata": {},
   "outputs": [
    {
     "name": "stdout",
     "output_type": "stream",
     "text": [
      "(148884, 38)\n",
      "(148884, 8)\n"
     ]
    }
   ],
   "source": [
    "%store -r X_motion_step\n",
    "%store -r Y_motion_step\n",
    "print(X_motion_step.shape)\n",
    "print(Y_motion_step.shape)"
   ]
  },
  {
   "cell_type": "markdown",
   "id": "8d5de6db",
   "metadata": {},
   "source": [
    "# Multivariate Linear Regression (Foot prediction)"
   ]
  },
  {
   "cell_type": "markdown",
   "id": "fab63475",
   "metadata": {},
   "source": [
    "The input will use initially only:\n",
    "\n",
    "- **HighCmd: fwd, side, rot speeds**\n",
    "- **HighState: fwd, side, rot speeds, footPosition2Body (FR)**\n",
    "\n",
    "and as output we seek to predict the following:\n",
    "\n",
    "- **footPosition2Body (FR)**"
   ]
  },
  {
   "cell_type": "code",
   "execution_count": 6,
   "id": "2386465d",
   "metadata": {},
   "outputs": [],
   "source": [
    "import sklearn\n",
    "from sklearn import metrics\n",
    "from sklearn.feature_selection import RFE\n",
    "from sklearn.model_selection import KFold\n",
    "from sklearn.linear_model import LinearRegression\n",
    "from sklearn.model_selection import train_test_split\n",
    "from sklearn.preprocessing import PolynomialFeatures \n",
    "from sklearn.model_selection import cross_val_score, cross_val_predict\n",
    "from sklearn.metrics import mean_squared_error, mean_absolute_error, r2_score"
   ]
  },
  {
   "cell_type": "code",
   "execution_count": 7,
   "id": "ac445294",
   "metadata": {},
   "outputs": [],
   "source": [
    "# Entries where FL foot is swinging\n",
    "idx_fr_swinging = np.where(X_motion_step[:, 24] == 1)[0]\n",
    "X_motion_step_FR = X_motion_step[idx_fr_swinging]\n",
    "Y_motion_step_FR = Y_motion_step[idx_fr_swinging]"
   ]
  },
  {
   "cell_type": "code",
   "execution_count": 17,
   "id": "34e3d045",
   "metadata": {},
   "outputs": [
    {
     "name": "stdout",
     "output_type": "stream",
     "text": [
      "Command: 0.1. FR step: 0.0. DT: 0. FL velocity (x): 0. FL velocity (y): 0\n",
      "Command: 0.1. FR step: 0.0. DT: 0.34110283851623535. FL velocity (x): 0.0. FL velocity (y): 0.0\n",
      "Command: 0.1. FR step: 0.0. DT: 0.3515498638153076. FL velocity (x): 0.0. FL velocity (y): 0.0\n",
      "Command: 0.1. FR step: 0.0. DT: 0.34302186965942383. FL velocity (x): 0.0. FL velocity (y): 0.0\n",
      "Command: 0.1. FR step: 0.0. DT: 0.3473803997039795. FL velocity (x): 0.0. FL velocity (y): 0.0\n",
      "Command: 0.1. FR step: 0.0. DT: 0.30436182022094727. FL velocity (x): 0.0. FL velocity (y): 0.0\n",
      "Command: 0.1. FR step: 0.0. DT: 0.3015124797821045. FL velocity (x): 0.0. FL velocity (y): 0.0\n",
      "Command: 0.1. FR step: 0.0. DT: 0.29698681831359863. FL velocity (x): 0.0. FL velocity (y): 0.0\n",
      "Command: 0.1. FR step: 0.0. DT: 0.34815049171447754. FL velocity (x): 0.0. FL velocity (y): 0.0\n",
      "Command: 0.15000000000000002. FR step: 0.0. DT: 0.2709662914276123. FL velocity (x): 0.0. FL velocity (y): 0.0\n",
      "Command: 0.15000000000000002. FR step: 0.0. DT: 0.3196086883544922. FL velocity (x): 0.0. FL velocity (y): 0.0\n",
      "Command: 0.15000000000000002. FR step: 0.0. DT: 0.30849599838256836. FL velocity (x): 0.0. FL velocity (y): 0.0\n",
      "Command: 0.15000000000000002. FR step: 0.0. DT: 0.31018829345703125. FL velocity (x): 0.0. FL velocity (y): 0.0\n",
      "Command: 0.15000000000000002. FR step: 0.0. DT: 0.2528660297393799. FL velocity (x): 0.0. FL velocity (y): 0.0\n",
      "Command: 0.15000000000000002. FR step: 0.0. DT: 0.35173821449279785. FL velocity (x): 0.0. FL velocity (y): 0.0\n",
      "Command: 0.15000000000000002. FR step: 0.0. DT: 0.34124326705932617. FL velocity (x): 0.0. FL velocity (y): 0.0\n",
      "Command: 0.15000000000000002. FR step: 0.0. DT: 0.3948049545288086. FL velocity (x): 0.0. FL velocity (y): 0.0\n",
      "Command: 0.15000000000000002. FR step: 0.0. DT: 0.3206772804260254. FL velocity (x): 0.0. FL velocity (y): 0.0\n",
      "Command: 0.1. FR step: 0.0. DT: 0.29668569564819336. FL velocity (x): 0.0. FL velocity (y): 0.0\n",
      "Command: 0.1. FR step: 0.0. DT: 0.3287065029144287. FL velocity (x): 0.0. FL velocity (y): 0.0\n",
      "Command: 0.1. FR step: 0.0. DT: 0.35055041313171387. FL velocity (x): 0.0. FL velocity (y): 0.0\n",
      "Command: 0.1. FR step: 0.0. DT: 0.29949355125427246. FL velocity (x): 0.0. FL velocity (y): 0.0\n",
      "Command: 0.1. FR step: 0.0. DT: 0.2950417995452881. FL velocity (x): 0.0. FL velocity (y): 0.0\n",
      "Command: 0.1. FR step: 0.0. DT: 0.32077550888061523. FL velocity (x): 0.0. FL velocity (y): 0.0\n",
      "Command: 0.1. FR step: 0.0. DT: 0.3049435615539551. FL velocity (x): 0.0. FL velocity (y): 0.0\n",
      "Command: 0.1. FR step: 0.0. DT: 0.3179285526275635. FL velocity (x): 0.0. FL velocity (y): 0.0\n",
      "Command: 0.1. FR step: 0.0. DT: 0.36507654190063477. FL velocity (x): 0.0. FL velocity (y): 0.0\n",
      "Command: 0.1. FR step: 0.0. DT: 0.3040003776550293. FL velocity (x): 0.0. FL velocity (y): 0.0\n",
      "Command: 0.15000000000000002. FR step: 0.0. DT: 0.3171238899230957. FL velocity (x): 0.0. FL velocity (y): 0.0\n",
      "Command: 0.15000000000000002. FR step: 0.0. DT: 0.3417398929595947. FL velocity (x): 0.0. FL velocity (y): 0.0\n",
      "Command: 0.15000000000000002. FR step: 0.0. DT: 0.3008606433868408. FL velocity (x): 0.0. FL velocity (y): 0.0\n",
      "Command: 0.15000000000000002. FR step: 0.0. DT: 0.34041285514831543. FL velocity (x): 0.0. FL velocity (y): 0.0\n",
      "Command: 0.15000000000000002. FR step: 0.0. DT: 0.3430454730987549. FL velocity (x): 0.0. FL velocity (y): 0.0\n",
      "Command: 0.15000000000000002. FR step: 0.0. DT: 0.307725191116333. FL velocity (x): 0.0. FL velocity (y): 0.0\n",
      "Command: 0.15000000000000002. FR step: 0.0. DT: 0.339200496673584. FL velocity (x): 0.0. FL velocity (y): 0.0\n",
      "Command: 0.15000000000000002. FR step: 0.0. DT: 0.32040977478027344. FL velocity (x): 0.0. FL velocity (y): 0.0\n",
      "Command: 0.15000000000000002. FR step: 0.0. DT: 0.3300032615661621. FL velocity (x): 0.0. FL velocity (y): 0.0\n",
      "Command: 0.1. FR step: 0.0. DT: 0.339954137802124. FL velocity (x): 0.0. FL velocity (y): 0.0\n",
      "Command: 0.1. FR step: 0.0. DT: 0.29585933685302734. FL velocity (x): 0.0. FL velocity (y): 0.0\n",
      "Command: 0.1. FR step: 0.0. DT: 0.25667643547058105. FL velocity (x): 0.0. FL velocity (y): 0.0\n",
      "Command: 0.1. FR step: 0.0. DT: 0.3088538646697998. FL velocity (x): 0.0. FL velocity (y): 0.0\n",
      "Command: 0.1. FR step: 0.0. DT: 0.3109562397003174. FL velocity (x): 0.0. FL velocity (y): 0.0\n",
      "Command: 0.1. FR step: 0.0. DT: 0.34447479248046875. FL velocity (x): 0.0. FL velocity (y): 0.0\n",
      "Command: 0.1. FR step: 0.0. DT: 0.35652971267700195. FL velocity (x): 0.0. FL velocity (y): 0.0\n",
      "Command: 0.1. FR step: 0.0. DT: 0.3447277545928955. FL velocity (x): 0.0. FL velocity (y): 0.0\n",
      "Command: 0.1. FR step: 0.0. DT: 0.32761144638061523. FL velocity (x): 0.0. FL velocity (y): 0.0\n",
      "Command: 0.15000000000000002. FR step: 0.0. DT: 0.3013913631439209. FL velocity (x): 0.0. FL velocity (y): 0.0\n",
      "Command: 0.15000000000000002. FR step: 0.0. DT: 0.3395395278930664. FL velocity (x): 0.0. FL velocity (y): 0.0\n",
      "Command: 0.15000000000000002. FR step: 0.0. DT: 0.29603004455566406. FL velocity (x): 0.0. FL velocity (y): 0.0\n",
      "Command: 0.15000000000000002. FR step: 0.0. DT: 0.2912888526916504. FL velocity (x): 0.0. FL velocity (y): 0.0\n",
      "Command: 0.15000000000000002. FR step: 0.0. DT: 0.3723444938659668. FL velocity (x): 0.0. FL velocity (y): 0.0\n",
      "Command: 0.15000000000000002. FR step: 0.0. DT: 0.294954776763916. FL velocity (x): 0.0. FL velocity (y): 0.0\n",
      "Command: 0.15000000000000002. FR step: 0.0. DT: 0.3392186164855957. FL velocity (x): 0.0. FL velocity (y): 0.0\n",
      "Command: 0.15000000000000002. FR step: 0.0. DT: 0.3414273262023926. FL velocity (x): 0.0. FL velocity (y): 0.0\n",
      "Command: 0.15000000000000002. FR step: 0.0. DT: 0.3469576835632324. FL velocity (x): 0.0. FL velocity (y): 0.0\n",
      "Command: 0.1. FR step: 0.0. DT: 0.3016946315765381. FL velocity (x): 0.0. FL velocity (y): 0.0\n",
      "Command: 0.1. FR step: 0.0. DT: 0.2798917293548584. FL velocity (x): 0.0. FL velocity (y): 0.0\n",
      "Command: 0.1. FR step: 0.0. DT: 0.30423760414123535. FL velocity (x): 0.0. FL velocity (y): 0.0\n",
      "Command: 0.1. FR step: 0.0. DT: 0.3018302917480469. FL velocity (x): 0.0. FL velocity (y): 0.0\n",
      "Command: 0.1. FR step: 0.0. DT: 0.32921361923217773. FL velocity (x): 0.0. FL velocity (y): 0.0\n",
      "Command: 0.1. FR step: 0.0. DT: 0.30963754653930664. FL velocity (x): 0.0. FL velocity (y): 0.0\n",
      "Command: 0.1. FR step: 0.0. DT: 0.33538365364074707. FL velocity (x): 0.0. FL velocity (y): 0.0\n",
      "Command: 0.1. FR step: 0.0. DT: 0.3019709587097168. FL velocity (x): 0.0. FL velocity (y): 0.0\n",
      "Command: 0.1. FR step: 0.0. DT: 0.29648661613464355. FL velocity (x): 0.0. FL velocity (y): 0.0\n",
      "Command: 0.1. FR step: 0.0. DT: 0.3452930450439453. FL velocity (x): 0.0. FL velocity (y): 0.0\n",
      "Command: 0.15000000000000002. FR step: 0.0. DT: 0.2537415027618408. FL velocity (x): 0.0. FL velocity (y): 0.0\n",
      "Command: 0.15000000000000002. FR step: 0.0. DT: 0.31368064880371094. FL velocity (x): 0.0. FL velocity (y): 0.0\n",
      "Command: 0.15000000000000002. FR step: 0.0. DT: 0.30056238174438477. FL velocity (x): 0.0. FL velocity (y): 0.0\n",
      "Command: 0.15000000000000002. FR step: 0.0. DT: 0.3609607219696045. FL velocity (x): 0.0. FL velocity (y): 0.0\n",
      "Command: 0.15000000000000002. FR step: 0.0. DT: 0.3083224296569824. FL velocity (x): 0.0. FL velocity (y): 0.0\n",
      "Command: 0.15000000000000002. FR step: 0.0. DT: 0.3040461540222168. FL velocity (x): 0.0. FL velocity (y): 0.0\n",
      "Command: 0.15000000000000002. FR step: 0.0. DT: 0.3107442855834961. FL velocity (x): 0.0. FL velocity (y): 0.0\n",
      "Command: 0.15000000000000002. FR step: 0.0. DT: 0.35617613792419434. FL velocity (x): 0.0. FL velocity (y): 0.0\n",
      "Command: 0.15000000000000002. FR step: 0.0. DT: 0.2984802722930908. FL velocity (x): 0.0. FL velocity (y): 0.0\n",
      "Command: 0.1. FR step: 0.0. DT: 0.3515334129333496. FL velocity (x): 0.0. FL velocity (y): 0.0\n",
      "Command: 0.1. FR step: 0.0. DT: 0.3977389335632324. FL velocity (x): 0.0. FL velocity (y): 0.0\n",
      "Command: 0.1. FR step: 0.0. DT: 0.31072568893432617. FL velocity (x): 0.0. FL velocity (y): 0.0\n",
      "Command: 0.1. FR step: 0.0. DT: 0.34103870391845703. FL velocity (x): 0.0. FL velocity (y): 0.0\n",
      "Command: 0.1. FR step: 0.0. DT: 0.25629234313964844. FL velocity (x): 0.0. FL velocity (y): 0.0\n",
      "Command: 0.1. FR step: 0.0. DT: 0.38903141021728516. FL velocity (x): 0.0. FL velocity (y): 0.0\n",
      "Command: 0.1. FR step: 0.0. DT: 0.2990262508392334. FL velocity (x): 0.0. FL velocity (y): 0.0\n",
      "Command: 0.1. FR step: 0.0. DT: 0.3074502944946289. FL velocity (x): 0.0. FL velocity (y): 0.0\n",
      "Command: 0.1. FR step: 0.0. DT: 0.34506797790527344. FL velocity (x): 0.0. FL velocity (y): 0.0\n",
      "Command: 0.15000000000000002. FR step: 0.0. DT: 0.30437207221984863. FL velocity (x): 0.0. FL velocity (y): 0.0\n",
      "Command: 0.15000000000000002. FR step: 0.0. DT: 0.30123400688171387. FL velocity (x): 0.0. FL velocity (y): 0.0\n",
      "Command: 0.15000000000000002. FR step: 0.0. DT: 0.3432159423828125. FL velocity (x): 0.0. FL velocity (y): 0.0\n",
      "Command: 0.15000000000000002. FR step: 0.0. DT: 0.25714564323425293. FL velocity (x): 0.0. FL velocity (y): 0.0\n",
      "Command: 0.15000000000000002. FR step: 0.0. DT: 0.30077075958251953. FL velocity (x): 0.0. FL velocity (y): 0.0\n",
      "Command: 0.15000000000000002. FR step: 0.0. DT: 0.34926748275756836. FL velocity (x): 0.0. FL velocity (y): 0.0\n",
      "Command: 0.15000000000000002. FR step: 0.0. DT: 0.34298133850097656. FL velocity (x): 0.0. FL velocity (y): 0.0\n",
      "Command: 0.15000000000000002. FR step: 0.0. DT: 0.3483402729034424. FL velocity (x): 0.0. FL velocity (y): 0.0\n",
      "Command: 0.15000000000000002. FR step: 0.0. DT: 0.30516934394836426. FL velocity (x): 0.0. FL velocity (y): 0.0\n",
      "Command: 0.1. FR step: 0.0. DT: 0.3009779453277588. FL velocity (x): 0.0. FL velocity (y): 0.0\n",
      "Command: 0.1. FR step: 0.0. DT: 0.3066079616546631. FL velocity (x): 0.0. FL velocity (y): 0.0\n",
      "Command: 0.1. FR step: 0.0. DT: 0.3524620532989502. FL velocity (x): 0.0. FL velocity (y): 0.0\n",
      "Command: 0.1. FR step: 0.0. DT: 0.3437058925628662. FL velocity (x): 0.0. FL velocity (y): 0.0\n",
      "Command: 0.1. FR step: 0.0. DT: 0.2907145023345947. FL velocity (x): 0.0. FL velocity (y): 0.0\n",
      "Command: 0.1. FR step: 0.0. DT: 0.30911946296691895. FL velocity (x): 0.0. FL velocity (y): 0.0\n",
      "Command: 0.1. FR step: 0.0. DT: 0.33452630043029785. FL velocity (x): 0.0. FL velocity (y): 0.0\n",
      "Command: 0.1. FR step: 0.0. DT: 0.298844575881958. FL velocity (x): 0.0. FL velocity (y): 0.0\n"
     ]
    }
   ],
   "source": [
    "for x in range(100):\n",
    "    DT = 0\n",
    "    x_velocity = None\n",
    "    y_velocity = None\n",
    "    \n",
    "    if x == 0:\n",
    "        x_velocity = 0\n",
    "        y_velocity = 0\n",
    "    else:\n",
    "        DT = X_motion_step[idx_fr_swinging[x]+1, -1] - X_motion_step[idx_fr_swinging[x], -1]\n",
    "        x_velocity = X_motion_step[idx_fr_swinging[x]-1, 28] / DT\n",
    "        y_velocity = X_motion_step[idx_fr_swinging[x]-1, 29] / DT\n",
    "                                  \n",
    "    print(f'Command: {X_motion_step[x, 0]}. FR step: {X_motion_step[idx_fr_swinging[x]-1, 28]}. DT: {DT}. FL velocity (x): {x_velocity}. FL velocity (y): {y_velocity}')"
   ]
  },
  {
   "cell_type": "markdown",
   "id": "b6dad4ba",
   "metadata": {},
   "source": [
    "## Predict FR foot -> x"
   ]
  },
  {
   "cell_type": "code",
   "execution_count": 8,
   "id": "4f0371ef",
   "metadata": {},
   "outputs": [
    {
     "data": {
      "text/plain": [
       "array([ 1.00000000e-01,  0.00000000e+00,  0.00000000e+00,  0.00000000e+00,\n",
       "        0.00000000e+00,  0.00000000e+00,  2.73259492e-08,  8.26137569e-09,\n",
       "       -2.31107939e-43,  2.55124842e-26, -1.29773315e-23,  4.71751457e-03,\n",
       "        1.56884253e-01,  1.33104801e-01, -3.39981973e-01,  1.92550018e-01,\n",
       "       -1.40392303e-01, -3.33698064e-01, -2.76241094e-01,  1.40536815e-01,\n",
       "       -3.36472392e-01, -2.58489013e-01, -1.30886346e-01, -3.38354051e-01,\n",
       "        1.00000000e+00,  0.00000000e+00,  0.00000000e+00,  0.00000000e+00,\n",
       "        0.00000000e+00,  0.00000000e+00,  0.00000000e+00,  0.00000000e+00,\n",
       "        0.00000000e+00,  0.00000000e+00,  1.23098426e-02, -4.47599696e-03,\n",
       "        1.79496527e-01])"
      ]
     },
     "execution_count": 8,
     "metadata": {},
     "output_type": "execute_result"
    }
   ],
   "source": [
    "X_motion_step_FR[0, :]"
   ]
  },
  {
   "cell_type": "code",
   "execution_count": 9,
   "id": "d80c7a4e",
   "metadata": {},
   "outputs": [
    {
     "data": {
      "text/plain": [
       "array([ 0.        ,  0.        ,  0.01586381, -0.00457941,  0.02445424,\n",
       "        0.00146174,  0.        ,  0.        ])"
      ]
     },
     "execution_count": 9,
     "metadata": {},
     "output_type": "execute_result"
    }
   ],
   "source": [
    "Y_motion_step_FR[0, :]"
   ]
  },
  {
   "cell_type": "code",
   "execution_count": 10,
   "id": "68303cb3",
   "metadata": {},
   "outputs": [
    {
     "data": {
      "text/plain": [
       "(75769, 8)"
      ]
     },
     "execution_count": 10,
     "metadata": {},
     "output_type": "execute_result"
    }
   ],
   "source": [
    "Y_motion_step_FR.shape"
   ]
  },
  {
   "cell_type": "code",
   "execution_count": 11,
   "id": "c06e3407",
   "metadata": {},
   "outputs": [],
   "source": [
    "#X_motion_step[idx_fr_swinging - 1, 28]"
   ]
  },
  {
   "cell_type": "code",
   "execution_count": 14,
   "id": "47c80e89",
   "metadata": {},
   "outputs": [
    {
     "data": {
      "text/plain": [
       "array([0.        , 0.01586381, 0.05948897, 0.05894744, 0.06044418,\n",
       "       0.05375968, 0.08509007, 0.09557687, 0.08357988, 0.08905752,\n",
       "       0.06752773, 0.0539757 , 0.05394599, 0.05371091, 0.06225052,\n",
       "       0.08551434, 0.08430591, 0.0873313 , 0.09798636, 0.07999153,\n",
       "       0.05351496, 0.05294903, 0.05853119, 0.0593307 , 0.07618429,\n",
       "       0.08299088, 0.09193519, 0.08785801, 0.09536757, 0.05154957,\n",
       "       0.05384161, 0.05923106, 0.05963865, 0.0727966 , 0.08515976,\n",
       "       0.09435426, 0.09515874, 0.09133466, 0.05867429, 0.05787624,\n",
       "       0.06208937, 0.05323771, 0.07313876, 0.09763171, 0.0846561 ,\n",
       "       0.08953345, 0.09247576, 0.06921554, 0.05526379, 0.05275954,\n",
       "       0.05385101, 0.05491464, 0.09687513, 0.08376804, 0.097821  ,\n",
       "       0.09351549, 0.07900506, 0.05383775, 0.05693512, 0.05602419,\n",
       "       0.05551869, 0.08844931, 0.09460618, 0.08604218, 0.08642529,\n",
       "       0.07473938, 0.06017241, 0.05349304, 0.05387045, 0.05546698,\n",
       "       0.07648577, 0.08558086, 0.08330077, 0.08445747, 0.09596564,\n",
       "       0.05995207, 0.05555953, 0.06126027, 0.0580159 , 0.07359248,\n",
       "       0.08745553, 0.08355859, 0.08705972, 0.09918608, 0.0607962 ,\n",
       "       0.06114659, 0.05516809, 0.05884534, 0.05402131, 0.08699881,\n",
       "       0.09269312, 0.08657438, 0.0954119 , 0.07925366, 0.05841611,\n",
       "       0.05733091, 0.05609074, 0.05495533, 0.08524345, 0.08792838])"
      ]
     },
     "execution_count": 14,
     "metadata": {},
     "output_type": "execute_result"
    }
   ],
   "source": [
    "X_motion_step[idx_fr_swinging-1, 28][:100]"
   ]
  },
  {
   "cell_type": "code",
   "execution_count": 15,
   "id": "1bb59954",
   "metadata": {},
   "outputs": [
    {
     "data": {
      "text/plain": [
       "array([0.        , 0.07464571, 0.06010439, 0.06078163, 0.05450465,\n",
       "       0.06848326, 0.09516867, 0.08363788, 0.0862579 , 0.08774815,\n",
       "       0.052808  , 0.0544083 , 0.05372943, 0.06195404, 0.0687784 ,\n",
       "       0.08469264, 0.08332793, 0.09989096, 0.09243038, 0.05933575,\n",
       "       0.05358246, 0.05847915, 0.05842283, 0.05954041, 0.08378454,\n",
       "       0.09065428, 0.08591603, 0.0970754 , 0.07003787, 0.05217314,\n",
       "       0.05968502, 0.06025758, 0.05286194, 0.08810744, 0.09398463,\n",
       "       0.0959523 , 0.08868574, 0.07720284, 0.05756426, 0.0624297 ,\n",
       "       0.05377547, 0.0603686 , 0.09169602, 0.08689214, 0.08928135,\n",
       "       0.09183738, 0.08717282, 0.05301684, 0.05561276, 0.0527551 ,\n",
       "       0.05350466, 0.08151005, 0.08473858, 0.09451021, 0.09218401,\n",
       "       0.09860574, 0.05418505, 0.05793175, 0.05589502, 0.05422227,\n",
       "       0.06791385, 0.09737831, 0.08854353, 0.0855709 , 0.08459334,\n",
       "       0.06744415, 0.05369668, 0.05349596, 0.05405936, 0.06009391,\n",
       "       0.08743665, 0.08254763, 0.08471991, 0.09536809, 0.07636493,\n",
       "       0.05420366, 0.0621635 , 0.05935439, 0.05704696, 0.08499801,\n",
       "       0.08567645, 0.08432762, 0.09860666, 0.08255419, 0.05895431,\n",
       "       0.05363581, 0.06118342, 0.05329078, 0.06888555, 0.09358445,\n",
       "       0.08742654, 0.09373009, 0.09714341, 0.05829169, 0.05594516,\n",
       "       0.05737557, 0.05569935, 0.06801619, 0.0881203 , 0.085574  ])"
      ]
     },
     "execution_count": 15,
     "metadata": {},
     "output_type": "execute_result"
    }
   ],
   "source": [
    "X_motion_step[idx_fr_swinging, 26][:100]"
   ]
  },
  {
   "cell_type": "markdown",
   "id": "1072783b",
   "metadata": {},
   "source": [
    "### Linear Regression"
   ]
  },
  {
   "cell_type": "code",
   "execution_count": 34,
   "id": "18160cbb",
   "metadata": {},
   "outputs": [
    {
     "name": "stdout",
     "output_type": "stream",
     "text": [
      "R2:  0.9762935932083614\n",
      "RMSE:  0.014999521364366676\n",
      "The lowest error is:  5.159992861325513e-07\n",
      "The highest error is:  0.1707325087399046\n",
      "The avg. error is:  0.008819528555203654\n"
     ]
    }
   ],
   "source": [
    "# Input\n",
    "#X = np.hstack((X_motion_step_FR[:, :2], np.array([X_motion_step_FR[:, 5]]).T, \n",
    "#               X_motion_step_FR[:, 6:8], np.array([X_motion_step_FR[:, 11]]).T, \n",
    "#               np.array([X_motion_step_FR[:, 12]]).T, np.array([X_motion_step_FR[:, 15]]).T))\n",
    "X = np.hstack((X_motion_step_FR[:, :2], np.array([X_motion_step_FR[:, 5]]).T, \n",
    "               np.array([X_motion_step_FR[:, 12]]).T, np.array([X_motion_step_FR[:, 15]]).T))\n",
    "\n",
    "X = np.hstack((X_motion_step_FR[:, :2], \n",
    "               np.array([X_motion_step_FR[:, 5]]).T,\n",
    "               np.array([X_motion_step[idx_fr_swinging-1, 28]]).T, \n",
    "               np.array([X_motion_step[idx_fr_swinging, 26]]).T,\n",
    "               X_motion_step[idx_fr_swinging, 34:36]))\n",
    "\n",
    "# Labels\n",
    "Y = np.array([Y_motion_step_FR[:, 2]]).T\n",
    "\n",
    "assert Y.shape[0] == X.shape[0]\n",
    "\n",
    "# Split data into train and test set\n",
    "X_train, X_test, Y_train, Y_test = train_test_split(X, Y, train_size = 0.8, test_size=0.2, shuffle=True, random_state=100)\n",
    "\n",
    "# Create the model\n",
    "model_fr_x = LinearRegression()\n",
    "\n",
    "# Fit the model\n",
    "model_fr_x.fit(X_train, Y_train)\n",
    "\n",
    "# Predict\n",
    "predictions = model_fr_x.predict(X_test)\n",
    "\n",
    "# Stats\n",
    "print('R2: ', r2_score(predictions, Y_test))\n",
    "print('RMSE: ', np.sqrt(mean_squared_error(Y_test, predictions)))\n",
    "print(\"The lowest error is: \", np.min(np.abs(predictions - Y_test)))\n",
    "print(\"The highest error is: \", np.max(np.abs(predictions - Y_test)))\n",
    "print(\"The avg. error is: \", np.mean(np.abs(predictions - Y_test)))\n",
    "#print(\"Seq of errors (descendant): \\n\", sorted(np.abs(predictions - Y_test).tolist(), reverse=True))"
   ]
  },
  {
   "cell_type": "code",
   "execution_count": 35,
   "id": "1b72bafd",
   "metadata": {},
   "outputs": [
    {
     "data": {
      "text/plain": [
       "Text(0, 0.5, 'Predictions')"
      ]
     },
     "execution_count": 35,
     "metadata": {},
     "output_type": "execute_result"
    },
    {
     "data": {
      "image/png": "[encoded data removed]",
      "text/plain": [
       "<Figure size 432x288 with 1 Axes>"
      ]
     },
     "metadata": {
      "needs_background": "light"
     },
     "output_type": "display_data"
    }
   ],
   "source": [
    "## The line / model\n",
    "plt.scatter(Y_test, predictions)\n",
    "plt.xlabel(\"True Values\")\n",
    "plt.ylabel(\"Predictions\")"
   ]
  },
  {
   "cell_type": "code",
   "execution_count": 36,
   "id": "1e6c2d08",
   "metadata": {},
   "outputs": [
    {
     "name": "stdout",
     "output_type": "stream",
     "text": [
      "Stored 'model_fr_x' (LinearRegression)\n"
     ]
    }
   ],
   "source": [
    "%store model_fr_x"
   ]
  },
  {
   "cell_type": "code",
   "execution_count": 15,
   "id": "36dc21fb",
   "metadata": {},
   "outputs": [],
   "source": [
    "#for idx, prediction in enumerate(predictions):\n",
    "#    print(f'Groundtruth: {Y_test[idx]}. Predicted: {prediction}')"
   ]
  },
  {
   "cell_type": "code",
   "execution_count": 16,
   "id": "72874911",
   "metadata": {},
   "outputs": [
    {
     "data": {
      "text/plain": [
       "['/home/itaouil/workspace/aliengo_ws/src/aliengo_navigation/models/protocol3/model_fr_x.sav']"
      ]
     },
     "execution_count": 16,
     "metadata": {},
     "output_type": "execute_result"
    }
   ],
   "source": [
    "# Save model\n",
    "joblib.dump(model_fr_x, \"/home/itaouil/workspace/aliengo_ws/src/aliengo_navigation/models/protocol3/model_fr_x.sav\")"
   ]
  },
  {
   "cell_type": "markdown",
   "id": "61a66ced",
   "metadata": {},
   "source": [
    "## Predict FR foot -> y"
   ]
  },
  {
   "cell_type": "markdown",
   "id": "7ba60492",
   "metadata": {},
   "source": [
    "### Linear Regression"
   ]
  },
  {
   "cell_type": "code",
   "execution_count": 37,
   "id": "03461198",
   "metadata": {},
   "outputs": [
    {
     "name": "stdout",
     "output_type": "stream",
     "text": [
      "R2:  0.9873787479873498\n",
      "RMSE:  0.011302806538883685\n",
      "The lowest error is:  2.4363147106166994e-07\n",
      "The highest error is:  0.09387039364498909\n",
      "The avg. error is:  0.008206536628153254\n"
     ]
    }
   ],
   "source": [
    "# Input\n",
    "#X = np.hstack((X_motion_step_FR[:, :2], np.array([X_motion_step_FR[:, 5]]).T, \n",
    "#               X_motion_step_FR[:, 6:8], np.array([X_motion_step_FR[:, 11]]).T, \n",
    "#               np.array([X_motion_step_FR[:, 13]]).T, np.array([X_motion_step_FR[:, 16]]).T))\n",
    "X = np.hstack((X_motion_step_FR[:, :2], np.array([X_motion_step_FR[:, 5]]).T, \n",
    "               np.array([X_motion_step_FR[:, 13]]).T, np.array([X_motion_step_FR[:, 16]]).T))\n",
    "\n",
    "X = np.hstack((X_motion_step_FR[:, :2], \n",
    "               np.array([X_motion_step_FR[:, 5]]).T,\n",
    "               np.array([X_motion_step[idx_fr_swinging-1, 29]]).T, \n",
    "               np.array([X_motion_step[idx_fr_swinging, 27]]).T,\n",
    "               X_motion_step[idx_fr_swinging, 34:36]))\n",
    "\n",
    "# Label matrix which consists only of\n",
    "# the next x coordinate of the FR foot.\n",
    "# We dont consider the first row.\n",
    "Y = np.array([Y_motion_step_FR[:, 3]]).T\n",
    "\n",
    "assert Y.shape[0] == X.shape[0]\n",
    "\n",
    "# Split data into train and test set\n",
    "X_train, X_test, Y_train, Y_test = train_test_split(X, Y, train_size = 0.8, test_size=0.2, shuffle=True, random_state=100)\n",
    "\n",
    "# Create the model\n",
    "model_fr_y = LinearRegression()\n",
    "\n",
    "# Fit the model\n",
    "model_fr_y.fit(X_train, Y_train)\n",
    "\n",
    "# Predict\n",
    "predictions = model_fr_y.predict(X_test)\n",
    "\n",
    "# Stats\n",
    "print('R2: ', r2_score(predictions, Y_test))\n",
    "print('RMSE: ', np.sqrt(mean_squared_error(Y_test, predictions)))\n",
    "print(\"The lowest error is: \", np.min(np.abs(predictions - Y_test)))\n",
    "print(\"The highest error is: \", np.max(np.abs(predictions - Y_test)))\n",
    "print(\"The avg. error is: \", np.mean(np.abs(predictions - Y_test)))\n",
    "#print(\"Seq of errors (descendant): \\n\", sorted(np.abs(predictions - Y_test).tolist(), reverse=True))"
   ]
  },
  {
   "cell_type": "code",
   "execution_count": 38,
   "id": "f0b8ea14",
   "metadata": {},
   "outputs": [
    {
     "data": {
      "text/plain": [
       "Text(0, 0.5, 'Predictions')"
      ]
     },
     "execution_count": 38,
     "metadata": {},
     "output_type": "execute_result"
    },
    {
     "data": {
      "image/png": "[encoded data removed]",
      "text/plain": [
       "<Figure size 432x288 with 1 Axes>"
      ]
     },
     "metadata": {
      "needs_background": "light"
     },
     "output_type": "display_data"
    }
   ],
   "source": [
    "## The line / model\n",
    "plt.scatter(Y_test, predictions)\n",
    "plt.xlabel(\"True Values\")\n",
    "plt.ylabel(\"Predictions\")"
   ]
  },
  {
   "cell_type": "code",
   "execution_count": 39,
   "id": "e520e93e",
   "metadata": {},
   "outputs": [
    {
     "name": "stdout",
     "output_type": "stream",
     "text": [
      "Stored 'model_fr_y' (LinearRegression)\n"
     ]
    }
   ],
   "source": [
    "%store model_fr_y"
   ]
  },
  {
   "cell_type": "code",
   "execution_count": 20,
   "id": "9d2f6b65",
   "metadata": {},
   "outputs": [],
   "source": [
    "#for idx, prediction in enumerate(predictions):\n",
    "#    print(f'Groundtruth: {Y_test[idx]}. Predicted: {prediction}')"
   ]
  },
  {
   "cell_type": "code",
   "execution_count": 21,
   "id": "642cf792",
   "metadata": {},
   "outputs": [
    {
     "data": {
      "text/plain": [
       "['/home/itaouil/workspace/aliengo_ws/src/aliengo_navigation/models/protocol3/model_fr_y.sav']"
      ]
     },
     "execution_count": 21,
     "metadata": {},
     "output_type": "execute_result"
    }
   ],
   "source": [
    "# Save model\n",
    "joblib.dump(model_fr_y, \"/home/itaouil/workspace/aliengo_ws/src/aliengo_navigation/models/protocol3/model_fr_y.sav\")"
   ]
  },
  {
   "cell_type": "code",
   "execution_count": null,
   "id": "496991cc",
   "metadata": {},
   "outputs": [],
   "source": []
  }
 ],
 "metadata": {
  "kernelspec": {
   "display_name": "Python 3",
   "language": "python",
   "name": "python3"
  },
  "language_info": {
   "codemirror_mode": {
    "name": "ipython",
    "version": 3
   },
   "file_extension": ".py",
   "mimetype": "text/x-python",
   "name": "python",
   "nbconvert_exporter": "python",
   "pygments_lexer": "ipython3",
   "version": "3.6.12"
  }
 },
 "nbformat": 4,
 "nbformat_minor": 5
}
