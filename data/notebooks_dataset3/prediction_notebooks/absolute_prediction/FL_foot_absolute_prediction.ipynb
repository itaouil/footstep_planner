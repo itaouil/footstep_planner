{
 "cells": [
  {
   "cell_type": "code",
   "execution_count": 1,
   "id": "6ddc4b89",
   "metadata": {},
   "outputs": [],
   "source": [
    "#!/usr/bin/env python3.6\n",
    "# -*- coding: utf-8 -*-"
   ]
  },
  {
   "cell_type": "code",
   "execution_count": 2,
   "id": "35cca9ca",
   "metadata": {},
   "outputs": [],
   "source": [
    "# Imports\n",
    "import sys\n",
    "import joblib\n",
    "import numpy as np\n",
    "from math import atan2\n",
    "from matplotlib import animation\n",
    "from IPython.display import HTML\n",
    "from matplotlib import pyplot as plt\n",
    "import mpl_toolkits.mplot3d.axes3d as p3"
   ]
  },
  {
   "cell_type": "code",
   "execution_count": 3,
   "id": "d8f40e4e",
   "metadata": {},
   "outputs": [],
   "source": [
    "#np.random.seed(20)\n",
    "np.set_printoptions(threshold=sys.maxsize)"
   ]
  },
  {
   "cell_type": "code",
   "execution_count": 4,
   "id": "3004485b",
   "metadata": {},
   "outputs": [],
   "source": [
    "%matplotlib inline"
   ]
  },
  {
   "cell_type": "code",
   "execution_count": 5,
   "id": "3455eb08",
   "metadata": {},
   "outputs": [
    {
     "name": "stdout",
     "output_type": "stream",
     "text": [
      "(148884, 38)\n",
      "(148884, 8)\n"
     ]
    }
   ],
   "source": [
    "%store -r X_motion_step\n",
    "%store -r Y_motion_step\n",
    "print(X_motion_step.shape)\n",
    "print(Y_motion_step.shape)"
   ]
  },
  {
   "cell_type": "markdown",
   "id": "5498a9d9",
   "metadata": {},
   "source": [
    "# Multivariate Linear Regression (Foot prediction)"
   ]
  },
  {
   "cell_type": "markdown",
   "id": "609a8e51",
   "metadata": {},
   "source": [
    "The input will use initially only:\n",
    "\n",
    "- **HighCmd: fwd, side, rot speeds**\n",
    "- **HighState: fwd, side, rot speeds, footPosition2Body (FR)**\n",
    "\n",
    "and as output we seek to predict the following:\n",
    "\n",
    "- **footPosition2Body (FR)**"
   ]
  },
  {
   "cell_type": "code",
   "execution_count": 8,
   "id": "ed40da14",
   "metadata": {},
   "outputs": [],
   "source": [
    "import sklearn\n",
    "from sklearn import metrics\n",
    "from sklearn.feature_selection import RFE\n",
    "from sklearn.model_selection import KFold\n",
    "from sklearn.linear_model import LinearRegression\n",
    "from sklearn.model_selection import train_test_split\n",
    "from sklearn.preprocessing import PolynomialFeatures \n",
    "from sklearn.model_selection import cross_val_score, cross_val_predict\n",
    "from sklearn.metrics import mean_squared_error, mean_absolute_error, r2_score"
   ]
  },
  {
   "cell_type": "code",
   "execution_count": 9,
   "id": "9db7beee",
   "metadata": {},
   "outputs": [],
   "source": [
    "# Entries where FL foot is swinging\n",
    "idx_fl_swinging = np.where(X_motion_step[:, 25] == 1)[0]\n",
    "X_motion_step_FL = X_motion_step[idx_fl_swinging]\n",
    "Y_motion_step_FL = Y_motion_step[idx_fl_swinging]"
   ]
  },
  {
   "cell_type": "code",
   "execution_count": 14,
   "id": "80001254",
   "metadata": {},
   "outputs": [
    {
     "data": {
      "text/plain": [
       "array([ 0.        ,  1.        ,  0.        ,  0.        ,  0.01586381,\n",
       "       -0.00457941,  0.02445424,  0.00146174,  0.        ,  0.        ])"
      ]
     },
     "execution_count": 14,
     "metadata": {},
     "output_type": "execute_result"
    }
   ],
   "source": [
    "X_motion_step_FL[0, 24:34]"
   ]
  },
  {
   "cell_type": "code",
   "execution_count": 55,
   "id": "b15f1395",
   "metadata": {},
   "outputs": [
    {
     "data": {
      "text/plain": [
       "14988"
      ]
     },
     "execution_count": 55,
     "metadata": {},
     "output_type": "execute_result"
    }
   ],
   "source": [
    "# CoM velocity when forward velocity applied\n",
    "motion_idx = np.where(X_motion_step_FL[:, 0] > 0)[0]\n",
    "len(motion_idx)"
   ]
  },
  {
   "cell_type": "code",
   "execution_count": 76,
   "id": "98cebff7",
   "metadata": {},
   "outputs": [],
   "source": [
    "fwd_idx = np.where(X_motion_step_FL[:, 0] > 0)[0]\n",
    "left_idx = np.where(X_motion_step_FL[:, 1] > 0)[0]\n",
    "right_idx = np.where(X_motion_step_FL[:, 1] < 0)[0]\n",
    "clock_idx = np.where(X_motion_step_FL[:, 5] < 0)[0]\n",
    "count_idx = np.where(X_motion_step_FL[:, 5] < 0)[0]"
   ]
  },
  {
   "cell_type": "code",
   "execution_count": 84,
   "id": "ab056a6a",
   "metadata": {},
   "outputs": [
    {
     "name": "stdout",
     "output_type": "stream",
     "text": [
      "1\n",
      "1\n",
      "1\n"
     ]
    }
   ],
   "source": [
    "print(len(np.where(X_motion_step_FL[fwd_idx, 34] < 0)))\n",
    "print(len(np.where(X_motion_step_FL[left_idx, 35] < 0)))\n",
    "print(len(np.where(X_motion_step_FL[right_idx, 35] > 0)))"
   ]
  },
  {
   "cell_type": "code",
   "execution_count": 58,
   "id": "5e9feb11",
   "metadata": {},
   "outputs": [
    {
     "name": "stdout",
     "output_type": "stream",
     "text": [
      "Command: 0.1. FL step: 0.07464571297168732. DT: 0.3340747356414795. FL velocity (x): 0.22344016176007753\n",
      "Command: 0.1. FL step: 0.060104385018348694. DT: 0.3008713722229004. FL velocity (x): 0.1997677099495541\n",
      "Command: 0.1. FL step: 0.060781627893447876. DT: 0.296616792678833. FL velocity (x): 0.20491634119737867\n",
      "Command: 0.1. FL step: 0.054504647850990295. DT: 0.30576372146606445. FL velocity (x): 0.1782574060442928\n",
      "Command: 0.15000000000000002. FL step: 0.06848326325416565. DT: 0.31066370010375977. FL velocity (x): 0.22044179358995808\n",
      "Command: 0.15000000000000002. FL step: 0.09516866505146027. DT: 0.3691442012786865. FL velocity (x): 0.2578089124028049\n",
      "Command: 0.15000000000000002. FL step: 0.08363787829875946. DT: 0.34530067443847656. FL velocity (x): 0.24221753529665208\n",
      "Command: 0.15000000000000002. FL step: 0.08625790476799011. DT: 0.3507246971130371. FL velocity (x): 0.2459419181997028\n",
      "Command: 0.15000000000000002. FL step: 0.08774815499782562. DT: 0.29979777336120605. FL velocity (x): 0.29269114981752653\n",
      "Command: 0.1. FL step: 0.0528080016374588. DT: 0.3404514789581299. FL velocity (x): 0.15511168228455058\n",
      "Command: 0.1. FL step: 0.054408296942710876. DT: 0.34513258934020996. FL velocity (x): 0.1576446230323344\n",
      "Command: 0.1. FL step: 0.053729429841041565. DT: 0.3476095199584961. FL velocity (x): 0.15456834970301375\n",
      "Command: 0.1. FL step: 0.061954036355018616. DT: 0.381725549697876. FL velocity (x): 0.16229994666077063\n",
      "Command: 0.1. FL step: 0.068778395652771. DT: 0.3473014831542969. FL velocity (x): 0.19803657337741506\n",
      "Command: 0.15000000000000002. FL step: 0.08469264209270477. DT: 0.3068363666534424. FL velocity (x): 0.27601891854090826\n",
      "Command: 0.15000000000000002. FL step: 0.08332793414592743. DT: 0.2974066734313965. FL velocity (x): 0.2801817900873327\n",
      "Command: 0.15000000000000002. FL step: 0.09989096224308014. DT: 0.2795865535736084. FL velocity (x): 0.3572809956927391\n",
      "Command: 0.15000000000000002. FL step: 0.09243038296699524. DT: 0.347947359085083. FL velocity (x): 0.2656447320365877\n",
      "Command: 0.1. FL step: 0.059335753321647644. DT: 0.33472275733947754. FL velocity (x): 0.17726835723174036\n",
      "Command: 0.1. FL step: 0.053582459688186646. DT: 0.3011329174041748. FL velocity (x): 0.17793624207568548\n",
      "Command: 0.1. FL step: 0.05847914516925812. DT: 0.3447434902191162. FL velocity (x): 0.16963089029495304\n",
      "Command: 0.1. FL step: 0.05842283368110657. DT: 0.34541845321655273. FL velocity (x): 0.16913640003037017\n",
      "Command: 0.1. FL step: 0.05954040586948395. DT: 0.3172459602355957. FL velocity (x): 0.18767900409281046\n",
      "Command: 0.15000000000000002. FL step: 0.08378453552722931. DT: 0.3490285873413086. FL velocity (x): 0.24005063930565082\n",
      "Command: 0.15000000000000002. FL step: 0.09065428376197815. DT: 0.34866881370544434. FL velocity (x): 0.26000112484554744\n",
      "Command: 0.15000000000000002. FL step: 0.08591602742671967. DT: 0.30005788803100586. FL velocity (x): 0.28633150753177905\n",
      "Command: 0.15000000000000002. FL step: 0.09707540273666382. DT: 0.35579538345336914. FL velocity (x): 0.2728405349008319\n",
      "Command: 0.1. FL step: 0.07003787159919739. DT: 0.30004262924194336. FL velocity (x): 0.2334264026953364\n",
      "Command: 0.1. FL step: 0.05217313766479492. DT: 0.329087495803833. FL velocity (x): 0.15853880299327752\n",
      "Command: 0.1. FL step: 0.05968502163887024. DT: 0.3394434452056885. FL velocity (x): 0.1758320052481898\n",
      "Command: 0.1. FL step: 0.06025758385658264. DT: 0.34793639183044434. FL velocity (x): 0.17318563183223226\n",
      "Command: 0.1. FL step: 0.05286194384098053. DT: 0.30088305473327637. FL velocity (x): 0.1756893351399966\n",
      "Command: 0.15000000000000002. FL step: 0.08810743689537048. DT: 0.3031909465789795. FL velocity (x): 0.2906004875459532\n",
      "Command: 0.15000000000000002. FL step: 0.09398463368415833. DT: 0.3383049964904785. FL velocity (x): 0.2778103624218967\n",
      "Command: 0.15000000000000002. FL step: 0.09595230221748352. DT: 0.3109314441680908. FL velocity (x): 0.30859632892455646\n",
      "Command: 0.15000000000000002. FL step: 0.08868573606014252. DT: 0.32044196128845215. FL velocity (x): 0.27676068297531825\n",
      "Command: 0.15000000000000002. FL step: 0.07720284163951874. DT: 0.32132768630981445. FL velocity (x): 0.24026202823083875\n",
      "Command: 0.1. FL step: 0.05756425857543945. DT: 0.3441603183746338. FL velocity (x): 0.16726001082082392\n",
      "Command: 0.1. FL step: 0.06242969632148743. DT: 0.3842926025390625. FL velocity (x): 0.16245354687810204\n",
      "Command: 0.1. FL step: 0.053775474429130554. DT: 0.35120677947998047. FL velocity (x): 0.15311627670956127\n",
      "Command: 0.1. FL step: 0.06036859750747681. DT: 0.3394753932952881. FL velocity (x): 0.17782908187093843\n",
      "Command: 0.15000000000000002. FL step: 0.09169602394104004. DT: 0.320324182510376. FL velocity (x): 0.2862600732246302\n",
      "Command: 0.15000000000000002. FL step: 0.08689214289188385. DT: 0.29973602294921875. FL velocity (x): 0.28989556222478174\n",
      "Command: 0.15000000000000002. FL step: 0.0892813503742218. DT: 0.304915189743042. FL velocity (x): 0.29280715876916774\n",
      "Command: 0.15000000000000002. FL step: 0.09183737635612488. DT: 0.306171178817749. FL velocity (x): 0.29995434812233535\n",
      "Command: 0.15000000000000002. FL step: 0.08717282116413116. DT: 0.3514673709869385. FL velocity (x): 0.24802535984875465\n",
      "Command: 0.1. FL step: 0.053016841411590576. DT: 0.34703588485717773. FL velocity (x): 0.1527704877938188\n",
      "Command: 0.1. FL step: 0.05561275780200958. DT: 0.31230640411376953. FL velocity (x): 0.17807114125572177\n",
      "Command: 0.1. FL step: 0.05275510251522064. DT: 0.33977723121643066. FL velocity (x): 0.15526379541781832\n",
      "Command: 0.1. FL step: 0.05350466072559357. DT: 0.3207249641418457. FL velocity (x): 0.16682412255857415\n",
      "Command: 0.1. FL step: 0.08151005208492279. DT: 0.3486602306365967. FL velocity (x): 0.23378075536776516\n",
      "Command: 0.15000000000000002. FL step: 0.0847385823726654. DT: 0.3089442253112793. FL velocity (x): 0.2742844029121643\n",
      "Command: 0.15000000000000002. FL step: 0.09451021254062653. DT: 0.34593653678894043. FL velocity (x): 0.2732010137405296\n",
      "Command: 0.15000000000000002. FL step: 0.09218400716781616. DT: 0.2977728843688965. FL velocity (x): 0.3095782457264102\n",
      "Command: 0.15000000000000002. FL step: 0.09860573709011078. DT: 0.34472036361694336. FL velocity (x): 0.2860455821509937\n",
      "Command: 0.1. FL step: 0.05418504774570465. DT: 0.3414454460144043. FL velocity (x): 0.15869313349523714\n",
      "Command: 0.1. FL step: 0.057931751012802124. DT: 0.3482186794281006. FL velocity (x): 0.16636600629221485\n",
      "Command: 0.1. FL step: 0.055895015597343445. DT: 0.3583247661590576. FL velocity (x): 0.1559898195050578\n",
      "Command: 0.1. FL step: 0.05422227084636688. DT: 0.3079416751861572. FL velocity (x): 0.1760796774700546\n",
      "Command: 0.1. FL step: 0.06791384518146515. DT: 0.3523416519165039. FL velocity (x): 0.1927499766549287\n",
      "Command: 0.15000000000000002. FL step: 0.09737831354141235. DT: 0.34119749069213867. FL velocity (x): 0.28540161108416967\n",
      "Command: 0.15000000000000002. FL step: 0.08854353427886963. DT: 0.30077242851257324. FL velocity (x): 0.2943871375336793\n",
      "Command: 0.15000000000000002. FL step: 0.08557090163230896. DT: 0.353560209274292. FL velocity (x): 0.2420263915103723\n",
      "Command: 0.15000000000000002. FL step: 0.08459334075450897. DT: 0.328000545501709. FL velocity (x): 0.25790609776308504\n",
      "Command: 0.1. FL step: 0.06744414567947388. DT: 0.38553714752197266. FL velocity (x): 0.17493553114912247\n",
      "Command: 0.1. FL step: 0.05369667708873749. DT: 0.3465118408203125. FL velocity (x): 0.15496346953575674\n",
      "Command: 0.1. FL step: 0.05349595844745636. DT: 0.3461449146270752. FL velocity (x): 0.15454786763252348\n",
      "Command: 0.1. FL step: 0.054059356451034546. DT: 0.30511999130249023. FL velocity (x): 0.17717408885686914\n",
      "Command: 0.1. FL step: 0.06009390950202942. DT: 0.34546446800231934. FL velocity (x): 0.17395105739680866\n",
      "Command: 0.15000000000000002. FL step: 0.08743664622306824. DT: 0.34742140769958496. FL velocity (x): 0.25167316775906523\n",
      "Command: 0.15000000000000002. FL step: 0.0825476348400116. DT: 0.3053090572357178. FL velocity (x): 0.2703740124430034\n",
      "Command: 0.15000000000000002. FL step: 0.08471991121768951. DT: 0.3202857971191406. FL velocity (x): 0.26451348133359537\n",
      "Command: 0.15000000000000002. FL step: 0.09536808729171753. DT: 0.35370302200317383. FL velocity (x): 0.26962757273490806\n",
      "Command: 0.15000000000000002. FL step: 0.07636493444442749. DT: 0.3317241668701172. FL velocity (x): 0.2302061232527786\n",
      "Command: 0.1. FL step: 0.05420365929603577. DT: 0.26075005531311035. FL velocity (x): 0.20787592635770552\n",
      "Command: 0.1. FL step: 0.06216350197792053. DT: 0.300731897354126. FL velocity (x): 0.20670737798298822\n",
      "Command: 0.1. FL step: 0.05935439467430115. DT: 0.3210184574127197. FL velocity (x): 0.18489402495007237\n",
      "Command: 0.1. FL step: 0.05704696476459503. DT: 0.34824228286743164. FL velocity (x): 0.16381400987516379\n",
      "Command: 0.15000000000000002. FL step: 0.08499801158905029. DT: 0.3440515995025635. FL velocity (x): 0.24705018582079571\n",
      "Command: 0.15000000000000002. FL step: 0.08567644655704498. DT: 0.30134081840515137. FL velocity (x): 0.28431742838719376\n",
      "Command: 0.15000000000000002. FL step: 0.08432762324810028. DT: 0.3470947742462158. FL velocity (x): 0.2429527307958877\n",
      "Command: 0.15000000000000002. FL step: 0.0986066609621048. DT: 0.3324761390686035. FL velocity (x): 0.2965826697769676\n",
      "Command: 0.15000000000000002. FL step: 0.08255419135093689. DT: 0.3020455837249756. FL velocity (x): 0.27331699517946184\n",
      "Command: 0.1. FL step: 0.05895431339740753. DT: 0.3549661636352539. FL velocity (x): 0.16608431855489791\n",
      "Command: 0.1. FL step: 0.05363580584526062. DT: 0.3367645740509033. FL velocity (x): 0.15926795743412533\n",
      "Command: 0.1. FL step: 0.061183422803878784. DT: 0.3436298370361328. FL velocity (x): 0.17805037924412054\n",
      "Command: 0.1. FL step: 0.05329078435897827. DT: 0.3508341312408447. FL velocity (x): 0.15189737717506907\n",
      "Command: 0.15000000000000002. FL step: 0.06888554990291595. DT: 0.34746575355529785. FL velocity (x): 0.19825133613334092\n",
      "Command: 0.15000000000000002. FL step: 0.09358444809913635. DT: 0.30321598052978516. FL velocity (x): 0.3086395642328076\n",
      "Command: 0.15000000000000002. FL step: 0.08742654323577881. DT: 0.2971770763397217. FL velocity (x): 0.2941900644309323\n",
      "Command: 0.15000000000000002. FL step: 0.09373009204864502. DT: 0.34643125534057617. FL velocity (x): 0.27055899432774644\n",
      "Command: 0.15000000000000002. FL step: 0.09714341163635254. DT: 0.3432607650756836. FL velocity (x): 0.28300179199022046\n",
      "Command: 0.1. FL step: 0.058291688561439514. DT: 0.34536027908325195. FL velocity (x): 0.16878515594257967\n",
      "Command: 0.1. FL step: 0.05594515800476074. DT: 0.3268587589263916. FL velocity (x): 0.1711600392430039\n",
      "Command: 0.1. FL step: 0.05737556517124176. DT: 0.3076751232147217. FL velocity (x): 0.18648100168696527\n",
      "Command: 0.1. FL step: 0.05569934844970703. DT: 0.3147006034851074. FL velocity (x): 0.17699155271032993\n",
      "Command: 0.1. FL step: 0.0680161863565445. DT: 0.3467130661010742. FL velocity (x): 0.19617428071405976\n",
      "Command: 0.15000000000000002. FL step: 0.08812029659748077. DT: 0.3170206546783447. FL velocity (x): 0.27796389697980195\n",
      "Command: 0.15000000000000002. FL step: 0.08557400107383728. DT: 0.3328890800476074. FL velocity (x): 0.2570646086125718\n",
      "Command: 0.15000000000000002. FL step: 0.09470155835151672. DT: 0.379941463470459. FL velocity (x): 0.2492530230485884\n"
     ]
    }
   ],
   "source": [
    "for x in motion_idx[:100]:\n",
    "    print(f'Command: {X_motion_step_FL[x, 0]}. FL step: {Y_motion_step_FL[x, 0]}. DT: {X_motion_step_FL[x, -1]}. FL velocity (x): {Y_motion_step_FL[x, 0]/X_motion_step_FL[x, -1]}')"
   ]
  },
  {
   "cell_type": "code",
   "execution_count": 50,
   "id": "bcbe9d27",
   "metadata": {},
   "outputs": [
    {
     "name": "stdout",
     "output_type": "stream",
     "text": [
      "Command: -0.1. CoM velocity (x): 0.0051085630270957605. CoM velocity (y): -0.0790496965985377.\n",
      "Command: -0.1. CoM velocity (x): -0.0006171932431747319. CoM velocity (y): -0.10630163411144769.\n",
      "Command: -0.1. CoM velocity (x): 0.025425627626984592. CoM velocity (y): -0.1307456275924474.\n",
      "Command: -0.1. CoM velocity (x): 0.007924635134314888. CoM velocity (y): -0.0802641432302122.\n",
      "Command: -0.1. CoM velocity (x): 0.024033085806798117. CoM velocity (y): -0.1283525273789093.\n",
      "Command: -0.1. CoM velocity (x): 0.0077544619649974. CoM velocity (y): -0.09169678132039508.\n",
      "Command: -0.1. CoM velocity (x): 0.023860853919836042. CoM velocity (y): -0.11083962445825297.\n",
      "Command: -0.1. CoM velocity (x): 0.005404698378536007. CoM velocity (y): -0.11609200690837801.\n",
      "Command: -0.1. CoM velocity (x): 0.020252329551486425. CoM velocity (y): -0.13203024136242375.\n",
      "Command: -0.15000000000000002. CoM velocity (x): 0.00756483468608427. CoM velocity (y): -0.14874999824894167.\n",
      "Command: -0.15000000000000002. CoM velocity (x): 0.03319381053056111. CoM velocity (y): -0.19535522840350558.\n",
      "Command: -0.15000000000000002. CoM velocity (x): 0.002336905747097392. CoM velocity (y): -0.1578881459667417.\n",
      "Command: -0.15000000000000002. CoM velocity (x): 0.030979254545859418. CoM velocity (y): -0.1914613733171731.\n",
      "Command: -0.15000000000000002. CoM velocity (x): 0.00921794994190392. CoM velocity (y): -0.12824719047053554.\n",
      "Command: -0.15000000000000002. CoM velocity (x): 0.03036270042933497. CoM velocity (y): -0.1927798563042145.\n",
      "Command: -0.15000000000000002. CoM velocity (x): 0.0054046159743191685. CoM velocity (y): -0.16141341649082405.\n",
      "Command: -0.15000000000000002. CoM velocity (x): 0.030355214788172928. CoM velocity (y): -0.17288515982724503.\n",
      "Command: -0.15000000000000002. CoM velocity (x): 0.006723722142250993. CoM velocity (y): -0.14728542984044138.\n",
      "Command: -0.15000000000000002. CoM velocity (x): 0.023574990199238026. CoM velocity (y): -0.13856204657347923.\n",
      "Command: -0.1. CoM velocity (x): 0.00840496958135412. CoM velocity (y): -0.09722849088947086.\n",
      "Command: -0.1. CoM velocity (x): 0.019467663154823248. CoM velocity (y): -0.11439183717577014.\n",
      "Command: -0.1. CoM velocity (x): 0.005838017629390513. CoM velocity (y): -0.1138748400294767.\n",
      "Command: -0.1. CoM velocity (x): 0.028271256420092743. CoM velocity (y): -0.12991911291126054.\n",
      "Command: -0.1. CoM velocity (x): 0.006721375326865627. CoM velocity (y): -0.0669406558646104.\n",
      "Command: -0.1. CoM velocity (x): 0.02469250144470835. CoM velocity (y): -0.12069745178892727.\n",
      "Command: -0.1. CoM velocity (x): 0.007879781429335458. CoM velocity (y): -0.09380496712657055.\n",
      "Command: -0.1. CoM velocity (x): 0.026910847276315274. CoM velocity (y): -0.13670058518190462.\n",
      "Command: -0.1. CoM velocity (x): 0.00905201524998334. CoM velocity (y): -0.08643244620148584.\n",
      "Command: -0.15000000000000002. CoM velocity (x): 0.038831084266656914. CoM velocity (y): -0.21222792362104373.\n",
      "Command: -0.15000000000000002. CoM velocity (x): 0.0005397521144928196. CoM velocity (y): -0.11995034490856768.\n",
      "Command: -0.15000000000000002. CoM velocity (x): 0.029558081082197814. CoM velocity (y): -0.19972707907156548.\n",
      "Command: -0.15000000000000002. CoM velocity (x): 0.0058289840789528475. CoM velocity (y): -0.15078854815873854.\n",
      "Command: -0.15000000000000002. CoM velocity (x): 0.03325938158032643. CoM velocity (y): -0.20101073516240603.\n",
      "Command: -0.15000000000000002. CoM velocity (x): 0.00483736479536174. CoM velocity (y): -0.10192273582629838.\n",
      "Command: -0.15000000000000002. CoM velocity (x): 0.029824499873740917. CoM velocity (y): -0.19933117757638674.\n",
      "Command: -0.15000000000000002. CoM velocity (x): 0.005357441365585298. CoM velocity (y): -0.1731201692562675.\n",
      "Command: -0.15000000000000002. CoM velocity (x): 0.030194415472161187. CoM velocity (y): -0.14221088896355263.\n",
      "Command: -0.1. CoM velocity (x): 0.007219766752875932. CoM velocity (y): -0.10947324415365882.\n",
      "Command: -0.1. CoM velocity (x): 0.021695349088267465. CoM velocity (y): -0.12680920695050338.\n",
      "Command: -0.1. CoM velocity (x): 0.008560712186214056. CoM velocity (y): -0.09797980429679845.\n",
      "Command: -0.1. CoM velocity (x): 0.02718169694820662. CoM velocity (y): -0.12694514249153993.\n",
      "Command: -0.1. CoM velocity (x): 0.008251393251477206. CoM velocity (y): -0.09083041478127357.\n",
      "Command: -0.1. CoM velocity (x): 0.022048745646713684. CoM velocity (y): -0.11888861550673194.\n",
      "Command: -0.1. CoM velocity (x): 0.009657279679652353. CoM velocity (y): -0.07971934068759517.\n",
      "Command: -0.1. CoM velocity (x): 0.02411091502880268. CoM velocity (y): -0.13987172056458522.\n",
      "Command: -0.1. CoM velocity (x): 0.008817460262480646. CoM velocity (y): -0.07282989328280921.\n",
      "Command: -0.15000000000000002. CoM velocity (x): 0.02365966027488127. CoM velocity (y): -0.15939541311777625.\n",
      "Command: -0.15000000000000002. CoM velocity (x): 0.009314855794872932. CoM velocity (y): -0.13669768826254106.\n",
      "Command: -0.15000000000000002. CoM velocity (x): 0.031931437645558315. CoM velocity (y): -0.1870247187511413.\n",
      "Command: -0.15000000000000002. CoM velocity (x): 0.0022943226303372174. CoM velocity (y): -0.15486755649888267.\n",
      "Command: -0.15000000000000002. CoM velocity (x): 0.031410812398694. CoM velocity (y): -0.16951953860968297.\n",
      "Command: -0.15000000000000002. CoM velocity (x): 0.0069368322457604645. CoM velocity (y): -0.12870500550000039.\n",
      "Command: -0.15000000000000002. CoM velocity (x): 0.034838289007501376. CoM velocity (y): -0.20393477973463173.\n",
      "Command: -0.15000000000000002. CoM velocity (x): 0.006669181740563509. CoM velocity (y): -0.13436245358695867.\n",
      "Command: -0.15000000000000002. CoM velocity (x): 0.03193064411985663. CoM velocity (y): -0.18974416204694222.\n",
      "Command: -0.15000000000000002. CoM velocity (x): 0.004101241864768163. CoM velocity (y): -0.12857843464560662.\n",
      "Command: -0.1. CoM velocity (x): 0.02137499675907497. CoM velocity (y): -0.10679939398514818.\n",
      "Command: -0.1. CoM velocity (x): 0.010516254533583494. CoM velocity (y): -0.11265488622543973.\n",
      "Command: -0.1. CoM velocity (x): 0.023819649639730045. CoM velocity (y): -0.11630747391400564.\n",
      "Command: -0.1. CoM velocity (x): 0.007129682207355377. CoM velocity (y): -0.108323764040995.\n",
      "Command: -0.1. CoM velocity (x): 0.020641562400185037. CoM velocity (y): -0.11407495105624883.\n",
      "Command: -0.1. CoM velocity (x): 0.009981807717781519. CoM velocity (y): -0.09023988262009526.\n",
      "Command: -0.1. CoM velocity (x): 0.027043839548179526. CoM velocity (y): -0.12694329676179894.\n",
      "Command: -0.1. CoM velocity (x): 0.00531287340280236. CoM velocity (y): -0.11033662877200406.\n",
      "Command: -0.1. CoM velocity (x): 0.02997522018924004. CoM velocity (y): -0.1662247685627028.\n",
      "Command: -0.15000000000000002. CoM velocity (x): 0.0035735800162968187. CoM velocity (y): -0.14940535869249924.\n",
      "Command: -0.15000000000000002. CoM velocity (x): 0.04040292845096125. CoM velocity (y): -0.21289717653724044.\n",
      "Command: -0.15000000000000002. CoM velocity (x): 0.004715647453970302. CoM velocity (y): -0.114968635963025.\n",
      "Command: -0.15000000000000002. CoM velocity (x): 0.032327005337472084. CoM velocity (y): -0.1996093661278722.\n",
      "Command: -0.15000000000000002. CoM velocity (x): 0.0064502792215153015. CoM velocity (y): -0.15726458844468535.\n",
      "Command: -0.15000000000000002. CoM velocity (x): 0.03148193671655155. CoM velocity (y): -0.18099130711978767.\n",
      "Command: -0.15000000000000002. CoM velocity (x): 0.006625285842604952. CoM velocity (y): -0.13621473713216217.\n",
      "Command: -0.15000000000000002. CoM velocity (x): 0.03037579937471759. CoM velocity (y): -0.17074044832551846.\n",
      "Command: -0.15000000000000002. CoM velocity (x): 0.005476686835131459. CoM velocity (y): -0.11318808433963992.\n",
      "Command: -0.1. CoM velocity (x): 0.021975786794841596. CoM velocity (y): -0.12694806136369943.\n",
      "Command: -0.1. CoM velocity (x): 0.010700231886171193. CoM velocity (y): -0.10347102055209292.\n",
      "Command: -0.1. CoM velocity (x): 0.025524383709606774. CoM velocity (y): -0.1296751213019387.\n",
      "Command: -0.1. CoM velocity (x): 0.005410529174146302. CoM velocity (y): -0.07336685376800295.\n",
      "Command: -0.1. CoM velocity (x): 0.022464196076475894. CoM velocity (y): -0.1257959096714052.\n",
      "Command: -0.1. CoM velocity (x): 0.007957899216663416. CoM velocity (y): -0.07850054187202378.\n",
      "Command: -0.1. CoM velocity (x): 0.02645002797874379. CoM velocity (y): -0.13155723179912102.\n",
      "Command: -0.1. CoM velocity (x): 0.009186043664378063. CoM velocity (y): -0.08263430160116635.\n",
      "Command: -0.1. CoM velocity (x): 0.018039785626741887. CoM velocity (y): -0.14448017635178279.\n",
      "Command: -0.15000000000000002. CoM velocity (x): 0.018376383412082833. CoM velocity (y): -0.11567986680637156.\n",
      "Command: -0.15000000000000002. CoM velocity (x): 0.030476693480270288. CoM velocity (y): -0.20217311043114256.\n",
      "Command: -0.15000000000000002. CoM velocity (x): 0.0006657269054721425. CoM velocity (y): -0.15616270890586506.\n",
      "Command: -0.15000000000000002. CoM velocity (x): 0.027163721984604778. CoM velocity (y): -0.17268712560328797.\n",
      "Command: -0.15000000000000002. CoM velocity (x): 0.008187405145942893. CoM velocity (y): -0.13017797268203155.\n",
      "Command: -0.15000000000000002. CoM velocity (x): 0.034101852899361636. CoM velocity (y): -0.18075753312326026.\n",
      "Command: -0.15000000000000002. CoM velocity (x): 0.0046974723507018125. CoM velocity (y): -0.14123521258970728.\n",
      "Command: -0.15000000000000002. CoM velocity (x): 0.03116439648989145. CoM velocity (y): -0.17069056787022072.\n",
      "Command: -0.15000000000000002. CoM velocity (x): 0.007383605571770142. CoM velocity (y): -0.1333357689925882.\n",
      "Command: -0.1. CoM velocity (x): 0.022972068482319693. CoM velocity (y): -0.15139616000344447.\n",
      "Command: -0.1. CoM velocity (x): 0.00866591307794757. CoM velocity (y): -0.07216976457582087.\n",
      "Command: -0.1. CoM velocity (x): 0.022252393402958325. CoM velocity (y): -0.11893524619613308.\n",
      "Command: -0.1. CoM velocity (x): 0.008486451726638594. CoM velocity (y): -0.08914452860502667.\n",
      "Command: -0.1. CoM velocity (x): 0.026560867447542283. CoM velocity (y): -0.13891685913600904.\n",
      "Command: -0.1. CoM velocity (x): 0.009610186581386203. CoM velocity (y): -0.07651548024168872.\n",
      "Command: -0.1. CoM velocity (x): 0.023969350403210823. CoM velocity (y): -0.12941966442454197.\n",
      "Command: -0.1. CoM velocity (x): 0.011280224487237051. CoM velocity (y): -0.06724180080119976.\n"
     ]
    }
   ],
   "source": [
    "for x in motion_idx[:100]:\n",
    "    print(f'Command: {X_motion_step[x, 1]}. CoM velocity (x): {X_motion_step[x, 34]}. CoM velocity (y): {X_motion_step[x, 35]}.')"
   ]
  },
  {
   "cell_type": "code",
   "execution_count": 86,
   "id": "56070e38",
   "metadata": {},
   "outputs": [
    {
     "data": {
      "text/plain": [
       "array([0.07464571, 0.06010439, 0.06078163, 0.05450465, 0.06848326,\n",
       "       0.09516867, 0.08363788, 0.0862579 , 0.08774815, 0.052808  ,\n",
       "       0.0544083 , 0.05372943, 0.06195404, 0.0687784 , 0.08469264,\n",
       "       0.08332793, 0.09989096, 0.09243038, 0.05933575, 0.05358246,\n",
       "       0.05847915, 0.05842283, 0.05954041, 0.08378454, 0.09065428,\n",
       "       0.08591603, 0.0970754 , 0.07003787, 0.05217314, 0.05968502,\n",
       "       0.06025758, 0.05286194, 0.08810744, 0.09398463, 0.0959523 ,\n",
       "       0.08868574, 0.07720284, 0.05756426, 0.0624297 , 0.05377547,\n",
       "       0.0603686 , 0.09169602, 0.08689214, 0.08928135, 0.09183738,\n",
       "       0.08717282, 0.05301684, 0.05561276, 0.0527551 , 0.05350466,\n",
       "       0.08151005, 0.08473858, 0.09451021, 0.09218401, 0.09860574,\n",
       "       0.05418505, 0.05793175, 0.05589502, 0.05422227, 0.06791385,\n",
       "       0.09737831, 0.08854353, 0.0855709 , 0.08459334, 0.06744415,\n",
       "       0.05369668, 0.05349596, 0.05405936, 0.06009391, 0.08743665,\n",
       "       0.08254763, 0.08471991, 0.09536809, 0.07636493, 0.05420366,\n",
       "       0.0621635 , 0.05935439, 0.05704696, 0.08499801, 0.08567645,\n",
       "       0.08432762, 0.09860666, 0.08255419, 0.05895431, 0.05363581,\n",
       "       0.06118342, 0.05329078, 0.06888555, 0.09358445, 0.08742654,\n",
       "       0.09373009, 0.09714341, 0.05829169, 0.05594516, 0.05737557,\n",
       "       0.05569935, 0.06801619, 0.0881203 , 0.085574  , 0.09470156])"
      ]
     },
     "execution_count": 86,
     "metadata": {},
     "output_type": "execute_result"
    }
   ],
   "source": [
    "Y_motion_step_FL[:100, 0]"
   ]
  },
  {
   "cell_type": "code",
   "execution_count": 91,
   "id": "a7116c67",
   "metadata": {},
   "outputs": [],
   "source": [
    "#for x in range(1, 100):\n",
    "#    print(f'Motion: {X_motion_step_FL[x, 0]}. Velocity (FL) {Y_motion_step_FL[x,0]/(X_motion_step_FL[x, -1]-X_motion_step_FL[x-1, -1])}. Velocity (RR) {Y_motion_step_FL[x,6]/(X_motion_step_FL[x, -1]-X_motion_step_FL[x-1, -1])}.')"
   ]
  },
  {
   "cell_type": "markdown",
   "id": "82be823b",
   "metadata": {},
   "source": [
    "## Predict FL foot -> x"
   ]
  },
  {
   "cell_type": "code",
   "execution_count": 36,
   "id": "933e0eb8",
   "metadata": {},
   "outputs": [
    {
     "data": {
      "text/plain": [
       "array([ 1.00000000e-01,  0.00000000e+00,  0.00000000e+00,  0.00000000e+00,\n",
       "        0.00000000e+00,  0.00000000e+00,  1.35253631e-02, -5.45018454e-03,\n",
       "        1.90322078e-37, -5.57888703e-24, -4.46281599e-23,  9.45164094e-02,\n",
       "        1.59093827e-01,  1.32301375e-01, -3.42030436e-01,  2.06204250e-01,\n",
       "       -1.36616319e-01, -3.38554084e-01, -2.68098682e-01,  1.39270037e-01,\n",
       "       -3.41048896e-01, -2.74800837e-01, -1.31081313e-01, -3.37453157e-01,\n",
       "        0.00000000e+00,  1.00000000e+00,  0.00000000e+00,  0.00000000e+00,\n",
       "        1.58638060e-02, -4.57940996e-03,  2.44542360e-02,  1.46174431e-03,\n",
       "        0.00000000e+00,  0.00000000e+00,  1.63111719e+09])"
      ]
     },
     "execution_count": 36,
     "metadata": {},
     "output_type": "execute_result"
    }
   ],
   "source": [
    "X_motion_step_FL[0, :]"
   ]
  },
  {
   "cell_type": "markdown",
   "id": "dd2fc3f1",
   "metadata": {},
   "source": [
    "### Linear Regression"
   ]
  },
  {
   "cell_type": "code",
   "execution_count": 31,
   "id": "aecffbbe",
   "metadata": {},
   "outputs": [
    {
     "data": {
      "text/plain": [
       "array([0.17949653, 0.34110284, 0.35154986, 0.34302187, 0.3473804 ,\n",
       "       0.30436182, 0.30151248, 0.29698682, 0.34815049, 0.27096629,\n",
       "       0.31960869, 0.308496  , 0.31018829, 0.25286603, 0.35173821,\n",
       "       0.34124327, 0.39480495, 0.32067728, 0.2966857 , 0.3287065 ,\n",
       "       0.35055041, 0.29949355, 0.2950418 , 0.32077551, 0.30494356,\n",
       "       0.31792855, 0.36507654, 0.30400038, 0.31712389, 0.34173989,\n",
       "       0.30086064, 0.34041286, 0.34304547, 0.30772519, 0.3392005 ,\n",
       "       0.32040977, 0.33000326, 0.33995414, 0.29585934, 0.25667644,\n",
       "       0.30885386, 0.31095624, 0.34447479, 0.35652971, 0.34472775,\n",
       "       0.32761145, 0.30139136, 0.33953953, 0.29603004, 0.29128885,\n",
       "       0.37234449, 0.29495478, 0.33921862, 0.34142733, 0.34695768,\n",
       "       0.30169463, 0.27989173, 0.3042376 , 0.30183029, 0.32921362,\n",
       "       0.30963755, 0.33538365, 0.30197096, 0.29648662, 0.34529305,\n",
       "       0.2537415 , 0.31368065, 0.30056238, 0.36096072, 0.30832243,\n",
       "       0.30404615, 0.31074429, 0.35617614, 0.29848027, 0.35153341,\n",
       "       0.39773893, 0.31072569, 0.3410387 , 0.25629234, 0.38903141,\n",
       "       0.29902625, 0.30745029, 0.34506798, 0.30437207, 0.30123401,\n",
       "       0.34321594, 0.25714564, 0.30077076, 0.34926748, 0.34298134,\n",
       "       0.34834027, 0.30516934, 0.30097795, 0.30660796, 0.35246205,\n",
       "       0.34370589, 0.2907145 , 0.30911946, 0.3345263 , 0.29884458])"
      ]
     },
     "execution_count": 31,
     "metadata": {},
     "output_type": "execute_result"
    }
   ],
   "source": [
    "X_motion_step[idx_fl_swinging-1, -1][:100]"
   ]
  },
  {
   "cell_type": "code",
   "execution_count": 32,
   "id": "68783236",
   "metadata": {},
   "outputs": [
    {
     "data": {
      "text/plain": [
       "array([0.        , 0.21883639, 0.17096973, 0.17719461, 0.15690191,\n",
       "       0.22500609, 0.31563757, 0.28162152, 0.2477604 , 0.32383421,\n",
       "       0.16522705, 0.1763663 , 0.17321553, 0.24500735, 0.19553859,\n",
       "       0.24818846, 0.21106101, 0.31149997, 0.31154311, 0.18051287,\n",
       "       0.15285236, 0.19526011, 0.19801545, 0.18561394, 0.27475424,\n",
       "       0.28514043, 0.23533703, 0.31932659, 0.22085334, 0.15266915,\n",
       "       0.19838095, 0.17701324, 0.15409603, 0.28631857, 0.27707693,\n",
       "       0.29946746, 0.268742  , 0.22709781, 0.19456631, 0.24322333,\n",
       "       0.174113  , 0.19413856, 0.26619081, 0.24371641, 0.2589909 ,\n",
       "       0.28032408, 0.28923464, 0.15614336, 0.18786187, 0.18110924,\n",
       "       0.14369666, 0.27634763, 0.24980522, 0.27680916, 0.26569236,\n",
       "       0.32683955, 0.19359289, 0.19041614, 0.1851869 , 0.16470239,\n",
       "       0.21933337, 0.29034902, 0.29321871, 0.28861641, 0.24498999,\n",
       "       0.26579864, 0.17118263, 0.17798621, 0.1497652 , 0.19490606,\n",
       "       0.28757689, 0.2656449 , 0.23785959, 0.3195122 , 0.21723379,\n",
       "       0.13627949, 0.2000591 , 0.17404005, 0.22258552, 0.21848624,\n",
       "       0.28651814, 0.27428051, 0.2857601 , 0.27122788, 0.19570936,\n",
       "       0.15627423, 0.23793296, 0.17718074, 0.19722864, 0.2728558 ,\n",
       "       0.25098029, 0.30714124, 0.32275924, 0.19011799, 0.15872676,\n",
       "       0.16693215, 0.19159467, 0.22003204, 0.26341814, 0.28634952])"
      ]
     },
     "execution_count": 32,
     "metadata": {},
     "output_type": "execute_result"
    }
   ],
   "source": [
    "X_motion_step[idx_fl_swinging-1, 26][:100]/X_motion_step[idx_fl_swinging-1, -1][:100]"
   ]
  },
  {
   "cell_type": "code",
   "execution_count": 47,
   "id": "9a88744e",
   "metadata": {},
   "outputs": [
    {
     "data": {
      "text/plain": [
       "array([0.01586381, 0.05948897, 0.05894744, 0.06044418, 0.05375968,\n",
       "       0.08509007, 0.09557687, 0.08357988, 0.08905752, 0.06752773,\n",
       "       0.0539757 , 0.05394599, 0.05371091, 0.06225052, 0.08551434,\n",
       "       0.08430591, 0.0873313 , 0.09798636, 0.07999153, 0.05351496,\n",
       "       0.05294903, 0.05853119, 0.0593307 , 0.07618429, 0.08299088,\n",
       "       0.09193519, 0.08785801, 0.09536757, 0.05154957, 0.05384161,\n",
       "       0.05923106, 0.05963865, 0.0727966 , 0.08515976, 0.09435426,\n",
       "       0.09515874, 0.09133466, 0.05867429, 0.05787624, 0.06208937,\n",
       "       0.05323771, 0.07313876, 0.09763171, 0.0846561 , 0.08953345,\n",
       "       0.09247576, 0.06921554, 0.05526379, 0.05275954, 0.05385101,\n",
       "       0.05491464, 0.09687513, 0.08376804, 0.097821  , 0.09351549,\n",
       "       0.07900506, 0.05383775, 0.05693512, 0.05602419, 0.05551869,\n",
       "       0.08844931, 0.09460618, 0.08604218, 0.08642529, 0.07473938,\n",
       "       0.06017241, 0.05349304, 0.05387045, 0.05546698, 0.07648577,\n",
       "       0.08558086, 0.08330077, 0.08445747, 0.09596564, 0.05995207,\n",
       "       0.05555953, 0.06126027, 0.0580159 , 0.07359248, 0.08745553,\n",
       "       0.08355859, 0.08705972, 0.09918608, 0.0607962 , 0.06114659,\n",
       "       0.05516809, 0.05884534, 0.05402131, 0.08699881, 0.09269312,\n",
       "       0.08657438, 0.0954119 , 0.07925366, 0.05841611, 0.05733091,\n",
       "       0.05609074, 0.05495533, 0.08524345, 0.08792838, 0.08521204])"
      ]
     },
     "execution_count": 47,
     "metadata": {},
     "output_type": "execute_result"
    }
   ],
   "source": [
    "X_motion_step[idx_fl_swinging, 28][:100]"
   ]
  },
  {
   "cell_type": "code",
   "execution_count": 12,
   "id": "fb3362f4",
   "metadata": {},
   "outputs": [
    {
     "name": "stdout",
     "output_type": "stream",
     "text": [
      "R2:  0.9753828160447142\n",
      "RMSE:  0.015899025350719995\n",
      "The lowest error is:  3.0568571849354242e-06\n",
      "The highest error is:  0.17343029389671305\n",
      "The avg. error is:  0.009809135339341779\n"
     ]
    }
   ],
   "source": [
    "# Input\n",
    "#X = np.hstack((X_motion_step_FL[:, :2], np.array([X_motion_step_FL[:, 5]]).T, \n",
    "#               X_motion_step_FL[:, 6:8], np.array([X_motion_step_FL[:, 11]]).T, \n",
    "#               np.array([X_motion_step_FL[:, 12]]).T, np.array([X_motion_step_FL[:, 15]]).T))\n",
    "#X = np.hstack((X_motion_step_FL[:, :2], np.array([X_motion_step_FL[:, 5]]).T,\n",
    "#               X_motion_step_FL[:, 6:8], np.array([X_motion_step_FL[:, 11]]).T,\n",
    "#               np.array([X_motion_step[idx_fl_swinging-1, 26]]).T,\n",
    "#               np.array([X_motion_step_FL[:, 12]]).T, np.array([X_motion_step_FL[:, 15]]).T))\n",
    "#X = np.hstack((X_motion_step_FL[:, :2], np.array([X_motion_step_FL[:, 5]]).T,\n",
    "#               np.array([X_motion_step_FL[:, 12]]).T, np.array([X_motion_step_FL[:, 15]]).T))\n",
    "\n",
    "X = np.hstack((X_motion_step_FL[:, :2], \n",
    "               np.array([X_motion_step_FL[:, 5]]).T,\n",
    "               np.array([X_motion_step[idx_fl_swinging-1, 26]]).T, \n",
    "               np.array([X_motion_step[idx_fl_swinging, 28]]).T,\n",
    "               X_motion_step[idx_fl_swinging, 34:36]))\n",
    "\n",
    "# Labels\n",
    "Y = np.array([Y_motion_step_FL[:, 0]]).T\n",
    "\n",
    "assert Y.shape[0] == X.shape[0]\n",
    "\n",
    "# Split data into train and test set\n",
    "X_train, X_test, Y_train, Y_test = train_test_split(X, Y, train_size = 0.8, test_size=0.2, shuffle=True, random_state=40)\n",
    "\n",
    "# Create the model\n",
    "model_fl_x = LinearRegression()\n",
    "\n",
    "# Fit the model\n",
    "model_fl_x.fit(X_train, Y_train)\n",
    "\n",
    "# Predict\n",
    "predictions = model_fl_x.predict(X_test)\n",
    "\n",
    "# Stats\n",
    "print('R2: ', r2_score(predictions, Y_test))\n",
    "print('RMSE: ', np.sqrt(mean_squared_error(Y_test, predictions)))\n",
    "print(\"The lowest error is: \", np.min(np.abs(predictions - Y_test)))\n",
    "print(\"The highest error is: \", np.max(np.abs(predictions - Y_test)))\n",
    "print(\"The avg. error is: \", np.mean(np.abs(predictions - Y_test)))\n",
    "#print(\"Seq of errors (descendant): \\n\", sorted(np.abs(predictions - Y_test).tolist(), reverse=True))"
   ]
  },
  {
   "cell_type": "code",
   "execution_count": 13,
   "id": "f3451180",
   "metadata": {},
   "outputs": [
    {
     "data": {
      "text/plain": [
       "Text(0, 0.5, 'Predictions')"
      ]
     },
     "execution_count": 13,
     "metadata": {},
     "output_type": "execute_result"
    },
    {
     "data": {
      "image/png": "[encoded data removed]",
      "text/plain": [
       "<Figure size 432x288 with 1 Axes>"
      ]
     },
     "metadata": {
      "needs_background": "light"
     },
     "output_type": "display_data"
    }
   ],
   "source": [
    "## The line / model\n",
    "plt.scatter(Y_test, predictions)\n",
    "plt.xlabel(\"True Values\")\n",
    "plt.ylabel(\"Predictions\")"
   ]
  },
  {
   "cell_type": "code",
   "execution_count": 94,
   "id": "88e3a696",
   "metadata": {},
   "outputs": [
    {
     "name": "stdout",
     "output_type": "stream",
     "text": [
      "Stored 'model_fl_x' (LinearRegression)\n"
     ]
    }
   ],
   "source": [
    "%store model_fl_x"
   ]
  },
  {
   "cell_type": "code",
   "execution_count": 54,
   "id": "8355ab6e",
   "metadata": {},
   "outputs": [],
   "source": [
    "#for idx, prediction in enumerate(predictions):\n",
    "#    print(f'Groundtruth: {Y_test[idx]}. Predicted: {prediction}')"
   ]
  },
  {
   "cell_type": "code",
   "execution_count": 19,
   "id": "d306fc04",
   "metadata": {},
   "outputs": [
    {
     "data": {
      "text/plain": [
       "['/home/itaouil/workspace/aliengo_ws/src/aliengo_navigation/models/protocol3/model_fl_x.sav']"
      ]
     },
     "execution_count": 19,
     "metadata": {},
     "output_type": "execute_result"
    }
   ],
   "source": [
    "# Save model\n",
    "joblib.dump(model_fl_x, \"/home/itaouil/workspace/aliengo_ws/src/aliengo_navigation/models/protocol3/model_fl_x.sav\")"
   ]
  },
  {
   "cell_type": "markdown",
   "id": "3460d647",
   "metadata": {},
   "source": [
    "## Predict FL foot -> y"
   ]
  },
  {
   "cell_type": "markdown",
   "id": "669fc9e8",
   "metadata": {},
   "source": [
    "### Linear Regression"
   ]
  },
  {
   "cell_type": "code",
   "execution_count": 95,
   "id": "e975c302",
   "metadata": {},
   "outputs": [
    {
     "name": "stdout",
     "output_type": "stream",
     "text": [
      "R2:  0.9832728195050647\n",
      "RMSE:  0.013139694685179155\n",
      "The lowest error is:  1.5032282655452756e-07\n",
      "The highest error is:  0.13529637646043316\n",
      "The avg. error is:  0.008384267965829483\n"
     ]
    }
   ],
   "source": [
    "# Input\n",
    "#X = np.hstack((X_motion_step_FL[:, :2], np.array([X_motion_step_FL[:, 5]]).T, \n",
    "#               X_motion_step_FL[:, 6:8], np.array([X_motion_step_FL[:, 11]]).T, \n",
    "#               np.array([X_motion_step_FL[:, 13]]).T, np.array([X_motion_step_FL[:, 16]]).T))\n",
    "#X = np.hstack((X_motion_step_FL[:, :2], np.array([X_motion_step_FL[:, 5]]).T, \n",
    "#               np.array([X_motion_step_FL[:, 13]]).T, np.array([X_motion_step_FL[:, 16]]).T))\n",
    "#X = np.hstack((X_motion_step_FL[:, :2], np.array([X_motion_step_FL[:, 5]]).T,\n",
    "#               np.array([X_motion_step[idx_fl_swinging-1, 27]]).T, np.array([X_motion_step[idx_fl_swinging, 29]]).T))\n",
    "\n",
    "X = np.hstack((X_motion_step_FL[:, :2], \n",
    "               np.array([X_motion_step_FL[:, 5]]).T,\n",
    "               np.array([X_motion_step[idx_fl_swinging-1, 27]]).T, \n",
    "               np.array([X_motion_step[idx_fl_swinging, 29]]).T,\n",
    "               X_motion_step[idx_fl_swinging, 34:36]))\n",
    "\n",
    "# Label matrix which consists only of\n",
    "# the next x coordinate of the FR foot.\n",
    "# We dont consider the first row.\n",
    "Y = np.array([Y_motion_step_FL[:, 1]]).T\n",
    "\n",
    "assert Y.shape[0] == X.shape[0]\n",
    "\n",
    "# Split data into train and test set\n",
    "X_train, X_test, Y_train, Y_test = train_test_split(X, Y, train_size = 0.8, test_size=0.2, shuffle=True, random_state=100)\n",
    "\n",
    "# Create the model\n",
    "model_fl_y = LinearRegression()\n",
    "\n",
    "# Fit the model\n",
    "model_fl_y.fit(X_train, Y_train)\n",
    "\n",
    "# Predict\n",
    "predictions = model_fl_y.predict(X_test)\n",
    "\n",
    "# Stats\n",
    "print('R2: ', r2_score(predictions, Y_test))\n",
    "print('RMSE: ', np.sqrt(mean_squared_error(Y_test, predictions)))\n",
    "print(\"The lowest error is: \", np.min(np.abs(predictions - Y_test)))\n",
    "print(\"The highest error is: \", np.max(np.abs(predictions - Y_test)))\n",
    "print(\"The avg. error is: \", np.mean(np.abs(predictions - Y_test)))\n",
    "#print(\"Seq of errors (descendant): \\n\", sorted(np.abs(predictions - Y_test).tolist(), reverse=True))"
   ]
  },
  {
   "cell_type": "code",
   "execution_count": 96,
   "id": "ae39ae7c",
   "metadata": {},
   "outputs": [
    {
     "data": {
      "text/plain": [
       "Text(0, 0.5, 'Predictions')"
      ]
     },
     "execution_count": 96,
     "metadata": {},
     "output_type": "execute_result"
    },
    {
     "data": {
      "image/png": "[encoded data removed]",
      "text/plain": [
       "<Figure size 432x288 with 1 Axes>"
      ]
     },
     "metadata": {
      "needs_background": "light"
     },
     "output_type": "display_data"
    }
   ],
   "source": [
    "## The line / model\n",
    "plt.scatter(Y_test, predictions)\n",
    "plt.xlabel(\"True Values\")\n",
    "plt.ylabel(\"Predictions\")"
   ]
  },
  {
   "cell_type": "code",
   "execution_count": 97,
   "id": "c92371c0",
   "metadata": {},
   "outputs": [
    {
     "name": "stdout",
     "output_type": "stream",
     "text": [
      "Stored 'model_fl_y' (LinearRegression)\n"
     ]
    }
   ],
   "source": [
    "%store model_fl_y"
   ]
  },
  {
   "cell_type": "code",
   "execution_count": 23,
   "id": "49584c3a",
   "metadata": {},
   "outputs": [],
   "source": [
    "#for idx, prediction in enumerate(predictions):\n",
    "#    print(f'Groundtruth: {Y_test[idx]}. Predicted: {prediction}')"
   ]
  },
  {
   "cell_type": "code",
   "execution_count": 24,
   "id": "ad757ad4",
   "metadata": {},
   "outputs": [
    {
     "data": {
      "text/plain": [
       "['/home/itaouil/workspace/aliengo_ws/src/aliengo_navigation/models/protocol3/model_fl_y.sav']"
      ]
     },
     "execution_count": 24,
     "metadata": {},
     "output_type": "execute_result"
    }
   ],
   "source": [
    "# Save model\n",
    "joblib.dump(model_fl_y, \"/home/itaouil/workspace/aliengo_ws/src/aliengo_navigation/models/protocol3/model_fl_y.sav\")"
   ]
  },
  {
   "cell_type": "code",
   "execution_count": null,
   "id": "fa882293",
   "metadata": {},
   "outputs": [],
   "source": []
  }
 ],
 "metadata": {
  "kernelspec": {
   "display_name": "Python 3",
   "language": "python",
   "name": "python3"
  },
  "language_info": {
   "codemirror_mode": {
    "name": "ipython",
    "version": 3
   },
   "file_extension": ".py",
   "mimetype": "text/x-python",
   "name": "python",
   "nbconvert_exporter": "python",
   "pygments_lexer": "ipython3",
   "version": "3.6.12"
  }
 },
 "nbformat": 4,
 "nbformat_minor": 5
}
