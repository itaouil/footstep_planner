{
 "cells": [
  {
   "cell_type": "code",
   "execution_count": 1,
   "id": "b278997e",
   "metadata": {},
   "outputs": [],
   "source": [
    "#!/usr/bin/env python3.6\n",
    "# -*- coding: utf-8 -*-"
   ]
  },
  {
   "cell_type": "code",
   "execution_count": 2,
   "id": "20be6013",
   "metadata": {},
   "outputs": [],
   "source": [
    "# Imports\n",
    "import sys\n",
    "import joblib\n",
    "import numpy as np\n",
    "from matplotlib import animation\n",
    "from IPython.display import HTML\n",
    "from matplotlib import pyplot as plt\n",
    "import mpl_toolkits.mplot3d.axes3d as p3"
   ]
  },
  {
   "cell_type": "code",
   "execution_count": 3,
   "id": "1f8e044f",
   "metadata": {},
   "outputs": [],
   "source": [
    "#np.random.seed(20)\n",
    "np.set_printoptions(threshold=sys.maxsize)"
   ]
  },
  {
   "cell_type": "code",
   "execution_count": 4,
   "id": "c2a22cbf",
   "metadata": {},
   "outputs": [],
   "source": [
    "%matplotlib inline"
   ]
  },
  {
   "cell_type": "code",
   "execution_count": 5,
   "id": "8f3eec84",
   "metadata": {},
   "outputs": [],
   "source": [
    "# Retrieve inputs\n",
    "%store -r X_motion_01_3D\n",
    "%store -r X_motion_015_3D\n",
    "%store -r X_motion_02_3D\n",
    "%store -r X_motion_025_3D\n",
    "%store -r X_motion_03_3D\n",
    "%store -r X_motion_035_3D\n",
    "%store -r X_motion_04_3D\n",
    "%store -r X_motion_045_3D\n",
    "%store -r X_motion_05_3D\n",
    "%store -r X_motion_055_3D\n",
    "%store -r X_motion_06_3D\n",
    "%store -r X_motion_065_3D\n",
    "%store -r X_motion_07_3D\n",
    "%store -r X_motion_075_3D\n",
    "%store -r X_motion_08_3D\n",
    "\n",
    "\n",
    "# Retrieve labels\n",
    "%store -r Y_motion_01_3D\n",
    "%store -r Y_motion_015_3D\n",
    "%store -r Y_motion_02_3D\n",
    "%store -r Y_motion_025_3D\n",
    "%store -r Y_motion_03_3D\n",
    "%store -r Y_motion_035_3D\n",
    "%store -r Y_motion_04_3D\n",
    "%store -r Y_motion_045_3D\n",
    "%store -r Y_motion_05_3D\n",
    "%store -r Y_motion_055_3D\n",
    "%store -r Y_motion_06_3D\n",
    "%store -r Y_motion_065_3D\n",
    "%store -r Y_motion_07_3D\n",
    "%store -r Y_motion_075_3D\n",
    "%store -r Y_motion_08_3D"
   ]
  },
  {
   "cell_type": "code",
   "execution_count": 6,
   "id": "97b806d1",
   "metadata": {},
   "outputs": [
    {
     "name": "stdout",
     "output_type": "stream",
     "text": [
      "(1080, 18)\n",
      "(1082, 18)\n",
      "(1081, 18)\n",
      "(1076, 18)\n",
      "(1078, 18)\n",
      "(1081, 18)\n",
      "(1078, 18)\n",
      "(1076, 18)\n",
      "(1080, 18)\n",
      "(1079, 18)\n",
      "(1083, 18)\n",
      "(1077, 18)\n",
      "(1082, 18)\n",
      "(1082, 18)\n",
      "(1079, 18)\n"
     ]
    }
   ],
   "source": [
    "print(X_motion_01_3D.shape)\n",
    "print(X_motion_015_3D.shape)\n",
    "print(X_motion_02_3D.shape)\n",
    "print(X_motion_025_3D.shape)\n",
    "print(X_motion_03_3D.shape)\n",
    "print(X_motion_035_3D.shape)\n",
    "print(X_motion_04_3D.shape)\n",
    "print(X_motion_045_3D.shape)\n",
    "print(X_motion_05_3D.shape)\n",
    "print(X_motion_055_3D.shape)\n",
    "print(X_motion_06_3D.shape)\n",
    "print(X_motion_065_3D.shape)\n",
    "print(X_motion_07_3D.shape)\n",
    "print(X_motion_075_3D.shape)\n",
    "print(X_motion_08_3D.shape)"
   ]
  },
  {
   "cell_type": "code",
   "execution_count": 7,
   "id": "a6b84530",
   "metadata": {},
   "outputs": [
    {
     "name": "stdout",
     "output_type": "stream",
     "text": [
      "(1080, 12)\n",
      "(1082, 12)\n",
      "(1081, 12)\n",
      "(1076, 12)\n",
      "(1078, 12)\n",
      "(1081, 12)\n",
      "(1078, 12)\n",
      "(1076, 12)\n",
      "(1080, 12)\n",
      "(1079, 12)\n",
      "(1083, 12)\n",
      "(1077, 12)\n",
      "(1082, 12)\n",
      "(1082, 12)\n",
      "(1079, 12)\n"
     ]
    }
   ],
   "source": [
    "print(Y_motion_01_3D.shape)\n",
    "print(Y_motion_015_3D.shape)\n",
    "print(Y_motion_02_3D.shape)\n",
    "print(Y_motion_025_3D.shape)\n",
    "print(Y_motion_03_3D.shape)\n",
    "print(Y_motion_035_3D.shape)\n",
    "print(Y_motion_04_3D.shape)\n",
    "print(Y_motion_045_3D.shape)\n",
    "print(Y_motion_05_3D.shape)\n",
    "print(Y_motion_055_3D.shape)\n",
    "print(Y_motion_06_3D.shape)\n",
    "print(Y_motion_065_3D.shape)\n",
    "print(Y_motion_07_3D.shape)\n",
    "print(Y_motion_075_3D.shape)\n",
    "print(Y_motion_08_3D.shape)"
   ]
  },
  {
   "cell_type": "code",
   "execution_count": 8,
   "id": "c8fb98a7",
   "metadata": {},
   "outputs": [
    {
     "name": "stdout",
     "output_type": "stream",
     "text": [
      "(16194, 18)\n"
     ]
    }
   ],
   "source": [
    "X_motions_3D = np.concatenate((X_motion_01_3D,\n",
    "                               X_motion_015_3D,\n",
    "                               X_motion_02_3D,\n",
    "                               X_motion_025_3D,\n",
    "                               X_motion_03_3D,\n",
    "                               X_motion_035_3D, \n",
    "                               X_motion_04_3D,\n",
    "                               X_motion_045_3D,\n",
    "                               X_motion_05_3D,\n",
    "                               X_motion_055_3D,\n",
    "                               X_motion_06_3D,\n",
    "                               X_motion_065_3D,\n",
    "                               X_motion_07_3D,\n",
    "                               X_motion_075_3D,\n",
    "                               X_motion_08_3D))\n",
    "print(X_motions_3D.shape)"
   ]
  },
  {
   "cell_type": "code",
   "execution_count": 9,
   "id": "73b3d6f3",
   "metadata": {},
   "outputs": [
    {
     "name": "stdout",
     "output_type": "stream",
     "text": [
      "(16194, 12)\n"
     ]
    }
   ],
   "source": [
    "Y_motions_3D = np.concatenate((Y_motion_01_3D,\n",
    "                               Y_motion_015_3D,\n",
    "                               Y_motion_02_3D,\n",
    "                               Y_motion_025_3D,\n",
    "                               Y_motion_03_3D,\n",
    "                               Y_motion_035_3D, \n",
    "                               Y_motion_04_3D,\n",
    "                               Y_motion_045_3D,\n",
    "                               Y_motion_05_3D,\n",
    "                               Y_motion_055_3D,\n",
    "                               Y_motion_06_3D,\n",
    "                               Y_motion_065_3D,\n",
    "                               Y_motion_07_3D,\n",
    "                               Y_motion_075_3D,\n",
    "                               Y_motion_08_3D))\n",
    "print(Y_motions_3D.shape)"
   ]
  },
  {
   "cell_type": "code",
   "execution_count": 8,
   "id": "0016e0d5",
   "metadata": {},
   "outputs": [],
   "source": [
    "%store -r X_motion_3D\n",
    "%store -r Y_motion_3D"
   ]
  },
  {
   "cell_type": "code",
   "execution_count": 9,
   "id": "9b886e27",
   "metadata": {},
   "outputs": [],
   "source": [
    "X_motions_3D = X_motion_3D\n",
    "Y_motions_3D = Y_motion_3D"
   ]
  },
  {
   "cell_type": "code",
   "execution_count": 10,
   "id": "48b9fc3f",
   "metadata": {},
   "outputs": [
    {
     "name": "stdout",
     "output_type": "stream",
     "text": [
      "(14412, 24)\n",
      "(14412, 12)\n"
     ]
    }
   ],
   "source": [
    "print(X_motion_3D.shape)\n",
    "print(Y_motion_3D.shape)"
   ]
  },
  {
   "cell_type": "markdown",
   "id": "bfd3ce6e",
   "metadata": {},
   "source": [
    "# Multivariate Linear Regression (Foot prediction)"
   ]
  },
  {
   "cell_type": "markdown",
   "id": "247fba75",
   "metadata": {},
   "source": [
    "The input will use initially only:\n",
    "\n",
    "- **HighCmd: fwd, side, rot speeds**\n",
    "- **HighState: fwd, side, rot speeds, footPosition2Body (FR)**\n",
    "\n",
    "and as output we seek to predict the following:\n",
    "\n",
    "- **footPosition2Body (FR)**"
   ]
  },
  {
   "cell_type": "code",
   "execution_count": 11,
   "id": "aba3a56d",
   "metadata": {},
   "outputs": [],
   "source": [
    "import sklearn\n",
    "from sklearn import metrics\n",
    "from sklearn.feature_selection import RFE\n",
    "from sklearn.model_selection import KFold\n",
    "from sklearn.linear_model import LinearRegression\n",
    "from sklearn.model_selection import train_test_split\n",
    "from sklearn.metrics import mean_squared_error, mean_absolute_error\n",
    "from sklearn.model_selection import cross_val_score, cross_val_predict"
   ]
  },
  {
   "cell_type": "code",
   "execution_count": 12,
   "id": "4f8c4814",
   "metadata": {},
   "outputs": [],
   "source": [
    "def plot_target_and_predictions(title: str, predictions, target):\n",
    "    fig, ax1 = plt.subplots(1,1, figsize=(15,10))\n",
    "    fig.suptitle(title)\n",
    "    \n",
    "    # FR plot (height)\n",
    "    ax1.plot(range(predictions.shape[0]), predictions, 'b-')\n",
    "    ax1.set_ylabel('Predictions')\n",
    "    ax1.set_xlabel('Time')\n",
    "         \n",
    "    # FR plot (force)\n",
    "    ax2 = ax1.twinx()\n",
    "    ax2.plot(range(predictions.shape[0]), target, 'g-')\n",
    "    ax2.set_ylabel('Target', color='g')\n",
    "\n",
    "    for tl in ax2.get_yticklabels():\n",
    "        tl.set_color('g')\n",
    "    \n",
    "    fig.tight_layout()\n",
    "    plt.show()"
   ]
  },
  {
   "cell_type": "markdown",
   "id": "13f39ad1",
   "metadata": {},
   "source": [
    "## Predict FR foot -> (x,y)"
   ]
  },
  {
   "cell_type": "code",
   "execution_count": 13,
   "id": "434f9104",
   "metadata": {},
   "outputs": [
    {
     "data": {
      "text/plain": [
       "array([ 1.00000000e-01,  0.00000000e+00,  0.00000000e+00,  0.00000000e+00,\n",
       "        0.00000000e+00,  0.00000000e+00,  5.64780167e-04,  3.44497203e-03,\n",
       "        8.67398936e-40,  1.10932398e-01,  1.10932398e-01,  1.10932398e-01,\n",
       "        1.78000000e-01,  1.37000000e-01, -3.40000000e-01,  2.08000000e-01,\n",
       "       -1.34000000e-01, -3.39000000e-01, -2.69000000e-01,  1.35000000e-01,\n",
       "       -3.41000000e-01, -2.97000000e-01, -1.37000000e-01, -3.40000000e-01])"
      ]
     },
     "execution_count": 13,
     "metadata": {},
     "output_type": "execute_result"
    }
   ],
   "source": [
    "X_motions_3D[1, :]"
   ]
  },
  {
   "cell_type": "code",
   "execution_count": 14,
   "id": "ada14ed6",
   "metadata": {},
   "outputs": [
    {
     "data": {
      "text/plain": [
       "array([ 0.202,  0.132, -0.337,  0.179, -0.138, -0.342, -0.294,  0.137,\n",
       "       -0.339, -0.272, -0.137, -0.345])"
      ]
     },
     "execution_count": 14,
     "metadata": {},
     "output_type": "execute_result"
    }
   ],
   "source": [
    "Y_motions_3D[1, :]"
   ]
  },
  {
   "cell_type": "code",
   "execution_count": 26,
   "id": "3bae38e7",
   "metadata": {},
   "outputs": [
    {
     "name": "stdout",
     "output_type": "stream",
     "text": [
      "Model score:  0.955716371886759\n",
      "The lowest error is:  6.09624063369063e-07\n",
      "The highest error is:  0.0792793227507574\n",
      "The avg. error is:  0.005763758596593542\n",
      "The mean squared avg. error between the prediction and groundtruth is:  5.4441183594606345e-05\n"
     ]
    }
   ],
   "source": [
    "# Stack motion command, velocity state, \n",
    "# and foot x coordinate in order to \n",
    "# create the input matrix. We dont consider\n",
    "# the last row.\n",
    "X = np.hstack((X_motions_3D[:, :6], X_motions_3D[:, 6:8], X_motions_3D[:, 9:11]))\n",
    "\n",
    "# Label matrix which consists only of\n",
    "# the next x coordinate of the FR foot.\n",
    "# We dont consider the first row.\n",
    "Y = Y_motions_3D[:, :2]\n",
    "\n",
    "# Make sure we have the same\n",
    "# number of rows for both labels\n",
    "# and input\n",
    "assert Y.shape[0] == X.shape[0]\n",
    "\n",
    "# Split data into train and test set\n",
    "X_train, X_test, Y_train, Y_test = train_test_split(X, Y, test_size=0.2, shuffle=True)\n",
    "\n",
    "# Create the model\n",
    "model_fl_full = LinearRegression()\n",
    "\n",
    "# Fit the model\n",
    "model_fl_full.fit(X_train, Y_train)\n",
    "\n",
    "# Predict\n",
    "predictions = model_fl_full.predict(X_test)\n",
    "\n",
    "# MSE stats\n",
    "print(\"Model score: \", model_fl_full.score(X_test, Y_test))\n",
    "print(\"The lowest error is: \", np.min(np.linalg.norm(predictions[:, :-1] - Y_test[:, :-1], axis=1)))\n",
    "print(\"The highest error is: \", np.max(np.linalg.norm(predictions[:, :-1] - Y_test[:, :-1], axis=1)))\n",
    "print(\"The avg. error is: \", np.mean(np.linalg.norm(predictions[:, :-1] - Y_test[:, :-1], axis=1)))\n",
    "print(\"The mean squared avg. error between the prediction and groundtruth is: \", mean_squared_error(Y_test, predictions))\n",
    "#print(\"Seq of errors (descendant): \\n\", sorted(np.linalg.norm(predictions[:, :-1] - Y_test[:, :-1], axis=1).tolist(), reverse=True))"
   ]
  },
  {
   "cell_type": "code",
   "execution_count": 27,
   "id": "230403be",
   "metadata": {},
   "outputs": [
    {
     "data": {
      "text/plain": [
       "Text(0, 0.5, 'Predictions')"
      ]
     },
     "execution_count": 27,
     "metadata": {},
     "output_type": "execute_result"
    },
    {
     "data": {
      "image/png": "[encoded data removed]",
      "text/plain": [
       "<Figure size 432x288 with 1 Axes>"
      ]
     },
     "metadata": {
      "needs_background": "light"
     },
     "output_type": "display_data"
    }
   ],
   "source": [
    "## The line / model\n",
    "plt.scatter(Y_test, predictions)\n",
    "plt.xlabel(\"True Values\")\n",
    "plt.ylabel(\"Predictions\")"
   ]
  },
  {
   "cell_type": "code",
   "execution_count": 28,
   "id": "8c648579",
   "metadata": {},
   "outputs": [],
   "source": [
    "#idx = np.where(np.linalg.norm(predictions[:, :-1] - Y_test[:, :-1], axis=1) == np.max(np.linalg.norm(predictions[:, :-1] - Y_test[:, :-1], axis=1)))[0]"
   ]
  },
  {
   "cell_type": "code",
   "execution_count": 29,
   "id": "c22a7691",
   "metadata": {},
   "outputs": [],
   "source": [
    "#print(f'Command: {X_test[idx, 0:3]}. Start: {X_test[idx, 6:8]}. Groundtruth: {Y_test[idx]}. Predicted: {predictions[idx]}')"
   ]
  },
  {
   "cell_type": "code",
   "execution_count": 30,
   "id": "be28bcc1",
   "metadata": {},
   "outputs": [],
   "source": [
    "#for idx, prediction in enumerate(predictions):\n",
    "#    print(f'Input: {X_test[idx, :3]}. State: {X_test[idx, 3:6]}. Groundtruth: {Y_test[idx]}. Predicted: {prediction}')"
   ]
  },
  {
   "cell_type": "markdown",
   "id": "0cb51060",
   "metadata": {},
   "source": [
    "## Predict FR foot -> x"
   ]
  },
  {
   "cell_type": "markdown",
   "id": "83bb9cb3",
   "metadata": {},
   "source": [
    "### Simple Linear Regression"
   ]
  },
  {
   "cell_type": "code",
   "execution_count": 15,
   "id": "f49313fd",
   "metadata": {},
   "outputs": [
    {
     "data": {
      "text/plain": [
       "array([ 1.00000000e-01,  0.00000000e+00,  0.00000000e+00,  0.00000000e+00,\n",
       "        0.00000000e+00,  0.00000000e+00,  5.64780167e-04,  3.44497203e-03,\n",
       "        8.67398936e-40,  1.10932398e-01,  1.10932398e-01,  1.10932398e-01,\n",
       "        1.78000000e-01,  1.37000000e-01, -3.40000000e-01,  2.08000000e-01,\n",
       "       -1.34000000e-01, -3.39000000e-01, -2.69000000e-01,  1.35000000e-01,\n",
       "       -3.41000000e-01, -2.97000000e-01, -1.37000000e-01, -3.40000000e-01])"
      ]
     },
     "execution_count": 15,
     "metadata": {},
     "output_type": "execute_result"
    }
   ],
   "source": [
    "X_motions_3D[1, :]"
   ]
  },
  {
   "cell_type": "code",
   "execution_count": 16,
   "id": "652f0d40",
   "metadata": {},
   "outputs": [
    {
     "data": {
      "text/plain": [
       "array([ 0.202,  0.132, -0.337,  0.179, -0.138, -0.342, -0.294,  0.137,\n",
       "       -0.339, -0.272, -0.137, -0.345])"
      ]
     },
     "execution_count": 16,
     "metadata": {},
     "output_type": "execute_result"
    }
   ],
   "source": [
    "Y_motions_3D[1, :]"
   ]
  },
  {
   "cell_type": "code",
   "execution_count": 28,
   "id": "e0eac595",
   "metadata": {},
   "outputs": [
    {
     "name": "stdout",
     "output_type": "stream",
     "text": [
      "Model score:  0.9022088475385447\n",
      "The lowest error is:  5.898416431671105e-07\n",
      "The highest error is:  0.09415249499995784\n",
      "The avg. error is:  0.004411378551865383\n",
      "The mean squared avg. error between the prediction and groundtruth is:  8.284547296485608e-05\n"
     ]
    }
   ],
   "source": [
    "# Stack motion command, velocity state, \n",
    "# and foot x coordinate. The last row\n",
    "# is not considered\n",
    "X = np.hstack((X_motions_3D[:, :2], np.array([X_motions_3D[:, 5]]).T, np.array([X_motions_3D[:, 12]]).T, np.array([X_motions_3D[:, 16]]).T))\n",
    "\n",
    "# Label matrix which consists only of\n",
    "# the next x coordinate of the FR foot.\n",
    "# We dont consider the first row.\n",
    "Y = np.array([Y_motions_3D[:, 0]]).T\n",
    "\n",
    "assert Y.shape[0] == X.shape[0]\n",
    "\n",
    "# Split data into train and test set\n",
    "X_train, X_test, Y_train, Y_test = train_test_split(X, Y, train_size = 0.8, test_size=0.2, shuffle=True)\n",
    "\n",
    "# Create the model\n",
    "model_fl_x = LinearRegression()\n",
    "\n",
    "# Fit the model\n",
    "model_fl_x.fit(X_train, Y_train)\n",
    "\n",
    "# Predict\n",
    "predictions = model_fl_x.predict(X_test)\n",
    "\n",
    "# Stats\n",
    "print(\"Model score: \", model_fl_x.score(X_test, Y_test))\n",
    "print(\"The lowest error is: \", np.min(np.abs(predictions - Y_test)))\n",
    "print(\"The highest error is: \", np.max(np.abs(predictions - Y_test)))\n",
    "print(\"The avg. error is: \", np.mean(np.abs(predictions - Y_test)))\n",
    "print(\"The mean squared avg. error between the prediction and groundtruth is: \", mean_squared_error(Y_test, predictions))\n",
    "#print(\"Seq of errors (descendant): \\n\", sorted(np.abs(predictions - Y_test).tolist(), reverse=True))"
   ]
  },
  {
   "cell_type": "code",
   "execution_count": 29,
   "id": "552f2318",
   "metadata": {},
   "outputs": [
    {
     "data": {
      "text/plain": [
       "Text(0, 0.5, 'Predictions')"
      ]
     },
     "execution_count": 29,
     "metadata": {},
     "output_type": "execute_result"
    },
    {
     "data": {
      "image/png": "[encoded data removed]",
      "text/plain": [
       "<Figure size 432x288 with 1 Axes>"
      ]
     },
     "metadata": {
      "needs_background": "light"
     },
     "output_type": "display_data"
    }
   ],
   "source": [
    "## The line / model\n",
    "plt.scatter(Y_test, predictions)\n",
    "plt.xlabel(\"True Values\")\n",
    "plt.ylabel(\"Predictions\")"
   ]
  },
  {
   "cell_type": "code",
   "execution_count": 30,
   "id": "3aa071e3",
   "metadata": {},
   "outputs": [
    {
     "name": "stdout",
     "output_type": "stream",
     "text": [
      "Stored 'model_fl_x' (LinearRegression)\n"
     ]
    }
   ],
   "source": [
    "%store model_fl_x"
   ]
  },
  {
   "cell_type": "code",
   "execution_count": 116,
   "id": "2fad0f60",
   "metadata": {},
   "outputs": [],
   "source": [
    "#for idx, prediction in enumerate(predictions):\n",
    "#    print(f'Start: {X_test[idx, 6]}. Groundtruth: {Y_test[idx]}. Predicted: {prediction}')"
   ]
  },
  {
   "cell_type": "code",
   "execution_count": 132,
   "id": "5cb3b503",
   "metadata": {},
   "outputs": [
    {
     "data": {
      "text/plain": [
       "['/home/itaouil/workspace/aliengo_ws/src/aliengo_navigation/models/model_fl_x.sav']"
      ]
     },
     "execution_count": 132,
     "metadata": {},
     "output_type": "execute_result"
    }
   ],
   "source": [
    "# Save model\n",
    "joblib.dump(model_fl_x, \"/home/itaouil/workspace/aliengo_ws/src/aliengo_navigation/models/model_fl_x.sav\")"
   ]
  },
  {
   "cell_type": "markdown",
   "id": "cd1f62aa",
   "metadata": {},
   "source": [
    "### Predict FR foot -> y"
   ]
  },
  {
   "cell_type": "code",
   "execution_count": 125,
   "id": "62111b33",
   "metadata": {},
   "outputs": [
    {
     "name": "stdout",
     "output_type": "stream",
     "text": [
      "Model score:  0.9622915262048478\n",
      "The lowest error is:  2.3790514642740845e-06\n",
      "The highest error is:  0.0798660523729875\n",
      "The avg. error is:  0.003557862912915626\n",
      "The mean squared avg. error between the prediction and groundtruth is:  2.7394856432466912e-05\n"
     ]
    }
   ],
   "source": [
    "# Stack motion command, velocity state, \n",
    "# and foot x coordinate. The last row\n",
    "# is not considered\n",
    "X = np.hstack((X_motions_3D[:, :3], np.array([X_motions_3D[:, 5]]).T, np.array([X_motions_3D[:, 7]]).T, np.array([X_motions_3D[:, 10]]).T))\n",
    "\n",
    "# Label matrix which consists only of\n",
    "# the next x coordinate of the FR foot.\n",
    "# We dont consider the first row.\n",
    "Y = np.array([Y_motions_3D[:, 1]]).T\n",
    "\n",
    "assert Y.shape[0] == X.shape[0]\n",
    "\n",
    "# Split data into train and test set\n",
    "X_train, X_test, Y_train, Y_test = train_test_split(X, Y, train_size = 0.8, test_size=0.2, shuffle=True)\n",
    "\n",
    "# Create the model\n",
    "model_fl_y = LinearRegression()\n",
    "\n",
    "# Fit the model\n",
    "model_fl_y.fit(X_train, Y_train)\n",
    "\n",
    "# Predict\n",
    "predictions = model_fl_y.predict(X_test)\n",
    "\n",
    "# Stats\n",
    "print(\"Model score: \", model_fl_y.score(X_test, Y_test))\n",
    "print(\"The lowest error is: \", np.min(np.abs(predictions - Y_test)))\n",
    "print(\"The highest error is: \", np.max(np.abs(predictions - Y_test)))\n",
    "print(\"The avg. error is: \", np.mean(np.abs(predictions - Y_test)))\n",
    "print(\"The mean squared avg. error between the prediction and groundtruth is: \", mean_squared_error(Y_test, predictions))\n",
    "#print(\"Seq of errors (descendant): \\n\", sorted(np.abs(predictions - Y_test).tolist(), reverse=True))"
   ]
  },
  {
   "cell_type": "code",
   "execution_count": 126,
   "id": "5290bb39",
   "metadata": {},
   "outputs": [
    {
     "data": {
      "text/plain": [
       "Text(0, 0.5, 'Predictions')"
      ]
     },
     "execution_count": 126,
     "metadata": {},
     "output_type": "execute_result"
    },
    {
     "data": {
      "image/png": "[encoded data removed]",
      "text/plain": [
       "<Figure size 432x288 with 1 Axes>"
      ]
     },
     "metadata": {
      "needs_background": "light"
     },
     "output_type": "display_data"
    }
   ],
   "source": [
    "## The line / model\n",
    "plt.scatter(Y_test, predictions)\n",
    "plt.xlabel(\"True Values\")\n",
    "plt.ylabel(\"Predictions\")"
   ]
  },
  {
   "cell_type": "code",
   "execution_count": 127,
   "id": "f5d40f9f",
   "metadata": {},
   "outputs": [],
   "source": [
    "#for idx, prediction in enumerate(predictions):\n",
    "#    print(f'Groundtruth: {Y_test[idx]}. Predicted: {prediction}')"
   ]
  },
  {
   "cell_type": "code",
   "execution_count": 131,
   "id": "96dd44cf",
   "metadata": {},
   "outputs": [
    {
     "data": {
      "text/plain": [
       "['/home/itaouil/workspace/aliengo_ws/src/aliengo_navigation/models/model_fl_y.sav']"
      ]
     },
     "execution_count": 131,
     "metadata": {},
     "output_type": "execute_result"
    }
   ],
   "source": [
    "# Save model\n",
    "joblib.dump(model_fl_y, \"/home/itaouil/workspace/aliengo_ws/src/aliengo_navigation/models/model_fl_y.sav\")"
   ]
  },
  {
   "cell_type": "code",
   "execution_count": null,
   "id": "b3111c1a",
   "metadata": {},
   "outputs": [],
   "source": []
  }
 ],
 "metadata": {
  "kernelspec": {
   "display_name": "Python 3",
   "language": "python",
   "name": "python3"
  },
  "language_info": {
   "codemirror_mode": {
    "name": "ipython",
    "version": 3
   },
   "file_extension": ".py",
   "mimetype": "text/x-python",
   "name": "python",
   "nbconvert_exporter": "python",
   "pygments_lexer": "ipython3",
   "version": "3.6.12"
  }
 },
 "nbformat": 4,
 "nbformat_minor": 5
}
