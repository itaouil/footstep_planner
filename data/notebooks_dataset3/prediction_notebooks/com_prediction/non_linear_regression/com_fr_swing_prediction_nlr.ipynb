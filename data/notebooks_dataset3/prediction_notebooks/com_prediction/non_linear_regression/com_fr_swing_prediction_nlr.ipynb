{
 "cells": [
  {
   "cell_type": "code",
   "execution_count": 1,
   "id": "945ddc33",
   "metadata": {},
   "outputs": [],
   "source": [
    "#!/usr/bin/env python3.6\n",
    "# -*- coding: utf-8 -*-"
   ]
  },
  {
   "cell_type": "code",
   "execution_count": 2,
   "id": "70a9a5d7",
   "metadata": {},
   "outputs": [],
   "source": [
    "# Imports\n",
    "import sys\n",
    "import joblib\n",
    "import numpy as np\n",
    "from math import atan2\n",
    "from matplotlib import animation\n",
    "from IPython.display import HTML\n",
    "from matplotlib import pyplot as plt\n",
    "import mpl_toolkits.mplot3d.axes3d as p3"
   ]
  },
  {
   "cell_type": "code",
   "execution_count": 3,
   "id": "ee7b059c",
   "metadata": {},
   "outputs": [],
   "source": [
    "#np.random.seed(20)\n",
    "np.set_printoptions(threshold=sys.maxsize)"
   ]
  },
  {
   "cell_type": "code",
   "execution_count": 4,
   "id": "bac54a2d",
   "metadata": {},
   "outputs": [],
   "source": [
    "%matplotlib inline"
   ]
  },
  {
   "cell_type": "code",
   "execution_count": 5,
   "id": "34c45b03",
   "metadata": {},
   "outputs": [
    {
     "name": "stdout",
     "output_type": "stream",
     "text": [
      "(27032, 22)\n",
      "(27032, 2)\n"
     ]
    }
   ],
   "source": [
    "%store -r X_motion_CoM\n",
    "%store -r Y_motion_CoM\n",
    "print(X_motion_CoM.shape)\n",
    "print(Y_motion_CoM.shape)"
   ]
  },
  {
   "cell_type": "code",
   "execution_count": 6,
   "id": "b808d310",
   "metadata": {},
   "outputs": [
    {
     "data": {
      "text/plain": [
       "array([0.1, 0.0, 0.0, 0.0, 0.0, 0.0, 0.185, 0.135, -0.339, 0.186, -0.135,\n",
       "       -0.339, -0.277, 0.135, -0.341, -0.278, -0.134, -0.342, True, False,\n",
       "       0, 0], dtype=object)"
      ]
     },
     "execution_count": 6,
     "metadata": {},
     "output_type": "execute_result"
    }
   ],
   "source": [
    "X_motion_CoM[0]"
   ]
  },
  {
   "cell_type": "code",
   "execution_count": 7,
   "id": "debc6c03",
   "metadata": {},
   "outputs": [
    {
     "data": {
      "text/plain": [
       "array([0.01200000000000001, -0.0010000000000000009], dtype=object)"
      ]
     },
     "execution_count": 7,
     "metadata": {},
     "output_type": "execute_result"
    }
   ],
   "source": [
    "Y_motion_CoM[0]"
   ]
  },
  {
   "cell_type": "markdown",
   "id": "f78d2ff9",
   "metadata": {},
   "source": [
    "# Multivariate Linear Regression (Foot prediction)"
   ]
  },
  {
   "cell_type": "markdown",
   "id": "0555e012",
   "metadata": {},
   "source": [
    "The input will use initially only:\n",
    "\n",
    "- **HighCmd: fwd, side, rot speeds**\n",
    "- **HighState: fwd, side, rot speeds, footPosition2Body (FR)**\n",
    "\n",
    "and as output we seek to predict the following:\n",
    "\n",
    "- **footPosition2Body (FR)**"
   ]
  },
  {
   "cell_type": "code",
   "execution_count": 8,
   "id": "e34d2287",
   "metadata": {},
   "outputs": [],
   "source": [
    "import sklearn\n",
    "from sklearn import metrics\n",
    "from sklearn.feature_selection import RFE\n",
    "from sklearn.model_selection import KFold\n",
    "from sklearn.linear_model import LinearRegression\n",
    "from sklearn.model_selection import train_test_split\n",
    "from sklearn.preprocessing import PolynomialFeatures \n",
    "from sklearn.model_selection import cross_val_score, cross_val_predict\n",
    "from sklearn.metrics import mean_squared_error, mean_absolute_error, r2_score"
   ]
  },
  {
   "cell_type": "code",
   "execution_count": 9,
   "id": "b06e1f90",
   "metadata": {},
   "outputs": [
    {
     "name": "stdout",
     "output_type": "stream",
     "text": [
      "(13712, 22)\n",
      "(13712, 2)\n"
     ]
    }
   ],
   "source": [
    "idx_fr_rl_swinging = np.where(X_motion_CoM[:, 18] == 1)[0]\n",
    "X_motion_CoM_FR_RL = X_motion_CoM[idx_fr_rl_swinging]\n",
    "Y_motion_CoM_FR_RL = Y_motion_CoM[idx_fr_rl_swinging]\n",
    "print(X_motion_CoM_FR_RL.shape)\n",
    "print(Y_motion_CoM_FR_RL.shape)"
   ]
  },
  {
   "cell_type": "code",
   "execution_count": 10,
   "id": "ffa11d7f",
   "metadata": {},
   "outputs": [
    {
     "name": "stdout",
     "output_type": "stream",
     "text": [
      "NUmber\n",
      "Min forward base movement: -0.0040000000000000036. Max forward base movement: 0.22699999999999998.\n"
     ]
    }
   ],
   "source": [
    "# Data check (forward)\n",
    "print(f'NUmber')\n",
    "idx_fwd_movement = np.where(X_motion_CoM[:, 0] > 0)[0]\n",
    "print(f'Min forward base movement: {np.min(Y_motion_CoM[idx_fwd_movement, 0])}. Max forward base movement: {np.max(Y_motion_CoM[idx_fwd_movement, 0])}.')"
   ]
  },
  {
   "cell_type": "code",
   "execution_count": 11,
   "id": "9fbeffa1",
   "metadata": {},
   "outputs": [
    {
     "data": {
      "text/plain": [
       "(1,)"
      ]
     },
     "execution_count": 11,
     "metadata": {},
     "output_type": "execute_result"
    }
   ],
   "source": [
    "np.where(Y_motion_CoM[idx_fwd_movement, 0] < 0)[0].shape"
   ]
  },
  {
   "cell_type": "markdown",
   "id": "1e3cc747",
   "metadata": {},
   "source": [
    "## Predict CoM (x) movement"
   ]
  },
  {
   "cell_type": "code",
   "execution_count": 12,
   "id": "39eb55c2",
   "metadata": {},
   "outputs": [
    {
     "data": {
      "text/plain": [
       "array([0.1, 0.0, 0.0, 0.0, 0.0, 0.0, 0.185, 0.135, -0.339, 0.186, -0.135,\n",
       "       -0.339, -0.277, 0.135, -0.341, -0.278, -0.134, -0.342, True, False,\n",
       "       0, 0], dtype=object)"
      ]
     },
     "execution_count": 12,
     "metadata": {},
     "output_type": "execute_result"
    }
   ],
   "source": [
    "X_motion_CoM_FR_RL[0, :]"
   ]
  },
  {
   "cell_type": "code",
   "execution_count": 13,
   "id": "fc7b51f3",
   "metadata": {},
   "outputs": [
    {
     "data": {
      "text/plain": [
       "array([0.01200000000000001, -0.0010000000000000009], dtype=object)"
      ]
     },
     "execution_count": 13,
     "metadata": {},
     "output_type": "execute_result"
    }
   ],
   "source": [
    "Y_motion_CoM_FR_RL[0, :]"
   ]
  },
  {
   "cell_type": "code",
   "execution_count": 14,
   "id": "329494ca",
   "metadata": {},
   "outputs": [],
   "source": [
    "#X_motion_CoM_FR_RL[:, 20]"
   ]
  },
  {
   "cell_type": "code",
   "execution_count": 15,
   "id": "67bcaea6",
   "metadata": {},
   "outputs": [],
   "source": [
    "#X_motion_CoM_FR_RL[:100]"
   ]
  },
  {
   "cell_type": "markdown",
   "id": "8bb17040",
   "metadata": {},
   "source": [
    "### Linear Regression"
   ]
  },
  {
   "cell_type": "code",
   "execution_count": 16,
   "id": "32ccf159",
   "metadata": {},
   "outputs": [
    {
     "name": "stdout",
     "output_type": "stream",
     "text": [
      "R2:  0.9783373746760182\n",
      "RMSE:  0.007941872774310533\n",
      "The lowest error is:  1.543358169042719e-07\n",
      "The highest error is:  0.09916082832404238\n",
      "The avg. error is:  0.0036424440281074\n"
     ]
    }
   ],
   "source": [
    "# Input\n",
    "#X = np.hstack((X_motion_CoM_FR_RL[:, :2], \n",
    "#               np.array([X_motion_CoM_FR_RL[:, 6]]).T,\n",
    "#               np.array([X_motion_CoM_FR_RL[:, 9]]).T,\n",
    "#               np.array([X_motion_CoM_FR_RL[:, 12]]).T,\n",
    "#               np.array([X_motion_CoM_FR_RL[:, 15]]).T))\n",
    "X = np.hstack((X_motion_CoM_FR_RL[:, :2], \n",
    "               np.array([X_motion_CoM_FR_RL[:, 5]]).T,\n",
    "               X_motion_CoM_FR_RL[:, 6:8],\n",
    "               X_motion_CoM_FR_RL[:, 9:11],\n",
    "               X_motion_CoM_FR_RL[:, 12:14],\n",
    "               X_motion_CoM_FR_RL[:, 15:17]))\n",
    "\n",
    "# Labels\n",
    "Y = np.array([Y_motion_CoM_FR_RL[:, 0]]).T\n",
    "\n",
    "assert Y.shape[0] == X.shape[0]\n",
    "\n",
    "# Split data into train and test set\n",
    "X_train, X_test, Y_train, Y_test = train_test_split(X, Y, train_size = 0.8, shuffle=True, random_state=40)\n",
    "\n",
    "# Create the model\n",
    "model_fr_com_x = LinearRegression()\n",
    "\n",
    "# Fit the model\n",
    "model_fr_com_x.fit(X_train, Y_train)\n",
    "\n",
    "# Predict\n",
    "predictions = model_fr_com_x.predict(X_test)\n",
    "\n",
    "# Stats\n",
    "print('R2: ', r2_score(predictions, Y_test))\n",
    "print('RMSE: ', np.sqrt(mean_squared_error(Y_test, predictions)))\n",
    "print(\"The lowest error is: \", np.min(np.abs(predictions - Y_test)))\n",
    "print(\"The highest error is: \", np.max(np.abs(predictions - Y_test)))\n",
    "print(\"The avg. error is: \", np.mean(np.abs(predictions - Y_test)))\n",
    "#print(\"Seq of errors (descendant): \\n\", sorted(np.abs(predictions - Y_test).tolist(), reverse=True))"
   ]
  },
  {
   "cell_type": "code",
   "execution_count": 17,
   "id": "b664649c",
   "metadata": {},
   "outputs": [
    {
     "data": {
      "text/plain": [
       "array([[ 1.14402016e-01, -1.46263600e-04, -9.49649521e-03,\n",
       "         1.04827938e+00, -4.08979242e-02, -1.17332787e-01,\n",
       "         1.28137632e-01, -6.63037331e-02, -1.08698563e-01,\n",
       "         2.30694608e-01,  1.45460953e-01]])"
      ]
     },
     "execution_count": 17,
     "metadata": {},
     "output_type": "execute_result"
    }
   ],
   "source": [
    "model_fr_com_x.coef_"
   ]
  },
  {
   "cell_type": "code",
   "execution_count": 18,
   "id": "d36b7c74",
   "metadata": {},
   "outputs": [
    {
     "data": {
      "text/plain": [
       "array([-0.07340656])"
      ]
     },
     "execution_count": 18,
     "metadata": {},
     "output_type": "execute_result"
    }
   ],
   "source": [
    "model_fr_com_x.intercept_"
   ]
  },
  {
   "cell_type": "code",
   "execution_count": 19,
   "id": "e482b3e2",
   "metadata": {},
   "outputs": [
    {
     "name": "stdout",
     "output_type": "stream",
     "text": [
      "(1, 11)\n"
     ]
    }
   ],
   "source": [
    "i = np.array([[0.7, 0,0,0.250, 0.133, 0.1102, -0.1356, -0.363, 0.138, -0.2189, -0.1338]])\n",
    "print(i.shape)"
   ]
  },
  {
   "cell_type": "code",
   "execution_count": 20,
   "id": "174279af",
   "metadata": {},
   "outputs": [
    {
     "data": {
      "text/plain": [
       "array([[0.17210587]])"
      ]
     },
     "execution_count": 20,
     "metadata": {},
     "output_type": "execute_result"
    }
   ],
   "source": [
    "model_fr_com_x.predict(i)"
   ]
  },
  {
   "cell_type": "code",
   "execution_count": 21,
   "id": "1b8729c6",
   "metadata": {},
   "outputs": [
    {
     "data": {
      "text/plain": [
       "Text(0, 0.5, 'Predictions')"
      ]
     },
     "execution_count": 21,
     "metadata": {},
     "output_type": "execute_result"
    },
    {
     "data": {
      "image/png": "[encoded data removed]",
      "text/plain": [
       "<Figure size 432x288 with 1 Axes>"
      ]
     },
     "metadata": {
      "needs_background": "light"
     },
     "output_type": "display_data"
    }
   ],
   "source": [
    "## The line / model\n",
    "plt.scatter(Y_test, predictions)\n",
    "plt.xlabel(\"Groundtruth\")\n",
    "plt.ylabel(\"Predictions\")"
   ]
  },
  {
   "cell_type": "code",
   "execution_count": 41,
   "id": "b6346567",
   "metadata": {},
   "outputs": [
    {
     "name": "stdout",
     "output_type": "stream",
     "text": [
      "Stored 'model_fr_com_x' (LinearRegression)\n"
     ]
    }
   ],
   "source": [
    "%store model_fr_com_x"
   ]
  },
  {
   "cell_type": "code",
   "execution_count": 42,
   "id": "8fde0785",
   "metadata": {},
   "outputs": [],
   "source": [
    "#for idx, prediction in enumerate(predictions):\n",
    "#    print(f'Command: {X_test[idx, :3]}. Groundtruth: {Y_test[idx]}. Predicted: {prediction}')"
   ]
  },
  {
   "cell_type": "code",
   "execution_count": 43,
   "id": "9377a5fc",
   "metadata": {},
   "outputs": [
    {
     "data": {
      "text/plain": [
       "['/home/itaouil/workspace/aliengo_ws/src/aliengo_navigation/models/protocol3/model_fr_com_x.sav']"
      ]
     },
     "execution_count": 43,
     "metadata": {},
     "output_type": "execute_result"
    }
   ],
   "source": [
    "# Save model\n",
    "joblib.dump(model_fr_com_x, \"/home/itaouil/workspace/aliengo_ws/src/aliengo_navigation/models/protocol3/model_fr_com_x.sav\")"
   ]
  },
  {
   "cell_type": "markdown",
   "id": "eb0c421d",
   "metadata": {},
   "source": [
    "## Predict FR foot -> y"
   ]
  },
  {
   "cell_type": "markdown",
   "id": "dfb1bc0d",
   "metadata": {},
   "source": [
    "### Linear Regression"
   ]
  },
  {
   "cell_type": "code",
   "execution_count": 22,
   "id": "416a5d15",
   "metadata": {},
   "outputs": [
    {
     "name": "stdout",
     "output_type": "stream",
     "text": [
      "R2:  0.9896710029437874\n",
      "RMSE:  0.00541817023507901\n",
      "The lowest error is:  1.3675054718886859e-06\n",
      "The highest error is:  0.05482297421242363\n",
      "The avg. error is:  0.003443020577027253\n"
     ]
    }
   ],
   "source": [
    "# Input\n",
    "#X = np.hstack((X_motion_CoM_FR_RL[:, :2], \n",
    "#               np.array([X_motion_CoM_FR_RL[:, 6]]).T,\n",
    "#               np.array([X_motion_CoM_FR_RL[:, 9]]).T,\n",
    "#               np.array([X_motion_CoM_FR_RL[:, 12]]).T,\n",
    "#               np.array([X_motion_CoM_FR_RL[:, 15]]).T))\n",
    "X = np.hstack((X_motion_CoM_FR_RL[:, :2], \n",
    "               np.array([X_motion_CoM_FR_RL[:, 5]]).T,\n",
    "               X_motion_CoM_FR_RL[:, 6:8],\n",
    "               X_motion_CoM_FR_RL[:, 9:11],\n",
    "               X_motion_CoM_FR_RL[:, 12:14],\n",
    "               X_motion_CoM_FR_RL[:, 15:17]))\n",
    "\n",
    "# Label matrix which consists only of\n",
    "# the next x coordinate of the FR foot.\n",
    "# We dont consider the first row.\n",
    "Y = np.array([Y_motion_CoM_FR_RL[:, 1]]).T\n",
    "\n",
    "assert Y.shape[0] == X.shape[0]\n",
    "\n",
    "# Split data into train and test set\n",
    "X_train, X_test, Y_train, Y_test = train_test_split(X, Y, train_size = 0.8, test_size=0.2, shuffle=True, random_state=100)\n",
    "\n",
    "# Create the model\n",
    "model_fr_com_y = LinearRegression()\n",
    "\n",
    "# Fit the model\n",
    "model_fr_com_y.fit(X_train, Y_train)\n",
    "\n",
    "# Predict\n",
    "predictions = model_fr_com_y.predict(X_test)\n",
    "\n",
    "# Stats\n",
    "print('R2: ', r2_score(predictions, Y_test))\n",
    "print('RMSE: ', np.sqrt(mean_squared_error(Y_test, predictions)))\n",
    "print(\"The lowest error is: \", np.min(np.abs(predictions - Y_test)))\n",
    "print(\"The highest error is: \", np.max(np.abs(predictions - Y_test)))\n",
    "print(\"The avg. error is: \", np.mean(np.abs(predictions - Y_test)))\n",
    "#print(\"Seq of errors (descendant): \\n\", sorted(np.abs(predictions - Y_test).tolist(), reverse=True))"
   ]
  },
  {
   "cell_type": "code",
   "execution_count": 23,
   "id": "0fea7065",
   "metadata": {},
   "outputs": [
    {
     "data": {
      "text/plain": [
       "array([[-0.00441734,  0.01496484,  0.01807551, -0.10798794,  1.49287406,\n",
       "        -0.12222931, -0.25313078,  0.11289323, -0.20699757,  0.16328088,\n",
       "         0.13514436]])"
      ]
     },
     "execution_count": 23,
     "metadata": {},
     "output_type": "execute_result"
    }
   ],
   "source": [
    "model_fr_com_y.coef_"
   ]
  },
  {
   "cell_type": "code",
   "execution_count": 29,
   "id": "0ff22947",
   "metadata": {},
   "outputs": [
    {
     "data": {
      "text/plain": [
       "array([-0.06957352])"
      ]
     },
     "execution_count": 29,
     "metadata": {},
     "output_type": "execute_result"
    }
   ],
   "source": [
    "model_fr_com_y.intercept_"
   ]
  },
  {
   "cell_type": "code",
   "execution_count": 23,
   "id": "30580636",
   "metadata": {},
   "outputs": [
    {
     "data": {
      "text/plain": [
       "Text(0, 0.5, 'Predictions')"
      ]
     },
     "execution_count": 23,
     "metadata": {},
     "output_type": "execute_result"
    },
    {
     "data": {
      "image/png": "[encoded data removed]",
      "text/plain": [
       "<Figure size 432x288 with 1 Axes>"
      ]
     },
     "metadata": {
      "needs_background": "light"
     },
     "output_type": "display_data"
    }
   ],
   "source": [
    "## The line / model\n",
    "plt.scatter(Y_test, predictions)\n",
    "plt.xlabel(\"Groundtruth\")\n",
    "plt.ylabel(\"Predictions\")"
   ]
  },
  {
   "cell_type": "code",
   "execution_count": 50,
   "id": "a41c3612",
   "metadata": {},
   "outputs": [
    {
     "name": "stdout",
     "output_type": "stream",
     "text": [
      "Stored 'model_fr_com_y' (LinearRegression)\n"
     ]
    }
   ],
   "source": [
    "%store model_fr_com_y"
   ]
  },
  {
   "cell_type": "code",
   "execution_count": 51,
   "id": "09e31bbd",
   "metadata": {},
   "outputs": [],
   "source": [
    "#for idx, prediction in enumerate(predictions):\n",
    "#    print(f'Groundtruth: {Y_test[idx]}. Predicted: {prediction}')"
   ]
  },
  {
   "cell_type": "code",
   "execution_count": 52,
   "id": "51582ee6",
   "metadata": {},
   "outputs": [
    {
     "data": {
      "text/plain": [
       "['/home/itaouil/workspace/aliengo_ws/src/aliengo_navigation/models/protocol3/model_fr_com_y.sav']"
      ]
     },
     "execution_count": 52,
     "metadata": {},
     "output_type": "execute_result"
    }
   ],
   "source": [
    "# Save model\n",
    "joblib.dump(model_fr_com_y, \"/home/itaouil/workspace/aliengo_ws/src/aliengo_navigation/models/protocol3/model_fr_com_y.sav\")"
   ]
  },
  {
   "cell_type": "code",
   "execution_count": null,
   "id": "2046c87b",
   "metadata": {},
   "outputs": [],
   "source": []
  }
 ],
 "metadata": {
  "kernelspec": {
   "display_name": "Python 3",
   "language": "python",
   "name": "python3"
  },
  "language_info": {
   "codemirror_mode": {
    "name": "ipython",
    "version": 3
   },
   "file_extension": ".py",
   "mimetype": "text/x-python",
   "name": "python",
   "nbconvert_exporter": "python",
   "pygments_lexer": "ipython3",
   "version": "3.6.12"
  }
 },
 "nbformat": 4,
 "nbformat_minor": 5
}
