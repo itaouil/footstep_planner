{
 "cells": [
  {
   "cell_type": "code",
   "execution_count": 1,
   "id": "94841cb7",
   "metadata": {},
   "outputs": [],
   "source": [
    "#!/usr/bin/env python3.6\n",
    "# -*- coding: utf-8 -*-"
   ]
  },
  {
   "cell_type": "code",
   "execution_count": 2,
   "id": "1176f839",
   "metadata": {},
   "outputs": [],
   "source": [
    "# Imports\n",
    "import sys\n",
    "import joblib\n",
    "import numpy as np\n",
    "from math import atan2\n",
    "from matplotlib import animation\n",
    "from IPython.display import HTML\n",
    "from matplotlib import pyplot as plt\n",
    "import mpl_toolkits.mplot3d.axes3d as p3"
   ]
  },
  {
   "cell_type": "code",
   "execution_count": 3,
   "id": "526bb4ff",
   "metadata": {},
   "outputs": [],
   "source": [
    "#np.random.seed(20)\n",
    "np.set_printoptions(threshold=sys.maxsize)"
   ]
  },
  {
   "cell_type": "code",
   "execution_count": 4,
   "id": "f1352634",
   "metadata": {},
   "outputs": [],
   "source": [
    "%matplotlib inline"
   ]
  },
  {
   "cell_type": "code",
   "execution_count": 5,
   "id": "92bbe29f",
   "metadata": {},
   "outputs": [
    {
     "name": "stdout",
     "output_type": "stream",
     "text": [
      "(12870, 28)\n",
      "(12870, 2)\n"
     ]
    }
   ],
   "source": [
    "%store -r X_motion_CoM\n",
    "%store -r Y_motion_CoM\n",
    "print(X_motion_CoM.shape)\n",
    "print(Y_motion_CoM.shape)"
   ]
  },
  {
   "cell_type": "code",
   "execution_count": 6,
   "id": "5f76fdf7",
   "metadata": {},
   "outputs": [
    {
     "data": {
      "text/plain": [
       "array([0.1, 0.0, 0.0, 0.0, 0.0, 0.0, 0.184, 0.133, -0.34, 0.186, -0.133,\n",
       "       -0.34, -0.277, 0.133, -0.342, -0.277, -0.133, -0.342,\n",
       "       2.06538830341e-06, -7.40856241332e-09, -1.98321098827e-44,\n",
       "       -4.91923108558e-23, 2.46110009701e-23, -0.00656005589676, True,\n",
       "       False, 0, 0], dtype=object)"
      ]
     },
     "execution_count": 6,
     "metadata": {},
     "output_type": "execute_result"
    }
   ],
   "source": [
    "X_motion_CoM[0]"
   ]
  },
  {
   "cell_type": "code",
   "execution_count": 7,
   "id": "cc07922f",
   "metadata": {},
   "outputs": [
    {
     "data": {
      "text/plain": [
       "array([0.004316108424438636, -0.00044173166939715696], dtype=object)"
      ]
     },
     "execution_count": 7,
     "metadata": {},
     "output_type": "execute_result"
    }
   ],
   "source": [
    "Y_motion_CoM[0]"
   ]
  },
  {
   "cell_type": "markdown",
   "id": "57893ebf",
   "metadata": {},
   "source": [
    "# Multivariate Linear Regression (Foot prediction)"
   ]
  },
  {
   "cell_type": "markdown",
   "id": "6da7ba2d",
   "metadata": {},
   "source": [
    "The input will use initially only:\n",
    "\n",
    "- **HighCmd: fwd, side, rot speeds**\n",
    "- **HighState: fwd, side, rot speeds, footPosition2Body (FR)**\n",
    "\n",
    "and as output we seek to predict the following:\n",
    "\n",
    "- **footPosition2Body (FR)**"
   ]
  },
  {
   "cell_type": "code",
   "execution_count": 8,
   "id": "622debb8",
   "metadata": {},
   "outputs": [],
   "source": [
    "import sklearn\n",
    "from sklearn import metrics\n",
    "from sklearn.feature_selection import RFE\n",
    "from sklearn.model_selection import KFold\n",
    "from sklearn.linear_model import LinearRegression\n",
    "from sklearn.model_selection import train_test_split\n",
    "from sklearn.preprocessing import PolynomialFeatures \n",
    "from sklearn.model_selection import cross_val_score, cross_val_predict\n",
    "from sklearn.metrics import mean_squared_error, mean_absolute_error, r2_score"
   ]
  },
  {
   "cell_type": "markdown",
   "id": "5c0c6a96",
   "metadata": {},
   "source": [
    "## Predict CoM (x) movement"
   ]
  },
  {
   "cell_type": "code",
   "execution_count": 9,
   "id": "a124f881",
   "metadata": {},
   "outputs": [
    {
     "data": {
      "text/plain": [
       "array([0.1, 0.0, 0.0, 0.0, 0.0, 0.0, 0.184, 0.133, -0.34, 0.186, -0.133,\n",
       "       -0.34, -0.277, 0.133, -0.342, -0.277, -0.133, -0.342,\n",
       "       2.06538830341e-06, -7.40856241332e-09, -1.98321098827e-44,\n",
       "       -4.91923108558e-23, 2.46110009701e-23, -0.00656005589676, True,\n",
       "       False, 0, 0], dtype=object)"
      ]
     },
     "execution_count": 9,
     "metadata": {},
     "output_type": "execute_result"
    }
   ],
   "source": [
    "X_motion_CoM[0, :]"
   ]
  },
  {
   "cell_type": "code",
   "execution_count": 10,
   "id": "48a28dd8",
   "metadata": {},
   "outputs": [
    {
     "data": {
      "text/plain": [
       "array([0.004316108424438636, -0.00044173166939715696], dtype=object)"
      ]
     },
     "execution_count": 10,
     "metadata": {},
     "output_type": "execute_result"
    }
   ],
   "source": [
    "Y_motion_CoM[0, :]"
   ]
  },
  {
   "cell_type": "markdown",
   "id": "c4119559",
   "metadata": {},
   "source": [
    "### Linear Regression"
   ]
  },
  {
   "cell_type": "code",
   "execution_count": 11,
   "id": "1c532dee",
   "metadata": {},
   "outputs": [
    {
     "name": "stdout",
     "output_type": "stream",
     "text": [
      "R2:  0.8651882528387813\n",
      "RMSE:  0.01323904439322575\n",
      "The lowest error is:  1.4168189956201976e-06\n",
      "The highest error is:  0.11427529545487286\n",
      "The avg. error is:  0.00747145648951902\n"
     ]
    }
   ],
   "source": [
    "# Input\n",
    "#X = np.hstack((X_motion_CoM[:, :2], \n",
    "#               np.array([X_motion_CoM[:, 6]]).T,\n",
    "#               np.array([X_motion_CoM[:, 9]]).T,\n",
    "#               np.array([X_motion_CoM[:, 12]]).T,\n",
    "#               np.array([X_motion_CoM[:, 15]]).T))\n",
    "\n",
    "X = np.hstack((X_motion_CoM[:, :2], \n",
    "               np.array([X_motion_CoM[:, 5]]).T,\n",
    "               X_motion_CoM[:, 6:8],\n",
    "               X_motion_CoM[:, 9:11],\n",
    "               X_motion_CoM[:, 12:14],\n",
    "               X_motion_CoM[:, 15:17],\n",
    "               X_motion_CoM[:, 18:20],\n",
    "               np.array([X_motion_CoM[:, 23]]).T,\n",
    "               X_motion_CoM[:, 24:26],\n",
    "               #X_motion_CoM[:, 26:28]))\n",
    "               np.array([X_motion_CoM[:, 26]]).T))\n",
    "\n",
    "# Labels\n",
    "Y = np.array([Y_motion_CoM[:, 0]]).T\n",
    "\n",
    "assert Y.shape[0] == X.shape[0]\n",
    "\n",
    "# Split data into train and test set\n",
    "X_train, X_test, Y_train, Y_test = train_test_split(X, Y, train_size = 0.8, shuffle=True)\n",
    "\n",
    "# Create the model\n",
    "model_fr_com_x = LinearRegression()\n",
    "\n",
    "# Fit the model\n",
    "model_fr_com_x.fit(X_train, Y_train)\n",
    "\n",
    "# Predict\n",
    "predictions = model_fr_com_x.predict(X_test)\n",
    "\n",
    "# Stats\n",
    "print('R2: ', r2_score(predictions, Y_test))\n",
    "print('RMSE: ', np.sqrt(mean_squared_error(Y_test, predictions)))\n",
    "print(\"The lowest error is: \", np.min(np.abs(predictions - Y_test)))\n",
    "print(\"The highest error is: \", np.max(np.abs(predictions - Y_test)))\n",
    "print(\"The avg. error is: \", np.mean(np.abs(predictions - Y_test)))\n",
    "#print(\"Seq of errors (descendant): \\n\", sorted(np.abs(predictions - Y_test).tolist(), reverse=True))"
   ]
  },
  {
   "cell_type": "code",
   "execution_count": 17,
   "id": "ccf8b592",
   "metadata": {},
   "outputs": [
    {
     "data": {
      "text/plain": [
       "array([[ 1.14402016e-01, -1.46263600e-04, -9.49649521e-03,\n",
       "         1.04827938e+00, -4.08979242e-02, -1.17332787e-01,\n",
       "         1.28137632e-01, -6.63037331e-02, -1.08698563e-01,\n",
       "         2.30694608e-01,  1.45460953e-01]])"
      ]
     },
     "execution_count": 17,
     "metadata": {},
     "output_type": "execute_result"
    }
   ],
   "source": [
    "model_fr_com_x.coef_"
   ]
  },
  {
   "cell_type": "code",
   "execution_count": 18,
   "id": "7eb04aab",
   "metadata": {},
   "outputs": [
    {
     "data": {
      "text/plain": [
       "array([-0.07340656])"
      ]
     },
     "execution_count": 18,
     "metadata": {},
     "output_type": "execute_result"
    }
   ],
   "source": [
    "model_fr_com_x.intercept_"
   ]
  },
  {
   "cell_type": "code",
   "execution_count": 12,
   "id": "2b8fbbce",
   "metadata": {},
   "outputs": [
    {
     "data": {
      "text/plain": [
       "Text(0, 0.5, 'Predictions')"
      ]
     },
     "execution_count": 12,
     "metadata": {},
     "output_type": "execute_result"
    },
    {
     "data": {
      "image/png": "[encoded data removed]",
      "text/plain": [
       "<Figure size 432x288 with 1 Axes>"
      ]
     },
     "metadata": {
      "needs_background": "light"
     },
     "output_type": "display_data"
    }
   ],
   "source": [
    "## The line / model\n",
    "plt.scatter(Y_test, predictions)\n",
    "plt.xlabel(\"Groundtruth\")\n",
    "plt.ylabel(\"Predictions\")"
   ]
  },
  {
   "cell_type": "code",
   "execution_count": 41,
   "id": "a1c67bba",
   "metadata": {},
   "outputs": [
    {
     "name": "stdout",
     "output_type": "stream",
     "text": [
      "Stored 'model_fr_com_x' (LinearRegression)\n"
     ]
    }
   ],
   "source": [
    "%store model_fr_com_x"
   ]
  },
  {
   "cell_type": "code",
   "execution_count": 42,
   "id": "e4dfddb2",
   "metadata": {},
   "outputs": [],
   "source": [
    "#for idx, prediction in enumerate(predictions):\n",
    "#    print(f'Command: {X_test[idx, :3]}. Groundtruth: {Y_test[idx]}. Predicted: {prediction}')"
   ]
  },
  {
   "cell_type": "code",
   "execution_count": 43,
   "id": "668ffcff",
   "metadata": {},
   "outputs": [
    {
     "data": {
      "text/plain": [
       "['/home/itaouil/workspace/aliengo_ws/src/aliengo_navigation/models/protocol3/model_fr_com_x.sav']"
      ]
     },
     "execution_count": 43,
     "metadata": {},
     "output_type": "execute_result"
    }
   ],
   "source": [
    "# Save model\n",
    "joblib.dump(model_fr_com_x, \"/home/itaouil/workspace/aliengo_ws/src/aliengo_navigation/models/protocol3/model_fr_com_x.sav\")"
   ]
  },
  {
   "cell_type": "markdown",
   "id": "879e08dd",
   "metadata": {},
   "source": [
    "## Predict CoM (y) movement"
   ]
  },
  {
   "cell_type": "markdown",
   "id": "a98e0531",
   "metadata": {},
   "source": [
    "### Linear Regression"
   ]
  },
  {
   "cell_type": "code",
   "execution_count": 13,
   "id": "89ee99d9",
   "metadata": {},
   "outputs": [
    {
     "name": "stdout",
     "output_type": "stream",
     "text": [
      "R2:  0.885521990356486\n",
      "RMSE:  0.013018753743473454\n",
      "The lowest error is:  1.0251443478270783e-06\n",
      "The highest error is:  0.06860701017619084\n",
      "The avg. error is:  0.008348581563638177\n"
     ]
    }
   ],
   "source": [
    "# Input\n",
    "#X = np.hstack((X_motion_CoM[:, :2], \n",
    "#               np.array([X_motion_CoM[:, 6]]).T,\n",
    "#               np.array([X_motion_CoM[:, 9]]).T,\n",
    "#               np.array([X_motion_CoM[:, 12]]).T,\n",
    "#               np.array([X_motion_CoM[:, 15]]).T))\n",
    "X = np.hstack((X_motion_CoM[:, :2], \n",
    "               np.array([X_motion_CoM[:, 5]]).T,\n",
    "               X_motion_CoM[:, 6:8],\n",
    "               X_motion_CoM[:, 9:11],\n",
    "               X_motion_CoM[:, 12:14],\n",
    "               X_motion_CoM[:, 15:17],\n",
    "               X_motion_CoM[:, 18:20],\n",
    "               np.array([X_motion_CoM[:, 23]]).T,\n",
    "               X_motion_CoM[:, 24:26],\n",
    "               #X_motion_CoM[:, 26:28]))\n",
    "               np.array([X_motion_CoM[:, 27]]).T))\n",
    "\n",
    "# Label matrix which consists only of\n",
    "# the next x coordinate of the FR foot.\n",
    "# We dont consider the first row.\n",
    "Y = np.array([Y_motion_CoM[:, 1]]).T\n",
    "\n",
    "assert Y.shape[0] == X.shape[0]\n",
    "\n",
    "# Split data into train and test set\n",
    "X_train, X_test, Y_train, Y_test = train_test_split(X, Y, train_size = 0.8, test_size=0.2, shuffle=True, random_state=100)\n",
    "\n",
    "# Create the model\n",
    "model_fr_com_y = LinearRegression()\n",
    "\n",
    "# Fit the model\n",
    "model_fr_com_y.fit(X_train, Y_train)\n",
    "\n",
    "# Predict\n",
    "predictions = model_fr_com_y.predict(X_test)\n",
    "\n",
    "# Stats\n",
    "print('R2: ', r2_score(predictions, Y_test))\n",
    "print('RMSE: ', np.sqrt(mean_squared_error(Y_test, predictions)))\n",
    "print(\"The lowest error is: \", np.min(np.abs(predictions - Y_test)))\n",
    "print(\"The highest error is: \", np.max(np.abs(predictions - Y_test)))\n",
    "print(\"The avg. error is: \", np.mean(np.abs(predictions - Y_test)))\n",
    "#print(\"Seq of errors (descendant): \\n\", sorted(np.abs(predictions - Y_test).tolist(), reverse=True))"
   ]
  },
  {
   "cell_type": "code",
   "execution_count": 23,
   "id": "4fe57098",
   "metadata": {},
   "outputs": [
    {
     "data": {
      "text/plain": [
       "array([[-0.00441734,  0.01496484,  0.01807551, -0.10798794,  1.49287406,\n",
       "        -0.12222931, -0.25313078,  0.11289323, -0.20699757,  0.16328088,\n",
       "         0.13514436]])"
      ]
     },
     "execution_count": 23,
     "metadata": {},
     "output_type": "execute_result"
    }
   ],
   "source": [
    "model_fr_com_y.coef_"
   ]
  },
  {
   "cell_type": "code",
   "execution_count": 29,
   "id": "ca3f812b",
   "metadata": {},
   "outputs": [
    {
     "data": {
      "text/plain": [
       "array([-0.06957352])"
      ]
     },
     "execution_count": 29,
     "metadata": {},
     "output_type": "execute_result"
    }
   ],
   "source": [
    "model_fr_com_y.intercept_"
   ]
  },
  {
   "cell_type": "code",
   "execution_count": 14,
   "id": "cec586fc",
   "metadata": {},
   "outputs": [
    {
     "data": {
      "text/plain": [
       "Text(0, 0.5, 'Predictions')"
      ]
     },
     "execution_count": 14,
     "metadata": {},
     "output_type": "execute_result"
    },
    {
     "data": {
      "image/png": "[encoded data removed]",
      "text/plain": [
       "<Figure size 432x288 with 1 Axes>"
      ]
     },
     "metadata": {
      "needs_background": "light"
     },
     "output_type": "display_data"
    }
   ],
   "source": [
    "## The line / model\n",
    "plt.scatter(Y_test, predictions)\n",
    "plt.xlabel(\"Groundtruth\")\n",
    "plt.ylabel(\"Predictions\")"
   ]
  },
  {
   "cell_type": "code",
   "execution_count": 50,
   "id": "acee0a8a",
   "metadata": {},
   "outputs": [
    {
     "name": "stdout",
     "output_type": "stream",
     "text": [
      "Stored 'model_fr_com_y' (LinearRegression)\n"
     ]
    }
   ],
   "source": [
    "%store model_fr_com_y"
   ]
  },
  {
   "cell_type": "code",
   "execution_count": 51,
   "id": "f36e8ba2",
   "metadata": {},
   "outputs": [],
   "source": [
    "#for idx, prediction in enumerate(predictions):\n",
    "#    print(f'Groundtruth: {Y_test[idx]}. Predicted: {prediction}')"
   ]
  },
  {
   "cell_type": "code",
   "execution_count": 52,
   "id": "7c5c590c",
   "metadata": {},
   "outputs": [
    {
     "data": {
      "text/plain": [
       "['/home/itaouil/workspace/aliengo_ws/src/aliengo_navigation/models/protocol3/model_fr_com_y.sav']"
      ]
     },
     "execution_count": 52,
     "metadata": {},
     "output_type": "execute_result"
    }
   ],
   "source": [
    "# Save model\n",
    "joblib.dump(model_fr_com_y, \"/home/itaouil/workspace/aliengo_ws/src/aliengo_navigation/models/protocol3/model_fr_com_y.sav\")"
   ]
  },
  {
   "cell_type": "code",
   "execution_count": null,
   "id": "c3f93df1",
   "metadata": {},
   "outputs": [],
   "source": []
  }
 ],
 "metadata": {
  "kernelspec": {
   "display_name": "Python 3",
   "language": "python",
   "name": "python3"
  },
  "language_info": {
   "codemirror_mode": {
    "name": "ipython",
    "version": 3
   },
   "file_extension": ".py",
   "mimetype": "text/x-python",
   "name": "python",
   "nbconvert_exporter": "python",
   "pygments_lexer": "ipython3",
   "version": "3.6.12"
  }
 },
 "nbformat": 4,
 "nbformat_minor": 5
}
