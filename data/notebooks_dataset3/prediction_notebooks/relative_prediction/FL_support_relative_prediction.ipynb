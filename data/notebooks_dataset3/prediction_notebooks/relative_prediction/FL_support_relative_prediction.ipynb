{
 "cells": [
  {
   "cell_type": "code",
   "execution_count": 1,
   "id": "54df203e",
   "metadata": {},
   "outputs": [],
   "source": [
    "#!/usr/bin/env python3.6\n",
    "# -*- coding: utf-8 -*-"
   ]
  },
  {
   "cell_type": "code",
   "execution_count": 2,
   "id": "3730291b",
   "metadata": {},
   "outputs": [],
   "source": [
    "# Imports\n",
    "import sys\n",
    "import joblib\n",
    "import numpy as np\n",
    "from matplotlib import animation\n",
    "from IPython.display import HTML\n",
    "from matplotlib import pyplot as plt\n",
    "import mpl_toolkits.mplot3d.axes3d as p3"
   ]
  },
  {
   "cell_type": "code",
   "execution_count": 3,
   "id": "63f1f153",
   "metadata": {},
   "outputs": [],
   "source": [
    "#np.random.seed(20)\n",
    "np.set_printoptions(threshold=sys.maxsize)"
   ]
  },
  {
   "cell_type": "code",
   "execution_count": 4,
   "id": "fbc06052",
   "metadata": {},
   "outputs": [],
   "source": [
    "%matplotlib inline"
   ]
  },
  {
   "cell_type": "code",
   "execution_count": 5,
   "id": "aa68ab72",
   "metadata": {},
   "outputs": [
    {
     "name": "stdout",
     "output_type": "stream",
     "text": [
      "(27032, 27)\n",
      "(27032, 8)\n"
     ]
    }
   ],
   "source": [
    "%store -r X_motion_relative\n",
    "%store -r Y_motion_relative\n",
    "print(X_motion_relative.shape)\n",
    "print(Y_motion_relative.shape)"
   ]
  },
  {
   "cell_type": "markdown",
   "id": "50724f14",
   "metadata": {},
   "source": [
    "# Multivariate Linear Regression (Foot prediction)"
   ]
  },
  {
   "cell_type": "markdown",
   "id": "aafa2307",
   "metadata": {},
   "source": [
    "The input will use initially only:\n",
    "\n",
    "- **HighCmd: fwd, side, rot speeds**\n",
    "- **HighState: fwd, side, rot speeds, footPosition2Body (FR)**\n",
    "\n",
    "and as output we seek to predict the following:\n",
    "\n",
    "- **footPosition2Body (FR)**"
   ]
  },
  {
   "cell_type": "code",
   "execution_count": 6,
   "id": "1ec9705a",
   "metadata": {},
   "outputs": [],
   "source": [
    "import sklearn\n",
    "from sklearn import metrics\n",
    "from sklearn.feature_selection import RFE\n",
    "from sklearn.model_selection import KFold\n",
    "from sklearn.linear_model import LinearRegression\n",
    "from sklearn.model_selection import train_test_split\n",
    "from sklearn.preprocessing import PolynomialFeatures \n",
    "from sklearn.model_selection import cross_val_score, cross_val_predict\n",
    "from sklearn.metrics import mean_squared_error, mean_absolute_error, r2_score"
   ]
  },
  {
   "cell_type": "code",
   "execution_count": 7,
   "id": "6ee7bbf8",
   "metadata": {},
   "outputs": [],
   "source": [
    "# Entries where FR/RL are swinging\n",
    "idxs = np.where(X_motion_relative[:, 24] == 1)[0]\n",
    "X_motion_relative_FL_RR = X_motion_relative[idxs]\n",
    "Y_motion_relative_FL_RR = Y_motion_relative[idxs]"
   ]
  },
  {
   "cell_type": "markdown",
   "id": "ebb04002",
   "metadata": {},
   "source": [
    "## Predict FL foot -> x"
   ]
  },
  {
   "cell_type": "code",
   "execution_count": 8,
   "id": "c60df45f",
   "metadata": {},
   "outputs": [
    {
     "data": {
      "text/plain": [
       "(13712, 27)"
      ]
     },
     "execution_count": 8,
     "metadata": {},
     "output_type": "execute_result"
    }
   ],
   "source": [
    "X_motion_relative_FL_RR.shape"
   ]
  },
  {
   "cell_type": "code",
   "execution_count": 9,
   "id": "47b82222",
   "metadata": {},
   "outputs": [
    {
     "data": {
      "text/plain": [
       "array([ 1.00000000e-01,  0.00000000e+00,  0.00000000e+00,  0.00000000e+00,\n",
       "        0.00000000e+00,  0.00000000e+00, -4.92429697e-30, -1.14330159e-29,\n",
       "        7.16981888e-03,  9.99974297e-01, -5.53546168e-14, -1.36752626e-12,\n",
       "        1.85000000e-01,  1.35000000e-01, -3.39000000e-01,  1.86000000e-01,\n",
       "       -1.35000000e-01, -3.39000000e-01, -2.77000000e-01,  1.35000000e-01,\n",
       "       -3.41000000e-01, -2.78000000e-01, -1.34000000e-01, -3.42000000e-01,\n",
       "        1.00000000e+00,  0.00000000e+00,  1.63241605e+09])"
      ]
     },
     "execution_count": 9,
     "metadata": {},
     "output_type": "execute_result"
    }
   ],
   "source": [
    "X_motion_relative_FL_RR[0, :]"
   ]
  },
  {
   "cell_type": "code",
   "execution_count": 10,
   "id": "c9a845f3",
   "metadata": {},
   "outputs": [
    {
     "data": {
      "text/plain": [
       "array([-0.012,  0.001,  0.02 ,  0.   ,  0.009,  0.001, -0.014, -0.002])"
      ]
     },
     "execution_count": 10,
     "metadata": {},
     "output_type": "execute_result"
    }
   ],
   "source": [
    "Y_motion_relative_FL_RR[0, :]"
   ]
  },
  {
   "cell_type": "markdown",
   "id": "4cbcc5a5",
   "metadata": {},
   "source": [
    "### Linear Regression"
   ]
  },
  {
   "cell_type": "code",
   "execution_count": 11,
   "id": "f9901e4d",
   "metadata": {},
   "outputs": [
    {
     "name": "stdout",
     "output_type": "stream",
     "text": [
      "R2:  0.9811936881069937\n",
      "RMSE:  0.007401612157873186\n",
      "The lowest error is:  3.2388467683802658e-06\n",
      "The highest error is:  0.1002981966473684\n",
      "The avg. error is:  0.0036090571531960853\n"
     ]
    }
   ],
   "source": [
    "# Input\n",
    "#X = np.hstack((X_motion_relative_FL_RR[:, :2], np.array([X_motion_relative_FL_RR[:, 5]]).T,\n",
    "#               X_motion_relative_FL_RR[:, 6:8], np.array([X_motion_relative_FL_RR[:, 11]]).T,\n",
    "#               np.array([X_motion_relative_FL_RR[:, 12]]).T, np.array([X_motion_relative_FL_RR[:, 15]]).T))\n",
    "#X = np.hstack((X_motion_relative_FL_RR[:, :2], np.array([X_motion_relative_FL_RR[:, 5]]).T,\n",
    "#               np.array([X_motion_relative_FL_RR[:, 12]]).T, np.array([X_motion_relative_FL_RR[:, 15]]).T))\n",
    "X = np.hstack((X_motion_relative_FL_RR[:, :2],\n",
    "               np.array([X_motion_relative_FL_RR[:, 5]]).T,\n",
    "               X_motion_relative_FL_RR[:, 12:14],\n",
    "               X_motion_relative_FL_RR[:, 15:17],\n",
    "               X_motion_relative_FL_RR[:, 18:20],\n",
    "               X_motion_relative_FL_RR[:, 21:23]))\n",
    "\n",
    "# Target\n",
    "Y = np.array([Y_motion_relative_FL_RR[:, 0]]).T\n",
    "\n",
    "assert Y.shape[0] == X.shape[0]\n",
    "\n",
    "# Split data into train and test set\n",
    "X_train, X_test, Y_train, Y_test = train_test_split(X, Y, train_size = 0.8, shuffle=True, random_state=100)\n",
    "\n",
    "# Create the model\n",
    "model_fl_relative_support_x = LinearRegression()\n",
    "\n",
    "# Fit the model\n",
    "model_fl_relative_support_x.fit(X_train, Y_train)\n",
    "\n",
    "# Predict\n",
    "predictions = model_fl_relative_support_x.predict(X_test)\n",
    "\n",
    "# Stats\n",
    "print('R2: ', r2_score(predictions, Y_test))\n",
    "print('RMSE: ', np.sqrt(mean_squared_error(Y_test, predictions)))\n",
    "print(\"The lowest error is: \", np.min(np.abs(predictions - Y_test)))\n",
    "print(\"The highest error is: \", np.max(np.abs(predictions - Y_test)))\n",
    "print(\"The avg. error is: \", np.mean(np.abs(predictions - Y_test)))\n",
    "#print(\"Seq of errors (descendant): \\n\", sorted(np.abs(predictions - Y_test).tolist(), reverse=True))"
   ]
  },
  {
   "cell_type": "code",
   "execution_count": 12,
   "id": "e60cda8d",
   "metadata": {},
   "outputs": [
    {
     "data": {
      "text/plain": [
       "array([[-1.11334355e-01, -2.94643116e-06,  9.28212369e-03,\n",
       "        -1.03928824e+00,  4.86196355e-02,  1.08500023e-01,\n",
       "        -1.25932689e-01,  8.29840164e-02,  1.01528087e-01,\n",
       "        -2.46714446e-01, -1.56741651e-01]])"
      ]
     },
     "execution_count": 12,
     "metadata": {},
     "output_type": "execute_result"
    }
   ],
   "source": [
    "model_fl_relative_support_x.coef_"
   ]
  },
  {
   "cell_type": "code",
   "execution_count": 13,
   "id": "792f804a",
   "metadata": {},
   "outputs": [
    {
     "data": {
      "text/plain": [
       "array([0.07220234])"
      ]
     },
     "execution_count": 13,
     "metadata": {},
     "output_type": "execute_result"
    }
   ],
   "source": [
    "model_fl_relative_support_x.intercept_"
   ]
  },
  {
   "cell_type": "code",
   "execution_count": 20,
   "id": "34b41f0f",
   "metadata": {},
   "outputs": [
    {
     "data": {
      "text/plain": [
       "Text(0, 0.5, 'Predictions')"
      ]
     },
     "execution_count": 20,
     "metadata": {},
     "output_type": "execute_result"
    },
    {
     "data": {
      "image/png": "[encoded data removed]",
      "text/plain": [
       "<Figure size 432x288 with 1 Axes>"
      ]
     },
     "metadata": {
      "needs_background": "light"
     },
     "output_type": "display_data"
    }
   ],
   "source": [
    "## The line / model\n",
    "plt.scatter(Y_test, predictions)\n",
    "plt.xlabel(\"Ground truth\")\n",
    "plt.ylabel(\"Predictions\")"
   ]
  },
  {
   "cell_type": "code",
   "execution_count": 14,
   "id": "a6990b91",
   "metadata": {},
   "outputs": [
    {
     "name": "stdout",
     "output_type": "stream",
     "text": [
      "Stored 'model_fl_relative_support_x' (LinearRegression)\n"
     ]
    }
   ],
   "source": [
    "%store model_fl_relative_support_x"
   ]
  },
  {
   "cell_type": "code",
   "execution_count": 15,
   "id": "8eca3b5f",
   "metadata": {},
   "outputs": [],
   "source": [
    "#for idx, prediction in enumerate(predictions):\n",
    "#    print(f'Start: {X_test[idx, 6]}. Groundtruth: {Y_test[idx]}. Predicted: {prediction}')"
   ]
  },
  {
   "cell_type": "code",
   "execution_count": 16,
   "id": "a83178b7",
   "metadata": {},
   "outputs": [
    {
     "data": {
      "text/plain": [
       "['/home/itaouil/workspace/aliengo_ws/src/aliengo_navigation/models/protocol3/relative/model_fl_relative_support_x.sav']"
      ]
     },
     "execution_count": 16,
     "metadata": {},
     "output_type": "execute_result"
    }
   ],
   "source": [
    "# Save model\n",
    "joblib.dump(model_fl_relative_support_x, \"/home/itaouil/workspace/aliengo_ws/src/aliengo_navigation/models/protocol3/relative/model_fl_relative_support_x.sav\")"
   ]
  },
  {
   "cell_type": "markdown",
   "id": "405f7289",
   "metadata": {},
   "source": [
    "### Predict FL foot -> y"
   ]
  },
  {
   "cell_type": "code",
   "execution_count": 15,
   "id": "30a1ecdd",
   "metadata": {},
   "outputs": [
    {
     "name": "stdout",
     "output_type": "stream",
     "text": [
      "R2:  0.9896710029437874\n",
      "RMSE:  0.00541817023507901\n",
      "The lowest error is:  1.3675054718886859e-06\n",
      "The highest error is:  0.05482297421242363\n",
      "The avg. error is:  0.0034430205770272612\n"
     ]
    }
   ],
   "source": [
    "# Input\n",
    "#X = np.hstack((X_motion_relative_FL_RR[:, :2], np.array([X_motion_relative_FL_RR[:, 5]]).T,\n",
    "#               X_motion_relative_FL_RR[:, 6:8], np.array([X_motion_relative_FL_RR[:, 11]]).T,\n",
    "#               np.array([X_motion_relative_FL_RR[:, 12]]).T, np.array([X_motion_relative_FL_RR[:, 15]]).T))\n",
    "#X = np.hstack((X_motion_relative_FL_RR[:, :2], np.array([X_motion_relative_FL_RR[:, 5]]).T,\n",
    "#               np.array([X_motion_relative_FL_RR[:, 12]]).T, np.array([X_motion_relative_FL_RR[:, 15]]).T))\n",
    "X = np.hstack((X_motion_relative_FL_RR[:, :2],\n",
    "               np.array([X_motion_relative_FL_RR[:, 5]]).T,\n",
    "               X_motion_relative_FL_RR[:, 12:14],\n",
    "               X_motion_relative_FL_RR[:, 15:17],\n",
    "               X_motion_relative_FL_RR[:, 18:20],\n",
    "               X_motion_relative_FL_RR[:, 21:23]))\n",
    "# Target\n",
    "Y = np.array([Y_motion_relative_FL_RR[:, 1]]).T\n",
    "\n",
    "assert Y.shape[0] == X.shape[0]\n",
    "\n",
    "# Split data into train and test set\n",
    "X_train, X_test, Y_train, Y_test = train_test_split(X, Y, train_size = 0.8, test_size=0.2, shuffle=True, random_state=100)\n",
    "\n",
    "# Create the model\n",
    "model_fl_relative_support_y = LinearRegression()\n",
    "\n",
    "# Fit the model\n",
    "model_fl_relative_support_y.fit(X_train, Y_train)\n",
    "\n",
    "# Predict\n",
    "predictions = model_fl_relative_support_y.predict(X_test)\n",
    "\n",
    "# Stats\n",
    "print('R2: ', r2_score(predictions, Y_test))\n",
    "print('RMSE: ', np.sqrt(mean_squared_error(Y_test, predictions)))\n",
    "print(\"The lowest error is: \", np.min(np.abs(predictions - Y_test)))\n",
    "print(\"The highest error is: \", np.max(np.abs(predictions - Y_test)))\n",
    "print(\"The avg. error is: \", np.mean(np.abs(predictions - Y_test)))\n",
    "#print(\"Seq of errors (descendant): \\n\", sorted(np.abs(predictions - Y_test).tolist(), reverse=True))"
   ]
  },
  {
   "cell_type": "code",
   "execution_count": 16,
   "id": "6c5095a0",
   "metadata": {},
   "outputs": [
    {
     "data": {
      "text/plain": [
       "array([[ 0.00441734, -0.01496484, -0.01807551,  0.10798794, -1.49287406,\n",
       "         0.12222931,  0.25313078, -0.11289323,  0.20699757, -0.16328088,\n",
       "        -0.13514436]])"
      ]
     },
     "execution_count": 16,
     "metadata": {},
     "output_type": "execute_result"
    }
   ],
   "source": [
    "model_fl_relative_support_y.coef_"
   ]
  },
  {
   "cell_type": "code",
   "execution_count": 17,
   "id": "9e2a5145",
   "metadata": {},
   "outputs": [
    {
     "data": {
      "text/plain": [
       "array([0.06957352])"
      ]
     },
     "execution_count": 17,
     "metadata": {},
     "output_type": "execute_result"
    }
   ],
   "source": [
    "model_fl_relative_support_y.intercept_"
   ]
  },
  {
   "cell_type": "code",
   "execution_count": 21,
   "id": "5d695991",
   "metadata": {},
   "outputs": [
    {
     "data": {
      "text/plain": [
       "Text(0, 0.5, 'Predictions')"
      ]
     },
     "execution_count": 21,
     "metadata": {},
     "output_type": "execute_result"
    },
    {
     "data": {
      "image/png": "[encoded data removed]",
      "text/plain": [
       "<Figure size 432x288 with 1 Axes>"
      ]
     },
     "metadata": {
      "needs_background": "light"
     },
     "output_type": "display_data"
    }
   ],
   "source": [
    "## The line / model\n",
    "plt.scatter(Y_test, predictions)\n",
    "plt.xlabel(\"Ground truth\")\n",
    "plt.ylabel(\"Predictions\")"
   ]
  },
  {
   "cell_type": "code",
   "execution_count": 19,
   "id": "6214a1d5",
   "metadata": {},
   "outputs": [
    {
     "name": "stdout",
     "output_type": "stream",
     "text": [
      "Stored 'model_fl_relative_support_y' (LinearRegression)\n"
     ]
    }
   ],
   "source": [
    "%store model_fl_relative_support_y"
   ]
  },
  {
   "cell_type": "code",
   "execution_count": 18,
   "id": "0735f9cf",
   "metadata": {},
   "outputs": [],
   "source": [
    "#for idx, prediction in enumerate(predictions):\n",
    "#    print(f'Groundtruth: {Y_test[idx]}. Predicted: {prediction}')"
   ]
  },
  {
   "cell_type": "code",
   "execution_count": 20,
   "id": "b2e441e8",
   "metadata": {},
   "outputs": [
    {
     "data": {
      "text/plain": [
       "['/home/itaouil/workspace/aliengo_ws/src/aliengo_navigation/models/protocol3/relative/model_fl_relative_support_y.sav']"
      ]
     },
     "execution_count": 20,
     "metadata": {},
     "output_type": "execute_result"
    }
   ],
   "source": [
    "# Save model\n",
    "joblib.dump(model_fl_relative_support_y, \"/home/itaouil/workspace/aliengo_ws/src/aliengo_navigation/models/protocol3/relative/model_fl_relative_support_y.sav\")"
   ]
  },
  {
   "cell_type": "code",
   "execution_count": null,
   "id": "1bc1bcd8",
   "metadata": {},
   "outputs": [],
   "source": []
  }
 ],
 "metadata": {
  "kernelspec": {
   "display_name": "Python 3",
   "language": "python",
   "name": "python3"
  },
  "language_info": {
   "codemirror_mode": {
    "name": "ipython",
    "version": 3
   },
   "file_extension": ".py",
   "mimetype": "text/x-python",
   "name": "python",
   "nbconvert_exporter": "python",
   "pygments_lexer": "ipython3",
   "version": "3.6.12"
  }
 },
 "nbformat": 4,
 "nbformat_minor": 5
}
