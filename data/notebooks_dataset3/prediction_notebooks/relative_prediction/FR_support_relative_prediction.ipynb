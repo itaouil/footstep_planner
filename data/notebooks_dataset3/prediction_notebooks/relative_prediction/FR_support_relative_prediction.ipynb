{
 "cells": [
  {
   "cell_type": "code",
   "execution_count": 1,
   "id": "451d4fe7",
   "metadata": {},
   "outputs": [],
   "source": [
    "#!/usr/bin/env python3.6\n",
    "# -*- coding: utf-8 -*-"
   ]
  },
  {
   "cell_type": "code",
   "execution_count": 2,
   "id": "ca3647cb",
   "metadata": {},
   "outputs": [],
   "source": [
    "# Imports\n",
    "import sys\n",
    "import joblib\n",
    "import numpy as np\n",
    "from matplotlib import animation\n",
    "from IPython.display import HTML\n",
    "from matplotlib import pyplot as plt\n",
    "import mpl_toolkits.mplot3d.axes3d as p3"
   ]
  },
  {
   "cell_type": "code",
   "execution_count": 3,
   "id": "837a0e0f",
   "metadata": {},
   "outputs": [],
   "source": [
    "#np.random.seed(20)\n",
    "np.set_printoptions(threshold=sys.maxsize)"
   ]
  },
  {
   "cell_type": "code",
   "execution_count": 4,
   "id": "d20e1c7a",
   "metadata": {},
   "outputs": [],
   "source": [
    "%matplotlib inline"
   ]
  },
  {
   "cell_type": "code",
   "execution_count": 5,
   "id": "a5c8adb4",
   "metadata": {},
   "outputs": [
    {
     "name": "stdout",
     "output_type": "stream",
     "text": [
      "(27032, 27)\n",
      "(27032, 8)\n"
     ]
    }
   ],
   "source": [
    "%store -r X_motion_relative\n",
    "%store -r Y_motion_relative\n",
    "print(X_motion_relative.shape)\n",
    "print(Y_motion_relative.shape)"
   ]
  },
  {
   "cell_type": "markdown",
   "id": "7c8b6e3b",
   "metadata": {},
   "source": [
    "# Multivariate Linear Regression (Foot prediction)"
   ]
  },
  {
   "cell_type": "markdown",
   "id": "764d9fd3",
   "metadata": {},
   "source": [
    "The input will use initially only:\n",
    "\n",
    "- **HighCmd: fwd, side, rot speeds**\n",
    "- **HighState: fwd, side, rot speeds, footPosition2Body (FR)**\n",
    "\n",
    "and as output we seek to predict the following:\n",
    "\n",
    "- **footPosition2Body (FR)**"
   ]
  },
  {
   "cell_type": "code",
   "execution_count": 6,
   "id": "a3ef8793",
   "metadata": {},
   "outputs": [],
   "source": [
    "import sklearn\n",
    "from sklearn import metrics\n",
    "from sklearn.feature_selection import RFE\n",
    "from sklearn.model_selection import KFold\n",
    "from sklearn.linear_model import LinearRegression\n",
    "from sklearn.model_selection import train_test_split\n",
    "from sklearn.preprocessing import PolynomialFeatures \n",
    "from sklearn.model_selection import cross_val_score, cross_val_predict\n",
    "from sklearn.metrics import mean_squared_error, mean_absolute_error, r2_score"
   ]
  },
  {
   "cell_type": "code",
   "execution_count": 7,
   "id": "0c7f124d",
   "metadata": {},
   "outputs": [],
   "source": [
    "# Entries where FL foot is swinging\n",
    "idxs = np.where(X_motion_relative[:, 24] == 0)[0]\n",
    "X_motion_relative_FR_RL = X_motion_relative[idxs]\n",
    "Y_motion_relative_FR_RL = Y_motion_relative[idxs]"
   ]
  },
  {
   "cell_type": "markdown",
   "id": "d664f41f",
   "metadata": {},
   "source": [
    "## Predict FL foot -> x"
   ]
  },
  {
   "cell_type": "code",
   "execution_count": 8,
   "id": "0b5571d9",
   "metadata": {},
   "outputs": [
    {
     "data": {
      "text/plain": [
       "(13320, 27)"
      ]
     },
     "execution_count": 8,
     "metadata": {},
     "output_type": "execute_result"
    }
   ],
   "source": [
    "X_motion_relative_FR_RL.shape"
   ]
  },
  {
   "cell_type": "code",
   "execution_count": 9,
   "id": "da4eaf54",
   "metadata": {},
   "outputs": [
    {
     "data": {
      "text/plain": [
       "array([ 1.00000000e-01,  0.00000000e+00,  0.00000000e+00,  0.00000000e+00,\n",
       "        0.00000000e+00,  0.00000000e+00,  7.67128601e-27,  1.56430903e-26,\n",
       "        7.73122404e-03,  9.99970114e-01,  2.02702748e-04,  1.18196215e-04,\n",
       "        1.73000000e-01,  1.36000000e-01, -3.40000000e-01,  2.06000000e-01,\n",
       "       -1.35000000e-01, -3.39000000e-01, -2.68000000e-01,  1.36000000e-01,\n",
       "       -3.40000000e-01, -2.92000000e-01, -1.36000000e-01, -3.40000000e-01,\n",
       "        0.00000000e+00,  1.00000000e+00,  1.63241605e+09])"
      ]
     },
     "execution_count": 9,
     "metadata": {},
     "output_type": "execute_result"
    }
   ],
   "source": [
    "X_motion_relative_FR_RL[0, :]"
   ]
  },
  {
   "cell_type": "code",
   "execution_count": 10,
   "id": "aa8025cf",
   "metadata": {},
   "outputs": [
    {
     "data": {
      "text/plain": [
       "array([ 0.029, -0.004, -0.027, -0.002, -0.025,  0.001,  0.02 , -0.001])"
      ]
     },
     "execution_count": 10,
     "metadata": {},
     "output_type": "execute_result"
    }
   ],
   "source": [
    "Y_motion_relative_FR_RL[0, :]"
   ]
  },
  {
   "cell_type": "markdown",
   "id": "95f241bc",
   "metadata": {},
   "source": [
    "### Linear Regression"
   ]
  },
  {
   "cell_type": "code",
   "execution_count": 11,
   "id": "2666118d",
   "metadata": {},
   "outputs": [
    {
     "name": "stdout",
     "output_type": "stream",
     "text": [
      "R2:  0.9705442770854105\n",
      "RMSE:  0.008374239664338532\n",
      "The lowest error is:  1.3105057610866833e-06\n",
      "The highest error is:  0.09283322072397153\n",
      "The avg. error is:  0.0038649393629247098\n"
     ]
    }
   ],
   "source": [
    "# Input\n",
    "#X = np.hstack((X_motion_relative_FR_RL[:, :2], np.array([X_motion_relative_FR_RL[:, 5]]).T,\n",
    "#               X_motion_relative_FR_RL[:, 6:8], np.array([X_motion_relative_FR_RL[:, 11]]).T,\n",
    "#               np.array([X_motion_relative_FR_RL[:, 12]]).T, np.array([X_motion_relative_FR_RL[:, 15]]).T))\n",
    "#X = np.hstack((X_motion_relative_FR_RL[:, :2], np.array([X_motion_relative_FR_RL[:, 5]]).T,\n",
    "#               np.array([X_motion_relative_FR_RL[:, 12]]).T, np.array([X_motion_relative_FR_RL[:, 15]]).T))\n",
    "X = np.hstack((X_motion_relative_FR_RL[:, :2],\n",
    "               np.array([X_motion_relative_FR_RL[:, 5]]).T,\n",
    "               X_motion_relative_FR_RL[:, 12:14],\n",
    "               X_motion_relative_FR_RL[:, 15:17],\n",
    "               X_motion_relative_FR_RL[:, 18:20],\n",
    "               X_motion_relative_FR_RL[:, 21:23]))\n",
    "\n",
    "# Target\n",
    "Y = np.array([Y_motion_relative_FR_RL[:, 2]]).T\n",
    "\n",
    "assert Y.shape[0] == X.shape[0]\n",
    "\n",
    "# Split data into train and test set\n",
    "X_train, X_test, Y_train, Y_test = train_test_split(X, Y, train_size = 0.8, shuffle=True, random_state=100)\n",
    "\n",
    "# Create the model\n",
    "model_fr_relative_support_x = LinearRegression()\n",
    "\n",
    "# Fit the model\n",
    "model_fr_relative_support_x.fit(X_train, Y_train)\n",
    "\n",
    "# Predict\n",
    "predictions = model_fr_relative_support_x.predict(X_test)\n",
    "\n",
    "# Stats\n",
    "print('R2: ', r2_score(predictions, Y_test))\n",
    "print('RMSE: ', np.sqrt(mean_squared_error(Y_test, predictions)))\n",
    "print(\"The lowest error is: \", np.min(np.abs(predictions - Y_test)))\n",
    "print(\"The highest error is: \", np.max(np.abs(predictions - Y_test)))\n",
    "print(\"The avg. error is: \", np.mean(np.abs(predictions - Y_test)))\n",
    "#print(\"Seq of errors (descendant): \\n\", sorted(np.abs(predictions - Y_test).tolist(), reverse=True))"
   ]
  },
  {
   "cell_type": "code",
   "execution_count": 12,
   "id": "947e12a8",
   "metadata": {},
   "outputs": [
    {
     "data": {
      "text/plain": [
       "array([-0.00941408])"
      ]
     },
     "execution_count": 12,
     "metadata": {},
     "output_type": "execute_result"
    }
   ],
   "source": [
    "model_fr_relative_support_x.intercept_"
   ]
  },
  {
   "cell_type": "code",
   "execution_count": 13,
   "id": "243495e7",
   "metadata": {},
   "outputs": [
    {
     "data": {
      "text/plain": [
       "Text(0, 0.5, 'Predictions')"
      ]
     },
     "execution_count": 13,
     "metadata": {},
     "output_type": "execute_result"
    },
    {
     "data": {
      "image/png": "[encoded data removed]",
      "text/plain": [
       "<Figure size 432x288 with 1 Axes>"
      ]
     },
     "metadata": {
      "needs_background": "light"
     },
     "output_type": "display_data"
    }
   ],
   "source": [
    "## The line / model\n",
    "plt.scatter(Y_test, predictions)\n",
    "plt.xlabel(\"Ground truth\")\n",
    "plt.ylabel(\"Predictions\")"
   ]
  },
  {
   "cell_type": "code",
   "execution_count": 13,
   "id": "a10beaeb",
   "metadata": {},
   "outputs": [
    {
     "name": "stdout",
     "output_type": "stream",
     "text": [
      "Stored 'model_fr_relative_support_x' (LinearRegression)\n"
     ]
    }
   ],
   "source": [
    "%store model_fr_relative_support_x"
   ]
  },
  {
   "cell_type": "code",
   "execution_count": 14,
   "id": "205c5425",
   "metadata": {},
   "outputs": [],
   "source": [
    "#for idx, prediction in enumerate(predictions):\n",
    "#    print(f'Start: {X_test[idx, 6]}. Groundtruth: {Y_test[idx]}. Predicted: {prediction}')"
   ]
  },
  {
   "cell_type": "code",
   "execution_count": 15,
   "id": "0ecbcdf0",
   "metadata": {},
   "outputs": [
    {
     "data": {
      "text/plain": [
       "['/home/itaouil/workspace/aliengo_ws/src/aliengo_navigation/models/protocol3/relative/model_fr_relative_support_x.sav']"
      ]
     },
     "execution_count": 15,
     "metadata": {},
     "output_type": "execute_result"
    }
   ],
   "source": [
    "# Save model\n",
    "joblib.dump(model_fr_relative_support_x, \"/home/itaouil/workspace/aliengo_ws/src/aliengo_navigation/models/protocol3/relative/model_fr_relative_support_x.sav\")"
   ]
  },
  {
   "cell_type": "markdown",
   "id": "2f3b889a",
   "metadata": {},
   "source": [
    "### Predict FL foot -> y"
   ]
  },
  {
   "cell_type": "code",
   "execution_count": 14,
   "id": "6c1eec11",
   "metadata": {},
   "outputs": [
    {
     "name": "stdout",
     "output_type": "stream",
     "text": [
      "R2:  0.9833969490555458\n",
      "RMSE:  0.005940881935195772\n",
      "The lowest error is:  1.1955049329798184e-06\n",
      "The highest error is:  0.03295340588543254\n",
      "The avg. error is:  0.004249537248917952\n"
     ]
    }
   ],
   "source": [
    "# Input\n",
    "#X = np.hstack((X_motion_relative_FR_RL[:, :2], np.array([X_motion_relative_FR_RL[:, 5]]).T,\n",
    "#               X_motion_relative_FR_RL[:, 6:8], np.array([X_motion_relative_FR_RL[:, 11]]).T,\n",
    "#               np.array([X_motion_relative_FR_RL[:, 12]]).T, np.array([X_motion_relative_FR_RL[:, 15]]).T))\n",
    "#X = np.hstack((X_motion_relative_FR_RL[:, :2], np.array([X_motion_relative_FR_RL[:, 5]]).T,\n",
    "#               np.array([X_motion_relative_FR_RL[:, 12]]).T, np.array([X_motion_relative_FR_RL[:, 15]]).T))\n",
    "X = np.hstack((X_motion_relative_FR_RL[:, :2],\n",
    "               np.array([X_motion_relative_FR_RL[:, 5]]).T,\n",
    "               X_motion_relative_FR_RL[:, 12:14],\n",
    "               X_motion_relative_FR_RL[:, 15:17],\n",
    "               X_motion_relative_FR_RL[:, 18:20],\n",
    "               X_motion_relative_FR_RL[:, 21:23]))\n",
    "\n",
    "# Target\n",
    "Y = np.array([Y_motion_relative_FR_RL[:, 3]]).T\n",
    "\n",
    "assert Y.shape[0] == X.shape[0]\n",
    "\n",
    "# Split data into train and test set\n",
    "X_train, X_test, Y_train, Y_test = train_test_split(X, Y, train_size = 0.8, test_size=0.2, shuffle=True, random_state=100)\n",
    "\n",
    "# Create the model\n",
    "model_fr_relative_support_y = LinearRegression()\n",
    "\n",
    "# Fit the model\n",
    "model_fr_relative_support_y.fit(X_train, Y_train)\n",
    "\n",
    "# Predict\n",
    "predictions = model_fr_relative_support_y.predict(X_test)\n",
    "\n",
    "# Stats\n",
    "print('R2: ', r2_score(predictions, Y_test))\n",
    "print('RMSE: ', np.sqrt(mean_squared_error(Y_test, predictions)))\n",
    "print(\"The lowest error is: \", np.min(np.abs(predictions - Y_test)))\n",
    "print(\"The highest error is: \", np.max(np.abs(predictions - Y_test)))\n",
    "print(\"The avg. error is: \", np.mean(np.abs(predictions - Y_test)))\n",
    "#print(\"Seq of errors (descendant): \\n\", sorted(np.abs(predictions - Y_test).tolist(), reverse=True))"
   ]
  },
  {
   "cell_type": "code",
   "execution_count": 15,
   "id": "706ce820",
   "metadata": {},
   "outputs": [
    {
     "data": {
      "text/plain": [
       "array([-0.08364543])"
      ]
     },
     "execution_count": 15,
     "metadata": {},
     "output_type": "execute_result"
    }
   ],
   "source": [
    "model_fr_relative_support_y.intercept_"
   ]
  },
  {
   "cell_type": "code",
   "execution_count": 16,
   "id": "ea7232f2",
   "metadata": {},
   "outputs": [
    {
     "data": {
      "text/plain": [
       "Text(0, 0.5, 'Predictions')"
      ]
     },
     "execution_count": 16,
     "metadata": {},
     "output_type": "execute_result"
    },
    {
     "data": {
      "image/png": "[encoded data removed]",
      "text/plain": [
       "<Figure size 432x288 with 1 Axes>"
      ]
     },
     "metadata": {
      "needs_background": "light"
     },
     "output_type": "display_data"
    }
   ],
   "source": [
    "## The line / model\n",
    "plt.scatter(Y_test, predictions)\n",
    "plt.xlabel(\"Ground truth\")\n",
    "plt.ylabel(\"Predictions\")"
   ]
  },
  {
   "cell_type": "code",
   "execution_count": 18,
   "id": "42aee282",
   "metadata": {},
   "outputs": [
    {
     "name": "stdout",
     "output_type": "stream",
     "text": [
      "Stored 'model_fr_relative_support_y' (LinearRegression)\n"
     ]
    }
   ],
   "source": [
    "%store model_fr_relative_support_y"
   ]
  },
  {
   "cell_type": "code",
   "execution_count": 19,
   "id": "a0f73523",
   "metadata": {},
   "outputs": [],
   "source": [
    "#for idx, prediction in enumerate(predictions):\n",
    "#    print(f'Groundtruth: {Y_test[idx]}. Predicted: {prediction}')"
   ]
  },
  {
   "cell_type": "code",
   "execution_count": 20,
   "id": "9fde1413",
   "metadata": {},
   "outputs": [
    {
     "data": {
      "text/plain": [
       "['/home/itaouil/workspace/aliengo_ws/src/aliengo_navigation/models/protocol3/relative/model_fr_relative_support_y.sav']"
      ]
     },
     "execution_count": 20,
     "metadata": {},
     "output_type": "execute_result"
    }
   ],
   "source": [
    "# Save model\n",
    "joblib.dump(model_fr_relative_support_y, \"/home/itaouil/workspace/aliengo_ws/src/aliengo_navigation/models/protocol3/relative/model_fr_relative_support_y.sav\")"
   ]
  },
  {
   "cell_type": "code",
   "execution_count": null,
   "id": "174db203",
   "metadata": {},
   "outputs": [],
   "source": []
  }
 ],
 "metadata": {
  "kernelspec": {
   "display_name": "Python 3",
   "language": "python",
   "name": "python3"
  },
  "language_info": {
   "codemirror_mode": {
    "name": "ipython",
    "version": 3
   },
   "file_extension": ".py",
   "mimetype": "text/x-python",
   "name": "python",
   "nbconvert_exporter": "python",
   "pygments_lexer": "ipython3",
   "version": "3.6.12"
  }
 },
 "nbformat": 4,
 "nbformat_minor": 5
}
