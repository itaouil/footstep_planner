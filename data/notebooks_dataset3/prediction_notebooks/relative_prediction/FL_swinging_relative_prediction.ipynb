{
 "cells": [
  {
   "cell_type": "code",
   "execution_count": 2,
   "id": "a033cca0",
   "metadata": {},
   "outputs": [],
   "source": [
    "#!/usr/bin/env python3.6\n",
    "# -*- coding: utf-8 -*-"
   ]
  },
  {
   "cell_type": "code",
   "execution_count": 3,
   "id": "4a528281",
   "metadata": {},
   "outputs": [],
   "source": [
    "# Imports\n",
    "import sys\n",
    "import joblib\n",
    "import numpy as np\n",
    "from matplotlib import animation\n",
    "from IPython.display import HTML\n",
    "from matplotlib import pyplot as plt\n",
    "import mpl_toolkits.mplot3d.axes3d as p3"
   ]
  },
  {
   "cell_type": "code",
   "execution_count": 4,
   "id": "126c7d2b",
   "metadata": {},
   "outputs": [],
   "source": [
    "#np.random.seed(20)\n",
    "np.set_printoptions(threshold=sys.maxsize)"
   ]
  },
  {
   "cell_type": "code",
   "execution_count": 5,
   "id": "7ec4e305",
   "metadata": {},
   "outputs": [],
   "source": [
    "%matplotlib inline"
   ]
  },
  {
   "cell_type": "code",
   "execution_count": 6,
   "id": "4b176798",
   "metadata": {},
   "outputs": [
    {
     "name": "stdout",
     "output_type": "stream",
     "text": [
      "(27032, 27)\n",
      "(27032, 8)\n"
     ]
    }
   ],
   "source": [
    "%store -r X_motion_relative\n",
    "%store -r Y_motion_relative\n",
    "print(X_motion_relative.shape)\n",
    "print(Y_motion_relative.shape)"
   ]
  },
  {
   "cell_type": "markdown",
   "id": "8d92f5cf",
   "metadata": {},
   "source": [
    "# Multivariate Linear Regression (Foot prediction)"
   ]
  },
  {
   "cell_type": "markdown",
   "id": "06baa3be",
   "metadata": {},
   "source": [
    "The input will use initially only:\n",
    "\n",
    "- **HighCmd: fwd, side, rot speeds**\n",
    "- **HighState: fwd, side, rot speeds, footPosition2Body (FR)**\n",
    "\n",
    "and as output we seek to predict the following:\n",
    "\n",
    "- **footPosition2Body (FR)**"
   ]
  },
  {
   "cell_type": "code",
   "execution_count": 7,
   "id": "f02ac563",
   "metadata": {},
   "outputs": [],
   "source": [
    "import sklearn\n",
    "from sklearn import metrics\n",
    "from sklearn.feature_selection import RFE\n",
    "from sklearn.model_selection import KFold\n",
    "from sklearn.linear_model import LinearRegression\n",
    "from sklearn.model_selection import train_test_split\n",
    "from sklearn.preprocessing import PolynomialFeatures \n",
    "from sklearn.model_selection import cross_val_score, cross_val_predict\n",
    "from sklearn.metrics import mean_squared_error, mean_absolute_error, r2_score"
   ]
  },
  {
   "cell_type": "code",
   "execution_count": 8,
   "id": "a33f6b06",
   "metadata": {},
   "outputs": [],
   "source": [
    "# Entries where FL/RR are swinging\n",
    "idxs = np.where(X_motion_relative[:, 25] == 1)[0]\n",
    "X_motion_relative_FL_RR = X_motion_relative[idxs]\n",
    "Y_motion_relative_FL_RR = Y_motion_relative[idxs]"
   ]
  },
  {
   "cell_type": "markdown",
   "id": "8cc64330",
   "metadata": {},
   "source": [
    "## Predict FL foot -> x"
   ]
  },
  {
   "cell_type": "code",
   "execution_count": 9,
   "id": "0b0c26ab",
   "metadata": {},
   "outputs": [
    {
     "data": {
      "text/plain": [
       "(13320, 27)"
      ]
     },
     "execution_count": 9,
     "metadata": {},
     "output_type": "execute_result"
    }
   ],
   "source": [
    "X_motion_relative_FL_RR.shape"
   ]
  },
  {
   "cell_type": "code",
   "execution_count": 10,
   "id": "5adb808e",
   "metadata": {},
   "outputs": [
    {
     "data": {
      "text/plain": [
       "array([ 1.00000000e-01,  0.00000000e+00,  0.00000000e+00,  0.00000000e+00,\n",
       "        0.00000000e+00,  0.00000000e+00,  7.67128601e-27,  1.56430903e-26,\n",
       "        7.73122404e-03,  9.99970114e-01,  2.02702748e-04,  1.18196215e-04,\n",
       "        1.73000000e-01,  1.36000000e-01, -3.40000000e-01,  2.06000000e-01,\n",
       "       -1.35000000e-01, -3.39000000e-01, -2.68000000e-01,  1.36000000e-01,\n",
       "       -3.40000000e-01, -2.92000000e-01, -1.36000000e-01, -3.40000000e-01,\n",
       "        0.00000000e+00,  1.00000000e+00,  1.63241605e+09])"
      ]
     },
     "execution_count": 10,
     "metadata": {},
     "output_type": "execute_result"
    }
   ],
   "source": [
    "X_motion_relative_FL_RR[0, :]"
   ]
  },
  {
   "cell_type": "code",
   "execution_count": 11,
   "id": "4eaf91f0",
   "metadata": {},
   "outputs": [
    {
     "data": {
      "text/plain": [
       "array([ 0.029, -0.004, -0.027, -0.002, -0.025,  0.001,  0.02 , -0.001])"
      ]
     },
     "execution_count": 11,
     "metadata": {},
     "output_type": "execute_result"
    }
   ],
   "source": [
    "Y_motion_relative_FL_RR[0, :]"
   ]
  },
  {
   "cell_type": "markdown",
   "id": "99254fd7",
   "metadata": {},
   "source": [
    "### Linear Regression"
   ]
  },
  {
   "cell_type": "code",
   "execution_count": 12,
   "id": "4ce177ff",
   "metadata": {},
   "outputs": [
    {
     "name": "stdout",
     "output_type": "stream",
     "text": [
      "R2:  0.9928696714632981\n",
      "RMSE:  0.004585190462941332\n",
      "The lowest error is:  1.7811054421335015e-06\n",
      "The highest error is:  0.04670770951743761\n",
      "The avg. error is:  0.0021640157146875735\n"
     ]
    }
   ],
   "source": [
    "# Input\n",
    "#X = np.hstack((X_motion_relative_FL_RR[:, :2], np.array([X_motion_relative_FL_RR[:, 5]]).T,\n",
    "#               X_motion_relative_FL_RR[:, 6:8], np.array([X_motion_relative_FL_RR[:, 11]]).T,\n",
    "#               np.array([X_motion_relative_FL_RR[:, 12]]).T, np.array([X_motion_relative_FL_RR[:, 15]]).T))\n",
    "#X = np.hstack((X_motion_relative_FL_RR[:, :2], np.array([X_motion_relative_FL_RR[:, 5]]).T,\n",
    "#               np.array([X_motion_relative_FL_RR[:, 12]]).T, np.array([X_motion_relative_FL_RR[:, 15]]).T))\n",
    "X = np.hstack((X_motion_relative_FL_RR[:, :2],\n",
    "               np.array([X_motion_relative_FL_RR[:, 5]]).T,\n",
    "               X_motion_relative_FL_RR[:, 12:14],\n",
    "               X_motion_relative_FL_RR[:, 15:17],\n",
    "               X_motion_relative_FL_RR[:, 18:20],\n",
    "               X_motion_relative_FL_RR[:, 21:23]))\n",
    "\n",
    "# Target\n",
    "Y = np.array([Y_motion_relative_FL_RR[:, 0]]).T\n",
    "\n",
    "assert Y.shape[0] == X.shape[0]\n",
    "\n",
    "# Split data into train and test set\n",
    "X_train, X_test, Y_train, Y_test = train_test_split(X, Y, train_size = 0.8, shuffle=True, random_state=100)\n",
    "\n",
    "# Create the model\n",
    "model_fl_relative_swinging_x = LinearRegression()\n",
    "\n",
    "# Fit the model\n",
    "model_fl_relative_swinging_x.fit(X_train, Y_train)\n",
    "\n",
    "# Predict\n",
    "predictions = model_fl_relative_swinging_x.predict(X_test)\n",
    "\n",
    "# Stats\n",
    "print('R2: ', r2_score(predictions, Y_test))\n",
    "print('RMSE: ', np.sqrt(mean_squared_error(Y_test, predictions)))\n",
    "print(\"The lowest error is: \", np.min(np.abs(predictions - Y_test)))\n",
    "print(\"The highest error is: \", np.max(np.abs(predictions - Y_test)))\n",
    "print(\"The avg. error is: \", np.mean(np.abs(predictions - Y_test)))\n",
    "#print(\"Seq of errors (descendant): \\n\", sorted(np.abs(predictions - Y_test).tolist(), reverse=True))"
   ]
  },
  {
   "cell_type": "code",
   "execution_count": 13,
   "id": "656d04fa",
   "metadata": {},
   "outputs": [
    {
     "data": {
      "text/plain": [
       "array([[ 6.08753071e-02,  6.28929714e-05, -2.90609271e-03,\n",
       "        -1.17379331e+00, -3.66375512e-04, -1.14463525e-01,\n",
       "         1.28952202e-03,  3.68869541e-01,  6.65510669e-02,\n",
       "         5.20313892e-02, -4.48244769e-03]])"
      ]
     },
     "execution_count": 13,
     "metadata": {},
     "output_type": "execute_result"
    }
   ],
   "source": [
    "model_fl_relative_swinging_x.coef_"
   ]
  },
  {
   "cell_type": "code",
   "execution_count": 14,
   "id": "fe86d863",
   "metadata": {},
   "outputs": [
    {
     "data": {
      "text/plain": [
       "array([0.35277527])"
      ]
     },
     "execution_count": 14,
     "metadata": {},
     "output_type": "execute_result"
    }
   ],
   "source": [
    "model_fl_relative_swinging_x.intercept_"
   ]
  },
  {
   "cell_type": "code",
   "execution_count": 17,
   "id": "1a20d16a",
   "metadata": {},
   "outputs": [
    {
     "data": {
      "text/plain": [
       "Text(0, 0.5, 'Predictions')"
      ]
     },
     "execution_count": 17,
     "metadata": {},
     "output_type": "execute_result"
    },
    {
     "data": {
      "image/png": "[encoded data removed]",
      "text/plain": [
       "<Figure size 432x288 with 1 Axes>"
      ]
     },
     "metadata": {
      "needs_background": "light"
     },
     "output_type": "display_data"
    }
   ],
   "source": [
    "## The line / model\n",
    "plt.scatter(Y_test, predictions)\n",
    "plt.xlabel(\"Ground truth\")\n",
    "plt.ylabel(\"Predictions\")"
   ]
  },
  {
   "cell_type": "code",
   "execution_count": 16,
   "id": "ee24d57a",
   "metadata": {},
   "outputs": [
    {
     "name": "stdout",
     "output_type": "stream",
     "text": [
      "Stored 'model_fl_relative_swinging_x' (LinearRegression)\n"
     ]
    }
   ],
   "source": [
    "%store model_fl_relative_swinging_x"
   ]
  },
  {
   "cell_type": "code",
   "execution_count": 16,
   "id": "012cd412",
   "metadata": {},
   "outputs": [],
   "source": [
    "#for idx, prediction in enumerate(predictions):\n",
    "#    print(f'Start: {X_test[idx, 6]}. Groundtruth: {Y_test[idx]}. Predicted: {prediction}')"
   ]
  },
  {
   "cell_type": "code",
   "execution_count": 17,
   "id": "46f537fa",
   "metadata": {},
   "outputs": [
    {
     "data": {
      "text/plain": [
       "['/home/itaouil/workspace/aliengo_ws/src/aliengo_navigation/models/protocol3/relative/model_fl_relative_swinging_x.sav']"
      ]
     },
     "execution_count": 17,
     "metadata": {},
     "output_type": "execute_result"
    }
   ],
   "source": [
    "# Save model\n",
    "joblib.dump(model_fl_relative_swinging_x, \"/home/itaouil/workspace/aliengo_ws/src/aliengo_navigation/models/protocol3/relative/model_fl_relative_swinging_x.sav\")"
   ]
  },
  {
   "cell_type": "markdown",
   "id": "05b6723e",
   "metadata": {},
   "source": [
    "### Predict FL foot -> y"
   ]
  },
  {
   "cell_type": "code",
   "execution_count": 18,
   "id": "09c878c4",
   "metadata": {},
   "outputs": [
    {
     "name": "stdout",
     "output_type": "stream",
     "text": [
      "R2:  0.9945025992769807\n",
      "RMSE:  0.004029504718301324\n",
      "The lowest error is:  1.5708103194844725e-06\n",
      "The highest error is:  0.029825782364089393\n",
      "The avg. error is:  0.002578344205410616\n"
     ]
    }
   ],
   "source": [
    "# Input\n",
    "#X = np.hstack((X_motion_relative_FL_RR[:, :2], np.array([X_motion_relative_FL_RR[:, 5]]).T,\n",
    "#               X_motion_relative_FL_RR[:, 6:8], np.array([X_motion_relative_FL_RR[:, 11]]).T,\n",
    "#               np.array([X_motion_relative_FL_RR[:, 12]]).T, np.array([X_motion_relative_FL_RR[:, 15]]).T))\n",
    "#X = np.hstack((X_motion_relative_FL_RR[:, :2], np.array([X_motion_relative_FL_RR[:, 5]]).T,\n",
    "#               np.array([X_motion_relative_FL_RR[:, 12]]).T, np.array([X_motion_relative_FL_RR[:, 15]]).T))\n",
    "X = np.hstack((X_motion_relative_FL_RR[:, :2],\n",
    "               np.array([X_motion_relative_FL_RR[:, 5]]).T,\n",
    "               X_motion_relative_FL_RR[:, 12:14],\n",
    "               X_motion_relative_FL_RR[:, 15:17],\n",
    "               X_motion_relative_FL_RR[:, 18:20],\n",
    "               X_motion_relative_FL_RR[:, 21:23]))\n",
    "# Target\n",
    "Y = np.array([Y_motion_relative_FL_RR[:, 1]]).T\n",
    "\n",
    "assert Y.shape[0] == X.shape[0]\n",
    "\n",
    "# Split data into train and test set\n",
    "X_train, X_test, Y_train, Y_test = train_test_split(X, Y, train_size = 0.8, test_size=0.2, shuffle=True, random_state=100)\n",
    "\n",
    "# Create the model\n",
    "model_fl_relative_swinging_y = LinearRegression()\n",
    "\n",
    "# Fit the model\n",
    "model_fl_relative_swinging_y.fit(X_train, Y_train)\n",
    "\n",
    "# Predict\n",
    "predictions = model_fl_relative_swinging_y.predict(X_test)\n",
    "\n",
    "# Stats\n",
    "print('R2: ', r2_score(predictions, Y_test))\n",
    "print('RMSE: ', np.sqrt(mean_squared_error(Y_test, predictions)))\n",
    "print(\"The lowest error is: \", np.min(np.abs(predictions - Y_test)))\n",
    "print(\"The highest error is: \", np.max(np.abs(predictions - Y_test)))\n",
    "print(\"The avg. error is: \", np.mean(np.abs(predictions - Y_test)))\n",
    "#print(\"Seq of errors (descendant): \\n\", sorted(np.abs(predictions - Y_test).tolist(), reverse=True))"
   ]
  },
  {
   "cell_type": "code",
   "execution_count": 19,
   "id": "8fc8c4fb",
   "metadata": {},
   "outputs": [
    {
     "data": {
      "text/plain": [
       "array([[ 6.08753071e-02,  6.28929714e-05, -2.90609271e-03,\n",
       "        -1.17379331e+00, -3.66375512e-04, -1.14463525e-01,\n",
       "         1.28952202e-03,  3.68869541e-01,  6.65510669e-02,\n",
       "         5.20313892e-02, -4.48244769e-03]])"
      ]
     },
     "execution_count": 19,
     "metadata": {},
     "output_type": "execute_result"
    }
   ],
   "source": [
    "model_fl_relative_swinging_x.coef_"
   ]
  },
  {
   "cell_type": "code",
   "execution_count": 20,
   "id": "679548a0",
   "metadata": {},
   "outputs": [
    {
     "data": {
      "text/plain": [
       "array([0.04983661])"
      ]
     },
     "execution_count": 20,
     "metadata": {},
     "output_type": "execute_result"
    }
   ],
   "source": [
    "model_fl_relative_swinging_y.intercept_"
   ]
  },
  {
   "cell_type": "code",
   "execution_count": 22,
   "id": "72e6fb43",
   "metadata": {},
   "outputs": [
    {
     "data": {
      "text/plain": [
       "Text(0, 0.5, 'Predictions')"
      ]
     },
     "execution_count": 22,
     "metadata": {},
     "output_type": "execute_result"
    },
    {
     "data": {
      "image/png": "[encoded data removed]",
      "text/plain": [
       "<Figure size 432x288 with 1 Axes>"
      ]
     },
     "metadata": {
      "needs_background": "light"
     },
     "output_type": "display_data"
    }
   ],
   "source": [
    "## The line / model\n",
    "plt.scatter(Y_test, predictions)\n",
    "plt.xlabel(\"Ground truth\")\n",
    "plt.ylabel(\"Predictions\")"
   ]
  },
  {
   "cell_type": "code",
   "execution_count": 20,
   "id": "f629ef65",
   "metadata": {},
   "outputs": [
    {
     "name": "stdout",
     "output_type": "stream",
     "text": [
      "Stored 'model_fl_relative_swinging_y' (LinearRegression)\n"
     ]
    }
   ],
   "source": [
    "%store model_fl_relative_swinging_y"
   ]
  },
  {
   "cell_type": "code",
   "execution_count": 22,
   "id": "23bf9e07",
   "metadata": {},
   "outputs": [
    {
     "data": {
      "text/plain": [
       "['/home/itaouil/workspace/aliengo_ws/src/aliengo_navigation/models/protocol3/relative/model_fl_relative_swinging_y.sav']"
      ]
     },
     "execution_count": 22,
     "metadata": {},
     "output_type": "execute_result"
    }
   ],
   "source": [
    "# Save model\n",
    "joblib.dump(model_fl_relative_swinging_y, \"/home/itaouil/workspace/aliengo_ws/src/aliengo_navigation/models/protocol3/relative/model_fl_relative_swinging_y.sav\")"
   ]
  },
  {
   "cell_type": "code",
   "execution_count": null,
   "id": "ed91c916",
   "metadata": {},
   "outputs": [],
   "source": []
  }
 ],
 "metadata": {
  "kernelspec": {
   "display_name": "Python 3",
   "language": "python",
   "name": "python3"
  },
  "language_info": {
   "codemirror_mode": {
    "name": "ipython",
    "version": 3
   },
   "file_extension": ".py",
   "mimetype": "text/x-python",
   "name": "python",
   "nbconvert_exporter": "python",
   "pygments_lexer": "ipython3",
   "version": "3.6.12"
  }
 },
 "nbformat": 4,
 "nbformat_minor": 5
}
