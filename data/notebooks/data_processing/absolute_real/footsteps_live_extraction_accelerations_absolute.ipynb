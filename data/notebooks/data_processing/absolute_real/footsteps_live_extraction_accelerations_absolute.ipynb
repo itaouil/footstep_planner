{
 "cells": [
  {
   "cell_type": "code",
   "execution_count": 1,
   "id": "d9a5959a",
   "metadata": {},
   "outputs": [],
   "source": [
    "#!/usr/bin/env python3.6\n",
    "# -*- coding: utf-8 -*-"
   ]
  },
  {
   "cell_type": "code",
   "execution_count": 2,
   "id": "ac7c32d9",
   "metadata": {},
   "outputs": [],
   "source": [
    "# Imports\n",
    "import sys\n",
    "import math\n",
    "import numpy as np\n",
    "from matplotlib import animation\n",
    "from IPython.display import HTML\n",
    "from matplotlib import pyplot as plt\n",
    "plt.rcParams['animation.ffmpeg_path'] = '/usr/bin/ffmpeg'\n",
    "import mpl_toolkits.mplot3d.axes3d as p3"
   ]
  },
  {
   "cell_type": "code",
   "execution_count": 3,
   "id": "64e0949c",
   "metadata": {},
   "outputs": [],
   "source": [
    "np.random.seed(20)\n",
    "np.set_printoptions(threshold=sys.maxsize)"
   ]
  },
  {
   "cell_type": "code",
   "execution_count": 4,
   "id": "aa749236",
   "metadata": {},
   "outputs": [],
   "source": [
    "%matplotlib inline"
   ]
  },
  {
   "cell_type": "markdown",
   "id": "61767ee3",
   "metadata": {},
   "source": [
    "# Data"
   ]
  },
  {
   "cell_type": "code",
   "execution_count": 5,
   "id": "68120c9a",
   "metadata": {},
   "outputs": [
    {
     "name": "stdout",
     "output_type": "stream",
     "text": [
      "Motion data has a length of  17967\n"
     ]
    }
   ],
   "source": [
    "# Read data\n",
    "path = '../../../data.csv'\n",
    "motion = np.genfromtxt(path, delimiter=',', dtype=np.float64)\n",
    "contacts = np.genfromtxt(path, delimiter=',', usecols=(56, 57), dtype=bool)\n",
    "print(\"Motion data has a length of \", len(motion))"
   ]
  },
  {
   "cell_type": "code",
   "execution_count": 6,
   "id": "1ce2aed0",
   "metadata": {},
   "outputs": [
    {
     "name": "stdout",
     "output_type": "stream",
     "text": [
      "(17967, 59)\n"
     ]
    }
   ],
   "source": [
    "print(motion.shape)"
   ]
  },
  {
   "cell_type": "markdown",
   "id": "adc073d2",
   "metadata": {},
   "source": [
    "# Dataset Preparation"
   ]
  },
  {
   "cell_type": "code",
   "execution_count": 7,
   "id": "29da014b",
   "metadata": {},
   "outputs": [],
   "source": [
    "import sklearn\n",
    "from sklearn.linear_model import LinearRegression\n",
    "from sklearn.model_selection import train_test_split"
   ]
  },
  {
   "cell_type": "code",
   "execution_count": 17,
   "id": "6ce417dc-9b1b-4cbc-a946-f415055ce7c5",
   "metadata": {},
   "outputs": [],
   "source": [
    "def yaw_from_quaternion(Q):\n",
    "    \"\"\"\n",
    "    Covert a quaternion into a full three-dimensional rotation matrix.\n",
    " \n",
    "    Input\n",
    "    :param Q: A 4 element array representing the quaternion (q0,q1,q2,q3) \n",
    " \n",
    "    Output\n",
    "    :return: A 3x3 element matrix representing the full 3D rotation matrix. \n",
    "             This rotation matrix converts a point in the local reference \n",
    "             frame to a point in the global reference frame.\n",
    "    \"\"\"\n",
    "    # Extract the values from Q\n",
    "    x = Q[0]\n",
    "    y = Q[1]\n",
    "    z = Q[2]\n",
    "    w = Q[3]\n",
    "     \n",
    "    return np.arctan2(2 * (w*z + x*y), 1 - 2 * (y*y + z*z))"
   ]
  },
  {
   "cell_type": "code",
   "execution_count": 18,
   "id": "eb9bdb87",
   "metadata": {},
   "outputs": [],
   "source": [
    "def quaternion_rotation_matrix(Q):\n",
    "    \"\"\"\n",
    "    Covert a quaternion into a full three-dimensional rotation matrix.\n",
    " \n",
    "    Input\n",
    "    :param Q: A 4 element array representing the quaternion (q0,q1,q2,q3) \n",
    " \n",
    "    Output\n",
    "    :return: A 3x3 element matrix representing the full 3D rotation matrix. \n",
    "             This rotation matrix converts a point in the local reference \n",
    "             frame to a point in the global reference frame.\n",
    "    \"\"\"\n",
    "    # Extract the values from Q\n",
    "    q0 = Q[3]\n",
    "    q1 = Q[0]\n",
    "    q2 = Q[1]\n",
    "    q3 = Q[2]\n",
    "     \n",
    "    # First row of the rotation matrix\n",
    "    r00 = 2 * (q0 * q0 + q1 * q1) - 1\n",
    "    r01 = 2 * (q1 * q2 - q0 * q3)\n",
    "    r02 = 2 * (q1 * q3 + q0 * q2)\n",
    "     \n",
    "    # Second row of the rotation matrix\n",
    "    r10 = 2 * (q1 * q2 + q0 * q3)\n",
    "    r11 = 2 * (q0 * q0 + q2 * q2) - 1\n",
    "    r12 = 2 * (q2 * q3 - q0 * q1)\n",
    "     \n",
    "    # Third row of the rotation matrix\n",
    "    r20 = 2 * (q1 * q3 - q0 * q2)\n",
    "    r21 = 2 * (q2 * q3 + q0 * q1)\n",
    "    r22 = 2 * (q0 * q0 + q3 * q3) - 1\n",
    "     \n",
    "    # 3x3 rotation matrix\n",
    "    rot_matrix = np.array([[r00, r01, r02],\n",
    "                           [r10, r11, r12],\n",
    "                           [r20, r21, r22]])\n",
    "                            \n",
    "    return rot_matrix"
   ]
  },
  {
   "cell_type": "code",
   "execution_count": 34,
   "id": "07edd25c",
   "metadata": {},
   "outputs": [
    {
     "name": "stdout",
     "output_type": "stream",
     "text": [
      "(17248, 24)\n",
      "(17248, 4)\n"
     ]
    }
   ],
   "source": [
    "def get_accelerations_footstep_dataset(dataset, footsteps, debug=False):\n",
    "    idx = 1\n",
    "    inputs = []\n",
    "    labels = []\n",
    "    \n",
    "    while idx < len(footsteps):\n",
    "        if idx > 0:\n",
    "            # Compute time difference between footsteps\n",
    "            time_difference = abs(dataset[footsteps[idx], 0] - dataset[footsteps[idx-1], 0])\n",
    "            \n",
    "            # Round velocity array\n",
    "            dataset[footsteps[idx-2], 1:4] = np.round(dataset[footsteps[idx-2], 1:4], 1)\n",
    "            dataset[footsteps[idx-1], 1:4] = np.round(dataset[footsteps[idx-1], 1:4], 1)\n",
    "            \n",
    "            # Skip if data switch\n",
    "            if dataset[footsteps[idx], -1] != dataset[footsteps[idx-1], -1]:\n",
    "                idx += 2\n",
    "                continue\n",
    "            \n",
    "            # Continuous data\n",
    "            if dataset[footsteps[idx], -1] == 0:\n",
    "                # If accelerating from 0.0 skip the first two steps\n",
    "                if dataset[footsteps[idx-2], 1] == 0.0:\n",
    "                    idx += 2\n",
    "                    continue\n",
    "                \n",
    "                # If actual velocity is 0.0 skip\n",
    "                if dataset[footsteps[idx-1], 1] == 0.0:\n",
    "                    idx += 1\n",
    "                    continue\n",
    "                    \n",
    "                # If different velocities (non-zero) skip\n",
    "                if dataset[footsteps[idx-2], 1] != dataset[footsteps[idx-1], 1]:\n",
    "                    idx += 3\n",
    "                    continue\n",
    "                \n",
    "            if time_difference < 0.4:\n",
    "                fl_rr_moving = contacts[footsteps[idx], 0]\n",
    "                fr_rl_moving = contacts[footsteps[idx], 1]\n",
    "                if fl_rr_moving == fr_rl_moving:\n",
    "                    idx += 1\n",
    "                    continue\n",
    "                    \n",
    "                # Compute rotation matrix incurred\n",
    "                R_curr = quaternion_rotation_matrix(dataset[footsteps[idx], 39:43])\n",
    "\n",
    "                # Retrieve base poses in world frame\n",
    "                prev_base = dataset[footsteps[idx-1], 16:19]\n",
    "                curr_base = dataset[footsteps[idx], 16:19]\n",
    "\n",
    "                # Compute world displacement\n",
    "                world_displacement = curr_base - prev_base\n",
    "\n",
    "                # Compute base displacement\n",
    "                base_displacement = np.dot(R_curr.T, world_displacement)\n",
    "\n",
    "                # Compute yaw displacement\n",
    "                prev_yaw = yaw_from_quaternion(dataset[footsteps[idx-1], 39:43])\n",
    "                curr_yaw = yaw_from_quaternion(dataset[footsteps[idx], 39:43])\n",
    "                yaw = curr_yaw - prev_yaw\n",
    "\n",
    "                #print(f\"{dataset[footsteps[idx-2], 1]}->{dataset[footsteps[idx-1], 1]}->{dataset[footsteps[idx], 1]}. {dataset[footsteps[idx-2], 19]}->{dataset[footsteps[idx-1], 19]}->->{dataset[footsteps[idx], 19]}\")\n",
    "                \n",
    "                inputs.append(dataset[footsteps[idx-1], 1:4].tolist() + # previous cmd\n",
    "                              dataset[footsteps[idx], 1:4].tolist() + # current cmd\n",
    "                              dataset[footsteps[idx-1], 19:23].tolist() + # current velocity\n",
    "                              dataset[footsteps[idx-1], 4:16].tolist() + # feet position w.r.t CoM\n",
    "                              [fl_rr_moving, fr_rl_moving]) # swiging booleans\n",
    "                \n",
    "                if fl_rr_moving:\n",
    "                    # FL vectors\n",
    "                    prev_fl = np.array([[dataset[footsteps[idx-1], 4], dataset[footsteps[idx-1], 5], 0]])\n",
    "                    curr_fl = np.array([[dataset[footsteps[idx], 4], dataset[footsteps[idx], 5], 0]])\n",
    "\n",
    "                    # RR vectors\n",
    "                    prev_rr = np.array([[dataset[footsteps[idx-1], 13], dataset[footsteps[idx-1], 14], 0]])\n",
    "                    curr_rr = np.array([[dataset[footsteps[idx], 13], dataset[footsteps[idx], 14], 0]])\n",
    "\n",
    "                    # Feet displacements\n",
    "                    fl_displacement = (curr_fl - prev_fl) + base_displacement\n",
    "                    rr_displacement = (curr_rr - prev_rr) + base_displacement\n",
    "\n",
    "                    labels.append([fl_displacement[0,0], fl_displacement[0,1], rr_displacement[0,0], rr_displacement[0,1]])\n",
    "                else:\n",
    "                    # FR vectors\n",
    "                    prev_fr = np.array([[dataset[footsteps[idx-1], 7], dataset[footsteps[idx-1], 8], 0]])\n",
    "                    curr_fr = np.array([[dataset[footsteps[idx], 7], dataset[footsteps[idx], 8], 0]])\n",
    "\n",
    "                    # RL vectors\n",
    "                    prev_rl = np.array([[dataset[footsteps[idx-1], 10], dataset[footsteps[idx-1], 11], 0]])\n",
    "                    curr_rl = np.array([[dataset[footsteps[idx], 10], dataset[footsteps[idx], 11], 0]])\n",
    "\n",
    "                    # Feet displacements\n",
    "                    fr_displacement = (curr_fr - prev_fr) + base_displacement\n",
    "                    rl_displacement = (curr_rl - prev_rl) + base_displacement\n",
    "\n",
    "                    labels.append([fr_displacement[0,0], fr_displacement[0,1], rl_displacement[0,0], rl_displacement[0,1]])\n",
    "            \n",
    "        idx += 1\n",
    "        \n",
    "    # Convert to numpy array\n",
    "    inputs_numpy = np.array(inputs)\n",
    "    labels_numpy = np.array(labels)\n",
    "    \n",
    "    return inputs_numpy, labels_numpy\n",
    "\n",
    "# Stack datasets\n",
    "X_footsteps_accelerations_absolute, Y_footsteps_accelerations_absolute = get_accelerations_footstep_dataset(motion, np.array([x for x in range(len(motion))]))\n",
    "\n",
    "# Log\n",
    "print(X_footsteps_accelerations_absolute.shape)\n",
    "print(Y_footsteps_accelerations_absolute.shape)"
   ]
  },
  {
   "cell_type": "code",
   "execution_count": 35,
   "id": "2f407634",
   "metadata": {},
   "outputs": [
    {
     "name": "stdout",
     "output_type": "stream",
     "text": [
      "Stored 'X_footsteps_accelerations_absolute' (ndarray)\n",
      "Stored 'Y_footsteps_accelerations_absolute' (ndarray)\n"
     ]
    }
   ],
   "source": [
    "%store X_footsteps_accelerations_absolute\n",
    "%store Y_footsteps_accelerations_absolute"
   ]
  },
  {
   "cell_type": "code",
   "execution_count": 28,
   "id": "97f95c30-5791-4b60-a030-3782077b6a0a",
   "metadata": {},
   "outputs": [
    {
     "data": {
      "text/plain": [
       "array([ 0.05770308, -0.0106103 ,  0.05375661, -0.00291052])"
      ]
     },
     "execution_count": 28,
     "metadata": {},
     "output_type": "execute_result"
    }
   ],
   "source": [
    "Y_footsteps_accelerations_absolute[1]"
   ]
  },
  {
   "cell_type": "code",
   "execution_count": 29,
   "id": "ee6772aa-183f-4b2c-bdd7-8e4dd326c9a3",
   "metadata": {},
   "outputs": [
    {
     "data": {
      "text/plain": [
       "array([ 0.7       ,  0.        ,  0.        ,  0.7       ,  0.        ,\n",
       "        0.        ,  0.54621011,  0.00358316, -0.035748  ,  0.07663938,\n",
       "        0.16613095,  0.13804941, -0.36663896,  0.33435905, -0.13166621,\n",
       "       -0.36517593, -0.16972575,  0.13305146, -0.3704311 , -0.32613912,\n",
       "       -0.13068759, -0.37726945,  1.        ,  0.        ])"
      ]
     },
     "execution_count": 29,
     "metadata": {},
     "output_type": "execute_result"
    }
   ],
   "source": [
    "X_footsteps_accelerations_absolute[10001, :]"
   ]
  },
  {
   "cell_type": "code",
   "execution_count": 30,
   "id": "917dd038-78f7-4ad9-ba7d-24e8d1e1f965",
   "metadata": {},
   "outputs": [],
   "source": [
    "dic = dict()\n",
    "for x in range(len(X_footsteps_accelerations_absolute)):\n",
    "    key = str(round(X_footsteps_accelerations_absolute[x, 0], 1)) + str(round(X_footsteps_accelerations_absolute[x, 3], 1))\n",
    "    if key in dic:\n",
    "        dic[key][0].append(Y_footsteps_accelerations_absolute[x, 0])\n",
    "        dic[key][1].append(X_footsteps_accelerations_absolute[x, 6])\n",
    "        dic[key][2].append((X_footsteps_accelerations_absolute[x, 10],\n",
    "                            X_footsteps_accelerations_absolute[x, 13]))\n",
    "    else:\n",
    "        dic[key] = [[Y_footsteps_accelerations_absolute[x, 0]], \n",
    "                    [X_footsteps_accelerations_absolute[x, 6]],\n",
    "                    [(X_footsteps_accelerations_absolute[x, 10],\n",
    "                      X_footsteps_accelerations_absolute[x, 13])]]\n"
   ]
  },
  {
   "cell_type": "code",
   "execution_count": 31,
   "id": "4bf7fd05-ff9b-4cfd-82bc-5ec2ab6f9550",
   "metadata": {},
   "outputs": [
    {
     "name": "stdout",
     "output_type": "stream",
     "text": [
      "Actual velocity: 0.9471216797828674. Displacement: 0.505480089698014\n",
      "Actual velocity: 0.9689745306968689. Displacement: 0.5433131505395576\n",
      "Actual velocity: 1.016649842262268. Displacement: 0.5385494797594627\n",
      "Actual velocity: 1.006981611251831. Displacement: 0.5202884059464359\n",
      "Actual velocity: 1.0346266031265259. Displacement: 0.5276918754033282\n",
      "Actual velocity: 0.958420991897583. Displacement: 0.5048306332175029\n",
      "Actual velocity: 0.9723762273788452. Displacement: 0.5262168299574622\n",
      "Actual velocity: 0.9737522602081299. Displacement: 0.5524260906062556\n",
      "Actual velocity: 1.0973589420318604. Displacement: 0.5739770570814112\n",
      "Actual velocity: 0.8558987379074097. Displacement: 0.4341427716104076\n",
      "Actual velocity: 0.8944050073623657. Displacement: 0.4690749504776357\n",
      "Actual velocity: 0.9866663217544556. Displacement: 0.5863826774598061\n",
      "Actual velocity: 1.0958809852600098. Displacement: 0.6067241072786922\n",
      "Actual velocity: 1.0264394283294678. Displacement: 0.5181136661520944\n",
      "Actual velocity: 0.4386655390262604. Displacement: 0.3777687972362568\n",
      "Actual velocity: 0.8731864094734192. Displacement: 0.48908856528086386\n",
      "Actual velocity: 1.0158144235610962. Displacement: 0.5396632381228608\n",
      "Actual velocity: 0.8999390006065369. Displacement: 0.46405264466811236\n",
      "Actual velocity: 0.9404077529907227. Displacement: 0.47125654836317343\n",
      "Actual velocity: 1.0072746276855469. Displacement: 0.5014312262871734\n",
      "Actual velocity: 0.9791512489318848. Displacement: 0.5207547859834001\n",
      "Actual velocity: 0.8460774421691895. Displacement: 0.43817655040794246\n",
      "Actual velocity: 0.7760792374610901. Displacement: 0.41319894012736436\n",
      "Actual velocity: 1.0141862630844116. Displacement: 0.5523387910484969\n",
      "Actual velocity: 0.9664325714111328. Displacement: 0.49164985885919876\n",
      "Actual velocity: 0.5926910638809204. Displacement: 0.43574195587472603\n",
      "Actual velocity: 0.9925233721733093. Displacement: 0.5297912721320114\n"
     ]
    }
   ],
   "source": [
    "for key in dic.keys():\n",
    "    #print(f\"{key[:3]} -> {key[3:]}. Mean: {np.round(np.mean(dic[key][0]), 4)}. Std: {np.round(np.std(dic[key][0]), 3)}.\")\n",
    "    if float(key[:3]) == 0.9 and float(key[3:]) == 0.4:\n",
    "        for x in range(len(dic[key][0])):\n",
    "            print(f\"Actual velocity: {dic[key][1][x]}. Displacement: {dic[key][0][x]}\")"
   ]
  },
  {
   "cell_type": "code",
   "execution_count": 22,
   "id": "0b91c103-4c1f-4840-8b3a-14e0e3803db8",
   "metadata": {},
   "outputs": [],
   "source": [
    "#for key in dic.keys():\n",
    "#    print(f\"Prev: {key[:3]}. Actual: {key[3:]}. \\n\\nDisp: {dic[key]}\\n\\n.\")"
   ]
  },
  {
   "cell_type": "code",
   "execution_count": 23,
   "id": "ae9488ea",
   "metadata": {},
   "outputs": [],
   "source": [
    "#for x in range(len(X_footsteps_accelerations_absolute)):\n",
    "#    print(f\"{X_footsteps_accelerations_absolute[x, 0]} -> {X_footsteps_accelerations_absolute[x, 3]}. Step: {np.round(Y_footsteps_accelerations_absolute[x, 0], 2)}. CoM: {np.round(X_footsteps_accelerations_absolute[x, -5:-4], 2)}. FL: {np.round(X_footsteps_accelerations_absolute[x, 10], 3)}. FR: {np.round(X_footsteps_accelerations_absolute[x, 13], 3)}. RL: {np.round(X_footsteps_accelerations_absolute[x, 16], 3)}. RR: {np.round(X_footsteps_accelerations_absolute[x, 19], 3)}\")"
   ]
  }
 ],
 "metadata": {
  "kernelspec": {
   "display_name": "Python 3 (ipykernel)",
   "language": "python",
   "name": "python3"
  },
  "language_info": {
   "codemirror_mode": {
    "name": "ipython",
    "version": 3
   },
   "file_extension": ".py",
   "mimetype": "text/x-python",
   "name": "python",
   "nbconvert_exporter": "python",
   "pygments_lexer": "ipython3",
   "version": "3.10.6"
  }
 },
 "nbformat": 4,
 "nbformat_minor": 5
}
