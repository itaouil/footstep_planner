{
 "cells": [
  {
   "cell_type": "code",
   "execution_count": 1,
   "id": "d9a5959a",
   "metadata": {},
   "outputs": [],
   "source": [
    "#!/usr/bin/env python3.6\n",
    "# -*- coding: utf-8 -*-"
   ]
  },
  {
   "cell_type": "code",
   "execution_count": 2,
   "id": "ac7c32d9",
   "metadata": {},
   "outputs": [],
   "source": [
    "# Imports\n",
    "import sys\n",
    "import math\n",
    "import copy\n",
    "import numpy as np\n",
    "from matplotlib import animation\n",
    "from IPython.display import HTML\n",
    "from matplotlib import pyplot as plt\n",
    "plt.rcParams['animation.ffmpeg_path'] = '/usr/bin/ffmpeg'\n",
    "import mpl_toolkits.mplot3d.axes3d as p3"
   ]
  },
  {
   "cell_type": "code",
   "execution_count": 3,
   "id": "64e0949c",
   "metadata": {},
   "outputs": [],
   "source": [
    "np.random.seed(20)\n",
    "np.set_printoptions(threshold=sys.maxsize)"
   ]
  },
  {
   "cell_type": "code",
   "execution_count": 4,
   "id": "aa749236",
   "metadata": {},
   "outputs": [],
   "source": [
    "%matplotlib inline"
   ]
  },
  {
   "cell_type": "markdown",
   "id": "61767ee3",
   "metadata": {},
   "source": [
    "# Data"
   ]
  },
  {
   "cell_type": "code",
   "execution_count": 24,
   "id": "68120c9a",
   "metadata": {},
   "outputs": [],
   "source": [
    "# Read data\n",
    "path = '../../../real_monica/lollll.csv'\n",
    "motion = np.genfromtxt(path, delimiter=',', dtype=np.float64)\n",
    "contacts = np.genfromtxt(path, delimiter=',', usecols=(46, 47), dtype=bool)"
   ]
  },
  {
   "cell_type": "code",
   "execution_count": 25,
   "id": "1ce2aed0",
   "metadata": {},
   "outputs": [
    {
     "name": "stdout",
     "output_type": "stream",
     "text": [
      "(18, 48)\n"
     ]
    }
   ],
   "source": [
    "print(motion.shape)"
   ]
  },
  {
   "cell_type": "markdown",
   "id": "adc073d2",
   "metadata": {},
   "source": [
    "# Dataset Preparation"
   ]
  },
  {
   "cell_type": "code",
   "execution_count": 26,
   "id": "29da014b",
   "metadata": {},
   "outputs": [],
   "source": [
    "import sklearn\n",
    "from sklearn.linear_model import LinearRegression\n",
    "from sklearn.model_selection import train_test_split"
   ]
  },
  {
   "cell_type": "code",
   "execution_count": 27,
   "id": "6ce417dc-9b1b-4cbc-a946-f415055ce7c5",
   "metadata": {},
   "outputs": [],
   "source": [
    "def yaw_from_quaternion(Q):\n",
    "    \"\"\"\n",
    "    Covert a quaternion into a full three-dimensional rotation matrix.\n",
    " \n",
    "    Input\n",
    "    :param Q: A 4 element array representing the quaternion (q0,q1,q2,q3) \n",
    " \n",
    "    Output\n",
    "    :return: A 3x3 element matrix representing the full 3D rotation matrix. \n",
    "             This rotation matrix converts a point in the local reference \n",
    "             frame to a point in the global reference frame.\n",
    "    \"\"\"\n",
    "    # Extract the values from Q\n",
    "    x = Q[0]\n",
    "    y = Q[1]\n",
    "    z = Q[2]\n",
    "    w = Q[3]\n",
    "     \n",
    "    return np.arctan2(2 * (w*z + x*y), 1 - 2 * (y*y + z*z))"
   ]
  },
  {
   "cell_type": "code",
   "execution_count": 28,
   "id": "eb9bdb87",
   "metadata": {},
   "outputs": [],
   "source": [
    "def quaternion_rotation_matrix(Q):\n",
    "    \"\"\"\n",
    "    Covert a quaternion into a full three-dimensional rotation matrix.\n",
    " \n",
    "    Input\n",
    "    :param Q: A 4 element array representing the quaternion (q0,q1,q2,q3) \n",
    " \n",
    "    Output\n",
    "    :return: A 3x3 element matrix representing the full 3D rotation matrix. \n",
    "             This rotation matrix converts a point in the local reference \n",
    "             frame to a point in the global reference frame.\n",
    "    \"\"\"\n",
    "    # Extract the values from Q\n",
    "    q0 = Q[3]\n",
    "    q1 = Q[0]\n",
    "    q2 = Q[1]\n",
    "    q3 = Q[2]\n",
    "     \n",
    "    # First row of the rotation matrix\n",
    "    r00 = 2 * (q0 * q0 + q1 * q1) - 1\n",
    "    r01 = 2 * (q1 * q2 - q0 * q3)\n",
    "    r02 = 2 * (q1 * q3 + q0 * q2)\n",
    "     \n",
    "    # Second row of the rotation matrix\n",
    "    r10 = 2 * (q1 * q2 + q0 * q3)\n",
    "    r11 = 2 * (q0 * q0 + q2 * q2) - 1\n",
    "    r12 = 2 * (q2 * q3 - q0 * q1)\n",
    "     \n",
    "    # Third row of the rotation matrix\n",
    "    r20 = 2 * (q1 * q3 - q0 * q2)\n",
    "    r21 = 2 * (q2 * q3 + q0 * q1)\n",
    "    r22 = 2 * (q0 * q0 + q3 * q3) - 1\n",
    "     \n",
    "    # 3x3 rotation matrix\n",
    "    rot_matrix = np.array([[r00, r01, r02],\n",
    "                           [r10, r11, r12],\n",
    "                           [r20, r21, r22]])\n",
    "                            \n",
    "    return rot_matrix"
   ]
  },
  {
   "cell_type": "code",
   "execution_count": 29,
   "id": "07edd25c",
   "metadata": {},
   "outputs": [
    {
     "name": "stdout",
     "output_type": "stream",
     "text": [
      "(17, 19)\n",
      "(17, 4)\n"
     ]
    }
   ],
   "source": [
    "def get_accelerations_footstep_dataset(dataset, footsteps, debug=False):\n",
    "    idx = 1\n",
    "    inputs = []\n",
    "    labels = []\n",
    "    \n",
    "    while idx < len(footsteps):\n",
    "        if idx > 0:\n",
    "            # Compute time difference between footsteps\n",
    "            time_difference = abs(dataset[footsteps[idx], 0] - dataset[footsteps[idx-1], 0])\n",
    "            \n",
    "            # Round velocity array\n",
    "            dataset[footsteps[idx-1], 1:4] = np.round(dataset[footsteps[idx-1], 1:4], 1)\n",
    "            dataset[footsteps[idx], 1:4] = np.round(dataset[footsteps[idx], 1:4], 1)\n",
    "            \n",
    "            if time_difference < 0.4:\n",
    "                fl_rr_moving = contacts[footsteps[idx], 0]\n",
    "                fr_rl_moving = contacts[footsteps[idx], 1]\n",
    "                \n",
    "                if fl_rr_moving == fr_rl_moving:\n",
    "                    print(\"Invalid footstep\")\n",
    "                    idx += 1\n",
    "                    continue\n",
    "                    \n",
    "                # Rotation matrices\n",
    "                R_curr = quaternion_rotation_matrix(dataset[footsteps[idx], 39:43])\n",
    "\n",
    "                # Retrieve base poses in world frame\n",
    "                prev_base = dataset[footsteps[idx-1], 16:19]\n",
    "                curr_base = dataset[footsteps[idx], 16:19]\n",
    "\n",
    "                # Compute base displacement\n",
    "                world_displacement = curr_base - prev_base\n",
    "                base_displacement = np.dot(R_curr.T, world_displacement)\n",
    "                \n",
    "                # Compute symmetric feet poses\n",
    "                symmetryc_feet_poses = copy.deepcopy(dataset[footsteps[idx], 4:16])\n",
    "                symmetryc_feet_poses[0], symmetryc_feet_poses[3] = symmetryc_feet_poses[3], symmetryc_feet_poses[0]\n",
    "                symmetryc_feet_poses[6], symmetryc_feet_poses[9] = symmetryc_feet_poses[9], symmetryc_feet_poses[6]\n",
    "                symmetryc_feet_poses[1], symmetryc_feet_poses[4] = symmetryc_feet_poses[4] * -1, symmetryc_feet_poses[1] * -1\n",
    "                symmetryc_feet_poses[7], symmetryc_feet_poses[10] = symmetryc_feet_poses[10] * -1, symmetryc_feet_poses[7] * -1\n",
    "                \n",
    "                # Add both real and symmetric entries\n",
    "                inputs.append(dataset[footsteps[idx-2], 1:2].tolist() +\n",
    "                              dataset[footsteps[idx-1], 1:2].tolist() +\n",
    "                              dataset[footsteps[idx], 1:2].tolist() +\n",
    "                              dataset[footsteps[idx-2], 19:20].tolist() +\n",
    "                              dataset[footsteps[idx-1], 19:20].tolist() +\n",
    "                              dataset[footsteps[idx], 4:16].tolist() + # feet position w.r.t CoM\n",
    "                              [fl_rr_moving, fr_rl_moving]) # swiging booleans\n",
    "                #inputs.append(dataset[footsteps[idx-2], 1:2].tolist() +\n",
    "                #              dataset[footsteps[idx-1], 1:2].tolist() +\n",
    "                #              dataset[footsteps[idx], 1:2].tolist() +\n",
    "                #              dataset[footsteps[idx-2], 19:20].tolist() +\n",
    "                #              dataset[footsteps[idx-1], 19:20].tolist() +\n",
    "                #              symmetryc_feet_poses.tolist() + # feet position w.r.t CoM\n",
    "                #              [not fl_rr_moving, not fr_rl_moving]) # swiging booleans\n",
    "                \n",
    "                if fl_rr_moving:\n",
    "                    fl_displacement = (dataset[footsteps[idx], 4:7] - dataset[footsteps[idx-1], 4:7]) + base_displacement\n",
    "                    rr_displacement = (dataset[footsteps[idx], 13:16] - dataset[footsteps[idx-1], 13:16]) + base_displacement\n",
    "                    labels.append([fl_displacement[0], fl_displacement[1], rr_displacement[0], rr_displacement[1]])\n",
    "                else:\n",
    "                    fr_displacement = (dataset[footsteps[idx], 7:10] - dataset[footsteps[idx-1], 7:10]) + base_displacement\n",
    "                    rl_displacement = (dataset[footsteps[idx], 10:13] - dataset[footsteps[idx-1], 10:13]) + base_displacement\n",
    "                    labels.append([fr_displacement[0], fr_displacement[1], rl_displacement[0], rl_displacement[1]])\n",
    "            \n",
    "        idx += 1\n",
    "        \n",
    "    # Convert to numpy array\n",
    "    inputs_numpy = np.array(inputs)\n",
    "    labels_numpy = np.array(labels)\n",
    "    \n",
    "    return inputs_numpy, labels_numpy\n",
    "\n",
    "# Stack datasets\n",
    "X_feet, Y_feet = get_accelerations_footstep_dataset(motion, np.array([x for x in range(len(motion))]))\n",
    "\n",
    "# Log\n",
    "print(X_feet.shape)\n",
    "print(Y_feet.shape)"
   ]
  },
  {
   "cell_type": "code",
   "execution_count": 30,
   "id": "2f407634",
   "metadata": {},
   "outputs": [
    {
     "name": "stdout",
     "output_type": "stream",
     "text": [
      "Stored 'X_feet' (ndarray)\n",
      "Stored 'Y_feet' (ndarray)\n"
     ]
    }
   ],
   "source": [
    "%store X_feet\n",
    "%store Y_feet"
   ]
  },
  {
   "cell_type": "code",
   "execution_count": 31,
   "id": "69b77ad6-0504-4465-9ae0-889f01dacc6f",
   "metadata": {},
   "outputs": [
    {
     "data": {
      "text/plain": [
       "array([ 0.00000000e+00,  0.00000000e+00,  1.00000000e+00, -2.90973820e-02,\n",
       "        1.25796039e-04,  2.45172217e-01,  1.25404999e-01, -3.87343675e-01,\n",
       "        2.35928282e-01, -1.27280042e-01, -3.84049505e-01, -2.62220621e-01,\n",
       "        1.26761913e-01, -3.93014103e-01, -2.55424798e-01, -1.28007352e-01,\n",
       "       -3.84997338e-01,  1.00000000e+00,  0.00000000e+00])"
      ]
     },
     "execution_count": 31,
     "metadata": {},
     "output_type": "execute_result"
    }
   ],
   "source": [
    "X_feet[0]"
   ]
  },
  {
   "cell_type": "code",
   "execution_count": 32,
   "id": "897663fc-f14c-4ec2-a456-aa572123aa2a",
   "metadata": {
    "tags": []
   },
   "outputs": [
    {
     "data": {
      "text/plain": [
       "0.6657420369635041"
      ]
     },
     "execution_count": 32,
     "metadata": {},
     "output_type": "execute_result"
    }
   ],
   "source": [
    "max(Y_feet[:, 2])"
   ]
  },
  {
   "cell_type": "code",
   "execution_count": 31,
   "id": "917dd038-78f7-4ad9-ba7d-24e8d1e1f965",
   "metadata": {},
   "outputs": [],
   "source": [
    "dic = dict()\n",
    "for x in range(len(X_feet)):\n",
    "    key = str(round(X_feet[x, 2], 1)) + str(round(X_feet[x, 0], 1))\n",
    "    if key in dic:\n",
    "        dic[key][0].append(Y_feet[x, 0])\n",
    "        dic[key][1].append(X_feet[x, 3])\n",
    "        dic[key][2].append(X_feet[x, 5:-1])\n",
    "        dic[key][3].append(X_feet[x, 4])\n",
    "    else:\n",
    "        dic[key] = [[Y_feet[x, 0]], \n",
    "                    [X_feet[x, 3]],\n",
    "                    [X_feet[x, 5:-1]],\n",
    "                    [X_feet[x, 4]]]"
   ]
  },
  {
   "cell_type": "code",
   "execution_count": 32,
   "id": "3641c5e4-9563-4829-ae98-70e57f9ca409",
   "metadata": {},
   "outputs": [
    {
     "data": {
      "text/plain": [
       "dict_keys(['0.10.0', '0.10.1', '0.20.1', '0.20.2', '0.30.2', '0.30.3', '0.00.3', '0.00.0', '0.30.0', '0.40.3', '0.40.4', '0.00.4', '0.40.0', '0.50.4', '0.50.5', '0.00.5', '0.50.0', '0.60.5', '0.60.6', '0.00.6', '0.60.0', '0.70.6', '0.70.7', '0.00.7', '0.70.0', '0.80.7', '0.80.8', '0.00.8', '0.80.0', '0.90.8', '0.90.9', '0.00.9', '0.90.0', '1.00.9', '1.01.0', '0.01.0', '1.00.0', '0.00.1', '0.10.2', '0.20.0', '0.30.1', '0.10.3', '0.40.1', '0.10.4', '0.50.1', '0.10.5', '0.60.1', '0.10.6', '0.70.1', '0.10.7', '0.80.1', '0.10.8', '0.90.1', '0.10.9', '1.00.1', '0.11.0', '0.21.0', '0.00.2', '0.20.3', '0.40.2', '0.20.4', '0.20.5', '0.50.2', '0.60.2', '0.20.6', '0.70.2', '0.20.7', '0.80.2', '0.20.8', '0.90.2', '0.20.9', '1.00.2', '0.31.0', '0.30.4', '0.50.3', '0.30.5', '0.60.3', '0.30.6', '0.70.3', '0.30.7', '0.80.3', '0.30.8', '0.30.9', '0.90.3', '1.00.3', '0.41.0', '0.40.5', '0.60.4', '0.40.6', '0.70.4', '0.40.7', '0.80.4', '0.40.8', '0.90.4', '0.40.9', '1.00.4', '0.51.0', '0.50.6', '0.50.7', '0.70.5', '0.80.5', '0.50.8', '0.90.5', '0.50.9', '1.00.5', '0.61.0', '0.60.7', '0.80.6', '0.60.8', '0.90.6', '0.60.9', '1.00.6', '0.71.0', '0.70.8', '0.90.7', '0.70.9', '1.00.7', '0.81.0', '0.80.9', '1.00.8', '0.91.0'])"
      ]
     },
     "execution_count": 32,
     "metadata": {},
     "output_type": "execute_result"
    }
   ],
   "source": [
    "dic.keys()"
   ]
  },
  {
   "cell_type": "code",
   "execution_count": 35,
   "id": "caff3214-92d1-4b0d-bd86-385c8febab3f",
   "metadata": {},
   "outputs": [
    {
     "name": "stdout",
     "output_type": "stream",
     "text": [
      "Vact-1: 1.07988870144. Vact: 0.958657503128. Disp: 0.5089812563676273. Feet (0.147807508707, 0.378802239895, -0.115225940943, -0.352996051311)\n",
      "\n",
      "Vact-1: 0.958657503128. Vact: 0.721605122089. Disp: 0.25450845576362624. Feet (0.27478915453, 0.239389777184, -0.257273077965, -0.218471363187)\n",
      "\n",
      "Vact-1: 0.908372402191. Vact: 1.06402742863. Disp: 0.5686254562856714. Feet (0.146677345037, 0.384011268616, -0.107770740986, -0.350291341543)\n",
      "\n",
      "Vact-1: 1.06402742863. Vact: 0.703643977642. Disp: 0.24666601054086962. Feet (0.271356582642, 0.253867149353, -0.240644872189, -0.221647530794)\n",
      "\n",
      "Vact-1: 0.828955292702. Vact: 1.10224843025. Disp: 0.600840864069665. Feet (0.116577737033, 0.393215507269, -0.108557015657, -0.369326621294)\n",
      "\n",
      "Vact-1: 1.10224843025. Vact: 0.76447725296. Disp: 0.2758982147470056. Feet (0.27502322197, 0.252768933773, -0.245411843061, -0.21960388124)\n",
      "\n",
      "Vact-1: 0.918410241604. Vact: 0.977657139301. Disp: 0.5603405224748433. Feet (0.136458218098, 0.381475508213, -0.11247074604, -0.347285091877)\n",
      "\n",
      "Vact-1: 0.977657139301. Vact: 0.705115973949. Disp: 0.28114394630955886. Feet (0.28319016099, 0.237910538912, -0.254129558802, -0.214415535331)\n",
      "\n",
      "Vact-1: 0.776969432831. Vact: 1.00738668442. Disp: 0.6001261020699529. Feet (0.106274485588, 0.409888774157, -0.0888717472553, -0.382696390152)\n",
      "\n",
      "Vact-1: 1.00738668442. Vact: 0.831900775433. Disp: 0.317202397217554. Feet (0.274231225252, 0.237317249179, -0.253013968468, -0.217069417238)\n",
      "\n",
      "Vact-1: 0.775410830975. Vact: 1.14057052135. Disp: 0.5763542988731734. Feet (0.137148484588, 0.390374034643, -0.105282813311, -0.345132410526)\n",
      "\n",
      "Vact-1: 1.14057052135. Vact: 0.738266944885. Disp: 0.2896564856336793. Feet (0.286303877831, 0.24051104486, -0.247147485614, -0.211407184601)\n",
      "\n",
      "Vact-1: 0.831507205963. Vact: 1.04562699795. Disp: 0.5779123925126921. Feet (0.134563744068, 0.39220148325, -0.107035070658, -0.345151782036)\n",
      "\n",
      "Vact-1: 1.04562699795. Vact: 0.70303696394. Disp: 0.2716416577273917. Feet (0.27565819025, 0.251559257507, -0.243646487594, -0.219945445657)\n",
      "\n",
      "Vact-1: 0.837506711483. Vact: 1.05602860451. Disp: 0.5677656924808134. Feet (0.367645740509, 0.143456965685, -0.345723360777, -0.126003652811)\n",
      "\n",
      "Vact-1: 1.05602860451. Vact: 0.631623804569. Disp: 0.24421348762514067. Feet (0.24447761476, 0.276163041592, -0.223988428712, -0.253758698702)\n",
      "\n",
      "Vact-1: 1.03295695782. Vact: 1.02928221226. Disp: 0.5216927672910054. Feet (0.15384927392, 0.374308645725, -0.12059327215, -0.342548787594)\n",
      "\n",
      "Vact-1: 1.02928221226. Vact: 0.716109216213. Disp: 0.2642671418529785. Feet (0.287355273962, 0.235915407538, -0.258486539125, -0.211781188846)\n",
      "\n",
      "Vact-1: 0.251906603575. Vact: 0.774701833725. Disp: 0.5545180790237847. Feet (0.36104118824, 0.0466707199812, -0.444550812244, -0.115971691906)\n",
      "\n",
      "Vact-1: 0.774701833725. Vact: 1.09611952305. Disp: 0.5794842890270726. Feet (0.111679464579, 0.392701864243, -0.105030119419, -0.368535190821)\n",
      "\n"
     ]
    }
   ],
   "source": [
    "for key in dic.keys():\n",
    "    #print(f\"{key[:3]} -> {key[3:]}. Mean: {np.round(np.mean(dic[key][0]), 4)}. Std: {np.round(np.std(dic[key][0]), 3)}.\")\n",
    "    if float(key[:3]) == 0.1 and float(key[3:]) == 0.9:\n",
    "        for x in range(len(dic[key][0])):\n",
    "            print(f\"Vact-1: {dic[key][1][x]}. Vact: {dic[key][3][x]}. Disp: {dic[key][0][x]}. Feet {dic[key][2][x][0], dic[key][2][x][3], dic[key][2][x][6], dic[key][2][x][9]}\\n\")"
   ]
  },
  {
   "cell_type": "code",
   "execution_count": 28,
   "id": "4bf7fd05-ff9b-4cfd-82bc-5ec2ab6f9550",
   "metadata": {},
   "outputs": [
    {
     "name": "stdout",
     "output_type": "stream",
     "text": [
      "Actual velocity: 1.00575757027. Displacement: 0.501730926551688\n",
      "Actual velocity: 1.0302220583. Displacement: 0.20609816850440466\n",
      "Actual velocity: 1.04301643372. Displacement: 0.48940695929380496\n",
      "Actual velocity: 1.01978051662. Displacement: 0.17994811578942338\n",
      "Actual velocity: 1.03763115406. Displacement: 0.49960796453393336\n",
      "Actual velocity: 1.01283991337. Displacement: 0.18663222145086056\n",
      "Actual velocity: 1.09900701046. Displacement: 0.5070157393725883\n",
      "Actual velocity: 1.0592675209. Displacement: 0.18621336883170003\n",
      "Actual velocity: 1.18395662308. Displacement: 0.4110976107402017\n",
      "Actual velocity: 0.654675364494. Displacement: 0.2918162838925773\n",
      "Actual velocity: 1.16679954529. Displacement: 0.4374827763005673\n",
      "Actual velocity: 0.831387758255. Displacement: 0.23600968000696682\n",
      "Actual velocity: 1.10759794712. Displacement: 0.44621475235397634\n",
      "Actual velocity: 1.07815289497. Displacement: 0.5032335493517595\n",
      "Actual velocity: 1.02755749226. Displacement: 0.5755369964658301\n",
      "Actual velocity: 1.07065212727. Displacement: 0.26272916116292905\n",
      "Actual velocity: 1.08647012711. Displacement: 0.5408097145428924\n",
      "Actual velocity: 1.0580176115. Displacement: 0.23065180954949657\n"
     ]
    }
   ],
   "source": [
    "for key in dic.keys():\n",
    "    #print(f\"{key[:3]} -> {key[3:]}. Mean: {np.round(np.mean(dic[key][0]), 4)}. Std: {np.round(np.std(dic[key][0]), 3)}.\")\n",
    "    if float(key[:3]) == 0.0 and float(key[3:]) == 1.0:\n",
    "        for x in range(len(dic[key][0])):\n",
    "            print(f\"Actual velocity: {dic[key][1][x]}. Displacement: {dic[key][0][x]}\")"
   ]
  },
  {
   "cell_type": "code",
   "execution_count": 30,
   "id": "0b91c103-4c1f-4840-8b3a-14e0e3803db8",
   "metadata": {},
   "outputs": [],
   "source": [
    "#for key in dic.keys():\n",
    "#    print(f\"Prev: {key[:3]}. Actual: {key[3:]}. \\n\\nDisp: {dic[key]}\\n\\n.\")"
   ]
  },
  {
   "cell_type": "code",
   "execution_count": 31,
   "id": "ae9488ea",
   "metadata": {},
   "outputs": [],
   "source": [
    "#for x in range(len(X_feet)):\n",
    "#    print(f\"{X_feet[x, 0]} -> {X_feet[x, 3]}. Step: {np.round(Y_feet[x, 0], 2)}. CoM: {np.round(X_feet[x, -5:-4], 2)}. FL: {np.round(X_feet[x, 10], 3)}. FR: {np.round(X_feet[x, 13], 3)}. RL: {np.round(X_feet[x, 16], 3)}. RR: {np.round(X_feet[x, 19], 3)}\")"
   ]
  },
  {
   "cell_type": "code",
   "execution_count": 32,
   "id": "691d0d22-2742-4380-8c4c-7a6c0d41f35c",
   "metadata": {},
   "outputs": [
    {
     "name": "stdout",
     "output_type": "stream",
     "text": [
      "0.0 -> 0.0. Mean: -0.002. Std: 0.045\n",
      "0.1 -> 0.1. Mean: 0.105. Std: 0.104\n",
      "0.2 -> 0.2. Mean: 0.155. Std: 0.088\n",
      "0.3 -> 0.3. Mean: 0.204. Std: 0.092\n",
      "0.4 -> 0.4. Mean: 0.245. Std: 0.066\n",
      "0.5 -> 0.5. Mean: 0.292. Std: 0.066\n",
      "0.6 -> 0.6. Mean: 0.342. Std: 0.071\n",
      "0.7 -> 0.7. Mean: 0.39. Std: 0.082\n",
      "0.8 -> 0.8. Mean: 0.441. Std: 0.095\n",
      "0.9 -> 0.9. Mean: 0.481. Std: 0.119\n",
      "1.0 -> 1.0. Mean: 0.539. Std: 0.124\n"
     ]
    },
    {
     "data": {
      "text/plain": [
       "<ErrorbarContainer object of 3 artists>"
      ]
     },
     "execution_count": 32,
     "metadata": {},
     "output_type": "execute_result"
    },
    {
     "data": {
      "image/png": "[encoded data removed]",
      "text/plain": [
       "<Figure size 640x480 with 1 Axes>"
      ]
     },
     "metadata": {},
     "output_type": "display_data"
    }
   ],
   "source": [
    "x, y, e = [], [], []\n",
    "\n",
    "for vel in np.round(np.arange(0.0, 1.1, 0.1), 2):\n",
    "    start = vel\n",
    "    key = str(start)+str(vel)\n",
    "    print(f\"{start} -> {vel}. Mean: {np.round(np.mean(dic[key][0]), 3)}. Std: {np.round(np.std(dic[key][0]), 3)}\")\n",
    "    x.append(vel)\n",
    "    y.append(float(np.mean(dic[key][0])))\n",
    "    e.append(float(np.std(dic[key][0])))\n",
    "\n",
    "plt.errorbar(x, y, e, linestyle='None', marker='^')"
   ]
  },
  {
   "cell_type": "code",
   "execution_count": 33,
   "id": "925de605-94bb-489d-94de-91b635efe90a",
   "metadata": {},
   "outputs": [
    {
     "name": "stdout",
     "output_type": "stream",
     "text": [
      "0.0 -> 0.0. Mean: -0.002. Std: 0.045\n",
      "0.1 -> 0.1. Mean: 0.105. Std: 0.104\n",
      "0.2 -> 0.2. Mean: 0.155. Std: 0.088\n",
      "0.3 -> 0.3. Mean: 0.204. Std: 0.092\n",
      "0.4 -> 0.4. Mean: 0.245. Std: 0.066\n",
      "0.5 -> 0.5. Mean: 0.292. Std: 0.066\n",
      "0.6 -> 0.6. Mean: 0.342. Std: 0.071\n",
      "0.7 -> 0.7. Mean: 0.39. Std: 0.082\n",
      "0.8 -> 0.8. Mean: 0.441. Std: 0.095\n",
      "0.9 -> 0.9. Mean: 0.481. Std: 0.119\n",
      "1.0 -> 1.0. Mean: 0.539. Std: 0.124\n"
     ]
    },
    {
     "data": {
      "text/plain": [
       "<ErrorbarContainer object of 3 artists>"
      ]
     },
     "execution_count": 33,
     "metadata": {},
     "output_type": "execute_result"
    },
    {
     "data": {
      "image/png": "[encoded data removed]",
      "text/plain": [
       "<Figure size 640x480 with 1 Axes>"
      ]
     },
     "metadata": {},
     "output_type": "display_data"
    }
   ],
   "source": [
    "x, y, e = [], [], []\n",
    "\n",
    "for vel in np.round(np.arange(0.0, 1.1, 0.1), 2):\n",
    "    start = vel\n",
    "    key = str(start)+str(vel)\n",
    "    print(f\"{start} -> {vel}. Mean: {np.round(np.mean(dic[key][0]), 3)}. Std: {np.round(np.std(dic[key][0]), 3)}\")\n",
    "    x.append(vel)\n",
    "    y.append(float(np.mean(dic[key][0])))\n",
    "    e.append(float(np.std(dic[key][0])))\n",
    "\n",
    "plt.errorbar(x, y, e, linestyle='None', marker='^')"
   ]
  },
  {
   "cell_type": "code",
   "execution_count": null,
   "id": "c631e353-db72-4ae1-b174-d06a40341bb3",
   "metadata": {},
   "outputs": [],
   "source": []
  },
  {
   "cell_type": "code",
   "execution_count": null,
   "id": "59590ce8-803d-4573-8468-4a2c3dedc636",
   "metadata": {},
   "outputs": [],
   "source": []
  }
 ],
 "metadata": {
  "kernelspec": {
   "display_name": "Python 3 (ipykernel)",
   "language": "python",
   "name": "python3"
  },
  "language_info": {
   "codemirror_mode": {
    "name": "ipython",
    "version": 3
   },
   "file_extension": ".py",
   "mimetype": "text/x-python",
   "name": "python",
   "nbconvert_exporter": "python",
   "pygments_lexer": "ipython3",
   "version": "3.10.8"
  }
 },
 "nbformat": 4,
 "nbformat_minor": 5
}
