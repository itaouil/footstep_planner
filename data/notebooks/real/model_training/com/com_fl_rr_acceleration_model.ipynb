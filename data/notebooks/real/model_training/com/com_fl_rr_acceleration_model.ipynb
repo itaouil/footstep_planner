{
 "cells": [
  {
   "cell_type": "code",
   "execution_count": 1,
   "id": "990723ff",
   "metadata": {},
   "outputs": [],
   "source": [
    "#!/usr/bin/env python3.6\n",
    "# -*- coding: utf-8 -*-"
   ]
  },
  {
   "cell_type": "code",
   "execution_count": 2,
   "id": "f2b793b5",
   "metadata": {},
   "outputs": [],
   "source": [
    "# Imports\n",
    "import sys\n",
    "import copy\n",
    "import joblib\n",
    "import numpy as np\n",
    "from math import atan2\n",
    "from matplotlib import animation\n",
    "from IPython.display import HTML\n",
    "from matplotlib import pyplot as plt\n",
    "import mpl_toolkits.mplot3d.axes3d as p3"
   ]
  },
  {
   "cell_type": "code",
   "execution_count": 3,
   "id": "1d27ece1",
   "metadata": {},
   "outputs": [],
   "source": [
    "#np.random.seed(20)\n",
    "np.set_printoptions(threshold=sys.maxsize)"
   ]
  },
  {
   "cell_type": "code",
   "execution_count": 4,
   "id": "a26d8f1b",
   "metadata": {},
   "outputs": [],
   "source": [
    "%matplotlib inline"
   ]
  },
  {
   "cell_type": "code",
   "execution_count": 5,
   "id": "7141f038",
   "metadata": {},
   "outputs": [
    {
     "name": "stdout",
     "output_type": "stream",
     "text": [
      "(18641, 21)\n",
      "(18641, 3)\n"
     ]
    }
   ],
   "source": [
    "%store -r X_motion_CoM_acceleration\n",
    "%store -r Y_motion_CoM_acceleration\n",
    "print(X_motion_CoM_acceleration.shape)\n",
    "print(Y_motion_CoM_acceleration.shape)"
   ]
  },
  {
   "cell_type": "markdown",
   "id": "21382b0e",
   "metadata": {},
   "source": [
    "# Multivariate Linear Regression (Foot prediction)"
   ]
  },
  {
   "cell_type": "code",
   "execution_count": 6,
   "id": "15094999",
   "metadata": {},
   "outputs": [],
   "source": [
    "import sklearn\n",
    "from sklearn import metrics\n",
    "from sklearn.feature_selection import RFE\n",
    "from sklearn.model_selection import KFold\n",
    "from sklearn.linear_model import LinearRegression\n",
    "from sklearn.model_selection import train_test_split\n",
    "from sklearn.preprocessing import PolynomialFeatures \n",
    "from sklearn.model_selection import cross_val_score, cross_val_predict\n",
    "from sklearn.metrics import mean_squared_error, mean_absolute_error, r2_score"
   ]
  },
  {
   "cell_type": "code",
   "execution_count": 7,
   "id": "a4843f9c",
   "metadata": {},
   "outputs": [],
   "source": [
    "# Entries where FL foot is swinging\n",
    "idx_fl_rr_swinging = np.where(X_motion_CoM_acceleration[:, -2] == 1)[0]\n",
    "X_motion_CoM_acceleration_FL_RR = X_motion_CoM_acceleration[idx_fl_rr_swinging]\n",
    "Y_motion_CoM_acceleration_FL_RR = Y_motion_CoM_acceleration[idx_fl_rr_swinging]"
   ]
  },
  {
   "cell_type": "code",
   "execution_count": 8,
   "id": "f39d4685",
   "metadata": {},
   "outputs": [
    {
     "data": {
      "text/plain": [
       "(9324,)"
      ]
     },
     "execution_count": 8,
     "metadata": {},
     "output_type": "execute_result"
    }
   ],
   "source": [
    "idx_fl_rr_swinging.shape"
   ]
  },
  {
   "cell_type": "markdown",
   "id": "e68e7e44",
   "metadata": {},
   "source": [
    "## Predict CoM -> x"
   ]
  },
  {
   "cell_type": "code",
   "execution_count": 9,
   "id": "10c10900",
   "metadata": {},
   "outputs": [
    {
     "data": {
      "text/plain": [
       "array([0.1, 0.0, 0.0, 0.0753412991762, -0.034079965204, -0.0102283889428,\n",
       "       0.0906905829906, 0.227568224072, 0.129940032959, -0.384559005499,\n",
       "       0.251231282949, -0.130265682936, -0.382434010506, -0.248257339001,\n",
       "       0.125705689192, -0.388433665037, -0.27167570591, -0.123987592757,\n",
       "       -0.387476414442, True, False], dtype=object)"
      ]
     },
     "execution_count": 9,
     "metadata": {},
     "output_type": "execute_result"
    }
   ],
   "source": [
    "X_motion_CoM_acceleration_FL_RR[0]"
   ]
  },
  {
   "cell_type": "code",
   "execution_count": 10,
   "id": "54d9d673",
   "metadata": {},
   "outputs": [
    {
     "data": {
      "text/plain": [
       "array([0.026316988998418517, -0.002918363093452892, 0.0023450366364707875],\n",
       "      dtype=object)"
      ]
     },
     "execution_count": 10,
     "metadata": {},
     "output_type": "execute_result"
    }
   ],
   "source": [
    "Y_motion_CoM_acceleration_FL_RR[0, :]"
   ]
  },
  {
   "cell_type": "markdown",
   "id": "f8ad920d",
   "metadata": {},
   "source": [
    "### Linear Regression"
   ]
  },
  {
   "cell_type": "code",
   "execution_count": 11,
   "id": "291facef-ffdc-4749-9f30-412897214ef2",
   "metadata": {},
   "outputs": [],
   "source": [
    "def find_best_model(X, Y, runs=5000):\n",
    "    best_model = None\n",
    "    lowest_error = 100\n",
    "    best_Xtr, best_Xte, best_Ytr, best_Yte = None, None, None, None\n",
    "    \n",
    "    for _ in range(runs):\n",
    "        X_train, X_test, Y_train, Y_test = train_test_split(X, Y, train_size = 0.9, shuffle=True)\n",
    "        \n",
    "        model = LinearRegression()\n",
    "        model.fit(X_train, Y_train)\n",
    "\n",
    "        predictions = model.predict(X_test)\n",
    "        error = np.max(np.abs(predictions - Y_test))\n",
    "\n",
    "        if error < lowest_error:\n",
    "            best_model = model\n",
    "            lowest_error = error\n",
    "            best_Xtr, best_Xte, best_Ytr, best_Yte = X_train, X_test, Y_train, Y_test\n",
    "\n",
    "    # Stats\n",
    "    predictions = best_model.predict(best_Xte)\n",
    "    print('R2: ', r2_score(predictions, best_Yte))\n",
    "    print('RMSE: ', np.sqrt(mean_squared_error(best_Yte, predictions)))\n",
    "    print(\"The lowest error is: \", np.min(np.abs(predictions - best_Yte)))\n",
    "    print(\"The highest error is: \", np.max(np.abs(predictions - best_Yte)))\n",
    "    print(\"The avg. error is: \", np.mean(np.abs(predictions - best_Yte)))\n",
    "    \n",
    "    return best_Xte, best_Yte, predictions, best_model"
   ]
  },
  {
   "cell_type": "code",
   "execution_count": 12,
   "id": "5ef1ccde",
   "metadata": {},
   "outputs": [
    {
     "name": "stdout",
     "output_type": "stream",
     "text": [
      "R2:  0.9847122374605218\n",
      "RMSE:  0.012609272672836626\n",
      "The lowest error is:  7.124170489364746e-05\n",
      "The highest error is:  0.045914133155128795\n",
      "The avg. error is:  0.009435540298681284\n"
     ]
    }
   ],
   "source": [
    "# Input\n",
    "X = np.hstack((X_motion_CoM_acceleration_FL_RR[:, 0:1], # current reference velocity\n",
    "               X_motion_CoM_acceleration_FL_RR[:, 3:4], # actual velocity\n",
    "               X_motion_CoM_acceleration_FL_RR[:, 7:9], # FL position\n",
    "               X_motion_CoM_acceleration_FL_RR[:, 10:12], # FR position\n",
    "               X_motion_CoM_acceleration_FL_RR[:, 13:15], # RL position\n",
    "               X_motion_CoM_acceleration_FL_RR[:, 16:18])) # RR position\n",
    "\n",
    "# Labels\n",
    "Y = np.array([Y_motion_CoM_acceleration_FL_RR[:, 0]]).T\n",
    "\n",
    "assert Y.shape[0] == X.shape[0]\n",
    "\n",
    "# Split dataset and fit best model\n",
    "X_test, Y_test, predictions, model_fl_com_x = find_best_model(X, Y, runs=5000)"
   ]
  },
  {
   "cell_type": "code",
   "execution_count": 13,
   "id": "e9449767",
   "metadata": {},
   "outputs": [
    {
     "data": {
      "text/plain": [
       "array([[ 0.05392864,  0.33456285,  0.32488612, -0.0820275 , -1.04721027,\n",
       "         0.82887982,  0.3047756 ,  0.09489397, -0.50316411, -0.2949946 ]])"
      ]
     },
     "execution_count": 13,
     "metadata": {},
     "output_type": "execute_result"
    }
   ],
   "source": [
    "model_fl_com_x.coef_"
   ]
  },
  {
   "cell_type": "code",
   "execution_count": 14,
   "id": "8c457f83",
   "metadata": {},
   "outputs": [
    {
     "data": {
      "text/plain": [
       "array([0.18984772])"
      ]
     },
     "execution_count": 14,
     "metadata": {},
     "output_type": "execute_result"
    }
   ],
   "source": [
    "model_fl_com_x.intercept_"
   ]
  },
  {
   "cell_type": "code",
   "execution_count": 15,
   "id": "a348d621",
   "metadata": {},
   "outputs": [
    {
     "data": {
      "text/plain": [
       "Text(0, 0.5, 'Predictions')"
      ]
     },
     "execution_count": 15,
     "metadata": {},
     "output_type": "execute_result"
    },
    {
     "data": {
      "image/png": "[encoded data removed]",
      "text/plain": [
       "<Figure size 640x480 with 1 Axes>"
      ]
     },
     "metadata": {},
     "output_type": "display_data"
    }
   ],
   "source": [
    "## The line / model\n",
    "plt.scatter(Y_test, predictions)\n",
    "plt.xlabel(\"Groundtruth\")\n",
    "plt.ylabel(\"Predictions\")"
   ]
  },
  {
   "cell_type": "code",
   "execution_count": 16,
   "id": "04803fdd",
   "metadata": {},
   "outputs": [],
   "source": [
    "#for idx, prediction in enumerate(predictions):\n",
    "#    print(f'{X_test[idx, 0]}->{X_test[idx, 1]}. Groundtruth: {Y_test[idx][0]}. Predicted: {prediction[0]}. Error: {np.abs(np.round(Y_test[idx][0]-prediction[0],3))}.')"
   ]
  },
  {
   "cell_type": "markdown",
   "id": "886615f3",
   "metadata": {},
   "source": [
    "## Predict FL foot -> y"
   ]
  },
  {
   "cell_type": "markdown",
   "id": "d0cbfabf",
   "metadata": {},
   "source": [
    "### Linear Regression"
   ]
  },
  {
   "cell_type": "code",
   "execution_count": 17,
   "id": "1ae331e3",
   "metadata": {},
   "outputs": [
    {
     "name": "stdout",
     "output_type": "stream",
     "text": [
      "R2:  0.6669269130443968\n",
      "RMSE:  0.004122686232364513\n",
      "The lowest error is:  3.2652722065193863e-07\n",
      "The highest error is:  0.014957822484447873\n",
      "The avg. error is:  0.00313963684615472\n"
     ]
    }
   ],
   "source": [
    "# Input\n",
    "X = np.hstack((X_motion_CoM_acceleration_FL_RR[:, 0:1], # current reference velocity\n",
    "               X_motion_CoM_acceleration_FL_RR[:, 3:4], # actual velocity\n",
    "               X_motion_CoM_acceleration_FL_RR[:, 7:9], # FL position\n",
    "               X_motion_CoM_acceleration_FL_RR[:, 10:12], # FR position\n",
    "               X_motion_CoM_acceleration_FL_RR[:, 13:15], # RL position\n",
    "               X_motion_CoM_acceleration_FL_RR[:, 16:18])) # RR position\n",
    "\n",
    "# Labels\n",
    "Y = np.array([Y_motion_CoM_acceleration_FL_RR[:, 1]]).T\n",
    "\n",
    "# Train data\n",
    "\n",
    "assert Y.shape[0] == X.shape[0]\n",
    "\n",
    "# Split dataset and fit best model\n",
    "X_test, Y_test, predictions, model_fl_com_y = find_best_model(X, Y, runs=5000)"
   ]
  },
  {
   "cell_type": "code",
   "execution_count": 18,
   "id": "41b0d5a5",
   "metadata": {},
   "outputs": [
    {
     "data": {
      "text/plain": [
       "array([[-0.00337644,  0.08655258,  0.06640072, -0.43785057, -0.28252446,\n",
       "         0.22204231, -0.14148514,  0.18071435, -0.05246979, -0.34718979]])"
      ]
     },
     "execution_count": 18,
     "metadata": {},
     "output_type": "execute_result"
    }
   ],
   "source": [
    "model_fl_com_y.coef_"
   ]
  },
  {
   "cell_type": "code",
   "execution_count": 19,
   "id": "c873eded",
   "metadata": {},
   "outputs": [
    {
     "data": {
      "text/plain": [
       "array([0.01860129])"
      ]
     },
     "execution_count": 19,
     "metadata": {},
     "output_type": "execute_result"
    }
   ],
   "source": [
    "model_fl_com_y.intercept_"
   ]
  },
  {
   "cell_type": "code",
   "execution_count": 20,
   "id": "a12c80cd",
   "metadata": {},
   "outputs": [
    {
     "data": {
      "text/plain": [
       "Text(0, 0.5, 'Predictions')"
      ]
     },
     "execution_count": 20,
     "metadata": {},
     "output_type": "execute_result"
    },
    {
     "data": {
      "image/png": "[encoded data removed]",
      "text/plain": [
       "<Figure size 640x480 with 1 Axes>"
      ]
     },
     "metadata": {},
     "output_type": "display_data"
    }
   ],
   "source": [
    "## The line / model\n",
    "plt.scatter(Y_test, predictions)\n",
    "plt.xlabel(\"Groundtruth\")\n",
    "plt.ylabel(\"Predictions\")"
   ]
  },
  {
   "cell_type": "code",
   "execution_count": 21,
   "id": "0d7da37e",
   "metadata": {},
   "outputs": [],
   "source": [
    "#for idx, prediction in enumerate(predictions):\n",
    "#    print(f'Groundtruth: {Y_test[idx]}. Predicted: {prediction}')"
   ]
  }
 ],
 "metadata": {
  "kernelspec": {
   "display_name": "Python 3 (ipykernel)",
   "language": "python",
   "name": "python3"
  },
  "language_info": {
   "codemirror_mode": {
    "name": "ipython",
    "version": 3
   },
   "file_extension": ".py",
   "mimetype": "text/x-python",
   "name": "python",
   "nbconvert_exporter": "python",
   "pygments_lexer": "ipython3",
   "version": "3.10.6"
  }
 },
 "nbformat": 4,
 "nbformat_minor": 5
}
