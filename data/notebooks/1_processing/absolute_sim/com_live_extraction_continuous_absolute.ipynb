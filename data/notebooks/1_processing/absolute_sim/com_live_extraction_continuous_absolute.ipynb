{
 "cells": [
  {
   "cell_type": "code",
   "execution_count": 61,
   "id": "ec29827b",
   "metadata": {},
   "outputs": [],
   "source": [
    "#!/usr/bin/env python3\n",
    "# -*- coding: utf-8 -*"
   ]
  },
  {
   "cell_type": "code",
   "execution_count": 62,
   "id": "4e69dc4b",
   "metadata": {},
   "outputs": [],
   "source": [
    "# Imports\n",
    "import sys\n",
    "import math\n",
    "import numpy as np\n",
    "from matplotlib import animation\n",
    "from IPython.display import HTML\n",
    "from matplotlib import pyplot as plt\n",
    "plt.rcParams['animation.ffmpeg_path'] = '/usr/bin/ffmpeg'\n",
    "import mpl_toolkits.mplot3d.axes3d as p3"
   ]
  },
  {
   "cell_type": "code",
   "execution_count": 63,
   "id": "c4f8391c",
   "metadata": {},
   "outputs": [],
   "source": [
    "np.random.seed(20)\n",
    "np.set_printoptions(threshold=sys.maxsize)"
   ]
  },
  {
   "cell_type": "code",
   "execution_count": 64,
   "id": "c9587dfc",
   "metadata": {},
   "outputs": [],
   "source": [
    "%matplotlib inline"
   ]
  },
  {
   "cell_type": "markdown",
   "id": "2d3d9d60",
   "metadata": {},
   "source": [
    "# Data"
   ]
  },
  {
   "cell_type": "code",
   "execution_count": 65,
   "id": "0ca43648",
   "metadata": {},
   "outputs": [
    {
     "name": "stdout",
     "output_type": "stream",
     "text": [
      "Motion data has a length of  1714\n"
     ]
    }
   ],
   "source": [
    "# Read data\n",
    "path = '../../../dataset_sim/mpc_motions_continuous.csv'\n",
    "motion = np.genfromtxt(path, delimiter=',', dtype=np.float64)\n",
    "contacts = np.genfromtxt(path, delimiter=',', usecols=(29, 30), dtype=bool)\n",
    "print(\"Motion data has a length of \", len(motion))"
   ]
  },
  {
   "cell_type": "code",
   "execution_count": 66,
   "id": "4a762bd1",
   "metadata": {},
   "outputs": [
    {
     "data": {
      "text/plain": [
       "(1714, 31)"
      ]
     },
     "execution_count": 66,
     "metadata": {},
     "output_type": "execute_result"
    }
   ],
   "source": [
    "motion.shape"
   ]
  },
  {
   "cell_type": "markdown",
   "id": "a6be05d7",
   "metadata": {},
   "source": [
    "## Height-Force plots"
   ]
  },
  {
   "cell_type": "code",
   "execution_count": 67,
   "id": "a659e209",
   "metadata": {},
   "outputs": [],
   "source": [
    "def get_specific_cmd(dataset, fwd, side, rot):\n",
    "    if abs(fwd): \n",
    "        return np.where(dataset[:, 1] > 0)[0] if fwd > 0 else np.where(dataset[:, 1] < 0)[0]\n",
    "    if abs(side): \n",
    "        return np.where(dataset[:, 2] > 0)[0] if side > 0 else np.where(dataset[:, 2] < 0)[0]\n",
    "    if abs(rot): \n",
    "        return np.where(dataset[:, 3] > 0)[0] if rot > 0 else np.where(dataset[:, 3] < 0)[0]"
   ]
  },
  {
   "cell_type": "code",
   "execution_count": 68,
   "id": "5c3bde51",
   "metadata": {},
   "outputs": [],
   "source": [
    "def get_swinging_motions(dataset, height=1):\n",
    "    # rf min height (i.e swining motion)\n",
    "    fl_min_height = np.where(dataset[:, 6] < height)[0]\n",
    "    fr_min_height = np.where(dataset[:, 9] < height)[0]\n",
    "    rl_min_height = np.where(dataset[:, 12] < height)[0]\n",
    "    rr_min_height = np.where(dataset[:, 15] < height)[0]\n",
    "            \n",
    "    return fl_min_height,fr_min_height,rl_min_height,rr_min_height"
   ]
  },
  {
   "cell_type": "markdown",
   "id": "75ab4b04",
   "metadata": {},
   "source": [
    "### Footstep IDXs"
   ]
  },
  {
   "cell_type": "code",
   "execution_count": 69,
   "id": "fb0b3e46",
   "metadata": {},
   "outputs": [],
   "source": [
    "footsteps_fwd = get_specific_cmd(motion, 1, 0, 0)\n",
    "footsteps_clock = get_specific_cmd(motion, 0, 0, -1)\n",
    "footsteps_count = get_specific_cmd(motion, 0, 0, 1)\n",
    "footsteps_side_right = get_specific_cmd(motion, 0, -1, 0)\n",
    "footsteps_side_left = get_specific_cmd(motion, 0, 1, 0)"
   ]
  },
  {
   "cell_type": "code",
   "execution_count": 70,
   "id": "e65aea8a-3766-45ae-8a29-d566dc77681a",
   "metadata": {},
   "outputs": [
    {
     "name": "stdout",
     "output_type": "stream",
     "text": [
      "(500,)\n"
     ]
    }
   ],
   "source": [
    "print(footsteps_count.shape)"
   ]
  },
  {
   "cell_type": "markdown",
   "id": "5fbba67a",
   "metadata": {},
   "source": [
    "# Dataset Preparation"
   ]
  },
  {
   "cell_type": "code",
   "execution_count": 71,
   "id": "9daf2303",
   "metadata": {},
   "outputs": [],
   "source": [
    "import sklearn\n",
    "from sklearn.linear_model import LinearRegression\n",
    "from sklearn.model_selection import train_test_split"
   ]
  },
  {
   "cell_type": "code",
   "execution_count": 72,
   "id": "12fcdae4",
   "metadata": {},
   "outputs": [],
   "source": [
    "def yaw_from_quaternion(Q):\n",
    "    \"\"\"\n",
    "    Covert a quaternion into a full three-dimensional rotation matrix.\n",
    " \n",
    "    Input\n",
    "    :param Q: A 4 element array representing the quaternion (q0,q1,q2,q3) \n",
    " \n",
    "    Output\n",
    "    :return: A 3x3 element matrix representing the full 3D rotation matrix. \n",
    "             This rotation matrix converts a point in the local reference \n",
    "             frame to a point in the global reference frame.\n",
    "    \"\"\"\n",
    "    # Extract the values from Q\n",
    "    x = Q[0]\n",
    "    y = Q[1]\n",
    "    z = Q[2]\n",
    "    w = Q[3]\n",
    "     \n",
    "    return np.arctan2(2 * (w*z + x*y), 1 - 2 * (y*y + z*z))"
   ]
  },
  {
   "cell_type": "code",
   "execution_count": 73,
   "id": "0ed4fced",
   "metadata": {},
   "outputs": [],
   "source": [
    "def quaternion_rotation_matrix(Q):\n",
    "    \"\"\"\n",
    "    Covert a quaternion into a full three-dimensional rotation matrix.\n",
    " \n",
    "    Input\n",
    "    :param Q: A 4 element array representing the quaternion (q0,q1,q2,q3) \n",
    " \n",
    "    Output\n",
    "    :return: A 3x3 element matrix representing the full 3D rotation matrix. \n",
    "             This rotation matrix converts a point in the local reference \n",
    "             frame to a point in the global reference frame.\n",
    "    \"\"\"\n",
    "    # Extract the values from Q\n",
    "    q0 = Q[3]\n",
    "    q1 = Q[0]\n",
    "    q2 = Q[1]\n",
    "    q3 = Q[2]\n",
    "     \n",
    "    # First row of the rotation matrix\n",
    "    r00 = 2 * (q0 * q0 + q1 * q1) - 1\n",
    "    r01 = 2 * (q1 * q2 - q0 * q3)\n",
    "    r02 = 2 * (q1 * q3 + q0 * q2)\n",
    "     \n",
    "    # Second row of the rotation matrix\n",
    "    r10 = 2 * (q1 * q2 + q0 * q3)\n",
    "    r11 = 2 * (q0 * q0 + q2 * q2) - 1\n",
    "    r12 = 2 * (q2 * q3 - q0 * q1)\n",
    "     \n",
    "    # Third row of the rotation matrix\n",
    "    r20 = 2 * (q1 * q3 - q0 * q2)\n",
    "    r21 = 2 * (q2 * q3 + q0 * q1)\n",
    "    r22 = 2 * (q0 * q0 + q3 * q3) - 1\n",
    "     \n",
    "    # 3x3 rotation matrix\n",
    "    rot_matrix = np.array([[r00, r01, r02],\n",
    "                           [r10, r11, r12],\n",
    "                           [r20, r21, r22]])\n",
    "                            \n",
    "    return rot_matrix"
   ]
  },
  {
   "cell_type": "code",
   "execution_count": 80,
   "id": "7735f7e5-262f-4f64-a9a8-efa881b37cbd",
   "metadata": {},
   "outputs": [
    {
     "name": "stdout",
     "output_type": "stream",
     "text": [
      "Angle wrap detected.\n",
      "Angle wrap detected.\n",
      "Angle wrap detected.\n",
      "Angle wrap detected.\n",
      "Angle wrap detected.\n",
      "Angle wrap detected.\n",
      "Angle wrap detected.\n",
      "Angle wrap detected.\n",
      "Angle wrap detected.\n",
      "Angle wrap detected.\n",
      "Angle wrap detected.\n",
      "Angle wrap detected.\n",
      "Angle wrap detected.\n",
      "Angle wrap detected.\n",
      "Angle wrap detected.\n",
      "Angle wrap detected.\n",
      "Angle wrap detected.\n",
      "Angle wrap detected.\n",
      "Angle wrap detected.\n",
      "Angle wrap detected.\n",
      "Angle wrap detected.\n",
      "Angle wrap detected.\n",
      "Angle wrap detected.\n",
      "Angle wrap detected.\n",
      "Angle wrap detected.\n",
      "Angle wrap detected.\n",
      "Angle wrap detected.\n",
      "Angle wrap detected.\n",
      "Angle wrap detected.\n",
      "Angle wrap detected.\n",
      "Angle wrap detected.\n",
      "Angle wrap detected.\n",
      "Angle wrap detected.\n",
      "Angle wrap detected.\n",
      "Angle wrap detected.\n",
      "Angle wrap detected.\n",
      "Angle wrap detected.\n",
      "Angle wrap detected.\n",
      "Angle wrap detected.\n",
      "Angle wrap detected.\n",
      "Angle wrap detected.\n",
      "Angle wrap detected.\n",
      "Angle wrap detected.\n",
      "Angle wrap detected.\n",
      "Angle wrap detected.\n",
      "Angle wrap detected.\n",
      "(1623, 35)\n",
      "(1623, 3)\n"
     ]
    }
   ],
   "source": [
    "def create_com_dataset(dataset, footsteps, motion=None, debug=False):\n",
    "    inputs = []\n",
    "    labels = []\n",
    "    \n",
    "    for idx, footstep in enumerate(footsteps):\n",
    "        if idx > 0:\n",
    "            # Compute time difference between\n",
    "            # current and next footsteps\n",
    "            time_difference = abs(dataset[footsteps[idx], 0] - dataset[footsteps[idx-1], 0])\n",
    "            \n",
    "            if time_difference < 1 and np.any(dataset[footsteps[idx-1], 1:4]) and np.any(dataset[footsteps[idx], 1:4]):\n",
    "                lf_rh_moving = contacts[footsteps[idx], 0]\n",
    "                rf_lh_moving = contacts[footsteps[idx], 1]\n",
    "                \n",
    "                if lf_rh_moving == rf_lh_moving:\n",
    "                    print(\"Invalid\")\n",
    "                    continue\n",
    "                \n",
    "                # Compute rotation matrices from odometry orientation\n",
    "                R_prev = quaternion_rotation_matrix(dataset[footsteps[idx-1], 19:23])\n",
    "                R_curr = quaternion_rotation_matrix(dataset[footsteps[idx], 19:23])\n",
    "\n",
    "                # Odom base vectors\n",
    "                prev_base = dataset[footsteps[idx-1], 16:19]\n",
    "                curr_base = dataset[footsteps[idx], 16:19]\n",
    "\n",
    "                # Rotate odometry estimation\n",
    "                rotated_prev_base = prev_base @ R_prev\n",
    "                rotated_curr_base = curr_base @ R_prev\n",
    "                base_displacement = rotated_curr_base - rotated_prev_base\n",
    "                \n",
    "                prev_yaw = yaw_from_quaternion(dataset[footsteps[idx-1], 19:23])\n",
    "                curr_yaw = yaw_from_quaternion(dataset[footsteps[idx], 19:23])\n",
    "                yaw = curr_yaw - prev_yaw\n",
    "                \n",
    "                # Handle angle wrap\n",
    "                if np.sign(prev_yaw) != np.sign(curr_yaw):\n",
    "                    print(\"Angle wrap detected.\")\n",
    "                    continue\n",
    "                    \n",
    "                inputs.append(dataset[footsteps[idx-1], 1:31].tolist() +\n",
    "                              dataset[footsteps[idx], 1:4].tolist() +\n",
    "                              [lf_rh_moving, rf_lh_moving])\n",
    "                \n",
    "                # Labels\n",
    "                labels.append([base_displacement[0], base_displacement[1], yaw])\n",
    "                \n",
    "    return np.array(inputs, dtype=float), np.array(labels, dtype=float)\n",
    "                \n",
    "X_motion_fwd_CoM, Y_motion_fwd_CoM = create_com_dataset(motion, footsteps_fwd)\n",
    "X_motion_clock_CoM, Y_motion_clock_CoM = create_com_dataset(motion, footsteps_clock)\n",
    "X_motion_count_CoM, Y_motion_count_CoM = create_com_dataset(motion, footsteps_count)\n",
    "#X_motion_side_left_CoM, Y_motion_side_left_CoM = create_com_dataset(motion, footsteps_side_left)\n",
    "#X_motion_side_right_CoM, Y_motion_side_right_CoM = create_com_dataset(motion, footsteps_side_right)\n",
    "\n",
    "# Stack datasets\n",
    "X_motion_CoM_continuous = np.concatenate((X_motion_fwd_CoM, X_motion_clock_CoM, X_motion_count_CoM))\n",
    "Y_motion_CoM_continuous = np.concatenate((Y_motion_fwd_CoM, Y_motion_clock_CoM, Y_motion_count_CoM))\n",
    "\n",
    "print(X_motion_CoM_continuous.shape)\n",
    "print(Y_motion_CoM_continuous.shape)"
   ]
  },
  {
   "cell_type": "code",
   "execution_count": 81,
   "id": "200b546d",
   "metadata": {},
   "outputs": [
    {
     "name": "stdout",
     "output_type": "stream",
     "text": [
      "Stored 'X_motion_CoM_continuous' (ndarray)\n",
      "Stored 'Y_motion_CoM_continuous' (ndarray)\n"
     ]
    }
   ],
   "source": [
    "%store X_motion_CoM_continuous\n",
    "%store Y_motion_CoM_continuous"
   ]
  },
  {
   "cell_type": "markdown",
   "id": "d4f2cf84-0416-4421-bd27-120ab39caad3",
   "metadata": {},
   "source": [
    "# Velocity Check"
   ]
  },
  {
   "cell_type": "code",
   "execution_count": 76,
   "id": "06c33669-77bd-4a3e-a121-d3418d96421b",
   "metadata": {},
   "outputs": [
    {
     "data": {
      "text/plain": [
       "{-1.0,\n",
       " -0.9,\n",
       " -0.8,\n",
       " -0.7000000000000001,\n",
       " -0.6000000000000001,\n",
       " -0.5,\n",
       " -0.4,\n",
       " -0.30000000000000004,\n",
       " -0.2,\n",
       " -0.1,\n",
       " 0.0,\n",
       " 0.1,\n",
       " 0.2,\n",
       " 0.30000000000000004,\n",
       " 0.4,\n",
       " 0.5,\n",
       " 0.6000000000000001,\n",
       " 0.7000000000000001,\n",
       " 0.8,\n",
       " 0.9,\n",
       " 1.0}"
      ]
     },
     "execution_count": 76,
     "metadata": {},
     "output_type": "execute_result"
    }
   ],
   "source": [
    "set(X_motion_CoM_continuous[:, 2])"
   ]
  },
  {
   "cell_type": "markdown",
   "id": "2d026421-20e9-4b06-bfea-01b0c82319ef",
   "metadata": {},
   "source": [
    "# FWD CoM displacements"
   ]
  },
  {
   "cell_type": "code",
   "execution_count": 79,
   "id": "1af00cb6-5cb3-43db-a01c-4aa54e451dee",
   "metadata": {},
   "outputs": [
    {
     "data": {
      "text/plain": [
       "0.2634100732030511"
      ]
     },
     "execution_count": 79,
     "metadata": {},
     "output_type": "execute_result"
    }
   ],
   "source": [
    "max(Y_motion_CoM_continuous[:, 0])"
   ]
  },
  {
   "cell_type": "code",
   "execution_count": 77,
   "id": "920aa7fb-0403-4d18-b005-bd84261153c3",
   "metadata": {},
   "outputs": [
    {
     "name": "stdout",
     "output_type": "stream",
     "text": [
      "Velocity 0.1 with 48 samples\n",
      "Mean CoM(x) displacement of 0.020959139042017533 with a std of 0.004336516865121476\n",
      "Mean CoM(y) displacement of -6.902868299147448e-05 with a std of 0.0012686007524302884\n",
      "Mean CoM(yaw) displacement of -9.61168965216857e-05 with a std of 0.0017701543553577594\n",
      "\n",
      "Velocity 0.2 with 50 samples\n",
      "Mean CoM(x) displacement of 0.0447919809813589 with a std of 0.0030426355685730815\n",
      "Mean CoM(y) displacement of -2.949470456810821e-05 with a std of 0.0011084827217992272\n",
      "Mean CoM(yaw) displacement of 3.685343821929754e-06 with a std of 0.0022011265632494548\n",
      "\n",
      "Velocity 0.30000000000000004 with 50 samples\n",
      "Mean CoM(x) displacement of 0.0672670275041273 with a std of 0.004523948079337408\n",
      "Mean CoM(y) displacement of -6.822613598384084e-05 with a std of 0.0017826086536754033\n",
      "Mean CoM(yaw) displacement of 4.744468050615458e-05 with a std of 0.002265919803991052\n",
      "\n",
      "Velocity 0.4 with 43 samples\n",
      "Mean CoM(x) displacement of 0.0899119909543344 with a std of 0.006662264478861762\n",
      "Mean CoM(y) displacement of -0.0004854583393633533 with a std of 0.002819916965167806\n",
      "Mean CoM(yaw) displacement of -4.145631210963961e-06 with a std of 0.0019083929296203565\n",
      "\n",
      "Velocity 0.5 with 42 samples\n",
      "Mean CoM(x) displacement of 0.11233602727127268 with a std of 0.007232832097943887\n",
      "Mean CoM(y) displacement of 0.0007896034529708762 with a std of 0.0036074726842656047\n",
      "Mean CoM(yaw) displacement of -0.000260480914708676 with a std of 0.001602896956772339\n",
      "\n",
      "Velocity 0.6 with 42 samples\n",
      "Mean CoM(x) displacement of 0.13351592409930985 with a std of 0.012262769811142932\n",
      "Mean CoM(y) displacement of 0.0006899656794205793 with a std of 0.0045923341380439105\n",
      "Mean CoM(yaw) displacement of -0.0003250126004987435 with a std of 0.0010143419817496423\n",
      "\n",
      "Velocity 0.7000000000000001 with 55 samples\n",
      "Mean CoM(x) displacement of 0.15587082446418044 with a std of 0.01712663784263803\n",
      "Mean CoM(y) displacement of 0.0003152236480135558 with a std of 0.005466991929156407\n",
      "Mean CoM(yaw) displacement of 7.323843257658133e-05 with a std of 0.0028122843650678553\n",
      "\n",
      "Velocity 0.8 with 58 samples\n",
      "Mean CoM(x) displacement of 0.17814355469311308 with a std of 0.014857126580129979\n",
      "Mean CoM(y) displacement of 0.0005391095225230337 with a std of 0.003000741305956861\n",
      "Mean CoM(yaw) displacement of 0.00014174445006346655 with a std of 0.0041155698807549285\n",
      "\n",
      "Velocity 0.9 with 53 samples\n",
      "Mean CoM(x) displacement of 0.19972776099924094 with a std of 0.013909041529641973\n",
      "Mean CoM(y) displacement of 0.0005380185852795865 with a std of 0.0039002728393964584\n",
      "Mean CoM(yaw) displacement of 0.0006409105302610623 with a std of 0.003569587691403681\n",
      "\n",
      "Velocity 1.0 with 59 samples\n",
      "Mean CoM(x) displacement of 0.2224176645895414 with a std of 0.02079186317126202\n",
      "Mean CoM(y) displacement of 0.00033569389166436135 with a std of 0.007264885143562975\n",
      "Mean CoM(yaw) displacement of -0.000628131522346008 with a std of 0.0049384791806697265\n",
      "\n"
     ]
    }
   ],
   "source": [
    "# X displacement mean and std for each velocity\n",
    "for velocity in np.arange(0.1, 1.1, 0.1):\n",
    "    idx = np.where(np.isclose(X_motion_CoM_continuous[:, 0], velocity))[0]\n",
    "    print(f\"Velocity {velocity} with {len(idx)} samples\")\n",
    "    print(f\"Mean CoM(x) displacement of {np.mean(Y_motion_CoM_continuous[idx, 0])} with a std of {np.std(Y_motion_CoM_continuous[idx, 0])}\")\n",
    "    print(f\"Mean CoM(y) displacement of {np.mean(Y_motion_CoM_continuous[idx, 1])} with a std of {np.std(Y_motion_CoM_continuous[idx, 1])}\")\n",
    "    print(f\"Mean CoM(yaw) displacement of {np.mean(Y_motion_CoM_continuous[idx, 2])} with a std of {np.std(Y_motion_CoM_continuous[idx, 2])}\\n\")"
   ]
  },
  {
   "cell_type": "markdown",
   "id": "2b86993f-fc08-4cf5-a655-f99715448f47",
   "metadata": {},
   "source": [
    "# CK CoM displacement"
   ]
  },
  {
   "cell_type": "code",
   "execution_count": 22,
   "id": "14c10cf2-d40e-4007-8ae4-caac519ea479",
   "metadata": {},
   "outputs": [
    {
     "name": "stdout",
     "output_type": "stream",
     "text": [
      "Velocity 0.1 with 49 samples\n",
      "Mean CoM(x) displacement of 0.0008179146414641064 with a std of 0.00028775430480251454\n",
      "Mean CoM(y) displacement of 4.788613204732577e-05 with a std of 0.0033989967637505715\n",
      "Mean CoM(yaw) displacement of -0.026629632460712985 with a std of 0.002892198048506989\n",
      "\n",
      "Velocity 0.2 with 43 samples\n",
      "Mean CoM(x) displacement of 0.0006452632882297399 with a std of 0.0003513339264748651\n",
      "Mean CoM(y) displacement of 0.00036548470379305087 with a std of 0.0034003574220526143\n",
      "Mean CoM(yaw) displacement of -0.05216296547434204 with a std of 0.002769338476461463\n",
      "\n",
      "Velocity 0.30000000000000004 with 35 samples\n",
      "Mean CoM(x) displacement of 0.0008022337704047755 with a std of 0.0005114643189480277\n",
      "Mean CoM(y) displacement of 0.0008859550139795015 with a std of 0.0035937065804846325\n",
      "Mean CoM(yaw) displacement of -0.07802734203752008 with a std of 0.003459078774686862\n",
      "\n",
      "Velocity 0.4 with 30 samples\n",
      "Mean CoM(x) displacement of 0.0007885586753809533 with a std of 0.0005250889957629559\n",
      "Mean CoM(y) displacement of 0.0008414666896770094 with a std of 0.0036284538768654837\n",
      "Mean CoM(yaw) displacement of -0.10270645868323451 with a std of 0.005503907346538268\n",
      "\n",
      "Velocity 0.5 with 33 samples\n",
      "Mean CoM(x) displacement of 0.0011851365349210038 with a std of 0.0007725712783008721\n",
      "Mean CoM(y) displacement of 0.0005502564505130492 with a std of 0.003664643721956199\n",
      "Mean CoM(yaw) displacement of -0.12960703680903637 with a std of 0.007641769600213519\n",
      "\n",
      "Velocity 0.6 with 32 samples\n",
      "Mean CoM(x) displacement of 0.001176546371823791 with a std of 0.0007750151524214965\n",
      "Mean CoM(y) displacement of 0.000563351996435835 with a std of 0.0035951095292251416\n",
      "Mean CoM(yaw) displacement of -0.15555674349445808 with a std of 0.01074865966386184\n",
      "\n",
      "Velocity 0.7000000000000001 with 48 samples\n",
      "Mean CoM(x) displacement of 0.0010479376314410816 with a std of 0.0008913078964678897\n",
      "Mean CoM(y) displacement of 0.0015314032430275959 with a std of 0.001569692508256345\n",
      "Mean CoM(yaw) displacement of -0.18464710870734544 with a std of 0.02037336860927757\n",
      "\n",
      "Velocity 0.8 with 55 samples\n",
      "Mean CoM(x) displacement of 0.0008170190692430341 with a std of 0.0009429142749813307\n",
      "Mean CoM(y) displacement of 0.0014055320968311413 with a std of 0.0027780210079366547\n",
      "Mean CoM(yaw) displacement of -0.20748670090239527 with a std of 0.01958767274402565\n",
      "\n",
      "Velocity 0.9 with 50 samples\n",
      "Mean CoM(x) displacement of 0.0006648168350428341 with a std of 0.0007720858302742474\n",
      "Mean CoM(y) displacement of 0.0019293108789210178 with a std of 0.002220401048317302\n",
      "Mean CoM(yaw) displacement of -0.2334141508716555 with a std of 0.02837942942909156\n",
      "\n",
      "Velocity 1.0 with 50 samples\n",
      "Mean CoM(x) displacement of 0.00026527486905605024 with a std of 0.001148220854721125\n",
      "Mean CoM(y) displacement of 0.002002933515234768 with a std of 0.0024498893693420437\n",
      "Mean CoM(yaw) displacement of -0.25481806597034035 with a std of 0.030462221784150083\n",
      "\n"
     ]
    }
   ],
   "source": [
    "# X displacement mean and std for each velocity\n",
    "for velocity in np.arange(0.1, 1.1, 0.1):\n",
    "    idx = np.where(np.isclose(X_motion_CoM_continuous[:, 2], -velocity))[0]\n",
    "    print(f\"Velocity {velocity} with {len(idx)} samples\")\n",
    "    print(f\"Mean CoM(x) displacement of {np.mean(Y_motion_CoM_continuous[idx, 0])} with a std of {np.std(Y_motion_CoM_continuous[idx, 0])}\")\n",
    "    print(f\"Mean CoM(y) displacement of {np.mean(Y_motion_CoM_continuous[idx, 1])} with a std of {np.std(Y_motion_CoM_continuous[idx, 1])}\")\n",
    "    print(f\"Mean CoM(yaw) displacement of {np.mean(Y_motion_CoM_continuous[idx, 2])} with a std of {np.std(Y_motion_CoM_continuous[idx, 2])}\\n\")"
   ]
  },
  {
   "cell_type": "markdown",
   "id": "65593bcc-74c5-4e42-aad6-ba713c1f551c",
   "metadata": {},
   "source": [
    "# CCK CoM displacement"
   ]
  },
  {
   "cell_type": "code",
   "execution_count": 24,
   "id": "696c8b22-301d-40eb-a31c-04d8dadee0c0",
   "metadata": {},
   "outputs": [
    {
     "name": "stdout",
     "output_type": "stream",
     "text": [
      "Velocity 0.1 with 38 samples\n",
      "Mean CoM(x) displacement of 0.000919261817537199 with a std of 0.00034348098444457025\n",
      "Mean CoM(y) displacement of -0.00027499739708759796 with a std of 0.003415188128267254\n",
      "Mean CoM(yaw) displacement of 0.02706681605712363 with a std of 0.0027888472457339364\n",
      "\n",
      "Velocity 0.2 with 41 samples\n",
      "Mean CoM(x) displacement of 0.001173727964739057 with a std of 0.00040854431636979304\n",
      "Mean CoM(y) displacement of -0.0006283729074110958 with a std of 0.003494600262170554\n",
      "Mean CoM(yaw) displacement of 0.05436430974674924 with a std of 0.004064569309866346\n",
      "\n",
      "Velocity 0.30000000000000004 with 37 samples\n",
      "Mean CoM(x) displacement of 0.001275569648876369 with a std of 0.00046513353877742156\n",
      "Mean CoM(y) displacement of -0.0009478764386959646 with a std of 0.003557727369621043\n",
      "Mean CoM(yaw) displacement of 0.08183864644412187 with a std of 0.004102008227624289\n",
      "\n",
      "Velocity 0.4 with 40 samples\n",
      "Mean CoM(x) displacement of 0.0013064340427955776 with a std of 0.0007102736487346469\n",
      "Mean CoM(y) displacement of -0.0004264148110277227 with a std of 0.0037405733444233497\n",
      "Mean CoM(yaw) displacement of 0.10767623132296356 with a std of 0.006958713142219293\n",
      "\n",
      "Velocity 0.5 with 40 samples\n",
      "Mean CoM(x) displacement of 0.0017199427165224962 with a std of 0.0008434208679963858\n",
      "Mean CoM(y) displacement of -0.0007750505406720259 with a std of 0.003646386826883296\n",
      "Mean CoM(yaw) displacement of 0.13273974098922284 with a std of 0.009492520478974593\n",
      "\n",
      "Velocity 0.6 with 49 samples\n",
      "Mean CoM(x) displacement of 0.0015435147155312598 with a std of 0.0008301867699264531\n",
      "Mean CoM(y) displacement of -0.0012308649032576845 with a std of 0.0029236480519234873\n",
      "Mean CoM(yaw) displacement of 0.16363144334681848 with a std of 0.01781606253362906\n",
      "\n",
      "Velocity 0.7000000000000001 with 52 samples\n",
      "Mean CoM(x) displacement of 0.0010939683134163973 with a std of 0.0008405461468750959\n",
      "Mean CoM(y) displacement of -0.0015374327431329237 with a std of 0.002247298440352889\n",
      "Mean CoM(yaw) displacement of 0.18561868762365827 with a std of 0.020471421030222\n",
      "\n",
      "Velocity 0.8 with 51 samples\n",
      "Mean CoM(x) displacement of 0.0005841836035930215 with a std of 0.0008661092397550341\n",
      "Mean CoM(y) displacement of -0.0014818221936310455 with a std of 0.0022153752004729307\n",
      "Mean CoM(yaw) displacement of 0.20879259509333137 with a std of 0.02298225904110633\n",
      "\n",
      "Velocity 0.9 with 52 samples\n",
      "Mean CoM(x) displacement of 0.0006210772007545965 with a std of 0.0011927466380988992\n",
      "Mean CoM(y) displacement of -0.0015271359496271248 with a std of 0.002919395728401181\n",
      "Mean CoM(yaw) displacement of 0.23692959467983543 with a std of 0.03606202728644218\n",
      "\n",
      "Velocity 1.0 with 48 samples\n",
      "Mean CoM(x) displacement of 0.00048496348851157406 with a std of 0.0009237067839318335\n",
      "Mean CoM(y) displacement of -0.0020842697320260692 with a std of 0.0026164321296862896\n",
      "Mean CoM(yaw) displacement of 0.2636166996667422 with a std of 0.03361492455616447\n",
      "\n"
     ]
    }
   ],
   "source": [
    "# X displacement mean and std for each velocity\n",
    "for velocity in np.arange(0.1, 1.1, 0.1):\n",
    "    idx = np.where(np.isclose(X_motion_CoM_continuous[:, 2], velocity))[0]\n",
    "    print(f\"Velocity {velocity} with {len(idx)} samples\")\n",
    "    print(f\"Mean CoM(x) displacement of {np.mean(Y_motion_CoM_continuous[idx, 0])} with a std of {np.std(Y_motion_CoM_continuous[idx, 0])}\")\n",
    "    print(f\"Mean CoM(y) displacement of {np.mean(Y_motion_CoM_continuous[idx, 1])} with a std of {np.std(Y_motion_CoM_continuous[idx, 1])}\")\n",
    "    print(f\"Mean CoM(yaw) displacement of {np.mean(Y_motion_CoM_continuous[idx, 2])} with a std of {np.std(Y_motion_CoM_continuous[idx, 2])}\\n\")"
   ]
  },
  {
   "cell_type": "markdown",
   "id": "f2cd5b6b",
   "metadata": {},
   "source": [
    "### Fwd Plot"
   ]
  },
  {
   "cell_type": "code",
   "execution_count": 25,
   "id": "b84442e0-af64-4616-9d4f-db36bf5522d1",
   "metadata": {},
   "outputs": [
    {
     "data": {
      "text/plain": [
       "array([0.1, 0.2, 0.3, 0.4, 0.5, 0.6, 0.7, 0.8])"
      ]
     },
     "execution_count": 25,
     "metadata": {},
     "output_type": "execute_result"
    }
   ],
   "source": [
    "np.arange(0.1, 0.9, 0.1)"
   ]
  },
  {
   "cell_type": "code",
   "execution_count": 26,
   "id": "c2df2b35",
   "metadata": {},
   "outputs": [
    {
     "data": {
      "image/png": "[encoded data removed]",
      "text/plain": [
       "<Figure size 432x288 with 1 Axes>"
      ]
     },
     "metadata": {
      "needs_background": "light"
     },
     "output_type": "display_data"
    }
   ],
   "source": [
    "plt.plot(np.arange(0.1, 1.1, 0.1),\n",
    "         [np.mean(Y_motion_fwd_CoM[np.where(np.isclose(X_motion_fwd_CoM[:, 0], velocity))[0], 0]) for velocity in np.arange(0.1, 1.1, 0.1)], \n",
    "         'ro')\n",
    "plt.xlabel('Velocities')\n",
    "plt.ylabel('\\u0394X CoM')\n",
    "plt.show()"
   ]
  },
  {
   "cell_type": "code",
   "execution_count": 27,
   "id": "fce2172f",
   "metadata": {},
   "outputs": [
    {
     "data": {
      "image/png": "[encoded data removed]",
      "text/plain": [
       "<Figure size 432x288 with 1 Axes>"
      ]
     },
     "metadata": {
      "needs_background": "light"
     },
     "output_type": "display_data"
    }
   ],
   "source": [
    "x = np.arange(0.1, 1.1, 0.1)\n",
    "y = np.array([np.mean(Y_motion_fwd_CoM[np.where(np.isclose(X_motion_fwd_CoM[:, 0], velocity))[0], 0]) for velocity in np.arange(0.1, 1.1, 0.1)])\n",
    "e = np.array([np.std(Y_motion_fwd_CoM[np.where(np.isclose(X_motion_fwd_CoM[:, 0], velocity))[0], 0]) for velocity in np.arange(0.1, 1.1, 0.1)])\n",
    "plt.errorbar(x, y, e, linestyle='None', marker='s')\n",
    "plt.xlabel('Velocities')\n",
    "plt.ylabel('\\u03B4X CoM')\n",
    "plt.show()"
   ]
  },
  {
   "cell_type": "markdown",
   "id": "a65ee8fd",
   "metadata": {},
   "source": [
    "### Left Plot"
   ]
  },
  {
   "cell_type": "code",
   "execution_count": 28,
   "id": "7183c3fc",
   "metadata": {},
   "outputs": [
    {
     "ename": "NameError",
     "evalue": "name 'Y_motion_side_left_CoM' is not defined",
     "output_type": "error",
     "traceback": [
      "\u001b[0;31m---------------------------------------------------------------------------\u001b[0m",
      "\u001b[0;31mNameError\u001b[0m                                 Traceback (most recent call last)",
      "Input \u001b[0;32mIn [28]\u001b[0m, in \u001b[0;36m<cell line: 1>\u001b[0;34m()\u001b[0m\n\u001b[1;32m      1\u001b[0m plt\u001b[38;5;241m.\u001b[39mplot(np\u001b[38;5;241m.\u001b[39marange(\u001b[38;5;241m0.1\u001b[39m, \u001b[38;5;241m1.1\u001b[39m, \u001b[38;5;241m0.1\u001b[39m),\n\u001b[0;32m----> 2\u001b[0m          [np\u001b[38;5;241m.\u001b[39mmean(Y_motion_side_left_CoM[np\u001b[38;5;241m.\u001b[39mwhere(np\u001b[38;5;241m.\u001b[39misclose(X_motion_side_left_CoM[:, \u001b[38;5;241m1\u001b[39m], velocity))[\u001b[38;5;241m0\u001b[39m], \u001b[38;5;241m1\u001b[39m]) \u001b[38;5;28;01mfor\u001b[39;00m velocity \u001b[38;5;129;01min\u001b[39;00m np\u001b[38;5;241m.\u001b[39marange(\u001b[38;5;241m0.1\u001b[39m, \u001b[38;5;241m1.1\u001b[39m, \u001b[38;5;241m0.1\u001b[39m)], \n\u001b[1;32m      3\u001b[0m          \u001b[38;5;124m'\u001b[39m\u001b[38;5;124mro\u001b[39m\u001b[38;5;124m'\u001b[39m)\n\u001b[1;32m      4\u001b[0m plt\u001b[38;5;241m.\u001b[39mxlabel(\u001b[38;5;124m'\u001b[39m\u001b[38;5;124mVelocities\u001b[39m\u001b[38;5;124m'\u001b[39m)\n\u001b[1;32m      5\u001b[0m plt\u001b[38;5;241m.\u001b[39mylabel(\u001b[38;5;124m'\u001b[39m\u001b[38;5;130;01m\\u0394\u001b[39;00m\u001b[38;5;124mY CoM\u001b[39m\u001b[38;5;124m'\u001b[39m)\n",
      "Input \u001b[0;32mIn [28]\u001b[0m, in \u001b[0;36m<listcomp>\u001b[0;34m(.0)\u001b[0m\n\u001b[1;32m      1\u001b[0m plt\u001b[38;5;241m.\u001b[39mplot(np\u001b[38;5;241m.\u001b[39marange(\u001b[38;5;241m0.1\u001b[39m, \u001b[38;5;241m1.1\u001b[39m, \u001b[38;5;241m0.1\u001b[39m),\n\u001b[0;32m----> 2\u001b[0m          [np\u001b[38;5;241m.\u001b[39mmean(\u001b[43mY_motion_side_left_CoM\u001b[49m[np\u001b[38;5;241m.\u001b[39mwhere(np\u001b[38;5;241m.\u001b[39misclose(X_motion_side_left_CoM[:, \u001b[38;5;241m1\u001b[39m], velocity))[\u001b[38;5;241m0\u001b[39m], \u001b[38;5;241m1\u001b[39m]) \u001b[38;5;28;01mfor\u001b[39;00m velocity \u001b[38;5;129;01min\u001b[39;00m np\u001b[38;5;241m.\u001b[39marange(\u001b[38;5;241m0.1\u001b[39m, \u001b[38;5;241m1.1\u001b[39m, \u001b[38;5;241m0.1\u001b[39m)], \n\u001b[1;32m      3\u001b[0m          \u001b[38;5;124m'\u001b[39m\u001b[38;5;124mro\u001b[39m\u001b[38;5;124m'\u001b[39m)\n\u001b[1;32m      4\u001b[0m plt\u001b[38;5;241m.\u001b[39mxlabel(\u001b[38;5;124m'\u001b[39m\u001b[38;5;124mVelocities\u001b[39m\u001b[38;5;124m'\u001b[39m)\n\u001b[1;32m      5\u001b[0m plt\u001b[38;5;241m.\u001b[39mylabel(\u001b[38;5;124m'\u001b[39m\u001b[38;5;130;01m\\u0394\u001b[39;00m\u001b[38;5;124mY CoM\u001b[39m\u001b[38;5;124m'\u001b[39m)\n",
      "\u001b[0;31mNameError\u001b[0m: name 'Y_motion_side_left_CoM' is not defined"
     ]
    }
   ],
   "source": [
    "plt.plot(np.arange(0.1, 1.1, 0.1),\n",
    "         [np.mean(Y_motion_side_left_CoM[np.where(np.isclose(X_motion_side_left_CoM[:, 1], velocity))[0], 1]) for velocity in np.arange(0.1, 1.1, 0.1)], \n",
    "         'ro')\n",
    "plt.xlabel('Velocities')\n",
    "plt.ylabel('\\u0394Y CoM')\n",
    "plt.show()"
   ]
  },
  {
   "cell_type": "code",
   "execution_count": 19,
   "id": "6d836e3f",
   "metadata": {},
   "outputs": [
    {
     "data": {
      "image/png": "[encoded data removed]",
      "text/plain": [
       "<Figure size 432x288 with 1 Axes>"
      ]
     },
     "metadata": {
      "needs_background": "light"
     },
     "output_type": "display_data"
    }
   ],
   "source": [
    "x = np.array([0.1, 0.2, 0.3, 0.4, 0.5, 0.6, 0.7, 0.8, 0.9])\n",
    "y = np.array([np.mean(Y_motion_side_left_CoM[np.where(np.isclose(X_motion_side_left_CoM[:, 1], velocity))[0], 1]) for velocity in np.arange(0.1, 1.0, 0.1)])\n",
    "e = np.array([np.std(Y_motion_side_left_CoM[np.where(np.isclose(X_motion_side_left_CoM[:, 1], velocity))[0], 1]) for velocity in np.arange(0.1, 1.0, 0.1)])\n",
    "plt.errorbar(x, y, e, linestyle='None', marker='s')\n",
    "plt.xlabel('Velocities')\n",
    "plt.ylabel('\\u03B4Y CoM')\n",
    "plt.show()"
   ]
  },
  {
   "cell_type": "markdown",
   "id": "f4b3eb03",
   "metadata": {},
   "source": [
    "### Right Plot"
   ]
  },
  {
   "cell_type": "code",
   "execution_count": 31,
   "id": "9f156f31",
   "metadata": {},
   "outputs": [
    {
     "data": {
      "image/png": "[encoded data removed]",
      "text/plain": [
       "<Figure size 432x288 with 1 Axes>"
      ]
     },
     "metadata": {
      "needs_background": "light"
     },
     "output_type": "display_data"
    }
   ],
   "source": [
    "plt.plot([-0.1, -0.2, -0.3, -0.4, -0.5, -0.6, -0.7, -0.8, -0.9],\n",
    "         [np.mean(Y_motion_side_right_CoM[np.where(np.isclose(X_motion_side_right_CoM[:, 1], -velocity))[0], 1]) for velocity in np.arange(0.1, 1.0, 0.1)], \n",
    "         'ro')\n",
    "plt.xlabel('Velocities')\n",
    "plt.ylabel('\\u0394Y CoM')\n",
    "plt.show()"
   ]
  },
  {
   "cell_type": "code",
   "execution_count": 32,
   "id": "346959e4",
   "metadata": {},
   "outputs": [
    {
     "data": {
      "image/png": "[encoded data removed]",
      "text/plain": [
       "<Figure size 432x288 with 1 Axes>"
      ]
     },
     "metadata": {
      "needs_background": "light"
     },
     "output_type": "display_data"
    }
   ],
   "source": [
    "x = np.array([-0.1, -0.2, -0.3, -0.4, -0.5, -0.6, -0.7, -0.8, -0.9])\n",
    "y = np.array([np.mean(Y_motion_side_right_CoM[np.where(np.isclose(X_motion_side_right_CoM[:, 1], -velocity))[0], 1]) for velocity in np.arange(0.1, 1.0, 0.1)])\n",
    "e = np.array([np.std(Y_motion_side_right_CoM[np.where(np.isclose(X_motion_side_right_CoM[:, 1], -velocity))[0], 1]) for velocity in np.arange(0.1, 1.0, 0.1)])\n",
    "plt.errorbar(x, y, e, linestyle='None', marker='s')\n",
    "plt.xlabel('Velocities')\n",
    "plt.ylabel('\\u03B4Y CoM')\n",
    "plt.show()"
   ]
  },
  {
   "cell_type": "markdown",
   "id": "1704333f",
   "metadata": {},
   "source": [
    "### Clock Plot"
   ]
  },
  {
   "cell_type": "code",
   "execution_count": 31,
   "id": "d21f3794",
   "metadata": {},
   "outputs": [
    {
     "data": {
      "image/png": "[encoded data removed]",
      "text/plain": [
       "<Figure size 432x288 with 1 Axes>"
      ]
     },
     "metadata": {
      "needs_background": "light"
     },
     "output_type": "display_data"
    }
   ],
   "source": [
    "plt.plot([-0.1, -0.2, -0.3, -0.4, -0.5, -0.6, -0.7, -0.8, -0.9, -1.0],\n",
    "         [np.mean(Y_motion_clock_CoM[np.where(np.isclose(X_motion_clock_CoM[:, 2], -velocity))[0], 2]) for velocity in np.arange(0.1, 1.1, 0.1)], \n",
    "         'ro')\n",
    "plt.xlabel('Velocities')\n",
    "plt.ylabel('\\u0394\\u03B8 CoM')\n",
    "plt.show()"
   ]
  },
  {
   "cell_type": "code",
   "execution_count": 32,
   "id": "a2eea505",
   "metadata": {},
   "outputs": [
    {
     "data": {
      "image/png": "[encoded data removed]",
      "text/plain": [
       "<Figure size 432x288 with 1 Axes>"
      ]
     },
     "metadata": {
      "needs_background": "light"
     },
     "output_type": "display_data"
    }
   ],
   "source": [
    "x = np.array([-0.1, -0.2, -0.3, -0.4, -0.5, -0.6, -0.7, -0.8, -0.9, -1.0])\n",
    "y = np.array([np.mean(Y_motion_clock_CoM[np.where(np.isclose(X_motion_clock_CoM[:, 2], -velocity))[0], 2]) for velocity in np.arange(0.1, 1.1, 0.1)])\n",
    "e = np.array([np.std(Y_motion_clock_CoM[np.where(np.isclose(X_motion_clock_CoM[:, 2], -velocity))[0], 2]) for velocity in np.arange(0.1, 1.1, 0.1)])\n",
    "plt.errorbar(x, y, e, linestyle='None', marker='s')\n",
    "plt.xlabel('Velocities')\n",
    "plt.ylabel('\\u03B4Y CoM')\n",
    "plt.show()"
   ]
  },
  {
   "cell_type": "markdown",
   "id": "976a30b0",
   "metadata": {},
   "source": [
    "### Count Plot"
   ]
  },
  {
   "cell_type": "code",
   "execution_count": 33,
   "id": "80aaf962",
   "metadata": {},
   "outputs": [
    {
     "data": {
      "image/png": "[encoded data removed]",
      "text/plain": [
       "<Figure size 432x288 with 1 Axes>"
      ]
     },
     "metadata": {
      "needs_background": "light"
     },
     "output_type": "display_data"
    }
   ],
   "source": [
    "plt.plot(np.arange(0.1, 1.1, 0.1),\n",
    "         [np.mean(Y_motion_count_CoM[np.where(np.isclose(X_motion_count_CoM[:, 2], velocity))[0], 2]) for velocity in np.arange(0.1, 1.1, 0.1)], \n",
    "         'ro')\n",
    "plt.xlabel('Velocities')\n",
    "plt.ylabel('\\u0394\\u03B8 CoM')\n",
    "plt.show()"
   ]
  },
  {
   "cell_type": "code",
   "execution_count": 34,
   "id": "71e95f20",
   "metadata": {},
   "outputs": [
    {
     "data": {
      "image/png": "[encoded data removed]",
      "text/plain": [
       "<Figure size 432x288 with 1 Axes>"
      ]
     },
     "metadata": {
      "needs_background": "light"
     },
     "output_type": "display_data"
    }
   ],
   "source": [
    "x = np.array(np.arange(0.1, 1.1, 0.1))\n",
    "y = np.array([np.mean(Y_motion_count_CoM[np.where(np.isclose(X_motion_count_CoM[:, 2], velocity))[0], 2]) for velocity in np.arange(0.1, 1.1, 0.1)])\n",
    "e = np.array([np.std(Y_motion_count_CoM[np.where(np.isclose(X_motion_count_CoM[:, 2], velocity))[0], 2]) for velocity in np.arange(0.1, 1.1, 0.1)])\n",
    "plt.errorbar(x, y, e, linestyle='None', marker='s')\n",
    "plt.xlabel('Velocities')\n",
    "plt.ylabel('\\u03B4Y CoM')\n",
    "plt.show()"
   ]
  },
  {
   "cell_type": "markdown",
   "id": "e615862e",
   "metadata": {},
   "source": [
    "## Forwad Check"
   ]
  },
  {
   "cell_type": "code",
   "execution_count": 35,
   "id": "f032b9e5",
   "metadata": {},
   "outputs": [
    {
     "name": "stdout",
     "output_type": "stream",
     "text": [
      "Min displacement: -0.015489258142626028. Max displacement: 0.2634100732030511\n"
     ]
    }
   ],
   "source": [
    "print(f\"Min displacement: {min(Y_motion_fwd_CoM[:, 0])}. Max displacement: {max(Y_motion_fwd_CoM[:, 0])}\")"
   ]
  },
  {
   "cell_type": "markdown",
   "id": "472c7324",
   "metadata": {},
   "source": [
    "## Clockwise Check"
   ]
  },
  {
   "cell_type": "code",
   "execution_count": 36,
   "id": "617075fb",
   "metadata": {},
   "outputs": [
    {
     "name": "stdout",
     "output_type": "stream",
     "text": [
      "Min displacement: -0.3308763499889753. Max displacement: -0.021282279498566536\n"
     ]
    }
   ],
   "source": [
    "print(f\"Min displacement: {min(Y_motion_clock_CoM[:, 2])}. Max displacement: {max(Y_motion_clock_CoM[:, 2])}\")"
   ]
  },
  {
   "cell_type": "markdown",
   "id": "dcf31447",
   "metadata": {},
   "source": [
    "## Counter Check"
   ]
  },
  {
   "cell_type": "code",
   "execution_count": 37,
   "id": "a6980911",
   "metadata": {},
   "outputs": [
    {
     "name": "stdout",
     "output_type": "stream",
     "text": [
      "Min displacement: 0.02168094526488501. Max displacement: 0.3552630795877554\n"
     ]
    }
   ],
   "source": [
    "print(f\"Min displacement: {min(Y_motion_count_CoM[:, 2])}. Max displacement: {max(Y_motion_count_CoM[:, 2])}\")"
   ]
  },
  {
   "cell_type": "markdown",
   "id": "5a21ace6",
   "metadata": {},
   "source": [
    "## Left Check"
   ]
  },
  {
   "cell_type": "code",
   "execution_count": 23,
   "id": "b8552df8",
   "metadata": {},
   "outputs": [
    {
     "name": "stdout",
     "output_type": "stream",
     "text": [
      "Min displacement: 0.007853730130729542. Max displacement: 0.09715947318711393\n"
     ]
    }
   ],
   "source": [
    "print(f\"Min displacement: {min(Y_motion_side_left_CoM[:, 1])}. Max displacement: {max(Y_motion_side_left_CoM[:, 1])}\")"
   ]
  },
  {
   "cell_type": "markdown",
   "id": "b787ba03",
   "metadata": {},
   "source": [
    "## Right Check"
   ]
  },
  {
   "cell_type": "code",
   "execution_count": 24,
   "id": "e78f643c",
   "metadata": {},
   "outputs": [
    {
     "name": "stdout",
     "output_type": "stream",
     "text": [
      "Min displacement: -0.0944799924815003. Max displacement: -0.010731300881279493\n"
     ]
    }
   ],
   "source": [
    "print(f\"Min displacement: {min(Y_motion_side_right_CoM[:, 1])}. Max displacement: {max(Y_motion_side_right_CoM[:, 1])}\")"
   ]
  },
  {
   "cell_type": "code",
   "execution_count": null,
   "id": "9f529fe3",
   "metadata": {},
   "outputs": [],
   "source": []
  }
 ],
 "metadata": {
  "kernelspec": {
   "display_name": "Python 3 (ipykernel)",
   "language": "python",
   "name": "python3"
  },
  "language_info": {
   "codemirror_mode": {
    "name": "ipython",
    "version": 3
   },
   "file_extension": ".py",
   "mimetype": "text/x-python",
   "name": "python",
   "nbconvert_exporter": "python",
   "pygments_lexer": "ipython3",
   "version": "3.8.10"
  }
 },
 "nbformat": 4,
 "nbformat_minor": 5
}
