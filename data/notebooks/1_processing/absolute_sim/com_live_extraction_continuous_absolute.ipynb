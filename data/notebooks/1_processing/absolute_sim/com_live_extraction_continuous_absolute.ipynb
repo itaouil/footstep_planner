{
 "cells": [
  {
   "cell_type": "code",
   "execution_count": 1,
   "id": "ec29827b",
   "metadata": {},
   "outputs": [],
   "source": [
    "#!/usr/bin/env python3\n",
    "# -*- coding: utf-8 -*"
   ]
  },
  {
   "cell_type": "code",
   "execution_count": 2,
   "id": "4e69dc4b",
   "metadata": {},
   "outputs": [],
   "source": [
    "# Imports\n",
    "import sys\n",
    "import math\n",
    "import numpy as np\n",
    "from matplotlib import animation\n",
    "from IPython.display import HTML\n",
    "from matplotlib import pyplot as plt\n",
    "plt.rcParams['animation.ffmpeg_path'] = '/usr/bin/ffmpeg'\n",
    "import mpl_toolkits.mplot3d.axes3d as p3"
   ]
  },
  {
   "cell_type": "code",
   "execution_count": 3,
   "id": "c4f8391c",
   "metadata": {},
   "outputs": [],
   "source": [
    "np.random.seed(20)\n",
    "np.set_printoptions(threshold=sys.maxsize)"
   ]
  },
  {
   "cell_type": "code",
   "execution_count": 4,
   "id": "c9587dfc",
   "metadata": {},
   "outputs": [],
   "source": [
    "%matplotlib inline"
   ]
  },
  {
   "cell_type": "markdown",
   "id": "2d3d9d60",
   "metadata": {},
   "source": [
    "# Data"
   ]
  },
  {
   "cell_type": "code",
   "execution_count": 5,
   "id": "0ca43648",
   "metadata": {},
   "outputs": [
    {
     "name": "stdout",
     "output_type": "stream",
     "text": [
      "Motion data has a length of  243\n"
     ]
    }
   ],
   "source": [
    "# Read data\n",
    "path = '../../../dataset_sim/mpc_motions_continuous.csv'\n",
    "motion = np.genfromtxt(path, delimiter=',', dtype=np.float64)\n",
    "contacts = np.genfromtxt(path, delimiter=',', usecols=(29, 30), dtype=bool)\n",
    "print(\"Motion data has a length of \", len(motion))"
   ]
  },
  {
   "cell_type": "code",
   "execution_count": 6,
   "id": "4a762bd1",
   "metadata": {},
   "outputs": [
    {
     "data": {
      "text/plain": [
       "(243, 31)"
      ]
     },
     "execution_count": 6,
     "metadata": {},
     "output_type": "execute_result"
    }
   ],
   "source": [
    "motion.shape"
   ]
  },
  {
   "cell_type": "markdown",
   "id": "a6be05d7",
   "metadata": {},
   "source": [
    "## Height-Force plots"
   ]
  },
  {
   "cell_type": "code",
   "execution_count": 7,
   "id": "a659e209",
   "metadata": {},
   "outputs": [],
   "source": [
    "def get_specific_cmd(dataset, fwd, side, rot):\n",
    "    if abs(fwd): \n",
    "        return np.where(dataset[:, 1] > 0)[0] if fwd > 0 else np.where(dataset[:, 1] < 0)[0]\n",
    "    if abs(side): \n",
    "        return np.where(dataset[:, 2] > 0)[0] if side > 0 else np.where(dataset[:, 2] < 0)[0]\n",
    "    if abs(rot): \n",
    "        return np.where(dataset[:, 3] > 0)[0] if rot > 0 else np.where(dataset[:, 3] < 0)[0]"
   ]
  },
  {
   "cell_type": "code",
   "execution_count": 8,
   "id": "5c3bde51",
   "metadata": {},
   "outputs": [],
   "source": [
    "def get_swinging_motions(dataset, height=1):\n",
    "    # rf min height (i.e swining motion)\n",
    "    fl_min_height = np.where(dataset[:, 6] < height)[0]\n",
    "    fr_min_height = np.where(dataset[:, 9] < height)[0]\n",
    "    rl_min_height = np.where(dataset[:, 12] < height)[0]\n",
    "    rr_min_height = np.where(dataset[:, 15] < height)[0]\n",
    "            \n",
    "    return fl_min_height,fr_min_height,rl_min_height,rr_min_height"
   ]
  },
  {
   "cell_type": "markdown",
   "id": "75ab4b04",
   "metadata": {},
   "source": [
    "### Footstep IDXs"
   ]
  },
  {
   "cell_type": "code",
   "execution_count": 9,
   "id": "fb0b3e46",
   "metadata": {},
   "outputs": [],
   "source": [
    "footsteps_fwd = get_specific_cmd(motion, 1, 0, 0)\n",
    "footsteps_clock = get_specific_cmd(motion, 0, 0, -1)\n",
    "footsteps_count = get_specific_cmd(motion, 0, 0, 1)\n",
    "footsteps_side_right = get_specific_cmd(motion, 0, -1, 0)\n",
    "footsteps_side_left = get_specific_cmd(motion, 0, 1, 0)"
   ]
  },
  {
   "cell_type": "code",
   "execution_count": 10,
   "id": "e65aea8a-3766-45ae-8a29-d566dc77681a",
   "metadata": {},
   "outputs": [
    {
     "name": "stdout",
     "output_type": "stream",
     "text": [
      "(0,)\n"
     ]
    }
   ],
   "source": [
    "print(footsteps_count.shape)"
   ]
  },
  {
   "cell_type": "markdown",
   "id": "5fbba67a",
   "metadata": {},
   "source": [
    "# Dataset Preparation"
   ]
  },
  {
   "cell_type": "code",
   "execution_count": 11,
   "id": "9daf2303",
   "metadata": {},
   "outputs": [],
   "source": [
    "import sklearn\n",
    "from sklearn.linear_model import LinearRegression\n",
    "from sklearn.model_selection import train_test_split"
   ]
  },
  {
   "cell_type": "code",
   "execution_count": 12,
   "id": "12fcdae4",
   "metadata": {},
   "outputs": [],
   "source": [
    "def yaw_from_quaternion(Q):\n",
    "    \"\"\"\n",
    "    Covert a quaternion into a full three-dimensional rotation matrix.\n",
    " \n",
    "    Input\n",
    "    :param Q: A 4 element array representing the quaternion (q0,q1,q2,q3) \n",
    " \n",
    "    Output\n",
    "    :return: A 3x3 element matrix representing the full 3D rotation matrix. \n",
    "             This rotation matrix converts a point in the local reference \n",
    "             frame to a point in the global reference frame.\n",
    "    \"\"\"\n",
    "    # Extract the values from Q\n",
    "    x = Q[0]\n",
    "    y = Q[1]\n",
    "    z = Q[2]\n",
    "    w = Q[3]\n",
    "     \n",
    "    return np.arctan2(2 * (w*z + x*y), 1 - 2 * (y*y + z*z))"
   ]
  },
  {
   "cell_type": "code",
   "execution_count": 13,
   "id": "0ed4fced",
   "metadata": {},
   "outputs": [],
   "source": [
    "def quaternion_rotation_matrix(Q):\n",
    "    \"\"\"\n",
    "    Covert a quaternion into a full three-dimensional rotation matrix.\n",
    " \n",
    "    Input\n",
    "    :param Q: A 4 element array representing the quaternion (q0,q1,q2,q3) \n",
    " \n",
    "    Output\n",
    "    :return: A 3x3 element matrix representing the full 3D rotation matrix. \n",
    "             This rotation matrix converts a point in the local reference \n",
    "             frame to a point in the global reference frame.\n",
    "    \"\"\"\n",
    "    # Extract the values from Q\n",
    "    q0 = Q[3]\n",
    "    q1 = Q[0]\n",
    "    q2 = Q[1]\n",
    "    q3 = Q[2]\n",
    "     \n",
    "    # First row of the rotation matrix\n",
    "    r00 = 2 * (q0 * q0 + q1 * q1) - 1\n",
    "    r01 = 2 * (q1 * q2 - q0 * q3)\n",
    "    r02 = 2 * (q1 * q3 + q0 * q2)\n",
    "     \n",
    "    # Second row of the rotation matrix\n",
    "    r10 = 2 * (q1 * q2 + q0 * q3)\n",
    "    r11 = 2 * (q0 * q0 + q2 * q2) - 1\n",
    "    r12 = 2 * (q2 * q3 - q0 * q1)\n",
    "     \n",
    "    # Third row of the rotation matrix\n",
    "    r20 = 2 * (q1 * q3 - q0 * q2)\n",
    "    r21 = 2 * (q2 * q3 + q0 * q1)\n",
    "    r22 = 2 * (q0 * q0 + q3 * q3) - 1\n",
    "     \n",
    "    # 3x3 rotation matrix\n",
    "    rot_matrix = np.array([[r00, r01, r02],\n",
    "                           [r10, r11, r12],\n",
    "                           [r20, r21, r22]])\n",
    "                            \n",
    "    return rot_matrix"
   ]
  },
  {
   "cell_type": "code",
   "execution_count": 18,
   "id": "7735f7e5-262f-4f64-a9a8-efa881b37cbd",
   "metadata": {},
   "outputs": [
    {
     "name": "stdout",
     "output_type": "stream",
     "text": [
      "(242, 35)\n",
      "(242, 3)\n"
     ]
    }
   ],
   "source": [
    "def create_com_dataset(dataset, footsteps, motion=None, debug=False):\n",
    "    inputs = []\n",
    "    labels = []\n",
    "    \n",
    "    for idx, footstep in enumerate(footsteps):\n",
    "        if idx > 0:\n",
    "            # Compute time difference between\n",
    "            # current and next footsteps\n",
    "            time_difference = abs(dataset[footsteps[idx], 0] - dataset[footsteps[idx-1], 0])\n",
    "            \n",
    "            #if time_difference < 1 and np.any(dataset[footsteps[idx-1], 1:4]) and np.any(dataset[footsteps[idx], 1:4]):\n",
    "            if True:\n",
    "                lf_rh_moving = contacts[footsteps[idx], 0]\n",
    "                rf_lh_moving = contacts[footsteps[idx], 1]\n",
    "                \n",
    "                if lf_rh_moving == rf_lh_moving:\n",
    "                    print(\"Invalid\")\n",
    "                    continue\n",
    "                \n",
    "                # Compute rotation matrices from odometry orientation\n",
    "                R_prev = quaternion_rotation_matrix(dataset[footsteps[idx-1], 19:23])\n",
    "                R_curr = quaternion_rotation_matrix(dataset[footsteps[idx], 19:23])\n",
    "\n",
    "                # Odom base vectors\n",
    "                prev_base = dataset[footsteps[idx-1], 16:19]\n",
    "                curr_base = dataset[footsteps[idx], 16:19]\n",
    "\n",
    "                # Rotate odometry estimation\n",
    "                rotated_prev_base = prev_base @ R_prev\n",
    "                rotated_curr_base = curr_base @ R_prev\n",
    "                base_displacement = rotated_curr_base - rotated_prev_base\n",
    "                \n",
    "                prev_yaw = yaw_from_quaternion(dataset[footsteps[idx-1], 19:23])\n",
    "                curr_yaw = yaw_from_quaternion(dataset[footsteps[idx], 19:23])\n",
    "                yaw = curr_yaw - prev_yaw\n",
    "                \n",
    "                # Handle angle wrap\n",
    "                if np.sign(prev_yaw) != np.sign(curr_yaw):\n",
    "                    print(\"Angle wrap detected.\")\n",
    "                    continue\n",
    "                    \n",
    "                inputs.append(dataset[footsteps[idx-1], 1:31].tolist() +\n",
    "                              dataset[footsteps[idx], 1:4].tolist() +\n",
    "                              [lf_rh_moving, rf_lh_moving])\n",
    "                \n",
    "                # Labels\n",
    "                labels.append([base_displacement[0], base_displacement[1], yaw])\n",
    "                \n",
    "    return np.array(inputs, dtype=float), np.array(labels, dtype=float)\n",
    "                \n",
    "X_motion_fwd_CoM, Y_motion_fwd_CoM = create_com_dataset(motion, footsteps_fwd)\n",
    "#X_motion_clock_CoM, Y_motion_clock_CoM = create_com_dataset(motion, footsteps_clock)\n",
    "#X_motion_count_CoM, Y_motion_count_CoM = create_com_dataset(motion, footsteps_count)\n",
    "#X_motion_side_left_CoM, Y_motion_side_left_CoM = create_com_dataset(motion, footsteps_side_left)\n",
    "#X_motion_side_right_CoM, Y_motion_side_right_CoM = create_com_dataset(motion, footsteps_side_right)\n",
    "\n",
    "# Stack datasets\n",
    "#X_motion_CoM_continuous = np.concatenate((X_motion_fwd_CoM, X_motion_clock_CoM, X_motion_count_CoM))\n",
    "#Y_motion_CoM_continuous = np.concatenate((Y_motion_fwd_CoM, Y_motion_clock_CoM, Y_motion_count_CoM))\n",
    "\n",
    "X_motion_CoM_continuous = X_motion_fwd_CoM\n",
    "Y_motion_CoM_continuous = Y_motion_fwd_CoM\n",
    "\n",
    "print(X_motion_CoM_continuous.shape)\n",
    "print(Y_motion_CoM_continuous.shape)"
   ]
  },
  {
   "cell_type": "code",
   "execution_count": 19,
   "id": "200b546d",
   "metadata": {},
   "outputs": [
    {
     "name": "stdout",
     "output_type": "stream",
     "text": [
      "Stored 'X_motion_CoM_continuous' (ndarray)\n",
      "Stored 'Y_motion_CoM_continuous' (ndarray)\n"
     ]
    }
   ],
   "source": [
    "%store X_motion_CoM_continuous\n",
    "%store Y_motion_CoM_continuous"
   ]
  },
  {
   "cell_type": "markdown",
   "id": "d4f2cf84-0416-4421-bd27-120ab39caad3",
   "metadata": {},
   "source": [
    "# Velocity Check"
   ]
  },
  {
   "cell_type": "code",
   "execution_count": 20,
   "id": "06c33669-77bd-4a3e-a121-d3418d96421b",
   "metadata": {},
   "outputs": [
    {
     "data": {
      "text/plain": [
       "{0.0}"
      ]
     },
     "execution_count": 20,
     "metadata": {},
     "output_type": "execute_result"
    }
   ],
   "source": [
    "set(X_motion_CoM_continuous[:, 2])"
   ]
  },
  {
   "cell_type": "markdown",
   "id": "2d026421-20e9-4b06-bfea-01b0c82319ef",
   "metadata": {},
   "source": [
    "# FWD CoM displacements"
   ]
  },
  {
   "cell_type": "code",
   "execution_count": 21,
   "id": "1af00cb6-5cb3-43db-a01c-4aa54e451dee",
   "metadata": {},
   "outputs": [
    {
     "data": {
      "text/plain": [
       "0.17179725628733422"
      ]
     },
     "execution_count": 21,
     "metadata": {},
     "output_type": "execute_result"
    }
   ],
   "source": [
    "max(Y_motion_CoM_continuous[:, 0])"
   ]
  },
  {
   "cell_type": "code",
   "execution_count": 22,
   "id": "920aa7fb-0403-4d18-b005-bd84261153c3",
   "metadata": {},
   "outputs": [
    {
     "name": "stdout",
     "output_type": "stream",
     "text": [
      "Velocity 0.1 with 34 samples\n",
      "Mean CoM(x) displacement of 0.021480276092798997 with a std of 0.0014016037852279883\n",
      "Mean CoM(y) displacement of -5.548113260294271e-05 with a std of 0.0004860003753254144\n",
      "Mean CoM(yaw) displacement of -3.4540561016273856e-07 with a std of 0.0031023950172178075\n",
      "\n",
      "Velocity 0.2 with 34 samples\n",
      "Mean CoM(x) displacement of 0.04421817997597005 with a std of 0.004003139777983427\n",
      "Mean CoM(y) displacement of 1.7263624928552737e-05 with a std of 0.0009693527555222108\n",
      "Mean CoM(yaw) displacement of 0.00024619784080641497 with a std of 0.003098054498029205\n",
      "\n",
      "Velocity 0.30000000000000004 with 31 samples\n",
      "Mean CoM(x) displacement of 0.06589826514916622 with a std of 0.003805095839648057\n",
      "Mean CoM(y) displacement of -4.262210631115097e-06 with a std of 0.0008222258891869572\n",
      "Mean CoM(yaw) displacement of 9.340094646606657e-05 with a std of 0.0033219265065650245\n",
      "\n",
      "Velocity 0.4 with 34 samples\n",
      "Mean CoM(x) displacement of 0.08847336795703849 with a std of 0.0051392773186285405\n",
      "Mean CoM(y) displacement of 0.00034705162675345325 with a std of 0.0021931903106661528\n",
      "Mean CoM(yaw) displacement of -4.824866569846604e-06 with a std of 0.003929557106994779\n",
      "\n",
      "Velocity 0.5 with 35 samples\n",
      "Mean CoM(x) displacement of 0.11128827691316019 with a std of 0.0059643541405711336\n",
      "Mean CoM(y) displacement of 0.0005661943263539066 with a std of 0.0023526755544234744\n",
      "Mean CoM(yaw) displacement of -0.00022525719325099867 with a std of 0.003950028926920136\n",
      "\n",
      "Velocity 0.6 with 28 samples\n",
      "Mean CoM(x) displacement of 0.1345195108780948 with a std of 0.0070667938542504\n",
      "Mean CoM(y) displacement of 0.000507747851196275 with a std of 0.0023522998377707113\n",
      "Mean CoM(yaw) displacement of -0.00014274400241071468 with a std of 0.0038591015965212163\n",
      "\n",
      "Velocity 0.7000000000000001 with 40 samples\n",
      "Mean CoM(x) displacement of 0.1561334654421998 with a std of 0.009365733039761839\n",
      "Mean CoM(y) displacement of 0.00032406111477421005 with a std of 0.004117725478258242\n",
      "Mean CoM(yaw) displacement of -2.5510363076920727e-05 with a std of 0.004132530736527266\n",
      "\n",
      "Velocity 0.8 with 0 samples\n",
      "Mean CoM(x) displacement of nan with a std of nan\n",
      "Mean CoM(y) displacement of nan with a std of nan\n",
      "Mean CoM(yaw) displacement of nan with a std of nan\n",
      "\n",
      "Velocity 0.9 with 0 samples\n",
      "Mean CoM(x) displacement of nan with a std of nan\n",
      "Mean CoM(y) displacement of nan with a std of nan\n",
      "Mean CoM(yaw) displacement of nan with a std of nan\n",
      "\n",
      "Velocity 1.0 with 0 samples\n",
      "Mean CoM(x) displacement of nan with a std of nan\n",
      "Mean CoM(y) displacement of nan with a std of nan\n",
      "Mean CoM(yaw) displacement of nan with a std of nan\n",
      "\n"
     ]
    },
    {
     "name": "stderr",
     "output_type": "stream",
     "text": [
      "/home/ilyass/.local/lib/python3.8/site-packages/numpy/core/fromnumeric.py:3432: RuntimeWarning: Mean of empty slice.\n",
      "  return _methods._mean(a, axis=axis, dtype=dtype,\n",
      "/home/ilyass/.local/lib/python3.8/site-packages/numpy/core/_methods.py:190: RuntimeWarning: invalid value encountered in double_scalars\n",
      "  ret = ret.dtype.type(ret / rcount)\n",
      "/home/ilyass/.local/lib/python3.8/site-packages/numpy/core/_methods.py:265: RuntimeWarning: Degrees of freedom <= 0 for slice\n",
      "  ret = _var(a, axis=axis, dtype=dtype, out=out, ddof=ddof,\n",
      "/home/ilyass/.local/lib/python3.8/site-packages/numpy/core/_methods.py:223: RuntimeWarning: invalid value encountered in divide\n",
      "  arrmean = um.true_divide(arrmean, div, out=arrmean, casting='unsafe',\n",
      "/home/ilyass/.local/lib/python3.8/site-packages/numpy/core/_methods.py:257: RuntimeWarning: invalid value encountered in double_scalars\n",
      "  ret = ret.dtype.type(ret / rcount)\n"
     ]
    }
   ],
   "source": [
    "# X displacement mean and std for each velocity\n",
    "for velocity in np.arange(0.1, 1.1, 0.1):\n",
    "    idx = np.where(np.isclose(X_motion_CoM_continuous[:, 0], velocity))[0]\n",
    "    print(f\"Velocity {velocity} with {len(idx)} samples\")\n",
    "    print(f\"Mean CoM(x) displacement of {np.mean(Y_motion_CoM_continuous[idx, 0])} with a std of {np.std(Y_motion_CoM_continuous[idx, 0])}\")\n",
    "    print(f\"Mean CoM(y) displacement of {np.mean(Y_motion_CoM_continuous[idx, 1])} with a std of {np.std(Y_motion_CoM_continuous[idx, 1])}\")\n",
    "    print(f\"Mean CoM(yaw) displacement of {np.mean(Y_motion_CoM_continuous[idx, 2])} with a std of {np.std(Y_motion_CoM_continuous[idx, 2])}\\n\")"
   ]
  },
  {
   "cell_type": "markdown",
   "id": "2b86993f-fc08-4cf5-a655-f99715448f47",
   "metadata": {},
   "source": [
    "# CK CoM displacement"
   ]
  },
  {
   "cell_type": "code",
   "execution_count": null,
   "id": "14c10cf2-d40e-4007-8ae4-caac519ea479",
   "metadata": {},
   "outputs": [],
   "source": [
    "# X displacement mean and std for each velocity\n",
    "for velocity in np.arange(0.1, 1.1, 0.1):\n",
    "    idx = np.where(np.isclose(X_motion_CoM_continuous[:, 2], -velocity))[0]\n",
    "    print(f\"Velocity {velocity} with {len(idx)} samples\")\n",
    "    print(f\"Mean CoM(x) displacement of {np.mean(Y_motion_CoM_continuous[idx, 0])} with a std of {np.std(Y_motion_CoM_continuous[idx, 0])}\")\n",
    "    print(f\"Mean CoM(y) displacement of {np.mean(Y_motion_CoM_continuous[idx, 1])} with a std of {np.std(Y_motion_CoM_continuous[idx, 1])}\")\n",
    "    print(f\"Mean CoM(yaw) displacement of {np.mean(Y_motion_CoM_continuous[idx, 2])} with a std of {np.std(Y_motion_CoM_continuous[idx, 2])}\\n\")"
   ]
  },
  {
   "cell_type": "markdown",
   "id": "65593bcc-74c5-4e42-aad6-ba713c1f551c",
   "metadata": {},
   "source": [
    "# CCK CoM displacement"
   ]
  },
  {
   "cell_type": "code",
   "execution_count": null,
   "id": "696c8b22-301d-40eb-a31c-04d8dadee0c0",
   "metadata": {},
   "outputs": [],
   "source": [
    "# X displacement mean and std for each velocity\n",
    "for velocity in np.arange(0.1, 1.1, 0.1):\n",
    "    idx = np.where(np.isclose(X_motion_CoM_continuous[:, 2], velocity))[0]\n",
    "    print(f\"Velocity {velocity} with {len(idx)} samples\")\n",
    "    print(f\"Mean CoM(x) displacement of {np.mean(Y_motion_CoM_continuous[idx, 0])} with a std of {np.std(Y_motion_CoM_continuous[idx, 0])}\")\n",
    "    print(f\"Mean CoM(y) displacement of {np.mean(Y_motion_CoM_continuous[idx, 1])} with a std of {np.std(Y_motion_CoM_continuous[idx, 1])}\")\n",
    "    print(f\"Mean CoM(yaw) displacement of {np.mean(Y_motion_CoM_continuous[idx, 2])} with a std of {np.std(Y_motion_CoM_continuous[idx, 2])}\\n\")"
   ]
  },
  {
   "cell_type": "markdown",
   "id": "f2cd5b6b",
   "metadata": {},
   "source": [
    "### Fwd Plot"
   ]
  },
  {
   "cell_type": "code",
   "execution_count": null,
   "id": "b84442e0-af64-4616-9d4f-db36bf5522d1",
   "metadata": {},
   "outputs": [],
   "source": [
    "np.arange(0.1, 0.9, 0.1)"
   ]
  },
  {
   "cell_type": "code",
   "execution_count": null,
   "id": "c2df2b35",
   "metadata": {},
   "outputs": [],
   "source": [
    "plt.plot(np.arange(0.1, 1.1, 0.1),\n",
    "         [np.mean(Y_motion_fwd_CoM[np.where(np.isclose(X_motion_fwd_CoM[:, 0], velocity))[0], 0]) for velocity in np.arange(0.1, 1.1, 0.1)], \n",
    "         'ro')\n",
    "plt.xlabel('Velocities')\n",
    "plt.ylabel('\\u0394X CoM')\n",
    "plt.show()"
   ]
  },
  {
   "cell_type": "code",
   "execution_count": null,
   "id": "fce2172f",
   "metadata": {},
   "outputs": [],
   "source": [
    "x = np.arange(0.1, 1.1, 0.1)\n",
    "y = np.array([np.mean(Y_motion_fwd_CoM[np.where(np.isclose(X_motion_fwd_CoM[:, 0], velocity))[0], 0]) for velocity in np.arange(0.1, 1.1, 0.1)])\n",
    "e = np.array([np.std(Y_motion_fwd_CoM[np.where(np.isclose(X_motion_fwd_CoM[:, 0], velocity))[0], 0]) for velocity in np.arange(0.1, 1.1, 0.1)])\n",
    "plt.errorbar(x, y, e, linestyle='None', marker='s')\n",
    "plt.xlabel('Velocities')\n",
    "plt.ylabel('\\u03B4X CoM')\n",
    "plt.show()"
   ]
  },
  {
   "cell_type": "markdown",
   "id": "a65ee8fd",
   "metadata": {},
   "source": [
    "### Left Plot"
   ]
  },
  {
   "cell_type": "code",
   "execution_count": null,
   "id": "7183c3fc",
   "metadata": {},
   "outputs": [],
   "source": [
    "plt.plot(np.arange(0.1, 1.1, 0.1),\n",
    "         [np.mean(Y_motion_side_left_CoM[np.where(np.isclose(X_motion_side_left_CoM[:, 1], velocity))[0], 1]) for velocity in np.arange(0.1, 1.1, 0.1)], \n",
    "         'ro')\n",
    "plt.xlabel('Velocities')\n",
    "plt.ylabel('\\u0394Y CoM')\n",
    "plt.show()"
   ]
  },
  {
   "cell_type": "code",
   "execution_count": null,
   "id": "6d836e3f",
   "metadata": {},
   "outputs": [],
   "source": [
    "x = np.array([0.1, 0.2, 0.3, 0.4, 0.5, 0.6, 0.7, 0.8, 0.9])\n",
    "y = np.array([np.mean(Y_motion_side_left_CoM[np.where(np.isclose(X_motion_side_left_CoM[:, 1], velocity))[0], 1]) for velocity in np.arange(0.1, 1.0, 0.1)])\n",
    "e = np.array([np.std(Y_motion_side_left_CoM[np.where(np.isclose(X_motion_side_left_CoM[:, 1], velocity))[0], 1]) for velocity in np.arange(0.1, 1.0, 0.1)])\n",
    "plt.errorbar(x, y, e, linestyle='None', marker='s')\n",
    "plt.xlabel('Velocities')\n",
    "plt.ylabel('\\u03B4Y CoM')\n",
    "plt.show()"
   ]
  },
  {
   "cell_type": "markdown",
   "id": "f4b3eb03",
   "metadata": {},
   "source": [
    "### Right Plot"
   ]
  },
  {
   "cell_type": "code",
   "execution_count": null,
   "id": "9f156f31",
   "metadata": {},
   "outputs": [],
   "source": [
    "plt.plot([-0.1, -0.2, -0.3, -0.4, -0.5, -0.6, -0.7, -0.8, -0.9],\n",
    "         [np.mean(Y_motion_side_right_CoM[np.where(np.isclose(X_motion_side_right_CoM[:, 1], -velocity))[0], 1]) for velocity in np.arange(0.1, 1.0, 0.1)], \n",
    "         'ro')\n",
    "plt.xlabel('Velocities')\n",
    "plt.ylabel('\\u0394Y CoM')\n",
    "plt.show()"
   ]
  },
  {
   "cell_type": "code",
   "execution_count": null,
   "id": "346959e4",
   "metadata": {},
   "outputs": [],
   "source": [
    "x = np.array([-0.1, -0.2, -0.3, -0.4, -0.5, -0.6, -0.7, -0.8, -0.9])\n",
    "y = np.array([np.mean(Y_motion_side_right_CoM[np.where(np.isclose(X_motion_side_right_CoM[:, 1], -velocity))[0], 1]) for velocity in np.arange(0.1, 1.0, 0.1)])\n",
    "e = np.array([np.std(Y_motion_side_right_CoM[np.where(np.isclose(X_motion_side_right_CoM[:, 1], -velocity))[0], 1]) for velocity in np.arange(0.1, 1.0, 0.1)])\n",
    "plt.errorbar(x, y, e, linestyle='None', marker='s')\n",
    "plt.xlabel('Velocities')\n",
    "plt.ylabel('\\u03B4Y CoM')\n",
    "plt.show()"
   ]
  },
  {
   "cell_type": "markdown",
   "id": "1704333f",
   "metadata": {},
   "source": [
    "### Clock Plot"
   ]
  },
  {
   "cell_type": "code",
   "execution_count": null,
   "id": "d21f3794",
   "metadata": {},
   "outputs": [],
   "source": [
    "plt.plot([-0.1, -0.2, -0.3, -0.4, -0.5, -0.6, -0.7, -0.8, -0.9, -1.0],\n",
    "         [np.mean(Y_motion_clock_CoM[np.where(np.isclose(X_motion_clock_CoM[:, 2], -velocity))[0], 2]) for velocity in np.arange(0.1, 1.1, 0.1)], \n",
    "         'ro')\n",
    "plt.xlabel('Velocities')\n",
    "plt.ylabel('\\u0394\\u03B8 CoM')\n",
    "plt.show()"
   ]
  },
  {
   "cell_type": "code",
   "execution_count": null,
   "id": "a2eea505",
   "metadata": {},
   "outputs": [],
   "source": [
    "x = np.array([-0.1, -0.2, -0.3, -0.4, -0.5, -0.6, -0.7, -0.8, -0.9, -1.0])\n",
    "y = np.array([np.mean(Y_motion_clock_CoM[np.where(np.isclose(X_motion_clock_CoM[:, 2], -velocity))[0], 2]) for velocity in np.arange(0.1, 1.1, 0.1)])\n",
    "e = np.array([np.std(Y_motion_clock_CoM[np.where(np.isclose(X_motion_clock_CoM[:, 2], -velocity))[0], 2]) for velocity in np.arange(0.1, 1.1, 0.1)])\n",
    "plt.errorbar(x, y, e, linestyle='None', marker='s')\n",
    "plt.xlabel('Velocities')\n",
    "plt.ylabel('\\u03B4Y CoM')\n",
    "plt.show()"
   ]
  },
  {
   "cell_type": "markdown",
   "id": "976a30b0",
   "metadata": {},
   "source": [
    "### Count Plot"
   ]
  },
  {
   "cell_type": "code",
   "execution_count": null,
   "id": "80aaf962",
   "metadata": {},
   "outputs": [],
   "source": [
    "plt.plot(np.arange(0.1, 1.1, 0.1),\n",
    "         [np.mean(Y_motion_count_CoM[np.where(np.isclose(X_motion_count_CoM[:, 2], velocity))[0], 2]) for velocity in np.arange(0.1, 1.1, 0.1)], \n",
    "         'ro')\n",
    "plt.xlabel('Velocities')\n",
    "plt.ylabel('\\u0394\\u03B8 CoM')\n",
    "plt.show()"
   ]
  },
  {
   "cell_type": "code",
   "execution_count": null,
   "id": "71e95f20",
   "metadata": {},
   "outputs": [],
   "source": [
    "x = np.array(np.arange(0.1, 1.1, 0.1))\n",
    "y = np.array([np.mean(Y_motion_count_CoM[np.where(np.isclose(X_motion_count_CoM[:, 2], velocity))[0], 2]) for velocity in np.arange(0.1, 1.1, 0.1)])\n",
    "e = np.array([np.std(Y_motion_count_CoM[np.where(np.isclose(X_motion_count_CoM[:, 2], velocity))[0], 2]) for velocity in np.arange(0.1, 1.1, 0.1)])\n",
    "plt.errorbar(x, y, e, linestyle='None', marker='s')\n",
    "plt.xlabel('Velocities')\n",
    "plt.ylabel('\\u03B4Y CoM')\n",
    "plt.show()"
   ]
  },
  {
   "cell_type": "markdown",
   "id": "e615862e",
   "metadata": {},
   "source": [
    "## Forwad Check"
   ]
  },
  {
   "cell_type": "code",
   "execution_count": null,
   "id": "f032b9e5",
   "metadata": {},
   "outputs": [],
   "source": [
    "print(f\"Min displacement: {min(Y_motion_fwd_CoM[:, 0])}. Max displacement: {max(Y_motion_fwd_CoM[:, 0])}\")"
   ]
  },
  {
   "cell_type": "markdown",
   "id": "472c7324",
   "metadata": {},
   "source": [
    "## Clockwise Check"
   ]
  },
  {
   "cell_type": "code",
   "execution_count": null,
   "id": "617075fb",
   "metadata": {},
   "outputs": [],
   "source": [
    "print(f\"Min displacement: {min(Y_motion_clock_CoM[:, 2])}. Max displacement: {max(Y_motion_clock_CoM[:, 2])}\")"
   ]
  },
  {
   "cell_type": "markdown",
   "id": "dcf31447",
   "metadata": {},
   "source": [
    "## Counter Check"
   ]
  },
  {
   "cell_type": "code",
   "execution_count": null,
   "id": "a6980911",
   "metadata": {},
   "outputs": [],
   "source": [
    "print(f\"Min displacement: {min(Y_motion_count_CoM[:, 2])}. Max displacement: {max(Y_motion_count_CoM[:, 2])}\")"
   ]
  },
  {
   "cell_type": "markdown",
   "id": "5a21ace6",
   "metadata": {},
   "source": [
    "## Left Check"
   ]
  },
  {
   "cell_type": "code",
   "execution_count": null,
   "id": "b8552df8",
   "metadata": {},
   "outputs": [],
   "source": [
    "print(f\"Min displacement: {min(Y_motion_side_left_CoM[:, 1])}. Max displacement: {max(Y_motion_side_left_CoM[:, 1])}\")"
   ]
  },
  {
   "cell_type": "markdown",
   "id": "b787ba03",
   "metadata": {},
   "source": [
    "## Right Check"
   ]
  },
  {
   "cell_type": "code",
   "execution_count": null,
   "id": "e78f643c",
   "metadata": {},
   "outputs": [],
   "source": [
    "print(f\"Min displacement: {min(Y_motion_side_right_CoM[:, 1])}. Max displacement: {max(Y_motion_side_right_CoM[:, 1])}\")"
   ]
  },
  {
   "cell_type": "code",
   "execution_count": null,
   "id": "9f529fe3",
   "metadata": {},
   "outputs": [],
   "source": []
  }
 ],
 "metadata": {
  "kernelspec": {
   "display_name": "Python 3 (ipykernel)",
   "language": "python",
   "name": "python3"
  },
  "language_info": {
   "codemirror_mode": {
    "name": "ipython",
    "version": 3
   },
   "file_extension": ".py",
   "mimetype": "text/x-python",
   "name": "python",
   "nbconvert_exporter": "python",
   "pygments_lexer": "ipython3",
   "version": "3.8.10"
  }
 },
 "nbformat": 4,
 "nbformat_minor": 5
}
