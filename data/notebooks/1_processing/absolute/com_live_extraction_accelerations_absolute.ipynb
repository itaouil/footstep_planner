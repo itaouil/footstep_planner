{
 "cells": [
  {
   "cell_type": "code",
   "execution_count": 1,
   "id": "85abcf98",
   "metadata": {},
   "outputs": [],
   "source": [
    "#!/usr/bin/env python3.6\n",
    "# -*- coding: utf-8 -*-"
   ]
  },
  {
   "cell_type": "code",
   "execution_count": 2,
   "id": "12842d52",
   "metadata": {},
   "outputs": [],
   "source": [
    "# Imports\n",
    "import sys\n",
    "import math\n",
    "import numpy as np\n",
    "from matplotlib import animation\n",
    "from IPython.display import HTML\n",
    "from matplotlib import pyplot as plt\n",
    "plt.rcParams['animation.ffmpeg_path'] = '/usr/bin/ffmpeg'\n",
    "import mpl_toolkits.mplot3d.axes3d as p3"
   ]
  },
  {
   "cell_type": "code",
   "execution_count": 3,
   "id": "9919e5e7",
   "metadata": {},
   "outputs": [],
   "source": [
    "np.random.seed(20)\n",
    "np.set_printoptions(threshold=sys.maxsize)"
   ]
  },
  {
   "cell_type": "code",
   "execution_count": 4,
   "id": "915fae6e",
   "metadata": {},
   "outputs": [],
   "source": [
    "%matplotlib inline"
   ]
  },
  {
   "cell_type": "markdown",
   "id": "fa326c01",
   "metadata": {},
   "source": [
    "# Data"
   ]
  },
  {
   "cell_type": "code",
   "execution_count": 5,
   "id": "cbd2cbf1",
   "metadata": {},
   "outputs": [
    {
     "name": "stdout",
     "output_type": "stream",
     "text": [
      "Motion data has a length of  13718\n"
     ]
    }
   ],
   "source": [
    "# Read data\n",
    "path = '../../../dataset4_wbc/live_extraction/aliengo/step_0.065/accelerations_1m.csv'\n",
    "motion = np.genfromtxt(path, delimiter=',', dtype=np.float64)\n",
    "contacts = np.genfromtxt(path, delimiter=',', usecols=(29, 30, 31, 32), dtype=bool)\n",
    "print(\"Motion data has a length of \", len(motion))"
   ]
  },
  {
   "cell_type": "code",
   "execution_count": 6,
   "id": "74410a70",
   "metadata": {},
   "outputs": [
    {
     "data": {
      "text/plain": [
       "(13718, 33)"
      ]
     },
     "execution_count": 6,
     "metadata": {},
     "output_type": "execute_result"
    }
   ],
   "source": [
    "motion.shape"
   ]
  },
  {
   "cell_type": "markdown",
   "id": "0ec79335",
   "metadata": {},
   "source": [
    "## Height-Force plots"
   ]
  },
  {
   "cell_type": "code",
   "execution_count": 7,
   "id": "11da7939",
   "metadata": {},
   "outputs": [],
   "source": [
    "def get_specific_cmd(dataset, fwd, side, rot):\n",
    "    if abs(fwd): \n",
    "        return np.where(dataset[:, 1] > 0)[0] if fwd > 0 else np.where(dataset[:, 1] < 0)[0]\n",
    "    if abs(side): \n",
    "        return np.where(dataset[:, 2] > 0)[0] if side > 0 else np.where(dataset[:, 2] < 0)[0]\n",
    "    if abs(rot): \n",
    "        return np.where(dataset[:, 3] > 0)[0] if rot > 0 else np.where(dataset[:, 3] < 0)[0]"
   ]
  },
  {
   "cell_type": "code",
   "execution_count": 8,
   "id": "b69f488b",
   "metadata": {},
   "outputs": [],
   "source": [
    "def get_swinging_motions(dataset, height=1):\n",
    "    # rf min height (i.e swining motion)\n",
    "    fl_min_height = np.where(dataset[:, 6] < height)[0]\n",
    "    fr_min_height = np.where(dataset[:, 9] < height)[0]\n",
    "    rl_min_height = np.where(dataset[:, 12] < height)[0]\n",
    "    rr_min_height = np.where(dataset[:, 15] < height)[0]\n",
    "            \n",
    "    return fl_min_height,fr_min_height,rl_min_height,rr_min_height"
   ]
  },
  {
   "cell_type": "markdown",
   "id": "5ccd7ba1",
   "metadata": {},
   "source": [
    "# Dataset Preparation"
   ]
  },
  {
   "cell_type": "code",
   "execution_count": 9,
   "id": "c4176808",
   "metadata": {},
   "outputs": [],
   "source": [
    "import sklearn\n",
    "from sklearn.linear_model import LinearRegression\n",
    "from sklearn.model_selection import train_test_split"
   ]
  },
  {
   "cell_type": "code",
   "execution_count": 10,
   "id": "bd9de926",
   "metadata": {},
   "outputs": [],
   "source": [
    "def yaw_from_quaternion(Q):\n",
    "    \"\"\"\n",
    "    Covert a quaternion into a full three-dimensional rotation matrix.\n",
    " \n",
    "    Input\n",
    "    :param Q: A 4 element array representing the quaternion (q0,q1,q2,q3) \n",
    " \n",
    "    Output\n",
    "    :return: A 3x3 element matrix representing the full 3D rotation matrix. \n",
    "             This rotation matrix converts a point in the local reference \n",
    "             frame to a point in the global reference frame.\n",
    "    \"\"\"\n",
    "    # Extract the values from Q\n",
    "    x = Q[0]\n",
    "    y = Q[1]\n",
    "    z = Q[2]\n",
    "    w = Q[3]\n",
    "     \n",
    "    return np.arctan2(2 * (w*z + x*y), 1 - 2 * (y*y + z*z))"
   ]
  },
  {
   "cell_type": "code",
   "execution_count": 11,
   "id": "f9144c56",
   "metadata": {},
   "outputs": [],
   "source": [
    "def quaternion_rotation_matrix(Q):\n",
    "    \"\"\"\n",
    "    Covert a quaternion into a full three-dimensional rotation matrix.\n",
    " \n",
    "    Input\n",
    "    :param Q: A 4 element array representing the quaternion (q0,q1,q2,q3) \n",
    " \n",
    "    Output\n",
    "    :return: A 3x3 element matrix representing the full 3D rotation matrix. \n",
    "             This rotation matrix converts a point in the local reference \n",
    "             frame to a point in the global reference frame.\n",
    "    \"\"\"\n",
    "    # Extract the values from Q\n",
    "    q0 = Q[3]\n",
    "    q1 = Q[0]\n",
    "    q2 = Q[1]\n",
    "    q3 = Q[2]\n",
    "     \n",
    "    # First row of the rotation matrix\n",
    "    r00 = 2 * (q0 * q0 + q1 * q1) - 1\n",
    "    r01 = 2 * (q1 * q2 - q0 * q3)\n",
    "    r02 = 2 * (q1 * q3 + q0 * q2)\n",
    "     \n",
    "    # Second row of the rotation matrix\n",
    "    r10 = 2 * (q1 * q2 + q0 * q3)\n",
    "    r11 = 2 * (q0 * q0 + q2 * q2) - 1\n",
    "    r12 = 2 * (q2 * q3 - q0 * q1)\n",
    "     \n",
    "    # Third row of the rotation matrix\n",
    "    r20 = 2 * (q1 * q3 - q0 * q2)\n",
    "    r21 = 2 * (q2 * q3 + q0 * q1)\n",
    "    r22 = 2 * (q0 * q0 + q3 * q3) - 1\n",
    "     \n",
    "    # 3x3 rotation matrix\n",
    "    rot_matrix = np.array([[r00, r01, r02],\n",
    "                           [r10, r11, r12],\n",
    "                           [r20, r21, r22]])\n",
    "                            \n",
    "    return rot_matrix"
   ]
  },
  {
   "cell_type": "code",
   "execution_count": 12,
   "id": "a1e1eed3",
   "metadata": {},
   "outputs": [
    {
     "name": "stdout",
     "output_type": "stream",
     "text": [
      "(13297, 28)\n",
      "(13297, 3)\n"
     ]
    }
   ],
   "source": [
    "def create_com_dataset_absolute(dataset, footsteps, motion=None, debug=False):\n",
    "    inputs = []\n",
    "    labels = []\n",
    "    \n",
    "    for idx, footstep in enumerate(footsteps):\n",
    "        if idx > 0:\n",
    "            # Compute time difference between\n",
    "            # current and next footsteps\n",
    "            time_difference = abs(dataset[footsteps[idx], 0] - dataset[footsteps[idx-1], 0])\n",
    "            \n",
    "            if time_difference < 0.5 and np.any(dataset[footsteps[idx-1], 1:4]) and np.any(dataset[footsteps[idx], 1:4]):\n",
    "                fl_moving = contacts[footsteps[idx], 0]\n",
    "                fr_moving = contacts[footsteps[idx], 1]\n",
    "                rl_moving = contacts[footsteps[idx], 2]\n",
    "                rr_moving = contacts[footsteps[idx], 3]\n",
    "                \n",
    "                assert fr_moving == rl_moving\n",
    "                assert rr_moving == fl_moving\n",
    "                assert fr_moving != fl_moving\n",
    "\n",
    "                # Compute rotation matrices from odometry orientation\n",
    "                R_prev = quaternion_rotation_matrix(dataset[footsteps[idx-1], 19:23])\n",
    "                R_curr = quaternion_rotation_matrix(dataset[footsteps[idx], 19:23])\n",
    "\n",
    "                # Odom base vectors\n",
    "                prev_base = np.array([[dataset[footsteps[idx-1], 16], dataset[footsteps[idx-1], 17], 0]])\n",
    "                curr_base = np.array([[dataset[footsteps[idx], 16], dataset[footsteps[idx], 17], 0]])\n",
    "\n",
    "                # Rotate odometry estimation\n",
    "                rotated_prev_base = R_prev.T @ prev_base.T\n",
    "                rotated_curr_base = R_prev.T @ curr_base.T\n",
    "                base_displacement = rotated_curr_base - rotated_prev_base\n",
    "\n",
    "                prev_yaw = yaw_from_quaternion(dataset[footsteps[idx-1], 19:23])\n",
    "                curr_yaw = yaw_from_quaternion(dataset[footsteps[idx], 19:23])\n",
    "                yaw = curr_yaw - prev_yaw\n",
    "                \n",
    "                if dataset[footsteps[idx-1], 3] != 0 and dataset[footsteps[idx], 3] != 0 and (prev_yaw < 0 and curr_yaw > 0) or (prev_yaw > 0 and curr_yaw < 0):\n",
    "                    continue\n",
    "                    \n",
    "                inputs.append(dataset[footsteps[idx-1], 1:4].tolist() +\n",
    "                              dataset[footsteps[idx-1], 23:29].tolist() +\n",
    "                                 #dataset[footsteps[idx-1], 4:16].tolist() + \n",
    "                              (dataset[footsteps[idx-1], 4:16].reshape(4,3) - dataset[footsteps[idx-1], 16:19].reshape(1,3)).reshape(12,).tolist() +\n",
    "                              [fl_moving, fr_moving, rl_moving, rr_moving] +\n",
    "                              dataset[footsteps[idx], 1:4].tolist())\n",
    "                \n",
    "                # Labels\n",
    "                labels.append([base_displacement[0,0], base_displacement[1,0], yaw])\n",
    "                \n",
    "    return np.array(inputs, dtype=object), np.array(labels, dtype=object)\n",
    "\n",
    "# Stack datasets\n",
    "X_motion_CoM_acceleration, Y_motion_CoM_acceleration = create_com_dataset_absolute(motion, [x for x in range(len(motion))])\n",
    "print(X_motion_CoM_acceleration.shape)\n",
    "print(Y_motion_CoM_acceleration.shape)"
   ]
  },
  {
   "cell_type": "code",
   "execution_count": 13,
   "id": "da9356b1",
   "metadata": {},
   "outputs": [
    {
     "name": "stdout",
     "output_type": "stream",
     "text": [
      "Stored 'X_motion_CoM_acceleration' (ndarray)\n",
      "Stored 'Y_motion_CoM_acceleration' (ndarray)\n"
     ]
    }
   ],
   "source": [
    "%store X_motion_CoM_acceleration\n",
    "%store Y_motion_CoM_acceleration"
   ]
  },
  {
   "cell_type": "code",
   "execution_count": 15,
   "id": "2ade201b",
   "metadata": {},
   "outputs": [
    {
     "data": {
      "text/plain": [
       "array([0.008710594356770684, -0.005823853354034292,\n",
       "       0.00010580817889640592], dtype=object)"
      ]
     },
     "execution_count": 15,
     "metadata": {},
     "output_type": "execute_result"
    }
   ],
   "source": [
    "Y_motion_CoM_acceleration[0, :]"
   ]
  },
  {
   "cell_type": "code",
   "execution_count": null,
   "id": "efedf278",
   "metadata": {},
   "outputs": [],
   "source": []
  }
 ],
 "metadata": {
  "kernelspec": {
   "display_name": "Python 3",
   "language": "python",
   "name": "python3"
  },
  "language_info": {
   "codemirror_mode": {
    "name": "ipython",
    "version": 3
   },
   "file_extension": ".py",
   "mimetype": "text/x-python",
   "name": "python",
   "nbconvert_exporter": "python",
   "pygments_lexer": "ipython3",
   "version": "3.6.12"
  }
 },
 "nbformat": 4,
 "nbformat_minor": 5
}
