{
 "cells": [
  {
   "cell_type": "code",
   "execution_count": 1,
   "id": "d5eee2d8",
   "metadata": {},
   "outputs": [],
   "source": [
    "#!/usr/bin/env python3.6\n",
    "# -*- coding: utf-8 -*-"
   ]
  },
  {
   "cell_type": "code",
   "execution_count": 2,
   "id": "17e7a7d2",
   "metadata": {},
   "outputs": [],
   "source": [
    "# Imports\n",
    "import sys\n",
    "import math\n",
    "import numpy as np\n",
    "from matplotlib import animation\n",
    "from IPython.display import HTML\n",
    "from matplotlib import pyplot as plt\n",
    "plt.rcParams['animation.ffmpeg_path'] = '/usr/bin/ffmpeg'\n",
    "import mpl_toolkits.mplot3d.axes3d as p3"
   ]
  },
  {
   "cell_type": "code",
   "execution_count": 3,
   "id": "92cbce5b",
   "metadata": {},
   "outputs": [],
   "source": [
    "np.random.seed(20)\n",
    "np.set_printoptions(threshold=sys.maxsize)"
   ]
  },
  {
   "cell_type": "code",
   "execution_count": 4,
   "id": "ea6ac4f8",
   "metadata": {},
   "outputs": [],
   "source": [
    "%matplotlib inline"
   ]
  },
  {
   "cell_type": "markdown",
   "id": "110e2248",
   "metadata": {},
   "source": [
    "# Data"
   ]
  },
  {
   "cell_type": "code",
   "execution_count": 5,
   "id": "ba7b3eda",
   "metadata": {},
   "outputs": [
    {
     "name": "stdout",
     "output_type": "stream",
     "text": [
      "Motion data has a length of  1726\n"
     ]
    }
   ],
   "source": [
    "# Read data\n",
    "path = '../../../dataset_real/gianpaolo/step_0.10/force/forward_continuous.csv'\n",
    "motion = np.genfromtxt(path, delimiter=',', dtype=np.float64)\n",
    "contacts = np.genfromtxt(path, delimiter=',', usecols=(55, 56, 57, 58), dtype=bool)\n",
    "print(\"Motion data has a length of \", len(motion))"
   ]
  },
  {
   "cell_type": "code",
   "execution_count": 6,
   "id": "fd3689c8",
   "metadata": {},
   "outputs": [
    {
     "data": {
      "text/plain": [
       "(1726, 59)"
      ]
     },
     "execution_count": 6,
     "metadata": {},
     "output_type": "execute_result"
    }
   ],
   "source": [
    "motion.shape"
   ]
  },
  {
   "cell_type": "markdown",
   "id": "bbca1327",
   "metadata": {},
   "source": [
    "## Height-Force plots"
   ]
  },
  {
   "cell_type": "code",
   "execution_count": 7,
   "id": "0789cfa0",
   "metadata": {},
   "outputs": [],
   "source": [
    "def get_specific_cmd(dataset, fwd, side, rot):\n",
    "    if abs(fwd): \n",
    "        return np.where(dataset[:, 1] > 0)[0] if fwd > 0 else np.where(dataset[:, 1] < 0)[0]\n",
    "    if abs(side): \n",
    "        return np.where(dataset[:, 2] > 0)[0] if side > 0 else np.where(dataset[:, 2] < 0)[0]\n",
    "    if abs(rot): \n",
    "        return np.where(dataset[:, 3] > 0)[0] if rot > 0 else np.where(dataset[:, 3] < 0)[0]"
   ]
  },
  {
   "cell_type": "code",
   "execution_count": 8,
   "id": "12f82c0e",
   "metadata": {},
   "outputs": [],
   "source": [
    "def get_swinging_motions(dataset, height=1):\n",
    "    # rf min height (i.e swining motion)\n",
    "    fl_min_height = np.where(dataset[:, 6] < height)[0]\n",
    "    fr_min_height = np.where(dataset[:, 9] < height)[0]\n",
    "    rl_min_height = np.where(dataset[:, 12] < height)[0]\n",
    "    rr_min_height = np.where(dataset[:, 15] < height)[0]\n",
    "            \n",
    "    return fl_min_height,fr_min_height,rl_min_height,rr_min_height"
   ]
  },
  {
   "cell_type": "code",
   "execution_count": 9,
   "id": "1ac5988c",
   "metadata": {},
   "outputs": [],
   "source": [
    "def quaternion_rotation_matrix(Q):\n",
    "    \"\"\"\n",
    "    Covert a quaternion into a full three-dimensional rotation matrix.\n",
    " \n",
    "    Input\n",
    "    :param Q: A 4 element array representing the quaternion (q0,q1,q2,q3) \n",
    " \n",
    "    Output\n",
    "    :return: A 3x3 element matrix representing the full 3D rotation matrix. \n",
    "             This rotation matrix converts a point in the local reference \n",
    "             frame to a point in the global reference frame.\n",
    "    \"\"\"\n",
    "    # Extract the values from Q\n",
    "    q0 = Q[3]\n",
    "    q1 = Q[0]\n",
    "    q2 = Q[1]\n",
    "    q3 = Q[2]\n",
    "     \n",
    "    # First row of the rotation matrix\n",
    "    r00 = 2 * (q0 * q0 + q1 * q1) - 1\n",
    "    r01 = 2 * (q1 * q2 - q0 * q3)\n",
    "    r02 = 2 * (q1 * q3 + q0 * q2)\n",
    "     \n",
    "    # Second row of the rotation matrix\n",
    "    r10 = 2 * (q1 * q2 + q0 * q3)\n",
    "    r11 = 2 * (q0 * q0 + q2 * q2) - 1\n",
    "    r12 = 2 * (q2 * q3 - q0 * q1)\n",
    "     \n",
    "    # Third row of the rotation matrix\n",
    "    r20 = 2 * (q1 * q3 - q0 * q2)\n",
    "    r21 = 2 * (q2 * q3 + q0 * q1)\n",
    "    r22 = 2 * (q0 * q0 + q3 * q3) - 1\n",
    "     \n",
    "    # 3x3 rotation matrix\n",
    "    rot_matrix = np.array([[r00, r01, r02],\n",
    "                           [r10, r11, r12],\n",
    "                           [r20, r21, r22]])\n",
    "                            \n",
    "    return rot_matrix"
   ]
  },
  {
   "cell_type": "markdown",
   "id": "742fc88d",
   "metadata": {},
   "source": [
    "### Step size"
   ]
  },
  {
   "cell_type": "code",
   "execution_count": 10,
   "id": "0495e356",
   "metadata": {},
   "outputs": [],
   "source": [
    "def get_step_size(dataset, footsteps, idx_coord, axes):\n",
    "    # Footsteps sizes\n",
    "    step_size_fr = []\n",
    "    step_size_fl = []\n",
    "    step_size_rr = []\n",
    "    step_size_rl = []\n",
    "    footstep_period = []\n",
    "    \n",
    "    # Compute step sizes\n",
    "    idx = 1\n",
    "    while idx < (len(footsteps)-1):\n",
    "        time_difference = dataset[footsteps[idx], 0] - dataset[footsteps[idx-1], 0]\n",
    "        \n",
    "        if time_difference < 0.5 and (dataset[footsteps[idx-2], 1] > 0.05 or dataset[footsteps[idx-1], 1] > 0.05):\n",
    "            footstep_period.append(time_difference)\n",
    "                        \n",
    "            # Compute rotation matrices from odometry orientation\n",
    "            R_prev = quaternion_rotation_matrix(dataset[footsteps[idx-1], 48:52])\n",
    "            R_curr = quaternion_rotation_matrix(dataset[footsteps[idx], 48:52])\n",
    "            \n",
    "            # Odom base vectors\n",
    "            prev_base = np.array([[dataset[footsteps[idx-1], 16], dataset[footsteps[idx-1], 17], dataset[footsteps[idx-1], 18]]])\n",
    "            curr_base = np.array([[dataset[footsteps[idx], 16], dataset[footsteps[idx], 17], dataset[footsteps[idx-1], 18]]])\n",
    "            \n",
    "            # Rotate odometry estimation\n",
    "            rotated_prev_base = prev_base @ R_prev \n",
    "            rotated_curr_base = curr_base @ R_prev\n",
    "            base_displacement = rotated_curr_base - rotated_prev_base\n",
    "            \n",
    "            if contacts[footsteps[idx], 0]:\n",
    "                # FL vectors\n",
    "                prev_fl = np.array([[dataset[footsteps[idx-1], 4], dataset[footsteps[idx-1], 5], dataset[footsteps[idx-1], 6]]])\n",
    "                curr_fl = np.array([[dataset[footsteps[idx], 4], dataset[footsteps[idx], 5], dataset[footsteps[idx], 6]]])\n",
    "                \n",
    "                # RR vectors\n",
    "                prev_rr = np.array([[dataset[footsteps[idx-1], 13], dataset[footsteps[idx-1], 14], dataset[footsteps[idx-1], 15]]])\n",
    "                curr_rr = np.array([[dataset[footsteps[idx], 13], dataset[footsteps[idx], 14], dataset[footsteps[idx], 15]]])\n",
    "                \n",
    "                # Feet displacements\n",
    "                fl_displacement = curr_fl - prev_fl\n",
    "                rr_displacement = curr_rr - prev_rr\n",
    "                \n",
    "                step_size_fl.append(fl_displacement[0, axes] + base_displacement[0, axes])\n",
    "                step_size_rr.append(rr_displacement[0, axes] + base_displacement[0, axes])\n",
    "            else:\n",
    "                # FR vectors\n",
    "                prev_fr = np.array([[dataset[footsteps[idx-1], 7], dataset[footsteps[idx-1], 8], dataset[footsteps[idx-1], 9]]])\n",
    "                curr_fr = np.array([[dataset[footsteps[idx], 7], dataset[footsteps[idx], 8], dataset[footsteps[idx], 9]]])\n",
    "                \n",
    "                # RL vectors\n",
    "                prev_rl = np.array([[dataset[footsteps[idx-1], 10], dataset[footsteps[idx-1], 11], dataset[footsteps[idx-1], 12]]])\n",
    "                curr_rl = np.array([[dataset[footsteps[idx], 10], dataset[footsteps[idx], 11], dataset[footsteps[idx], 12]]])\n",
    "                \n",
    "                # Feet Displacements\n",
    "                fr_displacement = curr_fr - prev_fr\n",
    "                rl_displacement = curr_rl - prev_rl\n",
    "                            \n",
    "                step_size_fr.append(fr_displacement[0, axes] + base_displacement[0, axes])\n",
    "                step_size_rl.append(rl_displacement[0, axes] + base_displacement[0, axes])\n",
    "                \n",
    "                #print(time_difference, step_size_fr[-1], dataset[footsteps[idx-1], 19])\n",
    "                \n",
    "        idx += 1\n",
    "                    \n",
    "    # Convert to numpy array\n",
    "    step_size_fl_numpy = np.array(step_size_fl)\n",
    "    step_size_fr_numpy = np.array(step_size_fr)\n",
    "    step_size_rl_numpy = np.array(step_size_rl)\n",
    "    step_size_rr_numpy = np.array(step_size_rr)\n",
    "    footstep_period_numpy = np.array(footstep_period)\n",
    "    \n",
    "    print(min(step_size_fl_numpy), \", \", max(step_size_fl_numpy))\n",
    "    print(min(step_size_fr_numpy), \", \", max(step_size_fr_numpy))\n",
    "    print(min(step_size_rl_numpy), \", \", max(step_size_rl_numpy))\n",
    "    print(min(step_size_rr_numpy), \", \", max(step_size_rr_numpy), \"\\n\")\n",
    "    \n",
    "    # Print average step-size\n",
    "    print(\"Avg. step size time: \", np.mean(footstep_period_numpy))\n",
    "    print(\"Min. step size time: \", np.min(footstep_period_numpy))\n",
    "    print(\"Max. step size time: \", np.max(footstep_period_numpy))\n",
    "    print(\"Std. step size time: \", np.std(footstep_period_numpy), \"\\n\")\n",
    "    \n",
    "    #print(footstep_period_numpy)\n",
    "    print(\"Avg. step size for fl foot: \", np.mean(step_size_fl_numpy))\n",
    "    print(\"Avg. step size for fr foot: \", np.mean(step_size_fr_numpy))\n",
    "    print(\"Avg. step size for rl foot: \", np.mean(step_size_rl_numpy))\n",
    "    print(\"Avg. step size for rr foot: \", np.mean(step_size_rr_numpy), '\\n')\n",
    "\n",
    "    # Print std. dev. step-size\n",
    "    print(\"Std. dev. step size for fl foot: \", np.std(step_size_fl_numpy))\n",
    "    print(\"Std. dev. step size for fr foot: \", np.std(step_size_fr_numpy))\n",
    "    print(\"Std. dev. step size for rl foot: \", np.std(step_size_rl_numpy))\n",
    "    print(\"Std. dev. step size for rr foot: \", np.std(step_size_rr_numpy), '\\n')\n",
    "    \n",
    "    return step_size_fr_numpy, step_size_fl_numpy, step_size_rr_numpy, step_size_rl_numpy\n",
    "\n",
    "def step_size_statistics(dataset, footsteps, sign, motion, coordinates, axes):\n",
    "    # Step size and velocity along x axis\n",
    "    for velocity in np.arange(0.1, 1.1, 0.1):\n",
    "        print(f\"Forward: Step size (x) {velocity * sign}\")\n",
    "        footsteps_velocity = footsteps[np.where((np.isclose(dataset[footsteps, motion], velocity * sign, 0.001)))[0]]\n",
    "        step_size_fr_x_fwd,_,_,_ = get_step_size(dataset, footsteps_velocity, coordinates, axes)\n",
    "        print(\"\\n\")"
   ]
  },
  {
   "cell_type": "markdown",
   "id": "06a9fdea",
   "metadata": {},
   "source": [
    "#### Forward motion"
   ]
  },
  {
   "cell_type": "code",
   "execution_count": 11,
   "id": "7e8bbe41",
   "metadata": {},
   "outputs": [],
   "source": [
    "footsteps_fwd = get_specific_cmd(motion, 1, 0, 0)"
   ]
  },
  {
   "cell_type": "code",
   "execution_count": 12,
   "id": "6b19af77",
   "metadata": {},
   "outputs": [
    {
     "name": "stdout",
     "output_type": "stream",
     "text": [
      "Forward: Step size (x) 0.1\n",
      "0.02339268333500455 ,  0.06673633638031351\n",
      "-0.014076473788681598 ,  0.06692911489859044\n",
      "-0.017410131768646808 ,  0.06724871500387608\n",
      "0.023037871785817843 ,  0.0660893887528119 \n",
      "\n",
      "Avg. step size time:  0.29299426324588734\n",
      "Min. step size time:  0.2520608901977539\n",
      "Max. step size time:  0.3260371685028076\n",
      "Std. step size time:  0.012998435201574576 \n",
      "\n",
      "Avg. step size for fl foot:  0.05553783222340477\n",
      "Avg. step size for fr foot:  0.05448147105953346\n",
      "Avg. step size for rl foot:  0.05322270793600173\n",
      "Avg. step size for rr foot:  0.054308138731151145 \n",
      "\n",
      "Std. dev. step size for fl foot:  0.006885426831469697\n",
      "Std. dev. step size for fr foot:  0.011238496563911952\n",
      "Std. dev. step size for rl foot:  0.011469090569754828\n",
      "Std. dev. step size for rr foot:  0.00679133260569789 \n",
      "\n",
      "\n",
      "\n",
      "Forward: Step size (x) 0.2\n",
      "0.011175319597249267 ,  0.14432698166474367\n",
      "0.07627180402617739 ,  0.14301720513967053\n",
      "0.07679918592315005 ,  0.14205879225400464\n",
      "0.010603815361981628 ,  0.14446529424294496 \n",
      "\n",
      "Avg. step size time:  0.2926828009741647\n",
      "Min. step size time:  0.25297045707702637\n",
      "Max. step size time:  0.33939242362976074\n",
      "Std. step size time:  0.014592005607731657 \n",
      "\n",
      "Avg. step size for fl foot:  0.11236897515704199\n",
      "Avg. step size for fr foot:  0.11419573224396852\n",
      "Avg. step size for rl foot:  0.11319365926644552\n",
      "Avg. step size for rr foot:  0.11109929608752295 \n",
      "\n",
      "Std. dev. step size for fl foot:  0.01699004676143274\n",
      "Std. dev. step size for fr foot:  0.009424862694240454\n",
      "Std. dev. step size for rl foot:  0.009497888887187894\n",
      "Std. dev. step size for rr foot:  0.01682824873401863 \n",
      "\n",
      "\n",
      "\n",
      "Forward: Step size (x) 0.30000000000000004\n",
      "0.11992037705797498 ,  0.21017391120365092\n",
      "0.019319862770296625 ,  0.21590969953363515\n",
      "0.016550511764742426 ,  0.21197952251626262\n",
      "0.12286614291090314 ,  0.2067794564860148 \n",
      "\n",
      "Avg. step size time:  0.2922516206298212\n",
      "Min. step size time:  0.2556154727935791\n",
      "Max. step size time:  0.3208167552947998\n",
      "Std. step size time:  0.01437837382490854 \n",
      "\n",
      "Avg. step size for fl foot:  0.17276190545490896\n",
      "Avg. step size for fr foot:  0.1669727231478898\n",
      "Avg. step size for rl foot:  0.16493792428733986\n",
      "Avg. step size for rr foot:  0.1709406466083146 \n",
      "\n",
      "Std. dev. step size for fl foot:  0.012624942655617836\n",
      "Std. dev. step size for fr foot:  0.033749579443974415\n",
      "Std. dev. step size for rl foot:  0.03394924055688307\n",
      "Std. dev. step size for rr foot:  0.01215091903169976 \n",
      "\n",
      "\n",
      "\n",
      "Forward: Step size (x) 0.4\n",
      "0.029576425731883127 ,  0.29607591690011603\n",
      "0.019527145808236557 ,  0.2899601571555235\n",
      "0.01718377429773088 ,  0.28852562236739177\n",
      "0.028443594754443247 ,  0.2913285783280437 \n",
      "\n",
      "Avg. step size time:  0.292401397228241\n",
      "Min. step size time:  0.24144911766052246\n",
      "Max. step size time:  0.3279683589935303\n",
      "Std. step size time:  0.014733857206997512 \n",
      "\n",
      "Avg. step size for fl foot:  0.2247373365658045\n",
      "Avg. step size for fr foot:  0.22463403813329436\n",
      "Avg. step size for rl foot:  0.22228158347097135\n",
      "Avg. step size for rr foot:  0.2227624800103426 \n",
      "\n",
      "Std. dev. step size for fl foot:  0.0447876610593616\n",
      "Std. dev. step size for fr foot:  0.04675731053390575\n",
      "Std. dev. step size for rl foot:  0.04657036566703052\n",
      "Std. dev. step size for rr foot:  0.0446336070704446 \n",
      "\n",
      "\n",
      "\n",
      "Forward: Step size (x) 0.5\n",
      "0.02646160011441223 ,  0.3659354826970267\n",
      "0.1769003824578841 ,  0.36507363898764955\n",
      "0.17706760328880145 ,  0.35848762376319276\n",
      "0.023641793777055664 ,  0.3663961967988181 \n",
      "\n",
      "Avg. step size time:  0.2929293379491689\n",
      "Min. step size time:  0.24928641319274902\n",
      "Max. step size time:  0.3312819004058838\n",
      "Std. step size time:  0.015442132023494372 \n",
      "\n",
      "Avg. step size for fl foot:  0.2779571379850914\n",
      "Avg. step size for fr foot:  0.2891312809671745\n",
      "Avg. step size for rl foot:  0.2869641800481206\n",
      "Avg. step size for rr foot:  0.27614925547978675 \n",
      "\n",
      "Std. dev. step size for fl foot:  0.06678879355532463\n",
      "Std. dev. step size for fr foot:  0.03060189669231439\n",
      "Std. dev. step size for rl foot:  0.029580635920132693\n",
      "Std. dev. step size for rr foot:  0.06699061159459951 \n",
      "\n",
      "\n",
      "\n",
      "Forward: Step size (x) 0.6\n",
      "0.03916853109058138 ,  0.4370516631505006\n",
      "0.181136709020445 ,  0.4361835547872188\n",
      "0.18324103610307899 ,  0.42716267492252613\n",
      "0.0370162669723868 ,  0.44694213007898265 \n",
      "\n",
      "Avg. step size time:  0.2959654782947741\n",
      "Min. step size time:  0.2440166473388672\n",
      "Max. step size time:  0.35773134231567383\n",
      "Std. step size time:  0.014855562453223416 \n",
      "\n",
      "Avg. step size for fl foot:  0.3349478872042738\n",
      "Avg. step size for fr foot:  0.3442446376048144\n",
      "Avg. step size for rl foot:  0.34228342775305187\n",
      "Avg. step size for rr foot:  0.3331623774598048 \n",
      "\n",
      "Std. dev. step size for fl foot:  0.08146045617556678\n",
      "Std. dev. step size for fr foot:  0.043740944295413704\n",
      "Std. dev. step size for rl foot:  0.04246712274213638\n",
      "Std. dev. step size for rr foot:  0.08192218025180635 \n",
      "\n",
      "\n",
      "\n",
      "Forward: Step size (x) 0.7000000000000001\n",
      "0.059229384948674135 ,  0.5150524230690938\n",
      "0.03172454712318906 ,  0.513741214854342\n",
      "0.032735516404385656 ,  0.5169895189829888\n",
      "0.055684115578595095 ,  0.5076431931944829 \n",
      "\n",
      "Avg. step size time:  0.29704797644364206\n",
      "Min. step size time:  0.25374603271484375\n",
      "Max. step size time:  0.3319244384765625\n",
      "Std. step size time:  0.01647422618801803 \n",
      "\n",
      "Avg. step size for fl foot:  0.3988480756571386\n",
      "Avg. step size for fr foot:  0.38800640466169456\n",
      "Avg. step size for rl foot:  0.3853730954798389\n",
      "Avg. step size for rr foot:  0.39668526167878787 \n",
      "\n",
      "Std. dev. step size for fl foot:  0.07108954812400473\n",
      "Std. dev. step size for fr foot:  0.10121718106047702\n",
      "Std. dev. step size for rl foot:  0.10123307459358176\n",
      "Std. dev. step size for rr foot:  0.06860860749803675 \n",
      "\n",
      "\n",
      "\n",
      "Forward: Step size (x) 0.8\n"
     ]
    },
    {
     "ename": "ValueError",
     "evalue": "min() arg is an empty sequence",
     "output_type": "error",
     "traceback": [
      "\u001b[0;31m---------------------------------------------------------------------------\u001b[0m",
      "\u001b[0;31mValueError\u001b[0m                                Traceback (most recent call last)",
      "Input \u001b[0;32mIn [12]\u001b[0m, in \u001b[0;36m<cell line: 2>\u001b[0;34m()\u001b[0m\n\u001b[1;32m      1\u001b[0m \u001b[38;5;66;03m# Step size and velocity along x axis\u001b[39;00m\n\u001b[0;32m----> 2\u001b[0m \u001b[43mstep_size_statistics\u001b[49m\u001b[43m(\u001b[49m\u001b[43mmotion\u001b[49m\u001b[43m,\u001b[49m\u001b[43m \u001b[49m\u001b[43mfootsteps_fwd\u001b[49m\u001b[43m,\u001b[49m\u001b[43m \u001b[49m\u001b[38;5;241;43m1\u001b[39;49m\u001b[43m,\u001b[49m\u001b[43m \u001b[49m\u001b[38;5;241;43m1\u001b[39;49m\u001b[43m,\u001b[49m\u001b[43m \u001b[49m\u001b[43m[\u001b[49m\u001b[38;5;241;43m4\u001b[39;49m\u001b[43m,\u001b[49m\u001b[43m \u001b[49m\u001b[38;5;241;43m7\u001b[39;49m\u001b[43m,\u001b[49m\u001b[43m \u001b[49m\u001b[38;5;241;43m10\u001b[39;49m\u001b[43m,\u001b[49m\u001b[43m \u001b[49m\u001b[38;5;241;43m13\u001b[39;49m\u001b[43m]\u001b[49m\u001b[43m,\u001b[49m\u001b[43m \u001b[49m\u001b[38;5;241;43m0\u001b[39;49m\u001b[43m)\u001b[49m\n",
      "Input \u001b[0;32mIn [10]\u001b[0m, in \u001b[0;36mstep_size_statistics\u001b[0;34m(dataset, footsteps, sign, motion, coordinates, axes)\u001b[0m\n\u001b[1;32m    100\u001b[0m \u001b[38;5;28mprint\u001b[39m(\u001b[38;5;124mf\u001b[39m\u001b[38;5;124m\"\u001b[39m\u001b[38;5;124mForward: Step size (x) \u001b[39m\u001b[38;5;132;01m{\u001b[39;00mvelocity \u001b[38;5;241m*\u001b[39m sign\u001b[38;5;132;01m}\u001b[39;00m\u001b[38;5;124m\"\u001b[39m)\n\u001b[1;32m    101\u001b[0m footsteps_velocity \u001b[38;5;241m=\u001b[39m footsteps[np\u001b[38;5;241m.\u001b[39mwhere((np\u001b[38;5;241m.\u001b[39misclose(dataset[footsteps, motion], velocity \u001b[38;5;241m*\u001b[39m sign, \u001b[38;5;241m0.001\u001b[39m)))[\u001b[38;5;241m0\u001b[39m]]\n\u001b[0;32m--> 102\u001b[0m step_size_fr_x_fwd,_,_,_ \u001b[38;5;241m=\u001b[39m \u001b[43mget_step_size\u001b[49m\u001b[43m(\u001b[49m\u001b[43mdataset\u001b[49m\u001b[43m,\u001b[49m\u001b[43m \u001b[49m\u001b[43mfootsteps_velocity\u001b[49m\u001b[43m,\u001b[49m\u001b[43m \u001b[49m\u001b[43mcoordinates\u001b[49m\u001b[43m,\u001b[49m\u001b[43m \u001b[49m\u001b[43maxes\u001b[49m\u001b[43m)\u001b[49m\n\u001b[1;32m    103\u001b[0m \u001b[38;5;28mprint\u001b[39m(\u001b[38;5;124m\"\u001b[39m\u001b[38;5;130;01m\\n\u001b[39;00m\u001b[38;5;124m\"\u001b[39m)\n",
      "Input \u001b[0;32mIn [10]\u001b[0m, in \u001b[0;36mget_step_size\u001b[0;34m(dataset, footsteps, idx_coord, axes)\u001b[0m\n\u001b[1;32m     69\u001b[0m step_size_rr_numpy \u001b[38;5;241m=\u001b[39m np\u001b[38;5;241m.\u001b[39marray(step_size_rr)\n\u001b[1;32m     70\u001b[0m footstep_period_numpy \u001b[38;5;241m=\u001b[39m np\u001b[38;5;241m.\u001b[39marray(footstep_period)\n\u001b[0;32m---> 72\u001b[0m \u001b[38;5;28mprint\u001b[39m(\u001b[38;5;28;43mmin\u001b[39;49m\u001b[43m(\u001b[49m\u001b[43mstep_size_fl_numpy\u001b[49m\u001b[43m)\u001b[49m, \u001b[38;5;124m\"\u001b[39m\u001b[38;5;124m, \u001b[39m\u001b[38;5;124m\"\u001b[39m, \u001b[38;5;28mmax\u001b[39m(step_size_fl_numpy))\n\u001b[1;32m     73\u001b[0m \u001b[38;5;28mprint\u001b[39m(\u001b[38;5;28mmin\u001b[39m(step_size_fr_numpy), \u001b[38;5;124m\"\u001b[39m\u001b[38;5;124m, \u001b[39m\u001b[38;5;124m\"\u001b[39m, \u001b[38;5;28mmax\u001b[39m(step_size_fr_numpy))\n\u001b[1;32m     74\u001b[0m \u001b[38;5;28mprint\u001b[39m(\u001b[38;5;28mmin\u001b[39m(step_size_rl_numpy), \u001b[38;5;124m\"\u001b[39m\u001b[38;5;124m, \u001b[39m\u001b[38;5;124m\"\u001b[39m, \u001b[38;5;28mmax\u001b[39m(step_size_rl_numpy))\n",
      "\u001b[0;31mValueError\u001b[0m: min() arg is an empty sequence"
     ]
    }
   ],
   "source": [
    "# Step size and velocity along x axis\n",
    "step_size_statistics(motion, footsteps_fwd, 1, 1, [4, 7, 10, 13], 0)"
   ]
  },
  {
   "cell_type": "code",
   "execution_count": 13,
   "id": "d15ab22b",
   "metadata": {},
   "outputs": [
    {
     "name": "stdout",
     "output_type": "stream",
     "text": [
      "Forward: Step size (x) 0.1\n",
      "-0.004011310860694728 ,  0.004737644520092621\n",
      "-0.003458832080474039 ,  0.005504676857719826\n",
      "-0.0024142646429630155 ,  0.008298644581566261\n",
      "-0.0055453407021177625 ,  0.004249166793998782 \n",
      "\n",
      "Avg. step size time:  0.29299426324588734\n",
      "Min. step size time:  0.2520608901977539\n",
      "Max. step size time:  0.3260371685028076\n",
      "Std. step size time:  0.012998435201574576 \n",
      "\n",
      "Avg. step size for fl foot:  0.0012399394296791766\n",
      "Avg. step size for fr foot:  0.001279851286391681\n",
      "Avg. step size for rl foot:  0.0012908814908337636\n",
      "Avg. step size for rr foot:  -0.0002956194881909476 \n",
      "\n",
      "Std. dev. step size for fl foot:  0.002018157781611798\n",
      "Std. dev. step size for fr foot:  0.0018861931218412723\n",
      "Std. dev. step size for rl foot:  0.0020408998228383084\n",
      "Std. dev. step size for rr foot:  0.00192644837386759 \n",
      "\n",
      "\n",
      "\n",
      "Forward: Step size (x) 0.2\n",
      "-0.008419540529216452 ,  0.007510031387101046\n",
      "-0.0020699453785630872 ,  0.008462140479320146\n",
      "-0.002343782363640301 ,  0.010216776478423562\n",
      "-0.006156918411220236 ,  0.005067467893085986 \n",
      "\n",
      "Avg. step size time:  0.2926828009741647\n",
      "Min. step size time:  0.25297045707702637\n",
      "Max. step size time:  0.33939242362976074\n",
      "Std. step size time:  0.014592005607731657 \n",
      "\n",
      "Avg. step size for fl foot:  0.0023392532653660415\n",
      "Avg. step size for fr foot:  0.002590095400563324\n",
      "Avg. step size for rl foot:  0.003423065809906964\n",
      "Avg. step size for rr foot:  0.0009993928558678267 \n",
      "\n",
      "Std. dev. step size for fl foot:  0.0032726407703346874\n",
      "Std. dev. step size for fr foot:  0.00230763511162575\n",
      "Std. dev. step size for rl foot:  0.002368562632227174\n",
      "Std. dev. step size for rr foot:  0.002178888403364608 \n",
      "\n",
      "\n",
      "\n",
      "Forward: Step size (x) 0.30000000000000004\n",
      "-0.00468553144774031 ,  0.009975386532988573\n",
      "-0.004219356978119926 ,  0.010477674988196295\n",
      "-0.0037247463911100898 ,  0.009844837635781145\n",
      "-0.003316018526199338 ,  0.008020982001560206 \n",
      "\n",
      "Avg. step size time:  0.2922516206298212\n",
      "Min. step size time:  0.2556154727935791\n",
      "Max. step size time:  0.3208167552947998\n",
      "Std. step size time:  0.01437837382490854 \n",
      "\n",
      "Avg. step size for fl foot:  0.004233472458822858\n",
      "Avg. step size for fr foot:  0.0026562151368107\n",
      "Avg. step size for rl foot:  0.004482624834343354\n",
      "Avg. step size for rr foot:  0.002339930968277779 \n",
      "\n",
      "Std. dev. step size for fl foot:  0.003195042926878319\n",
      "Std. dev. step size for fr foot:  0.002920061033529127\n",
      "Std. dev. step size for rl foot:  0.0030919772060268636\n",
      "Std. dev. step size for rr foot:  0.002257831826877749 \n",
      "\n",
      "\n",
      "\n",
      "Forward: Step size (x) 0.4\n",
      "-0.011174794993332293 ,  0.015929629807251433\n",
      "-0.013054409110607068 ,  0.017729497553108375\n",
      "-0.012287207925380628 ,  0.02478105485558335\n",
      "-0.0121467381333622 ,  0.011831117574947814 \n",
      "\n",
      "Avg. step size time:  0.292401397228241\n",
      "Min. step size time:  0.24144911766052246\n",
      "Max. step size time:  0.3279683589935303\n",
      "Std. step size time:  0.014733857206997512 \n",
      "\n",
      "Avg. step size for fl foot:  0.005603342062244557\n",
      "Avg. step size for fr foot:  0.0027130775122606865\n",
      "Avg. step size for rl foot:  0.005328838971134436\n",
      "Avg. step size for rr foot:  0.0029959394097424964 \n",
      "\n",
      "Std. dev. step size for fl foot:  0.005339206063359581\n",
      "Std. dev. step size for fr foot:  0.005382894472151191\n",
      "Std. dev. step size for rl foot:  0.006196307214453173\n",
      "Std. dev. step size for rr foot:  0.0040859292614556795 \n",
      "\n",
      "\n",
      "\n",
      "Forward: Step size (x) 0.5\n",
      "-0.02190585326523342 ,  0.019002518089235254\n",
      "-0.031017413321236975 ,  0.01796795614375346\n",
      "-0.03165136832306803 ,  0.0193757880510258\n",
      "-0.017002654661610772 ,  0.01566233340066714 \n",
      "\n",
      "Avg. step size time:  0.2929293379491689\n",
      "Min. step size time:  0.24928641319274902\n",
      "Max. step size time:  0.3312819004058838\n",
      "Std. step size time:  0.015442132023494372 \n",
      "\n",
      "Avg. step size for fl foot:  0.005758812027661515\n",
      "Avg. step size for fr foot:  0.002732429828695118\n",
      "Avg. step size for rl foot:  0.005561655760725086\n",
      "Avg. step size for rr foot:  0.003190719465257181 \n",
      "\n",
      "Std. dev. step size for fl foot:  0.007862171799601964\n",
      "Std. dev. step size for fr foot:  0.00814096136201702\n",
      "Std. dev. step size for rl foot:  0.009576993266660774\n",
      "Std. dev. step size for rr foot:  0.00522440152945528 \n",
      "\n",
      "\n",
      "\n",
      "Forward: Step size (x) 0.6\n",
      "-0.02035441962926221 ,  0.020424076056366314\n",
      "-0.031125648002117368 ,  0.03184129944478031\n",
      "-0.02600614545771429 ,  0.031388445705518686\n",
      "-0.015857763271020175 ,  0.013611995137192245 \n",
      "\n",
      "Avg. step size time:  0.2959654782947741\n",
      "Min. step size time:  0.2440166473388672\n",
      "Max. step size time:  0.35773134231567383\n",
      "Std. step size time:  0.014855562453223416 \n",
      "\n",
      "Avg. step size for fl foot:  0.00736971948374235\n",
      "Avg. step size for fr foot:  0.003956687673133785\n",
      "Avg. step size for rl foot:  0.007513264756990949\n",
      "Avg. step size for rr foot:  0.004226297330211062 \n",
      "\n",
      "Std. dev. step size for fl foot:  0.007617641919065192\n",
      "Std. dev. step size for fr foot:  0.01099834923731209\n",
      "Std. dev. step size for rl foot:  0.009490845719082784\n",
      "Std. dev. step size for rr foot:  0.005596771981266437 \n",
      "\n",
      "\n",
      "\n",
      "Forward: Step size (x) 0.7000000000000001\n",
      "-0.019808877051192608 ,  0.05557378311731509\n",
      "-0.03129038965323239 ,  0.031782687578650215\n",
      "-0.01590291416266232 ,  0.03742715803371155\n",
      "-0.015683673461993397 ,  0.03492505033590487 \n",
      "\n",
      "Avg. step size time:  0.29704797644364206\n",
      "Min. step size time:  0.25374603271484375\n",
      "Max. step size time:  0.3319244384765625\n",
      "Std. step size time:  0.01647422618801803 \n",
      "\n",
      "Avg. step size for fl foot:  0.009545837163293764\n",
      "Avg. step size for fr foot:  0.007276931912826931\n",
      "Avg. step size for rl foot:  0.010469691811071049\n",
      "Avg. step size for rr foot:  0.00729848436235437 \n",
      "\n",
      "Std. dev. step size for fl foot:  0.014336858089932023\n",
      "Std. dev. step size for fr foot:  0.01021425888642152\n",
      "Std. dev. step size for rl foot:  0.009470965384437808\n",
      "Std. dev. step size for rr foot:  0.009314675041855095 \n",
      "\n",
      "\n",
      "\n",
      "Forward: Step size (x) 0.8\n"
     ]
    },
    {
     "ename": "ValueError",
     "evalue": "min() arg is an empty sequence",
     "output_type": "error",
     "traceback": [
      "\u001b[0;31m---------------------------------------------------------------------------\u001b[0m",
      "\u001b[0;31mValueError\u001b[0m                                Traceback (most recent call last)",
      "Input \u001b[0;32mIn [13]\u001b[0m, in \u001b[0;36m<cell line: 2>\u001b[0;34m()\u001b[0m\n\u001b[1;32m      1\u001b[0m \u001b[38;5;66;03m# Step size and velocity along y axis\u001b[39;00m\n\u001b[0;32m----> 2\u001b[0m \u001b[43mstep_size_statistics\u001b[49m\u001b[43m(\u001b[49m\u001b[43mmotion\u001b[49m\u001b[43m,\u001b[49m\u001b[43m \u001b[49m\u001b[43mfootsteps_fwd\u001b[49m\u001b[43m,\u001b[49m\u001b[43m \u001b[49m\u001b[38;5;241;43m1\u001b[39;49m\u001b[43m,\u001b[49m\u001b[43m \u001b[49m\u001b[38;5;241;43m1\u001b[39;49m\u001b[43m,\u001b[49m\u001b[43m \u001b[49m\u001b[43m[\u001b[49m\u001b[38;5;241;43m5\u001b[39;49m\u001b[43m,\u001b[49m\u001b[43m \u001b[49m\u001b[38;5;241;43m8\u001b[39;49m\u001b[43m,\u001b[49m\u001b[43m \u001b[49m\u001b[38;5;241;43m11\u001b[39;49m\u001b[43m,\u001b[49m\u001b[43m \u001b[49m\u001b[38;5;241;43m14\u001b[39;49m\u001b[43m]\u001b[49m\u001b[43m,\u001b[49m\u001b[43m \u001b[49m\u001b[38;5;241;43m1\u001b[39;49m\u001b[43m)\u001b[49m\n",
      "Input \u001b[0;32mIn [10]\u001b[0m, in \u001b[0;36mstep_size_statistics\u001b[0;34m(dataset, footsteps, sign, motion, coordinates, axes)\u001b[0m\n\u001b[1;32m    100\u001b[0m \u001b[38;5;28mprint\u001b[39m(\u001b[38;5;124mf\u001b[39m\u001b[38;5;124m\"\u001b[39m\u001b[38;5;124mForward: Step size (x) \u001b[39m\u001b[38;5;132;01m{\u001b[39;00mvelocity \u001b[38;5;241m*\u001b[39m sign\u001b[38;5;132;01m}\u001b[39;00m\u001b[38;5;124m\"\u001b[39m)\n\u001b[1;32m    101\u001b[0m footsteps_velocity \u001b[38;5;241m=\u001b[39m footsteps[np\u001b[38;5;241m.\u001b[39mwhere((np\u001b[38;5;241m.\u001b[39misclose(dataset[footsteps, motion], velocity \u001b[38;5;241m*\u001b[39m sign, \u001b[38;5;241m0.001\u001b[39m)))[\u001b[38;5;241m0\u001b[39m]]\n\u001b[0;32m--> 102\u001b[0m step_size_fr_x_fwd,_,_,_ \u001b[38;5;241m=\u001b[39m \u001b[43mget_step_size\u001b[49m\u001b[43m(\u001b[49m\u001b[43mdataset\u001b[49m\u001b[43m,\u001b[49m\u001b[43m \u001b[49m\u001b[43mfootsteps_velocity\u001b[49m\u001b[43m,\u001b[49m\u001b[43m \u001b[49m\u001b[43mcoordinates\u001b[49m\u001b[43m,\u001b[49m\u001b[43m \u001b[49m\u001b[43maxes\u001b[49m\u001b[43m)\u001b[49m\n\u001b[1;32m    103\u001b[0m \u001b[38;5;28mprint\u001b[39m(\u001b[38;5;124m\"\u001b[39m\u001b[38;5;130;01m\\n\u001b[39;00m\u001b[38;5;124m\"\u001b[39m)\n",
      "Input \u001b[0;32mIn [10]\u001b[0m, in \u001b[0;36mget_step_size\u001b[0;34m(dataset, footsteps, idx_coord, axes)\u001b[0m\n\u001b[1;32m     69\u001b[0m step_size_rr_numpy \u001b[38;5;241m=\u001b[39m np\u001b[38;5;241m.\u001b[39marray(step_size_rr)\n\u001b[1;32m     70\u001b[0m footstep_period_numpy \u001b[38;5;241m=\u001b[39m np\u001b[38;5;241m.\u001b[39marray(footstep_period)\n\u001b[0;32m---> 72\u001b[0m \u001b[38;5;28mprint\u001b[39m(\u001b[38;5;28;43mmin\u001b[39;49m\u001b[43m(\u001b[49m\u001b[43mstep_size_fl_numpy\u001b[49m\u001b[43m)\u001b[49m, \u001b[38;5;124m\"\u001b[39m\u001b[38;5;124m, \u001b[39m\u001b[38;5;124m\"\u001b[39m, \u001b[38;5;28mmax\u001b[39m(step_size_fl_numpy))\n\u001b[1;32m     73\u001b[0m \u001b[38;5;28mprint\u001b[39m(\u001b[38;5;28mmin\u001b[39m(step_size_fr_numpy), \u001b[38;5;124m\"\u001b[39m\u001b[38;5;124m, \u001b[39m\u001b[38;5;124m\"\u001b[39m, \u001b[38;5;28mmax\u001b[39m(step_size_fr_numpy))\n\u001b[1;32m     74\u001b[0m \u001b[38;5;28mprint\u001b[39m(\u001b[38;5;28mmin\u001b[39m(step_size_rl_numpy), \u001b[38;5;124m\"\u001b[39m\u001b[38;5;124m, \u001b[39m\u001b[38;5;124m\"\u001b[39m, \u001b[38;5;28mmax\u001b[39m(step_size_rl_numpy))\n",
      "\u001b[0;31mValueError\u001b[0m: min() arg is an empty sequence"
     ]
    }
   ],
   "source": [
    "# Step size and velocity along y axis\n",
    "step_size_statistics(motion, footsteps_fwd, 1, 1, [5, 8, 11, 14], 1)"
   ]
  },
  {
   "cell_type": "markdown",
   "id": "789266b9",
   "metadata": {},
   "source": [
    "### Side motion (right)"
   ]
  },
  {
   "cell_type": "code",
   "execution_count": 14,
   "id": "2b74ef64",
   "metadata": {},
   "outputs": [],
   "source": [
    "footsteps_side_right = get_specific_cmd(motion, 0, -1, 0)"
   ]
  },
  {
   "cell_type": "code",
   "execution_count": 15,
   "id": "d2b0b0c3",
   "metadata": {},
   "outputs": [
    {
     "name": "stdout",
     "output_type": "stream",
     "text": [
      "Forward: Step size (x) -0.1\n"
     ]
    },
    {
     "ename": "ValueError",
     "evalue": "min() arg is an empty sequence",
     "output_type": "error",
     "traceback": [
      "\u001b[0;31m---------------------------------------------------------------------------\u001b[0m",
      "\u001b[0;31mValueError\u001b[0m                                Traceback (most recent call last)",
      "Input \u001b[0;32mIn [15]\u001b[0m, in \u001b[0;36m<cell line: 2>\u001b[0;34m()\u001b[0m\n\u001b[1;32m      1\u001b[0m \u001b[38;5;66;03m# Step size and velocity along x axis\u001b[39;00m\n\u001b[0;32m----> 2\u001b[0m \u001b[43mstep_size_statistics\u001b[49m\u001b[43m(\u001b[49m\u001b[43mmotion\u001b[49m\u001b[43m,\u001b[49m\u001b[43m \u001b[49m\u001b[43mfootsteps_side_right\u001b[49m\u001b[43m,\u001b[49m\u001b[43m \u001b[49m\u001b[38;5;241;43m-\u001b[39;49m\u001b[38;5;241;43m1\u001b[39;49m\u001b[43m,\u001b[49m\u001b[43m \u001b[49m\u001b[38;5;241;43m2\u001b[39;49m\u001b[43m,\u001b[49m\u001b[43m \u001b[49m\u001b[43m[\u001b[49m\u001b[38;5;241;43m4\u001b[39;49m\u001b[43m,\u001b[49m\u001b[43m \u001b[49m\u001b[38;5;241;43m7\u001b[39;49m\u001b[43m,\u001b[49m\u001b[43m \u001b[49m\u001b[38;5;241;43m10\u001b[39;49m\u001b[43m,\u001b[49m\u001b[43m \u001b[49m\u001b[38;5;241;43m13\u001b[39;49m\u001b[43m]\u001b[49m\u001b[43m,\u001b[49m\u001b[43m \u001b[49m\u001b[38;5;241;43m0\u001b[39;49m\u001b[43m)\u001b[49m\n",
      "Input \u001b[0;32mIn [10]\u001b[0m, in \u001b[0;36mstep_size_statistics\u001b[0;34m(dataset, footsteps, sign, motion, coordinates, axes)\u001b[0m\n\u001b[1;32m    100\u001b[0m \u001b[38;5;28mprint\u001b[39m(\u001b[38;5;124mf\u001b[39m\u001b[38;5;124m\"\u001b[39m\u001b[38;5;124mForward: Step size (x) \u001b[39m\u001b[38;5;132;01m{\u001b[39;00mvelocity \u001b[38;5;241m*\u001b[39m sign\u001b[38;5;132;01m}\u001b[39;00m\u001b[38;5;124m\"\u001b[39m)\n\u001b[1;32m    101\u001b[0m footsteps_velocity \u001b[38;5;241m=\u001b[39m footsteps[np\u001b[38;5;241m.\u001b[39mwhere((np\u001b[38;5;241m.\u001b[39misclose(dataset[footsteps, motion], velocity \u001b[38;5;241m*\u001b[39m sign, \u001b[38;5;241m0.001\u001b[39m)))[\u001b[38;5;241m0\u001b[39m]]\n\u001b[0;32m--> 102\u001b[0m step_size_fr_x_fwd,_,_,_ \u001b[38;5;241m=\u001b[39m \u001b[43mget_step_size\u001b[49m\u001b[43m(\u001b[49m\u001b[43mdataset\u001b[49m\u001b[43m,\u001b[49m\u001b[43m \u001b[49m\u001b[43mfootsteps_velocity\u001b[49m\u001b[43m,\u001b[49m\u001b[43m \u001b[49m\u001b[43mcoordinates\u001b[49m\u001b[43m,\u001b[49m\u001b[43m \u001b[49m\u001b[43maxes\u001b[49m\u001b[43m)\u001b[49m\n\u001b[1;32m    103\u001b[0m \u001b[38;5;28mprint\u001b[39m(\u001b[38;5;124m\"\u001b[39m\u001b[38;5;130;01m\\n\u001b[39;00m\u001b[38;5;124m\"\u001b[39m)\n",
      "Input \u001b[0;32mIn [10]\u001b[0m, in \u001b[0;36mget_step_size\u001b[0;34m(dataset, footsteps, idx_coord, axes)\u001b[0m\n\u001b[1;32m     69\u001b[0m step_size_rr_numpy \u001b[38;5;241m=\u001b[39m np\u001b[38;5;241m.\u001b[39marray(step_size_rr)\n\u001b[1;32m     70\u001b[0m footstep_period_numpy \u001b[38;5;241m=\u001b[39m np\u001b[38;5;241m.\u001b[39marray(footstep_period)\n\u001b[0;32m---> 72\u001b[0m \u001b[38;5;28mprint\u001b[39m(\u001b[38;5;28;43mmin\u001b[39;49m\u001b[43m(\u001b[49m\u001b[43mstep_size_fl_numpy\u001b[49m\u001b[43m)\u001b[49m, \u001b[38;5;124m\"\u001b[39m\u001b[38;5;124m, \u001b[39m\u001b[38;5;124m\"\u001b[39m, \u001b[38;5;28mmax\u001b[39m(step_size_fl_numpy))\n\u001b[1;32m     73\u001b[0m \u001b[38;5;28mprint\u001b[39m(\u001b[38;5;28mmin\u001b[39m(step_size_fr_numpy), \u001b[38;5;124m\"\u001b[39m\u001b[38;5;124m, \u001b[39m\u001b[38;5;124m\"\u001b[39m, \u001b[38;5;28mmax\u001b[39m(step_size_fr_numpy))\n\u001b[1;32m     74\u001b[0m \u001b[38;5;28mprint\u001b[39m(\u001b[38;5;28mmin\u001b[39m(step_size_rl_numpy), \u001b[38;5;124m\"\u001b[39m\u001b[38;5;124m, \u001b[39m\u001b[38;5;124m\"\u001b[39m, \u001b[38;5;28mmax\u001b[39m(step_size_rl_numpy))\n",
      "\u001b[0;31mValueError\u001b[0m: min() arg is an empty sequence"
     ]
    }
   ],
   "source": [
    "# Step size and velocity along x axis\n",
    "step_size_statistics(motion, footsteps_side_right, -1, 2, [4, 7, 10, 13], 0)"
   ]
  },
  {
   "cell_type": "code",
   "execution_count": 16,
   "id": "65fd1906",
   "metadata": {},
   "outputs": [
    {
     "name": "stdout",
     "output_type": "stream",
     "text": [
      "Forward: Step size (x) -0.1\n"
     ]
    },
    {
     "ename": "ValueError",
     "evalue": "min() arg is an empty sequence",
     "output_type": "error",
     "traceback": [
      "\u001b[0;31m---------------------------------------------------------------------------\u001b[0m",
      "\u001b[0;31mValueError\u001b[0m                                Traceback (most recent call last)",
      "Input \u001b[0;32mIn [16]\u001b[0m, in \u001b[0;36m<cell line: 2>\u001b[0;34m()\u001b[0m\n\u001b[1;32m      1\u001b[0m \u001b[38;5;66;03m# Step size and velocity along y axis\u001b[39;00m\n\u001b[0;32m----> 2\u001b[0m \u001b[43mstep_size_statistics\u001b[49m\u001b[43m(\u001b[49m\u001b[43mmotion\u001b[49m\u001b[43m,\u001b[49m\u001b[43m \u001b[49m\u001b[43mfootsteps_side_right\u001b[49m\u001b[43m,\u001b[49m\u001b[43m \u001b[49m\u001b[38;5;241;43m-\u001b[39;49m\u001b[38;5;241;43m1\u001b[39;49m\u001b[43m,\u001b[49m\u001b[43m \u001b[49m\u001b[38;5;241;43m2\u001b[39;49m\u001b[43m,\u001b[49m\u001b[43m \u001b[49m\u001b[43m[\u001b[49m\u001b[38;5;241;43m5\u001b[39;49m\u001b[43m,\u001b[49m\u001b[43m \u001b[49m\u001b[38;5;241;43m8\u001b[39;49m\u001b[43m,\u001b[49m\u001b[43m \u001b[49m\u001b[38;5;241;43m11\u001b[39;49m\u001b[43m,\u001b[49m\u001b[43m \u001b[49m\u001b[38;5;241;43m14\u001b[39;49m\u001b[43m]\u001b[49m\u001b[43m,\u001b[49m\u001b[43m \u001b[49m\u001b[38;5;241;43m1\u001b[39;49m\u001b[43m)\u001b[49m\n",
      "Input \u001b[0;32mIn [10]\u001b[0m, in \u001b[0;36mstep_size_statistics\u001b[0;34m(dataset, footsteps, sign, motion, coordinates, axes)\u001b[0m\n\u001b[1;32m    100\u001b[0m \u001b[38;5;28mprint\u001b[39m(\u001b[38;5;124mf\u001b[39m\u001b[38;5;124m\"\u001b[39m\u001b[38;5;124mForward: Step size (x) \u001b[39m\u001b[38;5;132;01m{\u001b[39;00mvelocity \u001b[38;5;241m*\u001b[39m sign\u001b[38;5;132;01m}\u001b[39;00m\u001b[38;5;124m\"\u001b[39m)\n\u001b[1;32m    101\u001b[0m footsteps_velocity \u001b[38;5;241m=\u001b[39m footsteps[np\u001b[38;5;241m.\u001b[39mwhere((np\u001b[38;5;241m.\u001b[39misclose(dataset[footsteps, motion], velocity \u001b[38;5;241m*\u001b[39m sign, \u001b[38;5;241m0.001\u001b[39m)))[\u001b[38;5;241m0\u001b[39m]]\n\u001b[0;32m--> 102\u001b[0m step_size_fr_x_fwd,_,_,_ \u001b[38;5;241m=\u001b[39m \u001b[43mget_step_size\u001b[49m\u001b[43m(\u001b[49m\u001b[43mdataset\u001b[49m\u001b[43m,\u001b[49m\u001b[43m \u001b[49m\u001b[43mfootsteps_velocity\u001b[49m\u001b[43m,\u001b[49m\u001b[43m \u001b[49m\u001b[43mcoordinates\u001b[49m\u001b[43m,\u001b[49m\u001b[43m \u001b[49m\u001b[43maxes\u001b[49m\u001b[43m)\u001b[49m\n\u001b[1;32m    103\u001b[0m \u001b[38;5;28mprint\u001b[39m(\u001b[38;5;124m\"\u001b[39m\u001b[38;5;130;01m\\n\u001b[39;00m\u001b[38;5;124m\"\u001b[39m)\n",
      "Input \u001b[0;32mIn [10]\u001b[0m, in \u001b[0;36mget_step_size\u001b[0;34m(dataset, footsteps, idx_coord, axes)\u001b[0m\n\u001b[1;32m     69\u001b[0m step_size_rr_numpy \u001b[38;5;241m=\u001b[39m np\u001b[38;5;241m.\u001b[39marray(step_size_rr)\n\u001b[1;32m     70\u001b[0m footstep_period_numpy \u001b[38;5;241m=\u001b[39m np\u001b[38;5;241m.\u001b[39marray(footstep_period)\n\u001b[0;32m---> 72\u001b[0m \u001b[38;5;28mprint\u001b[39m(\u001b[38;5;28;43mmin\u001b[39;49m\u001b[43m(\u001b[49m\u001b[43mstep_size_fl_numpy\u001b[49m\u001b[43m)\u001b[49m, \u001b[38;5;124m\"\u001b[39m\u001b[38;5;124m, \u001b[39m\u001b[38;5;124m\"\u001b[39m, \u001b[38;5;28mmax\u001b[39m(step_size_fl_numpy))\n\u001b[1;32m     73\u001b[0m \u001b[38;5;28mprint\u001b[39m(\u001b[38;5;28mmin\u001b[39m(step_size_fr_numpy), \u001b[38;5;124m\"\u001b[39m\u001b[38;5;124m, \u001b[39m\u001b[38;5;124m\"\u001b[39m, \u001b[38;5;28mmax\u001b[39m(step_size_fr_numpy))\n\u001b[1;32m     74\u001b[0m \u001b[38;5;28mprint\u001b[39m(\u001b[38;5;28mmin\u001b[39m(step_size_rl_numpy), \u001b[38;5;124m\"\u001b[39m\u001b[38;5;124m, \u001b[39m\u001b[38;5;124m\"\u001b[39m, \u001b[38;5;28mmax\u001b[39m(step_size_rl_numpy))\n",
      "\u001b[0;31mValueError\u001b[0m: min() arg is an empty sequence"
     ]
    }
   ],
   "source": [
    "# Step size and velocity along y axis\n",
    "step_size_statistics(motion, footsteps_side_right, -1, 2, [5, 8, 11, 14], 1)"
   ]
  },
  {
   "cell_type": "markdown",
   "id": "cd5f31e2",
   "metadata": {},
   "source": [
    "### Side motions (left)"
   ]
  },
  {
   "cell_type": "code",
   "execution_count": 17,
   "id": "3b0fe64f",
   "metadata": {},
   "outputs": [],
   "source": [
    "footsteps_side_left = get_specific_cmd(motion, 0, 1, 0)"
   ]
  },
  {
   "cell_type": "code",
   "execution_count": 18,
   "id": "5a1d5ddd",
   "metadata": {},
   "outputs": [
    {
     "name": "stdout",
     "output_type": "stream",
     "text": [
      "Forward: Step size (x) 0.1\n"
     ]
    },
    {
     "ename": "ValueError",
     "evalue": "min() arg is an empty sequence",
     "output_type": "error",
     "traceback": [
      "\u001b[0;31m---------------------------------------------------------------------------\u001b[0m",
      "\u001b[0;31mValueError\u001b[0m                                Traceback (most recent call last)",
      "Input \u001b[0;32mIn [18]\u001b[0m, in \u001b[0;36m<cell line: 2>\u001b[0;34m()\u001b[0m\n\u001b[1;32m      1\u001b[0m \u001b[38;5;66;03m# Step size and velocity along x axis\u001b[39;00m\n\u001b[0;32m----> 2\u001b[0m \u001b[43mstep_size_statistics\u001b[49m\u001b[43m(\u001b[49m\u001b[43mmotion\u001b[49m\u001b[43m,\u001b[49m\u001b[43m \u001b[49m\u001b[43mfootsteps_side_left\u001b[49m\u001b[43m,\u001b[49m\u001b[43m \u001b[49m\u001b[38;5;241;43m1\u001b[39;49m\u001b[43m,\u001b[49m\u001b[43m \u001b[49m\u001b[38;5;241;43m2\u001b[39;49m\u001b[43m,\u001b[49m\u001b[43m \u001b[49m\u001b[43m[\u001b[49m\u001b[38;5;241;43m4\u001b[39;49m\u001b[43m,\u001b[49m\u001b[43m \u001b[49m\u001b[38;5;241;43m7\u001b[39;49m\u001b[43m,\u001b[49m\u001b[43m \u001b[49m\u001b[38;5;241;43m10\u001b[39;49m\u001b[43m,\u001b[49m\u001b[43m \u001b[49m\u001b[38;5;241;43m13\u001b[39;49m\u001b[43m]\u001b[49m\u001b[43m,\u001b[49m\u001b[43m \u001b[49m\u001b[38;5;241;43m0\u001b[39;49m\u001b[43m)\u001b[49m\n",
      "Input \u001b[0;32mIn [10]\u001b[0m, in \u001b[0;36mstep_size_statistics\u001b[0;34m(dataset, footsteps, sign, motion, coordinates, axes)\u001b[0m\n\u001b[1;32m    100\u001b[0m \u001b[38;5;28mprint\u001b[39m(\u001b[38;5;124mf\u001b[39m\u001b[38;5;124m\"\u001b[39m\u001b[38;5;124mForward: Step size (x) \u001b[39m\u001b[38;5;132;01m{\u001b[39;00mvelocity \u001b[38;5;241m*\u001b[39m sign\u001b[38;5;132;01m}\u001b[39;00m\u001b[38;5;124m\"\u001b[39m)\n\u001b[1;32m    101\u001b[0m footsteps_velocity \u001b[38;5;241m=\u001b[39m footsteps[np\u001b[38;5;241m.\u001b[39mwhere((np\u001b[38;5;241m.\u001b[39misclose(dataset[footsteps, motion], velocity \u001b[38;5;241m*\u001b[39m sign, \u001b[38;5;241m0.001\u001b[39m)))[\u001b[38;5;241m0\u001b[39m]]\n\u001b[0;32m--> 102\u001b[0m step_size_fr_x_fwd,_,_,_ \u001b[38;5;241m=\u001b[39m \u001b[43mget_step_size\u001b[49m\u001b[43m(\u001b[49m\u001b[43mdataset\u001b[49m\u001b[43m,\u001b[49m\u001b[43m \u001b[49m\u001b[43mfootsteps_velocity\u001b[49m\u001b[43m,\u001b[49m\u001b[43m \u001b[49m\u001b[43mcoordinates\u001b[49m\u001b[43m,\u001b[49m\u001b[43m \u001b[49m\u001b[43maxes\u001b[49m\u001b[43m)\u001b[49m\n\u001b[1;32m    103\u001b[0m \u001b[38;5;28mprint\u001b[39m(\u001b[38;5;124m\"\u001b[39m\u001b[38;5;130;01m\\n\u001b[39;00m\u001b[38;5;124m\"\u001b[39m)\n",
      "Input \u001b[0;32mIn [10]\u001b[0m, in \u001b[0;36mget_step_size\u001b[0;34m(dataset, footsteps, idx_coord, axes)\u001b[0m\n\u001b[1;32m     69\u001b[0m step_size_rr_numpy \u001b[38;5;241m=\u001b[39m np\u001b[38;5;241m.\u001b[39marray(step_size_rr)\n\u001b[1;32m     70\u001b[0m footstep_period_numpy \u001b[38;5;241m=\u001b[39m np\u001b[38;5;241m.\u001b[39marray(footstep_period)\n\u001b[0;32m---> 72\u001b[0m \u001b[38;5;28mprint\u001b[39m(\u001b[38;5;28;43mmin\u001b[39;49m\u001b[43m(\u001b[49m\u001b[43mstep_size_fl_numpy\u001b[49m\u001b[43m)\u001b[49m, \u001b[38;5;124m\"\u001b[39m\u001b[38;5;124m, \u001b[39m\u001b[38;5;124m\"\u001b[39m, \u001b[38;5;28mmax\u001b[39m(step_size_fl_numpy))\n\u001b[1;32m     73\u001b[0m \u001b[38;5;28mprint\u001b[39m(\u001b[38;5;28mmin\u001b[39m(step_size_fr_numpy), \u001b[38;5;124m\"\u001b[39m\u001b[38;5;124m, \u001b[39m\u001b[38;5;124m\"\u001b[39m, \u001b[38;5;28mmax\u001b[39m(step_size_fr_numpy))\n\u001b[1;32m     74\u001b[0m \u001b[38;5;28mprint\u001b[39m(\u001b[38;5;28mmin\u001b[39m(step_size_rl_numpy), \u001b[38;5;124m\"\u001b[39m\u001b[38;5;124m, \u001b[39m\u001b[38;5;124m\"\u001b[39m, \u001b[38;5;28mmax\u001b[39m(step_size_rl_numpy))\n",
      "\u001b[0;31mValueError\u001b[0m: min() arg is an empty sequence"
     ]
    }
   ],
   "source": [
    "# Step size and velocity along x axis\n",
    "step_size_statistics(motion, footsteps_side_left, 1, 2, [4, 7, 10, 13], 0)"
   ]
  },
  {
   "cell_type": "code",
   "execution_count": 19,
   "id": "0276770a",
   "metadata": {},
   "outputs": [
    {
     "name": "stdout",
     "output_type": "stream",
     "text": [
      "Forward: Step size (x) 0.1\n"
     ]
    },
    {
     "ename": "ValueError",
     "evalue": "min() arg is an empty sequence",
     "output_type": "error",
     "traceback": [
      "\u001b[0;31m---------------------------------------------------------------------------\u001b[0m",
      "\u001b[0;31mValueError\u001b[0m                                Traceback (most recent call last)",
      "Input \u001b[0;32mIn [19]\u001b[0m, in \u001b[0;36m<cell line: 2>\u001b[0;34m()\u001b[0m\n\u001b[1;32m      1\u001b[0m \u001b[38;5;66;03m# Step size and velocity along y axis\u001b[39;00m\n\u001b[0;32m----> 2\u001b[0m \u001b[43mstep_size_statistics\u001b[49m\u001b[43m(\u001b[49m\u001b[43mmotion\u001b[49m\u001b[43m,\u001b[49m\u001b[43m \u001b[49m\u001b[43mfootsteps_side_left\u001b[49m\u001b[43m,\u001b[49m\u001b[43m \u001b[49m\u001b[38;5;241;43m1\u001b[39;49m\u001b[43m,\u001b[49m\u001b[43m \u001b[49m\u001b[38;5;241;43m2\u001b[39;49m\u001b[43m,\u001b[49m\u001b[43m \u001b[49m\u001b[43m[\u001b[49m\u001b[38;5;241;43m5\u001b[39;49m\u001b[43m,\u001b[49m\u001b[43m \u001b[49m\u001b[38;5;241;43m8\u001b[39;49m\u001b[43m,\u001b[49m\u001b[43m \u001b[49m\u001b[38;5;241;43m11\u001b[39;49m\u001b[43m,\u001b[49m\u001b[43m \u001b[49m\u001b[38;5;241;43m14\u001b[39;49m\u001b[43m]\u001b[49m\u001b[43m,\u001b[49m\u001b[43m \u001b[49m\u001b[38;5;241;43m1\u001b[39;49m\u001b[43m)\u001b[49m\n",
      "Input \u001b[0;32mIn [10]\u001b[0m, in \u001b[0;36mstep_size_statistics\u001b[0;34m(dataset, footsteps, sign, motion, coordinates, axes)\u001b[0m\n\u001b[1;32m    100\u001b[0m \u001b[38;5;28mprint\u001b[39m(\u001b[38;5;124mf\u001b[39m\u001b[38;5;124m\"\u001b[39m\u001b[38;5;124mForward: Step size (x) \u001b[39m\u001b[38;5;132;01m{\u001b[39;00mvelocity \u001b[38;5;241m*\u001b[39m sign\u001b[38;5;132;01m}\u001b[39;00m\u001b[38;5;124m\"\u001b[39m)\n\u001b[1;32m    101\u001b[0m footsteps_velocity \u001b[38;5;241m=\u001b[39m footsteps[np\u001b[38;5;241m.\u001b[39mwhere((np\u001b[38;5;241m.\u001b[39misclose(dataset[footsteps, motion], velocity \u001b[38;5;241m*\u001b[39m sign, \u001b[38;5;241m0.001\u001b[39m)))[\u001b[38;5;241m0\u001b[39m]]\n\u001b[0;32m--> 102\u001b[0m step_size_fr_x_fwd,_,_,_ \u001b[38;5;241m=\u001b[39m \u001b[43mget_step_size\u001b[49m\u001b[43m(\u001b[49m\u001b[43mdataset\u001b[49m\u001b[43m,\u001b[49m\u001b[43m \u001b[49m\u001b[43mfootsteps_velocity\u001b[49m\u001b[43m,\u001b[49m\u001b[43m \u001b[49m\u001b[43mcoordinates\u001b[49m\u001b[43m,\u001b[49m\u001b[43m \u001b[49m\u001b[43maxes\u001b[49m\u001b[43m)\u001b[49m\n\u001b[1;32m    103\u001b[0m \u001b[38;5;28mprint\u001b[39m(\u001b[38;5;124m\"\u001b[39m\u001b[38;5;130;01m\\n\u001b[39;00m\u001b[38;5;124m\"\u001b[39m)\n",
      "Input \u001b[0;32mIn [10]\u001b[0m, in \u001b[0;36mget_step_size\u001b[0;34m(dataset, footsteps, idx_coord, axes)\u001b[0m\n\u001b[1;32m     69\u001b[0m step_size_rr_numpy \u001b[38;5;241m=\u001b[39m np\u001b[38;5;241m.\u001b[39marray(step_size_rr)\n\u001b[1;32m     70\u001b[0m footstep_period_numpy \u001b[38;5;241m=\u001b[39m np\u001b[38;5;241m.\u001b[39marray(footstep_period)\n\u001b[0;32m---> 72\u001b[0m \u001b[38;5;28mprint\u001b[39m(\u001b[38;5;28;43mmin\u001b[39;49m\u001b[43m(\u001b[49m\u001b[43mstep_size_fl_numpy\u001b[49m\u001b[43m)\u001b[49m, \u001b[38;5;124m\"\u001b[39m\u001b[38;5;124m, \u001b[39m\u001b[38;5;124m\"\u001b[39m, \u001b[38;5;28mmax\u001b[39m(step_size_fl_numpy))\n\u001b[1;32m     73\u001b[0m \u001b[38;5;28mprint\u001b[39m(\u001b[38;5;28mmin\u001b[39m(step_size_fr_numpy), \u001b[38;5;124m\"\u001b[39m\u001b[38;5;124m, \u001b[39m\u001b[38;5;124m\"\u001b[39m, \u001b[38;5;28mmax\u001b[39m(step_size_fr_numpy))\n\u001b[1;32m     74\u001b[0m \u001b[38;5;28mprint\u001b[39m(\u001b[38;5;28mmin\u001b[39m(step_size_rl_numpy), \u001b[38;5;124m\"\u001b[39m\u001b[38;5;124m, \u001b[39m\u001b[38;5;124m\"\u001b[39m, \u001b[38;5;28mmax\u001b[39m(step_size_rl_numpy))\n",
      "\u001b[0;31mValueError\u001b[0m: min() arg is an empty sequence"
     ]
    }
   ],
   "source": [
    "# Step size and velocity along y axis\n",
    "step_size_statistics(motion, footsteps_side_left, 1, 2, [5, 8, 11, 14], 1)"
   ]
  },
  {
   "cell_type": "markdown",
   "id": "32e632e9",
   "metadata": {},
   "source": [
    "### Rotation (clockwise)"
   ]
  },
  {
   "cell_type": "code",
   "execution_count": 20,
   "id": "87f0a1ad",
   "metadata": {},
   "outputs": [],
   "source": [
    "footsteps_clock = get_specific_cmd(motion, 0, 0, -1)"
   ]
  },
  {
   "cell_type": "code",
   "execution_count": 21,
   "id": "740f047f",
   "metadata": {},
   "outputs": [
    {
     "name": "stdout",
     "output_type": "stream",
     "text": [
      "Forward: Step size (x) -0.1\n"
     ]
    },
    {
     "ename": "ValueError",
     "evalue": "min() arg is an empty sequence",
     "output_type": "error",
     "traceback": [
      "\u001b[0;31m---------------------------------------------------------------------------\u001b[0m",
      "\u001b[0;31mValueError\u001b[0m                                Traceback (most recent call last)",
      "Input \u001b[0;32mIn [21]\u001b[0m, in \u001b[0;36m<cell line: 2>\u001b[0;34m()\u001b[0m\n\u001b[1;32m      1\u001b[0m \u001b[38;5;66;03m# Step size and velocity along x axis\u001b[39;00m\n\u001b[0;32m----> 2\u001b[0m \u001b[43mstep_size_statistics\u001b[49m\u001b[43m(\u001b[49m\u001b[43mmotion\u001b[49m\u001b[43m,\u001b[49m\u001b[43m \u001b[49m\u001b[43mfootsteps_clock\u001b[49m\u001b[43m,\u001b[49m\u001b[43m \u001b[49m\u001b[38;5;241;43m-\u001b[39;49m\u001b[38;5;241;43m1\u001b[39;49m\u001b[43m,\u001b[49m\u001b[43m \u001b[49m\u001b[38;5;241;43m3\u001b[39;49m\u001b[43m,\u001b[49m\u001b[43m \u001b[49m\u001b[43m[\u001b[49m\u001b[38;5;241;43m4\u001b[39;49m\u001b[43m,\u001b[49m\u001b[43m \u001b[49m\u001b[38;5;241;43m7\u001b[39;49m\u001b[43m,\u001b[49m\u001b[43m \u001b[49m\u001b[38;5;241;43m10\u001b[39;49m\u001b[43m,\u001b[49m\u001b[43m \u001b[49m\u001b[38;5;241;43m13\u001b[39;49m\u001b[43m]\u001b[49m\u001b[43m,\u001b[49m\u001b[43m \u001b[49m\u001b[38;5;241;43m0\u001b[39;49m\u001b[43m)\u001b[49m\n",
      "Input \u001b[0;32mIn [10]\u001b[0m, in \u001b[0;36mstep_size_statistics\u001b[0;34m(dataset, footsteps, sign, motion, coordinates, axes)\u001b[0m\n\u001b[1;32m    100\u001b[0m \u001b[38;5;28mprint\u001b[39m(\u001b[38;5;124mf\u001b[39m\u001b[38;5;124m\"\u001b[39m\u001b[38;5;124mForward: Step size (x) \u001b[39m\u001b[38;5;132;01m{\u001b[39;00mvelocity \u001b[38;5;241m*\u001b[39m sign\u001b[38;5;132;01m}\u001b[39;00m\u001b[38;5;124m\"\u001b[39m)\n\u001b[1;32m    101\u001b[0m footsteps_velocity \u001b[38;5;241m=\u001b[39m footsteps[np\u001b[38;5;241m.\u001b[39mwhere((np\u001b[38;5;241m.\u001b[39misclose(dataset[footsteps, motion], velocity \u001b[38;5;241m*\u001b[39m sign, \u001b[38;5;241m0.001\u001b[39m)))[\u001b[38;5;241m0\u001b[39m]]\n\u001b[0;32m--> 102\u001b[0m step_size_fr_x_fwd,_,_,_ \u001b[38;5;241m=\u001b[39m \u001b[43mget_step_size\u001b[49m\u001b[43m(\u001b[49m\u001b[43mdataset\u001b[49m\u001b[43m,\u001b[49m\u001b[43m \u001b[49m\u001b[43mfootsteps_velocity\u001b[49m\u001b[43m,\u001b[49m\u001b[43m \u001b[49m\u001b[43mcoordinates\u001b[49m\u001b[43m,\u001b[49m\u001b[43m \u001b[49m\u001b[43maxes\u001b[49m\u001b[43m)\u001b[49m\n\u001b[1;32m    103\u001b[0m \u001b[38;5;28mprint\u001b[39m(\u001b[38;5;124m\"\u001b[39m\u001b[38;5;130;01m\\n\u001b[39;00m\u001b[38;5;124m\"\u001b[39m)\n",
      "Input \u001b[0;32mIn [10]\u001b[0m, in \u001b[0;36mget_step_size\u001b[0;34m(dataset, footsteps, idx_coord, axes)\u001b[0m\n\u001b[1;32m     69\u001b[0m step_size_rr_numpy \u001b[38;5;241m=\u001b[39m np\u001b[38;5;241m.\u001b[39marray(step_size_rr)\n\u001b[1;32m     70\u001b[0m footstep_period_numpy \u001b[38;5;241m=\u001b[39m np\u001b[38;5;241m.\u001b[39marray(footstep_period)\n\u001b[0;32m---> 72\u001b[0m \u001b[38;5;28mprint\u001b[39m(\u001b[38;5;28;43mmin\u001b[39;49m\u001b[43m(\u001b[49m\u001b[43mstep_size_fl_numpy\u001b[49m\u001b[43m)\u001b[49m, \u001b[38;5;124m\"\u001b[39m\u001b[38;5;124m, \u001b[39m\u001b[38;5;124m\"\u001b[39m, \u001b[38;5;28mmax\u001b[39m(step_size_fl_numpy))\n\u001b[1;32m     73\u001b[0m \u001b[38;5;28mprint\u001b[39m(\u001b[38;5;28mmin\u001b[39m(step_size_fr_numpy), \u001b[38;5;124m\"\u001b[39m\u001b[38;5;124m, \u001b[39m\u001b[38;5;124m\"\u001b[39m, \u001b[38;5;28mmax\u001b[39m(step_size_fr_numpy))\n\u001b[1;32m     74\u001b[0m \u001b[38;5;28mprint\u001b[39m(\u001b[38;5;28mmin\u001b[39m(step_size_rl_numpy), \u001b[38;5;124m\"\u001b[39m\u001b[38;5;124m, \u001b[39m\u001b[38;5;124m\"\u001b[39m, \u001b[38;5;28mmax\u001b[39m(step_size_rl_numpy))\n",
      "\u001b[0;31mValueError\u001b[0m: min() arg is an empty sequence"
     ]
    }
   ],
   "source": [
    "# Step size and velocity along x axis\n",
    "step_size_statistics(motion, footsteps_clock, -1, 3, [4, 7, 10, 13], 0)"
   ]
  },
  {
   "cell_type": "code",
   "execution_count": 22,
   "id": "f750bdfa",
   "metadata": {},
   "outputs": [
    {
     "name": "stdout",
     "output_type": "stream",
     "text": [
      "Forward: Step size (x) -0.1\n"
     ]
    },
    {
     "ename": "ValueError",
     "evalue": "min() arg is an empty sequence",
     "output_type": "error",
     "traceback": [
      "\u001b[0;31m---------------------------------------------------------------------------\u001b[0m",
      "\u001b[0;31mValueError\u001b[0m                                Traceback (most recent call last)",
      "Input \u001b[0;32mIn [22]\u001b[0m, in \u001b[0;36m<cell line: 2>\u001b[0;34m()\u001b[0m\n\u001b[1;32m      1\u001b[0m \u001b[38;5;66;03m# Step size along y axis \u001b[39;00m\n\u001b[0;32m----> 2\u001b[0m \u001b[43mstep_size_statistics\u001b[49m\u001b[43m(\u001b[49m\u001b[43mmotion\u001b[49m\u001b[43m,\u001b[49m\u001b[43m \u001b[49m\u001b[43mfootsteps_clock\u001b[49m\u001b[43m,\u001b[49m\u001b[43m \u001b[49m\u001b[38;5;241;43m-\u001b[39;49m\u001b[38;5;241;43m1\u001b[39;49m\u001b[43m,\u001b[49m\u001b[43m \u001b[49m\u001b[38;5;241;43m3\u001b[39;49m\u001b[43m,\u001b[49m\u001b[43m \u001b[49m\u001b[43m[\u001b[49m\u001b[38;5;241;43m5\u001b[39;49m\u001b[43m,\u001b[49m\u001b[43m \u001b[49m\u001b[38;5;241;43m8\u001b[39;49m\u001b[43m,\u001b[49m\u001b[43m \u001b[49m\u001b[38;5;241;43m11\u001b[39;49m\u001b[43m,\u001b[49m\u001b[43m \u001b[49m\u001b[38;5;241;43m14\u001b[39;49m\u001b[43m]\u001b[49m\u001b[43m,\u001b[49m\u001b[43m \u001b[49m\u001b[38;5;241;43m1\u001b[39;49m\u001b[43m)\u001b[49m\n",
      "Input \u001b[0;32mIn [10]\u001b[0m, in \u001b[0;36mstep_size_statistics\u001b[0;34m(dataset, footsteps, sign, motion, coordinates, axes)\u001b[0m\n\u001b[1;32m    100\u001b[0m \u001b[38;5;28mprint\u001b[39m(\u001b[38;5;124mf\u001b[39m\u001b[38;5;124m\"\u001b[39m\u001b[38;5;124mForward: Step size (x) \u001b[39m\u001b[38;5;132;01m{\u001b[39;00mvelocity \u001b[38;5;241m*\u001b[39m sign\u001b[38;5;132;01m}\u001b[39;00m\u001b[38;5;124m\"\u001b[39m)\n\u001b[1;32m    101\u001b[0m footsteps_velocity \u001b[38;5;241m=\u001b[39m footsteps[np\u001b[38;5;241m.\u001b[39mwhere((np\u001b[38;5;241m.\u001b[39misclose(dataset[footsteps, motion], velocity \u001b[38;5;241m*\u001b[39m sign, \u001b[38;5;241m0.001\u001b[39m)))[\u001b[38;5;241m0\u001b[39m]]\n\u001b[0;32m--> 102\u001b[0m step_size_fr_x_fwd,_,_,_ \u001b[38;5;241m=\u001b[39m \u001b[43mget_step_size\u001b[49m\u001b[43m(\u001b[49m\u001b[43mdataset\u001b[49m\u001b[43m,\u001b[49m\u001b[43m \u001b[49m\u001b[43mfootsteps_velocity\u001b[49m\u001b[43m,\u001b[49m\u001b[43m \u001b[49m\u001b[43mcoordinates\u001b[49m\u001b[43m,\u001b[49m\u001b[43m \u001b[49m\u001b[43maxes\u001b[49m\u001b[43m)\u001b[49m\n\u001b[1;32m    103\u001b[0m \u001b[38;5;28mprint\u001b[39m(\u001b[38;5;124m\"\u001b[39m\u001b[38;5;130;01m\\n\u001b[39;00m\u001b[38;5;124m\"\u001b[39m)\n",
      "Input \u001b[0;32mIn [10]\u001b[0m, in \u001b[0;36mget_step_size\u001b[0;34m(dataset, footsteps, idx_coord, axes)\u001b[0m\n\u001b[1;32m     69\u001b[0m step_size_rr_numpy \u001b[38;5;241m=\u001b[39m np\u001b[38;5;241m.\u001b[39marray(step_size_rr)\n\u001b[1;32m     70\u001b[0m footstep_period_numpy \u001b[38;5;241m=\u001b[39m np\u001b[38;5;241m.\u001b[39marray(footstep_period)\n\u001b[0;32m---> 72\u001b[0m \u001b[38;5;28mprint\u001b[39m(\u001b[38;5;28;43mmin\u001b[39;49m\u001b[43m(\u001b[49m\u001b[43mstep_size_fl_numpy\u001b[49m\u001b[43m)\u001b[49m, \u001b[38;5;124m\"\u001b[39m\u001b[38;5;124m, \u001b[39m\u001b[38;5;124m\"\u001b[39m, \u001b[38;5;28mmax\u001b[39m(step_size_fl_numpy))\n\u001b[1;32m     73\u001b[0m \u001b[38;5;28mprint\u001b[39m(\u001b[38;5;28mmin\u001b[39m(step_size_fr_numpy), \u001b[38;5;124m\"\u001b[39m\u001b[38;5;124m, \u001b[39m\u001b[38;5;124m\"\u001b[39m, \u001b[38;5;28mmax\u001b[39m(step_size_fr_numpy))\n\u001b[1;32m     74\u001b[0m \u001b[38;5;28mprint\u001b[39m(\u001b[38;5;28mmin\u001b[39m(step_size_rl_numpy), \u001b[38;5;124m\"\u001b[39m\u001b[38;5;124m, \u001b[39m\u001b[38;5;124m\"\u001b[39m, \u001b[38;5;28mmax\u001b[39m(step_size_rl_numpy))\n",
      "\u001b[0;31mValueError\u001b[0m: min() arg is an empty sequence"
     ]
    }
   ],
   "source": [
    "# Step size along y axis \n",
    "step_size_statistics(motion, footsteps_clock, -1, 3, [5, 8, 11, 14], 1)"
   ]
  },
  {
   "cell_type": "markdown",
   "id": "1a2671b3",
   "metadata": {},
   "source": [
    "### Rotation (counter clockwise)"
   ]
  },
  {
   "cell_type": "code",
   "execution_count": 23,
   "id": "ace0ecec",
   "metadata": {},
   "outputs": [],
   "source": [
    "footsteps_count = get_specific_cmd(motion, 0, 0, 1)"
   ]
  },
  {
   "cell_type": "code",
   "execution_count": 24,
   "id": "c6ca9bef",
   "metadata": {},
   "outputs": [
    {
     "name": "stdout",
     "output_type": "stream",
     "text": [
      "Forward: Step size (x) 0.1\n"
     ]
    },
    {
     "ename": "ValueError",
     "evalue": "min() arg is an empty sequence",
     "output_type": "error",
     "traceback": [
      "\u001b[0;31m---------------------------------------------------------------------------\u001b[0m",
      "\u001b[0;31mValueError\u001b[0m                                Traceback (most recent call last)",
      "Input \u001b[0;32mIn [24]\u001b[0m, in \u001b[0;36m<cell line: 2>\u001b[0;34m()\u001b[0m\n\u001b[1;32m      1\u001b[0m \u001b[38;5;66;03m# Step size and velocity along x axis \u001b[39;00m\n\u001b[0;32m----> 2\u001b[0m \u001b[43mstep_size_statistics\u001b[49m\u001b[43m(\u001b[49m\u001b[43mmotion\u001b[49m\u001b[43m,\u001b[49m\u001b[43m \u001b[49m\u001b[43mfootsteps_count\u001b[49m\u001b[43m,\u001b[49m\u001b[43m \u001b[49m\u001b[38;5;241;43m1\u001b[39;49m\u001b[43m,\u001b[49m\u001b[43m \u001b[49m\u001b[38;5;241;43m3\u001b[39;49m\u001b[43m,\u001b[49m\u001b[43m \u001b[49m\u001b[43m[\u001b[49m\u001b[38;5;241;43m4\u001b[39;49m\u001b[43m,\u001b[49m\u001b[43m \u001b[49m\u001b[38;5;241;43m7\u001b[39;49m\u001b[43m,\u001b[49m\u001b[43m \u001b[49m\u001b[38;5;241;43m10\u001b[39;49m\u001b[43m,\u001b[49m\u001b[43m \u001b[49m\u001b[38;5;241;43m13\u001b[39;49m\u001b[43m]\u001b[49m\u001b[43m,\u001b[49m\u001b[43m \u001b[49m\u001b[38;5;241;43m0\u001b[39;49m\u001b[43m)\u001b[49m\n",
      "Input \u001b[0;32mIn [10]\u001b[0m, in \u001b[0;36mstep_size_statistics\u001b[0;34m(dataset, footsteps, sign, motion, coordinates, axes)\u001b[0m\n\u001b[1;32m    100\u001b[0m \u001b[38;5;28mprint\u001b[39m(\u001b[38;5;124mf\u001b[39m\u001b[38;5;124m\"\u001b[39m\u001b[38;5;124mForward: Step size (x) \u001b[39m\u001b[38;5;132;01m{\u001b[39;00mvelocity \u001b[38;5;241m*\u001b[39m sign\u001b[38;5;132;01m}\u001b[39;00m\u001b[38;5;124m\"\u001b[39m)\n\u001b[1;32m    101\u001b[0m footsteps_velocity \u001b[38;5;241m=\u001b[39m footsteps[np\u001b[38;5;241m.\u001b[39mwhere((np\u001b[38;5;241m.\u001b[39misclose(dataset[footsteps, motion], velocity \u001b[38;5;241m*\u001b[39m sign, \u001b[38;5;241m0.001\u001b[39m)))[\u001b[38;5;241m0\u001b[39m]]\n\u001b[0;32m--> 102\u001b[0m step_size_fr_x_fwd,_,_,_ \u001b[38;5;241m=\u001b[39m \u001b[43mget_step_size\u001b[49m\u001b[43m(\u001b[49m\u001b[43mdataset\u001b[49m\u001b[43m,\u001b[49m\u001b[43m \u001b[49m\u001b[43mfootsteps_velocity\u001b[49m\u001b[43m,\u001b[49m\u001b[43m \u001b[49m\u001b[43mcoordinates\u001b[49m\u001b[43m,\u001b[49m\u001b[43m \u001b[49m\u001b[43maxes\u001b[49m\u001b[43m)\u001b[49m\n\u001b[1;32m    103\u001b[0m \u001b[38;5;28mprint\u001b[39m(\u001b[38;5;124m\"\u001b[39m\u001b[38;5;130;01m\\n\u001b[39;00m\u001b[38;5;124m\"\u001b[39m)\n",
      "Input \u001b[0;32mIn [10]\u001b[0m, in \u001b[0;36mget_step_size\u001b[0;34m(dataset, footsteps, idx_coord, axes)\u001b[0m\n\u001b[1;32m     69\u001b[0m step_size_rr_numpy \u001b[38;5;241m=\u001b[39m np\u001b[38;5;241m.\u001b[39marray(step_size_rr)\n\u001b[1;32m     70\u001b[0m footstep_period_numpy \u001b[38;5;241m=\u001b[39m np\u001b[38;5;241m.\u001b[39marray(footstep_period)\n\u001b[0;32m---> 72\u001b[0m \u001b[38;5;28mprint\u001b[39m(\u001b[38;5;28;43mmin\u001b[39;49m\u001b[43m(\u001b[49m\u001b[43mstep_size_fl_numpy\u001b[49m\u001b[43m)\u001b[49m, \u001b[38;5;124m\"\u001b[39m\u001b[38;5;124m, \u001b[39m\u001b[38;5;124m\"\u001b[39m, \u001b[38;5;28mmax\u001b[39m(step_size_fl_numpy))\n\u001b[1;32m     73\u001b[0m \u001b[38;5;28mprint\u001b[39m(\u001b[38;5;28mmin\u001b[39m(step_size_fr_numpy), \u001b[38;5;124m\"\u001b[39m\u001b[38;5;124m, \u001b[39m\u001b[38;5;124m\"\u001b[39m, \u001b[38;5;28mmax\u001b[39m(step_size_fr_numpy))\n\u001b[1;32m     74\u001b[0m \u001b[38;5;28mprint\u001b[39m(\u001b[38;5;28mmin\u001b[39m(step_size_rl_numpy), \u001b[38;5;124m\"\u001b[39m\u001b[38;5;124m, \u001b[39m\u001b[38;5;124m\"\u001b[39m, \u001b[38;5;28mmax\u001b[39m(step_size_rl_numpy))\n",
      "\u001b[0;31mValueError\u001b[0m: min() arg is an empty sequence"
     ]
    }
   ],
   "source": [
    "# Step size and velocity along x axis \n",
    "step_size_statistics(motion, footsteps_count, 1, 3, [4, 7, 10, 13], 0)"
   ]
  },
  {
   "cell_type": "code",
   "execution_count": 25,
   "id": "87d39dba",
   "metadata": {},
   "outputs": [
    {
     "name": "stdout",
     "output_type": "stream",
     "text": [
      "Forward: Step size (x) 0.1\n"
     ]
    },
    {
     "ename": "ValueError",
     "evalue": "min() arg is an empty sequence",
     "output_type": "error",
     "traceback": [
      "\u001b[0;31m---------------------------------------------------------------------------\u001b[0m",
      "\u001b[0;31mValueError\u001b[0m                                Traceback (most recent call last)",
      "Input \u001b[0;32mIn [25]\u001b[0m, in \u001b[0;36m<cell line: 2>\u001b[0;34m()\u001b[0m\n\u001b[1;32m      1\u001b[0m \u001b[38;5;66;03m# Step size along y axis \u001b[39;00m\n\u001b[0;32m----> 2\u001b[0m \u001b[43mstep_size_statistics\u001b[49m\u001b[43m(\u001b[49m\u001b[43mmotion\u001b[49m\u001b[43m,\u001b[49m\u001b[43m \u001b[49m\u001b[43mfootsteps_count\u001b[49m\u001b[43m,\u001b[49m\u001b[43m \u001b[49m\u001b[38;5;241;43m1\u001b[39;49m\u001b[43m,\u001b[49m\u001b[43m \u001b[49m\u001b[38;5;241;43m3\u001b[39;49m\u001b[43m,\u001b[49m\u001b[43m \u001b[49m\u001b[43m[\u001b[49m\u001b[38;5;241;43m5\u001b[39;49m\u001b[43m,\u001b[49m\u001b[43m \u001b[49m\u001b[38;5;241;43m8\u001b[39;49m\u001b[43m,\u001b[49m\u001b[43m \u001b[49m\u001b[38;5;241;43m11\u001b[39;49m\u001b[43m,\u001b[49m\u001b[43m \u001b[49m\u001b[38;5;241;43m14\u001b[39;49m\u001b[43m]\u001b[49m\u001b[43m,\u001b[49m\u001b[43m \u001b[49m\u001b[38;5;241;43m1\u001b[39;49m\u001b[43m)\u001b[49m\n",
      "Input \u001b[0;32mIn [10]\u001b[0m, in \u001b[0;36mstep_size_statistics\u001b[0;34m(dataset, footsteps, sign, motion, coordinates, axes)\u001b[0m\n\u001b[1;32m    100\u001b[0m \u001b[38;5;28mprint\u001b[39m(\u001b[38;5;124mf\u001b[39m\u001b[38;5;124m\"\u001b[39m\u001b[38;5;124mForward: Step size (x) \u001b[39m\u001b[38;5;132;01m{\u001b[39;00mvelocity \u001b[38;5;241m*\u001b[39m sign\u001b[38;5;132;01m}\u001b[39;00m\u001b[38;5;124m\"\u001b[39m)\n\u001b[1;32m    101\u001b[0m footsteps_velocity \u001b[38;5;241m=\u001b[39m footsteps[np\u001b[38;5;241m.\u001b[39mwhere((np\u001b[38;5;241m.\u001b[39misclose(dataset[footsteps, motion], velocity \u001b[38;5;241m*\u001b[39m sign, \u001b[38;5;241m0.001\u001b[39m)))[\u001b[38;5;241m0\u001b[39m]]\n\u001b[0;32m--> 102\u001b[0m step_size_fr_x_fwd,_,_,_ \u001b[38;5;241m=\u001b[39m \u001b[43mget_step_size\u001b[49m\u001b[43m(\u001b[49m\u001b[43mdataset\u001b[49m\u001b[43m,\u001b[49m\u001b[43m \u001b[49m\u001b[43mfootsteps_velocity\u001b[49m\u001b[43m,\u001b[49m\u001b[43m \u001b[49m\u001b[43mcoordinates\u001b[49m\u001b[43m,\u001b[49m\u001b[43m \u001b[49m\u001b[43maxes\u001b[49m\u001b[43m)\u001b[49m\n\u001b[1;32m    103\u001b[0m \u001b[38;5;28mprint\u001b[39m(\u001b[38;5;124m\"\u001b[39m\u001b[38;5;130;01m\\n\u001b[39;00m\u001b[38;5;124m\"\u001b[39m)\n",
      "Input \u001b[0;32mIn [10]\u001b[0m, in \u001b[0;36mget_step_size\u001b[0;34m(dataset, footsteps, idx_coord, axes)\u001b[0m\n\u001b[1;32m     69\u001b[0m step_size_rr_numpy \u001b[38;5;241m=\u001b[39m np\u001b[38;5;241m.\u001b[39marray(step_size_rr)\n\u001b[1;32m     70\u001b[0m footstep_period_numpy \u001b[38;5;241m=\u001b[39m np\u001b[38;5;241m.\u001b[39marray(footstep_period)\n\u001b[0;32m---> 72\u001b[0m \u001b[38;5;28mprint\u001b[39m(\u001b[38;5;28;43mmin\u001b[39;49m\u001b[43m(\u001b[49m\u001b[43mstep_size_fl_numpy\u001b[49m\u001b[43m)\u001b[49m, \u001b[38;5;124m\"\u001b[39m\u001b[38;5;124m, \u001b[39m\u001b[38;5;124m\"\u001b[39m, \u001b[38;5;28mmax\u001b[39m(step_size_fl_numpy))\n\u001b[1;32m     73\u001b[0m \u001b[38;5;28mprint\u001b[39m(\u001b[38;5;28mmin\u001b[39m(step_size_fr_numpy), \u001b[38;5;124m\"\u001b[39m\u001b[38;5;124m, \u001b[39m\u001b[38;5;124m\"\u001b[39m, \u001b[38;5;28mmax\u001b[39m(step_size_fr_numpy))\n\u001b[1;32m     74\u001b[0m \u001b[38;5;28mprint\u001b[39m(\u001b[38;5;28mmin\u001b[39m(step_size_rl_numpy), \u001b[38;5;124m\"\u001b[39m\u001b[38;5;124m, \u001b[39m\u001b[38;5;124m\"\u001b[39m, \u001b[38;5;28mmax\u001b[39m(step_size_rl_numpy))\n",
      "\u001b[0;31mValueError\u001b[0m: min() arg is an empty sequence"
     ]
    }
   ],
   "source": [
    "# Step size along y axis \n",
    "step_size_statistics(motion, footsteps_count, 1, 3, [5, 8, 11, 14], 1)"
   ]
  },
  {
   "cell_type": "markdown",
   "id": "aae5757c",
   "metadata": {},
   "source": [
    "### Footstep visualization"
   ]
  },
  {
   "cell_type": "code",
   "execution_count": 26,
   "id": "2dce3ccb",
   "metadata": {},
   "outputs": [],
   "source": [
    "def yaw_from_quaternion(x, y, z, w):\n",
    "    \"\"\"\n",
    "    Convert a quaternion into euler angles (roll, pitch, yaw)\n",
    "    roll is rotation around x in radians (counterclockwise)\n",
    "    pitch is rotation around y in radians (counterclockwise)\n",
    "    yaw is rotation around z in radians (counterclockwise)\n",
    "    \"\"\"\n",
    "    t0 = +2.0 * (w * x + y * z)\n",
    "    t1 = +1.0 - 2.0 * (x * x + y * y)\n",
    "    roll_x = math.atan2(t0, t1)\n",
    "     \n",
    "    t2 = +2.0 * (w * y - z * x)\n",
    "    t2 = +1.0 if t2 > +1.0 else t2\n",
    "    t2 = -1.0 if t2 < -1.0 else t2\n",
    "    pitch_y = math.asin(t2)\n",
    "     \n",
    "    t3 = +2.0 * (w * z + x * y)\n",
    "    t4 = +1.0 - 2.0 * (y * y + z * z)\n",
    "    yaw_z = math.atan2(t3, t4)\n",
    "     \n",
    "    return roll_x, pitch_y, yaw_z # in radians"
   ]
  },
  {
   "cell_type": "code",
   "execution_count": 27,
   "id": "576617aa",
   "metadata": {},
   "outputs": [],
   "source": [
    "def visualize_static_foosteps(dataset, footsteps):\n",
    "    old_xs = None\n",
    "    old_ys = None\n",
    "    old_zs = None\n",
    "    \n",
    "    # Visualize footsteps\n",
    "    for idx, footstep in enumerate(footsteps):\n",
    "        fig = plt.figure()\n",
    "        ax = fig.add_subplot(projection='3d')\n",
    "\n",
    "        #ax.set_xlim([-0.5, 0.5])\n",
    "        #ax.set_ylim([-0.3, 0.3])\n",
    "        ax.set_zlim([-0.5, 0.5])\n",
    "\n",
    "        dataset[footstep, 8:20] = np.round(dataset[footstep, 8:20], 3)\n",
    "        \n",
    "        time_diff = dataset[footsteps[idx], 0] - dataset[footsteps[idx-1], 0]\n",
    "            \n",
    "        # 3D positions        \n",
    "        xs = np.array([dataset[footstep, 8], dataset[footstep, 11], dataset[footstep, 14], dataset[footstep, 17]])\n",
    "        ys = np.array([dataset[footstep, 9], dataset[footstep, 12], dataset[footstep, 15], dataset[footstep, 18]])\n",
    "        zz = np.array([dataset[footstep, 10], dataset[footstep, 13], dataset[footstep, 16], dataset[footstep, 19]])\n",
    "\n",
    "        ax.scatter(xs, ys, zs, marker='o')\n",
    "\n",
    "        ax.set_xlabel('X Label')\n",
    "        ax.set_ylabel('Y Label')\n",
    "        ax.set_zlabel('Z Label')\n",
    "\n",
    "        plt.show()\n",
    "\n",
    "        #print(xs, ys, zs, dataset[footstep, 2:5], dataset[footstep, 25:28])\n",
    "        if idx > 0 and idx < len(footsteps):\n",
    "            print(f'Diff: {time_diff}. Command: {dataset[footstep, 1:4]}. Coord: {[xs[0], ys[0], zs[0]]}. Step size: {[xs[0]-old_xs[0], ys[0]-old_ys[0], zs[0]-old_zs[0]]}.')\n",
    "        else:\n",
    "            print(f'Command: {dataset[footstep, 1:4]}. Coord: {[xs[0], ys[0], zs[0]]}.')\n",
    "            \n",
    "        old_xs = xs\n",
    "        old_ys = ys\n",
    "        old_zs = zs"
   ]
  },
  {
   "cell_type": "code",
   "execution_count": 28,
   "id": "f232d918",
   "metadata": {},
   "outputs": [],
   "source": [
    "def update_points(num, dataset, footsteps, x, y, z, points):    \n",
    "    # Starting footstep index\n",
    "    footstep = footsteps[num]\n",
    "    \n",
    "    # Round footsteps position\n",
    "    dataset[footstep, 8:20] = np.round(dataset[footstep, 8:20], 3)\n",
    "\n",
    "    # Initial footsteps 3D positions\n",
    "    new_x = np.array([dataset[footstep, 8], dataset[footstep, 11], dataset[footstep, 14], dataset[footstep, 17]])\n",
    "    new_y = np.array([dataset[footstep, 9], dataset[footstep, 12], dataset[footstep, 15], dataset[footstep, 18]])\n",
    "    new_z = np.array([dataset[footstep, 10], dataset[footstep, 13], dataset[footstep, 16], dataset[footstep, 19]])\n",
    "\n",
    "    # update properties\n",
    "    points.set_data(new_x, new_y)\n",
    "    points.set_3d_properties(new_z, 'z')\n",
    "\n",
    "    # return modified artists\n",
    "    return points\n",
    "\n",
    "def visualize_animated_footsteps(dataset, footsteps, style: str):\n",
    "    # Create figure\n",
    "    fig = plt.figure()\n",
    "    ax = p3.Axes3D(fig)\n",
    "\n",
    "    # Setting the axes properties\n",
    "    ax.set_xlim3d([-0.4, 0.4])\n",
    "    ax.set_xlabel('X')\n",
    "\n",
    "    ax.set_ylim3d([-0.2, 0.2])\n",
    "    ax.set_ylabel('Y')\n",
    "\n",
    "    ax.set_zlim3d([-0.5, 0.5])\n",
    "    ax.set_zlabel('Z')\n",
    "\n",
    "    # Starting footstep index\n",
    "    footstep = footsteps[0]\n",
    "\n",
    "    # Round footsteps position\n",
    "    dataset[footstep, 8:20] = np.round(dataset[footstep, 8:20], 3)\n",
    "\n",
    "    # Initial footsteps 3D positions\n",
    "    x = np.array([dataset[footstep, 8], dataset[footstep, 11], dataset[footstep, 14], dataset[footstep, 17]])\n",
    "    y = np.array([dataset[footstep, 9], dataset[footstep, 12], dataset[footstep, 15], dataset[footstep, 18]])\n",
    "    z = np.array([dataset[footstep, 10], dataset[footstep, 13], dataset[footstep, 16], dataset[footstep, 19]])\n",
    "\n",
    "    txt = fig.suptitle('')\n",
    "    points, = ax.plot(x, y, z, style)\n",
    "    \n",
    "    # blit=True re-draws only the parts that have changed.\n",
    "    anim = animation.FuncAnimation(fig, update_points, frames=len(footsteps), fargs=(dataset, footsteps, x, y, z, points))\n",
    "    \n",
    "    return anim   "
   ]
  },
  {
   "cell_type": "code",
   "execution_count": 29,
   "id": "dbda27c4",
   "metadata": {},
   "outputs": [],
   "source": [
    "def visualize_absolute_foostep_sizes(dataset, footsteps):\n",
    "    prev_yaw = 0\n",
    "    \n",
    "    # Visualize footsteps\n",
    "    for idx, footstep in enumerate(footsteps):\n",
    "        dataset[footstep, 8:20] = np.round(dataset[footstep, 8:20], 3)\n",
    "        \n",
    "        if idx < (len(footsteps) - 1):\n",
    "            print(\"Command: \", dataset[footstep, 1:4])\n",
    "            time_difference = abs(dataset[footsteps[idx], 0] - dataset[footsteps[idx+1], 0])\n",
    "            \n",
    "            if time_difference < 1:\n",
    "                fig, axes = plt.subplots(nrows=1, ncols=2, figsize=(15, 5))\n",
    "                axes[0].set_xlabel('X Label')\n",
    "                axes[0].set_ylabel('Y Label')\n",
    "                axes[1].set_xlabel('X Label')\n",
    "                axes[1].set_ylabel('Y Label')\n",
    "                    \n",
    "                # Get euler angles from odom to base rotation\n",
    "                _, _, curh_yaw = yaw_from_quaternion(dataset[footstep, 47], dataset[footstep, 48], dataset[footstep, 49], dataset[footstep, 50])\n",
    "                _, _, curr_yaw = yaw_from_quaternion(dataset[footsteps[idx+1], 47], dataset[footsteps[idx+1], 48], dataset[footsteps[idx+1], 49], dataset[footsteps[idx+1], 50])\n",
    "\n",
    "                # Compute rotation matrix\n",
    "                c_curh, s_curh = np.cos(curh_yaw), np.sin(curh_yaw)\n",
    "                c_curr, s_curr = np.cos(curr_yaw), np.sin(curr_yaw)\n",
    "                R_curh = np.array(((c_curh, -s_curh), (s_curh, c_curh)))\n",
    "                R_curr = np.array(((c_curr, -s_curr), (s_curr, c_curr)))\n",
    "                \n",
    "                # Odom base vectors\n",
    "                curh_base = np.array([[dataset[footstep, 44], dataset[footstep, 45]]])\n",
    "                curr_base = np.array([[dataset[footsteps[idx+1], 44], dataset[footsteps[idx+1], 45]]])\n",
    "                \n",
    "                # Local base vectors\n",
    "                rotated_curh_base = R_curh.T @ curh_base.T\n",
    "                rotated_prev_base = R_curh.T @ curr_base.T\n",
    "                rotated_prev_base_curr = R_curr.T @ curr_base.T\n",
    "                base_displacement = rotated_prev_base - rotated_curh_base\n",
    "                \n",
    "                #print(\"Footstep timestamp: \", dataset[footstep, 0])\n",
    "                print(f'\\nFL moving: {contacts[idx, 0]}. FR moving: {contacts[idx, 1]}')\n",
    "                print(f'RL moving: {contacts[idx, 2]}. RR moving: {contacts[idx, 3]}')\n",
    "                \n",
    "                #print(f'Curh base (not transformed): {dataset[footstep, 31:33]}. Next base (not transformed): {dataset[footsteps[idx+1], 31:33]}.')\n",
    "                #print(f'Curh base transformed (x): {rotated_curh_base.tolist()}.\\nNext base transformed (y): {rotated_prev_base.tolist()}.\\nNext base transformed2 (y): {rotated_prev_base_curr.tolist()}\\n')\n",
    "                print(prev_yaw, curh_yaw)\n",
    "                print(f'Base displacement: {base_displacement.tolist()}. Rotation displacement: {(curh_yaw - prev_yaw) * 180 / np.pi}.\\n')\n",
    "                \n",
    "                print(\"CoM displacement: \")\n",
    "                print(f'lf (x): {dataset[footsteps[idx], 8]}, {dataset[footsteps[idx+1], 8]}, lf (y): {dataset[footsteps[idx], 9]}, {dataset[footsteps[idx+1], 9]}.')\n",
    "                print(f'lf displacement: {(dataset[footsteps[idx+1], 8] - dataset[footsteps[idx], 8]).tolist()}, {(dataset[footsteps[idx+1], 9] - dataset[footsteps[idx], 9]).tolist()}.\\n')\n",
    "                \n",
    "                print(f'lh (x): {dataset[footsteps[idx], 11]}, {dataset[footsteps[idx+1], 11]}, lh (y): {dataset[footsteps[idx], 12]}, {dataset[footsteps[idx+1], 12]}.')\n",
    "                print(f'lh displacement: {(dataset[footsteps[idx+1], 11] - dataset[footsteps[idx], 11]).tolist()}, {(dataset[footsteps[idx+1], 12] - dataset[footsteps[idx], 12]).tolist()}.\\n')\n",
    "                \n",
    "                print(f'rf (x): {dataset[footsteps[idx], 14]}, {dataset[footsteps[idx+1], 14]}, rf (y): {dataset[footsteps[idx], 15]}, {dataset[footsteps[idx+1], 15]}.')\n",
    "                print(f'rf displacement: {(dataset[footsteps[idx+1], 14] - dataset[footsteps[idx], 14]).tolist()}, {(dataset[footsteps[idx+1], 15] - dataset[footsteps[idx], 15]).tolist()}.\\n')\n",
    "                \n",
    "                print(f'rh (x): {dataset[footsteps[idx], 17]}, {dataset[footsteps[idx+1], 17]}, rh (y): {dataset[footsteps[idx], 18]}, {dataset[footsteps[idx+1], 18]}.')\n",
    "                print(f'rh displacement: {(dataset[footsteps[idx+1], 17] - dataset[footsteps[idx], 17]).tolist()}, {(dataset[footsteps[idx+1], 18] - dataset[footsteps[idx], 18]).tolist()}.\\n')\n",
    "        \n",
    "                # Feet displacements\n",
    "                lf_x_displacement = dataset[footsteps[idx+1], 8] - dataset[footsteps[idx], 8]\n",
    "                lf_y_displacement = dataset[footsteps[idx+1], 9] - dataset[footsteps[idx], 9]\n",
    "                lh_x_displacement = dataset[footsteps[idx+1], 11] - dataset[footsteps[idx], 11]\n",
    "                lh_y_displacement = dataset[footsteps[idx+1], 12] - dataset[footsteps[idx], 12]\n",
    "                rf_x_displacement = dataset[footsteps[idx+1], 14] - dataset[footsteps[idx], 14]\n",
    "                rf_y_displacement = dataset[footsteps[idx+1], 15] - dataset[footsteps[idx], 15]\n",
    "                rh_x_displacement = dataset[footsteps[idx+1], 17] - dataset[footsteps[idx], 17]\n",
    "                rh_y_displacement = dataset[footsteps[idx+1], 18] - dataset[footsteps[idx], 18]\n",
    "                \n",
    "                # Support foot base displacement\n",
    "                support_base_displacement = [0, 0]\n",
    "                if contacts[idx, 1]:\n",
    "                    support_base_displacement[0] = -lf_x_displacement\n",
    "                    support_base_displacement[1] = -lf_y_displacement\n",
    "                else:\n",
    "                    support_base_displacement[0] = -rf_x_displacement\n",
    "                    support_base_displacement[1] = -rf_y_displacement\n",
    "                \n",
    "                prev_yaw = curh_yaw\n",
    "                    \n",
    "                print(f'\\nBase displacement (CoM): {support_base_displacement}.\\n')\n",
    "                    \n",
    "                x_0 = np.array([dataset[footstep, 8], \n",
    "                                dataset[footstep, 11],\n",
    "                                dataset[footstep, 14], \n",
    "                                dataset[footstep, 17]])\n",
    "                y_0 = np.array([dataset[footstep, 9], \n",
    "                                dataset[footstep, 12],\n",
    "                                dataset[footstep, 15], \n",
    "                                dataset[footstep, 18]])\n",
    "                \n",
    "                \"\"\"\n",
    "                x_1 = np.array([dataset[footsteps[idx+1], 7], \n",
    "                                dataset[footsteps[idx+1], 10],\n",
    "                                dataset[footsteps[idx+1], 13], \n",
    "                                dataset[footsteps[idx+1], 16]])\n",
    "                y_1 = np.array([dataset[footsteps[idx+1], 8], \n",
    "                                dataset[footsteps[idx+1], 11],\n",
    "                                dataset[footsteps[idx+1], 14], \n",
    "                                dataset[footsteps[idx+1], 17]])\n",
    "                \"\"\"\n",
    "                \n",
    "                x_1 = np.array([dataset[footstep, 8] + lf_x_displacement, \n",
    "                                dataset[footstep, 11] + rf_x_displacement,\n",
    "                                dataset[footstep, 14] + lh_x_displacement, \n",
    "                                dataset[footstep, 17] + rh_x_displacement])\n",
    "                y_1 = np.array([dataset[footstep, 9] + lf_y_displacement, \n",
    "                                dataset[footstep, 12] + rf_y_displacement,\n",
    "                                dataset[footstep, 15] + lh_y_displacement, \n",
    "                                dataset[footstep, 18] + rh_y_displacement])\n",
    "                \n",
    "                #axes[0].scatter(x_0, y_0, c= 'b',marker='o')\n",
    "                axes[0].scatter(x_0, y_0, c= 'm',marker='o')\n",
    "                axes[0].scatter(0, 0, c= 'g', marker='^')\n",
    "                axes[0].scatter(base_displacement[0], base_displacement[1], c= 'y', marker='^')\n",
    "                axes[0].scatter(support_base_displacement[0], support_base_displacement[1], c= 'r', marker='^')\n",
    "                \n",
    "                axes[1].scatter(x_1, y_1, c= 'r', marker='o')\n",
    "                axes[1].scatter(x_1, y_1, c= 'c', marker='o')\n",
    "                \n",
    "                plt.show()\n",
    "                \n",
    "#visualize_absolute_foostep_sizes(motion, footsteps_fwd)                  "
   ]
  },
  {
   "cell_type": "markdown",
   "id": "a43b6ca5",
   "metadata": {},
   "source": [
    "### Forward motion"
   ]
  },
  {
   "cell_type": "code",
   "execution_count": null,
   "id": "d0929449",
   "metadata": {},
   "outputs": [],
   "source": [
    "anim = visualize_animated_footsteps(motion, footsteps_fwd, \"bo\")\n",
    "HTML(anim.to_html5_video())"
   ]
  },
  {
   "cell_type": "markdown",
   "id": "9f87434e",
   "metadata": {},
   "source": [
    "### Side motion (right)"
   ]
  },
  {
   "cell_type": "code",
   "execution_count": null,
   "id": "5369ac58",
   "metadata": {},
   "outputs": [],
   "source": [
    "anim = visualize_animated_footsteps(motion, footsteps_side_right, \"bo\")\n",
    "HTML(anim.to_html5_video())"
   ]
  },
  {
   "cell_type": "markdown",
   "id": "3d23720f",
   "metadata": {},
   "source": [
    "### Side motion (left)"
   ]
  },
  {
   "cell_type": "code",
   "execution_count": null,
   "id": "b5bc76ba",
   "metadata": {},
   "outputs": [],
   "source": [
    "anim = visualize_animated_footsteps(motion, footsteps_side_left, \"bo\")\n",
    "HTML(anim.to_html5_video())"
   ]
  },
  {
   "cell_type": "markdown",
   "id": "53a68510",
   "metadata": {},
   "source": [
    "### Rotation (clockwise)"
   ]
  },
  {
   "cell_type": "code",
   "execution_count": null,
   "id": "ad20980f",
   "metadata": {},
   "outputs": [],
   "source": [
    "anim = visualize_animated_footsteps(motion, footsteps_clock, \"bo\")\n",
    "HTML(anim.to_html5_video())"
   ]
  },
  {
   "cell_type": "markdown",
   "id": "35d4f15a",
   "metadata": {},
   "source": [
    "### Rotation (counter clockwise)"
   ]
  },
  {
   "cell_type": "code",
   "execution_count": null,
   "id": "b44a417b",
   "metadata": {},
   "outputs": [],
   "source": [
    "anim = visualize_animated_footsteps(motion, footsteps_count, \"bo\")\n",
    "HTML(anim.to_html5_video())"
   ]
  },
  {
   "cell_type": "markdown",
   "id": "e6b6eb7e",
   "metadata": {},
   "source": [
    "# Dataset Preparation"
   ]
  },
  {
   "cell_type": "code",
   "execution_count": 30,
   "id": "83b20f82",
   "metadata": {},
   "outputs": [],
   "source": [
    "import sklearn\n",
    "from sklearn.linear_model import LinearRegression\n",
    "from sklearn.model_selection import train_test_split"
   ]
  },
  {
   "cell_type": "code",
   "execution_count": 31,
   "id": "f40d63f9",
   "metadata": {},
   "outputs": [
    {
     "name": "stdout",
     "output_type": "stream",
     "text": [
      "(702, 24)\n",
      "(702, 4)\n"
     ]
    }
   ],
   "source": [
    "def get_continuous_footstep_dataset(dataset, footsteps, debug=False):\n",
    "    # Footsteps sizes\n",
    "    inputs = []\n",
    "    labels = []\n",
    "    \n",
    "    idx = 1\n",
    "    while idx < (len(footsteps) - 1):\n",
    "        time_difference = abs(dataset[footsteps[idx], 0] - dataset[footsteps[idx-1], 0])\n",
    "\n",
    "        if time_difference < 0.5 and (dataset[footsteps[idx-2], 1] > 0.05 or dataset[footsteps[idx-1], 1] > 0.05):\n",
    "            lf_rh_moving = contacts[footsteps[idx], 0]\n",
    "            rf_lh_moving = contacts[footsteps[idx], 1]\n",
    "\n",
    "            if lf_rh_moving == rf_lh_moving:\n",
    "                idx += 1\n",
    "                continue\n",
    "\n",
    "            # Compute rotation matrices from odometry orientation\n",
    "            R_prev = quaternion_rotation_matrix(dataset[footsteps[idx-1], 48:52])\n",
    "            R_curr = quaternion_rotation_matrix(dataset[footsteps[idx], 48:52])\n",
    "\n",
    "            # Odom base vectors\n",
    "            prev_base = np.array([[dataset[footsteps[idx-1], 16], dataset[footsteps[idx-1], 17], dataset[footsteps[idx-1], 18]]])\n",
    "            curr_base = np.array([[dataset[footsteps[idx], 16], dataset[footsteps[idx], 17], dataset[footsteps[idx], 18]]])\n",
    "            base_displacement = curr_base @ R_prev - prev_base @ R_prev\n",
    "            \n",
    "            inputs.append(dataset[footsteps[idx-2], 1:4].tolist() +\n",
    "                          dataset[footsteps[idx-1], 1:16].tolist() +\n",
    "                          dataset[footsteps[idx-1], 19:23].tolist() +\n",
    "                          [lf_rh_moving, rf_lh_moving])\n",
    "            \n",
    "            if lf_rh_moving:\n",
    "                # FL vectors\n",
    "                prev_fl = np.array([[dataset[footsteps[idx-1], 4], dataset[footsteps[idx-1], 5], 0]])\n",
    "                curr_fl = np.array([[dataset[footsteps[idx], 4], dataset[footsteps[idx], 5], 0]])\n",
    "                \n",
    "                # RR vectors\n",
    "                prev_rr = np.array([[dataset[footsteps[idx-1], 13], dataset[footsteps[idx-1], 14], 0]])\n",
    "                curr_rr = np.array([[dataset[footsteps[idx], 13], dataset[footsteps[idx], 14], 0]])\n",
    "                \n",
    "                # Feet displacements\n",
    "                fl_displacement = curr_fl - prev_fl + base_displacement\n",
    "                rr_displacement = curr_rr - prev_rr + base_displacement\n",
    "                \n",
    "                labels.append([fl_displacement[0,0], fl_displacement[0,1], rr_displacement[0,0], rr_displacement[0,1]])\n",
    "            else:\n",
    "                # FR vectors\n",
    "                prev_fr = np.array([[dataset[footsteps[idx-1], 7], dataset[footsteps[idx-1], 8], 0]])\n",
    "                curr_fr = np.array([[dataset[footsteps[idx], 7], dataset[footsteps[idx], 8], 0]])\n",
    "                \n",
    "                # RL vectors\n",
    "                prev_rl = np.array([[dataset[footsteps[idx-1], 10], dataset[footsteps[idx-1], 11], 0]])\n",
    "                curr_rl = np.array([[dataset[footsteps[idx], 10], dataset[footsteps[idx], 11], 0]])\n",
    "                \n",
    "                # Feet displacements\n",
    "                fr_displacement = curr_fr - prev_fr + base_displacement\n",
    "                rl_displacement = curr_rl - prev_rl + base_displacement\n",
    "                \n",
    "                labels.append([fr_displacement[0,0], fr_displacement[0,1], rl_displacement[0,0], rl_displacement[0,1]])\n",
    "            \n",
    "        idx += 1\n",
    "                \n",
    "    # Convert to numpy array\n",
    "    inputs_numpy = np.array(inputs)\n",
    "    labels_numpy = np.array(labels)\n",
    "    \n",
    "    return inputs_numpy, labels_numpy\n",
    "\n",
    "X_relative_footsteps_fwd, Y_relative_footsteps_fwd = get_continuous_footstep_dataset(motion, footsteps_fwd)\n",
    "#X_relative_footsteps_clock, Y_relative_footsteps_clock = get_continuous_footstep_dataset(motion, footsteps_clock)\n",
    "#X_relative_footsteps_count, Y_relative_footsteps_count = get_continuous_footstep_dataset(motion, footsteps_count)\n",
    "#X_relative_footsteps_left, Y_relative_footsteps_left = get_continuous_footstep_dataset(motion, footsteps_side_left)\n",
    "#X_relative_footsteps_right, Y_relative_footsteps_right = get_continuous_footstep_dataset(motion, footsteps_side_right)\n",
    "\n",
    "# Stack datasets\n",
    "#X_footsteps_continuous_absolute = np.concatenate((X_relative_footsteps_fwd, X_relative_footsteps_clock, X_relative_footsteps_count))\n",
    "#Y_footsteps_continuous_absolute = np.concatenate((Y_relative_footsteps_fwd, Y_relative_footsteps_clock, Y_relative_footsteps_count))\n",
    "\n",
    "X_footsteps_continuous_absolute = X_relative_footsteps_fwd\n",
    "Y_footsteps_continuous_absolute = Y_relative_footsteps_fwd\n",
    "\n",
    "# Log\n",
    "print(X_footsteps_continuous_absolute.shape)\n",
    "print(Y_footsteps_continuous_absolute.shape)"
   ]
  },
  {
   "cell_type": "code",
   "execution_count": 32,
   "id": "c2456eec",
   "metadata": {},
   "outputs": [
    {
     "name": "stdout",
     "output_type": "stream",
     "text": [
      "Stored 'X_footsteps_continuous_absolute' (ndarray)\n",
      "Stored 'Y_footsteps_continuous_absolute' (ndarray)\n"
     ]
    }
   ],
   "source": [
    "%store X_footsteps_continuous_absolute\n",
    "%store Y_footsteps_continuous_absolute"
   ]
  },
  {
   "cell_type": "code",
   "execution_count": 33,
   "id": "b3f7be2f",
   "metadata": {},
   "outputs": [
    {
     "name": "stderr",
     "output_type": "stream",
     "text": [
      "/home/ilyass/.local/lib/python3.8/site-packages/numpy/core/fromnumeric.py:3432: RuntimeWarning: Mean of empty slice.\n",
      "  return _methods._mean(a, axis=axis, dtype=dtype,\n",
      "/home/ilyass/.local/lib/python3.8/site-packages/numpy/core/_methods.py:190: RuntimeWarning: invalid value encountered in double_scalars\n",
      "  ret = ret.dtype.type(ret / rcount)\n"
     ]
    },
    {
     "data": {
      "image/png": "[encoded data removed]",
      "text/plain": [
       "<Figure size 432x288 with 1 Axes>"
      ]
     },
     "metadata": {
      "needs_background": "light"
     },
     "output_type": "display_data"
    }
   ],
   "source": [
    "plt.plot(np.arange(0.1, 1.1, 0.1),\n",
    "         [np.mean(Y_relative_footsteps_fwd[np.where(np.isclose(X_relative_footsteps_fwd[:, 0], velocity))[0], 0]) for velocity in np.arange(0.1, 1.1, 0.1)], \n",
    "         'ro')\n",
    "plt.xlabel('Velocities')\n",
    "plt.ylabel('\\u0394X Footstep')\n",
    "plt.show()"
   ]
  },
  {
   "cell_type": "code",
   "execution_count": 34,
   "id": "020f1f25",
   "metadata": {},
   "outputs": [
    {
     "name": "stderr",
     "output_type": "stream",
     "text": [
      "/home/ilyass/.local/lib/python3.8/site-packages/numpy/core/_methods.py:265: RuntimeWarning: Degrees of freedom <= 0 for slice\n",
      "  ret = _var(a, axis=axis, dtype=dtype, out=out, ddof=ddof,\n",
      "/home/ilyass/.local/lib/python3.8/site-packages/numpy/core/_methods.py:223: RuntimeWarning: invalid value encountered in divide\n",
      "  arrmean = um.true_divide(arrmean, div, out=arrmean, casting='unsafe',\n",
      "/home/ilyass/.local/lib/python3.8/site-packages/numpy/core/_methods.py:257: RuntimeWarning: invalid value encountered in double_scalars\n",
      "  ret = ret.dtype.type(ret / rcount)\n"
     ]
    },
    {
     "data": {
      "image/png": "[encoded data removed]",
      "text/plain": [
       "<Figure size 432x288 with 1 Axes>"
      ]
     },
     "metadata": {
      "needs_background": "light"
     },
     "output_type": "display_data"
    }
   ],
   "source": [
    "x = np.array(np.arange(0.1, 1.1, 0.1))\n",
    "y = np.array([np.mean(Y_relative_footsteps_fwd[np.where(np.isclose(X_relative_footsteps_fwd[:, 0], velocity))[0], 0]) for velocity in np.arange(0.1, 1.1, 0.1)])\n",
    "e = np.array([np.std(Y_relative_footsteps_fwd[np.where(np.isclose(X_relative_footsteps_fwd[:, 0], velocity))[0], 0]) for velocity in np.arange(0.1, 1.1, 0.1)])\n",
    "plt.errorbar(x, y, e, linestyle='None', marker='s')\n",
    "plt.xlabel('Velocities')\n",
    "plt.ylabel('\\u03B4X Footstep')\n",
    "plt.show()"
   ]
  },
  {
   "cell_type": "code",
   "execution_count": 33,
   "id": "739965e4",
   "metadata": {},
   "outputs": [
    {
     "data": {
      "image/png": "[encoded data removed]",
      "text/plain": [
       "<Figure size 432x288 with 1 Axes>"
      ]
     },
     "metadata": {
      "needs_background": "light"
     },
     "output_type": "display_data"
    }
   ],
   "source": [
    "plt.plot(np.arange(0.1, 1.1, 0.1),\n",
    "         [np.mean(Y_relative_footsteps_fwd[np.where(np.isclose(X_relative_footsteps_fwd[:, 0], velocity))[0], 1]) for velocity in np.arange(0.1, 1.1, 0.1)], \n",
    "         'ro')\n",
    "plt.xlabel('Velocities')\n",
    "plt.ylabel('\\u0394Y Footstep')\n",
    "plt.show()"
   ]
  },
  {
   "cell_type": "code",
   "execution_count": 27,
   "id": "4592849b",
   "metadata": {},
   "outputs": [
    {
     "ename": "NameError",
     "evalue": "name 'Y_relative_footsteps_count' is not defined",
     "output_type": "error",
     "traceback": [
      "\u001b[0;31m---------------------------------------------------------------------------\u001b[0m",
      "\u001b[0;31mNameError\u001b[0m                                 Traceback (most recent call last)",
      "Input \u001b[0;32mIn [27]\u001b[0m, in \u001b[0;36m<cell line: 2>\u001b[0;34m()\u001b[0m\n\u001b[1;32m      1\u001b[0m x \u001b[38;5;241m=\u001b[39m np\u001b[38;5;241m.\u001b[39marange(\u001b[38;5;241m0.1\u001b[39m, \u001b[38;5;241m1.1\u001b[39m, \u001b[38;5;241m0.1\u001b[39m)\n\u001b[0;32m----> 2\u001b[0m y \u001b[38;5;241m=\u001b[39m np\u001b[38;5;241m.\u001b[39marray([np\u001b[38;5;241m.\u001b[39mmean(Y_relative_footsteps_count[np\u001b[38;5;241m.\u001b[39mwhere(np\u001b[38;5;241m.\u001b[39misclose(X_relative_footsteps_count[:, \u001b[38;5;241m2\u001b[39m], velocity))[\u001b[38;5;241m0\u001b[39m], \u001b[38;5;241m1\u001b[39m]) \u001b[38;5;28;01mfor\u001b[39;00m velocity \u001b[38;5;129;01min\u001b[39;00m np\u001b[38;5;241m.\u001b[39marange(\u001b[38;5;241m0.1\u001b[39m, \u001b[38;5;241m1.1\u001b[39m, \u001b[38;5;241m0.1\u001b[39m)])\n\u001b[1;32m      3\u001b[0m e \u001b[38;5;241m=\u001b[39m np\u001b[38;5;241m.\u001b[39marray([np\u001b[38;5;241m.\u001b[39mstd(Y_relative_footsteps_count[np\u001b[38;5;241m.\u001b[39mwhere(np\u001b[38;5;241m.\u001b[39misclose(X_relative_footsteps_count[:, \u001b[38;5;241m2\u001b[39m], velocity))[\u001b[38;5;241m0\u001b[39m], \u001b[38;5;241m1\u001b[39m]) \u001b[38;5;28;01mfor\u001b[39;00m velocity \u001b[38;5;129;01min\u001b[39;00m np\u001b[38;5;241m.\u001b[39marange(\u001b[38;5;241m0.1\u001b[39m, \u001b[38;5;241m1.1\u001b[39m, \u001b[38;5;241m0.1\u001b[39m)])\n\u001b[1;32m      4\u001b[0m plt\u001b[38;5;241m.\u001b[39merrorbar(x, y, e, linestyle\u001b[38;5;241m=\u001b[39m\u001b[38;5;124m'\u001b[39m\u001b[38;5;124mNone\u001b[39m\u001b[38;5;124m'\u001b[39m, marker\u001b[38;5;241m=\u001b[39m\u001b[38;5;124m'\u001b[39m\u001b[38;5;124ms\u001b[39m\u001b[38;5;124m'\u001b[39m)\n",
      "Input \u001b[0;32mIn [27]\u001b[0m, in \u001b[0;36m<listcomp>\u001b[0;34m(.0)\u001b[0m\n\u001b[1;32m      1\u001b[0m x \u001b[38;5;241m=\u001b[39m np\u001b[38;5;241m.\u001b[39marange(\u001b[38;5;241m0.1\u001b[39m, \u001b[38;5;241m1.1\u001b[39m, \u001b[38;5;241m0.1\u001b[39m)\n\u001b[0;32m----> 2\u001b[0m y \u001b[38;5;241m=\u001b[39m np\u001b[38;5;241m.\u001b[39marray([np\u001b[38;5;241m.\u001b[39mmean(\u001b[43mY_relative_footsteps_count\u001b[49m[np\u001b[38;5;241m.\u001b[39mwhere(np\u001b[38;5;241m.\u001b[39misclose(X_relative_footsteps_count[:, \u001b[38;5;241m2\u001b[39m], velocity))[\u001b[38;5;241m0\u001b[39m], \u001b[38;5;241m1\u001b[39m]) \u001b[38;5;28;01mfor\u001b[39;00m velocity \u001b[38;5;129;01min\u001b[39;00m np\u001b[38;5;241m.\u001b[39marange(\u001b[38;5;241m0.1\u001b[39m, \u001b[38;5;241m1.1\u001b[39m, \u001b[38;5;241m0.1\u001b[39m)])\n\u001b[1;32m      3\u001b[0m e \u001b[38;5;241m=\u001b[39m np\u001b[38;5;241m.\u001b[39marray([np\u001b[38;5;241m.\u001b[39mstd(Y_relative_footsteps_count[np\u001b[38;5;241m.\u001b[39mwhere(np\u001b[38;5;241m.\u001b[39misclose(X_relative_footsteps_count[:, \u001b[38;5;241m2\u001b[39m], velocity))[\u001b[38;5;241m0\u001b[39m], \u001b[38;5;241m1\u001b[39m]) \u001b[38;5;28;01mfor\u001b[39;00m velocity \u001b[38;5;129;01min\u001b[39;00m np\u001b[38;5;241m.\u001b[39marange(\u001b[38;5;241m0.1\u001b[39m, \u001b[38;5;241m1.1\u001b[39m, \u001b[38;5;241m0.1\u001b[39m)])\n\u001b[1;32m      4\u001b[0m plt\u001b[38;5;241m.\u001b[39merrorbar(x, y, e, linestyle\u001b[38;5;241m=\u001b[39m\u001b[38;5;124m'\u001b[39m\u001b[38;5;124mNone\u001b[39m\u001b[38;5;124m'\u001b[39m, marker\u001b[38;5;241m=\u001b[39m\u001b[38;5;124m'\u001b[39m\u001b[38;5;124ms\u001b[39m\u001b[38;5;124m'\u001b[39m)\n",
      "\u001b[0;31mNameError\u001b[0m: name 'Y_relative_footsteps_count' is not defined"
     ]
    }
   ],
   "source": [
    "x = np.arange(0.1, 1.1, 0.1)\n",
    "y = np.array([np.mean(Y_relative_footsteps_count[np.where(np.isclose(X_relative_footsteps_count[:, 2], velocity))[0], 1]) for velocity in np.arange(0.1, 1.1, 0.1)])\n",
    "e = np.array([np.std(Y_relative_footsteps_count[np.where(np.isclose(X_relative_footsteps_count[:, 2], velocity))[0], 1]) for velocity in np.arange(0.1, 1.1, 0.1)])\n",
    "plt.errorbar(x, y, e, linestyle='None', marker='s')\n",
    "plt.xlabel('Velocities')\n",
    "plt.ylabel('\\u03B4Y Footstep')\n",
    "plt.show()"
   ]
  },
  {
   "cell_type": "code",
   "execution_count": null,
   "id": "11e4fb95",
   "metadata": {},
   "outputs": [],
   "source": []
  },
  {
   "cell_type": "code",
   "execution_count": null,
   "id": "7411de98",
   "metadata": {},
   "outputs": [],
   "source": []
  },
  {
   "cell_type": "code",
   "execution_count": null,
   "id": "c2a8c6b9",
   "metadata": {},
   "outputs": [],
   "source": []
  }
 ],
 "metadata": {
  "kernelspec": {
   "display_name": "Python 3 (ipykernel)",
   "language": "python",
   "name": "python3"
  },
  "language_info": {
   "codemirror_mode": {
    "name": "ipython",
    "version": 3
   },
   "file_extension": ".py",
   "mimetype": "text/x-python",
   "name": "python",
   "nbconvert_exporter": "python",
   "pygments_lexer": "ipython3",
   "version": "3.8.10"
  }
 },
 "nbformat": 4,
 "nbformat_minor": 5
}
