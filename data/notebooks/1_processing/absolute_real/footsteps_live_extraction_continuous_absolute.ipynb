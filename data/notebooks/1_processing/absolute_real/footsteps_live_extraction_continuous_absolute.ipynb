{
 "cells": [
  {
   "cell_type": "code",
   "execution_count": 1,
   "id": "d5eee2d8",
   "metadata": {},
   "outputs": [],
   "source": [
    "#!/usr/bin/env python3.6\n",
    "# -*- coding: utf-8 -*-"
   ]
  },
  {
   "cell_type": "code",
   "execution_count": 2,
   "id": "17e7a7d2",
   "metadata": {},
   "outputs": [],
   "source": [
    "# Imports\n",
    "import sys\n",
    "import math\n",
    "import numpy as np\n",
    "from matplotlib import animation\n",
    "from IPython.display import HTML\n",
    "from matplotlib import pyplot as plt\n",
    "plt.rcParams['animation.ffmpeg_path'] = '/usr/bin/ffmpeg'\n",
    "import mpl_toolkits.mplot3d.axes3d as p3"
   ]
  },
  {
   "cell_type": "code",
   "execution_count": 3,
   "id": "92cbce5b",
   "metadata": {},
   "outputs": [],
   "source": [
    "np.random.seed(20)\n",
    "np.set_printoptions(threshold=sys.maxsize)"
   ]
  },
  {
   "cell_type": "code",
   "execution_count": 4,
   "id": "ea6ac4f8",
   "metadata": {},
   "outputs": [],
   "source": [
    "%matplotlib inline"
   ]
  },
  {
   "cell_type": "markdown",
   "id": "110e2248",
   "metadata": {},
   "source": [
    "# Data"
   ]
  },
  {
   "cell_type": "code",
   "execution_count": 5,
   "id": "ba7b3eda",
   "metadata": {},
   "outputs": [
    {
     "name": "stdout",
     "output_type": "stream",
     "text": [
      "Motion data has a length of  1727\n"
     ]
    }
   ],
   "source": [
    "# Read data\n",
    "path = '../../../dataset_real/gianpaolo/step_0.10/forward_continuous.csv'\n",
    "motion = np.genfromtxt(path, delimiter=',', dtype=np.float64)\n",
    "contacts = np.genfromtxt(path, delimiter=',', usecols=(55, 56, 57, 58), dtype=bool)\n",
    "print(\"Motion data has a length of \", len(motion))"
   ]
  },
  {
   "cell_type": "code",
   "execution_count": 6,
   "id": "fd3689c8",
   "metadata": {},
   "outputs": [
    {
     "data": {
      "text/plain": [
       "(1727, 59)"
      ]
     },
     "execution_count": 6,
     "metadata": {},
     "output_type": "execute_result"
    }
   ],
   "source": [
    "motion.shape"
   ]
  },
  {
   "cell_type": "markdown",
   "id": "bbca1327",
   "metadata": {},
   "source": [
    "## Height-Force plots"
   ]
  },
  {
   "cell_type": "code",
   "execution_count": 7,
   "id": "0789cfa0",
   "metadata": {},
   "outputs": [],
   "source": [
    "def get_specific_cmd(dataset, fwd, side, rot):\n",
    "    if abs(fwd): \n",
    "        return np.where(dataset[:, 1] > 0)[0] if fwd > 0 else np.where(dataset[:, 1] < 0)[0]\n",
    "    if abs(side): \n",
    "        return np.where(dataset[:, 2] > 0)[0] if side > 0 else np.where(dataset[:, 2] < 0)[0]\n",
    "    if abs(rot): \n",
    "        return np.where(dataset[:, 3] > 0)[0] if rot > 0 else np.where(dataset[:, 3] < 0)[0]"
   ]
  },
  {
   "cell_type": "code",
   "execution_count": 8,
   "id": "12f82c0e",
   "metadata": {},
   "outputs": [],
   "source": [
    "def get_swinging_motions(dataset, height=1):\n",
    "    # rf min height (i.e swining motion)\n",
    "    fl_min_height = np.where(dataset[:, 6] < height)[0]\n",
    "    fr_min_height = np.where(dataset[:, 9] < height)[0]\n",
    "    rl_min_height = np.where(dataset[:, 12] < height)[0]\n",
    "    rr_min_height = np.where(dataset[:, 15] < height)[0]\n",
    "            \n",
    "    return fl_min_height,fr_min_height,rl_min_height,rr_min_height"
   ]
  },
  {
   "cell_type": "code",
   "execution_count": 9,
   "id": "1ac5988c",
   "metadata": {},
   "outputs": [],
   "source": [
    "def quaternion_rotation_matrix(Q):\n",
    "    \"\"\"\n",
    "    Covert a quaternion into a full three-dimensional rotation matrix.\n",
    " \n",
    "    Input\n",
    "    :param Q: A 4 element array representing the quaternion (q0,q1,q2,q3) \n",
    " \n",
    "    Output\n",
    "    :return: A 3x3 element matrix representing the full 3D rotation matrix. \n",
    "             This rotation matrix converts a point in the local reference \n",
    "             frame to a point in the global reference frame.\n",
    "    \"\"\"\n",
    "    # Extract the values from Q\n",
    "    q0 = Q[3]\n",
    "    q1 = Q[0]\n",
    "    q2 = Q[1]\n",
    "    q3 = Q[2]\n",
    "     \n",
    "    # First row of the rotation matrix\n",
    "    r00 = 2 * (q0 * q0 + q1 * q1) - 1\n",
    "    r01 = 2 * (q1 * q2 - q0 * q3)\n",
    "    r02 = 2 * (q1 * q3 + q0 * q2)\n",
    "     \n",
    "    # Second row of the rotation matrix\n",
    "    r10 = 2 * (q1 * q2 + q0 * q3)\n",
    "    r11 = 2 * (q0 * q0 + q2 * q2) - 1\n",
    "    r12 = 2 * (q2 * q3 - q0 * q1)\n",
    "     \n",
    "    # Third row of the rotation matrix\n",
    "    r20 = 2 * (q1 * q3 - q0 * q2)\n",
    "    r21 = 2 * (q2 * q3 + q0 * q1)\n",
    "    r22 = 2 * (q0 * q0 + q3 * q3) - 1\n",
    "     \n",
    "    # 3x3 rotation matrix\n",
    "    rot_matrix = np.array([[r00, r01, r02],\n",
    "                           [r10, r11, r12],\n",
    "                           [r20, r21, r22]])\n",
    "                            \n",
    "    return rot_matrix"
   ]
  },
  {
   "cell_type": "markdown",
   "id": "742fc88d",
   "metadata": {},
   "source": [
    "### Step size"
   ]
  },
  {
   "cell_type": "code",
   "execution_count": 10,
   "id": "0495e356",
   "metadata": {},
   "outputs": [],
   "source": [
    "def get_step_size(dataset, footsteps, idx_coord, axes):\n",
    "    # Footsteps sizes\n",
    "    step_size_fr = []\n",
    "    step_size_fl = []\n",
    "    step_size_rr = []\n",
    "    step_size_rl = []\n",
    "    footstep_period = []\n",
    "    \n",
    "    # Compute step sizes\n",
    "    idx = 1\n",
    "    while idx < (len(footsteps)-1):\n",
    "        time_difference = dataset[footsteps[idx], 0] - dataset[footsteps[idx-1], 0]\n",
    "        \n",
    "        if time_difference < 0.5 and (dataset[footsteps[idx-2], 1] > 0.05 or dataset[footsteps[idx-1], 1] > 0.05):\n",
    "            footstep_period.append(time_difference)\n",
    "                        \n",
    "            # Compute rotation matrices from odometry orientation\n",
    "            R_prev = quaternion_rotation_matrix(dataset[footsteps[idx-1], 48:52])\n",
    "            R_curr = quaternion_rotation_matrix(dataset[footsteps[idx], 48:52])\n",
    "            \n",
    "            # Odom base vectors\n",
    "            prev_base = np.array([[dataset[footsteps[idx-1], 16], dataset[footsteps[idx-1], 17], dataset[footsteps[idx-1], 18]]])\n",
    "            curr_base = np.array([[dataset[footsteps[idx], 16], dataset[footsteps[idx], 17], dataset[footsteps[idx-1], 18]]])\n",
    "            \n",
    "            # Rotate odometry estimation\n",
    "            rotated_prev_base = prev_base @ R_prev \n",
    "            rotated_curr_base = curr_base @ R_prev\n",
    "            base_displacement = rotated_curr_base - rotated_prev_base\n",
    "            \n",
    "            if contacts[footsteps[idx], 0]:\n",
    "                # FL vectors\n",
    "                prev_fl = np.array([[dataset[footsteps[idx-1], 4], dataset[footsteps[idx-1], 5], dataset[footsteps[idx-1], 6]]])\n",
    "                curr_fl = np.array([[dataset[footsteps[idx], 4], dataset[footsteps[idx], 5], dataset[footsteps[idx], 6]]])\n",
    "                \n",
    "                # RR vectors\n",
    "                prev_rr = np.array([[dataset[footsteps[idx-1], 13], dataset[footsteps[idx-1], 14], dataset[footsteps[idx-1], 15]]])\n",
    "                curr_rr = np.array([[dataset[footsteps[idx], 13], dataset[footsteps[idx], 14], dataset[footsteps[idx], 15]]])\n",
    "                \n",
    "                # Feet displacements\n",
    "                fl_displacement = curr_fl - prev_fl\n",
    "                rr_displacement = curr_rr - prev_rr\n",
    "                \n",
    "                step_size_fl.append(fl_displacement[0, axes] + base_displacement[0, axes])\n",
    "                step_size_rr.append(rr_displacement[0, axes] + base_displacement[0, axes])\n",
    "            else:\n",
    "                # FR vectors\n",
    "                prev_fr = np.array([[dataset[footsteps[idx-1], 7], dataset[footsteps[idx-1], 8], dataset[footsteps[idx-1], 9]]])\n",
    "                curr_fr = np.array([[dataset[footsteps[idx], 7], dataset[footsteps[idx], 8], dataset[footsteps[idx], 9]]])\n",
    "                \n",
    "                # RL vectors\n",
    "                prev_rl = np.array([[dataset[footsteps[idx-1], 10], dataset[footsteps[idx-1], 11], dataset[footsteps[idx-1], 12]]])\n",
    "                curr_rl = np.array([[dataset[footsteps[idx], 10], dataset[footsteps[idx], 11], dataset[footsteps[idx], 12]]])\n",
    "                \n",
    "                # Feet Displacements\n",
    "                fr_displacement = curr_fr - prev_fr\n",
    "                rl_displacement = curr_rl - prev_rl\n",
    "                            \n",
    "                step_size_fr.append(fr_displacement[0, axes] + base_displacement[0, axes])\n",
    "                step_size_rl.append(rl_displacement[0, axes] + base_displacement[0, axes])\n",
    "                \n",
    "                #print(time_difference, step_size_fr[-1], dataset[footsteps[idx-1], 19])\n",
    "                \n",
    "        idx += 1\n",
    "                    \n",
    "    # Convert to numpy array\n",
    "    step_size_fl_numpy = np.array(step_size_fl)\n",
    "    step_size_fr_numpy = np.array(step_size_fr)\n",
    "    step_size_rl_numpy = np.array(step_size_rl)\n",
    "    step_size_rr_numpy = np.array(step_size_rr)\n",
    "    footstep_period_numpy = np.array(footstep_period)\n",
    "    \n",
    "    print(min(step_size_fl_numpy), \", \", max(step_size_fl_numpy))\n",
    "    print(min(step_size_fr_numpy), \", \", max(step_size_fr_numpy))\n",
    "    print(min(step_size_rl_numpy), \", \", max(step_size_rl_numpy))\n",
    "    print(min(step_size_rr_numpy), \", \", max(step_size_rr_numpy), \"\\n\")\n",
    "    \n",
    "    # Print average step-size\n",
    "    print(\"Avg. step size time: \", np.mean(footstep_period_numpy))\n",
    "    print(\"Min. step size time: \", np.min(footstep_period_numpy))\n",
    "    print(\"Max. step size time: \", np.max(footstep_period_numpy))\n",
    "    print(\"Std. step size time: \", np.std(footstep_period_numpy), \"\\n\")\n",
    "    \n",
    "    #print(footstep_period_numpy)\n",
    "    print(\"Avg. step size for fl foot: \", np.mean(step_size_fl_numpy))\n",
    "    print(\"Avg. step size for fr foot: \", np.mean(step_size_fr_numpy))\n",
    "    print(\"Avg. step size for rl foot: \", np.mean(step_size_rl_numpy))\n",
    "    print(\"Avg. step size for rr foot: \", np.mean(step_size_rr_numpy), '\\n')\n",
    "\n",
    "    # Print std. dev. step-size\n",
    "    print(\"Std. dev. step size for fl foot: \", np.std(step_size_fl_numpy))\n",
    "    print(\"Std. dev. step size for fr foot: \", np.std(step_size_fr_numpy))\n",
    "    print(\"Std. dev. step size for rl foot: \", np.std(step_size_rl_numpy))\n",
    "    print(\"Std. dev. step size for rr foot: \", np.std(step_size_rr_numpy), '\\n')\n",
    "    \n",
    "    return step_size_fr_numpy, step_size_fl_numpy, step_size_rr_numpy, step_size_rl_numpy\n",
    "\n",
    "def step_size_statistics(dataset, footsteps, sign, motion, coordinates, axes):\n",
    "    # Step size and velocity along x axis\n",
    "    for velocity in np.arange(0.1, 1.1, 0.1):\n",
    "        print(f\"Forward: Step size (x) {velocity * sign}\")\n",
    "        footsteps_velocity = footsteps[np.where((np.isclose(dataset[footsteps, motion], velocity * sign, 0.001)))[0]]\n",
    "        step_size_fr_x_fwd,_,_,_ = get_step_size(dataset, footsteps_velocity, coordinates, axes)\n",
    "        print(\"\\n\")"
   ]
  },
  {
   "cell_type": "markdown",
   "id": "06a9fdea",
   "metadata": {},
   "source": [
    "#### Forward motion"
   ]
  },
  {
   "cell_type": "code",
   "execution_count": 11,
   "id": "7e8bbe41",
   "metadata": {},
   "outputs": [],
   "source": [
    "footsteps_fwd = get_specific_cmd(motion, 1, 0, 0)"
   ]
  },
  {
   "cell_type": "code",
   "execution_count": 12,
   "id": "6b19af77",
   "metadata": {},
   "outputs": [
    {
     "name": "stdout",
     "output_type": "stream",
     "text": [
      "Forward: Step size (x) 0.1\n",
      "0.023688439284029528 ,  0.06800960141839352\n",
      "0.031505592637168456 ,  0.06528448189231217\n",
      "0.02989134984503894 ,  0.06385192895861924\n",
      "0.022610042248430773 ,  0.06641435760678616 \n",
      "\n",
      "Avg. step size time:  0.2928157485261255\n",
      "Min. step size time:  0.2568507194519043\n",
      "Max. step size time:  0.3305389881134033\n",
      "Std. step size time:  0.01578009418513887 \n",
      "\n",
      "Avg. step size for fl foot:  0.05582737241163176\n",
      "Avg. step size for fr foot:  0.05520946583972605\n",
      "Avg. step size for rl foot:  0.05280316094749748\n",
      "Avg. step size for rr foot:  0.05377973573239112 \n",
      "\n",
      "Std. dev. step size for fl foot:  0.006814127475187742\n",
      "Std. dev. step size for fr foot:  0.005310085803541253\n",
      "Std. dev. step size for rl foot:  0.005150528043333383\n",
      "Std. dev. step size for rr foot:  0.006619858567859409 \n",
      "\n",
      "\n",
      "\n",
      "Forward: Step size (x) 0.2\n",
      "0.011689566604790355 ,  0.14468168622241517\n",
      "0.07417962933104771 ,  0.14152980901934464\n",
      "0.07240193570178288 ,  0.1400887773249324\n",
      "0.01002889179438081 ,  0.14486266082511445 \n",
      "\n",
      "Avg. step size time:  0.2928332873065062\n",
      "Min. step size time:  0.24930572509765625\n",
      "Max. step size time:  0.33017921447753906\n",
      "Std. step size time:  0.014429519800268202 \n",
      "\n",
      "Avg. step size for fl foot:  0.1102487181538949\n",
      "Avg. step size for fr foot:  0.11268260164894923\n",
      "Avg. step size for rl foot:  0.11061626849162842\n",
      "Avg. step size for rr foot:  0.10833075492725865 \n",
      "\n",
      "Std. dev. step size for fl foot:  0.021823398911609934\n",
      "Std. dev. step size for fr foot:  0.009238360703182968\n",
      "Std. dev. step size for rl foot:  0.009450913462163127\n",
      "Std. dev. step size for rr foot:  0.02172298747964637 \n",
      "\n",
      "\n",
      "\n",
      "Forward: Step size (x) 0.30000000000000004\n",
      "0.11903405497631325 ,  0.21014349834908175\n",
      "0.01702561656967816 ,  0.21515297045775494\n",
      "0.01659236530796704 ,  0.20800236513682446\n",
      "0.12040974507889046 ,  0.20630238132466006 \n",
      "\n",
      "Avg. step size time:  0.29234975814819336\n",
      "Min. step size time:  0.2367696762084961\n",
      "Max. step size time:  0.3396635055541992\n",
      "Std. step size time:  0.0193721309952493 \n",
      "\n",
      "Avg. step size for fl foot:  0.1725873564820588\n",
      "Avg. step size for fr foot:  0.1653243465836433\n",
      "Avg. step size for rl foot:  0.16287516543365568\n",
      "Avg. step size for rr foot:  0.1699850103926373 \n",
      "\n",
      "Std. dev. step size for fl foot:  0.012672709060781955\n",
      "Std. dev. step size for fr foot:  0.03351462776434284\n",
      "Std. dev. step size for rl foot:  0.03336856268753632\n",
      "Std. dev. step size for rr foot:  0.012472551896191482 \n",
      "\n",
      "\n",
      "\n",
      "Forward: Step size (x) 0.4\n",
      "0.02980360760140588 ,  0.2958257325875099\n",
      "0.01815897389311083 ,  0.289844605120094\n",
      "0.01576806767839678 ,  0.28630254754546147\n",
      "0.02545090391087701 ,  0.2914437209085592 \n",
      "\n",
      "Avg. step size time:  0.2927574157714844\n",
      "Min. step size time:  0.24108529090881348\n",
      "Max. step size time:  0.3297755718231201\n",
      "Std. step size time:  0.014841042586125303 \n",
      "\n",
      "Avg. step size for fl foot:  0.22392073140281965\n",
      "Avg. step size for fr foot:  0.22309323601150235\n",
      "Avg. step size for rl foot:  0.21923673920058928\n",
      "Avg. step size for rr foot:  0.22078365073341658 \n",
      "\n",
      "Std. dev. step size for fl foot:  0.04474632865110088\n",
      "Std. dev. step size for fr foot:  0.04658013233899099\n",
      "Std. dev. step size for rl foot:  0.04607861044625083\n",
      "Std. dev. step size for rr foot:  0.04478414253459154 \n",
      "\n",
      "\n",
      "\n",
      "Forward: Step size (x) 0.5\n",
      "0.04647110714249392 ,  0.36392095515117884\n",
      "0.17665990939735138 ,  0.36308002665942296\n",
      "0.17621254673598968 ,  0.3576127310127555\n",
      "0.0415878476076581 ,  0.3653663081823373 \n",
      "\n",
      "Avg. step size time:  0.29372682276460316\n",
      "Min. step size time:  0.2576885223388672\n",
      "Max. step size time:  0.3344764709472656\n",
      "Std. step size time:  0.014137097605704392 \n",
      "\n",
      "Avg. step size for fl foot:  0.28220652958377895\n",
      "Avg. step size for fr foot:  0.2872798364670819\n",
      "Avg. step size for rl foot:  0.2838046510626493\n",
      "Avg. step size for rr foot:  0.2795445053838163 \n",
      "\n",
      "Std. dev. step size for fl foot:  0.057578317375619165\n",
      "Std. dev. step size for fr foot:  0.03011011973418797\n",
      "Std. dev. step size for rl foot:  0.028911504985720662\n",
      "Std. dev. step size for rr foot:  0.05782358682957921 \n",
      "\n",
      "\n",
      "\n",
      "Forward: Step size (x) 0.6\n",
      "0.03691630882842567 ,  0.4363933985544701\n",
      "0.17898729368015334 ,  0.4361835547872188\n",
      "0.17930187209411666 ,  0.42716267492252613\n",
      "0.035447337456774974 ,  0.44654693058266837 \n",
      "\n",
      "Avg. step size time:  0.2963427367963289\n",
      "Min. step size time:  0.239091157913208\n",
      "Max. step size time:  0.3558042049407959\n",
      "Std. step size time:  0.016997376589884074 \n",
      "\n",
      "Avg. step size for fl foot:  0.33382836107897107\n",
      "Avg. step size for fr foot:  0.3408680730615323\n",
      "Avg. step size for rl foot:  0.33751014173785887\n",
      "Avg. step size for rr foot:  0.3315165940190416 \n",
      "\n",
      "Std. dev. step size for fl foot:  0.08145351745209718\n",
      "Std. dev. step size for fr foot:  0.0438395982095404\n",
      "Std. dev. step size for rl foot:  0.04276923684995627\n",
      "Std. dev. step size for rr foot:  0.08178741168455655 \n",
      "\n",
      "\n",
      "\n",
      "Forward: Step size (x) 0.7000000000000001\n",
      "0.05674534534212161 ,  0.5145670882406477\n",
      "0.031960525747362745 ,  0.5181059699506955\n",
      "0.03079449498278297 ,  0.5212206404657559\n",
      "0.05289013181921054 ,  0.5062123498859648 \n",
      "\n",
      "Avg. step size time:  0.296664581800762\n",
      "Min. step size time:  0.23134541511535645\n",
      "Max. step size time:  0.35370469093322754\n",
      "Std. step size time:  0.019553379860394234 \n",
      "\n",
      "Avg. step size for fl foot:  0.3981284002262683\n",
      "Avg. step size for fr foot:  0.3849398607344919\n",
      "Avg. step size for rl foot:  0.38168337161087496\n",
      "Avg. step size for rr foot:  0.39493653894274827 \n",
      "\n",
      "Std. dev. step size for fl foot:  0.07133958299011978\n",
      "Std. dev. step size for fr foot:  0.10130321383870508\n",
      "Std. dev. step size for rl foot:  0.10112625182576966\n",
      "Std. dev. step size for rr foot:  0.06940314002309703 \n",
      "\n",
      "\n",
      "\n",
      "Forward: Step size (x) 0.8\n"
     ]
    },
    {
     "ename": "ValueError",
     "evalue": "min() arg is an empty sequence",
     "output_type": "error",
     "traceback": [
      "\u001b[0;31m---------------------------------------------------------------------------\u001b[0m",
      "\u001b[0;31mValueError\u001b[0m                                Traceback (most recent call last)",
      "Input \u001b[0;32mIn [12]\u001b[0m, in \u001b[0;36m<cell line: 2>\u001b[0;34m()\u001b[0m\n\u001b[1;32m      1\u001b[0m \u001b[38;5;66;03m# Step size and velocity along x axis\u001b[39;00m\n\u001b[0;32m----> 2\u001b[0m \u001b[43mstep_size_statistics\u001b[49m\u001b[43m(\u001b[49m\u001b[43mmotion\u001b[49m\u001b[43m,\u001b[49m\u001b[43m \u001b[49m\u001b[43mfootsteps_fwd\u001b[49m\u001b[43m,\u001b[49m\u001b[43m \u001b[49m\u001b[38;5;241;43m1\u001b[39;49m\u001b[43m,\u001b[49m\u001b[43m \u001b[49m\u001b[38;5;241;43m1\u001b[39;49m\u001b[43m,\u001b[49m\u001b[43m \u001b[49m\u001b[43m[\u001b[49m\u001b[38;5;241;43m4\u001b[39;49m\u001b[43m,\u001b[49m\u001b[43m \u001b[49m\u001b[38;5;241;43m7\u001b[39;49m\u001b[43m,\u001b[49m\u001b[43m \u001b[49m\u001b[38;5;241;43m10\u001b[39;49m\u001b[43m,\u001b[49m\u001b[43m \u001b[49m\u001b[38;5;241;43m13\u001b[39;49m\u001b[43m]\u001b[49m\u001b[43m,\u001b[49m\u001b[43m \u001b[49m\u001b[38;5;241;43m0\u001b[39;49m\u001b[43m)\u001b[49m\n",
      "Input \u001b[0;32mIn [10]\u001b[0m, in \u001b[0;36mstep_size_statistics\u001b[0;34m(dataset, footsteps, sign, motion, coordinates, axes)\u001b[0m\n\u001b[1;32m    100\u001b[0m \u001b[38;5;28mprint\u001b[39m(\u001b[38;5;124mf\u001b[39m\u001b[38;5;124m\"\u001b[39m\u001b[38;5;124mForward: Step size (x) \u001b[39m\u001b[38;5;132;01m{\u001b[39;00mvelocity \u001b[38;5;241m*\u001b[39m sign\u001b[38;5;132;01m}\u001b[39;00m\u001b[38;5;124m\"\u001b[39m)\n\u001b[1;32m    101\u001b[0m footsteps_velocity \u001b[38;5;241m=\u001b[39m footsteps[np\u001b[38;5;241m.\u001b[39mwhere((np\u001b[38;5;241m.\u001b[39misclose(dataset[footsteps, motion], velocity \u001b[38;5;241m*\u001b[39m sign, \u001b[38;5;241m0.001\u001b[39m)))[\u001b[38;5;241m0\u001b[39m]]\n\u001b[0;32m--> 102\u001b[0m step_size_fr_x_fwd,_,_,_ \u001b[38;5;241m=\u001b[39m \u001b[43mget_step_size\u001b[49m\u001b[43m(\u001b[49m\u001b[43mdataset\u001b[49m\u001b[43m,\u001b[49m\u001b[43m \u001b[49m\u001b[43mfootsteps_velocity\u001b[49m\u001b[43m,\u001b[49m\u001b[43m \u001b[49m\u001b[43mcoordinates\u001b[49m\u001b[43m,\u001b[49m\u001b[43m \u001b[49m\u001b[43maxes\u001b[49m\u001b[43m)\u001b[49m\n\u001b[1;32m    103\u001b[0m \u001b[38;5;28mprint\u001b[39m(\u001b[38;5;124m\"\u001b[39m\u001b[38;5;130;01m\\n\u001b[39;00m\u001b[38;5;124m\"\u001b[39m)\n",
      "Input \u001b[0;32mIn [10]\u001b[0m, in \u001b[0;36mget_step_size\u001b[0;34m(dataset, footsteps, idx_coord, axes)\u001b[0m\n\u001b[1;32m     69\u001b[0m step_size_rr_numpy \u001b[38;5;241m=\u001b[39m np\u001b[38;5;241m.\u001b[39marray(step_size_rr)\n\u001b[1;32m     70\u001b[0m footstep_period_numpy \u001b[38;5;241m=\u001b[39m np\u001b[38;5;241m.\u001b[39marray(footstep_period)\n\u001b[0;32m---> 72\u001b[0m \u001b[38;5;28mprint\u001b[39m(\u001b[38;5;28;43mmin\u001b[39;49m\u001b[43m(\u001b[49m\u001b[43mstep_size_fl_numpy\u001b[49m\u001b[43m)\u001b[49m, \u001b[38;5;124m\"\u001b[39m\u001b[38;5;124m, \u001b[39m\u001b[38;5;124m\"\u001b[39m, \u001b[38;5;28mmax\u001b[39m(step_size_fl_numpy))\n\u001b[1;32m     73\u001b[0m \u001b[38;5;28mprint\u001b[39m(\u001b[38;5;28mmin\u001b[39m(step_size_fr_numpy), \u001b[38;5;124m\"\u001b[39m\u001b[38;5;124m, \u001b[39m\u001b[38;5;124m\"\u001b[39m, \u001b[38;5;28mmax\u001b[39m(step_size_fr_numpy))\n\u001b[1;32m     74\u001b[0m \u001b[38;5;28mprint\u001b[39m(\u001b[38;5;28mmin\u001b[39m(step_size_rl_numpy), \u001b[38;5;124m\"\u001b[39m\u001b[38;5;124m, \u001b[39m\u001b[38;5;124m\"\u001b[39m, \u001b[38;5;28mmax\u001b[39m(step_size_rl_numpy))\n",
      "\u001b[0;31mValueError\u001b[0m: min() arg is an empty sequence"
     ]
    }
   ],
   "source": [
    "# Step size and velocity along x axis\n",
    "step_size_statistics(motion, footsteps_fwd, 1, 1, [4, 7, 10, 13], 0)"
   ]
  },
  {
   "cell_type": "code",
   "execution_count": 13,
   "id": "d15ab22b",
   "metadata": {},
   "outputs": [
    {
     "name": "stdout",
     "output_type": "stream",
     "text": [
      "Forward: Step size (x) 0.1\n",
      "-0.007265941564628786 ,  0.004474217833118521\n",
      "-0.0014582913136798048 ,  0.006406896900811088\n",
      "-0.0037084210634510395 ,  0.002987335706475358\n",
      "-0.0031586301966401997 ,  0.00520174713766508 \n",
      "\n",
      "Avg. step size time:  0.2928157485261255\n",
      "Min. step size time:  0.2568507194519043\n",
      "Max. step size time:  0.3305389881134033\n",
      "Std. step size time:  0.01578009418513887 \n",
      "\n",
      "Avg. step size for fl foot:  -0.0006066606598869493\n",
      "Avg. step size for fr foot:  0.00305995005671354\n",
      "Avg. step size for rl foot:  -0.00021026121173091015\n",
      "Avg. step size for rr foot:  0.0015246069619221732 \n",
      "\n",
      "Std. dev. step size for fl foot:  0.002271783742171267\n",
      "Std. dev. step size for fr foot:  0.001532847573695736\n",
      "Std. dev. step size for rl foot:  0.0014757037398838676\n",
      "Std. dev. step size for rr foot:  0.0016271603930402283 \n",
      "\n",
      "\n",
      "\n",
      "Forward: Step size (x) 0.2\n",
      "-0.00865575008389241 ,  0.007148921826415355\n",
      "0.0016609023766032127 ,  0.010704824060983942\n",
      "-0.002726872609290165 ,  0.008070961863584802\n",
      "-0.007947812950618305 ,  0.006644311119564872 \n",
      "\n",
      "Avg. step size time:  0.2928332873065062\n",
      "Min. step size time:  0.24930572509765625\n",
      "Max. step size time:  0.33017921447753906\n",
      "Std. step size time:  0.014429519800268202 \n",
      "\n",
      "Avg. step size for fl foot:  0.00037553856795934174\n",
      "Avg. step size for fr foot:  0.00477659344616535\n",
      "Avg. step size for rl foot:  0.0016643869001965\n",
      "Avg. step size for rr foot:  0.0026950008731498583 \n",
      "\n",
      "Std. dev. step size for fl foot:  0.003276261376332644\n",
      "Std. dev. step size for fr foot:  0.0017657601288355838\n",
      "Std. dev. step size for rl foot:  0.002147118585980284\n",
      "Std. dev. step size for rr foot:  0.0026605493930374167 \n",
      "\n",
      "\n",
      "\n",
      "Forward: Step size (x) 0.30000000000000004\n",
      "-0.007483436318896253 ,  0.009846952142754883\n",
      "-0.0012349021057862508 ,  0.013820563200501068\n",
      "-0.006635854310077516 ,  0.007972275180326172\n",
      "8.416309688286105e-05 ,  0.00972192541115624 \n",
      "\n",
      "Avg. step size time:  0.29234975814819336\n",
      "Min. step size time:  0.2367696762084961\n",
      "Max. step size time:  0.3396635055541992\n",
      "Std. step size time:  0.0193721309952493 \n",
      "\n",
      "Avg. step size for fl foot:  0.002593870492886725\n",
      "Avg. step size for fr foot:  0.005368282820827546\n",
      "Avg. step size for rl foot:  0.0022466277516820445\n",
      "Avg. step size for rr foot:  0.004341840258939127 \n",
      "\n",
      "Std. dev. step size for fl foot:  0.0033949919465974068\n",
      "Std. dev. step size for fr foot:  0.0026099914005893402\n",
      "Std. dev. step size for rl foot:  0.00303329248168659\n",
      "Std. dev. step size for rr foot:  0.0021583460369489355 \n",
      "\n",
      "\n",
      "\n",
      "Forward: Step size (x) 0.4\n",
      "-0.01304564352859039 ,  0.01614326046224801\n",
      "-0.010545375657349698 ,  0.017729497553108375\n",
      "-0.015675577235489957 ,  0.02478105485558335\n",
      "-0.008600157757888027 ,  0.012452287553828656 \n",
      "\n",
      "Avg. step size time:  0.2927574157714844\n",
      "Min. step size time:  0.24108529090881348\n",
      "Max. step size time:  0.3297755718231201\n",
      "Std. step size time:  0.014841042586125303 \n",
      "\n",
      "Avg. step size for fl foot:  0.004171588991401782\n",
      "Avg. step size for fr foot:  0.004600169745522718\n",
      "Avg. step size for rl foot:  0.0030115900312244694\n",
      "Avg. step size for rr foot:  0.005707556132791629 \n",
      "\n",
      "Std. dev. step size for fl foot:  0.005726108357770635\n",
      "Std. dev. step size for fr foot:  0.004904430863871724\n",
      "Std. dev. step size for rl foot:  0.006020979040016128\n",
      "Std. dev. step size for rr foot:  0.0037493793824463933 \n",
      "\n",
      "\n",
      "\n",
      "Forward: Step size (x) 0.5\n",
      "-0.016063559835136187 ,  0.018515270258913197\n",
      "-0.030499847636326738 ,  0.020482501225771\n",
      "-0.0313602406836595 ,  0.01664627178222089\n",
      "-0.014000374858558429 ,  0.017252995580502972 \n",
      "\n",
      "Avg. step size time:  0.29372682276460316\n",
      "Min. step size time:  0.2576885223388672\n",
      "Max. step size time:  0.3344764709472656\n",
      "Std. step size time:  0.014137097605704392 \n",
      "\n",
      "Avg. step size for fl foot:  0.005303697517410613\n",
      "Avg. step size for fr foot:  0.004542186027324737\n",
      "Avg. step size for rl foot:  0.003263149136371592\n",
      "Avg. step size for rr foot:  0.005809588512674666 \n",
      "\n",
      "Std. dev. step size for fl foot:  0.0062417140458506555\n",
      "Std. dev. step size for fr foot:  0.00845948531874123\n",
      "Std. dev. step size for rl foot:  0.009046763668678098\n",
      "Std. dev. step size for rr foot:  0.004946892091321838 \n",
      "\n",
      "\n",
      "\n",
      "Forward: Step size (x) 0.6\n",
      "-0.020868713527931737 ,  0.020424076056366314\n",
      "-0.027006885319601714 ,  0.03184129944478031\n",
      "-0.027037916987787902 ,  0.031388445705518686\n",
      "-0.015882725387825536 ,  0.014025499073303305 \n",
      "\n",
      "Avg. step size time:  0.2963427367963289\n",
      "Min. step size time:  0.239091157913208\n",
      "Max. step size time:  0.3558042049407959\n",
      "Std. step size time:  0.016997376589884074 \n",
      "\n",
      "Avg. step size for fl foot:  0.006555371762834139\n",
      "Avg. step size for fr foot:  0.006171101229965365\n",
      "Avg. step size for rl foot:  0.004564557965006196\n",
      "Avg. step size for rr foot:  0.006861496656820587 \n",
      "\n",
      "Std. dev. step size for fl foot:  0.007697108284047124\n",
      "Std. dev. step size for fr foot:  0.010581349238854508\n",
      "Std. dev. step size for rl foot:  0.009621562908755798\n",
      "Std. dev. step size for rr foot:  0.005737993663566544 \n",
      "\n",
      "\n",
      "\n",
      "Forward: Step size (x) 0.7000000000000001\n",
      "-0.019808877051192608 ,  0.05365502496268504\n",
      "-0.030061696233830038 ,  0.035491397105253064\n",
      "-0.01914877582050445 ,  0.033679163952572866\n",
      "-0.014293726325351086 ,  0.04136638750340693 \n",
      "\n",
      "Avg. step size time:  0.296664581800762\n",
      "Min. step size time:  0.23134541511535645\n",
      "Max. step size time:  0.35370469093322754\n",
      "Std. step size time:  0.019553379860394234 \n",
      "\n",
      "Avg. step size for fl foot:  0.009203452423519873\n",
      "Avg. step size for fr foot:  0.0086473064453894\n",
      "Avg. step size for rl foot:  0.007605605343862476\n",
      "Avg. step size for rr foot:  0.009748709559097696 \n",
      "\n",
      "Std. dev. step size for fl foot:  0.013804275870067925\n",
      "Std. dev. step size for fr foot:  0.009976981089804597\n",
      "Std. dev. step size for rl foot:  0.009618632077252283\n",
      "Std. dev. step size for rr foot:  0.00995145585603867 \n",
      "\n",
      "\n",
      "\n",
      "Forward: Step size (x) 0.8\n"
     ]
    },
    {
     "ename": "ValueError",
     "evalue": "min() arg is an empty sequence",
     "output_type": "error",
     "traceback": [
      "\u001b[0;31m---------------------------------------------------------------------------\u001b[0m",
      "\u001b[0;31mValueError\u001b[0m                                Traceback (most recent call last)",
      "Input \u001b[0;32mIn [13]\u001b[0m, in \u001b[0;36m<cell line: 2>\u001b[0;34m()\u001b[0m\n\u001b[1;32m      1\u001b[0m \u001b[38;5;66;03m# Step size and velocity along y axis\u001b[39;00m\n\u001b[0;32m----> 2\u001b[0m \u001b[43mstep_size_statistics\u001b[49m\u001b[43m(\u001b[49m\u001b[43mmotion\u001b[49m\u001b[43m,\u001b[49m\u001b[43m \u001b[49m\u001b[43mfootsteps_fwd\u001b[49m\u001b[43m,\u001b[49m\u001b[43m \u001b[49m\u001b[38;5;241;43m1\u001b[39;49m\u001b[43m,\u001b[49m\u001b[43m \u001b[49m\u001b[38;5;241;43m1\u001b[39;49m\u001b[43m,\u001b[49m\u001b[43m \u001b[49m\u001b[43m[\u001b[49m\u001b[38;5;241;43m5\u001b[39;49m\u001b[43m,\u001b[49m\u001b[43m \u001b[49m\u001b[38;5;241;43m8\u001b[39;49m\u001b[43m,\u001b[49m\u001b[43m \u001b[49m\u001b[38;5;241;43m11\u001b[39;49m\u001b[43m,\u001b[49m\u001b[43m \u001b[49m\u001b[38;5;241;43m14\u001b[39;49m\u001b[43m]\u001b[49m\u001b[43m,\u001b[49m\u001b[43m \u001b[49m\u001b[38;5;241;43m1\u001b[39;49m\u001b[43m)\u001b[49m\n",
      "Input \u001b[0;32mIn [10]\u001b[0m, in \u001b[0;36mstep_size_statistics\u001b[0;34m(dataset, footsteps, sign, motion, coordinates, axes)\u001b[0m\n\u001b[1;32m    100\u001b[0m \u001b[38;5;28mprint\u001b[39m(\u001b[38;5;124mf\u001b[39m\u001b[38;5;124m\"\u001b[39m\u001b[38;5;124mForward: Step size (x) \u001b[39m\u001b[38;5;132;01m{\u001b[39;00mvelocity \u001b[38;5;241m*\u001b[39m sign\u001b[38;5;132;01m}\u001b[39;00m\u001b[38;5;124m\"\u001b[39m)\n\u001b[1;32m    101\u001b[0m footsteps_velocity \u001b[38;5;241m=\u001b[39m footsteps[np\u001b[38;5;241m.\u001b[39mwhere((np\u001b[38;5;241m.\u001b[39misclose(dataset[footsteps, motion], velocity \u001b[38;5;241m*\u001b[39m sign, \u001b[38;5;241m0.001\u001b[39m)))[\u001b[38;5;241m0\u001b[39m]]\n\u001b[0;32m--> 102\u001b[0m step_size_fr_x_fwd,_,_,_ \u001b[38;5;241m=\u001b[39m \u001b[43mget_step_size\u001b[49m\u001b[43m(\u001b[49m\u001b[43mdataset\u001b[49m\u001b[43m,\u001b[49m\u001b[43m \u001b[49m\u001b[43mfootsteps_velocity\u001b[49m\u001b[43m,\u001b[49m\u001b[43m \u001b[49m\u001b[43mcoordinates\u001b[49m\u001b[43m,\u001b[49m\u001b[43m \u001b[49m\u001b[43maxes\u001b[49m\u001b[43m)\u001b[49m\n\u001b[1;32m    103\u001b[0m \u001b[38;5;28mprint\u001b[39m(\u001b[38;5;124m\"\u001b[39m\u001b[38;5;130;01m\\n\u001b[39;00m\u001b[38;5;124m\"\u001b[39m)\n",
      "Input \u001b[0;32mIn [10]\u001b[0m, in \u001b[0;36mget_step_size\u001b[0;34m(dataset, footsteps, idx_coord, axes)\u001b[0m\n\u001b[1;32m     69\u001b[0m step_size_rr_numpy \u001b[38;5;241m=\u001b[39m np\u001b[38;5;241m.\u001b[39marray(step_size_rr)\n\u001b[1;32m     70\u001b[0m footstep_period_numpy \u001b[38;5;241m=\u001b[39m np\u001b[38;5;241m.\u001b[39marray(footstep_period)\n\u001b[0;32m---> 72\u001b[0m \u001b[38;5;28mprint\u001b[39m(\u001b[38;5;28;43mmin\u001b[39;49m\u001b[43m(\u001b[49m\u001b[43mstep_size_fl_numpy\u001b[49m\u001b[43m)\u001b[49m, \u001b[38;5;124m\"\u001b[39m\u001b[38;5;124m, \u001b[39m\u001b[38;5;124m\"\u001b[39m, \u001b[38;5;28mmax\u001b[39m(step_size_fl_numpy))\n\u001b[1;32m     73\u001b[0m \u001b[38;5;28mprint\u001b[39m(\u001b[38;5;28mmin\u001b[39m(step_size_fr_numpy), \u001b[38;5;124m\"\u001b[39m\u001b[38;5;124m, \u001b[39m\u001b[38;5;124m\"\u001b[39m, \u001b[38;5;28mmax\u001b[39m(step_size_fr_numpy))\n\u001b[1;32m     74\u001b[0m \u001b[38;5;28mprint\u001b[39m(\u001b[38;5;28mmin\u001b[39m(step_size_rl_numpy), \u001b[38;5;124m\"\u001b[39m\u001b[38;5;124m, \u001b[39m\u001b[38;5;124m\"\u001b[39m, \u001b[38;5;28mmax\u001b[39m(step_size_rl_numpy))\n",
      "\u001b[0;31mValueError\u001b[0m: min() arg is an empty sequence"
     ]
    }
   ],
   "source": [
    "# Step size and velocity along y axis\n",
    "step_size_statistics(motion, footsteps_fwd, 1, 1, [5, 8, 11, 14], 1)"
   ]
  },
  {
   "cell_type": "markdown",
   "id": "789266b9",
   "metadata": {},
   "source": [
    "### Side motion (right)"
   ]
  },
  {
   "cell_type": "code",
   "execution_count": 14,
   "id": "2b74ef64",
   "metadata": {},
   "outputs": [],
   "source": [
    "footsteps_side_right = get_specific_cmd(motion, 0, -1, 0)"
   ]
  },
  {
   "cell_type": "code",
   "execution_count": 15,
   "id": "d2b0b0c3",
   "metadata": {},
   "outputs": [
    {
     "name": "stdout",
     "output_type": "stream",
     "text": [
      "Forward: Step size (x) -0.1\n"
     ]
    },
    {
     "ename": "ValueError",
     "evalue": "min() arg is an empty sequence",
     "output_type": "error",
     "traceback": [
      "\u001b[0;31m---------------------------------------------------------------------------\u001b[0m",
      "\u001b[0;31mValueError\u001b[0m                                Traceback (most recent call last)",
      "Input \u001b[0;32mIn [15]\u001b[0m, in \u001b[0;36m<cell line: 2>\u001b[0;34m()\u001b[0m\n\u001b[1;32m      1\u001b[0m \u001b[38;5;66;03m# Step size and velocity along x axis\u001b[39;00m\n\u001b[0;32m----> 2\u001b[0m \u001b[43mstep_size_statistics\u001b[49m\u001b[43m(\u001b[49m\u001b[43mmotion\u001b[49m\u001b[43m,\u001b[49m\u001b[43m \u001b[49m\u001b[43mfootsteps_side_right\u001b[49m\u001b[43m,\u001b[49m\u001b[43m \u001b[49m\u001b[38;5;241;43m-\u001b[39;49m\u001b[38;5;241;43m1\u001b[39;49m\u001b[43m,\u001b[49m\u001b[43m \u001b[49m\u001b[38;5;241;43m2\u001b[39;49m\u001b[43m,\u001b[49m\u001b[43m \u001b[49m\u001b[43m[\u001b[49m\u001b[38;5;241;43m4\u001b[39;49m\u001b[43m,\u001b[49m\u001b[43m \u001b[49m\u001b[38;5;241;43m7\u001b[39;49m\u001b[43m,\u001b[49m\u001b[43m \u001b[49m\u001b[38;5;241;43m10\u001b[39;49m\u001b[43m,\u001b[49m\u001b[43m \u001b[49m\u001b[38;5;241;43m13\u001b[39;49m\u001b[43m]\u001b[49m\u001b[43m,\u001b[49m\u001b[43m \u001b[49m\u001b[38;5;241;43m0\u001b[39;49m\u001b[43m)\u001b[49m\n",
      "Input \u001b[0;32mIn [10]\u001b[0m, in \u001b[0;36mstep_size_statistics\u001b[0;34m(dataset, footsteps, sign, motion, coordinates, axes)\u001b[0m\n\u001b[1;32m    100\u001b[0m \u001b[38;5;28mprint\u001b[39m(\u001b[38;5;124mf\u001b[39m\u001b[38;5;124m\"\u001b[39m\u001b[38;5;124mForward: Step size (x) \u001b[39m\u001b[38;5;132;01m{\u001b[39;00mvelocity \u001b[38;5;241m*\u001b[39m sign\u001b[38;5;132;01m}\u001b[39;00m\u001b[38;5;124m\"\u001b[39m)\n\u001b[1;32m    101\u001b[0m footsteps_velocity \u001b[38;5;241m=\u001b[39m footsteps[np\u001b[38;5;241m.\u001b[39mwhere((np\u001b[38;5;241m.\u001b[39misclose(dataset[footsteps, motion], velocity \u001b[38;5;241m*\u001b[39m sign, \u001b[38;5;241m0.001\u001b[39m)))[\u001b[38;5;241m0\u001b[39m]]\n\u001b[0;32m--> 102\u001b[0m step_size_fr_x_fwd,_,_,_ \u001b[38;5;241m=\u001b[39m \u001b[43mget_step_size\u001b[49m\u001b[43m(\u001b[49m\u001b[43mdataset\u001b[49m\u001b[43m,\u001b[49m\u001b[43m \u001b[49m\u001b[43mfootsteps_velocity\u001b[49m\u001b[43m,\u001b[49m\u001b[43m \u001b[49m\u001b[43mcoordinates\u001b[49m\u001b[43m,\u001b[49m\u001b[43m \u001b[49m\u001b[43maxes\u001b[49m\u001b[43m)\u001b[49m\n\u001b[1;32m    103\u001b[0m \u001b[38;5;28mprint\u001b[39m(\u001b[38;5;124m\"\u001b[39m\u001b[38;5;130;01m\\n\u001b[39;00m\u001b[38;5;124m\"\u001b[39m)\n",
      "Input \u001b[0;32mIn [10]\u001b[0m, in \u001b[0;36mget_step_size\u001b[0;34m(dataset, footsteps, idx_coord, axes)\u001b[0m\n\u001b[1;32m     69\u001b[0m step_size_rr_numpy \u001b[38;5;241m=\u001b[39m np\u001b[38;5;241m.\u001b[39marray(step_size_rr)\n\u001b[1;32m     70\u001b[0m footstep_period_numpy \u001b[38;5;241m=\u001b[39m np\u001b[38;5;241m.\u001b[39marray(footstep_period)\n\u001b[0;32m---> 72\u001b[0m \u001b[38;5;28mprint\u001b[39m(\u001b[38;5;28;43mmin\u001b[39;49m\u001b[43m(\u001b[49m\u001b[43mstep_size_fl_numpy\u001b[49m\u001b[43m)\u001b[49m, \u001b[38;5;124m\"\u001b[39m\u001b[38;5;124m, \u001b[39m\u001b[38;5;124m\"\u001b[39m, \u001b[38;5;28mmax\u001b[39m(step_size_fl_numpy))\n\u001b[1;32m     73\u001b[0m \u001b[38;5;28mprint\u001b[39m(\u001b[38;5;28mmin\u001b[39m(step_size_fr_numpy), \u001b[38;5;124m\"\u001b[39m\u001b[38;5;124m, \u001b[39m\u001b[38;5;124m\"\u001b[39m, \u001b[38;5;28mmax\u001b[39m(step_size_fr_numpy))\n\u001b[1;32m     74\u001b[0m \u001b[38;5;28mprint\u001b[39m(\u001b[38;5;28mmin\u001b[39m(step_size_rl_numpy), \u001b[38;5;124m\"\u001b[39m\u001b[38;5;124m, \u001b[39m\u001b[38;5;124m\"\u001b[39m, \u001b[38;5;28mmax\u001b[39m(step_size_rl_numpy))\n",
      "\u001b[0;31mValueError\u001b[0m: min() arg is an empty sequence"
     ]
    }
   ],
   "source": [
    "# Step size and velocity along x axis\n",
    "step_size_statistics(motion, footsteps_side_right, -1, 2, [4, 7, 10, 13], 0)"
   ]
  },
  {
   "cell_type": "code",
   "execution_count": 16,
   "id": "65fd1906",
   "metadata": {},
   "outputs": [
    {
     "name": "stdout",
     "output_type": "stream",
     "text": [
      "Forward: Step size (x) -0.1\n"
     ]
    },
    {
     "ename": "ValueError",
     "evalue": "min() arg is an empty sequence",
     "output_type": "error",
     "traceback": [
      "\u001b[0;31m---------------------------------------------------------------------------\u001b[0m",
      "\u001b[0;31mValueError\u001b[0m                                Traceback (most recent call last)",
      "Input \u001b[0;32mIn [16]\u001b[0m, in \u001b[0;36m<cell line: 2>\u001b[0;34m()\u001b[0m\n\u001b[1;32m      1\u001b[0m \u001b[38;5;66;03m# Step size and velocity along y axis\u001b[39;00m\n\u001b[0;32m----> 2\u001b[0m \u001b[43mstep_size_statistics\u001b[49m\u001b[43m(\u001b[49m\u001b[43mmotion\u001b[49m\u001b[43m,\u001b[49m\u001b[43m \u001b[49m\u001b[43mfootsteps_side_right\u001b[49m\u001b[43m,\u001b[49m\u001b[43m \u001b[49m\u001b[38;5;241;43m-\u001b[39;49m\u001b[38;5;241;43m1\u001b[39;49m\u001b[43m,\u001b[49m\u001b[43m \u001b[49m\u001b[38;5;241;43m2\u001b[39;49m\u001b[43m,\u001b[49m\u001b[43m \u001b[49m\u001b[43m[\u001b[49m\u001b[38;5;241;43m5\u001b[39;49m\u001b[43m,\u001b[49m\u001b[43m \u001b[49m\u001b[38;5;241;43m8\u001b[39;49m\u001b[43m,\u001b[49m\u001b[43m \u001b[49m\u001b[38;5;241;43m11\u001b[39;49m\u001b[43m,\u001b[49m\u001b[43m \u001b[49m\u001b[38;5;241;43m14\u001b[39;49m\u001b[43m]\u001b[49m\u001b[43m,\u001b[49m\u001b[43m \u001b[49m\u001b[38;5;241;43m1\u001b[39;49m\u001b[43m)\u001b[49m\n",
      "Input \u001b[0;32mIn [10]\u001b[0m, in \u001b[0;36mstep_size_statistics\u001b[0;34m(dataset, footsteps, sign, motion, coordinates, axes)\u001b[0m\n\u001b[1;32m    100\u001b[0m \u001b[38;5;28mprint\u001b[39m(\u001b[38;5;124mf\u001b[39m\u001b[38;5;124m\"\u001b[39m\u001b[38;5;124mForward: Step size (x) \u001b[39m\u001b[38;5;132;01m{\u001b[39;00mvelocity \u001b[38;5;241m*\u001b[39m sign\u001b[38;5;132;01m}\u001b[39;00m\u001b[38;5;124m\"\u001b[39m)\n\u001b[1;32m    101\u001b[0m footsteps_velocity \u001b[38;5;241m=\u001b[39m footsteps[np\u001b[38;5;241m.\u001b[39mwhere((np\u001b[38;5;241m.\u001b[39misclose(dataset[footsteps, motion], velocity \u001b[38;5;241m*\u001b[39m sign, \u001b[38;5;241m0.001\u001b[39m)))[\u001b[38;5;241m0\u001b[39m]]\n\u001b[0;32m--> 102\u001b[0m step_size_fr_x_fwd,_,_,_ \u001b[38;5;241m=\u001b[39m \u001b[43mget_step_size\u001b[49m\u001b[43m(\u001b[49m\u001b[43mdataset\u001b[49m\u001b[43m,\u001b[49m\u001b[43m \u001b[49m\u001b[43mfootsteps_velocity\u001b[49m\u001b[43m,\u001b[49m\u001b[43m \u001b[49m\u001b[43mcoordinates\u001b[49m\u001b[43m,\u001b[49m\u001b[43m \u001b[49m\u001b[43maxes\u001b[49m\u001b[43m)\u001b[49m\n\u001b[1;32m    103\u001b[0m \u001b[38;5;28mprint\u001b[39m(\u001b[38;5;124m\"\u001b[39m\u001b[38;5;130;01m\\n\u001b[39;00m\u001b[38;5;124m\"\u001b[39m)\n",
      "Input \u001b[0;32mIn [10]\u001b[0m, in \u001b[0;36mget_step_size\u001b[0;34m(dataset, footsteps, idx_coord, axes)\u001b[0m\n\u001b[1;32m     69\u001b[0m step_size_rr_numpy \u001b[38;5;241m=\u001b[39m np\u001b[38;5;241m.\u001b[39marray(step_size_rr)\n\u001b[1;32m     70\u001b[0m footstep_period_numpy \u001b[38;5;241m=\u001b[39m np\u001b[38;5;241m.\u001b[39marray(footstep_period)\n\u001b[0;32m---> 72\u001b[0m \u001b[38;5;28mprint\u001b[39m(\u001b[38;5;28;43mmin\u001b[39;49m\u001b[43m(\u001b[49m\u001b[43mstep_size_fl_numpy\u001b[49m\u001b[43m)\u001b[49m, \u001b[38;5;124m\"\u001b[39m\u001b[38;5;124m, \u001b[39m\u001b[38;5;124m\"\u001b[39m, \u001b[38;5;28mmax\u001b[39m(step_size_fl_numpy))\n\u001b[1;32m     73\u001b[0m \u001b[38;5;28mprint\u001b[39m(\u001b[38;5;28mmin\u001b[39m(step_size_fr_numpy), \u001b[38;5;124m\"\u001b[39m\u001b[38;5;124m, \u001b[39m\u001b[38;5;124m\"\u001b[39m, \u001b[38;5;28mmax\u001b[39m(step_size_fr_numpy))\n\u001b[1;32m     74\u001b[0m \u001b[38;5;28mprint\u001b[39m(\u001b[38;5;28mmin\u001b[39m(step_size_rl_numpy), \u001b[38;5;124m\"\u001b[39m\u001b[38;5;124m, \u001b[39m\u001b[38;5;124m\"\u001b[39m, \u001b[38;5;28mmax\u001b[39m(step_size_rl_numpy))\n",
      "\u001b[0;31mValueError\u001b[0m: min() arg is an empty sequence"
     ]
    }
   ],
   "source": [
    "# Step size and velocity along y axis\n",
    "step_size_statistics(motion, footsteps_side_right, -1, 2, [5, 8, 11, 14], 1)"
   ]
  },
  {
   "cell_type": "markdown",
   "id": "cd5f31e2",
   "metadata": {},
   "source": [
    "### Side motions (left)"
   ]
  },
  {
   "cell_type": "code",
   "execution_count": 17,
   "id": "3b0fe64f",
   "metadata": {},
   "outputs": [],
   "source": [
    "footsteps_side_left = get_specific_cmd(motion, 0, 1, 0)"
   ]
  },
  {
   "cell_type": "code",
   "execution_count": 18,
   "id": "5a1d5ddd",
   "metadata": {},
   "outputs": [
    {
     "name": "stdout",
     "output_type": "stream",
     "text": [
      "Forward: Step size (x) 0.1\n"
     ]
    },
    {
     "ename": "ValueError",
     "evalue": "min() arg is an empty sequence",
     "output_type": "error",
     "traceback": [
      "\u001b[0;31m---------------------------------------------------------------------------\u001b[0m",
      "\u001b[0;31mValueError\u001b[0m                                Traceback (most recent call last)",
      "Input \u001b[0;32mIn [18]\u001b[0m, in \u001b[0;36m<cell line: 2>\u001b[0;34m()\u001b[0m\n\u001b[1;32m      1\u001b[0m \u001b[38;5;66;03m# Step size and velocity along x axis\u001b[39;00m\n\u001b[0;32m----> 2\u001b[0m \u001b[43mstep_size_statistics\u001b[49m\u001b[43m(\u001b[49m\u001b[43mmotion\u001b[49m\u001b[43m,\u001b[49m\u001b[43m \u001b[49m\u001b[43mfootsteps_side_left\u001b[49m\u001b[43m,\u001b[49m\u001b[43m \u001b[49m\u001b[38;5;241;43m1\u001b[39;49m\u001b[43m,\u001b[49m\u001b[43m \u001b[49m\u001b[38;5;241;43m2\u001b[39;49m\u001b[43m,\u001b[49m\u001b[43m \u001b[49m\u001b[43m[\u001b[49m\u001b[38;5;241;43m4\u001b[39;49m\u001b[43m,\u001b[49m\u001b[43m \u001b[49m\u001b[38;5;241;43m7\u001b[39;49m\u001b[43m,\u001b[49m\u001b[43m \u001b[49m\u001b[38;5;241;43m10\u001b[39;49m\u001b[43m,\u001b[49m\u001b[43m \u001b[49m\u001b[38;5;241;43m13\u001b[39;49m\u001b[43m]\u001b[49m\u001b[43m,\u001b[49m\u001b[43m \u001b[49m\u001b[38;5;241;43m0\u001b[39;49m\u001b[43m)\u001b[49m\n",
      "Input \u001b[0;32mIn [10]\u001b[0m, in \u001b[0;36mstep_size_statistics\u001b[0;34m(dataset, footsteps, sign, motion, coordinates, axes)\u001b[0m\n\u001b[1;32m    100\u001b[0m \u001b[38;5;28mprint\u001b[39m(\u001b[38;5;124mf\u001b[39m\u001b[38;5;124m\"\u001b[39m\u001b[38;5;124mForward: Step size (x) \u001b[39m\u001b[38;5;132;01m{\u001b[39;00mvelocity \u001b[38;5;241m*\u001b[39m sign\u001b[38;5;132;01m}\u001b[39;00m\u001b[38;5;124m\"\u001b[39m)\n\u001b[1;32m    101\u001b[0m footsteps_velocity \u001b[38;5;241m=\u001b[39m footsteps[np\u001b[38;5;241m.\u001b[39mwhere((np\u001b[38;5;241m.\u001b[39misclose(dataset[footsteps, motion], velocity \u001b[38;5;241m*\u001b[39m sign, \u001b[38;5;241m0.001\u001b[39m)))[\u001b[38;5;241m0\u001b[39m]]\n\u001b[0;32m--> 102\u001b[0m step_size_fr_x_fwd,_,_,_ \u001b[38;5;241m=\u001b[39m \u001b[43mget_step_size\u001b[49m\u001b[43m(\u001b[49m\u001b[43mdataset\u001b[49m\u001b[43m,\u001b[49m\u001b[43m \u001b[49m\u001b[43mfootsteps_velocity\u001b[49m\u001b[43m,\u001b[49m\u001b[43m \u001b[49m\u001b[43mcoordinates\u001b[49m\u001b[43m,\u001b[49m\u001b[43m \u001b[49m\u001b[43maxes\u001b[49m\u001b[43m)\u001b[49m\n\u001b[1;32m    103\u001b[0m \u001b[38;5;28mprint\u001b[39m(\u001b[38;5;124m\"\u001b[39m\u001b[38;5;130;01m\\n\u001b[39;00m\u001b[38;5;124m\"\u001b[39m)\n",
      "Input \u001b[0;32mIn [10]\u001b[0m, in \u001b[0;36mget_step_size\u001b[0;34m(dataset, footsteps, idx_coord, axes)\u001b[0m\n\u001b[1;32m     69\u001b[0m step_size_rr_numpy \u001b[38;5;241m=\u001b[39m np\u001b[38;5;241m.\u001b[39marray(step_size_rr)\n\u001b[1;32m     70\u001b[0m footstep_period_numpy \u001b[38;5;241m=\u001b[39m np\u001b[38;5;241m.\u001b[39marray(footstep_period)\n\u001b[0;32m---> 72\u001b[0m \u001b[38;5;28mprint\u001b[39m(\u001b[38;5;28;43mmin\u001b[39;49m\u001b[43m(\u001b[49m\u001b[43mstep_size_fl_numpy\u001b[49m\u001b[43m)\u001b[49m, \u001b[38;5;124m\"\u001b[39m\u001b[38;5;124m, \u001b[39m\u001b[38;5;124m\"\u001b[39m, \u001b[38;5;28mmax\u001b[39m(step_size_fl_numpy))\n\u001b[1;32m     73\u001b[0m \u001b[38;5;28mprint\u001b[39m(\u001b[38;5;28mmin\u001b[39m(step_size_fr_numpy), \u001b[38;5;124m\"\u001b[39m\u001b[38;5;124m, \u001b[39m\u001b[38;5;124m\"\u001b[39m, \u001b[38;5;28mmax\u001b[39m(step_size_fr_numpy))\n\u001b[1;32m     74\u001b[0m \u001b[38;5;28mprint\u001b[39m(\u001b[38;5;28mmin\u001b[39m(step_size_rl_numpy), \u001b[38;5;124m\"\u001b[39m\u001b[38;5;124m, \u001b[39m\u001b[38;5;124m\"\u001b[39m, \u001b[38;5;28mmax\u001b[39m(step_size_rl_numpy))\n",
      "\u001b[0;31mValueError\u001b[0m: min() arg is an empty sequence"
     ]
    }
   ],
   "source": [
    "# Step size and velocity along x axis\n",
    "step_size_statistics(motion, footsteps_side_left, 1, 2, [4, 7, 10, 13], 0)"
   ]
  },
  {
   "cell_type": "code",
   "execution_count": 19,
   "id": "0276770a",
   "metadata": {},
   "outputs": [
    {
     "name": "stdout",
     "output_type": "stream",
     "text": [
      "Forward: Step size (x) 0.1\n"
     ]
    },
    {
     "ename": "ValueError",
     "evalue": "min() arg is an empty sequence",
     "output_type": "error",
     "traceback": [
      "\u001b[0;31m---------------------------------------------------------------------------\u001b[0m",
      "\u001b[0;31mValueError\u001b[0m                                Traceback (most recent call last)",
      "Input \u001b[0;32mIn [19]\u001b[0m, in \u001b[0;36m<cell line: 2>\u001b[0;34m()\u001b[0m\n\u001b[1;32m      1\u001b[0m \u001b[38;5;66;03m# Step size and velocity along y axis\u001b[39;00m\n\u001b[0;32m----> 2\u001b[0m \u001b[43mstep_size_statistics\u001b[49m\u001b[43m(\u001b[49m\u001b[43mmotion\u001b[49m\u001b[43m,\u001b[49m\u001b[43m \u001b[49m\u001b[43mfootsteps_side_left\u001b[49m\u001b[43m,\u001b[49m\u001b[43m \u001b[49m\u001b[38;5;241;43m1\u001b[39;49m\u001b[43m,\u001b[49m\u001b[43m \u001b[49m\u001b[38;5;241;43m2\u001b[39;49m\u001b[43m,\u001b[49m\u001b[43m \u001b[49m\u001b[43m[\u001b[49m\u001b[38;5;241;43m5\u001b[39;49m\u001b[43m,\u001b[49m\u001b[43m \u001b[49m\u001b[38;5;241;43m8\u001b[39;49m\u001b[43m,\u001b[49m\u001b[43m \u001b[49m\u001b[38;5;241;43m11\u001b[39;49m\u001b[43m,\u001b[49m\u001b[43m \u001b[49m\u001b[38;5;241;43m14\u001b[39;49m\u001b[43m]\u001b[49m\u001b[43m,\u001b[49m\u001b[43m \u001b[49m\u001b[38;5;241;43m1\u001b[39;49m\u001b[43m)\u001b[49m\n",
      "Input \u001b[0;32mIn [10]\u001b[0m, in \u001b[0;36mstep_size_statistics\u001b[0;34m(dataset, footsteps, sign, motion, coordinates, axes)\u001b[0m\n\u001b[1;32m    100\u001b[0m \u001b[38;5;28mprint\u001b[39m(\u001b[38;5;124mf\u001b[39m\u001b[38;5;124m\"\u001b[39m\u001b[38;5;124mForward: Step size (x) \u001b[39m\u001b[38;5;132;01m{\u001b[39;00mvelocity \u001b[38;5;241m*\u001b[39m sign\u001b[38;5;132;01m}\u001b[39;00m\u001b[38;5;124m\"\u001b[39m)\n\u001b[1;32m    101\u001b[0m footsteps_velocity \u001b[38;5;241m=\u001b[39m footsteps[np\u001b[38;5;241m.\u001b[39mwhere((np\u001b[38;5;241m.\u001b[39misclose(dataset[footsteps, motion], velocity \u001b[38;5;241m*\u001b[39m sign, \u001b[38;5;241m0.001\u001b[39m)))[\u001b[38;5;241m0\u001b[39m]]\n\u001b[0;32m--> 102\u001b[0m step_size_fr_x_fwd,_,_,_ \u001b[38;5;241m=\u001b[39m \u001b[43mget_step_size\u001b[49m\u001b[43m(\u001b[49m\u001b[43mdataset\u001b[49m\u001b[43m,\u001b[49m\u001b[43m \u001b[49m\u001b[43mfootsteps_velocity\u001b[49m\u001b[43m,\u001b[49m\u001b[43m \u001b[49m\u001b[43mcoordinates\u001b[49m\u001b[43m,\u001b[49m\u001b[43m \u001b[49m\u001b[43maxes\u001b[49m\u001b[43m)\u001b[49m\n\u001b[1;32m    103\u001b[0m \u001b[38;5;28mprint\u001b[39m(\u001b[38;5;124m\"\u001b[39m\u001b[38;5;130;01m\\n\u001b[39;00m\u001b[38;5;124m\"\u001b[39m)\n",
      "Input \u001b[0;32mIn [10]\u001b[0m, in \u001b[0;36mget_step_size\u001b[0;34m(dataset, footsteps, idx_coord, axes)\u001b[0m\n\u001b[1;32m     69\u001b[0m step_size_rr_numpy \u001b[38;5;241m=\u001b[39m np\u001b[38;5;241m.\u001b[39marray(step_size_rr)\n\u001b[1;32m     70\u001b[0m footstep_period_numpy \u001b[38;5;241m=\u001b[39m np\u001b[38;5;241m.\u001b[39marray(footstep_period)\n\u001b[0;32m---> 72\u001b[0m \u001b[38;5;28mprint\u001b[39m(\u001b[38;5;28;43mmin\u001b[39;49m\u001b[43m(\u001b[49m\u001b[43mstep_size_fl_numpy\u001b[49m\u001b[43m)\u001b[49m, \u001b[38;5;124m\"\u001b[39m\u001b[38;5;124m, \u001b[39m\u001b[38;5;124m\"\u001b[39m, \u001b[38;5;28mmax\u001b[39m(step_size_fl_numpy))\n\u001b[1;32m     73\u001b[0m \u001b[38;5;28mprint\u001b[39m(\u001b[38;5;28mmin\u001b[39m(step_size_fr_numpy), \u001b[38;5;124m\"\u001b[39m\u001b[38;5;124m, \u001b[39m\u001b[38;5;124m\"\u001b[39m, \u001b[38;5;28mmax\u001b[39m(step_size_fr_numpy))\n\u001b[1;32m     74\u001b[0m \u001b[38;5;28mprint\u001b[39m(\u001b[38;5;28mmin\u001b[39m(step_size_rl_numpy), \u001b[38;5;124m\"\u001b[39m\u001b[38;5;124m, \u001b[39m\u001b[38;5;124m\"\u001b[39m, \u001b[38;5;28mmax\u001b[39m(step_size_rl_numpy))\n",
      "\u001b[0;31mValueError\u001b[0m: min() arg is an empty sequence"
     ]
    }
   ],
   "source": [
    "# Step size and velocity along y axis\n",
    "step_size_statistics(motion, footsteps_side_left, 1, 2, [5, 8, 11, 14], 1)"
   ]
  },
  {
   "cell_type": "markdown",
   "id": "32e632e9",
   "metadata": {},
   "source": [
    "### Rotation (clockwise)"
   ]
  },
  {
   "cell_type": "code",
   "execution_count": 20,
   "id": "87f0a1ad",
   "metadata": {},
   "outputs": [],
   "source": [
    "footsteps_clock = get_specific_cmd(motion, 0, 0, -1)"
   ]
  },
  {
   "cell_type": "code",
   "execution_count": 21,
   "id": "740f047f",
   "metadata": {},
   "outputs": [
    {
     "name": "stdout",
     "output_type": "stream",
     "text": [
      "Forward: Step size (x) -0.1\n"
     ]
    },
    {
     "ename": "ValueError",
     "evalue": "min() arg is an empty sequence",
     "output_type": "error",
     "traceback": [
      "\u001b[0;31m---------------------------------------------------------------------------\u001b[0m",
      "\u001b[0;31mValueError\u001b[0m                                Traceback (most recent call last)",
      "Input \u001b[0;32mIn [21]\u001b[0m, in \u001b[0;36m<cell line: 2>\u001b[0;34m()\u001b[0m\n\u001b[1;32m      1\u001b[0m \u001b[38;5;66;03m# Step size and velocity along x axis\u001b[39;00m\n\u001b[0;32m----> 2\u001b[0m \u001b[43mstep_size_statistics\u001b[49m\u001b[43m(\u001b[49m\u001b[43mmotion\u001b[49m\u001b[43m,\u001b[49m\u001b[43m \u001b[49m\u001b[43mfootsteps_clock\u001b[49m\u001b[43m,\u001b[49m\u001b[43m \u001b[49m\u001b[38;5;241;43m-\u001b[39;49m\u001b[38;5;241;43m1\u001b[39;49m\u001b[43m,\u001b[49m\u001b[43m \u001b[49m\u001b[38;5;241;43m3\u001b[39;49m\u001b[43m,\u001b[49m\u001b[43m \u001b[49m\u001b[43m[\u001b[49m\u001b[38;5;241;43m4\u001b[39;49m\u001b[43m,\u001b[49m\u001b[43m \u001b[49m\u001b[38;5;241;43m7\u001b[39;49m\u001b[43m,\u001b[49m\u001b[43m \u001b[49m\u001b[38;5;241;43m10\u001b[39;49m\u001b[43m,\u001b[49m\u001b[43m \u001b[49m\u001b[38;5;241;43m13\u001b[39;49m\u001b[43m]\u001b[49m\u001b[43m,\u001b[49m\u001b[43m \u001b[49m\u001b[38;5;241;43m0\u001b[39;49m\u001b[43m)\u001b[49m\n",
      "Input \u001b[0;32mIn [10]\u001b[0m, in \u001b[0;36mstep_size_statistics\u001b[0;34m(dataset, footsteps, sign, motion, coordinates, axes)\u001b[0m\n\u001b[1;32m    100\u001b[0m \u001b[38;5;28mprint\u001b[39m(\u001b[38;5;124mf\u001b[39m\u001b[38;5;124m\"\u001b[39m\u001b[38;5;124mForward: Step size (x) \u001b[39m\u001b[38;5;132;01m{\u001b[39;00mvelocity \u001b[38;5;241m*\u001b[39m sign\u001b[38;5;132;01m}\u001b[39;00m\u001b[38;5;124m\"\u001b[39m)\n\u001b[1;32m    101\u001b[0m footsteps_velocity \u001b[38;5;241m=\u001b[39m footsteps[np\u001b[38;5;241m.\u001b[39mwhere((np\u001b[38;5;241m.\u001b[39misclose(dataset[footsteps, motion], velocity \u001b[38;5;241m*\u001b[39m sign, \u001b[38;5;241m0.001\u001b[39m)))[\u001b[38;5;241m0\u001b[39m]]\n\u001b[0;32m--> 102\u001b[0m step_size_fr_x_fwd,_,_,_ \u001b[38;5;241m=\u001b[39m \u001b[43mget_step_size\u001b[49m\u001b[43m(\u001b[49m\u001b[43mdataset\u001b[49m\u001b[43m,\u001b[49m\u001b[43m \u001b[49m\u001b[43mfootsteps_velocity\u001b[49m\u001b[43m,\u001b[49m\u001b[43m \u001b[49m\u001b[43mcoordinates\u001b[49m\u001b[43m,\u001b[49m\u001b[43m \u001b[49m\u001b[43maxes\u001b[49m\u001b[43m)\u001b[49m\n\u001b[1;32m    103\u001b[0m \u001b[38;5;28mprint\u001b[39m(\u001b[38;5;124m\"\u001b[39m\u001b[38;5;130;01m\\n\u001b[39;00m\u001b[38;5;124m\"\u001b[39m)\n",
      "Input \u001b[0;32mIn [10]\u001b[0m, in \u001b[0;36mget_step_size\u001b[0;34m(dataset, footsteps, idx_coord, axes)\u001b[0m\n\u001b[1;32m     69\u001b[0m step_size_rr_numpy \u001b[38;5;241m=\u001b[39m np\u001b[38;5;241m.\u001b[39marray(step_size_rr)\n\u001b[1;32m     70\u001b[0m footstep_period_numpy \u001b[38;5;241m=\u001b[39m np\u001b[38;5;241m.\u001b[39marray(footstep_period)\n\u001b[0;32m---> 72\u001b[0m \u001b[38;5;28mprint\u001b[39m(\u001b[38;5;28;43mmin\u001b[39;49m\u001b[43m(\u001b[49m\u001b[43mstep_size_fl_numpy\u001b[49m\u001b[43m)\u001b[49m, \u001b[38;5;124m\"\u001b[39m\u001b[38;5;124m, \u001b[39m\u001b[38;5;124m\"\u001b[39m, \u001b[38;5;28mmax\u001b[39m(step_size_fl_numpy))\n\u001b[1;32m     73\u001b[0m \u001b[38;5;28mprint\u001b[39m(\u001b[38;5;28mmin\u001b[39m(step_size_fr_numpy), \u001b[38;5;124m\"\u001b[39m\u001b[38;5;124m, \u001b[39m\u001b[38;5;124m\"\u001b[39m, \u001b[38;5;28mmax\u001b[39m(step_size_fr_numpy))\n\u001b[1;32m     74\u001b[0m \u001b[38;5;28mprint\u001b[39m(\u001b[38;5;28mmin\u001b[39m(step_size_rl_numpy), \u001b[38;5;124m\"\u001b[39m\u001b[38;5;124m, \u001b[39m\u001b[38;5;124m\"\u001b[39m, \u001b[38;5;28mmax\u001b[39m(step_size_rl_numpy))\n",
      "\u001b[0;31mValueError\u001b[0m: min() arg is an empty sequence"
     ]
    }
   ],
   "source": [
    "# Step size and velocity along x axis\n",
    "step_size_statistics(motion, footsteps_clock, -1, 3, [4, 7, 10, 13], 0)"
   ]
  },
  {
   "cell_type": "code",
   "execution_count": 22,
   "id": "f750bdfa",
   "metadata": {},
   "outputs": [
    {
     "name": "stdout",
     "output_type": "stream",
     "text": [
      "Forward: Step size (x) -0.1\n"
     ]
    },
    {
     "ename": "ValueError",
     "evalue": "min() arg is an empty sequence",
     "output_type": "error",
     "traceback": [
      "\u001b[0;31m---------------------------------------------------------------------------\u001b[0m",
      "\u001b[0;31mValueError\u001b[0m                                Traceback (most recent call last)",
      "Input \u001b[0;32mIn [22]\u001b[0m, in \u001b[0;36m<cell line: 2>\u001b[0;34m()\u001b[0m\n\u001b[1;32m      1\u001b[0m \u001b[38;5;66;03m# Step size along y axis \u001b[39;00m\n\u001b[0;32m----> 2\u001b[0m \u001b[43mstep_size_statistics\u001b[49m\u001b[43m(\u001b[49m\u001b[43mmotion\u001b[49m\u001b[43m,\u001b[49m\u001b[43m \u001b[49m\u001b[43mfootsteps_clock\u001b[49m\u001b[43m,\u001b[49m\u001b[43m \u001b[49m\u001b[38;5;241;43m-\u001b[39;49m\u001b[38;5;241;43m1\u001b[39;49m\u001b[43m,\u001b[49m\u001b[43m \u001b[49m\u001b[38;5;241;43m3\u001b[39;49m\u001b[43m,\u001b[49m\u001b[43m \u001b[49m\u001b[43m[\u001b[49m\u001b[38;5;241;43m5\u001b[39;49m\u001b[43m,\u001b[49m\u001b[43m \u001b[49m\u001b[38;5;241;43m8\u001b[39;49m\u001b[43m,\u001b[49m\u001b[43m \u001b[49m\u001b[38;5;241;43m11\u001b[39;49m\u001b[43m,\u001b[49m\u001b[43m \u001b[49m\u001b[38;5;241;43m14\u001b[39;49m\u001b[43m]\u001b[49m\u001b[43m,\u001b[49m\u001b[43m \u001b[49m\u001b[38;5;241;43m1\u001b[39;49m\u001b[43m)\u001b[49m\n",
      "Input \u001b[0;32mIn [10]\u001b[0m, in \u001b[0;36mstep_size_statistics\u001b[0;34m(dataset, footsteps, sign, motion, coordinates, axes)\u001b[0m\n\u001b[1;32m    100\u001b[0m \u001b[38;5;28mprint\u001b[39m(\u001b[38;5;124mf\u001b[39m\u001b[38;5;124m\"\u001b[39m\u001b[38;5;124mForward: Step size (x) \u001b[39m\u001b[38;5;132;01m{\u001b[39;00mvelocity \u001b[38;5;241m*\u001b[39m sign\u001b[38;5;132;01m}\u001b[39;00m\u001b[38;5;124m\"\u001b[39m)\n\u001b[1;32m    101\u001b[0m footsteps_velocity \u001b[38;5;241m=\u001b[39m footsteps[np\u001b[38;5;241m.\u001b[39mwhere((np\u001b[38;5;241m.\u001b[39misclose(dataset[footsteps, motion], velocity \u001b[38;5;241m*\u001b[39m sign, \u001b[38;5;241m0.001\u001b[39m)))[\u001b[38;5;241m0\u001b[39m]]\n\u001b[0;32m--> 102\u001b[0m step_size_fr_x_fwd,_,_,_ \u001b[38;5;241m=\u001b[39m \u001b[43mget_step_size\u001b[49m\u001b[43m(\u001b[49m\u001b[43mdataset\u001b[49m\u001b[43m,\u001b[49m\u001b[43m \u001b[49m\u001b[43mfootsteps_velocity\u001b[49m\u001b[43m,\u001b[49m\u001b[43m \u001b[49m\u001b[43mcoordinates\u001b[49m\u001b[43m,\u001b[49m\u001b[43m \u001b[49m\u001b[43maxes\u001b[49m\u001b[43m)\u001b[49m\n\u001b[1;32m    103\u001b[0m \u001b[38;5;28mprint\u001b[39m(\u001b[38;5;124m\"\u001b[39m\u001b[38;5;130;01m\\n\u001b[39;00m\u001b[38;5;124m\"\u001b[39m)\n",
      "Input \u001b[0;32mIn [10]\u001b[0m, in \u001b[0;36mget_step_size\u001b[0;34m(dataset, footsteps, idx_coord, axes)\u001b[0m\n\u001b[1;32m     69\u001b[0m step_size_rr_numpy \u001b[38;5;241m=\u001b[39m np\u001b[38;5;241m.\u001b[39marray(step_size_rr)\n\u001b[1;32m     70\u001b[0m footstep_period_numpy \u001b[38;5;241m=\u001b[39m np\u001b[38;5;241m.\u001b[39marray(footstep_period)\n\u001b[0;32m---> 72\u001b[0m \u001b[38;5;28mprint\u001b[39m(\u001b[38;5;28;43mmin\u001b[39;49m\u001b[43m(\u001b[49m\u001b[43mstep_size_fl_numpy\u001b[49m\u001b[43m)\u001b[49m, \u001b[38;5;124m\"\u001b[39m\u001b[38;5;124m, \u001b[39m\u001b[38;5;124m\"\u001b[39m, \u001b[38;5;28mmax\u001b[39m(step_size_fl_numpy))\n\u001b[1;32m     73\u001b[0m \u001b[38;5;28mprint\u001b[39m(\u001b[38;5;28mmin\u001b[39m(step_size_fr_numpy), \u001b[38;5;124m\"\u001b[39m\u001b[38;5;124m, \u001b[39m\u001b[38;5;124m\"\u001b[39m, \u001b[38;5;28mmax\u001b[39m(step_size_fr_numpy))\n\u001b[1;32m     74\u001b[0m \u001b[38;5;28mprint\u001b[39m(\u001b[38;5;28mmin\u001b[39m(step_size_rl_numpy), \u001b[38;5;124m\"\u001b[39m\u001b[38;5;124m, \u001b[39m\u001b[38;5;124m\"\u001b[39m, \u001b[38;5;28mmax\u001b[39m(step_size_rl_numpy))\n",
      "\u001b[0;31mValueError\u001b[0m: min() arg is an empty sequence"
     ]
    }
   ],
   "source": [
    "# Step size along y axis \n",
    "step_size_statistics(motion, footsteps_clock, -1, 3, [5, 8, 11, 14], 1)"
   ]
  },
  {
   "cell_type": "markdown",
   "id": "1a2671b3",
   "metadata": {},
   "source": [
    "### Rotation (counter clockwise)"
   ]
  },
  {
   "cell_type": "code",
   "execution_count": 23,
   "id": "ace0ecec",
   "metadata": {},
   "outputs": [],
   "source": [
    "footsteps_count = get_specific_cmd(motion, 0, 0, 1)"
   ]
  },
  {
   "cell_type": "code",
   "execution_count": 24,
   "id": "c6ca9bef",
   "metadata": {},
   "outputs": [
    {
     "name": "stdout",
     "output_type": "stream",
     "text": [
      "Forward: Step size (x) 0.1\n"
     ]
    },
    {
     "ename": "ValueError",
     "evalue": "min() arg is an empty sequence",
     "output_type": "error",
     "traceback": [
      "\u001b[0;31m---------------------------------------------------------------------------\u001b[0m",
      "\u001b[0;31mValueError\u001b[0m                                Traceback (most recent call last)",
      "Input \u001b[0;32mIn [24]\u001b[0m, in \u001b[0;36m<cell line: 2>\u001b[0;34m()\u001b[0m\n\u001b[1;32m      1\u001b[0m \u001b[38;5;66;03m# Step size and velocity along x axis \u001b[39;00m\n\u001b[0;32m----> 2\u001b[0m \u001b[43mstep_size_statistics\u001b[49m\u001b[43m(\u001b[49m\u001b[43mmotion\u001b[49m\u001b[43m,\u001b[49m\u001b[43m \u001b[49m\u001b[43mfootsteps_count\u001b[49m\u001b[43m,\u001b[49m\u001b[43m \u001b[49m\u001b[38;5;241;43m1\u001b[39;49m\u001b[43m,\u001b[49m\u001b[43m \u001b[49m\u001b[38;5;241;43m3\u001b[39;49m\u001b[43m,\u001b[49m\u001b[43m \u001b[49m\u001b[43m[\u001b[49m\u001b[38;5;241;43m4\u001b[39;49m\u001b[43m,\u001b[49m\u001b[43m \u001b[49m\u001b[38;5;241;43m7\u001b[39;49m\u001b[43m,\u001b[49m\u001b[43m \u001b[49m\u001b[38;5;241;43m10\u001b[39;49m\u001b[43m,\u001b[49m\u001b[43m \u001b[49m\u001b[38;5;241;43m13\u001b[39;49m\u001b[43m]\u001b[49m\u001b[43m,\u001b[49m\u001b[43m \u001b[49m\u001b[38;5;241;43m0\u001b[39;49m\u001b[43m)\u001b[49m\n",
      "Input \u001b[0;32mIn [10]\u001b[0m, in \u001b[0;36mstep_size_statistics\u001b[0;34m(dataset, footsteps, sign, motion, coordinates, axes)\u001b[0m\n\u001b[1;32m    100\u001b[0m \u001b[38;5;28mprint\u001b[39m(\u001b[38;5;124mf\u001b[39m\u001b[38;5;124m\"\u001b[39m\u001b[38;5;124mForward: Step size (x) \u001b[39m\u001b[38;5;132;01m{\u001b[39;00mvelocity \u001b[38;5;241m*\u001b[39m sign\u001b[38;5;132;01m}\u001b[39;00m\u001b[38;5;124m\"\u001b[39m)\n\u001b[1;32m    101\u001b[0m footsteps_velocity \u001b[38;5;241m=\u001b[39m footsteps[np\u001b[38;5;241m.\u001b[39mwhere((np\u001b[38;5;241m.\u001b[39misclose(dataset[footsteps, motion], velocity \u001b[38;5;241m*\u001b[39m sign, \u001b[38;5;241m0.001\u001b[39m)))[\u001b[38;5;241m0\u001b[39m]]\n\u001b[0;32m--> 102\u001b[0m step_size_fr_x_fwd,_,_,_ \u001b[38;5;241m=\u001b[39m \u001b[43mget_step_size\u001b[49m\u001b[43m(\u001b[49m\u001b[43mdataset\u001b[49m\u001b[43m,\u001b[49m\u001b[43m \u001b[49m\u001b[43mfootsteps_velocity\u001b[49m\u001b[43m,\u001b[49m\u001b[43m \u001b[49m\u001b[43mcoordinates\u001b[49m\u001b[43m,\u001b[49m\u001b[43m \u001b[49m\u001b[43maxes\u001b[49m\u001b[43m)\u001b[49m\n\u001b[1;32m    103\u001b[0m \u001b[38;5;28mprint\u001b[39m(\u001b[38;5;124m\"\u001b[39m\u001b[38;5;130;01m\\n\u001b[39;00m\u001b[38;5;124m\"\u001b[39m)\n",
      "Input \u001b[0;32mIn [10]\u001b[0m, in \u001b[0;36mget_step_size\u001b[0;34m(dataset, footsteps, idx_coord, axes)\u001b[0m\n\u001b[1;32m     69\u001b[0m step_size_rr_numpy \u001b[38;5;241m=\u001b[39m np\u001b[38;5;241m.\u001b[39marray(step_size_rr)\n\u001b[1;32m     70\u001b[0m footstep_period_numpy \u001b[38;5;241m=\u001b[39m np\u001b[38;5;241m.\u001b[39marray(footstep_period)\n\u001b[0;32m---> 72\u001b[0m \u001b[38;5;28mprint\u001b[39m(\u001b[38;5;28;43mmin\u001b[39;49m\u001b[43m(\u001b[49m\u001b[43mstep_size_fl_numpy\u001b[49m\u001b[43m)\u001b[49m, \u001b[38;5;124m\"\u001b[39m\u001b[38;5;124m, \u001b[39m\u001b[38;5;124m\"\u001b[39m, \u001b[38;5;28mmax\u001b[39m(step_size_fl_numpy))\n\u001b[1;32m     73\u001b[0m \u001b[38;5;28mprint\u001b[39m(\u001b[38;5;28mmin\u001b[39m(step_size_fr_numpy), \u001b[38;5;124m\"\u001b[39m\u001b[38;5;124m, \u001b[39m\u001b[38;5;124m\"\u001b[39m, \u001b[38;5;28mmax\u001b[39m(step_size_fr_numpy))\n\u001b[1;32m     74\u001b[0m \u001b[38;5;28mprint\u001b[39m(\u001b[38;5;28mmin\u001b[39m(step_size_rl_numpy), \u001b[38;5;124m\"\u001b[39m\u001b[38;5;124m, \u001b[39m\u001b[38;5;124m\"\u001b[39m, \u001b[38;5;28mmax\u001b[39m(step_size_rl_numpy))\n",
      "\u001b[0;31mValueError\u001b[0m: min() arg is an empty sequence"
     ]
    }
   ],
   "source": [
    "# Step size and velocity along x axis \n",
    "step_size_statistics(motion, footsteps_count, 1, 3, [4, 7, 10, 13], 0)"
   ]
  },
  {
   "cell_type": "code",
   "execution_count": 25,
   "id": "87d39dba",
   "metadata": {},
   "outputs": [
    {
     "name": "stdout",
     "output_type": "stream",
     "text": [
      "Forward: Step size (x) 0.1\n"
     ]
    },
    {
     "ename": "ValueError",
     "evalue": "min() arg is an empty sequence",
     "output_type": "error",
     "traceback": [
      "\u001b[0;31m---------------------------------------------------------------------------\u001b[0m",
      "\u001b[0;31mValueError\u001b[0m                                Traceback (most recent call last)",
      "Input \u001b[0;32mIn [25]\u001b[0m, in \u001b[0;36m<cell line: 2>\u001b[0;34m()\u001b[0m\n\u001b[1;32m      1\u001b[0m \u001b[38;5;66;03m# Step size along y axis \u001b[39;00m\n\u001b[0;32m----> 2\u001b[0m \u001b[43mstep_size_statistics\u001b[49m\u001b[43m(\u001b[49m\u001b[43mmotion\u001b[49m\u001b[43m,\u001b[49m\u001b[43m \u001b[49m\u001b[43mfootsteps_count\u001b[49m\u001b[43m,\u001b[49m\u001b[43m \u001b[49m\u001b[38;5;241;43m1\u001b[39;49m\u001b[43m,\u001b[49m\u001b[43m \u001b[49m\u001b[38;5;241;43m3\u001b[39;49m\u001b[43m,\u001b[49m\u001b[43m \u001b[49m\u001b[43m[\u001b[49m\u001b[38;5;241;43m5\u001b[39;49m\u001b[43m,\u001b[49m\u001b[43m \u001b[49m\u001b[38;5;241;43m8\u001b[39;49m\u001b[43m,\u001b[49m\u001b[43m \u001b[49m\u001b[38;5;241;43m11\u001b[39;49m\u001b[43m,\u001b[49m\u001b[43m \u001b[49m\u001b[38;5;241;43m14\u001b[39;49m\u001b[43m]\u001b[49m\u001b[43m,\u001b[49m\u001b[43m \u001b[49m\u001b[38;5;241;43m1\u001b[39;49m\u001b[43m)\u001b[49m\n",
      "Input \u001b[0;32mIn [10]\u001b[0m, in \u001b[0;36mstep_size_statistics\u001b[0;34m(dataset, footsteps, sign, motion, coordinates, axes)\u001b[0m\n\u001b[1;32m    100\u001b[0m \u001b[38;5;28mprint\u001b[39m(\u001b[38;5;124mf\u001b[39m\u001b[38;5;124m\"\u001b[39m\u001b[38;5;124mForward: Step size (x) \u001b[39m\u001b[38;5;132;01m{\u001b[39;00mvelocity \u001b[38;5;241m*\u001b[39m sign\u001b[38;5;132;01m}\u001b[39;00m\u001b[38;5;124m\"\u001b[39m)\n\u001b[1;32m    101\u001b[0m footsteps_velocity \u001b[38;5;241m=\u001b[39m footsteps[np\u001b[38;5;241m.\u001b[39mwhere((np\u001b[38;5;241m.\u001b[39misclose(dataset[footsteps, motion], velocity \u001b[38;5;241m*\u001b[39m sign, \u001b[38;5;241m0.001\u001b[39m)))[\u001b[38;5;241m0\u001b[39m]]\n\u001b[0;32m--> 102\u001b[0m step_size_fr_x_fwd,_,_,_ \u001b[38;5;241m=\u001b[39m \u001b[43mget_step_size\u001b[49m\u001b[43m(\u001b[49m\u001b[43mdataset\u001b[49m\u001b[43m,\u001b[49m\u001b[43m \u001b[49m\u001b[43mfootsteps_velocity\u001b[49m\u001b[43m,\u001b[49m\u001b[43m \u001b[49m\u001b[43mcoordinates\u001b[49m\u001b[43m,\u001b[49m\u001b[43m \u001b[49m\u001b[43maxes\u001b[49m\u001b[43m)\u001b[49m\n\u001b[1;32m    103\u001b[0m \u001b[38;5;28mprint\u001b[39m(\u001b[38;5;124m\"\u001b[39m\u001b[38;5;130;01m\\n\u001b[39;00m\u001b[38;5;124m\"\u001b[39m)\n",
      "Input \u001b[0;32mIn [10]\u001b[0m, in \u001b[0;36mget_step_size\u001b[0;34m(dataset, footsteps, idx_coord, axes)\u001b[0m\n\u001b[1;32m     69\u001b[0m step_size_rr_numpy \u001b[38;5;241m=\u001b[39m np\u001b[38;5;241m.\u001b[39marray(step_size_rr)\n\u001b[1;32m     70\u001b[0m footstep_period_numpy \u001b[38;5;241m=\u001b[39m np\u001b[38;5;241m.\u001b[39marray(footstep_period)\n\u001b[0;32m---> 72\u001b[0m \u001b[38;5;28mprint\u001b[39m(\u001b[38;5;28;43mmin\u001b[39;49m\u001b[43m(\u001b[49m\u001b[43mstep_size_fl_numpy\u001b[49m\u001b[43m)\u001b[49m, \u001b[38;5;124m\"\u001b[39m\u001b[38;5;124m, \u001b[39m\u001b[38;5;124m\"\u001b[39m, \u001b[38;5;28mmax\u001b[39m(step_size_fl_numpy))\n\u001b[1;32m     73\u001b[0m \u001b[38;5;28mprint\u001b[39m(\u001b[38;5;28mmin\u001b[39m(step_size_fr_numpy), \u001b[38;5;124m\"\u001b[39m\u001b[38;5;124m, \u001b[39m\u001b[38;5;124m\"\u001b[39m, \u001b[38;5;28mmax\u001b[39m(step_size_fr_numpy))\n\u001b[1;32m     74\u001b[0m \u001b[38;5;28mprint\u001b[39m(\u001b[38;5;28mmin\u001b[39m(step_size_rl_numpy), \u001b[38;5;124m\"\u001b[39m\u001b[38;5;124m, \u001b[39m\u001b[38;5;124m\"\u001b[39m, \u001b[38;5;28mmax\u001b[39m(step_size_rl_numpy))\n",
      "\u001b[0;31mValueError\u001b[0m: min() arg is an empty sequence"
     ]
    }
   ],
   "source": [
    "# Step size along y axis \n",
    "step_size_statistics(motion, footsteps_count, 1, 3, [5, 8, 11, 14], 1)"
   ]
  },
  {
   "cell_type": "markdown",
   "id": "aae5757c",
   "metadata": {},
   "source": [
    "### Footstep visualization"
   ]
  },
  {
   "cell_type": "code",
   "execution_count": 26,
   "id": "2dce3ccb",
   "metadata": {},
   "outputs": [],
   "source": [
    "def yaw_from_quaternion(x, y, z, w):\n",
    "    \"\"\"\n",
    "    Convert a quaternion into euler angles (roll, pitch, yaw)\n",
    "    roll is rotation around x in radians (counterclockwise)\n",
    "    pitch is rotation around y in radians (counterclockwise)\n",
    "    yaw is rotation around z in radians (counterclockwise)\n",
    "    \"\"\"\n",
    "    t0 = +2.0 * (w * x + y * z)\n",
    "    t1 = +1.0 - 2.0 * (x * x + y * y)\n",
    "    roll_x = math.atan2(t0, t1)\n",
    "     \n",
    "    t2 = +2.0 * (w * y - z * x)\n",
    "    t2 = +1.0 if t2 > +1.0 else t2\n",
    "    t2 = -1.0 if t2 < -1.0 else t2\n",
    "    pitch_y = math.asin(t2)\n",
    "     \n",
    "    t3 = +2.0 * (w * z + x * y)\n",
    "    t4 = +1.0 - 2.0 * (y * y + z * z)\n",
    "    yaw_z = math.atan2(t3, t4)\n",
    "     \n",
    "    return roll_x, pitch_y, yaw_z # in radians"
   ]
  },
  {
   "cell_type": "code",
   "execution_count": 27,
   "id": "576617aa",
   "metadata": {},
   "outputs": [],
   "source": [
    "def visualize_static_foosteps(dataset, footsteps):\n",
    "    old_xs = None\n",
    "    old_ys = None\n",
    "    old_zs = None\n",
    "    \n",
    "    # Visualize footsteps\n",
    "    for idx, footstep in enumerate(footsteps):\n",
    "        fig = plt.figure()\n",
    "        ax = fig.add_subplot(projection='3d')\n",
    "\n",
    "        #ax.set_xlim([-0.5, 0.5])\n",
    "        #ax.set_ylim([-0.3, 0.3])\n",
    "        ax.set_zlim([-0.5, 0.5])\n",
    "\n",
    "        dataset[footstep, 8:20] = np.round(dataset[footstep, 8:20], 3)\n",
    "        \n",
    "        time_diff = dataset[footsteps[idx], 0] - dataset[footsteps[idx-1], 0]\n",
    "            \n",
    "        # 3D positions        \n",
    "        xs = np.array([dataset[footstep, 8], dataset[footstep, 11], dataset[footstep, 14], dataset[footstep, 17]])\n",
    "        ys = np.array([dataset[footstep, 9], dataset[footstep, 12], dataset[footstep, 15], dataset[footstep, 18]])\n",
    "        zz = np.array([dataset[footstep, 10], dataset[footstep, 13], dataset[footstep, 16], dataset[footstep, 19]])\n",
    "\n",
    "        ax.scatter(xs, ys, zs, marker='o')\n",
    "\n",
    "        ax.set_xlabel('X Label')\n",
    "        ax.set_ylabel('Y Label')\n",
    "        ax.set_zlabel('Z Label')\n",
    "\n",
    "        plt.show()\n",
    "\n",
    "        #print(xs, ys, zs, dataset[footstep, 2:5], dataset[footstep, 25:28])\n",
    "        if idx > 0 and idx < len(footsteps):\n",
    "            print(f'Diff: {time_diff}. Command: {dataset[footstep, 1:4]}. Coord: {[xs[0], ys[0], zs[0]]}. Step size: {[xs[0]-old_xs[0], ys[0]-old_ys[0], zs[0]-old_zs[0]]}.')\n",
    "        else:\n",
    "            print(f'Command: {dataset[footstep, 1:4]}. Coord: {[xs[0], ys[0], zs[0]]}.')\n",
    "            \n",
    "        old_xs = xs\n",
    "        old_ys = ys\n",
    "        old_zs = zs"
   ]
  },
  {
   "cell_type": "code",
   "execution_count": 28,
   "id": "f232d918",
   "metadata": {},
   "outputs": [],
   "source": [
    "def update_points(num, dataset, footsteps, x, y, z, points):    \n",
    "    # Starting footstep index\n",
    "    footstep = footsteps[num]\n",
    "    \n",
    "    # Round footsteps position\n",
    "    dataset[footstep, 8:20] = np.round(dataset[footstep, 8:20], 3)\n",
    "\n",
    "    # Initial footsteps 3D positions\n",
    "    new_x = np.array([dataset[footstep, 8], dataset[footstep, 11], dataset[footstep, 14], dataset[footstep, 17]])\n",
    "    new_y = np.array([dataset[footstep, 9], dataset[footstep, 12], dataset[footstep, 15], dataset[footstep, 18]])\n",
    "    new_z = np.array([dataset[footstep, 10], dataset[footstep, 13], dataset[footstep, 16], dataset[footstep, 19]])\n",
    "\n",
    "    # update properties\n",
    "    points.set_data(new_x, new_y)\n",
    "    points.set_3d_properties(new_z, 'z')\n",
    "\n",
    "    # return modified artists\n",
    "    return points\n",
    "\n",
    "def visualize_animated_footsteps(dataset, footsteps, style: str):\n",
    "    # Create figure\n",
    "    fig = plt.figure()\n",
    "    ax = p3.Axes3D(fig)\n",
    "\n",
    "    # Setting the axes properties\n",
    "    ax.set_xlim3d([-0.4, 0.4])\n",
    "    ax.set_xlabel('X')\n",
    "\n",
    "    ax.set_ylim3d([-0.2, 0.2])\n",
    "    ax.set_ylabel('Y')\n",
    "\n",
    "    ax.set_zlim3d([-0.5, 0.5])\n",
    "    ax.set_zlabel('Z')\n",
    "\n",
    "    # Starting footstep index\n",
    "    footstep = footsteps[0]\n",
    "\n",
    "    # Round footsteps position\n",
    "    dataset[footstep, 8:20] = np.round(dataset[footstep, 8:20], 3)\n",
    "\n",
    "    # Initial footsteps 3D positions\n",
    "    x = np.array([dataset[footstep, 8], dataset[footstep, 11], dataset[footstep, 14], dataset[footstep, 17]])\n",
    "    y = np.array([dataset[footstep, 9], dataset[footstep, 12], dataset[footstep, 15], dataset[footstep, 18]])\n",
    "    z = np.array([dataset[footstep, 10], dataset[footstep, 13], dataset[footstep, 16], dataset[footstep, 19]])\n",
    "\n",
    "    txt = fig.suptitle('')\n",
    "    points, = ax.plot(x, y, z, style)\n",
    "    \n",
    "    # blit=True re-draws only the parts that have changed.\n",
    "    anim = animation.FuncAnimation(fig, update_points, frames=len(footsteps), fargs=(dataset, footsteps, x, y, z, points))\n",
    "    \n",
    "    return anim   "
   ]
  },
  {
   "cell_type": "code",
   "execution_count": 29,
   "id": "dbda27c4",
   "metadata": {},
   "outputs": [],
   "source": [
    "def visualize_absolute_foostep_sizes(dataset, footsteps):\n",
    "    prev_yaw = 0\n",
    "    \n",
    "    # Visualize footsteps\n",
    "    for idx, footstep in enumerate(footsteps):\n",
    "        dataset[footstep, 8:20] = np.round(dataset[footstep, 8:20], 3)\n",
    "        \n",
    "        if idx < (len(footsteps) - 1):\n",
    "            print(\"Command: \", dataset[footstep, 1:4])\n",
    "            time_difference = abs(dataset[footsteps[idx], 0] - dataset[footsteps[idx+1], 0])\n",
    "            \n",
    "            if time_difference < 1:\n",
    "                fig, axes = plt.subplots(nrows=1, ncols=2, figsize=(15, 5))\n",
    "                axes[0].set_xlabel('X Label')\n",
    "                axes[0].set_ylabel('Y Label')\n",
    "                axes[1].set_xlabel('X Label')\n",
    "                axes[1].set_ylabel('Y Label')\n",
    "                    \n",
    "                # Get euler angles from odom to base rotation\n",
    "                _, _, curh_yaw = yaw_from_quaternion(dataset[footstep, 47], dataset[footstep, 48], dataset[footstep, 49], dataset[footstep, 50])\n",
    "                _, _, curr_yaw = yaw_from_quaternion(dataset[footsteps[idx+1], 47], dataset[footsteps[idx+1], 48], dataset[footsteps[idx+1], 49], dataset[footsteps[idx+1], 50])\n",
    "\n",
    "                # Compute rotation matrix\n",
    "                c_curh, s_curh = np.cos(curh_yaw), np.sin(curh_yaw)\n",
    "                c_curr, s_curr = np.cos(curr_yaw), np.sin(curr_yaw)\n",
    "                R_curh = np.array(((c_curh, -s_curh), (s_curh, c_curh)))\n",
    "                R_curr = np.array(((c_curr, -s_curr), (s_curr, c_curr)))\n",
    "                \n",
    "                # Odom base vectors\n",
    "                curh_base = np.array([[dataset[footstep, 44], dataset[footstep, 45]]])\n",
    "                curr_base = np.array([[dataset[footsteps[idx+1], 44], dataset[footsteps[idx+1], 45]]])\n",
    "                \n",
    "                # Local base vectors\n",
    "                rotated_curh_base = R_curh.T @ curh_base.T\n",
    "                rotated_prev_base = R_curh.T @ curr_base.T\n",
    "                rotated_prev_base_curr = R_curr.T @ curr_base.T\n",
    "                base_displacement = rotated_prev_base - rotated_curh_base\n",
    "                \n",
    "                #print(\"Footstep timestamp: \", dataset[footstep, 0])\n",
    "                print(f'\\nFL moving: {contacts[idx, 0]}. FR moving: {contacts[idx, 1]}')\n",
    "                print(f'RL moving: {contacts[idx, 2]}. RR moving: {contacts[idx, 3]}')\n",
    "                \n",
    "                #print(f'Curh base (not transformed): {dataset[footstep, 31:33]}. Next base (not transformed): {dataset[footsteps[idx+1], 31:33]}.')\n",
    "                #print(f'Curh base transformed (x): {rotated_curh_base.tolist()}.\\nNext base transformed (y): {rotated_prev_base.tolist()}.\\nNext base transformed2 (y): {rotated_prev_base_curr.tolist()}\\n')\n",
    "                print(prev_yaw, curh_yaw)\n",
    "                print(f'Base displacement: {base_displacement.tolist()}. Rotation displacement: {(curh_yaw - prev_yaw) * 180 / np.pi}.\\n')\n",
    "                \n",
    "                print(\"CoM displacement: \")\n",
    "                print(f'lf (x): {dataset[footsteps[idx], 8]}, {dataset[footsteps[idx+1], 8]}, lf (y): {dataset[footsteps[idx], 9]}, {dataset[footsteps[idx+1], 9]}.')\n",
    "                print(f'lf displacement: {(dataset[footsteps[idx+1], 8] - dataset[footsteps[idx], 8]).tolist()}, {(dataset[footsteps[idx+1], 9] - dataset[footsteps[idx], 9]).tolist()}.\\n')\n",
    "                \n",
    "                print(f'lh (x): {dataset[footsteps[idx], 11]}, {dataset[footsteps[idx+1], 11]}, lh (y): {dataset[footsteps[idx], 12]}, {dataset[footsteps[idx+1], 12]}.')\n",
    "                print(f'lh displacement: {(dataset[footsteps[idx+1], 11] - dataset[footsteps[idx], 11]).tolist()}, {(dataset[footsteps[idx+1], 12] - dataset[footsteps[idx], 12]).tolist()}.\\n')\n",
    "                \n",
    "                print(f'rf (x): {dataset[footsteps[idx], 14]}, {dataset[footsteps[idx+1], 14]}, rf (y): {dataset[footsteps[idx], 15]}, {dataset[footsteps[idx+1], 15]}.')\n",
    "                print(f'rf displacement: {(dataset[footsteps[idx+1], 14] - dataset[footsteps[idx], 14]).tolist()}, {(dataset[footsteps[idx+1], 15] - dataset[footsteps[idx], 15]).tolist()}.\\n')\n",
    "                \n",
    "                print(f'rh (x): {dataset[footsteps[idx], 17]}, {dataset[footsteps[idx+1], 17]}, rh (y): {dataset[footsteps[idx], 18]}, {dataset[footsteps[idx+1], 18]}.')\n",
    "                print(f'rh displacement: {(dataset[footsteps[idx+1], 17] - dataset[footsteps[idx], 17]).tolist()}, {(dataset[footsteps[idx+1], 18] - dataset[footsteps[idx], 18]).tolist()}.\\n')\n",
    "        \n",
    "                # Feet displacements\n",
    "                lf_x_displacement = dataset[footsteps[idx+1], 8] - dataset[footsteps[idx], 8]\n",
    "                lf_y_displacement = dataset[footsteps[idx+1], 9] - dataset[footsteps[idx], 9]\n",
    "                lh_x_displacement = dataset[footsteps[idx+1], 11] - dataset[footsteps[idx], 11]\n",
    "                lh_y_displacement = dataset[footsteps[idx+1], 12] - dataset[footsteps[idx], 12]\n",
    "                rf_x_displacement = dataset[footsteps[idx+1], 14] - dataset[footsteps[idx], 14]\n",
    "                rf_y_displacement = dataset[footsteps[idx+1], 15] - dataset[footsteps[idx], 15]\n",
    "                rh_x_displacement = dataset[footsteps[idx+1], 17] - dataset[footsteps[idx], 17]\n",
    "                rh_y_displacement = dataset[footsteps[idx+1], 18] - dataset[footsteps[idx], 18]\n",
    "                \n",
    "                # Support foot base displacement\n",
    "                support_base_displacement = [0, 0]\n",
    "                if contacts[idx, 1]:\n",
    "                    support_base_displacement[0] = -lf_x_displacement\n",
    "                    support_base_displacement[1] = -lf_y_displacement\n",
    "                else:\n",
    "                    support_base_displacement[0] = -rf_x_displacement\n",
    "                    support_base_displacement[1] = -rf_y_displacement\n",
    "                \n",
    "                prev_yaw = curh_yaw\n",
    "                    \n",
    "                print(f'\\nBase displacement (CoM): {support_base_displacement}.\\n')\n",
    "                    \n",
    "                x_0 = np.array([dataset[footstep, 8], \n",
    "                                dataset[footstep, 11],\n",
    "                                dataset[footstep, 14], \n",
    "                                dataset[footstep, 17]])\n",
    "                y_0 = np.array([dataset[footstep, 9], \n",
    "                                dataset[footstep, 12],\n",
    "                                dataset[footstep, 15], \n",
    "                                dataset[footstep, 18]])\n",
    "                \n",
    "                \"\"\"\n",
    "                x_1 = np.array([dataset[footsteps[idx+1], 7], \n",
    "                                dataset[footsteps[idx+1], 10],\n",
    "                                dataset[footsteps[idx+1], 13], \n",
    "                                dataset[footsteps[idx+1], 16]])\n",
    "                y_1 = np.array([dataset[footsteps[idx+1], 8], \n",
    "                                dataset[footsteps[idx+1], 11],\n",
    "                                dataset[footsteps[idx+1], 14], \n",
    "                                dataset[footsteps[idx+1], 17]])\n",
    "                \"\"\"\n",
    "                \n",
    "                x_1 = np.array([dataset[footstep, 8] + lf_x_displacement, \n",
    "                                dataset[footstep, 11] + rf_x_displacement,\n",
    "                                dataset[footstep, 14] + lh_x_displacement, \n",
    "                                dataset[footstep, 17] + rh_x_displacement])\n",
    "                y_1 = np.array([dataset[footstep, 9] + lf_y_displacement, \n",
    "                                dataset[footstep, 12] + rf_y_displacement,\n",
    "                                dataset[footstep, 15] + lh_y_displacement, \n",
    "                                dataset[footstep, 18] + rh_y_displacement])\n",
    "                \n",
    "                #axes[0].scatter(x_0, y_0, c= 'b',marker='o')\n",
    "                axes[0].scatter(x_0, y_0, c= 'm',marker='o')\n",
    "                axes[0].scatter(0, 0, c= 'g', marker='^')\n",
    "                axes[0].scatter(base_displacement[0], base_displacement[1], c= 'y', marker='^')\n",
    "                axes[0].scatter(support_base_displacement[0], support_base_displacement[1], c= 'r', marker='^')\n",
    "                \n",
    "                axes[1].scatter(x_1, y_1, c= 'r', marker='o')\n",
    "                axes[1].scatter(x_1, y_1, c= 'c', marker='o')\n",
    "                \n",
    "                plt.show()\n",
    "                \n",
    "#visualize_absolute_foostep_sizes(motion, footsteps_fwd)                  "
   ]
  },
  {
   "cell_type": "markdown",
   "id": "a43b6ca5",
   "metadata": {},
   "source": [
    "### Forward motion"
   ]
  },
  {
   "cell_type": "code",
   "execution_count": null,
   "id": "d0929449",
   "metadata": {},
   "outputs": [],
   "source": [
    "anim = visualize_animated_footsteps(motion, footsteps_fwd, \"bo\")\n",
    "HTML(anim.to_html5_video())"
   ]
  },
  {
   "cell_type": "markdown",
   "id": "9f87434e",
   "metadata": {},
   "source": [
    "### Side motion (right)"
   ]
  },
  {
   "cell_type": "code",
   "execution_count": null,
   "id": "5369ac58",
   "metadata": {},
   "outputs": [],
   "source": [
    "anim = visualize_animated_footsteps(motion, footsteps_side_right, \"bo\")\n",
    "HTML(anim.to_html5_video())"
   ]
  },
  {
   "cell_type": "markdown",
   "id": "3d23720f",
   "metadata": {},
   "source": [
    "### Side motion (left)"
   ]
  },
  {
   "cell_type": "code",
   "execution_count": null,
   "id": "b5bc76ba",
   "metadata": {},
   "outputs": [],
   "source": [
    "anim = visualize_animated_footsteps(motion, footsteps_side_left, \"bo\")\n",
    "HTML(anim.to_html5_video())"
   ]
  },
  {
   "cell_type": "markdown",
   "id": "53a68510",
   "metadata": {},
   "source": [
    "### Rotation (clockwise)"
   ]
  },
  {
   "cell_type": "code",
   "execution_count": null,
   "id": "ad20980f",
   "metadata": {},
   "outputs": [],
   "source": [
    "anim = visualize_animated_footsteps(motion, footsteps_clock, \"bo\")\n",
    "HTML(anim.to_html5_video())"
   ]
  },
  {
   "cell_type": "markdown",
   "id": "35d4f15a",
   "metadata": {},
   "source": [
    "### Rotation (counter clockwise)"
   ]
  },
  {
   "cell_type": "code",
   "execution_count": null,
   "id": "b44a417b",
   "metadata": {},
   "outputs": [],
   "source": [
    "anim = visualize_animated_footsteps(motion, footsteps_count, \"bo\")\n",
    "HTML(anim.to_html5_video())"
   ]
  },
  {
   "cell_type": "markdown",
   "id": "e6b6eb7e",
   "metadata": {},
   "source": [
    "# Dataset Preparation"
   ]
  },
  {
   "cell_type": "code",
   "execution_count": 30,
   "id": "83b20f82",
   "metadata": {},
   "outputs": [],
   "source": [
    "import sklearn\n",
    "from sklearn.linear_model import LinearRegression\n",
    "from sklearn.model_selection import train_test_split"
   ]
  },
  {
   "cell_type": "code",
   "execution_count": 31,
   "id": "f40d63f9",
   "metadata": {},
   "outputs": [
    {
     "name": "stdout",
     "output_type": "stream",
     "text": [
      "(704, 24)\n",
      "(704, 4)\n"
     ]
    }
   ],
   "source": [
    "def get_continuous_footstep_dataset(dataset, footsteps, debug=False):\n",
    "    # Footsteps sizes\n",
    "    inputs = []\n",
    "    labels = []\n",
    "    \n",
    "    idx = 1\n",
    "    while idx < (len(footsteps) - 1):\n",
    "        time_difference = abs(dataset[footsteps[idx], 0] - dataset[footsteps[idx-1], 0])\n",
    "\n",
    "        if time_difference < 0.5 and (dataset[footsteps[idx-2], 1] > 0.05 or dataset[footsteps[idx-1], 1] > 0.05):\n",
    "            lf_rh_moving = contacts[footsteps[idx], 0]\n",
    "            rf_lh_moving = contacts[footsteps[idx], 1]\n",
    "\n",
    "            if lf_rh_moving == rf_lh_moving:\n",
    "                idx += 1\n",
    "                continue\n",
    "\n",
    "            # Compute rotation matrices from odometry orientation\n",
    "            R_prev = quaternion_rotation_matrix(dataset[footsteps[idx-1], 48:52])\n",
    "            R_curr = quaternion_rotation_matrix(dataset[footsteps[idx], 48:52])\n",
    "\n",
    "            # Odom base vectors\n",
    "            prev_base = np.array([[dataset[footsteps[idx-1], 16], dataset[footsteps[idx-1], 17], dataset[footsteps[idx-1], 18]]])\n",
    "            curr_base = np.array([[dataset[footsteps[idx], 16], dataset[footsteps[idx], 17], dataset[footsteps[idx], 18]]])\n",
    "            base_displacement = curr_base @ R_prev - prev_base @ R_prev\n",
    "            \n",
    "            inputs.append(dataset[footsteps[idx-2], 1:4].tolist() +\n",
    "                          dataset[footsteps[idx-1], 1:16].tolist() +\n",
    "                          dataset[footsteps[idx-1], 19:23].tolist() +\n",
    "                          [lf_rh_moving, rf_lh_moving])\n",
    "            \n",
    "            if lf_rh_moving:\n",
    "                # FL vectors\n",
    "                prev_fl = np.array([[dataset[footsteps[idx-1], 4], dataset[footsteps[idx-1], 5], 0]])\n",
    "                curr_fl = np.array([[dataset[footsteps[idx], 4], dataset[footsteps[idx], 5], 0]])\n",
    "                \n",
    "                # RR vectors\n",
    "                prev_rr = np.array([[dataset[footsteps[idx-1], 13], dataset[footsteps[idx-1], 14], 0]])\n",
    "                curr_rr = np.array([[dataset[footsteps[idx], 13], dataset[footsteps[idx], 14], 0]])\n",
    "                \n",
    "                # Feet displacements\n",
    "                fl_displacement = curr_fl - prev_fl + base_displacement\n",
    "                rr_displacement = curr_rr - prev_rr + base_displacement\n",
    "                \n",
    "                labels.append([fl_displacement[0,0], fl_displacement[0,1], rr_displacement[0,0], rr_displacement[0,1]])\n",
    "            else:\n",
    "                # FR vectors\n",
    "                prev_fr = np.array([[dataset[footsteps[idx-1], 7], dataset[footsteps[idx-1], 8], 0]])\n",
    "                curr_fr = np.array([[dataset[footsteps[idx], 7], dataset[footsteps[idx], 8], 0]])\n",
    "                \n",
    "                # RL vectors\n",
    "                prev_rl = np.array([[dataset[footsteps[idx-1], 10], dataset[footsteps[idx-1], 11], 0]])\n",
    "                curr_rl = np.array([[dataset[footsteps[idx], 10], dataset[footsteps[idx], 11], 0]])\n",
    "                \n",
    "                # Feet displacements\n",
    "                fr_displacement = curr_fr - prev_fr + base_displacement\n",
    "                rl_displacement = curr_rl - prev_rl + base_displacement\n",
    "                \n",
    "                labels.append([fr_displacement[0,0], fr_displacement[0,1], rl_displacement[0,0], rl_displacement[0,1]])\n",
    "            \n",
    "        idx += 1\n",
    "                \n",
    "    # Convert to numpy array\n",
    "    inputs_numpy = np.array(inputs)\n",
    "    labels_numpy = np.array(labels)\n",
    "    \n",
    "    return inputs_numpy, labels_numpy\n",
    "\n",
    "X_relative_footsteps_fwd, Y_relative_footsteps_fwd = get_continuous_footstep_dataset(motion, footsteps_fwd)\n",
    "#X_relative_footsteps_clock, Y_relative_footsteps_clock = get_continuous_footstep_dataset(motion, footsteps_clock)\n",
    "#X_relative_footsteps_count, Y_relative_footsteps_count = get_continuous_footstep_dataset(motion, footsteps_count)\n",
    "#X_relative_footsteps_left, Y_relative_footsteps_left = get_continuous_footstep_dataset(motion, footsteps_side_left)\n",
    "#X_relative_footsteps_right, Y_relative_footsteps_right = get_continuous_footstep_dataset(motion, footsteps_side_right)\n",
    "\n",
    "# Stack datasets\n",
    "#X_footsteps_continuous_absolute = np.concatenate((X_relative_footsteps_fwd, X_relative_footsteps_clock, X_relative_footsteps_count))\n",
    "#Y_footsteps_continuous_absolute = np.concatenate((Y_relative_footsteps_fwd, Y_relative_footsteps_clock, Y_relative_footsteps_count))\n",
    "\n",
    "X_footsteps_continuous_absolute = X_relative_footsteps_fwd\n",
    "Y_footsteps_continuous_absolute = Y_relative_footsteps_fwd\n",
    "\n",
    "# Log\n",
    "print(X_footsteps_continuous_absolute.shape)\n",
    "print(Y_footsteps_continuous_absolute.shape)"
   ]
  },
  {
   "cell_type": "code",
   "execution_count": 32,
   "id": "c2456eec",
   "metadata": {},
   "outputs": [
    {
     "name": "stdout",
     "output_type": "stream",
     "text": [
      "Stored 'X_footsteps_continuous_absolute' (ndarray)\n",
      "Stored 'Y_footsteps_continuous_absolute' (ndarray)\n"
     ]
    }
   ],
   "source": [
    "%store X_footsteps_continuous_absolute\n",
    "%store Y_footsteps_continuous_absolute"
   ]
  },
  {
   "cell_type": "code",
   "execution_count": 33,
   "id": "b3f7be2f",
   "metadata": {},
   "outputs": [
    {
     "name": "stderr",
     "output_type": "stream",
     "text": [
      "/home/ilyass/.local/lib/python3.8/site-packages/numpy/core/fromnumeric.py:3432: RuntimeWarning: Mean of empty slice.\n",
      "  return _methods._mean(a, axis=axis, dtype=dtype,\n",
      "/home/ilyass/.local/lib/python3.8/site-packages/numpy/core/_methods.py:190: RuntimeWarning: invalid value encountered in double_scalars\n",
      "  ret = ret.dtype.type(ret / rcount)\n"
     ]
    },
    {
     "data": {
      "image/png": "[encoded data removed]",
      "text/plain": [
       "<Figure size 432x288 with 1 Axes>"
      ]
     },
     "metadata": {
      "needs_background": "light"
     },
     "output_type": "display_data"
    }
   ],
   "source": [
    "plt.plot(np.arange(0.1, 1.1, 0.1),\n",
    "         [np.mean(Y_relative_footsteps_fwd[np.where(np.isclose(X_relative_footsteps_fwd[:, 0], velocity))[0], 0]) for velocity in np.arange(0.1, 1.1, 0.1)], \n",
    "         'ro')\n",
    "plt.xlabel('Velocities')\n",
    "plt.ylabel('\\u0394X Footstep')\n",
    "plt.show()"
   ]
  },
  {
   "cell_type": "code",
   "execution_count": 35,
   "id": "020f1f25",
   "metadata": {},
   "outputs": [
    {
     "name": "stdout",
     "output_type": "stream",
     "text": [
      "[0.00749565 0.01462664 0.02404115 0.04366196 0.05611657 0.06238397\n",
      " 0.08528441        nan        nan        nan]\n"
     ]
    },
    {
     "data": {
      "image/png": "[encoded data removed]",
      "text/plain": [
       "<Figure size 432x288 with 1 Axes>"
      ]
     },
     "metadata": {
      "needs_background": "light"
     },
     "output_type": "display_data"
    }
   ],
   "source": [
    "x = np.array(np.arange(0.1, 1.1, 0.1))\n",
    "y = np.array([np.mean(Y_relative_footsteps_fwd[np.where(np.isclose(X_relative_footsteps_fwd[:, 0], velocity))[0], 0]) for velocity in np.arange(0.1, 1.1, 0.1)])\n",
    "e = np.array([np.std(Y_relative_footsteps_fwd[np.where(np.isclose(X_relative_footsteps_fwd[:, 0], velocity))[0], 0]) for velocity in np.arange(0.1, 1.1, 0.1)])\n",
    "plt.errorbar(x, y, e, linestyle='None', marker='s')\n",
    "plt.xlabel('Velocities')\n",
    "plt.ylabel('\\u03B4X Footstep')\n",
    "plt.show()"
   ]
  },
  {
   "cell_type": "code",
   "execution_count": 24,
   "id": "739965e4",
   "metadata": {},
   "outputs": [
    {
     "data": {
      "image/png": "[encoded data removed]",
      "text/plain": [
       "<Figure size 432x288 with 1 Axes>"
      ]
     },
     "metadata": {
      "needs_background": "light"
     },
     "output_type": "display_data"
    }
   ],
   "source": [
    "plt.plot(np.arange(0.1, 1.1, 0.1),\n",
    "         [np.mean(Y_relative_footsteps_fwd[np.where(np.isclose(X_relative_footsteps_fwd[:, 0], velocity))[0], 1]) for velocity in np.arange(0.1, 1.1, 0.1)], \n",
    "         'ro')\n",
    "plt.xlabel('Velocities')\n",
    "plt.ylabel('\\u0394Y Footstep')\n",
    "plt.show()"
   ]
  },
  {
   "cell_type": "code",
   "execution_count": 27,
   "id": "4592849b",
   "metadata": {},
   "outputs": [
    {
     "ename": "NameError",
     "evalue": "name 'Y_relative_footsteps_count' is not defined",
     "output_type": "error",
     "traceback": [
      "\u001b[0;31m---------------------------------------------------------------------------\u001b[0m",
      "\u001b[0;31mNameError\u001b[0m                                 Traceback (most recent call last)",
      "Input \u001b[0;32mIn [27]\u001b[0m, in \u001b[0;36m<cell line: 2>\u001b[0;34m()\u001b[0m\n\u001b[1;32m      1\u001b[0m x \u001b[38;5;241m=\u001b[39m np\u001b[38;5;241m.\u001b[39marange(\u001b[38;5;241m0.1\u001b[39m, \u001b[38;5;241m1.1\u001b[39m, \u001b[38;5;241m0.1\u001b[39m)\n\u001b[0;32m----> 2\u001b[0m y \u001b[38;5;241m=\u001b[39m np\u001b[38;5;241m.\u001b[39marray([np\u001b[38;5;241m.\u001b[39mmean(Y_relative_footsteps_count[np\u001b[38;5;241m.\u001b[39mwhere(np\u001b[38;5;241m.\u001b[39misclose(X_relative_footsteps_count[:, \u001b[38;5;241m2\u001b[39m], velocity))[\u001b[38;5;241m0\u001b[39m], \u001b[38;5;241m1\u001b[39m]) \u001b[38;5;28;01mfor\u001b[39;00m velocity \u001b[38;5;129;01min\u001b[39;00m np\u001b[38;5;241m.\u001b[39marange(\u001b[38;5;241m0.1\u001b[39m, \u001b[38;5;241m1.1\u001b[39m, \u001b[38;5;241m0.1\u001b[39m)])\n\u001b[1;32m      3\u001b[0m e \u001b[38;5;241m=\u001b[39m np\u001b[38;5;241m.\u001b[39marray([np\u001b[38;5;241m.\u001b[39mstd(Y_relative_footsteps_count[np\u001b[38;5;241m.\u001b[39mwhere(np\u001b[38;5;241m.\u001b[39misclose(X_relative_footsteps_count[:, \u001b[38;5;241m2\u001b[39m], velocity))[\u001b[38;5;241m0\u001b[39m], \u001b[38;5;241m1\u001b[39m]) \u001b[38;5;28;01mfor\u001b[39;00m velocity \u001b[38;5;129;01min\u001b[39;00m np\u001b[38;5;241m.\u001b[39marange(\u001b[38;5;241m0.1\u001b[39m, \u001b[38;5;241m1.1\u001b[39m, \u001b[38;5;241m0.1\u001b[39m)])\n\u001b[1;32m      4\u001b[0m plt\u001b[38;5;241m.\u001b[39merrorbar(x, y, e, linestyle\u001b[38;5;241m=\u001b[39m\u001b[38;5;124m'\u001b[39m\u001b[38;5;124mNone\u001b[39m\u001b[38;5;124m'\u001b[39m, marker\u001b[38;5;241m=\u001b[39m\u001b[38;5;124m'\u001b[39m\u001b[38;5;124ms\u001b[39m\u001b[38;5;124m'\u001b[39m)\n",
      "Input \u001b[0;32mIn [27]\u001b[0m, in \u001b[0;36m<listcomp>\u001b[0;34m(.0)\u001b[0m\n\u001b[1;32m      1\u001b[0m x \u001b[38;5;241m=\u001b[39m np\u001b[38;5;241m.\u001b[39marange(\u001b[38;5;241m0.1\u001b[39m, \u001b[38;5;241m1.1\u001b[39m, \u001b[38;5;241m0.1\u001b[39m)\n\u001b[0;32m----> 2\u001b[0m y \u001b[38;5;241m=\u001b[39m np\u001b[38;5;241m.\u001b[39marray([np\u001b[38;5;241m.\u001b[39mmean(\u001b[43mY_relative_footsteps_count\u001b[49m[np\u001b[38;5;241m.\u001b[39mwhere(np\u001b[38;5;241m.\u001b[39misclose(X_relative_footsteps_count[:, \u001b[38;5;241m2\u001b[39m], velocity))[\u001b[38;5;241m0\u001b[39m], \u001b[38;5;241m1\u001b[39m]) \u001b[38;5;28;01mfor\u001b[39;00m velocity \u001b[38;5;129;01min\u001b[39;00m np\u001b[38;5;241m.\u001b[39marange(\u001b[38;5;241m0.1\u001b[39m, \u001b[38;5;241m1.1\u001b[39m, \u001b[38;5;241m0.1\u001b[39m)])\n\u001b[1;32m      3\u001b[0m e \u001b[38;5;241m=\u001b[39m np\u001b[38;5;241m.\u001b[39marray([np\u001b[38;5;241m.\u001b[39mstd(Y_relative_footsteps_count[np\u001b[38;5;241m.\u001b[39mwhere(np\u001b[38;5;241m.\u001b[39misclose(X_relative_footsteps_count[:, \u001b[38;5;241m2\u001b[39m], velocity))[\u001b[38;5;241m0\u001b[39m], \u001b[38;5;241m1\u001b[39m]) \u001b[38;5;28;01mfor\u001b[39;00m velocity \u001b[38;5;129;01min\u001b[39;00m np\u001b[38;5;241m.\u001b[39marange(\u001b[38;5;241m0.1\u001b[39m, \u001b[38;5;241m1.1\u001b[39m, \u001b[38;5;241m0.1\u001b[39m)])\n\u001b[1;32m      4\u001b[0m plt\u001b[38;5;241m.\u001b[39merrorbar(x, y, e, linestyle\u001b[38;5;241m=\u001b[39m\u001b[38;5;124m'\u001b[39m\u001b[38;5;124mNone\u001b[39m\u001b[38;5;124m'\u001b[39m, marker\u001b[38;5;241m=\u001b[39m\u001b[38;5;124m'\u001b[39m\u001b[38;5;124ms\u001b[39m\u001b[38;5;124m'\u001b[39m)\n",
      "\u001b[0;31mNameError\u001b[0m: name 'Y_relative_footsteps_count' is not defined"
     ]
    }
   ],
   "source": [
    "x = np.arange(0.1, 1.1, 0.1)\n",
    "y = np.array([np.mean(Y_relative_footsteps_count[np.where(np.isclose(X_relative_footsteps_count[:, 2], velocity))[0], 1]) for velocity in np.arange(0.1, 1.1, 0.1)])\n",
    "e = np.array([np.std(Y_relative_footsteps_count[np.where(np.isclose(X_relative_footsteps_count[:, 2], velocity))[0], 1]) for velocity in np.arange(0.1, 1.1, 0.1)])\n",
    "plt.errorbar(x, y, e, linestyle='None', marker='s')\n",
    "plt.xlabel('Velocities')\n",
    "plt.ylabel('\\u03B4Y Footstep')\n",
    "plt.show()"
   ]
  },
  {
   "cell_type": "code",
   "execution_count": null,
   "id": "11e4fb95",
   "metadata": {},
   "outputs": [],
   "source": []
  },
  {
   "cell_type": "code",
   "execution_count": null,
   "id": "7411de98",
   "metadata": {},
   "outputs": [],
   "source": []
  },
  {
   "cell_type": "code",
   "execution_count": null,
   "id": "c2a8c6b9",
   "metadata": {},
   "outputs": [],
   "source": []
  }
 ],
 "metadata": {
  "kernelspec": {
   "display_name": "Python 3 (ipykernel)",
   "language": "python",
   "name": "python3"
  },
  "language_info": {
   "codemirror_mode": {
    "name": "ipython",
    "version": 3
   },
   "file_extension": ".py",
   "mimetype": "text/x-python",
   "name": "python",
   "nbconvert_exporter": "python",
   "pygments_lexer": "ipython3",
   "version": "3.8.10"
  }
 },
 "nbformat": 4,
 "nbformat_minor": 5
}
