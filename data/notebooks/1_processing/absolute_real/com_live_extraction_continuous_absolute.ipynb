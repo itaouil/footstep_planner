{
 "cells": [
  {
   "cell_type": "code",
   "execution_count": 1,
   "id": "ec29827b",
   "metadata": {},
   "outputs": [],
   "source": [
    "#!/usr/bin/env python3\n",
    "# -*- coding: utf-8 -*"
   ]
  },
  {
   "cell_type": "code",
   "execution_count": 2,
   "id": "4e69dc4b",
   "metadata": {},
   "outputs": [],
   "source": [
    "# Imports\n",
    "import sys\n",
    "import math\n",
    "import numpy as np\n",
    "from matplotlib import animation\n",
    "from IPython.display import HTML\n",
    "from matplotlib import pyplot as plt\n",
    "plt.rcParams['animation.ffmpeg_path'] = '/usr/bin/ffmpeg'\n",
    "import mpl_toolkits.mplot3d.axes3d as p3"
   ]
  },
  {
   "cell_type": "code",
   "execution_count": 3,
   "id": "c4f8391c",
   "metadata": {},
   "outputs": [],
   "source": [
    "np.random.seed(20)\n",
    "np.set_printoptions(threshold=sys.maxsize)"
   ]
  },
  {
   "cell_type": "code",
   "execution_count": 4,
   "id": "c9587dfc",
   "metadata": {},
   "outputs": [],
   "source": [
    "%matplotlib inline"
   ]
  },
  {
   "cell_type": "markdown",
   "id": "2d3d9d60",
   "metadata": {},
   "source": [
    "# Data"
   ]
  },
  {
   "cell_type": "code",
   "execution_count": 5,
   "id": "0ca43648",
   "metadata": {},
   "outputs": [
    {
     "name": "stdout",
     "output_type": "stream",
     "text": [
      "Motion data has a length of  440\n"
     ]
    }
   ],
   "source": [
    "# Read data\n",
    "path = '../../../dataset_real/forward_continuous.csv'\n",
    "motion = np.genfromtxt(path, delimiter=',', dtype=np.float64)\n",
    "contacts = np.genfromtxt(path, delimiter=',', usecols=(55, 56, 57, 58), dtype=bool)\n",
    "print(\"Motion data has a length of \", len(motion))"
   ]
  },
  {
   "cell_type": "code",
   "execution_count": 6,
   "id": "4a762bd1",
   "metadata": {},
   "outputs": [
    {
     "data": {
      "text/plain": [
       "(440, 59)"
      ]
     },
     "execution_count": 6,
     "metadata": {},
     "output_type": "execute_result"
    }
   ],
   "source": [
    "motion.shape"
   ]
  },
  {
   "cell_type": "markdown",
   "id": "a6be05d7",
   "metadata": {},
   "source": [
    "## Height-Force plots"
   ]
  },
  {
   "cell_type": "code",
   "execution_count": 7,
   "id": "a659e209",
   "metadata": {},
   "outputs": [],
   "source": [
    "def get_specific_cmd(dataset, fwd, side, rot):\n",
    "    if abs(fwd): \n",
    "        return np.where(dataset[:, 1] > 0)[0] if fwd > 0 else np.where(dataset[:, 1] < 0)[0]\n",
    "    if abs(side): \n",
    "        return np.where(dataset[:, 2] > 0)[0] if side > 0 else np.where(dataset[:, 2] < 0)[0]\n",
    "    if abs(rot): \n",
    "        return np.where(dataset[:, 3] > 0)[0] if rot > 0 else np.where(dataset[:, 3] < 0)[0]"
   ]
  },
  {
   "cell_type": "code",
   "execution_count": 8,
   "id": "5c3bde51",
   "metadata": {},
   "outputs": [],
   "source": [
    "def get_swinging_motions(dataset, height=1):\n",
    "    # rf min height (i.e swining motion)\n",
    "    fl_min_height = np.where(dataset[:, 6] < height)[0]\n",
    "    fr_min_height = np.where(dataset[:, 9] < height)[0]\n",
    "    rl_min_height = np.where(dataset[:, 12] < height)[0]\n",
    "    rr_min_height = np.where(dataset[:, 15] < height)[0]\n",
    "            \n",
    "    return fl_min_height,fr_min_height,rl_min_height,rr_min_height"
   ]
  },
  {
   "cell_type": "markdown",
   "id": "75ab4b04",
   "metadata": {},
   "source": [
    "### Footstep IDXs"
   ]
  },
  {
   "cell_type": "code",
   "execution_count": 9,
   "id": "fb0b3e46",
   "metadata": {},
   "outputs": [],
   "source": [
    "footsteps_fwd = get_specific_cmd(motion, 1, 0, 0)\n",
    "footsteps_clock = get_specific_cmd(motion, 0, 0, -1)\n",
    "footsteps_count = get_specific_cmd(motion, 0, 0, 1)\n",
    "footsteps_side_right = get_specific_cmd(motion, 0, -1, 0)\n",
    "footsteps_side_left = get_specific_cmd(motion, 0, 1, 0)"
   ]
  },
  {
   "cell_type": "markdown",
   "id": "5fbba67a",
   "metadata": {},
   "source": [
    "# Dataset Preparation"
   ]
  },
  {
   "cell_type": "code",
   "execution_count": 10,
   "id": "9daf2303",
   "metadata": {},
   "outputs": [],
   "source": [
    "import sklearn\n",
    "from sklearn.linear_model import LinearRegression\n",
    "from sklearn.model_selection import train_test_split"
   ]
  },
  {
   "cell_type": "code",
   "execution_count": 11,
   "id": "12fcdae4",
   "metadata": {},
   "outputs": [],
   "source": [
    "def yaw_from_quaternion(Q):\n",
    "    \"\"\"\n",
    "    Covert a quaternion into a full three-dimensional rotation matrix.\n",
    " \n",
    "    Input\n",
    "    :param Q: A 4 element array representing the quaternion (q0,q1,q2,q3) \n",
    " \n",
    "    Output\n",
    "    :return: A 3x3 element matrix representing the full 3D rotation matrix. \n",
    "             This rotation matrix converts a point in the local reference \n",
    "             frame to a point in the global reference frame.\n",
    "    \"\"\"\n",
    "    # Extract the values from Q\n",
    "    x = Q[0]\n",
    "    y = Q[1]\n",
    "    z = Q[2]\n",
    "    w = Q[3]\n",
    "     \n",
    "    return np.arctan2(2 * (w*z + x*y), 1 - 2 * (y*y + z*z))"
   ]
  },
  {
   "cell_type": "code",
   "execution_count": 12,
   "id": "0ed4fced",
   "metadata": {},
   "outputs": [],
   "source": [
    "def quaternion_rotation_matrix(Q):\n",
    "    \"\"\"\n",
    "    Covert a quaternion into a full three-dimensional rotation matrix.\n",
    " \n",
    "    Input\n",
    "    :param Q: A 4 element array representing the quaternion (q0,q1,q2,q3) \n",
    " \n",
    "    Output\n",
    "    :return: A 3x3 element matrix representing the full 3D rotation matrix. \n",
    "             This rotation matrix converts a point in the local reference \n",
    "             frame to a point in the global reference frame.\n",
    "    \"\"\"\n",
    "    # Extract the values from Q\n",
    "    q0 = Q[3]\n",
    "    q1 = Q[0]\n",
    "    q2 = Q[1]\n",
    "    q3 = Q[2]\n",
    "     \n",
    "    # First row of the rotation matrix\n",
    "    r00 = 2 * (q0 * q0 + q1 * q1) - 1\n",
    "    r01 = 2 * (q1 * q2 - q0 * q3)\n",
    "    r02 = 2 * (q1 * q3 + q0 * q2)\n",
    "     \n",
    "    # Second row of the rotation matrix\n",
    "    r10 = 2 * (q1 * q2 + q0 * q3)\n",
    "    r11 = 2 * (q0 * q0 + q2 * q2) - 1\n",
    "    r12 = 2 * (q2 * q3 - q0 * q1)\n",
    "     \n",
    "    # Third row of the rotation matrix\n",
    "    r20 = 2 * (q1 * q3 - q0 * q2)\n",
    "    r21 = 2 * (q2 * q3 + q0 * q1)\n",
    "    r22 = 2 * (q0 * q0 + q3 * q3) - 1\n",
    "     \n",
    "    # 3x3 rotation matrix\n",
    "    rot_matrix = np.array([[r00, r01, r02],\n",
    "                           [r10, r11, r12],\n",
    "                           [r20, r21, r22]])\n",
    "                            \n",
    "    return rot_matrix"
   ]
  },
  {
   "cell_type": "code",
   "execution_count": 13,
   "id": "7735f7e5-262f-4f64-a9a8-efa881b37cbd",
   "metadata": {},
   "outputs": [
    {
     "name": "stdout",
     "output_type": "stream",
     "text": [
      "(425, 20)\n",
      "(425, 3)\n"
     ]
    }
   ],
   "source": [
    "def create_com_dataset(dataset, footsteps, motion=None, debug=False):\n",
    "    inputs = []\n",
    "    labels = []\n",
    "    \n",
    "    for idx, footstep in enumerate(footsteps):\n",
    "        if idx > 0:\n",
    "            # Compute time difference between\n",
    "            # current and next footsteps\n",
    "            time_difference = abs(dataset[footsteps[idx], 0] - dataset[footsteps[idx-1], 0])\n",
    "            \n",
    "            #if time_difference < 1 and np.any(dataset[footsteps[idx-1], 1:4]) and np.any(dataset[footsteps[idx], 1:4]):\n",
    "            if time_difference < 0.5 and np.any(dataset[footsteps[idx-1], 1:4]) and np.any(dataset[footsteps[idx], 1:4]):\n",
    "                lf_rh_moving = contacts[footsteps[idx], 0]\n",
    "                rf_lh_moving = contacts[footsteps[idx], 1]\n",
    "                \n",
    "                if lf_rh_moving == rf_lh_moving:\n",
    "                    print(\"Invalid\")\n",
    "                    continue\n",
    "                \n",
    "                # Compute rotation matrices from odometry orientation\n",
    "                R_prev = quaternion_rotation_matrix(dataset[footsteps[idx-1], 48:52])\n",
    "                R_curr = quaternion_rotation_matrix(dataset[footsteps[idx], 48:52])\n",
    "\n",
    "                # Odom base vectors\n",
    "                prev_base = dataset[footsteps[idx-1], 16:19]\n",
    "                curr_base = dataset[footsteps[idx], 16:19]\n",
    "\n",
    "                # Rotate odometry estimation\n",
    "                rotated_prev_base = prev_base @ R_prev\n",
    "                rotated_curr_base = curr_base @ R_prev\n",
    "                base_displacement = rotated_curr_base - rotated_prev_base\n",
    "                \n",
    "                prev_yaw = yaw_from_quaternion(dataset[footsteps[idx-1], 48:52])\n",
    "                curr_yaw = yaw_from_quaternion(dataset[footsteps[idx], 48:52])\n",
    "                yaw = curr_yaw - prev_yaw\n",
    "                \n",
    "                # Handle angle wrap\n",
    "                if np.sign(prev_yaw) != np.sign(curr_yaw):\n",
    "                    print(\"Angle wrap detected.\")\n",
    "                    continue\n",
    "                    \n",
    "                inputs.append(dataset[footsteps[idx-1], 1:16].tolist() +\n",
    "                              dataset[footsteps[idx], 1:4].tolist() +\n",
    "                              [lf_rh_moving, rf_lh_moving])\n",
    "                \n",
    "                # Labels\n",
    "                labels.append([base_displacement[0], base_displacement[1], yaw])\n",
    "                \n",
    "    return np.array(inputs, dtype=float), np.array(labels, dtype=float)\n",
    "                \n",
    "X_motion_fwd_CoM, Y_motion_fwd_CoM = create_com_dataset(motion, footsteps_fwd)\n",
    "#X_motion_clock_CoM, Y_motion_clock_CoM = create_com_dataset(motion, footsteps_clock)\n",
    "#X_motion_count_CoM, Y_motion_count_CoM = create_com_dataset(motion, footsteps_count)\n",
    "#X_motion_side_left_CoM, Y_motion_side_left_CoM = create_com_dataset(motion, footsteps_side_left)\n",
    "#X_motion_side_right_CoM, Y_motion_side_right_CoM = create_com_dataset(motion, footsteps_side_right)\n",
    "\n",
    "# Stack datasets\n",
    "#X_motion_CoM_continuous = np.concatenate((X_motion_fwd_CoM, X_motion_clock_CoM, X_motion_count_CoM))\n",
    "#Y_motion_CoM_continuous = np.concatenate((Y_motion_fwd_CoM, Y_motion_clock_CoM, Y_motion_count_CoM))\n",
    "\n",
    "X_motion_CoM_continuous = X_motion_fwd_CoM\n",
    "Y_motion_CoM_continuous = Y_motion_fwd_CoM\n",
    "\n",
    "print(X_motion_CoM_continuous.shape)\n",
    "print(Y_motion_CoM_continuous.shape)"
   ]
  },
  {
   "cell_type": "code",
   "execution_count": 14,
   "id": "200b546d",
   "metadata": {},
   "outputs": [
    {
     "name": "stdout",
     "output_type": "stream",
     "text": [
      "Stored 'X_motion_CoM_continuous' (ndarray)\n",
      "Stored 'Y_motion_CoM_continuous' (ndarray)\n"
     ]
    }
   ],
   "source": [
    "%store X_motion_CoM_continuous\n",
    "%store Y_motion_CoM_continuous"
   ]
  },
  {
   "cell_type": "code",
   "execution_count": 15,
   "id": "e2303e41-5503-4b65-8d17-e28ec06c16f7",
   "metadata": {},
   "outputs": [],
   "source": [
    "#for x in range(400):\n",
    "#    print(f\"Velocity: {X_motion_CoM_continuous[x, 0:3]}. Displacement: {Y_motion_CoM_continuous[x, :]}.\")"
   ]
  },
  {
   "cell_type": "markdown",
   "id": "d4f2cf84-0416-4421-bd27-120ab39caad3",
   "metadata": {},
   "source": [
    "# Velocity Check"
   ]
  },
  {
   "cell_type": "code",
   "execution_count": 16,
   "id": "06c33669-77bd-4a3e-a121-d3418d96421b",
   "metadata": {},
   "outputs": [
    {
     "data": {
      "text/plain": [
       "{0.001, 0.1, 0.2, 0.30000000000000004, 0.4, 0.5, 0.6, 0.7000000000000001}"
      ]
     },
     "execution_count": 16,
     "metadata": {},
     "output_type": "execute_result"
    }
   ],
   "source": [
    "set(X_motion_CoM_continuous[:, 0])"
   ]
  },
  {
   "cell_type": "markdown",
   "id": "2d026421-20e9-4b06-bfea-01b0c82319ef",
   "metadata": {},
   "source": [
    "# FWD CoM displacements"
   ]
  },
  {
   "cell_type": "code",
   "execution_count": 17,
   "id": "1af00cb6-5cb3-43db-a01c-4aa54e451dee",
   "metadata": {},
   "outputs": [
    {
     "data": {
      "text/plain": [
       "-0.019573884300932695"
      ]
     },
     "execution_count": 17,
     "metadata": {},
     "output_type": "execute_result"
    }
   ],
   "source": [
    "min(Y_motion_CoM_continuous[:, 0])"
   ]
  },
  {
   "cell_type": "code",
   "execution_count": 18,
   "id": "920aa7fb-0403-4d18-b005-bd84261153c3",
   "metadata": {},
   "outputs": [
    {
     "name": "stdout",
     "output_type": "stream",
     "text": [
      "Velocity 0.1 with 75 samples\n",
      "Mean CoM(x) displacement of 0.026950812969966455 with a std of 0.0026613284620209286\n",
      "Mean CoM(y) displacement of 0.00020668442958590271 with a std of 0.0020199845269542323\n",
      "Mean CoM(yaw) displacement of 3.552480549970483e-05 with a std of 0.001518914169460275\n",
      "\n",
      "Velocity 0.2 with 69 samples\n",
      "Mean CoM(x) displacement of 0.05490193295531407 with a std of 0.004947564365968428\n",
      "Mean CoM(y) displacement of 0.0007636358248017829 with a std of 0.0025350897502902704\n",
      "Mean CoM(yaw) displacement of 0.00013454095336556547 with a std of 0.0017160008849907288\n",
      "\n",
      "Velocity 0.30000000000000004 with 79 samples\n",
      "Mean CoM(x) displacement of 0.08391048435997801 with a std of 0.0063451024929604225\n",
      "Mean CoM(y) displacement of 0.0015909049982935988 with a std of 0.003487094830130472\n",
      "Mean CoM(yaw) displacement of -1.2633564503383851e-05 with a std of 0.0021621700243038746\n",
      "\n",
      "Velocity 0.4 with 62 samples\n",
      "Mean CoM(x) displacement of 0.11047879736610748 with a std of 0.018681662906707686\n",
      "Mean CoM(y) displacement of 0.0016593360537168343 with a std of 0.005457208973849643\n",
      "Mean CoM(yaw) displacement of -6.518278825540236e-05 with a std of 0.0037648798376865127\n",
      "\n",
      "Velocity 0.5 with 53 samples\n",
      "Mean CoM(x) displacement of 0.14017887899493836 with a std of 0.010843521909929658\n",
      "Mean CoM(y) displacement of 0.0026054502373207074 with a std of 0.004729925241716837\n",
      "Mean CoM(yaw) displacement of -0.0007564825449932954 with a std of 0.003665323744622575\n",
      "\n",
      "Velocity 0.6 with 36 samples\n",
      "Mean CoM(x) displacement of 0.17022797405495316 with a std of 0.019419897643701986\n",
      "Mean CoM(y) displacement of 0.0030415548529242153 with a std of 0.005343806330542946\n",
      "Mean CoM(yaw) displacement of -0.00046004404049440926 with a std of 0.0047747294674936385\n",
      "\n",
      "Velocity 0.7000000000000001 with 45 samples\n",
      "Mean CoM(x) displacement of 0.1976875472110853 with a std of 0.013297845248194835\n",
      "Mean CoM(y) displacement of 0.0036186381905724528 with a std of 0.005402234451194727\n",
      "Mean CoM(yaw) displacement of -0.0013670193147952024 with a std of 0.004411093993043334\n",
      "\n"
     ]
    }
   ],
   "source": [
    "# X displacement mean and std for each velocity\n",
    "for velocity in np.arange(0.1, 0.8, 0.1):\n",
    "    idx = np.where(np.isclose(X_motion_CoM_continuous[:, 0], velocity))[0]\n",
    "    print(f\"Velocity {velocity} with {len(idx)} samples\")\n",
    "    print(f\"Mean CoM(x) displacement of {np.mean(Y_motion_CoM_continuous[idx, 0])} with a std of {np.std(Y_motion_CoM_continuous[idx, 0])}\")\n",
    "    print(f\"Mean CoM(y) displacement of {np.mean(Y_motion_CoM_continuous[idx, 1])} with a std of {np.std(Y_motion_CoM_continuous[idx, 1])}\")\n",
    "    print(f\"Mean CoM(yaw) displacement of {np.mean(Y_motion_CoM_continuous[idx, 2])} with a std of {np.std(Y_motion_CoM_continuous[idx, 2])}\\n\")"
   ]
  },
  {
   "cell_type": "markdown",
   "id": "2b86993f-fc08-4cf5-a655-f99715448f47",
   "metadata": {},
   "source": [
    "# CK CoM displacement"
   ]
  },
  {
   "cell_type": "code",
   "execution_count": null,
   "id": "14c10cf2-d40e-4007-8ae4-caac519ea479",
   "metadata": {},
   "outputs": [],
   "source": [
    "# X displacement mean and std for each velocity\n",
    "for velocity in np.arange(0.1, 1.1, 0.1):\n",
    "    idx = np.where(np.isclose(X_motion_CoM_continuous[:, 2], -velocity))[0]\n",
    "    print(f\"Velocity {velocity} with {len(idx)} samples\")\n",
    "    print(f\"Mean CoM(x) displacement of {np.mean(Y_motion_CoM_continuous[idx, 0])} with a std of {np.std(Y_motion_CoM_continuous[idx, 0])}\")\n",
    "    print(f\"Mean CoM(y) displacement of {np.mean(Y_motion_CoM_continuous[idx, 1])} with a std of {np.std(Y_motion_CoM_continuous[idx, 1])}\")\n",
    "    print(f\"Mean CoM(yaw) displacement of {np.mean(Y_motion_CoM_continuous[idx, 2])} with a std of {np.std(Y_motion_CoM_continuous[idx, 2])}\\n\")"
   ]
  },
  {
   "cell_type": "markdown",
   "id": "65593bcc-74c5-4e42-aad6-ba713c1f551c",
   "metadata": {},
   "source": [
    "# CCK CoM displacement"
   ]
  },
  {
   "cell_type": "code",
   "execution_count": null,
   "id": "696c8b22-301d-40eb-a31c-04d8dadee0c0",
   "metadata": {},
   "outputs": [],
   "source": [
    "# X displacement mean and std for each velocity\n",
    "for velocity in np.arange(0.1, 1.1, 0.1):\n",
    "    idx = np.where(np.isclose(X_motion_CoM_continuous[:, 2], velocity))[0]\n",
    "    print(f\"Velocity {velocity} with {len(idx)} samples\")\n",
    "    print(f\"Mean CoM(x) displacement of {np.mean(Y_motion_CoM_continuous[idx, 0])} with a std of {np.std(Y_motion_CoM_continuous[idx, 0])}\")\n",
    "    print(f\"Mean CoM(y) displacement of {np.mean(Y_motion_CoM_continuous[idx, 1])} with a std of {np.std(Y_motion_CoM_continuous[idx, 1])}\")\n",
    "    print(f\"Mean CoM(yaw) displacement of {np.mean(Y_motion_CoM_continuous[idx, 2])} with a std of {np.std(Y_motion_CoM_continuous[idx, 2])}\\n\")"
   ]
  },
  {
   "cell_type": "markdown",
   "id": "f2cd5b6b",
   "metadata": {},
   "source": [
    "### Fwd Plot"
   ]
  },
  {
   "cell_type": "code",
   "execution_count": 25,
   "id": "b84442e0-af64-4616-9d4f-db36bf5522d1",
   "metadata": {},
   "outputs": [
    {
     "data": {
      "text/plain": [
       "array([0.1, 0.2, 0.3, 0.4, 0.5, 0.6, 0.7, 0.8])"
      ]
     },
     "execution_count": 25,
     "metadata": {},
     "output_type": "execute_result"
    }
   ],
   "source": [
    "np.arange(0.1, 0.9, 0.1)"
   ]
  },
  {
   "cell_type": "code",
   "execution_count": 26,
   "id": "c2df2b35",
   "metadata": {},
   "outputs": [
    {
     "data": {
      "image/png": "[encoded data removed]",
      "text/plain": [
       "<Figure size 432x288 with 1 Axes>"
      ]
     },
     "metadata": {
      "needs_background": "light"
     },
     "output_type": "display_data"
    }
   ],
   "source": [
    "plt.plot(np.arange(0.1, 1.1, 0.1),\n",
    "         [np.mean(Y_motion_fwd_CoM[np.where(np.isclose(X_motion_fwd_CoM[:, 0], velocity))[0], 0]) for velocity in np.arange(0.1, 1.1, 0.1)], \n",
    "         'ro')\n",
    "plt.xlabel('Velocities')\n",
    "plt.ylabel('\\u0394X CoM')\n",
    "plt.show()"
   ]
  },
  {
   "cell_type": "code",
   "execution_count": 27,
   "id": "fce2172f",
   "metadata": {},
   "outputs": [
    {
     "data": {
      "image/png": "[encoded data removed]",
      "text/plain": [
       "<Figure size 432x288 with 1 Axes>"
      ]
     },
     "metadata": {
      "needs_background": "light"
     },
     "output_type": "display_data"
    }
   ],
   "source": [
    "x = np.arange(0.1, 1.1, 0.1)\n",
    "y = np.array([np.mean(Y_motion_fwd_CoM[np.where(np.isclose(X_motion_fwd_CoM[:, 0], velocity))[0], 0]) for velocity in np.arange(0.1, 1.1, 0.1)])\n",
    "e = np.array([np.std(Y_motion_fwd_CoM[np.where(np.isclose(X_motion_fwd_CoM[:, 0], velocity))[0], 0]) for velocity in np.arange(0.1, 1.1, 0.1)])\n",
    "plt.errorbar(x, y, e, linestyle='None', marker='s')\n",
    "plt.xlabel('Velocities')\n",
    "plt.ylabel('\\u03B4X CoM')\n",
    "plt.show()"
   ]
  },
  {
   "cell_type": "markdown",
   "id": "a65ee8fd",
   "metadata": {},
   "source": [
    "### Left Plot"
   ]
  },
  {
   "cell_type": "code",
   "execution_count": null,
   "id": "7183c3fc",
   "metadata": {},
   "outputs": [],
   "source": [
    "plt.plot(np.arange(0.1, 1.1, 0.1),\n",
    "         [np.mean(Y_motion_side_left_CoM[np.where(np.isclose(X_motion_side_left_CoM[:, 1], velocity))[0], 1]) for velocity in np.arange(0.1, 1.1, 0.1)], \n",
    "         'ro')\n",
    "plt.xlabel('Velocities')\n",
    "plt.ylabel('\\u0394Y CoM')\n",
    "plt.show()"
   ]
  },
  {
   "cell_type": "code",
   "execution_count": null,
   "id": "6d836e3f",
   "metadata": {},
   "outputs": [],
   "source": [
    "x = np.array([0.1, 0.2, 0.3, 0.4, 0.5, 0.6, 0.7, 0.8, 0.9])\n",
    "y = np.array([np.mean(Y_motion_side_left_CoM[np.where(np.isclose(X_motion_side_left_CoM[:, 1], velocity))[0], 1]) for velocity in np.arange(0.1, 1.0, 0.1)])\n",
    "e = np.array([np.std(Y_motion_side_left_CoM[np.where(np.isclose(X_motion_side_left_CoM[:, 1], velocity))[0], 1]) for velocity in np.arange(0.1, 1.0, 0.1)])\n",
    "plt.errorbar(x, y, e, linestyle='None', marker='s')\n",
    "plt.xlabel('Velocities')\n",
    "plt.ylabel('\\u03B4Y CoM')\n",
    "plt.show()"
   ]
  },
  {
   "cell_type": "markdown",
   "id": "f4b3eb03",
   "metadata": {},
   "source": [
    "### Right Plot"
   ]
  },
  {
   "cell_type": "code",
   "execution_count": null,
   "id": "9f156f31",
   "metadata": {},
   "outputs": [],
   "source": [
    "plt.plot([-0.1, -0.2, -0.3, -0.4, -0.5, -0.6, -0.7, -0.8, -0.9],\n",
    "         [np.mean(Y_motion_side_right_CoM[np.where(np.isclose(X_motion_side_right_CoM[:, 1], -velocity))[0], 1]) for velocity in np.arange(0.1, 1.0, 0.1)], \n",
    "         'ro')\n",
    "plt.xlabel('Velocities')\n",
    "plt.ylabel('\\u0394Y CoM')\n",
    "plt.show()"
   ]
  },
  {
   "cell_type": "code",
   "execution_count": null,
   "id": "346959e4",
   "metadata": {},
   "outputs": [],
   "source": [
    "x = np.array([-0.1, -0.2, -0.3, -0.4, -0.5, -0.6, -0.7, -0.8, -0.9])\n",
    "y = np.array([np.mean(Y_motion_side_right_CoM[np.where(np.isclose(X_motion_side_right_CoM[:, 1], -velocity))[0], 1]) for velocity in np.arange(0.1, 1.0, 0.1)])\n",
    "e = np.array([np.std(Y_motion_side_right_CoM[np.where(np.isclose(X_motion_side_right_CoM[:, 1], -velocity))[0], 1]) for velocity in np.arange(0.1, 1.0, 0.1)])\n",
    "plt.errorbar(x, y, e, linestyle='None', marker='s')\n",
    "plt.xlabel('Velocities')\n",
    "plt.ylabel('\\u03B4Y CoM')\n",
    "plt.show()"
   ]
  },
  {
   "cell_type": "markdown",
   "id": "1704333f",
   "metadata": {},
   "source": [
    "### Clock Plot"
   ]
  },
  {
   "cell_type": "code",
   "execution_count": null,
   "id": "d21f3794",
   "metadata": {},
   "outputs": [],
   "source": [
    "plt.plot([-0.1, -0.2, -0.3, -0.4, -0.5, -0.6, -0.7, -0.8, -0.9, -1.0],\n",
    "         [np.mean(Y_motion_clock_CoM[np.where(np.isclose(X_motion_clock_CoM[:, 2], -velocity))[0], 2]) for velocity in np.arange(0.1, 1.1, 0.1)], \n",
    "         'ro')\n",
    "plt.xlabel('Velocities')\n",
    "plt.ylabel('\\u0394\\u03B8 CoM')\n",
    "plt.show()"
   ]
  },
  {
   "cell_type": "code",
   "execution_count": null,
   "id": "a2eea505",
   "metadata": {},
   "outputs": [],
   "source": [
    "x = np.array([-0.1, -0.2, -0.3, -0.4, -0.5, -0.6, -0.7, -0.8, -0.9, -1.0])\n",
    "y = np.array([np.mean(Y_motion_clock_CoM[np.where(np.isclose(X_motion_clock_CoM[:, 2], -velocity))[0], 2]) for velocity in np.arange(0.1, 1.1, 0.1)])\n",
    "e = np.array([np.std(Y_motion_clock_CoM[np.where(np.isclose(X_motion_clock_CoM[:, 2], -velocity))[0], 2]) for velocity in np.arange(0.1, 1.1, 0.1)])\n",
    "plt.errorbar(x, y, e, linestyle='None', marker='s')\n",
    "plt.xlabel('Velocities')\n",
    "plt.ylabel('\\u03B4Y CoM')\n",
    "plt.show()"
   ]
  },
  {
   "cell_type": "markdown",
   "id": "976a30b0",
   "metadata": {},
   "source": [
    "### Count Plot"
   ]
  },
  {
   "cell_type": "code",
   "execution_count": null,
   "id": "80aaf962",
   "metadata": {},
   "outputs": [],
   "source": [
    "plt.plot(np.arange(0.1, 1.1, 0.1),\n",
    "         [np.mean(Y_motion_count_CoM[np.where(np.isclose(X_motion_count_CoM[:, 2], velocity))[0], 2]) for velocity in np.arange(0.1, 1.1, 0.1)], \n",
    "         'ro')\n",
    "plt.xlabel('Velocities')\n",
    "plt.ylabel('\\u0394\\u03B8 CoM')\n",
    "plt.show()"
   ]
  },
  {
   "cell_type": "code",
   "execution_count": null,
   "id": "71e95f20",
   "metadata": {},
   "outputs": [],
   "source": [
    "x = np.array(np.arange(0.1, 1.1, 0.1))\n",
    "y = np.array([np.mean(Y_motion_count_CoM[np.where(np.isclose(X_motion_count_CoM[:, 2], velocity))[0], 2]) for velocity in np.arange(0.1, 1.1, 0.1)])\n",
    "e = np.array([np.std(Y_motion_count_CoM[np.where(np.isclose(X_motion_count_CoM[:, 2], velocity))[0], 2]) for velocity in np.arange(0.1, 1.1, 0.1)])\n",
    "plt.errorbar(x, y, e, linestyle='None', marker='s')\n",
    "plt.xlabel('Velocities')\n",
    "plt.ylabel('\\u03B4Y CoM')\n",
    "plt.show()"
   ]
  },
  {
   "cell_type": "markdown",
   "id": "e615862e",
   "metadata": {},
   "source": [
    "## Forwad Check"
   ]
  },
  {
   "cell_type": "code",
   "execution_count": null,
   "id": "f032b9e5",
   "metadata": {},
   "outputs": [],
   "source": [
    "print(f\"Min displacement: {min(Y_motion_fwd_CoM[:, 0])}. Max displacement: {max(Y_motion_fwd_CoM[:, 0])}\")"
   ]
  },
  {
   "cell_type": "markdown",
   "id": "472c7324",
   "metadata": {},
   "source": [
    "## Clockwise Check"
   ]
  },
  {
   "cell_type": "code",
   "execution_count": null,
   "id": "617075fb",
   "metadata": {},
   "outputs": [],
   "source": [
    "print(f\"Min displacement: {min(Y_motion_clock_CoM[:, 2])}. Max displacement: {max(Y_motion_clock_CoM[:, 2])}\")"
   ]
  },
  {
   "cell_type": "markdown",
   "id": "dcf31447",
   "metadata": {},
   "source": [
    "## Counter Check"
   ]
  },
  {
   "cell_type": "code",
   "execution_count": null,
   "id": "a6980911",
   "metadata": {},
   "outputs": [],
   "source": [
    "print(f\"Min displacement: {min(Y_motion_count_CoM[:, 2])}. Max displacement: {max(Y_motion_count_CoM[:, 2])}\")"
   ]
  },
  {
   "cell_type": "markdown",
   "id": "5a21ace6",
   "metadata": {},
   "source": [
    "## Left Check"
   ]
  },
  {
   "cell_type": "code",
   "execution_count": null,
   "id": "b8552df8",
   "metadata": {},
   "outputs": [],
   "source": [
    "print(f\"Min displacement: {min(Y_motion_side_left_CoM[:, 1])}. Max displacement: {max(Y_motion_side_left_CoM[:, 1])}\")"
   ]
  },
  {
   "cell_type": "markdown",
   "id": "b787ba03",
   "metadata": {},
   "source": [
    "## Right Check"
   ]
  },
  {
   "cell_type": "code",
   "execution_count": null,
   "id": "e78f643c",
   "metadata": {},
   "outputs": [],
   "source": [
    "print(f\"Min displacement: {min(Y_motion_side_right_CoM[:, 1])}. Max displacement: {max(Y_motion_side_right_CoM[:, 1])}\")"
   ]
  },
  {
   "cell_type": "code",
   "execution_count": null,
   "id": "9f529fe3",
   "metadata": {},
   "outputs": [],
   "source": []
  }
 ],
 "metadata": {
  "kernelspec": {
   "display_name": "Python 3 (ipykernel)",
   "language": "python",
   "name": "python3"
  },
  "language_info": {
   "codemirror_mode": {
    "name": "ipython",
    "version": 3
   },
   "file_extension": ".py",
   "mimetype": "text/x-python",
   "name": "python",
   "nbconvert_exporter": "python",
   "pygments_lexer": "ipython3",
   "version": "3.8.10"
  }
 },
 "nbformat": 4,
 "nbformat_minor": 5
}
