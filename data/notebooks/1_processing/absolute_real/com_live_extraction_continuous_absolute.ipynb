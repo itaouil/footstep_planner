{
 "cells": [
  {
   "cell_type": "code",
   "execution_count": 1,
   "id": "ec29827b",
   "metadata": {},
   "outputs": [],
   "source": [
    "#!/usr/bin/env python3\n",
    "# -*- coding: utf-8 -*"
   ]
  },
  {
   "cell_type": "code",
   "execution_count": 2,
   "id": "4e69dc4b",
   "metadata": {},
   "outputs": [],
   "source": [
    "# Imports\n",
    "import sys\n",
    "import math\n",
    "import numpy as np\n",
    "from matplotlib import animation\n",
    "from IPython.display import HTML\n",
    "from matplotlib import pyplot as plt\n",
    "plt.rcParams['animation.ffmpeg_path'] = '/usr/bin/ffmpeg'\n",
    "import mpl_toolkits.mplot3d.axes3d as p3"
   ]
  },
  {
   "cell_type": "code",
   "execution_count": 3,
   "id": "c4f8391c",
   "metadata": {},
   "outputs": [],
   "source": [
    "np.random.seed(20)\n",
    "np.set_printoptions(threshold=sys.maxsize)"
   ]
  },
  {
   "cell_type": "code",
   "execution_count": 4,
   "id": "c9587dfc",
   "metadata": {},
   "outputs": [],
   "source": [
    "%matplotlib inline"
   ]
  },
  {
   "cell_type": "markdown",
   "id": "2d3d9d60",
   "metadata": {},
   "source": [
    "# Data"
   ]
  },
  {
   "cell_type": "code",
   "execution_count": 6,
   "id": "0ca43648",
   "metadata": {},
   "outputs": [
    {
     "name": "stdout",
     "output_type": "stream",
     "text": [
      "Motion data has a length of  3124\n"
     ]
    }
   ],
   "source": [
    "# Read data\n",
    "path = '../../../dataset_sim/mpc_forward.csv'\n",
    "motion = np.genfromtxt(path, delimiter=',', dtype=np.float64)\n",
    "contacts = np.genfromtxt(path, delimiter=',', usecols=(29, 30, 31, 32), dtype=bool)\n",
    "print(\"Motion data has a length of \", len(motion))"
   ]
  },
  {
   "cell_type": "code",
   "execution_count": 7,
   "id": "4a762bd1",
   "metadata": {},
   "outputs": [
    {
     "data": {
      "text/plain": [
       "(3124, 33)"
      ]
     },
     "execution_count": 7,
     "metadata": {},
     "output_type": "execute_result"
    }
   ],
   "source": [
    "motion.shape"
   ]
  },
  {
   "cell_type": "markdown",
   "id": "a6be05d7",
   "metadata": {},
   "source": [
    "## Height-Force plots"
   ]
  },
  {
   "cell_type": "code",
   "execution_count": 8,
   "id": "a659e209",
   "metadata": {},
   "outputs": [],
   "source": [
    "def get_specific_cmd(dataset, fwd, side, rot):\n",
    "    if abs(fwd): \n",
    "        return np.where(dataset[:, 1] > 0)[0] if fwd > 0 else np.where(dataset[:, 1] < 0)[0]\n",
    "    if abs(side): \n",
    "        return np.where(dataset[:, 2] > 0)[0] if side > 0 else np.where(dataset[:, 2] < 0)[0]\n",
    "    if abs(rot): \n",
    "        return np.where(dataset[:, 3] > 0)[0] if rot > 0 else np.where(dataset[:, 3] < 0)[0]"
   ]
  },
  {
   "cell_type": "code",
   "execution_count": 9,
   "id": "5c3bde51",
   "metadata": {},
   "outputs": [],
   "source": [
    "def get_swinging_motions(dataset, height=1):\n",
    "    # rf min height (i.e swining motion)\n",
    "    fl_min_height = np.where(dataset[:, 6] < height)[0]\n",
    "    fr_min_height = np.where(dataset[:, 9] < height)[0]\n",
    "    rl_min_height = np.where(dataset[:, 12] < height)[0]\n",
    "    rr_min_height = np.where(dataset[:, 15] < height)[0]\n",
    "            \n",
    "    return fl_min_height,fr_min_height,rl_min_height,rr_min_height"
   ]
  },
  {
   "cell_type": "markdown",
   "id": "75ab4b04",
   "metadata": {},
   "source": [
    "### Footstep IDXs"
   ]
  },
  {
   "cell_type": "code",
   "execution_count": 10,
   "id": "fb0b3e46",
   "metadata": {},
   "outputs": [],
   "source": [
    "footsteps_fwd = get_specific_cmd(motion, 1, 0, 0)\n",
    "footsteps_clock = get_specific_cmd(motion, 0, 0, -1)\n",
    "footsteps_count = get_specific_cmd(motion, 0, 0, 1)\n",
    "footsteps_side_right = get_specific_cmd(motion, 0, -1, 0)\n",
    "footsteps_side_left = get_specific_cmd(motion, 0, 1, 0)"
   ]
  },
  {
   "cell_type": "markdown",
   "id": "ee43f217-5c36-4ea4-92b8-a257ec85062e",
   "metadata": {
    "tags": []
   },
   "source": [
    "# CoM displacement comparison (state vs t265)"
   ]
  },
  {
   "cell_type": "code",
   "execution_count": 11,
   "id": "c30118bc-892b-437a-a121-9375e293cd86",
   "metadata": {},
   "outputs": [],
   "source": [
    "idxs = np.where(np.isclose(motion[:, 1], 0.5))[0]"
   ]
  },
  {
   "cell_type": "code",
   "execution_count": 12,
   "id": "ecda5ea8-5f52-4621-95c6-6a5fc22e71d3",
   "metadata": {},
   "outputs": [
    {
     "data": {
      "text/plain": [
       "array([1726, 1727, 1728, 1729, 1730, 1731, 1732, 1733, 1734, 1735, 1736,\n",
       "       1737, 1738, 1739, 1740, 1741, 1742, 1743, 1744, 1745, 1746, 1747,\n",
       "       1748, 1749, 1750, 1751, 1752, 1753, 1754, 1755, 1756, 1757, 1758,\n",
       "       1759, 1760, 1761, 1762, 1763, 1764, 1765, 1766, 1767, 1768, 1769,\n",
       "       1770, 1771, 1772, 1773, 1774, 1775, 1776, 1777, 1778, 1779, 1780,\n",
       "       1781, 1782, 1783, 1784, 1785, 1786, 1787, 1788, 1789, 1790, 1791,\n",
       "       1792, 1793, 1794, 1795, 1796, 1797, 1798, 1799, 1800, 1801, 1802,\n",
       "       1803, 1804, 1805, 1806, 1807, 1808, 1809, 1810, 1811, 1812, 1813,\n",
       "       1814, 1815, 1816, 1817, 1818, 1819, 1820, 1821, 1822, 1823, 1824,\n",
       "       1825, 1826, 1827, 1828, 1829, 1830, 1831, 1832, 1833, 1834, 1835,\n",
       "       1836, 1837, 1838, 1839, 1840, 1841, 1842, 1843, 1844, 1845, 1846,\n",
       "       1847, 1848, 1849, 1850, 1851, 1852, 1853, 1854, 1855, 1856, 1857,\n",
       "       1858, 1859, 1860, 1861, 1862, 1863, 1864, 1865, 1866, 1867, 1868,\n",
       "       1869, 1870, 1871, 1872, 1873, 1874, 1875, 1876, 1877, 1878, 1879,\n",
       "       1880, 1881, 1882, 1883, 1884, 1885, 1886, 1887, 1888, 1889, 1890,\n",
       "       1891, 1892, 1893, 1894, 1895, 1896, 1897, 1898, 1899, 1900, 1901,\n",
       "       1902, 1903, 1904, 1905, 1906, 1907, 1908, 1909, 1910, 1911, 1912,\n",
       "       1913, 1914, 1915, 1916, 1917, 1918, 1919, 1920, 1921, 1922, 1923,\n",
       "       1924, 1925, 1926, 1927, 1928, 1929, 1930, 1931, 1932, 1933, 1934,\n",
       "       1935, 1936, 1937, 1938, 1939, 1940, 1941, 1942, 1943, 1944, 1945,\n",
       "       1946, 1947, 1948, 1949, 1950, 1951, 1952, 1953, 1954, 1955, 1956,\n",
       "       1957, 1958, 1959, 1960, 1961, 1962, 1963, 1964, 1965, 1966, 1967,\n",
       "       1968, 1969, 1970, 1971, 1972, 1973, 1974, 1975, 1976, 1977, 1978,\n",
       "       1979, 1980, 1981, 1982, 1983, 1984, 1985, 1986, 1987, 1988, 1989,\n",
       "       1990, 1991, 1992, 1993, 1994, 1995, 1996, 1997, 1998, 1999, 2000,\n",
       "       2001, 2002, 2003, 2004, 2005, 2006, 2007, 2008, 2009, 2010, 2011,\n",
       "       2012, 2013, 2014, 2015, 2016, 2017, 2018, 2019, 2020, 2021, 2022,\n",
       "       2023, 2024, 2025, 2026, 2027, 2028, 2029, 2030, 2031, 2032, 2033,\n",
       "       2034, 2035, 2036, 2037, 2038, 2039, 2040, 2041, 2042, 2043, 2044,\n",
       "       2045, 2046, 2047, 2048, 2049, 2050, 2051, 2052, 2053, 2054, 2055,\n",
       "       2056, 2057, 2058, 2059, 2060, 2061, 2062, 2063, 2064, 2065, 2066,\n",
       "       2067, 2068, 2069, 2070, 2071, 2072, 2073, 2074, 2075, 2076, 2077,\n",
       "       2078, 2079, 2080, 2081, 2082, 2083, 2084, 2085, 2086, 2087, 2088,\n",
       "       2089, 2090, 2091, 2092, 2093, 2094, 2095, 2096, 2097, 2098, 2099,\n",
       "       2100, 2101, 2102, 2103, 2104, 2105, 2106, 2107, 2108, 2109, 2110,\n",
       "       2111, 2112, 2113, 2114, 2115, 2116, 2117, 2118, 2119, 2120, 2121,\n",
       "       2122, 2123, 2124, 2125, 2126, 2127, 2128, 2129, 2130, 2131, 2132,\n",
       "       2133, 2134, 2135, 2136, 2137, 2138, 2139, 2140, 2141, 2142, 2143])"
      ]
     },
     "execution_count": 12,
     "metadata": {},
     "output_type": "execute_result"
    }
   ],
   "source": [
    "idxs"
   ]
  },
  {
   "cell_type": "code",
   "execution_count": 64,
   "id": "fdbac258-ed36-4d10-9dcf-103c2fd1c312",
   "metadata": {},
   "outputs": [
    {
     "name": "stdout",
     "output_type": "stream",
     "text": [
      "Velocities sent in x, y, and z:  \n",
      " {0.5} \n",
      " {0.0} \n",
      " {0.0}\n"
     ]
    }
   ],
   "source": [
    "print(\"Velocities sent in x, y, and z: \", \"\\n\", set(motion[idxs, 1]), \"\\n\", set(motion[idxs, 2]), \"\\n\", set(motion[idxs, 3]))"
   ]
  },
  {
   "cell_type": "code",
   "execution_count": 65,
   "id": "09a917cd-9df5-4c14-8993-f0fcb74cc396",
   "metadata": {},
   "outputs": [
    {
     "name": "stdout",
     "output_type": "stream",
     "text": [
      "Angle wrap detected.\n",
      "Angle wrap detected.\n",
      "Angle wrap detected.\n"
     ]
    }
   ],
   "source": [
    "odom_displacements = []\n",
    "state_displacements = []\n",
    "\n",
    "for x in idxs:\n",
    "    odom_rot_prev = quaternion_rotation_matrix(motion[x, 38:42])\n",
    "    odom_rot_curr = quaternion_rotation_matrix(motion[x+1, 38:42])\n",
    "    \n",
    "    state_rot_prev = quaternion_rotation_matrix(motion[x, 48:52])\n",
    "    state_rot_curr = quaternion_rotation_matrix(motion[x+1, 48:52])\n",
    "    \n",
    "    odom_yaw_prev = yaw_from_quaternion(motion[x, 38:42])\n",
    "    odom_yaw_curr = yaw_from_quaternion(motion[x+1, 38:42])\n",
    "    odom_yaw = odom_yaw_curr - odom_yaw_prev\n",
    "    \n",
    "    state_yaw_prev = yaw_from_quaternion(motion[x, 48:52])\n",
    "    state_yaw_curr = yaw_from_quaternion(motion[x+1, 48:52])\n",
    "    state_yaw = state_yaw_curr - state_yaw_prev\n",
    "    \n",
    "    if np.sign(odom_yaw_prev) != np.sign(odom_yaw_curr) or \\\n",
    "       np.sign(state_yaw_prev) != np.sign(state_yaw_curr):\n",
    "        print(\"Angle wrap detected.\")\n",
    "        continue\n",
    "    \n",
    "    corrected_odom_pose_prev = motion[x, 35:38] @ odom_rot_prev\n",
    "    corrected_odom_pose_curr = motion[x+1, 35:38] @ odom_rot_prev\n",
    "    \n",
    "    corrected_state_pose_prev = motion[x, 16:19] @ state_rot_prev\n",
    "    corrected_state_pose_curr = motion[x+1, 16:19] @ state_rot_prev\n",
    "    \n",
    "    corrected_odom_displacement = corrected_odom_pose_curr - corrected_odom_pose_prev\n",
    "    corrected_state_displacement = corrected_state_pose_curr - corrected_state_pose_prev\n",
    "    \n",
    "    odom_displacements.append(np.append(corrected_odom_displacement, odom_yaw))\n",
    "    state_displacements.append(np.append(corrected_state_displacement, state_yaw))\n",
    "    \n",
    "odom_displacements = np.array(odom_displacements)\n",
    "state_displacements = np.array(state_displacements)"
   ]
  },
  {
   "cell_type": "code",
   "execution_count": 66,
   "id": "c7953764-1d6c-4c70-b8d4-180475d8bd6b",
   "metadata": {},
   "outputs": [
    {
     "name": "stdout",
     "output_type": "stream",
     "text": [
      "State mean CoM(x) displacement of 0.14495363477644496 with a std of 0.019281461161740048\n",
      "State mean CoM(y) displacement of -0.004212906960505062 with a std of 0.0043308669111827265\n",
      "State mean CoM(z) displacement of -0.00036445818580376263 with a std of 0.004631810743875825\n",
      "State mean CoM(yaw) displacement of -0.00015600606225809198 with a std of 0.015204948102260418\n"
     ]
    }
   ],
   "source": [
    "# X displacement mean and std\n",
    "print(f\"State mean CoM(x) displacement of {np.mean(state_displacements[:, 0])} with a std of {np.std(state_displacements[:, 0])}\")\n",
    "print(f\"State mean CoM(y) displacement of {np.mean(state_displacements[:, 1])} with a std of {np.std(state_displacements[:, 1])}\")\n",
    "print(f\"State mean CoM(z) displacement of {np.mean(state_displacements[:, 2])} with a std of {np.std(state_displacements[:, 2])}\")\n",
    "print(f\"State mean CoM(yaw) displacement of {np.mean(state_displacements[:, 3])} with a std of {np.std(state_displacements[:, 3])}\")"
   ]
  },
  {
   "cell_type": "code",
   "execution_count": 67,
   "id": "e908ee4d-2fde-4885-89e1-0fbcba282ddb",
   "metadata": {},
   "outputs": [
    {
     "name": "stdout",
     "output_type": "stream",
     "text": [
      "Odom mean CoM(x) displacement of 0.11776153238779134 with a std of 0.029409349800705743\n",
      "Odom mean CoM(y) displacement of 0.00036043647343746214 with a std of 0.0178133291698812\n",
      "Odom mean CoM(z) displacement of 0.0315376681604353 with a std of 0.012013542990794964\n",
      "Odom mean CoM(yaw) displacement of -0.0002719868661058071 with a std of 0.015838949621012822\n"
     ]
    }
   ],
   "source": [
    "# X displacement mean and std\n",
    "print(f\"Odom mean CoM(x) displacement of {np.mean(odom_displacements[:, 0])} with a std of {np.std(odom_displacements[:, 0])}\")\n",
    "print(f\"Odom mean CoM(y) displacement of {np.mean(odom_displacements[:, 1])} with a std of {np.std(odom_displacements[:, 1])}\")\n",
    "print(f\"Odom mean CoM(z) displacement of {np.mean(odom_displacements[:, 2])} with a std of {np.std(odom_displacements[:, 2])}\")\n",
    "print(f\"Odom mean CoM(yaw) displacement of {np.mean(odom_displacements[:, 3])} with a std of {np.std(odom_displacements[:, 3])}\")"
   ]
  },
  {
   "cell_type": "markdown",
   "id": "5fbba67a",
   "metadata": {},
   "source": [
    "# Dataset Preparation"
   ]
  },
  {
   "cell_type": "code",
   "execution_count": 10,
   "id": "9daf2303",
   "metadata": {},
   "outputs": [],
   "source": [
    "import sklearn\n",
    "from sklearn.linear_model import LinearRegression\n",
    "from sklearn.model_selection import train_test_split"
   ]
  },
  {
   "cell_type": "code",
   "execution_count": 11,
   "id": "12fcdae4",
   "metadata": {},
   "outputs": [],
   "source": [
    "def yaw_from_quaternion(Q):\n",
    "    \"\"\"\n",
    "    Covert a quaternion into a full three-dimensional rotation matrix.\n",
    " \n",
    "    Input\n",
    "    :param Q: A 4 element array representing the quaternion (q0,q1,q2,q3) \n",
    " \n",
    "    Output\n",
    "    :return: A 3x3 element matrix representing the full 3D rotation matrix. \n",
    "             This rotation matrix converts a point in the local reference \n",
    "             frame to a point in the global reference frame.\n",
    "    \"\"\"\n",
    "    # Extract the values from Q\n",
    "    x = Q[0]\n",
    "    y = Q[1]\n",
    "    z = Q[2]\n",
    "    w = Q[3]\n",
    "     \n",
    "    return np.arctan2(2 * (w*z + x*y), 1 - 2 * (y*y + z*z))"
   ]
  },
  {
   "cell_type": "code",
   "execution_count": 12,
   "id": "0ed4fced",
   "metadata": {},
   "outputs": [],
   "source": [
    "def quaternion_rotation_matrix(Q):\n",
    "    \"\"\"\n",
    "    Covert a quaternion into a full three-dimensional rotation matrix.\n",
    " \n",
    "    Input\n",
    "    :param Q: A 4 element array representing the quaternion (q0,q1,q2,q3) \n",
    " \n",
    "    Output\n",
    "    :return: A 3x3 element matrix representing the full 3D rotation matrix. \n",
    "             This rotation matrix converts a point in the local reference \n",
    "             frame to a point in the global reference frame.\n",
    "    \"\"\"\n",
    "    # Extract the values from Q\n",
    "    q0 = Q[3]\n",
    "    q1 = Q[0]\n",
    "    q2 = Q[1]\n",
    "    q3 = Q[2]\n",
    "     \n",
    "    # First row of the rotation matrix\n",
    "    r00 = 2 * (q0 * q0 + q1 * q1) - 1\n",
    "    r01 = 2 * (q1 * q2 - q0 * q3)\n",
    "    r02 = 2 * (q1 * q3 + q0 * q2)\n",
    "     \n",
    "    # Second row of the rotation matrix\n",
    "    r10 = 2 * (q1 * q2 + q0 * q3)\n",
    "    r11 = 2 * (q0 * q0 + q2 * q2) - 1\n",
    "    r12 = 2 * (q2 * q3 - q0 * q1)\n",
    "     \n",
    "    # Third row of the rotation matrix\n",
    "    r20 = 2 * (q1 * q3 - q0 * q2)\n",
    "    r21 = 2 * (q2 * q3 + q0 * q1)\n",
    "    r22 = 2 * (q0 * q0 + q3 * q3) - 1\n",
    "     \n",
    "    # 3x3 rotation matrix\n",
    "    rot_matrix = np.array([[r00, r01, r02],\n",
    "                           [r10, r11, r12],\n",
    "                           [r20, r21, r22]])\n",
    "                            \n",
    "    return rot_matrix"
   ]
  },
  {
   "cell_type": "code",
   "execution_count": 19,
   "id": "48a60e78",
   "metadata": {},
   "outputs": [
    {
     "name": "stdout",
     "output_type": "stream",
     "text": [
      "(4626, 61)\n",
      "(4626, 3)\n"
     ]
    }
   ],
   "source": [
    "def create_com_dataset(dataset, footsteps, motion=None, debug=False):\n",
    "    inputs = []\n",
    "    labels = []\n",
    "    \n",
    "    for idx, footstep in enumerate(footsteps):\n",
    "        if idx > 0:\n",
    "            # Compute time difference between\n",
    "            # current and next footsteps\n",
    "            time_difference = abs(dataset[footsteps[idx], 0] - dataset[footsteps[idx-1], 0])\n",
    "            \n",
    "            if time_difference < 0.4 and np.any(dataset[footsteps[idx-1], 1:4]) and np.any(dataset[footsteps[idx], 1:4]):\n",
    "                fl_moving = contacts[footsteps[idx], 0]\n",
    "                fr_moving = contacts[footsteps[idx], 1]\n",
    "                rl_moving = contacts[footsteps[idx], 2]\n",
    "                rr_moving = contacts[footsteps[idx], 3]\n",
    "                \n",
    "                assert fr_moving == rl_moving\n",
    "                assert rr_moving == fl_moving\n",
    "                assert fr_moving != fl_moving\n",
    "                \n",
    "                # Compute rotation matrices from odometry orientation\n",
    "                R_prev = quaternion_rotation_matrix(dataset[footsteps[idx-1], 48:52])\n",
    "                R_curr = quaternion_rotation_matrix(dataset[footsteps[idx], 48:52])\n",
    "\n",
    "                # Odom base vectors\n",
    "                prev_base = dataset[footsteps[idx-1], 16:19]\n",
    "                curr_base = dataset[footsteps[idx], 16:19]\n",
    "\n",
    "                # Rotate odometry estimation\n",
    "                rotated_prev_base = prev_base @ R_prev\n",
    "                rotated_curr_base = curr_base @ R_prev\n",
    "                base_displacement = rotated_curr_base - rotated_prev_base\n",
    "                \n",
    "                prev_yaw = yaw_from_quaternion(dataset[footsteps[idx-1], 48:52])\n",
    "                curr_yaw = yaw_from_quaternion(dataset[footsteps[idx], 48:52])\n",
    "                yaw = curr_yaw - prev_yaw\n",
    "                \n",
    "                # Handle angle wrap\n",
    "                if np.sign(prev_yaw) != np.sign(curr_yaw):\n",
    "                    #print(\"Angle wrap detected.\")\n",
    "                    continue\n",
    "                    \n",
    "                inputs.append(dataset[footsteps[idx-1], 1:55].tolist() +\n",
    "                              [fl_moving, fr_moving, rl_moving, rr_moving] +\n",
    "                              dataset[footsteps[idx], 1:4].tolist())\n",
    "                \n",
    "                # Labels\n",
    "                labels.append([base_displacement[0], base_displacement[1], yaw])\n",
    "                \n",
    "    return np.array(inputs, dtype=float), np.array(labels, dtype=float)\n",
    "                \n",
    "X_motion_fwd_CoM, Y_motion_fwd_CoM = create_com_dataset(motion, footsteps_fwd)\n",
    "X_motion_clock_CoM, Y_motion_clock_CoM = create_com_dataset(motion, footsteps_clock)\n",
    "X_motion_count_CoM, Y_motion_count_CoM = create_com_dataset(motion, footsteps_count)\n",
    "#X_motion_side_left_CoM, Y_motion_side_left_CoM = create_com_dataset(motion, footsteps_side_left)\n",
    "#X_motion_side_right_CoM, Y_motion_side_right_CoM = create_com_dataset(motion, footsteps_side_right)\n",
    "\n",
    "# Stack datasets\n",
    "X_motion_CoM_continuous = np.concatenate((X_motion_fwd_CoM, X_motion_clock_CoM, X_motion_count_CoM))\n",
    "Y_motion_CoM_continuous = np.concatenate((Y_motion_fwd_CoM, Y_motion_clock_CoM, Y_motion_count_CoM))\n",
    "\n",
    "#X_motion_CoM_continuous = X_motion_fwd_CoM\n",
    "#Y_motion_CoM_continuous = Y_motion_fwd_CoM\n",
    "\n",
    "print(X_motion_CoM_continuous.shape)\n",
    "print(Y_motion_CoM_continuous.shape)"
   ]
  },
  {
   "cell_type": "code",
   "execution_count": 20,
   "id": "200b546d",
   "metadata": {},
   "outputs": [
    {
     "name": "stdout",
     "output_type": "stream",
     "text": [
      "Stored 'X_motion_CoM_continuous' (ndarray)\n",
      "Stored 'Y_motion_CoM_continuous' (ndarray)\n"
     ]
    }
   ],
   "source": [
    "%store X_motion_CoM_continuous\n",
    "%store Y_motion_CoM_continuous"
   ]
  },
  {
   "cell_type": "markdown",
   "id": "d4f2cf84-0416-4421-bd27-120ab39caad3",
   "metadata": {},
   "source": [
    "# Velocity Check"
   ]
  },
  {
   "cell_type": "code",
   "execution_count": 21,
   "id": "06c33669-77bd-4a3e-a121-d3418d96421b",
   "metadata": {},
   "outputs": [
    {
     "data": {
      "text/plain": [
       "{0.0,\n",
       " 0.10000000149011612,\n",
       " 0.20000000298023224,\n",
       " 0.30000001192092896,\n",
       " 0.4000000059604645,\n",
       " 0.5,\n",
       " 0.6000000238418579,\n",
       " 0.7000000476837158,\n",
       " 0.8000000715255737}"
      ]
     },
     "execution_count": 21,
     "metadata": {},
     "output_type": "execute_result"
    }
   ],
   "source": [
    "set(X_motion_CoM_continuous[:, 0])"
   ]
  },
  {
   "cell_type": "markdown",
   "id": "2d026421-20e9-4b06-bfea-01b0c82319ef",
   "metadata": {},
   "source": [
    "# FWD CoM displacements"
   ]
  },
  {
   "cell_type": "code",
   "execution_count": 22,
   "id": "920aa7fb-0403-4d18-b005-bd84261153c3",
   "metadata": {},
   "outputs": [
    {
     "name": "stdout",
     "output_type": "stream",
     "text": [
      "Velocity 0.1 with 266 samples\n",
      "Mean CoM(x) displacement of 0.029043418023301237 with a std of 0.0038402988352100867\n",
      "Mean CoM(y) displacement of -0.0007757801502111205 with a std of 0.0022179419676447744\n",
      "Mean CoM(yaw) displacement of 0.00021430374229185314 with a std of 0.024935627566510455\n",
      "\n",
      "Velocity 0.2 with 232 samples\n",
      "Mean CoM(x) displacement of 0.05782537736997163 with a std of 0.005518944483271522\n",
      "Mean CoM(y) displacement of -0.0017786545615455938 with a std of 0.0026439486877430788\n",
      "Mean CoM(yaw) displacement of 0.0005965903670076176 with a std of 0.027995066095724296\n",
      "\n",
      "Velocity 0.30000000000000004 with 388 samples\n",
      "Mean CoM(x) displacement of 0.08666628349112852 with a std of 0.008037758074142925\n",
      "Mean CoM(y) displacement of -0.00280835750514929 with a std of 0.003026324369363806\n",
      "Mean CoM(yaw) displacement of -4.2196457373435445e-05 with a std of 0.018572930191161612\n",
      "\n",
      "Velocity 0.4 with 233 samples\n",
      "Mean CoM(x) displacement of 0.11553679932936183 with a std of 0.009780265618673198\n",
      "Mean CoM(y) displacement of -0.00324769408154162 with a std of 0.0033033067686014618\n",
      "Mean CoM(yaw) displacement of 0.0007836556079325092 with a std of 0.020520914721524623\n",
      "\n",
      "Velocity 0.5 with 281 samples\n",
      "Mean CoM(x) displacement of 0.1437901927570836 with a std of 0.01302964628120794\n",
      "Mean CoM(y) displacement of -0.004187209892696572 with a std of 0.004141154240922299\n",
      "Mean CoM(yaw) displacement of -0.00014906452791699467 with a std of 0.015282877877183389\n",
      "\n",
      "Velocity 0.6 with 253 samples\n",
      "Mean CoM(x) displacement of 0.1723214788245524 with a std of 0.015578643878183219\n",
      "Mean CoM(y) displacement of -0.005086691149001689 with a std of 0.0037688659024207047\n",
      "Mean CoM(yaw) displacement of -0.00011744640522126715 with a std of 0.012510806138897466\n",
      "\n",
      "Velocity 0.7000000000000001 with 250 samples\n",
      "Mean CoM(x) displacement of 0.20196974291632927 with a std of 0.016922997969538195\n",
      "Mean CoM(y) displacement of -0.004631663420410074 with a std of 0.004392500233640651\n",
      "Mean CoM(yaw) displacement of -0.0006831556966847805 with a std of 0.016699955911451462\n",
      "\n"
     ]
    }
   ],
   "source": [
    "# X displacement mean and std for each velocity\n",
    "for velocity in np.arange(0.1, 0.8, 0.1):\n",
    "    idx = np.where(np.isclose(X_motion_CoM_continuous[:, 0], velocity))[0]\n",
    "    print(f\"Velocity {velocity} with {len(idx)} samples\")\n",
    "    print(f\"Mean CoM(x) displacement of {np.mean(Y_motion_CoM_continuous[idx, 0])} with a std of {np.std(Y_motion_CoM_continuous[idx, 0])}\")\n",
    "    print(f\"Mean CoM(y) displacement of {np.mean(Y_motion_CoM_continuous[idx, 1])} with a std of {np.std(Y_motion_CoM_continuous[idx, 1])}\")\n",
    "    print(f\"Mean CoM(yaw) displacement of {np.mean(Y_motion_CoM_continuous[idx, 2])} with a std of {np.std(Y_motion_CoM_continuous[idx, 2])}\\n\")"
   ]
  },
  {
   "cell_type": "markdown",
   "id": "2b86993f-fc08-4cf5-a655-f99715448f47",
   "metadata": {},
   "source": [
    "# CK CoM displacement"
   ]
  },
  {
   "cell_type": "code",
   "execution_count": 23,
   "id": "14c10cf2-d40e-4007-8ae4-caac519ea479",
   "metadata": {},
   "outputs": [
    {
     "name": "stdout",
     "output_type": "stream",
     "text": [
      "Velocity 0.1 with 241 samples\n",
      "Mean CoM(x) displacement of 0.00025801163946501837 with a std of 0.00211926988068666\n",
      "Mean CoM(y) displacement of 0.00023555819553245717 with a std of 0.00155589215873412\n",
      "Mean CoM(yaw) displacement of -0.015031783047303232 with a std of 0.004191472236438389\n",
      "\n",
      "Velocity 0.2 with 205 samples\n",
      "Mean CoM(x) displacement of 0.000493477807934928 with a std of 0.0019820905722636537\n",
      "Mean CoM(y) displacement of 0.0006862128671813109 with a std of 0.0018750096328578407\n",
      "Mean CoM(yaw) displacement of -0.03959080727334828 with a std of 0.006753433190826002\n",
      "\n",
      "Velocity 0.30000000000000004 with 215 samples\n",
      "Mean CoM(x) displacement of 0.00039625114109239593 with a std of 0.0023472778437139954\n",
      "Mean CoM(y) displacement of 0.001008068135495922 with a std of 0.0019737622651469886\n",
      "Mean CoM(yaw) displacement of -0.06476474148880959 with a std of 0.008251320620531738\n",
      "\n",
      "Velocity 0.4 with 210 samples\n",
      "Mean CoM(x) displacement of 0.00043377415545793764 with a std of 0.0023165672184073368\n",
      "Mean CoM(y) displacement of 0.0016042819978730413 with a std of 0.002149422827569238\n",
      "Mean CoM(yaw) displacement of -0.09166571386675801 with a std of 0.008868393255886483\n",
      "\n",
      "Velocity 0.5 with 214 samples\n",
      "Mean CoM(x) displacement of 0.00027447259120341966 with a std of 0.002545306241366203\n",
      "Mean CoM(y) displacement of 0.0020325890343050527 with a std of 0.002133281823474901\n",
      "Mean CoM(yaw) displacement of -0.11840621474420335 with a std of 0.009715073849094067\n",
      "\n",
      "Velocity 0.6 with 153 samples\n",
      "Mean CoM(x) displacement of -1.6781791866010498e-05 with a std of 0.002409675277508445\n",
      "Mean CoM(y) displacement of 0.0024755174813553982 with a std of 0.001813675147609059\n",
      "Mean CoM(yaw) displacement of -0.14569539761802763 with a std of 0.011352608517430699\n",
      "\n"
     ]
    }
   ],
   "source": [
    "# X displacement mean and std for each velocity\n",
    "for velocity in np.arange(0.1, 0.7, 0.1):\n",
    "    idx = np.where(np.isclose(X_motion_CoM_continuous[:, 2], -velocity))[0]\n",
    "    print(f\"Velocity {velocity} with {len(idx)} samples\")\n",
    "    print(f\"Mean CoM(x) displacement of {np.mean(Y_motion_CoM_continuous[idx, 0])} with a std of {np.std(Y_motion_CoM_continuous[idx, 0])}\")\n",
    "    print(f\"Mean CoM(y) displacement of {np.mean(Y_motion_CoM_continuous[idx, 1])} with a std of {np.std(Y_motion_CoM_continuous[idx, 1])}\")\n",
    "    print(f\"Mean CoM(yaw) displacement of {np.mean(Y_motion_CoM_continuous[idx, 2])} with a std of {np.std(Y_motion_CoM_continuous[idx, 2])}\\n\")"
   ]
  },
  {
   "cell_type": "markdown",
   "id": "65593bcc-74c5-4e42-aad6-ba713c1f551c",
   "metadata": {},
   "source": [
    "# CCK CoM displacement"
   ]
  },
  {
   "cell_type": "code",
   "execution_count": 24,
   "id": "696c8b22-301d-40eb-a31c-04d8dadee0c0",
   "metadata": {},
   "outputs": [
    {
     "name": "stdout",
     "output_type": "stream",
     "text": [
      "Velocity 0.1 with 219 samples\n",
      "Mean CoM(x) displacement of 0.0003173681724122551 with a std of 0.0020450625964605635\n",
      "Mean CoM(y) displacement of -0.00028867752016168086 with a std of 0.0015949598532395768\n",
      "Mean CoM(yaw) displacement of 0.02585724516213308 with a std of 0.00717702615108797\n",
      "\n",
      "Velocity 0.2 with 221 samples\n",
      "Mean CoM(x) displacement of 0.0005751102634830831 with a std of 0.0021915878723287093\n",
      "Mean CoM(y) displacement of -0.0006739198406217409 with a std of 0.0018171291306067117\n",
      "Mean CoM(yaw) displacement of 0.05107768609110817 with a std of 0.008387378762542873\n",
      "\n",
      "Velocity 0.30000000000000004 with 228 samples\n",
      "Mean CoM(x) displacement of 0.0006592397905442424 with a std of 0.002519677707850756\n",
      "Mean CoM(y) displacement of -0.0012548329755954252 with a std of 0.0018958439617409466\n",
      "Mean CoM(yaw) displacement of 0.07717349508984206 with a std of 0.00865685056049785\n",
      "\n",
      "Velocity 0.4 with 200 samples\n",
      "Mean CoM(x) displacement of 0.0006897120224921611 with a std of 0.0026583306091478315\n",
      "Mean CoM(y) displacement of -0.00171651664541383 with a std of 0.0021364183710850166\n",
      "Mean CoM(yaw) displacement of 0.10319727213233229 with a std of 0.010563386016988795\n",
      "\n",
      "Velocity 0.5 with 199 samples\n",
      "Mean CoM(x) displacement of 0.0007934639279698479 with a std of 0.002505794010916147\n",
      "Mean CoM(y) displacement of -0.0023716150599368117 with a std of 0.0020727265946637757\n",
      "Mean CoM(yaw) displacement of 0.12985494782646873 with a std of 0.012042698869305583\n",
      "\n",
      "Velocity 0.6 with 200 samples\n",
      "Mean CoM(x) displacement of 0.0007244480117861739 with a std of 0.0030282087038739683\n",
      "Mean CoM(y) displacement of -0.0028433240754082378 with a std of 0.0023442470632671028\n",
      "Mean CoM(yaw) displacement of 0.15726406603751833 with a std of 0.012313123622464199\n",
      "\n"
     ]
    }
   ],
   "source": [
    "# X displacement mean and std for each velocity\n",
    "for velocity in np.arange(0.1, 0.7, 0.1):\n",
    "    idx = np.where(np.isclose(X_motion_CoM_continuous[:, 2], velocity))[0]\n",
    "    print(f\"Velocity {velocity} with {len(idx)} samples\")\n",
    "    print(f\"Mean CoM(x) displacement of {np.mean(Y_motion_CoM_continuous[idx, 0])} with a std of {np.std(Y_motion_CoM_continuous[idx, 0])}\")\n",
    "    print(f\"Mean CoM(y) displacement of {np.mean(Y_motion_CoM_continuous[idx, 1])} with a std of {np.std(Y_motion_CoM_continuous[idx, 1])}\")\n",
    "    print(f\"Mean CoM(yaw) displacement of {np.mean(Y_motion_CoM_continuous[idx, 2])} with a std of {np.std(Y_motion_CoM_continuous[idx, 2])}\\n\")"
   ]
  },
  {
   "cell_type": "markdown",
   "id": "f2cd5b6b",
   "metadata": {},
   "source": [
    "### Fwd Plot"
   ]
  },
  {
   "cell_type": "code",
   "execution_count": 25,
   "id": "c2df2b35",
   "metadata": {},
   "outputs": [
    {
     "data": {
      "image/png": "[encoded data removed]",
      "text/plain": [
       "<Figure size 432x288 with 1 Axes>"
      ]
     },
     "metadata": {
      "needs_background": "light"
     },
     "output_type": "display_data"
    }
   ],
   "source": [
    "plt.plot([0.1, 0.2, 0.3, 0.4, 0.5, 0.6, 0.7, 0.8],\n",
    "         [np.mean(Y_motion_fwd_CoM[np.where(np.isclose(X_motion_fwd_CoM[:, 0], velocity))[0], 0]) for velocity in np.arange(0.1, 0.9, 0.1)], \n",
    "         'ro')\n",
    "plt.xlabel('Velocities')\n",
    "plt.ylabel('\\u0394X CoM')\n",
    "plt.show()"
   ]
  },
  {
   "cell_type": "code",
   "execution_count": 26,
   "id": "fce2172f",
   "metadata": {},
   "outputs": [
    {
     "data": {
      "image/png": "[encoded data removed]",
      "text/plain": [
       "<Figure size 432x288 with 1 Axes>"
      ]
     },
     "metadata": {
      "needs_background": "light"
     },
     "output_type": "display_data"
    }
   ],
   "source": [
    "x = np.array([0.1, 0.2, 0.3, 0.4, 0.5, 0.6, 0.7, 0.8])\n",
    "y = np.array([np.mean(Y_motion_fwd_CoM[np.where(np.isclose(X_motion_fwd_CoM[:, 0], velocity))[0], 0]) for velocity in np.arange(0.1, 0.9, 0.1)])\n",
    "e = np.array([np.std(Y_motion_fwd_CoM[np.where(np.isclose(X_motion_fwd_CoM[:, 0], velocity))[0], 0]) for velocity in np.arange(0.1, 0.9, 0.1)])\n",
    "plt.errorbar(x, y, e, linestyle='None', marker='s')\n",
    "plt.xlabel('Velocities')\n",
    "plt.ylabel('\\u03B4X CoM')\n",
    "plt.show()"
   ]
  },
  {
   "cell_type": "markdown",
   "id": "a65ee8fd",
   "metadata": {},
   "source": [
    "### Left Plot"
   ]
  },
  {
   "cell_type": "code",
   "execution_count": 27,
   "id": "7183c3fc",
   "metadata": {},
   "outputs": [
    {
     "ename": "NameError",
     "evalue": "name 'Y_motion_side_left_CoM' is not defined",
     "output_type": "error",
     "traceback": [
      "\u001b[0;31m---------------------------------------------------------------------------\u001b[0m",
      "\u001b[0;31mNameError\u001b[0m                                 Traceback (most recent call last)",
      "Input \u001b[0;32mIn [27]\u001b[0m, in \u001b[0;36m<cell line: 1>\u001b[0;34m()\u001b[0m\n\u001b[1;32m      1\u001b[0m plt\u001b[38;5;241m.\u001b[39mplot([\u001b[38;5;241m0.1\u001b[39m, \u001b[38;5;241m0.2\u001b[39m, \u001b[38;5;241m0.3\u001b[39m, \u001b[38;5;241m0.4\u001b[39m, \u001b[38;5;241m0.5\u001b[39m, \u001b[38;5;241m0.6\u001b[39m, \u001b[38;5;241m0.7\u001b[39m, \u001b[38;5;241m0.8\u001b[39m, \u001b[38;5;241m0.9\u001b[39m],\n\u001b[0;32m----> 2\u001b[0m          [np\u001b[38;5;241m.\u001b[39mmean(Y_motion_side_left_CoM[np\u001b[38;5;241m.\u001b[39mwhere(np\u001b[38;5;241m.\u001b[39misclose(X_motion_side_left_CoM[:, \u001b[38;5;241m1\u001b[39m], velocity))[\u001b[38;5;241m0\u001b[39m], \u001b[38;5;241m1\u001b[39m]) \u001b[38;5;28;01mfor\u001b[39;00m velocity \u001b[38;5;129;01min\u001b[39;00m np\u001b[38;5;241m.\u001b[39marange(\u001b[38;5;241m0.1\u001b[39m, \u001b[38;5;241m1.0\u001b[39m, \u001b[38;5;241m0.1\u001b[39m)], \n\u001b[1;32m      3\u001b[0m          \u001b[38;5;124m'\u001b[39m\u001b[38;5;124mro\u001b[39m\u001b[38;5;124m'\u001b[39m)\n\u001b[1;32m      4\u001b[0m plt\u001b[38;5;241m.\u001b[39mxlabel(\u001b[38;5;124m'\u001b[39m\u001b[38;5;124mVelocities\u001b[39m\u001b[38;5;124m'\u001b[39m)\n\u001b[1;32m      5\u001b[0m plt\u001b[38;5;241m.\u001b[39mylabel(\u001b[38;5;124m'\u001b[39m\u001b[38;5;130;01m\\u0394\u001b[39;00m\u001b[38;5;124mY CoM\u001b[39m\u001b[38;5;124m'\u001b[39m)\n",
      "Input \u001b[0;32mIn [27]\u001b[0m, in \u001b[0;36m<listcomp>\u001b[0;34m(.0)\u001b[0m\n\u001b[1;32m      1\u001b[0m plt\u001b[38;5;241m.\u001b[39mplot([\u001b[38;5;241m0.1\u001b[39m, \u001b[38;5;241m0.2\u001b[39m, \u001b[38;5;241m0.3\u001b[39m, \u001b[38;5;241m0.4\u001b[39m, \u001b[38;5;241m0.5\u001b[39m, \u001b[38;5;241m0.6\u001b[39m, \u001b[38;5;241m0.7\u001b[39m, \u001b[38;5;241m0.8\u001b[39m, \u001b[38;5;241m0.9\u001b[39m],\n\u001b[0;32m----> 2\u001b[0m          [np\u001b[38;5;241m.\u001b[39mmean(\u001b[43mY_motion_side_left_CoM\u001b[49m[np\u001b[38;5;241m.\u001b[39mwhere(np\u001b[38;5;241m.\u001b[39misclose(X_motion_side_left_CoM[:, \u001b[38;5;241m1\u001b[39m], velocity))[\u001b[38;5;241m0\u001b[39m], \u001b[38;5;241m1\u001b[39m]) \u001b[38;5;28;01mfor\u001b[39;00m velocity \u001b[38;5;129;01min\u001b[39;00m np\u001b[38;5;241m.\u001b[39marange(\u001b[38;5;241m0.1\u001b[39m, \u001b[38;5;241m1.0\u001b[39m, \u001b[38;5;241m0.1\u001b[39m)], \n\u001b[1;32m      3\u001b[0m          \u001b[38;5;124m'\u001b[39m\u001b[38;5;124mro\u001b[39m\u001b[38;5;124m'\u001b[39m)\n\u001b[1;32m      4\u001b[0m plt\u001b[38;5;241m.\u001b[39mxlabel(\u001b[38;5;124m'\u001b[39m\u001b[38;5;124mVelocities\u001b[39m\u001b[38;5;124m'\u001b[39m)\n\u001b[1;32m      5\u001b[0m plt\u001b[38;5;241m.\u001b[39mylabel(\u001b[38;5;124m'\u001b[39m\u001b[38;5;130;01m\\u0394\u001b[39;00m\u001b[38;5;124mY CoM\u001b[39m\u001b[38;5;124m'\u001b[39m)\n",
      "\u001b[0;31mNameError\u001b[0m: name 'Y_motion_side_left_CoM' is not defined"
     ]
    }
   ],
   "source": [
    "plt.plot([0.1, 0.2, 0.3, 0.4, 0.5, 0.6, 0.7, 0.8, 0.9],\n",
    "         [np.mean(Y_motion_side_left_CoM[np.where(np.isclose(X_motion_side_left_CoM[:, 1], velocity))[0], 1]) for velocity in np.arange(0.1, 1.0, 0.1)], \n",
    "         'ro')\n",
    "plt.xlabel('Velocities')\n",
    "plt.ylabel('\\u0394Y CoM')\n",
    "plt.show()"
   ]
  },
  {
   "cell_type": "code",
   "execution_count": 19,
   "id": "6d836e3f",
   "metadata": {},
   "outputs": [
    {
     "data": {
      "image/png": "[encoded data removed]",
      "text/plain": [
       "<Figure size 432x288 with 1 Axes>"
      ]
     },
     "metadata": {
      "needs_background": "light"
     },
     "output_type": "display_data"
    }
   ],
   "source": [
    "x = np.array([0.1, 0.2, 0.3, 0.4, 0.5, 0.6, 0.7, 0.8, 0.9])\n",
    "y = np.array([np.mean(Y_motion_side_left_CoM[np.where(np.isclose(X_motion_side_left_CoM[:, 1], velocity))[0], 1]) for velocity in np.arange(0.1, 1.0, 0.1)])\n",
    "e = np.array([np.std(Y_motion_side_left_CoM[np.where(np.isclose(X_motion_side_left_CoM[:, 1], velocity))[0], 1]) for velocity in np.arange(0.1, 1.0, 0.1)])\n",
    "plt.errorbar(x, y, e, linestyle='None', marker='s')\n",
    "plt.xlabel('Velocities')\n",
    "plt.ylabel('\\u03B4Y CoM')\n",
    "plt.show()"
   ]
  },
  {
   "cell_type": "markdown",
   "id": "f4b3eb03",
   "metadata": {},
   "source": [
    "### Right Plot"
   ]
  },
  {
   "cell_type": "code",
   "execution_count": 31,
   "id": "9f156f31",
   "metadata": {},
   "outputs": [
    {
     "data": {
      "image/png": "[encoded data removed]",
      "text/plain": [
       "<Figure size 432x288 with 1 Axes>"
      ]
     },
     "metadata": {
      "needs_background": "light"
     },
     "output_type": "display_data"
    }
   ],
   "source": [
    "plt.plot([-0.1, -0.2, -0.3, -0.4, -0.5, -0.6, -0.7, -0.8, -0.9],\n",
    "         [np.mean(Y_motion_side_right_CoM[np.where(np.isclose(X_motion_side_right_CoM[:, 1], -velocity))[0], 1]) for velocity in np.arange(0.1, 1.0, 0.1)], \n",
    "         'ro')\n",
    "plt.xlabel('Velocities')\n",
    "plt.ylabel('\\u0394Y CoM')\n",
    "plt.show()"
   ]
  },
  {
   "cell_type": "code",
   "execution_count": 32,
   "id": "346959e4",
   "metadata": {},
   "outputs": [
    {
     "data": {
      "image/png": "[encoded data removed]",
      "text/plain": [
       "<Figure size 432x288 with 1 Axes>"
      ]
     },
     "metadata": {
      "needs_background": "light"
     },
     "output_type": "display_data"
    }
   ],
   "source": [
    "x = np.array([-0.1, -0.2, -0.3, -0.4, -0.5, -0.6, -0.7, -0.8, -0.9])\n",
    "y = np.array([np.mean(Y_motion_side_right_CoM[np.where(np.isclose(X_motion_side_right_CoM[:, 1], -velocity))[0], 1]) for velocity in np.arange(0.1, 1.0, 0.1)])\n",
    "e = np.array([np.std(Y_motion_side_right_CoM[np.where(np.isclose(X_motion_side_right_CoM[:, 1], -velocity))[0], 1]) for velocity in np.arange(0.1, 1.0, 0.1)])\n",
    "plt.errorbar(x, y, e, linestyle='None', marker='s')\n",
    "plt.xlabel('Velocities')\n",
    "plt.ylabel('\\u03B4Y CoM')\n",
    "plt.show()"
   ]
  },
  {
   "cell_type": "markdown",
   "id": "1704333f",
   "metadata": {},
   "source": [
    "### Clock Plot"
   ]
  },
  {
   "cell_type": "code",
   "execution_count": 28,
   "id": "d21f3794",
   "metadata": {},
   "outputs": [
    {
     "data": {
      "image/png": "[encoded data removed]",
      "text/plain": [
       "<Figure size 432x288 with 1 Axes>"
      ]
     },
     "metadata": {
      "needs_background": "light"
     },
     "output_type": "display_data"
    }
   ],
   "source": [
    "plt.plot([-0.1, -0.2, -0.3, -0.4, -0.5, -0.6, -0.7, -0.8, -0.9],\n",
    "         [np.mean(Y_motion_clock_CoM[np.where(np.isclose(X_motion_clock_CoM[:, 2], -velocity))[0], 2]) for velocity in np.arange(0.1, 1.0, 0.1)], \n",
    "         'ro')\n",
    "plt.xlabel('Velocities')\n",
    "plt.ylabel('\\u0394\\u03B8 CoM')\n",
    "plt.show()"
   ]
  },
  {
   "cell_type": "code",
   "execution_count": 29,
   "id": "a2eea505",
   "metadata": {},
   "outputs": [
    {
     "data": {
      "image/png": "[encoded data removed]",
      "text/plain": [
       "<Figure size 432x288 with 1 Axes>"
      ]
     },
     "metadata": {
      "needs_background": "light"
     },
     "output_type": "display_data"
    }
   ],
   "source": [
    "x = np.array([-0.1, -0.2, -0.3, -0.4, -0.5, -0.6, -0.7, -0.8, -0.9])\n",
    "y = np.array([np.mean(Y_motion_clock_CoM[np.where(np.isclose(X_motion_clock_CoM[:, 2], -velocity))[0], 2]) for velocity in np.arange(0.1, 1.0, 0.1)])\n",
    "e = np.array([np.std(Y_motion_clock_CoM[np.where(np.isclose(X_motion_clock_CoM[:, 2], -velocity))[0], 2]) for velocity in np.arange(0.1, 1.0, 0.1)])\n",
    "plt.errorbar(x, y, e, linestyle='None', marker='s')\n",
    "plt.xlabel('Velocities')\n",
    "plt.ylabel('\\u03B4Y CoM')\n",
    "plt.show()"
   ]
  },
  {
   "cell_type": "markdown",
   "id": "976a30b0",
   "metadata": {},
   "source": [
    "### Count Plot"
   ]
  },
  {
   "cell_type": "code",
   "execution_count": 30,
   "id": "80aaf962",
   "metadata": {},
   "outputs": [
    {
     "data": {
      "image/png": "[encoded data removed]",
      "text/plain": [
       "<Figure size 432x288 with 1 Axes>"
      ]
     },
     "metadata": {
      "needs_background": "light"
     },
     "output_type": "display_data"
    }
   ],
   "source": [
    "plt.plot([0.1, 0.2, 0.3, 0.4, 0.5],\n",
    "         [np.mean(Y_motion_count_CoM[np.where(np.isclose(X_motion_count_CoM[:, 2], velocity))[0], 2]) for velocity in np.arange(0.1, 0.6, 0.1)], \n",
    "         'ro')\n",
    "plt.xlabel('Velocities')\n",
    "plt.ylabel('\\u0394\\u03B8 CoM')\n",
    "plt.show()"
   ]
  },
  {
   "cell_type": "code",
   "execution_count": 31,
   "id": "71e95f20",
   "metadata": {},
   "outputs": [
    {
     "data": {
      "image/png": "[encoded data removed]",
      "text/plain": [
       "<Figure size 432x288 with 1 Axes>"
      ]
     },
     "metadata": {
      "needs_background": "light"
     },
     "output_type": "display_data"
    }
   ],
   "source": [
    "x = np.array([0.1, 0.2, 0.3, 0.4, 0.5])\n",
    "y = np.array([np.mean(Y_motion_count_CoM[np.where(np.isclose(X_motion_count_CoM[:, 2], velocity))[0], 2]) for velocity in np.arange(0.1, 0.6, 0.1)])\n",
    "e = np.array([np.std(Y_motion_count_CoM[np.where(np.isclose(X_motion_count_CoM[:, 2], velocity))[0], 2]) for velocity in np.arange(0.1, 0.6, 0.1)])\n",
    "plt.errorbar(x, y, e, linestyle='None', marker='s')\n",
    "plt.xlabel('Velocities')\n",
    "plt.ylabel('\\u03B4Y CoM')\n",
    "plt.show()"
   ]
  },
  {
   "cell_type": "markdown",
   "id": "e615862e",
   "metadata": {},
   "source": [
    "## Forwad Check"
   ]
  },
  {
   "cell_type": "code",
   "execution_count": 32,
   "id": "f032b9e5",
   "metadata": {},
   "outputs": [
    {
     "name": "stdout",
     "output_type": "stream",
     "text": [
      "Min displacement: 0.014050214716398557. Max displacement: 0.28447556778137795\n"
     ]
    }
   ],
   "source": [
    "print(f\"Min displacement: {min(Y_motion_fwd_CoM[:, 0])}. Max displacement: {max(Y_motion_fwd_CoM[:, 0])}\")"
   ]
  },
  {
   "cell_type": "markdown",
   "id": "472c7324",
   "metadata": {},
   "source": [
    "## Clockwise Check"
   ]
  },
  {
   "cell_type": "code",
   "execution_count": 33,
   "id": "617075fb",
   "metadata": {},
   "outputs": [
    {
     "name": "stdout",
     "output_type": "stream",
     "text": [
      "Min displacement: -0.17573920561052958. Max displacement: 0.009805246739182039\n"
     ]
    }
   ],
   "source": [
    "print(f\"Min displacement: {min(Y_motion_clock_CoM[:, 2])}. Max displacement: {max(Y_motion_clock_CoM[:, 2])}\")"
   ]
  },
  {
   "cell_type": "markdown",
   "id": "dcf31447",
   "metadata": {},
   "source": [
    "## Counter Check"
   ]
  },
  {
   "cell_type": "code",
   "execution_count": 35,
   "id": "a6980911",
   "metadata": {},
   "outputs": [
    {
     "name": "stdout",
     "output_type": "stream",
     "text": [
      "Min displacement: -0.0031576260081980223. Max displacement: 0.1886456775168024\n"
     ]
    }
   ],
   "source": [
    "print(f\"Min displacement: {min(Y_motion_count_CoM[:, 2])}. Max displacement: {max(Y_motion_count_CoM[:, 2])}\")"
   ]
  },
  {
   "cell_type": "markdown",
   "id": "5a21ace6",
   "metadata": {},
   "source": [
    "## Left Check"
   ]
  },
  {
   "cell_type": "code",
   "execution_count": 23,
   "id": "b8552df8",
   "metadata": {},
   "outputs": [
    {
     "name": "stdout",
     "output_type": "stream",
     "text": [
      "Min displacement: 0.007853730130729542. Max displacement: 0.09715947318711393\n"
     ]
    }
   ],
   "source": [
    "print(f\"Min displacement: {min(Y_motion_side_left_CoM[:, 1])}. Max displacement: {max(Y_motion_side_left_CoM[:, 1])}\")"
   ]
  },
  {
   "cell_type": "markdown",
   "id": "b787ba03",
   "metadata": {},
   "source": [
    "## Right Check"
   ]
  },
  {
   "cell_type": "code",
   "execution_count": 24,
   "id": "e78f643c",
   "metadata": {},
   "outputs": [
    {
     "name": "stdout",
     "output_type": "stream",
     "text": [
      "Min displacement: -0.0944799924815003. Max displacement: -0.010731300881279493\n"
     ]
    }
   ],
   "source": [
    "print(f\"Min displacement: {min(Y_motion_side_right_CoM[:, 1])}. Max displacement: {max(Y_motion_side_right_CoM[:, 1])}\")"
   ]
  },
  {
   "cell_type": "code",
   "execution_count": null,
   "id": "9f529fe3",
   "metadata": {},
   "outputs": [],
   "source": []
  }
 ],
 "metadata": {
  "kernelspec": {
   "display_name": "Python 3 (ipykernel)",
   "language": "python",
   "name": "python3"
  },
  "language_info": {
   "codemirror_mode": {
    "name": "ipython",
    "version": 3
   },
   "file_extension": ".py",
   "mimetype": "text/x-python",
   "name": "python",
   "nbconvert_exporter": "python",
   "pygments_lexer": "ipython3",
   "version": "3.8.10"
  }
 },
 "nbformat": 4,
 "nbformat_minor": 5
}
