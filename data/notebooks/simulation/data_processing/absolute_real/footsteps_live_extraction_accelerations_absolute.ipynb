{
 "cells": [
  {
   "cell_type": "code",
   "execution_count": 1,
   "id": "d9a5959a",
   "metadata": {},
   "outputs": [],
   "source": [
    "#!/usr/bin/env python3.6\n",
    "# -*- coding: utf-8 -*-"
   ]
  },
  {
   "cell_type": "code",
   "execution_count": 2,
   "id": "ac7c32d9",
   "metadata": {},
   "outputs": [],
   "source": [
    "# Imports\n",
    "import sys\n",
    "import math\n",
    "import numpy as np\n",
    "from matplotlib import animation\n",
    "from IPython.display import HTML\n",
    "from matplotlib import pyplot as plt\n",
    "plt.rcParams['animation.ffmpeg_path'] = '/usr/bin/ffmpeg'\n",
    "import mpl_toolkits.mplot3d.axes3d as p3"
   ]
  },
  {
   "cell_type": "code",
   "execution_count": 3,
   "id": "64e0949c",
   "metadata": {},
   "outputs": [],
   "source": [
    "np.random.seed(20)\n",
    "np.set_printoptions(threshold=sys.maxsize)"
   ]
  },
  {
   "cell_type": "code",
   "execution_count": 4,
   "id": "aa749236",
   "metadata": {},
   "outputs": [],
   "source": [
    "%matplotlib inline"
   ]
  },
  {
   "cell_type": "markdown",
   "id": "61767ee3",
   "metadata": {},
   "source": [
    "# Data"
   ]
  },
  {
   "cell_type": "code",
   "execution_count": 48,
   "id": "68120c9a",
   "metadata": {},
   "outputs": [],
   "source": [
    "# Read data\n",
    "path = '../../../../data.csv'\n",
    "motion = np.genfromtxt(path, delimiter=',', dtype=np.float64)\n",
    "contacts = np.genfromtxt(path, delimiter=',', usecols=(31, 32), dtype=bool)"
   ]
  },
  {
   "cell_type": "code",
   "execution_count": 49,
   "id": "1ce2aed0",
   "metadata": {},
   "outputs": [
    {
     "name": "stdout",
     "output_type": "stream",
     "text": [
      "(7397, 33)\n"
     ]
    }
   ],
   "source": [
    "print(motion.shape)"
   ]
  },
  {
   "cell_type": "markdown",
   "id": "adc073d2",
   "metadata": {},
   "source": [
    "# Dataset Preparation"
   ]
  },
  {
   "cell_type": "code",
   "execution_count": 50,
   "id": "29da014b",
   "metadata": {},
   "outputs": [],
   "source": [
    "import sklearn\n",
    "from sklearn.linear_model import LinearRegression\n",
    "from sklearn.model_selection import train_test_split"
   ]
  },
  {
   "cell_type": "code",
   "execution_count": 51,
   "id": "6ce417dc-9b1b-4cbc-a946-f415055ce7c5",
   "metadata": {},
   "outputs": [],
   "source": [
    "def yaw_from_quaternion(Q):\n",
    "    \"\"\"\n",
    "    Covert a quaternion into a full three-dimensional rotation matrix.\n",
    " \n",
    "    Input\n",
    "    :param Q: A 4 element array representing the quaternion (q0,q1,q2,q3) \n",
    " \n",
    "    Output\n",
    "    :return: A 3x3 element matrix representing the full 3D rotation matrix. \n",
    "             This rotation matrix converts a point in the local reference \n",
    "             frame to a point in the global reference frame.\n",
    "    \"\"\"\n",
    "    # Extract the values from Q\n",
    "    x = Q[0]\n",
    "    y = Q[1]\n",
    "    z = Q[2]\n",
    "    w = Q[3]\n",
    "     \n",
    "    return np.arctan2(2 * (w*z + x*y), 1 - 2 * (y*y + z*z))"
   ]
  },
  {
   "cell_type": "code",
   "execution_count": 52,
   "id": "eb9bdb87",
   "metadata": {},
   "outputs": [],
   "source": [
    "def quaternion_rotation_matrix(Q):\n",
    "    \"\"\"\n",
    "    Covert a quaternion into a full three-dimensional rotation matrix.\n",
    " \n",
    "    Input\n",
    "    :param Q: A 4 element array representing the quaternion (q0,q1,q2,q3) \n",
    " \n",
    "    Output\n",
    "    :return: A 3x3 element matrix representing the full 3D rotation matrix. \n",
    "             This rotation matrix converts a point in the local reference \n",
    "             frame to a point in the global reference frame.\n",
    "    \"\"\"\n",
    "    # Extract the values from Q\n",
    "    q0 = Q[3]\n",
    "    q1 = Q[0]\n",
    "    q2 = Q[1]\n",
    "    q3 = Q[2]\n",
    "     \n",
    "    # First row of the rotation matrix\n",
    "    r00 = 2 * (q0 * q0 + q1 * q1) - 1\n",
    "    r01 = 2 * (q1 * q2 - q0 * q3)\n",
    "    r02 = 2 * (q1 * q3 + q0 * q2)\n",
    "     \n",
    "    # Second row of the rotation matrix\n",
    "    r10 = 2 * (q1 * q2 + q0 * q3)\n",
    "    r11 = 2 * (q0 * q0 + q2 * q2) - 1\n",
    "    r12 = 2 * (q2 * q3 - q0 * q1)\n",
    "     \n",
    "    # Third row of the rotation matrix\n",
    "    r20 = 2 * (q1 * q3 - q0 * q2)\n",
    "    r21 = 2 * (q2 * q3 + q0 * q1)\n",
    "    r22 = 2 * (q0 * q0 + q3 * q3) - 1\n",
    "     \n",
    "    # 3x3 rotation matrix\n",
    "    rot_matrix = np.array([[r00, r01, r02],\n",
    "                           [r10, r11, r12],\n",
    "                           [r20, r21, r22]])\n",
    "                            \n",
    "    return rot_matrix"
   ]
  },
  {
   "cell_type": "code",
   "execution_count": 54,
   "id": "07edd25c",
   "metadata": {},
   "outputs": [
    {
     "name": "stdout",
     "output_type": "stream",
     "text": [
      "(7395, 23)\n",
      "(7395, 4)\n"
     ]
    }
   ],
   "source": [
    "def get_accelerations_footstep_dataset(dataset, footsteps, debug=False):\n",
    "    idx = 1\n",
    "    inputs = []\n",
    "    labels = []\n",
    "    \n",
    "    while idx < len(footsteps):\n",
    "        if idx > 0:\n",
    "            # Compute time difference between footsteps\n",
    "            time_difference = abs(dataset[footsteps[idx], 0] - dataset[footsteps[idx-1], 0])\n",
    "            \n",
    "            # Round velocity array\n",
    "            dataset[footsteps[idx-1], 1:4] = np.round(dataset[footsteps[idx-1], 1:4], 1)\n",
    "            dataset[footsteps[idx], 1:4] = np.round(dataset[footsteps[idx], 1:4], 1)\n",
    "            \n",
    "            if time_difference < 0.4:\n",
    "                fl_rr_moving = contacts[footsteps[idx], 0]\n",
    "                fr_rl_moving = contacts[footsteps[idx], 1]\n",
    "                \n",
    "                if fl_rr_moving == fr_rl_moving:\n",
    "                    print(\"Invalid footstep\")\n",
    "                    idx += 1\n",
    "                    continue\n",
    "                    \n",
    "                # Rotation matrices\n",
    "                R_curr = np.array([[dataset[footsteps[idx], 22], dataset[footsteps[idx], 23], dataset[footsteps[idx], 24]], \n",
    "                                   [dataset[footsteps[idx], 25], dataset[footsteps[idx], 26], dataset[footsteps[idx], 27]], \n",
    "                                   [dataset[footsteps[idx], 28], dataset[footsteps[idx], 29], dataset[footsteps[idx], 30]]])\n",
    "                R_prev = np.array([[dataset[footsteps[idx-1], 22], dataset[footsteps[idx-1], 23], dataset[footsteps[idx-1], 24]], \n",
    "                                   [dataset[footsteps[idx-1], 25], dataset[footsteps[idx-1], 26], dataset[footsteps[idx-1], 27]], \n",
    "                                   [dataset[footsteps[idx-1], 28], dataset[footsteps[idx-1], 29], dataset[footsteps[idx-1], 30]]])\n",
    "\n",
    "                # Retrieve base poses in world frame\n",
    "                prev_base = dataset[footsteps[idx-1], 16:19]\n",
    "                curr_base = dataset[footsteps[idx], 16:19]\n",
    "\n",
    "                # Compute base displacement\n",
    "                world_displacement = curr_base - prev_base\n",
    "                base_displacement = np.dot(R_curr.T, world_displacement)\n",
    "                \n",
    "                # Compute prev feet poses w.r.t the base\n",
    "                prev_fl_pose_base = np.dot(R_prev.T, dataset[footsteps[idx-1], 4:7] - prev_base)\n",
    "                prev_fr_pose_base = np.dot(R_prev.T, dataset[footsteps[idx-1], 7:10] - prev_base)\n",
    "                prev_rl_pose_base = np.dot(R_prev.T, dataset[footsteps[idx-1], 10:13] - prev_base)\n",
    "                prev_rr_pose_base = np.dot(R_prev.T, dataset[footsteps[idx-1], 13:16] - prev_base)\n",
    "                prev_feet_poses_base = prev_fl_pose_base.tolist() + \\\n",
    "                                       prev_fr_pose_base.tolist() + \\\n",
    "                                       prev_rl_pose_base.tolist() + \\\n",
    "                                       prev_rr_pose_base.tolist()\n",
    "                \n",
    "                # Compute curr feet poses w.r.t the base\n",
    "                curr_fl_pose_base = np.dot(R_curr.T, dataset[footsteps[idx], 4:7] - curr_base)\n",
    "                curr_fr_pose_base = np.dot(R_curr.T, dataset[footsteps[idx], 7:10] - curr_base)\n",
    "                curr_rl_pose_base = np.dot(R_curr.T, dataset[footsteps[idx], 10:13] - curr_base)\n",
    "                curr_rr_pose_base = np.dot(R_curr.T, dataset[footsteps[idx], 13:16] - curr_base)\n",
    "\n",
    "                inputs.append(dataset[footsteps[idx-1], 1:4].tolist() + # previous cmd\n",
    "                              dataset[footsteps[idx], 1:4].tolist() + # current cmd\n",
    "                              dataset[footsteps[idx-1], 19:22].tolist() + # current velocity\n",
    "                              prev_feet_poses_base + # feet position w.r.t CoM\n",
    "                              [fl_rr_moving, fr_rl_moving]) # swiging booleans\n",
    "                \n",
    "                if fl_rr_moving:                    \n",
    "                    fl_displacement = (curr_fl_pose_base - prev_fl_pose_base)\n",
    "                    rr_displacement = (curr_rr_pose_base - prev_rr_pose_base)\n",
    "                    labels.append([fl_displacement[0], fl_displacement[1], rr_displacement[0], rr_displacement[1]])\n",
    "                else:\n",
    "                    fr_displacement = (curr_fr_pose_base - prev_fr_pose_base)\n",
    "                    rl_displacement = (curr_rl_pose_base - prev_rl_pose_base)\n",
    "                    labels.append([fr_displacement[0], fr_displacement[1], rl_displacement[0], rl_displacement[1]])\n",
    "            \n",
    "        idx += 1\n",
    "        \n",
    "    # Convert to numpy array\n",
    "    inputs_numpy = np.array(inputs)\n",
    "    labels_numpy = np.array(labels)\n",
    "    \n",
    "    return inputs_numpy, labels_numpy\n",
    "\n",
    "# Stack datasets\n",
    "X_footsteps_accelerations_absolute, Y_footsteps_accelerations_absolute = get_accelerations_footstep_dataset(motion, np.array([x for x in range(len(motion))]))\n",
    "\n",
    "# Log\n",
    "print(X_footsteps_accelerations_absolute.shape)\n",
    "print(Y_footsteps_accelerations_absolute.shape)"
   ]
  },
  {
   "cell_type": "code",
   "execution_count": 55,
   "id": "2f407634",
   "metadata": {},
   "outputs": [
    {
     "name": "stdout",
     "output_type": "stream",
     "text": [
      "Stored 'X_footsteps_accelerations_absolute' (ndarray)\n",
      "Stored 'Y_footsteps_accelerations_absolute' (ndarray)\n"
     ]
    }
   ],
   "source": [
    "%store X_footsteps_accelerations_absolute\n",
    "%store Y_footsteps_accelerations_absolute"
   ]
  },
  {
   "cell_type": "code",
   "execution_count": 56,
   "id": "917dd038-78f7-4ad9-ba7d-24e8d1e1f965",
   "metadata": {},
   "outputs": [],
   "source": [
    "dic = dict()\n",
    "for x in range(len(X_footsteps_accelerations_absolute)):\n",
    "    key = str(round(X_footsteps_accelerations_absolute[x, 0], 1)) + str(round(X_footsteps_accelerations_absolute[x, 3], 1))\n",
    "    if key in dic:\n",
    "        dic[key][0].append(Y_footsteps_accelerations_absolute[x, 0])\n",
    "        dic[key][1].append(X_footsteps_accelerations_absolute[x, 6])\n",
    "        dic[key][2].append((X_footsteps_accelerations_absolute[x, 10],\n",
    "                            X_footsteps_accelerations_absolute[x, 13]))\n",
    "    else:\n",
    "        dic[key] = [[Y_footsteps_accelerations_absolute[x, 0]], \n",
    "                    [X_footsteps_accelerations_absolute[x, 6]],\n",
    "                    [(X_footsteps_accelerations_absolute[x, 10],\n",
    "                      X_footsteps_accelerations_absolute[x, 13])]]\n"
   ]
  },
  {
   "cell_type": "code",
   "execution_count": 39,
   "id": "4bf7fd05-ff9b-4cfd-82bc-5ec2ab6f9550",
   "metadata": {},
   "outputs": [],
   "source": [
    "#for key in dic.keys():\n",
    "#    #print(f\"{key[:3]} -> {key[3:]}. Mean: {np.round(np.mean(dic[key][0]), 4)}. Std: {np.round(np.std(dic[key][0]), 3)}.\")\n",
    "#    if float(key[:3]) == 1.0 and float(key[3:]) == 1.0:\n",
    "#        for x in range(len(dic[key][0])):\n",
    "#            print(f\"Actual velocity: {dic[key][1][x]}. Displacement: {dic[key][0][x]}\")"
   ]
  },
  {
   "cell_type": "code",
   "execution_count": 40,
   "id": "0b91c103-4c1f-4840-8b3a-14e0e3803db8",
   "metadata": {},
   "outputs": [],
   "source": [
    "#for key in dic.keys():\n",
    "#    print(f\"Prev: {key[:3]}. Actual: {key[3:]}. \\n\\nDisp: {dic[key]}\\n\\n.\")"
   ]
  },
  {
   "cell_type": "code",
   "execution_count": 41,
   "id": "ae9488ea",
   "metadata": {},
   "outputs": [],
   "source": [
    "#for x in range(len(X_footsteps_accelerations_absolute)):\n",
    "#    print(f\"{X_footsteps_accelerations_absolute[x, 0]} -> {X_footsteps_accelerations_absolute[x, 3]}. Step: {np.round(Y_footsteps_accelerations_absolute[x, 0], 2)}. CoM: {np.round(X_footsteps_accelerations_absolute[x, -5:-4], 2)}. FL: {np.round(X_footsteps_accelerations_absolute[x, 10], 3)}. FR: {np.round(X_footsteps_accelerations_absolute[x, 13], 3)}. RL: {np.round(X_footsteps_accelerations_absolute[x, 16], 3)}. RR: {np.round(X_footsteps_accelerations_absolute[x, 19], 3)}\")"
   ]
  },
  {
   "cell_type": "code",
   "execution_count": 42,
   "id": "691d0d22-2742-4380-8c4c-7a6c0d41f35c",
   "metadata": {},
   "outputs": [
    {
     "name": "stdout",
     "output_type": "stream",
     "text": [
      "0.0 -> 0.0. Mean: -0.001. Std: 0.011\n",
      "0.1 -> 0.1. Mean: 0.025. Std: 0.003\n",
      "0.2 -> 0.2. Mean: 0.045. Std: 0.004\n",
      "0.3 -> 0.3. Mean: 0.065. Std: 0.005\n",
      "0.4 -> 0.4. Mean: 0.088. Std: 0.007\n",
      "0.5 -> 0.5. Mean: 0.11. Std: 0.009\n",
      "0.6 -> 0.6. Mean: 0.13. Std: 0.012\n",
      "0.7 -> 0.7. Mean: 0.152. Std: 0.012\n",
      "0.8 -> 0.8. Mean: 0.181. Std: 0.015\n",
      "0.9 -> 0.9. Mean: 0.21. Std: 0.016\n",
      "1.0 -> 1.0. Mean: 0.233. Std: 0.016\n",
      "1.1 -> 1.1. Mean: 0.251. Std: 0.022\n"
     ]
    },
    {
     "data": {
      "text/plain": [
       "<ErrorbarContainer object of 3 artists>"
      ]
     },
     "execution_count": 42,
     "metadata": {},
     "output_type": "execute_result"
    },
    {
     "data": {
      "image/png": "[encoded data removed]",
      "text/plain": [
       "<Figure size 640x480 with 1 Axes>"
      ]
     },
     "metadata": {},
     "output_type": "display_data"
    }
   ],
   "source": [
    "x, y, e = [], [], []\n",
    "\n",
    "for vel in np.round(np.arange(0.0, 1.2, 0.1), 2):\n",
    "    start = vel\n",
    "    key = str(start)+str(vel)\n",
    "    print(f\"{start} -> {vel}. Mean: {np.round(np.mean(dic[key][0]), 3)}. Std: {np.round(np.std(dic[key][0]), 3)}\")\n",
    "    x.append(vel)\n",
    "    y.append(float(np.mean(dic[key][0])))\n",
    "    e.append(float(np.std(dic[key][0])))\n",
    "\n",
    "plt.errorbar(x, y, e, linestyle='None', marker='^')"
   ]
  },
  {
   "cell_type": "code",
   "execution_count": null,
   "id": "c631e353-db72-4ae1-b174-d06a40341bb3",
   "metadata": {},
   "outputs": [],
   "source": []
  }
 ],
 "metadata": {
  "kernelspec": {
   "display_name": "Python 3 (ipykernel)",
   "language": "python",
   "name": "python3"
  },
  "language_info": {
   "codemirror_mode": {
    "name": "ipython",
    "version": 3
   },
   "file_extension": ".py",
   "mimetype": "text/x-python",
   "name": "python",
   "nbconvert_exporter": "python",
   "pygments_lexer": "ipython3",
   "version": "3.10.6"
  }
 },
 "nbformat": 4,
 "nbformat_minor": 5
}
