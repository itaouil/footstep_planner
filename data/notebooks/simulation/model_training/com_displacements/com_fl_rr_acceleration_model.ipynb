{
 "cells": [
  {
   "cell_type": "code",
   "execution_count": 1,
   "id": "990723ff",
   "metadata": {},
   "outputs": [],
   "source": [
    "#!/usr/bin/env python3.6\n",
    "# -*- coding: utf-8 -*-"
   ]
  },
  {
   "cell_type": "code",
   "execution_count": 2,
   "id": "f2b793b5",
   "metadata": {},
   "outputs": [],
   "source": [
    "# Imports\n",
    "import sys\n",
    "import copy\n",
    "import joblib\n",
    "import numpy as np\n",
    "from math import atan2\n",
    "from matplotlib import animation\n",
    "from IPython.display import HTML\n",
    "from matplotlib import pyplot as plt\n",
    "import mpl_toolkits.mplot3d.axes3d as p3"
   ]
  },
  {
   "cell_type": "code",
   "execution_count": 3,
   "id": "1d27ece1",
   "metadata": {},
   "outputs": [],
   "source": [
    "#np.random.seed(20)\n",
    "np.set_printoptions(threshold=sys.maxsize)"
   ]
  },
  {
   "cell_type": "code",
   "execution_count": 4,
   "id": "a26d8f1b",
   "metadata": {},
   "outputs": [],
   "source": [
    "%matplotlib inline"
   ]
  },
  {
   "cell_type": "code",
   "execution_count": 5,
   "id": "7141f038",
   "metadata": {},
   "outputs": [
    {
     "name": "stdout",
     "output_type": "stream",
     "text": [
      "(7395, 23)\n",
      "(7395, 1)\n"
     ]
    }
   ],
   "source": [
    "%store -r X_motion_CoM_acceleration\n",
    "%store -r Y_motion_CoM_acceleration\n",
    "print(X_motion_CoM_acceleration.shape)\n",
    "print(Y_motion_CoM_acceleration.shape)"
   ]
  },
  {
   "cell_type": "markdown",
   "id": "21382b0e",
   "metadata": {},
   "source": [
    "# Multivariate Linear Regression (Foot prediction)"
   ]
  },
  {
   "cell_type": "code",
   "execution_count": 6,
   "id": "15094999",
   "metadata": {},
   "outputs": [],
   "source": [
    "import sklearn\n",
    "from sklearn import metrics\n",
    "from sklearn.feature_selection import RFE\n",
    "from sklearn.model_selection import KFold\n",
    "from sklearn.linear_model import LinearRegression\n",
    "from sklearn.model_selection import train_test_split\n",
    "from sklearn.preprocessing import PolynomialFeatures \n",
    "from sklearn.model_selection import cross_val_score, cross_val_predict\n",
    "from sklearn.metrics import mean_squared_error, mean_absolute_error, r2_score"
   ]
  },
  {
   "cell_type": "code",
   "execution_count": 7,
   "id": "a4843f9c",
   "metadata": {},
   "outputs": [],
   "source": [
    "# Entries where FL foot is swinging\n",
    "idx_fl_rr_swinging = np.where(X_motion_CoM_acceleration[:, -2] == 1)[0]\n",
    "X_motion_CoM_acceleration_FL_RR = X_motion_CoM_acceleration[idx_fl_rr_swinging]\n",
    "Y_motion_CoM_acceleration_FL_RR = Y_motion_CoM_acceleration[idx_fl_rr_swinging]"
   ]
  },
  {
   "cell_type": "code",
   "execution_count": 8,
   "id": "f39d4685",
   "metadata": {},
   "outputs": [
    {
     "data": {
      "text/plain": [
       "(3698,)"
      ]
     },
     "execution_count": 8,
     "metadata": {},
     "output_type": "execute_result"
    }
   ],
   "source": [
    "idx_fl_rr_swinging.shape"
   ]
  },
  {
   "cell_type": "markdown",
   "id": "e68e7e44",
   "metadata": {},
   "source": [
    "## Predict CoM -> x"
   ]
  },
  {
   "cell_type": "code",
   "execution_count": 9,
   "id": "10c10900",
   "metadata": {},
   "outputs": [
    {
     "data": {
      "text/plain": [
       "array([0.1, 0.0, 0.0, 0.1, 0.0, 0.0, 0.08211927296688538,\n",
       "       -0.006190249900498238, 0.004897310096421506, 0.23448798276244606,\n",
       "       0.12098631919533982, -0.3137060426867018, 0.26968373256762473,\n",
       "       -0.13223646069879796, -0.26779937819670413, -0.2529431561992731,\n",
       "       0.137068249222371, -0.271737754407289, -0.2829489817038638,\n",
       "       -0.12839868699316448, -0.31333760531450466, True, False],\n",
       "      dtype=object)"
      ]
     },
     "execution_count": 9,
     "metadata": {},
     "output_type": "execute_result"
    }
   ],
   "source": [
    "X_motion_CoM_acceleration_FL_RR[0]"
   ]
  },
  {
   "cell_type": "code",
   "execution_count": 10,
   "id": "54d9d673",
   "metadata": {},
   "outputs": [
    {
     "data": {
      "text/plain": [
       "array([0.08361987936659881], dtype=object)"
      ]
     },
     "execution_count": 10,
     "metadata": {},
     "output_type": "execute_result"
    }
   ],
   "source": [
    "Y_motion_CoM_acceleration_FL_RR[0, :]"
   ]
  },
  {
   "cell_type": "markdown",
   "id": "f8ad920d",
   "metadata": {},
   "source": [
    "### Linear Regression"
   ]
  },
  {
   "cell_type": "code",
   "execution_count": 11,
   "id": "291facef-ffdc-4749-9f30-412897214ef2",
   "metadata": {},
   "outputs": [],
   "source": [
    "def find_best_model(X, Y, runs=5000):\n",
    "    best_model = None\n",
    "    lowest_error = 100\n",
    "    best_Xtr, best_Xte, best_Ytr, best_Yte = None, None, None, None\n",
    "    \n",
    "    for _ in range(runs):\n",
    "        X_train, X_test, Y_train, Y_test = train_test_split(X, Y, train_size = 0.9, shuffle=True)\n",
    "        \n",
    "        model = LinearRegression()\n",
    "        model.fit(X_train, Y_train)\n",
    "\n",
    "        predictions = model.predict(X_test)\n",
    "        error = np.max(np.abs(predictions - Y_test))\n",
    "\n",
    "        if error < lowest_error:\n",
    "            best_model = model\n",
    "            lowest_error = error\n",
    "            best_Xtr, best_Xte, best_Ytr, best_Yte = X_train, X_test, Y_train, Y_test\n",
    "\n",
    "    # Stats\n",
    "    predictions = best_model.predict(best_Xte)\n",
    "    print('R2: ', r2_score(predictions, best_Yte))\n",
    "    print('RMSE: ', np.sqrt(mean_squared_error(best_Yte, predictions)))\n",
    "    print(\"The lowest error is: \", np.min(np.abs(predictions - best_Yte)))\n",
    "    print(\"The highest error is: \", np.max(np.abs(predictions - best_Yte)))\n",
    "    print(\"The avg. error is: \", np.mean(np.abs(predictions - best_Yte)))\n",
    "    \n",
    "    return best_Xte, best_Yte, predictions, best_model"
   ]
  },
  {
   "cell_type": "code",
   "execution_count": 12,
   "id": "521a5486-55e4-495c-a797-e4e62ddc2d2e",
   "metadata": {},
   "outputs": [
    {
     "data": {
      "text/plain": [
       "array([0.1, 0.0, 0.0, 0.1, 0.0, 0.0, 0.08211927296688538,\n",
       "       -0.006190249900498238, 0.004897310096421506, 0.23448798276244606,\n",
       "       0.12098631919533982, -0.3137060426867018, 0.26968373256762473,\n",
       "       -0.13223646069879796, -0.26779937819670413, -0.2529431561992731,\n",
       "       0.137068249222371, -0.271737754407289, -0.2829489817038638,\n",
       "       -0.12839868699316448, -0.31333760531450466, True, False],\n",
       "      dtype=object)"
      ]
     },
     "execution_count": 12,
     "metadata": {},
     "output_type": "execute_result"
    }
   ],
   "source": [
    "X_motion_CoM_acceleration_FL_RR[0]"
   ]
  },
  {
   "cell_type": "code",
   "execution_count": 13,
   "id": "5ef1ccde",
   "metadata": {},
   "outputs": [
    {
     "name": "stdout",
     "output_type": "stream",
     "text": [
      "R2:  0.997537689186769\n",
      "RMSE:  0.015421832556424549\n",
      "The lowest error is:  2.3644486136398246e-05\n",
      "The highest error is:  0.04883672529833294\n",
      "The avg. error is:  0.01196440569021886\n"
     ]
    }
   ],
   "source": [
    "# Input\n",
    "X = np.hstack((X_motion_CoM_acceleration_FL_RR[:, 0:1], # previous reference velocity\n",
    "               X_motion_CoM_acceleration_FL_RR[:, 3:4], # current reference velocity\n",
    "               X_motion_CoM_acceleration_FL_RR[:, 6:7], # actual velocity\n",
    "               X_motion_CoM_acceleration_FL_RR[:, 9:11], # FL position\n",
    "               X_motion_CoM_acceleration_FL_RR[:, 12:14], # FR position\n",
    "               X_motion_CoM_acceleration_FL_RR[:, 15:17], # RL position\n",
    "               X_motion_CoM_acceleration_FL_RR[:, 18:20])) # RR position\n",
    "\n",
    "# Labels\n",
    "Y = np.array([Y_motion_CoM_acceleration_FL_RR[:, 0]]).T\n",
    "\n",
    "assert Y.shape[0] == X.shape[0]\n",
    "\n",
    "# Split dataset and fit best model\n",
    "X_test, Y_test, predictions, model_fl_com_x = find_best_model(X, Y, runs=5000)"
   ]
  },
  {
   "cell_type": "code",
   "execution_count": 14,
   "id": "e9449767",
   "metadata": {},
   "outputs": [
    {
     "data": {
      "text/plain": [
       "array([[ 1.51311819e-01,  8.68534790e-01,  2.00566276e-04,\n",
       "        -3.04400739e-01,  7.75761059e-01, -3.09623448e-01,\n",
       "        -3.91335369e-01, -2.02461351e-02, -3.69572434e-01,\n",
       "         2.87805731e-01,  7.84373735e-02]])"
      ]
     },
     "execution_count": 14,
     "metadata": {},
     "output_type": "execute_result"
    }
   ],
   "source": [
    "model_fl_com_x.coef_"
   ]
  },
  {
   "cell_type": "code",
   "execution_count": 15,
   "id": "8c457f83",
   "metadata": {},
   "outputs": [
    {
     "data": {
      "text/plain": [
       "array([0.12874086])"
      ]
     },
     "execution_count": 15,
     "metadata": {},
     "output_type": "execute_result"
    }
   ],
   "source": [
    "model_fl_com_x.intercept_"
   ]
  },
  {
   "cell_type": "code",
   "execution_count": 16,
   "id": "a348d621",
   "metadata": {},
   "outputs": [
    {
     "data": {
      "text/plain": [
       "Text(0, 0.5, 'Predictions')"
      ]
     },
     "execution_count": 16,
     "metadata": {},
     "output_type": "execute_result"
    },
    {
     "data": {
      "image/png": "[encoded data removed]",
      "text/plain": [
       "<Figure size 640x480 with 1 Axes>"
      ]
     },
     "metadata": {},
     "output_type": "display_data"
    }
   ],
   "source": [
    "## The line / model\n",
    "plt.scatter(Y_test, predictions)\n",
    "plt.xlabel(\"Groundtruth\")\n",
    "plt.ylabel(\"Predictions\")"
   ]
  },
  {
   "cell_type": "code",
   "execution_count": 17,
   "id": "04803fdd",
   "metadata": {},
   "outputs": [],
   "source": [
    "#for idx, prediction in enumerate(predictions):\n",
    "#    print(f'{X_test[idx, 0]}->{X_test[idx, 1]}. Groundtruth: {Y_test[idx][0]}. Predicted: {prediction[0]}. Error: {np.abs(np.round(Y_test[idx][0]-prediction[0],3))}.')"
   ]
  },
  {
   "cell_type": "markdown",
   "id": "886615f3",
   "metadata": {},
   "source": [
    "## Predict FL foot -> y"
   ]
  },
  {
   "cell_type": "markdown",
   "id": "d0cbfabf",
   "metadata": {},
   "source": [
    "### Linear Regression"
   ]
  },
  {
   "cell_type": "code",
   "execution_count": 18,
   "id": "1ae331e3",
   "metadata": {},
   "outputs": [
    {
     "name": "stdout",
     "output_type": "stream",
     "text": [
      "R2:  0.9451522053242764\n",
      "RMSE:  0.0012365816220829338\n",
      "The lowest error is:  7.721081019417713e-06\n",
      "The highest error is:  0.00347943117230048\n",
      "The avg. error is:  0.0009399662045315716\n"
     ]
    }
   ],
   "source": [
    "# Input\n",
    "X = np.hstack((X_motion_CoM_acceleration_FL_RR[:, 0:1], # previous reference velocity\n",
    "               X_motion_CoM_acceleration_FL_RR[:, 3:4], # current reference velocity\n",
    "               X_motion_CoM_acceleration_FL_RR[:, 6:7], # actual velocity\n",
    "               X_motion_CoM_acceleration_FL_RR[:, 9:11], # FL position\n",
    "               X_motion_CoM_acceleration_FL_RR[:, 12:14], # FR position\n",
    "               X_motion_CoM_acceleration_FL_RR[:, 15:17], # RL position\n",
    "               X_motion_CoM_acceleration_FL_RR[:, 18:20])) # RR position\n",
    "\n",
    "# Labels\n",
    "Y = np.array([Y_motion_CoM_acceleration_FL_RR[:, 1]]).T\n",
    "\n",
    "# Train data\n",
    "\n",
    "assert Y.shape[0] == X.shape[0]\n",
    "\n",
    "# Split dataset and fit best model\n",
    "X_test, Y_test, predictions, model_fl_com_y = find_best_model(X, Y, runs=5000)"
   ]
  },
  {
   "cell_type": "code",
   "execution_count": 19,
   "id": "41b0d5a5",
   "metadata": {},
   "outputs": [
    {
     "data": {
      "text/plain": [
       "array([[ 0.07368683, -0.0190597 , -0.06999727,  0.02913666, -0.04015361,\n",
       "         0.02637025,  0.0770786 ,  0.00990728, -0.0413788 , -0.03701894,\n",
       "         0.03541562]])"
      ]
     },
     "execution_count": 19,
     "metadata": {},
     "output_type": "execute_result"
    }
   ],
   "source": [
    "model_fl_com_y.coef_"
   ]
  },
  {
   "cell_type": "code",
   "execution_count": 20,
   "id": "c873eded",
   "metadata": {},
   "outputs": [
    {
     "data": {
      "text/plain": [
       "array([0.00271257])"
      ]
     },
     "execution_count": 20,
     "metadata": {},
     "output_type": "execute_result"
    }
   ],
   "source": [
    "model_fl_com_y.intercept_"
   ]
  },
  {
   "cell_type": "code",
   "execution_count": 21,
   "id": "a12c80cd",
   "metadata": {},
   "outputs": [
    {
     "data": {
      "text/plain": [
       "Text(0, 0.5, 'Predictions')"
      ]
     },
     "execution_count": 21,
     "metadata": {},
     "output_type": "execute_result"
    },
    {
     "data": {
      "image/png": "[encoded data removed]",
      "text/plain": [
       "<Figure size 640x480 with 1 Axes>"
      ]
     },
     "metadata": {},
     "output_type": "display_data"
    }
   ],
   "source": [
    "## The line / model\n",
    "plt.scatter(Y_test, predictions)\n",
    "plt.xlabel(\"Groundtruth\")\n",
    "plt.ylabel(\"Predictions\")"
   ]
  },
  {
   "cell_type": "code",
   "execution_count": 22,
   "id": "0d7da37e",
   "metadata": {},
   "outputs": [],
   "source": [
    "#for idx, prediction in enumerate(predictions):\n",
    "#    print(f'Groundtruth: {Y_test[idx]}. Predicted: {prediction}')"
   ]
  },
  {
   "cell_type": "code",
   "execution_count": null,
   "id": "79703351-05b8-4230-8f30-168eb1c4cf24",
   "metadata": {},
   "outputs": [],
   "source": []
  }
 ],
 "metadata": {
  "kernelspec": {
   "display_name": "Python 3 (ipykernel)",
   "language": "python",
   "name": "python3"
  },
  "language_info": {
   "codemirror_mode": {
    "name": "ipython",
    "version": 3
   },
   "file_extension": ".py",
   "mimetype": "text/x-python",
   "name": "python",
   "nbconvert_exporter": "python",
   "pygments_lexer": "ipython3",
   "version": "3.10.6"
  }
 },
 "nbformat": 4,
 "nbformat_minor": 5
}
