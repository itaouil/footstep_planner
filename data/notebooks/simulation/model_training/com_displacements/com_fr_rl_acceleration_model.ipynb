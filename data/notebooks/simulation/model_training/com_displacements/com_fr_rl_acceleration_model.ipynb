{
 "cells": [
  {
   "cell_type": "code",
   "execution_count": 1,
   "id": "7396057a",
   "metadata": {},
   "outputs": [],
   "source": [
    "#!/usr/bin/env python3.6\n",
    "# -*- coding: utf-8 -*-"
   ]
  },
  {
   "cell_type": "code",
   "execution_count": 2,
   "id": "3685f3b4",
   "metadata": {},
   "outputs": [],
   "source": [
    "# Imports\n",
    "import sys\n",
    "import joblib\n",
    "import numpy as np\n",
    "from math import atan2\n",
    "from matplotlib import animation\n",
    "from IPython.display import HTML\n",
    "from matplotlib import pyplot as plt\n",
    "import mpl_toolkits.mplot3d.axes3d as p3"
   ]
  },
  {
   "cell_type": "code",
   "execution_count": 3,
   "id": "624b9d07",
   "metadata": {},
   "outputs": [],
   "source": [
    "#np.random.seed(20)\n",
    "np.set_printoptions(threshold=sys.maxsize)"
   ]
  },
  {
   "cell_type": "code",
   "execution_count": 4,
   "id": "44f22e21",
   "metadata": {},
   "outputs": [],
   "source": [
    "%matplotlib inline"
   ]
  },
  {
   "cell_type": "code",
   "execution_count": 5,
   "id": "9b734bb8",
   "metadata": {},
   "outputs": [
    {
     "name": "stdout",
     "output_type": "stream",
     "text": [
      "(7395, 23)\n",
      "(7395, 3)\n"
     ]
    }
   ],
   "source": [
    "%store -r X_motion_CoM_acceleration\n",
    "%store -r Y_motion_CoM_acceleration\n",
    "print(X_motion_CoM_acceleration.shape)\n",
    "print(Y_motion_CoM_acceleration.shape)"
   ]
  },
  {
   "cell_type": "code",
   "execution_count": 6,
   "id": "45886539",
   "metadata": {},
   "outputs": [
    {
     "data": {
      "text/plain": [
       "array([0.1, 0.0, 0.0, 0.1, 0.0, 0.0, -0.00392833860457, 0.0159176796696,\n",
       "       -0.00429879158561, 0.2526783703469499, 0.13427893772863944,\n",
       "       -0.2778846068029694, 0.24869912614405365, -0.12366310216804982,\n",
       "       -0.3133057085330896, -0.2690074673240338, 0.1271401124419832,\n",
       "       -0.3136605626775182, -0.26988041665563206, -0.1350023534415291,\n",
       "       -0.2815400304417422, False, True], dtype=object)"
      ]
     },
     "execution_count": 6,
     "metadata": {},
     "output_type": "execute_result"
    }
   ],
   "source": [
    "X_motion_CoM_acceleration[0]"
   ]
  },
  {
   "cell_type": "code",
   "execution_count": 7,
   "id": "067a916e",
   "metadata": {},
   "outputs": [
    {
     "data": {
      "text/plain": [
       "array([[0.015024544741364753, 0.0031745505499044297, 0],\n",
       "       [0.0244901497177486, -0.0017141485288042285, 0],\n",
       "       [0.023807360577614352, 0.0016117138856960357, 0],\n",
       "       [0.028454635884038584, -0.0011932863192845068, 0],\n",
       "       [0.02304735004324249, 0.001088606590820374, 0],\n",
       "       [0.02424454757067094, -0.0013822147255968858, 0],\n",
       "       [0.02857265080483277, 0.0013207193610095857, 0],\n",
       "       [0.023672292991041486, -0.0011615224015968967, 0],\n",
       "       [0.024427038629548616, 0.0012020538703732967, 0],\n",
       "       [0.02405386268534631, -0.0013037454011880095, 0],\n",
       "       [0.02807375693924579, 0.001285793776076903, 0],\n",
       "       [0.023506903529684358, -0.0010863303010825438, 0],\n",
       "       [0.023984797743990538, 0.0012408587464879553, 0],\n",
       "       [0.02361076966462593, -0.0011992096455204074, 0],\n",
       "       [0.028030238290395713, 0.0012099079529472188, 0],\n",
       "       [0.02435197496686631, -0.0011986507148551457, 0],\n",
       "       [0.022753119041687354, 0.0014287628521740627, 0],\n",
       "       [0.02796312128603495, -0.0010791129242792128, 0],\n",
       "       [0.02265922628580474, 0.0011091017024195695, 0],\n",
       "       [0.028332769309165295, -0.0012121729083450837, 0],\n",
       "       [0.024985967028529472, 0.0012312627357476623, 0],\n",
       "       [0.023305427442728, -0.001091687172020272, 0],\n",
       "       [0.02586955880223461, 0.0011658921009360692, 0],\n",
       "       [0.023425868558040724, -0.001385443376904348, 0],\n",
       "       [0.02782082552698695, 0.0012769432695813243, 0],\n",
       "       [0.02412468179052124, -0.001047262926328554, 0],\n",
       "       [0.023651068759129767, 0.0012617160428294396, 0],\n",
       "       [0.02403466333818243, -0.0013123183744695006, 0],\n",
       "       [0.02728700457965516, 0.0013150910275509765, 0],\n",
       "       [0.025949540313946712, -0.0011722869526914253, 0],\n",
       "       [0.024361464264813507, 0.0011697282506653475, 0],\n",
       "       [0.024380599067545347, -0.0010876764579837881, 0],\n",
       "       [0.023644844427068077, 0.0012479308464964103, 0],\n",
       "       [0.027554741233445038, -0.0012205924534370992, 0],\n",
       "       [0.02514983035516239, 0.0012421457342985118, 0],\n",
       "       [0.022786156819782685, -0.0011017899139396186, 0],\n",
       "       [0.0243053377890189, 0.0012337927615637023, 0],\n",
       "       [0.029114458324215626, -0.001193752725410422, 0],\n",
       "       [0.02499022257637708, 0.001171421793233882, 0],\n",
       "       [0.022939831135521952, -0.0010495183017246565, 0],\n",
       "       [0.024694228354517872, 0.0012457240974749933, 0],\n",
       "       [0.02421832810815894, -0.0013718130088372599, 0],\n",
       "       [0.02822397966261408, 0.0013590506449000124, 0],\n",
       "       [0.024530112472338994, -0.0010247200361505648, 0],\n",
       "       [0.022846782229189067, 0.0012611481813380348, 0],\n",
       "       [0.02804563321878458, -0.0011409066616320169, 0],\n",
       "       [0.02287023533402252, 0.0012077127107570425, 0],\n",
       "       [0.028086233003217907, -0.0010536546627635862, 0],\n",
       "       [0.0243964658373102, 0.0011745484947104613, 0],\n",
       "       [0.024764605348629485, -0.0009069620750570798, 0],\n",
       "       [0.02402970918049206, 0.001068123971192862, 0],\n",
       "       [0.02317914684124174, -0.0012654094286635592, 0],\n",
       "       [0.0280474516884481, 0.0012702097825696551, 0],\n",
       "       [0.023650249552400734, -0.001025863195022582, 0],\n",
       "       [0.024307818339355802, 0.001154501750380387, 0],\n",
       "       [0.0278657840929478, -0.0011623394426035047, 0],\n",
       "       [0.022535384471593426, 0.001243880260766699, 0],\n",
       "       [0.023375454341314546, -0.0012960803758252301, 0],\n",
       "       [0.02665834242709145, 0.00125378671289162, 0],\n",
       "       [0.028230272475384174, -0.0012305944024295636, 0],\n",
       "       [0.022946590105067027, 0.0011123466935796722, 0],\n",
       "       [0.024483541898269748, -0.0012956996262699372, 0],\n",
       "       [0.024479402529961503, 0.001230640240857888, 0],\n",
       "       [0.027695421801036367, -0.0011870722600283447, 0],\n",
       "       [0.024083869535837132, 0.001144122210988741, 0],\n",
       "       [0.02314667205499194, -0.001216108483513737, 0],\n",
       "       [0.02802392603208125, 0.0012689991706985961, 0],\n",
       "       [0.022387614838864086, -0.0010382948654505128, 0],\n",
       "       [0.027695107284538143, 0.001143467930039272, 0],\n",
       "       [0.024394842176785173, -0.0011134216960117368, 0],\n",
       "       [0.024429711885313433, 0.001330848406419944, 0],\n",
       "       [0.02360220322594048, -0.001205469755470129, 0],\n",
       "       [0.027520374007949377, 0.0010113132744297062, 0],\n",
       "       [0.02460350862755985, -0.0011277904090357465, 0],\n",
       "       [0.023425567878086754, 0.0013310100342996125, 0],\n",
       "       [0.027800972247906373, -0.0010565991999014566, 0],\n",
       "       [0.02430675814930956, 0.001075840236604774, 0],\n",
       "       [0.023373621512691678, -0.0012604999518575964, 0],\n",
       "       [0.02698321416535297, 0.0012739641730686413, 0],\n",
       "       [0.02330865410492855, -0.0011433423746865534, 0],\n",
       "       [0.02445151520743194, 0.001359809396754347, 0],\n",
       "       [0.02482606456596187, -0.0013343080473748462, 0],\n",
       "       [0.02887236767847138, 0.0013523113404547596, 0],\n",
       "       [0.022660140159526807, -0.0011292848197376995, 0],\n",
       "       [0.02357256035218312, 0.0012834807852062811, 0],\n",
       "       [0.024420874807810654, -0.001260892218506975, 0],\n",
       "       [0.024886263102818298, 0.0014024278177491034, 0],\n",
       "       [0.02910698348948101, -0.0011690121785327859, 0],\n",
       "       [0.023135063987373923, 0.001284861798026198, 0],\n",
       "       [0.024393093237134195, -0.001124941024576737, 0],\n",
       "       [0.02428120310951767, 0.0011681338435509702, 0],\n",
       "       [0.02426319285901521, -0.0014548493362556577, 0],\n",
       "       [0.027341183342918723, 0.0013497720820437023, 0],\n",
       "       [0.023385596832610534, -0.0013362927939370502, 0],\n",
       "       [0.028279540653004056, 0.001179780889396555, 0],\n",
       "       [0.02498318216028782, -0.0011840191383260838, 0],\n",
       "       [0.022997570978161682, 0.0013025496014477738, 0],\n",
       "       [0.02410491460507584, -0.0013213575958669513, 0],\n",
       "       [0.025231610900510033, 0.0013292539900946357, 0],\n",
       "       [0.028876886670670628, -0.0011254462934574014, 0]], dtype=object)"
      ]
     },
     "execution_count": 7,
     "metadata": {},
     "output_type": "execute_result"
    }
   ],
   "source": [
    "Y_motion_CoM_acceleration[0:100]"
   ]
  },
  {
   "cell_type": "markdown",
   "id": "d321ce72",
   "metadata": {},
   "source": [
    "# Multivariate Linear Regression (CoM Prediction)"
   ]
  },
  {
   "cell_type": "code",
   "execution_count": 8,
   "id": "2de76309",
   "metadata": {},
   "outputs": [],
   "source": [
    "import sklearn\n",
    "from sklearn import metrics\n",
    "from sklearn.feature_selection import RFE\n",
    "from sklearn.model_selection import KFold\n",
    "from sklearn.linear_model import LinearRegression\n",
    "from sklearn.model_selection import train_test_split\n",
    "from sklearn.preprocessing import PolynomialFeatures \n",
    "from sklearn.model_selection import cross_val_score, cross_val_predict\n",
    "from sklearn.metrics import mean_squared_error, mean_absolute_error, r2_score"
   ]
  },
  {
   "cell_type": "code",
   "execution_count": 9,
   "id": "aa045adf",
   "metadata": {},
   "outputs": [
    {
     "name": "stdout",
     "output_type": "stream",
     "text": [
      "(3697, 23)\n",
      "(3697, 3)\n"
     ]
    }
   ],
   "source": [
    "idx_fr_rl_swinging = np.where(X_motion_CoM_acceleration[:, -1] == 1)[0]\n",
    "X_motion_CoM_acceleration_FR_RL = X_motion_CoM_acceleration[idx_fr_rl_swinging]\n",
    "Y_motion_CoM_acceleration_FR_RL = Y_motion_CoM_acceleration[idx_fr_rl_swinging]\n",
    "print(X_motion_CoM_acceleration_FR_RL.shape)\n",
    "print(Y_motion_CoM_acceleration_FR_RL.shape)"
   ]
  },
  {
   "cell_type": "markdown",
   "id": "ee2624d4",
   "metadata": {},
   "source": [
    "## Predict CoM (x) movement"
   ]
  },
  {
   "cell_type": "code",
   "execution_count": 10,
   "id": "0a9e4803",
   "metadata": {},
   "outputs": [
    {
     "data": {
      "text/plain": [
       "array([0.1, 0.0, 0.0, 0.1, 0.0, 0.0, -0.00392833860457, 0.0159176796696,\n",
       "       -0.00429879158561, 0.2526783703469499, 0.13427893772863944,\n",
       "       -0.2778846068029694, 0.24869912614405365, -0.12366310216804982,\n",
       "       -0.3133057085330896, -0.2690074673240338, 0.1271401124419832,\n",
       "       -0.3136605626775182, -0.26988041665563206, -0.1350023534415291,\n",
       "       -0.2815400304417422, False, True], dtype=object)"
      ]
     },
     "execution_count": 10,
     "metadata": {},
     "output_type": "execute_result"
    }
   ],
   "source": [
    "X_motion_CoM_acceleration_FR_RL[0, :]"
   ]
  },
  {
   "cell_type": "code",
   "execution_count": 11,
   "id": "d55c6716",
   "metadata": {},
   "outputs": [
    {
     "data": {
      "text/plain": [
       "array([0.015024544741364753, 0.0031745505499044297, 0], dtype=object)"
      ]
     },
     "execution_count": 11,
     "metadata": {},
     "output_type": "execute_result"
    }
   ],
   "source": [
    "Y_motion_CoM_acceleration_FR_RL[0, :]"
   ]
  },
  {
   "cell_type": "markdown",
   "id": "3a6f2540",
   "metadata": {},
   "source": [
    "### Linear Regression"
   ]
  },
  {
   "cell_type": "code",
   "execution_count": 12,
   "id": "b129288c-f364-4a57-8463-62fe2ce95939",
   "metadata": {},
   "outputs": [],
   "source": [
    "def find_best_model(X, Y, runs=1000):\n",
    "    best_model = None\n",
    "    lowest_error = 100\n",
    "    best_Xtr, best_Xte, best_Ytr, best_Yte = None, None, None, None\n",
    "    \n",
    "    for _ in range(runs):\n",
    "        X_train, X_test, Y_train, Y_test = train_test_split(X, Y, train_size = 0.9, shuffle=True)\n",
    "        \n",
    "        model = LinearRegression()\n",
    "        model.fit(X_train, Y_train)\n",
    "\n",
    "        predictions = model.predict(X_test)\n",
    "        error = np.max(np.abs(predictions - Y_test))\n",
    "\n",
    "        if error < lowest_error:\n",
    "            best_model = model\n",
    "            lowest_error = error\n",
    "            best_Xtr, best_Xte, best_Ytr, best_Yte = X_train, X_test, Y_train, Y_test\n",
    "\n",
    "    # Stats\n",
    "    predictions = best_model.predict(best_Xte)\n",
    "    print('R2: ', r2_score(predictions, best_Yte))\n",
    "    print('RMSE: ', np.sqrt(mean_squared_error(best_Yte, predictions)))\n",
    "    print(\"The lowest error is: \", np.min(np.abs(predictions - best_Yte)))\n",
    "    print(\"The highest error is: \", np.max(np.abs(predictions - best_Yte)))\n",
    "    print(\"The avg. error is: \", np.mean(np.abs(predictions - best_Yte)))\n",
    "    \n",
    "    return best_Xte, best_Yte, predictions, best_model"
   ]
  },
  {
   "cell_type": "code",
   "execution_count": 13,
   "id": "c19cae26-5b62-4311-9b12-c47726058f32",
   "metadata": {},
   "outputs": [
    {
     "name": "stdout",
     "output_type": "stream",
     "text": [
      "R2:  0.9915745940309738\n",
      "RMSE:  0.007680466870028681\n",
      "The lowest error is:  2.6805912764493733e-07\n",
      "The highest error is:  0.022262411156761808\n",
      "The avg. error is:  0.006026830028975579\n"
     ]
    }
   ],
   "source": [
    "# Input\n",
    "X = np.hstack((X_motion_CoM_acceleration_FR_RL[:, 0:1], # previous reference velocity\n",
    "               X_motion_CoM_acceleration_FR_RL[:, 3:4], # current reference velocity\n",
    "               X_motion_CoM_acceleration_FR_RL[:, 6:7], # actual velocity\n",
    "               X_motion_CoM_acceleration_FR_RL[:, 9:11], # FL position\n",
    "               X_motion_CoM_acceleration_FR_RL[:, 12:14], # FR position\n",
    "               X_motion_CoM_acceleration_FR_RL[:, 15:17], # RL position\n",
    "               X_motion_CoM_acceleration_FR_RL[:, 18:20])) # RR position\n",
    "\n",
    "# Labels\n",
    "Y = np.array([Y_motion_CoM_acceleration_FR_RL[:, 0]]).T\n",
    "\n",
    "assert Y.shape[0] == X.shape[0]\n",
    "\n",
    "# Split dataset and fit best model\n",
    "X_test, Y_test, predictions, model_fr_com_x = find_best_model(X, Y, runs=5000)"
   ]
  },
  {
   "cell_type": "code",
   "execution_count": 14,
   "id": "5f603ab7",
   "metadata": {},
   "outputs": [
    {
     "data": {
      "text/plain": [
       "array([[ 0.26798353,  0.1411866 ,  0.0034254 , -0.26421108, -0.12315839,\n",
       "        -0.15470753, -0.58805423,  0.44947799,  0.27569299, -0.46356286,\n",
       "         0.375402  ]])"
      ]
     },
     "execution_count": 14,
     "metadata": {},
     "output_type": "execute_result"
    }
   ],
   "source": [
    "model_fr_com_x.coef_"
   ]
  },
  {
   "cell_type": "code",
   "execution_count": 15,
   "id": "2e7d17cd",
   "metadata": {},
   "outputs": [
    {
     "data": {
      "text/plain": [
       "array([0.05782257])"
      ]
     },
     "execution_count": 15,
     "metadata": {},
     "output_type": "execute_result"
    }
   ],
   "source": [
    "model_fr_com_x.intercept_"
   ]
  },
  {
   "cell_type": "code",
   "execution_count": 16,
   "id": "f4a78f7b",
   "metadata": {},
   "outputs": [
    {
     "data": {
      "text/plain": [
       "Text(0, 0.5, 'Predictions')"
      ]
     },
     "execution_count": 16,
     "metadata": {},
     "output_type": "execute_result"
    },
    {
     "data": {
      "image/png": "[encoded data removed]",
      "text/plain": [
       "<Figure size 640x480 with 1 Axes>"
      ]
     },
     "metadata": {},
     "output_type": "display_data"
    }
   ],
   "source": [
    "## The line / model\n",
    "plt.scatter(Y_test, predictions)\n",
    "plt.xlabel(\"Groundtruth\")\n",
    "plt.ylabel(\"Predictions\")"
   ]
  },
  {
   "cell_type": "code",
   "execution_count": 17,
   "id": "463b8c66",
   "metadata": {},
   "outputs": [
    {
     "name": "stdout",
     "output_type": "stream",
     "text": [
      "Groundtruth: [0.07425328189214499]. Predicted: [0.08396342]\n",
      "Groundtruth: [0.027341183342918723]. Predicted: [0.02496843]\n",
      "Groundtruth: [0.27386990981816334]. Predicted: [0.2783685]\n",
      "Groundtruth: [0.17271198525365566]. Predicted: [0.18525355]\n",
      "Groundtruth: [0.18697249810625632]. Predicted: [0.19850094]\n",
      "Groundtruth: [0.02834147204877227]. Predicted: [0.02593898]\n",
      "Groundtruth: [0.2382883429924493]. Predicted: [0.24672835]\n",
      "Groundtruth: [0.1414045729375709]. Predicted: [0.14716957]\n",
      "Groundtruth: [0.24126475647882906]. Predicted: [0.23439354]\n",
      "Groundtruth: [-0.00011192222075165187]. Predicted: [-0.00753501]\n",
      "Groundtruth: [0.13265350285518446]. Predicted: [0.12393638]\n",
      "Groundtruth: [0.21443668261424367]. Predicted: [0.21562288]\n",
      "Groundtruth: [0.026720564757241425]. Predicted: [0.01951781]\n",
      "Groundtruth: [0.3084952924969258]. Predicted: [0.30479218]\n",
      "Groundtruth: [0.21773689199054613]. Predicted: [0.22008431]\n",
      "Groundtruth: [0.08653473434001131]. Predicted: [0.08870621]\n",
      "Groundtruth: [0.23381737813957026]. Predicted: [0.24449794]\n",
      "Groundtruth: [0.0013751102131441852]. Predicted: [-0.00010069]\n",
      "Groundtruth: [0.12549818713197514]. Predicted: [0.12292527]\n",
      "Groundtruth: [0.14411437644447347]. Predicted: [0.14817913]\n",
      "Groundtruth: [0.09816925665716368]. Predicted: [0.11051583]\n",
      "Groundtruth: [0.04475373901421072]. Predicted: [0.05271729]\n",
      "Groundtruth: [0.09229729208611799]. Predicted: [0.0911988]\n",
      "Groundtruth: [0.07162337814558506]. Predicted: [0.07347736]\n",
      "Groundtruth: [0.10909243141359738]. Predicted: [0.10595588]\n",
      "Groundtruth: [0.2516548410590948]. Predicted: [0.23582982]\n",
      "Groundtruth: [0.0485111508533608]. Predicted: [0.04761645]\n",
      "Groundtruth: [0.09074799659745443]. Predicted: [0.09824224]\n",
      "Groundtruth: [0.22710540775128923]. Predicted: [0.23979607]\n",
      "Groundtruth: [0.047980348566675456]. Predicted: [0.05195144]\n",
      "Groundtruth: [0.24467209677954574]. Predicted: [0.23891689]\n",
      "Groundtruth: [0.2980755130395769]. Predicted: [0.29742726]\n",
      "Groundtruth: [0.06449550936592408]. Predicted: [0.06182267]\n",
      "Groundtruth: [0.24292093473257456]. Predicted: [0.23326061]\n",
      "Groundtruth: [0.2507346214986814]. Predicted: [0.2423578]\n",
      "Groundtruth: [0.00044468128266679724]. Predicted: [-0.00352267]\n",
      "Groundtruth: [0.1925709975655485]. Predicted: [0.19424215]\n",
      "Groundtruth: [0.10727492786173544]. Predicted: [0.09878265]\n",
      "Groundtruth: [0.06506148515238525]. Predicted: [0.07238513]\n",
      "Groundtruth: [0.21796022890878325]. Predicted: [0.22153735]\n",
      "Groundtruth: [0.0798759319845606]. Predicted: [0.07382208]\n",
      "Groundtruth: [0.13055010677868256]. Predicted: [0.13497686]\n",
      "Groundtruth: [0.09785480298089869]. Predicted: [0.09756053]\n",
      "Groundtruth: [0.1725123276722128]. Predicted: [0.17275016]\n",
      "Groundtruth: [0.28286649736532243]. Predicted: [0.2719245]\n",
      "Groundtruth: [0.26873572950241725]. Predicted: [0.27661053]\n",
      "Groundtruth: [-0.0016010406064455851]. Predicted: [0.00081121]\n",
      "Groundtruth: [0.06930203531349019]. Predicted: [0.07521812]\n",
      "Groundtruth: [0.25708198987308406]. Predicted: [0.25349]\n",
      "Groundtruth: [0.1981434636937297]. Predicted: [0.19509551]\n",
      "Groundtruth: [0.15082497251781213]. Predicted: [0.1592135]\n",
      "Groundtruth: [0.27763038334239604]. Predicted: [0.26878384]\n",
      "Groundtruth: [8.314755559096939e-05]. Predicted: [0.00468213]\n",
      "Groundtruth: [0.0006637721823346754]. Predicted: [-0.00362757]\n",
      "Groundtruth: [0.10506984720695793]. Predicted: [0.10540375]\n",
      "Groundtruth: [0.2103506123546473]. Predicted: [0.20133818]\n",
      "Groundtruth: [0.16245979618580209]. Predicted: [0.16600345]\n",
      "Groundtruth: [0.0676350125117677]. Predicted: [0.06418312]\n",
      "Groundtruth: [0.16768628688162526]. Predicted: [0.15557671]\n",
      "Groundtruth: [0.11964668770959606]. Predicted: [0.10988919]\n",
      "Groundtruth: [0.20911012763399117]. Predicted: [0.21140117]\n",
      "Groundtruth: [0.02761579881710407]. Predicted: [0.01843719]\n",
      "Groundtruth: [0.0005735496850580052]. Predicted: [0.00610894]\n",
      "Groundtruth: [0.1897450312868044]. Predicted: [0.17891098]\n",
      "Groundtruth: [0.0510187173449345]. Predicted: [0.05959218]\n",
      "Groundtruth: [0.16043428603285279]. Predicted: [0.14886789]\n",
      "Groundtruth: [0.15815673821336818]. Predicted: [0.16555652]\n",
      "Groundtruth: [0.12032077242234454]. Predicted: [0.11882857]\n",
      "Groundtruth: [0.000624851178842191]. Predicted: [-0.00635771]\n",
      "Groundtruth: [0.2582041334827544]. Predicted: [0.27184834]\n",
      "Groundtruth: [0.15423062972263316]. Predicted: [0.15057143]\n",
      "Groundtruth: [0.02681386304486827]. Predicted: [0.02038296]\n",
      "Groundtruth: [0.18470039965831708]. Predicted: [0.17304264]\n",
      "Groundtruth: [0.15542321835757866]. Predicted: [0.16716323]\n",
      "Groundtruth: [0.03915450534472597]. Predicted: [0.03926534]\n",
      "Groundtruth: [0.13678808334418877]. Predicted: [0.12197479]\n",
      "Groundtruth: [0.00012759326409554996]. Predicted: [-0.0086396]\n",
      "Groundtruth: [0.19996204937552006]. Predicted: [0.21684292]\n",
      "Groundtruth: [0.13880695535733073]. Predicted: [0.14033502]\n",
      "Groundtruth: [0.24419714521542987]. Predicted: [0.24997102]\n",
      "Groundtruth: [0.029900273812351597]. Predicted: [0.03269766]\n",
      "Groundtruth: [0.1900461064269513]. Predicted: [0.17989069]\n",
      "Groundtruth: [0.12842119553270326]. Predicted: [0.1413642]\n",
      "Groundtruth: [0.2173157796486148]. Predicted: [0.21392785]\n",
      "Groundtruth: [-0.0001000015965244665]. Predicted: [0.0011152]\n",
      "Groundtruth: [0.20718468129000678]. Predicted: [0.21687248]\n",
      "Groundtruth: [0.04576083560451461]. Predicted: [0.03884574]\n",
      "Groundtruth: [0.26871646468015775]. Predicted: [0.28739054]\n",
      "Groundtruth: [0.18569573453791552]. Predicted: [0.18837268]\n",
      "Groundtruth: [0.2263511985212285]. Predicted: [0.24324588]\n",
      "Groundtruth: [0.19281800517864242]. Predicted: [0.19121419]\n",
      "Groundtruth: [0.14153535570992856]. Predicted: [0.14961314]\n",
      "Groundtruth: [0.19874373076031826]. Predicted: [0.20666377]\n",
      "Groundtruth: [0.12033135240342475]. Predicted: [0.12519867]\n",
      "Groundtruth: [0.19698327595246126]. Predicted: [0.18587246]\n",
      "Groundtruth: [0.08599771079513006]. Predicted: [0.08514778]\n",
      "Groundtruth: [0.07753539377517493]. Predicted: [0.07394633]\n",
      "Groundtruth: [0.10444825198487677]. Predicted: [0.09702518]\n",
      "Groundtruth: [0.23266630637113817]. Predicted: [0.22107543]\n",
      "Groundtruth: [0.21134266333526458]. Predicted: [0.21472905]\n",
      "Groundtruth: [0.17080131072510565]. Predicted: [0.15501336]\n",
      "Groundtruth: [0.07031911015008636]. Predicted: [0.07077396]\n",
      "Groundtruth: [0.17418974902285422]. Predicted: [0.17224623]\n",
      "Groundtruth: [0.04566098404693142]. Predicted: [0.05309843]\n",
      "Groundtruth: [0.02822397966261408]. Predicted: [0.02412352]\n",
      "Groundtruth: [0.1614996702449249]. Predicted: [0.16165154]\n",
      "Groundtruth: [0.12001230960508563]. Predicted: [0.12378388]\n",
      "Groundtruth: [0.1963605804444078]. Predicted: [0.19292737]\n",
      "Groundtruth: [0.216668068692013]. Predicted: [0.21606779]\n",
      "Groundtruth: [0.1238065990554927]. Predicted: [0.12593243]\n",
      "Groundtruth: [0.1999035328725794]. Predicted: [0.18583551]\n",
      "Groundtruth: [0.16910264962975444]. Predicted: [0.17601593]\n",
      "Groundtruth: [0.09185301903363674]. Predicted: [0.09641516]\n",
      "Groundtruth: [0.09177948042648047]. Predicted: [0.10646682]\n",
      "Groundtruth: [0.16470700393524482]. Predicted: [0.16976476]\n",
      "Groundtruth: [0.0013312584973782004]. Predicted: [0.00154929]\n",
      "Groundtruth: [0.10445377771821086]. Predicted: [0.11202221]\n",
      "Groundtruth: [0.2841238499220614]. Predicted: [0.27000875]\n",
      "Groundtruth: [0.15150520593549527]. Predicted: [0.15873507]\n",
      "Groundtruth: [0.08129329161140271]. Predicted: [0.08194108]\n",
      "Groundtruth: [0.0006875365650239376]. Predicted: [0.00440039]\n",
      "Groundtruth: [0.2175274991434727]. Predicted: [0.20420082]\n",
      "Groundtruth: [0.07573371809912217]. Predicted: [0.08209927]\n",
      "Groundtruth: [0.027232444989479257]. Predicted: [0.02481208]\n",
      "Groundtruth: [0.2465930591406121]. Predicted: [0.24447467]\n",
      "Groundtruth: [0.12581336503256252]. Predicted: [0.13027216]\n",
      "Groundtruth: [0.24661711583125467]. Predicted: [0.24173475]\n",
      "Groundtruth: [0.027638646892631607]. Predicted: [0.02979258]\n",
      "Groundtruth: [0.10589016810949152]. Predicted: [0.09901477]\n",
      "Groundtruth: [0.09951287400250074]. Predicted: [0.10378427]\n",
      "Groundtruth: [0.1096299829678111]. Predicted: [0.11048209]\n",
      "Groundtruth: [0.28572087875181906]. Predicted: [0.27501952]\n",
      "Groundtruth: [0.014721148434292713]. Predicted: [0.01494446]\n",
      "Groundtruth: [0.09565640601417082]. Predicted: [0.09717339]\n",
      "Groundtruth: [0.2887109485582724]. Predicted: [0.28031254]\n",
      "Groundtruth: [0.05291704518346514]. Predicted: [0.05032491]\n",
      "Groundtruth: [0.1420675772571266]. Predicted: [0.14689185]\n",
      "Groundtruth: [0.27329238582428667]. Predicted: [0.26877227]\n",
      "Groundtruth: [0.14285028324186014]. Predicted: [0.15031935]\n",
      "Groundtruth: [0.13617567127549454]. Predicted: [0.13730511]\n",
      "Groundtruth: [0.11726590163929314]. Predicted: [0.11762073]\n",
      "Groundtruth: [0.05780056070957803]. Predicted: [0.05546139]\n",
      "Groundtruth: [0.27156927049893254]. Predicted: [0.27350681]\n",
      "Groundtruth: [0.19972822776816876]. Predicted: [0.19241781]\n",
      "Groundtruth: [0.09345436380156956]. Predicted: [0.10320986]\n",
      "Groundtruth: [0.11048394350658824]. Predicted: [0.10488262]\n",
      "Groundtruth: [0.21628757959272632]. Predicted: [0.20321825]\n",
      "Groundtruth: [0.05491875233207434]. Predicted: [0.05681867]\n",
      "Groundtruth: [0.02273785104384196]. Predicted: [0.02672957]\n",
      "Groundtruth: [0.11226116400293686]. Predicted: [0.10544161]\n",
      "Groundtruth: [0.22175355044730427]. Predicted: [0.22051]\n",
      "Groundtruth: [0.06879808799642978]. Predicted: [0.07360601]\n",
      "Groundtruth: [0.15695790862409165]. Predicted: [0.16414649]\n",
      "Groundtruth: [0.2927359072565994]. Predicted: [0.27766968]\n",
      "Groundtruth: [0.16351291383158853]. Predicted: [0.16095392]\n",
      "Groundtruth: [0.24381346104606672]. Predicted: [0.26445749]\n",
      "Groundtruth: [0.04757429340161272]. Predicted: [0.04614465]\n",
      "Groundtruth: [0.14110477132597243]. Predicted: [0.12929607]\n",
      "Groundtruth: [0.09096046012675815]. Predicted: [0.09623371]\n",
      "Groundtruth: [0.14060219824927753]. Predicted: [0.13971812]\n",
      "Groundtruth: [0.00013186386688974856]. Predicted: [0.00358075]\n",
      "Groundtruth: [0.02581986860613304]. Predicted: [0.0251183]\n",
      "Groundtruth: [0.09308689195735663]. Predicted: [0.09705586]\n",
      "Groundtruth: [0.09509309626364781]. Predicted: [0.09916985]\n",
      "Groundtruth: [0.20376352895879013]. Predicted: [0.19680696]\n",
      "Groundtruth: [0.14796389549243402]. Predicted: [0.13124716]\n",
      "Groundtruth: [0.18715397539767123]. Predicted: [0.18498238]\n",
      "Groundtruth: [0.2683579097114187]. Predicted: [0.26709761]\n",
      "Groundtruth: [0.09170607403862886]. Predicted: [0.09791861]\n",
      "Groundtruth: [0.23743352196576786]. Predicted: [0.22838301]\n",
      "Groundtruth: [0.07019596041584841]. Predicted: [0.07403306]\n",
      "Groundtruth: [0.13560410978577495]. Predicted: [0.1343199]\n",
      "Groundtruth: [0.09404362002046034]. Predicted: [0.09404389]\n",
      "Groundtruth: [0.04691597777332023]. Predicted: [0.0464997]\n",
      "Groundtruth: [0.24276039735535906]. Predicted: [0.23445405]\n",
      "Groundtruth: [0.11616508051090735]. Predicted: [0.12250963]\n",
      "Groundtruth: [0.2545997706699867]. Predicted: [0.25547824]\n",
      "Groundtruth: [0.0022619022627087914]. Predicted: [-0.0109735]\n",
      "Groundtruth: [0.0006779929153763105]. Predicted: [-0.00042931]\n",
      "Groundtruth: [0.234702450728203]. Predicted: [0.24035948]\n",
      "Groundtruth: [-0.00014830492286786457]. Predicted: [-0.01021386]\n",
      "Groundtruth: [0.14257901707973103]. Predicted: [0.15548778]\n",
      "Groundtruth: [0.1816790038588605]. Predicted: [0.19000237]\n",
      "Groundtruth: [0.08841207372099931]. Predicted: [0.09794029]\n",
      "Groundtruth: [0.0958691104687218]. Predicted: [0.09245929]\n",
      "Groundtruth: [-0.00017577369200564888]. Predicted: [0.00146775]\n",
      "Groundtruth: [0.07779121353977494]. Predicted: [0.08329609]\n",
      "Groundtruth: [0.09918480625755197]. Predicted: [0.08939588]\n",
      "Groundtruth: [0.14723603263329849]. Predicted: [0.14748472]\n",
      "Groundtruth: [0.12085342796555491]. Predicted: [0.12331755]\n",
      "Groundtruth: [0.11314067285595816]. Predicted: [0.11499917]\n",
      "Groundtruth: [0.10736752316612151]. Predicted: [0.11094915]\n",
      "Groundtruth: [0.04970559269650036]. Predicted: [0.04732804]\n",
      "Groundtruth: [0.03511259093749257]. Predicted: [0.03457634]\n",
      "Groundtruth: [0.13442078464420612]. Predicted: [0.14230867]\n",
      "Groundtruth: [0.16002672761865397]. Predicted: [0.17403879]\n",
      "Groundtruth: [0.05749891274184882]. Predicted: [0.0639368]\n",
      "Groundtruth: [0.20931302536283428]. Predicted: [0.21051718]\n",
      "Groundtruth: [0.12203041118457647]. Predicted: [0.12279031]\n",
      "Groundtruth: [0.0005599791294772621]. Predicted: [-0.00654757]\n",
      "Groundtruth: [0.1697811375093202]. Predicted: [0.18086137]\n",
      "Groundtruth: [0.137680137500261]. Predicted: [0.12612549]\n",
      "Groundtruth: [0.123252453076228]. Predicted: [0.11447777]\n",
      "Groundtruth: [0.0934643995695655]. Predicted: [0.09639351]\n",
      "Groundtruth: [0.24669649227780516]. Predicted: [0.25210711]\n",
      "Groundtruth: [0.04928453588447798]. Predicted: [0.04650666]\n",
      "Groundtruth: [0.140514140995968]. Predicted: [0.15291432]\n",
      "Groundtruth: [0.2149433027988248]. Predicted: [0.2044349]\n",
      "Groundtruth: [0.22410907999215982]. Predicted: [0.21721798]\n",
      "Groundtruth: [0.04617422927207235]. Predicted: [0.04873671]\n",
      "Groundtruth: [0.13427380499148464]. Predicted: [0.12182874]\n",
      "Groundtruth: [0.08126789915674176]. Predicted: [0.07286111]\n",
      "Groundtruth: [0.0677161844550881]. Predicted: [0.06438466]\n",
      "Groundtruth: [0.2734860029934537]. Predicted: [0.26636021]\n",
      "Groundtruth: [0.14325083195658042]. Predicted: [0.14640371]\n",
      "Groundtruth: [0.12476360219973452]. Predicted: [0.13781562]\n",
      "Groundtruth: [0.00013952454024783285]. Predicted: [-0.00656831]\n",
      "Groundtruth: [0.2866799404142357]. Predicted: [0.28256134]\n",
      "Groundtruth: [0.16878788275749282]. Predicted: [0.16969461]\n",
      "Groundtruth: [0.09625200299793434]. Predicted: [0.09940225]\n",
      "Groundtruth: [0.07068986083480022]. Predicted: [0.07567635]\n",
      "Groundtruth: [0.2119454496855613]. Predicted: [0.20738677]\n",
      "Groundtruth: [0.11726201977972948]. Predicted: [0.12910866]\n",
      "Groundtruth: [0.17162878461257727]. Predicted: [0.17379722]\n",
      "Groundtruth: [0.09947394305339305]. Predicted: [0.09928505]\n",
      "Groundtruth: [0.09700394607828242]. Predicted: [0.10035978]\n",
      "Groundtruth: [0.04813255656692288]. Predicted: [0.04522415]\n",
      "Groundtruth: [0.2781594720311273]. Predicted: [0.26697466]\n",
      "Groundtruth: [0.26861990075371905]. Predicted: [0.28677899]\n",
      "Groundtruth: [0.14998244853281653]. Predicted: [0.15060222]\n",
      "Groundtruth: [0.21456052334484874]. Predicted: [0.22517305]\n",
      "Groundtruth: [0.22090779261419277]. Predicted: [0.21759667]\n",
      "Groundtruth: [0.028726931785849216]. Predicted: [0.0271912]\n",
      "Groundtruth: [0.04924972679139413]. Predicted: [0.05485772]\n",
      "Groundtruth: [0.1008077676624546]. Predicted: [0.09716636]\n",
      "Groundtruth: [0.19323040918915457]. Predicted: [0.19886409]\n",
      "Groundtruth: [0.16157514549537313]. Predicted: [0.17259878]\n",
      "Groundtruth: [0.26103801400470483]. Predicted: [0.26432015]\n",
      "Groundtruth: [0.2387012006311128]. Predicted: [0.23956743]\n",
      "Groundtruth: [0.16856674736174354]. Predicted: [0.17475188]\n",
      "Groundtruth: [0.18813055365783268]. Predicted: [0.19779925]\n",
      "Groundtruth: [0.17205965806370688]. Predicted: [0.166953]\n",
      "Groundtruth: [0.18004672013125864]. Predicted: [0.17488678]\n",
      "Groundtruth: [0.18615086223988775]. Predicted: [0.20745389]\n",
      "Groundtruth: [0.050258304880737896]. Predicted: [0.05359907]\n",
      "Groundtruth: [0.16386570063693415]. Predicted: [0.1481216]\n",
      "Groundtruth: [0.0001805526206513761]. Predicted: [-0.00261792]\n",
      "Groundtruth: [0.24647341208442103]. Predicted: [0.24424607]\n",
      "Groundtruth: [0.1990204918634715]. Predicted: [0.19359799]\n",
      "Groundtruth: [0.23935938236405951]. Predicted: [0.25903513]\n",
      "Groundtruth: [0.17244639186408556]. Predicted: [0.17857353]\n",
      "Groundtruth: [0.2193213840773613]. Predicted: [0.22652523]\n",
      "Groundtruth: [3.149533232855097e-05]. Predicted: [0.00311653]\n",
      "Groundtruth: [0.21434867544574152]. Predicted: [0.23483772]\n",
      "Groundtruth: [0.028031141196787186]. Predicted: [0.03250796]\n",
      "Groundtruth: [0.26291756618772194]. Predicted: [0.24443374]\n",
      "Groundtruth: [0.026732678107887785]. Predicted: [0.01960947]\n",
      "Groundtruth: [0.000708200399347605]. Predicted: [-0.00114675]\n",
      "Groundtruth: [0.08192215599647107]. Predicted: [0.08608773]\n",
      "Groundtruth: [0.2853065133036938]. Predicted: [0.2764658]\n",
      "Groundtruth: [0.13084433734553774]. Predicted: [0.13748258]\n",
      "Groundtruth: [0.15494352227368519]. Predicted: [0.15247068]\n",
      "Groundtruth: [-0.00013993110992214155]. Predicted: [0.00328328]\n",
      "Groundtruth: [0.1721550506016461]. Predicted: [0.16434895]\n",
      "Groundtruth: [0.12064516814694885]. Predicted: [0.12146506]\n",
      "Groundtruth: [0.24727263911910555]. Predicted: [0.22860283]\n",
      "Groundtruth: [1.598638499774781e-05]. Predicted: [0.0011441]\n",
      "Groundtruth: [-7.549678093108606e-05]. Predicted: [0.003698]\n",
      "Groundtruth: [0.10622968661663315]. Predicted: [0.10822198]\n",
      "Groundtruth: [0.21794636061360745]. Predicted: [0.22297766]\n",
      "Groundtruth: [0.05975679433996433]. Predicted: [0.05988043]\n",
      "Groundtruth: [0.18630521257063645]. Predicted: [0.18441715]\n",
      "Groundtruth: [0.02222078555876702]. Predicted: [0.02658641]\n",
      "Groundtruth: [0.0004236251257972795]. Predicted: [-0.00251716]\n",
      "Groundtruth: [0.0502835018054236]. Predicted: [0.05321514]\n",
      "Groundtruth: [0.010178343889794649]. Predicted: [0.00762436]\n",
      "Groundtruth: [0.026633059945761636]. Predicted: [0.01862891]\n",
      "Groundtruth: [0.15387193100978874]. Predicted: [0.16287203]\n",
      "Groundtruth: [0.0706652516633818]. Predicted: [0.07442811]\n",
      "Groundtruth: [-0.0006461099608222631]. Predicted: [-0.00695485]\n",
      "Groundtruth: [-2.9878423779023003e-05]. Predicted: [0.00081415]\n",
      "Groundtruth: [0.1611910304347613]. Predicted: [0.18345344]\n",
      "Groundtruth: [0.24323478488869743]. Predicted: [0.25050849]\n",
      "Groundtruth: [0.13224001517643003]. Predicted: [0.11791036]\n",
      "Groundtruth: [0.0002509698944279922]. Predicted: [-0.00768287]\n",
      "Groundtruth: [0.12206208731520746]. Predicted: [0.12259873]\n",
      "Groundtruth: [0.07936514061801826]. Predicted: [0.07975209]\n",
      "Groundtruth: [0.30699567355064633]. Predicted: [0.29523859]\n",
      "Groundtruth: [0.14605269801268642]. Predicted: [0.14109092]\n",
      "Groundtruth: [0.14059264185424572]. Predicted: [0.15221675]\n",
      "Groundtruth: [-0.00010806467244088325]. Predicted: [0.00779113]\n",
      "Groundtruth: [0.13623709834658254]. Predicted: [0.13199821]\n",
      "Groundtruth: [0.2762705123907762]. Predicted: [0.27994404]\n",
      "Groundtruth: [0.13405205273075219]. Predicted: [0.12609191]\n",
      "Groundtruth: [0.10497255143417296]. Predicted: [0.10072934]\n",
      "Groundtruth: [0.16116451216914288]. Predicted: [0.16239849]\n",
      "Groundtruth: [0.09436223818509479]. Predicted: [0.0934909]\n",
      "Groundtruth: [0.2155803738508586]. Predicted: [0.21530385]\n",
      "Groundtruth: [0.1117588044581994]. Predicted: [0.10827393]\n",
      "Groundtruth: [0.2758648289266024]. Predicted: [0.25546008]\n",
      "Groundtruth: [0.2037340722997675]. Predicted: [0.2218049]\n",
      "Groundtruth: [0.193851844629741]. Predicted: [0.19893822]\n",
      "Groundtruth: [0.09036923514834734]. Predicted: [0.08928349]\n",
      "Groundtruth: [0.0445808866825319]. Predicted: [0.04562305]\n",
      "Groundtruth: [0.10199045591600414]. Predicted: [0.10769778]\n",
      "Groundtruth: [0.07214498373859013]. Predicted: [0.0632998]\n",
      "Groundtruth: [0.2807772686262736]. Predicted: [0.27731946]\n",
      "Groundtruth: [0.13617246153716034]. Predicted: [0.14401799]\n",
      "Groundtruth: [0.30108948509605826]. Predicted: [0.29211285]\n",
      "Groundtruth: [0.1960091813182509]. Predicted: [0.17522152]\n",
      "Groundtruth: [0.19011075561375998]. Predicted: [0.19877833]\n",
      "Groundtruth: [0.00048305601738901426]. Predicted: [0.00041742]\n",
      "Groundtruth: [0.12839003840373692]. Predicted: [0.12621052]\n",
      "Groundtruth: [0.0356640274617061]. Predicted: [0.03449704]\n",
      "Groundtruth: [0.04548414485012785]. Predicted: [0.05093383]\n",
      "Groundtruth: [0.22565142548317846]. Predicted: [0.20824386]\n",
      "Groundtruth: [0.12505118537388935]. Predicted: [0.12221352]\n",
      "Groundtruth: [0.0003659319759291468]. Predicted: [0.0009651]\n",
      "Groundtruth: [0.06729501569791857]. Predicted: [0.07185751]\n",
      "Groundtruth: [0.16772656620691398]. Predicted: [0.16511743]\n",
      "Groundtruth: [0.2641598897516181]. Predicted: [0.26703632]\n",
      "Groundtruth: [0.2362398360801217]. Predicted: [0.24229872]\n",
      "Groundtruth: [0.22516640353848133]. Predicted: [0.21062833]\n",
      "Groundtruth: [0.19564475581786425]. Predicted: [0.18158799]\n",
      "Groundtruth: [0.15704142906538948]. Predicted: [0.14353997]\n",
      "Groundtruth: [0.043499854218571735]. Predicted: [0.05422738]\n",
      "Groundtruth: [0.14096400693260425]. Predicted: [0.13217331]\n",
      "Groundtruth: [0.25444213582714786]. Predicted: [0.25900689]\n",
      "Groundtruth: [0.07226675671059868]. Predicted: [0.07142615]\n",
      "Groundtruth: [0.23200681951733035]. Predicted: [0.24154982]\n",
      "Groundtruth: [0.18567538357309693]. Predicted: [0.18947637]\n",
      "Groundtruth: [0.1294654724962013]. Predicted: [0.1295859]\n",
      "Groundtruth: [0.29582379749723514]. Predicted: [0.28429852]\n",
      "Groundtruth: [0.0832513067611832]. Predicted: [0.08429487]\n",
      "Groundtruth: [0.27382714861016183]. Predicted: [0.27252705]\n",
      "Groundtruth: [0.3035818814146032]. Predicted: [0.30104802]\n",
      "Groundtruth: [0.11885691091667887]. Predicted: [0.12184399]\n",
      "Groundtruth: [0.1981590817625349]. Predicted: [0.19559254]\n",
      "Groundtruth: [0.02463116349517626]. Predicted: [0.02625554]\n",
      "Groundtruth: [0.023651547563729124]. Predicted: [0.02621901]\n",
      "Groundtruth: [0.08192327888745204]. Predicted: [0.07442065]\n",
      "Groundtruth: [0.18935656858734928]. Predicted: [0.19440082]\n",
      "Groundtruth: [0.22032498157016417]. Predicted: [0.21836151]\n",
      "Groundtruth: [0.1750381939928091]. Predicted: [0.17135729]\n",
      "Groundtruth: [0.15973828531331238]. Predicted: [0.17259688]\n",
      "Groundtruth: [0.19471741981174095]. Predicted: [0.19057247]\n",
      "Groundtruth: [0.11854974560032827]. Predicted: [0.12220976]\n",
      "Groundtruth: [0.13830335512548303]. Predicted: [0.12701827]\n",
      "Groundtruth: [0.07334528245504492]. Predicted: [0.07553095]\n",
      "Groundtruth: [0.05065331106642939]. Predicted: [0.05458481]\n",
      "Groundtruth: [0.12447268240468057]. Predicted: [0.12100538]\n",
      "Groundtruth: [0.028679768572298283]. Predicted: [0.02441602]\n",
      "Groundtruth: [0.10254493712459925]. Predicted: [0.10859605]\n",
      "Groundtruth: [0.15232216632067264]. Predicted: [0.14644859]\n",
      "Groundtruth: [0.2666416133860521]. Predicted: [0.2672423]\n",
      "Groundtruth: [0.02733958835262936]. Predicted: [0.02881169]\n",
      "Groundtruth: [0.09190501382945664]. Predicted: [0.09368264]\n",
      "Groundtruth: [0.05871727570483293]. Predicted: [0.05448677]\n",
      "Groundtruth: [0.26302209012847877]. Predicted: [0.26949931]\n",
      "Groundtruth: [0.15524116779657632]. Predicted: [0.15476798]\n",
      "Groundtruth: [0.18017856133998558]. Predicted: [0.1752499]\n",
      "Groundtruth: [0.0719197433742915]. Predicted: [0.07746549]\n",
      "Groundtruth: [0.1393180974475858]. Predicted: [0.14803139]\n",
      "Groundtruth: [0.2686856691456655]. Predicted: [0.26912868]\n",
      "Groundtruth: [0.22157977783199598]. Predicted: [0.20721389]\n",
      "Groundtruth: [0.18386176833560164]. Predicted: [0.19222737]\n",
      "Groundtruth: [0.11782993436680397]. Predicted: [0.11449603]\n",
      "Groundtruth: [0.06953072683189249]. Predicted: [0.07486007]\n",
      "Groundtruth: [0.027404490060180114]. Predicted: [0.02466903]\n",
      "Groundtruth: [0.24664223495891555]. Predicted: [0.24033745]\n"
     ]
    }
   ],
   "source": [
    "for idx, prediction in enumerate(predictions):\n",
    "    print(f'Groundtruth: {Y_test[idx]}. Predicted: {prediction}')"
   ]
  },
  {
   "cell_type": "markdown",
   "id": "b5d4df94",
   "metadata": {},
   "source": [
    "## Predict CoM -> y"
   ]
  },
  {
   "cell_type": "markdown",
   "id": "53333162",
   "metadata": {},
   "source": [
    "### Linear Regression"
   ]
  },
  {
   "cell_type": "code",
   "execution_count": 18,
   "id": "12f3e7c5",
   "metadata": {},
   "outputs": [
    {
     "name": "stdout",
     "output_type": "stream",
     "text": [
      "R2:  0.9198778225132074\n",
      "RMSE:  0.001641976290645314\n",
      "The lowest error is:  5.37008427417573e-06\n",
      "The highest error is:  0.00426687608550642\n",
      "The avg. error is:  0.0012804781968983941\n"
     ]
    }
   ],
   "source": [
    "# Input\n",
    "X = np.hstack((X_motion_CoM_acceleration_FR_RL[:, 0:1], # previous reference velocity\n",
    "               X_motion_CoM_acceleration_FR_RL[:, 3:4], # current reference velocity\n",
    "               X_motion_CoM_acceleration_FR_RL[:, 6:7], # actual velocity\n",
    "               X_motion_CoM_acceleration_FR_RL[:, 9:11], # FL position\n",
    "               X_motion_CoM_acceleration_FR_RL[:, 12:14], # FR position\n",
    "               X_motion_CoM_acceleration_FR_RL[:, 15:17], # RL position\n",
    "               X_motion_CoM_acceleration_FR_RL[:, 18:20])) # RR position\n",
    "\n",
    "# Labels\n",
    "Y = np.array([Y_motion_CoM_acceleration_FR_RL[:, 1]]).T\n",
    "\n",
    "assert Y.shape[0] == X.shape[0]\n",
    "\n",
    "# Split dataset and fit best model\n",
    "X_test, Y_test, predictions, model_fr_com_y = find_best_model(X, Y, runs=5000)"
   ]
  },
  {
   "cell_type": "code",
   "execution_count": 19,
   "id": "627155e6",
   "metadata": {},
   "outputs": [
    {
     "data": {
      "text/plain": [
       "array([[-0.02788519,  0.02285328,  0.00231819,  0.03030785,  0.03458423,\n",
       "        -0.02304854,  0.02020893,  0.00394446, -0.0448641 , -0.01926709,\n",
       "         0.06255304]])"
      ]
     },
     "execution_count": 19,
     "metadata": {},
     "output_type": "execute_result"
    }
   ],
   "source": [
    "model_fr_com_y.coef_"
   ]
  },
  {
   "cell_type": "code",
   "execution_count": 20,
   "id": "546a4b38",
   "metadata": {},
   "outputs": [
    {
     "data": {
      "text/plain": [
       "array([0.00727056])"
      ]
     },
     "execution_count": 20,
     "metadata": {},
     "output_type": "execute_result"
    }
   ],
   "source": [
    "model_fr_com_y.intercept_"
   ]
  },
  {
   "cell_type": "code",
   "execution_count": 21,
   "id": "a0d078ef",
   "metadata": {},
   "outputs": [
    {
     "data": {
      "text/plain": [
       "Text(0, 0.5, 'Predictions')"
      ]
     },
     "execution_count": 21,
     "metadata": {},
     "output_type": "execute_result"
    },
    {
     "data": {
      "image/png": "[encoded data removed]",
      "text/plain": [
       "<Figure size 640x480 with 1 Axes>"
      ]
     },
     "metadata": {},
     "output_type": "display_data"
    }
   ],
   "source": [
    "## The line / model\n",
    "plt.scatter(Y_test, predictions)\n",
    "plt.xlabel(\"Groundtruth\")\n",
    "plt.ylabel(\"Predictions\")"
   ]
  },
  {
   "cell_type": "code",
   "execution_count": 22,
   "id": "26433625",
   "metadata": {},
   "outputs": [],
   "source": [
    "#for idx, prediction in enumerate(predictions):\n",
    "#    print(f'Groundtruth: {Y_test[idx]}. Predicted: {prediction}')"
   ]
  },
  {
   "cell_type": "code",
   "execution_count": null,
   "id": "fd289de1-d0da-4aa4-b212-f49751558051",
   "metadata": {},
   "outputs": [],
   "source": []
  },
  {
   "cell_type": "code",
   "execution_count": null,
   "id": "4a86ba99-1202-47ac-a6d1-d3a6834fdd95",
   "metadata": {},
   "outputs": [],
   "source": []
  }
 ],
 "metadata": {
  "kernelspec": {
   "display_name": "Python 3 (ipykernel)",
   "language": "python",
   "name": "python3"
  },
  "language_info": {
   "codemirror_mode": {
    "name": "ipython",
    "version": 3
   },
   "file_extension": ".py",
   "mimetype": "text/x-python",
   "name": "python",
   "nbconvert_exporter": "python",
   "pygments_lexer": "ipython3",
   "version": "3.10.6"
  }
 },
 "nbformat": 4,
 "nbformat_minor": 5
}
