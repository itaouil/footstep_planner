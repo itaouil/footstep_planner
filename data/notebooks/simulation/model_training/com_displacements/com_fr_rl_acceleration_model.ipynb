{
 "cells": [
  {
   "cell_type": "code",
   "execution_count": 1,
   "id": "7396057a",
   "metadata": {},
   "outputs": [],
   "source": [
    "#!/usr/bin/env python3.6\n",
    "# -*- coding: utf-8 -*-"
   ]
  },
  {
   "cell_type": "code",
   "execution_count": 2,
   "id": "3685f3b4",
   "metadata": {},
   "outputs": [],
   "source": [
    "# Imports\n",
    "import sys\n",
    "import joblib\n",
    "import numpy as np\n",
    "from math import atan2\n",
    "from matplotlib import animation\n",
    "from IPython.display import HTML\n",
    "from matplotlib import pyplot as plt\n",
    "import mpl_toolkits.mplot3d.axes3d as p3"
   ]
  },
  {
   "cell_type": "code",
   "execution_count": 3,
   "id": "624b9d07",
   "metadata": {},
   "outputs": [],
   "source": [
    "#np.random.seed(20)\n",
    "np.set_printoptions(threshold=sys.maxsize)"
   ]
  },
  {
   "cell_type": "code",
   "execution_count": 4,
   "id": "44f22e21",
   "metadata": {},
   "outputs": [],
   "source": [
    "%matplotlib inline"
   ]
  },
  {
   "cell_type": "code",
   "execution_count": 5,
   "id": "9b734bb8",
   "metadata": {},
   "outputs": [
    {
     "name": "stdout",
     "output_type": "stream",
     "text": [
      "(7395, 23)\n",
      "(7395, 3)\n"
     ]
    }
   ],
   "source": [
    "%store -r X_motion_CoM_acceleration\n",
    "%store -r Y_motion_CoM_acceleration\n",
    "print(X_motion_CoM_acceleration.shape)\n",
    "print(Y_motion_CoM_acceleration.shape)"
   ]
  },
  {
   "cell_type": "code",
   "execution_count": 6,
   "id": "45886539",
   "metadata": {},
   "outputs": [
    {
     "data": {
      "text/plain": [
       "array([0.1, 0.0, 0.0, 0.1, 0.0, 0.0, -0.00392833860457, 0.0159176796696,\n",
       "       -0.00429879158561, 0.2526783703469499, 0.13427893772863944,\n",
       "       -0.2778846068029694, 0.24869912614405365, -0.12366310216804982,\n",
       "       -0.3133057085330896, -0.2690074673240338, 0.1271401124419832,\n",
       "       -0.3136605626775182, -0.26988041665563206, -0.1350023534415291,\n",
       "       -0.2815400304417422, False, True], dtype=object)"
      ]
     },
     "execution_count": 6,
     "metadata": {},
     "output_type": "execute_result"
    }
   ],
   "source": [
    "X_motion_CoM_acceleration[0]"
   ]
  },
  {
   "cell_type": "code",
   "execution_count": 7,
   "id": "067a916e",
   "metadata": {},
   "outputs": [
    {
     "data": {
      "text/plain": [
       "array([[0.015024544741364753, 0.0031745505499044297, 0],\n",
       "       [0.0244901497177486, -0.0017141485288042285, 0],\n",
       "       [0.023807360577614352, 0.0016117138856960357, 0],\n",
       "       [0.028454635884038584, -0.0011932863192845068, 0],\n",
       "       [0.02304735004324249, 0.001088606590820374, 0],\n",
       "       [0.02424454757067094, -0.0013822147255968858, 0],\n",
       "       [0.02857265080483277, 0.0013207193610095857, 0],\n",
       "       [0.023672292991041486, -0.0011615224015968967, 0],\n",
       "       [0.024427038629548616, 0.0012020538703732967, 0],\n",
       "       [0.02405386268534631, -0.0013037454011880095, 0],\n",
       "       [0.02807375693924579, 0.001285793776076903, 0],\n",
       "       [0.023506903529684358, -0.0010863303010825438, 0],\n",
       "       [0.023984797743990538, 0.0012408587464879553, 0],\n",
       "       [0.02361076966462593, -0.0011992096455204074, 0],\n",
       "       [0.028030238290395713, 0.0012099079529472188, 0],\n",
       "       [0.02435197496686631, -0.0011986507148551457, 0],\n",
       "       [0.022753119041687354, 0.0014287628521740627, 0],\n",
       "       [0.02796312128603495, -0.0010791129242792128, 0],\n",
       "       [0.02265922628580474, 0.0011091017024195695, 0],\n",
       "       [0.028332769309165295, -0.0012121729083450837, 0],\n",
       "       [0.024985967028529472, 0.0012312627357476623, 0],\n",
       "       [0.023305427442728, -0.001091687172020272, 0],\n",
       "       [0.02586955880223461, 0.0011658921009360692, 0],\n",
       "       [0.023425868558040724, -0.001385443376904348, 0],\n",
       "       [0.02782082552698695, 0.0012769432695813243, 0],\n",
       "       [0.02412468179052124, -0.001047262926328554, 0],\n",
       "       [0.023651068759129767, 0.0012617160428294396, 0],\n",
       "       [0.02403466333818243, -0.0013123183744695006, 0],\n",
       "       [0.02728700457965516, 0.0013150910275509765, 0],\n",
       "       [0.025949540313946712, -0.0011722869526914253, 0],\n",
       "       [0.024361464264813507, 0.0011697282506653475, 0],\n",
       "       [0.024380599067545347, -0.0010876764579837881, 0],\n",
       "       [0.023644844427068077, 0.0012479308464964103, 0],\n",
       "       [0.027554741233445038, -0.0012205924534370992, 0],\n",
       "       [0.02514983035516239, 0.0012421457342985118, 0],\n",
       "       [0.022786156819782685, -0.0011017899139396186, 0],\n",
       "       [0.0243053377890189, 0.0012337927615637023, 0],\n",
       "       [0.029114458324215626, -0.001193752725410422, 0],\n",
       "       [0.02499022257637708, 0.001171421793233882, 0],\n",
       "       [0.022939831135521952, -0.0010495183017246565, 0],\n",
       "       [0.024694228354517872, 0.0012457240974749933, 0],\n",
       "       [0.02421832810815894, -0.0013718130088372599, 0],\n",
       "       [0.02822397966261408, 0.0013590506449000124, 0],\n",
       "       [0.024530112472338994, -0.0010247200361505648, 0],\n",
       "       [0.022846782229189067, 0.0012611481813380348, 0],\n",
       "       [0.02804563321878458, -0.0011409066616320169, 0],\n",
       "       [0.02287023533402252, 0.0012077127107570425, 0],\n",
       "       [0.028086233003217907, -0.0010536546627635862, 0],\n",
       "       [0.0243964658373102, 0.0011745484947104613, 0],\n",
       "       [0.024764605348629485, -0.0009069620750570798, 0],\n",
       "       [0.02402970918049206, 0.001068123971192862, 0],\n",
       "       [0.02317914684124174, -0.0012654094286635592, 0],\n",
       "       [0.0280474516884481, 0.0012702097825696551, 0],\n",
       "       [0.023650249552400734, -0.001025863195022582, 0],\n",
       "       [0.024307818339355802, 0.001154501750380387, 0],\n",
       "       [0.0278657840929478, -0.0011623394426035047, 0],\n",
       "       [0.022535384471593426, 0.001243880260766699, 0],\n",
       "       [0.023375454341314546, -0.0012960803758252301, 0],\n",
       "       [0.02665834242709145, 0.00125378671289162, 0],\n",
       "       [0.028230272475384174, -0.0012305944024295636, 0],\n",
       "       [0.022946590105067027, 0.0011123466935796722, 0],\n",
       "       [0.024483541898269748, -0.0012956996262699372, 0],\n",
       "       [0.024479402529961503, 0.001230640240857888, 0],\n",
       "       [0.027695421801036367, -0.0011870722600283447, 0],\n",
       "       [0.024083869535837132, 0.001144122210988741, 0],\n",
       "       [0.02314667205499194, -0.001216108483513737, 0],\n",
       "       [0.02802392603208125, 0.0012689991706985961, 0],\n",
       "       [0.022387614838864086, -0.0010382948654505128, 0],\n",
       "       [0.027695107284538143, 0.001143467930039272, 0],\n",
       "       [0.024394842176785173, -0.0011134216960117368, 0],\n",
       "       [0.024429711885313433, 0.001330848406419944, 0],\n",
       "       [0.02360220322594048, -0.001205469755470129, 0],\n",
       "       [0.027520374007949377, 0.0010113132744297062, 0],\n",
       "       [0.02460350862755985, -0.0011277904090357465, 0],\n",
       "       [0.023425567878086754, 0.0013310100342996125, 0],\n",
       "       [0.027800972247906373, -0.0010565991999014566, 0],\n",
       "       [0.02430675814930956, 0.001075840236604774, 0],\n",
       "       [0.023373621512691678, -0.0012604999518575964, 0],\n",
       "       [0.02698321416535297, 0.0012739641730686413, 0],\n",
       "       [0.02330865410492855, -0.0011433423746865534, 0],\n",
       "       [0.02445151520743194, 0.001359809396754347, 0],\n",
       "       [0.02482606456596187, -0.0013343080473748462, 0],\n",
       "       [0.02887236767847138, 0.0013523113404547596, 0],\n",
       "       [0.022660140159526807, -0.0011292848197376995, 0],\n",
       "       [0.02357256035218312, 0.0012834807852062811, 0],\n",
       "       [0.024420874807810654, -0.001260892218506975, 0],\n",
       "       [0.024886263102818298, 0.0014024278177491034, 0],\n",
       "       [0.02910698348948101, -0.0011690121785327859, 0],\n",
       "       [0.023135063987373923, 0.001284861798026198, 0],\n",
       "       [0.024393093237134195, -0.001124941024576737, 0],\n",
       "       [0.02428120310951767, 0.0011681338435509702, 0],\n",
       "       [0.02426319285901521, -0.0014548493362556577, 0],\n",
       "       [0.027341183342918723, 0.0013497720820437023, 0],\n",
       "       [0.023385596832610534, -0.0013362927939370502, 0],\n",
       "       [0.028279540653004056, 0.001179780889396555, 0],\n",
       "       [0.02498318216028782, -0.0011840191383260838, 0],\n",
       "       [0.022997570978161682, 0.0013025496014477738, 0],\n",
       "       [0.02410491460507584, -0.0013213575958669513, 0],\n",
       "       [0.025231610900510033, 0.0013292539900946357, 0],\n",
       "       [0.028876886670670628, -0.0011254462934574014, 0]], dtype=object)"
      ]
     },
     "execution_count": 7,
     "metadata": {},
     "output_type": "execute_result"
    }
   ],
   "source": [
    "Y_motion_CoM_acceleration[0:100]"
   ]
  },
  {
   "cell_type": "markdown",
   "id": "d321ce72",
   "metadata": {},
   "source": [
    "# Multivariate Linear Regression (CoM Prediction)"
   ]
  },
  {
   "cell_type": "code",
   "execution_count": 8,
   "id": "2de76309",
   "metadata": {},
   "outputs": [],
   "source": [
    "import sklearn\n",
    "from sklearn import metrics\n",
    "from sklearn.feature_selection import RFE\n",
    "from sklearn.model_selection import KFold\n",
    "from sklearn.linear_model import LinearRegression\n",
    "from sklearn.model_selection import train_test_split\n",
    "from sklearn.preprocessing import PolynomialFeatures \n",
    "from sklearn.model_selection import cross_val_score, cross_val_predict\n",
    "from sklearn.metrics import mean_squared_error, mean_absolute_error, r2_score"
   ]
  },
  {
   "cell_type": "code",
   "execution_count": 9,
   "id": "aa045adf",
   "metadata": {},
   "outputs": [
    {
     "name": "stdout",
     "output_type": "stream",
     "text": [
      "(3697, 23)\n",
      "(3697, 3)\n"
     ]
    }
   ],
   "source": [
    "idx_fr_rl_swinging = np.where(X_motion_CoM_acceleration[:, -1] == 1)[0]\n",
    "X_motion_CoM_acceleration_FR_RL = X_motion_CoM_acceleration[idx_fr_rl_swinging]\n",
    "Y_motion_CoM_acceleration_FR_RL = Y_motion_CoM_acceleration[idx_fr_rl_swinging]\n",
    "print(X_motion_CoM_acceleration_FR_RL.shape)\n",
    "print(Y_motion_CoM_acceleration_FR_RL.shape)"
   ]
  },
  {
   "cell_type": "markdown",
   "id": "ee2624d4",
   "metadata": {},
   "source": [
    "## Predict CoM (x) movement"
   ]
  },
  {
   "cell_type": "code",
   "execution_count": 10,
   "id": "0a9e4803",
   "metadata": {},
   "outputs": [
    {
     "data": {
      "text/plain": [
       "array([0.1, 0.0, 0.0, 0.1, 0.0, 0.0, -0.00392833860457, 0.0159176796696,\n",
       "       -0.00429879158561, 0.2526783703469499, 0.13427893772863944,\n",
       "       -0.2778846068029694, 0.24869912614405365, -0.12366310216804982,\n",
       "       -0.3133057085330896, -0.2690074673240338, 0.1271401124419832,\n",
       "       -0.3136605626775182, -0.26988041665563206, -0.1350023534415291,\n",
       "       -0.2815400304417422, False, True], dtype=object)"
      ]
     },
     "execution_count": 10,
     "metadata": {},
     "output_type": "execute_result"
    }
   ],
   "source": [
    "X_motion_CoM_acceleration_FR_RL[0, :]"
   ]
  },
  {
   "cell_type": "code",
   "execution_count": 11,
   "id": "d55c6716",
   "metadata": {},
   "outputs": [
    {
     "data": {
      "text/plain": [
       "array([0.015024544741364753, 0.0031745505499044297, 0], dtype=object)"
      ]
     },
     "execution_count": 11,
     "metadata": {},
     "output_type": "execute_result"
    }
   ],
   "source": [
    "Y_motion_CoM_acceleration_FR_RL[0, :]"
   ]
  },
  {
   "cell_type": "markdown",
   "id": "3a6f2540",
   "metadata": {},
   "source": [
    "### Linear Regression"
   ]
  },
  {
   "cell_type": "code",
   "execution_count": 12,
   "id": "b129288c-f364-4a57-8463-62fe2ce95939",
   "metadata": {},
   "outputs": [],
   "source": [
    "def find_best_model(X, Y, runs=1000):\n",
    "    best_model = None\n",
    "    lowest_error = 100\n",
    "    best_Xtr, best_Xte, best_Ytr, best_Yte = None, None, None, None\n",
    "    \n",
    "    for _ in range(runs):\n",
    "        X_train, X_test, Y_train, Y_test = train_test_split(X, Y, train_size = 0.9, shuffle=True)\n",
    "        \n",
    "        model = LinearRegression()\n",
    "        model.fit(X_train, Y_train)\n",
    "\n",
    "        predictions = model.predict(X_test)\n",
    "        error = np.max(np.abs(predictions - Y_test))\n",
    "\n",
    "        if error < lowest_error:\n",
    "            best_model = model\n",
    "            lowest_error = error\n",
    "            best_Xtr, best_Xte, best_Ytr, best_Yte = X_train, X_test, Y_train, Y_test\n",
    "\n",
    "    # Stats\n",
    "    predictions = best_model.predict(best_Xte)\n",
    "    print('R2: ', r2_score(predictions, best_Yte))\n",
    "    print('RMSE: ', np.sqrt(mean_squared_error(best_Yte, predictions)))\n",
    "    print(\"The lowest error is: \", np.min(np.abs(predictions - best_Yte)))\n",
    "    print(\"The highest error is: \", np.max(np.abs(predictions - best_Yte)))\n",
    "    print(\"The avg. error is: \", np.mean(np.abs(predictions - best_Yte)))\n",
    "    \n",
    "    return best_Xte, best_Yte, predictions, best_model"
   ]
  },
  {
   "cell_type": "code",
   "execution_count": 13,
   "id": "c19cae26-5b62-4311-9b12-c47726058f32",
   "metadata": {},
   "outputs": [
    {
     "name": "stdout",
     "output_type": "stream",
     "text": [
      "R2:  0.9880846767918265\n",
      "RMSE:  0.008865356809251641\n",
      "The lowest error is:  8.226610381661947e-07\n",
      "The highest error is:  0.02391455313068258\n",
      "The avg. error is:  0.007168663808808623\n"
     ]
    }
   ],
   "source": [
    "# Input\n",
    "X = np.hstack((X_motion_CoM_acceleration_FR_RL[:, 0:1], # previous reference velocity\n",
    "               X_motion_CoM_acceleration_FR_RL[:, 3:4], # current reference velocity\n",
    "               X_motion_CoM_acceleration_FR_RL[:, 6:7], # actual velocity\n",
    "               X_motion_CoM_acceleration_FR_RL[:, 10:12], # FL position\n",
    "               X_motion_CoM_acceleration_FR_RL[:, 13:15], # FR position\n",
    "               X_motion_CoM_acceleration_FR_RL[:, 16:18], # RL position\n",
    "               X_motion_CoM_acceleration_FR_RL[:, 19:21])) # RR position\n",
    "\n",
    "# Labels\n",
    "Y = np.array([Y_motion_CoM_acceleration_FR_RL[:, 0]]).T\n",
    "\n",
    "assert Y.shape[0] == X.shape[0]\n",
    "\n",
    "# Split dataset and fit best model\n",
    "X_test, Y_test, predictions, model_fr_com_x = find_best_model(X, Y, runs=5000)"
   ]
  },
  {
   "cell_type": "code",
   "execution_count": 14,
   "id": "5f603ab7",
   "metadata": {},
   "outputs": [
    {
     "data": {
      "text/plain": [
       "array([[ 0.12607056,  0.14148828, -0.00536233,  0.71508619, -0.43164087,\n",
       "        -0.12190701,  1.55553472,  0.12771689,  0.42587718,  0.1366497 ,\n",
       "         0.70212357]])"
      ]
     },
     "execution_count": 14,
     "metadata": {},
     "output_type": "execute_result"
    }
   ],
   "source": [
    "model_fr_com_x.coef_"
   ]
  },
  {
   "cell_type": "code",
   "execution_count": 15,
   "id": "2e7d17cd",
   "metadata": {},
   "outputs": [
    {
     "data": {
      "text/plain": [
       "array([0.58771719])"
      ]
     },
     "execution_count": 15,
     "metadata": {},
     "output_type": "execute_result"
    }
   ],
   "source": [
    "model_fr_com_x.intercept_"
   ]
  },
  {
   "cell_type": "code",
   "execution_count": 16,
   "id": "f4a78f7b",
   "metadata": {},
   "outputs": [
    {
     "data": {
      "text/plain": [
       "Text(0, 0.5, 'Predictions')"
      ]
     },
     "execution_count": 16,
     "metadata": {},
     "output_type": "execute_result"
    },
    {
     "data": {
      "image/png": "[encoded data removed]",
      "text/plain": [
       "<Figure size 640x480 with 1 Axes>"
      ]
     },
     "metadata": {},
     "output_type": "display_data"
    }
   ],
   "source": [
    "## The line / model\n",
    "plt.scatter(Y_test, predictions)\n",
    "plt.xlabel(\"Groundtruth\")\n",
    "plt.ylabel(\"Predictions\")"
   ]
  },
  {
   "cell_type": "code",
   "execution_count": 17,
   "id": "463b8c66",
   "metadata": {},
   "outputs": [
    {
     "name": "stdout",
     "output_type": "stream",
     "text": [
      "Groundtruth: [0.12493498784840458]. Predicted: [0.12374679]\n",
      "Groundtruth: [0.023373103659555278]. Predicted: [0.01169351]\n",
      "Groundtruth: [0.19471741981174095]. Predicted: [0.19398069]\n",
      "Groundtruth: [0.22992974883704162]. Predicted: [0.24942235]\n",
      "Groundtruth: [0.22782480211670997]. Predicted: [0.2253985]\n",
      "Groundtruth: [0.2636553933181712]. Predicted: [0.26922627]\n",
      "Groundtruth: [0.22827769918047916]. Predicted: [0.24994988]\n",
      "Groundtruth: [0.025231610900510033]. Predicted: [0.03434316]\n",
      "Groundtruth: [0.050258304880737896]. Predicted: [0.05289743]\n",
      "Groundtruth: [0.14379062940222415]. Predicted: [0.14076532]\n",
      "Groundtruth: [0.2621116805776995]. Predicted: [0.2721144]\n",
      "Groundtruth: [0.045256509028787736]. Predicted: [0.04525569]\n",
      "Groundtruth: [0.21516652052864393]. Predicted: [0.20187948]\n",
      "Groundtruth: [0.1521816337071194]. Predicted: [0.16505815]\n",
      "Groundtruth: [0.05153520109252819]. Predicted: [0.05950482]\n",
      "Groundtruth: [0.1703507238667457]. Predicted: [0.16322548]\n",
      "Groundtruth: [0.07360033362073906]. Predicted: [0.0652289]\n",
      "Groundtruth: [0.20232321811059933]. Predicted: [0.19731099]\n",
      "Groundtruth: [0.00025721394645411387]. Predicted: [-0.00215107]\n",
      "Groundtruth: [0.19347563516777566]. Predicted: [0.20643531]\n",
      "Groundtruth: [0.26034632025215854]. Predicted: [0.2692926]\n",
      "Groundtruth: [0.07813882044886573]. Predicted: [0.07217485]\n",
      "Groundtruth: [0.21683113397221862]. Predicted: [0.23569561]\n",
      "Groundtruth: [0.18051883220912412]. Predicted: [0.19298351]\n",
      "Groundtruth: [0.14417519398773304]. Predicted: [0.14823207]\n",
      "Groundtruth: [0.21628757959272632]. Predicted: [0.2041659]\n",
      "Groundtruth: [0.17152982717934398]. Predicted: [0.17452987]\n",
      "Groundtruth: [0.1480154951225199]. Predicted: [0.14335293]\n",
      "Groundtruth: [0.13590578643608808]. Predicted: [0.13903447]\n",
      "Groundtruth: [0.1812558228038153]. Predicted: [0.19010023]\n",
      "Groundtruth: [0.09512843510580342]. Predicted: [0.10557248]\n",
      "Groundtruth: [0.14840752455877895]. Predicted: [0.14505535]\n",
      "Groundtruth: [0.2453816525096177]. Predicted: [0.25179352]\n",
      "Groundtruth: [0.09308689195735663]. Predicted: [0.09609894]\n",
      "Groundtruth: [0.11571132764687656]. Predicted: [0.12163837]\n",
      "Groundtruth: [0.2629051293085182]. Predicted: [0.28167603]\n",
      "Groundtruth: [0.21213712759178663]. Predicted: [0.22309695]\n",
      "Groundtruth: [0.24691981693181725]. Predicted: [0.25083915]\n",
      "Groundtruth: [0.15980980619989216]. Predicted: [0.16238464]\n",
      "Groundtruth: [0.22314378854253433]. Predicted: [0.21666439]\n",
      "Groundtruth: [0.05391462978709384]. Predicted: [0.0620811]\n",
      "Groundtruth: [0.117601656812372]. Predicted: [0.11638858]\n",
      "Groundtruth: [0.07020007438098674]. Predicted: [0.06676241]\n",
      "Groundtruth: [0.2841039861447842]. Predicted: [0.26523819]\n",
      "Groundtruth: [0.001302967584985566]. Predicted: [0.00263494]\n",
      "Groundtruth: [0.11942261765211552]. Predicted: [0.11752678]\n",
      "Groundtruth: [0.18217250511484587]. Predicted: [0.1961374]\n",
      "Groundtruth: [0.022858148898625655]. Predicted: [0.0156355]\n",
      "Groundtruth: [0.13512200552834813]. Predicted: [0.14332473]\n",
      "Groundtruth: [0.025600560748102068]. Predicted: [0.01276091]\n",
      "Groundtruth: [0.055203868599152175]. Predicted: [0.05362149]\n",
      "Groundtruth: [0.053222766001115224]. Predicted: [0.05581262]\n",
      "Groundtruth: [0.11753210620066405]. Predicted: [0.10997678]\n",
      "Groundtruth: [-2.9878423779023003e-05]. Predicted: [-0.00084266]\n",
      "Groundtruth: [0.3140026061833185]. Predicted: [0.29036253]\n",
      "Groundtruth: [0.27102132773012]. Predicted: [0.2640889]\n",
      "Groundtruth: [0.1272087047658256]. Predicted: [0.12983707]\n",
      "Groundtruth: [0.1552580886701618]. Predicted: [0.1623709]\n",
      "Groundtruth: [0.12055259134592028]. Predicted: [0.11253833]\n",
      "Groundtruth: [0.027123615111506995]. Predicted: [0.02484013]\n",
      "Groundtruth: [0.19565180502848883]. Predicted: [0.19528554]\n",
      "Groundtruth: [-0.0004457154645035151]. Predicted: [-0.01130582]\n",
      "Groundtruth: [0.02360116574670694]. Predicted: [0.02046403]\n",
      "Groundtruth: [0.1045034335847386]. Predicted: [0.1013358]\n",
      "Groundtruth: [0.13561239994246033]. Predicted: [0.12660702]\n",
      "Groundtruth: [0.16768628688162526]. Predicted: [0.16043552]\n",
      "Groundtruth: [0.10234972066870256]. Predicted: [0.1019502]\n",
      "Groundtruth: [0.07129411638058747]. Predicted: [0.06365542]\n",
      "Groundtruth: [0.05099684341013351]. Predicted: [0.05139019]\n",
      "Groundtruth: [0.09793116509159909]. Predicted: [0.10451604]\n",
      "Groundtruth: [0.09074799659745443]. Predicted: [0.09724499]\n",
      "Groundtruth: [0.24034767560940412]. Predicted: [0.23006445]\n",
      "Groundtruth: [0.22854189078456413]. Predicted: [0.23123809]\n",
      "Groundtruth: [0.08165411299492929]. Predicted: [0.08994391]\n",
      "Groundtruth: [0.028679768572298283]. Predicted: [0.03449692]\n",
      "Groundtruth: [0.046544534889887565]. Predicted: [0.04746474]\n",
      "Groundtruth: [0.1008077676624546]. Predicted: [0.0956997]\n",
      "Groundtruth: [0.04428015505979272]. Predicted: [0.04533049]\n",
      "Groundtruth: [0.07370928671028497]. Predicted: [0.07490765]\n",
      "Groundtruth: [0.1538743223436906]. Predicted: [0.15198951]\n",
      "Groundtruth: [0.05118211830135886]. Predicted: [0.06271373]\n",
      "Groundtruth: [0.2149433027988248]. Predicted: [0.19768289]\n",
      "Groundtruth: [0.23978424299685958]. Predicted: [0.24650709]\n",
      "Groundtruth: [0.23956823840880448]. Predicted: [0.25458011]\n",
      "Groundtruth: [0.24729133507551126]. Predicted: [0.23004759]\n",
      "Groundtruth: [0.16515747680774467]. Predicted: [0.17280718]\n",
      "Groundtruth: [0.11964668770959606]. Predicted: [0.11554268]\n",
      "Groundtruth: [0.02715861517240863]. Predicted: [0.02424213]\n",
      "Groundtruth: [0.027371983511121772]. Predicted: [0.03386183]\n",
      "Groundtruth: [0.1123526828986197]. Predicted: [0.12600025]\n",
      "Groundtruth: [0.07031911015008636]. Predicted: [0.07628756]\n",
      "Groundtruth: [0.027638646892631607]. Predicted: [0.03137096]\n",
      "Groundtruth: [0.1735681352839659]. Predicted: [0.16987339]\n",
      "Groundtruth: [0.21041452017414572]. Predicted: [0.22867739]\n",
      "Groundtruth: [0.2241567881766848]. Predicted: [0.22761858]\n",
      "Groundtruth: [0.045210647977132624]. Predicted: [0.05181912]\n",
      "Groundtruth: [0.09507749932512571]. Predicted: [0.10416049]\n",
      "Groundtruth: [0.2885692073330666]. Predicted: [0.29562278]\n",
      "Groundtruth: [0.09840445152391124]. Predicted: [0.10409836]\n",
      "Groundtruth: [0.00030519052549437333]. Predicted: [0.00678932]\n",
      "Groundtruth: [0.31180551208887136]. Predicted: [0.29285533]\n",
      "Groundtruth: [1.598638499774781e-05]. Predicted: [-0.00995615]\n",
      "Groundtruth: [0.04954491640709832]. Predicted: [0.04705814]\n",
      "Groundtruth: [0.24000162440646838]. Predicted: [0.2496784]\n",
      "Groundtruth: [0.2544297072574695]. Predicted: [0.26249249]\n",
      "Groundtruth: [0.20999585518631517]. Predicted: [0.19869953]\n",
      "Groundtruth: [0.02621985352811014]. Predicted: [0.02729168]\n",
      "Groundtruth: [0.08211812283335933]. Predicted: [0.08338849]\n",
      "Groundtruth: [0.26861615058223254]. Predicted: [0.27824324]\n",
      "Groundtruth: [0.0735683398588795]. Predicted: [0.06875696]\n",
      "Groundtruth: [0.25802070180869974]. Predicted: [0.27583125]\n",
      "Groundtruth: [0.09165426012834624]. Predicted: [0.09974511]\n",
      "Groundtruth: [0.13106767050200502]. Predicted: [0.13999384]\n",
      "Groundtruth: [6.439048619296668e-05]. Predicted: [-0.00787526]\n",
      "Groundtruth: [0.2011991244570269]. Predicted: [0.19019786]\n",
      "Groundtruth: [0.1192135160630793]. Predicted: [0.12830093]\n",
      "Groundtruth: [0.12973984245466985]. Predicted: [0.13524107]\n",
      "Groundtruth: [0.03145107580771244]. Predicted: [0.03246726]\n",
      "Groundtruth: [0.043522764244806965]. Predicted: [0.03644088]\n",
      "Groundtruth: [0.1854494956390301]. Predicted: [0.19454336]\n",
      "Groundtruth: [0.129830282400316]. Predicted: [0.12562647]\n",
      "Groundtruth: [0.0971568894465323]. Predicted: [0.09687399]\n",
      "Groundtruth: [0.136373999262799]. Predicted: [0.1403994]\n",
      "Groundtruth: [0.15275785223748387]. Predicted: [0.14763977]\n",
      "Groundtruth: [0.09783529818174497]. Predicted: [0.10652209]\n",
      "Groundtruth: [0.14830453254231896]. Predicted: [0.14548434]\n",
      "Groundtruth: [0.09565640601417082]. Predicted: [0.10003198]\n",
      "Groundtruth: [0.05785377568844429]. Predicted: [0.04893431]\n",
      "Groundtruth: [0.027372597877345663]. Predicted: [0.03364091]\n",
      "Groundtruth: [0.1251269194793308]. Predicted: [0.13186308]\n",
      "Groundtruth: [0.13868435196030796]. Predicted: [0.13510921]\n",
      "Groundtruth: [0.13000442746771118]. Predicted: [0.13363999]\n",
      "Groundtruth: [0.21367595994221575]. Predicted: [0.19830261]\n",
      "Groundtruth: [0.07019596041584841]. Predicted: [0.07653018]\n",
      "Groundtruth: [0.18104402186582685]. Predicted: [0.17305362]\n",
      "Groundtruth: [0.15387193100978874]. Predicted: [0.16621734]\n",
      "Groundtruth: [0.0009973947121283125]. Predicted: [-0.00305687]\n",
      "Groundtruth: [0.0243053377890189]. Predicted: [0.02875008]\n",
      "Groundtruth: [0.1817948000000463]. Predicted: [0.19970129]\n",
      "Groundtruth: [0.25720266871349573]. Predicted: [0.27574574]\n",
      "Groundtruth: [0.16984784065903294]. Predicted: [0.16504531]\n",
      "Groundtruth: [0.1571616346863589]. Predicted: [0.14810363]\n",
      "Groundtruth: [0.19182827406597025]. Predicted: [0.18609802]\n",
      "Groundtruth: [0.18899149733425205]. Predicted: [0.19117834]\n",
      "Groundtruth: [0.16164584807610763]. Predicted: [0.16402702]\n",
      "Groundtruth: [0.1420675772571266]. Predicted: [0.14736064]\n",
      "Groundtruth: [0.0955115429843542]. Predicted: [0.10168156]\n",
      "Groundtruth: [0.2603252030296693]. Predicted: [0.27540524]\n",
      "Groundtruth: [0.11524538203961326]. Predicted: [0.11705654]\n",
      "Groundtruth: [0.11898742933504372]. Predicted: [0.12955219]\n",
      "Groundtruth: [0.11403628549744185]. Predicted: [0.10889614]\n",
      "Groundtruth: [0.07569128159697752]. Predicted: [0.07681591]\n",
      "Groundtruth: [0.02601551225680671]. Predicted: [0.03407384]\n",
      "Groundtruth: [0.12111122554663933]. Predicted: [0.11882572]\n",
      "Groundtruth: [0.07324332563062075]. Predicted: [0.06890271]\n",
      "Groundtruth: [0.14411437644447347]. Predicted: [0.14999473]\n",
      "Groundtruth: [0.1367239572496122]. Predicted: [0.12837856]\n",
      "Groundtruth: [0.022535384471593426]. Predicted: [0.01484973]\n",
      "Groundtruth: [0.27763038334239604]. Predicted: [0.27595946]\n",
      "Groundtruth: [0.0827751644234726]. Predicted: [0.08331778]\n",
      "Groundtruth: [0.09524383102335379]. Predicted: [0.10441113]\n",
      "Groundtruth: [0.19813956874492286]. Predicted: [0.184726]\n",
      "Groundtruth: [0.05069854496044729]. Predicted: [0.05555958]\n",
      "Groundtruth: [0.0672538547378936]. Predicted: [0.07011226]\n",
      "Groundtruth: [0.273024451412908]. Predicted: [0.28328251]\n",
      "Groundtruth: [0.21559610643903457]. Predicted: [0.23157797]\n",
      "Groundtruth: [0.14482368140294669]. Predicted: [0.13811991]\n",
      "Groundtruth: [0.11850948612326612]. Predicted: [0.12387694]\n",
      "Groundtruth: [0.16581177122702775]. Predicted: [0.15901695]\n",
      "Groundtruth: [0.10090383163746654]. Predicted: [0.10189058]\n",
      "Groundtruth: [0.26291756618772194]. Predicted: [0.2495282]\n",
      "Groundtruth: [0.14657913754148055]. Predicted: [0.14107857]\n",
      "Groundtruth: [0.1845648627905789]. Predicted: [0.20296087]\n",
      "Groundtruth: [0.16047311859304167]. Predicted: [0.17496781]\n",
      "Groundtruth: [0.10235603565725161]. Predicted: [0.11451287]\n",
      "Groundtruth: [0.19056288056687723]. Predicted: [0.1922218]\n",
      "Groundtruth: [0.17575450618809083]. Predicted: [0.18151655]\n",
      "Groundtruth: [0.13843896659494107]. Predicted: [0.14324035]\n",
      "Groundtruth: [0.12210299876255325]. Predicted: [0.1304466]\n",
      "Groundtruth: [0.156001500572639]. Predicted: [0.17594744]\n",
      "Groundtruth: [0.13984806387494852]. Predicted: [0.13491536]\n",
      "Groundtruth: [0.029405613853191608]. Predicted: [0.0320123]\n",
      "Groundtruth: [0.1509252001679029]. Predicted: [0.16278093]\n",
      "Groundtruth: [0.267076990598583]. Predicted: [0.27642121]\n",
      "Groundtruth: [0.22559119812261721]. Predicted: [0.22265283]\n",
      "Groundtruth: [0.21030543834745882]. Predicted: [0.23045627]\n",
      "Groundtruth: [0.15160159464499828]. Predicted: [0.14156332]\n",
      "Groundtruth: [0.14220634623037623]. Predicted: [0.13505652]\n",
      "Groundtruth: [0.09224371590982128]. Predicted: [0.09541978]\n",
      "Groundtruth: [0.023082251092198244]. Predicted: [0.01266922]\n",
      "Groundtruth: [0.13019164342121242]. Predicted: [0.14011946]\n",
      "Groundtruth: [0.14796504695862792]. Predicted: [0.15264181]\n",
      "Groundtruth: [0.22729832287002236]. Predicted: [0.20850885]\n",
      "Groundtruth: [0.11345461322919749]. Predicted: [0.11809602]\n",
      "Groundtruth: [0.0005459658844990746]. Predicted: [-0.0073597]\n",
      "Groundtruth: [-0.0005073165285317037]. Predicted: [-0.00037032]\n",
      "Groundtruth: [0.07681048511730067]. Predicted: [0.07073506]\n",
      "Groundtruth: [0.20778646991711552]. Predicted: [0.22158721]\n",
      "Groundtruth: [0.0001015238196833272]. Predicted: [-0.00293905]\n",
      "Groundtruth: [0.19055285514824769]. Predicted: [0.20157229]\n",
      "Groundtruth: [9.28890276957815e-05]. Predicted: [0.00394101]\n",
      "Groundtruth: [0.2144129078933335]. Predicted: [0.21894045]\n",
      "Groundtruth: [0.07331757836991708]. Predicted: [0.07928352]\n",
      "Groundtruth: [0.23500407844988244]. Predicted: [0.25233733]\n",
      "Groundtruth: [0.04597989111658955]. Predicted: [0.04942867]\n",
      "Groundtruth: [0.09393124994889379]. Predicted: [0.09242813]\n",
      "Groundtruth: [0.0006311357198847682]. Predicted: [-0.00919328]\n",
      "Groundtruth: [0.05483252961327622]. Predicted: [0.05158052]\n",
      "Groundtruth: [0.04688977052140734]. Predicted: [0.0414172]\n",
      "Groundtruth: [0.125122444873831]. Predicted: [0.13238982]\n",
      "Groundtruth: [0.12148365989006]. Predicted: [0.12565459]\n",
      "Groundtruth: [0.11616508051090735]. Predicted: [0.11738084]\n",
      "Groundtruth: [0.13860193626308745]. Predicted: [0.12979049]\n",
      "Groundtruth: [0.1611910304347613]. Predicted: [0.17474568]\n",
      "Groundtruth: [0.14657533801808853]. Predicted: [0.16290294]\n",
      "Groundtruth: [0.1209624447794371]. Predicted: [0.11986245]\n",
      "Groundtruth: [0.30699567355064633]. Predicted: [0.2891425]\n",
      "Groundtruth: [0.11095416830988304]. Predicted: [0.11018321]\n",
      "Groundtruth: [0.08261462996253417]. Predicted: [0.07868059]\n",
      "Groundtruth: [0.022161735412883975]. Predicted: [0.01677922]\n",
      "Groundtruth: [0.24401909012794232]. Predicted: [0.25205624]\n",
      "Groundtruth: [0.09584976933852983]. Predicted: [0.09050406]\n",
      "Groundtruth: [0.053461146531089944]. Predicted: [0.04875467]\n",
      "Groundtruth: [-0.000126561139330812]. Predicted: [0.00276018]\n",
      "Groundtruth: [0.1928367217442422]. Predicted: [0.18831694]\n",
      "Groundtruth: [0.18660821707419165]. Predicted: [0.19666128]\n",
      "Groundtruth: [0.22657536692251148]. Predicted: [0.21370785]\n",
      "Groundtruth: [0.1668014210716749]. Predicted: [0.16159052]\n",
      "Groundtruth: [0.06375858867075287]. Predicted: [0.06490704]\n",
      "Groundtruth: [0.16489826482897654]. Predicted: [0.1727584]\n",
      "Groundtruth: [0.07600378714605295]. Predicted: [0.07671284]\n",
      "Groundtruth: [0.07195179566571928]. Predicted: [0.0556411]\n",
      "Groundtruth: [0.06586364982874775]. Predicted: [0.0750686]\n",
      "Groundtruth: [0.04657298188911335]. Predicted: [0.05369338]\n",
      "Groundtruth: [0.1882273353515701]. Predicted: [0.18978039]\n",
      "Groundtruth: [0.22558223035684574]. Predicted: [0.22105432]\n",
      "Groundtruth: [0.19833096304469716]. Predicted: [0.20693685]\n",
      "Groundtruth: [0.0922425757621694]. Predicted: [0.09864379]\n",
      "Groundtruth: [0.22526806063120275]. Predicted: [0.23580032]\n",
      "Groundtruth: [0.0929892390102531]. Predicted: [0.09183425]\n",
      "Groundtruth: [0.04922262922789898]. Predicted: [0.04039505]\n",
      "Groundtruth: [0.1475446762458874]. Predicted: [0.16485499]\n",
      "Groundtruth: [0.25241819731900234]. Predicted: [0.25446284]\n",
      "Groundtruth: [0.022662057570455578]. Predicted: [0.01916736]\n",
      "Groundtruth: [0.06542437041046434]. Predicted: [0.05767457]\n",
      "Groundtruth: [0.26718391378324324]. Predicted: [0.27990365]\n",
      "Groundtruth: [0.1970785462407213]. Predicted: [0.19648442]\n",
      "Groundtruth: [0.2545120947106379]. Predicted: [0.23059754]\n",
      "Groundtruth: [0.028996868849208993]. Predicted: [0.03423507]\n",
      "Groundtruth: [0.1960091813182509]. Predicted: [0.180012]\n",
      "Groundtruth: [-0.0011613819537107726]. Predicted: [0.00695229]\n",
      "Groundtruth: [0.02723888053964721]. Predicted: [0.03288381]\n",
      "Groundtruth: [0.12737019948411762]. Predicted: [0.10791153]\n",
      "Groundtruth: [0.047505920616952156]. Predicted: [0.04348937]\n",
      "Groundtruth: [0.14685776285016233]. Predicted: [0.1562877]\n",
      "Groundtruth: [0.04736663105571065]. Predicted: [0.04752694]\n",
      "Groundtruth: [0.0009636426696531763]. Predicted: [0.00210408]\n",
      "Groundtruth: [0.09755713212946687]. Predicted: [0.09973617]\n",
      "Groundtruth: [0.1458963448209493]. Predicted: [0.15125783]\n",
      "Groundtruth: [0.02700203614031488]. Predicted: [0.03024714]\n",
      "Groundtruth: [0.1452886579240216]. Predicted: [0.13936081]\n",
      "Groundtruth: [0.2123865093642809]. Predicted: [0.22586164]\n",
      "Groundtruth: [0.1638362827261459]. Predicted: [0.17163444]\n",
      "Groundtruth: [0.09348440182573438]. Predicted: [0.09378654]\n",
      "Groundtruth: [0.15476835213973736]. Predicted: [0.1383852]\n",
      "Groundtruth: [0.18956598338885636]. Predicted: [0.19478816]\n",
      "Groundtruth: [0.1925709975655485]. Predicted: [0.20053143]\n",
      "Groundtruth: [0.28286649736532243]. Predicted: [0.26573277]\n",
      "Groundtruth: [0.16532796865844043]. Predicted: [0.18909988]\n",
      "Groundtruth: [0.2448904058915963]. Predicted: [0.24433788]\n",
      "Groundtruth: [0.09297775366856086]. Predicted: [0.08891008]\n",
      "Groundtruth: [0.09185301903363674]. Predicted: [0.09524873]\n",
      "Groundtruth: [0.00023142025743741213]. Predicted: [0.00059632]\n",
      "Groundtruth: [0.2212321230499243]. Predicted: [0.23166482]\n",
      "Groundtruth: [0.12420599109107502]. Predicted: [0.12949342]\n",
      "Groundtruth: [0.12645405608532356]. Predicted: [0.11948974]\n",
      "Groundtruth: [0.04504635470967288]. Predicted: [0.04647305]\n",
      "Groundtruth: [0.22373068782007907]. Predicted: [0.21632205]\n",
      "Groundtruth: [0.027520374007949377]. Predicted: [0.02878033]\n",
      "Groundtruth: [0.1197522653012979]. Predicted: [0.12831455]\n",
      "Groundtruth: [0.02691278687539987]. Predicted: [0.02094107]\n",
      "Groundtruth: [0.13496998429579823]. Predicted: [0.13495466]\n",
      "Groundtruth: [0.0742476443282078]. Predicted: [0.06957185]\n",
      "Groundtruth: [0.2775954074946191]. Predicted: [0.28839792]\n",
      "Groundtruth: [0.022997570978161682]. Predicted: [0.02033864]\n",
      "Groundtruth: [0.07170088005588367]. Predicted: [0.07430774]\n",
      "Groundtruth: [0.2551772060564269]. Predicted: [0.26451519]\n",
      "Groundtruth: [0.22614316181789024]. Predicted: [0.23562081]\n",
      "Groundtruth: [0.0003297062639704966]. Predicted: [0.0004452]\n",
      "Groundtruth: [0.16650184490763817]. Predicted: [0.1780498]\n",
      "Groundtruth: [0.12804530249482177]. Predicted: [0.12316444]\n",
      "Groundtruth: [0.0859736789616795]. Predicted: [0.08313237]\n",
      "Groundtruth: [0.07155681566150712]. Predicted: [0.07080866]\n",
      "Groundtruth: [0.02322694056548709]. Predicted: [0.01496145]\n",
      "Groundtruth: [0.15160667660830646]. Predicted: [0.16754154]\n",
      "Groundtruth: [0.02584953132936079]. Predicted: [0.01575427]\n",
      "Groundtruth: [0.07196892264015416]. Predicted: [0.07069688]\n",
      "Groundtruth: [0.14654884160797282]. Predicted: [0.15400649]\n",
      "Groundtruth: [0.26115656558797956]. Predicted: [0.2665]\n",
      "Groundtruth: [0.09328061975712239]. Predicted: [0.09345176]\n",
      "Groundtruth: [0.21699454429186998]. Predicted: [0.22261735]\n",
      "Groundtruth: [0.24970040825580372]. Predicted: [0.23869571]\n",
      "Groundtruth: [0.0001237257397100293]. Predicted: [0.00383951]\n",
      "Groundtruth: [0.03324645731501407]. Predicted: [0.03327077]\n",
      "Groundtruth: [0.11881100898130868]. Predicted: [0.12399138]\n",
      "Groundtruth: [0.249541973523814]. Predicted: [0.22867578]\n",
      "Groundtruth: [0.0270047658670913]. Predicted: [0.02762329]\n",
      "Groundtruth: [0.147442071091698]. Predicted: [0.14639135]\n",
      "Groundtruth: [0.004460812056505821]. Predicted: [-0.00016249]\n",
      "Groundtruth: [0.0771446116663264]. Predicted: [0.07877548]\n",
      "Groundtruth: [0.003607217427988479]. Predicted: [0.00635615]\n",
      "Groundtruth: [0.06818382220744805]. Predicted: [0.07436948]\n",
      "Groundtruth: [0.1749686512185483]. Predicted: [0.18616632]\n",
      "Groundtruth: [0.05087971329721908]. Predicted: [0.05648786]\n",
      "Groundtruth: [0.09642875082021969]. Predicted: [0.09126409]\n",
      "Groundtruth: [0.13198382090549826]. Predicted: [0.1268893]\n",
      "Groundtruth: [0.22092255176534253]. Predicted: [0.23210723]\n",
      "Groundtruth: [0.2748933791751312]. Predicted: [0.26188629]\n",
      "Groundtruth: [0.12307276041204429]. Predicted: [0.11362404]\n",
      "Groundtruth: [0.18715397539767123]. Predicted: [0.18967967]\n",
      "Groundtruth: [0.06911811884556318]. Predicted: [0.06692188]\n",
      "Groundtruth: [0.1517824761463324]. Predicted: [0.14103513]\n",
      "Groundtruth: [0.08192843333940274]. Predicted: [0.07746399]\n",
      "Groundtruth: [0.21942199816777413]. Predicted: [0.20959625]\n",
      "Groundtruth: [0.07102554463034921]. Predicted: [0.07284578]\n",
      "Groundtruth: [0.11925515962773683]. Predicted: [0.11680283]\n",
      "Groundtruth: [0.027402948170044617]. Predicted: [0.02820181]\n",
      "Groundtruth: [0.2410078977853086]. Predicted: [0.25877392]\n",
      "Groundtruth: [0.21028122113314993]. Predicted: [0.19782202]\n",
      "Groundtruth: [0.045643400170269785]. Predicted: [0.04339315]\n",
      "Groundtruth: [0.2733116571875494]. Predicted: [0.28775168]\n",
      "Groundtruth: [0.19964882028075237]. Predicted: [0.20091043]\n",
      "Groundtruth: [0.04690727809826602]. Predicted: [0.03827487]\n",
      "Groundtruth: [0.1828799230217177]. Predicted: [0.18035164]\n",
      "Groundtruth: [0.2037340722997675]. Predicted: [0.21883773]\n",
      "Groundtruth: [0.27773498263633467]. Predicted: [0.2635186]\n",
      "Groundtruth: [0.10662992148297147]. Predicted: [0.10408146]\n",
      "Groundtruth: [0.24112021217323967]. Predicted: [0.25333335]\n",
      "Groundtruth: [0.07970694629665381]. Predicted: [0.08186335]\n",
      "Groundtruth: [0.22710540775128923]. Predicted: [0.24165624]\n",
      "Groundtruth: [0.19455527049933144]. Predicted: [0.18955828]\n",
      "Groundtruth: [0.027695107284538143]. Predicted: [0.02871172]\n",
      "Groundtruth: [0.19943055982772526]. Predicted: [0.19329538]\n",
      "Groundtruth: [0.19000530087288942]. Predicted: [0.17852581]\n",
      "Groundtruth: [0.14135258514062746]. Predicted: [0.15045592]\n",
      "Groundtruth: [0.11892926893205062]. Predicted: [0.11583052]\n",
      "Groundtruth: [0.250402545475931]. Predicted: [0.23734502]\n",
      "Groundtruth: [0.07690140259614069]. Predicted: [0.08483894]\n",
      "Groundtruth: [0.1711174925496068]. Predicted: [0.17793061]\n",
      "Groundtruth: [0.08904185386103886]. Predicted: [0.09079089]\n",
      "Groundtruth: [0.1682943575614942]. Predicted: [0.16581308]\n",
      "Groundtruth: [0.026424469115357434]. Predicted: [0.02191499]\n",
      "Groundtruth: [0.0973911922565282]. Predicted: [0.09161946]\n",
      "Groundtruth: [0.23450546628320065]. Predicted: [0.24569026]\n",
      "Groundtruth: [0.04767361473411808]. Predicted: [0.04782115]\n",
      "Groundtruth: [0.3064902357208437]. Predicted: [0.28874789]\n",
      "Groundtruth: [0.1461432942247981]. Predicted: [0.14876943]\n",
      "Groundtruth: [0.08609555870870585]. Predicted: [0.09095196]\n",
      "Groundtruth: [0.17229475524760038]. Predicted: [0.16124201]\n",
      "Groundtruth: [0.25504145384989607]. Predicted: [0.23652068]\n",
      "Groundtruth: [0.1433830983371034]. Predicted: [0.14188046]\n",
      "Groundtruth: [-0.0005058956914462681]. Predicted: [-0.00613012]\n",
      "Groundtruth: [0.06136935581875401]. Predicted: [0.06355424]\n",
      "Groundtruth: [0.15153474465449207]. Predicted: [0.16438951]\n",
      "Groundtruth: [0.26873572950241725]. Predicted: [0.27891843]\n",
      "Groundtruth: [0.06015794037715482]. Predicted: [0.0506308]\n",
      "Groundtruth: [0.10433716444335547]. Predicted: [0.09838972]\n",
      "Groundtruth: [0.00013723444157883895]. Predicted: [-0.00981591]\n",
      "Groundtruth: [0.07250801364211996]. Predicted: [0.07952762]\n",
      "Groundtruth: [0.10010053636572332]. Predicted: [0.09553929]\n"
     ]
    }
   ],
   "source": [
    "for idx, prediction in enumerate(predictions):\n",
    "    print(f'Groundtruth: {Y_test[idx]}. Predicted: {prediction}')"
   ]
  },
  {
   "cell_type": "markdown",
   "id": "b5d4df94",
   "metadata": {},
   "source": [
    "## Predict CoM -> y"
   ]
  },
  {
   "cell_type": "markdown",
   "id": "53333162",
   "metadata": {},
   "source": [
    "### Linear Regression"
   ]
  },
  {
   "cell_type": "code",
   "execution_count": 18,
   "id": "12f3e7c5",
   "metadata": {},
   "outputs": [
    {
     "name": "stdout",
     "output_type": "stream",
     "text": [
      "R2:  0.9364004217644274\n",
      "RMSE:  0.001521694685975788\n",
      "The lowest error is:  3.8267777062578594e-06\n",
      "The highest error is:  0.003851306747672395\n",
      "The avg. error is:  0.0012183320442408197\n"
     ]
    }
   ],
   "source": [
    "# Input\n",
    "X = np.hstack((X_motion_CoM_acceleration_FR_RL[:, 0:1], # previous reference velocity\n",
    "               X_motion_CoM_acceleration_FR_RL[:, 3:4], # current reference velocity\n",
    "               X_motion_CoM_acceleration_FR_RL[:, 6:7], # actual velocity\n",
    "               X_motion_CoM_acceleration_FR_RL[:, 10:12], # FL position\n",
    "               X_motion_CoM_acceleration_FR_RL[:, 13:15], # FR position\n",
    "               X_motion_CoM_acceleration_FR_RL[:, 16:18], # RL position\n",
    "               X_motion_CoM_acceleration_FR_RL[:, 19:21])) # RR position\n",
    "\n",
    "# Labels\n",
    "Y = np.array([Y_motion_CoM_acceleration_FR_RL[:, 1]]).T\n",
    "\n",
    "assert Y.shape[0] == X.shape[0]\n",
    "\n",
    "# Split dataset and fit best model\n",
    "X_test, Y_test, predictions, model_fr_com_y = find_best_model(X, Y, runs=5000)"
   ]
  },
  {
   "cell_type": "code",
   "execution_count": 19,
   "id": "627155e6",
   "metadata": {},
   "outputs": [
    {
     "data": {
      "text/plain": [
       "array([[-0.02192212,  0.0228029 ,  0.00333775,  0.0234144 , -0.06582186,\n",
       "         0.03112315, -0.2574983 ,  0.00336324, -0.38010639,  0.10854064,\n",
       "         0.05004673]])"
      ]
     },
     "execution_count": 19,
     "metadata": {},
     "output_type": "execute_result"
    }
   ],
   "source": [
    "model_fr_com_y.coef_"
   ]
  },
  {
   "cell_type": "code",
   "execution_count": 20,
   "id": "546a4b38",
   "metadata": {},
   "outputs": [
    {
     "data": {
      "text/plain": [
       "array([-0.18850372])"
      ]
     },
     "execution_count": 20,
     "metadata": {},
     "output_type": "execute_result"
    }
   ],
   "source": [
    "model_fr_com_y.intercept_"
   ]
  },
  {
   "cell_type": "code",
   "execution_count": 21,
   "id": "a0d078ef",
   "metadata": {},
   "outputs": [
    {
     "data": {
      "text/plain": [
       "Text(0, 0.5, 'Predictions')"
      ]
     },
     "execution_count": 21,
     "metadata": {},
     "output_type": "execute_result"
    },
    {
     "data": {
      "image/png": "[encoded data removed]",
      "text/plain": [
       "<Figure size 640x480 with 1 Axes>"
      ]
     },
     "metadata": {},
     "output_type": "display_data"
    }
   ],
   "source": [
    "## The line / model\n",
    "plt.scatter(Y_test, predictions)\n",
    "plt.xlabel(\"Groundtruth\")\n",
    "plt.ylabel(\"Predictions\")"
   ]
  },
  {
   "cell_type": "code",
   "execution_count": 22,
   "id": "26433625",
   "metadata": {},
   "outputs": [],
   "source": [
    "#for idx, prediction in enumerate(predictions):\n",
    "#    print(f'Groundtruth: {Y_test[idx]}. Predicted: {prediction}')"
   ]
  },
  {
   "cell_type": "code",
   "execution_count": null,
   "id": "fd289de1-d0da-4aa4-b212-f49751558051",
   "metadata": {},
   "outputs": [],
   "source": []
  }
 ],
 "metadata": {
  "kernelspec": {
   "display_name": "Python 3 (ipykernel)",
   "language": "python",
   "name": "python3"
  },
  "language_info": {
   "codemirror_mode": {
    "name": "ipython",
    "version": 3
   },
   "file_extension": ".py",
   "mimetype": "text/x-python",
   "name": "python",
   "nbconvert_exporter": "python",
   "pygments_lexer": "ipython3",
   "version": "3.10.6"
  }
 },
 "nbformat": 4,
 "nbformat_minor": 5
}
