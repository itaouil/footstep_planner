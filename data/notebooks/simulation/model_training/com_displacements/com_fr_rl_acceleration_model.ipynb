{
 "cells": [
  {
   "cell_type": "code",
   "execution_count": 1,
   "id": "7396057a",
   "metadata": {},
   "outputs": [],
   "source": [
    "#!/usr/bin/env python3.6\n",
    "# -*- coding: utf-8 -*-"
   ]
  },
  {
   "cell_type": "code",
   "execution_count": 2,
   "id": "3685f3b4",
   "metadata": {},
   "outputs": [],
   "source": [
    "# Imports\n",
    "import sys\n",
    "import joblib\n",
    "import numpy as np\n",
    "from math import atan2\n",
    "from matplotlib import animation\n",
    "from IPython.display import HTML\n",
    "from matplotlib import pyplot as plt\n",
    "import mpl_toolkits.mplot3d.axes3d as p3"
   ]
  },
  {
   "cell_type": "code",
   "execution_count": 3,
   "id": "624b9d07",
   "metadata": {},
   "outputs": [],
   "source": [
    "#np.random.seed(20)\n",
    "np.set_printoptions(threshold=sys.maxsize)"
   ]
  },
  {
   "cell_type": "code",
   "execution_count": 4,
   "id": "44f22e21",
   "metadata": {},
   "outputs": [],
   "source": [
    "%matplotlib inline"
   ]
  },
  {
   "cell_type": "code",
   "execution_count": 5,
   "id": "9b734bb8",
   "metadata": {},
   "outputs": [
    {
     "name": "stdout",
     "output_type": "stream",
     "text": [
      "(7395, 23)\n",
      "(7395, 1)\n"
     ]
    }
   ],
   "source": [
    "%store -r X_motion_CoM_acceleration\n",
    "%store -r Y_motion_CoM_acceleration\n",
    "print(X_motion_CoM_acceleration.shape)\n",
    "print(Y_motion_CoM_acceleration.shape)"
   ]
  },
  {
   "cell_type": "code",
   "execution_count": 6,
   "id": "45886539",
   "metadata": {},
   "outputs": [
    {
     "data": {
      "text/plain": [
       "array([0.1, 0.0, 0.0, 0.1, 0.0, 0.0, -0.0007237745555853984,\n",
       "       0.01639134045253973, -0.004252538996206474, 0.2526783703469499,\n",
       "       0.13427893772863944, -0.2778846068029694, 0.24869912614405365,\n",
       "       -0.12366310216804982, -0.3133057085330896, -0.2690074673240338,\n",
       "       0.1271401124419832, -0.3136605626775182, -0.26988041665563206,\n",
       "       -0.1350023534415291, -0.2815400304417422, False, True],\n",
       "      dtype=object)"
      ]
     },
     "execution_count": 6,
     "metadata": {},
     "output_type": "execute_result"
    }
   ],
   "source": [
    "X_motion_CoM_acceleration[0]"
   ]
  },
  {
   "cell_type": "code",
   "execution_count": 7,
   "id": "067a916e",
   "metadata": {},
   "outputs": [
    {
     "data": {
      "text/plain": [
       "array([[0.08211927296688538],\n",
       "       [0.08361987936659881],\n",
       "       [0.0840524986855017],\n",
       "       [0.09068286841549027],\n",
       "       [0.08368886175176886],\n",
       "       [0.0851487670926432],\n",
       "       [0.09408553030734845],\n",
       "       [0.08761461494143893],\n",
       "       [0.08443653754033921],\n",
       "       [0.08547052154031502],\n",
       "       [0.09750496859384983],\n",
       "       [0.08746398362002915],\n",
       "       [0.08483984076109798],\n",
       "       [0.08406817674193091],\n",
       "       [0.0909629086052962],\n",
       "       [0.08828329909661936],\n",
       "       [0.08397524013854994],\n",
       "       [0.0910150876843348],\n",
       "       [0.0859972387102968],\n",
       "       [0.09515508767118926],\n",
       "       [0.09379204922832655],\n",
       "       [0.08569413357986629],\n",
       "       [0.08884604529330556],\n",
       "       [0.08523014267669661],\n",
       "       [0.09123679151691595],\n",
       "       [0.08788922956728257],\n",
       "       [0.08259361817356578],\n",
       "       [0.0844791133011046],\n",
       "       [0.08809741356402434],\n",
       "       [0.09042428311908156],\n",
       "       [0.08867390786715472],\n",
       "       [0.08452057017266047],\n",
       "       [0.08497831554600126],\n",
       "       [0.0910682804039377],\n",
       "       [0.09378163893276756],\n",
       "       [0.0830824639204781],\n",
       "       [0.08542741928276082],\n",
       "       [0.10170776843297497],\n",
       "       [0.10057358358169712],\n",
       "       [0.08588966137135157],\n",
       "       [0.08351474688950586],\n",
       "       [0.0846521616876821],\n",
       "       [0.09096253792872659],\n",
       "       [0.08872576017555335],\n",
       "       [0.08471406421802681],\n",
       "       [0.09487715178745539],\n",
       "       [0.08525356556721808],\n",
       "       [0.1029199055472369],\n",
       "       [0.09727340159092746],\n",
       "       [0.09423986677044831],\n",
       "       [0.08903420628318771],\n",
       "       [0.08519942249210487],\n",
       "       [0.0973070881526255],\n",
       "       [0.08828892213109397],\n",
       "       [0.0861212707924462],\n",
       "       [0.1015885203747124],\n",
       "       [0.08537575126325404],\n",
       "       [0.08421197975570932],\n",
       "       [0.0836077793905063],\n",
       "       [0.10143428339318819],\n",
       "       [0.08493212027220466],\n",
       "       [0.08489068833345488],\n",
       "       [0.08278223770225755],\n",
       "       [0.09482148433946526],\n",
       "       [0.08878762474713937],\n",
       "       [0.0848027843255687],\n",
       "       [0.09740254775845754],\n",
       "       [0.08300810748721102],\n",
       "       [0.09729200383496171],\n",
       "       [0.09123350423539464],\n",
       "       [0.08875781981460529],\n",
       "       [0.08296894329715059],\n",
       "       [0.09515478479972435],\n",
       "       [0.0897850958876311],\n",
       "       [0.08301751939813935],\n",
       "       [0.09443073079737718],\n",
       "       [0.08979295638824701],\n",
       "       [0.08558784466577235],\n",
       "       [0.08936147868363985],\n",
       "       [0.08281891401080387],\n",
       "       [0.08463188226917372],\n",
       "       [0.08482607377261123],\n",
       "       [0.10178949596746693],\n",
       "       [0.08414569284890144],\n",
       "       [0.08464868505794056],\n",
       "       [0.0841941601659217],\n",
       "       [0.08410566242598161],\n",
       "       [0.09737130974961662],\n",
       "       [0.0876491995977308],\n",
       "       [0.08531254311647991],\n",
       "       [0.08594611776973447],\n",
       "       [0.08430723142020773],\n",
       "       [0.08503362211850239],\n",
       "       [0.08448378654047878],\n",
       "       [0.09197609135432305],\n",
       "       [0.0894883094847056],\n",
       "       [0.0853188820102045],\n",
       "       [0.08374762354464216],\n",
       "       [0.08421132062716481],\n",
       "       [0.09825162162612948]], dtype=object)"
      ]
     },
     "execution_count": 7,
     "metadata": {},
     "output_type": "execute_result"
    }
   ],
   "source": [
    "Y_motion_CoM_acceleration[0:100]"
   ]
  },
  {
   "cell_type": "markdown",
   "id": "d321ce72",
   "metadata": {},
   "source": [
    "# Multivariate Linear Regression (CoM Prediction)"
   ]
  },
  {
   "cell_type": "code",
   "execution_count": 8,
   "id": "2de76309",
   "metadata": {},
   "outputs": [],
   "source": [
    "import sklearn\n",
    "from sklearn import metrics\n",
    "from sklearn.feature_selection import RFE\n",
    "from sklearn.model_selection import KFold\n",
    "from sklearn.linear_model import LinearRegression\n",
    "from sklearn.model_selection import train_test_split\n",
    "from sklearn.preprocessing import PolynomialFeatures \n",
    "from sklearn.model_selection import cross_val_score, cross_val_predict\n",
    "from sklearn.metrics import mean_squared_error, mean_absolute_error, r2_score"
   ]
  },
  {
   "cell_type": "code",
   "execution_count": 9,
   "id": "aa045adf",
   "metadata": {},
   "outputs": [
    {
     "name": "stdout",
     "output_type": "stream",
     "text": [
      "(3697, 23)\n",
      "(3697, 1)\n"
     ]
    }
   ],
   "source": [
    "idx_fr_rl_swinging = np.where(X_motion_CoM_acceleration[:, -1] == 1)[0]\n",
    "X_motion_CoM_acceleration_FR_RL = X_motion_CoM_acceleration[idx_fr_rl_swinging]\n",
    "Y_motion_CoM_acceleration_FR_RL = Y_motion_CoM_acceleration[idx_fr_rl_swinging]\n",
    "print(X_motion_CoM_acceleration_FR_RL.shape)\n",
    "print(Y_motion_CoM_acceleration_FR_RL.shape)"
   ]
  },
  {
   "cell_type": "markdown",
   "id": "ee2624d4",
   "metadata": {},
   "source": [
    "## Predict CoM (x) movement"
   ]
  },
  {
   "cell_type": "code",
   "execution_count": 10,
   "id": "0a9e4803",
   "metadata": {},
   "outputs": [
    {
     "data": {
      "text/plain": [
       "array([0.1, 0.0, 0.0, 0.1, 0.0, 0.0, -0.0007237745555853984,\n",
       "       0.01639134045253973, -0.004252538996206474, 0.2526783703469499,\n",
       "       0.13427893772863944, -0.2778846068029694, 0.24869912614405365,\n",
       "       -0.12366310216804982, -0.3133057085330896, -0.2690074673240338,\n",
       "       0.1271401124419832, -0.3136605626775182, -0.26988041665563206,\n",
       "       -0.1350023534415291, -0.2815400304417422, False, True],\n",
       "      dtype=object)"
      ]
     },
     "execution_count": 10,
     "metadata": {},
     "output_type": "execute_result"
    }
   ],
   "source": [
    "X_motion_CoM_acceleration_FR_RL[0, :]"
   ]
  },
  {
   "cell_type": "code",
   "execution_count": 11,
   "id": "d55c6716",
   "metadata": {},
   "outputs": [
    {
     "data": {
      "text/plain": [
       "array([0.08211927296688538], dtype=object)"
      ]
     },
     "execution_count": 11,
     "metadata": {},
     "output_type": "execute_result"
    }
   ],
   "source": [
    "Y_motion_CoM_acceleration_FR_RL[0, :]"
   ]
  },
  {
   "cell_type": "markdown",
   "id": "3a6f2540",
   "metadata": {},
   "source": [
    "### Linear Regression"
   ]
  },
  {
   "cell_type": "code",
   "execution_count": 12,
   "id": "b129288c-f364-4a57-8463-62fe2ce95939",
   "metadata": {},
   "outputs": [],
   "source": [
    "def find_best_model(X, Y, runs=1000):\n",
    "    best_model = None\n",
    "    lowest_error = 100\n",
    "    best_Xtr, best_Xte, best_Ytr, best_Yte = None, None, None, None\n",
    "    \n",
    "    for _ in range(runs):\n",
    "        X_train, X_test, Y_train, Y_test = train_test_split(X, Y, train_size = 0.9, shuffle=True)\n",
    "        \n",
    "        model = LinearRegression()\n",
    "        model.fit(X_train, Y_train)\n",
    "\n",
    "        predictions = model.predict(X_test)\n",
    "        error = np.max(np.abs(predictions - Y_test))\n",
    "\n",
    "        if error < lowest_error:\n",
    "            best_model = model\n",
    "            lowest_error = error\n",
    "            best_Xtr, best_Xte, best_Ytr, best_Yte = X_train, X_test, Y_train, Y_test\n",
    "\n",
    "    # Stats\n",
    "    predictions = best_model.predict(best_Xte)\n",
    "    print('R2: ', r2_score(predictions, best_Yte))\n",
    "    print('RMSE: ', np.sqrt(mean_squared_error(best_Yte, predictions)))\n",
    "    print(\"The lowest error is: \", np.min(np.abs(predictions - best_Yte)))\n",
    "    print(\"The highest error is: \", np.max(np.abs(predictions - best_Yte)))\n",
    "    print(\"The avg. error is: \", np.mean(np.abs(predictions - best_Yte)))\n",
    "    \n",
    "    return best_Xte, best_Yte, predictions, best_model"
   ]
  },
  {
   "cell_type": "code",
   "execution_count": 13,
   "id": "c19cae26-5b62-4311-9b12-c47726058f32",
   "metadata": {},
   "outputs": [
    {
     "name": "stdout",
     "output_type": "stream",
     "text": [
      "R2:  0.9975545247455827\n",
      "RMSE:  0.01510205572595716\n",
      "The lowest error is:  1.0366915533244203e-05\n",
      "The highest error is:  0.04631931286285196\n",
      "The avg. error is:  0.011719986199829968\n"
     ]
    }
   ],
   "source": [
    "# Input\n",
    "X = np.hstack((X_motion_CoM_acceleration_FR_RL[:, 0:1], # previous reference velocity\n",
    "               X_motion_CoM_acceleration_FR_RL[:, 3:4], # current reference velocity\n",
    "               X_motion_CoM_acceleration_FR_RL[:, 6:7], # actual velocity\n",
    "               X_motion_CoM_acceleration_FR_RL[:, 9:11], # FL position\n",
    "               X_motion_CoM_acceleration_FR_RL[:, 12:14], # FR position\n",
    "               X_motion_CoM_acceleration_FR_RL[:, 15:17], # RL position\n",
    "               X_motion_CoM_acceleration_FR_RL[:, 18:20])) # RR position\n",
    "\n",
    "# Labels\n",
    "Y = np.array([Y_motion_CoM_acceleration_FR_RL[:, 0]]).T\n",
    "\n",
    "assert Y.shape[0] == X.shape[0]\n",
    "\n",
    "# Split dataset and fit best model\n",
    "X_test, Y_test, predictions, model_fr_com_x = find_best_model(X, Y, runs=5000)"
   ]
  },
  {
   "cell_type": "code",
   "execution_count": 14,
   "id": "5f603ab7",
   "metadata": {},
   "outputs": [
    {
     "data": {
      "text/plain": [
       "array([[ 0.13418246,  0.85642446,  0.01043553, -0.42478046, -0.09679067,\n",
       "        -0.24296044, -0.17987004,  0.26918294, -0.11561212,  0.02722526,\n",
       "         0.45278328]])"
      ]
     },
     "execution_count": 14,
     "metadata": {},
     "output_type": "execute_result"
    }
   ],
   "source": [
    "model_fr_com_x.coef_"
   ]
  },
  {
   "cell_type": "code",
   "execution_count": 15,
   "id": "2e7d17cd",
   "metadata": {},
   "outputs": [
    {
     "data": {
      "text/plain": [
       "array([0.30633644])"
      ]
     },
     "execution_count": 15,
     "metadata": {},
     "output_type": "execute_result"
    }
   ],
   "source": [
    "model_fr_com_x.intercept_"
   ]
  },
  {
   "cell_type": "code",
   "execution_count": 16,
   "id": "f4a78f7b",
   "metadata": {},
   "outputs": [
    {
     "data": {
      "text/plain": [
       "Text(0, 0.5, 'Predictions')"
      ]
     },
     "execution_count": 16,
     "metadata": {},
     "output_type": "execute_result"
    },
    {
     "data": {
      "image/png": "[encoded data removed]",
      "text/plain": [
       "<Figure size 640x480 with 1 Axes>"
      ]
     },
     "metadata": {},
     "output_type": "display_data"
    }
   ],
   "source": [
    "## The line / model\n",
    "plt.scatter(Y_test, predictions)\n",
    "plt.xlabel(\"Groundtruth\")\n",
    "plt.ylabel(\"Predictions\")"
   ]
  },
  {
   "cell_type": "code",
   "execution_count": 17,
   "id": "463b8c66",
   "metadata": {},
   "outputs": [
    {
     "name": "stdout",
     "output_type": "stream",
     "text": [
      "Groundtruth: [0.6108032128179655]. Predicted: [0.63775367]\n",
      "Groundtruth: [0.3637647593178142]. Predicted: [0.36262392]\n",
      "Groundtruth: [0.27475760946099226]. Predicted: [0.27152966]\n",
      "Groundtruth: [0.44240088013726675]. Predicted: [0.45313646]\n",
      "Groundtruth: [0.8193969144175096]. Predicted: [0.82937243]\n",
      "Groundtruth: [0.08375407545021021]. Predicted: [0.08111368]\n",
      "Groundtruth: [0.07392311669740316]. Predicted: [0.08443439]\n",
      "Groundtruth: [0.7367073712746771]. Predicted: [0.77755515]\n",
      "Groundtruth: [0.44595585488837336]. Predicted: [0.45659522]\n",
      "Groundtruth: [0.5877387094136142]. Predicted: [0.6037331]\n",
      "Groundtruth: [0.7302719710668464]. Predicted: [0.71132353]\n",
      "Groundtruth: [0.2547560244218358]. Predicted: [0.27391286]\n",
      "Groundtruth: [0.3526711275258362]. Predicted: [0.36183933]\n",
      "Groundtruth: [0.08227745521970097]. Predicted: [0.07768287]\n",
      "Groundtruth: [0.08475546999139458]. Predicted: [0.08716037]\n",
      "Groundtruth: [0.5321972262472037]. Predicted: [0.5432417]\n",
      "Groundtruth: [0.1726582874511066]. Predicted: [0.17367904]\n",
      "Groundtruth: [0.44791451059898346]. Predicted: [0.4520014]\n",
      "Groundtruth: [0.7101691386532492]. Predicted: [0.70442662]\n",
      "Groundtruth: [0.720120674469702]. Predicted: [0.73050608]\n",
      "Groundtruth: [0.13025569673197532]. Predicted: [0.12278868]\n",
      "Groundtruth: [0.20580252749235853]. Predicted: [0.21236193]\n",
      "Groundtruth: [0.17623235695991996]. Predicted: [0.1778551]\n",
      "Groundtruth: [0.7137979676154963]. Predicted: [0.69696613]\n",
      "Groundtruth: [0.18137219735615331]. Predicted: [0.1822487]\n",
      "Groundtruth: [0.17701271699602147]. Predicted: [0.17794638]\n",
      "Groundtruth: [0.7572742969240716]. Predicted: [0.73457239]\n",
      "Groundtruth: [0.8602902772178718]. Predicted: [0.83102125]\n",
      "Groundtruth: [0.9985756719857132]. Predicted: [1.02226114]\n",
      "Groundtruth: [0.08297700611396407]. Predicted: [0.0854159]\n",
      "Groundtruth: [1.0324437051211124]. Predicted: [1.01798451]\n",
      "Groundtruth: [0.8174292929829251]. Predicted: [0.82580085]\n",
      "Groundtruth: [0.6999394058698621]. Predicted: [0.73672392]\n",
      "Groundtruth: [0.45927748947137237]. Predicted: [0.47097671]\n",
      "Groundtruth: [0.3105387994105206]. Predicted: [0.31083053]\n",
      "Groundtruth: [0.9719900911814716]. Predicted: [1.01444424]\n",
      "Groundtruth: [-0.013048093576024017]. Predicted: [-0.01110685]\n",
      "Groundtruth: [0.7410894263994382]. Predicted: [0.77348342]\n",
      "Groundtruth: [0.3605960537697228]. Predicted: [0.37401513]\n",
      "Groundtruth: [0.6189290483617855]. Predicted: [0.63303385]\n",
      "Groundtruth: [0.17562255154745904]. Predicted: [0.1744857]\n",
      "Groundtruth: [0.9933157077603482]. Predicted: [1.01483119]\n",
      "Groundtruth: [0.8174573487065382]. Predicted: [0.82882197]\n",
      "Groundtruth: [0.6113498774558898]. Predicted: [0.64204151]\n",
      "Groundtruth: [0.08739320721724277]. Predicted: [0.08544979]\n",
      "Groundtruth: [-0.0046363517416312325]. Predicted: [-0.00920799]\n",
      "Groundtruth: [0.5019497543514105]. Predicted: [0.51166911]\n",
      "Groundtruth: [0.939975051597863]. Predicted: [0.92310142]\n",
      "Groundtruth: [0.7482345990642505]. Predicted: [0.73587599]\n",
      "Groundtruth: [0.9086498441008589]. Predicted: [0.905105]\n",
      "Groundtruth: [0.005506587172744196]. Predicted: [-0.00899845]\n",
      "Groundtruth: [0.3533526484392638]. Predicted: [0.36154518]\n",
      "Groundtruth: [0.6345387019102975]. Predicted: [0.63152289]\n",
      "Groundtruth: [0.7382411246628052]. Predicted: [0.72841613]\n",
      "Groundtruth: [0.884609316324935]. Predicted: [0.92140962]\n",
      "Groundtruth: [0.07241941581585747]. Predicted: [0.08587258]\n",
      "Groundtruth: [0.5444033819911375]. Predicted: [0.54299022]\n",
      "Groundtruth: [0.09317457737963228]. Predicted: [0.08282465]\n",
      "Groundtruth: [1.0122238826442782]. Predicted: [1.02481322]\n",
      "Groundtruth: [0.8352050266561264]. Predicted: [0.82053759]\n",
      "Groundtruth: [0.8794890759974147]. Predicted: [0.9157787]\n",
      "Groundtruth: [0.4464729981881492]. Predicted: [0.45601467]\n",
      "Groundtruth: [1.0334882297683763]. Predicted: [1.01250808]\n",
      "Groundtruth: [0.8282552102891282]. Predicted: [0.8201396]\n",
      "Groundtruth: [0.29508100894107714]. Predicted: [0.31489977]\n",
      "Groundtruth: [0.0937865993115468]. Predicted: [0.10549477]\n",
      "Groundtruth: [0.45937828184644136]. Predicted: [0.48871519]\n",
      "Groundtruth: [1.0389984663649463]. Predicted: [1.01119526]\n",
      "Groundtruth: [0.7034491560929607]. Predicted: [0.70467454]\n",
      "Groundtruth: [0.8383616903673232]. Predicted: [0.8333306]\n",
      "Groundtruth: [0.40286748114452176]. Predicted: [0.41324364]\n",
      "Groundtruth: [0.3502795399678462]. Predicted: [0.33399893]\n",
      "Groundtruth: [1.0334156639294443]. Predicted: [1.01217322]\n",
      "Groundtruth: [0.08560040240081937]. Predicted: [0.08790775]\n",
      "Groundtruth: [0.6638119215616756]. Predicted: [0.64051057]\n",
      "Groundtruth: [0.008309087700992951]. Predicted: [-0.01012048]\n",
      "Groundtruth: [1.0044302502302946]. Predicted: [1.01102493]\n",
      "Groundtruth: [1.0300083671912261]. Predicted: [1.00869949]\n",
      "Groundtruth: [0.17798317910175585]. Predicted: [0.17776649]\n",
      "Groundtruth: [0.9195653133779458]. Predicted: [0.91750155]\n",
      "Groundtruth: [0.2645348256256335]. Predicted: [0.26921199]\n",
      "Groundtruth: [0.9523324844928437]. Predicted: [0.97943662]\n",
      "Groundtruth: [1.0241085037881312]. Predicted: [1.0135532]\n",
      "Groundtruth: [0.5743883954607639]. Predicted: [0.54583313]\n",
      "Groundtruth: [0.09727340159092746]. Predicted: [0.09040122]\n",
      "Groundtruth: [0.9135553288969865]. Predicted: [0.95138082]\n",
      "Groundtruth: [0.895996501996083]. Predicted: [0.91339837]\n",
      "Groundtruth: [0.8307173194336872]. Predicted: [0.85655681]\n",
      "Groundtruth: [0.35156503455361865]. Predicted: [0.36627819]\n",
      "Groundtruth: [1.0091169052509668]. Predicted: [1.01684628]\n",
      "Groundtruth: [0.03779539879029154]. Predicted: [0.0437086]\n",
      "Groundtruth: [0.6927287702127052]. Predicted: [0.71243041]\n",
      "Groundtruth: [0.8299530811068485]. Predicted: [0.82830301]\n",
      "Groundtruth: [1.0384858557531782]. Predicted: [1.0296276]\n",
      "Groundtruth: [0.6465725855579159]. Predicted: [0.64126778]\n",
      "Groundtruth: [0.7205616060435038]. Predicted: [0.73314958]\n",
      "Groundtruth: [0.909773165831628]. Predicted: [0.92249042]\n",
      "Groundtruth: [0.6344917695306042]. Predicted: [0.63607644]\n",
      "Groundtruth: [0.000737806552847161]. Predicted: [0.00619062]\n",
      "Groundtruth: [0.6247882326161746]. Predicted: [0.63803987]\n",
      "Groundtruth: [0.0882966233017773]. Predicted: [0.07043027]\n",
      "Groundtruth: [0.6150362479904693]. Predicted: [0.6406368]\n",
      "Groundtruth: [0.7142779888376886]. Predicted: [0.73933331]\n",
      "Groundtruth: [0.7059773155427579]. Predicted: [0.72208837]\n",
      "Groundtruth: [-0.0014138148956296154]. Predicted: [-0.00853459]\n",
      "Groundtruth: [0.3728954470242098]. Predicted: [0.35962682]\n",
      "Groundtruth: [0.6532472090749221]. Predicted: [0.6351307]\n",
      "Groundtruth: [0.6198306909235841]. Predicted: [0.63190057]\n",
      "Groundtruth: [0.27264673834562375]. Predicted: [0.26793247]\n",
      "Groundtruth: [1.0192035687709446]. Predicted: [1.01303611]\n",
      "Groundtruth: [0.28751786653328304]. Predicted: [0.27147443]\n",
      "Groundtruth: [0.9510846749651819]. Predicted: [0.92389027]\n",
      "Groundtruth: [0.31462562878574934]. Predicted: [0.32293438]\n",
      "Groundtruth: [0.4656566508446173]. Predicted: [0.45927129]\n",
      "Groundtruth: [0.12670094894666378]. Predicted: [0.14148364]\n",
      "Groundtruth: [0.6445111824827274]. Predicted: [0.64705807]\n",
      "Groundtruth: [0.0695221459807072]. Predicted: [0.06364678]\n",
      "Groundtruth: [0.44485412282049824]. Predicted: [0.45379495]\n",
      "Groundtruth: [0.3651313325191229]. Predicted: [0.3609817]\n",
      "Groundtruth: [0.8520082560473776]. Predicted: [0.85683364]\n",
      "Groundtruth: [0.8186678461958906]. Predicted: [0.83261697]\n",
      "Groundtruth: [0.8558630742459054]. Predicted: [0.85508435]\n",
      "Groundtruth: [0.2706396488061499]. Predicted: [0.26770273]\n",
      "Groundtruth: [0.3854303574934669]. Predicted: [0.39937846]\n",
      "Groundtruth: [1.0317504639203723]. Predicted: [1.01841615]\n",
      "Groundtruth: [0.10057358358169712]. Predicted: [0.08848868]\n",
      "Groundtruth: [0.444080995827426]. Predicted: [0.44936269]\n",
      "Groundtruth: [0.6407736352828626]. Predicted: [0.63899572]\n",
      "Groundtruth: [0.8108924339788861]. Predicted: [0.83058852]\n",
      "Groundtruth: [0.5326700490230107]. Predicted: [0.5455366]\n",
      "Groundtruth: [0.16967775787855569]. Predicted: [0.17625932]\n",
      "Groundtruth: [0.35163742857491337]. Predicted: [0.36272856]\n",
      "Groundtruth: [0.07635966208033697]. Predicted: [0.07080961]\n",
      "Groundtruth: [0.09424072813498259]. Predicted: [0.08172804]\n",
      "Groundtruth: [0.2608397507327937]. Predicted: [0.27159761]\n",
      "Groundtruth: [0.7716727488692456]. Predicted: [0.73448013]\n",
      "Groundtruth: [0.6100526968116871]. Predicted: [0.59175516]\n",
      "Groundtruth: [0.539996653825121]. Predicted: [0.54838748]\n",
      "Groundtruth: [0.8161011393004468]. Predicted: [0.8304499]\n",
      "Groundtruth: [0.7101355212542674]. Predicted: [0.73170797]\n",
      "Groundtruth: [0.25372577064901586]. Predicted: [0.24914108]\n",
      "Groundtruth: [0.18110714867459182]. Predicted: [0.17744928]\n",
      "Groundtruth: [-0.00025821662210399557]. Predicted: [-0.00884786]\n",
      "Groundtruth: [0.36225557134902997]. Predicted: [0.36309702]\n",
      "Groundtruth: [0.3561106924160842]. Predicted: [0.36245748]\n",
      "Groundtruth: [0.8932332547659789]. Predicted: [0.90044722]\n",
      "Groundtruth: [0.18252776570167087]. Predicted: [0.17771579]\n",
      "Groundtruth: [0.0876491995977308]. Predicted: [0.08833691]\n",
      "Groundtruth: [0.18786882597489848]. Predicted: [0.16276459]\n",
      "Groundtruth: [0.6187255222146727]. Predicted: [0.63464438]\n",
      "Groundtruth: [0.4411515336547497]. Predicted: [0.45172946]\n",
      "Groundtruth: [1.0514462644387428]. Predicted: [1.01795554]\n",
      "Groundtruth: [0.821532677304018]. Predicted: [0.85851679]\n",
      "Groundtruth: [0.827985484773803]. Predicted: [0.82716966]\n",
      "Groundtruth: [0.4431934617915597]. Predicted: [0.45270373]\n",
      "Groundtruth: [0.1766175361275136]. Predicted: [0.17996987]\n",
      "Groundtruth: [0.09674238465019644]. Predicted: [0.08519262]\n",
      "Groundtruth: [0.1728348320795768]. Predicted: [0.1799547]\n",
      "Groundtruth: [0.4615217823560473]. Predicted: [0.45382591]\n",
      "Groundtruth: [0.35922040911586467]. Predicted: [0.36311935]\n",
      "Groundtruth: [0.8608414641908785]. Predicted: [0.83769321]\n",
      "Groundtruth: [0.44419594960026104]. Predicted: [0.45377329]\n",
      "Groundtruth: [0.8503904620049286]. Predicted: [0.83384075]\n",
      "Groundtruth: [0.35342319356003005]. Predicted: [0.36063253]\n",
      "Groundtruth: [0.8773918891097694]. Predicted: [0.84030094]\n",
      "Groundtruth: [0.6362311541120735]. Predicted: [0.6390465]\n",
      "Groundtruth: [0.16910384670458065]. Predicted: [0.17623764]\n",
      "Groundtruth: [0.4505054694048457]. Predicted: [0.45457749]\n",
      "Groundtruth: [0.663507198296547]. Predicted: [0.69853105]\n",
      "Groundtruth: [0.26330357647372343]. Predicted: [0.24855821]\n",
      "Groundtruth: [0.7137455180900798]. Predicted: [0.7027462]\n",
      "Groundtruth: [0.27905957665852466]. Predicted: [0.2688793]\n",
      "Groundtruth: [0.0022046766209373263]. Predicted: [0.00255313]\n",
      "Groundtruth: [0.2652849218646711]. Predicted: [0.27138095]\n",
      "Groundtruth: [0.09624536298168052]. Predicted: [0.08648342]\n",
      "Groundtruth: [0.0028016853671846446]. Predicted: [-0.0084992]\n",
      "Groundtruth: [0.599658832115852]. Predicted: [0.6100913]\n",
      "Groundtruth: [0.8498830341815097]. Predicted: [0.83021742]\n",
      "Groundtruth: [0.27506198792264186]. Predicted: [0.26820303]\n",
      "Groundtruth: [0.35224485896838065]. Predicted: [0.35962326]\n",
      "Groundtruth: [0.832602732495565]. Predicted: [0.83326721]\n",
      "Groundtruth: [0.11913096203046124]. Predicted: [0.07995318]\n",
      "Groundtruth: [0.17501066606914786]. Predicted: [0.17448967]\n",
      "Groundtruth: [0.4412229206688186]. Predicted: [0.45486687]\n",
      "Groundtruth: [0.7273123547299584]. Predicted: [0.73384241]\n",
      "Groundtruth: [0.6327455506359702]. Predicted: [0.64205649]\n",
      "Groundtruth: [0.7482311290208865]. Predicted: [0.73217378]\n",
      "Groundtruth: [0.6394844535845778]. Predicted: [0.64022343]\n",
      "Groundtruth: [0.3092765572816061]. Predicted: [0.33153258]\n",
      "Groundtruth: [0.7497909895301381]. Predicted: [0.73325358]\n",
      "Groundtruth: [0.9136942528349076]. Predicted: [0.91847737]\n",
      "Groundtruth: [0.8585865630878332]. Predicted: [0.83218922]\n",
      "Groundtruth: [0.2719435356419488]. Predicted: [0.28136488]\n",
      "Groundtruth: [0.5400661037209055]. Predicted: [0.54879575]\n",
      "Groundtruth: [0.1693304472831043]. Predicted: [0.17867687]\n",
      "Groundtruth: [0.4336491750451821]. Predicted: [0.4440692]\n",
      "Groundtruth: [0.5466160230589687]. Predicted: [0.54906686]\n",
      "Groundtruth: [1.0416388742163816]. Predicted: [1.0236143]\n",
      "Groundtruth: [0.09052826678246585]. Predicted: [0.08258212]\n",
      "Groundtruth: [1.0428565815675404]. Predicted: [1.01434803]\n",
      "Groundtruth: [0.7822151945653975]. Predicted: [0.80669859]\n",
      "Groundtruth: [0.17060148712946815]. Predicted: [0.17548751]\n",
      "Groundtruth: [0.27712692193381966]. Predicted: [0.26763401]\n",
      "Groundtruth: [0.6563400529357337]. Predicted: [0.64075449]\n",
      "Groundtruth: [0.34865553018970236]. Predicted: [0.36029619]\n",
      "Groundtruth: [0.35315070275815774]. Predicted: [0.3607578]\n",
      "Groundtruth: [1.0263389145941104]. Predicted: [1.02101859]\n",
      "Groundtruth: [0.1760734317493379]. Predicted: [0.17695146]\n",
      "Groundtruth: [0.7851067537674843]. Predicted: [0.76470404]\n",
      "Groundtruth: [-0.002973861156078762]. Predicted: [-0.00526985]\n",
      "Groundtruth: [0.34838935427653867]. Predicted: [0.36607787]\n",
      "Groundtruth: [0.17660811830909906]. Predicted: [0.178572]\n",
      "Groundtruth: [0.934328743360977]. Predicted: [0.92622887]\n",
      "Groundtruth: [0.3509832799980178]. Predicted: [0.35785628]\n",
      "Groundtruth: [0.08471406421802681]. Predicted: [0.08437112]\n",
      "Groundtruth: [-0.0022620406422339595]. Predicted: [-0.0093946]\n",
      "Groundtruth: [1.0003734766058139]. Predicted: [1.02390554]\n",
      "Groundtruth: [0.1751070163072302]. Predicted: [0.17559701]\n",
      "Groundtruth: [0.6475250249363883]. Predicted: [0.63584242]\n",
      "Groundtruth: [0.35115005558603235]. Predicted: [0.36072703]\n",
      "Groundtruth: [0.9245833463026072]. Predicted: [0.92239475]\n",
      "Groundtruth: [0.6497304532494671]. Predicted: [0.64186859]\n",
      "Groundtruth: [0.7157007593040776]. Predicted: [0.72667672]\n",
      "Groundtruth: [0.6345102059656078]. Predicted: [0.64049213]\n",
      "Groundtruth: [0.5891334397735802]. Predicted: [0.5828276]\n",
      "Groundtruth: [0.45339930174626336]. Predicted: [0.45278625]\n",
      "Groundtruth: [0.736357882393406]. Predicted: [0.72834375]\n",
      "Groundtruth: [0.30732404471772895]. Predicted: [0.31934589]\n",
      "Groundtruth: [0.22816222254877216]. Predicted: [0.23558106]\n",
      "Groundtruth: [0.2597144444410311]. Predicted: [0.26901885]\n",
      "Groundtruth: [0.10531412548497818]. Predicted: [0.08234425]\n",
      "Groundtruth: [0.7087749570864775]. Predicted: [0.72518479]\n",
      "Groundtruth: [0.5698247369976251]. Predicted: [0.58312064]\n",
      "Groundtruth: [0.08660767773631133]. Predicted: [0.08300388]\n",
      "Groundtruth: [0.6126473656848982]. Predicted: [0.64055539]\n",
      "Groundtruth: [0.35153637717753616]. Predicted: [0.35884476]\n",
      "Groundtruth: [0.539813743133964]. Predicted: [0.54484977]\n",
      "Groundtruth: [0.5498607933089525]. Predicted: [0.55350183]\n",
      "Groundtruth: [0.9095760172305466]. Predicted: [0.92180802]\n",
      "Groundtruth: [0.6307703042407395]. Predicted: [0.63854549]\n",
      "Groundtruth: [0.48516068699745696]. Predicted: [0.50007763]\n",
      "Groundtruth: [0.2677012626323957]. Predicted: [0.27380236]\n",
      "Groundtruth: [0.4621629217553801]. Predicted: [0.45634277]\n",
      "Groundtruth: [0.7112767384532375]. Predicted: [0.73218297]\n",
      "Groundtruth: [0.3188738689068908]. Predicted: [0.32925919]\n",
      "Groundtruth: [0.9407183472243719]. Predicted: [0.93151455]\n",
      "Groundtruth: [0.6091181118941303]. Predicted: [0.64130518]\n",
      "Groundtruth: [0.9264831482069331]. Predicted: [0.95192481]\n",
      "Groundtruth: [0.6259251202386429]. Predicted: [0.63635147]\n",
      "Groundtruth: [0.27239020644111983]. Predicted: [0.27041522]\n",
      "Groundtruth: [0.18437455636223637]. Predicted: [0.18172423]\n",
      "Groundtruth: [0.1775732672175211]. Predicted: [0.18134369]\n",
      "Groundtruth: [0.1777514152631515]. Predicted: [0.18086342]\n",
      "Groundtruth: [0.0843253012673753]. Predicted: [0.08326028]\n",
      "Groundtruth: [-0.004640088294912352]. Predicted: [-0.00881695]\n",
      "Groundtruth: [0.3499191664437572]. Predicted: [0.3543844]\n",
      "Groundtruth: [0.2583884029744835]. Predicted: [0.26571089]\n",
      "Groundtruth: [0.806628440367331]. Predicted: [0.82666425]\n",
      "Groundtruth: [0.2784070632993879]. Predicted: [0.27025341]\n",
      "Groundtruth: [0.48995571675221594]. Predicted: [0.50185328]\n",
      "Groundtruth: [1.0364328570330696]. Predicted: [1.02261232]\n",
      "Groundtruth: [0.1823077693100406]. Predicted: [0.1764476]\n",
      "Groundtruth: [0.35667500887007364]. Predicted: [0.36025567]\n",
      "Groundtruth: [0.5352918322796378]. Predicted: [0.54661513]\n",
      "Groundtruth: [0.7293049836179092]. Predicted: [0.72931535]\n",
      "Groundtruth: [0.26138289273047055]. Predicted: [0.28413413]\n",
      "Groundtruth: [0.8114847231712868]. Predicted: [0.82979491]\n",
      "Groundtruth: [-0.01256980807681779]. Predicted: [-0.01384328]\n",
      "Groundtruth: [0.7218037800900309]. Predicted: [0.73140825]\n",
      "Groundtruth: [0.9508274138099115]. Predicted: [0.92971814]\n",
      "Groundtruth: [0.9416973177979127]. Predicted: [0.92792176]\n",
      "Groundtruth: [0.6298682189010684]. Predicted: [0.63806158]\n",
      "Groundtruth: [0.3619889769072375]. Predicted: [0.36550863]\n",
      "Groundtruth: [0.36042296066972923]. Predicted: [0.36262699]\n",
      "Groundtruth: [0.9076934531764682]. Predicted: [0.88976387]\n",
      "Groundtruth: [0.4319777482027789]. Predicted: [0.44146097]\n",
      "Groundtruth: [0.4553213077829096]. Predicted: [0.47611385]\n",
      "Groundtruth: [0.4561331679692267]. Predicted: [0.45197342]\n",
      "Groundtruth: [0.4425458059667053]. Predicted: [0.44872701]\n",
      "Groundtruth: [0.4561671032944493]. Predicted: [0.4535128]\n",
      "Groundtruth: [0.6294387194044659]. Predicted: [0.63856065]\n",
      "Groundtruth: [0.4708365948393101]. Predicted: [0.454376]\n",
      "Groundtruth: [0.08351474688950586]. Predicted: [0.08315093]\n",
      "Groundtruth: [0.2675085669373957]. Predicted: [0.27111783]\n",
      "Groundtruth: [0.9007772017291937]. Predicted: [0.92487892]\n",
      "Groundtruth: [0.36134792936106663]. Predicted: [0.36282709]\n",
      "Groundtruth: [0.08464868505794056]. Predicted: [0.08333592]\n",
      "Groundtruth: [0.45882985815565225]. Predicted: [0.45582638]\n",
      "Groundtruth: [0.17228190120957254]. Predicted: [0.17519219]\n",
      "Groundtruth: [0.32578736657544033]. Predicted: [0.32068531]\n",
      "Groundtruth: [-0.0014274240646771292]. Predicted: [-0.00598065]\n",
      "Groundtruth: [0.17925319166143025]. Predicted: [0.17660737]\n",
      "Groundtruth: [0.5435585974166564]. Predicted: [0.54022937]\n",
      "Groundtruth: [0.7576663814191303]. Predicted: [0.74032703]\n",
      "Groundtruth: [1.0089421778628374]. Predicted: [1.02109909]\n",
      "Groundtruth: [1.02595922605663]. Predicted: [1.02648022]\n",
      "Groundtruth: [0.9120397775675383]. Predicted: [0.95073034]\n",
      "Groundtruth: [0.5341678516475065]. Predicted: [0.54499152]\n",
      "Groundtruth: [0.8195894543285726]. Predicted: [0.82736108]\n",
      "Groundtruth: [0.09773096874023186]. Predicted: [0.08343308]\n",
      "Groundtruth: [0.7103772878541734]. Predicted: [0.73474837]\n",
      "Groundtruth: [0.6294838913822107]. Predicted: [0.64332564]\n",
      "Groundtruth: [0.26169364867456946]. Predicted: [0.26648105]\n",
      "Groundtruth: [0.5200177562137256]. Predicted: [0.5522101]\n",
      "Groundtruth: [0.64084486845862]. Predicted: [0.6586555]\n",
      "Groundtruth: [1.0263421727504782]. Predicted: [1.02550488]\n",
      "Groundtruth: [0.927918783648253]. Predicted: [0.9218103]\n",
      "Groundtruth: [0.3619653255110906]. Predicted: [0.37852926]\n",
      "Groundtruth: [0.6390891920211738]. Predicted: [0.63771632]\n",
      "Groundtruth: [0.17543276996247745]. Predicted: [0.18075592]\n",
      "Groundtruth: [0.18311261546371532]. Predicted: [0.17773652]\n",
      "Groundtruth: [0.8561817427389996]. Predicted: [0.82929615]\n",
      "Groundtruth: [-0.0006363123122382989]. Predicted: [-0.00790227]\n",
      "Groundtruth: [0.7243269223595943]. Predicted: [0.73089508]\n",
      "Groundtruth: [0.9063282782530812]. Predicted: [0.91956671]\n",
      "Groundtruth: [0.09173509470299722]. Predicted: [0.08682086]\n",
      "Groundtruth: [0.1330901359344307]. Predicted: [0.11020397]\n",
      "Groundtruth: [0.3573305357050949]. Predicted: [0.36876715]\n",
      "Groundtruth: [0.27300051991356267]. Predicted: [0.29037201]\n",
      "Groundtruth: [0.16938264620982638]. Predicted: [0.17774424]\n",
      "Groundtruth: [0.5400766112447388]. Predicted: [0.54620173]\n",
      "Groundtruth: [0.3681944335355928]. Predicted: [0.37992342]\n",
      "Groundtruth: [0.4320077704493163]. Predicted: [0.44533089]\n",
      "Groundtruth: [0.3587228231894514]. Predicted: [0.36160384]\n",
      "Groundtruth: [0.8112189094813144]. Predicted: [0.83181868]\n",
      "Groundtruth: [0.35284520109868495]. Predicted: [0.36148482]\n",
      "Groundtruth: [0.19124714322960007]. Predicted: [0.19051753]\n",
      "Groundtruth: [0.8185890084512146]. Predicted: [0.82947098]\n",
      "Groundtruth: [0.3553249458566674]. Predicted: [0.3595501]\n",
      "Groundtruth: [0.9881937128617261]. Predicted: [1.01105811]\n",
      "Groundtruth: [0.707495062097222]. Predicted: [0.72070413]\n",
      "Groundtruth: [1.0289966525781793]. Predicted: [1.01418568]\n",
      "Groundtruth: [0.725179213033373]. Predicted: [0.76864529]\n",
      "Groundtruth: [0.7193289684325169]. Predicted: [0.71241113]\n",
      "Groundtruth: [0.46314294716366466]. Predicted: [0.49669158]\n",
      "Groundtruth: [0.8305489254868359]. Predicted: [0.82425556]\n",
      "Groundtruth: [0.35250303278432177]. Predicted: [0.35971371]\n",
      "Groundtruth: [0.5389516015950747]. Predicted: [0.5453781]\n",
      "Groundtruth: [0.9692952553988233]. Predicted: [1.01561457]\n",
      "Groundtruth: [0.2689166799955677]. Predicted: [0.29099411]\n",
      "Groundtruth: [0.16929024507701712]. Predicted: [0.17341306]\n",
      "Groundtruth: [0.4306595380803844]. Predicted: [0.42549249]\n",
      "Groundtruth: [0.5544207799967257]. Predicted: [0.55439603]\n",
      "Groundtruth: [0.7753075992292852]. Predicted: [0.73410824]\n",
      "Groundtruth: [0.6958329088400174]. Predicted: [0.70010175]\n",
      "Groundtruth: [0.258025961186944]. Predicted: [0.26879128]\n",
      "Groundtruth: [0.5338014824795457]. Predicted: [0.54887266]\n",
      "Groundtruth: [0.5624356847078528]. Predicted: [0.55618084]\n",
      "Groundtruth: [0.980681045835904]. Predicted: [1.01987827]\n",
      "Groundtruth: [0.4665488477611418]. Predicted: [0.46651534]\n",
      "Groundtruth: [3.986656720959857e-05]. Predicted: [-0.00604097]\n",
      "Groundtruth: [0.5274460328127601]. Predicted: [0.54219961]\n",
      "Groundtruth: [-0.0008657180751420634]. Predicted: [-0.0090851]\n",
      "Groundtruth: [0.8193541014344393]. Predicted: [0.82647585]\n",
      "Groundtruth: [0.8308986748732182]. Predicted: [0.85624919]\n",
      "Groundtruth: [0.26062777814741717]. Predicted: [0.27000672]\n",
      "Groundtruth: [0.09582913172814937]. Predicted: [0.09624134]\n",
      "Groundtruth: [0.7408310378194598]. Predicted: [0.73092244]\n",
      "Groundtruth: [0.35457160148687616]. Predicted: [0.35587719]\n",
      "Groundtruth: [0.1803943508975134]. Predicted: [0.18960279]\n",
      "Groundtruth: [0.35126541467895955]. Predicted: [0.3600331]\n",
      "Groundtruth: [0.6285357553416149]. Predicted: [0.63160536]\n",
      "Groundtruth: [0.17076847262917957]. Predicted: [0.18190075]\n",
      "Groundtruth: [0.4410441195652123]. Predicted: [0.45204421]\n",
      "Groundtruth: [0.16966732378193722]. Predicted: [0.17694547]\n",
      "Groundtruth: [0.8341838654646133]. Predicted: [0.82745202]\n",
      "Groundtruth: [0.2895518059894777]. Predicted: [0.26782478]\n",
      "Groundtruth: [0.2784155944704038]. Predicted: [0.28989115]\n",
      "Groundtruth: [0.4684819550396868]. Predicted: [0.48621157]\n",
      "Groundtruth: [0.8345677525311207]. Predicted: [0.82472991]\n"
     ]
    }
   ],
   "source": [
    "for idx, prediction in enumerate(predictions):\n",
    "    print(f'Groundtruth: {Y_test[idx]}. Predicted: {prediction}')"
   ]
  },
  {
   "cell_type": "markdown",
   "id": "b5d4df94",
   "metadata": {},
   "source": [
    "## Predict CoM -> y"
   ]
  },
  {
   "cell_type": "markdown",
   "id": "53333162",
   "metadata": {},
   "source": [
    "### Linear Regression"
   ]
  },
  {
   "cell_type": "code",
   "execution_count": 18,
   "id": "12f3e7c5",
   "metadata": {},
   "outputs": [
    {
     "ename": "IndexError",
     "evalue": "index 1 is out of bounds for axis 1 with size 1",
     "output_type": "error",
     "traceback": [
      "\u001b[0;31m---------------------------------------------------------------------------\u001b[0m",
      "\u001b[0;31mIndexError\u001b[0m                                Traceback (most recent call last)",
      "Cell \u001b[0;32mIn[18], line 11\u001b[0m\n\u001b[1;32m      2\u001b[0m X \u001b[38;5;241m=\u001b[39m np\u001b[38;5;241m.\u001b[39mhstack((X_motion_CoM_acceleration_FR_RL[:, \u001b[38;5;241m0\u001b[39m:\u001b[38;5;241m1\u001b[39m], \u001b[38;5;66;03m# previous reference velocity\u001b[39;00m\n\u001b[1;32m      3\u001b[0m                X_motion_CoM_acceleration_FR_RL[:, \u001b[38;5;241m3\u001b[39m:\u001b[38;5;241m4\u001b[39m], \u001b[38;5;66;03m# current reference velocity\u001b[39;00m\n\u001b[1;32m      4\u001b[0m                X_motion_CoM_acceleration_FR_RL[:, \u001b[38;5;241m6\u001b[39m:\u001b[38;5;241m7\u001b[39m], \u001b[38;5;66;03m# actual velocity\u001b[39;00m\n\u001b[0;32m   (...)\u001b[0m\n\u001b[1;32m      7\u001b[0m                X_motion_CoM_acceleration_FR_RL[:, \u001b[38;5;241m15\u001b[39m:\u001b[38;5;241m17\u001b[39m], \u001b[38;5;66;03m# RL position\u001b[39;00m\n\u001b[1;32m      8\u001b[0m                X_motion_CoM_acceleration_FR_RL[:, \u001b[38;5;241m18\u001b[39m:\u001b[38;5;241m20\u001b[39m])) \u001b[38;5;66;03m# RR position\u001b[39;00m\n\u001b[1;32m     10\u001b[0m \u001b[38;5;66;03m# Labels\u001b[39;00m\n\u001b[0;32m---> 11\u001b[0m Y \u001b[38;5;241m=\u001b[39m np\u001b[38;5;241m.\u001b[39marray([\u001b[43mY_motion_CoM_acceleration_FR_RL\u001b[49m\u001b[43m[\u001b[49m\u001b[43m:\u001b[49m\u001b[43m,\u001b[49m\u001b[43m \u001b[49m\u001b[38;5;241;43m1\u001b[39;49m\u001b[43m]\u001b[49m])\u001b[38;5;241m.\u001b[39mT\n\u001b[1;32m     13\u001b[0m \u001b[38;5;28;01massert\u001b[39;00m Y\u001b[38;5;241m.\u001b[39mshape[\u001b[38;5;241m0\u001b[39m] \u001b[38;5;241m==\u001b[39m X\u001b[38;5;241m.\u001b[39mshape[\u001b[38;5;241m0\u001b[39m]\n\u001b[1;32m     15\u001b[0m \u001b[38;5;66;03m# Split dataset and fit best model\u001b[39;00m\n",
      "\u001b[0;31mIndexError\u001b[0m: index 1 is out of bounds for axis 1 with size 1"
     ]
    }
   ],
   "source": [
    "# Input\n",
    "X = np.hstack((X_motion_CoM_acceleration_FR_RL[:, 0:1], # previous reference velocity\n",
    "               X_motion_CoM_acceleration_FR_RL[:, 3:4], # current reference velocity\n",
    "               X_motion_CoM_acceleration_FR_RL[:, 6:7], # actual velocity\n",
    "               X_motion_CoM_acceleration_FR_RL[:, 9:11], # FL position\n",
    "               X_motion_CoM_acceleration_FR_RL[:, 12:14], # FR position\n",
    "               X_motion_CoM_acceleration_FR_RL[:, 15:17], # RL position\n",
    "               X_motion_CoM_acceleration_FR_RL[:, 18:20])) # RR position\n",
    "\n",
    "# Labels\n",
    "Y = np.array([Y_motion_CoM_acceleration_FR_RL[:, 1]]).T\n",
    "\n",
    "assert Y.shape[0] == X.shape[0]\n",
    "\n",
    "# Split dataset and fit best model\n",
    "X_test, Y_test, predictions, model_fr_com_y = find_best_model(X, Y, runs=5000)"
   ]
  },
  {
   "cell_type": "code",
   "execution_count": null,
   "id": "627155e6",
   "metadata": {},
   "outputs": [],
   "source": [
    "model_fr_com_y.coef_"
   ]
  },
  {
   "cell_type": "code",
   "execution_count": null,
   "id": "546a4b38",
   "metadata": {},
   "outputs": [],
   "source": [
    "model_fr_com_y.intercept_"
   ]
  },
  {
   "cell_type": "code",
   "execution_count": null,
   "id": "a0d078ef",
   "metadata": {},
   "outputs": [],
   "source": [
    "## The line / model\n",
    "plt.scatter(Y_test, predictions)\n",
    "plt.xlabel(\"Groundtruth\")\n",
    "plt.ylabel(\"Predictions\")"
   ]
  },
  {
   "cell_type": "code",
   "execution_count": null,
   "id": "26433625",
   "metadata": {},
   "outputs": [],
   "source": [
    "#for idx, prediction in enumerate(predictions):\n",
    "#    print(f'Groundtruth: {Y_test[idx]}. Predicted: {prediction}')"
   ]
  },
  {
   "cell_type": "code",
   "execution_count": null,
   "id": "07467d17-888d-4bf9-86b7-bd0f75daf94c",
   "metadata": {},
   "outputs": [],
   "source": []
  },
  {
   "cell_type": "code",
   "execution_count": null,
   "id": "0fdfde0b-438c-4faa-a04f-b6545ae5245b",
   "metadata": {},
   "outputs": [],
   "source": []
  }
 ],
 "metadata": {
  "kernelspec": {
   "display_name": "Python 3 (ipykernel)",
   "language": "python",
   "name": "python3"
  },
  "language_info": {
   "codemirror_mode": {
    "name": "ipython",
    "version": 3
   },
   "file_extension": ".py",
   "mimetype": "text/x-python",
   "name": "python",
   "nbconvert_exporter": "python",
   "pygments_lexer": "ipython3",
   "version": "3.10.6"
  }
 },
 "nbformat": 4,
 "nbformat_minor": 5
}
