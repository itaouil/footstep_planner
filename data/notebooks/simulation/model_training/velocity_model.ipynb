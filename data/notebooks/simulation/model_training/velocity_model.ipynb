{
 "cells": [
  {
   "cell_type": "code",
   "execution_count": 1,
   "id": "7396057a",
   "metadata": {},
   "outputs": [],
   "source": [
    "#!/usr/bin/env python3.6\n",
    "# -*- coding: utf-8 -*-"
   ]
  },
  {
   "cell_type": "code",
   "execution_count": 2,
   "id": "3685f3b4",
   "metadata": {},
   "outputs": [],
   "source": [
    "# Imports\n",
    "import sys\n",
    "import joblib\n",
    "import numpy as np\n",
    "from math import atan2\n",
    "from matplotlib import animation\n",
    "from IPython.display import HTML\n",
    "from matplotlib import pyplot as plt\n",
    "import mpl_toolkits.mplot3d.axes3d as p3"
   ]
  },
  {
   "cell_type": "code",
   "execution_count": 3,
   "id": "624b9d07",
   "metadata": {},
   "outputs": [],
   "source": [
    "#np.random.seed(20)\n",
    "np.set_printoptions(threshold=sys.maxsize)"
   ]
  },
  {
   "cell_type": "code",
   "execution_count": 4,
   "id": "44f22e21",
   "metadata": {},
   "outputs": [],
   "source": [
    "%matplotlib inline"
   ]
  },
  {
   "cell_type": "code",
   "execution_count": 5,
   "id": "9b734bb8",
   "metadata": {},
   "outputs": [
    {
     "name": "stdout",
     "output_type": "stream",
     "text": [
      "(7395, 8)\n",
      "(7395, 1)\n"
     ]
    }
   ],
   "source": [
    "%store -r X_velocity_sim\n",
    "%store -r Y_velocity_sim\n",
    "print(X_velocity_sim.shape)\n",
    "print(Y_velocity_sim.shape)"
   ]
  },
  {
   "cell_type": "markdown",
   "id": "d321ce72",
   "metadata": {},
   "source": [
    "# Multivariate Linear Regression (CoM Prediction)"
   ]
  },
  {
   "cell_type": "code",
   "execution_count": 6,
   "id": "2de76309",
   "metadata": {},
   "outputs": [],
   "source": [
    "import sklearn\n",
    "from sklearn import metrics\n",
    "from sklearn.feature_selection import RFE\n",
    "from sklearn.model_selection import KFold\n",
    "from sklearn.linear_model import LinearRegression\n",
    "from sklearn.model_selection import train_test_split\n",
    "from sklearn.preprocessing import PolynomialFeatures \n",
    "from sklearn.model_selection import cross_val_score, cross_val_predict\n",
    "from sklearn.metrics import mean_squared_error, mean_absolute_error, r2_score"
   ]
  },
  {
   "cell_type": "markdown",
   "id": "ee2624d4",
   "metadata": {},
   "source": [
    "## Predict CoM (x) movement"
   ]
  },
  {
   "cell_type": "code",
   "execution_count": 7,
   "id": "0a9e4803",
   "metadata": {},
   "outputs": [
    {
     "data": {
      "text/plain": [
       "array([0.1, 0.0, 0.0, -0.0007237745555853984, 0.01639134045253973,\n",
       "       -0.004252538996206474, False, True], dtype=object)"
      ]
     },
     "execution_count": 7,
     "metadata": {},
     "output_type": "execute_result"
    }
   ],
   "source": [
    "X_velocity_sim[0, :]"
   ]
  },
  {
   "cell_type": "code",
   "execution_count": 8,
   "id": "d55c6716",
   "metadata": {},
   "outputs": [
    {
     "data": {
      "text/plain": [
       "array([0.08211927296688538], dtype=object)"
      ]
     },
     "execution_count": 8,
     "metadata": {},
     "output_type": "execute_result"
    }
   ],
   "source": [
    "Y_velocity_sim[0, :]"
   ]
  },
  {
   "cell_type": "markdown",
   "id": "3a6f2540",
   "metadata": {},
   "source": [
    "### Linear Regression"
   ]
  },
  {
   "cell_type": "code",
   "execution_count": 9,
   "id": "b129288c-f364-4a57-8463-62fe2ce95939",
   "metadata": {},
   "outputs": [],
   "source": [
    "def find_best_model(X, Y, runs=1000):\n",
    "    best_model = None\n",
    "    lowest_error = 100\n",
    "    best_Xtr, best_Xte, best_Ytr, best_Yte = None, None, None, None\n",
    "    \n",
    "    for _ in range(runs):\n",
    "        X_train, X_test, Y_train, Y_test = train_test_split(X, Y, train_size = 0.9, shuffle=True)\n",
    "        \n",
    "        model = LinearRegression()\n",
    "        model.fit(X_train, Y_train)\n",
    "\n",
    "        predictions = model.predict(X_test)\n",
    "        error = np.max(np.abs(predictions - Y_test))\n",
    "\n",
    "        if error < lowest_error:\n",
    "            best_model = model\n",
    "            lowest_error = error\n",
    "            best_Xtr, best_Xte, best_Ytr, best_Yte = X_train, X_test, Y_train, Y_test\n",
    "\n",
    "    # Stats\n",
    "    predictions = best_model.predict(best_Xte)\n",
    "    print('R2: ', r2_score(predictions, best_Yte))\n",
    "    print('RMSE: ', np.sqrt(mean_squared_error(best_Yte, predictions)))\n",
    "    print(\"The lowest error is: \", np.min(np.abs(predictions - best_Yte)))\n",
    "    print(\"The highest error is: \", np.max(np.abs(predictions - best_Yte)))\n",
    "    print(\"The avg. error is: \", np.mean(np.abs(predictions - best_Yte)))\n",
    "    \n",
    "    return best_Xte, best_Yte, predictions, best_model"
   ]
  },
  {
   "cell_type": "code",
   "execution_count": 10,
   "id": "c19cae26-5b62-4311-9b12-c47726058f32",
   "metadata": {},
   "outputs": [
    {
     "name": "stdout",
     "output_type": "stream",
     "text": [
      "R2:  0.9969644389722465\n",
      "RMSE:  0.017086181904636153\n",
      "The lowest error is:  7.548169108562153e-05\n",
      "The highest error is:  0.059609807045518326\n",
      "The avg. error is:  0.013360988018751551\n"
     ]
    }
   ],
   "source": [
    "# Input\n",
    "X = np.hstack((X_velocity_sim[:, 0:1], # current reference velocity\n",
    "               X_velocity_sim[:, 3:4])) # current actual velocity\n",
    "\n",
    "# Labels\n",
    "Y = np.array([Y_velocity_sim[:, 0]]).T\n",
    "\n",
    "assert Y.shape[0] == X.shape[0]\n",
    "\n",
    "# Split dataset and fit best model\n",
    "X_test, Y_test, predictions, model_fr_com_x = find_best_model(X, Y, runs=5000)"
   ]
  },
  {
   "cell_type": "code",
   "execution_count": 11,
   "id": "5f603ab7",
   "metadata": {},
   "outputs": [
    {
     "data": {
      "text/plain": [
       "array([[0.86605954, 0.07516349]])"
      ]
     },
     "execution_count": 11,
     "metadata": {},
     "output_type": "execute_result"
    }
   ],
   "source": [
    "model_fr_com_x.coef_"
   ]
  },
  {
   "cell_type": "code",
   "execution_count": 12,
   "id": "2e7d17cd",
   "metadata": {},
   "outputs": [
    {
     "data": {
      "text/plain": [
       "array([-0.01088777])"
      ]
     },
     "execution_count": 12,
     "metadata": {},
     "output_type": "execute_result"
    }
   ],
   "source": [
    "model_fr_com_x.intercept_"
   ]
  },
  {
   "cell_type": "code",
   "execution_count": 13,
   "id": "f4a78f7b",
   "metadata": {},
   "outputs": [
    {
     "data": {
      "text/plain": [
       "Text(0, 0.5, 'Predictions')"
      ]
     },
     "execution_count": 13,
     "metadata": {},
     "output_type": "execute_result"
    },
    {
     "data": {
      "image/png": "[encoded data removed]",
      "text/plain": [
       "<Figure size 640x480 with 1 Axes>"
      ]
     },
     "metadata": {},
     "output_type": "display_data"
    }
   ],
   "source": [
    "## The line / model\n",
    "plt.scatter(Y_test, predictions)\n",
    "plt.xlabel(\"Groundtruth\")\n",
    "plt.ylabel(\"Predictions\")"
   ]
  },
  {
   "cell_type": "code",
   "execution_count": 14,
   "id": "463b8c66",
   "metadata": {},
   "outputs": [],
   "source": [
    "#for idx, prediction in enumerate(predictions):\n",
    "#    print(f'Groundtruth: {Y_test[idx]}. Predicted: {prediction}')"
   ]
  },
  {
   "cell_type": "markdown",
   "id": "b5d4df94",
   "metadata": {},
   "source": [
    "## Predict CoM -> y"
   ]
  },
  {
   "cell_type": "markdown",
   "id": "53333162",
   "metadata": {},
   "source": [
    "### Linear Regression"
   ]
  },
  {
   "cell_type": "code",
   "execution_count": 15,
   "id": "12f3e7c5",
   "metadata": {},
   "outputs": [
    {
     "name": "stdout",
     "output_type": "stream",
     "text": [
      "R2:  -5.95721174027479\n",
      "RMSE:  0.004819335951328441\n",
      "The lowest error is:  4.784914797950309e-06\n",
      "The highest error is:  0.020467429950731593\n",
      "The avg. error is:  0.0029662096061736608\n"
     ]
    }
   ],
   "source": [
    "# Input\n",
    "X = np.hstack((X_velocity_sim[:, 0:1], # current reference velocity\n",
    "               X_velocity_sim[:, 3:4], # actual velocity\n",
    "               X_velocity_sim[:, 6:8], # FL position\n",
    "               X_velocity_sim[:, 9:11], # FR position\n",
    "               X_velocity_sim[:, 12:14], # RL position\n",
    "               X_velocity_sim[:, 15:17])) # RR position\n",
    "\n",
    "# Labels\n",
    "Y = np.array([Y_velocity_sim[:, 1]]).T\n",
    "\n",
    "assert Y.shape[0] == X.shape[0]\n",
    "\n",
    "# Split dataset and fit best model\n",
    "X_test, Y_test, predictions, model_fr_com_y = find_best_model(X, Y, runs=5000)"
   ]
  },
  {
   "cell_type": "code",
   "execution_count": 16,
   "id": "627155e6",
   "metadata": {},
   "outputs": [
    {
     "data": {
      "text/plain": [
       "array([[ 0.00120014,  0.00297546,  0.11956603,  0.11613013, -0.04487742,\n",
       "         0.08731888,  0.03709329, -0.02229205, -0.15739845,  0.04791459]])"
      ]
     },
     "execution_count": 16,
     "metadata": {},
     "output_type": "execute_result"
    }
   ],
   "source": [
    "model_fr_com_y.coef_"
   ]
  },
  {
   "cell_type": "code",
   "execution_count": 17,
   "id": "546a4b38",
   "metadata": {},
   "outputs": [
    {
     "data": {
      "text/plain": [
       "array([-0.04480356])"
      ]
     },
     "execution_count": 17,
     "metadata": {},
     "output_type": "execute_result"
    }
   ],
   "source": [
    "model_fr_com_y.intercept_"
   ]
  },
  {
   "cell_type": "code",
   "execution_count": 18,
   "id": "a0d078ef",
   "metadata": {},
   "outputs": [
    {
     "data": {
      "text/plain": [
       "Text(0, 0.5, 'Predictions')"
      ]
     },
     "execution_count": 18,
     "metadata": {},
     "output_type": "execute_result"
    },
    {
     "data": {
      "image/png": "[encoded data removed]",
      "text/plain": [
       "<Figure size 640x480 with 1 Axes>"
      ]
     },
     "metadata": {},
     "output_type": "display_data"
    }
   ],
   "source": [
    "## The line / model\n",
    "plt.scatter(Y_test, predictions)\n",
    "plt.xlabel(\"Groundtruth\")\n",
    "plt.ylabel(\"Predictions\")"
   ]
  },
  {
   "cell_type": "code",
   "execution_count": 20,
   "id": "26433625",
   "metadata": {},
   "outputs": [],
   "source": [
    "#for idx, prediction in enumerate(predictions):\n",
    "#    print(f'Groundtruth: {Y_test[idx]}. Predicted: {prediction}')"
   ]
  },
  {
   "cell_type": "code",
   "execution_count": null,
   "id": "07467d17-888d-4bf9-86b7-bd0f75daf94c",
   "metadata": {},
   "outputs": [],
   "source": []
  },
  {
   "cell_type": "code",
   "execution_count": null,
   "id": "0fdfde0b-438c-4faa-a04f-b6545ae5245b",
   "metadata": {},
   "outputs": [],
   "source": []
  }
 ],
 "metadata": {
  "kernelspec": {
   "display_name": "Python 3 (ipykernel)",
   "language": "python",
   "name": "python3"
  },
  "language_info": {
   "codemirror_mode": {
    "name": "ipython",
    "version": 3
   },
   "file_extension": ".py",
   "mimetype": "text/x-python",
   "name": "python",
   "nbconvert_exporter": "python",
   "pygments_lexer": "ipython3",
   "version": "3.10.6"
  }
 },
 "nbformat": 4,
 "nbformat_minor": 5
}
