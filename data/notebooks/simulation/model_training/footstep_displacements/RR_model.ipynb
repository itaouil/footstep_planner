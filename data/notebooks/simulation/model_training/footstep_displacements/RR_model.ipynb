{
 "cells": [
  {
   "cell_type": "code",
   "execution_count": 1,
   "id": "ccd7e530",
   "metadata": {},
   "outputs": [],
   "source": [
    "#!/usr/bin/env python3.6\n",
    "# -*- coding: utf-8 -*-"
   ]
  },
  {
   "cell_type": "code",
   "execution_count": 2,
   "id": "483ed379",
   "metadata": {},
   "outputs": [],
   "source": [
    "# Imports\n",
    "import sys\n",
    "import joblib\n",
    "import numpy as np\n",
    "from matplotlib import animation\n",
    "from IPython.display import HTML\n",
    "from matplotlib import pyplot as plt\n",
    "import mpl_toolkits.mplot3d.axes3d as p3"
   ]
  },
  {
   "cell_type": "code",
   "execution_count": 3,
   "id": "f945dc4a",
   "metadata": {},
   "outputs": [],
   "source": [
    "#np.random.seed(20)\n",
    "np.set_printoptions(threshold=sys.maxsize)"
   ]
  },
  {
   "cell_type": "code",
   "execution_count": 4,
   "id": "f2476190",
   "metadata": {},
   "outputs": [],
   "source": [
    "%matplotlib inline"
   ]
  },
  {
   "cell_type": "code",
   "execution_count": 5,
   "id": "49153975",
   "metadata": {},
   "outputs": [
    {
     "name": "stdout",
     "output_type": "stream",
     "text": [
      "(7395, 23)\n",
      "(7395, 4)\n"
     ]
    }
   ],
   "source": [
    "%store -r X_footsteps_accelerations_absolute\n",
    "%store -r Y_footsteps_accelerations_absolute\n",
    "print(X_footsteps_accelerations_absolute.shape)\n",
    "print(Y_footsteps_accelerations_absolute.shape)"
   ]
  },
  {
   "cell_type": "markdown",
   "id": "297461c3",
   "metadata": {},
   "source": [
    "# Multivariate Linear Regression (Foot prediction)"
   ]
  },
  {
   "cell_type": "code",
   "execution_count": 6,
   "id": "f805762b",
   "metadata": {},
   "outputs": [],
   "source": [
    "import sklearn\n",
    "from sklearn import metrics\n",
    "from sklearn.feature_selection import RFE\n",
    "from sklearn.model_selection import KFold\n",
    "from sklearn.linear_model import LinearRegression\n",
    "from sklearn.model_selection import train_test_split\n",
    "from sklearn.preprocessing import PolynomialFeatures \n",
    "from sklearn.model_selection import cross_val_score, cross_val_predict\n",
    "from sklearn.metrics import mean_squared_error, mean_absolute_error, r2_score"
   ]
  },
  {
   "cell_type": "code",
   "execution_count": 7,
   "id": "a12b72dc",
   "metadata": {},
   "outputs": [],
   "source": [
    "# Entries where FL/RR are swinging\n",
    "idxs = np.where(X_footsteps_accelerations_absolute[:, -2] == 1)[0]\n",
    "X_footsteps_accelerations_absolute_RR_swing = X_footsteps_accelerations_absolute[idxs]\n",
    "Y_footsteps_accelerations_absolute_RR_swing = Y_footsteps_accelerations_absolute[idxs]"
   ]
  },
  {
   "cell_type": "markdown",
   "id": "15b2b7d8",
   "metadata": {},
   "source": [
    "## Predict FL foot -> x"
   ]
  },
  {
   "cell_type": "code",
   "execution_count": 8,
   "id": "2fa5d3d9",
   "metadata": {},
   "outputs": [
    {
     "data": {
      "text/plain": [
       "array([ 0.1       ,  0.        ,  0.        ,  0.1       ,  0.        ,\n",
       "        0.        ,  0.08211927, -0.00619025,  0.00489731,  0.23448798,\n",
       "        0.12098632, -0.31370604,  0.26968373, -0.13223646, -0.26779938,\n",
       "       -0.25294316,  0.13706825, -0.27173775, -0.28294898, -0.12839869,\n",
       "       -0.31333761,  1.        ,  0.        ])"
      ]
     },
     "execution_count": 8,
     "metadata": {},
     "output_type": "execute_result"
    }
   ],
   "source": [
    "X_footsteps_accelerations_absolute_RR_swing[0, :]"
   ]
  },
  {
   "cell_type": "code",
   "execution_count": 9,
   "id": "e0cfc79a",
   "metadata": {},
   "outputs": [
    {
     "data": {
      "text/plain": [
       "array([ 0.0592235 ,  0.01086388,  0.05407919, -0.01027362])"
      ]
     },
     "execution_count": 9,
     "metadata": {},
     "output_type": "execute_result"
    }
   ],
   "source": [
    "Y_footsteps_accelerations_absolute_RR_swing[0, :]"
   ]
  },
  {
   "cell_type": "markdown",
   "id": "ff82c2f8",
   "metadata": {},
   "source": [
    "### Linear Regression"
   ]
  },
  {
   "cell_type": "code",
   "execution_count": 10,
   "id": "b4ae8fc9-abf1-401a-ba1b-8253cdb5ecab",
   "metadata": {},
   "outputs": [],
   "source": [
    "def find_best_model(X, Y, runs=1000):\n",
    "    best_model = None\n",
    "    lowest_error = 100\n",
    "    best_Xtr, best_Xte, best_Ytr, best_Yte = None, None, None, None\n",
    "    \n",
    "    for _ in range(runs):\n",
    "        X_train, X_test, Y_train, Y_test = train_test_split(X, Y, train_size = 0.9, shuffle=True)\n",
    "        \n",
    "        model = LinearRegression()\n",
    "        model.fit(X_train, Y_train)\n",
    "\n",
    "        predictions = model.predict(X_test)\n",
    "        error = np.max(np.abs(predictions - Y_test))\n",
    "\n",
    "        if error < lowest_error:\n",
    "            best_model = model\n",
    "            lowest_error = error\n",
    "            best_Xtr, best_Xte, best_Ytr, best_Yte = X_train, X_test, Y_train, Y_test\n",
    "\n",
    "    # Stats\n",
    "    predictions = best_model.predict(best_Xte)\n",
    "    print('R2: ', r2_score(predictions, best_Yte))\n",
    "    print('RMSE: ', np.sqrt(mean_squared_error(best_Yte, predictions)))\n",
    "    print(\"The lowest error is: \", np.min(np.abs(predictions - best_Yte)))\n",
    "    print(\"The highest error is: \", np.max(np.abs(predictions - best_Yte)))\n",
    "    print(\"The avg. error is: \", np.mean(np.abs(predictions - best_Yte)))\n",
    "    \n",
    "    return best_Xte, best_Yte, predictions, best_model"
   ]
  },
  {
   "cell_type": "code",
   "execution_count": 11,
   "id": "b9ff7829-76d8-4932-895e-2b510b1506d1",
   "metadata": {},
   "outputs": [
    {
     "name": "stdout",
     "output_type": "stream",
     "text": [
      "R2:  0.9913748138462027\n",
      "RMSE:  0.015229241322528194\n",
      "The lowest error is:  3.2832360944923256e-05\n",
      "The highest error is:  0.04186038936318348\n",
      "The avg. error is:  0.011725238612164264\n"
     ]
    }
   ],
   "source": [
    "# Input\n",
    "X = np.hstack((X_footsteps_accelerations_absolute_RR_swing[:, 0:1], # previous reference velocity\n",
    "               X_footsteps_accelerations_absolute_RR_swing[:, 3:4], # current reference velocity\n",
    "               X_footsteps_accelerations_absolute_RR_swing[:, 6:7], # actual velocity\n",
    "               X_footsteps_accelerations_absolute_RR_swing[:, 9:11], # FL position\n",
    "               X_footsteps_accelerations_absolute_RR_swing[:, 12:14], # FR position\n",
    "               X_footsteps_accelerations_absolute_RR_swing[:, 15:17], # RL position\n",
    "               X_footsteps_accelerations_absolute_RR_swing[:, 18:20])) # RR position\n",
    "\n",
    "# Labels\n",
    "Y = np.array([Y_footsteps_accelerations_absolute_RR_swing[:, 0]]).T\n",
    "\n",
    "assert Y.shape[0] == X.shape[0]\n",
    "\n",
    "# Split dataset and fit best model\n",
    "X_test, Y_test, predictions, model_rr_relative_swinging_x = find_best_model(X, Y, runs=5000)"
   ]
  },
  {
   "cell_type": "code",
   "execution_count": 12,
   "id": "83174d9e",
   "metadata": {},
   "outputs": [
    {
     "data": {
      "text/plain": [
       "array([[ 0.31882429,  0.29872904,  0.01085323, -1.02857259,  1.34393837,\n",
       "        -0.00505682,  0.06325524, -0.66967462, -0.33787865,  0.54328073,\n",
       "        -0.77361328]])"
      ]
     },
     "execution_count": 12,
     "metadata": {},
     "output_type": "execute_result"
    }
   ],
   "source": [
    "model_rr_relative_swinging_x.coef_"
   ]
  },
  {
   "cell_type": "code",
   "execution_count": 13,
   "id": "0d4167af",
   "metadata": {},
   "outputs": [
    {
     "data": {
      "text/plain": [
       "array([0.01168475])"
      ]
     },
     "execution_count": 13,
     "metadata": {},
     "output_type": "execute_result"
    }
   ],
   "source": [
    "model_rr_relative_swinging_x.intercept_"
   ]
  },
  {
   "cell_type": "code",
   "execution_count": 14,
   "id": "961d5ee4",
   "metadata": {},
   "outputs": [
    {
     "data": {
      "text/plain": [
       "Text(0, 0.5, 'Predictions')"
      ]
     },
     "execution_count": 14,
     "metadata": {},
     "output_type": "execute_result"
    },
    {
     "data": {
      "image/png": "[encoded data removed]",
      "text/plain": [
       "<Figure size 640x480 with 1 Axes>"
      ]
     },
     "metadata": {},
     "output_type": "display_data"
    }
   ],
   "source": [
    "## The line / model\n",
    "plt.scatter(Y_test, predictions)\n",
    "plt.xlabel(\"Ground truth\")\n",
    "plt.ylabel(\"Predictions\")"
   ]
  },
  {
   "cell_type": "code",
   "execution_count": 15,
   "id": "84f80303",
   "metadata": {},
   "outputs": [],
   "source": [
    "#for idx, prediction in enumerate(predictions):\n",
    "#    print(f'Start: {X_test[idx, 6]}. Groundtruth: {Y_test[idx]}. Predicted: {prediction}')"
   ]
  },
  {
   "cell_type": "markdown",
   "id": "b6fd4b00",
   "metadata": {},
   "source": [
    "### Predict RR foot -> y"
   ]
  },
  {
   "cell_type": "code",
   "execution_count": 16,
   "id": "1f0a8f63",
   "metadata": {},
   "outputs": [
    {
     "name": "stdout",
     "output_type": "stream",
     "text": [
      "R2:  0.8902457355591662\n",
      "RMSE:  0.004650097577206069\n",
      "The lowest error is:  4.665074430688226e-06\n",
      "The highest error is:  0.013198121648930729\n",
      "The avg. error is:  0.00360419222434677\n"
     ]
    }
   ],
   "source": [
    "# Input\n",
    "X = np.hstack((X_footsteps_accelerations_absolute_RR_swing[:, 0:1], # previous reference velocity\n",
    "               X_footsteps_accelerations_absolute_RR_swing[:, 3:4], # current reference velocity\n",
    "               X_footsteps_accelerations_absolute_RR_swing[:, 6:7], # actual velocity\n",
    "               X_footsteps_accelerations_absolute_RR_swing[:, 9:11], # FL position\n",
    "               X_footsteps_accelerations_absolute_RR_swing[:, 12:14], # FR position\n",
    "               X_footsteps_accelerations_absolute_RR_swing[:, 15:17], # RL position\n",
    "               X_footsteps_accelerations_absolute_RR_swing[:, 18:20])) # RR position\n",
    "\n",
    "# Labels\n",
    "Y = np.array([Y_footsteps_accelerations_absolute_RR_swing[:, 1]]).T\n",
    "\n",
    "assert Y.shape[0] == X.shape[0]\n",
    "\n",
    "# Split dataset and fit best model\n",
    "X_test, Y_test, predictions, model_rr_relative_swinging_y = find_best_model(X, Y, runs=5000)"
   ]
  },
  {
   "cell_type": "code",
   "execution_count": 17,
   "id": "66a217d7",
   "metadata": {},
   "outputs": [
    {
     "data": {
      "text/plain": [
       "array([[ 0.07029771, -0.04444243, -0.08412529,  0.10099089, -0.97543263,\n",
       "        -0.49633826,  0.05986033,  0.65352051,  0.33732742, -0.15476819,\n",
       "         0.1882564 ]])"
      ]
     },
     "execution_count": 17,
     "metadata": {},
     "output_type": "execute_result"
    }
   ],
   "source": [
    "model_rr_relative_swinging_y.coef_"
   ]
  },
  {
   "cell_type": "code",
   "execution_count": 18,
   "id": "18bc940d",
   "metadata": {},
   "outputs": [
    {
     "data": {
      "text/plain": [
       "array([0.35072431])"
      ]
     },
     "execution_count": 18,
     "metadata": {},
     "output_type": "execute_result"
    }
   ],
   "source": [
    "model_rr_relative_swinging_y.intercept_"
   ]
  },
  {
   "cell_type": "code",
   "execution_count": 19,
   "id": "8a363769",
   "metadata": {},
   "outputs": [
    {
     "data": {
      "text/plain": [
       "Text(0, 0.5, 'Predictions')"
      ]
     },
     "execution_count": 19,
     "metadata": {},
     "output_type": "execute_result"
    },
    {
     "data": {
      "image/png": "[encoded data removed]",
      "text/plain": [
       "<Figure size 640x480 with 1 Axes>"
      ]
     },
     "metadata": {},
     "output_type": "display_data"
    }
   ],
   "source": [
    "## The line / model\n",
    "plt.scatter(Y_test, predictions)\n",
    "plt.xlabel(\"Ground truth\")\n",
    "plt.ylabel(\"Predictions\")"
   ]
  },
  {
   "cell_type": "code",
   "execution_count": 20,
   "id": "77fcf8ee",
   "metadata": {},
   "outputs": [],
   "source": [
    "#for idx, prediction in enumerate(predictions):\n",
    "#    print(f'Input: {X_test[idx]}. Groundtruth: {Y_test[idx]}. Predicted: {prediction}')"
   ]
  },
  {
   "cell_type": "code",
   "execution_count": null,
   "id": "347c5ef3-7607-4839-8d99-a9e71388f444",
   "metadata": {},
   "outputs": [],
   "source": []
  }
 ],
 "metadata": {
  "kernelspec": {
   "display_name": "Python 3 (ipykernel)",
   "language": "python",
   "name": "python3"
  },
  "language_info": {
   "codemirror_mode": {
    "name": "ipython",
    "version": 3
   },
   "file_extension": ".py",
   "mimetype": "text/x-python",
   "name": "python",
   "nbconvert_exporter": "python",
   "pygments_lexer": "ipython3",
   "version": "3.10.6"
  }
 },
 "nbformat": 4,
 "nbformat_minor": 5
}
