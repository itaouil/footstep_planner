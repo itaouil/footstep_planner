{
 "cells": [
  {
   "cell_type": "code",
   "execution_count": 1,
   "id": "584b273f",
   "metadata": {},
   "outputs": [],
   "source": [
    "#!/usr/bin/env python3.6\n",
    "# -*- coding: utf-8 -*-"
   ]
  },
  {
   "cell_type": "code",
   "execution_count": 2,
   "id": "b186306a",
   "metadata": {},
   "outputs": [],
   "source": [
    "# Imports\n",
    "import sys\n",
    "import joblib\n",
    "import numpy as np\n",
    "from matplotlib import animation\n",
    "from IPython.display import HTML\n",
    "from matplotlib import pyplot as plt\n",
    "import mpl_toolkits.mplot3d.axes3d as p3"
   ]
  },
  {
   "cell_type": "code",
   "execution_count": 3,
   "id": "3eccf154",
   "metadata": {},
   "outputs": [],
   "source": [
    "#np.random.seed(20)\n",
    "np.set_printoptions(threshold=sys.maxsize)"
   ]
  },
  {
   "cell_type": "code",
   "execution_count": 4,
   "id": "323ba11e",
   "metadata": {},
   "outputs": [],
   "source": [
    "%matplotlib inline"
   ]
  },
  {
   "cell_type": "code",
   "execution_count": 5,
   "id": "3b293490",
   "metadata": {},
   "outputs": [
    {
     "name": "stdout",
     "output_type": "stream",
     "text": [
      "(14790, 20)\n",
      "(14790, 4)\n"
     ]
    }
   ],
   "source": [
    "%store -r X_feet_sim\n",
    "%store -r Y_feet_sim\n",
    "print(X_feet_sim.shape)\n",
    "print(Y_feet_sim.shape)"
   ]
  },
  {
   "cell_type": "code",
   "execution_count": 6,
   "id": "e876a774",
   "metadata": {},
   "outputs": [
    {
     "data": {
      "text/plain": [
       "-0.12355339407301584"
      ]
     },
     "execution_count": 6,
     "metadata": {},
     "output_type": "execute_result"
    }
   ],
   "source": [
    "min(Y_feet_sim[:, 0])"
   ]
  },
  {
   "cell_type": "code",
   "execution_count": 7,
   "id": "4e9452c9",
   "metadata": {},
   "outputs": [
    {
     "data": {
      "text/plain": [
       "0.665582706973134"
      ]
     },
     "execution_count": 7,
     "metadata": {},
     "output_type": "execute_result"
    }
   ],
   "source": [
    "max(Y_feet_sim[:, 0])"
   ]
  },
  {
   "cell_type": "markdown",
   "id": "4c993011",
   "metadata": {},
   "source": [
    "# Multivariate Linear Regression (Foot prediction)"
   ]
  },
  {
   "cell_type": "code",
   "execution_count": 8,
   "id": "011f469c",
   "metadata": {},
   "outputs": [],
   "source": [
    "import sklearn\n",
    "from sklearn import metrics\n",
    "from sklearn.feature_selection import RFE\n",
    "from sklearn.model_selection import KFold\n",
    "from sklearn.linear_model import LinearRegression\n",
    "from sklearn.model_selection import train_test_split\n",
    "from sklearn.preprocessing import PolynomialFeatures \n",
    "from sklearn.model_selection import cross_val_score, cross_val_predict\n",
    "from sklearn.metrics import mean_squared_error, mean_absolute_error, r2_score, accuracy_score"
   ]
  },
  {
   "cell_type": "code",
   "execution_count": 9,
   "id": "65ae3716-24dd-4493-ac04-97e4ff24d948",
   "metadata": {},
   "outputs": [
    {
     "data": {
      "text/plain": [
       "array([ 1.00000000e-01,  0.00000000e+00,  0.00000000e+00, -7.23774556e-04,\n",
       "        1.63913405e-02, -4.25253900e-03,  2.52678370e-01,  1.34278938e-01,\n",
       "       -2.77884607e-01,  2.48699126e-01, -1.23663102e-01, -3.13305709e-01,\n",
       "       -2.69007467e-01,  1.27140112e-01, -3.13660563e-01, -2.69880417e-01,\n",
       "       -1.35002353e-01, -2.81540030e-01,  0.00000000e+00,  1.00000000e+00])"
      ]
     },
     "execution_count": 9,
     "metadata": {},
     "output_type": "execute_result"
    }
   ],
   "source": [
    "X_feet_sim[0]"
   ]
  },
  {
   "cell_type": "code",
   "execution_count": 10,
   "id": "7154b41c-4225-4c0d-8632-8d96eb04803d",
   "metadata": {},
   "outputs": [
    {
     "data": {
      "text/plain": [
       "array([ 0.03600915, -0.00539881,  0.03108886,  0.01310269])"
      ]
     },
     "execution_count": 10,
     "metadata": {},
     "output_type": "execute_result"
    }
   ],
   "source": [
    "Y_feet_sim[0]"
   ]
  },
  {
   "cell_type": "markdown",
   "id": "5c6e0cdd",
   "metadata": {},
   "source": [
    "## Predict FL foot -> x"
   ]
  },
  {
   "cell_type": "markdown",
   "id": "67c1651f",
   "metadata": {},
   "source": [
    "### Linear Regression"
   ]
  },
  {
   "cell_type": "code",
   "execution_count": 11,
   "id": "48b299c1-e846-40f8-ac7b-ddc8b8b0f969",
   "metadata": {},
   "outputs": [],
   "source": [
    "def find_best_model(X, Y, runs=1000):\n",
    "    best_model = None\n",
    "    lowest_error = 100\n",
    "    best_Xtr, best_Xte, best_Ytr, best_Yte = None, None, None, None\n",
    "    \n",
    "    for _ in range(runs):\n",
    "        X_train, X_test, Y_train, Y_test = train_test_split(X, Y, train_size = 0.9, shuffle=True)\n",
    "        \n",
    "        model = LinearRegression()\n",
    "        model.fit(X_train, Y_train)\n",
    "\n",
    "        predictions = model.predict(X_test)\n",
    "        error = np.max(np.abs(predictions - Y_test))\n",
    "\n",
    "        if error < lowest_error:\n",
    "            best_model = model\n",
    "            lowest_error = error\n",
    "            best_Xtr, best_Xte, best_Ytr, best_Yte = X_train, X_test, Y_train, Y_test\n",
    "\n",
    "    # Stats\n",
    "    predictions = best_model.predict(best_Xte)\n",
    "    print('R2: ', r2_score(predictions, best_Yte))\n",
    "    print('RMSE: ', np.sqrt(mean_squared_error(best_Yte, predictions)))\n",
    "    print(\"The lowest error is: \", np.min(np.abs(predictions - best_Yte)))\n",
    "    print(\"The highest error is: \", np.max(np.abs(predictions - best_Yte)))\n",
    "    print(\"The avg. error is: \", np.mean(np.abs(predictions - best_Yte)))\n",
    "    \n",
    "    return best_Xte, best_Yte, predictions, best_model"
   ]
  },
  {
   "cell_type": "code",
   "execution_count": 12,
   "id": "ac234ccf-f1ac-47c4-81f7-56a9edd16701",
   "metadata": {},
   "outputs": [
    {
     "name": "stdout",
     "output_type": "stream",
     "text": [
      "R2:  0.9880329210876992\n",
      "RMSE:  0.0181552432899536\n",
      "The lowest error is:  1.7198220178094026e-05\n",
      "The highest error is:  0.05929053306269394\n",
      "The avg. error is:  0.01381456248408177\n"
     ]
    }
   ],
   "source": [
    "# Input\n",
    "X = np.hstack((X_feet_sim[:, 0:1], # current reference velocity\n",
    "               X_feet_sim[:, 3:4], # actual velocity\n",
    "               X_feet_sim[:, 6:8], # FL position\n",
    "               X_feet_sim[:, 9:11], # FR position\n",
    "               X_feet_sim[:, 12:14], # RL position\n",
    "               X_feet_sim[:, 15:17])) # RR position\n",
    "\n",
    "# Labels\n",
    "Y = np.array([Y_feet_sim[:, 0]]).T\n",
    "\n",
    "assert Y.shape[0] == X.shape[0]\n",
    "\n",
    "# Split dataset and fit best model\n",
    "X_test, Y_test, predictions, model_fl_relative_support_x = find_best_model(X, Y, runs=5000)"
   ]
  },
  {
   "cell_type": "code",
   "execution_count": 13,
   "id": "fa722341",
   "metadata": {},
   "outputs": [
    {
     "data": {
      "text/plain": [
       "array([[ 0.29964666,  0.31752395, -0.63171749,  0.25078884, -0.5806638 ,\n",
       "        -0.23353872, -0.01500927,  0.62897377,  0.03867802, -0.64303468]])"
      ]
     },
     "execution_count": 13,
     "metadata": {},
     "output_type": "execute_result"
    }
   ],
   "source": [
    "model_fl_relative_support_x.coef_"
   ]
  },
  {
   "cell_type": "code",
   "execution_count": 14,
   "id": "8e6d264b",
   "metadata": {},
   "outputs": [
    {
     "data": {
      "text/plain": [
       "array([0.08248208])"
      ]
     },
     "execution_count": 14,
     "metadata": {},
     "output_type": "execute_result"
    }
   ],
   "source": [
    "model_fl_relative_support_x.intercept_"
   ]
  },
  {
   "cell_type": "code",
   "execution_count": 15,
   "id": "c2b0fea2-0cf2-43bb-bba7-addd8218d796",
   "metadata": {},
   "outputs": [],
   "source": [
    "#inp = np.array([[0.9, 0.661, 0.159, 0.124, 0.331, -0.137, -0.169, 0.119, -0.337, -0.127]])"
   ]
  },
  {
   "cell_type": "code",
   "execution_count": 16,
   "id": "f61e76dd-54a1-4e6e-a55c-4c215a4479d5",
   "metadata": {},
   "outputs": [],
   "source": [
    "#out = model_fl_relative_support_x.coef_ @ inp.T\n",
    "#out += model_fl_relative_support_x.intercept_\n",
    "#print(out)"
   ]
  },
  {
   "cell_type": "code",
   "execution_count": 17,
   "id": "1c56b5fb",
   "metadata": {},
   "outputs": [
    {
     "data": {
      "text/plain": [
       "Text(0, 0.5, 'Predictions')"
      ]
     },
     "execution_count": 17,
     "metadata": {},
     "output_type": "execute_result"
    },
    {
     "data": {
      "image/png": "[encoded data removed]",
      "text/plain": [
       "<Figure size 640x480 with 1 Axes>"
      ]
     },
     "metadata": {},
     "output_type": "display_data"
    }
   ],
   "source": [
    "# The line / model\n",
    "plt.scatter(Y_test, predictions)\n",
    "plt.xlabel(\"Ground truth\")\n",
    "plt.ylabel(\"Predictions\")"
   ]
  },
  {
   "cell_type": "code",
   "execution_count": 18,
   "id": "f0849a1b",
   "metadata": {},
   "outputs": [],
   "source": [
    "#for idx, prediction in enumerate(predictions):\n",
    "#    print(f'{X_test[idx, 0]} -> {X_test[idx, 3]}. CoM: {X_test[idx, 6]}. Groundtruth: {Y_test[idx]}. Predicted: {prediction}.')"
   ]
  },
  {
   "cell_type": "markdown",
   "id": "acabe2ba",
   "metadata": {},
   "source": [
    "### Predict FL foot -> y"
   ]
  },
  {
   "cell_type": "code",
   "execution_count": 19,
   "id": "82c54fd9-f9b8-417f-a77e-657b62699497",
   "metadata": {},
   "outputs": [
    {
     "name": "stdout",
     "output_type": "stream",
     "text": [
      "R2:  -236.20038239809466\n",
      "RMSE:  0.020283219461748877\n",
      "The lowest error is:  0.0001220986749289471\n",
      "The highest error is:  0.06681979146952062\n",
      "The avg. error is:  0.016708168046843944\n"
     ]
    }
   ],
   "source": [
    "# Input\n",
    "X = np.hstack((X_feet_sim[:, 0:1], # current reference velocity\n",
    "               X_feet_sim[:, 3:4], # actual velocity\n",
    "               X_feet_sim[:, 6:8], # FL position\n",
    "               X_feet_sim[:, 9:11], # FR position\n",
    "               X_feet_sim[:, 12:14], # RL position\n",
    "               X_feet_sim[:, 15:17])) # RR position\n",
    "\n",
    "# Labels\n",
    "Y = np.array([Y_feet_sim[:, 1]]).T\n",
    "\n",
    "assert Y.shape[0] == X.shape[0]\n",
    "\n",
    "# Split dataset and fit best model\n",
    "X_test, Y_test, predictions, model_fl_relative_support_y = find_best_model(X, Y, runs=5000)"
   ]
  },
  {
   "cell_type": "code",
   "execution_count": 20,
   "id": "33b159f7",
   "metadata": {},
   "outputs": [
    {
     "data": {
      "text/plain": [
       "array([[-6.68847940e-05,  4.05595280e-03,  3.77927166e-02,\n",
       "         1.16062116e-02,  4.82208001e-03, -2.44262538e-02,\n",
       "        -3.31418929e-02,  2.42256065e-02, -6.68354721e-02,\n",
       "        -1.64414447e-02]])"
      ]
     },
     "execution_count": 20,
     "metadata": {},
     "output_type": "execute_result"
    }
   ],
   "source": [
    "model_fl_relative_support_y.coef_"
   ]
  },
  {
   "cell_type": "code",
   "execution_count": 21,
   "id": "15672f27",
   "metadata": {},
   "outputs": [
    {
     "data": {
      "text/plain": [
       "array([-0.04552546])"
      ]
     },
     "execution_count": 21,
     "metadata": {},
     "output_type": "execute_result"
    }
   ],
   "source": [
    "model_fl_relative_support_y.intercept_"
   ]
  },
  {
   "cell_type": "code",
   "execution_count": 22,
   "id": "a507a3ea",
   "metadata": {},
   "outputs": [
    {
     "data": {
      "text/plain": [
       "Text(0, 0.5, 'Predictions')"
      ]
     },
     "execution_count": 22,
     "metadata": {},
     "output_type": "execute_result"
    },
    {
     "data": {
      "image/png": "[encoded data removed]",
      "text/plain": [
       "<Figure size 640x480 with 1 Axes>"
      ]
     },
     "metadata": {},
     "output_type": "display_data"
    }
   ],
   "source": [
    "## The line / model\n",
    "plt.scatter(Y_test, predictions)\n",
    "plt.xlabel(\"Ground truth\")\n",
    "plt.ylabel(\"Predictions\")"
   ]
  },
  {
   "cell_type": "code",
   "execution_count": 25,
   "id": "0625affe",
   "metadata": {},
   "outputs": [],
   "source": [
    "#for idx, prediction in enumerate(predictions):\n",
    "#    print(f'Groundtruth: {Y_test[idx]}. Predicted: {prediction}')"
   ]
  },
  {
   "cell_type": "code",
   "execution_count": null,
   "id": "6a1208b6-b1b7-4ca1-9648-56982befc32b",
   "metadata": {},
   "outputs": [],
   "source": []
  }
 ],
 "metadata": {
  "kernelspec": {
   "display_name": "Python 3 (ipykernel)",
   "language": "python",
   "name": "python3"
  },
  "language_info": {
   "codemirror_mode": {
    "name": "ipython",
    "version": 3
   },
   "file_extension": ".py",
   "mimetype": "text/x-python",
   "name": "python",
   "nbconvert_exporter": "python",
   "pygments_lexer": "ipython3",
   "version": "3.10.6"
  }
 },
 "nbformat": 4,
 "nbformat_minor": 5
}
