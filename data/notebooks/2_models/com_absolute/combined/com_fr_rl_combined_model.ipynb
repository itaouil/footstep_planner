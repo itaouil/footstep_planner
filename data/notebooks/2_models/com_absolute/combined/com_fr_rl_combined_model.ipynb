{
 "cells": [
  {
   "cell_type": "code",
   "execution_count": 1,
   "id": "fb76d99c",
   "metadata": {},
   "outputs": [],
   "source": [
    "#!/usr/bin/env python3.6\n",
    "# -*- coding: utf-8 -*-"
   ]
  },
  {
   "cell_type": "code",
   "execution_count": 2,
   "id": "4f3cc391",
   "metadata": {},
   "outputs": [],
   "source": [
    "# Imports\n",
    "import sys\n",
    "import joblib\n",
    "import numpy as np\n",
    "from math import atan2\n",
    "from matplotlib import animation\n",
    "from IPython.display import HTML\n",
    "from matplotlib import pyplot as plt\n",
    "import mpl_toolkits.mplot3d.axes3d as p3"
   ]
  },
  {
   "cell_type": "code",
   "execution_count": 3,
   "id": "efd5d886",
   "metadata": {},
   "outputs": [],
   "source": [
    "#np.random.seed(20)\n",
    "np.set_printoptions(threshold=sys.maxsize)"
   ]
  },
  {
   "cell_type": "code",
   "execution_count": 4,
   "id": "f785a8d7",
   "metadata": {},
   "outputs": [],
   "source": [
    "%matplotlib inline"
   ]
  },
  {
   "cell_type": "code",
   "execution_count": 5,
   "id": "102c8a0e",
   "metadata": {},
   "outputs": [
    {
     "name": "stdout",
     "output_type": "stream",
     "text": [
      "(3678, 24)\n",
      "(3678, 3)\n"
     ]
    }
   ],
   "source": [
    "%store -r X_motion_CoM_acceleration\n",
    "%store -r Y_motion_CoM_acceleration\n",
    "%store -r X_motion_CoM_continuous\n",
    "%store -r Y_motion_CoM_continuous\n",
    "\n",
    "X_motion_CoM = np.vstack((X_motion_CoM_acceleration, X_motion_CoM_continuous))\n",
    "Y_motion_CoM = np.vstack((Y_motion_CoM_acceleration, Y_motion_CoM_continuous))\n",
    "\n",
    "print(X_motion_CoM.shape)\n",
    "print(Y_motion_CoM.shape)"
   ]
  },
  {
   "cell_type": "markdown",
   "id": "5f0ad89c",
   "metadata": {},
   "source": [
    "# Multivariate Linear Regression (CoM Prediction)"
   ]
  },
  {
   "cell_type": "code",
   "execution_count": 6,
   "id": "ad7e77f3",
   "metadata": {},
   "outputs": [],
   "source": [
    "import sklearn\n",
    "from sklearn import metrics\n",
    "from sklearn.feature_selection import RFE\n",
    "from sklearn.model_selection import KFold\n",
    "from sklearn.linear_model import LinearRegression\n",
    "from sklearn.model_selection import train_test_split\n",
    "from sklearn.preprocessing import PolynomialFeatures \n",
    "from sklearn.model_selection import cross_val_score, cross_val_predict\n",
    "from sklearn.metrics import mean_squared_error, mean_absolute_error, r2_score"
   ]
  },
  {
   "cell_type": "code",
   "execution_count": 7,
   "id": "a956ad29-7c2c-4a05-97de-03fc1cc8ec60",
   "metadata": {},
   "outputs": [
    {
     "data": {
      "text/plain": [
       "(3678, 24)"
      ]
     },
     "execution_count": 7,
     "metadata": {},
     "output_type": "execute_result"
    }
   ],
   "source": [
    "X_motion_CoM.shape"
   ]
  },
  {
   "cell_type": "code",
   "execution_count": 8,
   "id": "8b6682c0",
   "metadata": {},
   "outputs": [
    {
     "name": "stdout",
     "output_type": "stream",
     "text": [
      "(1833, 24)\n",
      "(1833, 3)\n"
     ]
    }
   ],
   "source": [
    "idx_fr_rl_swinging = np.where(X_motion_CoM[:, -1] == 1)[0]\n",
    "X_motion_CoM_FR_RL = X_motion_CoM[idx_fr_rl_swinging]\n",
    "Y_motion_CoM_FR_RL = Y_motion_CoM[idx_fr_rl_swinging]\n",
    "print(X_motion_CoM_FR_RL.shape)\n",
    "print(Y_motion_CoM_FR_RL.shape)"
   ]
  },
  {
   "cell_type": "markdown",
   "id": "56221e17",
   "metadata": {},
   "source": [
    "## Predict CoM (x) movement"
   ]
  },
  {
   "cell_type": "code",
   "execution_count": 9,
   "id": "1bd3e622",
   "metadata": {},
   "outputs": [
    {
     "data": {
      "text/plain": [
       "array([0.0, 0.0, 0.0], dtype=object)"
      ]
     },
     "execution_count": 9,
     "metadata": {},
     "output_type": "execute_result"
    }
   ],
   "source": [
    "X_motion_CoM_FR_RL[0, :3]"
   ]
  },
  {
   "cell_type": "code",
   "execution_count": 10,
   "id": "df505c0d",
   "metadata": {},
   "outputs": [
    {
     "data": {
      "text/plain": [
       "array([0.0155836794005344, -0.0018931137330537862, -0.005328035222644634],\n",
       "      dtype=object)"
      ]
     },
     "execution_count": 10,
     "metadata": {},
     "output_type": "execute_result"
    }
   ],
   "source": [
    "Y_motion_CoM_FR_RL[0, :]"
   ]
  },
  {
   "cell_type": "markdown",
   "id": "23e3c466",
   "metadata": {},
   "source": [
    "### Linear Regression"
   ]
  },
  {
   "cell_type": "code",
   "execution_count": 26,
   "id": "a9f32d39",
   "metadata": {},
   "outputs": [
    {
     "name": "stdout",
     "output_type": "stream",
     "text": [
      "R2:  0.9329916433788429\n",
      "RMSE:  0.017949517962142458\n",
      "The lowest error is:  5.300981789857495e-05\n",
      "The highest error is:  0.1723061640765453\n",
      "The avg. error is:  0.011583308654290504\n"
     ]
    }
   ],
   "source": [
    "# Input\n",
    "X = np.hstack((X_motion_CoM_FR_RL[:, :3], # Previous motion command\n",
    "               X_motion_CoM_FR_RL[:, 3:6], # Current motion command\n",
    "               #X_motion_CoM_FR_RL[:, 18:20], # Current CoM (x,y) veloctiy\n",
    "               X_motion_CoM_FR_RL[:, 6:8], # FL (x,y) position\n",
    "               X_motion_CoM_FR_RL[:, 9:11], # FR (x,y) position\n",
    "               X_motion_CoM_FR_RL[:, 12:14], # RL (x,y) position\n",
    "               X_motion_CoM_FR_RL[:, 15:17])) # RR (x, y) position\n",
    "               \n",
    "# Labels\n",
    "Y = np.array([Y_motion_CoM_FR_RL[:, 0]]).T\n",
    "\n",
    "assert Y.shape[0] == X.shape[0]\n",
    "\n",
    "# Split data into train and test set\n",
    "X_train, X_test, Y_train, Y_test = train_test_split(X, Y, train_size = 0.8, shuffle=True, random_state=100)\n",
    "\n",
    "# Create the model\n",
    "model_fr_com_x = LinearRegression()\n",
    "\n",
    "# Fit the model\n",
    "model_fr_com_x.fit(X_train, Y_train)\n",
    "\n",
    "# Predict\n",
    "predictions = model_fr_com_x.predict(X_test)\n",
    "\n",
    "# Stats\n",
    "print('R2: ', r2_score(predictions, Y_test))\n",
    "print('RMSE: ', np.sqrt(mean_squared_error(Y_test, predictions)))\n",
    "print(\"The lowest error is: \", np.min(np.abs(predictions - Y_test)))\n",
    "print(\"The highest error is: \", np.max(np.abs(predictions - Y_test)))\n",
    "print(\"The avg. error is: \", np.mean(np.abs(predictions - Y_test)))\n",
    "#print(\"Seq of errors (descendant): \\n\", sorted(np.abs(predictions - Y_test).tolist(), reverse=True))"
   ]
  },
  {
   "cell_type": "code",
   "execution_count": 27,
   "id": "6bb2f182",
   "metadata": {},
   "outputs": [
    {
     "data": {
      "text/plain": [
       "array([[ 3.65843037e-03,  7.77156117e-16,  7.77156117e-16,\n",
       "         1.34716990e-01,  3.33066907e-16,  6.24500451e-17,\n",
       "         1.74451143e+00, -8.31531586e-01,  3.54007828e-01,\n",
       "         7.76676380e-01, -1.02494920e+00,  1.91731825e-01,\n",
       "        -1.24448812e+00,  9.53823960e-01]])"
      ]
     },
     "execution_count": 27,
     "metadata": {},
     "output_type": "execute_result"
    }
   ],
   "source": [
    "model_fr_com_x.coef_"
   ]
  },
  {
   "cell_type": "code",
   "execution_count": 28,
   "id": "24e4c82e",
   "metadata": {},
   "outputs": [
    {
     "data": {
      "text/plain": [
       "array([-0.79146451])"
      ]
     },
     "execution_count": 28,
     "metadata": {},
     "output_type": "execute_result"
    }
   ],
   "source": [
    "model_fr_com_x.intercept_"
   ]
  },
  {
   "cell_type": "code",
   "execution_count": 14,
   "id": "0eb37dfc",
   "metadata": {},
   "outputs": [
    {
     "ename": "ValueError",
     "evalue": "matmul: Input operand 1 has a mismatch in its core dimension 0, with gufunc signature (n?,k),(k,m?)->(n?,m?) (size 16 is different from 14)",
     "output_type": "error",
     "traceback": [
      "\u001b[0;31m---------------------------------------------------------------------------\u001b[0m",
      "\u001b[0;31mValueError\u001b[0m                                Traceback (most recent call last)",
      "Input \u001b[0;32mIn [14]\u001b[0m, in \u001b[0;36m<cell line: 2>\u001b[0;34m()\u001b[0m\n\u001b[1;32m      1\u001b[0m input_ \u001b[38;5;241m=\u001b[39m np\u001b[38;5;241m.\u001b[39marray([[\u001b[38;5;241m0.0\u001b[39m,\u001b[38;5;241m0.0\u001b[39m,\u001b[38;5;241m0.0\u001b[39m,\u001b[38;5;241m0.1\u001b[39m,\u001b[38;5;241m0.0\u001b[39m,\u001b[38;5;241m0.0\u001b[39m, \u001b[38;5;241m0.237936324231\u001b[39m, \u001b[38;5;241m0.188065700274\u001b[39m, \u001b[38;5;241m0.234281409653\u001b[39m, \u001b[38;5;241m-\u001b[39m\u001b[38;5;241m0.171743092874\u001b[39m, \u001b[38;5;241m-\u001b[39m\u001b[38;5;241m0.249921495098\u001b[39m, \u001b[38;5;241m0.161507381121\u001b[39m, \u001b[38;5;241m-\u001b[39m\u001b[38;5;241m0.259071586366\u001b[39m, \u001b[38;5;241m-\u001b[39m\u001b[38;5;241m0.138188475913\u001b[39m]])\n\u001b[0;32m----> 2\u001b[0m output \u001b[38;5;241m=\u001b[39m \u001b[43minput_\u001b[49m\u001b[43m \u001b[49m\u001b[38;5;241;43m@\u001b[39;49m\u001b[43m \u001b[49m\u001b[43mmodel_fr_com_x\u001b[49m\u001b[38;5;241;43m.\u001b[39;49m\u001b[43mcoef_\u001b[49m\u001b[38;5;241;43m.\u001b[39;49m\u001b[43mT\u001b[49m \u001b[38;5;241m+\u001b[39m model_fr_com_x\u001b[38;5;241m.\u001b[39mintercept_\n\u001b[1;32m      3\u001b[0m \u001b[38;5;28mprint\u001b[39m(output)\n",
      "\u001b[0;31mValueError\u001b[0m: matmul: Input operand 1 has a mismatch in its core dimension 0, with gufunc signature (n?,k),(k,m?)->(n?,m?) (size 16 is different from 14)"
     ]
    }
   ],
   "source": [
    "input_ = np.array([[0.0,0.0,0.0,0.1,0.0,0.0, 0.237936324231, 0.188065700274, 0.234281409653, -0.171743092874, -0.249921495098, 0.161507381121, -0.259071586366, -0.138188475913]])\n",
    "output = input_ @ model_fr_com_x.coef_.T + model_fr_com_x.intercept_\n",
    "print(output)"
   ]
  },
  {
   "cell_type": "code",
   "execution_count": 15,
   "id": "7a1e936f",
   "metadata": {},
   "outputs": [
    {
     "data": {
      "text/plain": [
       "Text(0, 0.5, 'Predictions')"
      ]
     },
     "execution_count": 15,
     "metadata": {},
     "output_type": "execute_result"
    },
    {
     "data": {
      "image/png": "[encoded data removed]",
      "text/plain": [
       "<Figure size 432x288 with 1 Axes>"
      ]
     },
     "metadata": {
      "needs_background": "light"
     },
     "output_type": "display_data"
    }
   ],
   "source": [
    "## The line / model\n",
    "plt.scatter(Y_test, predictions)\n",
    "plt.xlabel(\"Groundtruth\")\n",
    "plt.ylabel(\"Predictions\")"
   ]
  },
  {
   "cell_type": "code",
   "execution_count": 16,
   "id": "94da9ff6",
   "metadata": {},
   "outputs": [],
   "source": [
    "#for idx, prediction in enumerate(predictions):\n",
    "#    print(f'Command: {X_test[idx, :3]}. Groundtruth: {Y_test[idx]}. Predicted: {prediction}')"
   ]
  },
  {
   "cell_type": "markdown",
   "id": "8bf0108c",
   "metadata": {},
   "source": [
    "## Predict CoM -> y"
   ]
  },
  {
   "cell_type": "markdown",
   "id": "e662a3a9",
   "metadata": {},
   "source": [
    "### Linear Regression"
   ]
  },
  {
   "cell_type": "code",
   "execution_count": 29,
   "id": "f8057c9f",
   "metadata": {},
   "outputs": [
    {
     "name": "stdout",
     "output_type": "stream",
     "text": [
      "R2:  0.5323943950582772\n",
      "RMSE:  0.004034234018043151\n",
      "The lowest error is:  4.515503291876999e-06\n",
      "The highest error is:  0.023677065431281563\n",
      "The avg. error is:  0.002935950341988387\n"
     ]
    }
   ],
   "source": [
    "# Input\n",
    "X = np.hstack((X_motion_CoM_FR_RL[:, :3], # Previous motion command\n",
    "               X_motion_CoM_FR_RL[:, 3:6], # Current motion command\n",
    "               #X_motion_CoM_FR_RL[:, 18:20], # Current CoM (x,y) veloctiy\n",
    "               X_motion_CoM_FR_RL[:, 6:8], # FL (x,y) position\n",
    "               X_motion_CoM_FR_RL[:, 9:11], # FR (x,y) position\n",
    "               X_motion_CoM_FR_RL[:, 12:14], # RL (x,y) position\n",
    "               X_motion_CoM_FR_RL[:, 15:17])) # RR (x, y) position\n",
    "\n",
    "# Labels\n",
    "Y = np.array([Y_motion_CoM_FR_RL[:, 1]]).T\n",
    "\n",
    "assert Y.shape[0] == X.shape[0]\n",
    "\n",
    "# Split data into train and test set\n",
    "X_train, X_test, Y_train, Y_test = train_test_split(X, Y, train_size = 0.8, shuffle=True, random_state=100)\n",
    "\n",
    "# Create the model\n",
    "model_fr_com_y = LinearRegression()\n",
    "\n",
    "# Fit the model\n",
    "model_fr_com_y.fit(X_train, Y_train)\n",
    "\n",
    "# Predict\n",
    "predictions = model_fr_com_y.predict(X_test)\n",
    "\n",
    "# Stats\n",
    "print('R2: ', r2_score(predictions, Y_test))\n",
    "print('RMSE: ', np.sqrt(mean_squared_error(Y_test, predictions)))\n",
    "print(\"The lowest error is: \", np.min(np.abs(predictions - Y_test)))\n",
    "print(\"The highest error is: \", np.max(np.abs(predictions - Y_test)))\n",
    "print(\"The avg. error is: \", np.mean(np.abs(predictions - Y_test)))\n",
    "#print(\"Seq of errors (descendant): \\n\", sorted(np.abs(predictions - Y_test).tolist(), reverse=True))"
   ]
  },
  {
   "cell_type": "code",
   "execution_count": 30,
   "id": "4eefdcc1",
   "metadata": {},
   "outputs": [
    {
     "data": {
      "text/plain": [
       "array([[-4.98024681e-04, -3.12250226e-17, -4.16333634e-17,\n",
       "        -8.57600305e-03,  1.11022302e-16,  1.11022302e-16,\n",
       "        -1.73524239e-01,  8.58471733e-02, -1.45135965e-01,\n",
       "        -4.95910494e-01,  2.59773761e-01, -2.84247820e-01,\n",
       "         3.09453809e-01,  2.55902230e-01]])"
      ]
     },
     "execution_count": 30,
     "metadata": {},
     "output_type": "execute_result"
    }
   ],
   "source": [
    "model_fr_com_y.coef_"
   ]
  },
  {
   "cell_type": "code",
   "execution_count": 31,
   "id": "02de3813",
   "metadata": {},
   "outputs": [
    {
     "data": {
      "text/plain": [
       "array([0.22172862])"
      ]
     },
     "execution_count": 31,
     "metadata": {},
     "output_type": "execute_result"
    }
   ],
   "source": [
    "model_fr_com_y.intercept_"
   ]
  },
  {
   "cell_type": "code",
   "execution_count": 20,
   "id": "30c7c021",
   "metadata": {},
   "outputs": [
    {
     "data": {
      "text/plain": [
       "Text(0, 0.5, 'Predictions')"
      ]
     },
     "execution_count": 20,
     "metadata": {},
     "output_type": "execute_result"
    },
    {
     "data": {
      "image/png": "[encoded data removed]",
      "text/plain": [
       "<Figure size 432x288 with 1 Axes>"
      ]
     },
     "metadata": {
      "needs_background": "light"
     },
     "output_type": "display_data"
    }
   ],
   "source": [
    "## The line / model\n",
    "plt.scatter(Y_test, predictions)\n",
    "plt.xlabel(\"Groundtruth\")\n",
    "plt.ylabel(\"Predictions\")"
   ]
  },
  {
   "cell_type": "code",
   "execution_count": 21,
   "id": "454cebd2",
   "metadata": {},
   "outputs": [],
   "source": [
    "#for idx, prediction in enumerate(predictions):\n",
    "#    print(f'Groundtruth: {Y_test[idx]}. Predicted: {prediction}')"
   ]
  },
  {
   "cell_type": "markdown",
   "id": "c4e49259",
   "metadata": {},
   "source": [
    "## Predict CoM -> Yaw"
   ]
  },
  {
   "cell_type": "code",
   "execution_count": 32,
   "id": "a690a37d",
   "metadata": {},
   "outputs": [
    {
     "name": "stdout",
     "output_type": "stream",
     "text": [
      "R2:  -0.6716002796253655\n",
      "RMSE:  0.0023308495890352926\n",
      "The lowest error is:  1.4568128965265076e-05\n",
      "The highest error is:  0.008182633788588238\n",
      "The avg. error is:  0.0018235411536157917\n"
     ]
    }
   ],
   "source": [
    "# Input\n",
    "X = np.hstack((X_motion_CoM_FR_RL[:, :3], # Previous motion command\n",
    "               X_motion_CoM_FR_RL[:, 3:6], # Current motion command\n",
    "               #X_motion_CoM_FR_RL[:, 18:20], # Current CoM (x,y) veloctiy\n",
    "               X_motion_CoM_FR_RL[:, 6:8], # FL (x,y) position\n",
    "               X_motion_CoM_FR_RL[:, 9:11], # FR (x,y) position\n",
    "               X_motion_CoM_FR_RL[:, 12:14], # RL (x,y) position\n",
    "               X_motion_CoM_FR_RL[:, 15:17])) # RR (x, y) position\n",
    "\n",
    "# Labels\n",
    "Y = np.array([Y_motion_CoM_FR_RL[:, 2]]).T\n",
    "\n",
    "assert Y.shape[0] == X.shape[0]\n",
    "\n",
    "# Split data into train and test set\n",
    "X_train, X_test, Y_train, Y_test = train_test_split(X, Y, train_size = 0.8, shuffle=True, random_state=100)\n",
    "\n",
    "# Create the model\n",
    "model_fl_com_theta = LinearRegression()\n",
    "\n",
    "# Fit the model\n",
    "model_fl_com_theta.fit(X_train, Y_train)\n",
    "\n",
    "# Predict\n",
    "predictions = model_fl_com_theta.predict(X_test)\n",
    "\n",
    "# Stats\n",
    "print('R2: ', r2_score(predictions, Y_test))\n",
    "print('RMSE: ', np.sqrt(mean_squared_error(Y_test, predictions)))\n",
    "print(\"The lowest error is: \", np.min(np.abs(predictions - Y_test)))\n",
    "print(\"The highest error is: \", np.max(np.abs(predictions - Y_test)))\n",
    "print(\"The avg. error is: \", np.mean(np.abs(predictions - Y_test)))\n",
    "#print(\"Seq of errors (descendant): \\n\", sorted(np.abs(predictions - Y_test).tolist(), reverse=True))"
   ]
  },
  {
   "cell_type": "code",
   "execution_count": 33,
   "id": "b3bb1721",
   "metadata": {},
   "outputs": [
    {
     "data": {
      "text/plain": [
       "array([[-4.30759868e-04, -2.60208521e-17, -2.60208521e-17,\n",
       "         2.68842957e-03, -2.08166817e-17, -3.46944695e-18,\n",
       "        -7.41039438e-02,  2.79472175e-02, -3.81684048e-02,\n",
       "         2.83154415e-02, -1.50632364e-02, -1.72087663e-02,\n",
       "         4.90469594e-02, -4.73424334e-02]])"
      ]
     },
     "execution_count": 33,
     "metadata": {},
     "output_type": "execute_result"
    }
   ],
   "source": [
    "model_fl_com_theta.coef_"
   ]
  },
  {
   "cell_type": "code",
   "execution_count": 34,
   "id": "7ce84e9d",
   "metadata": {},
   "outputs": [
    {
     "data": {
      "text/plain": [
       "array([0.02805025])"
      ]
     },
     "execution_count": 34,
     "metadata": {},
     "output_type": "execute_result"
    }
   ],
   "source": [
    "model_fl_com_theta.intercept_"
   ]
  },
  {
   "cell_type": "code",
   "execution_count": 25,
   "id": "9e17bd1a",
   "metadata": {},
   "outputs": [
    {
     "data": {
      "text/plain": [
       "Text(0, 0.5, 'Predictions')"
      ]
     },
     "execution_count": 25,
     "metadata": {},
     "output_type": "execute_result"
    },
    {
     "data": {
      "image/png": "[encoded data removed]",
      "text/plain": [
       "<Figure size 432x288 with 1 Axes>"
      ]
     },
     "metadata": {
      "needs_background": "light"
     },
     "output_type": "display_data"
    }
   ],
   "source": [
    "## The line / model\n",
    "plt.scatter(Y_test, predictions)\n",
    "plt.xlabel(\"Groundtruth\")\n",
    "plt.ylabel(\"Predictions\")"
   ]
  },
  {
   "cell_type": "code",
   "execution_count": null,
   "id": "85fc46d0-84e3-4382-8cac-1fe734b47e93",
   "metadata": {},
   "outputs": [],
   "source": []
  },
  {
   "cell_type": "code",
   "execution_count": null,
   "id": "9b348e4a-00e2-4e90-99f7-37528d99ed8a",
   "metadata": {},
   "outputs": [],
   "source": []
  }
 ],
 "metadata": {
  "kernelspec": {
   "display_name": "Python 3 (ipykernel)",
   "language": "python",
   "name": "python3"
  },
  "language_info": {
   "codemirror_mode": {
    "name": "ipython",
    "version": 3
   },
   "file_extension": ".py",
   "mimetype": "text/x-python",
   "name": "python",
   "nbconvert_exporter": "python",
   "pygments_lexer": "ipython3",
   "version": "3.8.10"
  }
 },
 "nbformat": 4,
 "nbformat_minor": 5
}
