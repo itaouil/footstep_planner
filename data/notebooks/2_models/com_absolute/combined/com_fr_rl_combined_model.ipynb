{
 "cells": [
  {
   "cell_type": "code",
   "execution_count": 1,
   "id": "fb76d99c",
   "metadata": {},
   "outputs": [],
   "source": [
    "#!/usr/bin/env python3.6\n",
    "# -*- coding: utf-8 -*-"
   ]
  },
  {
   "cell_type": "code",
   "execution_count": 2,
   "id": "4f3cc391",
   "metadata": {},
   "outputs": [],
   "source": [
    "# Imports\n",
    "import sys\n",
    "import joblib\n",
    "import numpy as np\n",
    "from math import atan2\n",
    "from matplotlib import animation\n",
    "from IPython.display import HTML\n",
    "from matplotlib import pyplot as plt\n",
    "import mpl_toolkits.mplot3d.axes3d as p3"
   ]
  },
  {
   "cell_type": "code",
   "execution_count": 3,
   "id": "efd5d886",
   "metadata": {},
   "outputs": [],
   "source": [
    "#np.random.seed(20)\n",
    "np.set_printoptions(threshold=sys.maxsize)"
   ]
  },
  {
   "cell_type": "code",
   "execution_count": 4,
   "id": "f785a8d7",
   "metadata": {},
   "outputs": [],
   "source": [
    "%matplotlib inline"
   ]
  },
  {
   "cell_type": "code",
   "execution_count": 5,
   "id": "102c8a0e",
   "metadata": {},
   "outputs": [
    {
     "name": "stdout",
     "output_type": "stream",
     "text": [
      "(5387, 27)\n",
      "(5387, 3)\n"
     ]
    }
   ],
   "source": [
    "%store -r X_motion_CoM_acceleration\n",
    "%store -r Y_motion_CoM_acceleration\n",
    "%store -r X_motion_CoM_continuous\n",
    "%store -r Y_motion_CoM_continuous\n",
    "\n",
    "#X_motion_CoM = np.vstack((X_motion_CoM_acceleration, X_motion_CoM_continuous))\n",
    "#Y_motion_CoM = np.vstack((Y_motion_CoM_acceleration, Y_motion_CoM_continuous))\n",
    "\n",
    "X_motion_CoM = X_motion_CoM_acceleration\n",
    "Y_motion_CoM = Y_motion_CoM_acceleration\n",
    "\n",
    "print(X_motion_CoM.shape)\n",
    "print(Y_motion_CoM.shape)"
   ]
  },
  {
   "cell_type": "markdown",
   "id": "5f0ad89c",
   "metadata": {},
   "source": [
    "# Multivariate Linear Regression (CoM Prediction)"
   ]
  },
  {
   "cell_type": "code",
   "execution_count": 6,
   "id": "ad7e77f3",
   "metadata": {},
   "outputs": [],
   "source": [
    "import sklearn\n",
    "from sklearn import metrics\n",
    "from sklearn.feature_selection import RFE\n",
    "from sklearn.model_selection import KFold\n",
    "from sklearn.linear_model import LinearRegression\n",
    "from sklearn.model_selection import train_test_split\n",
    "from sklearn.preprocessing import PolynomialFeatures \n",
    "from sklearn.model_selection import cross_val_score, cross_val_predict\n",
    "from sklearn.metrics import mean_squared_error, mean_absolute_error, r2_score"
   ]
  },
  {
   "cell_type": "code",
   "execution_count": 7,
   "id": "a956ad29-7c2c-4a05-97de-03fc1cc8ec60",
   "metadata": {},
   "outputs": [
    {
     "data": {
      "text/plain": [
       "(5387, 27)"
      ]
     },
     "execution_count": 7,
     "metadata": {},
     "output_type": "execute_result"
    }
   ],
   "source": [
    "X_motion_CoM.shape"
   ]
  },
  {
   "cell_type": "code",
   "execution_count": 8,
   "id": "8b6682c0",
   "metadata": {},
   "outputs": [
    {
     "name": "stdout",
     "output_type": "stream",
     "text": [
      "(2689, 27)\n",
      "(2689, 3)\n"
     ]
    }
   ],
   "source": [
    "idx_fr_rl_swinging = np.where(X_motion_CoM[:, -1] == 1)[0]\n",
    "X_motion_CoM_FR_RL = X_motion_CoM[idx_fr_rl_swinging]\n",
    "Y_motion_CoM_FR_RL = Y_motion_CoM[idx_fr_rl_swinging]\n",
    "print(X_motion_CoM_FR_RL.shape)\n",
    "print(Y_motion_CoM_FR_RL.shape)"
   ]
  },
  {
   "cell_type": "markdown",
   "id": "56221e17",
   "metadata": {},
   "source": [
    "## Predict CoM (x) movement"
   ]
  },
  {
   "cell_type": "code",
   "execution_count": 9,
   "id": "1bd3e622",
   "metadata": {},
   "outputs": [
    {
     "data": {
      "text/plain": [
       "array([0.1, 0.0, 0.0], dtype=object)"
      ]
     },
     "execution_count": 9,
     "metadata": {},
     "output_type": "execute_result"
    }
   ],
   "source": [
    "X_motion_CoM_FR_RL[0, :3]"
   ]
  },
  {
   "cell_type": "code",
   "execution_count": 10,
   "id": "df505c0d",
   "metadata": {},
   "outputs": [
    {
     "data": {
      "text/plain": [
       "array([0.030424394865291193, 0.000628873617372766, 0.000658631123437281],\n",
       "      dtype=object)"
      ]
     },
     "execution_count": 10,
     "metadata": {},
     "output_type": "execute_result"
    }
   ],
   "source": [
    "Y_motion_CoM_FR_RL[0, :]"
   ]
  },
  {
   "cell_type": "markdown",
   "id": "23e3c466",
   "metadata": {},
   "source": [
    "### Linear Regression"
   ]
  },
  {
   "cell_type": "code",
   "execution_count": 124,
   "id": "a9f32d39",
   "metadata": {},
   "outputs": [
    {
     "name": "stdout",
     "output_type": "stream",
     "text": [
      "R2:  0.9687660017007115\n",
      "RMSE:  0.012612941022553992\n",
      "The lowest error is:  1.5211127783881784e-05\n",
      "The highest error is:  0.05567117724734341\n",
      "The avg. error is:  0.00929804475239129\n"
     ]
    }
   ],
   "source": [
    "# Input\n",
    "X = np.hstack((X_motion_CoM_FR_RL[:, :3], # Previous motion command\n",
    "               X_motion_CoM_FR_RL[:, 3:6], # Current motion command\n",
    "               #X_motion_CoM_FR_RL[:, 18:22], # Current CoM (x,y) veloctiy\n",
    "               X_motion_CoM_FR_RL[:, 6:8], # FL (x,y) position\n",
    "               X_motion_CoM_FR_RL[:, 9:11], # FR (x,y) position\n",
    "               X_motion_CoM_FR_RL[:, 12:14], # RL (x,y) position\n",
    "               X_motion_CoM_FR_RL[:, 15:17])) # RR (x, y) position\n",
    "               \n",
    "# Labels\n",
    "Y = np.array([Y_motion_CoM_FR_RL[:, 0]]).T\n",
    "\n",
    "assert Y.shape[0] == X.shape[0]\n",
    "\n",
    "# Split data into train and test set\n",
    "X_train, X_test, Y_train, Y_test = train_test_split(X, Y, train_size = 0.9, shuffle=True)\n",
    "\n",
    "# Create the model\n",
    "model_fr_com_x = LinearRegression()\n",
    "\n",
    "# Fit the model\n",
    "model_fr_com_x.fit(X_train, Y_train)\n",
    "\n",
    "# Predict\n",
    "predictions = model_fr_com_x.predict(X_test)\n",
    "\n",
    "# Stats\n",
    "print('R2: ', r2_score(predictions, Y_test))\n",
    "print('RMSE: ', np.sqrt(mean_squared_error(Y_test, predictions)))\n",
    "print(\"The lowest error is: \", np.min(np.abs(predictions - Y_test)))\n",
    "print(\"The highest error is: \", np.max(np.abs(predictions - Y_test)))\n",
    "print(\"The avg. error is: \", np.mean(np.abs(predictions - Y_test)))\n",
    "#print(\"Seq of errors (descendant): \\n\", sorted(np.abs(predictions - Y_test).tolist(), reverse=True))"
   ]
  },
  {
   "cell_type": "code",
   "execution_count": 125,
   "id": "6bb2f182",
   "metadata": {},
   "outputs": [
    {
     "data": {
      "text/plain": [
       "array([[ 1.55476542e-02,  2.22044605e-16, -2.22044605e-16,\n",
       "         1.24370237e-01,  2.22044605e-16,  4.44089210e-16,\n",
       "         6.66308105e-01, -4.34299860e-01, -1.48564026e-01,\n",
       "         5.89749574e-01, -5.80109199e-01,  6.61961669e-01,\n",
       "        -3.40262714e-01,  7.81067377e-01]])"
      ]
     },
     "execution_count": 125,
     "metadata": {},
     "output_type": "execute_result"
    }
   ],
   "source": [
    "model_fr_com_x.coef_"
   ]
  },
  {
   "cell_type": "code",
   "execution_count": 127,
   "id": "24e4c82e",
   "metadata": {},
   "outputs": [
    {
     "data": {
      "text/plain": [
       "array([-0.21192527])"
      ]
     },
     "execution_count": 127,
     "metadata": {},
     "output_type": "execute_result"
    }
   ],
   "source": [
    "model_fr_com_x.intercept_"
   ]
  },
  {
   "cell_type": "code",
   "execution_count": 128,
   "id": "0eb37dfc",
   "metadata": {},
   "outputs": [],
   "source": [
    "#input_ = np.array([[0.0,0.0,0.0,0.1,0.0,0.0, 0.237936324231, 0.188065700274, 0.234281409653, -0.171743092874, -0.249921495098, 0.161507381121, -0.259071586366, -0.138188475913]])\n",
    "#output = input_ @ model_fr_com_x.coef_.T + model_fr_com_x.intercept_\n",
    "#print(output)"
   ]
  },
  {
   "cell_type": "code",
   "execution_count": 129,
   "id": "7a1e936f",
   "metadata": {},
   "outputs": [
    {
     "data": {
      "text/plain": [
       "Text(0, 0.5, 'Predictions')"
      ]
     },
     "execution_count": 129,
     "metadata": {},
     "output_type": "execute_result"
    },
    {
     "data": {
      "image/png": "[encoded data removed]",
      "text/plain": [
       "<Figure size 432x288 with 1 Axes>"
      ]
     },
     "metadata": {
      "needs_background": "light"
     },
     "output_type": "display_data"
    }
   ],
   "source": [
    "## The line / model\n",
    "plt.scatter(Y_test, predictions)\n",
    "plt.xlabel(\"Groundtruth\")\n",
    "plt.ylabel(\"Predictions\")"
   ]
  },
  {
   "cell_type": "code",
   "execution_count": 84,
   "id": "94da9ff6",
   "metadata": {},
   "outputs": [],
   "source": [
    "#for idx, prediction in enumerate(predictions):\n",
    "#    print(f'Command: {X_test[idx, 0]}->{X_test[idx, 3]}. Groundtruth: {Y_test[idx]}. Predicted: {prediction}. Error: {abs(Y_test[idx] - prediction)}.')"
   ]
  },
  {
   "cell_type": "markdown",
   "id": "8bf0108c",
   "metadata": {},
   "source": [
    "## Predict CoM -> y"
   ]
  },
  {
   "cell_type": "markdown",
   "id": "e662a3a9",
   "metadata": {},
   "source": [
    "### Linear Regression"
   ]
  },
  {
   "cell_type": "code",
   "execution_count": 130,
   "id": "f8057c9f",
   "metadata": {},
   "outputs": [
    {
     "name": "stdout",
     "output_type": "stream",
     "text": [
      "R2:  -1.498258708770917\n",
      "RMSE:  0.003910822936377916\n",
      "The lowest error is:  2.6810099917021213e-05\n",
      "The highest error is:  0.01643989996565666\n",
      "The avg. error is:  0.00302876038977185\n"
     ]
    }
   ],
   "source": [
    "# Input\n",
    "X = np.hstack((X_motion_CoM_FR_RL[:, :3], # Previous motion command\n",
    "               X_motion_CoM_FR_RL[:, 3:6], # Current motion command\n",
    "               #X_motion_CoM_FR_RL[:, 18:22], # Current CoM (x,y) veloctiy\n",
    "               X_motion_CoM_FR_RL[:, 6:8], # FL (x,y) position\n",
    "               X_motion_CoM_FR_RL[:, 9:11], # FR (x,y) position\n",
    "               X_motion_CoM_FR_RL[:, 12:14], # RL (x,y) position\n",
    "               X_motion_CoM_FR_RL[:, 15:17])) # RR (x, y) position\n",
    "\n",
    "# Labels\n",
    "Y = np.array([Y_motion_CoM_FR_RL[:, 1]]).T\n",
    "\n",
    "assert Y.shape[0] == X.shape[0]\n",
    "\n",
    "# Split data into train and test set\n",
    "X_train, X_test, Y_train, Y_test = train_test_split(X, Y, train_size = 0.9, shuffle=True)\n",
    "\n",
    "# Create the model\n",
    "model_fr_com_y = LinearRegression()\n",
    "\n",
    "# Fit the model\n",
    "model_fr_com_y.fit(X_train, Y_train)\n",
    "\n",
    "# Predict\n",
    "predictions = model_fr_com_y.predict(X_test)\n",
    "\n",
    "# Stats\n",
    "print('R2: ', r2_score(predictions, Y_test))\n",
    "print('RMSE: ', np.sqrt(mean_squared_error(Y_test, predictions)))\n",
    "print(\"The lowest error is: \", np.min(np.abs(predictions - Y_test)))\n",
    "print(\"The highest error is: \", np.max(np.abs(predictions - Y_test)))\n",
    "print(\"The avg. error is: \", np.mean(np.abs(predictions - Y_test)))\n",
    "#print(\"Seq of errors (descendant): \\n\", sorted(np.abs(predictions - Y_test).tolist(), reverse=True))"
   ]
  },
  {
   "cell_type": "code",
   "execution_count": 131,
   "id": "4eefdcc1",
   "metadata": {},
   "outputs": [
    {
     "data": {
      "text/plain": [
       "array([[ 1.08352146e-03,  6.67868538e-17, -5.20417043e-18,\n",
       "         1.18881486e-03, -1.11022302e-16,  0.00000000e+00,\n",
       "        -9.88107745e-03,  9.09466687e-02,  8.36384168e-04,\n",
       "        -8.93606112e-02,  8.58723839e-02, -6.01935483e-01,\n",
       "         7.68458080e-02,  1.60597778e-01]])"
      ]
     },
     "execution_count": 131,
     "metadata": {},
     "output_type": "execute_result"
    }
   ],
   "source": [
    "model_fr_com_y.coef_"
   ]
  },
  {
   "cell_type": "code",
   "execution_count": 132,
   "id": "02de3813",
   "metadata": {},
   "outputs": [
    {
     "data": {
      "text/plain": [
       "array([0.12018495])"
      ]
     },
     "execution_count": 132,
     "metadata": {},
     "output_type": "execute_result"
    }
   ],
   "source": [
    "model_fr_com_y.intercept_"
   ]
  },
  {
   "cell_type": "code",
   "execution_count": 118,
   "id": "30c7c021",
   "metadata": {},
   "outputs": [
    {
     "data": {
      "text/plain": [
       "Text(0, 0.5, 'Predictions')"
      ]
     },
     "execution_count": 118,
     "metadata": {},
     "output_type": "execute_result"
    },
    {
     "data": {
      "image/png": "[encoded data removed]",
      "text/plain": [
       "<Figure size 432x288 with 1 Axes>"
      ]
     },
     "metadata": {
      "needs_background": "light"
     },
     "output_type": "display_data"
    }
   ],
   "source": [
    "## The line / model\n",
    "plt.scatter(Y_test, predictions)\n",
    "plt.xlabel(\"Groundtruth\")\n",
    "plt.ylabel(\"Predictions\")"
   ]
  },
  {
   "cell_type": "code",
   "execution_count": 119,
   "id": "454cebd2",
   "metadata": {},
   "outputs": [],
   "source": [
    "#for idx, prediction in enumerate(predictions):\n",
    "#    print(f'Groundtruth: {Y_test[idx]}. Predicted: {prediction}')"
   ]
  },
  {
   "cell_type": "markdown",
   "id": "c4e49259",
   "metadata": {},
   "source": [
    "## Predict CoM -> Yaw"
   ]
  },
  {
   "cell_type": "code",
   "execution_count": 133,
   "id": "a690a37d",
   "metadata": {},
   "outputs": [
    {
     "name": "stdout",
     "output_type": "stream",
     "text": [
      "R2:  0.15573449191411382\n",
      "RMSE:  0.0022684147411440804\n",
      "The lowest error is:  7.905151592671467e-06\n",
      "The highest error is:  0.006518841237228044\n",
      "The avg. error is:  0.0018139024339558735\n"
     ]
    }
   ],
   "source": [
    "# Input\n",
    "X = np.hstack((X_motion_CoM_FR_RL[:, :3], # Previous motion command\n",
    "               X_motion_CoM_FR_RL[:, 3:6], # Current motion command\n",
    "               #X_motion_CoM_FR_RL[:, 18:22], # Current CoM (x,y) veloctiy\n",
    "               X_motion_CoM_FR_RL[:, 6:8], # FL (x,y) position\n",
    "               X_motion_CoM_FR_RL[:, 9:11], # FR (x,y) position\n",
    "               X_motion_CoM_FR_RL[:, 12:14], # RL (x,y) position\n",
    "               X_motion_CoM_FR_RL[:, 15:17])) # RR (x, y) position\n",
    "\n",
    "# Labels\n",
    "Y = np.array([Y_motion_CoM_FR_RL[:, 2]]).T\n",
    "\n",
    "assert Y.shape[0] == X.shape[0]\n",
    "\n",
    "# Split data into train and test set\n",
    "X_train, X_test, Y_train, Y_test = train_test_split(X, Y, train_size = 0.9, shuffle=True)\n",
    "\n",
    "# Create the model\n",
    "model_fl_com_theta = LinearRegression()\n",
    "\n",
    "# Fit the model\n",
    "model_fl_com_theta.fit(X_train, Y_train)\n",
    "\n",
    "# Predict\n",
    "predictions = model_fl_com_theta.predict(X_test)\n",
    "\n",
    "# Stats\n",
    "print('R2: ', r2_score(predictions, Y_test))\n",
    "print('RMSE: ', np.sqrt(mean_squared_error(Y_test, predictions)))\n",
    "print(\"The lowest error is: \", np.min(np.abs(predictions - Y_test)))\n",
    "print(\"The highest error is: \", np.max(np.abs(predictions - Y_test)))\n",
    "print(\"The avg. error is: \", np.mean(np.abs(predictions - Y_test)))\n",
    "#print(\"Seq of errors (descendant): \\n\", sorted(np.abs(predictions - Y_test).tolist(), reverse=True))"
   ]
  },
  {
   "cell_type": "code",
   "execution_count": 136,
   "id": "b3bb1721",
   "metadata": {},
   "outputs": [
    {
     "data": {
      "text/plain": [
       "array([[-5.25721471e-04, -1.90819582e-17,  2.42861287e-17,\n",
       "         2.48761318e-03,  0.00000000e+00,  3.46944695e-18,\n",
       "        -1.06575947e-02,  2.72193463e-02, -2.84351892e-03,\n",
       "        -3.15264338e-04, -7.44108469e-02, -4.90586961e-02,\n",
       "        -4.42046174e-02, -1.03480378e-03]])"
      ]
     },
     "execution_count": 136,
     "metadata": {},
     "output_type": "execute_result"
    }
   ],
   "source": [
    "model_fl_com_theta.coef_"
   ]
  },
  {
   "cell_type": "code",
   "execution_count": 137,
   "id": "7ce84e9d",
   "metadata": {},
   "outputs": [
    {
     "data": {
      "text/plain": [
       "array([-0.02405147])"
      ]
     },
     "execution_count": 137,
     "metadata": {},
     "output_type": "execute_result"
    }
   ],
   "source": [
    "model_fl_com_theta.intercept_"
   ]
  },
  {
   "cell_type": "code",
   "execution_count": 123,
   "id": "9e17bd1a",
   "metadata": {},
   "outputs": [
    {
     "data": {
      "text/plain": [
       "Text(0, 0.5, 'Predictions')"
      ]
     },
     "execution_count": 123,
     "metadata": {},
     "output_type": "execute_result"
    },
    {
     "data": {
      "image/png": "[encoded data removed]",
      "text/plain": [
       "<Figure size 432x288 with 1 Axes>"
      ]
     },
     "metadata": {
      "needs_background": "light"
     },
     "output_type": "display_data"
    }
   ],
   "source": [
    "## The line / model\n",
    "plt.scatter(Y_test, predictions)\n",
    "plt.xlabel(\"Groundtruth\")\n",
    "plt.ylabel(\"Predictions\")"
   ]
  },
  {
   "cell_type": "code",
   "execution_count": null,
   "id": "85fc46d0-84e3-4382-8cac-1fe734b47e93",
   "metadata": {},
   "outputs": [],
   "source": []
  },
  {
   "cell_type": "code",
   "execution_count": null,
   "id": "9b348e4a-00e2-4e90-99f7-37528d99ed8a",
   "metadata": {},
   "outputs": [],
   "source": []
  }
 ],
 "metadata": {
  "kernelspec": {
   "display_name": "Python 3 (ipykernel)",
   "language": "python",
   "name": "python3"
  },
  "language_info": {
   "codemirror_mode": {
    "name": "ipython",
    "version": 3
   },
   "file_extension": ".py",
   "mimetype": "text/x-python",
   "name": "python",
   "nbconvert_exporter": "python",
   "pygments_lexer": "ipython3",
   "version": "3.8.10"
  }
 },
 "nbformat": 4,
 "nbformat_minor": 5
}
