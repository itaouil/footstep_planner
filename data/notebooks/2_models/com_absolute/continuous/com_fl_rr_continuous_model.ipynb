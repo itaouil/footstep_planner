{
 "cells": [
  {
   "cell_type": "code",
   "execution_count": 1,
   "id": "ae440440",
   "metadata": {},
   "outputs": [],
   "source": [
    "#!/usr/bin/env python3.6\n",
    "# -*- coding: utf-8 -*-"
   ]
  },
  {
   "cell_type": "code",
   "execution_count": 2,
   "id": "3edb37e6",
   "metadata": {},
   "outputs": [],
   "source": [
    "# Imports\n",
    "import sys\n",
    "import joblib\n",
    "import numpy as np\n",
    "from math import atan2\n",
    "from matplotlib import animation\n",
    "from IPython.display import HTML\n",
    "from matplotlib import pyplot as plt\n",
    "import mpl_toolkits.mplot3d.axes3d as p3"
   ]
  },
  {
   "cell_type": "code",
   "execution_count": 3,
   "id": "cfeab6b3",
   "metadata": {},
   "outputs": [],
   "source": [
    "#np.random.seed(20)\n",
    "np.set_printoptions(threshold=sys.maxsize)"
   ]
  },
  {
   "cell_type": "code",
   "execution_count": 4,
   "id": "5d5f2ec9",
   "metadata": {},
   "outputs": [],
   "source": [
    "%matplotlib inline"
   ]
  },
  {
   "cell_type": "code",
   "execution_count": 5,
   "id": "d19ff712",
   "metadata": {},
   "outputs": [
    {
     "name": "stdout",
     "output_type": "stream",
     "text": [
      "(10027, 28)\n",
      "(10027, 2)\n"
     ]
    }
   ],
   "source": [
    "%store -r X_motion_CoM_continuous\n",
    "%store -r Y_motion_CoM_continuous\n",
    "print(X_motion_CoM_continuous.shape)\n",
    "print(Y_motion_CoM_continuous.shape)"
   ]
  },
  {
   "cell_type": "code",
   "execution_count": 6,
   "id": "122e439b",
   "metadata": {},
   "outputs": [
    {
     "data": {
      "text/plain": [
       "array([0.10000000149011612, 0.0, 0.0, 0.06422444087825316,\n",
       "       0.12709958334894797, 0.02129841568653252, 0.032841687967686085,\n",
       "       0.007458737822045343, -0.018058522863240344, 0.2349003268785842,\n",
       "       0.18683081039427935, -0.40515855604189455, 0.23261810624015347,\n",
       "       -0.20303246525516214, -0.4050806504096208, -0.26129141850751325,\n",
       "       0.13343324739617787, -0.40023590712089907, -0.2499161232198911,\n",
       "       -0.15232611895506265, -0.4005353553555561, False, True, True,\n",
       "       False, 0.10000000149011612, 0.0, 0.0], dtype=object)"
      ]
     },
     "execution_count": 6,
     "metadata": {},
     "output_type": "execute_result"
    }
   ],
   "source": [
    "X_motion_CoM_continuous[0]"
   ]
  },
  {
   "cell_type": "markdown",
   "id": "647fe949",
   "metadata": {},
   "source": [
    "# Multivariate Linear Regression (Foot prediction)"
   ]
  },
  {
   "cell_type": "code",
   "execution_count": 7,
   "id": "68fe6895",
   "metadata": {},
   "outputs": [],
   "source": [
    "import sklearn\n",
    "from sklearn import metrics\n",
    "from sklearn.feature_selection import RFE\n",
    "from sklearn.model_selection import KFold\n",
    "from sklearn.linear_model import LinearRegression\n",
    "from sklearn.model_selection import train_test_split\n",
    "from sklearn.preprocessing import PolynomialFeatures \n",
    "from sklearn.model_selection import cross_val_score, cross_val_predict\n",
    "from sklearn.metrics import mean_squared_error, mean_absolute_error, r2_score"
   ]
  },
  {
   "cell_type": "code",
   "execution_count": 8,
   "id": "d08b4c30",
   "metadata": {},
   "outputs": [],
   "source": [
    "# Entries where FL foot is swinging\n",
    "idx_fl_rr_swinging = np.where(X_motion_CoM_continuous[:, 21] == 1)[0]\n",
    "X_motion_CoM_continuous_FL_RR = X_motion_CoM_continuous[idx_fl_rr_swinging]\n",
    "Y_motion_CoM_continuous_FL_RR = Y_motion_CoM_continuous[idx_fl_rr_swinging]"
   ]
  },
  {
   "cell_type": "code",
   "execution_count": 9,
   "id": "6265b4ff",
   "metadata": {},
   "outputs": [
    {
     "data": {
      "text/plain": [
       "(5005,)"
      ]
     },
     "execution_count": 9,
     "metadata": {},
     "output_type": "execute_result"
    }
   ],
   "source": [
    "idx_fl_rr_swinging.shape"
   ]
  },
  {
   "cell_type": "markdown",
   "id": "658ebede",
   "metadata": {},
   "source": [
    "## Predict CoM -> x"
   ]
  },
  {
   "cell_type": "code",
   "execution_count": 10,
   "id": "665e9455",
   "metadata": {},
   "outputs": [
    {
     "data": {
      "text/plain": [
       "array([0.10000000149011612, 0.0, 0.0, 0.09118936918041333,\n",
       "       -0.17764249841618973, -0.001444254901828773,\n",
       "       -0.0003798328817117183, 0.02906654879442508, 0.002758206940035604,\n",
       "       0.21954448416961136, 0.20866494731011204, -0.4047559310040384,\n",
       "       0.2417546900550716, -0.18419152121884, -0.4052538656619016,\n",
       "       -0.24350114705582698, 0.1549192331175042, -0.40049584677248623,\n",
       "       -0.27453523596078333, -0.1273861252788857, -0.4007940233583196,\n",
       "       True, False, False, True, 0.10000000149011612, 0.0, 0.0],\n",
       "      dtype=object)"
      ]
     },
     "execution_count": 10,
     "metadata": {},
     "output_type": "execute_result"
    }
   ],
   "source": [
    "X_motion_CoM_continuous_FL_RR[0, :]"
   ]
  },
  {
   "cell_type": "code",
   "execution_count": 11,
   "id": "4b3e4864",
   "metadata": {},
   "outputs": [
    {
     "data": {
      "text/plain": [
       "array([0.010415001640328825, 0.02143068323091371], dtype=object)"
      ]
     },
     "execution_count": 11,
     "metadata": {},
     "output_type": "execute_result"
    }
   ],
   "source": [
    "Y_motion_CoM_continuous_FL_RR[0, :]"
   ]
  },
  {
   "cell_type": "markdown",
   "id": "56951b44",
   "metadata": {},
   "source": [
    "### Linear Regression"
   ]
  },
  {
   "cell_type": "code",
   "execution_count": 12,
   "id": "a60f4e08",
   "metadata": {},
   "outputs": [
    {
     "name": "stdout",
     "output_type": "stream",
     "text": [
      "R2:  0.9983034147113067\n",
      "RMSE:  0.0017888290613705623\n",
      "The lowest error is:  4.0612559120897784e-07\n",
      "The highest error is:  0.01697724219429886\n",
      "The avg. error is:  0.001105475278381837\n"
     ]
    }
   ],
   "source": [
    "# Input\n",
    "X = np.hstack((X_motion_CoM_continuous_FL_RR[:, :3], # motion command\n",
    "               X_motion_CoM_continuous_FL_RR[:, 3:9],\n",
    "               X_motion_CoM_continuous_FL_RR[:, 9:11], # FL (x,y) position\n",
    "               X_motion_CoM_continuous_FL_RR[:, 12:14], # FR (x,y) position\n",
    "               X_motion_CoM_continuous_FL_RR[:, 15:17], # RL (x,y) position\n",
    "               X_motion_CoM_continuous_FL_RR[:, 18:20]))\n",
    "\n",
    "# Labels\n",
    "Y = np.array([Y_motion_CoM_continuous_FL_RR[:, 0]]).T\n",
    "\n",
    "assert Y.shape[0] == X.shape[0]\n",
    "\n",
    "# Split data into train and test set\n",
    "X_train, X_test, Y_train, Y_test = train_test_split(X, Y, train_size = 0.8, shuffle=True, random_state=100)\n",
    "\n",
    "# Create the model\n",
    "model_fl_com_x = LinearRegression()\n",
    "\n",
    "# Fit the model\n",
    "model_fl_com_x.fit(X_train, Y_train)\n",
    "\n",
    "# Predict\n",
    "predictions = model_fl_com_x.predict(X_test)\n",
    "\n",
    "# Stats\n",
    "print('R2: ', r2_score(predictions, Y_test))\n",
    "print('RMSE: ', np.sqrt(mean_squared_error(Y_test, predictions)))\n",
    "print(\"The lowest error is: \", np.min(np.abs(predictions - Y_test)))\n",
    "print(\"The highest error is: \", np.max(np.abs(predictions - Y_test)))\n",
    "print(\"The avg. error is: \", np.mean(np.abs(predictions - Y_test)))\n",
    "#print(\"Seq of errors (descendant): \\n\", sorted(np.abs(predictions - Y_test).tolist(), reverse=True))"
   ]
  },
  {
   "cell_type": "code",
   "execution_count": 13,
   "id": "7a4a4fe8",
   "metadata": {},
   "outputs": [
    {
     "data": {
      "text/plain": [
       "array([[ 0.1583681 ,  0.04025599,  0.04330785,  0.00056129,  0.00300335,\n",
       "         0.06321915, -0.00138429,  0.0037453 , -0.06826527,  0.30538243,\n",
       "        -0.0686407 ,  0.11815135, -0.2891667 ,  0.10949485, -0.15844472,\n",
       "         0.21392442,  0.02842542]])"
      ]
     },
     "execution_count": 13,
     "metadata": {},
     "output_type": "execute_result"
    }
   ],
   "source": [
    "model_fl_com_x.coef_"
   ]
  },
  {
   "cell_type": "code",
   "execution_count": 14,
   "id": "81a7bd08",
   "metadata": {},
   "outputs": [
    {
     "data": {
      "text/plain": [
       "array([-0.02424664])"
      ]
     },
     "execution_count": 14,
     "metadata": {},
     "output_type": "execute_result"
    }
   ],
   "source": [
    "model_fl_com_x.intercept_"
   ]
  },
  {
   "cell_type": "code",
   "execution_count": 15,
   "id": "ec2e07ef",
   "metadata": {},
   "outputs": [
    {
     "data": {
      "text/plain": [
       "Text(0, 0.5, 'Predictions')"
      ]
     },
     "execution_count": 15,
     "metadata": {},
     "output_type": "execute_result"
    },
    {
     "data": {
      "image/png": "[encoded data removed]",
      "text/plain": [
       "<Figure size 432x288 with 1 Axes>"
      ]
     },
     "metadata": {
      "needs_background": "light"
     },
     "output_type": "display_data"
    }
   ],
   "source": [
    "## The line / model\n",
    "plt.scatter(Y_test, predictions)\n",
    "plt.xlabel(\"Groundtruth\")\n",
    "plt.ylabel(\"Predictions\")"
   ]
  },
  {
   "cell_type": "code",
   "execution_count": 16,
   "id": "b42953ec",
   "metadata": {},
   "outputs": [],
   "source": [
    "#%store model_fl_com_x"
   ]
  },
  {
   "cell_type": "code",
   "execution_count": 17,
   "id": "64b1da1e",
   "metadata": {},
   "outputs": [],
   "source": [
    "#for idx, prediction in enumerate(predictions):\n",
    "#    print(f'Groundtruth: {Y_test[idx]}. Predicted: {prediction}')"
   ]
  },
  {
   "cell_type": "code",
   "execution_count": 18,
   "id": "52e244b9",
   "metadata": {},
   "outputs": [],
   "source": [
    "# Save model\n",
    "#joblib.dump(model_fl_com_x, \"/home/itaouil/workspace/aliengo_ws/src/aliengo_navigation/models/protocol3/model_fl_com_x.sav\")"
   ]
  },
  {
   "cell_type": "markdown",
   "id": "9ab1cc20",
   "metadata": {},
   "source": [
    "## Predict CoM foot -> y"
   ]
  },
  {
   "cell_type": "markdown",
   "id": "1ecd01e7",
   "metadata": {},
   "source": [
    "### Linear Regression"
   ]
  },
  {
   "cell_type": "code",
   "execution_count": 20,
   "id": "02fc50be",
   "metadata": {},
   "outputs": [
    {
     "name": "stdout",
     "output_type": "stream",
     "text": [
      "R2:  0.9969991411000474\n",
      "RMSE:  0.0018181155393259963\n",
      "The lowest error is:  3.749628839297414e-07\n",
      "The highest error is:  0.015202354988888084\n",
      "The avg. error is:  0.001175172250931222\n"
     ]
    }
   ],
   "source": [
    "# Input\n",
    "X = np.hstack((X_motion_CoM_continuous_FL_RR[:, :3], # motion command\n",
    "               X_motion_CoM_continuous_FL_RR[:, 3:9],\n",
    "               X_motion_CoM_continuous_FL_RR[:, 9:11], # FL (x,y) position\n",
    "               X_motion_CoM_continuous_FL_RR[:, 12:14], # FR (x,y) position\n",
    "               X_motion_CoM_continuous_FL_RR[:, 15:17], # RL (x,y) position\n",
    "               X_motion_CoM_continuous_FL_RR[:, 18:20])) \n",
    "\n",
    "# Labels\n",
    "Y = np.array([Y_motion_CoM_continuous_FL_RR[:, 1]]).T\n",
    "\n",
    "assert Y.shape[0] == X.shape[0]\n",
    "\n",
    "# Split data into train and test set\n",
    "X_train, X_test, Y_train, Y_test = train_test_split(X, Y, train_size = 0.8, shuffle=True, random_state=100)\n",
    "\n",
    "# Create the model\n",
    "model_fl_com_y = LinearRegression()\n",
    "\n",
    "# Fit the model\n",
    "model_fl_com_y.fit(X_train, Y_train)\n",
    "\n",
    "# Predict\n",
    "predictions = model_fl_com_y.predict(X_test)\n",
    "\n",
    "# Stats\n",
    "print('R2: ', r2_score(predictions, Y_test))\n",
    "print('RMSE: ', np.sqrt(mean_squared_error(Y_test, predictions)))\n",
    "print(\"The lowest error is: \", np.min(np.abs(predictions - Y_test)))\n",
    "print(\"The highest error is: \", np.max(np.abs(predictions - Y_test)))\n",
    "print(\"The avg. error is: \", np.mean(np.abs(predictions - Y_test)))\n",
    "#print(\"Seq of errors (descendant): \\n\", sorted(np.abs(predictions - Y_test).tolist(), reverse=True))"
   ]
  },
  {
   "cell_type": "code",
   "execution_count": 21,
   "id": "21d82c3c",
   "metadata": {},
   "outputs": [
    {
     "data": {
      "text/plain": [
       "array([[ 0.01937409,  0.19852968,  0.06716851, -0.00271488, -0.00098713,\n",
       "         0.0955618 , -0.00339751, -0.0140157 , -0.10065062,  0.04418614,\n",
       "         0.13699184, -0.0732032 , -0.14528297, -0.09966058, -0.0176591 ,\n",
       "        -0.05120565,  0.30746906]])"
      ]
     },
     "execution_count": 21,
     "metadata": {},
     "output_type": "execute_result"
    }
   ],
   "source": [
    "model_fl_com_y.coef_"
   ]
  },
  {
   "cell_type": "code",
   "execution_count": 22,
   "id": "6a1a3e8d",
   "metadata": {},
   "outputs": [
    {
     "data": {
      "text/plain": [
       "array([-0.02464283])"
      ]
     },
     "execution_count": 22,
     "metadata": {},
     "output_type": "execute_result"
    }
   ],
   "source": [
    "model_fl_com_y.intercept_"
   ]
  },
  {
   "cell_type": "code",
   "execution_count": 23,
   "id": "9b99b3de",
   "metadata": {},
   "outputs": [
    {
     "data": {
      "text/plain": [
       "Text(0, 0.5, 'Predictions')"
      ]
     },
     "execution_count": 23,
     "metadata": {},
     "output_type": "execute_result"
    },
    {
     "data": {
      "image/png": "[encoded data removed]",
      "text/plain": [
       "<Figure size 432x288 with 1 Axes>"
      ]
     },
     "metadata": {
      "needs_background": "light"
     },
     "output_type": "display_data"
    }
   ],
   "source": [
    "## The line / model\n",
    "plt.scatter(Y_test, predictions)\n",
    "plt.xlabel(\"Groundtruth\")\n",
    "plt.ylabel(\"Predictions\")"
   ]
  },
  {
   "cell_type": "code",
   "execution_count": 58,
   "id": "d6784bd7",
   "metadata": {},
   "outputs": [],
   "source": [
    "#%store model_fl_com_y"
   ]
  },
  {
   "cell_type": "code",
   "execution_count": 59,
   "id": "e32adb2a",
   "metadata": {},
   "outputs": [],
   "source": [
    "#for idx, prediction in enumerate(predictions):\n",
    "#    print(f'Groundtruth: {Y_test[idx]}. Predicted: {prediction}')"
   ]
  },
  {
   "cell_type": "code",
   "execution_count": 60,
   "id": "596d830a",
   "metadata": {},
   "outputs": [],
   "source": [
    "# Save model\n",
    "#joblib.dump(model_fl_com_y, \"/home/itaouil/workspace/aliengo_ws/src/aliengo_navigation/models/protocol3/model_fl_com_y.sav\")"
   ]
  },
  {
   "cell_type": "code",
   "execution_count": null,
   "id": "270e9316",
   "metadata": {},
   "outputs": [],
   "source": []
  }
 ],
 "metadata": {
  "kernelspec": {
   "display_name": "Python 3",
   "language": "python",
   "name": "python3"
  },
  "language_info": {
   "codemirror_mode": {
    "name": "ipython",
    "version": 3
   },
   "file_extension": ".py",
   "mimetype": "text/x-python",
   "name": "python",
   "nbconvert_exporter": "python",
   "pygments_lexer": "ipython3",
   "version": "3.6.12"
  }
 },
 "nbformat": 4,
 "nbformat_minor": 5
}
