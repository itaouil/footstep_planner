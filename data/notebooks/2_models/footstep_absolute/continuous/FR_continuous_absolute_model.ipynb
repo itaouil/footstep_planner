{
 "cells": [
  {
   "cell_type": "code",
   "execution_count": 1,
   "id": "92f90fac",
   "metadata": {},
   "outputs": [],
   "source": [
    "#!/usr/bin/env python3.6\n",
    "# -*- coding: utf-8 -*-"
   ]
  },
  {
   "cell_type": "code",
   "execution_count": 2,
   "id": "bc9c7171",
   "metadata": {},
   "outputs": [],
   "source": [
    "# Imports\n",
    "import sys\n",
    "import joblib\n",
    "import numpy as np\n",
    "from matplotlib import animation\n",
    "from IPython.display import HTML\n",
    "from matplotlib import pyplot as plt\n",
    "import mpl_toolkits.mplot3d.axes3d as p3"
   ]
  },
  {
   "cell_type": "code",
   "execution_count": 3,
   "id": "c711a3f9",
   "metadata": {},
   "outputs": [],
   "source": [
    "#np.random.seed(20)\n",
    "np.set_printoptions(threshold=sys.maxsize)"
   ]
  },
  {
   "cell_type": "code",
   "execution_count": 4,
   "id": "5b265627",
   "metadata": {},
   "outputs": [],
   "source": [
    "%matplotlib inline"
   ]
  },
  {
   "cell_type": "code",
   "execution_count": 5,
   "id": "c24c4d3c",
   "metadata": {},
   "outputs": [
    {
     "name": "stdout",
     "output_type": "stream",
     "text": [
      "(2061, 32)\n",
      "(2061, 4)\n"
     ]
    }
   ],
   "source": [
    "%store -r X_relative_footsteps_continuous_absolute\n",
    "%store -r Y_relative_footsteps_continuous_absolute\n",
    "print(X_relative_footsteps_continuous_absolute.shape)\n",
    "print(Y_relative_footsteps_continuous_absolute.shape)"
   ]
  },
  {
   "cell_type": "markdown",
   "id": "6633dc9e",
   "metadata": {},
   "source": [
    "# Multivariate Linear Regression (Foot prediction)"
   ]
  },
  {
   "cell_type": "code",
   "execution_count": 6,
   "id": "3443cbde",
   "metadata": {},
   "outputs": [],
   "source": [
    "import sklearn\n",
    "from sklearn import metrics\n",
    "from sklearn.feature_selection import RFE\n",
    "from sklearn.model_selection import KFold\n",
    "from sklearn.linear_model import LinearRegression\n",
    "from sklearn.model_selection import train_test_split\n",
    "from sklearn.preprocessing import PolynomialFeatures \n",
    "from sklearn.model_selection import cross_val_score, cross_val_predict\n",
    "from sklearn.metrics import mean_squared_error, mean_absolute_error, r2_score"
   ]
  },
  {
   "cell_type": "code",
   "execution_count": 7,
   "id": "de4d74d2",
   "metadata": {},
   "outputs": [],
   "source": [
    "# Entries where FR is swinging\n",
    "idxs = np.where(X_relative_footsteps_continuous_absolute[:, 22] == 1)[0]\n",
    "X_relative_footsteps_continuous_absolute_FR_swinging = X_relative_footsteps_continuous_absolute[idxs]\n",
    "Y_relative_footsteps_continuous_absolute_FR_swinging = Y_relative_footsteps_continuous_absolute[idxs]"
   ]
  },
  {
   "cell_type": "code",
   "execution_count": 8,
   "id": "858553b3",
   "metadata": {},
   "outputs": [
    {
     "name": "stdout",
     "output_type": "stream",
     "text": [
      "Percentage of footstep where FR and RL are swinging:  49.58757884522076\n"
     ]
    }
   ],
   "source": [
    "print(\"Percentage of footstep where FR and RL are swinging: \", len(idxs)/len(X_relative_footsteps_continuous_absolute) * 100)"
   ]
  },
  {
   "cell_type": "markdown",
   "id": "198bf842",
   "metadata": {},
   "source": [
    "## Predict FR foot -> x"
   ]
  },
  {
   "cell_type": "code",
   "execution_count": 9,
   "id": "b6b647b3",
   "metadata": {},
   "outputs": [
    {
     "data": {
      "text/plain": [
       "array([ 0.1       ,  0.        ,  0.        ,  0.02903117,  0.01182563,\n",
       "        0.01990151, -0.03739399,  0.01173486, -0.01169843,  0.23700837,\n",
       "        0.17266518, -0.43157344,  0.2359204 , -0.17338123, -0.43200242,\n",
       "       -0.2455929 ,  0.16223909, -0.43042291, -0.24254318, -0.16515523,\n",
       "       -0.42941486,  0.        ,  1.        ,  1.        ,  0.        ,\n",
       "        0.1       ,  0.        ,  0.        , -0.01763056, -0.00411756,\n",
       "       -0.00781847, -0.01257138])"
      ]
     },
     "execution_count": 9,
     "metadata": {},
     "output_type": "execute_result"
    }
   ],
   "source": [
    "X_relative_footsteps_continuous_absolute_FR_swinging[0, :]"
   ]
  },
  {
   "cell_type": "code",
   "execution_count": 10,
   "id": "0317d232",
   "metadata": {},
   "outputs": [
    {
     "data": {
      "text/plain": [
       "array([ 0.01621454, -0.00425104,  0.01737835, -0.00151273])"
      ]
     },
     "execution_count": 10,
     "metadata": {},
     "output_type": "execute_result"
    }
   ],
   "source": [
    "Y_relative_footsteps_continuous_absolute_FR_swinging[0, :]"
   ]
  },
  {
   "cell_type": "markdown",
   "id": "9ba80229",
   "metadata": {},
   "source": [
    "### Linear Regression"
   ]
  },
  {
   "cell_type": "code",
   "execution_count": 11,
   "id": "022b519b",
   "metadata": {},
   "outputs": [
    {
     "name": "stdout",
     "output_type": "stream",
     "text": [
      "R2:  0.9995850129666408\n",
      "RMSE:  0.0008187937714316187\n",
      "The lowest error is:  2.1732404472118994e-06\n",
      "The highest error is:  0.005683444075056943\n",
      "The avg. error is:  0.0004930186824488498\n"
     ]
    }
   ],
   "source": [
    "# Input\n",
    "X = np.hstack((X_relative_footsteps_continuous_absolute_FR_swinging[:, :3], # motion command\n",
    "               X_relative_footsteps_continuous_absolute_FR_swinging[:, 9:11], # FL (x,y) position\n",
    "               X_relative_footsteps_continuous_absolute_FR_swinging[:, 12:14], # FR (x,y) position\n",
    "               X_relative_footsteps_continuous_absolute_FR_swinging[:, 15:17], # RL (x,y) position\n",
    "               X_relative_footsteps_continuous_absolute_FR_swinging[:, 18:20])) # RR (x,y) position\n",
    "\n",
    "# Target\n",
    "Y = np.array([Y_relative_footsteps_continuous_absolute_FR_swinging[:, 0]]).T\n",
    "\n",
    "assert Y.shape[0] == X.shape[0]\n",
    "\n",
    "# Split data into train and test set\n",
    "X_train, X_test, Y_train, Y_test = train_test_split(X, Y, train_size = 0.8, shuffle=True, random_state=100)\n",
    "\n",
    "# Create the model\n",
    "model_fr_relative_swinging_x = LinearRegression()\n",
    "\n",
    "# Fit the model\n",
    "model_fr_relative_swinging_x.fit(X_train, Y_train)\n",
    "\n",
    "# Predict\n",
    "predictions = model_fr_relative_swinging_x.predict(X_test)\n",
    "\n",
    "# Stats\n",
    "print('R2: ', r2_score(predictions, Y_test))\n",
    "print('RMSE: ', np.sqrt(mean_squared_error(Y_test, predictions)))\n",
    "print(\"The lowest error is: \", np.min(np.abs(predictions - Y_test)))\n",
    "print(\"The highest error is: \", np.max(np.abs(predictions - Y_test)))\n",
    "print(\"The avg. error is: \", np.mean(np.abs(predictions - Y_test)))\n",
    "#print(\"Seq of errors (descendant): \\n\", sorted(np.abs(predictions - Y_test).tolist(), reverse=True))"
   ]
  },
  {
   "cell_type": "code",
   "execution_count": 12,
   "id": "958f520f",
   "metadata": {},
   "outputs": [
    {
     "data": {
      "text/plain": [
       "array([[ 2.07999921e-01, -2.22044605e-16,  3.33066907e-16,\n",
       "        -1.64029935e-01,  2.71483233e-01, -6.05881047e-01,\n",
       "        -2.23305693e-01,  1.90504479e-01,  8.89436422e-02,\n",
       "         2.80634468e-01,  5.10859701e-01]])"
      ]
     },
     "execution_count": 12,
     "metadata": {},
     "output_type": "execute_result"
    }
   ],
   "source": [
    "model_fr_relative_swinging_x.coef_"
   ]
  },
  {
   "cell_type": "code",
   "execution_count": 13,
   "id": "bfc1c3b1",
   "metadata": {},
   "outputs": [
    {
     "data": {
      "text/plain": [
       "array([0.27644523])"
      ]
     },
     "execution_count": 13,
     "metadata": {},
     "output_type": "execute_result"
    }
   ],
   "source": [
    "model_fr_relative_swinging_x.intercept_"
   ]
  },
  {
   "cell_type": "code",
   "execution_count": 14,
   "id": "e373080d",
   "metadata": {},
   "outputs": [
    {
     "data": {
      "text/plain": [
       "Text(0, 0.5, 'Predictions')"
      ]
     },
     "execution_count": 14,
     "metadata": {},
     "output_type": "execute_result"
    },
    {
     "data": {
      "image/png": "[encoded data removed]",
      "text/plain": [
       "<Figure size 432x288 with 1 Axes>"
      ]
     },
     "metadata": {
      "needs_background": "light"
     },
     "output_type": "display_data"
    }
   ],
   "source": [
    "## The line / model\n",
    "plt.scatter(Y_test, predictions)\n",
    "plt.xlabel(\"Ground truth\")\n",
    "plt.ylabel(\"Predictions\")"
   ]
  },
  {
   "cell_type": "code",
   "execution_count": 15,
   "id": "98c52465",
   "metadata": {},
   "outputs": [],
   "source": [
    "#%store model_fr_relative_swinging_x"
   ]
  },
  {
   "cell_type": "code",
   "execution_count": 16,
   "id": "ba1763af",
   "metadata": {},
   "outputs": [],
   "source": [
    "#for idx, prediction in enumerate(predictions):\n",
    "#    print(f'Start: {X_test[idx, 6]}. Groundtruth: {Y_test[idx]}. Predicted: {prediction}')"
   ]
  },
  {
   "cell_type": "code",
   "execution_count": 17,
   "id": "a5088438",
   "metadata": {},
   "outputs": [],
   "source": [
    "# Save model\n",
    "#joblib.dump(model_fr_relative_swinging_x, \"/home/itaouil/workspace/aliengo_ws/src/aliengo_navigation/models/protocol3/relative/model_fr_relative_swinging_x.sav\")"
   ]
  },
  {
   "cell_type": "markdown",
   "id": "d72decfa",
   "metadata": {},
   "source": [
    "### Predict FR foot -> y"
   ]
  },
  {
   "cell_type": "code",
   "execution_count": 18,
   "id": "8907cc05",
   "metadata": {},
   "outputs": [
    {
     "name": "stdout",
     "output_type": "stream",
     "text": [
      "R2:  -0.16583613680038867\n",
      "RMSE:  0.0006301293711958262\n",
      "The lowest error is:  1.5208652859310945e-07\n",
      "The highest error is:  0.005524716756425241\n",
      "The avg. error is:  0.00035192817057569235\n"
     ]
    }
   ],
   "source": [
    "# Input\n",
    "X = np.hstack((X_relative_footsteps_continuous_absolute_FR_swinging[:, :3], # motion command\n",
    "               X_relative_footsteps_continuous_absolute_FR_swinging[:, 9:11], # FL (x,y) position\n",
    "               X_relative_footsteps_continuous_absolute_FR_swinging[:, 12:14], # FR (x,y) position\n",
    "               X_relative_footsteps_continuous_absolute_FR_swinging[:, 15:17], # RL (x,y) position\n",
    "               X_relative_footsteps_continuous_absolute_FR_swinging[:, 18:20])) # RR (x,y) position\n",
    "\n",
    "# Target\n",
    "Y = np.array([Y_relative_footsteps_continuous_absolute_FR_swinging[:, 1]]).T\n",
    "\n",
    "assert Y.shape[0] == X.shape[0]\n",
    "\n",
    "# Split data into train and test set\n",
    "X_train, X_test, Y_train, Y_test = train_test_split(X, Y, train_size = 0.8, shuffle=True, random_state=100)\n",
    "\n",
    "# Create the model\n",
    "model_fr_relative_swinging_y = LinearRegression()\n",
    "\n",
    "# Fit the model\n",
    "model_fr_relative_swinging_y.fit(X_train, Y_train)\n",
    "\n",
    "# Predict\n",
    "predictions = model_fr_relative_swinging_y.predict(X_test)\n",
    "\n",
    "# Stats\n",
    "print('R2: ', r2_score(predictions, Y_test))\n",
    "print('RMSE: ', np.sqrt(mean_squared_error(Y_test, predictions)))\n",
    "print(\"The lowest error is: \", np.min(np.abs(predictions - Y_test)))\n",
    "print(\"The highest error is: \", np.max(np.abs(predictions - Y_test)))\n",
    "print(\"The avg. error is: \", np.mean(np.abs(predictions - Y_test)))\n",
    "#print(\"Seq of errors (descendant): \\n\", sorted(np.abs(predictions - Y_test).tolist(), reverse=True))"
   ]
  },
  {
   "cell_type": "code",
   "execution_count": 19,
   "id": "dc18f393",
   "metadata": {},
   "outputs": [
    {
     "data": {
      "text/plain": [
       "array([[-1.02767837e-02,  1.29063427e-15, -9.15933995e-16,\n",
       "         5.43356153e-01,  7.73858708e-01, -1.66753437e-01,\n",
       "         1.80977695e-01,  1.36816713e-02, -6.69930487e-02,\n",
       "        -4.66168787e-01, -7.22425477e-01]])"
      ]
     },
     "execution_count": 19,
     "metadata": {},
     "output_type": "execute_result"
    }
   ],
   "source": [
    "model_fr_relative_swinging_y.coef_"
   ]
  },
  {
   "cell_type": "code",
   "execution_count": 20,
   "id": "518d9cde",
   "metadata": {},
   "outputs": [
    {
     "data": {
      "text/plain": [
       "array([-0.4130806])"
      ]
     },
     "execution_count": 20,
     "metadata": {},
     "output_type": "execute_result"
    }
   ],
   "source": [
    "model_fr_relative_swinging_y.intercept_"
   ]
  },
  {
   "cell_type": "code",
   "execution_count": 21,
   "id": "340dd450",
   "metadata": {},
   "outputs": [
    {
     "data": {
      "text/plain": [
       "Text(0, 0.5, 'Predictions')"
      ]
     },
     "execution_count": 21,
     "metadata": {},
     "output_type": "execute_result"
    },
    {
     "data": {
      "image/png": "[encoded data removed]",
      "text/plain": [
       "<Figure size 432x288 with 1 Axes>"
      ]
     },
     "metadata": {
      "needs_background": "light"
     },
     "output_type": "display_data"
    }
   ],
   "source": [
    "## The line / model\n",
    "plt.scatter(Y_test, predictions)\n",
    "plt.xlabel(\"Ground truth\")\n",
    "plt.ylabel(\"Predictions\")"
   ]
  },
  {
   "cell_type": "code",
   "execution_count": 21,
   "id": "808657b9",
   "metadata": {},
   "outputs": [],
   "source": [
    "#%store model_fr_relative_swinging_y"
   ]
  },
  {
   "cell_type": "code",
   "execution_count": 24,
   "id": "3b9cf6a6",
   "metadata": {},
   "outputs": [],
   "source": [
    "#for idx, prediction in enumerate(predictions):\n",
    "#    print(f'Groundtruth: {Y_test[idx]}. Predicted: {prediction}')"
   ]
  },
  {
   "cell_type": "code",
   "execution_count": 25,
   "id": "f39dc795",
   "metadata": {},
   "outputs": [],
   "source": [
    "# Save model\n",
    "#joblib.dump(model_fr_relative_swinging_y, \"/home/itaouil/workspace/aliengo_ws/src/aliengo_navigation/models/protocol3/relative/model_fr_relative_swinging_y.sav\")"
   ]
  },
  {
   "cell_type": "code",
   "execution_count": null,
   "id": "d210abc0",
   "metadata": {},
   "outputs": [],
   "source": []
  }
 ],
 "metadata": {
  "kernelspec": {
   "display_name": "Python 3",
   "language": "python",
   "name": "python3"
  },
  "language_info": {
   "codemirror_mode": {
    "name": "ipython",
    "version": 3
   },
   "file_extension": ".py",
   "mimetype": "text/x-python",
   "name": "python",
   "nbconvert_exporter": "python",
   "pygments_lexer": "ipython3",
   "version": "3.6.12"
  }
 },
 "nbformat": 4,
 "nbformat_minor": 5
}
