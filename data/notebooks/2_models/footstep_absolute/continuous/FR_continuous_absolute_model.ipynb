{
 "cells": [
  {
   "cell_type": "code",
   "execution_count": 1,
   "id": "92f90fac",
   "metadata": {},
   "outputs": [],
   "source": [
    "#!/usr/bin/env python3.6\n",
    "# -*- coding: utf-8 -*-"
   ]
  },
  {
   "cell_type": "code",
   "execution_count": 2,
   "id": "bc9c7171",
   "metadata": {},
   "outputs": [],
   "source": [
    "# Imports\n",
    "import sys\n",
    "import joblib\n",
    "import numpy as np\n",
    "from matplotlib import animation\n",
    "from IPython.display import HTML\n",
    "from matplotlib import pyplot as plt\n",
    "import mpl_toolkits.mplot3d.axes3d as p3"
   ]
  },
  {
   "cell_type": "code",
   "execution_count": 3,
   "id": "c711a3f9",
   "metadata": {},
   "outputs": [],
   "source": [
    "#np.random.seed(20)\n",
    "np.set_printoptions(threshold=sys.maxsize)"
   ]
  },
  {
   "cell_type": "code",
   "execution_count": 4,
   "id": "5b265627",
   "metadata": {},
   "outputs": [],
   "source": [
    "%matplotlib inline"
   ]
  },
  {
   "cell_type": "code",
   "execution_count": 5,
   "id": "c24c4d3c",
   "metadata": {},
   "outputs": [
    {
     "name": "stdout",
     "output_type": "stream",
     "text": [
      "(762, 26)\n",
      "(762, 4)\n"
     ]
    }
   ],
   "source": [
    "%store -r X_footsteps_continuous_absolute\n",
    "%store -r Y_footsteps_continuous_absolute\n",
    "print(X_footsteps_continuous_absolute.shape)\n",
    "print(Y_footsteps_continuous_absolute.shape)"
   ]
  },
  {
   "cell_type": "markdown",
   "id": "6633dc9e",
   "metadata": {},
   "source": [
    "# Multivariate Linear Regression (Foot prediction)"
   ]
  },
  {
   "cell_type": "code",
   "execution_count": 6,
   "id": "3443cbde",
   "metadata": {},
   "outputs": [],
   "source": [
    "import sklearn\n",
    "from sklearn import metrics\n",
    "from sklearn.feature_selection import RFE\n",
    "from sklearn.model_selection import KFold\n",
    "from sklearn.linear_model import LinearRegression\n",
    "from sklearn.model_selection import train_test_split\n",
    "from sklearn.preprocessing import PolynomialFeatures \n",
    "from sklearn.model_selection import cross_val_score, cross_val_predict\n",
    "from sklearn.metrics import mean_squared_error, mean_absolute_error, r2_score"
   ]
  },
  {
   "cell_type": "code",
   "execution_count": 7,
   "id": "de4d74d2",
   "metadata": {},
   "outputs": [],
   "source": [
    "# Entries where FR is swinging\n",
    "idxs = np.where(X_footsteps_continuous_absolute[:, -2] == 0)[0]\n",
    "X_footsteps_continuous_absolute_FR_swinging = X_footsteps_continuous_absolute[idxs]\n",
    "Y_footsteps_continuous_absolute_FR_swinging = Y_footsteps_continuous_absolute[idxs]"
   ]
  },
  {
   "cell_type": "code",
   "execution_count": 8,
   "id": "858553b3",
   "metadata": {},
   "outputs": [
    {
     "name": "stdout",
     "output_type": "stream",
     "text": [
      "Percentage of footstep where FR and RL are swinging:  50.0\n"
     ]
    }
   ],
   "source": [
    "print(\"Percentage of footstep where FR and RL are swinging: \", len(idxs)/len(X_footsteps_continuous_absolute) * 100)"
   ]
  },
  {
   "cell_type": "markdown",
   "id": "198bf842",
   "metadata": {},
   "source": [
    "## Predict FR foot -> x"
   ]
  },
  {
   "cell_type": "code",
   "execution_count": 9,
   "id": "b6b647b3",
   "metadata": {},
   "outputs": [
    {
     "data": {
      "text/plain": [
       "array([ 1.00000000e-01,  0.00000000e+00,  0.00000000e+00,  8.09653828e-02,\n",
       "       -2.02463898e-03,  1.59138117e-03, -1.23841927e-01,  3.95024138e-02,\n",
       "       -7.59827570e-04,  2.28621442e-01,  1.21625062e-01, -3.79108766e-01,\n",
       "        2.46642183e-01, -1.31444720e-01, -3.79176914e-01, -2.63236963e-01,\n",
       "        1.38137159e-01, -3.79106102e-01, -2.95698084e-01, -1.24579731e-01,\n",
       "       -3.79040156e-01,  1.00000000e-01,  0.00000000e+00,  0.00000000e+00,\n",
       "        0.00000000e+00,  1.00000000e+00])"
      ]
     },
     "execution_count": 9,
     "metadata": {},
     "output_type": "execute_result"
    }
   ],
   "source": [
    "X_footsteps_continuous_absolute_FR_swinging[0, :]"
   ]
  },
  {
   "cell_type": "code",
   "execution_count": 10,
   "id": "0317d232",
   "metadata": {},
   "outputs": [
    {
     "data": {
      "text/plain": [
       "array([ 0.04600682,  0.0010881 ,  0.04629837, -0.00111264])"
      ]
     },
     "execution_count": 10,
     "metadata": {},
     "output_type": "execute_result"
    }
   ],
   "source": [
    "Y_footsteps_continuous_absolute_FR_swinging[0, :]"
   ]
  },
  {
   "cell_type": "markdown",
   "id": "9ba80229",
   "metadata": {},
   "source": [
    "### Linear Regression"
   ]
  },
  {
   "cell_type": "code",
   "execution_count": 11,
   "id": "022b519b",
   "metadata": {},
   "outputs": [
    {
     "name": "stdout",
     "output_type": "stream",
     "text": [
      "R2:  0.9989795312909475\n",
      "RMSE:  0.0026677956880701583\n",
      "The lowest error is:  6.947768224138673e-05\n",
      "The highest error is:  0.012799947969432235\n",
      "The avg. error is:  0.0016670088731402615\n"
     ]
    }
   ],
   "source": [
    "# Input\n",
    "X = np.hstack((X_footsteps_continuous_absolute_FR_swinging[:, :3], # motion command\n",
    "               X_footsteps_continuous_absolute_FR_swinging[:, 3:9], # velocity command\n",
    "               X_footsteps_continuous_absolute_FR_swinging[:, 9:11], # FL (x,y) position\n",
    "               X_footsteps_continuous_absolute_FR_swinging[:, 12:14], # FR (x,y) position\n",
    "               X_footsteps_continuous_absolute_FR_swinging[:, 15:17], # RL (x,y) position\n",
    "               X_footsteps_continuous_absolute_FR_swinging[:, 18:20])) # RR (x,y) position\n",
    "\n",
    "# Target\n",
    "Y = np.array([Y_footsteps_continuous_absolute_FR_swinging[:, 0]]).T\n",
    "\n",
    "assert Y.shape[0] == X.shape[0]\n",
    "\n",
    "# Split data into train and test set\n",
    "X_train, X_test, Y_train, Y_test = train_test_split(X, Y, train_size = 0.8, shuffle=True, random_state=100)\n",
    "\n",
    "# Create the model\n",
    "model_fr_relative_swinging_x = LinearRegression()\n",
    "\n",
    "# Fit the model\n",
    "model_fr_relative_swinging_x.fit(X_train, Y_train)\n",
    "\n",
    "# Predict\n",
    "predictions = model_fr_relative_swinging_x.predict(X_test)\n",
    "\n",
    "# Stats\n",
    "print('R2: ', r2_score(predictions, Y_test))\n",
    "print('RMSE: ', np.sqrt(mean_squared_error(Y_test, predictions)))\n",
    "print(\"The lowest error is: \", np.min(np.abs(predictions - Y_test)))\n",
    "print(\"The highest error is: \", np.max(np.abs(predictions - Y_test)))\n",
    "print(\"The avg. error is: \", np.mean(np.abs(predictions - Y_test)))\n",
    "#print(\"Seq of errors (descendant): \\n\", sorted(np.abs(predictions - Y_test).tolist(), reverse=True))"
   ]
  },
  {
   "cell_type": "code",
   "execution_count": 12,
   "id": "958f520f",
   "metadata": {},
   "outputs": [
    {
     "data": {
      "text/plain": [
       "array([[ 4.97343902e-01, -1.38777878e-17,  2.28983499e-15,\n",
       "        -1.24073681e-01,  2.90118785e-01, -1.05602205e-02,\n",
       "        -8.97296529e-03, -4.72003835e-02,  3.47662885e-02,\n",
       "        -5.45472422e-01,  1.70020839e-01, -2.04010614e-04,\n",
       "        -1.02523809e+00,  3.98169676e-02, -2.70022079e-01,\n",
       "        -2.03553872e-01,  4.79959324e-01]])"
      ]
     },
     "execution_count": 12,
     "metadata": {},
     "output_type": "execute_result"
    }
   ],
   "source": [
    "model_fr_relative_swinging_x.coef_"
   ]
  },
  {
   "cell_type": "code",
   "execution_count": 13,
   "id": "bfc1c3b1",
   "metadata": {},
   "outputs": [
    {
     "data": {
      "text/plain": [
       "array([0.02518138])"
      ]
     },
     "execution_count": 13,
     "metadata": {},
     "output_type": "execute_result"
    }
   ],
   "source": [
    "model_fr_relative_swinging_x.intercept_"
   ]
  },
  {
   "cell_type": "code",
   "execution_count": 15,
   "id": "e373080d",
   "metadata": {},
   "outputs": [
    {
     "data": {
      "text/plain": [
       "Text(0, 0.5, 'Predictions')"
      ]
     },
     "execution_count": 15,
     "metadata": {},
     "output_type": "execute_result"
    },
    {
     "data": {
      "image/png": "[encoded data removed]",
      "text/plain": [
       "<Figure size 432x288 with 1 Axes>"
      ]
     },
     "metadata": {
      "needs_background": "light"
     },
     "output_type": "display_data"
    }
   ],
   "source": [
    "## The line / model\n",
    "plt.scatter(Y_test, predictions)\n",
    "plt.xlabel(\"Ground truth\")\n",
    "plt.ylabel(\"Predictions\")"
   ]
  },
  {
   "cell_type": "code",
   "execution_count": 16,
   "id": "98c52465",
   "metadata": {},
   "outputs": [],
   "source": [
    "#%store model_fr_relative_swinging_x"
   ]
  },
  {
   "cell_type": "code",
   "execution_count": 17,
   "id": "ba1763af",
   "metadata": {},
   "outputs": [],
   "source": [
    "#for idx, prediction in enumerate(predictions):\n",
    "#    print(f'Start: {X_test[idx, 6]}. Groundtruth: {Y_test[idx]}. Predicted: {prediction}')"
   ]
  },
  {
   "cell_type": "code",
   "execution_count": 18,
   "id": "a5088438",
   "metadata": {},
   "outputs": [],
   "source": [
    "# Save model\n",
    "#joblib.dump(model_fr_relative_swinging_x, \"/home/itaouil/workspace/aliengo_ws/src/aliengo_navigation/models/protocol3/relative/model_fr_relative_swinging_x.sav\")"
   ]
  },
  {
   "cell_type": "markdown",
   "id": "d72decfa",
   "metadata": {},
   "source": [
    "### Predict FR foot -> y"
   ]
  },
  {
   "cell_type": "code",
   "execution_count": 19,
   "id": "8907cc05",
   "metadata": {},
   "outputs": [
    {
     "name": "stdout",
     "output_type": "stream",
     "text": [
      "R2:  0.6826680812591663\n",
      "RMSE:  0.0010705546915630736\n",
      "The lowest error is:  6.501088325006066e-06\n",
      "The highest error is:  0.0033617253270299616\n",
      "The avg. error is:  0.0008197933580021299\n"
     ]
    }
   ],
   "source": [
    "# Input\n",
    "X = np.hstack((X_footsteps_continuous_absolute_FR_swinging[:, :3], # motion command\n",
    "               X_footsteps_continuous_absolute_FR_swinging[:, 3:9], # velocity command\n",
    "               X_footsteps_continuous_absolute_FR_swinging[:, 9:11], # FL (x,y) position\n",
    "               X_footsteps_continuous_absolute_FR_swinging[:, 12:14], # FR (x,y) position\n",
    "               X_footsteps_continuous_absolute_FR_swinging[:, 15:17], # RL (x,y) position\n",
    "               X_footsteps_continuous_absolute_FR_swinging[:, 18:20])) # RR (x,y) position\n",
    "\n",
    "# Target\n",
    "Y = np.array([Y_footsteps_continuous_absolute_FR_swinging[:, 1]]).T\n",
    "\n",
    "assert Y.shape[0] == X.shape[0]\n",
    "\n",
    "# Split data into train and test set\n",
    "X_train, X_test, Y_train, Y_test = train_test_split(X, Y, train_size = 0.8, shuffle=True, random_state=100)\n",
    "\n",
    "# Create the model\n",
    "model_fr_relative_swinging_y = LinearRegression()\n",
    "\n",
    "# Fit the model\n",
    "model_fr_relative_swinging_y.fit(X_train, Y_train)\n",
    "\n",
    "# Predict\n",
    "predictions = model_fr_relative_swinging_y.predict(X_test)\n",
    "\n",
    "# Stats\n",
    "print('R2: ', r2_score(predictions, Y_test))\n",
    "print('RMSE: ', np.sqrt(mean_squared_error(Y_test, predictions)))\n",
    "print(\"The lowest error is: \", np.min(np.abs(predictions - Y_test)))\n",
    "print(\"The highest error is: \", np.max(np.abs(predictions - Y_test)))\n",
    "print(\"The avg. error is: \", np.mean(np.abs(predictions - Y_test)))\n",
    "#print(\"Seq of errors (descendant): \\n\", sorted(np.abs(predictions - Y_test).tolist(), reverse=True))"
   ]
  },
  {
   "cell_type": "code",
   "execution_count": 20,
   "id": "dc18f393",
   "metadata": {},
   "outputs": [
    {
     "data": {
      "text/plain": [
       "array([[ 2.09617936e-02,  5.20417043e-17,  8.15320034e-17,\n",
       "         3.20989860e-03,  2.17560574e-01, -4.11348209e-03,\n",
       "        -8.82133705e-05, -5.48490775e-03, -1.31482667e-02,\n",
       "         5.13376350e-02, -2.20422339e-01, -1.83947834e-01,\n",
       "        -1.88093587e-01, -1.29180915e-01, -2.58520793e-01,\n",
       "         4.12889659e-02, -1.03953257e-01]])"
      ]
     },
     "execution_count": 20,
     "metadata": {},
     "output_type": "execute_result"
    }
   ],
   "source": [
    "model_fr_relative_swinging_y.coef_"
   ]
  },
  {
   "cell_type": "code",
   "execution_count": 21,
   "id": "518d9cde",
   "metadata": {},
   "outputs": [
    {
     "data": {
      "text/plain": [
       "array([0.03465639])"
      ]
     },
     "execution_count": 21,
     "metadata": {},
     "output_type": "execute_result"
    }
   ],
   "source": [
    "model_fr_relative_swinging_y.intercept_"
   ]
  },
  {
   "cell_type": "code",
   "execution_count": 22,
   "id": "340dd450",
   "metadata": {},
   "outputs": [
    {
     "data": {
      "text/plain": [
       "Text(0, 0.5, 'Predictions')"
      ]
     },
     "execution_count": 22,
     "metadata": {},
     "output_type": "execute_result"
    },
    {
     "data": {
      "image/png": "[encoded data removed]",
      "text/plain": [
       "<Figure size 432x288 with 1 Axes>"
      ]
     },
     "metadata": {
      "needs_background": "light"
     },
     "output_type": "display_data"
    }
   ],
   "source": [
    "## The line / model\n",
    "plt.scatter(Y_test, predictions)\n",
    "plt.xlabel(\"Ground truth\")\n",
    "plt.ylabel(\"Predictions\")"
   ]
  },
  {
   "cell_type": "code",
   "execution_count": 23,
   "id": "808657b9",
   "metadata": {},
   "outputs": [],
   "source": [
    "#%store model_fr_relative_swinging_y"
   ]
  },
  {
   "cell_type": "code",
   "execution_count": 24,
   "id": "3b9cf6a6",
   "metadata": {},
   "outputs": [],
   "source": [
    "#for idx, prediction in enumerate(predictions):\n",
    "#    print(f'Groundtruth: {Y_test[idx]}. Predicted: {prediction}')"
   ]
  },
  {
   "cell_type": "code",
   "execution_count": 25,
   "id": "f39dc795",
   "metadata": {},
   "outputs": [],
   "source": [
    "# Save model\n",
    "#joblib.dump(model_fr_relative_swinging_y, \"/home/itaouil/workspace/aliengo_ws/src/aliengo_navigation/models/protocol3/relative/model_fr_relative_swinging_y.sav\")"
   ]
  },
  {
   "cell_type": "code",
   "execution_count": null,
   "id": "d210abc0",
   "metadata": {},
   "outputs": [],
   "source": []
  }
 ],
 "metadata": {
  "kernelspec": {
   "display_name": "Python 3 (ipykernel)",
   "language": "python",
   "name": "python3"
  },
  "language_info": {
   "codemirror_mode": {
    "name": "ipython",
    "version": 3
   },
   "file_extension": ".py",
   "mimetype": "text/x-python",
   "name": "python",
   "nbconvert_exporter": "python",
   "pygments_lexer": "ipython3",
   "version": "3.8.10"
  }
 },
 "nbformat": 4,
 "nbformat_minor": 5
}
