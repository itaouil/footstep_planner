{
 "cells": [
  {
   "cell_type": "code",
   "execution_count": 1,
   "id": "bdb449e7",
   "metadata": {},
   "outputs": [],
   "source": [
    "#!/usr/bin/env python3.6\n",
    "# -*- coding: utf-8 -*-"
   ]
  },
  {
   "cell_type": "code",
   "execution_count": 2,
   "id": "52ad6eca",
   "metadata": {},
   "outputs": [],
   "source": [
    "# Imports\n",
    "import sys\n",
    "import joblib\n",
    "import numpy as np\n",
    "from matplotlib import animation\n",
    "from IPython.display import HTML\n",
    "from matplotlib import pyplot as plt\n",
    "import mpl_toolkits.mplot3d.axes3d as p3"
   ]
  },
  {
   "cell_type": "code",
   "execution_count": 3,
   "id": "137d8dc7",
   "metadata": {},
   "outputs": [],
   "source": [
    "#np.random.seed(20)\n",
    "np.set_printoptions(threshold=sys.maxsize)"
   ]
  },
  {
   "cell_type": "code",
   "execution_count": 4,
   "id": "38ad0961",
   "metadata": {},
   "outputs": [],
   "source": [
    "%matplotlib inline"
   ]
  },
  {
   "cell_type": "code",
   "execution_count": 5,
   "id": "ebcdabbf",
   "metadata": {},
   "outputs": [
    {
     "name": "stdout",
     "output_type": "stream",
     "text": [
      "(5387, 24)\n",
      "(5387, 4)\n"
     ]
    }
   ],
   "source": [
    "%store -r X_footsteps_accelerations_absolute\n",
    "%store -r Y_footsteps_accelerations_absolute\n",
    "%store -r X_footsteps_continuous_absolute\n",
    "%store -r Y_footsteps_continuous_absolute\n",
    "\n",
    "#X_motion = np.concatenate((X_footsteps_accelerations_absolute, X_footsteps_continuous_absolute))\n",
    "#Y_motion = np.concatenate((Y_footsteps_accelerations_absolute, Y_footsteps_continuous_absolute))\n",
    "\n",
    "X_motion = X_footsteps_accelerations_absolute\n",
    "Y_motion = Y_footsteps_accelerations_absolute\n",
    "\n",
    "print(X_motion.shape)\n",
    "print(Y_motion.shape)"
   ]
  },
  {
   "cell_type": "markdown",
   "id": "e18f8b74",
   "metadata": {},
   "source": [
    "# Multivariate Linear Regression (Foot prediction)"
   ]
  },
  {
   "cell_type": "code",
   "execution_count": 6,
   "id": "eedc9494",
   "metadata": {},
   "outputs": [],
   "source": [
    "import sklearn\n",
    "from sklearn import metrics\n",
    "from sklearn.feature_selection import RFE\n",
    "from sklearn.model_selection import KFold\n",
    "from sklearn.linear_model import LinearRegression\n",
    "from sklearn.model_selection import train_test_split\n",
    "from sklearn.preprocessing import PolynomialFeatures \n",
    "from sklearn.model_selection import cross_val_score, cross_val_predict\n",
    "from sklearn.metrics import mean_squared_error, mean_absolute_error, r2_score, accuracy_score"
   ]
  },
  {
   "cell_type": "code",
   "execution_count": 7,
   "id": "a330a4a4",
   "metadata": {},
   "outputs": [],
   "source": [
    "## Entries where FL is swinging\n",
    "idxs = np.where(X_motion[:, -2] == 1)[0]\n",
    "X_motion_FL_swinging = X_motion[idxs]\n",
    "Y_motion_FL_swinging = Y_motion[idxs]"
   ]
  },
  {
   "cell_type": "markdown",
   "id": "e3b05716",
   "metadata": {},
   "source": [
    "## Predict FL foot -> x"
   ]
  },
  {
   "cell_type": "code",
   "execution_count": 8,
   "id": "660f3368",
   "metadata": {},
   "outputs": [
    {
     "data": {
      "text/plain": [
       "array([ 0.1       ,  0.        ,  0.        ,  0.1       ,  0.        ,\n",
       "        0.        ,  0.21840438,  0.13003148, -0.37701634,  0.25918305,\n",
       "       -0.13256112, -0.3703649 , -0.23936759,  0.12442393, -0.38166779,\n",
       "       -0.27998325, -0.12794775, -0.37933218,  0.14566456, -0.04575961,\n",
       "        0.05389997,  0.06813524,  1.        ,  0.        ])"
      ]
     },
     "execution_count": 8,
     "metadata": {},
     "output_type": "execute_result"
    }
   ],
   "source": [
    "X_motion_FL_swinging[10]"
   ]
  },
  {
   "cell_type": "code",
   "execution_count": 9,
   "id": "04b35a5e-ee78-47be-b3d8-0502034c795c",
   "metadata": {},
   "outputs": [
    {
     "data": {
      "text/plain": [
       "array([ 0.14566456, -0.04575961,  0.05389997,  0.06813524])"
      ]
     },
     "execution_count": 9,
     "metadata": {},
     "output_type": "execute_result"
    }
   ],
   "source": [
    "X_motion_FL_swinging[10, 18:22]"
   ]
  },
  {
   "cell_type": "code",
   "execution_count": 10,
   "id": "4c90fcc2",
   "metadata": {},
   "outputs": [
    {
     "data": {
      "text/plain": [
       "(2698, 4)"
      ]
     },
     "execution_count": 10,
     "metadata": {},
     "output_type": "execute_result"
    }
   ],
   "source": [
    "Y_motion_FL_swinging.shape"
   ]
  },
  {
   "cell_type": "code",
   "execution_count": 11,
   "id": "5c6a7755",
   "metadata": {},
   "outputs": [
    {
     "data": {
      "text/plain": [
       "array([0.1, 0.1, 0. , 0. , 0.1, 0.1, 0.1, 0. , 0.1, 0. ])"
      ]
     },
     "execution_count": 11,
     "metadata": {},
     "output_type": "execute_result"
    }
   ],
   "source": [
    "X_motion_FL_swinging[0:10, 0]"
   ]
  },
  {
   "cell_type": "markdown",
   "id": "106f3c17",
   "metadata": {},
   "source": [
    "### Linear Regression"
   ]
  },
  {
   "cell_type": "code",
   "execution_count": 25,
   "id": "71cc9a68",
   "metadata": {},
   "outputs": [
    {
     "name": "stdout",
     "output_type": "stream",
     "text": [
      "R2:  0.9902229780241864\n",
      "RMSE:  0.0159834818116676\n",
      "The lowest error is:  2.8676459770116125e-05\n",
      "The highest error is:  0.055923310490808065\n",
      "The avg. error is:  0.012333239323706275\n"
     ]
    }
   ],
   "source": [
    "# Input\n",
    "X = np.hstack((X_motion_FL_swinging[:, :3], # Previous motion command\n",
    "               X_motion_FL_swinging[:, 3:6], # Current motion command\n",
    "               X_motion_FL_swinging[:, 18:22], # Current CoM (x,y) veloctiy\n",
    "               X_motion_FL_swinging[:, 6:8], # FL (x,y) position\n",
    "               X_motion_FL_swinging[:, 9:11], # FR (x,y) position\n",
    "               X_motion_FL_swinging[:, 12:14], # RL (x,y) position\n",
    "               X_motion_FL_swinging[:, 15:17])) # RR (x, y) position\n",
    "\n",
    "# Target\n",
    "Y = np.array([Y_motion_FL_swinging[:, 0]]).T\n",
    "\n",
    "assert Y.shape[0] == X.shape[0]\n",
    "\n",
    "# Split data into train and test set\n",
    "X_train, X_test, Y_train, Y_test = train_test_split(X, Y, train_size = 0.9, shuffle=True)\n",
    "\n",
    "# Create the model\n",
    "model_fl_relative_support_x = LinearRegression()\n",
    "\n",
    "# Fit the model\n",
    "model_fl_relative_support_x.fit(X_train, Y_train)\n",
    "    \n",
    "# Predict\n",
    "predictions = model_fl_relative_support_x.predict(X_test)\n",
    "\n",
    "# Stats\n",
    "print('R2: ', r2_score(predictions, Y_test))\n",
    "print('RMSE: ', np.sqrt(mean_squared_error(Y_test, predictions)))\n",
    "print(\"The lowest error is: \", np.min(np.abs(predictions - Y_test)))\n",
    "print(\"The highest error is: \", np.max(np.abs(predictions - Y_test)))\n",
    "print(\"The avg. error is: \", np.mean(np.abs(predictions - Y_test)))\n",
    "#print(\"Seq of errors (descendant): \\n\", sorted(np.abs(predictions - Y_test).tolist(), reverse=True))"
   ]
  },
  {
   "cell_type": "code",
   "execution_count": 26,
   "id": "74a18c73",
   "metadata": {},
   "outputs": [
    {
     "data": {
      "text/plain": [
       "array([[ 1.40279092e-02, -4.99600361e-16, -9.71445147e-16,\n",
       "         1.08621104e-01,  2.77555756e-16, -1.94289029e-16,\n",
       "         3.97684829e-01,  3.52009734e-01, -1.12523521e-01,\n",
       "        -7.14378290e-04, -6.47822537e-01, -8.93822283e-01,\n",
       "        -8.25165590e-01,  5.76822396e-01,  2.17618000e-01,\n",
       "         1.09877543e+00, -3.45350203e-01,  6.29666151e-01]])"
      ]
     },
     "execution_count": 26,
     "metadata": {},
     "output_type": "execute_result"
    }
   ],
   "source": [
    "model_fl_relative_support_x.coef_"
   ]
  },
  {
   "cell_type": "code",
   "execution_count": 27,
   "id": "cff0d919",
   "metadata": {},
   "outputs": [
    {
     "data": {
      "text/plain": [
       "array([0.46885229])"
      ]
     },
     "execution_count": 27,
     "metadata": {},
     "output_type": "execute_result"
    }
   ],
   "source": [
    "model_fl_relative_support_x.intercept_"
   ]
  },
  {
   "cell_type": "code",
   "execution_count": 28,
   "id": "a84da6ce",
   "metadata": {},
   "outputs": [
    {
     "data": {
      "text/plain": [
       "Text(0, 0.5, 'Predictions')"
      ]
     },
     "execution_count": 28,
     "metadata": {},
     "output_type": "execute_result"
    },
    {
     "data": {
      "image/png": "[encoded data removed]",
      "text/plain": [
       "<Figure size 432x288 with 1 Axes>"
      ]
     },
     "metadata": {
      "needs_background": "light"
     },
     "output_type": "display_data"
    }
   ],
   "source": [
    "## The line / model\n",
    "plt.scatter(Y_test, predictions)\n",
    "plt.xlabel(\"Ground truth\")\n",
    "plt.ylabel(\"Predictions\")"
   ]
  },
  {
   "cell_type": "code",
   "execution_count": 29,
   "id": "89855d6c",
   "metadata": {},
   "outputs": [],
   "source": [
    "#for idx, prediction in enumerate(predictions):\n",
    "#    print(f'Start: {X_test[idx, 6]}. Groundtruth: {Y_test[idx]}. Predicted: {prediction}')"
   ]
  },
  {
   "cell_type": "markdown",
   "id": "bac47787",
   "metadata": {},
   "source": [
    "### Predict FL foot -> y"
   ]
  },
  {
   "cell_type": "code",
   "execution_count": 32,
   "id": "7899c3a5",
   "metadata": {},
   "outputs": [
    {
     "name": "stdout",
     "output_type": "stream",
     "text": [
      "R2:  0.7677409030158812\n",
      "RMSE:  0.005453113238036263\n",
      "The lowest error is:  4.948576166972918e-05\n",
      "The highest error is:  0.015518122925881686\n",
      "The avg. error is:  0.004384046747482615\n"
     ]
    }
   ],
   "source": [
    "# Input\n",
    "X = np.hstack((X_motion_FL_swinging[:, :3], # Previous motion command\n",
    "               X_motion_FL_swinging[:, 3:6], # Current motion command\n",
    "               X_motion_FL_swinging[:, 18:22], # Current CoM (x,y) veloctiy\n",
    "               X_motion_FL_swinging[:, 6:8], # FL (x,y) position\n",
    "               X_motion_FL_swinging[:, 9:11], # FR (x,y) position\n",
    "               X_motion_FL_swinging[:, 12:14], # RL (x,y) position\n",
    "               X_motion_FL_swinging[:, 15:17])) # RR (x, y) position\n",
    "\n",
    "# Target\n",
    "Y = np.array([Y_motion_FL_swinging[:, 1]]).T\n",
    "\n",
    "assert Y.shape[0] == X.shape[0]\n",
    "\n",
    "# Split data into train and test set\n",
    "X_train, X_test, Y_train, Y_test = train_test_split(X, Y, train_size = 0.9, shuffle=True)\n",
    "\n",
    "# Create the model\n",
    "model_fl_relative_support_y = LinearRegression()\n",
    "\n",
    "# Fit the model\n",
    "model_fl_relative_support_y.fit(X_train, Y_train)\n",
    "\n",
    "# Predict\n",
    "predictions = model_fl_relative_support_y.predict(X_test)\n",
    "\n",
    "# Stats\n",
    "print('R2: ', r2_score(predictions, Y_test))\n",
    "print('RMSE: ', np.sqrt(mean_squared_error(Y_test, predictions)))\n",
    "print(\"The lowest error is: \", np.min(np.abs(predictions - Y_test)))\n",
    "print(\"The highest error is: \", np.max(np.abs(predictions - Y_test)))\n",
    "print(\"The avg. error is: \", np.mean(np.abs(predictions - Y_test)))\n",
    "#print(\"Seq of errors (descendant): \\n\", sorted(np.abs(predictions - Y_test).tolist(), reverse=True))"
   ]
  },
  {
   "cell_type": "code",
   "execution_count": 33,
   "id": "265b6132",
   "metadata": {},
   "outputs": [
    {
     "data": {
      "text/plain": [
       "array([[-5.89003645e-03, -4.16333634e-17,  3.40005801e-16,\n",
       "        -5.01935848e-03, -1.24900090e-16, -1.56125113e-16,\n",
       "         8.36258980e-02,  4.36105605e-02, -1.67269514e-02,\n",
       "        -7.71144734e-03,  1.82965128e-01, -1.36326557e+00,\n",
       "        -1.93187865e-02,  4.66495023e-01, -2.96620343e-01,\n",
       "         4.93508728e-01, -1.24692982e-01, -3.12202613e-01]])"
      ]
     },
     "execution_count": 33,
     "metadata": {},
     "output_type": "execute_result"
    }
   ],
   "source": [
    "model_fl_relative_support_y.coef_"
   ]
  },
  {
   "cell_type": "code",
   "execution_count": 34,
   "id": "2469b173",
   "metadata": {},
   "outputs": [
    {
     "data": {
      "text/plain": [
       "array([-0.01502302])"
      ]
     },
     "execution_count": 34,
     "metadata": {},
     "output_type": "execute_result"
    }
   ],
   "source": [
    "model_fl_relative_support_y.intercept_"
   ]
  },
  {
   "cell_type": "code",
   "execution_count": 35,
   "id": "4ec4e3fc",
   "metadata": {},
   "outputs": [
    {
     "data": {
      "text/plain": [
       "Text(0, 0.5, 'Predictions')"
      ]
     },
     "execution_count": 35,
     "metadata": {},
     "output_type": "execute_result"
    },
    {
     "data": {
      "image/png": "[encoded data removed]",
      "text/plain": [
       "<Figure size 432x288 with 1 Axes>"
      ]
     },
     "metadata": {
      "needs_background": "light"
     },
     "output_type": "display_data"
    }
   ],
   "source": [
    "## The line / model\n",
    "plt.scatter(Y_test, predictions)\n",
    "plt.xlabel(\"Ground truth\")\n",
    "plt.ylabel(\"Predictions\")"
   ]
  },
  {
   "cell_type": "code",
   "execution_count": 86,
   "id": "79addb12",
   "metadata": {},
   "outputs": [],
   "source": [
    "#for idx, prediction in enumerate(predictions):\n",
    "#    print(f'Groundtruth: {Y_test[idx]}. Predicted: {prediction}')"
   ]
  },
  {
   "cell_type": "code",
   "execution_count": null,
   "id": "be02286c-c8da-48fe-ac80-b70d8fca90f6",
   "metadata": {},
   "outputs": [],
   "source": []
  }
 ],
 "metadata": {
  "kernelspec": {
   "display_name": "Python 3 (ipykernel)",
   "language": "python",
   "name": "python3"
  },
  "language_info": {
   "codemirror_mode": {
    "name": "ipython",
    "version": 3
   },
   "file_extension": ".py",
   "mimetype": "text/x-python",
   "name": "python",
   "nbconvert_exporter": "python",
   "pygments_lexer": "ipython3",
   "version": "3.8.10"
  }
 },
 "nbformat": 4,
 "nbformat_minor": 5
}
