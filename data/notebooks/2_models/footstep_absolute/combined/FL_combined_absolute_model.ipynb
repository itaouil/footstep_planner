{
 "cells": [
  {
   "cell_type": "code",
   "execution_count": 1,
   "id": "bdb449e7",
   "metadata": {},
   "outputs": [],
   "source": [
    "#!/usr/bin/env python3.6\n",
    "# -*- coding: utf-8 -*-"
   ]
  },
  {
   "cell_type": "code",
   "execution_count": 2,
   "id": "52ad6eca",
   "metadata": {},
   "outputs": [],
   "source": [
    "# Imports\n",
    "import sys\n",
    "import joblib\n",
    "import numpy as np\n",
    "from matplotlib import animation\n",
    "from IPython.display import HTML\n",
    "from matplotlib import pyplot as plt\n",
    "import mpl_toolkits.mplot3d.axes3d as p3"
   ]
  },
  {
   "cell_type": "code",
   "execution_count": 3,
   "id": "137d8dc7",
   "metadata": {},
   "outputs": [],
   "source": [
    "#np.random.seed(20)\n",
    "np.set_printoptions(threshold=sys.maxsize)"
   ]
  },
  {
   "cell_type": "code",
   "execution_count": 4,
   "id": "38ad0961",
   "metadata": {},
   "outputs": [],
   "source": [
    "%matplotlib inline"
   ]
  },
  {
   "cell_type": "code",
   "execution_count": 5,
   "id": "ebcdabbf",
   "metadata": {},
   "outputs": [
    {
     "name": "stdout",
     "output_type": "stream",
     "text": [
      "(1558, 20)\n",
      "(1558, 4)\n"
     ]
    }
   ],
   "source": [
    "%store -r X_footsteps_accelerations_absolute\n",
    "%store -r Y_footsteps_accelerations_absolute\n",
    "%store -r X_footsteps_continuous_absolute\n",
    "%store -r Y_footsteps_continuous_absolute\n",
    "\n",
    "X_motion = np.concatenate((X_footsteps_accelerations_absolute, X_footsteps_continuous_absolute))\n",
    "Y_motion = np.concatenate((Y_footsteps_accelerations_absolute, Y_footsteps_continuous_absolute))\n",
    "\n",
    "print(X_motion.shape)\n",
    "print(Y_motion.shape)"
   ]
  },
  {
   "cell_type": "markdown",
   "id": "e18f8b74",
   "metadata": {},
   "source": [
    "# Multivariate Linear Regression (Foot prediction)"
   ]
  },
  {
   "cell_type": "code",
   "execution_count": 6,
   "id": "eedc9494",
   "metadata": {},
   "outputs": [],
   "source": [
    "import sklearn\n",
    "from sklearn import metrics\n",
    "from sklearn.feature_selection import RFE\n",
    "from sklearn.model_selection import KFold\n",
    "from sklearn.linear_model import LinearRegression\n",
    "from sklearn.model_selection import train_test_split\n",
    "from sklearn.preprocessing import PolynomialFeatures \n",
    "from sklearn.model_selection import cross_val_score, cross_val_predict\n",
    "from sklearn.metrics import mean_squared_error, mean_absolute_error, r2_score, accuracy_score"
   ]
  },
  {
   "cell_type": "code",
   "execution_count": 7,
   "id": "a330a4a4",
   "metadata": {},
   "outputs": [],
   "source": [
    "## Entries where FL is swinging\n",
    "idxs = np.where(X_motion[:, -2] == 1)[0]\n",
    "X_motion_FL_swinging = X_motion[idxs]\n",
    "Y_motion_FL_swinging = Y_motion[idxs]"
   ]
  },
  {
   "cell_type": "markdown",
   "id": "e3b05716",
   "metadata": {},
   "source": [
    "## Predict FL foot -> x"
   ]
  },
  {
   "cell_type": "code",
   "execution_count": 8,
   "id": "660f3368",
   "metadata": {},
   "outputs": [
    {
     "data": {
      "text/plain": [
       "(778, 20)"
      ]
     },
     "execution_count": 8,
     "metadata": {},
     "output_type": "execute_result"
    }
   ],
   "source": [
    "X_motion_FL_swinging.shape"
   ]
  },
  {
   "cell_type": "code",
   "execution_count": 9,
   "id": "4c90fcc2",
   "metadata": {},
   "outputs": [
    {
     "data": {
      "text/plain": [
       "(778, 4)"
      ]
     },
     "execution_count": 9,
     "metadata": {},
     "output_type": "execute_result"
    }
   ],
   "source": [
    "Y_motion_FL_swinging.shape"
   ]
  },
  {
   "cell_type": "code",
   "execution_count": 10,
   "id": "5c6a7755",
   "metadata": {},
   "outputs": [
    {
     "data": {
      "text/plain": [
       "array([0. , 0.1, 0.1, 0. , 0.1, 0.1, 0.1, 0. , 0.1, 0.1])"
      ]
     },
     "execution_count": 10,
     "metadata": {},
     "output_type": "execute_result"
    }
   ],
   "source": [
    "X_motion_FL_swinging[0:10, 0]"
   ]
  },
  {
   "cell_type": "markdown",
   "id": "106f3c17",
   "metadata": {},
   "source": [
    "### Linear Regression"
   ]
  },
  {
   "cell_type": "code",
   "execution_count": 11,
   "id": "71cc9a68",
   "metadata": {},
   "outputs": [
    {
     "name": "stdout",
     "output_type": "stream",
     "text": [
      "R2:  0.9883904869320096\n",
      "RMSE:  0.014319383096365799\n",
      "The lowest error is:  3.7951222412513363e-05\n",
      "The highest error is:  0.08183865839106924\n",
      "The avg. error is:  0.009695971537337407\n"
     ]
    }
   ],
   "source": [
    "# Input\n",
    "X = np.hstack((X_motion_FL_swinging[:, :3], # Previous motion command\n",
    "               X_motion_FL_swinging[:, -5:-2], # Current motion command\n",
    "               X_motion_FL_swinging[:, 3:5], # FL (x,y) position\n",
    "               X_motion_FL_swinging[:, 6:8], # FR (x,y) position\n",
    "               X_motion_FL_swinging[:, 9:11], # RL (x,y) position\n",
    "               X_motion_FL_swinging[:, 12:14])) # RR (x, y) position\n",
    "\n",
    "# Target\n",
    "Y = np.array([Y_motion_FL_swinging[:, 0]]).T\n",
    "\n",
    "assert Y.shape[0] == X.shape[0]\n",
    "\n",
    "# Split data into train and test set\n",
    "X_train, X_test, Y_train, Y_test = train_test_split(X, Y, train_size = 0.8, shuffle=True, random_state=100)\n",
    "\n",
    "# Create the model\n",
    "model_fl_relative_support_x = LinearRegression()\n",
    "\n",
    "# Fit the model\n",
    "model_fl_relative_support_x.fit(X_train, Y_train)\n",
    "    \n",
    "# Predict\n",
    "predictions = model_fl_relative_support_x.predict(X_test)\n",
    "\n",
    "# Stats\n",
    "print('R2: ', r2_score(predictions, Y_test))\n",
    "print('RMSE: ', np.sqrt(mean_squared_error(Y_test, predictions)))\n",
    "print(\"The lowest error is: \", np.min(np.abs(predictions - Y_test)))\n",
    "print(\"The highest error is: \", np.max(np.abs(predictions - Y_test)))\n",
    "print(\"The avg. error is: \", np.mean(np.abs(predictions - Y_test)))\n",
    "#print(\"Seq of errors (descendant): \\n\", sorted(np.abs(predictions - Y_test).tolist(), reverse=True))"
   ]
  },
  {
   "cell_type": "code",
   "execution_count": 12,
   "id": "74a18c73",
   "metadata": {},
   "outputs": [
    {
     "data": {
      "text/plain": [
       "array([[ 1.82526943e-01, -2.22044605e-16, -8.88178420e-16,\n",
       "         3.86559716e-02,  3.60822483e-16,  0.00000000e+00,\n",
       "        -1.19513703e+00, -2.42679094e-01,  8.71375826e-01,\n",
       "         1.47118653e+00, -3.46838880e-01, -4.81823987e-01,\n",
       "        -1.03104398e+00, -1.21301433e+00]])"
      ]
     },
     "execution_count": 12,
     "metadata": {},
     "output_type": "execute_result"
    }
   ],
   "source": [
    "model_fl_relative_support_x.coef_"
   ]
  },
  {
   "cell_type": "code",
   "execution_count": 13,
   "id": "cff0d919",
   "metadata": {},
   "outputs": [
    {
     "data": {
      "text/plain": [
       "array([-0.15264197])"
      ]
     },
     "execution_count": 13,
     "metadata": {},
     "output_type": "execute_result"
    }
   ],
   "source": [
    "model_fl_relative_support_x.intercept_"
   ]
  },
  {
   "cell_type": "code",
   "execution_count": 14,
   "id": "a84da6ce",
   "metadata": {},
   "outputs": [
    {
     "data": {
      "text/plain": [
       "Text(0, 0.5, 'Predictions')"
      ]
     },
     "execution_count": 14,
     "metadata": {},
     "output_type": "execute_result"
    },
    {
     "data": {
      "image/png": "[encoded data removed]",
      "text/plain": [
       "<Figure size 432x288 with 1 Axes>"
      ]
     },
     "metadata": {
      "needs_background": "light"
     },
     "output_type": "display_data"
    }
   ],
   "source": [
    "## The line / model\n",
    "plt.scatter(Y_test, predictions)\n",
    "plt.xlabel(\"Ground truth\")\n",
    "plt.ylabel(\"Predictions\")"
   ]
  },
  {
   "cell_type": "code",
   "execution_count": 15,
   "id": "89855d6c",
   "metadata": {},
   "outputs": [],
   "source": [
    "#for idx, prediction in enumerate(predictions):\n",
    "#    print(f'Start: {X_test[idx, 6]}. Groundtruth: {Y_test[idx]}. Predicted: {prediction}')"
   ]
  },
  {
   "cell_type": "markdown",
   "id": "bac47787",
   "metadata": {},
   "source": [
    "### Predict FL foot -> y"
   ]
  },
  {
   "cell_type": "code",
   "execution_count": 16,
   "id": "7899c3a5",
   "metadata": {},
   "outputs": [
    {
     "name": "stdout",
     "output_type": "stream",
     "text": [
      "R2:  0.5731575596194637\n",
      "RMSE:  0.00678831477343613\n",
      "The lowest error is:  1.6474593689204398e-05\n",
      "The highest error is:  0.022629105879167576\n",
      "The avg. error is:  0.005111252379393874\n"
     ]
    }
   ],
   "source": [
    "# Input\n",
    "X = np.hstack((X_motion_FL_swinging[:, :3], # Previous motion command\n",
    "               X_motion_FL_swinging[:, -5:-2], # Current motion command\n",
    "               X_motion_FL_swinging[:, 3:5], # FL (x,y) position\n",
    "               X_motion_FL_swinging[:, 6:8], # FR (x,y) position\n",
    "               X_motion_FL_swinging[:, 9:11], # RL (x,y) position\n",
    "               X_motion_FL_swinging[:, 12:14])) # RR (x, y) position\n",
    "\n",
    "# Target\n",
    "Y = np.array([Y_motion_FL_swinging[:, 1]]).T\n",
    "\n",
    "assert Y.shape[0] == X.shape[0]\n",
    "\n",
    "# Split data into train and test set\n",
    "X_train, X_test, Y_train, Y_test = train_test_split(X, Y, train_size = 0.8, shuffle=True, random_state=100)\n",
    "\n",
    "# Create the model\n",
    "model_fl_relative_support_y = LinearRegression()\n",
    "\n",
    "# Fit the model\n",
    "model_fl_relative_support_y.fit(X_train, Y_train)\n",
    "\n",
    "# Predict\n",
    "predictions = model_fl_relative_support_y.predict(X_test)\n",
    "\n",
    "# Stats\n",
    "print('R2: ', r2_score(predictions, Y_test))\n",
    "print('RMSE: ', np.sqrt(mean_squared_error(Y_test, predictions)))\n",
    "print(\"The lowest error is: \", np.min(np.abs(predictions - Y_test)))\n",
    "print(\"The highest error is: \", np.max(np.abs(predictions - Y_test)))\n",
    "print(\"The avg. error is: \", np.mean(np.abs(predictions - Y_test)))\n",
    "#print(\"Seq of errors (descendant): \\n\", sorted(np.abs(predictions - Y_test).tolist(), reverse=True))"
   ]
  },
  {
   "cell_type": "code",
   "execution_count": 17,
   "id": "265b6132",
   "metadata": {},
   "outputs": [
    {
     "data": {
      "text/plain": [
       "array([[ 1.54493347e-02,  8.50014503e-17, -1.04950770e-16,\n",
       "        -1.85525008e-02,  3.88578059e-16,  1.11022302e-16,\n",
       "        -1.51892554e-01, -1.77936360e+00,  7.07701430e-02,\n",
       "         4.71512012e-01, -1.77461688e-01,  6.07360277e-01,\n",
       "        -3.51879717e-03, -6.24527102e-01]])"
      ]
     },
     "execution_count": 17,
     "metadata": {},
     "output_type": "execute_result"
    }
   ],
   "source": [
    "model_fl_relative_support_y.coef_"
   ]
  },
  {
   "cell_type": "code",
   "execution_count": 18,
   "id": "2469b173",
   "metadata": {},
   "outputs": [
    {
     "data": {
      "text/plain": [
       "array([0.1045548])"
      ]
     },
     "execution_count": 18,
     "metadata": {},
     "output_type": "execute_result"
    }
   ],
   "source": [
    "model_fl_relative_support_y.intercept_"
   ]
  },
  {
   "cell_type": "code",
   "execution_count": 19,
   "id": "4ec4e3fc",
   "metadata": {},
   "outputs": [
    {
     "data": {
      "text/plain": [
       "Text(0, 0.5, 'Predictions')"
      ]
     },
     "execution_count": 19,
     "metadata": {},
     "output_type": "execute_result"
    },
    {
     "data": {
      "image/png": "[encoded data removed]",
      "text/plain": [
       "<Figure size 432x288 with 1 Axes>"
      ]
     },
     "metadata": {
      "needs_background": "light"
     },
     "output_type": "display_data"
    }
   ],
   "source": [
    "## The line / model\n",
    "plt.scatter(Y_test, predictions)\n",
    "plt.xlabel(\"Ground truth\")\n",
    "plt.ylabel(\"Predictions\")"
   ]
  },
  {
   "cell_type": "code",
   "execution_count": 20,
   "id": "79addb12",
   "metadata": {},
   "outputs": [],
   "source": [
    "#for idx, prediction in enumerate(predictions):\n",
    "#    print(f'Groundtruth: {Y_test[idx]}. Predicted: {prediction}')"
   ]
  },
  {
   "cell_type": "code",
   "execution_count": null,
   "id": "be02286c-c8da-48fe-ac80-b70d8fca90f6",
   "metadata": {},
   "outputs": [],
   "source": []
  }
 ],
 "metadata": {
  "kernelspec": {
   "display_name": "Python 3 (ipykernel)",
   "language": "python",
   "name": "python3"
  },
  "language_info": {
   "codemirror_mode": {
    "name": "ipython",
    "version": 3
   },
   "file_extension": ".py",
   "mimetype": "text/x-python",
   "name": "python",
   "nbconvert_exporter": "python",
   "pygments_lexer": "ipython3",
   "version": "3.8.10"
  }
 },
 "nbformat": 4,
 "nbformat_minor": 5
}
