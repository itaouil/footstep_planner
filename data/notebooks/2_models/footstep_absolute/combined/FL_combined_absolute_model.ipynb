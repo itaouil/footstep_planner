{
 "cells": [
  {
   "cell_type": "code",
   "execution_count": 1,
   "id": "bdb449e7",
   "metadata": {},
   "outputs": [],
   "source": [
    "#!/usr/bin/env python3.6\n",
    "# -*- coding: utf-8 -*-"
   ]
  },
  {
   "cell_type": "code",
   "execution_count": 2,
   "id": "52ad6eca",
   "metadata": {},
   "outputs": [],
   "source": [
    "# Imports\n",
    "import sys\n",
    "import joblib\n",
    "import numpy as np\n",
    "from matplotlib import animation\n",
    "from IPython.display import HTML\n",
    "from matplotlib import pyplot as plt\n",
    "import mpl_toolkits.mplot3d.axes3d as p3"
   ]
  },
  {
   "cell_type": "code",
   "execution_count": 3,
   "id": "137d8dc7",
   "metadata": {},
   "outputs": [],
   "source": [
    "#np.random.seed(20)\n",
    "np.set_printoptions(threshold=sys.maxsize)"
   ]
  },
  {
   "cell_type": "code",
   "execution_count": 4,
   "id": "38ad0961",
   "metadata": {},
   "outputs": [],
   "source": [
    "%matplotlib inline"
   ]
  },
  {
   "cell_type": "code",
   "execution_count": 5,
   "id": "ebcdabbf",
   "metadata": {},
   "outputs": [
    {
     "name": "stdout",
     "output_type": "stream",
     "text": [
      "(21664, 28)\n",
      "(21664, 4)\n"
     ]
    }
   ],
   "source": [
    "%store -r X_footsteps_accelerations_absolute\n",
    "%store -r Y_footsteps_accelerations_absolute\n",
    "%store -r X_footsteps_continuous_absolute\n",
    "%store -r Y_footsteps_continuous_absolute\n",
    "X_motion = np.concatenate((X_footsteps_accelerations_absolute, X_footsteps_continuous_absolute))\n",
    "Y_motion = np.concatenate((Y_footsteps_accelerations_absolute, Y_footsteps_continuous_absolute))\n",
    "print(X_motion.shape)\n",
    "print(Y_motion.shape)"
   ]
  },
  {
   "cell_type": "markdown",
   "id": "e18f8b74",
   "metadata": {},
   "source": [
    "# Multivariate Linear Regression (Foot prediction)"
   ]
  },
  {
   "cell_type": "code",
   "execution_count": 6,
   "id": "eedc9494",
   "metadata": {},
   "outputs": [],
   "source": [
    "import sklearn\n",
    "from sklearn import metrics\n",
    "from sklearn.feature_selection import RFE\n",
    "from sklearn.model_selection import KFold\n",
    "from sklearn.linear_model import LinearRegression\n",
    "from sklearn.model_selection import train_test_split\n",
    "from sklearn.preprocessing import PolynomialFeatures \n",
    "from sklearn.model_selection import cross_val_score, cross_val_predict\n",
    "from sklearn.metrics import mean_squared_error, mean_absolute_error, r2_score, accuracy_score"
   ]
  },
  {
   "cell_type": "code",
   "execution_count": 7,
   "id": "a330a4a4",
   "metadata": {},
   "outputs": [],
   "source": [
    "## Entries where FL is swinging\n",
    "idxs = np.where(X_motion[:, 21] == 1)[0]\n",
    "X_motion_FL_swinging = X_motion[idxs]\n",
    "Y_motion_FL_swinging = Y_motion[idxs]"
   ]
  },
  {
   "cell_type": "markdown",
   "id": "e3b05716",
   "metadata": {},
   "source": [
    "## Predict FL foot -> x"
   ]
  },
  {
   "cell_type": "code",
   "execution_count": 8,
   "id": "660f3368",
   "metadata": {},
   "outputs": [
    {
     "data": {
      "text/plain": [
       "(10835, 28)"
      ]
     },
     "execution_count": 8,
     "metadata": {},
     "output_type": "execute_result"
    }
   ],
   "source": [
    "X_motion_FL_swinging.shape"
   ]
  },
  {
   "cell_type": "code",
   "execution_count": 9,
   "id": "4c90fcc2",
   "metadata": {},
   "outputs": [
    {
     "data": {
      "text/plain": [
       "(10835, 4)"
      ]
     },
     "execution_count": 9,
     "metadata": {},
     "output_type": "execute_result"
    }
   ],
   "source": [
    "Y_motion_FL_swinging.shape"
   ]
  },
  {
   "cell_type": "code",
   "execution_count": 18,
   "id": "5c6a7755",
   "metadata": {},
   "outputs": [
    {
     "data": {
      "text/plain": [
       "array([0. , 0. , 0. , 0.1, 0.1, 0.2, 0.2, 0.2, 0.1, 0.1])"
      ]
     },
     "execution_count": 18,
     "metadata": {},
     "output_type": "execute_result"
    }
   ],
   "source": [
    "X_motion_FL_swinging[0:10, 0]"
   ]
  },
  {
   "cell_type": "code",
   "execution_count": 20,
   "id": "c3f3e738",
   "metadata": {},
   "outputs": [
    {
     "data": {
      "text/plain": [
       "array([[ 0.23179327,  0.14004969, -0.24871657, -0.13906732],\n",
       "       [ 0.23104885,  0.15769172, -0.24856249, -0.15704255],\n",
       "       [ 0.23074399,  0.16525878, -0.24879558, -0.16299948],\n",
       "       [ 0.23853637,  0.16813658, -0.24077563, -0.16782352],\n",
       "       [ 0.24136077,  0.16968122, -0.23783159, -0.16965005],\n",
       "       [ 0.24837992,  0.17022867, -0.230644  , -0.17071504],\n",
       "       [ 0.25119232,  0.17052483, -0.22783145, -0.17114184],\n",
       "       [ 0.24325481,  0.17178673, -0.2357449 , -0.17005344],\n",
       "       [ 0.24335603,  0.17096633, -0.23571748, -0.1708254 ],\n",
       "       [ 0.24892094,  0.17005349, -0.23077753, -0.17161225],\n",
       "       [ 0.25541974,  0.17022228, -0.22425446, -0.17160375],\n",
       "       [ 0.24666577,  0.17136508, -0.23275674, -0.17048918],\n",
       "       [ 0.24391034,  0.17099282, -0.23522791, -0.17093962],\n",
       "       [ 0.24191274,  0.17106493, -0.23727962, -0.1706941 ],\n",
       "       [ 0.25227144,  0.17042367, -0.22693028, -0.17161657],\n",
       "       [ 0.25325624,  0.17057621, -0.2257491 , -0.17159012],\n",
       "       [ 0.24414811,  0.17148455, -0.2349337 , -0.17049443],\n",
       "       [ 0.2430806 ,  0.17104997, -0.23598834, -0.17088938],\n",
       "       [ 0.24183413,  0.17092079, -0.23729304, -0.17089882],\n",
       "       [ 0.2507383 ,  0.17046413, -0.22834617, -0.17149501],\n",
       "       [ 0.25354868,  0.17052431, -0.22551549, -0.17155791],\n",
       "       [ 0.24605416,  0.17074721, -0.23300632, -0.17123202],\n",
       "       [ 0.24309047,  0.17075309, -0.23598799, -0.17112922],\n",
       "       [ 0.25280991,  0.17037517, -0.22640806, -0.17152415],\n",
       "       [ 0.25559265,  0.17056229, -0.2235966 , -0.17162504],\n",
       "       [ 0.24527484,  0.17163569, -0.23376811, -0.17037286],\n",
       "       [ 0.24252426,  0.17082164, -0.23665299, -0.17092833],\n",
       "       [ 0.25238437,  0.17044877, -0.22683915, -0.17155809],\n",
       "       [ 0.2530326 ,  0.17058533, -0.22602273, -0.17152231],\n",
       "       [ 0.24620079,  0.17155659, -0.23282033, -0.17045392],\n",
       "       [ 0.24378237,  0.1710065 , -0.23533422, -0.17085716],\n",
       "       [ 0.25121602,  0.16995432, -0.22840831, -0.17183069],\n",
       "       [ 0.2539148 ,  0.17016603, -0.22578161, -0.17163543],\n",
       "       [ 0.25693658,  0.17045524, -0.22246842, -0.17165301],\n",
       "       [ 0.24588425,  0.17059234, -0.23340747, -0.17122567],\n",
       "       [ 0.24439592,  0.17046461, -0.23488362, -0.17119518],\n",
       "       [ 0.2546055 ,  0.16974811, -0.22463798, -0.17228603],\n",
       "       [ 0.25592503,  0.16993355, -0.22365445, -0.17200332],\n",
       "       [ 0.25192132,  0.17051752, -0.2279474 , -0.17121782],\n",
       "       [ 0.24760889,  0.17062825, -0.23186581, -0.17111093],\n",
       "       [ 0.24398922,  0.17059558, -0.2353028 , -0.17111738],\n",
       "       [ 0.25183986,  0.16937812, -0.22812326, -0.1722962 ],\n",
       "       [ 0.2543658 ,  0.17000876, -0.22565264, -0.17168522],\n",
       "       [ 0.24619643,  0.17117331, -0.23333164, -0.17064058],\n",
       "       [ 0.24356173,  0.17088402, -0.23574269, -0.17091423],\n",
       "       [ 0.24368705,  0.17078645, -0.23551581, -0.17100687],\n",
       "       [ 0.25276513,  0.17053121, -0.22641445, -0.17146433],\n",
       "       [ 0.25312312,  0.17057247, -0.22608194, -0.17143642],\n",
       "       [ 0.24529956,  0.1708385 , -0.23386025, -0.17105631],\n",
       "       [ 0.2447646 ,  0.17066908, -0.23443053, -0.17108166],\n",
       "       [ 0.25365377,  0.16975076, -0.2255848 , -0.17215312],\n",
       "       [ 0.25258915,  0.17025824, -0.22710947, -0.17159803],\n",
       "       [ 0.25484343,  0.17024977, -0.22478103, -0.1716083 ],\n",
       "       [ 0.24687306,  0.17057722, -0.23239538, -0.17131199],\n",
       "       [ 0.24349512,  0.17066838, -0.23566504, -0.17117182],\n",
       "       [ 0.25371572,  0.16947007, -0.22620418, -0.17223464],\n",
       "       [ 0.25485984,  0.16995935, -0.22466744, -0.1719694 ],\n",
       "       [ 0.24701453,  0.17149635, -0.2324517 , -0.17038792],\n",
       "       [ 0.24339205,  0.17096085, -0.23587521, -0.17084109],\n",
       "       [ 0.25129218,  0.16962684, -0.22813808, -0.17227436],\n",
       "       [ 0.25626045,  0.17024049, -0.22324039, -0.17180909],\n",
       "       [ 0.25446336,  0.17034974, -0.225135  , -0.17155593],\n",
       "       [ 0.24581699,  0.17074454, -0.23347826, -0.17111899],\n",
       "       [ 0.24333098,  0.17066625, -0.23589417, -0.17108891],\n",
       "       [ 0.25179239,  0.17036625, -0.22733683, -0.17162064],\n",
       "       [ 0.25247541,  0.17058374, -0.22669729, -0.17147875],\n",
       "       [ 0.24504551,  0.17094924, -0.23410692, -0.17096573],\n",
       "       [ 0.24447067,  0.17058904, -0.23470186, -0.17116614],\n",
       "       [ 0.24879005,  0.17071027, -0.23031769, -0.17127712],\n",
       "       [ 0.25506193,  0.1705988 , -0.22405953, -0.17151443],\n",
       "       [ 0.24531566,  0.17138738, -0.23380234, -0.17057188],\n",
       "       [ 0.24391096,  0.17098403, -0.23523223, -0.17087144],\n",
       "       [ 0.25222997,  0.16973868, -0.22749595, -0.1719615 ],\n",
       "       [ 0.25317177,  0.17023332, -0.22652984, -0.17155672],\n",
       "       [ 0.25375232,  0.17040237, -0.22576756, -0.17155238],\n",
       "       [ 0.2464817 ,  0.1706438 , -0.23280666, -0.17120726],\n",
       "       [ 0.24395287,  0.17060197, -0.23522703, -0.17120779],\n",
       "       [ 0.2519292 ,  0.16936984, -0.22799613, -0.17231553],\n",
       "       [ 0.2542613 ,  0.17000822, -0.22574921, -0.17168456],\n",
       "       [ 0.24723442,  0.17095212, -0.23233796, -0.17084308],\n",
       "       [ 0.24381253,  0.17088134, -0.23545783, -0.17100698],\n",
       "       [ 0.24252412,  0.17079299, -0.23672435, -0.17094964],\n",
       "       [ 0.25007625,  0.17054343, -0.22900247, -0.17149353],\n",
       "       [ 0.25303101,  0.17055731, -0.22606522, -0.17150696],\n",
       "       [ 0.24504657,  0.1709126 , -0.23402282, -0.1710678 ],\n",
       "       [ 0.24294452,  0.17076011, -0.23619116, -0.17104366],\n",
       "       [ 0.24904148,  0.17056832, -0.22999127, -0.17149241],\n",
       "       [ 0.25589173,  0.17057241, -0.22325817, -0.17161833],\n",
       "       [ 0.24460049,  0.17174612, -0.2344037 , -0.17028855],\n",
       "       [ 0.24253252,  0.17108886, -0.23658897, -0.17074637],\n",
       "       [ 0.25067361,  0.16968952, -0.22909143, -0.17203736],\n",
       "       [ 0.25514967,  0.17015362, -0.22457669, -0.17170682],\n",
       "       [ 0.24560767,  0.17141894, -0.23376241, -0.17044593],\n",
       "       [ 0.24304497,  0.17098183, -0.23616747, -0.17088013],\n",
       "       [ 0.26008873,  0.16847955, -0.22024431, -0.17266304],\n",
       "       [ 0.26493297,  0.16985147, -0.21407421, -0.17201016],\n",
       "       [ 0.26894721,  0.16996634, -0.21086439, -0.17185495],\n",
       "       [ 0.25100816,  0.17053582, -0.22891364, -0.17061519],\n",
       "       [ 0.24532827,  0.17035384, -0.23431677, -0.17095497],\n",
       "       [ 0.26340272,  0.16820404, -0.21606275, -0.17365618]])"
      ]
     },
     "execution_count": 20,
     "metadata": {},
     "output_type": "execute_result"
    }
   ],
   "source": [
    "Y_motion_FL_swinging[0:100, :]"
   ]
  },
  {
   "cell_type": "markdown",
   "id": "106f3c17",
   "metadata": {},
   "source": [
    "### Linear Regression"
   ]
  },
  {
   "cell_type": "code",
   "execution_count": 12,
   "id": "71cc9a68",
   "metadata": {},
   "outputs": [
    {
     "name": "stdout",
     "output_type": "stream",
     "text": [
      "R2:  0.9757327729177082\n",
      "RMSE:  0.005315120146223958\n",
      "The lowest error is:  1.6693074942619734e-06\n",
      "The highest error is:  0.035960088513911415\n",
      "The avg. error is:  0.0031757792225244274\n"
     ]
    }
   ],
   "source": [
    "# Input\n",
    "X = np.hstack((X_motion_FL_swinging[:, :3], # prev velocity command\n",
    "               X_motion_FL_swinging[:, -3:], # commanded velocity command\n",
    "               X_motion_FL_swinging[:, 3:9],\n",
    "               X_motion_FL_swinging[:, 9:11], # FL (x,y) position\n",
    "               X_motion_FL_swinging[:, 12:14], # FR (x,y) position\n",
    "               X_motion_FL_swinging[:, 15:17], # RL (x,y) position\n",
    "               X_motion_FL_swinging[:, 18:20])) # RR (x,y) position\n",
    "\n",
    "# Target\n",
    "Y = np.array([Y_motion_FL_swinging[:, 0]]).T\n",
    "\n",
    "assert Y.shape[0] == X.shape[0]\n",
    "\n",
    "# Split data into train and test set\n",
    "X_train, X_test, Y_train, Y_test = train_test_split(X, Y, train_size = 0.8, shuffle=True, random_state=100)\n",
    "\n",
    "# Create the model\n",
    "model_fl_relative_support_x = LinearRegression()\n",
    "\n",
    "# Fit the model\n",
    "model_fl_relative_support_x.fit(X_train, Y_train)\n",
    "    \n",
    "# Predict\n",
    "predictions = model_fl_relative_support_x.predict(X_test)\n",
    "\n",
    "# Stats\n",
    "print('R2: ', r2_score(predictions, Y_test))\n",
    "print('RMSE: ', np.sqrt(mean_squared_error(Y_test, predictions)))\n",
    "print(\"The lowest error is: \", np.min(np.abs(predictions - Y_test)))\n",
    "print(\"The highest error is: \", np.max(np.abs(predictions - Y_test)))\n",
    "print(\"The avg. error is: \", np.mean(np.abs(predictions - Y_test)))\n",
    "#print(\"Seq of errors (descendant): \\n\", sorted(np.abs(predictions - Y_test).tolist(), reverse=True))"
   ]
  },
  {
   "cell_type": "code",
   "execution_count": 13,
   "id": "74a18c73",
   "metadata": {},
   "outputs": [
    {
     "data": {
      "text/plain": [
       "array([[ 0.01667945, -0.0095603 ,  0.00521299,  0.09306255, -0.00911753,\n",
       "        -0.00203325,  0.0182604 , -0.01080819, -0.05596843, -0.00894092,\n",
       "        -0.02070063, -0.00509915,  0.14681081, -0.03892616,  0.03690105,\n",
       "         0.04300687,  0.02754763,  0.02087922,  0.12184345, -0.03123797]])"
      ]
     },
     "execution_count": 13,
     "metadata": {},
     "output_type": "execute_result"
    }
   ],
   "source": [
    "model_fl_relative_support_x.coef_"
   ]
  },
  {
   "cell_type": "code",
   "execution_count": 14,
   "id": "cff0d919",
   "metadata": {},
   "outputs": [
    {
     "data": {
      "text/plain": [
       "array([0.22955842])"
      ]
     },
     "execution_count": 14,
     "metadata": {},
     "output_type": "execute_result"
    }
   ],
   "source": [
    "model_fl_relative_support_x.intercept_"
   ]
  },
  {
   "cell_type": "code",
   "execution_count": 15,
   "id": "a84da6ce",
   "metadata": {},
   "outputs": [
    {
     "data": {
      "text/plain": [
       "Text(0, 0.5, 'Predictions')"
      ]
     },
     "execution_count": 15,
     "metadata": {},
     "output_type": "execute_result"
    },
    {
     "data": {
      "image/png": "[encoded data removed]",
      "text/plain": [
       "<Figure size 432x288 with 1 Axes>"
      ]
     },
     "metadata": {
      "needs_background": "light"
     },
     "output_type": "display_data"
    }
   ],
   "source": [
    "## The line / model\n",
    "plt.scatter(Y_test, predictions)\n",
    "plt.xlabel(\"Ground truth\")\n",
    "plt.ylabel(\"Predictions\")"
   ]
  },
  {
   "cell_type": "code",
   "execution_count": 21,
   "id": "092fd758",
   "metadata": {},
   "outputs": [],
   "source": [
    "#%store model_fl_relative_support_x"
   ]
  },
  {
   "cell_type": "code",
   "execution_count": 22,
   "id": "89855d6c",
   "metadata": {},
   "outputs": [],
   "source": [
    "#for idx, prediction in enumerate(predictions):\n",
    "#    print(f'Start: {X_test[idx, 6]}. Groundtruth: {Y_test[idx]}. Predicted: {prediction}')"
   ]
  },
  {
   "cell_type": "code",
   "execution_count": 23,
   "id": "5057b287",
   "metadata": {},
   "outputs": [],
   "source": [
    "# Save model\n",
    "#joblib.dump(model_fl_relative_support_x, \"/home/itaouil/workspace/aliengo_ws/src/aliengo_navigation/models/protocol3/relative/model_fl_relative_support_x.sav\")"
   ]
  },
  {
   "cell_type": "markdown",
   "id": "bac47787",
   "metadata": {},
   "source": [
    "### Predict FL foot -> y"
   ]
  },
  {
   "cell_type": "code",
   "execution_count": 16,
   "id": "7899c3a5",
   "metadata": {},
   "outputs": [
    {
     "name": "stdout",
     "output_type": "stream",
     "text": [
      "R2:  0.9594467946831403\n",
      "RMSE:  0.004967847154298435\n",
      "The lowest error is:  1.0893593702654414e-06\n",
      "The highest error is:  0.04631625785838564\n",
      "The avg. error is:  0.0027422087486181266\n"
     ]
    }
   ],
   "source": [
    "# Input\n",
    "X = np.hstack((X_motion_FL_swinging[:, :3], # prev velocity command\n",
    "               X_motion_FL_swinging[:, -3:], # commanded velocity command\n",
    "               X_motion_FL_swinging[:, 3:9],\n",
    "               X_motion_FL_swinging[:, 9:11], # FL (x,y) position\n",
    "               X_motion_FL_swinging[:, 12:14], # FR (x,y) position\n",
    "               X_motion_FL_swinging[:, 15:17], # RL (x,y) position\n",
    "               X_motion_FL_swinging[:, 18:20])) # RR (x,y) position\n",
    "\n",
    "# Target\n",
    "Y = np.array([Y_motion_FL_swinging[:, 1]]).T\n",
    "\n",
    "assert Y.shape[0] == X.shape[0]\n",
    "\n",
    "# Split data into train and test set\n",
    "X_train, X_test, Y_train, Y_test = train_test_split(X, Y, train_size = 0.8, shuffle=True, random_state=100)\n",
    "\n",
    "# Create the model\n",
    "model_fl_relative_support_y = LinearRegression()\n",
    "\n",
    "# Fit the model\n",
    "model_fl_relative_support_y.fit(X_train, Y_train)\n",
    "\n",
    "# Predict\n",
    "predictions = model_fl_relative_support_y.predict(X_test)\n",
    "\n",
    "# Stats\n",
    "print('R2: ', r2_score(predictions, Y_test))\n",
    "print('RMSE: ', np.sqrt(mean_squared_error(Y_test, predictions)))\n",
    "print(\"The lowest error is: \", np.min(np.abs(predictions - Y_test)))\n",
    "print(\"The highest error is: \", np.max(np.abs(predictions - Y_test)))\n",
    "print(\"The avg. error is: \", np.mean(np.abs(predictions - Y_test)))\n",
    "#print(\"Seq of errors (descendant): \\n\", sorted(np.abs(predictions - Y_test).tolist(), reverse=True))"
   ]
  },
  {
   "cell_type": "code",
   "execution_count": 22,
   "id": "265b6132",
   "metadata": {},
   "outputs": [
    {
     "data": {
      "text/plain": [
       "array([[-0.0055751 ,  0.06842117,  0.03693887,  0.02111909,  0.2211869 ,\n",
       "         0.02227369, -0.00835656, -0.16485621, -0.03163174, -0.00659666,\n",
       "        -0.04289936,  0.00601045,  0.00410085, -0.15343558]])"
      ]
     },
     "execution_count": 22,
     "metadata": {},
     "output_type": "execute_result"
    }
   ],
   "source": [
    "model_fl_relative_support_y.coef_"
   ]
  },
  {
   "cell_type": "code",
   "execution_count": 23,
   "id": "2469b173",
   "metadata": {},
   "outputs": [
    {
     "data": {
      "text/plain": [
       "array([-8.44438176e-06])"
      ]
     },
     "execution_count": 23,
     "metadata": {},
     "output_type": "execute_result"
    }
   ],
   "source": [
    "model_fl_relative_support_y.intercept_"
   ]
  },
  {
   "cell_type": "code",
   "execution_count": 24,
   "id": "4ec4e3fc",
   "metadata": {},
   "outputs": [
    {
     "data": {
      "text/plain": [
       "Text(0, 0.5, 'Predictions')"
      ]
     },
     "execution_count": 24,
     "metadata": {},
     "output_type": "execute_result"
    },
    {
     "data": {
      "image/png": "[encoded data removed]",
      "text/plain": [
       "<Figure size 432x288 with 1 Axes>"
      ]
     },
     "metadata": {
      "needs_background": "light"
     },
     "output_type": "display_data"
    }
   ],
   "source": [
    "## The line / model\n",
    "plt.scatter(Y_test, predictions)\n",
    "plt.xlabel(\"Ground truth\")\n",
    "plt.ylabel(\"Predictions\")"
   ]
  },
  {
   "cell_type": "code",
   "execution_count": 25,
   "id": "936330ab",
   "metadata": {},
   "outputs": [],
   "source": [
    "#%store model_fl_relative_support_y"
   ]
  },
  {
   "cell_type": "code",
   "execution_count": 24,
   "id": "79addb12",
   "metadata": {},
   "outputs": [],
   "source": [
    "#for idx, prediction in enumerate(predictions):\n",
    "#    print(f'Groundtruth: {Y_test[idx]}. Predicted: {prediction}')"
   ]
  },
  {
   "cell_type": "code",
   "execution_count": 25,
   "id": "2bd50236",
   "metadata": {},
   "outputs": [],
   "source": [
    "# Save model\n",
    "#joblib.dump(model_fl_relative_support_y, \"/home/itaouil/workspace/aliengo_ws/src/aliengo_navigation/models/protocol3/relative/model_fl_relative_support_y.sav\")"
   ]
  },
  {
   "cell_type": "code",
   "execution_count": null,
   "id": "13034554",
   "metadata": {},
   "outputs": [],
   "source": []
  }
 ],
 "metadata": {
  "kernelspec": {
   "display_name": "Python 3",
   "language": "python",
   "name": "python3"
  },
  "language_info": {
   "codemirror_mode": {
    "name": "ipython",
    "version": 3
   },
   "file_extension": ".py",
   "mimetype": "text/x-python",
   "name": "python",
   "nbconvert_exporter": "python",
   "pygments_lexer": "ipython3",
   "version": "3.6.12"
  }
 },
 "nbformat": 4,
 "nbformat_minor": 5
}
