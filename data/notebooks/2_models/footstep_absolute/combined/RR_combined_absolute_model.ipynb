{
 "cells": [
  {
   "cell_type": "code",
   "execution_count": 1,
   "id": "2e95d0bd",
   "metadata": {},
   "outputs": [],
   "source": [
    "#!/usr/bin/env python3.6\n",
    "# -*- coding: utf-8 -*-"
   ]
  },
  {
   "cell_type": "code",
   "execution_count": 2,
   "id": "31d1a15b",
   "metadata": {},
   "outputs": [],
   "source": [
    "# Imports\n",
    "import sys\n",
    "import joblib\n",
    "import numpy as np\n",
    "from matplotlib import animation\n",
    "from IPython.display import HTML\n",
    "from matplotlib import pyplot as plt\n",
    "import mpl_toolkits.mplot3d.axes3d as p3"
   ]
  },
  {
   "cell_type": "code",
   "execution_count": 3,
   "id": "b95ece75",
   "metadata": {},
   "outputs": [],
   "source": [
    "#np.random.seed(20)\n",
    "np.set_printoptions(threshold=sys.maxsize)"
   ]
  },
  {
   "cell_type": "code",
   "execution_count": 4,
   "id": "544d3d54",
   "metadata": {},
   "outputs": [],
   "source": [
    "%matplotlib inline"
   ]
  },
  {
   "cell_type": "code",
   "execution_count": 5,
   "id": "9db7dd20",
   "metadata": {},
   "outputs": [
    {
     "name": "stdout",
     "output_type": "stream",
     "text": [
      "(6432, 24)\n",
      "(6432, 4)\n"
     ]
    }
   ],
   "source": [
    "%store -r X_footsteps_accelerations_absolute\n",
    "%store -r Y_footsteps_accelerations_absolute\n",
    "%store -r X_footsteps_continuous_absolute\n",
    "%store -r Y_footsteps_continuous_absolute\n",
    "X_motion = np.concatenate((X_footsteps_accelerations_absolute, X_footsteps_continuous_absolute))\n",
    "Y_motion = np.concatenate((Y_footsteps_accelerations_absolute, Y_footsteps_continuous_absolute))\n",
    "print(X_motion.shape)\n",
    "print(Y_motion.shape)"
   ]
  },
  {
   "cell_type": "markdown",
   "id": "d0d969dd",
   "metadata": {},
   "source": [
    "# Multivariate Linear Regression (Foot prediction)"
   ]
  },
  {
   "cell_type": "code",
   "execution_count": 6,
   "id": "815de40f",
   "metadata": {},
   "outputs": [],
   "source": [
    "import sklearn\n",
    "from sklearn import metrics\n",
    "from sklearn.feature_selection import RFE\n",
    "from sklearn.model_selection import KFold\n",
    "from sklearn.linear_model import LinearRegression\n",
    "from sklearn.model_selection import train_test_split\n",
    "from sklearn.preprocessing import PolynomialFeatures \n",
    "from sklearn.model_selection import cross_val_score, cross_val_predict\n",
    "from sklearn.metrics import mean_squared_error, mean_absolute_error, r2_score"
   ]
  },
  {
   "cell_type": "code",
   "execution_count": 7,
   "id": "7526ffd7",
   "metadata": {},
   "outputs": [],
   "source": [
    "# Entries where FL/RR are swinging\n",
    "idxs = np.where(X_motion[:, -2] == 1)[0]\n",
    "X_motion_RR_swinging = X_motion[idxs]\n",
    "Y_motion_RR_swinging = Y_motion[idxs]"
   ]
  },
  {
   "cell_type": "markdown",
   "id": "94975b1d",
   "metadata": {},
   "source": [
    "## Predict RR foot -> x"
   ]
  },
  {
   "cell_type": "code",
   "execution_count": 8,
   "id": "864faec9",
   "metadata": {},
   "outputs": [
    {
     "data": {
      "text/plain": [
       "array([ 0.1       ,  0.        ,  0.        ,  0.1       ,  0.        ,\n",
       "        0.        ,  0.22449669,  0.12662344, -0.38287407,  0.25448346,\n",
       "       -0.12627079, -0.36686563, -0.2433899 ,  0.12268152, -0.37084204,\n",
       "       -0.27261013, -0.12962829, -0.38346642,  0.1107618 , -0.00494386,\n",
       "       -0.05758817, -0.0046587 ,  1.        ,  0.        ])"
      ]
     },
     "execution_count": 8,
     "metadata": {},
     "output_type": "execute_result"
    }
   ],
   "source": [
    "X_motion_RR_swinging[0, :]"
   ]
  },
  {
   "cell_type": "code",
   "execution_count": 9,
   "id": "5d2b0469",
   "metadata": {},
   "outputs": [
    {
     "data": {
      "text/plain": [
       "array([0.07247222, 0.00360037, 0.07030449, 0.00479195])"
      ]
     },
     "execution_count": 9,
     "metadata": {},
     "output_type": "execute_result"
    }
   ],
   "source": [
    "Y_motion_RR_swinging[0, :]"
   ]
  },
  {
   "cell_type": "markdown",
   "id": "5877aca8",
   "metadata": {},
   "source": [
    "### Linear Regression"
   ]
  },
  {
   "cell_type": "code",
   "execution_count": 20,
   "id": "46d9c5e0",
   "metadata": {},
   "outputs": [
    {
     "name": "stdout",
     "output_type": "stream",
     "text": [
      "R2:  0.9721921446315356\n",
      "RMSE:  0.02090061024571644\n",
      "The lowest error is:  3.357488380428819e-06\n",
      "The highest error is:  0.11443034169910471\n",
      "The avg. error is:  0.014334259537747054\n"
     ]
    }
   ],
   "source": [
    "# Input\n",
    "X = np.hstack((X_motion_RR_swinging[:, :3], # Previous motion command\n",
    "               X_motion_RR_swinging[:, 3:6], # Current motion command\n",
    "               #X_motion_RR_swinging[:, 18:20], # Current CoM (x,y) veloctiy\n",
    "               X_motion_RR_swinging[:, 6:8], # FL (x,y) position\n",
    "               X_motion_RR_swinging[:, 9:11], # FR (x,y) position\n",
    "               X_motion_RR_swinging[:, 12:14], # RL (x,y) position\n",
    "               X_motion_RR_swinging[:, 15:17])) # RR (x, y) position\n",
    "\n",
    "# Target\n",
    "Y = np.array([Y_motion_RR_swinging[:, 2]]).T\n",
    "\n",
    "assert Y.shape[0] == X.shape[0]\n",
    "\n",
    "# Split data into train and test set\n",
    "X_train, X_test, Y_train, Y_test = train_test_split(X, Y, train_size = 0.8, shuffle=True, random_state=100)\n",
    "\n",
    "# Create the model\n",
    "model_rr_relative_swinging_x = LinearRegression()\n",
    "\n",
    "# Fit the model\n",
    "model_rr_relative_swinging_x.fit(X_train, Y_train)\n",
    "\n",
    "# Predict\n",
    "predictions = model_rr_relative_swinging_x.predict(X_test)\n",
    "\n",
    "# Stats\n",
    "print('R2: ', r2_score(predictions, Y_test))\n",
    "print('RMSE: ', np.sqrt(mean_squared_error(Y_test, predictions)))\n",
    "print(\"The lowest error is: \", np.min(np.abs(predictions - Y_test)))\n",
    "print(\"The highest error is: \", np.max(np.abs(predictions - Y_test)))\n",
    "print(\"The avg. error is: \", np.mean(np.abs(predictions - Y_test)))\n",
    "#print(\"Seq of errors (descendant): \\n\", sorted(np.abs(predictions - Y_test).tolist(), reverse=True))"
   ]
  },
  {
   "cell_type": "code",
   "execution_count": 21,
   "id": "798392d7",
   "metadata": {},
   "outputs": [
    {
     "data": {
      "text/plain": [
       "array([[ 5.68535333e-03, -8.88178420e-16, -1.33226763e-15,\n",
       "         2.09583926e-01, -4.44089210e-16,  2.22044605e-16,\n",
       "         1.25314280e+00, -1.07228066e+00,  4.04180408e-01,\n",
       "         1.53673760e+00,  3.04358529e-01,  2.17394677e-01,\n",
       "        -3.55599146e+00, -1.26152628e+00]])"
      ]
     },
     "execution_count": 21,
     "metadata": {},
     "output_type": "execute_result"
    }
   ],
   "source": [
    "model_rr_relative_swinging_x.coef_"
   ]
  },
  {
   "cell_type": "code",
   "execution_count": 22,
   "id": "6c3c2e9f",
   "metadata": {},
   "outputs": [
    {
     "data": {
      "text/plain": [
       "array([-1.09648662])"
      ]
     },
     "execution_count": 22,
     "metadata": {},
     "output_type": "execute_result"
    }
   ],
   "source": [
    "model_rr_relative_swinging_x.intercept_"
   ]
  },
  {
   "cell_type": "code",
   "execution_count": 13,
   "id": "c8246fc8",
   "metadata": {},
   "outputs": [
    {
     "data": {
      "text/plain": [
       "Text(0, 0.5, 'Predictions')"
      ]
     },
     "execution_count": 13,
     "metadata": {},
     "output_type": "execute_result"
    },
    {
     "data": {
      "image/png": "[encoded data removed]",
      "text/plain": [
       "<Figure size 432x288 with 1 Axes>"
      ]
     },
     "metadata": {
      "needs_background": "light"
     },
     "output_type": "display_data"
    }
   ],
   "source": [
    "## The line / model\n",
    "plt.scatter(Y_test, predictions)\n",
    "plt.xlabel(\"Ground truth\")\n",
    "plt.ylabel(\"Predictions\")"
   ]
  },
  {
   "cell_type": "code",
   "execution_count": 14,
   "id": "26aad6e4",
   "metadata": {},
   "outputs": [],
   "source": [
    "#%store model_rr_relative_swinging_x"
   ]
  },
  {
   "cell_type": "code",
   "execution_count": 15,
   "id": "ae450b33",
   "metadata": {},
   "outputs": [],
   "source": [
    "#for idx, prediction in enumerate(predictions):\n",
    "#    print(f'Start: {X_test[idx, 6]}. Groundtruth: {Y_test[idx]}. Predicted: {prediction}')"
   ]
  },
  {
   "cell_type": "code",
   "execution_count": 16,
   "id": "eb1e6321",
   "metadata": {},
   "outputs": [],
   "source": [
    "# Save model\n",
    "#joblib.dump(model_rr_relative_swinging_x, \"/home/itaouil/workspace/aliengo_ws/src/aliengo_navigation/models/protocol3/relative/model_rr_relative_swinging_x.sav\")"
   ]
  },
  {
   "cell_type": "markdown",
   "id": "f4051c33",
   "metadata": {},
   "source": [
    "### Predict RR foot -> y"
   ]
  },
  {
   "cell_type": "code",
   "execution_count": 23,
   "id": "943dbee3",
   "metadata": {},
   "outputs": [
    {
     "name": "stdout",
     "output_type": "stream",
     "text": [
      "R2:  -0.4919680901796024\n",
      "RMSE:  0.006484088404041656\n",
      "The lowest error is:  2.5441467233489057e-06\n",
      "The highest error is:  0.037794240952780306\n",
      "The avg. error is:  0.0045189005531823395\n"
     ]
    }
   ],
   "source": [
    "# Input\n",
    "X = np.hstack((X_motion_RR_swinging[:, :3], # Previous motion command\n",
    "               X_motion_RR_swinging[:, 3:6], # Current motion command\n",
    "               #X_motion_RR_swinging[:, 18:20], # Current CoM (x,y) veloctiy\n",
    "               X_motion_RR_swinging[:, 6:8], # FL (x,y) position\n",
    "               X_motion_RR_swinging[:, 9:11], # FR (x,y) position\n",
    "               X_motion_RR_swinging[:, 12:14], # RL (x,y) position\n",
    "               X_motion_RR_swinging[:, 15:17])) # RR (x, y) position\n",
    "\n",
    "# Target\n",
    "Y = np.array([Y_motion_RR_swinging[:, 3]]).T\n",
    "\n",
    "assert Y.shape[0] == X.shape[0]\n",
    "\n",
    "# Split data into train and test set\n",
    "X_train, X_test, Y_train, Y_test = train_test_split(X, Y, train_size = 0.8, shuffle=True, random_state=100)\n",
    "\n",
    "# Create the model\n",
    "model_rr_relative_swinging_y = LinearRegression()\n",
    "\n",
    "# Fit the model\n",
    "model_rr_relative_swinging_y.fit(X_train, Y_train)\n",
    "\n",
    "# Predict\n",
    "predictions = model_rr_relative_swinging_y.predict(X_test)\n",
    "\n",
    "# Stats\n",
    "print('R2: ', r2_score(predictions, Y_test))\n",
    "print('RMSE: ', np.sqrt(mean_squared_error(Y_test, predictions)))\n",
    "print(\"The lowest error is: \", np.min(np.abs(predictions - Y_test)))\n",
    "print(\"The highest error is: \", np.max(np.abs(predictions - Y_test)))\n",
    "print(\"The avg. error is: \", np.mean(np.abs(predictions - Y_test)))\n",
    "#print(\"Seq of errors (descendant): \\n\", sorted(np.abs(predictions - Y_test).tolist(), reverse=True))"
   ]
  },
  {
   "cell_type": "code",
   "execution_count": 24,
   "id": "969cce4d",
   "metadata": {},
   "outputs": [
    {
     "data": {
      "text/plain": [
       "array([[ 1.98410606e-03, -4.85722573e-17, -4.44089210e-16,\n",
       "         5.30420523e-03,  1.11022302e-16,  5.55111512e-17,\n",
       "         2.77089864e-01, -7.28364830e-01,  5.17911377e-02,\n",
       "         3.88363660e-01, -8.04528198e-02,  3.29369386e-01,\n",
       "        -4.18785721e-01, -6.47946453e-01]])"
      ]
     },
     "execution_count": 24,
     "metadata": {},
     "output_type": "execute_result"
    }
   ],
   "source": [
    "model_rr_relative_swinging_y.coef_"
   ]
  },
  {
   "cell_type": "code",
   "execution_count": 25,
   "id": "32de00c7",
   "metadata": {},
   "outputs": [
    {
     "data": {
      "text/plain": [
       "array([-0.19201532])"
      ]
     },
     "execution_count": 25,
     "metadata": {},
     "output_type": "execute_result"
    }
   ],
   "source": [
    "model_rr_relative_swinging_y.intercept_"
   ]
  },
  {
   "cell_type": "code",
   "execution_count": 20,
   "id": "a2230557",
   "metadata": {},
   "outputs": [
    {
     "data": {
      "text/plain": [
       "Text(0, 0.5, 'Predictions')"
      ]
     },
     "execution_count": 20,
     "metadata": {},
     "output_type": "execute_result"
    },
    {
     "data": {
      "image/png": "[encoded data removed]",
      "text/plain": [
       "<Figure size 432x288 with 1 Axes>"
      ]
     },
     "metadata": {
      "needs_background": "light"
     },
     "output_type": "display_data"
    }
   ],
   "source": [
    "## The line / model\n",
    "plt.scatter(Y_test, predictions)\n",
    "plt.xlabel(\"Ground truth\")\n",
    "plt.ylabel(\"Predictions\")"
   ]
  },
  {
   "cell_type": "code",
   "execution_count": 21,
   "id": "b8512e4c",
   "metadata": {},
   "outputs": [],
   "source": [
    "#for idx, prediction in enumerate(predictions):\n",
    "#    print(f'Input: {X_test[idx]}. Groundtruth: {Y_test[idx]}. Predicted: {prediction}')"
   ]
  },
  {
   "cell_type": "code",
   "execution_count": null,
   "id": "cdb2b711-99d9-498d-a0e5-aa72b0d16d49",
   "metadata": {},
   "outputs": [],
   "source": []
  }
 ],
 "metadata": {
  "kernelspec": {
   "display_name": "Python 3 (ipykernel)",
   "language": "python",
   "name": "python3"
  },
  "language_info": {
   "codemirror_mode": {
    "name": "ipython",
    "version": 3
   },
   "file_extension": ".py",
   "mimetype": "text/x-python",
   "name": "python",
   "nbconvert_exporter": "python",
   "pygments_lexer": "ipython3",
   "version": "3.8.10"
  }
 },
 "nbformat": 4,
 "nbformat_minor": 5
}
