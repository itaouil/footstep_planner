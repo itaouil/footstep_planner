{
 "cells": [
  {
   "cell_type": "code",
   "execution_count": 1,
   "id": "7396057a",
   "metadata": {},
   "outputs": [],
   "source": [
    "#!/usr/bin/env python3.6\n",
    "# -*- coding: utf-8 -*-"
   ]
  },
  {
   "cell_type": "code",
   "execution_count": 2,
   "id": "3685f3b4",
   "metadata": {},
   "outputs": [],
   "source": [
    "# Imports\n",
    "import sys\n",
    "import joblib\n",
    "import numpy as np\n",
    "from math import atan2\n",
    "from matplotlib import animation\n",
    "from IPython.display import HTML\n",
    "from matplotlib import pyplot as plt\n",
    "import mpl_toolkits.mplot3d.axes3d as p3"
   ]
  },
  {
   "cell_type": "code",
   "execution_count": 3,
   "id": "624b9d07",
   "metadata": {},
   "outputs": [],
   "source": [
    "#np.random.seed(20)\n",
    "np.set_printoptions(threshold=sys.maxsize)"
   ]
  },
  {
   "cell_type": "code",
   "execution_count": 4,
   "id": "44f22e21",
   "metadata": {},
   "outputs": [],
   "source": [
    "%matplotlib inline"
   ]
  },
  {
   "cell_type": "code",
   "execution_count": 5,
   "id": "9b734bb8",
   "metadata": {},
   "outputs": [
    {
     "name": "stdout",
     "output_type": "stream",
     "text": [
      "(17248, 24)\n",
      "(17248, 3)\n"
     ]
    }
   ],
   "source": [
    "%store -r X_motion_CoM_acceleration\n",
    "%store -r Y_motion_CoM_acceleration\n",
    "print(X_motion_CoM_acceleration.shape)\n",
    "print(Y_motion_CoM_acceleration.shape)"
   ]
  },
  {
   "cell_type": "code",
   "execution_count": 6,
   "id": "45886539",
   "metadata": {},
   "outputs": [
    {
     "data": {
      "text/plain": [
       "array([0.1, 0.0, 0.0, 0.1, 0.0, 0.0, 0.09097510576248169,\n",
       "       0.015695713460445404, 0.03546101972460747, -0.07442539185285568,\n",
       "       0.2557870149612427, 0.1313159465789795, -0.3803728222846985,\n",
       "       0.2226693332195282, -0.12780198454856873, -0.3819510042667389,\n",
       "       -0.2751573324203491, 0.1259901523590088, -0.38960644602775574,\n",
       "       -0.2416217029094696, -0.1263108104467392, -0.38173601031303406,\n",
       "       False, True], dtype=object)"
      ]
     },
     "execution_count": 6,
     "metadata": {},
     "output_type": "execute_result"
    }
   ],
   "source": [
    "X_motion_CoM_acceleration[0]"
   ]
  },
  {
   "cell_type": "code",
   "execution_count": 7,
   "id": "067a916e",
   "metadata": {},
   "outputs": [
    {
     "data": {
      "text/plain": [
       "array([0.026377092776805316, -0.0005811629410078806,\n",
       "       -0.0013480793902780341], dtype=object)"
      ]
     },
     "execution_count": 7,
     "metadata": {},
     "output_type": "execute_result"
    }
   ],
   "source": [
    "Y_motion_CoM_acceleration[0]"
   ]
  },
  {
   "cell_type": "markdown",
   "id": "d321ce72",
   "metadata": {},
   "source": [
    "# Multivariate Linear Regression (CoM Prediction)"
   ]
  },
  {
   "cell_type": "code",
   "execution_count": 8,
   "id": "2de76309",
   "metadata": {},
   "outputs": [],
   "source": [
    "import sklearn\n",
    "from sklearn import metrics\n",
    "from sklearn.feature_selection import RFE\n",
    "from sklearn.model_selection import KFold\n",
    "from sklearn.linear_model import LinearRegression\n",
    "from sklearn.model_selection import train_test_split\n",
    "from sklearn.preprocessing import PolynomialFeatures \n",
    "from sklearn.model_selection import cross_val_score, cross_val_predict\n",
    "from sklearn.metrics import mean_squared_error, mean_absolute_error, r2_score"
   ]
  },
  {
   "cell_type": "code",
   "execution_count": 9,
   "id": "aa045adf",
   "metadata": {},
   "outputs": [
    {
     "name": "stdout",
     "output_type": "stream",
     "text": [
      "(8610, 24)\n",
      "(8610, 3)\n"
     ]
    }
   ],
   "source": [
    "idx_fr_rl_swinging = np.where(X_motion_CoM_acceleration[:, -1] == 1)[0]\n",
    "X_motion_CoM_acceleration_FR_RL = X_motion_CoM_acceleration[idx_fr_rl_swinging]\n",
    "Y_motion_CoM_acceleration_FR_RL = Y_motion_CoM_acceleration[idx_fr_rl_swinging]\n",
    "print(X_motion_CoM_acceleration_FR_RL.shape)\n",
    "print(Y_motion_CoM_acceleration_FR_RL.shape)"
   ]
  },
  {
   "cell_type": "markdown",
   "id": "ee2624d4",
   "metadata": {},
   "source": [
    "## Predict CoM (x) movement"
   ]
  },
  {
   "cell_type": "code",
   "execution_count": 10,
   "id": "0a9e4803",
   "metadata": {},
   "outputs": [
    {
     "data": {
      "text/plain": [
       "array([0.1, 0.0, 0.0, 0.1, 0.0, 0.0, 0.09097510576248169,\n",
       "       0.015695713460445404, 0.03546101972460747, -0.07442539185285568,\n",
       "       0.2557870149612427, 0.1313159465789795, -0.3803728222846985,\n",
       "       0.2226693332195282, -0.12780198454856873, -0.3819510042667389,\n",
       "       -0.2751573324203491, 0.1259901523590088, -0.38960644602775574,\n",
       "       -0.2416217029094696, -0.1263108104467392, -0.38173601031303406,\n",
       "       False, True], dtype=object)"
      ]
     },
     "execution_count": 10,
     "metadata": {},
     "output_type": "execute_result"
    }
   ],
   "source": [
    "X_motion_CoM_acceleration_FR_RL[0, :]"
   ]
  },
  {
   "cell_type": "code",
   "execution_count": 11,
   "id": "d55c6716",
   "metadata": {},
   "outputs": [
    {
     "data": {
      "text/plain": [
       "array([0.026377092776805316, -0.0005811629410078806,\n",
       "       -0.0013480793902780341], dtype=object)"
      ]
     },
     "execution_count": 11,
     "metadata": {},
     "output_type": "execute_result"
    }
   ],
   "source": [
    "Y_motion_CoM_acceleration_FR_RL[0, :]"
   ]
  },
  {
   "cell_type": "markdown",
   "id": "3a6f2540",
   "metadata": {},
   "source": [
    "### Linear Regression"
   ]
  },
  {
   "cell_type": "code",
   "execution_count": 12,
   "id": "b129288c-f364-4a57-8463-62fe2ce95939",
   "metadata": {},
   "outputs": [],
   "source": [
    "def find_best_model(X, Y, runs=1000):\n",
    "    best_model = None\n",
    "    lowest_error = 100\n",
    "    best_Xtr, best_Xte, best_Ytr, best_Yte = None, None, None, None\n",
    "    \n",
    "    for _ in range(runs):\n",
    "        X_train, X_test, Y_train, Y_test = train_test_split(X, Y, train_size = 0.9, shuffle=True)\n",
    "        \n",
    "        model = LinearRegression()\n",
    "        model.fit(X_train, Y_train)\n",
    "\n",
    "        predictions = model.predict(X_test)\n",
    "        error = np.max(np.abs(predictions - Y_test))\n",
    "\n",
    "        if error < lowest_error:\n",
    "            best_model = model\n",
    "            lowest_error = error\n",
    "            best_Xtr, best_Xte, best_Ytr, best_Yte = X_train, X_test, Y_train, Y_test\n",
    "\n",
    "    # Stats\n",
    "    predictions = best_model.predict(best_Xte)\n",
    "    print('R2: ', r2_score(predictions, best_Yte))\n",
    "    print('RMSE: ', np.sqrt(mean_squared_error(best_Yte, predictions)))\n",
    "    print(\"The lowest error is: \", np.min(np.abs(predictions - best_Yte)))\n",
    "    print(\"The highest error is: \", np.max(np.abs(predictions - best_Yte)))\n",
    "    print(\"The avg. error is: \", np.mean(np.abs(predictions - best_Yte)))\n",
    "    \n",
    "    return best_Xte, best_Yte, predictions, best_model"
   ]
  },
  {
   "cell_type": "code",
   "execution_count": 13,
   "id": "c19cae26-5b62-4311-9b12-c47726058f32",
   "metadata": {},
   "outputs": [
    {
     "name": "stdout",
     "output_type": "stream",
     "text": [
      "R2:  0.9876808539604061\n",
      "RMSE:  0.009831804649368982\n",
      "The lowest error is:  2.0921257031930596e-06\n",
      "The highest error is:  0.03940361139715848\n",
      "The avg. error is:  0.00691539588469112\n"
     ]
    }
   ],
   "source": [
    "# Input\n",
    "X = np.hstack((X_motion_CoM_acceleration_FR_RL[:, 6:7], # actual velocity\n",
    "               X_motion_CoM_acceleration_FR_RL[:, 3:4], # reference velocity\n",
    "               X_motion_CoM_acceleration_FR_RL[:, 10:12], # FL position\n",
    "               X_motion_CoM_acceleration_FR_RL[:, 13:15], # FR position\n",
    "               X_motion_CoM_acceleration_FR_RL[:, 16:18], # RL position\n",
    "               X_motion_CoM_acceleration_FR_RL[:, 19:21])) # RR position\n",
    "\n",
    "# Labels\n",
    "Y = np.array([Y_motion_CoM_acceleration_FR_RL[:, 0]]).T\n",
    "\n",
    "assert Y.shape[0] == X.shape[0]\n",
    "\n",
    "# Split dataset and fit best model\n",
    "X_test, Y_test, predictions, model_fr_com_x = find_best_model(X, Y, runs=5000)"
   ]
  },
  {
   "cell_type": "code",
   "execution_count": 14,
   "id": "5f603ab7",
   "metadata": {},
   "outputs": [
    {
     "data": {
      "text/plain": [
       "array([[ 0.21180696,  0.08733433,  0.39375494,  0.20741955, -0.45455263,\n",
       "         0.29056373,  0.26806324, -0.04667911, -0.66246393, -0.27890029]])"
      ]
     },
     "execution_count": 14,
     "metadata": {},
     "output_type": "execute_result"
    }
   ],
   "source": [
    "model_fr_com_x.coef_"
   ]
  },
  {
   "cell_type": "code",
   "execution_count": 15,
   "id": "2e7d17cd",
   "metadata": {},
   "outputs": [
    {
     "data": {
      "text/plain": [
       "array([-0.10674002])"
      ]
     },
     "execution_count": 15,
     "metadata": {},
     "output_type": "execute_result"
    }
   ],
   "source": [
    "model_fr_com_x.intercept_"
   ]
  },
  {
   "cell_type": "code",
   "execution_count": 16,
   "id": "f4a78f7b",
   "metadata": {},
   "outputs": [
    {
     "data": {
      "text/plain": [
       "Text(0, 0.5, 'Predictions')"
      ]
     },
     "execution_count": 16,
     "metadata": {},
     "output_type": "execute_result"
    },
    {
     "data": {
      "image/png": "[encoded data removed]",
      "text/plain": [
       "<Figure size 640x480 with 1 Axes>"
      ]
     },
     "metadata": {},
     "output_type": "display_data"
    }
   ],
   "source": [
    "## The line / model\n",
    "plt.scatter(Y_test, predictions)\n",
    "plt.xlabel(\"Groundtruth\")\n",
    "plt.ylabel(\"Predictions\")"
   ]
  },
  {
   "cell_type": "code",
   "execution_count": 18,
   "id": "463b8c66",
   "metadata": {},
   "outputs": [],
   "source": [
    "#for idx, prediction in enumerate(predictions):\n",
    "#    print(f'Command: {X_test[idx, :3]}. Groundtruth: {Y_test[idx]}. Predicted: {prediction}')"
   ]
  },
  {
   "cell_type": "markdown",
   "id": "b5d4df94",
   "metadata": {},
   "source": [
    "## Predict CoM -> y"
   ]
  },
  {
   "cell_type": "markdown",
   "id": "53333162",
   "metadata": {},
   "source": [
    "### Linear Regression"
   ]
  },
  {
   "cell_type": "code",
   "execution_count": 17,
   "id": "12f3e7c5",
   "metadata": {},
   "outputs": [
    {
     "name": "stdout",
     "output_type": "stream",
     "text": [
      "R2:  0.4871840544322561\n",
      "RMSE:  0.0033264301870553014\n",
      "The lowest error is:  4.461573350063915e-06\n",
      "The highest error is:  0.010580040209905623\n",
      "The avg. error is:  0.0026052156753530835\n"
     ]
    }
   ],
   "source": [
    "# Input\n",
    "X = np.hstack((X_motion_CoM_acceleration_FR_RL[:, 6:7], # actual velocity\n",
    "               X_motion_CoM_acceleration_FR_RL[:, 3:4], # reference velocity\n",
    "               X_motion_CoM_acceleration_FR_RL[:, 10:12], # FL position\n",
    "               X_motion_CoM_acceleration_FR_RL[:, 13:15], # FR position\n",
    "               X_motion_CoM_acceleration_FR_RL[:, 16:18], # RL position\n",
    "               X_motion_CoM_acceleration_FR_RL[:, 19:21])) # RR position\n",
    "\n",
    "# Labels\n",
    "Y = np.array([Y_motion_CoM_acceleration_FR_RL[:, 1]]).T\n",
    "\n",
    "assert Y.shape[0] == X.shape[0]\n",
    "\n",
    "# Split dataset and fit best model\n",
    "X_test, Y_test, predictions, model_fr_com_y = find_best_model(X, Y, runs=5000)"
   ]
  },
  {
   "cell_type": "code",
   "execution_count": 18,
   "id": "627155e6",
   "metadata": {},
   "outputs": [
    {
     "data": {
      "text/plain": [
       "array([[-0.04381483,  0.0099718 , -0.01461114,  0.10550614, -0.09817355,\n",
       "        -0.37950534,  0.03110533, -0.31907396,  0.23638129,  0.26928122]])"
      ]
     },
     "execution_count": 18,
     "metadata": {},
     "output_type": "execute_result"
    }
   ],
   "source": [
    "model_fr_com_y.coef_"
   ]
  },
  {
   "cell_type": "code",
   "execution_count": 19,
   "id": "546a4b38",
   "metadata": {},
   "outputs": [
    {
     "data": {
      "text/plain": [
       "array([0.10893133])"
      ]
     },
     "execution_count": 19,
     "metadata": {},
     "output_type": "execute_result"
    }
   ],
   "source": [
    "model_fr_com_y.intercept_"
   ]
  },
  {
   "cell_type": "code",
   "execution_count": 20,
   "id": "a0d078ef",
   "metadata": {},
   "outputs": [
    {
     "data": {
      "text/plain": [
       "Text(0, 0.5, 'Predictions')"
      ]
     },
     "execution_count": 20,
     "metadata": {},
     "output_type": "execute_result"
    },
    {
     "data": {
      "image/png": "[encoded data removed]",
      "text/plain": [
       "<Figure size 640x480 with 1 Axes>"
      ]
     },
     "metadata": {},
     "output_type": "display_data"
    }
   ],
   "source": [
    "## The line / model\n",
    "plt.scatter(Y_test, predictions)\n",
    "plt.xlabel(\"Groundtruth\")\n",
    "plt.ylabel(\"Predictions\")"
   ]
  },
  {
   "cell_type": "code",
   "execution_count": 21,
   "id": "26433625",
   "metadata": {},
   "outputs": [],
   "source": [
    "#for idx, prediction in enumerate(predictions):\n",
    "#    print(f'Groundtruth: {Y_test[idx]}. Predicted: {prediction}')"
   ]
  }
 ],
 "metadata": {
  "kernelspec": {
   "display_name": "Python 3 (ipykernel)",
   "language": "python",
   "name": "python3"
  },
  "language_info": {
   "codemirror_mode": {
    "name": "ipython",
    "version": 3
   },
   "file_extension": ".py",
   "mimetype": "text/x-python",
   "name": "python",
   "nbconvert_exporter": "python",
   "pygments_lexer": "ipython3",
   "version": "3.10.6"
  }
 },
 "nbformat": 4,
 "nbformat_minor": 5
}
