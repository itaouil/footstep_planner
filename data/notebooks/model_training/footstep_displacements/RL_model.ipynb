{
 "cells": [
  {
   "cell_type": "code",
   "execution_count": 1,
   "id": "d82c6d73",
   "metadata": {},
   "outputs": [],
   "source": [
    "#!/usr/bin/env python3.6\n",
    "# -*- coding: utf-8 -*-"
   ]
  },
  {
   "cell_type": "code",
   "execution_count": 2,
   "id": "5ddbaff9",
   "metadata": {},
   "outputs": [],
   "source": [
    "# Imports\n",
    "import sys\n",
    "import joblib\n",
    "import numpy as np\n",
    "from matplotlib import animation\n",
    "from IPython.display import HTML\n",
    "from matplotlib import pyplot as plt\n",
    "import mpl_toolkits.mplot3d.axes3d as p3"
   ]
  },
  {
   "cell_type": "code",
   "execution_count": 3,
   "id": "579a00cc",
   "metadata": {},
   "outputs": [],
   "source": [
    "#np.random.seed(20)\n",
    "np.set_printoptions(threshold=sys.maxsize)"
   ]
  },
  {
   "cell_type": "code",
   "execution_count": 4,
   "id": "69902732",
   "metadata": {},
   "outputs": [],
   "source": [
    "%matplotlib inline"
   ]
  },
  {
   "cell_type": "code",
   "execution_count": 5,
   "id": "371096bb",
   "metadata": {},
   "outputs": [
    {
     "name": "stdout",
     "output_type": "stream",
     "text": [
      "(17248, 24)\n",
      "(17248, 4)\n"
     ]
    }
   ],
   "source": [
    "%store -r X_footsteps_accelerations_absolute\n",
    "%store -r Y_footsteps_accelerations_absolute\n",
    "print(X_footsteps_accelerations_absolute.shape)\n",
    "print(Y_footsteps_accelerations_absolute.shape)"
   ]
  },
  {
   "cell_type": "markdown",
   "id": "e018f2cc",
   "metadata": {},
   "source": [
    "# Multivariate Linear Regression (Foot prediction)"
   ]
  },
  {
   "cell_type": "code",
   "execution_count": 6,
   "id": "57ea6b81",
   "metadata": {},
   "outputs": [],
   "source": [
    "import sklearn\n",
    "from sklearn import metrics\n",
    "from sklearn.feature_selection import RFE\n",
    "from sklearn.model_selection import KFold\n",
    "from sklearn.linear_model import LinearRegression\n",
    "from sklearn.model_selection import train_test_split\n",
    "from sklearn.preprocessing import PolynomialFeatures \n",
    "from sklearn.model_selection import cross_val_score, cross_val_predict\n",
    "from sklearn.metrics import mean_squared_error, mean_absolute_error, r2_score"
   ]
  },
  {
   "cell_type": "code",
   "execution_count": 7,
   "id": "e22da2b5",
   "metadata": {},
   "outputs": [],
   "source": [
    "# Entries where RL swings\n",
    "idxs = np.where(X_footsteps_accelerations_absolute[:, -1] == 1)[0]\n",
    "X_footsteps_accelerations_absolute_RL_swing = X_footsteps_accelerations_absolute[idxs]\n",
    "Y_footsteps_accelerations_absolute_RL_swing = Y_footsteps_accelerations_absolute[idxs]"
   ]
  },
  {
   "cell_type": "markdown",
   "id": "fd9b0a4a",
   "metadata": {},
   "source": [
    "## Predict RL foot -> x"
   ]
  },
  {
   "cell_type": "code",
   "execution_count": 8,
   "id": "75f4a856",
   "metadata": {},
   "outputs": [
    {
     "data": {
      "text/plain": [
       "array([ 0.1       ,  0.        ,  0.        ,  0.1       ,  0.        ,\n",
       "        0.        ,  0.09097511,  0.01569571,  0.03546102, -0.07442539,\n",
       "        0.25578701,  0.13131595, -0.38037282,  0.22266933, -0.12780198,\n",
       "       -0.381951  , -0.27515733,  0.12599015, -0.38960645, -0.2416217 ,\n",
       "       -0.12631081, -0.38173601,  0.        ,  1.        ])"
      ]
     },
     "execution_count": 8,
     "metadata": {},
     "output_type": "execute_result"
    }
   ],
   "source": [
    "X_footsteps_accelerations_absolute_RL_swing[0, :]"
   ]
  },
  {
   "cell_type": "code",
   "execution_count": 9,
   "id": "9eb4bbb8",
   "metadata": {},
   "outputs": [
    {
     "data": {
      "text/plain": [
       "array([ 0.1       ,  0.        ,  0.        ,  0.1       ,  0.        ,\n",
       "        0.        ,  0.09097511,  0.01569571,  0.03546102, -0.07442539,\n",
       "        0.25578701,  0.13131595, -0.38037282,  0.22266933, -0.12780198,\n",
       "       -0.381951  , -0.27515733,  0.12599015, -0.38960645, -0.2416217 ,\n",
       "       -0.12631081, -0.38173601,  0.        ,  1.        ])"
      ]
     },
     "execution_count": 9,
     "metadata": {},
     "output_type": "execute_result"
    }
   ],
   "source": [
    "X_footsteps_accelerations_absolute_RL_swing[0, :]"
   ]
  },
  {
   "cell_type": "markdown",
   "id": "ddc72bf5",
   "metadata": {},
   "source": [
    "### Linear Regression"
   ]
  },
  {
   "cell_type": "code",
   "execution_count": 10,
   "id": "7387e871-7f46-4720-901a-fd3ec71eed3c",
   "metadata": {},
   "outputs": [],
   "source": [
    "def find_best_model(X, Y, runs=1000):\n",
    "    best_model = None\n",
    "    lowest_error = 100\n",
    "    best_Xtr, best_Xte, best_Ytr, best_Yte = None, None, None, None\n",
    "    \n",
    "    for _ in range(runs):\n",
    "        X_train, X_test, Y_train, Y_test = train_test_split(X, Y, train_size = 0.9, shuffle=True)\n",
    "        \n",
    "        model = LinearRegression()\n",
    "        model.fit(X_train, Y_train)\n",
    "\n",
    "        predictions = model.predict(X_test)\n",
    "        error = np.max(np.abs(predictions - Y_test))\n",
    "\n",
    "        if error < lowest_error:\n",
    "            best_model = model\n",
    "            lowest_error = error\n",
    "            best_Xtr, best_Xte, best_Ytr, best_Yte = X_train, X_test, Y_train, Y_test\n",
    "\n",
    "    # Stats\n",
    "    predictions = best_model.predict(best_Xte)\n",
    "    print('R2: ', r2_score(predictions, best_Yte))\n",
    "    print('RMSE: ', np.sqrt(mean_squared_error(best_Yte, predictions)))\n",
    "    print(\"The lowest error is: \", np.min(np.abs(predictions - best_Yte)))\n",
    "    print(\"The highest error is: \", np.max(np.abs(predictions - best_Yte)))\n",
    "    print(\"The avg. error is: \", np.mean(np.abs(predictions - best_Yte)))\n",
    "    \n",
    "    return best_Xte, best_Yte, predictions, best_model"
   ]
  },
  {
   "cell_type": "code",
   "execution_count": 11,
   "id": "242563ec-55fb-4448-806e-1d7f62c40a9d",
   "metadata": {},
   "outputs": [
    {
     "name": "stdout",
     "output_type": "stream",
     "text": [
      "R2:  0.9926168500931712\n",
      "RMSE:  0.015887500809522517\n",
      "The lowest error is:  2.729668253417805e-06\n",
      "The highest error is:  0.061129480678524306\n",
      "The avg. error is:  0.01174882322185178\n"
     ]
    }
   ],
   "source": [
    "# Input\n",
    "X = np.hstack((X_footsteps_accelerations_absolute_RL_swing[:, 6:7], # actual velocity\n",
    "               X_footsteps_accelerations_absolute_RL_swing[:, 3:4], # refernce velocity\n",
    "               X_footsteps_accelerations_absolute_RL_swing[:, 10:12], # FL position\n",
    "               X_footsteps_accelerations_absolute_RL_swing[:, 13:15], # FR position\n",
    "               X_footsteps_accelerations_absolute_RL_swing[:, 16:18], # RL position\n",
    "               X_footsteps_accelerations_absolute_RL_swing[:, 19:21])) # RR position\n",
    "\n",
    "# Labels\n",
    "Y = np.array([Y_footsteps_accelerations_absolute_RL_swing[:, 0]]).T\n",
    "\n",
    "assert Y.shape[0] == X.shape[0]\n",
    "\n",
    "# Split dataset and fit best model\n",
    "X_test, Y_test, predictions, model_rl_relative_swinging_x = find_best_model(X, Y, runs=5000)"
   ]
  },
  {
   "cell_type": "code",
   "execution_count": 12,
   "id": "eba3f02b",
   "metadata": {},
   "outputs": [
    {
     "data": {
      "text/plain": [
       "array([[ 0.37867129,  0.15654508,  0.44412706,  0.31105931, -1.64181971,\n",
       "         0.33225906,  0.44500254,  0.10838261, -1.20622499, -0.88374732]])"
      ]
     },
     "execution_count": 12,
     "metadata": {},
     "output_type": "execute_result"
    }
   ],
   "source": [
    "model_rl_relative_swinging_x.coef_"
   ]
  },
  {
   "cell_type": "code",
   "execution_count": 13,
   "id": "1cb454af",
   "metadata": {},
   "outputs": [
    {
     "data": {
      "text/plain": [
       "array([-0.03230986])"
      ]
     },
     "execution_count": 13,
     "metadata": {},
     "output_type": "execute_result"
    }
   ],
   "source": [
    "model_rl_relative_swinging_x.intercept_"
   ]
  },
  {
   "cell_type": "code",
   "execution_count": 14,
   "id": "b21719c3",
   "metadata": {},
   "outputs": [
    {
     "data": {
      "text/plain": [
       "Text(0, 0.5, 'Predictions')"
      ]
     },
     "execution_count": 14,
     "metadata": {},
     "output_type": "execute_result"
    },
    {
     "data": {
      "image/png": "[encoded data removed]",
      "text/plain": [
       "<Figure size 640x480 with 1 Axes>"
      ]
     },
     "metadata": {},
     "output_type": "display_data"
    }
   ],
   "source": [
    "## The line / model\n",
    "plt.scatter(Y_test, predictions)\n",
    "plt.xlabel(\"Ground truth\")\n",
    "plt.ylabel(\"Predictions\")"
   ]
  },
  {
   "cell_type": "code",
   "execution_count": 15,
   "id": "b0bbc650",
   "metadata": {},
   "outputs": [],
   "source": [
    "#for idx, prediction in enumerate(predictions):\n",
    "#    print(f'Start: {X_test[idx, 6]}. Groundtruth: {Y_test[idx]}. Predicted: {prediction}')"
   ]
  },
  {
   "cell_type": "markdown",
   "id": "f1e4489e",
   "metadata": {},
   "source": [
    "### Predict RL foot -> y"
   ]
  },
  {
   "cell_type": "code",
   "execution_count": 15,
   "id": "6ed0746d",
   "metadata": {},
   "outputs": [
    {
     "name": "stdout",
     "output_type": "stream",
     "text": [
      "R2:  0.8973902182540656\n",
      "RMSE:  0.008181404165110763\n",
      "The lowest error is:  8.556922569749603e-07\n",
      "The highest error is:  0.027497991030261647\n",
      "The avg. error is:  0.006251981537720461\n"
     ]
    }
   ],
   "source": [
    "# Input\n",
    "X = np.hstack((X_footsteps_accelerations_absolute_RL_swing[:, 6:7], # actual velocity\n",
    "               X_footsteps_accelerations_absolute_RL_swing[:, 3:4], # refernce velocity\n",
    "               X_footsteps_accelerations_absolute_RL_swing[:, 10:12], # FL position\n",
    "               X_footsteps_accelerations_absolute_RL_swing[:, 13:15], # FR position\n",
    "               X_footsteps_accelerations_absolute_RL_swing[:, 16:18], # RL position\n",
    "               X_footsteps_accelerations_absolute_RL_swing[:, 19:21])) # RR position\n",
    "\n",
    "# Labels\n",
    "Y = np.array([Y_footsteps_accelerations_absolute_RL_swing[:, 1]]).T\n",
    "\n",
    "assert Y.shape[0] == X.shape[0]\n",
    "\n",
    "# Split dataset and fit best model\n",
    "X_test, Y_test, predictions, model_rl_relative_swinging_y = find_best_model(X, Y, runs=5000)"
   ]
  },
  {
   "cell_type": "code",
   "execution_count": 16,
   "id": "78e41b3b",
   "metadata": {},
   "outputs": [
    {
     "data": {
      "text/plain": [
       "array([[-0.07804146,  0.0147216 , -0.52369991,  0.43705526, -0.39184752,\n",
       "        -1.48769178,  0.31375446, -0.28275444,  0.86634309,  0.59015206]])"
      ]
     },
     "execution_count": 16,
     "metadata": {},
     "output_type": "execute_result"
    }
   ],
   "source": [
    "model_rl_relative_swinging_y.coef_"
   ]
  },
  {
   "cell_type": "code",
   "execution_count": 17,
   "id": "769e23d1",
   "metadata": {},
   "outputs": [
    {
     "data": {
      "text/plain": [
       "array([0.38787695])"
      ]
     },
     "execution_count": 17,
     "metadata": {},
     "output_type": "execute_result"
    }
   ],
   "source": [
    "model_rl_relative_swinging_y.intercept_"
   ]
  },
  {
   "cell_type": "code",
   "execution_count": 18,
   "id": "2de8ba20",
   "metadata": {},
   "outputs": [
    {
     "data": {
      "text/plain": [
       "Text(0, 0.5, 'Predictions')"
      ]
     },
     "execution_count": 18,
     "metadata": {},
     "output_type": "execute_result"
    },
    {
     "data": {
      "image/png": "[encoded data removed]",
      "text/plain": [
       "<Figure size 640x480 with 1 Axes>"
      ]
     },
     "metadata": {},
     "output_type": "display_data"
    }
   ],
   "source": [
    "## The line / model\n",
    "plt.scatter(Y_test, predictions)\n",
    "plt.xlabel(\"Ground truth\")\n",
    "plt.ylabel(\"Predictions\")"
   ]
  },
  {
   "cell_type": "code",
   "execution_count": 22,
   "id": "bc45cfcb",
   "metadata": {},
   "outputs": [],
   "source": [
    "#for idx, prediction in enumerate(predictions):\n",
    "#    print(f'Groundtruth: {Y_test[idx]}. Predicted: {prediction}')"
   ]
  }
 ],
 "metadata": {
  "kernelspec": {
   "display_name": "Python 3 (ipykernel)",
   "language": "python",
   "name": "python3"
  },
  "language_info": {
   "codemirror_mode": {
    "name": "ipython",
    "version": 3
   },
   "file_extension": ".py",
   "mimetype": "text/x-python",
   "name": "python",
   "nbconvert_exporter": "python",
   "pygments_lexer": "ipython3",
   "version": "3.10.6"
  }
 },
 "nbformat": 4,
 "nbformat_minor": 5
}
