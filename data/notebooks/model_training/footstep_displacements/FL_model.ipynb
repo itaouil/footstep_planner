{
 "cells": [
  {
   "cell_type": "code",
   "execution_count": 1,
   "id": "584b273f",
   "metadata": {},
   "outputs": [],
   "source": [
    "#!/usr/bin/env python3.6\n",
    "# -*- coding: utf-8 -*-"
   ]
  },
  {
   "cell_type": "code",
   "execution_count": 2,
   "id": "b186306a",
   "metadata": {},
   "outputs": [],
   "source": [
    "# Imports\n",
    "import sys\n",
    "import joblib\n",
    "import numpy as np\n",
    "from matplotlib import animation\n",
    "from IPython.display import HTML\n",
    "from matplotlib import pyplot as plt\n",
    "import mpl_toolkits.mplot3d.axes3d as p3"
   ]
  },
  {
   "cell_type": "code",
   "execution_count": 3,
   "id": "3eccf154",
   "metadata": {},
   "outputs": [],
   "source": [
    "#np.random.seed(20)\n",
    "np.set_printoptions(threshold=sys.maxsize)"
   ]
  },
  {
   "cell_type": "code",
   "execution_count": 4,
   "id": "323ba11e",
   "metadata": {},
   "outputs": [],
   "source": [
    "%matplotlib inline"
   ]
  },
  {
   "cell_type": "code",
   "execution_count": 5,
   "id": "3b293490",
   "metadata": {},
   "outputs": [
    {
     "name": "stdout",
     "output_type": "stream",
     "text": [
      "(17248, 24)\n",
      "(17248, 4)\n"
     ]
    }
   ],
   "source": [
    "%store -r X_footsteps_accelerations_absolute\n",
    "%store -r Y_footsteps_accelerations_absolute\n",
    "print(X_footsteps_accelerations_absolute.shape)\n",
    "print(Y_footsteps_accelerations_absolute.shape)"
   ]
  },
  {
   "cell_type": "code",
   "execution_count": 6,
   "id": "e876a774",
   "metadata": {},
   "outputs": [
    {
     "data": {
      "text/plain": [
       "-0.24095147187073118"
      ]
     },
     "execution_count": 6,
     "metadata": {},
     "output_type": "execute_result"
    }
   ],
   "source": [
    "min(Y_footsteps_accelerations_absolute[:, 0])"
   ]
  },
  {
   "cell_type": "code",
   "execution_count": 7,
   "id": "4e9452c9",
   "metadata": {},
   "outputs": [
    {
     "data": {
      "text/plain": [
       "0.6532000822579914"
      ]
     },
     "execution_count": 7,
     "metadata": {},
     "output_type": "execute_result"
    }
   ],
   "source": [
    "max(Y_footsteps_accelerations_absolute[:, 0])"
   ]
  },
  {
   "cell_type": "markdown",
   "id": "4c993011",
   "metadata": {},
   "source": [
    "# Multivariate Linear Regression (Foot prediction)"
   ]
  },
  {
   "cell_type": "code",
   "execution_count": 8,
   "id": "011f469c",
   "metadata": {},
   "outputs": [],
   "source": [
    "import sklearn\n",
    "from sklearn import metrics\n",
    "from sklearn.feature_selection import RFE\n",
    "from sklearn.model_selection import KFold\n",
    "from sklearn.linear_model import LinearRegression\n",
    "from sklearn.model_selection import train_test_split\n",
    "from sklearn.preprocessing import PolynomialFeatures \n",
    "from sklearn.model_selection import cross_val_score, cross_val_predict\n",
    "from sklearn.metrics import mean_squared_error, mean_absolute_error, r2_score, accuracy_score"
   ]
  },
  {
   "cell_type": "code",
   "execution_count": 9,
   "id": "a6320c7a",
   "metadata": {},
   "outputs": [],
   "source": [
    "# Entries where FL is swinging\n",
    "idxs = np.where(X_footsteps_accelerations_absolute[:, -2] == 1)[0]\n",
    "X_footsteps_accelerations_absolute_FL_swinging = X_footsteps_accelerations_absolute[idxs]\n",
    "Y_footsteps_accelerations_absolute_FL_swinging = Y_footsteps_accelerations_absolute[idxs]"
   ]
  },
  {
   "cell_type": "code",
   "execution_count": 10,
   "id": "778cc8fd",
   "metadata": {},
   "outputs": [
    {
     "data": {
      "text/plain": [
       "8638"
      ]
     },
     "execution_count": 10,
     "metadata": {},
     "output_type": "execute_result"
    }
   ],
   "source": [
    "len(idxs)"
   ]
  },
  {
   "cell_type": "code",
   "execution_count": 11,
   "id": "65ae3716-24dd-4493-ac04-97e4ff24d948",
   "metadata": {},
   "outputs": [
    {
     "data": {
      "text/plain": [
       "array([ 0.1       ,  0.        ,  0.        ,  0.1       ,  0.        ,\n",
       "        0.        ,  0.11232672, -0.02118164, -0.00713002,  0.04701474,\n",
       "        0.22752666,  0.13133161, -0.3802225 ,  0.2578249 , -0.12791809,\n",
       "       -0.37706181, -0.24075544,  0.12229743, -0.38356426, -0.26876706,\n",
       "       -0.12459208, -0.38188431,  1.        ,  0.        ])"
      ]
     },
     "execution_count": 11,
     "metadata": {},
     "output_type": "execute_result"
    }
   ],
   "source": [
    "X_footsteps_accelerations_absolute_FL_swinging[0]"
   ]
  },
  {
   "cell_type": "code",
   "execution_count": 12,
   "id": "7154b41c-4225-4c0d-8632-8d96eb04803d",
   "metadata": {},
   "outputs": [
    {
     "data": {
      "text/plain": [
       "array([ 0.06153266, -0.00069727,  0.06077899, -0.00427389])"
      ]
     },
     "execution_count": 12,
     "metadata": {},
     "output_type": "execute_result"
    }
   ],
   "source": [
    "Y_footsteps_accelerations_absolute[0]"
   ]
  },
  {
   "cell_type": "markdown",
   "id": "5c6e0cdd",
   "metadata": {},
   "source": [
    "## Predict FL foot -> x"
   ]
  },
  {
   "cell_type": "markdown",
   "id": "67c1651f",
   "metadata": {},
   "source": [
    "### Linear Regression"
   ]
  },
  {
   "cell_type": "code",
   "execution_count": 13,
   "id": "48b299c1-e846-40f8-ac7b-ddc8b8b0f969",
   "metadata": {},
   "outputs": [],
   "source": [
    "def find_best_model(X, Y, runs=1000):\n",
    "    best_model = None\n",
    "    lowest_error = 100\n",
    "    best_Xtr, best_Xte, best_Ytr, best_Yte = None, None, None, None\n",
    "    \n",
    "    for _ in range(runs):\n",
    "        X_train, X_test, Y_train, Y_test = train_test_split(X, Y, train_size = 0.9, shuffle=True)\n",
    "        \n",
    "        model = LinearRegression()\n",
    "        model.fit(X_train, Y_train)\n",
    "\n",
    "        predictions = model.predict(X_test)\n",
    "        error = np.max(np.abs(predictions - Y_test))\n",
    "\n",
    "        if error < lowest_error:\n",
    "            best_model = model\n",
    "            lowest_error = error\n",
    "            best_Xtr, best_Xte, best_Ytr, best_Yte = X_train, X_test, Y_train, Y_test\n",
    "\n",
    "    # Stats\n",
    "    predictions = best_model.predict(best_Xte)\n",
    "    print('R2: ', r2_score(predictions, best_Yte))\n",
    "    print('RMSE: ', np.sqrt(mean_squared_error(best_Yte, predictions)))\n",
    "    print(\"The lowest error is: \", np.min(np.abs(predictions - best_Yte)))\n",
    "    print(\"The highest error is: \", np.max(np.abs(predictions - best_Yte)))\n",
    "    print(\"The avg. error is: \", np.mean(np.abs(predictions - best_Yte)))\n",
    "    \n",
    "    return best_Xte, best_Yte, predictions, best_model"
   ]
  },
  {
   "cell_type": "code",
   "execution_count": 14,
   "id": "ac234ccf-f1ac-47c4-81f7-56a9edd16701",
   "metadata": {},
   "outputs": [
    {
     "name": "stdout",
     "output_type": "stream",
     "text": [
      "R2:  0.9889811185373606\n",
      "RMSE:  0.019565753618318832\n",
      "The lowest error is:  1.824263208344279e-05\n",
      "The highest error is:  0.06878803892915289\n",
      "The avg. error is:  0.014632712191980648\n"
     ]
    }
   ],
   "source": [
    "# Input\n",
    "X = np.hstack((X_footsteps_accelerations_absolute_FL_swinging[:, 6:7], # actual velocity\n",
    "               X_footsteps_accelerations_absolute_FL_swinging[:, 3:4], # reference velocity\n",
    "               X_footsteps_accelerations_absolute_FL_swinging[:, 10:12], # FL position\n",
    "               X_footsteps_accelerations_absolute_FL_swinging[:, 13:15], # FR position\n",
    "               X_footsteps_accelerations_absolute_FL_swinging[:, 16:18], # RL position\n",
    "               X_footsteps_accelerations_absolute_FL_swinging[:, 19:21])) # RR position\n",
    "\n",
    "# Labels\n",
    "Y = np.array([Y_footsteps_accelerations_absolute_FL_swinging[:, 0]]).T\n",
    "\n",
    "assert Y.shape[0] == X.shape[0]\n",
    "\n",
    "# Split dataset and fit best model\n",
    "X_test, Y_test, predictions, model_fl_relative_support_x = find_best_model(X, Y, runs=5000)"
   ]
  },
  {
   "cell_type": "code",
   "execution_count": 15,
   "id": "ea20797d-ed4b-4fcd-98f0-c303594668e2",
   "metadata": {},
   "outputs": [
    {
     "data": {
      "text/plain": [
       "array([ 0.07967626,  0.1       ,  0.22957751,  0.12797989,  0.25339824,\n",
       "       -0.1306541 , -0.2472221 ,  0.12638529, -0.26771939, -0.12408109])"
      ]
     },
     "execution_count": 15,
     "metadata": {},
     "output_type": "execute_result"
    }
   ],
   "source": [
    "X[2]"
   ]
  },
  {
   "cell_type": "code",
   "execution_count": 16,
   "id": "fa722341",
   "metadata": {},
   "outputs": [
    {
     "data": {
      "text/plain": [
       "array([[ 0.60810309,  0.08946696, -0.64548272, -0.24221458, -1.58522499,\n",
       "         1.27026251, -0.13346972,  0.75813714, -0.5174049 , -0.59862431]])"
      ]
     },
     "execution_count": 16,
     "metadata": {},
     "output_type": "execute_result"
    }
   ],
   "source": [
    "model_fl_relative_support_x.coef_"
   ]
  },
  {
   "cell_type": "code",
   "execution_count": 17,
   "id": "8e6d264b",
   "metadata": {},
   "outputs": [
    {
     "data": {
      "text/plain": [
       "array([0.39566204])"
      ]
     },
     "execution_count": 17,
     "metadata": {},
     "output_type": "execute_result"
    }
   ],
   "source": [
    "model_fl_relative_support_x.intercept_"
   ]
  },
  {
   "cell_type": "code",
   "execution_count": 18,
   "id": "c2b0fea2-0cf2-43bb-bba7-addd8218d796",
   "metadata": {},
   "outputs": [],
   "source": [
    "inp = np.array([[0.9, 0.661, 0.159, 0.124, 0.331, -0.137, -0.169, 0.119, -0.337, -0.127]])"
   ]
  },
  {
   "cell_type": "code",
   "execution_count": 19,
   "id": "f61e76dd-54a1-4e6e-a55c-4c215a4479d5",
   "metadata": {},
   "outputs": [
    {
     "name": "stdout",
     "output_type": "stream",
     "text": [
      "[[0.44944456]]\n"
     ]
    }
   ],
   "source": [
    "out = model_fl_relative_support_x.coef_ @ inp.T\n",
    "out += model_fl_relative_support_x.intercept_\n",
    "print(out)"
   ]
  },
  {
   "cell_type": "code",
   "execution_count": 18,
   "id": "1c56b5fb",
   "metadata": {},
   "outputs": [
    {
     "data": {
      "text/plain": [
       "Text(0, 0.5, 'Predictions')"
      ]
     },
     "execution_count": 18,
     "metadata": {},
     "output_type": "execute_result"
    },
    {
     "data": {
      "image/png": "[encoded data removed]",
      "text/plain": [
       "<Figure size 640x480 with 1 Axes>"
      ]
     },
     "metadata": {},
     "output_type": "display_data"
    }
   ],
   "source": [
    "# The line / model\n",
    "plt.scatter(Y_test, predictions)\n",
    "plt.xlabel(\"Ground truth\")\n",
    "plt.ylabel(\"Predictions\")"
   ]
  },
  {
   "cell_type": "code",
   "execution_count": 19,
   "id": "f0849a1b",
   "metadata": {},
   "outputs": [],
   "source": [
    "#for idx, prediction in enumerate(predictions):\n",
    "#    print(f'{X_test[idx, 0]} -> {X_test[idx, 3]}. CoM: {X_test[idx, 6]}. Groundtruth: {Y_test[idx]}. Predicted: {prediction}.')"
   ]
  },
  {
   "cell_type": "markdown",
   "id": "acabe2ba",
   "metadata": {},
   "source": [
    "### Predict FL foot -> y"
   ]
  },
  {
   "cell_type": "code",
   "execution_count": 20,
   "id": "82c54fd9-f9b8-417f-a77e-657b62699497",
   "metadata": {},
   "outputs": [
    {
     "name": "stdout",
     "output_type": "stream",
     "text": [
      "R2:  0.9258114026291983\n",
      "RMSE:  0.007792343846921626\n",
      "The lowest error is:  1.7650232596634792e-05\n",
      "The highest error is:  0.027521806857850287\n",
      "The avg. error is:  0.005667051478242378\n"
     ]
    }
   ],
   "source": [
    "# Input\n",
    "X = np.hstack((X_footsteps_accelerations_absolute_FL_swinging[:, 6:7], # actual velocity\n",
    "               X_footsteps_accelerations_absolute_FL_swinging[:, 3:4], # reference velocity\n",
    "               X_footsteps_accelerations_absolute_FL_swinging[:, 10:12], # FL position\n",
    "               X_footsteps_accelerations_absolute_FL_swinging[:, 13:15], # FR position\n",
    "               X_footsteps_accelerations_absolute_FL_swinging[:, 16:18], # RL position\n",
    "               X_footsteps_accelerations_absolute_FL_swinging[:, 19:21])) # RR position\n",
    "\n",
    "# Labels\n",
    "Y = np.array([Y_footsteps_accelerations_absolute_FL_swinging[:, 1]]).T\n",
    "\n",
    "assert Y.shape[0] == X.shape[0]\n",
    "\n",
    "# Split dataset and fit best model\n",
    "X_test, Y_test, predictions, model_fl_relative_support_y = find_best_model(X, Y, runs=5000)"
   ]
  },
  {
   "cell_type": "code",
   "execution_count": 21,
   "id": "33b159f7",
   "metadata": {},
   "outputs": [
    {
     "data": {
      "text/plain": [
       "array([[ 0.1062739 , -0.00554221,  0.19705682, -1.73468649,  0.05026411,\n",
       "         0.6478325 , -0.55860172,  0.30023867, -0.18480923, -0.35795317]])"
      ]
     },
     "execution_count": 21,
     "metadata": {},
     "output_type": "execute_result"
    }
   ],
   "source": [
    "model_fl_relative_support_y.coef_"
   ]
  },
  {
   "cell_type": "code",
   "execution_count": 22,
   "id": "15672f27",
   "metadata": {},
   "outputs": [
    {
     "data": {
      "text/plain": [
       "array([-0.02881693])"
      ]
     },
     "execution_count": 22,
     "metadata": {},
     "output_type": "execute_result"
    }
   ],
   "source": [
    "model_fl_relative_support_y.intercept_"
   ]
  },
  {
   "cell_type": "code",
   "execution_count": 23,
   "id": "a507a3ea",
   "metadata": {},
   "outputs": [
    {
     "data": {
      "text/plain": [
       "Text(0, 0.5, 'Predictions')"
      ]
     },
     "execution_count": 23,
     "metadata": {},
     "output_type": "execute_result"
    },
    {
     "data": {
      "image/png": "[encoded data removed]",
      "text/plain": [
       "<Figure size 640x480 with 1 Axes>"
      ]
     },
     "metadata": {},
     "output_type": "display_data"
    }
   ],
   "source": [
    "## The line / model\n",
    "plt.scatter(Y_test, predictions)\n",
    "plt.xlabel(\"Ground truth\")\n",
    "plt.ylabel(\"Predictions\")"
   ]
  },
  {
   "cell_type": "code",
   "execution_count": 23,
   "id": "0625affe",
   "metadata": {},
   "outputs": [],
   "source": [
    "#for idx, prediction in enumerate(predictions):\n",
    "#    print(f'Groundtruth: {Y_test[idx]}. Predicted: {prediction}')"
   ]
  }
 ],
 "metadata": {
  "kernelspec": {
   "display_name": "Python 3 (ipykernel)",
   "language": "python",
   "name": "python3"
  },
  "language_info": {
   "codemirror_mode": {
    "name": "ipython",
    "version": 3
   },
   "file_extension": ".py",
   "mimetype": "text/x-python",
   "name": "python",
   "nbconvert_exporter": "python",
   "pygments_lexer": "ipython3",
   "version": "3.10.6"
  }
 },
 "nbformat": 4,
 "nbformat_minor": 5
}
