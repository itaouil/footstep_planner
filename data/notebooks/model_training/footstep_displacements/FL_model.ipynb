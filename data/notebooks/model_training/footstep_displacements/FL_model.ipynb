{
 "cells": [
  {
   "cell_type": "code",
   "execution_count": 1,
   "id": "584b273f",
   "metadata": {},
   "outputs": [],
   "source": [
    "#!/usr/bin/env python3.6\n",
    "# -*- coding: utf-8 -*-"
   ]
  },
  {
   "cell_type": "code",
   "execution_count": 2,
   "id": "b186306a",
   "metadata": {},
   "outputs": [],
   "source": [
    "# Imports\n",
    "import sys\n",
    "import joblib\n",
    "import numpy as np\n",
    "from matplotlib import animation\n",
    "from IPython.display import HTML\n",
    "from matplotlib import pyplot as plt\n",
    "import mpl_toolkits.mplot3d.axes3d as p3"
   ]
  },
  {
   "cell_type": "code",
   "execution_count": 3,
   "id": "3eccf154",
   "metadata": {},
   "outputs": [],
   "source": [
    "#np.random.seed(20)\n",
    "np.set_printoptions(threshold=sys.maxsize)"
   ]
  },
  {
   "cell_type": "code",
   "execution_count": 4,
   "id": "323ba11e",
   "metadata": {},
   "outputs": [],
   "source": [
    "%matplotlib inline"
   ]
  },
  {
   "cell_type": "code",
   "execution_count": 5,
   "id": "3b293490",
   "metadata": {},
   "outputs": [
    {
     "name": "stdout",
     "output_type": "stream",
     "text": [
      "(17248, 31)\n",
      "(17248, 4)\n"
     ]
    }
   ],
   "source": [
    "%store -r X_footsteps_accelerations_absolute\n",
    "%store -r Y_footsteps_accelerations_absolute\n",
    "print(X_footsteps_accelerations_absolute.shape)\n",
    "print(Y_footsteps_accelerations_absolute.shape)"
   ]
  },
  {
   "cell_type": "code",
   "execution_count": 6,
   "id": "e876a774",
   "metadata": {},
   "outputs": [
    {
     "data": {
      "text/plain": [
       "-0.12590238451957703"
      ]
     },
     "execution_count": 6,
     "metadata": {},
     "output_type": "execute_result"
    }
   ],
   "source": [
    "min(Y_footsteps_accelerations_absolute[:, 0])"
   ]
  },
  {
   "cell_type": "code",
   "execution_count": 7,
   "id": "4e9452c9",
   "metadata": {},
   "outputs": [
    {
     "data": {
      "text/plain": [
       "0.3487997502088547"
      ]
     },
     "execution_count": 7,
     "metadata": {},
     "output_type": "execute_result"
    }
   ],
   "source": [
    "max(Y_footsteps_accelerations_absolute[:, 0])"
   ]
  },
  {
   "cell_type": "markdown",
   "id": "4c993011",
   "metadata": {},
   "source": [
    "# Multivariate Linear Regression (Foot prediction)"
   ]
  },
  {
   "cell_type": "code",
   "execution_count": 8,
   "id": "011f469c",
   "metadata": {},
   "outputs": [],
   "source": [
    "import sklearn\n",
    "from sklearn import metrics\n",
    "from sklearn.feature_selection import RFE\n",
    "from sklearn.model_selection import KFold\n",
    "from sklearn.linear_model import LinearRegression\n",
    "from sklearn.model_selection import train_test_split\n",
    "from sklearn.preprocessing import PolynomialFeatures \n",
    "from sklearn.model_selection import cross_val_score, cross_val_predict\n",
    "from sklearn.metrics import mean_squared_error, mean_absolute_error, r2_score, accuracy_score"
   ]
  },
  {
   "cell_type": "code",
   "execution_count": 9,
   "id": "a6320c7a",
   "metadata": {},
   "outputs": [],
   "source": [
    "# Entries where FL is swinging\n",
    "idxs = np.where(X_footsteps_accelerations_absolute[:, -2] == 1)[0]\n",
    "X_footsteps_accelerations_absolute_FL_swinging = X_footsteps_accelerations_absolute[idxs]\n",
    "Y_footsteps_accelerations_absolute_FL_swinging = Y_footsteps_accelerations_absolute[idxs]"
   ]
  },
  {
   "cell_type": "code",
   "execution_count": 10,
   "id": "778cc8fd",
   "metadata": {},
   "outputs": [
    {
     "data": {
      "text/plain": [
       "8638"
      ]
     },
     "execution_count": 10,
     "metadata": {},
     "output_type": "execute_result"
    }
   ],
   "source": [
    "len(idxs)"
   ]
  },
  {
   "cell_type": "code",
   "execution_count": 11,
   "id": "65ae3716-24dd-4493-ac04-97e4ff24d948",
   "metadata": {},
   "outputs": [
    {
     "data": {
      "text/plain": [
       "array([], dtype=float64)"
      ]
     },
     "execution_count": 11,
     "metadata": {},
     "output_type": "execute_result"
    }
   ],
   "source": [
    "X_footsteps_accelerations_absolute_FL_swinging[0, 34:37]"
   ]
  },
  {
   "cell_type": "code",
   "execution_count": 12,
   "id": "7154b41c-4225-4c0d-8632-8d96eb04803d",
   "metadata": {},
   "outputs": [
    {
     "data": {
      "text/plain": [
       "array([ 0.03515556, -0.00011611,  0.03440189, -0.00369272])"
      ]
     },
     "execution_count": 12,
     "metadata": {},
     "output_type": "execute_result"
    }
   ],
   "source": [
    "Y_footsteps_accelerations_absolute[0]"
   ]
  },
  {
   "cell_type": "markdown",
   "id": "5c6e0cdd",
   "metadata": {},
   "source": [
    "## Predict FL foot -> x"
   ]
  },
  {
   "cell_type": "markdown",
   "id": "67c1651f",
   "metadata": {},
   "source": [
    "### Linear Regression"
   ]
  },
  {
   "cell_type": "code",
   "execution_count": 13,
   "id": "48b299c1-e846-40f8-ac7b-ddc8b8b0f969",
   "metadata": {},
   "outputs": [],
   "source": [
    "def find_best_model(X, Y, runs=1000):\n",
    "    best_model = None\n",
    "    lowest_error = 100\n",
    "    best_Xtr, best_Xte, best_Ytr, best_Yte = None, None, None, None\n",
    "    \n",
    "    for _ in range(runs):\n",
    "        X_train, X_test, Y_train, Y_test = train_test_split(X, Y, train_size = 0.9, shuffle=True)\n",
    "        \n",
    "        model = LinearRegression()\n",
    "        model.fit(X_train, Y_train)\n",
    "\n",
    "        predictions = model.predict(X_test)\n",
    "        error = np.max(np.abs(predictions - Y_test))\n",
    "\n",
    "        if error < lowest_error:\n",
    "            best_model = model\n",
    "            lowest_error = error\n",
    "            best_Xtr, best_Xte, best_Ytr, best_Yte = X_train, X_test, Y_train, Y_test\n",
    "\n",
    "    # Stats\n",
    "    predictions = best_model.predict(best_Xte)\n",
    "    print('R2: ', r2_score(predictions, best_Yte))\n",
    "    print('RMSE: ', np.sqrt(mean_squared_error(best_Yte, predictions)))\n",
    "    print(\"The lowest error is: \", np.min(np.abs(predictions - best_Yte)))\n",
    "    print(\"The highest error is: \", np.max(np.abs(predictions - best_Yte)))\n",
    "    print(\"The avg. error is: \", np.mean(np.abs(predictions - best_Yte)))\n",
    "    \n",
    "    return best_Xte, best_Yte, predictions, best_model"
   ]
  },
  {
   "cell_type": "code",
   "execution_count": 14,
   "id": "ac234ccf-f1ac-47c4-81f7-56a9edd16701",
   "metadata": {},
   "outputs": [
    {
     "name": "stdout",
     "output_type": "stream",
     "text": [
      "R2:  0.9970649186704662\n",
      "RMSE:  0.005362084541968151\n",
      "The lowest error is:  5.171126301883877e-07\n",
      "The highest error is:  0.01884626490333907\n",
      "The avg. error is:  0.003920595976510927\n"
     ]
    }
   ],
   "source": [
    "# Input\n",
    "X = np.hstack((X_footsteps_accelerations_absolute_FL_swinging[:, 0:1], # previous motion command\n",
    "               X_footsteps_accelerations_absolute_FL_swinging[:, 3:4], # current motion command\n",
    "               X_footsteps_accelerations_absolute_FL_swinging[:, -5:-4], # previous CoM velocity\n",
    "               X_footsteps_accelerations_absolute_FL_swinging[:, 10:12], # FL (x,y) position\n",
    "               X_footsteps_accelerations_absolute_FL_swinging[:, 13:15], # FR (x,y) position\n",
    "               X_footsteps_accelerations_absolute_FL_swinging[:, 16:18], # RL (x,y) position\n",
    "               X_footsteps_accelerations_absolute_FL_swinging[:, 19:21])) # RR (x,y) position\n",
    "\n",
    "# Labels\n",
    "Y = np.array([Y_footsteps_accelerations_absolute_FL_swinging[:, 0]]).T\n",
    "\n",
    "assert Y.shape[0] == X.shape[0]\n",
    "\n",
    "# Split dataset and fit best model\n",
    "X_test, Y_test, predictions, model_fl_relative_support_x = find_best_model(X, Y, runs=5000)"
   ]
  },
  {
   "cell_type": "code",
   "execution_count": 15,
   "id": "fa722341",
   "metadata": {},
   "outputs": [
    {
     "data": {
      "text/plain": [
       "array([[ 0.00545434,  0.01739161,  0.18522134, -0.89071786,  0.09016279,\n",
       "        -0.18906143, -0.02083055,  0.0213749 ,  0.13312945, -0.01031446,\n",
       "        -0.21463468]])"
      ]
     },
     "execution_count": 15,
     "metadata": {},
     "output_type": "execute_result"
    }
   ],
   "source": [
    "model_fl_relative_support_x.coef_"
   ]
  },
  {
   "cell_type": "code",
   "execution_count": 16,
   "id": "8e6d264b",
   "metadata": {},
   "outputs": [
    {
     "data": {
      "text/plain": [
       "array([0.20550511])"
      ]
     },
     "execution_count": 16,
     "metadata": {},
     "output_type": "execute_result"
    }
   ],
   "source": [
    "model_fl_relative_support_x.intercept_"
   ]
  },
  {
   "cell_type": "code",
   "execution_count": 43,
   "id": "ed5d813e-c27a-4ca5-bc45-1d7cce0e32ca",
   "metadata": {},
   "outputs": [],
   "source": [
    "inp = [0.9,0,0,0.9,0,0,0.96, -0.04, -0.03, -0.02, 0.37, 0.13, 0.09, -0.12, -0.4,0.12, -0.11,-0.12]"
   ]
  },
  {
   "cell_type": "code",
   "execution_count": 17,
   "id": "1c56b5fb",
   "metadata": {},
   "outputs": [
    {
     "data": {
      "text/plain": [
       "Text(0, 0.5, 'Predictions')"
      ]
     },
     "execution_count": 17,
     "metadata": {},
     "output_type": "execute_result"
    },
    {
     "data": {
      "image/png": "[encoded data removed]",
      "text/plain": [
       "<Figure size 640x480 with 1 Axes>"
      ]
     },
     "metadata": {},
     "output_type": "display_data"
    }
   ],
   "source": [
    "# The line / model\n",
    "plt.scatter(Y_test, predictions)\n",
    "plt.xlabel(\"Ground truth\")\n",
    "plt.ylabel(\"Predictions\")"
   ]
  },
  {
   "cell_type": "code",
   "execution_count": 19,
   "id": "f0849a1b",
   "metadata": {},
   "outputs": [],
   "source": [
    "#for idx, prediction in enumerate(predictions):\n",
    "#    print(f'{X_test[idx, 0]} -> {X_test[idx, 3]}. CoM: {X_test[idx, 6]}. Groundtruth: {Y_test[idx]}. Predicted: {prediction}.')"
   ]
  },
  {
   "cell_type": "markdown",
   "id": "acabe2ba",
   "metadata": {},
   "source": [
    "### Predict FL foot -> y"
   ]
  },
  {
   "cell_type": "code",
   "execution_count": 20,
   "id": "82c54fd9-f9b8-417f-a77e-657b62699497",
   "metadata": {},
   "outputs": [
    {
     "name": "stdout",
     "output_type": "stream",
     "text": [
      "R2:  0.9610932168901425\n",
      "RMSE:  0.005037349340332984\n",
      "The lowest error is:  5.656958228419939e-06\n",
      "The highest error is:  0.022385778740815064\n",
      "The avg. error is:  0.0034876886476517075\n"
     ]
    }
   ],
   "source": [
    "# Input\n",
    "X = np.hstack((X_footsteps_accelerations_absolute_FL_swinging[:, 0:1], # previous motion command\n",
    "               X_footsteps_accelerations_absolute_FL_swinging[:, 3:4], # current motion command\n",
    "               X_footsteps_accelerations_absolute_FL_swinging[:, -5:-4], # previous CoM velocity\n",
    "               X_footsteps_accelerations_absolute_FL_swinging[:, 10:12], # FL (x,y) position\n",
    "               X_footsteps_accelerations_absolute_FL_swinging[:, 13:15], # FR (x,y) position\n",
    "               X_footsteps_accelerations_absolute_FL_swinging[:, 16:18], # RL (x,y) position\n",
    "               X_footsteps_accelerations_absolute_FL_swinging[:, 19:21])) # RR (x,y) position\n",
    "\n",
    "# Labels\n",
    "Y = np.array([Y_footsteps_accelerations_absolute_FL_swinging[:, 1]]).T\n",
    "\n",
    "assert Y.shape[0] == X.shape[0]\n",
    "\n",
    "# Split dataset and fit best model\n",
    "X_test, Y_test, predictions, model_fl_relative_support_y = find_best_model(X, Y, runs=5000)"
   ]
  },
  {
   "cell_type": "code",
   "execution_count": 21,
   "id": "33b159f7",
   "metadata": {},
   "outputs": [
    {
     "data": {
      "text/plain": [
       "array([[ 0.0013023 , -0.00506666,  0.01902463,  0.13790978, -1.26919181,\n",
       "         0.34816261,  0.39403043, -0.40229086,  0.07602582, -0.13693963,\n",
       "        -0.01841431]])"
      ]
     },
     "execution_count": 21,
     "metadata": {},
     "output_type": "execute_result"
    }
   ],
   "source": [
    "model_fl_relative_support_y.coef_"
   ]
  },
  {
   "cell_type": "code",
   "execution_count": 22,
   "id": "15672f27",
   "metadata": {},
   "outputs": [
    {
     "data": {
      "text/plain": [
       "array([-0.05411656])"
      ]
     },
     "execution_count": 22,
     "metadata": {},
     "output_type": "execute_result"
    }
   ],
   "source": [
    "model_fl_relative_support_y.intercept_"
   ]
  },
  {
   "cell_type": "code",
   "execution_count": 23,
   "id": "a507a3ea",
   "metadata": {},
   "outputs": [
    {
     "data": {
      "text/plain": [
       "Text(0, 0.5, 'Predictions')"
      ]
     },
     "execution_count": 23,
     "metadata": {},
     "output_type": "execute_result"
    },
    {
     "data": {
      "image/png": "[encoded data removed]",
      "text/plain": [
       "<Figure size 640x480 with 1 Axes>"
      ]
     },
     "metadata": {},
     "output_type": "display_data"
    }
   ],
   "source": [
    "## The line / model\n",
    "plt.scatter(Y_test, predictions)\n",
    "plt.xlabel(\"Ground truth\")\n",
    "plt.ylabel(\"Predictions\")"
   ]
  },
  {
   "cell_type": "code",
   "execution_count": 43,
   "id": "0625affe",
   "metadata": {},
   "outputs": [],
   "source": [
    "#for idx, prediction in enumerate(predictions):\n",
    "#    print(f'Groundtruth: {Y_test[idx]}. Predicted: {prediction}')"
   ]
  }
 ],
 "metadata": {
  "kernelspec": {
   "display_name": "Python 3 (ipykernel)",
   "language": "python",
   "name": "python3"
  },
  "language_info": {
   "codemirror_mode": {
    "name": "ipython",
    "version": 3
   },
   "file_extension": ".py",
   "mimetype": "text/x-python",
   "name": "python",
   "nbconvert_exporter": "python",
   "pygments_lexer": "ipython3",
   "version": "3.10.6"
  }
 },
 "nbformat": 4,
 "nbformat_minor": 5
}
